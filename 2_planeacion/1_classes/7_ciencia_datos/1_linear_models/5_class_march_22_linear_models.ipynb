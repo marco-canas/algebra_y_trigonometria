{
 "cells": [
  {
   "cell_type": "markdown",
   "id": "2a8c3547",
   "metadata": {
    "slideshow": {
     "slide_type": "slide"
    }
   },
   "source": [
    "<table align=\"left\">\n",
    "  <td>\n",
    "    <a href=\"https://colab.research.google.com/github/marco-canas/1_algebra/blob/main/classes/ciencia_datos/5_class_march_22_linear_models/5_class_march_22_linear_models.ipynb\" target=\"_parent\"><img src=\"https://colab.research.google.com/assets/colab-badge.svg\" alt=\"Open In Colab\"/></a>\n",
    "  </td>\n",
    "</table>"
   ]
  },
  {
   "cell_type": "markdown",
   "id": "b6291108",
   "metadata": {
    "slideshow": {
     "slide_type": "slide"
    }
   },
   "source": [
    "## [Video de apoyo a la lectura interactiva y experimental de este cuaderno](https://www.youtube.com/watch?v=cmY941DBdek)\n",
    "\n"
   ]
  },
  {
   "cell_type": "markdown",
   "id": "6f572950",
   "metadata": {
    "slideshow": {
     "slide_type": "slide"
    }
   },
   "source": [
    "Los ingenieros agropecuarios de la Seccional Bajo Cauca son de alta calidad humana y académica\n",
    "\n",
    "<img src = 'https://github.com/marco-canas/1_algebra/blob/main/classes/ciencia_datos/5_class_march_22_linear_models/ing__2023_1.jpeg?raw=true'>"
   ]
  },
  {
   "cell_type": "markdown",
   "id": "650cac1b",
   "metadata": {
    "slideshow": {
     "slide_type": "slide"
    }
   },
   "source": [
    "### Modelo pedagógico para la clase y todo el curso\n",
    "\n",
    "[Aula invertida](https://www3.gobiernodecanarias.org/medusa/ecoescuela/pedagotic/aprendizaje-invertido-flipped-classroom/)"
   ]
  },
  {
   "cell_type": "markdown",
   "id": "fb7023ba",
   "metadata": {
    "slideshow": {
     "slide_type": "slide"
    }
   },
   "source": [
    "<img src = 'https://i0.wp.com/docentesaldia.com/wp-content/uploads/2020/07/El-aula-invertida.jpg'>"
   ]
  },
  {
   "cell_type": "markdown",
   "id": "4e19d4b5",
   "metadata": {
    "slideshow": {
     "slide_type": "slide"
    }
   },
   "source": [
    "# Secuencia de actividades propuetas según este modelo\n",
    "\n",
    "1. Actividades para antes de la clase de la recomienda: Consulte, lea, experimente y sistetiza la teoría sobre ecuaciones y funciones lineales.\n",
    "\n",
    "2. Actividades de modelación o aplicación de los modelos lineales durante la clase. \n",
    "\n",
    "3. Actividades posteriores a la clase: \n",
    "\n",
    "Realizar las modelaciones del texto guía de larson el autor plantea en la página del PDF 53 a 59. \n",
    "\n",
    "\n",
    "\n"
   ]
  },
  {
   "cell_type": "markdown",
   "id": "b6249758",
   "metadata": {
    "slideshow": {
     "slide_type": "slide"
    }
   },
   "source": [
    "# Actividades de lectura, memorización y sintesis por fuera de clase y antes de la clase\n",
    "\n",
    "Lea del Stewart la sección 1.5 sobre ecuaciones lineales. Página 58 del Stewart.  "
   ]
  },
  {
   "cell_type": "markdown",
   "id": "77455592",
   "metadata": {
    "slideshow": {
     "slide_type": "slide"
    }
   },
   "source": [
    "* [WolframAlpha](https://www.wolframalpha.com/input?i=7x-4%3D3x+%2B+8&lang=es) (Representación geométrica de los lados de una ecuación). \n",
    "\n",
    "\n",
    "$$ 7x - 4 = 3x + 8 $$\n",
    "\n",
    "* ¿Cómo resolver ecuaciones lineales con [Excel](https://www.youtube.com/watch?v=b-a3PlktXqM)\n",
    "\n",
    "$$ 7x - 4 = 3x + 8 $$\n"
   ]
  },
  {
   "cell_type": "markdown",
   "id": "b708e34b",
   "metadata": {
    "slideshow": {
     "slide_type": "slide"
    }
   },
   "source": [
    "# Ajuste de modelos a colecciones de datos\n",
    "\n",
    "## Ajuste de modelos lineales a colecciones de datos\n",
    "\n",
    "Página 50 del [Larson](https://udeaeduco-my.sharepoint.com/:b:/g/personal/marco_canas_udea_edu_co/ES71ChFeO9ZDhW3TwC5Ijk8BjxUK3Pdqz_fjHxTTFAfIAg?e=y1jTtp)"
   ]
  },
  {
   "cell_type": "markdown",
   "id": "bb242969",
   "metadata": {
    "slideshow": {
     "slide_type": "slide"
    }
   },
   "source": [
    "### Objetivo de aprendizaje \n",
    "\n",
    "* Aprender a construir modelos lineales y a hacer predicciones con ellos. \n",
    "\n",
    "Evalue el que se alcance o no este objetivo de aprendizaje [aquí](https://forms.office.com/Pages/ResponsePage.aspx?id=IefhmYRxjkmK_7KtTlPBwkanXIs1i1FEujpsZgO6dXpUREJPV1kxUk1JV1ozTFJIQVNIQjY5WEY3US4u)"
   ]
  },
  {
   "cell_type": "markdown",
   "id": "c0cae5a6",
   "metadata": {
    "slideshow": {
     "slide_type": "slide"
    }
   },
   "source": [
    "# Introducción motivadora"
   ]
  },
  {
   "cell_type": "markdown",
   "id": "66ec28ec",
   "metadata": {
    "slideshow": {
     "slide_type": "slide"
    }
   },
   "source": [
    "Una de las premisas básicas de la ciencia es que gran parte de la realidad física puede describirse matemáticamente y que muchos de los fenómenos físicos son predecibles. "
   ]
  },
  {
   "cell_type": "markdown",
   "id": "ae6bdf49",
   "metadata": {
    "slideshow": {
     "slide_type": "slide"
    }
   },
   "source": [
    "Esta perspectiva científica constituyó parte de la revolución científica que tuvo lugar en Europa \n",
    "a finales del siglo XVI. "
   ]
  },
  {
   "cell_type": "markdown",
   "id": "06ccb592",
   "metadata": {
    "slideshow": {
     "slide_type": "slide"
    }
   },
   "source": [
    "Dos de las primeras publicaciones ligadas a esta revolución fueron On the Revolutions of the Heavenly Spheres, del astrónomo polaco Nicolaus Copernicus, y On the Structure of the Human Body, del anatomista belga Andreas Vesalius. "
   ]
  },
  {
   "cell_type": "markdown",
   "id": "acc2b3a7",
   "metadata": {
    "slideshow": {
     "slide_type": "slide"
    }
   },
   "source": [
    "Publicados ambos en 1543, rompían con la tradición al sugerir el uso de un método científico en lugar de la confianza ciega en la autoridad."
   ]
  },
  {
   "cell_type": "markdown",
   "id": "a769b9b0",
   "metadata": {
    "slideshow": {
     "slide_type": "slide"
    }
   },
   "source": [
    "Una técnica fundamental de la ciencia moderna consiste en recopilar datos y luego describirlos por medio de un modelo matemático. "
   ]
  },
  {
   "cell_type": "code",
   "execution_count": null,
   "id": "28347d97",
   "metadata": {
    "slideshow": {
     "slide_type": "slide"
    }
   },
   "outputs": [],
   "source": []
  },
  {
   "cell_type": "markdown",
   "id": "f1682b15",
   "metadata": {
    "slideshow": {
     "slide_type": "slide"
    }
   },
   "source": [
    "## Situación problemática: Ajuste de un modelo lineal a los datos\n",
    "\n",
    "Página 54 del Larson. "
   ]
  },
  {
   "cell_type": "markdown",
   "id": "40a0484d",
   "metadata": {
    "slideshow": {
     "slide_type": "slide"
    }
   },
   "source": [
    "### Dureza de Brinell   \n",
    "\n",
    "Los datos de la tabla muestran la dureza de Brinell $H$ del acero al carbón del 0.35 cuando se endurece y templa a temperatura $t$ (en grados Fahrenheit). (Fuente: Standard Handbook for Mechanical Engineers.)\n"
   ]
  },
  {
   "cell_type": "markdown",
   "id": "cbea27bd",
   "metadata": {
    "slideshow": {
     "slide_type": "slide"
    }
   },
   "source": [
    "<img src = 'https://github.com/marco-canas/1_algebra/blob/main/classes/ciencia_datos/5_class_march_22_linear_models/ejer_10_larson_modelo_lineal.png?raw=true'>"
   ]
  },
  {
   "cell_type": "markdown",
   "id": "07b8a8e7",
   "metadata": {
    "slideshow": {
     "slide_type": "slide"
    }
   },
   "source": [
    "# Sistematizar los datos en una tabla o DataFrame de Pandas"
   ]
  },
  {
   "cell_type": "code",
   "execution_count": 1,
   "id": "02fc90af",
   "metadata": {
    "slideshow": {
     "slide_type": "slide"
    }
   },
   "outputs": [],
   "source": [
    "import numpy as np \n",
    "\n",
    "import pandas as pd \n",
    "\n"
   ]
  },
  {
   "cell_type": "code",
   "execution_count": 2,
   "id": "e794a731",
   "metadata": {
    "slideshow": {
     "slide_type": "slide"
    }
   },
   "outputs": [],
   "source": [
    "Temperatura = np.array([200, 400, 600, 800, 1_000, 1200])"
   ]
  },
  {
   "cell_type": "code",
   "execution_count": 3,
   "id": "5cadb39e",
   "metadata": {
    "slideshow": {
     "slide_type": "slide"
    }
   },
   "outputs": [],
   "source": [
    "H = np.array([534, 495, 415, 352, 269, 217])"
   ]
  },
  {
   "cell_type": "code",
   "execution_count": 4,
   "id": "cb209a0d",
   "metadata": {
    "slideshow": {
     "slide_type": "slide"
    }
   },
   "outputs": [],
   "source": [
    "diccionario = {'Temperatura(Fahrenheit)': Temperatura, 'Dureza':H}"
   ]
  },
  {
   "cell_type": "code",
   "execution_count": 5,
   "id": "35934a11",
   "metadata": {
    "slideshow": {
     "slide_type": "slide"
    }
   },
   "outputs": [],
   "source": [
    "tabla = pd.DataFrame(diccionario)"
   ]
  },
  {
   "cell_type": "code",
   "execution_count": 6,
   "id": "d6fb3c50",
   "metadata": {
    "scrolled": true,
    "slideshow": {
     "slide_type": "slide"
    }
   },
   "outputs": [
    {
     "data": {
      "text/html": [
       "<div>\n",
       "<style scoped>\n",
       "    .dataframe tbody tr th:only-of-type {\n",
       "        vertical-align: middle;\n",
       "    }\n",
       "\n",
       "    .dataframe tbody tr th {\n",
       "        vertical-align: top;\n",
       "    }\n",
       "\n",
       "    .dataframe thead th {\n",
       "        text-align: right;\n",
       "    }\n",
       "</style>\n",
       "<table border=\"1\" class=\"dataframe\">\n",
       "  <thead>\n",
       "    <tr style=\"text-align: right;\">\n",
       "      <th></th>\n",
       "      <th>Temperatura(Fahrenheit)</th>\n",
       "      <th>Dureza</th>\n",
       "    </tr>\n",
       "  </thead>\n",
       "  <tbody>\n",
       "    <tr>\n",
       "      <th>0</th>\n",
       "      <td>200</td>\n",
       "      <td>534</td>\n",
       "    </tr>\n",
       "    <tr>\n",
       "      <th>1</th>\n",
       "      <td>400</td>\n",
       "      <td>495</td>\n",
       "    </tr>\n",
       "    <tr>\n",
       "      <th>2</th>\n",
       "      <td>600</td>\n",
       "      <td>415</td>\n",
       "    </tr>\n",
       "    <tr>\n",
       "      <th>3</th>\n",
       "      <td>800</td>\n",
       "      <td>352</td>\n",
       "    </tr>\n",
       "    <tr>\n",
       "      <th>4</th>\n",
       "      <td>1000</td>\n",
       "      <td>269</td>\n",
       "    </tr>\n",
       "    <tr>\n",
       "      <th>5</th>\n",
       "      <td>1200</td>\n",
       "      <td>217</td>\n",
       "    </tr>\n",
       "  </tbody>\n",
       "</table>\n",
       "</div>"
      ],
      "text/plain": [
       "   Temperatura(Fahrenheit)  Dureza\n",
       "0                      200     534\n",
       "1                      400     495\n",
       "2                      600     415\n",
       "3                      800     352\n",
       "4                     1000     269\n",
       "5                     1200     217"
      ]
     },
     "execution_count": 6,
     "metadata": {},
     "output_type": "execute_result"
    }
   ],
   "source": [
    "tabla "
   ]
  },
  {
   "cell_type": "markdown",
   "id": "ee70ec35",
   "metadata": {
    "slideshow": {
     "slide_type": "slide"
    }
   },
   "source": [
    "## Inferencias fruto de la lectura de la tabla"
   ]
  },
  {
   "cell_type": "markdown",
   "id": "d298050b",
   "metadata": {
    "slideshow": {
     "slide_type": "slide"
    }
   },
   "source": [
    "1. La relación entre dureza y temperatura es decreciente, es decir, a mayor temperatura, menor dureza. \n",
    "2. La tablas se leen de arriba hacia abajo comparando las columnas (las columnas son las verticales)"
   ]
  },
  {
   "cell_type": "markdown",
   "id": "2c107633",
   "metadata": {
    "slideshow": {
     "slide_type": "slide"
    }
   },
   "source": [
    "# Representación gráfica en diagrama de dispersión de los datos"
   ]
  },
  {
   "cell_type": "code",
   "execution_count": 11,
   "id": "43ead539",
   "metadata": {
    "slideshow": {
     "slide_type": "slide"
    }
   },
   "outputs": [
    {
     "data": {
      "image/png": "[encoded data removed]",
      "text/plain": [
       "<Figure size 640x480 with 1 Axes>"
      ]
     },
     "metadata": {},
     "output_type": "display_data"
    }
   ],
   "source": [
    "import matplotlib.pyplot as plt \n",
    "\n",
    "plt.scatter(Temperatura, H, color = 'red')\n",
    "\n",
    "plt.title(r'Relación entre dureza $H$ y temperatura $t$')\n",
    "\n",
    "plt.ylabel('Dureza (H)')\n",
    "\n",
    "plt.xlabel('Temperatura (Fahrenheit)')\n",
    "\n",
    "plt.grid()\n",
    "\n",
    "plt.savefig('relacion_dureza_temperatura.jpeg')\n",
    "\n",
    "\n"
   ]
  },
  {
   "cell_type": "markdown",
   "id": "2ac407bd",
   "metadata": {
    "slideshow": {
     "slide_type": "slide"
    }
   },
   "source": [
    "## Inferencias o interpretaciones del Scatter\n",
    "\n",
    "1. Se lee de izquierda a derecha\n",
    "2. Cómo los puntos van perdiendo altura a medida que te mueves de izquierda a derecha, entonces la relación entre Dureza y temperatura es decreciente.  "
   ]
  },
  {
   "cell_type": "markdown",
   "id": "e8e6ab90",
   "metadata": {
    "slideshow": {
     "slide_type": "slide"
    }
   },
   "source": [
    "# Encontrar la mejor función lineal que se ajuste a los datos\n",
    "\n",
    "$$ H = H(t)  = mt + b$$\n",
    "\n",
    "Cuando suponemos que el mejor modelo que ajusta los datos es lineal, estamos haciendo una tarea de regresión lineal. "
   ]
  },
  {
   "cell_type": "markdown",
   "id": "237d5d8b",
   "metadata": {
    "slideshow": {
     "slide_type": "slide"
    }
   },
   "source": [
    "Consulte para regresión lineal a [Aureliel Geron](https://udeaeduco-my.sharepoint.com/:b:/g/personal/marco_canas_udea_edu_co/Ecet27yjQzZIlT1Y_Bc2erkBUhbeYuIe6HG8i1FYZRlZww?e=iDglv0) en la página 167 del pdf sobre linear Regression. "
   ]
  },
  {
   "cell_type": "code",
   "execution_count": 16,
   "id": "65d9a4b9",
   "metadata": {
    "slideshow": {
     "slide_type": "slide"
    }
   },
   "outputs": [
    {
     "data": {
      "text/plain": [
       "array([[ 200],\n",
       "       [ 400],\n",
       "       [ 600],\n",
       "       [ 800],\n",
       "       [1000],\n",
       "       [1200]])"
      ]
     },
     "execution_count": 16,
     "metadata": {},
     "output_type": "execute_result"
    }
   ],
   "source": [
    "Temperatura.reshape(-1,1) # ojo, vector vertical para la variable independiente. "
   ]
  },
  {
   "cell_type": "code",
   "execution_count": 15,
   "id": "96675fbc",
   "metadata": {
    "slideshow": {
     "slide_type": "slide"
    }
   },
   "outputs": [
    {
     "data": {
      "text/plain": [
       "LinearRegression()"
      ]
     },
     "execution_count": 15,
     "metadata": {},
     "output_type": "execute_result"
    }
   ],
   "source": [
    "from sklearn.linear_model import LinearRegression\n",
    "lin_reg = LinearRegression()\n",
    "lin_reg.fit(Temperatura.reshape(-1,1), H)"
   ]
  },
  {
   "cell_type": "code",
   "execution_count": 18,
   "id": "006a3be8",
   "metadata": {
    "slideshow": {
     "slide_type": "slide"
    }
   },
   "outputs": [],
   "source": [
    "b, m =  lin_reg.intercept_, lin_reg.coef_"
   ]
  },
  {
   "cell_type": "code",
   "execution_count": 19,
   "id": "581dc2f3",
   "metadata": {
    "slideshow": {
     "slide_type": "slide"
    }
   },
   "outputs": [
    {
     "data": {
      "text/plain": [
       "(612.9333333333334, array([-0.33228571]))"
      ]
     },
     "execution_count": 19,
     "metadata": {},
     "output_type": "execute_result"
    }
   ],
   "source": [
    "b, m"
   ]
  },
  {
   "cell_type": "code",
   "execution_count": 20,
   "id": "7f768941",
   "metadata": {
    "slideshow": {
     "slide_type": "slide"
    }
   },
   "outputs": [],
   "source": [
    "def modelo_lineal(temperatura):\n",
    "    dureza = temperatura*m + b\n",
    "    return dureza"
   ]
  },
  {
   "cell_type": "code",
   "execution_count": 21,
   "id": "01d9b8cd",
   "metadata": {
    "slideshow": {
     "slide_type": "slide"
    }
   },
   "outputs": [
    {
     "data": {
      "text/plain": [
       "array([446.79047619])"
      ]
     },
     "execution_count": 21,
     "metadata": {},
     "output_type": "execute_result"
    }
   ],
   "source": [
    "modelo_lineal(500)"
   ]
  },
  {
   "cell_type": "code",
   "execution_count": 1,
   "id": "c61b41a3",
   "metadata": {
    "slideshow": {
     "slide_type": "slide"
    }
   },
   "outputs": [
    {
     "ename": "NameError",
     "evalue": "name 'lin_reg' is not defined",
     "output_type": "error",
     "traceback": [
      "\u001b[1;31m---------------------------------------------------------------------------\u001b[0m",
      "\u001b[1;31mNameError\u001b[0m                                 Traceback (most recent call last)",
      "\u001b[1;32m~\\AppData\\Local\\Temp\\ipykernel_10904\\693831226.py\u001b[0m in \u001b[0;36m<module>\u001b[1;34m\u001b[0m\n\u001b[1;32m----> 1\u001b[1;33m \u001b[0mlin_reg\u001b[0m\u001b[1;33m.\u001b[0m\u001b[0mpredict\u001b[0m\u001b[1;33m(\u001b[0m\u001b[1;33m[\u001b[0m\u001b[1;33m[\u001b[0m\u001b[1;36m500\u001b[0m\u001b[1;33m]\u001b[0m\u001b[1;33m]\u001b[0m\u001b[1;33m)\u001b[0m\u001b[1;33m\u001b[0m\u001b[1;33m\u001b[0m\u001b[0m\n\u001b[0m",
      "\u001b[1;31mNameError\u001b[0m: name 'lin_reg' is not defined"
     ]
    }
   ],
   "source": [
    "\n",
    "lin_reg.predict([[500]])\n"
   ]
  },
  {
   "cell_type": "markdown",
   "id": "c40cf6eb",
   "metadata": {
    "slideshow": {
     "slide_type": "slide"
    }
   },
   "source": [
    "## Grafica de los datos con el modelo"
   ]
  },
  {
   "cell_type": "code",
   "execution_count": 25,
   "id": "617734a9",
   "metadata": {
    "slideshow": {
     "slide_type": "slide"
    }
   },
   "outputs": [
    {
     "data": {
      "image/png": "[encoded data removed]",
      "text/plain": [
       "<Figure size 640x480 with 1 Axes>"
      ]
     },
     "metadata": {},
     "output_type": "display_data"
    }
   ],
   "source": [
    "import matplotlib.pyplot as plt \n",
    "\n",
    "plt.scatter(Temperatura, H, color = 'blue')\n",
    "\n",
    "plt.title(r'Relación entre dureza $H$ y temperatura $t$')\n",
    "\n",
    "plt.ylabel('Dureza (H)')\n",
    "\n",
    "plt.xlabel('Temperatura (Fahrenheit)')\n",
    "\n",
    "plt.grid()\n",
    "\n",
    "dominio = [200, 1200]\n",
    "rango = [200*m+b, 1200*m+b]\n",
    "\n",
    "plt.plot(dominio, rango, color = 'red')\n",
    "\n",
    "plt.savefig('relacion_dureza_temperatura_con_modelo.jpeg')\n"
   ]
  },
  {
   "cell_type": "code",
   "execution_count": null,
   "id": "dd7018c2",
   "metadata": {},
   "outputs": [],
   "source": []
  },
  {
   "cell_type": "markdown",
   "id": "9c63b2ab",
   "metadata": {
    "slideshow": {
     "slide_type": "slide"
    }
   },
   "source": [
    "## Hablar de cómo nos entregan los datos el IDEAM y cómo los podemos leer u obtener. "
   ]
  },
  {
   "cell_type": "markdown",
   "id": "06bcfe16",
   "metadata": {
    "slideshow": {
     "slide_type": "slide"
    }
   },
   "source": [
    "* Primero, la información no la entregan comprimida en en archivo .zip  \n",
    "* Segundo, descomprimimos la información con la aplicación RaR zip. \n",
    "* La información la encontrará en archivos de extensión .xlsx, .xlsm, .csv (Valores Separados por Comas)"
   ]
  },
  {
   "cell_type": "code",
   "execution_count": null,
   "id": "0ac3da53",
   "metadata": {
    "slideshow": {
     "slide_type": "slide"
    }
   },
   "outputs": [],
   "source": []
  },
  {
   "cell_type": "markdown",
   "id": "5e0aae9c",
   "metadata": {
    "slideshow": {
     "slide_type": "slide"
    }
   },
   "source": [
    "# Principios de las igualdades"
   ]
  },
  {
   "cell_type": "markdown",
   "id": "79858230",
   "metadata": {
    "slideshow": {
     "slide_type": "slide"
    }
   },
   "source": [
    "$$ A = B \\iff A+ C = B + C $$\n",
    "\n",
    "Puedes sumas a ambos lados lo mismo, y tendrás una nueva igualdad. "
   ]
  },
  {
   "cell_type": "markdown",
   "id": "7a0a22bf",
   "metadata": {
    "slideshow": {
     "slide_type": "slide"
    }
   },
   "source": [
    "$$ A = B \\iff AC = BC, C \\neq 0 $$"
   ]
  },
  {
   "cell_type": "markdown",
   "id": "6035da5c",
   "metadata": {
    "slideshow": {
     "slide_type": "slide"
    }
   },
   "source": [
    "# ECUACIONES LINEALES\n",
    "Una ecuación lineal en una variable es una ecuación equivalente a una de la forma\n",
    "\n",
    "$$ ax + b = 0 $$\n",
    "\n",
    "donde a y b son números reales y x es la variable.\n"
   ]
  },
  {
   "cell_type": "markdown",
   "id": "81a7089a",
   "metadata": {
    "slideshow": {
     "slide_type": "slide"
    }
   },
   "source": [
    "# ¿Una ecuación se puede graficar?\n",
    "\n",
    "Si.  Y en el caso de las ecuaciones lineales, cada lado corresponderá a una función lineal y la solución de la ecuación será la proyección sobre el eje horizontal del punto de intersección de las rectas correspondientes a las funciones lineales. "
   ]
  },
  {
   "cell_type": "markdown",
   "id": "c8cda94c",
   "metadata": {
    "slideshow": {
     "slide_type": "slide"
    }
   },
   "source": [
    "https://www.wolframalpha.com/input?i=7x-4%3D3x+%2B+8&lang=es"
   ]
  },
  {
   "cell_type": "markdown",
   "id": "400a7546",
   "metadata": {
    "slideshow": {
     "slide_type": "slide"
    }
   },
   "source": [
    "# Resolver por transposición de términos\n",
    "\n",
    "Transponer significa cambiar de lado. \n",
    "\n",
    "Este método tiene una debilidad y es que es dsependiente de la secuencia de transposición. "
   ]
  },
  {
   "cell_type": "markdown",
   "id": "90661c3a",
   "metadata": {
    "slideshow": {
     "slide_type": "slide"
    }
   },
   "source": [
    "### Estrategia de transposición\n",
    "\n",
    "Agrupar a un mismo0 lado los semejantes.   \n",
    "\n",
    "\n",
    "* Es decir, a un mimo lado los términos que3 tengan \"equis\", \n",
    "* Y al otro lado los que no la tengan. \n"
   ]
  },
  {
   "cell_type": "code",
   "execution_count": null,
   "id": "f84d5f71",
   "metadata": {
    "slideshow": {
     "slide_type": "slide"
    }
   },
   "outputs": [],
   "source": []
  },
  {
   "cell_type": "code",
   "execution_count": null,
   "id": "1e23c263",
   "metadata": {
    "slideshow": {
     "slide_type": "slide"
    }
   },
   "outputs": [],
   "source": []
  },
  {
   "cell_type": "code",
   "execution_count": null,
   "id": "d5e031d7",
   "metadata": {},
   "outputs": [],
   "source": []
  },
  {
   "cell_type": "code",
   "execution_count": null,
   "id": "0034a14f",
   "metadata": {
    "slideshow": {
     "slide_type": "slide"
    }
   },
   "outputs": [],
   "source": []
  },
  {
   "cell_type": "markdown",
   "id": "99d89c64",
   "metadata": {
    "slideshow": {
     "slide_type": "slide"
    }
   },
   "source": [
    "## Actividades de desarrollo de competencias en comunicación científica"
   ]
  },
  {
   "cell_type": "code",
   "execution_count": null,
   "id": "4181c808",
   "metadata": {
    "slideshow": {
     "slide_type": "slide"
    }
   },
   "outputs": [],
   "source": []
  },
  {
   "cell_type": "code",
   "execution_count": null,
   "id": "6747a7bb",
   "metadata": {
    "slideshow": {
     "slide_type": "slide"
    }
   },
   "outputs": [],
   "source": []
  },
  {
   "cell_type": "markdown",
   "id": "7d8fb0cf",
   "metadata": {
    "slideshow": {
     "slide_type": "slide"
    }
   },
   "source": [
    "## Tareas para realizar fuera de clase"
   ]
  },
  {
   "cell_type": "markdown",
   "id": "208179b1",
   "metadata": {
    "slideshow": {
     "slide_type": "slide"
    }
   },
   "source": [
    "Realizar ejercicios de ecuaciones lineales y funciones lineales. Realice por lo menos 10 de cada tema:\n",
    "\n",
    "1. Realizar 10 ejercicios de ecuaciones lineales.\n",
    "2. Realizar 10 ejercicios de funciones lineales.\n",
    "\n",
    "Los ejercicios los encuentra [aquí](https://udeaeduco-my.sharepoint.com/:b:/g/personal/marco_canas_udea_edu_co/ERHIq62I6qFNrmxy6LZb8ZMBci7kUsyNME1nIh9yCBMJ_w?e=e9NRy5). Página 58 del stewart precálculo. "
   ]
  },
  {
   "cell_type": "markdown",
   "id": "03f0b821",
   "metadata": {
    "slideshow": {
     "slide_type": "slide"
    }
   },
   "source": [
    "## Tarea 2\n",
    "\n",
    "Resolver ecuaciones con excel  "
   ]
  },
  {
   "cell_type": "markdown",
   "id": "9a17cef0",
   "metadata": {
    "slideshow": {
     "slide_type": "slide"
    }
   },
   "source": [
    "### Cuestionario"
   ]
  },
  {
   "cell_type": "markdown",
   "id": "82ca3ecb",
   "metadata": {
    "slideshow": {
     "slide_type": "slide"
    }
   },
   "source": [
    "1. ¿Qué es una modelo matemático para un ingeniero agropecuario?"
   ]
  },
  {
   "cell_type": "markdown",
   "id": "504377ab",
   "metadata": {
    "slideshow": {
     "slide_type": "slide"
    }
   },
   "source": [
    "2. ¿Qué es una modelo cuadrático para un ingeniero agropecuario?"
   ]
  },
  {
   "cell_type": "markdown",
   "id": "15c01c21",
   "metadata": {
    "slideshow": {
     "slide_type": "slide"
    }
   },
   "source": [
    "## Referentes    \n",
    "\n",
    "* [larson](https://udeaeduco-my.sharepoint.com/:b:/g/personal/marco_canas_udea_edu_co/ES71ChFeO9ZDhW3TwC5Ijk8BjxUK3Pdqz_fjHxTTFAfIAg?e=KNgdX7)\n",
    "\n",
    "* [Precálculo de Stewart](https://udeaeduco-my.sharepoint.com/:b:/g/personal/marco_canas_udea_edu_co/ERHIq62I6qFNrmxy6LZb8ZMBci7kUsyNME1nIh9yCBMJ_w?e=cOQjzv)\n",
    "* [Cálculo Stewart](https://udeaeduco-my.sharepoint.com/:b:/g/personal/marco_canas_udea_edu_co/EZgXZjAp8QxPqOAim2hs6LcBNPLGjSHf-xwYnUVYkwa04w?e=k1HOhB)\n",
    "\n",
    "* [chatGPT3](https://openai.com/blog/chatgpt)  "
   ]
  },
  {
   "cell_type": "markdown",
   "id": "a91b7a28",
   "metadata": {
    "slideshow": {
     "slide_type": "slide"
    }
   },
   "source": [
    "## [Evaluación para el profesor en esta clase]()"
   ]
  },
  {
   "cell_type": "markdown",
   "id": "6277ea25",
   "metadata": {
    "slideshow": {
     "slide_type": "slide"
    }
   },
   "source": [
    "[Lo invitamos a preparar la evaluación de sus aprendizajes a través de este vínculo](https://github.com/marco-canas/1_algebra/blob/main/evaluacion/q1/q1.ipynb)"
   ]
  },
  {
   "cell_type": "code",
   "execution_count": null,
   "id": "0b2b81e7",
   "metadata": {},
   "outputs": [],
   "source": []
  }
 ],
 "metadata": {
  "celltoolbar": "Slideshow",
  "kernelspec": {
   "display_name": "Python 3 (ipykernel)",
   "language": "python",
   "name": "python3"
  },
  "language_info": {
   "codemirror_mode": {
    "name": "ipython",
    "version": 3
   },
   "file_extension": ".py",
   "mimetype": "text/x-python",
   "name": "python",
   "nbconvert_exporter": "python",
   "pygments_lexer": "ipython3",
   "version": "3.9.13"
  },
  "rise": {
   "enable_chalkboard": true,
   "theme": "sky",
   "transition": "zoom"
  }
 },
 "nbformat": 4,
 "nbformat_minor": 5
}
