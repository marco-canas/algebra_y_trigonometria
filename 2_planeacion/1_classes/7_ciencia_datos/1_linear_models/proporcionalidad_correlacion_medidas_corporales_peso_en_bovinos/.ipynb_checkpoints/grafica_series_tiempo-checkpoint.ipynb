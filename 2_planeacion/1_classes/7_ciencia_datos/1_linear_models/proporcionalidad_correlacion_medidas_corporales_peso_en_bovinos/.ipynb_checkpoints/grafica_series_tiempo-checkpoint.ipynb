{
 "cells": [
  {
   "cell_type": "markdown",
   "id": "c8b87df2",
   "metadata": {},
   "source": [
    "# Grafica de peso Vs tiempo"
   ]
  },
  {
   "cell_type": "code",
   "execution_count": 2,
   "id": "e6268d28",
   "metadata": {},
   "outputs": [],
   "source": [
    "import numpy as np \n",
    "import pandas as pd \n",
    "\n"
   ]
  },
  {
   "cell_type": "markdown",
   "id": "f00c31e3",
   "metadata": {},
   "source": [
    "# Obtener los datos"
   ]
  },
  {
   "cell_type": "code",
   "execution_count": 3,
   "id": "233ea2c1",
   "metadata": {},
   "outputs": [],
   "source": [
    "edad = np.array([\"hembras < 1 año\", \"hembras 1 a 2 años\", \"hembras 2 a 3 años\", \"hembras 3 a 4 años\", \"hembras 4 a 5 años\", \"hembras 5 a 6 años\", \"hembras 6 a 7 años\", \"hembras 7 a 8 años\" ])"
   ]
  },
  {
   "cell_type": "code",
   "execution_count": null,
   "id": "c56ba0f3",
   "metadata": {},
   "outputs": [],
   "source": [
    "peso = np.array([96.8, 217.8, ])"
   ]
  },
  {
   "cell_type": "code",
   "execution_count": null,
   "id": "d3f54271",
   "metadata": {},
   "outputs": [],
   "source": []
  }
 ],
 "metadata": {
  "kernelspec": {
   "display_name": "Python 3 (ipykernel)",
   "language": "python",
   "name": "python3"
  },
  "language_info": {
   "codemirror_mode": {
    "name": "ipython",
    "version": 3
   },
   "file_extension": ".py",
   "mimetype": "text/x-python",
   "name": "python",
   "nbconvert_exporter": "python",
   "pygments_lexer": "ipython3",
   "version": "3.9.13"
  }
 },
 "nbformat": 4,
 "nbformat_minor": 5
}
