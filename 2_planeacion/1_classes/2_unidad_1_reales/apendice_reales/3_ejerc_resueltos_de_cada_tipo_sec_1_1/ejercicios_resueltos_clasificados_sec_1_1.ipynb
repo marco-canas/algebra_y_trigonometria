{
 "cells": [
  {
   "cell_type": "markdown",
   "id": "dc06dec7",
   "metadata": {
    "slideshow": {
     "slide_type": "slide"
    }
   },
   "source": [
    "<table align=\"left\">\n",
    "  <td>\n",
    "    <a href=\"https://colab.research.google.com/github/marco-canas/algebra_y_trigonometria/blob/main/2_planeacion/2_classes/2_unidad_1_reales/apendice_reales/ejercicios_resueltos_de_cada_tipo_seccion_1_1/ejercicios_resueltos_clasificados_seccion_1_1.ipynb\" target=\"_parent\"><img src=\"https://colab.research.google.com/assets/colab-badge.svg\" alt=\"Open In Colab\"/></a>\n",
    "  </td>\n",
    "  <td>\n",
    "    <a target=\"_blank\" href=\"https://kaggle.com/kernels/welcome?src=https://github.com/marco-canas/algebra_y_trigonometria/blob/main/2_planeacion/2_classes/2_unidad_1_reales/apendice_reales/ejercicios_resueltos_de_cada_tipo_seccion_1_1/ejercicios_resueltos_clasificados_seccion_1_1.ipynb\"><img src=\"https://kaggle.com/static/images/open-in-kaggle.svg\" /></a>\n",
    "  </td>\n",
    "</table>"
   ]
  },
  {
   "cell_type": "markdown",
   "id": "9eee306b",
   "metadata": {},
   "source": [
    "# generación del QR para el cuaderno de esta clase    \n",
    "\n",
    "Aquí tienes una función de Python que genera un código QR a partir de una URL y lo muestra en un cuaderno Jupyter:\n"
   ]
  },
  {
   "cell_type": "code",
   "execution_count": 5,
   "id": "7e0dbf6e",
   "metadata": {},
   "outputs": [],
   "source": [
    "import qrcode\n",
    "from IPython.display import display\n",
    "\n",
    "def generar_qr_notebook(url):\n",
    "    \"\"\"\n",
    "    Genera un código QR para una URL y lo muestra en un cuaderno Jupyter.\n",
    "    \n",
    "    Parámetros:\n",
    "    url (str): La URL para la cual se generará el código QR.\n",
    "    \n",
    "    Retorna:\n",
    "    None (pero muestra el código QR en el notebook)\n",
    "    \"\"\"\n",
    "    # Crear el objeto QR\n",
    "    qr = qrcode.QRCode(\n",
    "        version=1,\n",
    "        error_correction=qrcode.constants.ERROR_CORRECT_L,\n",
    "        box_size=10,\n",
    "        border=4,\n",
    "    )\n",
    "    \n",
    "    # Añadir la URL al código QR\n",
    "    qr.add_data(url)\n",
    "    qr.make(fit=True)\n",
    "    \n",
    "    # Crear la imagen del QR\n",
    "    img = qr.make_image(fill_color=\"black\", back_color=\"white\")\n",
    "    \n",
    "    # Mostrar la imagen en el notebook\n",
    "    display(img)\n",
    "\n"
   ]
  },
  {
   "cell_type": "code",
   "execution_count": 6,
   "id": "79e4ce17",
   "metadata": {},
   "outputs": [
    {
     "data": {
      "image/jpeg": "[encoded data removed]",
      "image/png": "[encoded data removed]",
      "text/plain": [
       "<qrcode.image.pil.PilImage at 0x1ce83deb750>"
      ]
     },
     "metadata": {},
     "output_type": "display_data"
    }
   ],
   "source": [
    "generar_qr_notebook(\"marco-canas/algebra_y_trigonometria/blob/main/2_planeacion/2_classes/2_unidad_1_reales/apendice_reales/ejercicios_resueltos_de_cada_tipo_seccion_1_1/ejercicios_resueltos_clasificados_seccion_1_1.ipynb\")"
   ]
  },
  {
   "cell_type": "markdown",
   "id": "0081bd63",
   "metadata": {},
   "source": [
    "\n",
    "### Cómo usarla:\n",
    "1. Asegúrate de tener instaladas las dependencias:\n",
    "```python\n",
    "!pip install qrcode[pil]\n",
    "```\n"
   ]
  },
  {
   "cell_type": "markdown",
   "id": "6b42ff19",
   "metadata": {},
   "source": [
    "\n",
    "2. Luego puedes llamar a la función con tu URL:\n",
    "```python\n",
    "generar_qr_notebook(\"https://ejemplo.com/mi-cuaderno\")\n",
    "```\n",
    "\n",
    "### Notas:\n",
    "- La función usa la biblioteca `qrcode` para generar el código y `IPython.display` para mostrarlo en el notebook.\n",
    "- El código QR aparecerá como salida de la celda donde llames a la función.\n",
    "- Puedes ajustar parámetros como `box_size` (tamaño de los cuadrados) o `border` (tamaño del borde) según tus necesidades.\n"
   ]
  },
  {
   "cell_type": "markdown",
   "id": "e0c5b198",
   "metadata": {
    "slideshow": {
     "slide_type": "slide"
    }
   },
   "source": [
    "### [Video de apoyo a la lectura interactiva y experimental de este cuaderno](https://www.youtube.com/watch?v=3IDP_3E_PNc)"
   ]
  },
  {
   "cell_type": "markdown",
   "id": "41e82203",
   "metadata": {
    "slideshow": {
     "slide_type": "slide"
    }
   },
   "source": [
    "### [Vínculo al programa del curso Algebra_and_trigonometry:  ](https://github.com/marco-canas/algebra_y_trigonometria/blob/main/0_programa_curso/programa_algebra_and_trigonometry.md)\n"
   ]
  },
  {
   "cell_type": "markdown",
   "id": "d11ab06d",
   "metadata": {
    "slideshow": {
     "slide_type": "slide"
    }
   },
   "source": [
    "Un reconocimiento a mis estudiantes que han construido conmigo este saber pedagógico:\n",
    "\n",
    "<img src = 'https://github.com/marco-canas/algebra_y_trigonometria/blob/main/7_images/asesoria_2_2025-08-16_a_las_12.31.jpg?raw=true'>   \n",
    "\n"
   ]
  },
  {
   "cell_type": "code",
   "execution_count": 3,
   "id": "7604880f",
   "metadata": {
    "slideshow": {
     "slide_type": "slide"
    }
   },
   "outputs": [
    {
     "data": {
      "application/vnd.microsoft.datawrangler.viewer.v0+json": {
       "columns": [
        {
         "name": "index",
         "rawType": "int64",
         "type": "integer"
        },
        {
         "name": "Cedula",
         "rawType": "int64",
         "type": "integer"
        },
        {
         "name": "Nombre",
         "rawType": "object",
         "type": "string"
        },
        {
         "name": "Email",
         "rawType": "object",
         "type": "string"
        }
       ],
       "ref": "f6e3adc6-ee8c-49cf-a648-b2092da08f20",
       "rows": [
        [
         "0",
         "1038648096",
         "ACEVEDO BELEÑO SANTIAGO",
         "sacevedo.beleno@udea.edu.co"
        ],
        [
         "1",
         "1038648760",
         "MARIN VILLARREAL PABLO ALEJANDRO",
         "pablo.marin1@udea.edu.co"
        ],
        [
         "2",
         "1193401041",
         "MARTINEZ MANJARREZ DANIELA ESTHER",
         "daniela.martinezm@udea.edu.co"
        ],
        [
         "3",
         "1038108720",
         "MEJIA GUZMAN SAMUEL",
         "samuel.mguzman@udea.edu.co"
        ],
        [
         "4",
         "1038647828",
         "NIEBLES BARRERA ALEXANDER ISAAC",
         "alexander.niebles@udea.edu.co"
        ],
        [
         "5",
         "1045426138",
         "OQUENDO MONA CRISTIAN GABRIEL",
         "cristian.oquendo1@udea.edu.co"
        ],
        [
         "6",
         "1032250901",
         "PINO VERGARA LIZETH",
         "lizeth.pino@udea.edu.co"
        ],
        [
         "7",
         "1038092717",
         "RIVERA GUZMAN CRISTIAN",
         "cristian.rivera2@udea.edu.co"
        ],
        [
         "8",
         "1038110693",
         "ROMERO CALDERA JUAN ESTEBAN",
         "juanesteban.romero@udea.edu.co"
        ],
        [
         "9",
         "1063359347",
         "SANCHEZ PACHECO MOISES DAVID",
         "moises.sanchez1@udea.edu.co"
        ],
        [
         "10",
         "1066600819",
         "TIRADO CHAVARRIA WILFRAN DE JESUS",
         "wilfran.tirado@udea.edu.co"
        ],
        [
         "11",
         "1038136995",
         "VERGARA ACEVEDO SARA CRISTINA",
         "scristina.vergara@udea.edu.co"
        ],
        [
         "12",
         "1007452831",
         "VILORIA SIERRA ALEXANDER",
         "a.viloria1@udea.edu.co"
        ]
       ],
       "shape": {
        "columns": 3,
        "rows": 13
       }
      },
      "text/html": [
       "<div>\n",
       "<style scoped>\n",
       "    .dataframe tbody tr th:only-of-type {\n",
       "        vertical-align: middle;\n",
       "    }\n",
       "\n",
       "    .dataframe tbody tr th {\n",
       "        vertical-align: top;\n",
       "    }\n",
       "\n",
       "    .dataframe thead th {\n",
       "        text-align: right;\n",
       "    }\n",
       "</style>\n",
       "<table border=\"1\" class=\"dataframe\">\n",
       "  <thead>\n",
       "    <tr style=\"text-align: right;\">\n",
       "      <th></th>\n",
       "      <th>Cedula</th>\n",
       "      <th>Nombre</th>\n",
       "      <th>Email</th>\n",
       "    </tr>\n",
       "  </thead>\n",
       "  <tbody>\n",
       "    <tr>\n",
       "      <th>0</th>\n",
       "      <td>1038648096</td>\n",
       "      <td>ACEVEDO BELEÑO SANTIAGO</td>\n",
       "      <td>sacevedo.beleno@udea.edu.co</td>\n",
       "    </tr>\n",
       "    <tr>\n",
       "      <th>1</th>\n",
       "      <td>1038648760</td>\n",
       "      <td>MARIN VILLARREAL PABLO ALEJANDRO</td>\n",
       "      <td>pablo.marin1@udea.edu.co</td>\n",
       "    </tr>\n",
       "    <tr>\n",
       "      <th>2</th>\n",
       "      <td>1193401041</td>\n",
       "      <td>MARTINEZ MANJARREZ DANIELA ESTHER</td>\n",
       "      <td>daniela.martinezm@udea.edu.co</td>\n",
       "    </tr>\n",
       "    <tr>\n",
       "      <th>3</th>\n",
       "      <td>1038108720</td>\n",
       "      <td>MEJIA GUZMAN SAMUEL</td>\n",
       "      <td>samuel.mguzman@udea.edu.co</td>\n",
       "    </tr>\n",
       "    <tr>\n",
       "      <th>4</th>\n",
       "      <td>1038647828</td>\n",
       "      <td>NIEBLES BARRERA ALEXANDER ISAAC</td>\n",
       "      <td>alexander.niebles@udea.edu.co</td>\n",
       "    </tr>\n",
       "    <tr>\n",
       "      <th>5</th>\n",
       "      <td>1045426138</td>\n",
       "      <td>OQUENDO MONA CRISTIAN GABRIEL</td>\n",
       "      <td>cristian.oquendo1@udea.edu.co</td>\n",
       "    </tr>\n",
       "    <tr>\n",
       "      <th>6</th>\n",
       "      <td>1032250901</td>\n",
       "      <td>PINO VERGARA LIZETH</td>\n",
       "      <td>lizeth.pino@udea.edu.co</td>\n",
       "    </tr>\n",
       "    <tr>\n",
       "      <th>7</th>\n",
       "      <td>1038092717</td>\n",
       "      <td>RIVERA GUZMAN CRISTIAN</td>\n",
       "      <td>cristian.rivera2@udea.edu.co</td>\n",
       "    </tr>\n",
       "    <tr>\n",
       "      <th>8</th>\n",
       "      <td>1038110693</td>\n",
       "      <td>ROMERO CALDERA JUAN ESTEBAN</td>\n",
       "      <td>juanesteban.romero@udea.edu.co</td>\n",
       "    </tr>\n",
       "    <tr>\n",
       "      <th>9</th>\n",
       "      <td>1063359347</td>\n",
       "      <td>SANCHEZ PACHECO MOISES DAVID</td>\n",
       "      <td>moises.sanchez1@udea.edu.co</td>\n",
       "    </tr>\n",
       "    <tr>\n",
       "      <th>10</th>\n",
       "      <td>1066600819</td>\n",
       "      <td>TIRADO CHAVARRIA WILFRAN DE JESUS</td>\n",
       "      <td>wilfran.tirado@udea.edu.co</td>\n",
       "    </tr>\n",
       "    <tr>\n",
       "      <th>11</th>\n",
       "      <td>1038136995</td>\n",
       "      <td>VERGARA ACEVEDO SARA CRISTINA</td>\n",
       "      <td>scristina.vergara@udea.edu.co</td>\n",
       "    </tr>\n",
       "    <tr>\n",
       "      <th>12</th>\n",
       "      <td>1007452831</td>\n",
       "      <td>VILORIA SIERRA ALEXANDER</td>\n",
       "      <td>a.viloria1@udea.edu.co</td>\n",
       "    </tr>\n",
       "  </tbody>\n",
       "</table>\n",
       "</div>"
      ],
      "text/plain": [
       "        Cedula                             Nombre  \\\n",
       "0   1038648096            ACEVEDO BELEÑO SANTIAGO   \n",
       "1   1038648760   MARIN VILLARREAL PABLO ALEJANDRO   \n",
       "2   1193401041  MARTINEZ MANJARREZ DANIELA ESTHER   \n",
       "3   1038108720                MEJIA GUZMAN SAMUEL   \n",
       "4   1038647828    NIEBLES BARRERA ALEXANDER ISAAC   \n",
       "5   1045426138      OQUENDO MONA CRISTIAN GABRIEL   \n",
       "6   1032250901                PINO VERGARA LIZETH   \n",
       "7   1038092717             RIVERA GUZMAN CRISTIAN   \n",
       "8   1038110693        ROMERO CALDERA JUAN ESTEBAN   \n",
       "9   1063359347       SANCHEZ PACHECO MOISES DAVID   \n",
       "10  1066600819  TIRADO CHAVARRIA WILFRAN DE JESUS   \n",
       "11  1038136995      VERGARA ACEVEDO SARA CRISTINA   \n",
       "12  1007452831           VILORIA SIERRA ALEXANDER   \n",
       "\n",
       "                             Email  \n",
       "0      sacevedo.beleno@udea.edu.co  \n",
       "1         pablo.marin1@udea.edu.co  \n",
       "2    daniela.martinezm@udea.edu.co  \n",
       "3       samuel.mguzman@udea.edu.co  \n",
       "4    alexander.niebles@udea.edu.co  \n",
       "5    cristian.oquendo1@udea.edu.co  \n",
       "6          lizeth.pino@udea.edu.co  \n",
       "7     cristian.rivera2@udea.edu.co  \n",
       "8   juanesteban.romero@udea.edu.co  \n",
       "9      moises.sanchez1@udea.edu.co  \n",
       "10      wilfran.tirado@udea.edu.co  \n",
       "11   scristina.vergara@udea.edu.co  \n",
       "12          a.viloria1@udea.edu.co  "
      ]
     },
     "execution_count": 3,
     "metadata": {},
     "output_type": "execute_result"
    }
   ],
   "source": [
    "import pandas as pd\n",
    "import numpy as np\n",
    "\n",
    "# Cargar la lista de estudiantes desde el archivo CSV\n",
    "path = 'C:/Users/marco/Documentos/docencia/groups_list/algebra_and_trigonometry.xlsx'\n",
    "df = pd.read_excel(path)\n",
    "df.head(13) \n"
   ]
  },
  {
   "cell_type": "markdown",
   "id": "d7598d0a-d9b7-4ae0-b029-a0ed6ed1130b",
   "metadata": {},
   "source": [
    "\n",
    "# Principios de mi labor docente"
   ]
  },
  {
   "cell_type": "markdown",
   "id": "4f9d8cf9",
   "metadata": {
    "slideshow": {
     "slide_type": "slide"
    }
   },
   "source": [
    "## Modelo general de clase: [aula invertida](https://www3.gobiernodecanarias.org/medusa/ecoescuela/pedagotic/aprendizaje-invertido-flipped-classroom/)"
   ]
  },
  {
   "cell_type": "markdown",
   "id": "eb6ed03a",
   "metadata": {},
   "source": [
    "<img src = 'https://resources.maneuveringthemiddle.com/wp-content/uploads/2020/07/04212706/1-5.png' width = 200>  \n",
    "\n"
   ]
  },
  {
   "cell_type": "markdown",
   "id": "34319cce-a71b-4f64-aab8-b53e521efa40",
   "metadata": {},
   "source": [
    "# Metodología de Aprendizaje Basado en Problemas y Proyectos (ABPP)\n"
   ]
  },
  {
   "cell_type": "markdown",
   "id": "c4f73d81",
   "metadata": {},
   "source": [
    "\n",
    "<img src = 'https://www.unir.net/wp-content/uploads/2020/07/aprendizaje-problemas2-1-1-1-1.jpeg' width = 200>"
   ]
  },
  {
   "cell_type": "markdown",
   "id": "841a985c-bd9b-4dd3-8e4c-893983980af2",
   "metadata": {},
   "source": [
    "# Desarrollo del pensamiento computacional con Lenguajes Python y R, y con archivos Markdown orientado a la formación en ciencia de datos \n",
    "\n"
   ]
  },
  {
   "cell_type": "markdown",
   "id": "3d0eba94",
   "metadata": {},
   "source": [
    "\n",
    "<img src = 'https://i.ytimg.com/vi/mcG_wcR4e6M/maxresdefault.jpg' width = 200>"
   ]
  },
  {
   "cell_type": "markdown",
   "id": "65aa0404-f7ae-495e-864c-1aec01b4255e",
   "metadata": {},
   "source": [
    "# Principio de fomento a la ciencia abierta, enseñar en el acceso a los datos públicos y el uso de software de código abierto  \n"
   ]
  },
  {
   "cell_type": "markdown",
   "id": "18ae9b87",
   "metadata": {},
   "source": [
    "\n",
    "<img src = 'https://unesdoc.unesco.org/in/rest/Thumb/image?id=p%3A%3Ausmarcdef_0000379949_spa&author=UNESCO&title=Recomendaci%C3%B3n+de+la+UNESCO+sobre+la+Ciencia+Abierta&year=2021&publisher=UNESCO&TypeOfDocument=UnescoPhysicalDocument&mat=PGD&ct=true&size=512&isPhysical=1' width = 200>"
   ]
  },
  {
   "cell_type": "markdown",
   "id": "d9559f85",
   "metadata": {},
   "source": [
    "El enfoque STEAMS en educación preescolar, primaria y secundaria es una extensión del enfoque STEM (Ciencia, Tecnología, Ingeniería y Matemáticas) y su variante STEAM, que incorpora el Arte. "
   ]
  },
  {
   "cell_type": "markdown",
   "id": "0130ec1b",
   "metadata": {},
   "source": [
    "\n",
    "<img src = 'https://www.campuseducacion.com/blog/wp-content/uploads/2023/03/foto01-1.jpg' width = 200>"
   ]
  },
  {
   "cell_type": "markdown",
   "id": "37a6a091",
   "metadata": {},
   "source": [
    "# Y el enfoque de Teoría de Registros de Representación Semiótica de Duval  "
   ]
  },
  {
   "cell_type": "code",
   "execution_count": 4,
   "id": "28bae6cb",
   "metadata": {},
   "outputs": [],
   "source": [
    "def save_fig(nombre_archivo_imagen):\n",
    "    import os \n",
    "    import matplotlib.pyplot as plt\n",
    "    ubicacion_para_imagenes = r\"C:/Users/marco/Downloads\"\n",
    "    imagen_path = os.path.join(ubicacion_para_imagenes, nombre_archivo_imagen)\n",
    "    plt.savefig(imagen_path, bbox_inches='tight')"
   ]
  },
  {
   "cell_type": "markdown",
   "id": "10e55ccf",
   "metadata": {},
   "source": [
    "# Estructura general para todas las clases\n"
   ]
  },
  {
   "cell_type": "markdown",
   "id": "ddd73417",
   "metadata": {},
   "source": [
    "\n",
    "Dame, por favor, un diseño de clase, con el enfoque: \"Aula Invertida, STEAMS, de Aprendizaje Basado en Problemas y Proyectos (ABPP) y de Teoría de Registros de Representación Semiótica (TRRS) de Duval\" sobre: \"[Tema de la clase]: un enfoque para la clase de álgebra y trigonometría según el programa de curso: https://github.com/marco-canas/algebra_y_trigonometria/blob/main/0_programa_curso/1_programa_algebra_and_trigonometry.md; y para el curso de Geometría Euclidiana, analítica y vectorial.\", siguiendo la estructura:  \n",
    "\n",
    "\n",
    "Ubicación del programa del curso: [aquí](un enfoque para la clase de álgebra y trigonometría según el programa de curso: https://github.com/marco-canas/algebra_y_trigonometria/blob/main/0_programa_curso/1_programa_algebra_and_trigonometry.md)   \n",
    "\n",
    "Ubicación de la lista de estudiantes matriculados: [Aquí](https://github.com/marco-canas/groups_list/blob/main/vector_geometry_and_linear_algebra.xlsx)  \n",
    "\n",
    "1. Título de la clase   \n",
    "   \n",
    "2. Objetivo de aprendizaje que incluyan los indicadores del logro de estos objetivos. \n",
    "   \n",
    "3. Un mapa conceptual que resuma la clase elaborado en Graphviz de python con nodos y edges de diferentes formas, colores y rellenos y renderizado en la siguiente ubicación: `\"C:\\Users\\marco\\Downloads\"`.  No olvides el parámetro `view = True` para el método `render()` de Graphviz. Para este mapa controla las superposiciones de los nodos con: graph [overlap=false]; // Elimina superposiciones (puede aumentar el espacio)\n",
    "graph [overlap=\"scalexy\"]; // Escala el gráfico para evitar overlaps\n",
    "graph [overlap=\"compress\"]; // Comprime el grafo sin overlaps  \n",
    "   \n",
    "4. Elementos históricos y epistemológicos relevantes para la clase, pero narrados como una historieta al estilo de un cuentero antioqueño en Colombia. Incluye imágenes de los protagonistas históricos de esta clase.  \n",
    "   \n",
    "5. Contenido de la clase:     \n",
    "   \n",
    "          \n",
    "        \n",
    "6. Actividades de aprendizaje:   \n",
    "   \n",
    "7. Incluye una canción o un poema que ayude a interiorizar y fijar los conceptos asociados a esta clase.   \n",
    "   \n",
    "8.  Tarea o actividades de ejercitación y fijación. Incluye 20 ejercicios de tarea en las que los estudiantes empiecen con la descripción geométrica del algoritmo, luego la descripción verbal y secuencial del algoritmo, después la implementación en lenguaje python editado a través de la terminal powershell de su computador y finalmente con el cálculo a mano y en su cuaderno. Crea una función de usuario de Python que asigne esta tareas a cada uno de los estudiantes matriculados en este curso tomando la ubicación de los estudiantes dada en este prompt.  \n",
    "    \n",
    "9. Evaluación incluyendo 20 proyectos, un ejemplo de quiz (con tres items) y un ejemplo de parcial (con 5 items). Incluye evaluaciones en las que los estudiantes empiecen con la descripción geométrica del algoritmo, luego la descripción verbal y secuencial del algoritmo, después la implementación en lenguaje python editado a través de la terminal powershell de su computador, y finalmente con el cálculo algebraico y numérico a mano y en su cuaderno. \n",
    "    \n",
    "10. Diseño de actividad de retroalimentación.   \n",
    "    \n",
    "11. Dame un vocabulario y frases del idioma inglés asociadas a esta clase.    \n",
    "     \n",
    "12. Incluye apéndice para la clase sobre desarrollo de habilidades para trabajar en equipo y de asertividad y empatía para relacionarnos. También elementos de la inteligencia emocional para presentar pruebas sin temor y sin realizar fraude en ellas.    \n",
    "     \n",
    "13. Incluye 10 referentes en didáctica de la matemática que estén de acuerdo a la propuesta didáctica de esta clase. Adiciona a estos referentes a Raymond Duval (Representaciones y cambios de representación para la adquisición de conceptos matemáticos) y a [Jeannette Wing](https://es.wikipedia.org/wiki/Jeannette_Wing) (Desarrollo del pensamiento computacional). Déjame todos estos referentes ordenados de acuerdo a las normas APA. Al crear la clase, introduce las citas de estos autores en el texto de la clase.\n",
    "\n",
    "\n",
    "Pero  que este diseño sea para que el estudiante pueda aprender experimentando en cuadernos Jupyter con funciones de usuario y animaciones y visualizaciones en python.   \n",
    "\n",
    "En particular utiliza para el diseño de clase a Numpy, Pandas, SymPy, Matplotlib.pyplot, Seaborn, Plotly, ipywidgets, matplotlib.animation, TensorFlow, Keras y Jupyter Notebook.    \n",
    "\n",
    "Cada vez que utilices `matplotlib.animacion` no olvides incluir el uso de `IPython. display` para la rederización de estas animaciones a través de Jupyter Notebook. No olvides darme los diseños de clase con las ecuaciones matemáticas delimitadas con signo de dolar $ para que VS Code si me renderize estas expresiones del lenguaje latex. Cuando vallas a utilizar ipywidgets ten en cuenta la siguiente importación inicial para garantizar que la visualización interactiva si se renderize en VS Code:   \n",
    "\n",
    "import numpy as np  \n",
    "import matplotlib.pyplot as plt  \n",
    "import ipywidgets as widgets  \n",
    "\n",
    "\n",
    "\n"
   ]
  },
  {
   "cell_type": "markdown",
   "id": "996df0d7",
   "metadata": {},
   "source": [
    "# Clasificación de los ejercicios de la sección 1.1 de la treceava edición del [Swokowski](chrome-extension://efaidnbmnnnibpcajpcglclefindmkaj/https://dn720707.ca.archive.org/0/items/algebra-y-trigonometria-con-geometria-analitica-13va-edicion-earl-w.-swokowski/%C3%81lgebra%20y%20trigonometr%C3%ADa%20con%20geometr%C3%ADa%20anal%C3%ADtica,%2013va%20Edici%C3%B3n%20-%20Earl%20W.%20Swokowski.pdf) \n"
   ]
  },
  {
   "cell_type": "markdown",
   "id": "4cabc485",
   "metadata": {},
   "source": [
    "\n",
    "Prompt  \n",
    "\n",
    "Dame la clasificación por tipos de ejercicios para los 62 ejercicios de la sección 1.1 de la treceava edición del [Swokowski](chrome-extension://efaidnbmnnnibpcajpcglclefindmkaj/https://dn720707.ca.archive.org/0/items/algebra-y-trigonometria-con-geometria-analitica-13va-edicion-earl-w.-swokowski/%C3%81lgebra%20y%20trigonometr%C3%ADa%20con%20geometr%C3%ADa%20anal%C3%ADtica,%2013va%20Edici%C3%B3n%20-%20Earl%20W.%20Swokowski.pdf) y dame estrategias para resolverlos que ayuden a los estudiantes del programa de Matemáticas del Campus Caucasia de la Universidad de Antioquia (Instituto de Matemáticas). "
   ]
  },
  {
   "cell_type": "markdown",
   "id": "cc9461d3",
   "metadata": {},
   "source": [
    "No he logrado encontrar directamente en línea el detalle de los **62 ejercicios específicos** de la sección 1.1 de la 13.ª edición del *Algebra and Trigonometry with Analytic Geometry* de Swokowski (es decir, sus enunciados ni su clasificación interna) ([webassign.net][1]). "
   ]
  },
  {
   "cell_type": "markdown",
   "id": "f1054818",
   "metadata": {},
   "source": [
    "Sin embargo, puedo ofrecerte un enfoque robusto y útil que sería muy valioso para los estudiantes del programa de Matemáticas del Campus Caucasia (Instituto de Matemáticas), adaptando la estructura tradicional de ejercicios y proponiendo estrategias eficaces para abordarlos.\n",
    "\n",
    "---\n"
   ]
  },
  {
   "cell_type": "markdown",
   "id": "f19cadd4",
   "metadata": {},
   "source": [
    "\n",
    "## 1. Posible clasificación de los ejercicios (estimada, según estructura típica)\n"
   ]
  },
  {
   "cell_type": "markdown",
   "id": "1d32b5b5",
   "metadata": {},
   "source": [
    "\n",
    "Basado en la estructura de la sección 1.1 (que suele tratar “Números reales”, “propiedades”, “valor absoluto” y pruebas básicas), propongo esta clasificación tipo general (cada categoría podría tener entre 10 y 20 ejercicios, sumando aproximadamente 62):\n"
   ]
  },
  {
   "cell_type": "markdown",
   "id": "c65e55eb",
   "metadata": {},
   "source": [
    "\n",
    "1. **Conceptuales / definiciones**\n",
    "\n",
    "   * Identificar y traducir definiciones: conjunto de números reales, intervalos, desigualdades, valor absoluto, propiedades de orden de los números reales.\n",
    "\n",
    "2. **Evaluación directa / cálculo de expresiones**\n",
    "\n",
    "   * Simplificación de expresiones numéricas, comparación de números, operaciones con valor absoluto, evaluación de desigualdades.\n",
    "\n",
    "3. **Problemas de desigualdades**\n",
    "\n",
    "   * Resolver desigualdades básicas, mostrar inecuaciones verdaderas/falsas.\n",
    "\n",
    "4. **Representación en la recta real**\n",
    "\n",
    "   * Graficar intervalos o soluciones de desigualdades; interpretar soluciones numéricamente y visualmente.\n",
    "\n",
    "5. **Propiedades de operaciones**\n",
    "\n",
    "   * Verificar propiedades como conmutativa, asociativa, distributiva, identidad, inverso.\n",
    "\n",
    "6. **Aplicaciones contextuales**\n",
    "\n",
    "   * Problemas cortos que usan números reales en contextos (ej.: magnitudes, distancias, errores).\n"
   ]
  },
  {
   "cell_type": "markdown",
   "id": "b65978b9",
   "metadata": {},
   "source": [
    "# Ejercicio 61   \n",
    "\n",
    "Página 35 del PDF de Swokowski\n",
    "\n",
    "**Presión de un tornado**  \n",
    "\n",
    "Cuando un tornado pasa cerca de un edificio, hay un rápido descenso en la presión exterior y la presión interior no tiene tiempo de cambiar. La diferencia resultante es capaz de causar una presión hacia fuera de 1.4 $lb/in^{2}$ en las paredes y el cielo raso del edificio.  \n",
    "\n",
    " (a) Calcule la fuerza en libras ejercida en 1 pie cuadrado de una pared.  \n",
    " (b) Estime las toneladas de fuerza ejercidas en una pared que mide 8 pies de alto y 40 pies de ancho.  \n",
    "\n"
   ]
  },
  {
   "cell_type": "markdown",
   "id": "484a79d1",
   "metadata": {},
   "source": [
    "Vamos a resolver el problema paso a paso, resaltando las **propiedades algebraicas de los números reales** que usamos, y después te doy la **función Python modelo** para resolverlo.\n",
    "\n",
    "---\n"
   ]
  },
  {
   "cell_type": "markdown",
   "id": "3c692dff",
   "metadata": {},
   "source": [
    "\n",
    "## Problema\n",
    "\n",
    "* Presión hacia fuera:\n",
    "\n",
    "$$\n",
    "P = 1.4 \\; \\text{lb/in}^2\n",
    "$$\n",
    "\n",
    "(a) **Fuerza sobre 1 pie cuadrado de pared**  \n",
    "\n",
    "(b) **Fuerza en toneladas sobre una pared de 8 ft × 40 ft**  \n",
    "\n",
    "---\n"
   ]
  },
  {
   "cell_type": "markdown",
   "id": "0f2cf4de",
   "metadata": {},
   "source": [
    "\n",
    "##  Resolución\n"
   ]
  },
  {
   "cell_type": "markdown",
   "id": "022d4b05",
   "metadata": {},
   "source": [
    "\n",
    "### Paso 1: Relación presión-fuerza\n",
    "\n",
    "La **definición de presión** es:\n",
    "\n",
    "$$\n",
    "P = \\frac{F}{A} \\quad \\Longrightarrow \\quad F = P \\cdot A\n",
    "$$\n",
    "\n",
    "donde:\n",
    "\n",
    "* $P$ es presión,\n",
    "* $F$ es fuerza,\n",
    "* $A$ es área.\n",
    "\n",
    "Aquí usamos la **propiedad multiplicativa de la igualdad**: multiplicamos ambos lados por $A$.\n",
    "\n",
    "---\n"
   ]
  },
  {
   "cell_type": "markdown",
   "id": "4d128732",
   "metadata": {},
   "source": [
    "\n",
    "### Paso 2: Conversión de unidades\n",
    "\n",
    "Sabemos que:\n",
    "\n",
    "$$\n",
    "1 \\; \\text{ft}^2 = (12 \\; \\text{in})^2 = 144 \\; \\text{in}^2\n",
    "$$\n",
    "\n",
    "---\n"
   ]
  },
  {
   "cell_type": "markdown",
   "id": "d727d9bb",
   "metadata": {},
   "source": [
    "\n",
    "### Paso 3: Parte (a)\n",
    "\n",
    "Área de **1 pie cuadrado**:\n",
    "\n",
    "$$\n",
    "A = 144 \\; \\text{in}^2\n",
    "$$\n",
    "\n",
    "Entonces:\n",
    "\n",
    "$$\n",
    "F = P \\cdot A = (1.4 \\; \\text{lb/in}^2)(144 \\; \\text{in}^2)\n",
    "$$\n",
    "\n",
    "$$\n",
    "F = 201.6 \\; \\text{lb}\n",
    "$$\n",
    "\n",
    "Fuerza sobre **1 ft² de pared** = **201.6 lb**\n",
    "\n",
    "---\n"
   ]
  },
  {
   "cell_type": "markdown",
   "id": "aa6a7c71",
   "metadata": {},
   "source": [
    "\n",
    "### Paso 4: Parte (b)\n",
    "\n",
    "Área de pared de $8 \\; \\text{ft} \\times 40 \\; \\text{ft}$:\n",
    "\n",
    "$$\n",
    "A = 8 \\cdot 40 = 320 \\; \\text{ft}^2\n",
    "$$\n"
   ]
  },
  {
   "cell_type": "markdown",
   "id": "7aa56406",
   "metadata": {},
   "source": [
    "\n",
    "Convertimos a pulgadas cuadradas:\n",
    "\n",
    "$$\n",
    "A = 320 \\text{ft}^2 = 320 \\text{ft}^2 (1)  =  320 \\text{ft}^2 \\cdot \\frac{144 \\text{in}^{2}}{1 \\text{ft}^{2}} = 46,080 \\; \\text{in}^2\n",
    "$$\n"
   ]
  },
  {
   "cell_type": "code",
   "execution_count": 1,
   "id": "46750b69",
   "metadata": {},
   "outputs": [
    {
     "data": {
      "text/plain": [
       "46080"
      ]
     },
     "execution_count": 1,
     "metadata": {},
     "output_type": "execute_result"
    }
   ],
   "source": [
    "320*144"
   ]
  },
  {
   "cell_type": "markdown",
   "id": "4b5cb3dc",
   "metadata": {},
   "source": [
    "\n",
    "Ahora la fuerza:\n",
    "\n",
    "$$\n",
    "F = P \\cdot A = (1.4)(46,080) = 64,512 \\; \\text{lb}\n",
    "$$\n"
   ]
  },
  {
   "cell_type": "code",
   "execution_count": 2,
   "id": "18adac37",
   "metadata": {},
   "outputs": [
    {
     "data": {
      "text/plain": [
       "64511.99999999999"
      ]
     },
     "execution_count": 2,
     "metadata": {},
     "output_type": "execute_result"
    }
   ],
   "source": [
    "1.4*46080"
   ]
  },
  {
   "cell_type": "markdown",
   "id": "17c694da",
   "metadata": {},
   "source": [
    "\n",
    "Convertimos libras a **toneladas (US)**:\n",
    "\n",
    "$$\n",
    "1 \\; \\text{ton} = 2000 \\; \\text{lb}\n",
    "$$\n",
    "\n",
    "$$\n",
    "F = 64512 = 64512(1) = 64512 \\text{lb} \\cdot \\frac{1 \\text{ton}}{2000 \\text{lb}} = 32.256 \\; \\text{ton}\n",
    "$$\n"
   ]
  },
  {
   "cell_type": "code",
   "execution_count": 3,
   "id": "413741bf",
   "metadata": {},
   "outputs": [
    {
     "data": {
      "text/plain": [
       "32.256"
      ]
     },
     "execution_count": 3,
     "metadata": {},
     "output_type": "execute_result"
    }
   ],
   "source": [
    "64512/2000"
   ]
  },
  {
   "cell_type": "markdown",
   "id": "7200bc6c",
   "metadata": {},
   "source": [
    "\n",
    "Fuerza sobre la pared = **32.256 toneladas**\n",
    "\n",
    "---\n"
   ]
  },
  {
   "cell_type": "markdown",
   "id": "14787af2",
   "metadata": {},
   "source": [
    "\n",
    "## Función Python modelo\n"
   ]
  },
  {
   "cell_type": "code",
   "execution_count": 4,
   "id": "da283841",
   "metadata": {},
   "outputs": [],
   "source": [
    "\n",
    "def tornado_force(pressure_lb_in2, height_ft, width_ft):\n",
    "    \"\"\"\n",
    "    Calcula la fuerza ejercida por un tornado sobre una pared.\n",
    "    \n",
    "    Parámetros:\n",
    "    - pressure_lb_in2: presión en lb/in^2\n",
    "    - height_ft: altura de la pared en pies\n",
    "    - width_ft: ancho de la pared en pies\n",
    "    \n",
    "    Retorna:\n",
    "    - fuerza_lb: fuerza en libras\n",
    "    - fuerza_ton: fuerza en toneladas (US)\n",
    "    \"\"\"\n",
    "    # Conversión: 1 ft^2 = 144 in^2\n",
    "    area_in2 = height_ft * width_ft * 144\n",
    "    \n",
    "    # Definición de presión: F = P * A\n",
    "    fuerza_lb = pressure_lb_in2 * area_in2\n",
    "    \n",
    "    # Conversión a toneladas (1 ton = 2000 lb)\n",
    "    fuerza_ton = fuerza_lb / 2000\n",
    "    \n",
    "    return fuerza_lb, fuerza_ton\n",
    "\n"
   ]
  },
  {
   "cell_type": "code",
   "execution_count": 5,
   "id": "288ae39c",
   "metadata": {},
   "outputs": [
    {
     "name": "stdout",
     "output_type": "stream",
     "text": [
      "Fuerza en 1 ft²: 201.6 lb\n"
     ]
    }
   ],
   "source": [
    "\n",
    "# Ejemplo de uso:\n",
    "# (a) Fuerza sobre 1 ft^2\n",
    "fuerza_1ft2, _ = tornado_force(1.4, 1, 1)\n",
    "print(\"Fuerza en 1 ft²:\", fuerza_1ft2, \"lb\")\n"
   ]
  },
  {
   "cell_type": "code",
   "execution_count": 6,
   "id": "0efeb10d",
   "metadata": {},
   "outputs": [
    {
     "name": "stdout",
     "output_type": "stream",
     "text": [
      "Fuerza total: 64511.99999999999 lb = 32.25599999999999 ton\n"
     ]
    }
   ],
   "source": [
    "\n",
    "# (b) Fuerza sobre pared de 8x40 ft\n",
    "fuerza_lb, fuerza_ton = tornado_force(1.4, 8, 40)\n",
    "print(\"Fuerza total:\", fuerza_lb, \"lb =\", fuerza_ton, \"ton\")\n",
    "\n"
   ]
  },
  {
   "cell_type": "markdown",
   "id": "747c568c",
   "metadata": {},
   "source": [
    "\n",
    "---\n",
    " Resultados esperados:\n",
    "\n",
    "* (a) **201.6 lb**\n",
    "* (b) **64,512 lb = 32.256 ton**\n",
    "\n"
   ]
  },
  {
   "cell_type": "markdown",
   "id": "b3c73d58",
   "metadata": {},
   "source": [
    "# Solución de este ejercicio en formato de guía didáctica  \n",
    "\n"
   ]
  },
  {
   "cell_type": "markdown",
   "id": "a0d3d375",
   "metadata": {},
   "source": [
    "Está pensada para un grupo de Licenciatura en Matemáticas: contiene pasos guiados, preguntas intermedias con respuestas esperadas, actividades prácticas (incluyendo la implementación en Python), y sugerencias de evaluación y diferenciación.\n",
    "\n",
    "---\n"
   ]
  },
  {
   "cell_type": "markdown",
   "id": "745a4af9",
   "metadata": {},
   "source": [
    "\n",
    "# Guía didáctica: Fuerza ejercida por una presión (problema del tornado)\n"
   ]
  },
  {
   "cell_type": "markdown",
   "id": "27ac5ec7",
   "metadata": {},
   "source": [
    "\n",
    "**Objetivo de la sesión**\n",
    "Que el estudiante aplique la relación $P=\\dfrac{F}{A}$ para calcular fuerzas a partir de presiones, realice conversiones de unidades coherentes, identifique y explique las propiedades algebraicas empleadas y modele la situación con una función de usuario en Python.\n"
   ]
  },
  {
   "cell_type": "markdown",
   "id": "209113e3",
   "metadata": {},
   "source": [
    "\n",
    "**Duración sugerida:** 45–60 min (puede hacerse parte de una sesión de laboratorio en Jupyter).\n",
    "\n",
    "---\n"
   ]
  },
  {
   "cell_type": "markdown",
   "id": "3ec70291",
   "metadata": {},
   "source": [
    "\n",
    "## I. Resumen del problema (en voz del estudiante)\n",
    "\n",
    "Cuando un tornado pasa cerca de un edificio hay una caída rápida de la presión exterior y la presión interior no cambia en el instante. Esa diferencia genera una presión hacia fuera de $1.4\\ \\mathrm{lb/in^2}$ en las paredes.  \n",
    "\n",
    "(a) ¿Cuál es la fuerza en libras sobre $1\\ \\mathrm{ft^2}$ de pared?\n",
    "(b) ¿Cuántas toneladas de fuerza corresponden a una pared de $8\\ \\mathrm{ft}\\times40\\ \\mathrm{ft}$?\n",
    "\n",
    "---\n"
   ]
  },
  {
   "cell_type": "markdown",
   "id": "990e5ad8",
   "metadata": {},
   "source": [
    "Muy buena pregunta 👌\n",
    "\n",
    "En **LaTeX**, la abreviación `\\mathrm{}` significa **math roman (fuente romana dentro de modo matemático)**.\n",
    "\n",
    "🔹 **¿Qué hace?**\n",
    "Cuando estás en **modo matemático** en LaTeX (entre `$ ... $` o `\\[ ... \\]`), las letras se muestran *en cursiva* por defecto (ejemplo: $x, y, z$).\n",
    "\n",
    "Si usas `\\mathrm{}`, el contenido se muestra en **letras rectas (roman)**, como si fuera texto normal, pero dentro de la expresión matemática.\n",
    "\n",
    "---\n",
    "\n",
    "### Ejemplo:\n",
    "\n",
    "```latex\n",
    "$E = mc^2$\n",
    "```\n",
    "\n",
    "👉 Muestra: $E = mc^2$  (las letras en cursiva).\n",
    "\n",
    "```latex\n",
    "$E = \\mathrm{mc}^2$\n",
    "```\n",
    "\n",
    "👉 Muestra: $E = \\mathrm{mc}^2$  (la parte `mc` en letras rectas).\n",
    "\n",
    "---\n",
    "\n",
    "### Usos típicos de `\\mathrm{}`:\n",
    "\n",
    "1. Para escribir **unidades de medida** en modo matemático:\n",
    "\n",
    "   ```latex\n",
    "   $5 \\ \\mathrm{kg}$\n",
    "   ```\n",
    "\n",
    "   $5 \\ \\mathrm{kg}$\n",
    "\n",
    "2. Para escribir **constantes matemáticas o abreviaciones**:\n",
    "\n",
    "   ```latex\n",
    "   $\\mathrm{Re}(z)$\n",
    "   ```\n",
    "\n",
    "   $\\mathrm{Re}(z)$ (parte real de un número complejo).\n",
    "\n",
    "3. Para nombres en ecuaciones (cuando quieres diferenciar de variables):\n",
    "\n",
    "   ```latex\n",
    "   $V = \\mathrm{Volumen}$\n",
    "   ```\n",
    "\n",
    "---\n"
   ]
  },
  {
   "cell_type": "markdown",
   "id": "3dbc9fcb",
   "metadata": {},
   "source": [
    "\n",
    "En resumen:\n",
    "`\\mathrm{}` cambia las letras a **roman recto** dentro de expresiones matemáticas, útil para **unidades, constantes o nombres** que no deben verse como variables en cursiva.\n",
    "\n",
    "---\n",
    "\n",
    "¿Quieres que te muestre un **mini cuaderno Jupyter en Python con SymPy + LaTeX** donde uses `\\mathrm{}` para escribir ecuaciones con unidades y constantes?\n"
   ]
  },
  {
   "cell_type": "markdown",
   "id": "89fce046",
   "metadata": {},
   "source": [
    "\n",
    "## II. Materiales y recursos\n",
    "\n",
    "* Pizarra o proyector (para mostrar pasos).\n",
    "* Calculadora o Jupyter Notebook con Python (recomendado).\n",
    "* (Opcional) Hoja de trabajo impresa con la tabla de conversión de unidades.\n",
    "\n",
    "---\n"
   ]
  },
  {
   "cell_type": "markdown",
   "id": "44ef1e04",
   "metadata": {},
   "source": [
    "\n",
    "## III. Pasos guiados con preguntas intermedias\n"
   ]
  },
  {
   "cell_type": "markdown",
   "id": "34fdcf82",
   "metadata": {},
   "source": [
    "\n",
    "### Paso 1 — Recordar la definición física\n",
    "\n",
    "**Concepto:** Presión \\$P\\$ es fuerza por unidad de área:\n",
    "\n",
    "$$\n",
    "P=\\frac{F}{A}\\quad\\Longrightarrow\\quad F=P\\cdot A.\n",
    "$$\n"
   ]
  },
  {
   "cell_type": "markdown",
   "id": "6f2f6c37",
   "metadata": {},
   "source": [
    "\n",
    "**Pregunta 1 (discusión):** Si \\$P\\$ es constante en una superficie, ¿cómo cambia \\$F\\$ cuando aumenta el área?\n",
    "**Respuesta esperada:** \\$F\\$ aumenta proporcionalmente al área (propiedad multiplicativa: si \\$A\\$ se duplica, \\$F\\$ se duplica).\n",
    "\n",
    "---\n"
   ]
  },
  {
   "cell_type": "markdown",
   "id": "c9f54474",
   "metadata": {},
   "source": [
    "\n",
    "### Paso 2 — Unidades y conversión (propiedad usada: multiplicativa sobre escala de unidades)\n",
    "\n",
    "Recordar: \\$1\\ \\mathrm{ft}=12\\ \\mathrm{in}\\Rightarrow 1\\ \\mathrm{ft^2}=(12\\ \\mathrm{in})^2=144\\ \\mathrm{in^2}\\$.\n",
    "\n",
    "**Pregunta 2 (cálculo):** ¿Por qué es necesario convertir pies cuadrados a pulgadas cuadradas antes de aplicar \\$P\\$ dado en \\$\\mathrm{lb/in^2}\\$?\n",
    "**Respuesta esperada:** Porque la presión está en \\$\\mathrm{lb/in^2}\\$; las unidades deben ser homogéneas para que \\$F=P\\cdot A\\$ dé libras.\n",
    "\n",
    "---\n"
   ]
  },
  {
   "cell_type": "markdown",
   "id": "e1051df0",
   "metadata": {},
   "source": [
    "\n",
    "### Paso 3 — Parte (a): Fuerza sobre \\$1\\ \\mathrm{ft^2}\\$\n",
    "\n",
    "Área: \\$A=1\\ \\mathrm{ft^2}=144\\ \\mathrm{in^2}\\$.\n",
    "\n",
    "$$\n",
    "F = P\\cdot A = 1.4\\;\\frac{\\mathrm{lb}}{\\mathrm{in^2}}\\times 144\\ \\mathrm{in^2} = 201.6\\ \\mathrm{lb}.\n",
    "$$\n",
    "\n",
    "**Pregunta 3 (verificación):** ¿Qué propiedad algebraica se usa al multiplicar \\$P\\$ por \\$A\\$?\n",
    "**Respuesta esperada:** Propiedad distributiva no es necesaria aquí; se usa la propiedad multiplicativa de la igualdad/definición: reemplazo directo \\$F=P\\cdot A\\$. También se usa cancelación de unidades (in² se anulan).\n",
    "\n",
    "---\n"
   ]
  },
  {
   "cell_type": "markdown",
   "id": "166a0a18",
   "metadata": {},
   "source": [
    "\n",
    "### Paso 4 — Parte (b): Fuerza total en pared de \\$8\\times40\\ \\mathrm{ft}\\$\n",
    "\n",
    "Área en pies cuadrados: \\$A\\_{ft^2}=8\\times40=320\\ \\mathrm{ft^2}\\$.\n",
    "Convertir a pulgadas cuadradas: \\$A=320\\times144=46080\\ \\mathrm{in^2}\\$.\n",
    "Fuerza en libras:\n",
    "\n",
    "$$\n",
    "F = 1.4\\times46080 = 64512\\ \\mathrm{lb}.\n",
    "$$\n",
    "\n",
    "Convertir a toneladas (sistema US): \\$1\\ \\text{ton} = 2000\\ \\mathrm{lb}\\$, entonces:\n",
    "\n",
    "$$\n",
    "F_{\\text{ton}}=\\frac{64512}{2000}=32.256\\ \\text{ton}.\n",
    "$$\n"
   ]
  },
  {
   "cell_type": "markdown",
   "id": "e51ef593",
   "metadata": {},
   "source": [
    "\n",
    "**Pregunta 4 (sentido físico):** ¿Qué significa que la pared soporte 32.256 toneladas de fuerza?\n",
    "**Respuesta esperada:** Es la fuerza total aplicada por la diferencia de presión; para evaluar el daño habría que comparar con la resistencia estructural de la pared.\n",
    "\n",
    "---\n"
   ]
  },
  {
   "cell_type": "markdown",
   "id": "3cc80c67",
   "metadata": {},
   "source": [
    "\n",
    "## IV. Propiedades algebraicas utilizadas (resaltadas)\n",
    "\n",
    "1. **Multiplicativa de la igualdad / definición:** de $P=F/A$ se obtiene $F=P\\cdot A$.\n",
    "2. **Operaciones con potencias de 10 y cuadrados:** al convertir unidades se aplica $(cf)^2 = c^2 f^2\\$; en particular \\$(12\\ \\text{in/ft})^2 = 144\\ \\text{in}^2/\\text{ft}^2$.\n",
    "3. **Linealidad:** si la presión es uniforme, fuerza total es proporcional al área.\n",
    "4. **Propiedad de escala / proporcionalidad:** multiplicación por constantes para cambiar unidades.\n",
    "5. **Propiedad distributiva** no se usa explícitamente en el cálculo básico, pero es importante al plantear expresiones más complejas.\n",
    "\n",
    "---\n"
   ]
  },
  {
   "cell_type": "markdown",
   "id": "05736c31",
   "metadata": {},
   "source": [
    "\n",
    "## V. Actividad práctica guiada (para pares o pequeños grupos)\n",
    "\n",
    "1. **Paso A — Calcular a mano** (10–15 min)\n",
    "\n",
    "   * Cada pareja calcula (a) y (b) en su cuaderno y verifica las unidades paso a paso.\n",
    "   * Entregar un breve justificante de cada paso (por ejemplo: “multiplicamos P por A porque…”).\n",
    "\n",
    "2. **Paso B — Implementar en Python** (20–25 min) *(Jupyter Notebook)*\n",
    "\n",
    "   * Mostrar y ejecutar la función de usuario que modela el problema (ver más abajo).\n",
    "   * Pedir a las parejas que usen la función para dos casos más:\n",
    "\n",
    "     * P = 2.0 lb/in², pared 10 ft × 30 ft\n",
    "     * P = 0.8 lb/in², pared 12 ft × 20 ft\n",
    "\n",
    "3. **Paso C — Pregunta de reflexión (5 min)**\n",
    "\n",
    "   * ¿Qué suposiciones físicas hicimos (uniformidad de presión, ≈ presión instantánea)? ¿Cómo afectarían las variaciones en la presión o en la resistencia estructural?\n",
    "\n",
    "---\n"
   ]
  },
  {
   "cell_type": "markdown",
   "id": "982bc8a3",
   "metadata": {},
   "source": [
    "\n",
    "## VI. Función de usuario en Python (modelo)\n",
    "\n",
    "Pega este código en una celda de Jupyter y ejecútalo:\n"
   ]
  },
  {
   "cell_type": "code",
   "execution_count": null,
   "id": "0b16de90",
   "metadata": {},
   "outputs": [],
   "source": [
    "\n",
    "```python\n",
    "# Modelo: fuerza por presión\n",
    "def tornado_force(pressure_lb_in2, height_ft, width_ft):\n",
    "    \"\"\"\n",
    "    Calcula la fuerza (lb) y en toneladas (US tons) ejercida sobre una pared rectangular.\n",
    "    \n",
    "    Parameters:\n",
    "        pressure_lb_in2: presión en lb/in^2 (float)\n",
    "        height_ft: altura de la pared en pies (float)\n",
    "        width_ft: ancho de la pared en pies (float)\n",
    "        \n",
    "    Returns:\n",
    "        (fuerza_lb, fuerza_ton): tuple con fuerza en libras y en toneladas (float)\n",
    "    \"\"\"\n",
    "    # 1 pie = 12 pulgadas => 1 ft^2 = 144 in^2\n",
    "    area_in2 = height_ft * width_ft * 144.0\n",
    "    fuerza_lb = pressure_lb_in2 * area_in2\n",
    "    fuerza_ton = fuerza_lb / 2000.0  # 1 ton (US) = 2000 lb\n",
    "    return fuerza_lb, fuerza_ton\n",
    "\n",
    "# Ejemplo de ejecución para el problema dado\n",
    "f1_lb, f1_ton = tornado_force(1.4, 1, 1)      # (a) 1 ft^2\n",
    "f2_lb, f2_ton = tornado_force(1.4, 8, 40)     # (b) pared 8x40 ft\n",
    "\n",
    "print(f\"(a) Fuerza sobre 1 ft^2: {f1_lb:.3f} lb\")\n",
    "print(f\"(b) Fuerza sobre 8x40 ft: {f2_lb:.3f} lb = {f2_ton:.3f} tons (US)\")\n",
    "\n"
   ]
  },
  {
   "cell_type": "markdown",
   "id": "f4063832",
   "metadata": {},
   "source": [
    "\n",
    "**Salida esperada:**\n",
    "\n",
    "```\n",
    "(a) Fuerza sobre 1 ft^2: 201.600 lb\n",
    "(b) Fuerza sobre 8x40 ft: 64512.000 lb = 32.256 tons (US)\n",
    "```\n",
    "\n",
    "---\n"
   ]
  },
  {
   "cell_type": "markdown",
   "id": "a7f2e932",
   "metadata": {},
   "source": [
    "\n",
    "## VII. Extensiones y variaciones (para profundizar)\n"
   ]
  },
  {
   "cell_type": "markdown",
   "id": "109aa103",
   "metadata": {},
   "source": [
    "\n",
    "* **Variación de presión:** pide a las parejas que tracen (con Matplotlib) la fuerza total en función de la presión $P$ para la pared fija $8\\times40$.\n",
    "* **Sensibilidad al área:** grafica cómo cambia la fuerza si la altura varía de 2 a 12 ft (con ancho fijo).\n",
    "* **Unidades métricas:** rehaz el problema usando $1\\ \\mathrm{lb}=0.45359237\\ \\mathrm{kg}$, y reporta la fuerza en kilonewtons (kN).\n",
    "* **Comparación estructural:** investigar (fuera de clase) valores típicos de carga admisible para muros y comparar.\n",
    "\n",
    "---\n"
   ]
  },
  {
   "cell_type": "markdown",
   "id": "44b7b626",
   "metadata": {},
   "source": [
    "\n",
    "## VIII. Actividades de evaluación formativa (rúbrica sugerida)\n",
    "\n",
    "**Criterios (cada uno /20 pts, total 100):**\n",
    "\n",
    "1. **Exactitud numérica (20 pts):** resultados correctos en lb y toneladas.\n",
    "2. **Manejo de unidades (20 pts):** conversiones claras y correctas.\n",
    "3. **Justificación matemática (20 pts):** explicación de propiedades algebraicas usadas.\n",
    "4. **Implementación en Python (20 pts):** función correcta, entradas/outputs adecuados.\n",
    "5. **Reflexión física (20 pts):** identificación de supuestos y posibles limitaciones.\n",
    "\n",
    "---\n"
   ]
  },
  {
   "cell_type": "markdown",
   "id": "079f72b5",
   "metadata": {},
   "source": [
    "\n",
    "## IX. Preguntas de comprensión (para el cierre)\n",
    "\n",
    "1. ¿Por qué no podemos multiplicar \\$P\\$ (en \\$\\mathrm{lb/in^2}\\$) por un área en \\$\\mathrm{ft^2}\\$ sin convertir unidades?\n",
    "2. Si duplicamos la presión manteniendo la misma área, ¿qué pasa con la fuerza? ¿Qué propiedad matemática lo explica?\n",
    "3. ¿Qué diferencias prácticas hay entre reportar fuerza en libras y en toneladas? ¿Qué ventajas da cada unidad?\n",
    "\n",
    "---\n"
   ]
  },
  {
   "cell_type": "markdown",
   "id": "fe127590",
   "metadata": {},
   "source": [
    "\n",
    "## X. Sugerencia de entrega y evidencias\n",
    "\n",
    "* Entregable: Notebook (.ipynb) con:\n",
    "\n",
    "  1. Cálculos escritos (markdown).\n",
    "  2. Código de la función y ejecución.\n",
    "  3. Gráficas (si hicieron las extensiones).\n",
    "  4. Respuestas a las reflexiones.\n",
    "* Alternativa en papel: hojas con cálculos y copia del resultado del código.\n",
    "\n",
    "---\n"
   ]
  },
  {
   "cell_type": "markdown",
   "id": "9608c2be",
   "metadata": {},
   "source": [
    "# Ejercicio 62 de la sección 1.1  Página 35 del PDF Swokowski en 13Ed. \n",
    "\n",
    "62. Población de ganado:   \n",
    "    \n",
    "Un ranchero tiene 750 cabezas de ganado formado por 400 adultos (de 2 años o más), 150 de un año y 200 becerros. La siguiente información se conoce  acerca de esta especie particular.   \n",
    "\n",
    "Cada primavera una hembra adulta tiene un solo becerro y $75\\%$ de estos becerros sobrevivirá el primer año.   \n",
    "\n",
    "Los porcentajes anuales de supervivencia de animales de un año y de adultos es 80% y 90%, respectivamente.   \n",
    "\n",
    "La proporción macho-hembra es uno en todas las clases de edad.   \n",
    "\n",
    "Estime la población de cada clase de edad   \n",
    " \n",
    "(a) en la siguiente primavera\n",
    "(b) en la última primavera"
   ]
  },
  {
   "cell_type": "markdown",
   "id": "2a51cb8b",
   "metadata": {},
   "source": [
    "Prompt  para la solicitud de la solución en forma de guí didáctica\n",
    "\n",
    "Por favor, prepárame la resolución del siguiente problema en formato de guía didáctica (con pasos y preguntas intermedias para mis estudiantes) y llevándolos a modelar el problemas a través de funciones de usuario de Python: \"Un ranchero tiene 750 cabezas de ganado formado por 400 adultos (de 2 años o más), 150 de un año y 200 becerros. La siguiente información se conoce  acerca de esta especie particular. Cada primavera una hembra adulta tiene un solo becerro y $75\\%$ de estos becerros sobrevivirá el primer año. Los porcentajes anuales de supervivencia de animales de un año y de adultos es 80% y 90%, respectivamente. La proporción macho-hembra es uno a uno en todas las clases de edad. Estime la población de cada clase de edad   \n",
    " \n",
    "(a) en la siguiente primavera\n",
    "(b) en la última primavera\""
   ]
  },
  {
   "cell_type": "markdown",
   "id": "49e90d19",
   "metadata": {},
   "source": [
    "Te entrego la **guía didáctica** (lista para usar en clase) que incluye:\n"
   ]
  },
  {
   "cell_type": "markdown",
   "id": "b8e6d847",
   "metadata": {},
   "source": [
    "\n",
    "* pasos y preguntas intermedias para tus estudiantes,\n",
    "* las propiedades algebraicas de los números reales resaltadas,\n",
    "* el **modelo de proyección por clases de edad** (matriz tipo Leslie para 3 clases),\n",
    "* funciones de usuario en Python para **simular año a año**, calcular la **distribución estable** y visualizar resultados (Jupyter-ready).\n"
   ]
  },
  {
   "cell_type": "markdown",
   "id": "fdb80d10",
   "metadata": {},
   "source": [
    "\n",
    "Vamos a interpretar las clases de edad como: \n",
    "\n",
    "* **becerros (0 años)**, \n",
    "* **un año**, \n",
    "* **adultos (≥2 años)**.\n",
    "\n",
    "\n"
   ]
  },
  {
   "cell_type": "markdown",
   "id": "deab11af",
   "metadata": {},
   "source": [
    "\n",
    "# Guía didáctica: Población de ganado (problema 62)\n"
   ]
  },
  {
   "cell_type": "markdown",
   "id": "5728e2cc",
   "metadata": {},
   "source": [
    "\n",
    "**Enunciado resumido:**\n",
    "Un ranchero tiene 750 cabezas: 400 adultos, 150 de 1 año y 200 becerros. Cada primavera una hembra adulta tiene 1 becerro; 75% de los becerros sobreviven el primer año; la supervivencia de los de 1 año es 80% y la de adultos es 90%; proporción macho-hembra 1:1. Estimar la población de cada clase de edad (a) en la siguiente primavera; (b) en la “última primavera” (interpretaremos como distribución a largo plazo / estado estable).\n",
    "\n",
    "---\n"
   ]
  },
  {
   "cell_type": "markdown",
   "id": "72f02d36",
   "metadata": {},
   "source": [
    "\n",
    "## Resumen del modelo y su justificación\n"
   ]
  },
  {
   "cell_type": "markdown",
   "id": "46f884b3",
   "metadata": {},
   "source": [
    "\n",
    "* **Variables de estado** (vector columna): $x_t = \\begin{bmatrix} C_t \\\\ Y_t \\\\ A_t \\end{bmatrix}$ donde\n",
    "  $C$ = becerros, $Y$ = animales de 1 año, $A$ = adultos (≥2 años).\n",
    "* **Nacimientos**: cada hembra adulta hace 1 becerro por primavera. Si la proporción macho-hembra es 1:1, las hembras son la mitad de los adultos; entonces el número total de nacimientos es $0.5\\cdot A_t$. Eso da la ecuación de entrada para becerros:\n",
    "\n",
    "  $$\n",
    "  C_{t+1} = 0.5\\, A_t.\n",
    "  $$\n",
    "\n",
    "  El subíndice es para denotar el ántes $t$ y el después con $t + 1$\n"
   ]
  },
  {
   "cell_type": "markdown",
   "id": "d1e5a3e5",
   "metadata": {},
   "source": [
    "* **Supervivencias y pases de clase**:\n",
    "\n",
    "  * Becerro → 1 año con probabilidad $s_C = 0.75$: $Y_{t+1} = 0.75\\, C_t$.\n",
    "  * 1 año → adulto con probabilidad $s_Y = 0.80.\n",
    "  * adultos sobreviven con probabilidad $s_A = 0.90$ y permanecen en clase adulta: $A_{t+1} = 0.8\\, Y_t + 0.9\\, A_t$.\n"
   ]
  },
  {
   "cell_type": "markdown",
   "id": "1353f3dd",
   "metadata": {},
   "source": [
    "* **Matriz de proyección (Leslie-like, 3×3)**:\n",
    "\n",
    "  $$\n",
    "  L = \\begin{bmatrix}\n",
    "  0 & 0 & 0.5\\\\[4pt]\n",
    "  0.75 & 0 & 0 \\\\[4pt]\n",
    "  0 & 0.8 & 0.9\n",
    "  \\end{bmatrix}\n",
    "  $$\n",
    "\n",
    "  y $x_{t+1} = L\\, x_t$.\n"
   ]
  },
  {
   "cell_type": "markdown",
   "id": "80beebfb",
   "metadata": {},
   "source": [
    "Donde $x_{i}$ es un vector columna y para multiplicar matrices por vectores, se realiza multiplicando foilas de L por la columna $x_{i}$"
   ]
  },
  {
   "cell_type": "markdown",
   "id": "ee3451bc",
   "metadata": {},
   "source": [
    "\n",
    "**Propiedades algebraicas usadas (resaltadas para estudiantes):**\n",
    "\n",
    "* linealidad: la evolución se escribe como multiplicación matricial $x_{t+1}=Lx_t$ (uso de la **propiedad distributiva y asociativa** en suma y producto de reales para componer aportes);\n",
    "* proporcionalidad: supervivencias y nacimientos son factores multiplicativos (propiedad multiplicativa);\n",
    "* conversión de conteos por clases se implementa con combinación lineal (suma de contribuciones).\n",
    "\n",
    "---\n"
   ]
  },
  {
   "cell_type": "markdown",
   "id": "cbe74538",
   "metadata": {},
   "source": [
    "\n",
    "## Solución manual guiada (pasos con preguntas)\n"
   ]
  },
  {
   "cell_type": "markdown",
   "id": "8411e1c5",
   "metadata": {},
   "source": [
    "\n",
    "### Datos iniciales\n",
    "\n",
    "$x_0 = \\begin{bmatrix} C_0 \\\\ Y_0 \\\\ A_0 \\end{bmatrix} = \\begin{bmatrix}200 \\\\ 150 \\\\ 400 \\end{bmatrix}$.\n"
   ]
  },
  {
   "cell_type": "markdown",
   "id": "59f3ffe0",
   "metadata": {},
   "source": [
    "\n",
    "### (a) **Siguiente primavera** — cálculo paso a paso\n"
   ]
  },
  {
   "cell_type": "markdown",
   "id": "799ea338",
   "metadata": {},
   "source": [
    "\n",
    "1. **Cálculo de becerros nuevos**:\n",
    "\n",
    "   $$\n",
    "   C_1 = 0.5 \\cdot A_0 = 0.5 \\times 400 = 200.\n",
    "   $$\n",
    "\n",
    "   * *Pregunta intermedia:* ¿por qué multiplicamos por 0.5? (respuesta: la mitad de los adultos son hembras).\n"
   ]
  },
  {
   "cell_type": "markdown",
   "id": "b2de3047",
   "metadata": {},
   "source": [
    "2. **Becerros que pasan a 1 año**:\n",
    "\n",
    "   $$\n",
    "   Y_1 = 0.75 \\cdot C_0 = 0.75 \\times 200 = 150.\n",
    "   $$\n",
    "\n",
    "   * *Pregunta intermedia:* ¿qué significa 0.75 en el contexto? (respuesta: tasa de supervivencia primer año).\n"
   ]
  },
  {
   "cell_type": "markdown",
   "id": "e90a3a71",
   "metadata": {},
   "source": [
    "3. **Adultos la siguiente primavera**:\n",
    "\n",
    "   $$\n",
    "   A_1 = 0.8 \\cdot Y_0 + 0.9 \\cdot A_0 = 0.8\\times150 + 0.9\\times400 = 120 + 360 = 480.\n",
    "   $$\n",
    "\n",
    "   * *Pregunta intermedia:* ¿por qué sumamos ambas cantidades? (respuesta: aportes de la cohorte de 1 año que envejecen y los adultos que sobreviven).\n"
   ]
  },
  {
   "cell_type": "markdown",
   "id": "48b42642",
   "metadata": {},
   "source": [
    "\n",
    "**Resultado (a):**\n",
    "\n",
    "$$\n",
    "x_1 = \\begin{bmatrix}200 \\\\ 150 \\\\ 480\\end{bmatrix}.\n",
    "$$\n",
    "\n",
    "Total población pasa de 750 → 830.\n"
   ]
  },
  {
   "cell_type": "markdown",
   "id": "bf3199a6",
   "metadata": {},
   "source": [
    "\n",
    "# (b) **“Última primavera” — interpretación y procedimiento**\n"
   ]
  },
  {
   "cell_type": "markdown",
   "id": "b0898e07",
   "metadata": {},
   "source": [
    "\n",
    "La expresión “última primavera” no especifica un año finito; una interpretación didáctica útil es **estudiar el comportamiento a largo plazo**: la población tiende a crecer o decrecer geométricamente y las proporciones por clase tienden a una **distribución estable** dada por el eigenvector dominante de $L$. Procedimiento:\n"
   ]
  },
  {
   "cell_type": "markdown",
   "id": "a8f24f0c",
   "metadata": {},
   "source": [
    "\n",
    "1. Simular $x_{t+1}=L x_t$ repetidamente (por ejemplo 30–100 años) y observar si las proporciones por clase convergen. Siendo que \n",
    "\n",
    "$$\n",
    "  L = \\begin{bmatrix}\n",
    "  0 & 0 & 0.5\\\\[4pt]\n",
    "  0.75 & 0 & 0 \\\\[4pt]\n",
    "  0 & 0.8 & 0.9\n",
    "  \\end{bmatrix}\n",
    "  $$\n",
    "\n",
    "  y $x_0 = \\begin{bmatrix} C_0 \\\\ Y_0 \\\\ A_0 \\end{bmatrix} = \\begin{bmatrix}200 \\\\ 150 \\\\ 400 \\end{bmatrix}$. "
   ]
  },
  {
   "cell_type": "code",
   "execution_count": 4,
   "id": "d56c9d18",
   "metadata": {},
   "outputs": [
    {
     "data": {
      "image/png": "[encoded data removed]",
      "text/plain": [
       "<Figure size 1000x600 with 1 Axes>"
      ]
     },
     "metadata": {},
     "output_type": "display_data"
    }
   ],
   "source": [
    "import matplotlib.pyplot as plt\n",
    "\n",
    "# Número de años a simular\n",
    "n_years = 100\n",
    "\n",
    "# Inicializar matriz para guardar la evolución de las clases\n",
    "history = np.zeros((n_years + 1, 3))\n",
    "history[0] = x0\n",
    "\n",
    "# Simulación\n",
    "for t in range(1, n_years + 1):\n",
    "    history[t] = L @ history[t-1]\n",
    "\n",
    "# Calcular proporciones por clase\n",
    "proportions = history / history.sum(axis=1, keepdims=True)\n",
    "\n",
    "# Graficar proporciones\n",
    "plt.figure(figsize=(10, 6))\n",
    "plt.plot(proportions[:, 0], label='Becerros (0 años)')\n",
    "plt.plot(proportions[:, 1], label='Un año')\n",
    "plt.plot(proportions[:, 2], label='Adultos (≥2 años)')\n",
    "plt.xlabel('Años')\n",
    "plt.ylabel('Proporción de la población')\n",
    "plt.title('Convergencia de proporciones por clase de edad')\n",
    "plt.legend()\n",
    "plt.grid(True)\n",
    "plt.tight_layout()\n",
    "plt.show()"
   ]
  },
  {
   "cell_type": "markdown",
   "id": "cba8cec5",
   "metadata": {},
   "source": [
    "2. Calcular el **autovalor dominante** $\\lambda$ de $L$ (tasa de crecimiento anual) y su **autovector asociado** (distribución estable).\n",
    "\n",
    "   * Si $\\lambda>1$ → crecimiento exponencial de la población; si $\\lambda<1$ → decrecimiento; si $\\lambda=1$ → equilibrio.\n"
   ]
  },
  {
   "cell_type": "markdown",
   "id": "58e0582d",
   "metadata": {},
   "source": [
    "3. Interpretar la distribución estable como “la fracción de la población en cada clase cuando la población ya no cambia proporcionalmente entre clases”.\n"
   ]
  },
  {
   "cell_type": "markdown",
   "id": "933a99ce",
   "metadata": {},
   "source": [
    "\n",
    "**Resultados numéricos (mediante simulación / cálculo numérico):**\n",
    "\n",
    "* Tasa de crecimiento dominante (autovalor mayor): $\\lambda \\approx 1.1335$ → crecimiento \\~13.35% por primavera.\n",
    "* Distribución estable (proporciones de clases, normalizadas) aproximadamente:\n",
    "\n",
    "  * becerros ≈ 25.45%,\n",
    "  * un año ≈ 16.84%,\n",
    "  * adultos ≈ 57.70%.\n",
    "\n",
    "Entonces, en la “última primavera” (estado estable) la población habrá crecido sin límite si no limitamos por recursos; la fracción por clase tenderá a esas proporciones. (Si quieres valores absolutos, toma un año grande de la simulación; por ejemplo tras 50 iteraciones con el vector inicial se obtienen números muy grandes — mejor reportar proporciones o hacer simulación con capacidad de carga si se desea realismo).\n",
    "\n",
    "---\n"
   ]
  },
  {
   "cell_type": "markdown",
   "id": "ed5d2f7d",
   "metadata": {},
   "source": [
    "\n",
    "## Actividad guiada en clase (secuencia)\n",
    "\n",
    "1. **Motivación (5 min):** lectura del enunciado y diagnóstico rápido de hipótesis (¿Qué supuestos hay? uniformidad, proporción 1:1, reproducción solo adultas, etc.).\n",
    "\n",
    "   * *Pregunta:* ¿Qué efecto tiene suponer 1 cría por hembra por año? ¿Cómo cambiaría el modelo si hubiera 1.5 crías promedio por hembra?\n",
    "\n",
    "2. **Cálculo a mano en parejas (10 min):** resolver (a) siguiendo los pasos previos.\n",
    "\n",
    "3. **Implementación en Jupyter (25 min):** ejecutar la simulación con la función provista (ver abajo), explorar resultados para varios años, graficar evolución y observar la distribución estable.\n",
    "\n",
    "4. **Reflexión y preguntas (10 min):** discutir implicaciones, sensibilidad a parámetros, y supuestos realistas (capacidad de pastoreo, mortalidad dependiente de densidad).\n",
    "\n",
    "---\n"
   ]
  },
  {
   "cell_type": "markdown",
   "id": "bfe3c622",
   "metadata": {},
   "source": [
    "\n",
    "## Funciones de usuario en Python (para Jupyter)\n",
    "\n",
    "Copia y pega estas celdas en un Notebook. Son autocontenidas y reproducibles.\n"
   ]
  },
  {
   "cell_type": "code",
   "execution_count": 3,
   "id": "f542a99f",
   "metadata": {},
   "outputs": [],
   "source": [
    "# Celda 1: imports y matriz L\n",
    "import numpy as np\n",
    "import matplotlib.pyplot as plt\n",
    "from IPython.display import display, Markdown\n",
    "\n",
    "# Parámetros\n",
    "s_C = 0.75   # supervivencia becerros -> 1 año\n",
    "s_Y = 0.80   # supervivencia 1 año -> adulto\n",
    "s_A = 0.90   # supervivencia adultos -> adultos\n",
    "fec = 0.5    # nacimientos por adulto (1 cría/female => 0.5 * total adultos)\n",
    "\n",
    "# Matriz de proyección L\n",
    "L = np.array([\n",
    "    [0.0,    0.0, fec],\n",
    "    [s_C,    0.0, 0.0],\n",
    "    [0.0,   s_Y, s_A]\n",
    "])\n",
    "\n",
    "# Estado inicial (C, Y, A)\n",
    "x0 = np.array([200., 150., 400.])\n",
    "\n"
   ]
  },
  {
   "cell_type": "code",
   "execution_count": 2,
   "id": "b9c78395",
   "metadata": {},
   "outputs": [
    {
     "ename": "NameError",
     "evalue": "name 'L' is not defined",
     "output_type": "error",
     "traceback": [
      "\u001b[31m---------------------------------------------------------------------------\u001b[39m",
      "\u001b[31mNameError\u001b[39m                                 Traceback (most recent call last)",
      "\u001b[36mCell\u001b[39m\u001b[36m \u001b[39m\u001b[32mIn[2]\u001b[39m\u001b[32m, line 16\u001b[39m\n\u001b[32m     13\u001b[39m     \u001b[38;5;28;01mreturn\u001b[39;00m hist\n\u001b[32m     15\u001b[39m \u001b[38;5;66;03m# Ejemplo: simular 1 año (la siguiente primavera)\u001b[39;00m\n\u001b[32m---> \u001b[39m\u001b[32m16\u001b[39m hist1 = simulate_population(\u001b[43mL\u001b[49m, x0, years=\u001b[32m1\u001b[39m)\n\u001b[32m     17\u001b[39m display(Markdown(\u001b[33m\"\u001b[39m\u001b[33m**Siguiente primavera (t=1):**\u001b[39m\u001b[33m\"\u001b[39m))\n\u001b[32m     18\u001b[39m display(hist1[\u001b[32m1\u001b[39m])\n",
      "\u001b[31mNameError\u001b[39m: name 'L' is not defined"
     ]
    }
   ],
   "source": [
    "# Celda 2: función de simulación\n",
    "def simulate_population(L, x0, years=20):\n",
    "    \"\"\"\n",
    "    Simula la dinámica x_{t+1} = L x_t durante 'years' pasos.\n",
    "    Devuelve array de forma (years+1, 3) con los vectores de estado.\n",
    "    \"\"\"\n",
    "    hist = np.zeros((years+1, 3))\n",
    "    hist[0,:] = x0\n",
    "    x = x0.copy()\n",
    "    for t in range(1, years+1):\n",
    "        x = L.dot(x)\n",
    "        hist[t,:] = x\n",
    "    return hist\n",
    "\n",
    "# Ejemplo: simular 1 año (la siguiente primavera)\n",
    "hist1 = simulate_population(L, x0, years=1)\n",
    "display(Markdown(\"**Siguiente primavera (t=1):**\"))\n",
    "display(hist1[1])\n",
    "\n"
   ]
  },
  {
   "cell_type": "markdown",
   "id": "331c1ef4",
   "metadata": {},
   "source": []
  },
  {
   "cell_type": "code",
   "execution_count": 1,
   "id": "1f8f5732",
   "metadata": {},
   "outputs": [
    {
     "ename": "NameError",
     "evalue": "name 'L' is not defined",
     "output_type": "error",
     "traceback": [
      "\u001b[31m---------------------------------------------------------------------------\u001b[39m",
      "\u001b[31mNameError\u001b[39m                                 Traceback (most recent call last)",
      "\u001b[36mCell\u001b[39m\u001b[36m \u001b[39m\u001b[32mIn[1]\u001b[39m\u001b[32m, line 13\u001b[39m\n\u001b[32m     10\u001b[39m     dist = vec_pos / vec_pos.sum()\n\u001b[32m     11\u001b[39m     \u001b[38;5;28;01mreturn\u001b[39;00m lamb, dist\n\u001b[32m---> \u001b[39m\u001b[32m13\u001b[39m lamb, dist = dominant_eigen(\u001b[43mL\u001b[49m)\n\u001b[32m     14\u001b[39m display(Markdown(\u001b[33mf\u001b[39m\u001b[33m\"\u001b[39m\u001b[33m**Autovalor dominante (lambda):** \u001b[39m\u001b[38;5;132;01m{\u001b[39;00mlamb\u001b[38;5;132;01m:\u001b[39;00m\u001b[33m.6f\u001b[39m\u001b[38;5;132;01m}\u001b[39;00m\u001b[33m\"\u001b[39m))\n\u001b[32m     15\u001b[39m display(Markdown(\u001b[33mf\u001b[39m\u001b[33m\"\u001b[39m\u001b[33m**Distribución estable (calves, 1y, adults):** \u001b[39m\u001b[38;5;132;01m{\u001b[39;00mdist.round(\u001b[32m4\u001b[39m)\u001b[38;5;132;01m}\u001b[39;00m\u001b[33m\"\u001b[39m))\n",
      "\u001b[31mNameError\u001b[39m: name 'L' is not defined"
     ]
    }
   ],
   "source": [
    "# Celda 3: función para calcular autovalor dominante y distribución estable\n",
    "def dominant_eigen(L):\n",
    "    w, v = np.linalg.eig(L)\n",
    "    # seleccionar autovalor con mayor módulo\n",
    "    idx = np.argmax(np.abs(w))\n",
    "    lamb = w[idx].real\n",
    "    vec = v[:,idx].real\n",
    "    # normalizar vector a suma 1 (proporciones)\n",
    "    vec_pos = np.abs(vec)   # tomar magnitud para asegurar positividad\n",
    "    dist = vec_pos / vec_pos.sum()\n",
    "    return lamb, dist\n",
    "\n",
    "lamb, dist = dominant_eigen(L)\n",
    "display(Markdown(f\"**Autovalor dominante (lambda):** {lamb:.6f}\"))\n",
    "display(Markdown(f\"**Distribución estable (calves, 1y, adults):** {dist.round(4)}\"))\n",
    "\n"
   ]
  },
  {
   "cell_type": "code",
   "execution_count": 6,
   "id": "301a3311",
   "metadata": {},
   "outputs": [
    {
     "data": {
      "image/png": "[encoded data removed]",
      "text/plain": [
       "<Figure size 800x400 with 1 Axes>"
      ]
     },
     "metadata": {},
     "output_type": "display_data"
    },
    {
     "data": {
      "image/png": "[encoded data removed]",
      "text/plain": [
       "<Figure size 800x300 with 1 Axes>"
      ]
     },
     "metadata": {},
     "output_type": "display_data"
    }
   ],
   "source": [
    "# Celda 4: simular varios años y graficar\n",
    "years = 50\n",
    "hist = simulate_population(L, x0, years=years)\n",
    "\n",
    "# Graficar totales por clase\n",
    "plt.figure(figsize=(8,4))\n",
    "plt.plot(range(years+1), hist[:,0], label='Becerros (C)')\n",
    "plt.plot(range(years+1), hist[:,1], label='1 año (Y)')\n",
    "plt.plot(range(years+1), hist[:,2], label='Adultos (A)')\n",
    "plt.xlabel('Años (primaveras)')\n",
    "plt.ylabel('Número de animales')\n",
    "plt.legend()\n",
    "plt.grid(True)\n",
    "plt.title('Evolución por clases de edad')\n",
    "plt.show()\n",
    "\n",
    "# Graficar proporciones\n",
    "total = hist.sum(axis=1)\n",
    "props = hist / total[:,None]\n",
    "plt.figure(figsize=(8,3))\n",
    "plt.plot(range(years+1), props[:,0], label='Prop C')\n",
    "plt.plot(range(years+1), props[:,1], label='Prop Y')\n",
    "plt.plot(range(years+1), props[:,2], label='Prop A')\n",
    "plt.xlabel('Años')\n",
    "plt.ylabel('Proporción')\n",
    "plt.legend()\n",
    "plt.grid(True)\n",
    "plt.title('Convergencia a distribución estable')\n",
    "plt.savefig(r'C:\\Users\\marco\\Downloads\\comportamiento_a_largo_plazo.png')\n",
    "plt.show()\n",
    "\n"
   ]
  },
  {
   "cell_type": "markdown",
   "id": "a7626e02",
   "metadata": {},
   "source": [
    "\n",
    "```python\n",
    "# Celda 5: función interactiva simple (usar con ipywidgets si quieres)\n",
    "def run_and_report(years=20):\n",
    "    hist = simulate_population(L, x0, years=years)\n",
    "    display(Markdown(f\"**Población en t={years}:** C={hist[-1,0]:.1f}, Y={hist[-1,1]:.1f}, A={hist[-1,2]:.1f}, total={hist[-1].sum():.1f}\"))\n",
    "    lambda_dom, dist = dominant_eigen(L)\n",
    "    display(Markdown(f\"**Lambda dominante:** {lambda_dom:.6f} ; distribución estable (C,Y,A) ≈ {dist.round(4)}\"))\n",
    "\n",
    "# ejemplo de uso\n",
    "run_and_report(50)\n",
    "```\n",
    "\n",
    "> Nota: si quieres una celda interactiva con `ipywidgets` para ajustar $s_C, s_Y, s_A$ o fecundidad y ver la sensibilidad, te la puedo añadir.\n",
    "\n",
    "---\n",
    "\n",
    "## Interpretación didáctica de los resultados\n",
    "\n",
    "* **(a)** Después de una primavera la población por clases es $C_1=200,\\; Y_1=150,\\; A_1=480$ (total 830).\n",
    "\n",
    "  * *Pregunta:* ¿Por qué aumenta la población total en ese primer paso? (respuesta: nacen suficientes becerros y la supervivencia adulta es alta).\n",
    "* **(b)** A largo plazo el modelo lineal predice crecimiento exponencial con razón aproximada $\\lambda\\approx1.1335$ por primavera y una **distribución estable** de clases alrededor de las proporciones indicadas arriba.\n",
    "\n",
    "  * *Pregunta:* ¿Este resultado es realista indefinidamente? (respuesta esperada: no, porque el modelo no incorpora límites por recursos; se puede extender con factores de capacidad de carga o densidad-dependencia).\n",
    "\n",
    "---\n",
    "\n",
    "## Preguntas intermedias sugeridas para el aula (evaluación formativa)\n",
    "\n",
    "1. ¿Cómo cambia la proyección si en vez de 1 cría/female promedio fueran 0.8 o 1.2?\n",
    "2. Si la supervivencia de adultos cae al 0.7 por una enfermedad, ¿qué efecto tendrá sobre $\\lambda$ y la distribución estable?\n",
    "3. ¿Qué supuestos biológicos estamos omitiendo aquí (p. ej. mortalidad dependiente de la densidad, variabilidad estacional, reproducción de 1 año)?\n",
    "\n",
    "---\n",
    "\n",
    "## Extensiones (para proyectos ABPP / STEAMS)\n",
    "\n",
    "* **Proyecto 1:** añadir densidad-dependencia con un término de tipo logística y comparar escenarios.\n",
    "* **Proyecto 2:** modelar con Monte Carlo la variabilidad estocástica de las tasas de supervivencia (simulaciones estocásticas).\n",
    "* **Proyecto 3 (STEAMS):** diseñar una intervención (vacunación o manejo) y evaluar su efecto a 10 años con código y visualizaciones interactivas; presentar informe y visualizaciones (Plotly) como producto final.\n",
    "\n",
    "---\n",
    "\n",
    "## Evaluación (rubrica mínima sugerida)\n",
    "\n",
    "* **Código correcto y reproducible en Notebook** (30%)\n",
    "* **Cálculos manuales y justificación de propiedades algebraicas** (25%)\n",
    "* **Interpretación de resultados y discusión de supuestos** (25%)\n",
    "* **Visualizaciones claras y conclusiones** (20%)\n",
    "\n",
    "---\n",
    "\n",
    "## Comentarios finales (para el docente)\n",
    "\n",
    "* Este problema es excelente para conectar álgebra lineal básica (matrices y vectores), conceptos biológicos/eco-demográficos y programación en Python.\n",
    "* Recalca siempre a estudiantes la necesidad de identificar **supuestos** del modelo y cómo afectan la interpretación.\n",
    "\n",
    "---\n",
    "\n",
    "Si quieres, te genero ahora:\n",
    "\n",
    "* 1. el **Notebook .ipynb** con todas estas celdas listo para descargar;\n",
    "* 2. una **actividad en PowerPoint** con diapositivas guía; o\n",
    "* 3. una versión del modelo que incluya **capacidad de carga (logística)** o estocasticidad.\n",
    "\n",
    "¿Cuál prefieres que te entregue ahora?\n"
   ]
  },
  {
   "cell_type": "markdown",
   "id": "e4a0c149",
   "metadata": {},
   "source": [
    "\n",
    "7. **Pruebas / demostraciones básicas**\n",
    "\n",
    "   * Mostrar propiedades o desigualdades usando definiciones de valor absoluto o axiomas.\n",
    "\n",
    "8. **Reverso lógico / Justificación**\n",
    "\n",
    "   * Argumentar en cuál dirección una implicación es válida (p. ej. si |x| < a entonces -a < x < a, y viceversa).\n",
    "\n",
    "---\n"
   ]
  },
  {
   "cell_type": "markdown",
   "id": "b34ffbc2",
   "metadata": {},
   "source": [
    "\n",
    "## 2. Estrategias para resolverlos — enfoque formativo para estudiantes del Campus Caucasia\n"
   ]
  },
  {
   "cell_type": "markdown",
   "id": "fce6748e",
   "metadata": {},
   "source": [
    "\n",
    "Aquí algunas estrategias pedagógicas alineadas con el contexto local:\n",
    "\n",
    "### A. Inicio con problemas conceptuales sencillos (categoría 1)\n",
    "\n",
    "* **Técnica recomendada**: pide al estudiante que explique en sus propias palabras qué significa “valor absoluto” o “número real”. Fomenta que escriban ejemplos en cuaderno y discutan entre pares.\n",
    "\n",
    "### B. Evaluación numérica y operaciones (categoría 2)\n",
    "\n",
    "* **Tip práctico**: usar la calculadora científica y luego pedir la verificación manual en cuaderno para reforzar la precisión.\n",
    "\n",
    "### C. Desigualdades (categoría 3)\n",
    "\n",
    "* **Estrategia visual**: animar a graficar en la recta real soluciones para internalizar el sentido de “menor que” y “mayor que”. Pueden usar esquinas del salón o la pizarra para ubicar puntos.\n",
    "\n",
    "### D. Representación gráfica (categoría 4)\n",
    "\n",
    "* **Método manipulativo**: usar una cuerda o línea dibujada en el piso del aula para marcar intervalos; esto ayuda especialmente a quienes aprenden kinestésicamente.\n",
    "\n",
    "### E. Propiedades operacionales (categoría 5)\n",
    "\n",
    "* **Juego en grupo**: asignar a cada equipo una propiedad (por ejemplo, distributiva). Deben crear un cartel o exposición breve que muestre un ejemplo numérico y explique por qué es válida.\n",
    "\n",
    "### F. Contextualización (categoría 6)\n",
    "\n",
    "* **Modelado local**: usar ejemplos de la vida diaria en Antioquia (distancia entre municipios, temperatura, alturas) para formular mini-problemas que involucren valor absoluto y desigualdades.\n",
    "\n",
    "### G. Pruebas formales (categoría 7)\n",
    "\n",
    "* **Andamiaje cognitivo**: primero guiar una demostración colectiva en clase, modelando la estructura lógica (suposición, desarrollo, conclusión). Luego, invitar a los estudiantes a replicarlo para otro enunciado.\n",
    "\n",
    "### H. Justificaciones lógicas (categoría 8)\n",
    "\n",
    "* **Pensamiento inverso**: plantear una desigualdad (como |x| ≤ 5), y pedir qué implicaciones tiene, y luego invertirla (“¿y si -5 < x < 5, qué podemos decir de |x|?”). Esto refuerza el razonamiento bidireccional.\n",
    "\n",
    "---\n",
    "\n",
    "## 3. Organización didáctica para fortalecer el aprendizaje\n",
    "\n",
    "* **Secuencia progresiva**: inicia la clase con ejercicios conceptuales, luego evaluaciones, sigue con gráficos, pasa a propiedades, y finalmente a pruebas y justificaciones.\n",
    "* **Trabajo colaborativo**: formar grupos heterogéneos (por nivel de comprensión) para que se apoyen mutuamente.\n",
    "* **Reflexión metacognitiva**: al final de la sesión, cada estudiante escribe en una breve frase: “Lo que más entendí fue…”, “Lo que más me costó fue…”, y una estrategia que usó para superarlo.\n",
    "* **Uso de TICs**: si tienen acceso, usar GeoGebra o Jupyter Notebook (para nivel avanzado) para graficar desigualdades o valores absolutos.\n",
    "\n",
    "---\n",
    "\n",
    "### Resumen en tabla\n",
    "\n",
    "| Tipo de ejercicio        | Estrategia destacada                                |\n",
    "| ------------------------ | --------------------------------------------------- |\n",
    "| Conceptos / definiciones | Explicación en palabras propias, ejemplos concretos |\n",
    "| Cálculo numérico         | Verificación manual + calculadora                   |\n",
    "| Desigualdades            | Graficación en recta real, visual kinestésico       |\n",
    "| Gráficos e intervalos    | Uso de materiales físicos o digitales               |\n",
    "| Propiedades              | Presentaciones grupales, ejemplos ilustrativos      |\n",
    "| Aplicaciones cotidianas  | Contextualizar con datos locales                    |\n",
    "| Pruebas                  | Modelo guiado + ejercicio individual                |\n",
    "| Justificaciones lógicas  | Ejercicios con doble implicación                    |\n",
    "\n",
    "---\n",
    "\n",
    "### Conclusión\n",
    "\n",
    "Aunque no pude extraer específicamente los 64 enunciados de la sección 1.1 (por restricciones de acceso al texto en línea), esta clasificación y las estrategias están alineadas con las categorías típicas y diseñadas para fortalecer el aprendizaje profundo, colaborativo y contextualizado. Si más adelante me puedes compartir los temas exactos o incluso los enunciados (aunque sea resumidos), con gusto adaptaré y personalizaré aún más estas estrategias a esos ejercicios específicos.\n",
    "\n",
    "¿Te gustaría que prepare un plan de clase o guía didáctica semanal basada en esta clasificación?\n",
    "\n",
    "[1]: https://www.webassign.net/features/textbooks/swokatg13/details.html?utm_source=chatgpt.com \"Algebra and Trigonometry with Analytical Geometry 13th edition\"\n"
   ]
  },
  {
   "cell_type": "markdown",
   "id": "014b50ba",
   "metadata": {},
   "source": [
    "# Métodos sugeridos de estudio en Matemáticas Puras  \n",
    "\n",
    "1. Hacer muchos ejercicios de manera manuscrita y verificando luego con [WolframAlpha](https://www.wolframalpha.com/input?i2d=true&i=5.9e12&lang=es). \n",
    "2. Leer toda la teoría completa de las secciones 1.1, 1.2, 1.3, 1.4.   \n",
    "3. Volver a escribir a mano la teoría completa. (Por aparte escribir las definiciones, y por aparte escribir los teoremas).  \n",
    "4. Escribir verbalmente el método o estrategia con que resuelve un problema. "
   ]
  },
  {
   "cell_type": "markdown",
   "id": "bc696c8a",
   "metadata": {},
   "source": [
    "# Ejercicio 45: Un problema geométrico de de búsqueda de las representaciones gráficas de números irracionales.   \n",
    "\n",
    "\n",
    "45. El punto en una recta coordenada correspondiente a $\\sqrt{2}$ puede ser determinado si se construye un  triángulo recto con la dos de longitud 1, como se ve en la figura. Determine los puntos que corresponden a $\\sqrt{3}$ y $\\sqrt{5}$, respectivamente.  \n",
    "    \n",
    "(Sugerencia: use el teorema de Pitágoras.)  \n",
    "\n"
   ]
  },
  {
   "cell_type": "markdown",
   "id": "57c02760",
   "metadata": {},
   "source": [
    "Aquí tienes el código en Python con **matplotlib** para representar geométricamente $\\sqrt{2}$ en la recta real usando el triángulo rectángulo de catetos 1 y 1:\n",
    "\n",
    "Aquí tienes el código modificado con el **arco de circunferencia** que une $C$ con $D$ (representando $\\sqrt{2}$ en la recta real):\n"
   ]
  },
  {
   "cell_type": "code",
   "execution_count": 2,
   "id": "057f8443",
   "metadata": {},
   "outputs": [
    {
     "data": {
      "image/png": "[encoded data removed]",
      "text/plain": [
       "<Figure size 800x600 with 1 Axes>"
      ]
     },
     "metadata": {},
     "output_type": "display_data"
    }
   ],
   "source": [
    "import matplotlib.pyplot as plt\n",
    "import numpy as np\n",
    "\n",
    "# Puntos base\n",
    "A = np.array([0, 0])   # Origen\n",
    "B = np.array([1, 0])   # 1 en la recta real\n",
    "C = np.array([1, 1])   # Tercer vértice del triángulo rectángulo\n",
    "\n",
    "# Punto D en la recta real (longitud de la hipotenusa)\n",
    "sqrt2 = np.sqrt(2)\n",
    "D = np.array([sqrt2, 0])\n",
    "\n",
    "fig, ax = plt.subplots(figsize=(8, 6))\n",
    "\n",
    "# Ejes y recta real\n",
    "ax.axhline(0, color='black', linewidth=1)\n",
    "ax.set_aspect('equal', 'box')\n",
    "\n",
    "# Triángulo rectángulo\n",
    "ax.plot([A[0], B[0]], [A[1], B[1]], 'k')  # Base\n",
    "ax.plot([B[0], C[0]], [B[1], C[1]], 'k')  # Vertical\n",
    "ax.plot([C[0], A[0]], [C[1], A[1]], 'k')  # Hipotenusa\n",
    "\n",
    "# Arco de circunferencia desde C hasta D\n",
    "# El arco pertenece a un círculo con centro en B y radio sqrt(2)\n",
    "theta = np.linspace(np.pi/2, 0, 100)\n",
    "arc_x = B[0] + sqrt2 * np.cos(theta)\n",
    "arc_y = B[1] + sqrt2 * np.sin(theta)\n",
    "ax.plot(arc_x, arc_y, 'r--', label='Arco que lleva a $\\sqrt{2}$')\n",
    "\n",
    "# Marcas y etiquetas\n",
    "ax.plot(A[0], A[1], 'ko')\n",
    "ax.text(A[0]-0.05, -0.1, 'A (0)', ha='center')\n",
    "\n",
    "ax.plot(B[0], B[1], 'ko')\n",
    "ax.text(B[0], -0.1, 'B (1)', ha='center')\n",
    "\n",
    "ax.plot(C[0], C[1], 'ko')\n",
    "ax.text(C[0]+0.05, C[1]+0.05, 'C', ha='center')\n",
    "\n",
    "ax.plot(D[0], D[1], 'ko')\n",
    "ax.text(D[0], -0.1, '$\\sqrt{2}$ (D)', ha='center')\n",
    "\n",
    "# Ajustes\n",
    "ax.set_xlim(-0.5, sqrt2+0.5)\n",
    "ax.set_ylim(-0.5, sqrt2+0.5)\n",
    "ax.set_xlabel(\"Recta real\")\n",
    "ax.set_ylabel(\"Altura\")\n",
    "ax.legend()\n",
    "plt.grid(True)\n",
    "plt.show()\n",
    "\n"
   ]
  },
  {
   "cell_type": "code",
   "execution_count": 3,
   "id": "291c95e9",
   "metadata": {},
   "outputs": [
    {
     "data": {
      "text/plain": [
       "44375.0"
      ]
     },
     "execution_count": 3,
     "metadata": {},
     "output_type": "execute_result"
    }
   ],
   "source": [
    "sueldo_mensual = 7100000\n",
    "horas_totales_trabajas_por_mes = 160\n",
    "valor_de_la_hora = sueldo_mensual/horas_totales_trabajas_por_mes\n",
    "valor_de_la_hora "
   ]
  },
  {
   "cell_type": "markdown",
   "id": "f5609814",
   "metadata": {},
   "source": [
    "\n",
    "Este código:\n",
    "\n",
    "* Construye el **triángulo rectángulo isósceles** de lados $1$ y $1$.\n",
    "* Coloca la **recta real** con $A = 0$ y $B = 1$.\n",
    "* Dibuja el **arco de circunferencia** con centro en $B$ y radio $\\sqrt{2}$ que pasa por $C$ y llega hasta $D$ en la recta real.\n",
    "\n",
    "Si quieres, puedo ajustarlo para que el arco tenga **una flecha de dirección**, mostrando visualmente cómo $\\sqrt{2}$ se \"proyecta\" en la recta real. ¿Quieres que lo haga así?\n"
   ]
  },
  {
   "cell_type": "markdown",
   "id": "27f44c67",
   "metadata": {},
   "source": [
    "\n",
    "Este script:\n",
    "\n",
    "1. Traza la recta real con el **0** en $A$ y el **1** en $B$.\n",
    "2. Dibuja el triángulo rectángulo de catetos $AB = 1$ y $BC = 1$.\n",
    "3. Calcula la longitud de la hipotenusa ($\\sqrt{2}$) y la proyecta sobre la recta real en rojo punteado.\n",
    "\n",
    "Si quieres, puedo adaptarlo para que muestre **paso a paso** el trazado del triángulo y la proyección sobre la recta, como si fuera un procedimiento de construcción geométrica.\n"
   ]
  },
  {
   "cell_type": "markdown",
   "id": "f39ebbcb",
   "metadata": {},
   "source": [
    "# Ejercicio 57 de la sección 1.1  del Swokowski  \n",
    "\n",
    "\n",
    "Página 35 de la edición 13 de Swokowski. \n",
    "\n",
    "57 **Númerode Avogadro**: El número de átomos de hidrógeno en un mol es el número de Avogadro, $6.02 \\times 10^{23}$. Si se toma un mol de hidrógeno, el número. Si un  mol del gas tiene una masa de 1.01 gramos, estime la masa\n",
    " de un átomo de hidrógeno."
   ]
  },
  {
   "cell_type": "markdown",
   "id": "0775bc41",
   "metadata": {},
   "source": [
    "# Estrategia de solución\n",
    "\n",
    "1. Escribir las equivalencias \n",
    "2. Identificar las variables relevantes (Mire la pregunta que le hacen)\n",
    "3. Establezca la relación de propocionalidad que hay entre tales variables.\n",
    "4. Configure el esquema de regla de tres\n",
    "5. Escriba el modelo o ecuación utilizando la definición de propocionalidad adecuada. \n",
    "6. Resuelva la ecuación o modelo utilizando propiedades de potenciación\n",
    "7. Redacte la conclusión. "
   ]
  },
  {
   "cell_type": "markdown",
   "id": "c9d5ed9e",
   "metadata": {},
   "source": [
    "# Ejercicio 58 \n",
    "\n",
    "**Población de peces:**  \n",
    "Las dinámicas poblacionales de muchos peces se caracterizan por porcentajes de fertilidad extremadamente altos entre adultos y porcentajes de super vivencia muy bajos entre los jóvenes. Un lenguado maduro puede poner hasta 2.5 millones de huevos, pero sólo 0.00035% de la prole sobrevive a la edad de 3 años. Use la forma científica para aproximar el número de descendientes que viven hasta la edad de 3 años. "
   ]
  },
  {
   "cell_type": "markdown",
   "id": "b9379485",
   "metadata": {},
   "source": [
    "## Estrategia o metodología  \n",
    "\n",
    "1. Sistematizar los datos datos   \n",
    "\n"
   ]
  },
  {
   "cell_type": "markdown",
   "id": "8a15688c",
   "metadata": {},
   "source": [
    "* 1 solo lenguado pone $2.5 \\times 10^{6}$ huevos  \n",
    "* solo el 0.00035% de la prole sobrevive a la edad de tres años. \n"
   ]
  },
  {
   "cell_type": "markdown",
   "id": "4fda0481",
   "metadata": {},
   "source": [
    "$$ \\text{número de descendientes}  = 2.5 \\times 10^{6} \\cdot \\frac{0.00035}{100} $$"
   ]
  },
  {
   "cell_type": "code",
   "execution_count": 1,
   "id": "a7170497",
   "metadata": {},
   "outputs": [
    {
     "data": {
      "text/plain": [
       "8.75"
      ]
     },
     "execution_count": 1,
     "metadata": {},
     "output_type": "execute_result"
    }
   ],
   "source": [
    "(2.5e6)*(0.00035)/100"
   ]
  },
  {
   "cell_type": "markdown",
   "id": "2ed7751a",
   "metadata": {},
   "source": [
    "Escriba la conclusión del ejercicio. "
   ]
  },
  {
   "cell_type": "markdown",
   "id": "596bbb56",
   "metadata": {},
   "source": [
    "# Función de asignación de tareas  para el curso de Álgebra y trigonometría  \n",
    "\n"
   ]
  },
  {
   "cell_type": "code",
   "execution_count": 5,
   "id": "e137bcaf",
   "metadata": {},
   "outputs": [],
   "source": [
    "import pandas as pd \n",
    "import random \n",
    "def asignar_tareas(lista_estudiantes):\n",
    "    # Leer lista de estudiantes\n",
    "    estudiantes = pd.read_excel(lista_estudiantes, engine = 'openpyxl')\n",
    "    \n",
    "    # Generar 20 ejercicios\n",
    "    ejercicios = []\n",
    "    for i in range(1, 21):\n",
    "        # Diferentes tipos de problemas\n",
    "        if i <= 5:\n",
    "            tipo = \"Álgebra (Ecuaciones polinómicas)\"\n",
    "        elif i <= 10:\n",
    "            tipo = \"Trigonometría (Identidades)\"\n",
    "        elif i <= 15:\n",
    "            tipo = \"Geometría Analítica\"\n",
    "        else:\n",
    "            tipo = \"Problemas aplicados\"\n",
    "        \n",
    "        ejercicios.append({\n",
    "            \"ID\": i,\n",
    "            \"Tipo\": tipo,\n",
    "            \"Descripción\": f\"Ejercicio {i}: Resolver problema de {tipo}\",\n",
    "            \"Python\": f\"Implementar solución para ejercicio {i}\",\n",
    "            \"Teoría\": f\"Explicación conceptual del ejercicio {i}\"\n",
    "        })\n",
    "    \n",
    "    # Asignar aleatoriamente a cada estudiante\n",
    "    tareas_asignadas = []\n",
    "    for _, estudiante in estudiantes.iterrows():\n",
    "        ejercicios_est = random.sample(ejercicios, 2)  # 2 ejercicios por estudiante\n",
    "        tareas_asignadas.append({\n",
    "            \"Estudiante\": estudiante['Nombre'],\n",
    "            \"ID_Estudiante\": estudiante['Cedula'],\n",
    "            \"Ejercicio_1\": ejercicios_est[0][\"Descripción\"],\n",
    "            \"Ejercicio_2\": ejercicios_est[1][\"Descripción\"],\n",
    "            \"Requisitos_Python\": f\"Debe implementar: {ejercicios_est[0]['Python']} y {ejercicios_est[1]['Python']}\",\n",
    "            \"Explicación_Teórica\": f\"Debe explicar: {ejercicios_est[0]['Teoría']} y {ejercicios_est[1]['Teoría']}\"\n",
    "        })\n",
    "    \n",
    "    return pd.DataFrame(tareas_asignadas)\n"
   ]
  },
  {
   "cell_type": "code",
   "execution_count": 6,
   "id": "528a0dfb",
   "metadata": {},
   "outputs": [],
   "source": [
    "\n",
    "# Uso de la función\n",
    "tareas = asignar_tareas(r\"C:\\Users\\marco\\Documentos\\docencia\\groups_list\\algebra_and_trigonometry.xlsx\")\n",
    "tareas.to_excel(r\"C:\\Users\\marco\\Documentos\\docencia\\groups_list\\algebra_and_trigonometry_tareas_asignadas.xlsx\", \\\n",
    "    index=False)\n"
   ]
  },
  {
   "cell_type": "markdown",
   "id": "cc539357",
   "metadata": {},
   "source": [
    "# [Programación de programa Regiones](https://lookerstudio.google.com/reporting/44e71da0-d16f-4a51-a51e-d5ae6c19b3f1/page/p_gy4nwf37hd?pli=1)"
   ]
  },
  {
   "cell_type": "markdown",
   "id": "8ba64aed",
   "metadata": {},
   "source": [
    "# Cursos que orienta el profesor Marco Julio Cañas Campillo en 2025  \n",
    "\n",
    "1. Lunes 8 a 12: Fundamentos de Lógica: Licenciatura en Matemáticas . \n",
    "2. Martes de 9 a 10: Curso de ML and DL para Ingeniero Juan Gomez en España.  \n",
    "3. Martes de 2 a 5 PM: Vector Geometry and Linear Algebra.  \n",
    "5. Miércoles 9 a 11 PM: Clase Álgebra y Trigonometría.\n",
    "6. Jueves 6 - 8: Deep Learnin para Administración de empresas: G-Líderes.  \n",
    "7. Viernes: 8 a 9: Reunión Asesoría Trabajo de Grado Janis equipo investigador SAT Dengue.\n",
    "8. Viernes: 10 a 11: Reunión equipo investigador SAT Dengue. \n",
    "9. Viernes 2 a 6 PM: Análisis Numérico: Programa de Licenciatura en Matemáticas."
   ]
  },
  {
   "cell_type": "markdown",
   "id": "8d41fe58",
   "metadata": {
    "slideshow": {
     "slide_type": "slide"
    }
   },
   "source": [
    "# Horario de clases del profesor Marco\n",
    "\n",
    "* Lunes 8-12:   \n",
    "* Lunes 2- 6 PM: Fundamento de Lógica.  \n",
    "* Martes 8-12 M: . \n",
    "* Miércoles 8 a 12 M:   \n",
    "* Miércoles de 2 a 6 PM: \n",
    "* Jueves 2 a 6 PM:  \n",
    "* Viernes 2 - 4 PM: Análisis Numérico. \n",
    "* Sábados 8-12 Asesorías y espacio para retroalimentación y apoyo al trabajo independiente. "
   ]
  },
  {
   "cell_type": "markdown",
   "id": "ae114e14",
   "metadata": {
    "slideshow": {
     "slide_type": "slide"
    }
   },
   "source": [
    "# Horarios de monitoría y asesoría  \n",
    "\n",
    "* Monitor Manuel San Juan Serrano: Contactar escribiendo al correo: manuel.serrano1@udea.edu.co"
   ]
  },
  {
   "cell_type": "markdown",
   "id": "bf0f9dbf",
   "metadata": {},
   "source": [
    "\n",
    "Coordinador de los cursos de la Facultad de Educación para regiones:    \n",
    "\n",
    "Andrés Vélez: regioneducacion.fedu@udea.edu.co  \n",
    "Coordinador Regiones  \n",
    "Facultad de Educación  \n",
    "Universidad de Antioquia  "
   ]
  },
  {
   "cell_type": "markdown",
   "id": "39559692",
   "metadata": {
    "slideshow": {
     "slide_type": "slide"
    }
   },
   "source": [
    "Martes y jueves de 8 - 12  \n",
    "Miércoles 10 - 12 y de 2 a 4 PM  \n",
    "Sábado: 8 - 12"
   ]
  },
  {
   "cell_type": "markdown",
   "id": "10bce0d0",
   "metadata": {
    "slideshow": {
     "slide_type": "slide"
    }
   },
   "source": [
    "## Referentes "
   ]
  },
  {
   "cell_type": "markdown",
   "id": "1db3c468",
   "metadata": {
    "slideshow": {
     "slide_type": "slide"
    }
   },
   "source": [
    "* [CALCULO I DE UNA VARIABLE Ron Larson-Bruce Edwards. Mc Graw Hill. 9º Edición](https://www.academia.edu/42139251/CALCULO_I_DE_UNA_VARIABLE_Ron_Larson_Bruce_Edwards_Mc_Graw_Hill_9o_Edici%C3%B3n)   \n",
    "  \n",
    "\n",
    "* [Grajales Vanegas, L. M., Restrepo Estrada, C. E., Restrepo Ochoa, S. I., & Ruíz De Villalba, F. (2015). Matemáticas I para las ciencias económicas.](https://bibliotecadigital.udea.edu.co/handle/10495/3010)\n",
    "  \n",
    "* R. Duval y Semiosis y pensamiento humano, 2.ª ed. Cali, Colombia: Programa Editorial Universidad del Valle, 2017. [En línea]. Disponible en: https://programaeditorial.univalle.edu.co/gpd-semiosis-y-pensamiento-humano-9789587655278-63324cdb0f6b3.html\n",
    "\n",
    "* [Aylwin, C. U. (2011). Lógica, conjuntos y números. Universidad de los Andes, Consejo de Publicaciones, Colección: Ciencias Básicas, Serie: Matemáticas.](chrome-extension://efaidnbmnnnibpcajpcglclefindmkaj/https://www.u-cursos.cl/ciencias/2011/1/MC110/1/material_docente/bajar?id_material=574722)\n",
    "  \n",
    "* [Chollet, F. (2021). Deep learning with Python. Simon and Schuster.](chrome-extension://efaidnbmnnnibpcajpcglclefindmkaj/https://tanthiamhuat.wordpress.com/wp-content/uploads/2018/03/deeplearningwithpython.pdf)  \n",
    "  \n",
    "* [Watson, S., Stewart, J., & Redlin, L. (2009). Precálculo. Matemáticas para el cálculo.](https://github.com/marco-canas/calculo/blob/main/referents/1_precalculo_stewart/stewart_precalculo.pdf)  \n",
    "\n",
    "* [Purcell, E. J., Varberg, D., & Rigdon, S. E. (2007). Cálculo diferencial e integral. Pearson Educación.](https://github.com/marco-canas/calculo/blob/main/referents/purcell/purcell_calculo.pdf)\n",
    "\n",
    "  \n",
    "\n",
    "* [stewart cálculo](https://udeaeduco-my.sharepoint.com/:b:/g/personal/marco_canas_udea_edu_co/EZgXZjAp8QxPqOAim2hs6LcBNPLGjSHf-xwYnUVYkwa04w?e=RZdTCy)  \n",
    "\n",
    "\n",
    "\n",
    "\n",
    "\n",
    "* [Recomendación de la UNESCO sobre ciencia abierta](https://unesdoc.unesco.org/ark:/48223/pf0000379949_spa)\n",
    "\n",
    "* [chatGPT](https://openai.com/blog/chatgpt)  \n",
    "\n",
    "* [Géron, A. (2017). Hands-on machine learning with scikit-learn and tensorflow: Concepts. Tools, and Techniques to build intelligent systems.](chrome-extension://efaidnbmnnnibpcajpcglclefindmkaj/http://14.139.161.31/OddSem-0822-1122/Hands-On_Machine_Learning_with_Scikit-Learn-Keras-and-TensorFlow-2nd-Edition-Aurelien-Geron.pdf)   \n"
   ]
  },
  {
   "cell_type": "markdown",
   "id": "df925560",
   "metadata": {},
   "source": [
    "\n",
    "* [McKinney, W. (2012). Python for data analysis: Data wrangling with Pandas, NumPy, and IPython. \" O'Reilly Media, Inc.\".](https://wesmckinney.com/book/) "
   ]
  },
  {
   "cell_type": "markdown",
   "id": "8e65d6f9",
   "metadata": {},
   "source": [
    "# Como estudiante, encuentro que...   \n",
    "\n",
    "F: Mis Fortalezas son:     \n",
    "O: Mis Oportunidades son:    \n",
    "D: Mis Debilidades son:    \n",
    "A: Lo que Amenazas mi aprendizaje es:  "
   ]
  },
  {
   "cell_type": "markdown",
   "id": "6b9e56a8",
   "metadata": {
    "slideshow": {
     "slide_type": "slide"
    }
   },
   "source": [
    "### [Evaluamos al profesor Marco Cañas Aquí](https://forms.office.com/Pages/ResponsePage.aspx?id=IefhmYRxjkmK_7KtTlPBwkanXIs1i1FEujpsZgO6dXpUREJPV1kxUk1JV1ozTFJIQVNIQjY5WEY3US4u)"
   ]
  },
  {
   "cell_type": "markdown",
   "id": "4e8e8ccb",
   "metadata": {},
   "source": [
    "Basado en el diseño de investigación con enfoque IAE (Investigación-Acción Educativa) que compartiste, aquí tienes una propuesta de **sistema de evaluación bidireccional** para el curso *\"Vector Geometry and Linear Algebra\"*, implementable mediante Google Forms y alineado con los ciclos reflexivos de Kemmis & McTaggart:\n",
    "\n",
    "---\n"
   ]
  },
  {
   "cell_type": "markdown",
   "id": "700c88d9",
   "metadata": {},
   "source": [
    "\n",
    "### **Diseño de Evaluación para Ciclo IAE**  \n",
    "*(Para implementar en Google Forms cada 4 semanas)*  \n"
   ]
  },
  {
   "cell_type": "markdown",
   "id": "534441d7",
   "metadata": {},
   "source": [
    "\n",
    "#### **1. Encuesta de Autoevaluación Estudiantil**  \n",
    "**Objetivo**: Monitorear progreso en competencias y percepción del enfoque investigativo.  \n"
   ]
  },
  {
   "cell_type": "markdown",
   "id": "ee74d19c",
   "metadata": {},
   "source": [
    "\n",
    "**Secciones**:  \n",
    "1. **Adquisición de Competencias** (Escala Likert 1-5):  \n",
    "   - *\"¿Cómo evalúas tu dominio actual de:\"*  \n",
    "     - Operaciones con vectores/matrices aplicadas a datasets agrícolas  \n",
    "     - Implementación de PCA/SVD para análisis de imágenes satelitales  \n",
    "     - Interpretación de resultados matemáticos en contextos agropecuarios  \n"
   ]
  },
  {
   "cell_type": "markdown",
   "id": "23d2b1bd",
   "metadata": {},
   "source": [
    "\n",
    "2. **Evaluación de Metodología IAE**:  \n",
    "   - *\"El aprendizaje basado en problemas reales del Bajo Cauca me ha ayudado a:\"*  \n",
    "     - Comprender mejor los conceptos abstractos (1-5)  \n",
    "     - Desarrollar habilidades útiles para mi futuro profesional (1-5)  \n",
    "   - *Espacio abierto*: *\"Describe un momento donde la conexión teoría-práctica fue especialmente significativa para ti\"*  \n"
   ]
  },
  {
   "cell_type": "markdown",
   "id": "6a55b099",
   "metadata": {},
   "source": [
    "\n",
    "3. **Recursos y Herramientas**:  \n",
    "   - *\"Valora la utilidad de:\"*  \n",
    "     - Cuadernos Jupyter adaptados (ej. Géron 2022)  \n",
    "     - Sesiones con agricultores/ingenieros invitados  \n",
    "     - Plataforma GitHub para colaboración  \n",
    "\n",
    "---\n"
   ]
  },
  {
   "cell_type": "markdown",
   "id": "d069bb21",
   "metadata": {},
   "source": [
    "\n",
    "#### **2. Evaluación del Profesor**  \n",
    "**Objetivo**: Retroalimentación para ajustar didáctica según necesidades emergentes.  \n"
   ]
  },
  {
   "cell_type": "markdown",
   "id": "e1080dd0",
   "metadata": {},
   "source": [
    "\n",
    "**Secciones**:  \n",
    "1. **Habilidades Docentes** (Escala 1-5):  \n",
    "   - *\"El profesor facilita la conexión entre álgebra lineal y problemas agrícolas mediante:\"*  \n",
    "     - Explicaciones claras de conceptos abstractos  \n",
    "     - Ejemplos contextualizados (ej. optimización de fertilizantes)  \n",
    "     - Retroalimentación constructiva en proyectos  \n"
   ]
  },
  {
   "cell_type": "markdown",
   "id": "01742d60",
   "metadata": {},
   "source": [
    "\n",
    "2. **Seguimiento a Proyectos**:  \n",
    "   - *\"Las tutorías para los proyectos aplicados son:\"*  \n",
    "     - Suficientes en frecuencia y duración  \n",
    "     - Orientadas a resolver dudas técnicas específicas  \n",
    "     - Útiles para vincular matemáticas con agronomía  \n"
   ]
  },
  {
   "cell_type": "markdown",
   "id": "ca722d62",
   "metadata": {},
   "source": [
    "\n",
    "3. **Espacio cualitativo**:  \n",
    "   - *\"Sugiere un ajuste específico que mejoraría tu experiencia de aprendizaje\"*  \n",
    "\n",
    "---\n"
   ]
  },
  {
   "cell_type": "markdown",
   "id": "568148ad",
   "metadata": {},
   "source": [
    "\n",
    "#### **3. Evaluación de Impacto Social** *(Opcional para proyectos con agricultores)*  \n",
    "**Objetivo**: Medir transferencia de conocimiento al sector productivo.  \n"
   ]
  },
  {
   "cell_type": "markdown",
   "id": "93c7f4bc",
   "metadata": {},
   "source": [
    "\n",
    "**Preguntas clave**:  \n",
    "- *\"¿Cómo ha influido el proyecto estudiantil en el que participaste en tus prácticas agrícolas?\"* (Ej.: reducción de costos, mejora en predicciones)  \n",
    "- *\"¿Recomendarías esta colaboración a otros productores?\"* (Sí/No + justificación)  \n",
    "\n",
    "\n"
   ]
  },
  {
   "cell_type": "markdown",
   "id": "d2b6a2c7",
   "metadata": {},
   "source": [
    "\n",
    "### **Implementación en Google Forms**  \n",
    "1. **Configuración**:  \n",
    "   - Formulario anónimo (excepto evaluación de proyectos con agricultores)  \n",
    "   - Sección obligatoria (competencia + 1 pregunta abierta)  \n",
    "   - Opción de subir archivos (ej.: fotos de trabajos de campo)  \n",
    "\n",
    "2. **Ejemplo de Pregunta con Lógica Condicional**:  \n",
    "   ``` \n",
    "   Si respondiste 1-3 en \"Dominio de PCA aplicado\": \n",
    "   ¿Qué tipo de apoyo adicional necesitarías? (Taller práctico, material adicional, tutoría personalizada)  \n",
    "   ```\n",
    "\n",
    "3. **Enlace accesible**:  \n",
    "   - QR en presentaciones  \n",
    "   - Link en la cabecera del repositorio GitHub  \n",
    "\n",
    "---\n"
   ]
  },
  {
   "cell_type": "markdown",
   "id": "36872955",
   "metadata": {},
   "source": [
    "\n",
    "### **Análisis para Ciclo IAE**  \n",
    "**Herramientas**:  \n",
    "- **NVivo**: Para análisis temático de respuestas cualitativas  \n",
    "- **Google Data Studio**: Dashboard automático con:  \n",
    "  - Evolución temporal de competencias  \n",
    "  - Nube de palabras de sugerencias frecuentes  \n",
    "\n",
    "**Integración con Fases IAE**:  \n",
    "1. **Diagnóstico**: Identificar brechas recurrentes (ej.: dificultad con SVD)  \n",
    "2. **Acción**: Ajustar próximas clases (ej.: taller extra de descomposición matricial)  \n",
    "3. **Reflexión**: Comparar resultados entre ciclos (ej.: mejora en % de dominio de vectores)  \n",
    "\n",
    "**Ejemplo de Pregunta Clave para el Análisis**:  \n",
    "*\"¿Qué tema del módulo actual requirió más tiempo de práctica para su comprensión?\"*  \n",
    "\n",
    "---\n"
   ]
  },
  {
   "cell_type": "markdown",
   "id": "6d92b57d",
   "metadata": {},
   "source": [
    "\n",
    "### **Modelo de Informe Parcial** *(Para socializar con estudiantes)*  \n",
    "```markdown\n",
    "## Resultados Evaluación Ciclo 3 (2025-1)  \n",
    "- **85%** mejoró en interpretación de matrices aplicadas  \n",
    "- **Solicitud principal**: Más ejemplos con datos reales de cacaoteros  \n",
    "- **Ajustes implementados**:  \n",
    "  - Sesión extra con ingeniero de Agrosavia (25/05)  \n",
    "  - Dataset público de nutrientes en suelos arroceros añadido a GitHub  \n",
    "```\n"
   ]
  },
  {
   "cell_type": "markdown",
   "id": "b5c7eb34",
   "metadata": {},
   "source": [
    "\n",
    "Este diseño asegura que las evaluaciones:  \n",
    "✅ Sean **ágiles** (máx. 5 min por estudiante)  \n",
    "✅ Generen **datos accionables** para cada fase IAE  \n",
    "✅ Fomenten la **corresponsabilidad** en el proceso educativo  \n"
   ]
  },
  {
   "cell_type": "markdown",
   "id": "e2a5a506",
   "metadata": {},
   "source": [
    "\n",
    "¿Te gustaría que desarrolle las plantillas específicas de Google Forms o algún ajuste adicional para alinearlo mejor con tus módulos?"
   ]
  },
  {
   "cell_type": "markdown",
   "id": "10f43536",
   "metadata": {
    "slideshow": {
     "slide_type": "slide"
    }
   },
   "source": [
    "### Continue su aprendizaje en la siguiente clase a través del siguiente [vínculo]()"
   ]
  },
  {
   "cell_type": "markdown",
   "id": "53cc9115",
   "metadata": {
    "slideshow": {
     "slide_type": "slide"
    }
   },
   "source": [
    "## Agradecimientos  \n",
    "\n",
    "Doy gracias a Dios por la vida de mi Hijo Joseph Cañas Osorio y la madurez que ha alcanzado. Este hijo me enorgullece y me hace falta abrazarlo cada día. \n",
    "\n",
    "Y a mi esposa Yasmira Emperatriz Barboza Mogollón por su apoyo, orientación y acompañamiento. "
   ]
  },
  {
   "cell_type": "markdown",
   "id": "b6ba1c23",
   "metadata": {},
   "source": [
    "# Apéndice sobre calendarios y coordinaciones \n"
   ]
  },
  {
   "cell_type": "markdown",
   "id": "bf8b6499",
   "metadata": {},
   "source": [
    "## Calendario del semestre académico 2025-2  \n",
    "\n",
    "* Oferta de cursos: 29 de julio de 2025  \n",
    "\n",
    "Matrícula: 30 de julio de 2025  \n",
    "\n",
    "Ajustes de matrícula: 01 al 08 de agosto de 2025  \n",
    "\n",
    "Inicio de clases: 04 de agosto de 2025  \n",
    "\n",
    "Límite evaluación del 40%: 27 de septiembre de 2025  \n",
    "\n",
    "Terminación de clases: 22 de noviembre de 2025\n",
    "\n",
    "Exámenes finales: 24 al 29 de noviembre de 2025\n",
    "\n",
    "Habilitación y validación: 01 al 06 de diciembre 2025\n",
    "\n",
    "Terminación oficial del semestre: 09 de diciembre de 2025  "
   ]
  },
  {
   "cell_type": "markdown",
   "id": "667b9504",
   "metadata": {},
   "source": [
    "\n",
    "A continuación le envío el horario de la asignatura Cálculo Vectorial  \n",
    "\n",
    "Días:  \n",
    "Lunes - Hora: 7:00 a 12:00M  \n",
    "Fechas:  \n",
    "Febrero: 10-17-24                                          \n",
    " Marzo: 3-10-17-31                                                  \n",
    "Abril:7-21-28                                                   \n",
    "Mayo:5-12-19  \n",
    "\n",
    "Agradezco su apoyo, y si presenta alguna dificultad puede contactarme.  \n",
    "\n",
    "Cordialmente,  \n",
    "Juan Felipe Rivera Hernández  \n",
    "Contacto: 3106314300  "
   ]
  }
 ],
 "metadata": {
  "celltoolbar": "Slideshow",
  "kernelspec": {
   "display_name": ".venv",
   "language": "python",
   "name": "python3"
  },
  "language_info": {
   "codemirror_mode": {
    "name": "ipython",
    "version": 3
   },
   "file_extension": ".py",
   "mimetype": "text/x-python",
   "name": "python",
   "nbconvert_exporter": "python",
   "pygments_lexer": "ipython3",
   "version": "3.11.9"
  },
  "rise": {
   "enable_chalkboard": true,
   "theme": "sky",
   "transition": "zoom"
  }
 },
 "nbformat": 4,
 "nbformat_minor": 5
}
