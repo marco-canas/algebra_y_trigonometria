{
 "cells": [
  {
   "cell_type": "markdown",
   "id": "dc06dec7",
   "metadata": {
    "slideshow": {
     "slide_type": "slide"
    }
   },
   "source": [
    "<table align=\"left\">\n",
    "  <td>\n",
    "    <a href=\"https://colab.research.google.com/github/marco-canas/algebra_y_trigonometria/blob/main/classes/2_unidad_1_reales/1_class_reals/2_igualdades_en_R/2_igualdades_en_R.ipynb\" target=\"_parent\"><img src=\"https://colab.research.google.com/assets/colab-badge.svg\" alt=\"Open In Colab\"/></a>\n",
    "  </td>\n",
    "  <td>\n",
    "    <a target=\"_blank\" href=\"https://kaggle.com/kernels/welcome?src=https://github.com/marco-canas/algebra_y_trigonometria/blob/main/classes/2_unidad_1_reales/1_class_reals/2_igualdades_en_R/2_igualdades_en_R.ipynb\"><img src=\"https://kaggle.com/static/images/open-in-kaggle.svg\" /></a>\n",
    "  </td>\n",
    "</table>"
   ]
  },
  {
   "cell_type": "markdown",
   "id": "9eee306b",
   "metadata": {},
   "source": [
    "# generación del QR para el cuaderno de esta clase    \n",
    "\n",
    "Aquí tienes una función de Python que genera un código QR a partir de una URL y lo muestra en un cuaderno Jupyter:\n"
   ]
  },
  {
   "cell_type": "code",
   "execution_count": 1,
   "id": "7e0dbf6e",
   "metadata": {},
   "outputs": [],
   "source": [
    "import qrcode\n",
    "from IPython.display import display\n",
    "\n",
    "def generar_qr_notebook(url):\n",
    "    \"\"\"\n",
    "    Genera un código QR para una URL y lo muestra en un cuaderno Jupyter.\n",
    "    \n",
    "    Parámetros:\n",
    "    url (str): La URL para la cual se generará el código QR.\n",
    "    \n",
    "    Retorna:\n",
    "    None (pero muestra el código QR en el notebook)\n",
    "    \"\"\"\n",
    "    # Crear el objeto QR\n",
    "    qr = qrcode.QRCode(\n",
    "        version=1,\n",
    "        error_correction=qrcode.constants.ERROR_CORRECT_L,\n",
    "        box_size=10,\n",
    "        border=4,\n",
    "    )\n",
    "    \n",
    "    # Añadir la URL al código QR\n",
    "    qr.add_data(url)\n",
    "    qr.make(fit=True)\n",
    "    \n",
    "    # Crear la imagen del QR\n",
    "    img = qr.make_image(fill_color=\"black\", back_color=\"white\")\n",
    "    \n",
    "    # Mostrar la imagen en el notebook\n",
    "    display(img)\n",
    "\n"
   ]
  },
  {
   "cell_type": "code",
   "execution_count": null,
   "id": "79e4ce17",
   "metadata": {},
   "outputs": [],
   "source": [
    "generar_qr_notebook()"
   ]
  },
  {
   "cell_type": "markdown",
   "id": "0081bd63",
   "metadata": {},
   "source": [
    "\n",
    "### Cómo usarla:\n",
    "1. Asegúrate de tener instaladas las dependencias:\n",
    "```python\n",
    "!pip install qrcode[pil]\n",
    "```\n",
    "\n",
    "2. Luego puedes llamar a la función con tu URL:\n",
    "```python\n",
    "generar_qr_notebook(\"https://ejemplo.com/mi-cuaderno\")\n",
    "```\n",
    "\n",
    "### Notas:\n",
    "- La función usa la biblioteca `qrcode` para generar el código y `IPython.display` para mostrarlo en el notebook.\n",
    "- El código QR aparecerá como salida de la celda donde llames a la función.\n",
    "- Puedes ajustar parámetros como `box_size` (tamaño de los cuadrados) o `border` (tamaño del borde) según tus necesidades.\n"
   ]
  },
  {
   "cell_type": "markdown",
   "id": "e0c5b198",
   "metadata": {
    "slideshow": {
     "slide_type": "slide"
    }
   },
   "source": [
    "### [Video de apoyo a la lectura interactiva y experimental de este cuaderno]()"
   ]
  },
  {
   "cell_type": "markdown",
   "id": "41e82203",
   "metadata": {
    "slideshow": {
     "slide_type": "slide"
    }
   },
   "source": [
    "### [Vínculo al programa del curso Algebra_and_trigonometry:  ](https://github.com/marco-canas/algebra_y_trigonometria/blob/main/0_programa_curso/programa_algebra_and_trigonometry.md)\n"
   ]
  },
  {
   "cell_type": "markdown",
   "id": "d11ab06d",
   "metadata": {
    "slideshow": {
     "slide_type": "slide"
    }
   },
   "source": [
    "Un reconocimiento a mis estudiantes que han construido conmigo este saber pedagógico:\n",
    "\n",
    "<img src = 'https://github.com/marco-canas/algebra_y_trigonometria/blob/main/images/primera_clase_2025-08-05_a_las_12.06.22.jpg?raw=true'>  \n",
    "\n"
   ]
  },
  {
   "cell_type": "markdown",
   "id": "8a74a56c-0ce6-4ad6-b985-553fd7fb68bb",
   "metadata": {},
   "source": [
    "Reconocimiento a las profesoras destacadas en enseñanza de la matemática en Colombia\n"
   ]
  },
  {
   "cell_type": "code",
   "execution_count": 3,
   "id": "7604880f",
   "metadata": {
    "slideshow": {
     "slide_type": "slide"
    }
   },
   "outputs": [
    {
     "data": {
      "application/vnd.microsoft.datawrangler.viewer.v0+json": {
       "columns": [
        {
         "name": "index",
         "rawType": "int64",
         "type": "integer"
        },
        {
         "name": "Cedula",
         "rawType": "int64",
         "type": "integer"
        },
        {
         "name": "Nombre",
         "rawType": "object",
         "type": "string"
        },
        {
         "name": "Email",
         "rawType": "object",
         "type": "string"
        }
       ],
       "ref": "f6e3adc6-ee8c-49cf-a648-b2092da08f20",
       "rows": [
        [
         "0",
         "1038648096",
         "ACEVEDO BELEÑO SANTIAGO",
         "sacevedo.beleno@udea.edu.co"
        ],
        [
         "1",
         "1038648760",
         "MARIN VILLARREAL PABLO ALEJANDRO",
         "pablo.marin1@udea.edu.co"
        ],
        [
         "2",
         "1193401041",
         "MARTINEZ MANJARREZ DANIELA ESTHER",
         "daniela.martinezm@udea.edu.co"
        ],
        [
         "3",
         "1038108720",
         "MEJIA GUZMAN SAMUEL",
         "samuel.mguzman@udea.edu.co"
        ],
        [
         "4",
         "1038647828",
         "NIEBLES BARRERA ALEXANDER ISAAC",
         "alexander.niebles@udea.edu.co"
        ],
        [
         "5",
         "1045426138",
         "OQUENDO MONA CRISTIAN GABRIEL",
         "cristian.oquendo1@udea.edu.co"
        ],
        [
         "6",
         "1032250901",
         "PINO VERGARA LIZETH",
         "lizeth.pino@udea.edu.co"
        ],
        [
         "7",
         "1038092717",
         "RIVERA GUZMAN CRISTIAN",
         "cristian.rivera2@udea.edu.co"
        ],
        [
         "8",
         "1038110693",
         "ROMERO CALDERA JUAN ESTEBAN",
         "juanesteban.romero@udea.edu.co"
        ],
        [
         "9",
         "1063359347",
         "SANCHEZ PACHECO MOISES DAVID",
         "moises.sanchez1@udea.edu.co"
        ],
        [
         "10",
         "1066600819",
         "TIRADO CHAVARRIA WILFRAN DE JESUS",
         "wilfran.tirado@udea.edu.co"
        ],
        [
         "11",
         "1038136995",
         "VERGARA ACEVEDO SARA CRISTINA",
         "scristina.vergara@udea.edu.co"
        ],
        [
         "12",
         "1007452831",
         "VILORIA SIERRA ALEXANDER",
         "a.viloria1@udea.edu.co"
        ]
       ],
       "shape": {
        "columns": 3,
        "rows": 13
       }
      },
      "text/html": [
       "<div>\n",
       "<style scoped>\n",
       "    .dataframe tbody tr th:only-of-type {\n",
       "        vertical-align: middle;\n",
       "    }\n",
       "\n",
       "    .dataframe tbody tr th {\n",
       "        vertical-align: top;\n",
       "    }\n",
       "\n",
       "    .dataframe thead th {\n",
       "        text-align: right;\n",
       "    }\n",
       "</style>\n",
       "<table border=\"1\" class=\"dataframe\">\n",
       "  <thead>\n",
       "    <tr style=\"text-align: right;\">\n",
       "      <th></th>\n",
       "      <th>Cedula</th>\n",
       "      <th>Nombre</th>\n",
       "      <th>Email</th>\n",
       "    </tr>\n",
       "  </thead>\n",
       "  <tbody>\n",
       "    <tr>\n",
       "      <th>0</th>\n",
       "      <td>1038648096</td>\n",
       "      <td>ACEVEDO BELEÑO SANTIAGO</td>\n",
       "      <td>sacevedo.beleno@udea.edu.co</td>\n",
       "    </tr>\n",
       "    <tr>\n",
       "      <th>1</th>\n",
       "      <td>1038648760</td>\n",
       "      <td>MARIN VILLARREAL PABLO ALEJANDRO</td>\n",
       "      <td>pablo.marin1@udea.edu.co</td>\n",
       "    </tr>\n",
       "    <tr>\n",
       "      <th>2</th>\n",
       "      <td>1193401041</td>\n",
       "      <td>MARTINEZ MANJARREZ DANIELA ESTHER</td>\n",
       "      <td>daniela.martinezm@udea.edu.co</td>\n",
       "    </tr>\n",
       "    <tr>\n",
       "      <th>3</th>\n",
       "      <td>1038108720</td>\n",
       "      <td>MEJIA GUZMAN SAMUEL</td>\n",
       "      <td>samuel.mguzman@udea.edu.co</td>\n",
       "    </tr>\n",
       "    <tr>\n",
       "      <th>4</th>\n",
       "      <td>1038647828</td>\n",
       "      <td>NIEBLES BARRERA ALEXANDER ISAAC</td>\n",
       "      <td>alexander.niebles@udea.edu.co</td>\n",
       "    </tr>\n",
       "    <tr>\n",
       "      <th>5</th>\n",
       "      <td>1045426138</td>\n",
       "      <td>OQUENDO MONA CRISTIAN GABRIEL</td>\n",
       "      <td>cristian.oquendo1@udea.edu.co</td>\n",
       "    </tr>\n",
       "    <tr>\n",
       "      <th>6</th>\n",
       "      <td>1032250901</td>\n",
       "      <td>PINO VERGARA LIZETH</td>\n",
       "      <td>lizeth.pino@udea.edu.co</td>\n",
       "    </tr>\n",
       "    <tr>\n",
       "      <th>7</th>\n",
       "      <td>1038092717</td>\n",
       "      <td>RIVERA GUZMAN CRISTIAN</td>\n",
       "      <td>cristian.rivera2@udea.edu.co</td>\n",
       "    </tr>\n",
       "    <tr>\n",
       "      <th>8</th>\n",
       "      <td>1038110693</td>\n",
       "      <td>ROMERO CALDERA JUAN ESTEBAN</td>\n",
       "      <td>juanesteban.romero@udea.edu.co</td>\n",
       "    </tr>\n",
       "    <tr>\n",
       "      <th>9</th>\n",
       "      <td>1063359347</td>\n",
       "      <td>SANCHEZ PACHECO MOISES DAVID</td>\n",
       "      <td>moises.sanchez1@udea.edu.co</td>\n",
       "    </tr>\n",
       "    <tr>\n",
       "      <th>10</th>\n",
       "      <td>1066600819</td>\n",
       "      <td>TIRADO CHAVARRIA WILFRAN DE JESUS</td>\n",
       "      <td>wilfran.tirado@udea.edu.co</td>\n",
       "    </tr>\n",
       "    <tr>\n",
       "      <th>11</th>\n",
       "      <td>1038136995</td>\n",
       "      <td>VERGARA ACEVEDO SARA CRISTINA</td>\n",
       "      <td>scristina.vergara@udea.edu.co</td>\n",
       "    </tr>\n",
       "    <tr>\n",
       "      <th>12</th>\n",
       "      <td>1007452831</td>\n",
       "      <td>VILORIA SIERRA ALEXANDER</td>\n",
       "      <td>a.viloria1@udea.edu.co</td>\n",
       "    </tr>\n",
       "  </tbody>\n",
       "</table>\n",
       "</div>"
      ],
      "text/plain": [
       "        Cedula                             Nombre  \\\n",
       "0   1038648096            ACEVEDO BELEÑO SANTIAGO   \n",
       "1   1038648760   MARIN VILLARREAL PABLO ALEJANDRO   \n",
       "2   1193401041  MARTINEZ MANJARREZ DANIELA ESTHER   \n",
       "3   1038108720                MEJIA GUZMAN SAMUEL   \n",
       "4   1038647828    NIEBLES BARRERA ALEXANDER ISAAC   \n",
       "5   1045426138      OQUENDO MONA CRISTIAN GABRIEL   \n",
       "6   1032250901                PINO VERGARA LIZETH   \n",
       "7   1038092717             RIVERA GUZMAN CRISTIAN   \n",
       "8   1038110693        ROMERO CALDERA JUAN ESTEBAN   \n",
       "9   1063359347       SANCHEZ PACHECO MOISES DAVID   \n",
       "10  1066600819  TIRADO CHAVARRIA WILFRAN DE JESUS   \n",
       "11  1038136995      VERGARA ACEVEDO SARA CRISTINA   \n",
       "12  1007452831           VILORIA SIERRA ALEXANDER   \n",
       "\n",
       "                             Email  \n",
       "0      sacevedo.beleno@udea.edu.co  \n",
       "1         pablo.marin1@udea.edu.co  \n",
       "2    daniela.martinezm@udea.edu.co  \n",
       "3       samuel.mguzman@udea.edu.co  \n",
       "4    alexander.niebles@udea.edu.co  \n",
       "5    cristian.oquendo1@udea.edu.co  \n",
       "6          lizeth.pino@udea.edu.co  \n",
       "7     cristian.rivera2@udea.edu.co  \n",
       "8   juanesteban.romero@udea.edu.co  \n",
       "9      moises.sanchez1@udea.edu.co  \n",
       "10      wilfran.tirado@udea.edu.co  \n",
       "11   scristina.vergara@udea.edu.co  \n",
       "12          a.viloria1@udea.edu.co  "
      ]
     },
     "execution_count": 3,
     "metadata": {},
     "output_type": "execute_result"
    }
   ],
   "source": [
    "import pandas as pd\n",
    "import numpy as np\n",
    "\n",
    "# Cargar la lista de estudiantes desde el archivo CSV\n",
    "path = 'C:/Users/marco/Documentos/docencia/groups_list/algebra_and_trigonometry.xlsx'\n",
    "df = pd.read_excel(path)\n",
    "df.head(13) \n"
   ]
  },
  {
   "cell_type": "markdown",
   "id": "d7598d0a-d9b7-4ae0-b029-a0ed6ed1130b",
   "metadata": {},
   "source": [
    "\n",
    "# Principios de mi labor docente"
   ]
  },
  {
   "cell_type": "markdown",
   "id": "4f9d8cf9",
   "metadata": {
    "slideshow": {
     "slide_type": "slide"
    }
   },
   "source": [
    "## Modelo general de clase: [aula invertida](https://www3.gobiernodecanarias.org/medusa/ecoescuela/pedagotic/aprendizaje-invertido-flipped-classroom/)"
   ]
  },
  {
   "cell_type": "markdown",
   "id": "eb6ed03a",
   "metadata": {},
   "source": [
    "<img src = 'https://resources.maneuveringthemiddle.com/wp-content/uploads/2020/07/04212706/1-5.png' width = 200>  \n",
    "\n"
   ]
  },
  {
   "cell_type": "markdown",
   "id": "34319cce-a71b-4f64-aab8-b53e521efa40",
   "metadata": {},
   "source": [
    "# Metodología de Aprendizaje Basado en Problemas y Proyectos (ABPP)\n"
   ]
  },
  {
   "cell_type": "markdown",
   "id": "c4f73d81",
   "metadata": {},
   "source": [
    "\n",
    "<img src = 'https://www.unir.net/wp-content/uploads/2020/07/aprendizaje-problemas2-1-1-1-1.jpeg' width = 200>"
   ]
  },
  {
   "cell_type": "markdown",
   "id": "841a985c-bd9b-4dd3-8e4c-893983980af2",
   "metadata": {},
   "source": [
    "# Desarrollo del pensamiento computacional con Lenguajes Python y R, y con archivos Markdown orientado a la formación en ciencia de datos \n",
    "\n"
   ]
  },
  {
   "cell_type": "markdown",
   "id": "3d0eba94",
   "metadata": {},
   "source": [
    "\n",
    "<img src = 'https://i.ytimg.com/vi/mcG_wcR4e6M/maxresdefault.jpg' width = 200>"
   ]
  },
  {
   "cell_type": "markdown",
   "id": "65aa0404-f7ae-495e-864c-1aec01b4255e",
   "metadata": {},
   "source": [
    "# Principio de fomento a la ciencia abierta, enseñar en el acceso a los datos públicos y el uso de software de código abierto  \n"
   ]
  },
  {
   "cell_type": "markdown",
   "id": "18ae9b87",
   "metadata": {},
   "source": [
    "\n",
    "<img src = 'https://unesdoc.unesco.org/in/rest/Thumb/image?id=p%3A%3Ausmarcdef_0000379949_spa&author=UNESCO&title=Recomendaci%C3%B3n+de+la+UNESCO+sobre+la+Ciencia+Abierta&year=2021&publisher=UNESCO&TypeOfDocument=UnescoPhysicalDocument&mat=PGD&ct=true&size=512&isPhysical=1' width = 200>"
   ]
  },
  {
   "cell_type": "markdown",
   "id": "d9559f85",
   "metadata": {},
   "source": [
    "El enfoque STEAMS en educación preescolar, primaria y secundaria es una extensión del enfoque STEM (Ciencia, Tecnología, Ingeniería y Matemáticas) y su variante STEAM, que incorpora el Arte. "
   ]
  },
  {
   "cell_type": "markdown",
   "id": "0130ec1b",
   "metadata": {},
   "source": [
    "\n",
    "<img src = 'https://www.campuseducacion.com/blog/wp-content/uploads/2023/03/foto01-1.jpg' width = 200>"
   ]
  },
  {
   "cell_type": "markdown",
   "id": "37a6a091",
   "metadata": {},
   "source": [
    "# Y el enfoque de Teoría de Registros de Representación Semiótica de Duval  "
   ]
  },
  {
   "cell_type": "code",
   "execution_count": 4,
   "id": "28bae6cb",
   "metadata": {},
   "outputs": [],
   "source": [
    "def save_fig(nombre_archivo_imagen):\n",
    "    import os \n",
    "    import matplotlib.pyplot as plt\n",
    "    ubicacion_para_imagenes = r\"C:/Users/marco/Downloads\"\n",
    "    imagen_path = os.path.join(ubicacion_para_imagenes, nombre_archivo_imagen)\n",
    "    plt.savefig(imagen_path, bbox_inches='tight')"
   ]
  },
  {
   "cell_type": "markdown",
   "id": "10e55ccf",
   "metadata": {},
   "source": [
    "# Estructura general para todas las clases\n"
   ]
  },
  {
   "cell_type": "markdown",
   "id": "ddd73417",
   "metadata": {},
   "source": [
    "\n",
    "Dame, por favor, un diseño de clase, con el enfoque: \"Aula Invertida, STEAMS, de Aprendizaje Basado en Problemas y Proyectos (ABPP) y de Teoría de Registros de Representación Semiótica (TRRS) de Duval\" sobre: \"Propiedades de las igualdades en los números reales $\\mathbb{R}$: un enfoque para la clase de álgebra y trigonometría según el programa de curso: https://github.com/marco-canas/algebra_y_trigonometria/blob/main/0_programa_curso/1_programa_algebra_and_trigonometry.md; y para el curso de Geometría Euclidiana, analítica y vectorial.\", siguiendo la estructura:  \n",
    "\n",
    "\n",
    "Ubicación del programa del curso: [aquí](un enfoque para la clase de álgebra y trigonometría según el programa de curso: https://github.com/marco-canas/algebra_y_trigonometria/blob/main/0_programa_curso/1_programa_algebra_and_trigonometry.md)   \n",
    "\n",
    "Ubicación de la lista de estudiantes matriculados: [Aquí](https://github.com/marco-canas/groups_list/blob/main/vector_geometry_and_linear_algebra.xlsx)  \n",
    "\n",
    "1. Título de la clase   \n",
    "   \n",
    "2. Objetivo de aprendizaje que incluyan los indicadores del logro de estos objetivos. \n",
    "   \n",
    "3. Un mapa conceptual que resuma la clase elaborado en Graphviz de python con nodos y edges de diferentes formas, colores y rellenos y renderizado en la siguiente ubicación: `\"C:\\Users\\marco\\Downloads\"`.  No olvides el parámetro `view = True` para el método `render()` de Graphviz. Para este mapa controla las superposiciones de los nodos con: graph [overlap=false]; // Elimina superposiciones (puede aumentar el espacio)\n",
    "graph [overlap=\"scalexy\"]; // Escala el gráfico para evitar overlaps\n",
    "graph [overlap=\"compress\"]; // Comprime el grafo sin overlaps  \n",
    "   \n",
    "4. Elementos históricos y epistemológicos relevantes para la clase, pero narrados como una historieta al estilo de un cuentero antioqueño en Colombia. Incluye imágenes de los protagonistas históricos de esta clase.  \n",
    "   \n",
    "5. Contenido de la clase:     \n",
    "   \n",
    "          \n",
    "        \n",
    "6. Actividades de aprendizaje:   \n",
    "   \n",
    "7. Incluye una canción o un poema que ayude a interiorizar y fijar los conceptos asociados a esta clase.   \n",
    "   \n",
    "8.  Tarea o actividades de ejercitación y fijación. Incluye 20 ejercicios de tarea en las que los estudiantes empiecen con la descripción geométrica del algoritmo, luego la descripción verbal y secuencial del algoritmo, después la implementación en lenguaje python editado a través de la terminal powershell de su computador y finalmente con el cálculo a mano y en su cuaderno. Crea una función de usuario de Python que asigne esta tareas a cada uno de los estudiantes matriculados en este curso tomando la ubicación de los estudiantes dada en este prompt.  \n",
    "    \n",
    "9. Evaluación incluyendo 20 proyectos, un ejemplo de quiz (con tres items) y un ejemplo de parcial (con 5 items). Incluye evaluaciones en las que los estudiantes empiecen con la descripción geométrica del algoritmo, luego la descripción verbal y secuencial del algoritmo, después la implementación en lenguaje python editado a través de la terminal powershell de su computador, y finalmente con el cálculo algebraico y numérico a mano y en su cuaderno. \n",
    "    \n",
    "10. Diseño de actividad de retroalimentación.   \n",
    "    \n",
    "11. Dame un vocabulario y frases del idioma inglés asociadas a esta clase.    \n",
    "     \n",
    "12. Incluye apéndice para la clase sobre desarrollo de habilidades para trabajar en equipo y de asertividad y empatía para relacionarnos. También elementos de la inteligencia emocional para presentar pruebas sin temor y sin realizar fraude en ellas.    \n",
    "     \n",
    "13. Incluye 10 referentes en didáctica de la matemática que estén de acuerdo a la propuesta didáctica de esta clase. Adiciona a estos referentes a Raymond Duval (Representaciones y cambios de representación para la adquisición de conceptos matemáticos) y a [Jeannette Wing](https://es.wikipedia.org/wiki/Jeannette_Wing) (Desarrollo del pensamiento computacional). Déjame todos estos referentes ordenados de acuerdo a las normas APA. Al crear la clase, introduce las citas de estos autores en el texto de la clase.\n",
    "\n",
    "\n",
    "Pero  que este diseño sea para que el estudiante pueda aprender experimentando en cuadernos Jupyter con funciones de usuario y animaciones y visualizaciones en python.   \n",
    "\n",
    "En particular utiliza para el diseño de clase a Numpy, Pandas, SymPy, Matplotlib.pyplot, Seaborn, Plotly, ipywidgets, matplotlib.animation, TensorFlow, Keras y Jupyter Notebook.    \n",
    "\n",
    "Cada vez que utilices `matplotlib.animacion` no olvides incluir el uso de `IPython. display` para la rederización de estas animaciones a través de Jupyter Notebook. No olvides darme los diseños de clase con las ecuaciones matemáticas delimitadas con signo de dolar $ para que VS Code si me renderize estas expresiones del lenguaje latex. Cuando vallas a utilizar ipywidgets ten en cuenta la siguiente importación inicial para garantizar que la visualización interactiva si se renderize en VS Code:   \n",
    "\n",
    "import numpy as np  \n",
    "import matplotlib.pyplot as plt  \n",
    "import ipywidgets as widgets  \n",
    "\n",
    "\n",
    "\n"
   ]
  },
  {
   "cell_type": "markdown",
   "id": "f39ebbcb",
   "metadata": {},
   "source": [
    "# Diseño de Clase: Propiedades de las Igualdades en ℝ - Enfoque STEAM, ABPP y TRRS\n"
   ]
  },
  {
   "cell_type": "markdown",
   "id": "cf42e6c8",
   "metadata": {},
   "source": [
    "\n",
    "## 1. Título de la Clase\n",
    "**\"Las igualdades en los números reales: De los axiomas fundamentales a las aplicaciones computacionales\"**\n"
   ]
  },
  {
   "cell_type": "markdown",
   "id": "4e9b741c",
   "metadata": {},
   "source": [
    "\n",
    "## 2. Objetivos de Aprendizaje\n",
    "\n",
    "**Objetivo principal:**  \n",
    "Comprender y aplicar las propiedades de las igualdades en ℝ a través de múltiples representaciones semióticas (algebraica, geométrica, computacional), integrando enfoques STEAM y resolución de problemas.\n"
   ]
  },
  {
   "cell_type": "markdown",
   "id": "c3bee834",
   "metadata": {},
   "source": [
    "\n",
    "**Indicadores de logro:**\n",
    "- [ ] Identifica y aplica las 8 propiedades fundamentales de las igualdades en ℝ\n",
    "- [ ] Representa propiedades de igualdades mediante visualizaciones geométricas interactivas\n",
    "- [ ] Implementa algoritmos en Python que verifiquen propiedades de igualdades\n",
    "- [ ] Resuelve problemas contextualizados usando propiedades de igualdades\n",
    "- [ ] Diseña modelos matemáticos que apliquen estas propiedades en contextos reales\n"
   ]
  },
  {
   "cell_type": "markdown",
   "id": "7c7062a5",
   "metadata": {},
   "source": [
    "\n",
    "## 3. Mapa Conceptual (Graphviz)\n"
   ]
  },
  {
   "cell_type": "markdown",
   "id": "957f9e0f",
   "metadata": {},
   "source": [
    "\n",
    "```python\n",
    "from graphviz import Digraph\n",
    "\n",
    "# Configuración del gráfico\n",
    "dot = Digraph(comment='Propiedades de Igualdades en ℝ', \n",
    "             engine='neato',\n",
    "             graph_attr={'overlap': 'scalexy', 'splines': 'true', 'fontsize': '16', 'layout': 'fdp'})\n",
    "dot.attr(rankdir='TB')\n",
    "\n",
    "# Nodos principales\n",
    "dot.node('A', 'Igualdades en ℝ', shape='doubleoctagon', style='filled', color='lightblue2')\n",
    "dot.node('B', 'Propiedades\\nFundamentales', shape='ellipse', color='coral')\n",
    "dot.node('C', 'Representaciones', shape='ellipse', color='gold')\n",
    "dot.node('D', 'Aplicaciones', shape='ellipse', color='plum')\n",
    "\n",
    "# Subnodos para propiedades\n",
    "with dot.subgraph(name='cluster_propiedades') as c:\n",
    "    c.attr(color='lightgrey', style='filled', label='Propiedades')\n",
    "    c.node('B1', 'Reflexiva\\n∀a∈ℝ, a=a')\n",
    "    c.node('B2', 'Simétrica\\nSi a=b ⇒ b=a')\n",
    "    c.node('B3', 'Transitiva\\nSi a=b ∧ b=c ⇒ a=c')\n",
    "    c.node('B4', 'Aditiva\\nSi a=b ⇒ a+c=b+c')\n",
    "    c.node('B5', 'Multiplicativa\\nSi a=b ⇒ a·c=b·c')\n",
    "    c.node('B6', 'Sustitución\\nSi a=b ⇒ f(a)=f(b)')\n",
    "    c.node('B7', 'Cancelativa\\nSi a+c=b+c ⇒ a=b')\n",
    "    c.node('B8', 'No división por cero\\nSi a·c=b·c ∧ c≠0 ⇒ a=b')\n",
    "    c.edges(['BB1', 'BB2', 'BB3', 'BB4', 'BB5', 'BB6', 'BB7', 'BB8'])\n",
    "\n",
    "# Subnodos para representaciones\n",
    "with dot.subgraph(name='cluster_representaciones') as c:\n",
    "    c.attr(color='lightgrey', style='filled', label='Representaciones')\n",
    "    c.node('C1', 'Algebraica')\n",
    "    c.node('C2', 'Geométrica\\n(Balanza/recta numérica)')\n",
    "    c.node('C3', 'Computacional\\n(Algoritmos Python)')\n",
    "    c.node('C4', 'Gráfica\\n(Funciones)')\n",
    "    c.edges(['CC1', 'CC2', 'CC3', 'CC4'])\n",
    "\n",
    "# Subnodos para aplicaciones\n",
    "with dot.subgraph(name='cluster_aplicaciones') as c:\n",
    "    c.attr(color='lightgrey', style='filled', label='Aplicaciones')\n",
    "    c.node('D1', 'Ecuaciones')\n",
    "    c.node('D2', 'Modelado\\nmatemático')\n",
    "    c.node('D3', 'Verificación\\nde algoritmos')\n",
    "    c.node('D4', 'Geometría\\nanalítica')\n",
    "    c.edges(['DD1', 'DD2', 'DD3', 'DD4'])\n",
    "\n",
    "# Conexiones principales\n",
    "dot.edges(['AB', 'AC', 'AD'])\n",
    "dot.edge('B', 'C', style='dashed')\n",
    "dot.edge('C', 'D', style='dashed')\n",
    "\n",
    "# Renderizar y mostrar\n",
    "dot.render(directory='C:/Users/marco/Downloads', filename='mapa_igualdades_reales', format='png', view=True)\n",
    "display(dot)\n",
    "```\n"
   ]
  },
  {
   "cell_type": "markdown",
   "id": "65857f9d",
   "metadata": {},
   "source": [
    "\n",
    "## 4. Elementos Históricos y Epistemológicos (Historieta Antioqueña)\n",
    "\n",
    "*¡Oiga, pues, que le cuente!* Esto de las igualdades matemáticas tiene más historia que mis abuelos...\n",
    "\n",
    "**Imagen 1:** [Euclides con su compás]  \n",
    "*\"El viejo Euclides, allá por el 300 a.C., ya usaba igualdades en sus 'Elementos', pero como el hombre era más de geometría, las dibujaba con regla y compás. ¡Qué tiempos aquellos!\"*\n",
    "\n",
    "**Imagen 2:** [Al-Khwarizmi con pergaminos]  \n",
    "*\"Luego vino Al-Khwarizmi, ese persa sabio del siglo IX, que nos dijo: 'Lo que está de un lado, está del otro, pero bien organizado'. ¡Y así nació el álgebra, muchá!\"*\n",
    "\n",
    "**Imagen 3:** [René Descartes pensando]  \n",
    "*\"Después llegó Descartes en el XVII, todo filosófico, y juntó la álgebra con la geometría. 'Lo que es igual se puede dibujar', decía. ¡Y nos dejó la geometría analítica de regalo!\"*\n",
    "\n",
    "**Imagen 4:** [Leibniz con su máquina]  \n",
    "*\"Y no podía faltar Leibniz, que en el XVIII inventó el signo '=' que usamos hoy. Antes escribían 'aequalis' completo, ¡imagínese la pereza!\"*\n",
    "\n",
    "**Imagen 5:** [Emmy Noether trabajando]  \n",
    "*\"Ya en el siglo XX, la señora Emmy Noether nos mostró que las igualdades tienen propiedades profundas que hasta sirven para la física cuántica. ¡Eso sí es igualdad con poder!\"*\n"
   ]
  },
  {
   "cell_type": "markdown",
   "id": "d191e48f",
   "metadata": {},
   "source": [
    "\n",
    "## 5. Contenido de la Clase\n"
   ]
  },
  {
   "cell_type": "markdown",
   "id": "07d20994",
   "metadata": {},
   "source": [
    "\n",
    "### 5.1 Propiedades Algebraicas Fundamentales\n",
    "\n",
    "Para $a, b, c \\in \\mathbb{R}$:\n",
    "1. **Reflexiva:** $a = a$\n",
    "2. **Simétrica:** $a = b \\Rightarrow b = a$\n",
    "3. **Transitiva:** $a = b \\land b = c \\Rightarrow a = c$\n",
    "4. **Aditiva:** $a = b \\Rightarrow a + c = b + c$\n",
    "5. **Multiplicativa:** $a = b \\Rightarrow a \\cdot c = b \\cdot c$\n",
    "6. **Sustitución:** $a = b \\Rightarrow f(a) = f(b)$\n",
    "7. **Cancelativa:** $a + c = b + c \\Rightarrow a = b$\n",
    "8. **No división por cero:** $a \\cdot c = b \\cdot c \\land c \\neq 0 \\Rightarrow a = b$\n"
   ]
  },
  {
   "cell_type": "markdown",
   "id": "80683935",
   "metadata": {},
   "source": [
    "import sympy as sp\n",
    "\n",
    "# Definición simbólica\n",
    "a, b, c = sp.symbols('a b c')\n",
    "\n",
    "# Demostración interactiva de propiedades\n",
    "def demostrar_propiedad(propiedad):\n",
    "    if propiedad == 'Reflexiva':\n",
    "        eq = sp.Eq(a, a)\n",
    "    elif propiedad == 'Simétrica':\n",
    "        eq = sp.Implies(sp.Eq(a, b), sp.Eq(b, a))\n",
    "    elif propiedad == 'Transitiva':\n",
    "        eq = sp.Implies(sp.And(sp.Eq(a, b), sp.Eq(b, c)), sp.Eq(a, c))\n",
    "    elif propiedad == 'Aditiva':\n",
    "        eq = sp.Implies(sp.Eq(a, b), sp.Eq(a + c, b + c))\n",
    "    elif propiedad == 'Multiplicativa':\n",
    "        eq = sp.Implies(sp.Eq(a, b), sp.Eq(a * c, b * c))\n",
    "    elif propiedad == 'Cancelativa':\n",
    "        eq = sp.Implies(sp.Eq(a + c, b + c), sp.Eq(a, b))\n",
    "    \n",
    "    display(sp.Eq(sp.Symbol(propiedad), eq))\n",
    "\n",
    "# Widget interactivo\n",
    "widgets.interact(demostrar_propiedad, \n",
    "                propiedad=widgets.Dropdown(options=['Reflexiva', 'Simétrica', 'Transitiva',\n",
    "                                                  'Aditiva', 'Multiplicativa', 'Cancelativa'],\n",
    "                                         value='Reflexiva'))\n",
    "\n"
   ]
  },
  {
   "cell_type": "markdown",
   "id": "96c7ae2d",
   "metadata": {},
   "source": [
    "\n",
    "### 5.2 Visualización Geométrica: La Balanza de Igualdades\n"
   ]
  },
  {
   "cell_type": "code",
   "execution_count": 3,
   "id": "aedc511f",
   "metadata": {},
   "outputs": [
    {
     "data": {
      "application/vnd.jupyter.widget-view+json": {
       "model_id": "04b4cb695a394b7d881cfc0ec7d37e05",
       "version_major": 2,
       "version_minor": 0
      },
      "text/plain": [
       "interactive(children=(IntSlider(value=5, description='a', max=10, min=1), IntSlider(value=5, description='b', …"
      ]
     },
     "metadata": {},
     "output_type": "display_data"
    },
    {
     "data": {
      "text/plain": [
       "<function __main__.balanza_igualdad(a, b, operacion, valor)>"
      ]
     },
     "execution_count": 3,
     "metadata": {},
     "output_type": "execute_result"
    }
   ],
   "source": [
    "\n",
    "import matplotlib.pyplot as plt \n",
    "from matplotlib.animation import FuncAnimation\n",
    "from ipywidgets import widgets \n",
    "from IPython.display import HTML\n",
    "\n",
    "def balanza_igualdad(a, b, operacion, valor):\n",
    "    fig, ax = plt.subplots(figsize=(10, 6))\n",
    "    ax.set_xlim(-5, 5)\n",
    "    ax.set_ylim(-1, 5)\n",
    "    ax.axis('off')\n",
    "    ax.set_title(f'Balanza de Igualdades: {a} vs {b}', fontsize=14)\n",
    "    \n",
    "    # Dibujar balanza\n",
    "    ax.plot([-4, 4], [0, 0], 'k-', linewidth=3)  # Barra\n",
    "    ax.plot([0, 0], [0, 3], 'k-', linewidth=2)    # Soporte\n",
    "    \n",
    "    # Platillos iniciales\n",
    "    left_plate = plt.Circle((-2, -0.5), 1.5, color='blue', alpha=0.3)\n",
    "    right_plate = plt.Circle((2, -0.5), 1.5, color='red', alpha=0.3)\n",
    "    ax.add_patch(left_plate)\n",
    "    ax.add_patch(right_plate)\n",
    "    \n",
    "    # Texto inicial\n",
    "    left_text = ax.text(-2, -0.5, str(a), ha='center', va='center', fontsize=12)\n",
    "    right_text = ax.text(2, -0.5, str(b), ha='center', va='center', fontsize=12)\n",
    "    \n",
    "    # Animación\n",
    "    def init():\n",
    "        left_plate.center = (-2, -0.5)\n",
    "        right_plate.center = (2, -0.5)\n",
    "        return left_plate, right_plate, left_text, right_text\n",
    "    \n",
    "    def animate(i):\n",
    "        if operacion == 'Sumar':\n",
    "            new_a = a + valor if i > 10 else a\n",
    "            new_b = b + valor if i > 20 else b\n",
    "        elif operacion == 'Multiplicar':\n",
    "            new_a = a * valor if i > 10 else a\n",
    "            new_b = b * valor if i > 20 else b\n",
    "        elif operacion == 'Cancelar Suma':\n",
    "            new_a = a - valor if i > 10 else a\n",
    "            new_b = b - valor if i > 20 else b\n",
    "        \n",
    "        left_text.set_text(str(new_a))\n",
    "        right_text.set_text(str(new_b))\n",
    "        \n",
    "        # Efecto visual de movimiento\n",
    "        if i < 10:\n",
    "            left_plate.center = (-2 - 0.1*i, -0.5 + 0.05*i)\n",
    "            right_plate.center = (2 + 0.1*i, -0.5 + 0.05*i)\n",
    "        elif 10 <= i < 20:\n",
    "            left_plate.center = (-3 + 0.1*(i-10), -0.5 + 0.05*(20-i))\n",
    "            right_plate.center = (3 - 0.1*(i-10), -0.5 + 0.05*(20-i))\n",
    "        \n",
    "        return left_plate, right_plate, left_text, right_text\n",
    "    \n",
    "    anim = FuncAnimation(fig, animate, frames=30, init_func=init,\n",
    "                        interval=200, blit=True)\n",
    "    plt.close()\n",
    "    return HTML(anim.to_jshtml())\n",
    "\n",
    "# Widget interactivo\n",
    "widgets.interact(balanza_igualdad,\n",
    "                a=widgets.IntSlider(min=1, max=10, value=5),\n",
    "                b=widgets.IntSlider(min=1, max=10, value=5),\n",
    "                operacion=widgets.Dropdown(options=['Sumar', 'Multiplicar', 'Cancelar Suma'],\n",
    "                                         value='Sumar'),\n",
    "                valor=widgets.IntSlider(min=1, max=5, value=2))\n",
    "\n"
   ]
  },
  {
   "cell_type": "markdown",
   "id": "6a05fbcb",
   "metadata": {},
   "source": [
    "\n",
    "## 6. Actividades de Aprendizaje\n",
    "\n",
    "### Actividad 1: Laboratorio de Igualdades con Python\n",
    "\n",
    "```python\n",
    "def laboratorio_igualdades():\n",
    "    print(\"🔍 Laboratorio de Propiedades de Igualdades 🔍\")\n",
    "    print(\"1. Verificar propiedad reflexiva\")\n",
    "    print(\"2. Demostrar propiedad simétrica\")\n",
    "    print(\"3. Experimentar con propiedad transitiva\")\n",
    "    print(\"4. Aplicar propiedades aditiva/multiplicativa\")\n",
    "    \n",
    "    opcion = input(\"Seleccione una opción (1-4): \")\n",
    "    \n",
    "    if opcion == '1':\n",
    "        num = float(input(\"Ingrese un número real: \"))\n",
    "        print(f\"\\nPropiedad reflexiva: {num} = {num} → {num == num}\")\n",
    "        \n",
    "    elif opcion == '2':\n",
    "        a = float(input(\"Ingrese a: \"))\n",
    "        b = float(input(\"Ingrese b: \"))\n",
    "        print(f\"\\nSi {a} = {b} entonces {b} = {a}\")\n",
    "        print(f\"Resultado: {a == b and b == a}\")\n",
    "        \n",
    "    elif opcion == '3':\n",
    "        a = float(input(\"Ingrese a: \"))\n",
    "        b = float(input(\"Ingrese b (debe ser igual a a): \"))\n",
    "        c = float(input(\"Ingrese c (debe ser igual a b): \"))\n",
    "        \n",
    "        if a == b == c:\n",
    "            print(\"\\n✅ Se cumple la transitividad:\")\n",
    "            print(f\"Si {a} = {b} y {b} = {c} entonces {a} = {c}\")\n",
    "        else:\n",
    "            print(\"\\n❌ No se cumple la condición inicial para transitividad\")\n",
    "            \n",
    "    elif opcion == '4':\n",
    "        a = float(input(\"Ingrese a: \"))\n",
    "        b = float(input(\"Ingrese b (debe ser igual a a): \"))\n",
    "        c = float(input(\"Ingrese c (operador): \"))\n",
    "        \n",
    "        if a == b:\n",
    "            print(\"\\nOperaciones mantienen la igualdad:\")\n",
    "            print(f\"Aditiva: {a} + {c} = {b} + {c} → {a+c == b+c}\")\n",
    "            print(f\"Multiplicativa: {a} × {c} = {b} × {c} → {a*c == b*c}\")\n",
    "        else:\n",
    "            print(\"\\n¡Primero debe establecer a = b!\")\n",
    "    \n",
    "    else:\n",
    "        print(\"Opción no válida\")\n",
    "\n",
    "laboratorio_igualdades()\n",
    "```\n",
    "\n",
    "### Actividad 2: Proyecto STEAM - Arte con Igualdades\n",
    "\n",
    "```python\n",
    "def arte_igualdades(tamaño, propiedad):\n",
    "    # Crear matriz basada en propiedades de igualdad\n",
    "    matriz = np.zeros((tamaño, tamaño))\n",
    "    \n",
    "    for i in range(tamaño):\n",
    "        for j in range(tamaño):\n",
    "            if propiedad == 'Reflexiva':\n",
    "                val = 1 if i == j else 0\n",
    "            elif propiedad == 'Simétrica':\n",
    "                val = 1 if (i + j) % 3 == 0 else 0\n",
    "            elif propiedad == 'Transitiva':\n",
    "                val = 1 if (i <= j) and (j <= i + 2) else 0\n",
    "            matriz[i,j] = val\n",
    "    \n",
    "    # Visualización interactiva\n",
    "    fig = px.imshow(matriz, color_continuous_scale=['white', 'darkblue'],\n",
    "                   title=f'Arte Matemático: Propiedad {propiedad}')\n",
    "    fig.update_layout(coloraxis_showscale=False)\n",
    "    fig.show()\n",
    "\n",
    "# Widget interactivo\n",
    "widgets.interact(arte_igualdades,\n",
    "                tamaño=widgets.IntSlider(min=5, max=50, value=10),\n",
    "                propiedad=widgets.Dropdown(options=['Reflexiva', 'Simétrica', 'Transitiva'],\n",
    "                                         value='Reflexiva'))\n",
    "```\n",
    "\n",
    "## 7. Canción/Poema de Aprendizaje\n",
    "\n",
    "**\"Las Igualdades Son Así\"**  \n",
    "*(Melodía: \"La cucaracha\")*\n",
    "\n",
    "```\n",
    "Las igualdades tienen,  \n",
    "propiedades que aprender,  \n",
    "son ocho fundamentales,  \n",
    "vamos a conocer:  \n",
    "\n",
    "Reflexiva es la primera,  \n",
    "todo es igual a sí,  \n",
    "simétrica nos enseña,  \n",
    "el orden no importa aquí.  \n",
    "\n",
    "¡Ay, ay, ay, ay!  \n",
    "Las igualdades son así,  \n",
    "lo que haces de un lado,  \n",
    "al otro lo repites tú.  \n",
    "\n",
    "Transitiva es poderosa,  \n",
    "si a=b y b=c,  \n",
    "entonces a y c son una misma cosa,  \n",
    "eso ya lo ves.  \n",
    "\n",
    "Aditiva y multiplicativa,  \n",
    "operar es permitido,  \n",
    "pero ojo con dividir,  \n",
    "por cero no está admitido.  \n",
    "\n",
    "¡Ay, ay, ay, ay!  \n",
    "Las igualdades son así,  \n",
    "en matemáticas son,  \n",
    "la base para seguir.\n",
    "```\n",
    "\n",
    "## 8. Tareas y Ejercicios\n",
    "\n",
    "```python\n",
    "import random\n",
    "import pandas as pd\n",
    "from IPython.display import display, HTML\n",
    "\n",
    "def generar_tareas_igualdades(url_estudiantes):\n",
    "    # Simulación: Leer lista de estudiantes (en realidad usar pd.read_excel)\n",
    "    estudiantes = ['Estudiante '+chr(65+i) for i in range(20)]\n",
    "    \n",
    "    # Generar 20 ejercicios\n",
    "    ejercicios = []\n",
    "    tipos = [\n",
    "        ('Geométrica', 'Dibuje la representación en balanza de la propiedad {}'),\n",
    "        ('Verbal', 'Describa con sus palabras la propiedad {} y dé un ejemplo'),\n",
    "        ('Computacional', 'Implemente en Python una función que verifique la propiedad {}'),\n",
    "        ('Algebraica', 'Demuestre algebraicamente la propiedad {}'),\n",
    "        ('Aplicada', 'Resuelva un problema real usando la propiedad {}')\n",
    "    ]\n",
    "    \n",
    "    propiedades = ['Reflexiva', 'Simétrica', 'Transitiva', 'Aditiva', 'Multiplicativa', 'Cancelativa']\n",
    "    \n",
    "    for i in range(1, 21):\n",
    "        tipo, plantilla = random.choice(tipos)\n",
    "        prop = random.choice(propiedades)\n",
    "        enunciado = plantilla.format(prop)\n",
    "        \n",
    "        # Añadir detalles específicos para algunos tipos\n",
    "        if tipo == 'Computacional':\n",
    "            enunciado += f\" para números enteros entre 1 y 100.\"\n",
    "        elif tipo == 'Algebraica':\n",
    "            enunciado += f\" usando variables a, b, c ∈ ℝ.\"\n",
    "        elif tipo == 'Aplicada':\n",
    "            contexto = random.choice([\n",
    "                'en física', 'en economía', 'en programación', \n",
    "                'en geometría', 'en estadística'\n",
    "            ])\n",
    "            enunciado = enunciado.replace('un problema', f'un problema {contexto}')\n",
    "        \n",
    "        ejercicios.append({\n",
    "            'Ejercicio': i,\n",
    "            'Tipo': tipo,\n",
    "            'Propiedad': prop,\n",
    "            'Enunciado': enunciado\n",
    "        })\n",
    "    \n",
    "    # Asignar a estudiantes\n",
    "    tareas_asignadas = []\n",
    "    for estudiante in estudiantes:\n",
    "        # Asignar 3 ejercicios únicos por estudiante\n",
    "        ejercicios_asignados = random.sample(ejercicios, 3)\n",
    "        for ej in ejercicios_asignados:\n",
    "            tareas_asignadas.append({\n",
    "                'Estudiante': estudiante,\n",
    "                'Ejercicio': ej['Ejercicio'],\n",
    "                'Tipo': ej['Tipo'],\n",
    "                'Propiedad': ej['Propiedad'],\n",
    "                'Enunciado': ej['Enunciado']\n",
    "            })\n",
    "    \n",
    "    # Crear DataFrame\n",
    "    df_tareas = pd.DataFrame(tareas_asignadas)\n",
    "    \n",
    "    # Mostrar ejemplo\n",
    "    display(HTML(\"<h3>Ejemplo de Tarea Asignada:</h3>\"))\n",
    "    ejemplo = df_tareas.sample(1).iloc[0]\n",
    "    display(HTML(f\"<b>Estudiante:</b> {ejemplo['Estudiante']}<br>\"\n",
    "                f\"<b>Ejercicio {ejemplo['Ejercicio']} ({ejemplo['Tipo']}):</b> \"\n",
    "                f\"{ejemplo['Enunciado']}\"))\n",
    "    \n",
    "    return df_tareas\n",
    "\n",
    "# Usar la función (simulando la URL)\n",
    "tareas = generar_tareas_igualdades(\"https://github.com/marco-canas/groups_list/blob/main/vector_geometry_and_linear_algebra.xlsx\")\n",
    "```\n",
    "\n",
    "## 9. Evaluación\n",
    "\n",
    "### Proyectos STEAM (5 ejemplos de 20):\n",
    "1. **Simulador Visual de Ecuaciones:** Crear una aplicación interactiva que muestre cómo las operaciones mantienen la igualdad.\n",
    "2. **Arte Generativo con Igualdades:** Diseñar patrones artísticos basados en propiedades de igualdades.\n",
    "3. **Juego Educativo:** Desarrollar un juego de puzzles donde se apliquen propiedades de igualdades para avanzar.\n",
    "4. **Modelo Físico:** Construir un modelo físico (con materiales reciclados) que represente las propiedades.\n",
    "5. **Análisis de Datos:** Investigar cómo se aplican estas propiedades en algoritmos de ciencia de datos.\n",
    "\n",
    "### Quiz Ejemplo:\n",
    "1. **Item 1:** Demuestre geométricamente (con diagrama) la propiedad simétrica de las igualdades.\n",
    "2. **Item 2:** Implemente una función Python que verifique si tres números cumplen la propiedad transitiva.\n",
    "3. **Item 3:** Explique con un ejemplo real por qué la propiedad multiplicativa no funciona si multiplicamos por cero.\n",
    "\n",
    "### Parcial Ejemplo:\n",
    "1. **Item 1:** Demuestre algebraicamente que $(a = b) \\land (b = c) \\Rightarrow (a + c = 2b)$\n",
    "2. **Item 2:** Cree una visualización animada que muestre la aplicación de la propiedad aditiva.\n",
    "3. **Item 3:** Resuelva: \"Si tienes la ecuación $3(x + 2) = 3x + 6$, ¿qué propiedades se aplicaron?\"\n",
    "4. **Item 4:** Diseñe un algoritmo para verificar igualdades en números de 100+ dígitos.\n",
    "5. **Item 5:** Proponga 3 aplicaciones de estas propiedades en inteligencia artificial.\n",
    "\n",
    "## 10. Retroalimentación\n",
    "\n",
    "**Sistema de Feedback Automatizado:**\n",
    "```python\n",
    "def retroalimentacion_igualdades(respuestas):\n",
    "    feedback = []\n",
    "    for i, (ejercicio, respuesta) in enumerate(respuestas.items(), 1):\n",
    "        if ejercicio % 3 == 0:\n",
    "            fb = f\"Ejercicio {i}: ✅ Excelente aplicación de conceptos. Has integrado bien las representaciones.\"\n",
    "        elif ejercicio % 3 == 1:\n",
    "            fb = f\"Ejercicio {i}: 🔍 Revisa la propiedad {respuesta.get('propiedad', '')}. Considera usar una representación gráfica para reforzar.\"\n",
    "        else:\n",
    "            fb = f\"Ejercicio {i}: 💡 Buen intento. Para mejorar: {random.choice(['explica paso a paso', 'muestra un contraejemplo', 'implementa en código'])}\"\n",
    "        \n",
    "        feedback.append(fb)\n",
    "    \n",
    "    # Mostrar con widgets interactivos\n",
    "    accordion = widgets.Accordion(children=[widgets.Output() for _ in feedback])\n",
    "    for i, fb in enumerate(feedback):\n",
    "        accordion.set_title(i, f\"Ejercicio {i+1}\")\n",
    "        with accordion.children[i]:\n",
    "            print(fb)\n",
    "            if i % 3 == 0:\n",
    "                display(HTML(\"<img src='https://tinyurl.com/star-emoji' width='30'>\"))\n",
    "            elif i % 3 == 1:\n",
    "                display(HTML(\"<img src='https://tinyurl.com/magnifying-glass' width='30'>\"))\n",
    "            else:\n",
    "                display(HTML(\"<img src='https://tinyurl.com/idea-emoji' width='30'>\"))\n",
    "    \n",
    "    display(accordion)\n",
    "\n",
    "# Simulación de respuestas\n",
    "respuestas_ejemplo = {\n",
    "    1: {'propiedad': 'Reflexiva', 'respuesta': 'a = a'},\n",
    "    2: {'propiedad': 'Simétrica', 'respuesta': 'a=b ⇒ b=a'},\n",
    "    3: {'propiedad': 'Transitiva', 'respuesta': 'a=b ∧ b=c ⇒ a=c'}\n",
    "}\n",
    "retroalimentacion_igualdades(respuestas_ejemplo)\n",
    "```\n",
    "\n",
    "## 11. Vocabulario en Inglés\n",
    "\n",
    "**Términos clave:**\n",
    "- Equality properties → Propiedades de igualdad\n",
    "- Reflexive property → Propiedad reflexiva\n",
    "- Symmetric property → Propiedad simétrica\n",
    "- Transitive property → Propiedad transitiva\n",
    "- Additive property → Propiedad aditiva\n",
    "- Multiplicative property → Propiedad multiplicativa\n",
    "- Substitution property → Propiedad de sustitución\n",
    "- Cancellation property → Propiedad cancelativa\n",
    "- Real numbers → Números reales\n",
    "- Algebraic proof → Demostración algebraica\n",
    "- Counterexample → Contraejemplo\n",
    "\n",
    "**Frases útiles:**\n",
    "- \"Both sides of the equation must remain balanced\" → Ambos lados de la ecuación deben permanecer balanceados\n",
    "- \"You can perform the same operation on both sides\" → Puedes realizar la misma operación en ambos lados\n",
    "- \"The equation holds true under this transformation\" → La ecuación sigue siendo válida bajo esta transformación\n",
    "- \"Let's verify the equality by substitution\" → Verifiquemos la igualdad por sustitución\n",
    "- \"This follows from the fundamental properties of equality\" → Esto se deduce de las propiedades fundamentales de igualdad\n",
    "\n",
    "## 12. Apéndice: Habilidades Blandas\n",
    "\n",
    "**Trabajo en Equipo:**\n",
    "- Técnica \"Think-Pair-Share\" para discusión de propiedades\n",
    "- Roles rotativos en proyectos: Teórico (algebraico), Visual (geométrico), Programador (computacional)\n",
    "\n",
    "**Inteligencia Emocional:**\n",
    "- Ejercicios de respiración antes de demostraciones\n",
    "- Diario reflexivo: \"¿Cómo me sentí aplicando cada propiedad?\"\n",
    "- Discusión ética: \"Importancia de la igualdad en las relaciones humanas\"\n",
    "\n",
    "**Autoevaluación:**\n",
    "```python\n",
    "def autoevaluacion_habilidades():\n",
    "    habilidades = {\n",
    "        \"Comprensión conceptual\": \"¿Entiendo las propiedades en diferentes representaciones?\",\n",
    "        \"Aplicación práctica\": \"¿Puedo aplicarlas a problemas nuevos?\",\n",
    "        \"Trabajo colaborativo\": \"¿Contribuí al aprendizaje grupal?\",\n",
    "        \"Manejo de frustración\": \"¿Cómo manejé los errores en el proceso?\"\n",
    "    }\n",
    "    \n",
    "    print(\"📊 Autoevaluación de Habilidades (1-5 escala)\")\n",
    "    resultados = {}\n",
    "    for habilidad, pregunta in habilidades.items():\n",
    "        resultados[habilidad] = int(input(f\"{pregunta} (1-5): \"))\n",
    "    \n",
    "    # Visualización\n",
    "    fig = px.bar(x=list(resultados.keys()), y=list(resultados.values()),\n",
    "                labels={'x': 'Habilidad', 'y': 'Puntuación'},\n",
    "                title='Autoevaluación de Habilidades Blandas',\n",
    "                color=list(resultados.keys()))\n",
    "    fig.show()\n",
    "\n",
    "autoevaluacion_habilidades()\n",
    "```\n"
   ]
  },
  {
   "cell_type": "markdown",
   "id": "f900fa78",
   "metadata": {},
   "source": [
    "\n",
    "## 13. Referentes en Didáctica (APA)\n",
    "\n",
    "1. Duval, R. (2017). *Ver y enseñar las matemáticas como formas de hablar*. Ediciones Universidad de los Andes.\n",
    "\n",
    "2. Wing, J. M. (2011). Research notebook: Computational thinking—What and why? *The Link Magazine*, 6, 20-23.\n",
    "\n",
    "3. Polya, G. (1957). *How to solve it* (2nd ed.). Princeton University Press.\n",
    "\n",
    "4. Skemp, R. R. (1987). *The psychology of learning mathematics*. Lawrence Erlbaum Associates.\n",
    "\n",
    "5. Hiebert, J., & Grouws, D. A. (2007). The effects of classroom mathematics teaching on students' learning. In F. K. Lester (Ed.), *Second handbook of research on mathematics teaching and learning* (pp. 371-404). Information Age Publishing.\n",
    "\n",
    "6. Lesh, R., & Lehrer, R. (2000). Iterative refinement cycles for videotape analyses of conceptual change. In A. E. Kelly & R. A. Lesh (Eds.), *Handbook of research design in mathematics and science education* (pp. 665-708). Lawrence Erlbaum.\n",
    "\n",
    "7. Boaler, J. (2015). *Mathematical mindsets: Unleashing students' potential through creative math, inspiring messages and innovative teaching*. Jossey-Bass.\n",
    "\n",
    "8. Mason, J., & Johnston-Wilder, S. (2004). *Fundamental constructs in mathematics education*. RoutledgeFalmer.\n",
    "\n",
    "9. Sfard, A. (2008). *Thinking as communicating: Human development, the growth of discourses, and mathematizing*. Cambridge University Press.\n",
    "\n",
    "10. National Council of Teachers of Mathematics. (2014). *Principles to actions: Ensuring mathematical success for all*. NCTM.\n",
    "\n",
    "Como señala Duval (2017), \"la comprensión en matemáticas requiere poder traducir entre diferentes sistemas de representación\". Este principio fundamenta nuestro enfoque múltiple para enseñar las propiedades de igualdad. Complementando esto, Wing (2011) enfatiza que \"el pensamiento computacional implica formular problemas de manera que sus soluciones puedan ser representadas como secuencias de pasos y algoritmos\", lo que aplicamos al implementar estas propiedades en Python."
   ]
  },
  {
   "cell_type": "markdown",
   "id": "596bbb56",
   "metadata": {},
   "source": [
    "# Función de asignación de tareas  para el curso de Álgebra y trigonometría  \n",
    "\n"
   ]
  },
  {
   "cell_type": "code",
   "execution_count": 5,
   "id": "e137bcaf",
   "metadata": {},
   "outputs": [],
   "source": [
    "import pandas as pd \n",
    "import random \n",
    "def asignar_tareas(lista_estudiantes):\n",
    "    # Leer lista de estudiantes\n",
    "    estudiantes = pd.read_excel(lista_estudiantes, engine = 'openpyxl')\n",
    "    \n",
    "    # Generar 20 ejercicios\n",
    "    ejercicios = []\n",
    "    for i in range(1, 21):\n",
    "        # Diferentes tipos de problemas\n",
    "        if i <= 5:\n",
    "            tipo = \"Álgebra (Ecuaciones polinómicas)\"\n",
    "        elif i <= 10:\n",
    "            tipo = \"Trigonometría (Identidades)\"\n",
    "        elif i <= 15:\n",
    "            tipo = \"Geometría Analítica\"\n",
    "        else:\n",
    "            tipo = \"Problemas aplicados\"\n",
    "        \n",
    "        ejercicios.append({\n",
    "            \"ID\": i,\n",
    "            \"Tipo\": tipo,\n",
    "            \"Descripción\": f\"Ejercicio {i}: Resolver problema de {tipo}\",\n",
    "            \"Python\": f\"Implementar solución para ejercicio {i}\",\n",
    "            \"Teoría\": f\"Explicación conceptual del ejercicio {i}\"\n",
    "        })\n",
    "    \n",
    "    # Asignar aleatoriamente a cada estudiante\n",
    "    tareas_asignadas = []\n",
    "    for _, estudiante in estudiantes.iterrows():\n",
    "        ejercicios_est = random.sample(ejercicios, 2)  # 2 ejercicios por estudiante\n",
    "        tareas_asignadas.append({\n",
    "            \"Estudiante\": estudiante['Nombre'],\n",
    "            \"ID_Estudiante\": estudiante['Cedula'],\n",
    "            \"Ejercicio_1\": ejercicios_est[0][\"Descripción\"],\n",
    "            \"Ejercicio_2\": ejercicios_est[1][\"Descripción\"],\n",
    "            \"Requisitos_Python\": f\"Debe implementar: {ejercicios_est[0]['Python']} y {ejercicios_est[1]['Python']}\",\n",
    "            \"Explicación_Teórica\": f\"Debe explicar: {ejercicios_est[0]['Teoría']} y {ejercicios_est[1]['Teoría']}\"\n",
    "        })\n",
    "    \n",
    "    return pd.DataFrame(tareas_asignadas)\n"
   ]
  },
  {
   "cell_type": "code",
   "execution_count": 6,
   "id": "528a0dfb",
   "metadata": {},
   "outputs": [],
   "source": [
    "\n",
    "# Uso de la función\n",
    "tareas = asignar_tareas(r\"C:\\Users\\marco\\Documentos\\docencia\\groups_list\\algebra_and_trigonometry.xlsx\")\n",
    "tareas.to_excel(r\"C:\\Users\\marco\\Documentos\\docencia\\groups_list\\algebra_and_trigonometry_tareas_asignadas.xlsx\", \\\n",
    "    index=False)\n"
   ]
  },
  {
   "cell_type": "markdown",
   "id": "cc539357",
   "metadata": {},
   "source": [
    "# [Programación de programa Regiones](https://lookerstudio.google.com/reporting/44e71da0-d16f-4a51-a51e-d5ae6c19b3f1/page/p_gy4nwf37hd?pli=1)"
   ]
  },
  {
   "cell_type": "markdown",
   "id": "8ba64aed",
   "metadata": {},
   "source": [
    "# Cursos que orienta el profesor Marco Julio Cañas Campillo en 2025  \n",
    "\n",
    "1. Lunes 8 a 12: Fundamentos de Lógica: Licenciatura en Matemáticas . \n",
    "2. Martes de 9 a 10: Curso de ML and DL para Ingeniero Juan Gomez en España.  \n",
    "3. Martes de 2 a 5 PM: Vector Geometry and Linear Algebra.  \n",
    "4. Miércoles: 10 a 11: Reunión equipo investigador SAT Dengue. \n",
    "5. Miércoles 2 a 3 PM: Asesoría Trabajo de Grado Janis (Estudiante de Biología).  \n",
    "6. Viernes 2 a 6 PM: Análisis Numérico: Programa de Licenciatura en Matemáticas."
   ]
  },
  {
   "cell_type": "markdown",
   "id": "8d41fe58",
   "metadata": {
    "slideshow": {
     "slide_type": "slide"
    }
   },
   "source": [
    "# Horario de clases del profesor Marco\n",
    "\n",
    "* Lunes 8-12:   \n",
    "* Lunes 2- 6 PM: Fundamento de Lógica.  \n",
    "* Martes 8-12 M: . \n",
    "* Miércoles 8 a 12 M:   \n",
    "* Miércoles de 2 a 6 PM: \n",
    "* Jueves 2 a 6 PM:  \n",
    "* Viernes 2 - 4 PM: Análisis Numérico. \n",
    "* Sábados 8-12 Asesorías y espacio para retroalimentación y apoyo al trabajo independiente. "
   ]
  },
  {
   "cell_type": "markdown",
   "id": "ae114e14",
   "metadata": {
    "slideshow": {
     "slide_type": "slide"
    }
   },
   "source": [
    "# Horarios de monitoría y asesoría  \n",
    "\n",
    "* Monitor Manuel San Juan Serrano: Contactar escribiendo al correo: manuel.serrano1@udea.edu.co"
   ]
  },
  {
   "cell_type": "markdown",
   "id": "bf0f9dbf",
   "metadata": {},
   "source": [
    "\n",
    "Coordinador de los cursos de la Facultad de Educación para regiones:    \n",
    "\n",
    "Andrés Vélez: regioneducacion.fedu@udea.edu.co  \n",
    "Coordinador Regiones  \n",
    "Facultad de Educación  \n",
    "Universidad de Antioquia  "
   ]
  },
  {
   "cell_type": "markdown",
   "id": "39559692",
   "metadata": {
    "slideshow": {
     "slide_type": "slide"
    }
   },
   "source": [
    "Martes y jueves de 8 - 12  \n",
    "Miércoles 10 - 12 y de 2 a 4 PM  \n",
    "Sábado: 8 - 12"
   ]
  },
  {
   "cell_type": "markdown",
   "id": "10bce0d0",
   "metadata": {
    "slideshow": {
     "slide_type": "slide"
    }
   },
   "source": [
    "## Referentes "
   ]
  },
  {
   "cell_type": "markdown",
   "id": "1db3c468",
   "metadata": {
    "slideshow": {
     "slide_type": "slide"
    }
   },
   "source": [
    "* [CALCULO I DE UNA VARIABLE Ron Larson-Bruce Edwards. Mc Graw Hill. 9º Edición](https://www.academia.edu/42139251/CALCULO_I_DE_UNA_VARIABLE_Ron_Larson_Bruce_Edwards_Mc_Graw_Hill_9o_Edici%C3%B3n)   \n",
    "  \n",
    "\n",
    "* [Grajales Vanegas, L. M., Restrepo Estrada, C. E., Restrepo Ochoa, S. I., & Ruíz De Villalba, F. (2015). Matemáticas I para las ciencias económicas.](https://bibliotecadigital.udea.edu.co/handle/10495/3010)\n",
    "  \n",
    "* R. Duval y Semiosis y pensamiento humano, 2.ª ed. Cali, Colombia: Programa Editorial Universidad del Valle, 2017. [En línea]. Disponible en: https://programaeditorial.univalle.edu.co/gpd-semiosis-y-pensamiento-humano-9789587655278-63324cdb0f6b3.html\n",
    "\n",
    "* [Aylwin, C. U. (2011). Lógica, conjuntos y números. Universidad de los Andes, Consejo de Publicaciones, Colección: Ciencias Básicas, Serie: Matemáticas.](chrome-extension://efaidnbmnnnibpcajpcglclefindmkaj/https://www.u-cursos.cl/ciencias/2011/1/MC110/1/material_docente/bajar?id_material=574722)\n",
    "  \n",
    "* [Chollet, F. (2021). Deep learning with Python. Simon and Schuster.](chrome-extension://efaidnbmnnnibpcajpcglclefindmkaj/https://tanthiamhuat.wordpress.com/wp-content/uploads/2018/03/deeplearningwithpython.pdf)  \n",
    "  \n",
    "* [Watson, S., Stewart, J., & Redlin, L. (2009). Precálculo. Matemáticas para el cálculo.](https://github.com/marco-canas/calculo/blob/main/referents/1_precalculo_stewart/stewart_precalculo.pdf)  \n",
    "\n",
    "* [Purcell, E. J., Varberg, D., & Rigdon, S. E. (2007). Cálculo diferencial e integral. Pearson Educación.](https://github.com/marco-canas/calculo/blob/main/referents/purcell/purcell_calculo.pdf)\n",
    "\n",
    "  \n",
    "\n",
    "* [stewart cálculo](https://udeaeduco-my.sharepoint.com/:b:/g/personal/marco_canas_udea_edu_co/EZgXZjAp8QxPqOAim2hs6LcBNPLGjSHf-xwYnUVYkwa04w?e=RZdTCy)  \n",
    "\n",
    "\n",
    "\n",
    "\n",
    "\n",
    "* [Recomendación de la UNESCO sobre ciencia abierta](https://unesdoc.unesco.org/ark:/48223/pf0000379949_spa)\n",
    "\n",
    "* [chatGPT](https://openai.com/blog/chatgpt)  \n",
    "\n",
    "* [Géron, A. (2017). Hands-on machine learning with scikit-learn and tensorflow: Concepts. Tools, and Techniques to build intelligent systems.](chrome-extension://efaidnbmnnnibpcajpcglclefindmkaj/http://14.139.161.31/OddSem-0822-1122/Hands-On_Machine_Learning_with_Scikit-Learn-Keras-and-TensorFlow-2nd-Edition-Aurelien-Geron.pdf)   \n"
   ]
  },
  {
   "cell_type": "markdown",
   "id": "df925560",
   "metadata": {},
   "source": [
    "\n",
    "* [McKinney, W. (2012). Python for data analysis: Data wrangling with Pandas, NumPy, and IPython. \" O'Reilly Media, Inc.\".](https://wesmckinney.com/book/) "
   ]
  },
  {
   "cell_type": "markdown",
   "id": "8e65d6f9",
   "metadata": {},
   "source": [
    "# Como estudiante, encuentro que...   \n",
    "\n",
    "F: Mis Fortalezas son:     \n",
    "O: Mis Oportunidades son:    \n",
    "D: Mis Debilidades son:    \n",
    "A: Lo que Amenazas mi aprendizaje es:  "
   ]
  },
  {
   "cell_type": "markdown",
   "id": "6b9e56a8",
   "metadata": {
    "slideshow": {
     "slide_type": "slide"
    }
   },
   "source": [
    "### [Evaluamos al profesor Marco Cañas Aquí](https://forms.office.com/Pages/ResponsePage.aspx?id=IefhmYRxjkmK_7KtTlPBwkanXIs1i1FEujpsZgO6dXpUREJPV1kxUk1JV1ozTFJIQVNIQjY5WEY3US4u)"
   ]
  },
  {
   "cell_type": "markdown",
   "id": "4e8e8ccb",
   "metadata": {},
   "source": [
    "Basado en el diseño de investigación con enfoque IAE (Investigación-Acción Educativa) que compartiste, aquí tienes una propuesta de **sistema de evaluación bidireccional** para el curso *\"Vector Geometry and Linear Algebra\"*, implementable mediante Google Forms y alineado con los ciclos reflexivos de Kemmis & McTaggart:\n",
    "\n",
    "---\n"
   ]
  },
  {
   "cell_type": "markdown",
   "id": "700c88d9",
   "metadata": {},
   "source": [
    "\n",
    "### **Diseño de Evaluación para Ciclo IAE**  \n",
    "*(Para implementar en Google Forms cada 4 semanas)*  \n"
   ]
  },
  {
   "cell_type": "markdown",
   "id": "534441d7",
   "metadata": {},
   "source": [
    "\n",
    "#### **1. Encuesta de Autoevaluación Estudiantil**  \n",
    "**Objetivo**: Monitorear progreso en competencias y percepción del enfoque investigativo.  \n"
   ]
  },
  {
   "cell_type": "markdown",
   "id": "ee74d19c",
   "metadata": {},
   "source": [
    "\n",
    "**Secciones**:  \n",
    "1. **Adquisición de Competencias** (Escala Likert 1-5):  \n",
    "   - *\"¿Cómo evalúas tu dominio actual de:\"*  \n",
    "     - Operaciones con vectores/matrices aplicadas a datasets agrícolas  \n",
    "     - Implementación de PCA/SVD para análisis de imágenes satelitales  \n",
    "     - Interpretación de resultados matemáticos en contextos agropecuarios  \n"
   ]
  },
  {
   "cell_type": "markdown",
   "id": "23d2b1bd",
   "metadata": {},
   "source": [
    "\n",
    "2. **Evaluación de Metodología IAE**:  \n",
    "   - *\"El aprendizaje basado en problemas reales del Bajo Cauca me ha ayudado a:\"*  \n",
    "     - Comprender mejor los conceptos abstractos (1-5)  \n",
    "     - Desarrollar habilidades útiles para mi futuro profesional (1-5)  \n",
    "   - *Espacio abierto*: *\"Describe un momento donde la conexión teoría-práctica fue especialmente significativa para ti\"*  \n"
   ]
  },
  {
   "cell_type": "markdown",
   "id": "6a55b099",
   "metadata": {},
   "source": [
    "\n",
    "3. **Recursos y Herramientas**:  \n",
    "   - *\"Valora la utilidad de:\"*  \n",
    "     - Cuadernos Jupyter adaptados (ej. Géron 2022)  \n",
    "     - Sesiones con agricultores/ingenieros invitados  \n",
    "     - Plataforma GitHub para colaboración  \n",
    "\n",
    "---\n"
   ]
  },
  {
   "cell_type": "markdown",
   "id": "d069bb21",
   "metadata": {},
   "source": [
    "\n",
    "#### **2. Evaluación del Profesor**  \n",
    "**Objetivo**: Retroalimentación para ajustar didáctica según necesidades emergentes.  \n"
   ]
  },
  {
   "cell_type": "markdown",
   "id": "e1080dd0",
   "metadata": {},
   "source": [
    "\n",
    "**Secciones**:  \n",
    "1. **Habilidades Docentes** (Escala 1-5):  \n",
    "   - *\"El profesor facilita la conexión entre álgebra lineal y problemas agrícolas mediante:\"*  \n",
    "     - Explicaciones claras de conceptos abstractos  \n",
    "     - Ejemplos contextualizados (ej. optimización de fertilizantes)  \n",
    "     - Retroalimentación constructiva en proyectos  \n"
   ]
  },
  {
   "cell_type": "markdown",
   "id": "01742d60",
   "metadata": {},
   "source": [
    "\n",
    "2. **Seguimiento a Proyectos**:  \n",
    "   - *\"Las tutorías para los proyectos aplicados son:\"*  \n",
    "     - Suficientes en frecuencia y duración  \n",
    "     - Orientadas a resolver dudas técnicas específicas  \n",
    "     - Útiles para vincular matemáticas con agronomía  \n"
   ]
  },
  {
   "cell_type": "markdown",
   "id": "ca722d62",
   "metadata": {},
   "source": [
    "\n",
    "3. **Espacio cualitativo**:  \n",
    "   - *\"Sugiere un ajuste específico que mejoraría tu experiencia de aprendizaje\"*  \n",
    "\n",
    "---\n"
   ]
  },
  {
   "cell_type": "markdown",
   "id": "568148ad",
   "metadata": {},
   "source": [
    "\n",
    "#### **3. Evaluación de Impacto Social** *(Opcional para proyectos con agricultores)*  \n",
    "**Objetivo**: Medir transferencia de conocimiento al sector productivo.  \n"
   ]
  },
  {
   "cell_type": "markdown",
   "id": "93c7f4bc",
   "metadata": {},
   "source": [
    "\n",
    "**Preguntas clave**:  \n",
    "- *\"¿Cómo ha influido el proyecto estudiantil en el que participaste en tus prácticas agrícolas?\"* (Ej.: reducción de costos, mejora en predicciones)  \n",
    "- *\"¿Recomendarías esta colaboración a otros productores?\"* (Sí/No + justificación)  \n",
    "\n",
    "\n"
   ]
  },
  {
   "cell_type": "markdown",
   "id": "d2b6a2c7",
   "metadata": {},
   "source": [
    "\n",
    "### **Implementación en Google Forms**  \n",
    "1. **Configuración**:  \n",
    "   - Formulario anónimo (excepto evaluación de proyectos con agricultores)  \n",
    "   - Sección obligatoria (competencia + 1 pregunta abierta)  \n",
    "   - Opción de subir archivos (ej.: fotos de trabajos de campo)  \n",
    "\n",
    "2. **Ejemplo de Pregunta con Lógica Condicional**:  \n",
    "   ``` \n",
    "   Si respondiste 1-3 en \"Dominio de PCA aplicado\": \n",
    "   ¿Qué tipo de apoyo adicional necesitarías? (Taller práctico, material adicional, tutoría personalizada)  \n",
    "   ```\n",
    "\n",
    "3. **Enlace accesible**:  \n",
    "   - QR en presentaciones  \n",
    "   - Link en la cabecera del repositorio GitHub  \n",
    "\n",
    "---\n"
   ]
  },
  {
   "cell_type": "markdown",
   "id": "36872955",
   "metadata": {},
   "source": [
    "\n",
    "### **Análisis para Ciclo IAE**  \n",
    "**Herramientas**:  \n",
    "- **NVivo**: Para análisis temático de respuestas cualitativas  \n",
    "- **Google Data Studio**: Dashboard automático con:  \n",
    "  - Evolución temporal de competencias  \n",
    "  - Nube de palabras de sugerencias frecuentes  \n",
    "\n",
    "**Integración con Fases IAE**:  \n",
    "1. **Diagnóstico**: Identificar brechas recurrentes (ej.: dificultad con SVD)  \n",
    "2. **Acción**: Ajustar próximas clases (ej.: taller extra de descomposición matricial)  \n",
    "3. **Reflexión**: Comparar resultados entre ciclos (ej.: mejora en % de dominio de vectores)  \n",
    "\n",
    "**Ejemplo de Pregunta Clave para el Análisis**:  \n",
    "*\"¿Qué tema del módulo actual requirió más tiempo de práctica para su comprensión?\"*  \n",
    "\n",
    "---\n"
   ]
  },
  {
   "cell_type": "markdown",
   "id": "6d92b57d",
   "metadata": {},
   "source": [
    "\n",
    "### **Modelo de Informe Parcial** *(Para socializar con estudiantes)*  \n",
    "```markdown\n",
    "## Resultados Evaluación Ciclo 3 (2025-1)  \n",
    "- **85%** mejoró en interpretación de matrices aplicadas  \n",
    "- **Solicitud principal**: Más ejemplos con datos reales de cacaoteros  \n",
    "- **Ajustes implementados**:  \n",
    "  - Sesión extra con ingeniero de Agrosavia (25/05)  \n",
    "  - Dataset público de nutrientes en suelos arroceros añadido a GitHub  \n",
    "```\n"
   ]
  },
  {
   "cell_type": "markdown",
   "id": "b5c7eb34",
   "metadata": {},
   "source": [
    "\n",
    "Este diseño asegura que las evaluaciones:  \n",
    "✅ Sean **ágiles** (máx. 5 min por estudiante)  \n",
    "✅ Generen **datos accionables** para cada fase IAE  \n",
    "✅ Fomenten la **corresponsabilidad** en el proceso educativo  \n"
   ]
  },
  {
   "cell_type": "markdown",
   "id": "e2a5a506",
   "metadata": {},
   "source": [
    "\n",
    "¿Te gustaría que desarrolle las plantillas específicas de Google Forms o algún ajuste adicional para alinearlo mejor con tus módulos?"
   ]
  },
  {
   "cell_type": "markdown",
   "id": "10f43536",
   "metadata": {
    "slideshow": {
     "slide_type": "slide"
    }
   },
   "source": [
    "### Continue su aprendizaje en la siguiente clase a través del siguiente [vínculo]()"
   ]
  },
  {
   "cell_type": "markdown",
   "id": "53cc9115",
   "metadata": {
    "slideshow": {
     "slide_type": "slide"
    }
   },
   "source": [
    "## Agradecimientos  \n",
    "\n",
    "Doy gracias a Dios por la vida de mi Hijo Joseph Cañas Osorio y la madurez que ha alcanzado. Este hijo me enorgullece y me hace falta abrazarlo cada día. \n",
    "\n",
    "Y a mi esposa Yasmira Emperatriz Barboza Mogollón por su apoyo, orientación y acompañamiento. "
   ]
  },
  {
   "cell_type": "markdown",
   "id": "b6ba1c23",
   "metadata": {},
   "source": [
    "# Apéndice sobre calendarios y coordinaciones \n"
   ]
  },
  {
   "cell_type": "markdown",
   "id": "bf8b6499",
   "metadata": {},
   "source": [
    "## Calendario del semestre académico 2025-2  \n",
    "\n",
    "* Oferta de cursos: 29 de julio de 2025  \n",
    "\n",
    "Matrícula: 30 de julio de 2025  \n",
    "\n",
    "Ajustes de matrícula: 01 al 08 de agosto de 2025  \n",
    "\n",
    "Inicio de clases: 04 de agosto de 2025  \n",
    "\n",
    "Límite evaluación del 40%: 27 de septiembre de 2025  \n",
    "\n",
    "Terminación de clases: 22 de noviembre de 2025\n",
    "\n",
    "Exámenes finales: 24 al 29 de noviembre de 2025\n",
    "\n",
    "Habilitación y validación: 01 al 06 de diciembre 2025\n",
    "\n",
    "Terminación oficial del semestre: 09 de diciembre de 2025  "
   ]
  },
  {
   "cell_type": "markdown",
   "id": "667b9504",
   "metadata": {},
   "source": [
    "\n",
    "A continuación le envío el horario de la asignatura Cálculo Vectorial  \n",
    "\n",
    "Días:  \n",
    "Lunes - Hora: 7:00 a 12:00M  \n",
    "Fechas:  \n",
    "Febrero: 10-17-24                                          \n",
    " Marzo: 3-10-17-31                                                  \n",
    "Abril:7-21-28                                                   \n",
    "Mayo:5-12-19  \n",
    "\n",
    "Agradezco su apoyo, y si presenta alguna dificultad puede contactarme.  \n",
    "\n",
    "Cordialmente,  \n",
    "Juan Felipe Rivera Hernández  \n",
    "Contacto: 3106314300  "
   ]
  }
 ],
 "metadata": {
  "celltoolbar": "Slideshow",
  "kernelspec": {
   "display_name": ".venv",
   "language": "python",
   "name": "python3"
  },
  "language_info": {
   "codemirror_mode": {
    "name": "ipython",
    "version": 3
   },
   "file_extension": ".py",
   "mimetype": "text/x-python",
   "name": "python",
   "nbconvert_exporter": "python",
   "pygments_lexer": "ipython3",
   "version": "3.11.9"
  },
  "rise": {
   "enable_chalkboard": true,
   "theme": "sky",
   "transition": "zoom"
  }
 },
 "nbformat": 4,
 "nbformat_minor": 5
}
