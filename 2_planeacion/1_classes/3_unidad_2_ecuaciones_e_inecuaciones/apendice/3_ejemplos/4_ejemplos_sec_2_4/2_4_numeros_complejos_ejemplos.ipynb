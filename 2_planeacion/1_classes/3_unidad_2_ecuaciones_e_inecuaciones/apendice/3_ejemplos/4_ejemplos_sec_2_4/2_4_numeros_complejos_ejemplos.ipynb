{
 "cells": [
  {
   "cell_type": "markdown",
   "id": "dc06dec7",
   "metadata": {
    "slideshow": {
     "slide_type": "slide"
    }
   },
   "source": [
    "<table align=\"left\">\n",
    "  <td>\n",
    "    <a href=\"https://colab.research.google.com/github/marco-canas/algebra_y_trigonometria/blob/main/classes/0_formatos_clase/algebra_and_trigonometry.ipynb\" target=\"_parent\"><img src=\"https://colab.research.google.com/assets/colab-badge.svg\" alt=\"Open In Colab\"/></a>\n",
    "  </td>\n",
    "  <td>\n",
    "    <a target=\"_blank\" href=\"https://kaggle.com/kernels/welcome?src=https://github.com/marco-canas/algebra_y_trigonometria/blob/main/classes/0_formatos_clase/algebra_and_trigonometry.ipynb\"><img src=\"https://kaggle.com/static/images/open-in-kaggle.svg\" /></a>\n",
    "  </td>\n",
    "</table>"
   ]
  },
  {
   "cell_type": "markdown",
   "id": "9eee306b",
   "metadata": {},
   "source": [
    "# generación del QR para el cuaderno de esta clase    \n",
    "\n",
    "Aquí tienes una función de Python que genera un código QR a partir de una URL y lo muestra en un cuaderno Jupyter:\n"
   ]
  },
  {
   "cell_type": "code",
   "execution_count": 1,
   "id": "7e0dbf6e",
   "metadata": {},
   "outputs": [],
   "source": [
    "import qrcode\n",
    "from IPython.display import display\n",
    "\n",
    "def generar_qr_notebook(url):\n",
    "    \"\"\"\n",
    "    Genera un código QR para una URL y lo muestra en un cuaderno Jupyter.\n",
    "    \n",
    "    Parámetros:\n",
    "    url (str): La URL para la cual se generará el código QR.\n",
    "    \n",
    "    Retorna:\n",
    "    None (pero muestra el código QR en el notebook)\n",
    "    \"\"\"\n",
    "    # Crear el objeto QR\n",
    "    qr = qrcode.QRCode(\n",
    "        version=1,\n",
    "        error_correction=qrcode.constants.ERROR_CORRECT_L,\n",
    "        box_size=10,\n",
    "        border=4,\n",
    "    )\n",
    "    \n",
    "    # Añadir la URL al código QR\n",
    "    qr.add_data(url)\n",
    "    qr.make(fit=True)\n",
    "    \n",
    "    # Crear la imagen del QR\n",
    "    img = qr.make_image(fill_color=\"black\", back_color=\"white\")\n",
    "    \n",
    "    # Mostrar la imagen en el notebook\n",
    "    display(img)\n",
    "\n"
   ]
  },
  {
   "cell_type": "code",
   "execution_count": null,
   "id": "79e4ce17",
   "metadata": {},
   "outputs": [],
   "source": [
    "generar_qr_notebook()"
   ]
  },
  {
   "cell_type": "markdown",
   "id": "a6647ca4",
   "metadata": {},
   "source": [
    "\n",
    "### Notas:\n",
    "- La función usa la biblioteca `qrcode` para generar el código y `IPython.display` para mostrarlo en el notebook.\n",
    "- El código QR aparecerá como salida de la celda donde llames a la función.\n",
    "- Puedes ajustar parámetros como `box_size` (tamaño de los cuadrados) o `border` (tamaño del borde) según tus necesidades.\n"
   ]
  },
  {
   "cell_type": "markdown",
   "id": "e0c5b198",
   "metadata": {
    "slideshow": {
     "slide_type": "slide"
    }
   },
   "source": [
    "### [Video de apoyo a la lectura interactiva y experimental de este cuaderno]()"
   ]
  },
  {
   "cell_type": "markdown",
   "id": "41e82203",
   "metadata": {
    "slideshow": {
     "slide_type": "slide"
    }
   },
   "source": [
    "### [Vínculo al programa del curso Algebra_and_trigonometry:  ](https://github.com/marco-canas/algebra_y_trigonometria/blob/main/0_programa_curso/programa_algebra_and_trigonometry.md)\n",
    "Código del curso: 303001  "
   ]
  },
  {
   "cell_type": "markdown",
   "id": "d11ab06d",
   "metadata": {
    "slideshow": {
     "slide_type": "slide"
    }
   },
   "source": [
    "Un reconocimiento a mis estudiantes que han construido conmigo este saber pedagógico:\n",
    "\n",
    "<img src = 'https://github.com/marco-canas/algebra_y_trigonometria/blob/main/images/primera_clase_2025-08-05_a_las_12.06.22.jpg?raw=true'>   \n",
    "\n"
   ]
  },
  {
   "cell_type": "markdown",
   "id": "8a74a56c-0ce6-4ad6-b985-553fd7fb68bb",
   "metadata": {},
   "source": [
    "Reconocimiento a las profesoras destacadas en enseñanza de la matemática en Colombia\n"
   ]
  },
  {
   "cell_type": "code",
   "execution_count": 1,
   "id": "7604880f",
   "metadata": {
    "slideshow": {
     "slide_type": "slide"
    }
   },
   "outputs": [
    {
     "data": {
      "application/vnd.microsoft.datawrangler.viewer.v0+json": {
       "columns": [
        {
         "name": "index",
         "rawType": "int64",
         "type": "integer"
        },
        {
         "name": "Cedula",
         "rawType": "int64",
         "type": "integer"
        },
        {
         "name": "Nombre",
         "rawType": "object",
         "type": "string"
        },
        {
         "name": "Email",
         "rawType": "object",
         "type": "string"
        },
        {
         "name": "q1",
         "rawType": "float64",
         "type": "float"
        },
        {
         "name": "p1",
         "rawType": "float64",
         "type": "float"
        },
        {
         "name": "q2",
         "rawType": "float64",
         "type": "float"
        },
        {
         "name": "q3",
         "rawType": "float64",
         "type": "float"
        },
        {
         "name": "p2",
         "rawType": "float64",
         "type": "float"
        }
       ],
       "ref": "aa4720cd-a268-4628-bfba-c3cef0fc63bc",
       "rows": [
        [
         "1",
         "1038648096",
         "ACEVEDO BELEÑO SANTIAGO",
         "sacevedo.beleno@udea.edu.co",
         "4.4",
         "3.9",
         "5.0",
         "4.6",
         null
        ],
        [
         "2",
         "1038111190",
         "CANOLE PEÑATE SEBASTIAN",
         "sebastian.canolep@udea.edu.co",
         "2.1",
         "3.1",
         "3.2",
         "3.4",
         null
        ],
        [
         "3",
         "1038113597",
         "CORREA RESTREPO NICOLAS",
         "nicolas.crestrepo@udea.edu.co",
         "3.0",
         "2.2",
         "5.0",
         "4.4",
         null
        ],
        [
         "4",
         "1038108190",
         "HERNANDEZ GOMEZ MICHAEL",
         "michael.hernandez@udea.edu.co",
         "0.0",
         "0.2",
         "0.0",
         "0.0",
         "0.0"
        ],
        [
         "5",
         "1038648760",
         "MARIN VILLARREAL PABLO ALEJANDRO",
         "pablo.marin1@udea.edu.co",
         "2.4",
         "3.1",
         "3.2",
         "2.3",
         null
        ],
        [
         "6",
         "1193401041",
         "MARTINEZ MANJARREZ DANIELA ESTHER",
         "daniela.martinezm@udea.edu.co",
         "1.6",
         "1.3",
         "4.2",
         "2.1",
         null
        ],
        [
         "7",
         "1038108720",
         "MEJIA GUZMAN SAMUEL",
         "samuel.mguzman@udea.edu.co",
         "1.7",
         "2.3",
         "5.0",
         "3.0",
         null
        ],
        [
         "8",
         "1038647828",
         "NIEBLES BARRERA ALEXANDER ISAAC",
         "alexander.niebles@udea.edu.co",
         "3.5",
         "2.8",
         "5.0",
         "5.0",
         null
        ],
        [
         "9",
         "1045426138",
         "OQUENDO MONA CRISTIAN GABRIEL",
         "cristian.oquendo1@udea.edu.co",
         "1.0",
         "0.2",
         "0.5",
         "1.6",
         null
        ],
        [
         "10",
         "1038136953",
         "PATINO GIL CHRISTIAN FELIPE",
         "christian.patino1@udea.edu.co",
         "5.0",
         "4.7",
         "5.0",
         "5.0",
         null
        ],
        [
         "11",
         "1032250901",
         "PINO VERGARA LIZETH",
         "lizeth.pino@udea.edu.co",
         "1.8",
         "0.6",
         "1.2",
         "1.8",
         "0.0"
        ],
        [
         "12",
         "1038092717",
         "RIVERA GUZMAN CRISTIAN",
         "cristian.rivera2@udea.edu.co",
         "5.0",
         "5.0",
         "5.0",
         "4.2",
         null
        ],
        [
         "13",
         "1038110693",
         "ROMERO CALDERA JUAN ESTEBAN",
         "juanesteban.romero@udea.edu.co",
         "2.3",
         "1.6",
         "4.2",
         "2.9",
         "0.0"
        ],
        [
         "14",
         "1038647713",
         "SÁNCHEZ HERRERA JUAN ESTEVAN",
         "estevan.sanchez@udea.edu.co",
         "4.0",
         "2.8",
         "2.6",
         "0.8",
         null
        ],
        [
         "15",
         "1063359347",
         "SANCHEZ PACHECO MOISES DAVID",
         "moises.sanchez1@udea.edu.co",
         "1.6",
         "3.0",
         "3.0",
         "1.7",
         "1.6"
        ],
        [
         "16",
         "1066600819",
         "TIRADO CHAVARRIA WILFRAN DE JESUS",
         "wilfran.tirado@udea.edu.co",
         "2.1",
         "3.0",
         "4.6",
         "4.8",
         null
        ],
        [
         "17",
         "1038136995",
         "VERGARA ACEVEDO SARA CRISTINA",
         "scristina.vergara@udea.edu.co",
         "2.0",
         "3.3",
         "5.0",
         "4.7",
         "0.0"
        ],
        [
         "18",
         "1007452831",
         "VILORIA SIERRA ALEXANDER",
         "a.viloria1@udea.edu.co",
         "0.1",
         "1.6",
         "5.0",
         "0.6",
         "1.3"
        ],
        [
         "19",
         "98640265",
         "MARCO JULIO CAÑAS CAMPILLO",
         "marco.canas@udea.edu.co",
         null,
         null,
         null,
         null,
         null
        ]
       ],
       "shape": {
        "columns": 8,
        "rows": 19
       }
      },
      "text/html": [
       "<div>\n",
       "<style scoped>\n",
       "    .dataframe tbody tr th:only-of-type {\n",
       "        vertical-align: middle;\n",
       "    }\n",
       "\n",
       "    .dataframe tbody tr th {\n",
       "        vertical-align: top;\n",
       "    }\n",
       "\n",
       "    .dataframe thead th {\n",
       "        text-align: right;\n",
       "    }\n",
       "</style>\n",
       "<table border=\"1\" class=\"dataframe\">\n",
       "  <thead>\n",
       "    <tr style=\"text-align: right;\">\n",
       "      <th></th>\n",
       "      <th>Cedula</th>\n",
       "      <th>Nombre</th>\n",
       "      <th>Email</th>\n",
       "      <th>q1</th>\n",
       "      <th>p1</th>\n",
       "      <th>q2</th>\n",
       "      <th>q3</th>\n",
       "      <th>p2</th>\n",
       "    </tr>\n",
       "  </thead>\n",
       "  <tbody>\n",
       "    <tr>\n",
       "      <th>1</th>\n",
       "      <td>1038648096</td>\n",
       "      <td>ACEVEDO BELEÑO SANTIAGO</td>\n",
       "      <td>sacevedo.beleno@udea.edu.co</td>\n",
       "      <td>4.4</td>\n",
       "      <td>3.9</td>\n",
       "      <td>5.0</td>\n",
       "      <td>4.6</td>\n",
       "      <td>NaN</td>\n",
       "    </tr>\n",
       "    <tr>\n",
       "      <th>2</th>\n",
       "      <td>1038111190</td>\n",
       "      <td>CANOLE PEÑATE SEBASTIAN</td>\n",
       "      <td>sebastian.canolep@udea.edu.co</td>\n",
       "      <td>2.1</td>\n",
       "      <td>3.1</td>\n",
       "      <td>3.2</td>\n",
       "      <td>3.4</td>\n",
       "      <td>NaN</td>\n",
       "    </tr>\n",
       "    <tr>\n",
       "      <th>3</th>\n",
       "      <td>1038113597</td>\n",
       "      <td>CORREA RESTREPO NICOLAS</td>\n",
       "      <td>nicolas.crestrepo@udea.edu.co</td>\n",
       "      <td>3.0</td>\n",
       "      <td>2.2</td>\n",
       "      <td>5.0</td>\n",
       "      <td>4.4</td>\n",
       "      <td>NaN</td>\n",
       "    </tr>\n",
       "    <tr>\n",
       "      <th>4</th>\n",
       "      <td>1038108190</td>\n",
       "      <td>HERNANDEZ GOMEZ MICHAEL</td>\n",
       "      <td>michael.hernandez@udea.edu.co</td>\n",
       "      <td>0.0</td>\n",
       "      <td>0.2</td>\n",
       "      <td>0.0</td>\n",
       "      <td>0.0</td>\n",
       "      <td>0.0</td>\n",
       "    </tr>\n",
       "    <tr>\n",
       "      <th>5</th>\n",
       "      <td>1038648760</td>\n",
       "      <td>MARIN VILLARREAL PABLO ALEJANDRO</td>\n",
       "      <td>pablo.marin1@udea.edu.co</td>\n",
       "      <td>2.4</td>\n",
       "      <td>3.1</td>\n",
       "      <td>3.2</td>\n",
       "      <td>2.3</td>\n",
       "      <td>NaN</td>\n",
       "    </tr>\n",
       "    <tr>\n",
       "      <th>6</th>\n",
       "      <td>1193401041</td>\n",
       "      <td>MARTINEZ MANJARREZ DANIELA ESTHER</td>\n",
       "      <td>daniela.martinezm@udea.edu.co</td>\n",
       "      <td>1.6</td>\n",
       "      <td>1.3</td>\n",
       "      <td>4.2</td>\n",
       "      <td>2.1</td>\n",
       "      <td>NaN</td>\n",
       "    </tr>\n",
       "    <tr>\n",
       "      <th>7</th>\n",
       "      <td>1038108720</td>\n",
       "      <td>MEJIA GUZMAN SAMUEL</td>\n",
       "      <td>samuel.mguzman@udea.edu.co</td>\n",
       "      <td>1.7</td>\n",
       "      <td>2.3</td>\n",
       "      <td>5.0</td>\n",
       "      <td>3.0</td>\n",
       "      <td>NaN</td>\n",
       "    </tr>\n",
       "    <tr>\n",
       "      <th>8</th>\n",
       "      <td>1038647828</td>\n",
       "      <td>NIEBLES BARRERA ALEXANDER ISAAC</td>\n",
       "      <td>alexander.niebles@udea.edu.co</td>\n",
       "      <td>3.5</td>\n",
       "      <td>2.8</td>\n",
       "      <td>5.0</td>\n",
       "      <td>5.0</td>\n",
       "      <td>NaN</td>\n",
       "    </tr>\n",
       "    <tr>\n",
       "      <th>9</th>\n",
       "      <td>1045426138</td>\n",
       "      <td>OQUENDO MONA CRISTIAN GABRIEL</td>\n",
       "      <td>cristian.oquendo1@udea.edu.co</td>\n",
       "      <td>1.0</td>\n",
       "      <td>0.2</td>\n",
       "      <td>0.5</td>\n",
       "      <td>1.6</td>\n",
       "      <td>NaN</td>\n",
       "    </tr>\n",
       "    <tr>\n",
       "      <th>10</th>\n",
       "      <td>1038136953</td>\n",
       "      <td>PATINO GIL CHRISTIAN FELIPE</td>\n",
       "      <td>christian.patino1@udea.edu.co</td>\n",
       "      <td>5.0</td>\n",
       "      <td>4.7</td>\n",
       "      <td>5.0</td>\n",
       "      <td>5.0</td>\n",
       "      <td>NaN</td>\n",
       "    </tr>\n",
       "    <tr>\n",
       "      <th>11</th>\n",
       "      <td>1032250901</td>\n",
       "      <td>PINO VERGARA LIZETH</td>\n",
       "      <td>lizeth.pino@udea.edu.co</td>\n",
       "      <td>1.8</td>\n",
       "      <td>0.6</td>\n",
       "      <td>1.2</td>\n",
       "      <td>1.8</td>\n",
       "      <td>0.0</td>\n",
       "    </tr>\n",
       "    <tr>\n",
       "      <th>12</th>\n",
       "      <td>1038092717</td>\n",
       "      <td>RIVERA GUZMAN CRISTIAN</td>\n",
       "      <td>cristian.rivera2@udea.edu.co</td>\n",
       "      <td>5.0</td>\n",
       "      <td>5.0</td>\n",
       "      <td>5.0</td>\n",
       "      <td>4.2</td>\n",
       "      <td>NaN</td>\n",
       "    </tr>\n",
       "    <tr>\n",
       "      <th>13</th>\n",
       "      <td>1038110693</td>\n",
       "      <td>ROMERO CALDERA JUAN ESTEBAN</td>\n",
       "      <td>juanesteban.romero@udea.edu.co</td>\n",
       "      <td>2.3</td>\n",
       "      <td>1.6</td>\n",
       "      <td>4.2</td>\n",
       "      <td>2.9</td>\n",
       "      <td>0.0</td>\n",
       "    </tr>\n",
       "    <tr>\n",
       "      <th>14</th>\n",
       "      <td>1038647713</td>\n",
       "      <td>SÁNCHEZ HERRERA JUAN ESTEVAN</td>\n",
       "      <td>estevan.sanchez@udea.edu.co</td>\n",
       "      <td>4.0</td>\n",
       "      <td>2.8</td>\n",
       "      <td>2.6</td>\n",
       "      <td>0.8</td>\n",
       "      <td>NaN</td>\n",
       "    </tr>\n",
       "    <tr>\n",
       "      <th>15</th>\n",
       "      <td>1063359347</td>\n",
       "      <td>SANCHEZ PACHECO MOISES DAVID</td>\n",
       "      <td>moises.sanchez1@udea.edu.co</td>\n",
       "      <td>1.6</td>\n",
       "      <td>3.0</td>\n",
       "      <td>3.0</td>\n",
       "      <td>1.7</td>\n",
       "      <td>1.6</td>\n",
       "    </tr>\n",
       "    <tr>\n",
       "      <th>16</th>\n",
       "      <td>1066600819</td>\n",
       "      <td>TIRADO CHAVARRIA WILFRAN DE JESUS</td>\n",
       "      <td>wilfran.tirado@udea.edu.co</td>\n",
       "      <td>2.1</td>\n",
       "      <td>3.0</td>\n",
       "      <td>4.6</td>\n",
       "      <td>4.8</td>\n",
       "      <td>NaN</td>\n",
       "    </tr>\n",
       "    <tr>\n",
       "      <th>17</th>\n",
       "      <td>1038136995</td>\n",
       "      <td>VERGARA ACEVEDO SARA CRISTINA</td>\n",
       "      <td>scristina.vergara@udea.edu.co</td>\n",
       "      <td>2.0</td>\n",
       "      <td>3.3</td>\n",
       "      <td>5.0</td>\n",
       "      <td>4.7</td>\n",
       "      <td>0.0</td>\n",
       "    </tr>\n",
       "    <tr>\n",
       "      <th>18</th>\n",
       "      <td>1007452831</td>\n",
       "      <td>VILORIA SIERRA ALEXANDER</td>\n",
       "      <td>a.viloria1@udea.edu.co</td>\n",
       "      <td>0.1</td>\n",
       "      <td>1.6</td>\n",
       "      <td>5.0</td>\n",
       "      <td>0.6</td>\n",
       "      <td>1.3</td>\n",
       "    </tr>\n",
       "    <tr>\n",
       "      <th>19</th>\n",
       "      <td>98640265</td>\n",
       "      <td>MARCO JULIO CAÑAS CAMPILLO</td>\n",
       "      <td>marco.canas@udea.edu.co</td>\n",
       "      <td>NaN</td>\n",
       "      <td>NaN</td>\n",
       "      <td>NaN</td>\n",
       "      <td>NaN</td>\n",
       "      <td>NaN</td>\n",
       "    </tr>\n",
       "  </tbody>\n",
       "</table>\n",
       "</div>"
      ],
      "text/plain": [
       "        Cedula                             Nombre  \\\n",
       "1   1038648096            ACEVEDO BELEÑO SANTIAGO   \n",
       "2   1038111190            CANOLE PEÑATE SEBASTIAN   \n",
       "3   1038113597            CORREA RESTREPO NICOLAS   \n",
       "4   1038108190            HERNANDEZ GOMEZ MICHAEL   \n",
       "5   1038648760   MARIN VILLARREAL PABLO ALEJANDRO   \n",
       "6   1193401041  MARTINEZ MANJARREZ DANIELA ESTHER   \n",
       "7   1038108720                MEJIA GUZMAN SAMUEL   \n",
       "8   1038647828    NIEBLES BARRERA ALEXANDER ISAAC   \n",
       "9   1045426138      OQUENDO MONA CRISTIAN GABRIEL   \n",
       "10  1038136953        PATINO GIL CHRISTIAN FELIPE   \n",
       "11  1032250901                PINO VERGARA LIZETH   \n",
       "12  1038092717             RIVERA GUZMAN CRISTIAN   \n",
       "13  1038110693        ROMERO CALDERA JUAN ESTEBAN   \n",
       "14  1038647713       SÁNCHEZ HERRERA JUAN ESTEVAN   \n",
       "15  1063359347       SANCHEZ PACHECO MOISES DAVID   \n",
       "16  1066600819  TIRADO CHAVARRIA WILFRAN DE JESUS   \n",
       "17  1038136995      VERGARA ACEVEDO SARA CRISTINA   \n",
       "18  1007452831           VILORIA SIERRA ALEXANDER   \n",
       "19    98640265         MARCO JULIO CAÑAS CAMPILLO   \n",
       "\n",
       "                             Email   q1   p1   q2   q3   p2  \n",
       "1      sacevedo.beleno@udea.edu.co  4.4  3.9  5.0  4.6  NaN  \n",
       "2    sebastian.canolep@udea.edu.co  2.1  3.1  3.2  3.4  NaN  \n",
       "3    nicolas.crestrepo@udea.edu.co  3.0  2.2  5.0  4.4  NaN  \n",
       "4    michael.hernandez@udea.edu.co  0.0  0.2  0.0  0.0  0.0  \n",
       "5         pablo.marin1@udea.edu.co  2.4  3.1  3.2  2.3  NaN  \n",
       "6    daniela.martinezm@udea.edu.co  1.6  1.3  4.2  2.1  NaN  \n",
       "7       samuel.mguzman@udea.edu.co  1.7  2.3  5.0  3.0  NaN  \n",
       "8    alexander.niebles@udea.edu.co  3.5  2.8  5.0  5.0  NaN  \n",
       "9    cristian.oquendo1@udea.edu.co  1.0  0.2  0.5  1.6  NaN  \n",
       "10   christian.patino1@udea.edu.co  5.0  4.7  5.0  5.0  NaN  \n",
       "11         lizeth.pino@udea.edu.co  1.8  0.6  1.2  1.8  0.0  \n",
       "12    cristian.rivera2@udea.edu.co  5.0  5.0  5.0  4.2  NaN  \n",
       "13  juanesteban.romero@udea.edu.co  2.3  1.6  4.2  2.9  0.0  \n",
       "14     estevan.sanchez@udea.edu.co  4.0  2.8  2.6  0.8  NaN  \n",
       "15     moises.sanchez1@udea.edu.co  1.6  3.0  3.0  1.7  1.6  \n",
       "16      wilfran.tirado@udea.edu.co  2.1  3.0  4.6  4.8  NaN  \n",
       "17   scristina.vergara@udea.edu.co  2.0  3.3  5.0  4.7  0.0  \n",
       "18          a.viloria1@udea.edu.co  0.1  1.6  5.0  0.6  1.3  \n",
       "19         marco.canas@udea.edu.co  NaN  NaN  NaN  NaN  NaN  "
      ]
     },
     "execution_count": 1,
     "metadata": {},
     "output_type": "execute_result"
    }
   ],
   "source": [
    "import pandas as pd\n",
    "import numpy as np\n",
    "\n",
    "# Cargar la lista de estudiantes desde el archivo CSV\n",
    "path = 'C:/Users/marco/Documentos/docencia/groups_list/algebra_and_trigonometry.xlsx'\n",
    "df = pd.read_excel(path)\n",
    "df.index = np.arange(1, len(df)+1)\n",
    "df \n"
   ]
  },
  {
   "cell_type": "markdown",
   "id": "d7598d0a-d9b7-4ae0-b029-a0ed6ed1130b",
   "metadata": {},
   "source": [
    "\n",
    "# Principios de mi labor docente"
   ]
  },
  {
   "cell_type": "markdown",
   "id": "4f9d8cf9",
   "metadata": {
    "slideshow": {
     "slide_type": "slide"
    }
   },
   "source": [
    "## Modelo general de clase: [aula invertida](https://www3.gobiernodecanarias.org/medusa/ecoescuela/pedagotic/aprendizaje-invertido-flipped-classroom/)"
   ]
  },
  {
   "cell_type": "markdown",
   "id": "eb6ed03a",
   "metadata": {},
   "source": [
    "<img src = 'https://resources.maneuveringthemiddle.com/wp-content/uploads/2020/07/04212706/1-5.png' width = 200>  \n",
    "\n"
   ]
  },
  {
   "cell_type": "markdown",
   "id": "34319cce-a71b-4f64-aab8-b53e521efa40",
   "metadata": {},
   "source": [
    "# Metodología de Aprendizaje Basado en Problemas y Proyectos (ABPP)\n"
   ]
  },
  {
   "cell_type": "markdown",
   "id": "c4f73d81",
   "metadata": {},
   "source": [
    "\n",
    "<img src = 'https://www.unir.net/wp-content/uploads/2020/07/aprendizaje-problemas2-1-1-1-1.jpeg' width = 200>"
   ]
  },
  {
   "cell_type": "markdown",
   "id": "841a985c-bd9b-4dd3-8e4c-893983980af2",
   "metadata": {},
   "source": [
    "# Desarrollo del pensamiento computacional con Lenguajes Python y R, y con archivos Markdown orientado a la formación en ciencia de datos \n",
    "\n"
   ]
  },
  {
   "cell_type": "markdown",
   "id": "3d0eba94",
   "metadata": {},
   "source": [
    "\n",
    "<img src = 'https://i.ytimg.com/vi/mcG_wcR4e6M/maxresdefault.jpg' width = 200>"
   ]
  },
  {
   "cell_type": "markdown",
   "id": "65aa0404-f7ae-495e-864c-1aec01b4255e",
   "metadata": {},
   "source": [
    "# Principio de fomento a la ciencia abierta, enseñar en el acceso a los datos públicos y el uso de software de código abierto  \n"
   ]
  },
  {
   "cell_type": "markdown",
   "id": "18ae9b87",
   "metadata": {},
   "source": [
    "\n",
    "<img src = 'https://unesdoc.unesco.org/in/rest/Thumb/image?id=p%3A%3Ausmarcdef_0000379949_spa&author=UNESCO&title=Recomendaci%C3%B3n+de+la+UNESCO+sobre+la+Ciencia+Abierta&year=2021&publisher=UNESCO&TypeOfDocument=UnescoPhysicalDocument&mat=PGD&ct=true&size=512&isPhysical=1' width = 200>"
   ]
  },
  {
   "cell_type": "markdown",
   "id": "d9559f85",
   "metadata": {},
   "source": [
    "El enfoque STEAMS en educación preescolar, primaria y secundaria es una extensión del enfoque STEM (Ciencia, Tecnología, Ingeniería y Matemáticas) y su variante STEAM, que incorpora el Arte. "
   ]
  },
  {
   "cell_type": "markdown",
   "id": "0130ec1b",
   "metadata": {},
   "source": [
    "\n",
    "<img src = 'https://www.campuseducacion.com/blog/wp-content/uploads/2023/03/foto01-1.jpg' width = 200>"
   ]
  },
  {
   "cell_type": "markdown",
   "id": "37a6a091",
   "metadata": {},
   "source": [
    "# Y el enfoque de Teoría de Registros de Representación Semiótica de Duval  "
   ]
  },
  {
   "cell_type": "markdown",
   "id": "f39ebbcb",
   "metadata": {},
   "source": [
    "# Ejemplo 1: Adición y multiplicación de números complejos. "
   ]
  },
  {
   "cell_type": "markdown",
   "id": "bda403b2",
   "metadata": {},
   "source": [
    "El conjunto de los números reales puede identificarse con el conjunto de los números complejos de la forma $a + 0i$. También es cómodo denotar el\n",
    "número complejo 0 % bi por bi. Así,  \n",
    "\n",
    "$$\n",
    "(a+0i) + (0 + bi) = (a+0) + (0+b)i = a + bi \n",
    "$$\n",
    "\n",
    "En consecuencia, podemos considerar a % bi como la suma de dos números\n",
    "complejos a y bi (es decir, a % 0i y 0 % bi). Para el número complejo a % bi,\n",
    "decimos que a es la parte real y b es la parte imaginaria."
   ]
  },
  {
   "cell_type": "markdown",
   "id": "079c00c4",
   "metadata": {},
   "source": [
    "# Ejemplo 2: Igualdad de números complejos.   \n",
    "\n",
    "Encuentre los valores de $x$ y $y$, donde x y y son números reales:  \n",
    "\n",
    "$$\n",
    "(2x - 4) + 9i = 8 + 3yi\n",
    "$$"
   ]
  },
  {
   "cell_type": "code",
   "execution_count": null,
   "id": "8467a27a",
   "metadata": {},
   "outputs": [],
   "source": []
  },
  {
   "cell_type": "code",
   "execution_count": null,
   "id": "20784c4d",
   "metadata": {},
   "outputs": [],
   "source": []
  },
  {
   "cell_type": "code",
   "execution_count": null,
   "id": "7439aa94",
   "metadata": {},
   "outputs": [],
   "source": []
  },
  {
   "cell_type": "code",
   "execution_count": null,
   "id": "4dc62c6e",
   "metadata": {},
   "outputs": [],
   "source": []
  },
  {
   "cell_type": "code",
   "execution_count": null,
   "id": "0f0134cd",
   "metadata": {},
   "outputs": [],
   "source": []
  },
  {
   "cell_type": "markdown",
   "id": "cc539357",
   "metadata": {},
   "source": [
    "# [Programación de programa Regiones](https://lookerstudio.google.com/reporting/44e71da0-d16f-4a51-a51e-d5ae6c19b3f1/page/p_gy4nwf37hd?pli=1)"
   ]
  },
  {
   "cell_type": "markdown",
   "id": "8ba64aed",
   "metadata": {},
   "source": [
    "# Cursos que orienta el profesor Marco Julio Cañas Campillo en 2025  \n",
    "\n",
    "1. Lunes 8 a 12: Fundamentos de Lógica: Licenciatura en Matemáticas . \n",
    "2. Martes de 9 a 10: Curso de ML and DL para Ingeniero Juan Gomez en España.  \n",
    "3. Martes de 2 a 5 PM: Vector Geometry and Linear Algebra.  \n",
    "4. Miércoles: 10 a 11: Reunión equipo investigador SAT Dengue. \n",
    "5. Miércoles 2 a 3 PM: Asesoría Trabajo de Grado Janis (Estudiante de Biología).  \n",
    "6. Viernes 2 a 6 PM: Análisis Numérico: Programa de Licenciatura en Matemáticas."
   ]
  },
  {
   "cell_type": "markdown",
   "id": "8d41fe58",
   "metadata": {
    "slideshow": {
     "slide_type": "slide"
    }
   },
   "source": [
    "# Horario de clases del profesor Marco\n",
    "\n",
    "* Lunes 8-12:   \n",
    "* Lunes 2- 6 PM: Fundamento de Lógica.  \n",
    "* Martes 8-12 M: . \n",
    "* Miércoles 8 a 12 M:   \n",
    "* Miércoles de 2 a 6 PM: \n",
    "* Jueves 2 a 6 PM:  \n",
    "* Viernes 2 - 4 PM: Análisis Numérico. \n",
    "* Sábados 8-12 Asesorías y espacio para retroalimentación y apoyo al trabajo independiente. "
   ]
  },
  {
   "cell_type": "markdown",
   "id": "ae114e14",
   "metadata": {
    "slideshow": {
     "slide_type": "slide"
    }
   },
   "source": [
    "# Horarios de monitoría y asesoría  \n",
    "\n",
    "* Monitor Manuel San Juan Serrano: Contactar escribiendo al correo: manuel.serrano1@udea.edu.co"
   ]
  },
  {
   "cell_type": "markdown",
   "id": "bf0f9dbf",
   "metadata": {},
   "source": [
    "\n",
    "Coordinador de los cursos de la Facultad de Educación para regiones:    \n",
    "\n",
    "Andrés Vélez: regioneducacion.fedu@udea.edu.co  \n",
    "Coordinador Regiones  \n",
    "Facultad de Educación  \n",
    "Universidad de Antioquia  "
   ]
  },
  {
   "cell_type": "markdown",
   "id": "39559692",
   "metadata": {
    "slideshow": {
     "slide_type": "slide"
    }
   },
   "source": [
    "Martes y jueves de 8 - 12  \n",
    "Miércoles 10 - 12 y de 2 a 4 PM  \n",
    "Sábado: 8 - 12"
   ]
  },
  {
   "cell_type": "markdown",
   "id": "10bce0d0",
   "metadata": {
    "slideshow": {
     "slide_type": "slide"
    }
   },
   "source": [
    "## Referentes "
   ]
  },
  {
   "cell_type": "markdown",
   "id": "1db3c468",
   "metadata": {
    "slideshow": {
     "slide_type": "slide"
    }
   },
   "source": [
    "* [CALCULO I DE UNA VARIABLE Ron Larson-Bruce Edwards. Mc Graw Hill. 9º Edición](https://www.academia.edu/42139251/CALCULO_I_DE_UNA_VARIABLE_Ron_Larson_Bruce_Edwards_Mc_Graw_Hill_9o_Edici%C3%B3n)   \n",
    "  \n",
    "\n",
    "* [Grajales Vanegas, L. M., Restrepo Estrada, C. E., Restrepo Ochoa, S. I., & Ruíz De Villalba, F. (2015). Matemáticas I para las ciencias económicas.](https://bibliotecadigital.udea.edu.co/handle/10495/3010)\n",
    "  \n",
    "* R. Duval y Semiosis y pensamiento humano, 2.ª ed. Cali, Colombia: Programa Editorial Universidad del Valle, 2017. [En línea]. Disponible en: https://programaeditorial.univalle.edu.co/gpd-semiosis-y-pensamiento-humano-9789587655278-63324cdb0f6b3.html\n",
    "\n",
    "* [Aylwin, C. U. (2011). Lógica, conjuntos y números. Universidad de los Andes, Consejo de Publicaciones, Colección: Ciencias Básicas, Serie: Matemáticas.](chrome-extension://efaidnbmnnnibpcajpcglclefindmkaj/https://www.u-cursos.cl/ciencias/2011/1/MC110/1/material_docente/bajar?id_material=574722)\n",
    "  \n",
    "* [Chollet, F. (2021). Deep learning with Python. Simon and Schuster.](chrome-extension://efaidnbmnnnibpcajpcglclefindmkaj/https://tanthiamhuat.wordpress.com/wp-content/uploads/2018/03/deeplearningwithpython.pdf)  \n",
    "  \n",
    "* [Watson, S., Stewart, J., & Redlin, L. (2009). Precálculo. Matemáticas para el cálculo.](https://github.com/marco-canas/calculo/blob/main/referents/1_precalculo_stewart/stewart_precalculo.pdf)  \n",
    "\n",
    "* [Purcell, E. J., Varberg, D., & Rigdon, S. E. (2007). Cálculo diferencial e integral. Pearson Educación.](https://github.com/marco-canas/calculo/blob/main/referents/purcell/purcell_calculo.pdf)\n",
    "\n",
    "  \n",
    "\n",
    "* [stewart cálculo](https://udeaeduco-my.sharepoint.com/:b:/g/personal/marco_canas_udea_edu_co/EZgXZjAp8QxPqOAim2hs6LcBNPLGjSHf-xwYnUVYkwa04w?e=RZdTCy)  \n",
    "\n",
    "\n",
    "\n",
    "\n",
    "\n",
    "* [Recomendación de la UNESCO sobre ciencia abierta](https://unesdoc.unesco.org/ark:/48223/pf0000379949_spa)\n",
    "\n",
    "* [chatGPT](https://openai.com/blog/chatgpt)  \n",
    "\n",
    "* [Géron, A. (2017). Hands-on machine learning with scikit-learn and tensorflow: Concepts. Tools, and Techniques to build intelligent systems.](chrome-extension://efaidnbmnnnibpcajpcglclefindmkaj/http://14.139.161.31/OddSem-0822-1122/Hands-On_Machine_Learning_with_Scikit-Learn-Keras-and-TensorFlow-2nd-Edition-Aurelien-Geron.pdf)   \n"
   ]
  },
  {
   "cell_type": "markdown",
   "id": "df925560",
   "metadata": {},
   "source": [
    "\n",
    "* [McKinney, W. (2012). Python for data analysis: Data wrangling with Pandas, NumPy, and IPython. \" O'Reilly Media, Inc.\".](https://wesmckinney.com/book/) "
   ]
  },
  {
   "cell_type": "markdown",
   "id": "8e65d6f9",
   "metadata": {},
   "source": [
    "# Como estudiante, encuentro que...   \n",
    "\n",
    "F: Mis Fortalezas son:     \n",
    "O: Mis Oportunidades son:    \n",
    "D: Mis Debilidades son:    \n",
    "A: Lo que Amenazas mi aprendizaje es:  "
   ]
  },
  {
   "cell_type": "markdown",
   "id": "6b9e56a8",
   "metadata": {
    "slideshow": {
     "slide_type": "slide"
    }
   },
   "source": [
    "### [Evaluamos al profesor Marco Cañas Aquí](https://forms.office.com/Pages/ResponsePage.aspx?id=IefhmYRxjkmK_7KtTlPBwkanXIs1i1FEujpsZgO6dXpUREJPV1kxUk1JV1ozTFJIQVNIQjY5WEY3US4u)"
   ]
  },
  {
   "cell_type": "markdown",
   "id": "4e8e8ccb",
   "metadata": {},
   "source": [
    "Basado en el diseño de investigación con enfoque IAE (Investigación-Acción Educativa) que compartiste, aquí tienes una propuesta de **sistema de evaluación bidireccional** para el curso *\"Vector Geometry and Linear Algebra\"*, implementable mediante Google Forms y alineado con los ciclos reflexivos de Kemmis & McTaggart:\n",
    "\n",
    "---\n"
   ]
  },
  {
   "cell_type": "markdown",
   "id": "700c88d9",
   "metadata": {},
   "source": [
    "\n",
    "### **Diseño de Evaluación para Ciclo IAE**  \n",
    "*(Para implementar en Google Forms cada 4 semanas)*  \n"
   ]
  },
  {
   "cell_type": "markdown",
   "id": "534441d7",
   "metadata": {},
   "source": [
    "\n",
    "#### **1. Encuesta de Autoevaluación Estudiantil**  \n",
    "**Objetivo**: Monitorear progreso en competencias y percepción del enfoque investigativo.  \n"
   ]
  },
  {
   "cell_type": "markdown",
   "id": "ee74d19c",
   "metadata": {},
   "source": [
    "\n",
    "**Secciones**:  \n",
    "1. **Adquisición de Competencias** (Escala Likert 1-5):  \n",
    "   - *\"¿Cómo evalúas tu dominio actual de:\"*  \n",
    "     - Operaciones con vectores/matrices aplicadas a datasets agrícolas  \n",
    "     - Implementación de PCA/SVD para análisis de imágenes satelitales  \n",
    "     - Interpretación de resultados matemáticos en contextos agropecuarios  \n"
   ]
  },
  {
   "cell_type": "markdown",
   "id": "23d2b1bd",
   "metadata": {},
   "source": [
    "\n",
    "2. **Evaluación de Metodología IAE**:  \n",
    "   - *\"El aprendizaje basado en problemas reales del Bajo Cauca me ha ayudado a:\"*  \n",
    "     - Comprender mejor los conceptos abstractos (1-5)  \n",
    "     - Desarrollar habilidades útiles para mi futuro profesional (1-5)  \n",
    "   - *Espacio abierto*: *\"Describe un momento donde la conexión teoría-práctica fue especialmente significativa para ti\"*  \n"
   ]
  },
  {
   "cell_type": "markdown",
   "id": "6a55b099",
   "metadata": {},
   "source": [
    "\n",
    "3. **Recursos y Herramientas**:  \n",
    "   - *\"Valora la utilidad de:\"*  \n",
    "     - Cuadernos Jupyter adaptados (ej. Géron 2022)  \n",
    "     - Sesiones con agricultores/ingenieros invitados  \n",
    "     - Plataforma GitHub para colaboración  \n",
    "\n",
    "---\n"
   ]
  },
  {
   "cell_type": "markdown",
   "id": "d069bb21",
   "metadata": {},
   "source": [
    "\n",
    "#### **2. Evaluación del Profesor**  \n",
    "**Objetivo**: Retroalimentación para ajustar didáctica según necesidades emergentes.  \n"
   ]
  },
  {
   "cell_type": "markdown",
   "id": "e1080dd0",
   "metadata": {},
   "source": [
    "\n",
    "**Secciones**:  \n",
    "1. **Habilidades Docentes** (Escala 1-5):  \n",
    "   - *\"El profesor facilita la conexión entre álgebra lineal y problemas agrícolas mediante:\"*  \n",
    "     - Explicaciones claras de conceptos abstractos  \n",
    "     - Ejemplos contextualizados (ej. optimización de fertilizantes)  \n",
    "     - Retroalimentación constructiva en proyectos  \n"
   ]
  },
  {
   "cell_type": "markdown",
   "id": "01742d60",
   "metadata": {},
   "source": [
    "\n",
    "2. **Seguimiento a Proyectos**:  \n",
    "   - *\"Las tutorías para los proyectos aplicados son:\"*  \n",
    "     - Suficientes en frecuencia y duración  \n",
    "     - Orientadas a resolver dudas técnicas específicas  \n",
    "     - Útiles para vincular matemáticas con agronomía  \n"
   ]
  },
  {
   "cell_type": "markdown",
   "id": "ca722d62",
   "metadata": {},
   "source": [
    "\n",
    "3. **Espacio cualitativo**:  \n",
    "   - *\"Sugiere un ajuste específico que mejoraría tu experiencia de aprendizaje\"*  \n",
    "\n",
    "---\n"
   ]
  },
  {
   "cell_type": "markdown",
   "id": "568148ad",
   "metadata": {},
   "source": [
    "\n",
    "#### **3. Evaluación de Impacto Social** *(Opcional para proyectos con agricultores)*  \n",
    "**Objetivo**: Medir transferencia de conocimiento al sector productivo.  \n"
   ]
  },
  {
   "cell_type": "markdown",
   "id": "93c7f4bc",
   "metadata": {},
   "source": [
    "\n",
    "**Preguntas clave**:  \n",
    "- *\"¿Cómo ha influido el proyecto estudiantil en el que participaste en tus prácticas agrícolas?\"* (Ej.: reducción de costos, mejora en predicciones)  \n",
    "- *\"¿Recomendarías esta colaboración a otros productores?\"* (Sí/No + justificación)  \n",
    "\n",
    "\n"
   ]
  },
  {
   "cell_type": "markdown",
   "id": "d2b6a2c7",
   "metadata": {},
   "source": [
    "\n",
    "### **Implementación en Google Forms**  \n",
    "1. **Configuración**:  \n",
    "   - Formulario anónimo (excepto evaluación de proyectos con agricultores)  \n",
    "   - Sección obligatoria (competencia + 1 pregunta abierta)  \n",
    "   - Opción de subir archivos (ej.: fotos de trabajos de campo)  \n",
    "\n",
    "2. **Ejemplo de Pregunta con Lógica Condicional**:  \n",
    "   ``` \n",
    "   Si respondiste 1-3 en \"Dominio de PCA aplicado\": \n",
    "   ¿Qué tipo de apoyo adicional necesitarías? (Taller práctico, material adicional, tutoría personalizada)  \n",
    "   ```\n",
    "\n",
    "3. **Enlace accesible**:  \n",
    "   - QR en presentaciones  \n",
    "   - Link en la cabecera del repositorio GitHub  \n",
    "\n",
    "---\n"
   ]
  },
  {
   "cell_type": "markdown",
   "id": "36872955",
   "metadata": {},
   "source": [
    "\n",
    "### **Análisis para Ciclo IAE**  \n",
    "**Herramientas**:  \n",
    "- **NVivo**: Para análisis temático de respuestas cualitativas  \n",
    "- **Google Data Studio**: Dashboard automático con:  \n",
    "  - Evolución temporal de competencias  \n",
    "  - Nube de palabras de sugerencias frecuentes  \n",
    "\n",
    "**Integración con Fases IAE**:  \n",
    "1. **Diagnóstico**: Identificar brechas recurrentes (ej.: dificultad con SVD)  \n",
    "2. **Acción**: Ajustar próximas clases (ej.: taller extra de descomposición matricial)  \n",
    "3. **Reflexión**: Comparar resultados entre ciclos (ej.: mejora en % de dominio de vectores)  \n",
    "\n",
    "**Ejemplo de Pregunta Clave para el Análisis**:  \n",
    "*\"¿Qué tema del módulo actual requirió más tiempo de práctica para su comprensión?\"*  \n",
    "\n",
    "---\n"
   ]
  },
  {
   "cell_type": "markdown",
   "id": "6d92b57d",
   "metadata": {},
   "source": [
    "\n",
    "### **Modelo de Informe Parcial** *(Para socializar con estudiantes)*  \n",
    "```markdown\n",
    "## Resultados Evaluación Ciclo 3 (2025-1)  \n",
    "- **85%** mejoró en interpretación de matrices aplicadas  \n",
    "- **Solicitud principal**: Más ejemplos con datos reales de cacaoteros  \n",
    "- **Ajustes implementados**:  \n",
    "  - Sesión extra con ingeniero de Agrosavia (25/05)  \n",
    "  - Dataset público de nutrientes en suelos arroceros añadido a GitHub  \n",
    "```\n"
   ]
  },
  {
   "cell_type": "markdown",
   "id": "b5c7eb34",
   "metadata": {},
   "source": [
    "\n",
    "Este diseño asegura que las evaluaciones:  \n",
    "✅ Sean **ágiles** (máx. 5 min por estudiante)  \n",
    "✅ Generen **datos accionables** para cada fase IAE  \n",
    "✅ Fomenten la **corresponsabilidad** en el proceso educativo  \n"
   ]
  },
  {
   "cell_type": "markdown",
   "id": "e2a5a506",
   "metadata": {},
   "source": [
    "\n",
    "¿Te gustaría que desarrolle las plantillas específicas de Google Forms o algún ajuste adicional para alinearlo mejor con tus módulos?"
   ]
  },
  {
   "cell_type": "markdown",
   "id": "10f43536",
   "metadata": {
    "slideshow": {
     "slide_type": "slide"
    }
   },
   "source": [
    "### Continue su aprendizaje en la siguiente clase a través del siguiente [vínculo]()"
   ]
  },
  {
   "cell_type": "markdown",
   "id": "53cc9115",
   "metadata": {
    "slideshow": {
     "slide_type": "slide"
    }
   },
   "source": [
    "## Agradecimientos  \n",
    "\n",
    "Doy gracias a Dios por la vida de mi Hijo Joseph Cañas Osorio y la madurez que ha alcanzado. Este hijo me enorgullece y me hace falta abrazarlo cada día. \n",
    "\n",
    "Y a mi esposa Yasmira Emperatriz Barboza Mogollón por su apoyo, orientación y acompañamiento. "
   ]
  },
  {
   "cell_type": "markdown",
   "id": "b6ba1c23",
   "metadata": {},
   "source": [
    "# Apéndice sobre calendarios y coordinaciones \n"
   ]
  },
  {
   "cell_type": "markdown",
   "id": "bf8b6499",
   "metadata": {},
   "source": [
    "## Calendario del semestre académico 2025-2  \n",
    "\n",
    "* Oferta de cursos: 29 de julio de 2025  \n",
    "\n",
    "Matrícula: 30 de julio de 2025  \n",
    "\n",
    "Ajustes de matrícula: 01 al 08 de agosto de 2025  \n",
    "\n",
    "Inicio de clases: 04 de agosto de 2025  \n",
    "\n",
    "Límite evaluación del 40%: 27 de septiembre de 2025  \n",
    "\n",
    "Terminación de clases: 22 de noviembre de 2025\n",
    "\n",
    "Exámenes finales: 24 al 29 de noviembre de 2025\n",
    "\n",
    "Habilitación y validación: 01 al 06 de diciembre 2025\n",
    "\n",
    "Terminación oficial del semestre: 09 de diciembre de 2025  "
   ]
  },
  {
   "cell_type": "markdown",
   "id": "667b9504",
   "metadata": {},
   "source": [
    "\n",
    "A continuación le envío el horario de la asignatura Cálculo Vectorial  \n",
    "\n",
    "Días:  \n",
    "Lunes - Hora: 7:00 a 12:00M  \n",
    "Fechas:  \n",
    "Febrero: 10-17-24                                          \n",
    " Marzo: 3-10-17-31                                                  \n",
    "Abril:7-21-28                                                   \n",
    "Mayo:5-12-19  \n",
    "\n",
    "Agradezco su apoyo, y si presenta alguna dificultad puede contactarme.  \n",
    "\n",
    "Cordialmente,  \n",
    "Juan Felipe Rivera Hernández  \n",
    "Contacto: 3106314300  "
   ]
  },
  {
   "cell_type": "markdown",
   "id": "586ece97",
   "metadata": {},
   "source": [
    "Perfecto, Marco Julio 🙌. Te redacto el **estado del arte con citas textuales cortas** (todas en APA 7ª edición), de modo que puedas usarlo directamente en tu escrito y se vea el diálogo con las fuentes:\n",
    "\n",
    "---\n",
    "\n",
    "# 📖 Estado del arte con citas\n",
    "\n",
    "El uso de la tecnología en la enseñanza de las matemáticas encuentra uno de sus pilares en **Papert (1980)**, quien afirmaba que *“los niños no aprenden sobre la computadora, aprenden con la computadora”* (p. 6). En su visión, la programación se convierte en un medio para la construcción activa de significados matemáticos, idea que se enlaza con la epistemología genética de **Piaget (1970)**, quien sostuvo que *“el conocimiento se construye a través de la acción”* (p. 15), y con la perspectiva de **Vygotsky (1978)**, al señalar que *“toda función en el desarrollo cultural del niño aparece dos veces: primero en el plano social y después en el individual”* (p. 57). Estos enfoques coinciden en otorgar a las herramientas culturales un papel esencial en la mediación del aprendizaje.\n",
    "\n",
    "Posteriormente, **Wing (2006)** acuñó el término pensamiento computacional, definiéndolo como *“una habilidad fundamental para todos, no solo para los científicos de la computación”* (p. 33). Esta autora subrayó que debía enseñarse de manera transversal, en paralelo con la lectura, la escritura y la matemática. En la misma línea, el **NCTM (2000)** destacó que *“la tecnología es esencial en la enseñanza y el aprendizaje de las matemáticas; influye en la matemática que se enseña y mejora el aprendizaje de los estudiantes”* (p. 24).\n",
    "\n",
    "Desde la didáctica de las matemáticas, **Duval (2006)** mostró que *“la comprensión matemática requiere la coordinación de al menos dos registros de representación diferentes”* (p. 107), lo que legitima la incorporación de registros digitales como LaTeX, Markdown y Python. Por su parte, **Godino (2017)** planteó que *“el significado de un objeto matemático está constituido por el sistema de prácticas en el que interviene”* (p. 7), con lo cual la práctica digital se convierte en parte constitutiva del aprendizaje matemático.\n",
    "\n",
    "Finalmente, organismos internacionales como la **ACM y el IEEE (2013)** enfatizan que *“las habilidades computacionales son esenciales para el ejercicio profesional en cualquier disciplina”* (p. 12). De esta manera, se consolida un consenso: la enseñanza universitaria de las matemáticas debe integrar herramientas contemporáneas como **Jupyter Notebooks, Python, LaTeX, Markdown e inglés**, no para competir con la enseñanza tradicional, sino para **fortalecer la comprensión matemática, potenciar la comunicación científica y responder a las demandas del mundo laboral**.\n",
    "\n",
    "---\n",
    "\n",
    "✅ Con este estado del arte ya tienes **citas directas y cortas** que le dan más fuerza académica a tu postura.\n",
    "\n",
    "¿Quieres que te prepare también la **lista final de referencias en APA con las páginas exactas de las citas** (para que todo quede perfectamente sustentado en tu documento)?\n"
   ]
  }
 ],
 "metadata": {
  "celltoolbar": "Slideshow",
  "kernelspec": {
   "display_name": ".venv",
   "language": "python",
   "name": "python3"
  },
  "language_info": {
   "codemirror_mode": {
    "name": "ipython",
    "version": 3
   },
   "file_extension": ".py",
   "mimetype": "text/x-python",
   "name": "python",
   "nbconvert_exporter": "python",
   "pygments_lexer": "ipython3",
   "version": "3.11.9"
  },
  "rise": {
   "enable_chalkboard": true,
   "theme": "sky",
   "transition": "zoom"
  }
 },
 "nbformat": 4,
 "nbformat_minor": 5
}
