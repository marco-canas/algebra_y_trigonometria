{
 "cells": [
  {
   "cell_type": "markdown",
   "id": "490d22b9",
   "metadata": {},
   "source": [
    "[Registro de asistencia a asesoría](https://forms.gle/FNg7WMenKvcgEh2T6)"
   ]
  },
  {
   "cell_type": "markdown",
   "id": "dc06dec7",
   "metadata": {
    "slideshow": {
     "slide_type": "slide"
    }
   },
   "source": [
    "<table align=\"left\">\n",
    "  <td>\n",
    "    <a href=\"https://colab.research.google.com/github/marco-canas/algebra_y_trigonometria/blob/main/classes/0_formatos_clase/algebra_and_trigonometry.ipynb\" target=\"_parent\"><img src=\"https://colab.research.google.com/assets/colab-badge.svg\" alt=\"Open In Colab\"/></a>\n",
    "  </td>\n",
    "  <td>\n",
    "    <a target=\"_blank\" href=\"https://kaggle.com/kernels/welcome?src=https://github.com/marco-canas/algebra_y_trigonometria/blob/main/classes/0_formatos_clase/algebra_and_trigonometry.ipynb\"><img src=\"https://kaggle.com/static/images/open-in-kaggle.svg\" /></a>\n",
    "  </td>\n",
    "</table>"
   ]
  },
  {
   "cell_type": "markdown",
   "id": "9eee306b",
   "metadata": {},
   "source": [
    "# generación del QR para el cuaderno de esta clase    \n",
    "\n",
    "Aquí tienes una función de Python que genera un código QR a partir de una URL y lo muestra en un cuaderno Jupyter:\n"
   ]
  },
  {
   "cell_type": "code",
   "execution_count": 1,
   "id": "7e0dbf6e",
   "metadata": {},
   "outputs": [],
   "source": [
    "import qrcode\n",
    "from IPython.display import display\n",
    "\n",
    "def generar_qr_notebook(url):\n",
    "    \"\"\"\n",
    "    Genera un código QR para una URL y lo muestra en un cuaderno Jupyter.\n",
    "    \n",
    "    Parámetros:\n",
    "    url (str): La URL para la cual se generará el código QR.\n",
    "    \n",
    "    Retorna:\n",
    "    None (pero muestra el código QR en el notebook)\n",
    "    \"\"\"\n",
    "    # Crear el objeto QR\n",
    "    qr = qrcode.QRCode(\n",
    "        version=1,\n",
    "        error_correction=qrcode.constants.ERROR_CORRECT_L,\n",
    "        box_size=10,\n",
    "        border=4,\n",
    "    )\n",
    "    \n",
    "    # Añadir la URL al código QR\n",
    "    qr.add_data(url)\n",
    "    qr.make(fit=True)\n",
    "    \n",
    "    # Crear la imagen del QR\n",
    "    img = qr.make_image(fill_color=\"black\", back_color=\"white\")\n",
    "    \n",
    "    # Mostrar la imagen en el notebook\n",
    "    display(img)\n",
    "\n"
   ]
  },
  {
   "cell_type": "code",
   "execution_count": null,
   "id": "79e4ce17",
   "metadata": {},
   "outputs": [],
   "source": [
    "generar_qr_notebook()"
   ]
  },
  {
   "cell_type": "markdown",
   "id": "a6647ca4",
   "metadata": {},
   "source": [
    "\n",
    "### Notas:\n",
    "- La función usa la biblioteca `qrcode` para generar el código y `IPython.display` para mostrarlo en el notebook.\n",
    "- El código QR aparecerá como salida de la celda donde llames a la función.\n",
    "- Puedes ajustar parámetros como `box_size` (tamaño de los cuadrados) o `border` (tamaño del borde) según tus necesidades.\n"
   ]
  },
  {
   "cell_type": "markdown",
   "id": "e0c5b198",
   "metadata": {
    "slideshow": {
     "slide_type": "slide"
    }
   },
   "source": [
    "### [Video de apoyo a la lectura interactiva y experimental de este cuaderno]()"
   ]
  },
  {
   "cell_type": "markdown",
   "id": "41e82203",
   "metadata": {
    "slideshow": {
     "slide_type": "slide"
    }
   },
   "source": [
    "### [Vínculo al programa del curso Algebra_and_trigonometry:  ](https://github.com/marco-canas/algebra_y_trigonometria/blob/main/0_programa_curso/programa_algebra_and_trigonometry.md)\n",
    "Código del curso: 303001  "
   ]
  },
  {
   "cell_type": "markdown",
   "id": "d11ab06d",
   "metadata": {
    "slideshow": {
     "slide_type": "slide"
    }
   },
   "source": [
    "Un reconocimiento a mis estudiantes que han construido conmigo este saber pedagógico:\n",
    "\n",
    "<img src = 'https://github.com/marco-canas/algebra_y_trigonometria/blob/main/images/primera_clase_2025-08-05_a_las_12.06.22.jpg?raw=true'>   \n",
    "\n"
   ]
  },
  {
   "cell_type": "markdown",
   "id": "8a74a56c-0ce6-4ad6-b985-553fd7fb68bb",
   "metadata": {},
   "source": [
    "Reconocimiento a las profesoras destacadas en enseñanza de la matemática en Colombia\n"
   ]
  },
  {
   "cell_type": "code",
   "execution_count": 3,
   "id": "7604880f",
   "metadata": {
    "slideshow": {
     "slide_type": "slide"
    }
   },
   "outputs": [
    {
     "data": {
      "application/vnd.microsoft.datawrangler.viewer.v0+json": {
       "columns": [
        {
         "name": "index",
         "rawType": "int64",
         "type": "integer"
        },
        {
         "name": "Cedula",
         "rawType": "int64",
         "type": "integer"
        },
        {
         "name": "Nombre",
         "rawType": "object",
         "type": "string"
        },
        {
         "name": "Email",
         "rawType": "object",
         "type": "string"
        }
       ],
       "ref": "f6e3adc6-ee8c-49cf-a648-b2092da08f20",
       "rows": [
        [
         "0",
         "1038648096",
         "ACEVEDO BELEÑO SANTIAGO",
         "sacevedo.beleno@udea.edu.co"
        ],
        [
         "1",
         "1038648760",
         "MARIN VILLARREAL PABLO ALEJANDRO",
         "pablo.marin1@udea.edu.co"
        ],
        [
         "2",
         "1193401041",
         "MARTINEZ MANJARREZ DANIELA ESTHER",
         "daniela.martinezm@udea.edu.co"
        ],
        [
         "3",
         "1038108720",
         "MEJIA GUZMAN SAMUEL",
         "samuel.mguzman@udea.edu.co"
        ],
        [
         "4",
         "1038647828",
         "NIEBLES BARRERA ALEXANDER ISAAC",
         "alexander.niebles@udea.edu.co"
        ],
        [
         "5",
         "1045426138",
         "OQUENDO MONA CRISTIAN GABRIEL",
         "cristian.oquendo1@udea.edu.co"
        ],
        [
         "6",
         "1032250901",
         "PINO VERGARA LIZETH",
         "lizeth.pino@udea.edu.co"
        ],
        [
         "7",
         "1038092717",
         "RIVERA GUZMAN CRISTIAN",
         "cristian.rivera2@udea.edu.co"
        ],
        [
         "8",
         "1038110693",
         "ROMERO CALDERA JUAN ESTEBAN",
         "juanesteban.romero@udea.edu.co"
        ],
        [
         "9",
         "1063359347",
         "SANCHEZ PACHECO MOISES DAVID",
         "moises.sanchez1@udea.edu.co"
        ],
        [
         "10",
         "1066600819",
         "TIRADO CHAVARRIA WILFRAN DE JESUS",
         "wilfran.tirado@udea.edu.co"
        ],
        [
         "11",
         "1038136995",
         "VERGARA ACEVEDO SARA CRISTINA",
         "scristina.vergara@udea.edu.co"
        ],
        [
         "12",
         "1007452831",
         "VILORIA SIERRA ALEXANDER",
         "a.viloria1@udea.edu.co"
        ]
       ],
       "shape": {
        "columns": 3,
        "rows": 13
       }
      },
      "text/html": [
       "<div>\n",
       "<style scoped>\n",
       "    .dataframe tbody tr th:only-of-type {\n",
       "        vertical-align: middle;\n",
       "    }\n",
       "\n",
       "    .dataframe tbody tr th {\n",
       "        vertical-align: top;\n",
       "    }\n",
       "\n",
       "    .dataframe thead th {\n",
       "        text-align: right;\n",
       "    }\n",
       "</style>\n",
       "<table border=\"1\" class=\"dataframe\">\n",
       "  <thead>\n",
       "    <tr style=\"text-align: right;\">\n",
       "      <th></th>\n",
       "      <th>Cedula</th>\n",
       "      <th>Nombre</th>\n",
       "      <th>Email</th>\n",
       "    </tr>\n",
       "  </thead>\n",
       "  <tbody>\n",
       "    <tr>\n",
       "      <th>0</th>\n",
       "      <td>1038648096</td>\n",
       "      <td>ACEVEDO BELEÑO SANTIAGO</td>\n",
       "      <td>sacevedo.beleno@udea.edu.co</td>\n",
       "    </tr>\n",
       "    <tr>\n",
       "      <th>1</th>\n",
       "      <td>1038648760</td>\n",
       "      <td>MARIN VILLARREAL PABLO ALEJANDRO</td>\n",
       "      <td>pablo.marin1@udea.edu.co</td>\n",
       "    </tr>\n",
       "    <tr>\n",
       "      <th>2</th>\n",
       "      <td>1193401041</td>\n",
       "      <td>MARTINEZ MANJARREZ DANIELA ESTHER</td>\n",
       "      <td>daniela.martinezm@udea.edu.co</td>\n",
       "    </tr>\n",
       "    <tr>\n",
       "      <th>3</th>\n",
       "      <td>1038108720</td>\n",
       "      <td>MEJIA GUZMAN SAMUEL</td>\n",
       "      <td>samuel.mguzman@udea.edu.co</td>\n",
       "    </tr>\n",
       "    <tr>\n",
       "      <th>4</th>\n",
       "      <td>1038647828</td>\n",
       "      <td>NIEBLES BARRERA ALEXANDER ISAAC</td>\n",
       "      <td>alexander.niebles@udea.edu.co</td>\n",
       "    </tr>\n",
       "    <tr>\n",
       "      <th>5</th>\n",
       "      <td>1045426138</td>\n",
       "      <td>OQUENDO MONA CRISTIAN GABRIEL</td>\n",
       "      <td>cristian.oquendo1@udea.edu.co</td>\n",
       "    </tr>\n",
       "    <tr>\n",
       "      <th>6</th>\n",
       "      <td>1032250901</td>\n",
       "      <td>PINO VERGARA LIZETH</td>\n",
       "      <td>lizeth.pino@udea.edu.co</td>\n",
       "    </tr>\n",
       "    <tr>\n",
       "      <th>7</th>\n",
       "      <td>1038092717</td>\n",
       "      <td>RIVERA GUZMAN CRISTIAN</td>\n",
       "      <td>cristian.rivera2@udea.edu.co</td>\n",
       "    </tr>\n",
       "    <tr>\n",
       "      <th>8</th>\n",
       "      <td>1038110693</td>\n",
       "      <td>ROMERO CALDERA JUAN ESTEBAN</td>\n",
       "      <td>juanesteban.romero@udea.edu.co</td>\n",
       "    </tr>\n",
       "    <tr>\n",
       "      <th>9</th>\n",
       "      <td>1063359347</td>\n",
       "      <td>SANCHEZ PACHECO MOISES DAVID</td>\n",
       "      <td>moises.sanchez1@udea.edu.co</td>\n",
       "    </tr>\n",
       "    <tr>\n",
       "      <th>10</th>\n",
       "      <td>1066600819</td>\n",
       "      <td>TIRADO CHAVARRIA WILFRAN DE JESUS</td>\n",
       "      <td>wilfran.tirado@udea.edu.co</td>\n",
       "    </tr>\n",
       "    <tr>\n",
       "      <th>11</th>\n",
       "      <td>1038136995</td>\n",
       "      <td>VERGARA ACEVEDO SARA CRISTINA</td>\n",
       "      <td>scristina.vergara@udea.edu.co</td>\n",
       "    </tr>\n",
       "    <tr>\n",
       "      <th>12</th>\n",
       "      <td>1007452831</td>\n",
       "      <td>VILORIA SIERRA ALEXANDER</td>\n",
       "      <td>a.viloria1@udea.edu.co</td>\n",
       "    </tr>\n",
       "  </tbody>\n",
       "</table>\n",
       "</div>"
      ],
      "text/plain": [
       "        Cedula                             Nombre  \\\n",
       "0   1038648096            ACEVEDO BELEÑO SANTIAGO   \n",
       "1   1038648760   MARIN VILLARREAL PABLO ALEJANDRO   \n",
       "2   1193401041  MARTINEZ MANJARREZ DANIELA ESTHER   \n",
       "3   1038108720                MEJIA GUZMAN SAMUEL   \n",
       "4   1038647828    NIEBLES BARRERA ALEXANDER ISAAC   \n",
       "5   1045426138      OQUENDO MONA CRISTIAN GABRIEL   \n",
       "6   1032250901                PINO VERGARA LIZETH   \n",
       "7   1038092717             RIVERA GUZMAN CRISTIAN   \n",
       "8   1038110693        ROMERO CALDERA JUAN ESTEBAN   \n",
       "9   1063359347       SANCHEZ PACHECO MOISES DAVID   \n",
       "10  1066600819  TIRADO CHAVARRIA WILFRAN DE JESUS   \n",
       "11  1038136995      VERGARA ACEVEDO SARA CRISTINA   \n",
       "12  1007452831           VILORIA SIERRA ALEXANDER   \n",
       "\n",
       "                             Email  \n",
       "0      sacevedo.beleno@udea.edu.co  \n",
       "1         pablo.marin1@udea.edu.co  \n",
       "2    daniela.martinezm@udea.edu.co  \n",
       "3       samuel.mguzman@udea.edu.co  \n",
       "4    alexander.niebles@udea.edu.co  \n",
       "5    cristian.oquendo1@udea.edu.co  \n",
       "6          lizeth.pino@udea.edu.co  \n",
       "7     cristian.rivera2@udea.edu.co  \n",
       "8   juanesteban.romero@udea.edu.co  \n",
       "9      moises.sanchez1@udea.edu.co  \n",
       "10      wilfran.tirado@udea.edu.co  \n",
       "11   scristina.vergara@udea.edu.co  \n",
       "12          a.viloria1@udea.edu.co  "
      ]
     },
     "execution_count": 3,
     "metadata": {},
     "output_type": "execute_result"
    }
   ],
   "source": [
    "import pandas as pd\n",
    "import numpy as np\n",
    "\n",
    "# Cargar la lista de estudiantes desde el archivo CSV\n",
    "path = 'C:/Users/marco/Documentos/docencia/groups_list/algebra_and_trigonometry.xlsx'\n",
    "df = pd.read_excel(path)\n",
    "df.head(13) \n"
   ]
  },
  {
   "cell_type": "markdown",
   "id": "d7598d0a-d9b7-4ae0-b029-a0ed6ed1130b",
   "metadata": {},
   "source": [
    "\n",
    "# Principios de mi labor docente"
   ]
  },
  {
   "cell_type": "markdown",
   "id": "4f9d8cf9",
   "metadata": {
    "slideshow": {
     "slide_type": "slide"
    }
   },
   "source": [
    "## Modelo general de clase: [aula invertida](https://www3.gobiernodecanarias.org/medusa/ecoescuela/pedagotic/aprendizaje-invertido-flipped-classroom/)"
   ]
  },
  {
   "cell_type": "markdown",
   "id": "eb6ed03a",
   "metadata": {},
   "source": [
    "<img src = 'https://resources.maneuveringthemiddle.com/wp-content/uploads/2020/07/04212706/1-5.png' width = 200>  \n",
    "\n"
   ]
  },
  {
   "cell_type": "markdown",
   "id": "34319cce-a71b-4f64-aab8-b53e521efa40",
   "metadata": {},
   "source": [
    "# Metodología de Aprendizaje Basado en Problemas y Proyectos (ABPP)\n"
   ]
  },
  {
   "cell_type": "markdown",
   "id": "c4f73d81",
   "metadata": {},
   "source": [
    "\n",
    "<img src = 'https://www.unir.net/wp-content/uploads/2020/07/aprendizaje-problemas2-1-1-1-1.jpeg' width = 200>"
   ]
  },
  {
   "cell_type": "markdown",
   "id": "841a985c-bd9b-4dd3-8e4c-893983980af2",
   "metadata": {},
   "source": [
    "# Desarrollo del pensamiento computacional con Lenguajes Python y R, y con archivos Markdown orientado a la formación en ciencia de datos \n",
    "\n"
   ]
  },
  {
   "cell_type": "markdown",
   "id": "3d0eba94",
   "metadata": {},
   "source": [
    "\n",
    "<img src = 'https://i.ytimg.com/vi/mcG_wcR4e6M/maxresdefault.jpg' width = 200>"
   ]
  },
  {
   "cell_type": "markdown",
   "id": "65aa0404-f7ae-495e-864c-1aec01b4255e",
   "metadata": {},
   "source": [
    "# Principio de fomento a la ciencia abierta, enseñar en el acceso a los datos públicos y el uso de software de código abierto  \n"
   ]
  },
  {
   "cell_type": "markdown",
   "id": "18ae9b87",
   "metadata": {},
   "source": [
    "\n",
    "<img src = 'https://unesdoc.unesco.org/in/rest/Thumb/image?id=p%3A%3Ausmarcdef_0000379949_spa&author=UNESCO&title=Recomendaci%C3%B3n+de+la+UNESCO+sobre+la+Ciencia+Abierta&year=2021&publisher=UNESCO&TypeOfDocument=UnescoPhysicalDocument&mat=PGD&ct=true&size=512&isPhysical=1' width = 200>"
   ]
  },
  {
   "cell_type": "markdown",
   "id": "d9559f85",
   "metadata": {},
   "source": [
    "El enfoque STEAMS en educación preescolar, primaria y secundaria es una extensión del enfoque STEM (Ciencia, Tecnología, Ingeniería y Matemáticas) y su variante STEAM, que incorpora el Arte. "
   ]
  },
  {
   "cell_type": "markdown",
   "id": "0130ec1b",
   "metadata": {},
   "source": [
    "\n",
    "<img src = 'https://www.campuseducacion.com/blog/wp-content/uploads/2023/03/foto01-1.jpg' width = 200>"
   ]
  },
  {
   "cell_type": "markdown",
   "id": "37a6a091",
   "metadata": {},
   "source": [
    "# Y el enfoque de Teoría de Registros de Representación Semiótica de Duval  "
   ]
  },
  {
   "cell_type": "markdown",
   "id": "f39ebbcb",
   "metadata": {},
   "source": [
    "# Número de ejercicios por secciones  del capítulo 2 de [Swokowski](https://archive.org/details/algebra-y-trigonometria-con-geometria-analitica-13va-edicion-earl-w.-swokowski/page/n3/mode/2up) en su traceava edición. \n",
    "\n",
    "* Número de ejercicios de la Sección 2.1: 78, (Ecuaciones)  \n",
    "* Número de ejercicios de la Sección 2.2: 40, (Problemas de aplicación)\n",
    "* Número de ejercicios de la Sección 2.3: 83, (Ecuaciones cuadráticas)        \n",
    "* Número de ejercicios de la Sección 2.4: 62, (Número complejos)  \n",
    "* Número de ejercicios de la Sección 2.5: 71, (Otros tipos de ecuaciones)      \n",
    "* Número de ejercicios de la Sección 2.6: 89, (Desigualdades)   \n",
    "* Número de ejercicios de la Sección 2.7: 55, (Valor absoluto)     \n",
    "\n",
    "La lista de los estudiantes del curso la puedes obtener en: https://github.com/marco-canas/groups_list/blob/main/algebra_and_trigonometry.xlsx  "
   ]
  },
  {
   "cell_type": "markdown",
   "id": "74df9b25",
   "metadata": {},
   "source": [
    "# Prompt para la función de Python que asigne los ejercicios a cada estudiante:  \n",
    "\n",
    "Con el ánimo de fomentar el aprendizaje colaborativo y en equipo de mis estudiantes del programa de matemáticas del Instituto de Matemáticas de la UdeA, ayúdame con una función de Python que asigne a cada uno de los 19 estudiantes una cantidad de ejercicios, de tal manera que el grupo completo alcance a hacer todos los ejercicios del libro guía en el capítulo 2 de Swokowski en su treceava edición. Te comparto el número de ejercicios por sección: \"Número de ejercicios por secciones  del capítulo 2 de [Swokowski](https://archive.org/details/algebra-y-trigonometria-con-geometria-analitica-13va-edicion-earl-w.-swokowski/page/n3/mode/2up) en su traceava edición.   \n",
    "\n",
    "* Número de ejercicios de la Sección 2.1: 78, (Ecuaciones)  \n",
    "* Número de ejercicios de la Sección 2.2: 40, (Problemas de aplicación)\n",
    "* Número de ejercicios de la Sección 2.3: 83, (Ecuaciones cuadráticas)        \n",
    "* Número de ejercicios de la Sección 2.4: 62, (Número complejos)  \n",
    "* Número de ejercicios de la Sección 2.5: 71, (Otros tipos de ecuaciones)      \n",
    "* Número de ejercicios de la Sección 2.6: 89, (Desigualdades)   \n",
    "* Número de ejercicios de la Sección 2.7: 55, (Valor absoluto)     \n",
    "\n",
    "La lista de los estudiantes del curso la puedes obtener en: https://github.com/marco-canas/groups_list/blob/main/algebra_and_trigonometry.xlsx\".  Te adjunté la lista de estudiantes en un archivo .xlsx. Por favor, que la función de Python me entregue el dataframe de asignación de los ejercicios por estudiante y el archivo .xlsx de esta asignación, sin que se repitan ejercicios asignados a cada estudiante ni entre estudiantes. Para fomentar el que todos los ejercicios que propone el autor se realicen todos, pero aportando cada estudiante solo una parte de ellos, para que cada vez que se reúnan, puedan compartirle a otros la solución que encontraron.   Pero configura la asignación de los ejercicios en una dataframe de columnas: \"Nombre_del_estudiante\", \"ejer_asig_sec_2_1\", \"ejer_asig_sec_2_2\", \"ejer_asig_sec_2_3\", \"ejer_asig_sec_2_4\", \"ejer_asig_sec_2_5\", \"ejer_asig_sec_2_6\", \"ejer_asig_sec_2_7\". Para facilitar la lectura, por parte de los estudiantes, de sus ejercicios asignados.  "
   ]
  },
  {
   "cell_type": "markdown",
   "id": "0ddd6eaf",
   "metadata": {},
   "source": [
    "It seems like I can’t do more advanced data analysis right now. Please try again later.\n",
    "\n",
    "Lo que ya había preparado es lo siguiente:\n",
    "\n",
    "* Leí tu archivo de estudiantes (`algebra_and_trigonometry.xlsx`) y confirmé que tiene 18 estudiantes en la hoja `Sheet1`.\n",
    "* Calculemos: el capítulo 2 de Swokowski tiene **478 ejercicios** en total. Eso dividido entre los **18 estudiantes** da aproximadamente **26 o 27 ejercicios por estudiante**.\n",
    "* El plan era generar un **DataFrame** con dos columnas:\n",
    "\n",
    "  1. **Nombre del estudiante**\n",
    "  2. **Ejercicios asignados** (una lista como `\"Sección 2.1 - Ejercicio 5, Sección 2.3 - Ejercicio 17, ...\"`).\n",
    "* Luego, se guardaría todo en un archivo Excel (`asignacion_ejercicios_cap2.xlsx`) sin repeticiones, de modo que entre todos completen los 478 ejercicios.\n"
   ]
  },
  {
   "cell_type": "markdown",
   "id": "736fd320",
   "metadata": {},
   "source": [
    "Este es un script en Python que toma la lista de estudiantes desde el archivo `.xlsx` que ya tienes, reparte de forma equitativa todos los ejercicios del **capítulo 2 de Swokowski** y genera un archivo nuevo con la asignación.\n"
   ]
  },
  {
   "cell_type": "code",
   "execution_count": 1,
   "id": "955d0fad",
   "metadata": {},
   "outputs": [
    {
     "data": {
      "application/vnd.microsoft.datawrangler.viewer.v0+json": {
       "columns": [
        {
         "name": "index",
         "rawType": "int64",
         "type": "integer"
        },
        {
         "name": "Nombre_del_estudiante",
         "rawType": "int64",
         "type": "integer"
        },
        {
         "name": "ejer_asig_sec_3_1",
         "rawType": "object",
         "type": "unknown"
        },
        {
         "name": "ejer_asig_sec_3_2",
         "rawType": "object",
         "type": "unknown"
        },
        {
         "name": "ejer_asig_sec_3_3",
         "rawType": "object",
         "type": "unknown"
        },
        {
         "name": "ejer_asig_sec_3_4",
         "rawType": "object",
         "type": "unknown"
        },
        {
         "name": "ejer_asig_sec_3_5",
         "rawType": "object",
         "type": "unknown"
        },
        {
         "name": "ejer_asig_sec_3_6",
         "rawType": "object",
         "type": "unknown"
        },
        {
         "name": "ejer_asig_sec_3_7",
         "rawType": "object",
         "type": "unknown"
        },
        {
         "name": "ejer_asig_rep_cap_3",
         "rawType": "object",
         "type": "unknown"
        },
        {
         "name": "ejer_asig_ana_cap_3",
         "rawType": "object",
         "type": "unknown"
        }
       ],
       "ref": "abd067f3-4687-447c-bc0e-253e1610a9a4",
       "rows": [
        [
         "1",
         "1038648096",
         "[25, 29]",
         "[22, 65, 41, 83, 78]",
         "[67, 50, 1, 18, 60]",
         "[29, 81, 82, 54, 64]",
         "[63, 16, 53, 30, 47]",
         "[3, 8, 14, 44]",
         "[48, 11, 28, 47]",
         "[25, 74, 24, 54, 45]",
         "[8]"
        ],
        [
         "2",
         "1038111190",
         "[28, 20]",
         "[11, 77, 46, 36, 86]",
         "[64, 15, 5, 41, 45]",
         "[70, 57, 41, 18, 12]",
         "[46, 77, 6, 57, 59]",
         "[33, 59, 64, 42]",
         "[62, 61, 26, 16]",
         "[63, 26, 75, 15, 40]",
         "[3]"
        ],
        [
         "3",
         "1038113597",
         "[31, 13]",
         "[64, 34, 57, 4, 33]",
         "[40, 2, 39, 34]",
         "[56, 62, 21, 10, 2]",
         "[39, 9, 60, 29, 3]",
         "[49, 65, 57, 34]",
         "[40, 43, 54, 60]",
         "[43, 62, 50, 23, 28]",
         "[1]"
        ],
        [
         "4",
         "1038108190",
         "[17, 6]",
         "[71, 80, 40, 44, 74]",
         "[30, 66, 4, 31]",
         "[4, 32, 80, 71, 6]",
         "[51, 69, 45, 56, 19]",
         "[55, 18, 51, 39]",
         "[36, 5, 13, 14]",
         "[39, 13, 77, 8, 30]",
         "[7]"
        ],
        [
         "5",
         "1038648760",
         "[38, 37]",
         "[19, 66, 45, 48, 38]",
         "[14, 62, 47, 29]",
         "[60, 42, 1, 19, 3]",
         "[67, 18, 26, 73, 58]",
         "[50, 1, 45, 46]",
         "[39, 20, 21, 31]",
         "[64, 79, 67, 10, 29]",
         "[10]"
        ],
        [
         "6",
         "1193401041",
         "[21, 16]",
         "[7, 42, 54, 81, 60]",
         "[36, 21, 9, 71]",
         "[50, 35, 85, 67, 8]",
         "[8, 42, 55, 62, 33]",
         "[48, 23, 19, 10]",
         "[38, 29, 44, 30]",
         "[66, 56, 46, 49, 17]",
         "[4]"
        ],
        [
         "7",
         "1038108720",
         "[34, 26]",
         "[2, 87, 23, 62, 82]",
         "[59, 42, 24, 78]",
         "[17, 27, 45, 43, 66]",
         "[37, 80, 43, 66]",
         "[56, 20, 2, 25]",
         "[50, 49, 64, 8]",
         "[11, 81, 44, 37, 19]",
         "[6]"
        ],
        [
         "8",
         "1038647828",
         "[10, 2]",
         "[6, 21, 43, 3, 15]",
         "[51, 57, 7, 52]",
         "[68, 38, 30, 84, 7]",
         "[1, 34, 31, 24]",
         "[6, 31, 26, 13]",
         "[7, 53, 4]",
         "[14, 5, 85, 70, 84]",
         "[9]"
        ],
        [
         "9",
         "1045426138",
         "[24, 23]",
         "[18, 20, 50, 59, 58]",
         "[73, 33, 35, 76]",
         "[14, 53, 15, 55, 37]",
         "[41, 70, 74, 12]",
         "[61, 54, 58]",
         "[41, 22, 1]",
         "[36, 61, 65, 60, 82]",
         "[5]"
        ],
        [
         "10",
         "1038136953",
         "[30, 8]",
         "[35, 12, 72, 52, 73]",
         "[77, 17, 58, 11]",
         "[65, 58, 26, 47, 83]",
         "[27, 61, 38, 13]",
         "[4, 47, 29]",
         "[19, 12, 52]",
         "[71, 58, 90, 9, 51]",
         "[2]"
        ],
        [
         "11",
         "1032250901",
         "[15, 1]",
         "[76, 24, 16, 13, 85]",
         "[70, 28, 37, 8]",
         "[76, 23, 39, 33, 16]",
         "[64, 54, 7, 79]",
         "[15, 21, 40]",
         "[18, 58, 27]",
         "[1, 7, 18, 38, 76]",
         "[]"
        ],
        [
         "12",
         "1038092717",
         "[4, 11]",
         "[75, 8, 61, 32, 79]",
         "[61, 13, 32, 10]",
         "[11, 61, 20, 48]",
         "[32, 76, 36, 2]",
         "[27, 24, 53]",
         "[17, 56, 37]",
         "[89, 4, 32, 86, 31]",
         "[]"
        ],
        [
         "13",
         "1038110693",
         "[9, 18]",
         "[1, 31, 25, 17, 90]",
         "[53, 38, 6, 49]",
         "[49, 59, 79, 22]",
         "[75, 22, 23, 78]",
         "[62, 43, 16]",
         "[10, 59, 55]",
         "[52, 83, 27, 55, 12]",
         "[]"
        ],
        [
         "14",
         "1038647713",
         "[22, 27]",
         "[51, 29, 9, 26, 10]",
         "[20, 48, 3, 55]",
         "[52, 51, 86, 87]",
         "[40, 5, 25, 72]",
         "[36, 60, 5]",
         "[9, 32, 42]",
         "[3, 72, 41, 2, 78]",
         "[]"
        ],
        [
         "15",
         "1063359347",
         "[5, 3]",
         "[49, 63, 47, 89]",
         "[74, 69, 16, 23]",
         "[13, 24, 5, 31]",
         "[35, 14, 82, 68]",
         "[37, 11, 7]",
         "[45, 24, 2]",
         "[6, 68, 33, 48]",
         "[]"
        ],
        [
         "16",
         "1066600819",
         "[33, 32]",
         "[53, 56, 28, 39]",
         "[56, 26, 25, 43]",
         "[72, 77, 44, 46]",
         "[28, 71, 11, 44]",
         "[63, 32, 12]",
         "[23, 46, 57]",
         "[16, 53, 57, 20]",
         "[]"
        ],
        [
         "17",
         "1038136995",
         "[12, 14]",
         "[14, 5, 68, 84]",
         "[12, 19, 75, 22]",
         "[75, 9, 74, 34]",
         "[17, 50, 20, 15]",
         "[35, 22, 9]",
         "[51, 6, 25]",
         "[22, 73, 69, 80]",
         "[]"
        ],
        [
         "18",
         "1007452831",
         "[35, 7]",
         "[88, 37, 67, 69]",
         "[72, 27, 68, 44]",
         "[63, 40, 28, 25]",
         "[65, 10, 49, 81]",
         "[28, 38, 17]",
         "[63, 35, 33]",
         "[88, 35, 34, 47]",
         "[]"
        ],
        [
         "19",
         "98640265",
         "[36, 19]",
         "[27, 70, 55, 30]",
         "[65, 46, 63, 54]",
         "[78, 69, 73, 36]",
         "[52, 21, 4, 48]",
         "[41, 30, 52]",
         "[15, 34, 3]",
         "[42, 59, 87, 21]",
         "[]"
        ]
       ],
       "shape": {
        "columns": 10,
        "rows": 19
       }
      },
      "text/html": [
       "<div>\n",
       "<style scoped>\n",
       "    .dataframe tbody tr th:only-of-type {\n",
       "        vertical-align: middle;\n",
       "    }\n",
       "\n",
       "    .dataframe tbody tr th {\n",
       "        vertical-align: top;\n",
       "    }\n",
       "\n",
       "    .dataframe thead th {\n",
       "        text-align: right;\n",
       "    }\n",
       "</style>\n",
       "<table border=\"1\" class=\"dataframe\">\n",
       "  <thead>\n",
       "    <tr style=\"text-align: right;\">\n",
       "      <th></th>\n",
       "      <th>Nombre_del_estudiante</th>\n",
       "      <th>ejer_asig_sec_3_1</th>\n",
       "      <th>ejer_asig_sec_3_2</th>\n",
       "      <th>ejer_asig_sec_3_3</th>\n",
       "      <th>ejer_asig_sec_3_4</th>\n",
       "      <th>ejer_asig_sec_3_5</th>\n",
       "      <th>ejer_asig_sec_3_6</th>\n",
       "      <th>ejer_asig_sec_3_7</th>\n",
       "      <th>ejer_asig_rep_cap_3</th>\n",
       "      <th>ejer_asig_ana_cap_3</th>\n",
       "    </tr>\n",
       "  </thead>\n",
       "  <tbody>\n",
       "    <tr>\n",
       "      <th>1</th>\n",
       "      <td>1038648096</td>\n",
       "      <td>[25, 29]</td>\n",
       "      <td>[22, 65, 41, 83, 78]</td>\n",
       "      <td>[67, 50, 1, 18, 60]</td>\n",
       "      <td>[29, 81, 82, 54, 64]</td>\n",
       "      <td>[63, 16, 53, 30, 47]</td>\n",
       "      <td>[3, 8, 14, 44]</td>\n",
       "      <td>[48, 11, 28, 47]</td>\n",
       "      <td>[25, 74, 24, 54, 45]</td>\n",
       "      <td>[8]</td>\n",
       "    </tr>\n",
       "    <tr>\n",
       "      <th>2</th>\n",
       "      <td>1038111190</td>\n",
       "      <td>[28, 20]</td>\n",
       "      <td>[11, 77, 46, 36, 86]</td>\n",
       "      <td>[64, 15, 5, 41, 45]</td>\n",
       "      <td>[70, 57, 41, 18, 12]</td>\n",
       "      <td>[46, 77, 6, 57, 59]</td>\n",
       "      <td>[33, 59, 64, 42]</td>\n",
       "      <td>[62, 61, 26, 16]</td>\n",
       "      <td>[63, 26, 75, 15, 40]</td>\n",
       "      <td>[3]</td>\n",
       "    </tr>\n",
       "    <tr>\n",
       "      <th>3</th>\n",
       "      <td>1038113597</td>\n",
       "      <td>[31, 13]</td>\n",
       "      <td>[64, 34, 57, 4, 33]</td>\n",
       "      <td>[40, 2, 39, 34]</td>\n",
       "      <td>[56, 62, 21, 10, 2]</td>\n",
       "      <td>[39, 9, 60, 29, 3]</td>\n",
       "      <td>[49, 65, 57, 34]</td>\n",
       "      <td>[40, 43, 54, 60]</td>\n",
       "      <td>[43, 62, 50, 23, 28]</td>\n",
       "      <td>[1]</td>\n",
       "    </tr>\n",
       "    <tr>\n",
       "      <th>4</th>\n",
       "      <td>1038108190</td>\n",
       "      <td>[17, 6]</td>\n",
       "      <td>[71, 80, 40, 44, 74]</td>\n",
       "      <td>[30, 66, 4, 31]</td>\n",
       "      <td>[4, 32, 80, 71, 6]</td>\n",
       "      <td>[51, 69, 45, 56, 19]</td>\n",
       "      <td>[55, 18, 51, 39]</td>\n",
       "      <td>[36, 5, 13, 14]</td>\n",
       "      <td>[39, 13, 77, 8, 30]</td>\n",
       "      <td>[7]</td>\n",
       "    </tr>\n",
       "    <tr>\n",
       "      <th>5</th>\n",
       "      <td>1038648760</td>\n",
       "      <td>[38, 37]</td>\n",
       "      <td>[19, 66, 45, 48, 38]</td>\n",
       "      <td>[14, 62, 47, 29]</td>\n",
       "      <td>[60, 42, 1, 19, 3]</td>\n",
       "      <td>[67, 18, 26, 73, 58]</td>\n",
       "      <td>[50, 1, 45, 46]</td>\n",
       "      <td>[39, 20, 21, 31]</td>\n",
       "      <td>[64, 79, 67, 10, 29]</td>\n",
       "      <td>[10]</td>\n",
       "    </tr>\n",
       "    <tr>\n",
       "      <th>6</th>\n",
       "      <td>1193401041</td>\n",
       "      <td>[21, 16]</td>\n",
       "      <td>[7, 42, 54, 81, 60]</td>\n",
       "      <td>[36, 21, 9, 71]</td>\n",
       "      <td>[50, 35, 85, 67, 8]</td>\n",
       "      <td>[8, 42, 55, 62, 33]</td>\n",
       "      <td>[48, 23, 19, 10]</td>\n",
       "      <td>[38, 29, 44, 30]</td>\n",
       "      <td>[66, 56, 46, 49, 17]</td>\n",
       "      <td>[4]</td>\n",
       "    </tr>\n",
       "    <tr>\n",
       "      <th>7</th>\n",
       "      <td>1038108720</td>\n",
       "      <td>[34, 26]</td>\n",
       "      <td>[2, 87, 23, 62, 82]</td>\n",
       "      <td>[59, 42, 24, 78]</td>\n",
       "      <td>[17, 27, 45, 43, 66]</td>\n",
       "      <td>[37, 80, 43, 66]</td>\n",
       "      <td>[56, 20, 2, 25]</td>\n",
       "      <td>[50, 49, 64, 8]</td>\n",
       "      <td>[11, 81, 44, 37, 19]</td>\n",
       "      <td>[6]</td>\n",
       "    </tr>\n",
       "    <tr>\n",
       "      <th>8</th>\n",
       "      <td>1038647828</td>\n",
       "      <td>[10, 2]</td>\n",
       "      <td>[6, 21, 43, 3, 15]</td>\n",
       "      <td>[51, 57, 7, 52]</td>\n",
       "      <td>[68, 38, 30, 84, 7]</td>\n",
       "      <td>[1, 34, 31, 24]</td>\n",
       "      <td>[6, 31, 26, 13]</td>\n",
       "      <td>[7, 53, 4]</td>\n",
       "      <td>[14, 5, 85, 70, 84]</td>\n",
       "      <td>[9]</td>\n",
       "    </tr>\n",
       "    <tr>\n",
       "      <th>9</th>\n",
       "      <td>1045426138</td>\n",
       "      <td>[24, 23]</td>\n",
       "      <td>[18, 20, 50, 59, 58]</td>\n",
       "      <td>[73, 33, 35, 76]</td>\n",
       "      <td>[14, 53, 15, 55, 37]</td>\n",
       "      <td>[41, 70, 74, 12]</td>\n",
       "      <td>[61, 54, 58]</td>\n",
       "      <td>[41, 22, 1]</td>\n",
       "      <td>[36, 61, 65, 60, 82]</td>\n",
       "      <td>[5]</td>\n",
       "    </tr>\n",
       "    <tr>\n",
       "      <th>10</th>\n",
       "      <td>1038136953</td>\n",
       "      <td>[30, 8]</td>\n",
       "      <td>[35, 12, 72, 52, 73]</td>\n",
       "      <td>[77, 17, 58, 11]</td>\n",
       "      <td>[65, 58, 26, 47, 83]</td>\n",
       "      <td>[27, 61, 38, 13]</td>\n",
       "      <td>[4, 47, 29]</td>\n",
       "      <td>[19, 12, 52]</td>\n",
       "      <td>[71, 58, 90, 9, 51]</td>\n",
       "      <td>[2]</td>\n",
       "    </tr>\n",
       "    <tr>\n",
       "      <th>11</th>\n",
       "      <td>1032250901</td>\n",
       "      <td>[15, 1]</td>\n",
       "      <td>[76, 24, 16, 13, 85]</td>\n",
       "      <td>[70, 28, 37, 8]</td>\n",
       "      <td>[76, 23, 39, 33, 16]</td>\n",
       "      <td>[64, 54, 7, 79]</td>\n",
       "      <td>[15, 21, 40]</td>\n",
       "      <td>[18, 58, 27]</td>\n",
       "      <td>[1, 7, 18, 38, 76]</td>\n",
       "      <td>[]</td>\n",
       "    </tr>\n",
       "    <tr>\n",
       "      <th>12</th>\n",
       "      <td>1038092717</td>\n",
       "      <td>[4, 11]</td>\n",
       "      <td>[75, 8, 61, 32, 79]</td>\n",
       "      <td>[61, 13, 32, 10]</td>\n",
       "      <td>[11, 61, 20, 48]</td>\n",
       "      <td>[32, 76, 36, 2]</td>\n",
       "      <td>[27, 24, 53]</td>\n",
       "      <td>[17, 56, 37]</td>\n",
       "      <td>[89, 4, 32, 86, 31]</td>\n",
       "      <td>[]</td>\n",
       "    </tr>\n",
       "    <tr>\n",
       "      <th>13</th>\n",
       "      <td>1038110693</td>\n",
       "      <td>[9, 18]</td>\n",
       "      <td>[1, 31, 25, 17, 90]</td>\n",
       "      <td>[53, 38, 6, 49]</td>\n",
       "      <td>[49, 59, 79, 22]</td>\n",
       "      <td>[75, 22, 23, 78]</td>\n",
       "      <td>[62, 43, 16]</td>\n",
       "      <td>[10, 59, 55]</td>\n",
       "      <td>[52, 83, 27, 55, 12]</td>\n",
       "      <td>[]</td>\n",
       "    </tr>\n",
       "    <tr>\n",
       "      <th>14</th>\n",
       "      <td>1038647713</td>\n",
       "      <td>[22, 27]</td>\n",
       "      <td>[51, 29, 9, 26, 10]</td>\n",
       "      <td>[20, 48, 3, 55]</td>\n",
       "      <td>[52, 51, 86, 87]</td>\n",
       "      <td>[40, 5, 25, 72]</td>\n",
       "      <td>[36, 60, 5]</td>\n",
       "      <td>[9, 32, 42]</td>\n",
       "      <td>[3, 72, 41, 2, 78]</td>\n",
       "      <td>[]</td>\n",
       "    </tr>\n",
       "    <tr>\n",
       "      <th>15</th>\n",
       "      <td>1063359347</td>\n",
       "      <td>[5, 3]</td>\n",
       "      <td>[49, 63, 47, 89]</td>\n",
       "      <td>[74, 69, 16, 23]</td>\n",
       "      <td>[13, 24, 5, 31]</td>\n",
       "      <td>[35, 14, 82, 68]</td>\n",
       "      <td>[37, 11, 7]</td>\n",
       "      <td>[45, 24, 2]</td>\n",
       "      <td>[6, 68, 33, 48]</td>\n",
       "      <td>[]</td>\n",
       "    </tr>\n",
       "    <tr>\n",
       "      <th>16</th>\n",
       "      <td>1066600819</td>\n",
       "      <td>[33, 32]</td>\n",
       "      <td>[53, 56, 28, 39]</td>\n",
       "      <td>[56, 26, 25, 43]</td>\n",
       "      <td>[72, 77, 44, 46]</td>\n",
       "      <td>[28, 71, 11, 44]</td>\n",
       "      <td>[63, 32, 12]</td>\n",
       "      <td>[23, 46, 57]</td>\n",
       "      <td>[16, 53, 57, 20]</td>\n",
       "      <td>[]</td>\n",
       "    </tr>\n",
       "    <tr>\n",
       "      <th>17</th>\n",
       "      <td>1038136995</td>\n",
       "      <td>[12, 14]</td>\n",
       "      <td>[14, 5, 68, 84]</td>\n",
       "      <td>[12, 19, 75, 22]</td>\n",
       "      <td>[75, 9, 74, 34]</td>\n",
       "      <td>[17, 50, 20, 15]</td>\n",
       "      <td>[35, 22, 9]</td>\n",
       "      <td>[51, 6, 25]</td>\n",
       "      <td>[22, 73, 69, 80]</td>\n",
       "      <td>[]</td>\n",
       "    </tr>\n",
       "    <tr>\n",
       "      <th>18</th>\n",
       "      <td>1007452831</td>\n",
       "      <td>[35, 7]</td>\n",
       "      <td>[88, 37, 67, 69]</td>\n",
       "      <td>[72, 27, 68, 44]</td>\n",
       "      <td>[63, 40, 28, 25]</td>\n",
       "      <td>[65, 10, 49, 81]</td>\n",
       "      <td>[28, 38, 17]</td>\n",
       "      <td>[63, 35, 33]</td>\n",
       "      <td>[88, 35, 34, 47]</td>\n",
       "      <td>[]</td>\n",
       "    </tr>\n",
       "    <tr>\n",
       "      <th>19</th>\n",
       "      <td>98640265</td>\n",
       "      <td>[36, 19]</td>\n",
       "      <td>[27, 70, 55, 30]</td>\n",
       "      <td>[65, 46, 63, 54]</td>\n",
       "      <td>[78, 69, 73, 36]</td>\n",
       "      <td>[52, 21, 4, 48]</td>\n",
       "      <td>[41, 30, 52]</td>\n",
       "      <td>[15, 34, 3]</td>\n",
       "      <td>[42, 59, 87, 21]</td>\n",
       "      <td>[]</td>\n",
       "    </tr>\n",
       "  </tbody>\n",
       "</table>\n",
       "</div>"
      ],
      "text/plain": [
       "    Nombre_del_estudiante ejer_asig_sec_3_1     ejer_asig_sec_3_2  \\\n",
       "1              1038648096          [25, 29]  [22, 65, 41, 83, 78]   \n",
       "2              1038111190          [28, 20]  [11, 77, 46, 36, 86]   \n",
       "3              1038113597          [31, 13]   [64, 34, 57, 4, 33]   \n",
       "4              1038108190           [17, 6]  [71, 80, 40, 44, 74]   \n",
       "5              1038648760          [38, 37]  [19, 66, 45, 48, 38]   \n",
       "6              1193401041          [21, 16]   [7, 42, 54, 81, 60]   \n",
       "7              1038108720          [34, 26]   [2, 87, 23, 62, 82]   \n",
       "8              1038647828           [10, 2]    [6, 21, 43, 3, 15]   \n",
       "9              1045426138          [24, 23]  [18, 20, 50, 59, 58]   \n",
       "10             1038136953           [30, 8]  [35, 12, 72, 52, 73]   \n",
       "11             1032250901           [15, 1]  [76, 24, 16, 13, 85]   \n",
       "12             1038092717           [4, 11]   [75, 8, 61, 32, 79]   \n",
       "13             1038110693           [9, 18]   [1, 31, 25, 17, 90]   \n",
       "14             1038647713          [22, 27]   [51, 29, 9, 26, 10]   \n",
       "15             1063359347            [5, 3]      [49, 63, 47, 89]   \n",
       "16             1066600819          [33, 32]      [53, 56, 28, 39]   \n",
       "17             1038136995          [12, 14]       [14, 5, 68, 84]   \n",
       "18             1007452831           [35, 7]      [88, 37, 67, 69]   \n",
       "19               98640265          [36, 19]      [27, 70, 55, 30]   \n",
       "\n",
       "      ejer_asig_sec_3_3     ejer_asig_sec_3_4     ejer_asig_sec_3_5  \\\n",
       "1   [67, 50, 1, 18, 60]  [29, 81, 82, 54, 64]  [63, 16, 53, 30, 47]   \n",
       "2   [64, 15, 5, 41, 45]  [70, 57, 41, 18, 12]   [46, 77, 6, 57, 59]   \n",
       "3       [40, 2, 39, 34]   [56, 62, 21, 10, 2]    [39, 9, 60, 29, 3]   \n",
       "4       [30, 66, 4, 31]    [4, 32, 80, 71, 6]  [51, 69, 45, 56, 19]   \n",
       "5      [14, 62, 47, 29]    [60, 42, 1, 19, 3]  [67, 18, 26, 73, 58]   \n",
       "6       [36, 21, 9, 71]   [50, 35, 85, 67, 8]   [8, 42, 55, 62, 33]   \n",
       "7      [59, 42, 24, 78]  [17, 27, 45, 43, 66]      [37, 80, 43, 66]   \n",
       "8       [51, 57, 7, 52]   [68, 38, 30, 84, 7]       [1, 34, 31, 24]   \n",
       "9      [73, 33, 35, 76]  [14, 53, 15, 55, 37]      [41, 70, 74, 12]   \n",
       "10     [77, 17, 58, 11]  [65, 58, 26, 47, 83]      [27, 61, 38, 13]   \n",
       "11      [70, 28, 37, 8]  [76, 23, 39, 33, 16]       [64, 54, 7, 79]   \n",
       "12     [61, 13, 32, 10]      [11, 61, 20, 48]       [32, 76, 36, 2]   \n",
       "13      [53, 38, 6, 49]      [49, 59, 79, 22]      [75, 22, 23, 78]   \n",
       "14      [20, 48, 3, 55]      [52, 51, 86, 87]       [40, 5, 25, 72]   \n",
       "15     [74, 69, 16, 23]       [13, 24, 5, 31]      [35, 14, 82, 68]   \n",
       "16     [56, 26, 25, 43]      [72, 77, 44, 46]      [28, 71, 11, 44]   \n",
       "17     [12, 19, 75, 22]       [75, 9, 74, 34]      [17, 50, 20, 15]   \n",
       "18     [72, 27, 68, 44]      [63, 40, 28, 25]      [65, 10, 49, 81]   \n",
       "19     [65, 46, 63, 54]      [78, 69, 73, 36]       [52, 21, 4, 48]   \n",
       "\n",
       "   ejer_asig_sec_3_6 ejer_asig_sec_3_7   ejer_asig_rep_cap_3  \\\n",
       "1     [3, 8, 14, 44]  [48, 11, 28, 47]  [25, 74, 24, 54, 45]   \n",
       "2   [33, 59, 64, 42]  [62, 61, 26, 16]  [63, 26, 75, 15, 40]   \n",
       "3   [49, 65, 57, 34]  [40, 43, 54, 60]  [43, 62, 50, 23, 28]   \n",
       "4   [55, 18, 51, 39]   [36, 5, 13, 14]   [39, 13, 77, 8, 30]   \n",
       "5    [50, 1, 45, 46]  [39, 20, 21, 31]  [64, 79, 67, 10, 29]   \n",
       "6   [48, 23, 19, 10]  [38, 29, 44, 30]  [66, 56, 46, 49, 17]   \n",
       "7    [56, 20, 2, 25]   [50, 49, 64, 8]  [11, 81, 44, 37, 19]   \n",
       "8    [6, 31, 26, 13]        [7, 53, 4]   [14, 5, 85, 70, 84]   \n",
       "9       [61, 54, 58]       [41, 22, 1]  [36, 61, 65, 60, 82]   \n",
       "10       [4, 47, 29]      [19, 12, 52]   [71, 58, 90, 9, 51]   \n",
       "11      [15, 21, 40]      [18, 58, 27]    [1, 7, 18, 38, 76]   \n",
       "12      [27, 24, 53]      [17, 56, 37]   [89, 4, 32, 86, 31]   \n",
       "13      [62, 43, 16]      [10, 59, 55]  [52, 83, 27, 55, 12]   \n",
       "14       [36, 60, 5]       [9, 32, 42]    [3, 72, 41, 2, 78]   \n",
       "15       [37, 11, 7]       [45, 24, 2]       [6, 68, 33, 48]   \n",
       "16      [63, 32, 12]      [23, 46, 57]      [16, 53, 57, 20]   \n",
       "17       [35, 22, 9]       [51, 6, 25]      [22, 73, 69, 80]   \n",
       "18      [28, 38, 17]      [63, 35, 33]      [88, 35, 34, 47]   \n",
       "19      [41, 30, 52]       [15, 34, 3]      [42, 59, 87, 21]   \n",
       "\n",
       "   ejer_asig_ana_cap_3  \n",
       "1                  [8]  \n",
       "2                  [3]  \n",
       "3                  [1]  \n",
       "4                  [7]  \n",
       "5                 [10]  \n",
       "6                  [4]  \n",
       "7                  [6]  \n",
       "8                  [9]  \n",
       "9                  [5]  \n",
       "10                 [2]  \n",
       "11                  []  \n",
       "12                  []  \n",
       "13                  []  \n",
       "14                  []  \n",
       "15                  []  \n",
       "16                  []  \n",
       "17                  []  \n",
       "18                  []  \n",
       "19                  []  "
      ]
     },
     "execution_count": 1,
     "metadata": {},
     "output_type": "execute_result"
    }
   ],
   "source": [
    "# Asignación de ejercicios para el parcial 3  \n",
    "\n",
    "import pandas as pd\n",
    "import numpy as np\n",
    "\n",
    "# Ruta al archivo de estudiantes cargado\n",
    "file_path = r\"C:\\Users\\marco\\Documentos\\docencia\\groups_list\\algebra_and_trigonometry.xlsx\"\n",
    "\n",
    "# Cargar la lista de estudiantes\n",
    "students_df = pd.read_excel(file_path)\n",
    "\n",
    "# Número de ejercicios por sección\n",
    "exercises_per_section = {\n",
    "    \"ejer_asig_sec_3_1\": 38,\n",
    "    \"ejer_asig_sec_3_2\": 90,\n",
    "    \"ejer_asig_sec_3_3\": 78,\n",
    "    \"ejer_asig_sec_3_4\": 87,\n",
    "    \"ejer_asig_sec_3_5\": 82,\n",
    "    \"ejer_asig_sec_3_6\": 65,\n",
    "    \"ejer_asig_sec_3_7\": 64,\n",
    "    \"ejer_asig_rep_cap_3\": 90,  # Supongamos 50 ejercicios de repaso\n",
    "    \"ejer_asig_ana_cap_3\": 10   # Supongamos\n",
    "}\n",
    "\n",
    "# Número de estudiantes\n",
    "n_students = len(students_df)\n",
    "\n",
    "# Inicializar DataFrame de asignación\n",
    "assignment_df = pd.DataFrame()\n",
    "assignment_df[\"Nombre_del_estudiante\"] = students_df.iloc[:, 0]\n",
    "\n",
    "np.random.seed(702)\n",
    "\n",
    "# Función para repartir los ejercicios equitativamente y sin repetición\n",
    "def assign_exercises(num_exercises, num_students):\n",
    "    exercises = np.arange(1, num_exercises + 1)\n",
    "    np.random.shuffle(exercises)  # Mezclar los ejercicios\n",
    "    chunks = np.array_split(exercises, num_students)  # Dividir entre estudiantes\n",
    "    # Convertir cada chunk a lista de enteros estándar de Python\n",
    "    return [list(map(int, chunk)) for chunk in chunks]\n",
    "\n",
    "# Asignar los ejercicios de cada sección\n",
    "for section, num_ex in exercises_per_section.items():\n",
    "    assigned_chunks = assign_exercises(num_ex, n_students)\n",
    "    assignment_df[section] = assigned_chunks\n",
    "\n",
    "# Guardar el archivo de asignaciones\n",
    "output_path = r\"C:\\Users\\marco\\Downloads\\asignacion_ejercicios_cap2.xlsx\"\n",
    "assignment_df.to_excel(output_path, index=False)\n",
    "\n",
    "assignment_df.index = range(1, len(assignment_df) + 1)\n",
    "assignment_df\n"
   ]
  },
  {
   "cell_type": "markdown",
   "id": "11a58f6b",
   "metadata": {},
   "source": [
    "\n",
    "## Qué hace este script\n"
   ]
  },
  {
   "cell_type": "markdown",
   "id": "ba386f4e",
   "metadata": {},
   "source": [
    "\n",
    "1. Lee la lista de estudiantes desde tu archivo original `algebra_and_trigonometry.xlsx`.\n",
    "2. Construye los **478 ejercicios** (etiquetados con sección y número).\n",
    "3. Los **mezcla aleatoriamente** para que la distribución sea justa.\n",
    "4. Asigna aproximadamente **26–27 ejercicios por estudiante** sin repeticiones.\n",
    "5. Exporta el resultado a un nuevo archivo **`asignacion_ejercicios_cap2.xlsx`**.\n",
    "\n",
    "---\n"
   ]
  },
  {
   "cell_type": "markdown",
   "id": "8dac48e1",
   "metadata": {},
   "source": [
    "\n",
    "¿Quieres que además te prepare una **versión del archivo de salida en formato .csv** (más liviano y fácil de abrir incluso sin Excel)?\n"
   ]
  },
  {
   "cell_type": "code",
   "execution_count": 1,
   "id": "ec0f1a5c",
   "metadata": {},
   "outputs": [],
   "source": [
    "exercises_per_section = {\n",
    "    \"Sección 2.1 (Ecuaciones)\": 78,\n",
    "    \"Sección 2.2 (Problemas de aplicación)\": 40,\n",
    "    \"Sección 2.3 (Ecuaciones cuadráticas)\": 83,\n",
    "    \"Sección 2.4 (Números complejos)\": 62,\n",
    "    \"Sección 2.5 (Otros tipos de ecuaciones)\": 71,\n",
    "    \"Sección 2.6 (Desigualdades)\": 89,\n",
    "    \"Sección 2.7 (Valor absoluto)\": 55,\n",
    "}\n"
   ]
  },
  {
   "cell_type": "code",
   "execution_count": 5,
   "id": "2bb077c7",
   "metadata": {},
   "outputs": [
    {
     "name": "stdout",
     "output_type": "stream",
     "text": [
      "78\n",
      "40\n",
      "83\n",
      "62\n",
      "71\n",
      "89\n",
      "55\n"
     ]
    }
   ],
   "source": [
    "for seccion, num_ejer in exercises_per_section.items(): \n",
    "    print(num_ejer) "
   ]
  },
  {
   "cell_type": "markdown",
   "id": "cc539357",
   "metadata": {},
   "source": [
    "# [Programación de programa Regiones](https://lookerstudio.google.com/reporting/44e71da0-d16f-4a51-a51e-d5ae6c19b3f1/page/p_gy4nwf37hd?pli=1)"
   ]
  },
  {
   "cell_type": "markdown",
   "id": "8ba64aed",
   "metadata": {},
   "source": [
    "# Cursos que orienta el profesor Marco Julio Cañas Campillo en 2025  \n",
    "\n",
    "1. Lunes 8 a 12: Fundamentos de Lógica: Licenciatura en Matemáticas . \n",
    "2. Martes de 9 a 10: Curso de ML and DL para Ingeniero Juan Gomez en España.  \n",
    "3. Martes de 2 a 5 PM: Vector Geometry and Linear Algebra.  \n",
    "4. Miércoles: 10 a 11: Reunión equipo investigador SAT Dengue. \n",
    "5. Miércoles 2 a 3 PM: Asesoría Trabajo de Grado Janis (Estudiante de Biología).  \n",
    "6. Viernes 2 a 6 PM: Análisis Numérico: Programa de Licenciatura en Matemáticas."
   ]
  },
  {
   "cell_type": "markdown",
   "id": "8d41fe58",
   "metadata": {
    "slideshow": {
     "slide_type": "slide"
    }
   },
   "source": [
    "# Horario de clases del profesor Marco\n",
    "\n",
    "* Lunes 8-12:   \n",
    "* Lunes 2- 6 PM: Fundamento de Lógica.  \n",
    "* Martes 8-12 M: . \n",
    "* Miércoles 8 a 12 M:   \n",
    "* Miércoles de 2 a 6 PM: \n",
    "* Jueves 2 a 6 PM:  \n",
    "* Viernes 2 - 4 PM: Análisis Numérico. \n",
    "* Sábados 8-12 Asesorías y espacio para retroalimentación y apoyo al trabajo independiente. "
   ]
  },
  {
   "cell_type": "markdown",
   "id": "ae114e14",
   "metadata": {
    "slideshow": {
     "slide_type": "slide"
    }
   },
   "source": [
    "# Horarios de monitoría y asesoría  \n",
    "\n",
    "* Monitor Manuel San Juan Serrano: Contactar escribiendo al correo: manuel.serrano1@udea.edu.co"
   ]
  },
  {
   "cell_type": "markdown",
   "id": "bf0f9dbf",
   "metadata": {},
   "source": [
    "\n",
    "Coordinador de los cursos de la Facultad de Educación para regiones:    \n",
    "\n",
    "Andrés Vélez: regioneducacion.fedu@udea.edu.co  \n",
    "Coordinador Regiones  \n",
    "Facultad de Educación  \n",
    "Universidad de Antioquia  "
   ]
  },
  {
   "cell_type": "markdown",
   "id": "39559692",
   "metadata": {
    "slideshow": {
     "slide_type": "slide"
    }
   },
   "source": [
    "Martes y jueves de 8 - 12  \n",
    "Miércoles 10 - 12 y de 2 a 4 PM  \n",
    "Sábado: 8 - 12"
   ]
  },
  {
   "cell_type": "markdown",
   "id": "10bce0d0",
   "metadata": {
    "slideshow": {
     "slide_type": "slide"
    }
   },
   "source": [
    "## Referentes "
   ]
  },
  {
   "cell_type": "markdown",
   "id": "1db3c468",
   "metadata": {
    "slideshow": {
     "slide_type": "slide"
    }
   },
   "source": [
    "* [CALCULO I DE UNA VARIABLE Ron Larson-Bruce Edwards. Mc Graw Hill. 9º Edición](https://www.academia.edu/42139251/CALCULO_I_DE_UNA_VARIABLE_Ron_Larson_Bruce_Edwards_Mc_Graw_Hill_9o_Edici%C3%B3n)   \n",
    "  \n",
    "\n",
    "* [Grajales Vanegas, L. M., Restrepo Estrada, C. E., Restrepo Ochoa, S. I., & Ruíz De Villalba, F. (2015). Matemáticas I para las ciencias económicas.](https://bibliotecadigital.udea.edu.co/handle/10495/3010)\n",
    "  \n",
    "* R. Duval y Semiosis y pensamiento humano, 2.ª ed. Cali, Colombia: Programa Editorial Universidad del Valle, 2017. [En línea]. Disponible en: https://programaeditorial.univalle.edu.co/gpd-semiosis-y-pensamiento-humano-9789587655278-63324cdb0f6b3.html\n",
    "\n",
    "* [Aylwin, C. U. (2011). Lógica, conjuntos y números. Universidad de los Andes, Consejo de Publicaciones, Colección: Ciencias Básicas, Serie: Matemáticas.](chrome-extension://efaidnbmnnnibpcajpcglclefindmkaj/https://www.u-cursos.cl/ciencias/2011/1/MC110/1/material_docente/bajar?id_material=574722)\n",
    "  \n",
    "* [Chollet, F. (2021). Deep learning with Python. Simon and Schuster.](chrome-extension://efaidnbmnnnibpcajpcglclefindmkaj/https://tanthiamhuat.wordpress.com/wp-content/uploads/2018/03/deeplearningwithpython.pdf)  \n",
    "  \n",
    "* [Watson, S., Stewart, J., & Redlin, L. (2009). Precálculo. Matemáticas para el cálculo.](https://github.com/marco-canas/calculo/blob/main/referents/1_precalculo_stewart/stewart_precalculo.pdf)  \n",
    "\n",
    "* [Purcell, E. J., Varberg, D., & Rigdon, S. E. (2007). Cálculo diferencial e integral. Pearson Educación.](https://github.com/marco-canas/calculo/blob/main/referents/purcell/purcell_calculo.pdf)\n",
    "\n",
    "  \n",
    "\n",
    "* [stewart cálculo](https://udeaeduco-my.sharepoint.com/:b:/g/personal/marco_canas_udea_edu_co/EZgXZjAp8QxPqOAim2hs6LcBNPLGjSHf-xwYnUVYkwa04w?e=RZdTCy)  \n",
    "\n",
    "\n",
    "\n",
    "\n",
    "\n",
    "* [Recomendación de la UNESCO sobre ciencia abierta](https://unesdoc.unesco.org/ark:/48223/pf0000379949_spa)\n",
    "\n",
    "* [chatGPT](https://openai.com/blog/chatgpt)  \n",
    "\n",
    "* [Géron, A. (2017). Hands-on machine learning with scikit-learn and tensorflow: Concepts. Tools, and Techniques to build intelligent systems.](chrome-extension://efaidnbmnnnibpcajpcglclefindmkaj/http://14.139.161.31/OddSem-0822-1122/Hands-On_Machine_Learning_with_Scikit-Learn-Keras-and-TensorFlow-2nd-Edition-Aurelien-Geron.pdf)   \n"
   ]
  },
  {
   "cell_type": "markdown",
   "id": "df925560",
   "metadata": {},
   "source": [
    "\n",
    "* [McKinney, W. (2012). Python for data analysis: Data wrangling with Pandas, NumPy, and IPython. \" O'Reilly Media, Inc.\".](https://wesmckinney.com/book/) "
   ]
  },
  {
   "cell_type": "markdown",
   "id": "8e65d6f9",
   "metadata": {},
   "source": [
    "# Como estudiante, encuentro que...   \n",
    "\n",
    "F: Mis Fortalezas son:     \n",
    "O: Mis Oportunidades son:    \n",
    "D: Mis Debilidades son:    \n",
    "A: Lo que Amenazas mi aprendizaje es:  "
   ]
  },
  {
   "cell_type": "markdown",
   "id": "6b9e56a8",
   "metadata": {
    "slideshow": {
     "slide_type": "slide"
    }
   },
   "source": [
    "### [Evaluamos al profesor Marco Cañas Aquí](https://forms.office.com/Pages/ResponsePage.aspx?id=IefhmYRxjkmK_7KtTlPBwkanXIs1i1FEujpsZgO6dXpUREJPV1kxUk1JV1ozTFJIQVNIQjY5WEY3US4u)"
   ]
  },
  {
   "cell_type": "markdown",
   "id": "10f43536",
   "metadata": {
    "slideshow": {
     "slide_type": "slide"
    }
   },
   "source": [
    "### Continue su aprendizaje en la siguiente clase a través del siguiente [vínculo]()"
   ]
  },
  {
   "cell_type": "markdown",
   "id": "53cc9115",
   "metadata": {
    "slideshow": {
     "slide_type": "slide"
    }
   },
   "source": [
    "## Agradecimientos  \n",
    "\n",
    "Doy gracias a Dios por la vida de mi Hijo Joseph Cañas Osorio y la madurez que ha alcanzado. Este hijo me enorgullece y me hace falta abrazarlo cada día. \n",
    "\n",
    "Y a mi esposa Yasmira Emperatriz Barboza Mogollón por su apoyo, orientación y acompañamiento. "
   ]
  },
  {
   "cell_type": "markdown",
   "id": "b6ba1c23",
   "metadata": {},
   "source": [
    "# Apéndice sobre calendarios y coordinaciones \n"
   ]
  },
  {
   "cell_type": "markdown",
   "id": "bf8b6499",
   "metadata": {},
   "source": [
    "## Calendario del semestre académico 2025-2  \n",
    "\n",
    "* Oferta de cursos: 29 de julio de 2025  \n",
    "\n",
    "Matrícula: 30 de julio de 2025  \n",
    "\n",
    "Ajustes de matrícula: 01 al 08 de agosto de 2025  \n",
    "\n",
    "Inicio de clases: 04 de agosto de 2025  \n",
    "\n",
    "Límite evaluación del 40%: 27 de septiembre de 2025  \n",
    "\n",
    "Terminación de clases: 22 de noviembre de 2025\n",
    "\n",
    "Exámenes finales: 24 al 29 de noviembre de 2025\n",
    "\n",
    "Habilitación y validación: 01 al 06 de diciembre 2025\n",
    "\n",
    "Terminación oficial del semestre: 09 de diciembre de 2025  "
   ]
  },
  {
   "cell_type": "markdown",
   "id": "667b9504",
   "metadata": {},
   "source": [
    "\n",
    "A continuación le envío el horario de la asignatura Cálculo Vectorial  \n",
    "\n",
    "Días:  \n",
    "Lunes - Hora: 7:00 a 12:00M  \n",
    "Fechas:  \n",
    "Febrero: 10-17-24                                          \n",
    " Marzo: 3-10-17-31                                                  \n",
    "Abril:7-21-28                                                   \n",
    "Mayo:5-12-19  \n",
    "\n",
    "Agradezco su apoyo, y si presenta alguna dificultad puede contactarme.  \n",
    "\n",
    "Cordialmente,  \n",
    "Juan Felipe Rivera Hernández  \n",
    "Contacto: 3106314300  "
   ]
  }
 ],
 "metadata": {
  "celltoolbar": "Slideshow",
  "kernelspec": {
   "display_name": ".venv",
   "language": "python",
   "name": "python3"
  },
  "language_info": {
   "codemirror_mode": {
    "name": "ipython",
    "version": 3
   },
   "file_extension": ".py",
   "mimetype": "text/x-python",
   "name": "python",
   "nbconvert_exporter": "python",
   "pygments_lexer": "ipython3",
   "version": "3.11.9"
  },
  "rise": {
   "enable_chalkboard": true,
   "theme": "sky",
   "transition": "zoom"
  }
 },
 "nbformat": 4,
 "nbformat_minor": 5
}
