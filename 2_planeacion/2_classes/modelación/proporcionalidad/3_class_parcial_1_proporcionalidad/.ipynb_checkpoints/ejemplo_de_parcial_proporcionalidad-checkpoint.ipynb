{
 "cells": [
  {
   "cell_type": "markdown",
   "id": "dc06dec7",
   "metadata": {
    "slideshow": {
     "slide_type": "slide"
    }
   },
   "source": [
    "<table align=\"left\">\n",
    "  <td>\n",
    "    <a href=\"https://colab.research.google.com/github/marco-canas/1_algebra/blob/main/classes/modelaci%C3%B3n/proporcionalidad/3_class_parcial_1_proporcionalidad/ejemplo_de_parcial_proporcionalidad.ipynb\" target=\"_parent\"><img src=\"https://colab.research.google.com/assets/colab-badge.svg\" alt=\"Open In Colab\"/></a>\n",
    "  </td>\n",
    "</table>"
   ]
  },
  {
   "cell_type": "markdown",
   "id": "e0c5b198",
   "metadata": {
    "slideshow": {
     "slide_type": "slide"
    }
   },
   "source": [
    "### [Video de apoyo a la lectura interactiva y experimental de este cuaderno]()"
   ]
  },
  {
   "cell_type": "markdown",
   "id": "41e82203",
   "metadata": {
    "slideshow": {
     "slide_type": "slide"
    }
   },
   "source": [
    "## [Vínculo al programa del curso:  ]()"
   ]
  },
  {
   "cell_type": "markdown",
   "id": "819f39cf",
   "metadata": {},
   "source": [
    "# Cualidades del grupo de estudiantes de Ingeniería agropecuaria Primer semestre de 28 estudiantes\n",
    "\n",
    "* alegres\n",
    "* honestos\n",
    "* es un grupo que hace tareas y es ordenado.\n",
    "* \n",
    "\n",
    "<img src = 'https://github.com/marco-canas/1_algebra/blob/main/classes/ciencia_datos/9_class_april_26_quiz_proporcionalidad_directa/algebra_trigonometria_2023_1Dios_cuida_de_ellos_2.jpg?raw=true'>"
   ]
  },
  {
   "cell_type": "markdown",
   "id": "ca46c23b",
   "metadata": {
    "slideshow": {
     "slide_type": "slide"
    }
   },
   "source": [
    "# Modelo general de clase: [aula invertida](https://www3.gobiernodecanarias.org/medusa/ecoescuela/pedagotic/aprendizaje-invertido-flipped-classroom/)\n",
    "\n",
    "## Definición y características de este modelo"
   ]
  },
  {
   "cell_type": "markdown",
   "id": "d2b0e776",
   "metadata": {
    "slideshow": {
     "slide_type": "slide"
    }
   },
   "source": [
    "## ¿Qué es?  \n",
    "\n",
    "Flipped Learning o aprendizaje invertido es un enfoque pedagógico en el que:  \n",
    "\n",
    "* la instrucción directa se realiza fuera del aula y \n",
    "* se utiliza el tiempo de clase para llevar a cabo actividades que impliquen el desarrollo de procesos cognitivos de mayor complejidad, en las que son necesarias la ayuda y la experiencia del docente."
   ]
  },
  {
   "cell_type": "markdown",
   "id": "5fc4f731",
   "metadata": {
    "slideshow": {
     "slide_type": "slide"
    }
   },
   "source": [
    "## ¿Para qué sirve?  \n",
    "\n",
    "Mejora el proceso de enseñanza-aprendizaje realizando,   \n",
    "\n",
    "* fuera del aula, actividades de aprendizaje sencillas (observar, memorizar, resumir, etc.) y, \n",
    "* en el aula, actividades más complejas (razonar, examinar, priorizar, argumentar, proponer, etc.) que requieren la interacción entre iguales y la ayuda del docente como facilitador."
   ]
  },
  {
   "cell_type": "markdown",
   "id": "b42472d6",
   "metadata": {
    "slideshow": {
     "slide_type": "slide"
    }
   },
   "source": [
    "<img src = 'https://github.com/marco-canas/7_didactica_ciencia_datos/blob/main/propuesta/unidad_didac/atributos_aprendizaje_invertido.png?raw=true'>"
   ]
  },
  {
   "cell_type": "markdown",
   "id": "79c35435",
   "metadata": {
    "slideshow": {
     "slide_type": "slide"
    }
   },
   "source": [
    "## Fomento de la lectura literaria asociada a Ingeniería agropecuaria y licenciatura en Matemáticas\n",
    "\n",
    "John Allen Paulos. El hombre anumérico. El analfabetismo matemático y sus consecuencias. \n",
    "\n",
    "\"Las mates siempre fueron mi asignatura más floja.\" \n",
    "\n"
   ]
  },
  {
   "cell_type": "markdown",
   "id": "3e38c499",
   "metadata": {
    "slideshow": {
     "slide_type": "slide"
    }
   },
   "source": [
    "# Lectura a las recomendaciones de la [UNESCO sobre ciencia abierta](https://unesdoc.unesco.org/ark:/48223/pf0000379949_spa)"
   ]
  },
  {
   "cell_type": "markdown",
   "id": "1d38dd4e",
   "metadata": {
    "slideshow": {
     "slide_type": "slide"
    }
   },
   "source": [
    "# Proporcionalidad para Ingeniería Agropecuaria\n",
    "## Objetivo de aprendizaje\n",
    "\n",
    "* Saber aplicar proporcionalidad directa e inversa en apricaciones asociadas a ingeniería agropecuiaria: física, química, economía y vida diaria. "
   ]
  },
  {
   "cell_type": "markdown",
   "id": "ca7261b1",
   "metadata": {
    "slideshow": {
     "slide_type": "slide"
    }
   },
   "source": [
    "## Establecimiento de prerrequisitos conceptuales para alcanzar el objetivo de aprendizaje trazado. \n",
    "1. Saber despejar variables utilizando el método de transposición de términos\n",
    "2. \n",
    "3. "
   ]
  },
  {
   "cell_type": "markdown",
   "id": "2298e976",
   "metadata": {
    "slideshow": {
     "slide_type": "slide"
    }
   },
   "source": [
    "# Para el diseño de la clase tenga en cuenta algunos problemas de aprendizaje"
   ]
  },
  {
   "cell_type": "markdown",
   "id": "dcccbb93",
   "metadata": {
    "slideshow": {
     "slide_type": "slide"
    }
   },
   "source": [
    "* Razonar con relación entre valores asociados a una variable como razonar con la diplicación de un velocidad y las implicaciones de esta duplicación en el tiempo de llegada a un lugar. Pues razonar con valores fijos asociados a una variable es más cómodo para los estudiantes, es decir, es más cómodo razonar con las implicaciones de que la velocidad pase de 60 a 120 kilometros por hora. "
   ]
  },
  {
   "cell_type": "markdown",
   "id": "a02ad684",
   "metadata": {
    "slideshow": {
     "slide_type": "slide"
    }
   },
   "source": [
    "##  Ejemplo de parcial sobre proporcionalidad\n",
    "\n",
    "Tomado de la página 132 del PDF del precálculo de stewart. "
   ]
  },
  {
   "cell_type": "markdown",
   "id": "f96e1ee4",
   "metadata": {
    "slideshow": {
     "slide_type": "slide"
    }
   },
   "source": [
    "## Primer punto de teoría\n",
    "\n",
    "Justifique cada respuesta utilizando las definiciones dadas por el autor. \n",
    "\n",
    "1. ¿Cuándo una relación es creciente? De al menos tres ejemplos y justifique. \n",
    "\n",
    "   - El diametro de una bomba de una fiesta y su volumen. Esta relación es creciente pero no de proporcionalidad directa.  \n",
    "   \n",
    "   $$ V_{\\text{esfera}} = \\frac{4}{3}\\pi \\left( \\frac{D}{2} \\right)^{3} $$\n",
    "   Incluir imagen de esfera con un segmento diametral. \n",
    "   <img src = ''>\n",
    "   \n",
    "De la fórmula del volumen de una esfera se ve que la relación entre volumen y diámetro **no** es de proporcionalidad directa, pues dl diámetro está elevado al cubo y el volumen no.  Es que cuando hay relación de proporcionalidad directa ambas variables están elevadas a la uno. \n",
    "   \n",
    "   - \n",
    "   - \n",
    "\n",
    "2. ¿Cuándo una relación creciente es de proporcionalidad directa? De al menos tres ejemplos y justifique. \n",
    "\n"
   ]
  },
  {
   "cell_type": "markdown",
   "id": "d4459c3e",
   "metadata": {
    "slideshow": {
     "slide_type": "slide"
    }
   },
   "source": [
    "## Punto 2\n",
    "\n",
    "### Aplicación uno de proporcionalidad directa\n",
    "\n",
    "#### EJEMPLO 1 Variación directa\n",
    "\n",
    "Durante una tormenta se ve el rayo antes de escuchar el trueno porque la luz viaja mucho \n",
    "más rápido que el sonido. La distancia entre una persona y la tormenta varía directamente \n",
    "con el tiempo entre el relámpago y el trueno.  \n",
    "1. Determine si la relación entre distancia y tiempo es creciente. \n",
    "2. Determine si la relación además de creciente es de proporcionalidad directa.\n",
    "3. Escriba la ecuación que describe la relación de proporcionalidad directa:\n",
    "\n",
    "$$ d = kt $$\n",
    "\n",
    "(a) Suponga que el trueno de una tormenta que está a 5400 pies de distancia tarda 5 s en \n",
    "llegar a usted. Determine la constante de proporcionalidad y escriba la ecuación para \n",
    "la variación. Y escriba luego de determinar la constante de proporcionalidad, escriba el modelo que representa esta situación real particular. \n",
    "\n",
    "\n",
    "Redacte una conclusión verbal luego de determinar la constante. \n",
    "(b) Trace la gráfica de esta ecuación. ¿Qué representa la constante de proporcionalidad?  \n",
    "\n",
    "(c) Si el tiempo entre el relámpago y el trueno es ahora de 8 s, ¿a qué distancia está la tormenta? \n"
   ]
  },
  {
   "cell_type": "markdown",
   "id": "ca932c92",
   "metadata": {
    "slideshow": {
     "slide_type": "slide"
    }
   },
   "source": [
    "## Sugerencias para la solución de este problema\n",
    "* Siempre redacte verbalmente la conclusión de cualquier resultado que obtenga. "
   ]
  },
  {
   "cell_type": "markdown",
   "id": "ad8bb350",
   "metadata": {
    "slideshow": {
     "slide_type": "slide"
    }
   },
   "source": []
  },
  {
   "cell_type": "markdown",
   "id": "9b7c3d94",
   "metadata": {
    "slideshow": {
     "slide_type": "slide"
    }
   },
   "source": [
    "## Punto 3\n",
    "\n",
    "### Aplicación dos de proporcionalidad directa\n",
    "\n",
    "\n",
    "La Ley de Boyle dice que cuando una muestra de gas se comprime a una temperatura constante, la presión del gas es inversamente proporcional al volumen del gas.  \n",
    "\n",
    "(a) Suponga que la presión de una muestra de aire que ocupa $0.106 \\ m^{3}$ a 25ºC es 50 kPa.   \n",
    " \n",
    "Encuentre la constante de proporcionalidad y escriba la ecuación que expresa la proporcionalidad inversa. Luego de determinar la constante de proporcionalidad escriba el modelo particular que representya esta situción real física.  \n",
    "\n",
    "(b) Si la muestra se expande a un volumen de 0.3 m3,  prediga, utilizando el modelo anterior, o encuentre la nueva presión.\n"
   ]
  },
  {
   "cell_type": "markdown",
   "id": "66f17cfb",
   "metadata": {
    "slideshow": {
     "slide_type": "slide"
    }
   },
   "source": [
    "## Sugerencias para la solución de este problema"
   ]
  },
  {
   "cell_type": "markdown",
   "id": "62601ceb",
   "metadata": {
    "slideshow": {
     "slide_type": "slide"
    }
   },
   "source": [
    "## Punto 4\n",
    "\n",
    "### Aplicación de proporcionalidad inversa    \n",
    "\n",
    "Resistencia eléctrica La resistencia $R$ de un alambre varía directamente con su longitud $L$ e inversamente con el cuadrado de su diámetro $d$.  \n",
    "\n",
    "(a) Escriba una ecuación que exprese esta variación conjunta.  \n",
    "\n",
    "(b) Encuentre la constante de proporcionalidad si un alambre de 1.2 m de largo y 0.005 m de diámetro tiene una resisten\u0002cia de 140 ohms.  \n",
    "\n",
    "(c) Encuentre la resistencia de un alambre hecho del mismo \n",
    "material que mide 3 m de largo y tiene un diámetro de \n",
    "0.008 m.\n",
    "\n",
    "\n"
   ]
  },
  {
   "cell_type": "markdown",
   "id": "43b38511",
   "metadata": {
    "slideshow": {
     "slide_type": "slide"
    }
   },
   "source": [
    "## Sugerencias para la solución de este problema"
   ]
  },
  {
   "cell_type": "markdown",
   "id": "d6451a64",
   "metadata": {
    "slideshow": {
     "slide_type": "slide"
    }
   },
   "source": [
    "## Punto 5\n",
    "\n",
    "### Aplicación de proporcionalidad inversa  \n",
    "\n",
    "#### 45. Producción de coles   \n",
    "\n",
    "En una corta temporada de producción del territorio ártico canadiense de Nunavut, algunos jardineros encuentran posible producir coles gigantes en el sol de medianoche. \n",
    "\n",
    "Suponga que el **tamaño** final de una col es proporcional a la cantidad de **nutriente** que recibe e inversamente proporcional al **número de otras coles** que la rodean. \n",
    "\n",
    "$$ T = k \\frac{N}{C} $$\n",
    "\n",
    "T: denota el tamaño de las coles medido en libras  \n",
    "N: número de nutrientes  \n",
    "C: es el número de coles vecinas.   \n",
    "\n",
    "Una col que recibe 20 onzas de nutrientes y tenía otras 12 coles a su alrededor creció a un peso de 30 libras(con estos datos determinas la constante de proporcionalidad. Note que el modelo particular para una situación real se obtiene con datos de esa situación real). Luego, de determinar la constante de proporcionalidad, debes escribir el modelo particular para esta situación\n",
    "\n",
    "¿De qué tamaño crecería si recibe 10 onzas de nutrientes y tiene sólo 5 coles “vecinas”?\n",
    "\n",
    "\n"
   ]
  },
  {
   "cell_type": "markdown",
   "id": "815d8e14",
   "metadata": {
    "slideshow": {
     "slide_type": "slide"
    }
   },
   "source": [
    "## Sugerencias para la solución de este problema"
   ]
  },
  {
   "cell_type": "code",
   "execution_count": null,
   "id": "4040c49e",
   "metadata": {
    "slideshow": {
     "slide_type": "slide"
    }
   },
   "outputs": [],
   "source": []
  },
  {
   "cell_type": "markdown",
   "id": "8e26aada",
   "metadata": {
    "slideshow": {
     "slide_type": "slide"
    }
   },
   "source": [
    "## Punto Opcional\n",
    "\n",
    "### Aplicación de proporcionalidad conjunta  \n",
    "\n",
    "#### Ley de Newton de la Gravitación\n",
    "La Ley de Newton de la Gravitación dice que dos cuerpos con masas m1 y m2  se atraen \n",
    "entre sí, con una fuerza F que es conjuntamente proporcional a sus masas e inversamente \n",
    "proporcional al cuadrado de la distancia r entre los cuerpos. Exprese la Ley de Newton de \n",
    "la Gravitación como ecuación.\n",
    "\n"
   ]
  },
  {
   "cell_type": "markdown",
   "id": "15eebe14",
   "metadata": {
    "slideshow": {
     "slide_type": "slide"
    }
   },
   "source": [
    "## Punto opcional 2  \n",
    "\n",
    "### Un chorro de agua   \n",
    "\n",
    "La potencia $P$ de un chorro de agua es conjuntamente proporcional al área de sección transversal $A$ del \n",
    "chorro y el cubo de la velocidad $v$.   \n",
    "\n",
    "Si $v$ se duplica y el área de sección transversal se reduce a la mitad, ¿en qué factor aumenta la potencia?\n",
    "\n",
    "Respuestas en la página 910 del precálculo de Stewart. \n",
    "\n",
    "**Los estudiantes, nos reflejaron la dificultad de resolver problemas cuando no se dan valores particulares sino relación entre valores.** "
   ]
  },
  {
   "cell_type": "markdown",
   "id": "39150181",
   "metadata": {
    "slideshow": {
     "slide_type": "slide"
    }
   },
   "source": [
    "<img src = ''>"
   ]
  },
  {
   "cell_type": "markdown",
   "id": "55511d99",
   "metadata": {
    "slideshow": {
     "slide_type": "slide"
    }
   },
   "source": [
    "$$ P = KAv^{3} $$\n",
    "\n",
    "Este es el modelo general, es decir, el modelo en el que no ha determinado la constante de proporcionalidad. "
   ]
  },
  {
   "cell_type": "markdown",
   "id": "94999963",
   "metadata": {
    "slideshow": {
     "slide_type": "slide"
    }
   },
   "source": [
    "$$ P_{\\text{vieja}} =  K(2)(1)^{3} = 2k$$"
   ]
  },
  {
   "cell_type": "markdown",
   "id": "e3a65906",
   "metadata": {
    "slideshow": {
     "slide_type": "slide"
    }
   },
   "source": [
    "$$ P_{\\text{nueva}} =  K(1)(2)^{3} = 8k$$"
   ]
  },
  {
   "cell_type": "markdown",
   "id": "1e4c3abb",
   "metadata": {
    "slideshow": {
     "slide_type": "slide"
    }
   },
   "source": [
    "y ahora, vamos a comparar las potencias vieja y nueva para ver en que factor a cabiado la potencia. \n",
    "\n",
    "$$ \\frac{P_{\\text{nueva}}}{P_{\\text{vieja}}} = \\frac{8k}{2k} = 4 $$\n",
    "\n",
    "**Conclusión** el haber duplicado la velocidad y a la vez haber reducido a la mitad la sección transversal, hizo que la potencia del chorro creciera en un factor de 4. "
   ]
  },
  {
   "cell_type": "markdown",
   "id": "d58ffc63",
   "metadata": {
    "slideshow": {
     "slide_type": "slide"
    }
   },
   "source": [
    "# Punto opcional 3\n",
    "\n",
    "## 35. Intensidad del sonido.\n",
    "\n",
    "Página 137 del PDF y 123 del libro. \n",
    "\n",
    "Intensidad del sonido \n",
    "La intensidad L de un sonido (me\u0002dida en decibeles, dB) es inversamente proporcional al cuadrado \n",
    "de la distancia d desde la fuente del sonido. Una persona que se \n",
    "encuentre a 10 pies de una podadora de césped capta un nivel de \n",
    "sonido de 70 dB. ¿Cuál es la intensidad del sonido de la poda\u0002dora cuando la persona esté a 100 pies de distancia\n"
   ]
  },
  {
   "cell_type": "markdown",
   "id": "4bb25804",
   "metadata": {
    "slideshow": {
     "slide_type": "slide"
    }
   },
   "source": [
    "# Dificultades de aprendizaje observadas  \n",
    "\n",
    "* Razonar con relación entre valores asociados a una variable, pues razonar con valores fijos de una variable es mucho más fácil. "
   ]
  },
  {
   "cell_type": "markdown",
   "id": "1fb2ad19",
   "metadata": {
    "slideshow": {
     "slide_type": "slide"
    }
   },
   "source": [
    "## Sugerencias para la solución de este problema"
   ]
  },
  {
   "cell_type": "markdown",
   "id": "5ebc6ae6",
   "metadata": {
    "slideshow": {
     "slide_type": "slide"
    }
   },
   "source": [
    "* Tome valores particulares pequeños y sencillos y utilice la resta o el cociente como instrumentos de comparación de tal manera que:\n",
    "\n",
    "* Resta igual a cero, significa que no hubo cambios. \n",
    "* y división igual a 2 significa que la variable se duplicó. \n"
   ]
  },
  {
   "cell_type": "code",
   "execution_count": null,
   "id": "b397442a",
   "metadata": {
    "slideshow": {
     "slide_type": "slide"
    }
   },
   "outputs": [],
   "source": []
  },
  {
   "cell_type": "markdown",
   "id": "8a6f7ef9",
   "metadata": {
    "slideshow": {
     "slide_type": "slide"
    }
   },
   "source": [
    "## Tereas para realizar antes de la clase"
   ]
  },
  {
   "cell_type": "markdown",
   "id": "90cae469",
   "metadata": {
    "slideshow": {
     "slide_type": "slide"
    }
   },
   "source": [
    "1. Ver los videos respectivos []()\n",
    "2. Memorizar las definiciones []()\n",
    "3. Sintetizar o resumir la información []()"
   ]
  },
  {
   "cell_type": "markdown",
   "id": "fccb447c",
   "metadata": {
    "slideshow": {
     "slide_type": "slide"
    }
   },
   "source": [
    "# Tareas para realizar en clase"
   ]
  },
  {
   "cell_type": "markdown",
   "id": "e5c48edf",
   "metadata": {
    "slideshow": {
     "slide_type": "slide"
    }
   },
   "source": [
    "* Modelación matemática \n",
    "* Trabajo en equipos"
   ]
  },
  {
   "cell_type": "markdown",
   "id": "8b6b0112",
   "metadata": {
    "slideshow": {
     "slide_type": "slide"
    }
   },
   "source": [
    "# Tareas para realizar después de la realización de la clase"
   ]
  },
  {
   "cell_type": "markdown",
   "id": "947460e3",
   "metadata": {
    "slideshow": {
     "slide_type": "slide"
    }
   },
   "source": [
    "* Actividades de memorización: \n",
    "  - escucha reiterada de grabaciones de formulas y resultados científicos. \n",
    "  - relectura de notas. \n",
    "  - ejercicios de mayor complejidad. \n",
    "  "
   ]
  },
  {
   "cell_type": "markdown",
   "id": "935a5567",
   "metadata": {
    "slideshow": {
     "slide_type": "slide"
    }
   },
   "source": [
    "## Dificultades de aprendizaje detectados durante la clase"
   ]
  },
  {
   "cell_type": "code",
   "execution_count": null,
   "id": "7d9c6c7f",
   "metadata": {
    "slideshow": {
     "slide_type": "slide"
    }
   },
   "outputs": [],
   "source": []
  },
  {
   "cell_type": "markdown",
   "id": "fb9402bb",
   "metadata": {
    "slideshow": {
     "slide_type": "slide"
    }
   },
   "source": [
    "## Estrategias propuestas para la solución de las dificultades de aprendizaje detectadas"
   ]
  },
  {
   "cell_type": "code",
   "execution_count": null,
   "id": "2dd3bd5c",
   "metadata": {
    "slideshow": {
     "slide_type": "slide"
    }
   },
   "outputs": [],
   "source": []
  },
  {
   "cell_type": "markdown",
   "id": "d11570a2",
   "metadata": {
    "slideshow": {
     "slide_type": "slide"
    }
   },
   "source": [
    "## Cuestionario para realizar labores de memorización y observación,  a la síntesis de la información"
   ]
  },
  {
   "cell_type": "markdown",
   "id": "540f0ec1",
   "metadata": {
    "slideshow": {
     "slide_type": "slide"
    }
   },
   "source": []
  },
  {
   "cell_type": "markdown",
   "id": "236b43fc",
   "metadata": {
    "slideshow": {
     "slide_type": "slide"
    }
   },
   "source": [
    "## Grabaciones en audio para fomentar la capacidad de memorizar enunciados de teoremas y resultados científicos y la capacidad de parafrasear estos resultados. "
   ]
  },
  {
   "cell_type": "markdown",
   "id": "319f2ffa",
   "metadata": {
    "slideshow": {
     "slide_type": "slide"
    }
   },
   "source": [
    "Se dispondrá de un lugar en el drive asociuado al correo institucional de la Universidad Nacional del Profesor Marso para albergar los archivosd de audio de fomento a la memoirización, enunciación y parafraseo de los resultados científicos, prtopiedades, reglas, etc. \n",
    "\n",
    "* Vocaroo"
   ]
  },
  {
   "cell_type": "markdown",
   "id": "564fa59d",
   "metadata": {
    "slideshow": {
     "slide_type": "slide"
    }
   },
   "source": [
    "### Comparta sus cuadernos y videos, evidencias de su aprendizaje [aquí](https://forms.office.com/Pages/ResponsePage.aspx?id=IefhmYRxjkmK_7KtTlPBwkanXIs1i1FEujpsZgO6dXpUMEMwTEZVMzEwVVBPTElWNVg5OVEyWUhMUy4u)"
   ]
  },
  {
   "cell_type": "code",
   "execution_count": null,
   "id": "5fe498b3",
   "metadata": {
    "slideshow": {
     "slide_type": "slide"
    }
   },
   "outputs": [],
   "source": []
  },
  {
   "cell_type": "markdown",
   "id": "44be6d93",
   "metadata": {
    "slideshow": {
     "slide_type": "slide"
    }
   },
   "source": [
    "# Vocabulary "
   ]
  },
  {
   "cell_type": "markdown",
   "id": "783e55a3",
   "metadata": {
    "slideshow": {
     "slide_type": "slide"
    }
   },
   "source": []
  },
  {
   "cell_type": "markdown",
   "id": "ee46cb9a",
   "metadata": {
    "slideshow": {
     "slide_type": "slide"
    }
   },
   "source": [
    "## Mapa conceptual que vincula los conceptos asoaciados al objetivo de aprendizaje"
   ]
  },
  {
   "cell_type": "code",
   "execution_count": null,
   "id": "bf552488",
   "metadata": {
    "slideshow": {
     "slide_type": "slide"
    }
   },
   "outputs": [],
   "source": []
  },
  {
   "cell_type": "markdown",
   "id": "0266e3c5",
   "metadata": {
    "slideshow": {
     "slide_type": "slide"
    }
   },
   "source": [
    "## Quiz de 5 minutos para ejercitación y adquisición de habilidades "
   ]
  },
  {
   "cell_type": "markdown",
   "id": "3a1b127f",
   "metadata": {
    "slideshow": {
     "slide_type": "slide"
    }
   },
   "source": []
  },
  {
   "cell_type": "markdown",
   "id": "10bce0d0",
   "metadata": {
    "slideshow": {
     "slide_type": "slide"
    }
   },
   "source": [
    "## Referentes "
   ]
  },
  {
   "cell_type": "markdown",
   "id": "1db3c468",
   "metadata": {
    "slideshow": {
     "slide_type": "slide"
    }
   },
   "source": [
    "* [stewart precálculo](https://udeaeduco-my.sharepoint.com/:b:/g/personal/marco_canas_udea_edu_co/ERHIq62I6qFNrmxy6LZb8ZMBci7kUsyNME1nIh9yCBMJ_w?e=9NqVCp)\n",
    "* [stewart cálculo]()\n",
    "* [larson]()\n",
    "\n",
    "* [uzcategui](https://udeaeduco-my.sharepoint.com/:b:/g/personal/marco_canas_udea_edu_co/ETDikm-lVl1Or8XoEo9oyh0BEti9Zs8le-f0D-dBdtZmbA?e=bBsoyQ)"
   ]
  },
  {
   "cell_type": "markdown",
   "id": "6b9e56a8",
   "metadata": {
    "slideshow": {
     "slide_type": "slide"
    }
   },
   "source": [
    "### [Evaluamos al profesor Marco Cañas Aquí](https://forms.office.com/Pages/ResponsePage.aspx?id=IefhmYRxjkmK_7KtTlPBwkanXIs1i1FEujpsZgO6dXpUREJPV1kxUk1JV1ozTFJIQVNIQjY5WEY3US4u)"
   ]
  },
  {
   "cell_type": "markdown",
   "id": "071afa04",
   "metadata": {
    "slideshow": {
     "slide_type": "slide"
    }
   },
   "source": [
    "## [Evaluación luego de alcanzar estos objetivos de aprendizaje]()"
   ]
  },
  {
   "cell_type": "markdown",
   "id": "10f43536",
   "metadata": {
    "slideshow": {
     "slide_type": "slide"
    }
   },
   "source": [
    "### Continue su aprendizaje en la siguiente clase a través del siguiente [vínculo]()"
   ]
  },
  {
   "cell_type": "markdown",
   "id": "53cc9115",
   "metadata": {
    "slideshow": {
     "slide_type": "slide"
    }
   },
   "source": [
    "# Conjeturas pedagógicas fruto de la aplicación del modelo de aprendizaje invertido y del enfoque hacia la ciencia de datos con python\n",
    "\n",
    "1. Todo cálculo o resultado debe ser interpretado en una línea markdown en la línea del cuaderno Jupyter, inmediatamente después de la enunciación del resultado y después de la presentación de una tabla o gráfico bidimensional, de tal menera que el estudiante explicite la comprensión verbal del resultado y las inferencias o estrategias que este resultado le sugieren.   \n",
    "\n",
    "\n",
    "### Agradecimientos  \n",
    "\n",
    "Doy gracias a Dios por la vida de mi Hijo Joseph Cañas Osorio y la madurez que ha alcanzado. "
   ]
  },
  {
   "cell_type": "markdown",
   "id": "0fb6293c",
   "metadata": {
    "slideshow": {
     "slide_type": "slide"
    }
   },
   "source": [
    "# Fomento al estudio de Python para ciencia de datos"
   ]
  },
  {
   "cell_type": "markdown",
   "id": "a5efb793",
   "metadata": {
    "slideshow": {
     "slide_type": "slide"
    }
   },
   "source": [
    "# 2.1 The Python Interpreter\n",
    "Python is an interpreted language. The Python interpreter runs a program by executing one statement at a time. The standard interactive Python interpreter can be\n",
    "invoked on the command line with the python command:"
   ]
  },
  {
   "cell_type": "markdown",
   "id": "892386d2",
   "metadata": {},
   "source": [
    "# [Cómo ver la versión de Python instalada](https://www.python.org/)"
   ]
  },
  {
   "cell_type": "code",
   "execution_count": null,
   "id": "7e6e14c3",
   "metadata": {
    "slideshow": {
     "slide_type": "slide"
    }
   },
   "outputs": [],
   "source": [
    "!python\n"
   ]
  },
  {
   "cell_type": "markdown",
   "id": "f82463dc",
   "metadata": {
    "slideshow": {
     "slide_type": "slide"
    }
   },
   "source": [
    "# Creación de una variable en Python"
   ]
  },
  {
   "cell_type": "code",
   "execution_count": 1,
   "id": "14ca490c",
   "metadata": {
    "slideshow": {
     "slide_type": "slide"
    }
   },
   "outputs": [],
   "source": [
    "a = 5"
   ]
  },
  {
   "cell_type": "code",
   "execution_count": 2,
   "id": "ed0935bc",
   "metadata": {
    "slideshow": {
     "slide_type": "slide"
    }
   },
   "outputs": [
    {
     "name": "stdout",
     "output_type": "stream",
     "text": [
      "5\n"
     ]
    }
   ],
   "source": [
    "print(a)"
   ]
  },
  {
   "cell_type": "markdown",
   "id": "fc0bd897",
   "metadata": {
    "slideshow": {
     "slide_type": "slide"
    }
   },
   "source": [
    "The >>> you see is the prompt where you’ll type code expressions. To exit the Python\n",
    "interpreter and return to the command prompt, you can either type exit() or press\n",
    "Ctrl-D.\n",
    "Running Python programs is as simple as calling python with a .py file as its first\n",
    "argument. Suppose we had created hello_world.py with these contents:\n",
    "print('Hello world')"
   ]
  },
  {
   "cell_type": "markdown",
   "id": "e932ba18",
   "metadata": {
    "slideshow": {
     "slide_type": "slide"
    }
   },
   "source": [
    "# Fomento al estudio de las redes neuronales. "
   ]
  },
  {
   "cell_type": "code",
   "execution_count": 3,
   "id": "e96252a1",
   "metadata": {
    "slideshow": {
     "slide_type": "slide"
    }
   },
   "outputs": [],
   "source": [
    "import tensorflow as tf"
   ]
  },
  {
   "cell_type": "code",
   "execution_count": 4,
   "id": "874be1bd",
   "metadata": {
    "slideshow": {
     "slide_type": "slide"
    }
   },
   "outputs": [],
   "source": [
    "from tensorflow import keras\n"
   ]
  },
  {
   "cell_type": "code",
   "execution_count": 5,
   "id": "e7faee91",
   "metadata": {
    "slideshow": {
     "slide_type": "slide"
    }
   },
   "outputs": [
    {
     "data": {
      "text/plain": [
       "'2.11.0'"
      ]
     },
     "execution_count": 5,
     "metadata": {},
     "output_type": "execute_result"
    }
   ],
   "source": [
    "keras.__version__"
   ]
  },
  {
   "cell_type": "markdown",
   "id": "8ecf7fe6",
   "metadata": {
    "slideshow": {
     "slide_type": "slide"
    }
   },
   "source": [
    "The second version is the version of the Keras API implemented by `tf.keras`. Note that it ends with -tf, highlighting the fact that `tf.keras` implements the Keras API, plus some extra TensorFlow-specific features."
   ]
  },
  {
   "cell_type": "markdown",
   "id": "025e7427",
   "metadata": {
    "slideshow": {
     "slide_type": "slide"
    }
   },
   "source": [
    "Now let’s use `tf.keras!` We’ll start by building a simple image classifier."
   ]
  },
  {
   "cell_type": "markdown",
   "id": "b955b6b6",
   "metadata": {
    "slideshow": {
     "slide_type": "slide"
    }
   },
   "source": [
    "# Image Classifier"
   ]
  },
  {
   "cell_type": "code",
   "execution_count": null,
   "id": "85662212",
   "metadata": {},
   "outputs": [],
   "source": []
  }
 ],
 "metadata": {
  "celltoolbar": "Slideshow",
  "kernelspec": {
   "display_name": "Python 3 (ipykernel)",
   "language": "python",
   "name": "python3"
  },
  "language_info": {
   "codemirror_mode": {
    "name": "ipython",
    "version": 3
   },
   "file_extension": ".py",
   "mimetype": "text/x-python",
   "name": "python",
   "nbconvert_exporter": "python",
   "pygments_lexer": "ipython3",
   "version": "3.9.13"
  },
  "rise": {
   "enable_chalkboard": true,
   "theme": "sky",
   "transition": "zoom"
  }
 },
 "nbformat": 4,
 "nbformat_minor": 5
}
