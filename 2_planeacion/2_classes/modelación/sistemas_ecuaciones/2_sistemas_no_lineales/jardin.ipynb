{
 "cells": [
  {
   "attachments": {},
   "cell_type": "markdown",
   "id": "e638b6a9",
   "metadata": {
    "slideshow": {
     "slide_type": "slide"
    }
   },
   "source": [
    "<table align=\"left\">\n",
    "  <td>\n",
    "    <a href=\"https://colab.research.google.com/github/marco-canas/algebra/blob/main/circunferencia_unitaria.ipynb\" target=\"_parent\"><img src=\"https://colab.research.google.com/assets/colab-badge.svg\" alt=\"Open In Colab\"/></a>\n",
    "  </td>\n",
    "</table>"
   ]
  },
  {
   "attachments": {},
   "cell_type": "markdown",
   "id": "a1c14084",
   "metadata": {},
   "source": [
    "### [Video de apoyo a la lectura interactiva y experimental de este cuaderno](https://www.youtube.com/watch?v=u5uNAhIGR7c)"
   ]
  },
  {
   "attachments": {},
   "cell_type": "markdown",
   "id": "8dc99488",
   "metadata": {},
   "source": [
    "Reconocimiento a los estudiantes de ingeniería Agropecuaria Seccional Bajo cauca por su trabajo esmerado en Clase de Álgebra y trigonometría\n",
    "\n",
    "<img src = 'https://github.com/marco-canas/1_algebra/blob/main/images/funciones_python_con_celular_1.jpg?raw=true'>\n",
    "<img src = 'https://github.com/marco-canas/1_algebra/blob/main/images/funciones_python_con_celular_2.jpg?raw=true'>\n",
    "<img src = 'https://github.com/marco-canas/1_algebra/blob/main/images/funciones_python_con_celular_3.jpg?raw=true'>\n",
    "<img src = 'https://github.com/marco-canas/1_algebra/blob/main/images/funciones_python_con_celular_4.jpg?raw=true'>\n",
    "<img src = 'https://github.com/marco-canas/1_algebra/blob/main/images/funciones_python_con_celular_5.jpg?raw=true'>"
   ]
  },
  {
   "attachments": {},
   "cell_type": "markdown",
   "id": "77e11466",
   "metadata": {},
   "source": [
    "## [Vínculo al programa del curso:  ]()\n",
    "\n",
    "* Todos los profesores debemos proponer objetivos de formación\n",
    "* Propuesta de evaluación \n",
    "* Y propuesta de metodología\n",
    "* Y propuesta de bibliografía. "
   ]
  },
  {
   "attachments": {},
   "cell_type": "markdown",
   "id": "df0bc7de",
   "metadata": {
    "slideshow": {
     "slide_type": "slide"
    }
   },
   "source": [
    "## Jardin"
   ]
  },
  {
   "attachments": {},
   "cell_type": "markdown",
   "id": "f7bc6582",
   "metadata": {
    "slideshow": {
     "slide_type": "slide"
    }
   },
   "source": [
    "41. Dimensiones de un jardín  \n",
    "\n",
    "Un granjero tiene un terreno rectangular para jardín, rodeado por una cerca de 200 pies.\n",
    "Determine la longitud y la anchura del jardín si el área es de 2 400 pies cuadrados."
   ]
  },
  {
   "attachments": {},
   "cell_type": "markdown",
   "id": "c3476c3e",
   "metadata": {
    "slideshow": {
     "slide_type": "slide"
    }
   },
   "source": [
    "## Solución"
   ]
  },
  {
   "attachments": {},
   "cell_type": "markdown",
   "id": "43d11876",
   "metadata": {},
   "source": [
    "## Visualizar el terreno utilizando matplotlib\n",
    "\n"
   ]
  },
  {
   "cell_type": "code",
   "execution_count": 5,
   "id": "b54565c9",
   "metadata": {},
   "outputs": [
    {
     "data": {
      "image/png": "[encoded data removed]",
      "text/plain": [
       "<Figure size 640x480 with 1 Axes>"
      ]
     },
     "metadata": {},
     "output_type": "display_data"
    }
   ],
   "source": [
    "import numpy as np \n",
    "import matplotlib.pyplot as plt \n",
    "\n",
    "vertice1 = (0,0)\n",
    "vertice2 = (4,0)\n",
    "vertice3 = (4,3)\n",
    "vertice4 = (0,3)\n",
    "x_coords, y_coords = zip(vertice1, vertice2, vertice3, vertice4, vertice1)\n",
    "\n",
    "plt.plot(x_coords, y_coords, 'r-')\n",
    "plt.grid(alpha = 0.4)\n",
    "\n",
    "plt.savefig('jardin_rectangular.jpg')\n",
    "\n",
    "plt.show()\n"
   ]
  },
  {
   "cell_type": "code",
   "execution_count": 6,
   "id": "2bcee381",
   "metadata": {
    "slideshow": {
     "slide_type": "slide"
    }
   },
   "outputs": [],
   "source": [
    "def calcula_longitud_anchura(perimetro, area):\n",
    "    from sympy import Eq, solve, var\n",
    "    ancho, largo = var('ancho, largo')\n",
    "    ecuacion1 = Eq(perimetro/2, ancho + largo)\n",
    "    ecuacion2 = Eq(area, ancho*largo)\n",
    "    return solve([ecuacion1, ecuacion2], (ancho, largo))[0]\n",
    "    "
   ]
  },
  {
   "cell_type": "code",
   "execution_count": 7,
   "id": "92addfc6",
   "metadata": {
    "slideshow": {
     "slide_type": "slide"
    }
   },
   "outputs": [
    {
     "data": {
      "text/plain": [
       "(40.0000000000000, 60.0000000000000)"
      ]
     },
     "execution_count": 7,
     "metadata": {},
     "output_type": "execute_result"
    }
   ],
   "source": [
    "calcula_longitud_anchura(200, 2400)"
   ]
  },
  {
   "attachments": {},
   "cell_type": "markdown",
   "id": "560cd2b1",
   "metadata": {
    "slideshow": {
     "slide_type": "slide"
    }
   },
   "source": [
    "Las dimensiones del terreno deben ser 40 pies y 60 pies. "
   ]
  },
  {
   "cell_type": "code",
   "execution_count": null,
   "id": "781c6d35",
   "metadata": {},
   "outputs": [],
   "source": []
  },
  {
   "cell_type": "code",
   "execution_count": null,
   "id": "6669ac25",
   "metadata": {},
   "outputs": [],
   "source": []
  },
  {
   "cell_type": "code",
   "execution_count": null,
   "id": "09c46b53",
   "metadata": {},
   "outputs": [],
   "source": []
  },
  {
   "cell_type": "code",
   "execution_count": null,
   "id": "5e28a776",
   "metadata": {},
   "outputs": [],
   "source": []
  },
  {
   "cell_type": "code",
   "execution_count": null,
   "id": "38a7ec8e",
   "metadata": {},
   "outputs": [],
   "source": []
  },
  {
   "cell_type": "code",
   "execution_count": null,
   "id": "1df8c962",
   "metadata": {},
   "outputs": [],
   "source": []
  }
 ],
 "metadata": {
  "celltoolbar": "Slideshow",
  "kernelspec": {
   "display_name": "Python 3 (ipykernel)",
   "language": "python",
   "name": "python3"
  },
  "language_info": {
   "codemirror_mode": {
    "name": "ipython",
    "version": 3
   },
   "file_extension": ".py",
   "mimetype": "text/x-python",
   "name": "python",
   "nbconvert_exporter": "python",
   "pygments_lexer": "ipython3",
   "version": "3.10.11"
  }
 },
 "nbformat": 4,
 "nbformat_minor": 5
}
