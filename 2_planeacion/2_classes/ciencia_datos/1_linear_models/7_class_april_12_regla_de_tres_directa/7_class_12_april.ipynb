{
 "cells": [
  {
   "cell_type": "markdown",
   "id": "7e1bd9b3",
   "metadata": {
    "slideshow": {
     "slide_type": "slide"
    }
   },
   "source": [
    "<table align=\"left\">\n",
    "  <td>\n",
    "    <a href=\"https://colab.research.google.com/github/marco-canas/1_algebra/blob/main/classes/ciencia_datos/7_class_april_12_regla_de_tres_directa/7_class_12_april.ipynb\" target=\"_parent\"><img src=\"https://colab.research.google.com/assets/colab-badge.svg\" alt=\"Open In Colab\"/></a>\n",
    "  </td>\n",
    "</table>"
   ]
  },
  {
   "cell_type": "markdown",
   "id": "0f6c74d8",
   "metadata": {
    "slideshow": {
     "slide_type": "slide"
    }
   },
   "source": [
    "## [Video de apoyo a la lectura interactiva y experimental de este cuaderno]()"
   ]
  },
  {
   "cell_type": "markdown",
   "id": "516c1f84",
   "metadata": {
    "slideshow": {
     "slide_type": "slide"
    }
   },
   "source": [
    "Mis estudiantes son la razón de mi actividad docente:\n",
    "\n",
    "<img src = 'https://github.com/marco-canas/1_algebra/blob/main/classes/ciencia_datos/ing_agro_algebra_2023_1_2.jpg?raw=true'>"
   ]
  },
  {
   "cell_type": "markdown",
   "id": "20b24d19",
   "metadata": {
    "slideshow": {
     "slide_type": "slide"
    }
   },
   "source": [
    "# Clase 7 April 12 Proporcionalidad directa. Regla de tres directa "
   ]
  },
  {
   "cell_type": "markdown",
   "id": "253babac",
   "metadata": {
    "slideshow": {
     "slide_type": "slide"
    }
   },
   "source": [
    "### Modelo pedagógico de la clase: [Aula invertida](https://www3.gobiernodecanarias.org/medusa/ecoescuela/pedagotic/aprendizaje-invertido-flipped-classroom/)"
   ]
  },
  {
   "cell_type": "markdown",
   "id": "72013bf1",
   "metadata": {
    "slideshow": {
     "slide_type": "slide"
    }
   },
   "source": [
    "### Objetivo de aprendizaje  \n",
    "\n",
    "1. Retroalimentación del quiz sobre graficar una función lineal y hacer por lo menos cuatro inferencias de ese gráfico \n",
    "2. La proporcionalidad directa\n"
   ]
  },
  {
   "cell_type": "markdown",
   "id": "5994cba2",
   "metadata": {},
   "source": [
    "## Fomento a la lectura de artículos científicos  \n",
    "\n",
    "[¿Al doble le toca el doble?](https://udeaeduco-my.sharepoint.com/:b:/g/personal/marco_canas_udea_edu_co/EfsU-vU1kZlJuIKipZBvFioBnDdcHCbEfD3LsE35suibFA?e=tf8309)\n",
    "La enseñanza de la proporcionalidad\n",
    "en la educación básica, de David Block, \n",
    "Tatiana Mendoza y Margarita Ramírez"
   ]
  },
  {
   "cell_type": "code",
   "execution_count": null,
   "id": "76d0e26f",
   "metadata": {
    "slideshow": {
     "slide_type": "slide"
    }
   },
   "outputs": [],
   "source": []
  },
  {
   "cell_type": "markdown",
   "id": "0d56707e",
   "metadata": {
    "slideshow": {
     "slide_type": "slide"
    }
   },
   "source": [
    "## Mapa conceptual de la clase"
   ]
  },
  {
   "cell_type": "markdown",
   "id": "f00feaef",
   "metadata": {
    "slideshow": {
     "slide_type": "slide"
    }
   },
   "source": []
  },
  {
   "cell_type": "markdown",
   "id": "a11c6765",
   "metadata": {
    "slideshow": {
     "slide_type": "slide"
    }
   },
   "source": [
    "## Tareas para realizar antes de clase"
   ]
  },
  {
   "cell_type": "code",
   "execution_count": null,
   "id": "546f260b",
   "metadata": {
    "slideshow": {
     "slide_type": "slide"
    }
   },
   "outputs": [],
   "source": []
  },
  {
   "cell_type": "markdown",
   "id": "97cfd900",
   "metadata": {
    "slideshow": {
     "slide_type": "slide"
    }
   },
   "source": [
    "# Tareas para realizar en clase"
   ]
  },
  {
   "cell_type": "code",
   "execution_count": null,
   "id": "4ff3b6d9",
   "metadata": {
    "slideshow": {
     "slide_type": "slide"
    }
   },
   "outputs": [],
   "source": []
  },
  {
   "cell_type": "markdown",
   "id": "1d794427",
   "metadata": {
    "slideshow": {
     "slide_type": "slide"
    }
   },
   "source": [
    "# Tareas para realizar fuera de clase"
   ]
  },
  {
   "cell_type": "markdown",
   "id": "2a1235e7",
   "metadata": {
    "slideshow": {
     "slide_type": "slide"
    }
   },
   "source": [
    "1. Página 65 del PDF del **cálculo** de stewart. Ejercicio 15  \n",
    "\n",
    "15. La relación entre las escalas de temperatura Fahrenheit (F) y \n",
    "Celsius (C) está dada por la función lineal F − 9\n",
    "5C 1 32.\n",
    "(a) Trace la gráfica de esta función.\n",
    "(b) ¿Cuál es la pendiente de la grá\u001fca y qué representa? \n",
    "¿Cuál es la intersección con el eje F y qué representa?\n",
    "\n",
    "2. Página **133 del PDF** del **precálculo** de Stewart. **Del libro es la página 119**. \n",
    "\n"
   ]
  },
  {
   "cell_type": "markdown",
   "id": "888ff618",
   "metadata": {
    "slideshow": {
     "slide_type": "slide"
    }
   },
   "source": [
    "3. Realizar al menos 10 ejercicios del precálculo de stewart página 132. \n",
    "[Precálculo de Stewart](https://udeaeduco-my.sharepoint.com/:b:/g/personal/marco_canas_udea_edu_co/ERHIq62I6qFNrmxy6LZb8ZMBci7kUsyNME1nIh9yCBMJ_w?e=cOQjzv)"
   ]
  },
  {
   "cell_type": "markdown",
   "id": "7f81dadc",
   "metadata": {
    "slideshow": {
     "slide_type": "slide"
    }
   },
   "source": [
    "4. Leer el libro [al doble le toca el doble](https://udeaeduco-my.sharepoint.com/:b:/g/personal/marco_canas_udea_edu_co/EfsU-vU1kZlJuIKipZBvFioBnDdcHCbEfD3LsE35suibFA?e=tf8309). "
   ]
  },
  {
   "cell_type": "markdown",
   "id": "d48dc418",
   "metadata": {
    "slideshow": {
     "slide_type": "slide"
    }
   },
   "source": [
    "5. Hacer por lo menos 10 ejercicios de despeje de variables. "
   ]
  },
  {
   "cell_type": "markdown",
   "id": "be5e748c",
   "metadata": {
    "slideshow": {
     "slide_type": "slide"
    }
   },
   "source": [
    "## Cuestionario para memorizar"
   ]
  },
  {
   "cell_type": "markdown",
   "id": "bd73de84",
   "metadata": {
    "slideshow": {
     "slide_type": "slide"
    }
   },
   "source": [
    "1."
   ]
  },
  {
   "cell_type": "markdown",
   "id": "74bf6863",
   "metadata": {
    "slideshow": {
     "slide_type": "slide"
    }
   },
   "source": [
    "## Próxima clase quiz de tres preguntas sobre proporcionalidad directa y regla de tres "
   ]
  },
  {
   "cell_type": "code",
   "execution_count": null,
   "id": "17714280",
   "metadata": {
    "slideshow": {
     "slide_type": "slide"
    }
   },
   "outputs": [],
   "source": []
  },
  {
   "cell_type": "markdown",
   "id": "33b78b6d",
   "metadata": {},
   "source": [
    "## Grabaciones en audio para fomentar la capacidad de memorizar enunciados de teoremas y resultados científicos y la capacidad de parafrasear estos resultados. "
   ]
  },
  {
   "cell_type": "markdown",
   "id": "abafaa91",
   "metadata": {},
   "source": [
    "[grabacion de caracteristicas de una regla de tres directa]()"
   ]
  },
  {
   "cell_type": "markdown",
   "id": "4c444ecf",
   "metadata": {
    "slideshow": {
     "slide_type": "slide"
    }
   },
   "source": [
    "# Vocabulary"
   ]
  },
  {
   "cell_type": "code",
   "execution_count": null,
   "id": "ed702a4f",
   "metadata": {
    "slideshow": {
     "slide_type": "slide"
    }
   },
   "outputs": [],
   "source": []
  },
  {
   "cell_type": "markdown",
   "id": "d278c79b",
   "metadata": {
    "slideshow": {
     "slide_type": "slide"
    }
   },
   "source": [
    "## Referentes\n",
    "\n",
    "* [Precálculo de Stewart](https://udeaeduco-my.sharepoint.com/:b:/g/personal/marco_canas_udea_edu_co/ERHIq62I6qFNrmxy6LZb8ZMBci7kUsyNME1nIh9yCBMJ_w?e=cOQjzv)\n",
    "* [Cálculo Stewart](https://udeaeduco-my.sharepoint.com/:b:/g/personal/marco_canas_udea_edu_co/EZgXZjAp8QxPqOAim2hs6LcBNPLGjSHf-xwYnUVYkwa04w?e=k1HOhB)\n",
    "\n",
    "* [¿Al doble le toca el doble?](https://udeaeduco-my.sharepoint.com/:b:/g/personal/marco_canas_udea_edu_co/EfsU-vU1kZlJuIKipZBvFioBnDdcHCbEfD3LsE35suibFA?e=tf8309)"
   ]
  },
  {
   "cell_type": "markdown",
   "id": "896bf645",
   "metadata": {
    "slideshow": {
     "slide_type": "slide"
    }
   },
   "source": [
    "### [Evaluamos al profesor Marco Cañas Aquí](https://forms.office.com/Pages/ResponsePage.aspx?id=IefhmYRxjkmK_7KtTlPBwkanXIs1i1FEujpsZgO6dXpUREJPV1kxUk1JV1ozTFJIQVNIQjY5WEY3US4u)"
   ]
  },
  {
   "cell_type": "markdown",
   "id": "ef4f9f85",
   "metadata": {
    "slideshow": {
     "slide_type": "slide"
    }
   },
   "source": [
    "### Continue su aprendizaje en la siguiente clase a través del siguiente [vínculo]()"
   ]
  }
 ],
 "metadata": {
  "celltoolbar": "Slideshow",
  "kernelspec": {
   "display_name": "Python 3 (ipykernel)",
   "language": "python",
   "name": "python3"
  },
  "language_info": {
   "codemirror_mode": {
    "name": "ipython",
    "version": 3
   },
   "file_extension": ".py",
   "mimetype": "text/x-python",
   "name": "python",
   "nbconvert_exporter": "python",
   "pygments_lexer": "ipython3",
   "version": "3.9.13"
  },
  "rise": {
   "enable_chalkboard": true,
   "theme": "sky",
   "transition": "zoom"
  }
 },
 "nbformat": 4,
 "nbformat_minor": 5
}
