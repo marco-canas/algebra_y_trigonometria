{
 "cells": [
  {
   "cell_type": "markdown",
   "id": "dc06dec7",
   "metadata": {
    "slideshow": {
     "slide_type": "slide"
    }
   },
   "source": [
    "<table align=\"left\">\n",
    "  <td>\n",
    "    <a href=\"https://colab.research.google.com/github/marco-canas/1_algebra/blob/main/classes/ciencia_datos/9_class_april_26_quiz_proporcionalidad_directa/class_9_april_26_quiz_proporcionalidad_directa.ipynb\" target=\"_parent\"><img src=\"https://colab.research.google.com/assets/colab-badge.svg\" alt=\"Open In Colab\"/></a>\n",
    "  </td>\n",
    "</table>"
   ]
  },
  {
   "cell_type": "markdown",
   "id": "0dc9f946",
   "metadata": {
    "slideshow": {
     "slide_type": "slide"
    }
   },
   "source": [
    "Siempre hay un camino amable y respetuoso para resolver un problema. \n",
    "\n",
    "Este grupo de futuros ingenieros, tienen capacidades y esperanza muy grandes. Les agradezco su participación y desempeño\n",
    "\n",
    "<img src = 'https://github.com/marco-canas/1_algebra/blob/main/classes/ciencia_datos/9_class_april_26_parcial_1_proporcionalidad/algebra_trigonometria_2023_1Dios_cuida_de_ellos_2.jpg?raw=true'>"
   ]
  },
  {
   "cell_type": "markdown",
   "id": "e0c5b198",
   "metadata": {
    "slideshow": {
     "slide_type": "slide"
    }
   },
   "source": [
    "### [Video de apoyo a la lectura interactiva y experimental de este cuaderno]()\n",
    "\n",
    "\n",
    "Ojo, imprimir el tema de variaciones y proporcionalidad directa para Francisco Ibañez"
   ]
  },
  {
   "cell_type": "markdown",
   "id": "41e82203",
   "metadata": {
    "slideshow": {
     "slide_type": "slide"
    }
   },
   "source": [
    "## [Vínculo al programa del curso:  ](https://github.com/marco-canas/1_algebra)\n",
    "\n",
    "* [Precálculo de Stewart](https://udeaeduco-my.sharepoint.com/:b:/g/personal/marco_canas_udea_edu_co/ERHIq62I6qFNrmxy6LZb8ZMBci7kUsyNME1nIh9yCBMJ_w?e=DLbVhw). Página del PDF es la 132 y la página del libro es la 118. Y la sección es la 1.1 titulada Modelos con el uso de variaciones. \n",
    "\n",
    "* Variación directa (Proporcionalidad directa o regla de tres directa)\n",
    "* Variación inversa (Proporcionalidad inversa o regla de tres directa) y \n",
    "* Variación conjunta (Proporcionalidad conjunta). "
   ]
  },
  {
   "cell_type": "markdown",
   "id": "45a26fb1",
   "metadata": {
    "slideshow": {
     "slide_type": "slide"
    }
   },
   "source": [
    "# Modelo general de clase: [aula invertida](https://www3.gobiernodecanarias.org/medusa/ecoescuela/pedagotic/aprendizaje-invertido-flipped-classroom/)"
   ]
  },
  {
   "cell_type": "markdown",
   "id": "ca46c23b",
   "metadata": {
    "slideshow": {
     "slide_type": "slide"
    }
   },
   "source": [
    "## Definición y características de este modelo"
   ]
  },
  {
   "cell_type": "markdown",
   "id": "d2b0e776",
   "metadata": {
    "slideshow": {
     "slide_type": "slide"
    }
   },
   "source": [
    "## ¿Qué es?  \n",
    "\n",
    "Flipped Learning o aprendizaje invertido es un enfoque pedagógico en el que:  \n",
    "\n",
    "* la instrucción directa se realiza fuera del aula y \n",
    "* se utiliza el tiempo de clase para llevar a cabo actividades que impliquen el desarrollo de procesos cognitivos de mayor complejidad, en las que son necesarias la ayuda y la experiencia del docente."
   ]
  },
  {
   "cell_type": "markdown",
   "id": "5fc4f731",
   "metadata": {
    "slideshow": {
     "slide_type": "slide"
    }
   },
   "source": [
    "## ¿Para qué sirve?  \n",
    "\n",
    "Mejora el proceso de enseñanza-aprendizaje realizando,   \n",
    "\n",
    "* fuera del aula, actividades de aprendizaje sencillas (observar, memorizar, resumir, etc.) y, \n",
    "* en el aula, actividades más complejas (razonar, examinar, priorizar, argumentar, proponer, etc.) que requieren la interacción entre iguales y la ayuda del docente como facilitador."
   ]
  },
  {
   "cell_type": "markdown",
   "id": "b42472d6",
   "metadata": {
    "slideshow": {
     "slide_type": "slide"
    }
   },
   "source": [
    "<img src = 'https://github.com/marco-canas/7_didactica_ciencia_datos/blob/main/propuesta/unidad_didac/atributos_aprendizaje_invertido.png?raw=true'>"
   ]
  },
  {
   "cell_type": "markdown",
   "id": "79c35435",
   "metadata": {
    "slideshow": {
     "slide_type": "slide"
    }
   },
   "source": [
    "## Fomento de la lectura literaria asociada a Ingeniería agropecuaria y licenciatura en Matemáticas\n",
    "\n",
    "John Allen Paulos. El hombre anumérico. El analfabetismo matemático y sus consecuencias. \n",
    "\n",
    "\"Las mates siempre fueron mi asignatura más floja.\" \n",
    "\n"
   ]
  },
  {
   "cell_type": "markdown",
   "id": "21c45946",
   "metadata": {
    "slideshow": {
     "slide_type": "slide"
    }
   },
   "source": [
    "[Recomendaciones de la UNESCO frente a la ciencia abierta](https://unesdoc.unesco.org/ark:/48223/pf0000379949_spa)\n",
    "\n",
    "Reconociendo la urgencia de abordar los desafíos ambientales, sociales y económicos complejos\n",
    "e interdependientes a los que se enfrentan la población y el planeta, entre ellos la pobreza, los\n",
    "problemas sanitarios, el acceso a la educación, el aumento de las desigualdades y las diferencias\n",
    "de oportunidades, la profundización de las brechas en relación con la ciencia, la tecnología y\n",
    "la innovación, el agotamiento de los recursos naturales, la pérdida de diversidad biológica, la\n",
    "degradación de las tierras, el cambio climático, los desastres naturales y provocados por el hombre,\n",
    "el recrudecimiento de los conflictos y las crisis humanitarias conexas, \n",
    "\n",
    "* Python\n",
    "* Cuadernos Jupyter\n",
    "* GitHub\n",
    "* Kaggle\n",
    "\n"
   ]
  },
  {
   "cell_type": "markdown",
   "id": "1d38dd4e",
   "metadata": {
    "slideshow": {
     "slide_type": "slide"
    }
   },
   "source": [
    "### Objetivo de aprendizaje\n",
    "\n",
    "* Resolver problemas de proporcionalidad directa, inversa y conjunta,  asociados a química, física y vida cotidiana, economía y administración. "
   ]
  },
  {
   "cell_type": "markdown",
   "id": "cef8a517",
   "metadata": {
    "slideshow": {
     "slide_type": "slide"
    }
   },
   "source": [
    "# Imagen asociada al Tema a estudiar\n",
    "\n",
    "<img src = 'https://concepto.de/wp-content/uploads/2021/04/simbolo-de-la-justicia-e1618769506435.jpg'>"
   ]
  },
  {
   "cell_type": "markdown",
   "id": "ca7261b1",
   "metadata": {
    "slideshow": {
     "slide_type": "slide"
    }
   },
   "source": [
    "## Establecimiento de prerrequisitos conceptuales para alcanzar el objetivo de aprendizaje trazado.  \n",
    "\n",
    "\n",
    "1. Saber despejar variables utilizando el método de transposición de términos y factores. \n",
    "2. Simplificar fracciones\n",
    "3. "
   ]
  },
  {
   "cell_type": "markdown",
   "id": "2298e976",
   "metadata": {
    "slideshow": {
     "slide_type": "slide"
    }
   },
   "source": [
    "# Para el diseño de la clase tenga en cuenta algunos problemas de aprendizaje"
   ]
  },
  {
   "cell_type": "markdown",
   "id": "2922d378",
   "metadata": {
    "slideshow": {
     "slide_type": "slide"
    }
   },
   "source": [
    "* Diferenciar una relación de crecimiento o relación creciente de una relación de proporcionalidad directa. "
   ]
  },
  {
   "cell_type": "markdown",
   "id": "d56aa639",
   "metadata": {
    "slideshow": {
     "slide_type": "slide"
    }
   },
   "source": [
    "<img src = 'https://github.com/marco-canas/1_algebra/blob/main/classes/modelaci%C3%B3n/proporcionalidad/1_class_regla_de_tres_directa/creciente_vs_proporcional_directa.jpg?raw=true'>"
   ]
  },
  {
   "cell_type": "markdown",
   "id": "e9db8323",
   "metadata": {
    "slideshow": {
     "slide_type": "slide"
    }
   },
   "source": [
    "## Ejemplos ilustrativos\n",
    "\n",
    "1. La relación entre área $A$ de una circulo y radio $r$ del mismo. Esta es una relación creciente que no es de proporcionalidad directa. \n",
    "2. La relación entre el valor pagado $V$ por un número de huevos $h$ comprados.   "
   ]
  },
  {
   "cell_type": "markdown",
   "id": "0fce235e",
   "metadata": {
    "slideshow": {
     "slide_type": "slide"
    }
   },
   "source": [
    "## Secuencia conceptual inicial sobre proporcionalidad directa e inversa"
   ]
  },
  {
   "cell_type": "code",
   "execution_count": null,
   "id": "5b4e0f73",
   "metadata": {
    "slideshow": {
     "slide_type": "slide"
    }
   },
   "outputs": [],
   "source": []
  },
  {
   "cell_type": "markdown",
   "id": "b2f71ab3",
   "metadata": {
    "slideshow": {
     "slide_type": "slide"
    }
   },
   "source": [
    "# Representación gráfica con matplotlib de una relación de proporcionalidad directa. "
   ]
  },
  {
   "cell_type": "code",
   "execution_count": 4,
   "id": "8dde457d",
   "metadata": {
    "slideshow": {
     "slide_type": "slide"
    }
   },
   "outputs": [
    {
     "data": {
      "image/png": "[encoded data removed]",
      "text/plain": [
       "<Figure size 640x480 with 1 Axes>"
      ]
     },
     "metadata": {},
     "output_type": "display_data"
    }
   ],
   "source": [
    "import numpy as np \n",
    "\n",
    "import matplotlib.pyplot as plt\n",
    "k = 2\n",
    "dominio = np.array([0,1])\n",
    "rango = k*dominio\n",
    "\n",
    "plt.plot(dominio, rango)\n",
    "plt.title('Representación gráfica de una relación de proporcionalidad directa')\n",
    "plt.xlabel('x')\n",
    "plt.ylabel('y')\n",
    "\n",
    "plt.grid(alpha = 0.4) \n",
    "\n",
    "plt.savefig('repre_grafica_propo_direct.jpg')\n",
    "\n",
    "plt.show()\n"
   ]
  },
  {
   "cell_type": "code",
   "execution_count": null,
   "id": "889d8289",
   "metadata": {
    "slideshow": {
     "slide_type": "slide"
    }
   },
   "outputs": [],
   "source": []
  },
  {
   "cell_type": "markdown",
   "id": "8a6f7ef9",
   "metadata": {
    "slideshow": {
     "slide_type": "slide"
    }
   },
   "source": [
    "## Tereas para realizar antes de la clase"
   ]
  },
  {
   "cell_type": "markdown",
   "id": "90cae469",
   "metadata": {
    "slideshow": {
     "slide_type": "slide"
    }
   },
   "source": [
    "1. Ver los videos respectivos [Clase de proporcionalidad]()\n",
    "2. Memorizar las definiciones [diferencia entre relación creciente y de proporcionalidad directa](https://udeaeduco-my.sharepoint.com/:u:/g/personal/marco_canas_udea_edu_co/EeHIRv5gdT5LiYcadNp3r4kB0LaRqQyFQB_8mSumTwbR7Q?e=bJmBEO)\n",
    "3. Sintetizar o resumir la información []()\n",
    "   * leer y realizar de cada tema una presentación en diapositivas. "
   ]
  },
  {
   "cell_type": "markdown",
   "id": "fccb447c",
   "metadata": {
    "slideshow": {
     "slide_type": "slide"
    }
   },
   "source": [
    "# Tareas para realizar en clase"
   ]
  },
  {
   "cell_type": "markdown",
   "id": "e5c48edf",
   "metadata": {
    "slideshow": {
     "slide_type": "slide"
    }
   },
   "source": [
    "* Determinación de [volumenes de Cilindros](https://udeaeduco-my.sharepoint.com/:b:/g/personal/marco_canas_udea_edu_co/ERHIq62I6qFNrmxy6LZb8ZMBci7kUsyNME1nIh9yCBMJ_w?e=9nb8Ce) (Página )de diferentes tipos y de conos(Precálculo de Stewart Página 71 del PDF. Ejercicio 122). \n",
    "* Modelación matemática \n",
    "* Trabajo en equipos"
   ]
  },
  {
   "cell_type": "markdown",
   "id": "aa85b9e0",
   "metadata": {
    "slideshow": {
     "slide_type": "slide"
    }
   },
   "source": [
    "# Ejemplo ilustrativo 1  (Aplicado a la física)\n",
    "\n",
    "## El péndulo simple\n",
    "\n",
    "### Ley del Péndulo   \n",
    "\n",
    "El período de un péndulo (tiempo transcurrido durante una oscilación completa del péndulo) varía directamente con **la raíz cuadrada de la longitud** del péndulo.  \n",
    "\n",
    "(a) Exprese esta relación escribiendo una ecuación.  \n",
    "(b) Para duplicar el período, ¿cómo tendríamos que cambiar la longitud $l$?\n",
    "\n"
   ]
  },
  {
   "cell_type": "markdown",
   "id": "9068e355",
   "metadata": {
    "slideshow": {
     "slide_type": "slide"
    }
   },
   "source": [
    "# Ejemplo ilustrativo  2 ()\n",
    "\n",
    "## Costos de impresión   \n",
    "\n",
    "El costo C de imprimir una revista es conjuntamente proporcional al número de páginas p de la re\u0002vista y el número m de revistas impresas.\n",
    " (a) Escriba una ecuación que exprese esta variación conjunta.\n",
    " (b) Encuentre la constante de proporcionalidad si el costo de \n",
    "impresión es $60,000 para 4000 ejemplares de una revista \n",
    "de 120 páginas.\n",
    " (c) ¿Cuál sería el costo de impresión de 5000 ejemplares de \n",
    "una revista de 92 páginas?\n"
   ]
  },
  {
   "cell_type": "markdown",
   "id": "b3c4f97b",
   "metadata": {
    "slideshow": {
     "slide_type": "slide"
    }
   },
   "source": [
    "# Ejemplo ilustrativo 4  (Economía y administración)\n",
    "\n",
    "## Precio de venta de lotes  \n",
    "\n",
    "Valor de un lote El valor de un lote para construcción en la isla de Galiano es conjuntamente proporcional a su área y a la \n",
    "cantidad de agua producida por un pozo que está en la propiedad. Un lote de 200 pies por 300 pies tiene un pozo que pro\u0002duce 10 galones de agua por minuto, y está valuado en 48,000 \n",
    "dólares. ¿Cuál es el valor de un lote de 400 pies por 400 pies si \n",
    "el pozo del lote produce 4 galones de agua por minuto?"
   ]
  },
  {
   "cell_type": "markdown",
   "id": "348c026d",
   "metadata": {
    "slideshow": {
     "slide_type": "slide"
    }
   },
   "source": [
    "# Ejemplo 4 Proporcionalidad directa e inversa\n",
    "\n",
    "Calor de una fogata   \n",
    "\n",
    "El calor que percibe un excursionista por una fogata es proporcional a la cantidad de madera en la fo\u0002gata e inversamente proporcional al cubo de su distancia desde \n",
    "la misma. Si el excursionista está a 20 pies de la fogata y al\u0002guien duplica la cantidad de madera que está ardiendo, ¿a qué \n",
    "distancia de la fogata tendría que estar para captar el mismo ca\u0002lor que antes? \n",
    "\n",
    "<img src = ''>"
   ]
  },
  {
   "cell_type": "markdown",
   "id": "8b6b0112",
   "metadata": {
    "slideshow": {
     "slide_type": "slide"
    }
   },
   "source": [
    "# Tareas para hacer después de la realización de la clase"
   ]
  },
  {
   "cell_type": "markdown",
   "id": "947460e3",
   "metadata": {
    "slideshow": {
     "slide_type": "slide"
    }
   },
   "source": [
    "* Actividades de memorización: \n",
    "  - escucha reiterada de grabaciones de formulas y resultados científicos. \n",
    "  - relectura de notas. \n",
    "  - ejercicios de mayor complejidad. \n",
    "  \n",
    "  \n",
    "* Preparar el parcial sobre proporcionalidad directa e inversa para el miércoles 3 de mayo    [stewart precálculo](https://udeaeduco-my.sharepoint.com/:b:/g/personal/marco_canas_udea_edu_co/ERHIq62I6qFNrmxy6LZb8ZMBci7kUsyNME1nIh9yCBMJ_w?e=9nb8Ce). Página 135 del PDF de precálculo de stewart. \n",
    "\n",
    "Realice los 49 ejercicios de la sección 1.11 del precálculo de Stewart."
   ]
  },
  {
   "cell_type": "markdown",
   "id": "ca38d2be",
   "metadata": {
    "slideshow": {
     "slide_type": "slide"
    }
   },
   "source": [
    "## Asistencia a asesoría con el profesor Marco Julio\n",
    "\n",
    "Proximo Sábado 28 de abril de 9 a 10 de la mañana el el aula de docentes. \n",
    "\n"
   ]
  },
  {
   "cell_type": "markdown",
   "id": "935a5567",
   "metadata": {
    "slideshow": {
     "slide_type": "slide"
    }
   },
   "source": [
    "## Dificultades de aprendizaje detectados durante la clase"
   ]
  },
  {
   "cell_type": "markdown",
   "id": "125253e1",
   "metadata": {
    "slideshow": {
     "slide_type": "slide"
    }
   },
   "source": [
    "* Sabemos realizar problemas de esquema de regla de tres. \n",
    "\n",
    "* Hay problemas de comprensión y de razonamiento cuando la relación de proporcionalidad no es entre variables sino entre una variable y la raíz de otra. "
   ]
  },
  {
   "cell_type": "markdown",
   "id": "fb9402bb",
   "metadata": {
    "slideshow": {
     "slide_type": "slide"
    }
   },
   "source": [
    "## Estrategias propuestas para la solución de las dificultades de aprendizaje detectadas"
   ]
  },
  {
   "cell_type": "markdown",
   "id": "16804ea7",
   "metadata": {
    "slideshow": {
     "slide_type": "slide"
    }
   },
   "source": [
    "* Aplicamos preguntas orientadoras y el concurso de todos los estudiantes para que la ayuda entre pares y el acompañamiento del profesor, les permitiera a los estudiantes llegar a la solución. "
   ]
  },
  {
   "cell_type": "markdown",
   "id": "d11570a2",
   "metadata": {
    "slideshow": {
     "slide_type": "slide"
    }
   },
   "source": [
    "## Cuestionario para realizar labores de memorización y observación,  a la síntesis de la información"
   ]
  },
  {
   "cell_type": "markdown",
   "id": "540f0ec1",
   "metadata": {
    "slideshow": {
     "slide_type": "slide"
    }
   },
   "source": [
    "1. ¿Cuándo la relación entre dos variables es creciente?\n",
    "2. ¿Cuándo una relación creciente es de proporcionalidad directa? "
   ]
  },
  {
   "cell_type": "markdown",
   "id": "236b43fc",
   "metadata": {
    "slideshow": {
     "slide_type": "slide"
    }
   },
   "source": [
    "## Grabaciones en audio para fomentar la capacidad de memorizar enunciados de teoremas y resultados científicos y la capacidad de parafrasear estos resultados. "
   ]
  },
  {
   "cell_type": "markdown",
   "id": "319f2ffa",
   "metadata": {
    "slideshow": {
     "slide_type": "slide"
    }
   },
   "source": [
    "Se dispondrá de un lugar en el OneDrive asociado al correo institucional de la Universidad Antioquia del Profesor Marco para albergar los archivos de audio de fomento a la memoirización, enunciación y parafraseo de los resultados científicos, prtopiedades, reglas, etc. \n",
    "\n",
    "* []()\n",
    "* [Representación gráfica de las relaciones de proporcionalidad directa e inversa](https://udeaeduco-my.sharepoint.com/:u:/g/personal/marco_canas_udea_edu_co/ERC2kyPDZoZBtfhvFKzExfwBw-5jOZLt5X2jwZKNHdT0SQ?e=hVkhil)"
   ]
  },
  {
   "cell_type": "markdown",
   "id": "564fa59d",
   "metadata": {
    "slideshow": {
     "slide_type": "slide"
    }
   },
   "source": [
    "### Comparta sus cuadernos y videos, evidencias de su aprendizaje [aquí](https://forms.office.com/Pages/ResponsePage.aspx?id=IefhmYRxjkmK_7KtTlPBwkanXIs1i1FEujpsZgO6dXpUMEMwTEZVMzEwVVBPTElWNVg5OVEyWUhMUy4u)\n",
    "\n",
    "o envíe su trabajo y tareas al correo del profesor: marco.canas@udea.edu.co"
   ]
  },
  {
   "cell_type": "code",
   "execution_count": null,
   "id": "5fe498b3",
   "metadata": {
    "slideshow": {
     "slide_type": "slide"
    }
   },
   "outputs": [],
   "source": []
  },
  {
   "cell_type": "markdown",
   "id": "44be6d93",
   "metadata": {
    "slideshow": {
     "slide_type": "slide"
    }
   },
   "source": [
    "# Vocabulary "
   ]
  },
  {
   "cell_type": "markdown",
   "id": "2409aa66",
   "metadata": {
    "slideshow": {
     "slide_type": "slide"
    }
   },
   "source": [
    "* square root: raiz cuadrada\n",
    "* slope: pendiente"
   ]
  },
  {
   "cell_type": "markdown",
   "id": "ee46cb9a",
   "metadata": {
    "slideshow": {
     "slide_type": "slide"
    }
   },
   "source": [
    "## Mapa conceptual que vincula los conceptos asoaciados al objetivo de aprendizaje"
   ]
  },
  {
   "cell_type": "markdown",
   "id": "ea8bb4ba",
   "metadata": {
    "slideshow": {
     "slide_type": "slide"
    }
   },
   "source": [
    "<img sqr = ''>"
   ]
  },
  {
   "cell_type": "markdown",
   "id": "0266e3c5",
   "metadata": {
    "slideshow": {
     "slide_type": "slide"
    }
   },
   "source": [
    "## Quiz de 15 minutos para ejercitación y adquisición de habilidades "
   ]
  },
  {
   "cell_type": "markdown",
   "id": "dfd750d2",
   "metadata": {
    "slideshow": {
     "slide_type": "slide"
    }
   },
   "source": [
    "# Ejemplo ilustrativo 1  (Aplicado a la física)\n",
    "\n",
    "## El péndulo simple\n",
    "\n",
    "### Ley del Péndulo   \n",
    "\n",
    "El período de un péndulo (tiempo transcurrido durante una oscilación completa del péndulo) varía directamente con **la raíz cuadrada de la longitud** del péndulo.  \n",
    "\n",
    "(a) Exprese esta relación escribiendo una ecuación.  \n",
    "(b) Para duplicar el período, ¿cómo tendríamos que cambiar la longitud $l$?"
   ]
  },
  {
   "cell_type": "markdown",
   "id": "3a1b127f",
   "metadata": {
    "slideshow": {
     "slide_type": "slide"
    }
   },
   "source": [
    "[Uso de chatGPT](https://openai.com/blog/chatgpt)  \n",
    "\n",
    "El periodo de oscilación de un péndulo simple está determinado por la longitud de su cuerda (o hilo) y la aceleración debida a la gravedad. Para duplicar el periodo de oscilación de un péndulo simple, debemos hacer un ajuste específico en su longitud.\n",
    "\n",
    "El periodo de un péndulo simple está dado por la fórmula:\n",
    "\n",
    "$$ T = 2\\pi  \\sqrt{\\frac{L}{g}} $$\n",
    "\n",
    "Donde:\n",
    "T es el periodo del péndulo,\n",
    "L es la longitud de la cuerda del péndulo, y\n",
    "g es la aceleración debida a la gravedad en la ubicación donde se encuentra el péndulo.\n",
    "\n",
    "Para duplicar el periodo de oscilación (T), podemos observar que la fórmula contiene una raíz cuadrada de la longitud (L). Para duplicar el valor de T, necesitamos cuadruplicar la longitud de la cuerda (L), ya que la raíz cuadrada de 4 es 2, lo que nos dará un valor de T multiplicado por 2.\n",
    "\n",
    "Entonces, la fórmula modificada para duplicar el periodo del péndulo sería:\n",
    "\n",
    "T' = 2π √(4L/g)\n",
    "\n",
    "Donde T' es el nuevo periodo del péndulo y L es la longitud original de la cuerda del péndulo. Esto significa que debemos aumentar la longitud de la cuerda del péndulo en un factor de 4 (es decir, multiplicarla por 4) para duplicar su periodo de oscilación."
   ]
  },
  {
   "cell_type": "markdown",
   "id": "10bce0d0",
   "metadata": {
    "slideshow": {
     "slide_type": "slide"
    }
   },
   "source": [
    "## Referentes "
   ]
  },
  {
   "cell_type": "markdown",
   "id": "1db3c468",
   "metadata": {
    "slideshow": {
     "slide_type": "slide"
    }
   },
   "source": [
    "* [stewart precálculo](https://udeaeduco-my.sharepoint.com/:b:/g/personal/marco_canas_udea_edu_co/ERHIq62I6qFNrmxy6LZb8ZMBci7kUsyNME1nIh9yCBMJ_w?e=9nb8Ce)\n",
    "* [stewart cálculo](https://udeaeduco-my.sharepoint.com/:b:/g/personal/marco_canas_udea_edu_co/EZgXZjAp8QxPqOAim2hs6LcBNPLGjSHf-xwYnUVYkwa04w?e=eTPY07)\n",
    "* [Cálculo de larson](https://udeaeduco-my.sharepoint.com/:b:/g/personal/marco_canas_udea_edu_co/ES71ChFeO9ZDhW3TwC5Ijk8BjxUK3Pdqz_fjHxTTFAfIAg?e=tDFsIh)\n",
    "\n",
    "* [Cálculo de Purcell](https://udeaeduco-my.sharepoint.com/:b:/g/personal/marco_canas_udea_edu_co/ES60UB4h-QFFqqRQUFmkpWcBIgoLBJeqTfZjNajWNWSeJA?e=9NxjKJ)\n",
    "\n",
    "* [uzcategui](https://udeaeduco-my.sharepoint.com/:b:/g/personal/marco_canas_udea_edu_co/ETDikm-lVl1Or8XoEo9oyh0BEti9Zs8le-f0D-dBdtZmbA?e=bBsoyQ)"
   ]
  },
  {
   "cell_type": "markdown",
   "id": "6b9e56a8",
   "metadata": {
    "slideshow": {
     "slide_type": "slide"
    }
   },
   "source": [
    "### [Evaluamos al profesor Marco Cañas Aquí](https://forms.office.com/Pages/ResponsePage.aspx?id=IefhmYRxjkmK_7KtTlPBwkanXIs1i1FEujpsZgO6dXpUREJPV1kxUk1JV1ozTFJIQVNIQjY5WEY3US4u)"
   ]
  },
  {
   "cell_type": "markdown",
   "id": "071afa04",
   "metadata": {
    "slideshow": {
     "slide_type": "slide"
    }
   },
   "source": [
    "## [Evaluación luego de alcanzar estos objetivos de aprendizaje](https://github.com/marco-canas/1_algebra/blob/main/classes/modelaci%C3%B3n/proporcionalidad/2_modelo_evaluacion_aula_invertida_evaluation_quiz_parcial.ipynb)"
   ]
  },
  {
   "cell_type": "markdown",
   "id": "10f43536",
   "metadata": {
    "slideshow": {
     "slide_type": "slide"
    }
   },
   "source": [
    "### Continue su aprendizaje en la siguiente clase a través del siguiente [vínculo]()"
   ]
  },
  {
   "cell_type": "markdown",
   "id": "53cc9115",
   "metadata": {
    "slideshow": {
     "slide_type": "slide"
    }
   },
   "source": [
    "# Conjeturas pedagógicas fruto de la aplicación del modelo de aprendizaje invertido y del enfoque hacia la ciencia de datos con python\n",
    "\n",
    "1. Todo cálculo o resultado debe ser interpretado en una línea markdown en la línea del cuaderno Jupyter, inmediatamente después de la enunciación del resultado y después de la presentación de una tabla o gráfico bidimensional, de tal menera que el estudiante explicite la comprensión verbal del resultado y las inferencias o estrategias que este resultado le sugieren.   \n",
    "\n",
    "\n",
    "### Agradecimientos  \n",
    "\n",
    "Doy gracias a Dios por la vida de mi Hijo Joseph Cañas Osorio y la madurez que ha alcanzado. "
   ]
  },
  {
   "cell_type": "code",
   "execution_count": null,
   "id": "b080a840",
   "metadata": {},
   "outputs": [],
   "source": []
  }
 ],
 "metadata": {
  "celltoolbar": "Slideshow",
  "kernelspec": {
   "display_name": "Python 3 (ipykernel)",
   "language": "python",
   "name": "python3"
  },
  "language_info": {
   "codemirror_mode": {
    "name": "ipython",
    "version": 3
   },
   "file_extension": ".py",
   "mimetype": "text/x-python",
   "name": "python",
   "nbconvert_exporter": "python",
   "pygments_lexer": "ipython3",
   "version": "3.9.13"
  },
  "rise": {
   "enable_chalkboard": true,
   "theme": "sky",
   "transition": "zoom"
  }
 },
 "nbformat": 4,
 "nbformat_minor": 5
}
