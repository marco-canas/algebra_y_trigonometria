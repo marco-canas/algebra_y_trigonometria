{
 "cells": [
  {
   "cell_type": "markdown",
   "id": "dc06dec7",
   "metadata": {
    "slideshow": {
     "slide_type": "slide"
    }
   },
   "source": [
    "<table align=\"left\">\n",
    "  <td>\n",
    "    <a href=\"https://colab.research.google.com/github/marco-canas/algebra_y_trigonometria/blob/main/classes/0_formatos_clase/algebra_and_trigonometry.ipynb\" target=\"_parent\"><img src=\"https://colab.research.google.com/assets/colab-badge.svg\" alt=\"Open In Colab\"/></a>\n",
    "  </td>\n",
    "  <td>\n",
    "    <a target=\"_blank\" href=\"https://kaggle.com/kernels/welcome?src=https://github.com/marco-canas/algebra_y_trigonometria/blob/main/classes/0_formatos_clase/algebra_and_trigonometry.ipynb\"><img src=\"https://kaggle.com/static/images/open-in-kaggle.svg\" /></a>\n",
    "  </td>\n",
    "</table>"
   ]
  },
  {
   "cell_type": "code",
   "execution_count": 1,
   "id": "9eee306b",
   "metadata": {},
   "outputs": [],
   "source": [
    "# generación del QR para el cuaderno de esta clase    \n",
    "\n",
    "\n",
    "import qrcode\n",
    "from IPython.display import display\n",
    "\n",
    "def generar_qr_notebook(url):\n",
    "    \"\"\"\n",
    "    Genera un código QR para una URL y lo muestra en un cuaderno Jupyter.\n",
    "    \n",
    "    Parámetros:\n",
    "    url (str): La URL para la cual se generará el código QR.\n",
    "    \n",
    "    Retorna:\n",
    "    None (pero muestra el código QR en el notebook)\n",
    "    \"\"\"\n",
    "    # Crear el objeto QR\n",
    "    qr = qrcode.QRCode(\n",
    "        version=1,\n",
    "        error_correction=qrcode.constants.ERROR_CORRECT_L,\n",
    "        box_size=10,\n",
    "        border=4,\n",
    "    )\n",
    "    \n",
    "    # Añadir la URL al código QR\n",
    "    qr.add_data(url)\n",
    "    qr.make(fit=True)\n",
    "    \n",
    "    # Crear la imagen del QR\n",
    "    img = qr.make_image(fill_color=\"black\", back_color=\"white\")\n",
    "    \n",
    "    # Mostrar la imagen en el notebook\n",
    "    display(img)\n",
    "\n"
   ]
  },
  {
   "cell_type": "code",
   "execution_count": null,
   "id": "38295bc0",
   "metadata": {},
   "outputs": [],
   "source": [
    "generar_qr_notebook()"
   ]
  },
  {
   "cell_type": "markdown",
   "id": "e0c5b198",
   "metadata": {
    "slideshow": {
     "slide_type": "slide"
    }
   },
   "source": [
    "### [Video de apoyo a la lectura interactiva y experimental de este cuaderno]()"
   ]
  },
  {
   "cell_type": "markdown",
   "id": "41e82203",
   "metadata": {
    "slideshow": {
     "slide_type": "slide"
    }
   },
   "source": [
    "### [Vínculo al programa del curso Algebra_and_trigonometry:  ](https://github.com/marco-canas/algebra_y_trigonometria/blob/main/0_programa_curso/programa_algebra_and_trigonometry.md)\n"
   ]
  },
  {
   "cell_type": "markdown",
   "id": "d11ab06d",
   "metadata": {
    "slideshow": {
     "slide_type": "slide"
    }
   },
   "source": [
    "Un reconocimiento a mis estudiantes que han construido conmigo este saber pedagógico:\n",
    "\n",
    "<img src = 'https://github.com/marco-canas/algebra_y_trigonometria/blob/main/images/primera_clase_2025-08-05_a_las_12.06.22.jpg?raw=true'>  \n",
    "\n"
   ]
  },
  {
   "cell_type": "markdown",
   "id": "8a74a56c-0ce6-4ad6-b985-553fd7fb68bb",
   "metadata": {},
   "source": [
    "Reconocimiento a las profesoras destacadas en enseñanza de la matemática en Colombia\n"
   ]
  },
  {
   "cell_type": "code",
   "execution_count": 3,
   "id": "7604880f",
   "metadata": {
    "slideshow": {
     "slide_type": "slide"
    }
   },
   "outputs": [
    {
     "data": {
      "application/vnd.microsoft.datawrangler.viewer.v0+json": {
       "columns": [
        {
         "name": "index",
         "rawType": "int64",
         "type": "integer"
        },
        {
         "name": "Cedula",
         "rawType": "int64",
         "type": "integer"
        },
        {
         "name": "Nombre",
         "rawType": "object",
         "type": "string"
        },
        {
         "name": "Email",
         "rawType": "object",
         "type": "string"
        }
       ],
       "ref": "f6e3adc6-ee8c-49cf-a648-b2092da08f20",
       "rows": [
        [
         "0",
         "1038648096",
         "ACEVEDO BELEÑO SANTIAGO",
         "sacevedo.beleno@udea.edu.co"
        ],
        [
         "1",
         "1038648760",
         "MARIN VILLARREAL PABLO ALEJANDRO",
         "pablo.marin1@udea.edu.co"
        ],
        [
         "2",
         "1193401041",
         "MARTINEZ MANJARREZ DANIELA ESTHER",
         "daniela.martinezm@udea.edu.co"
        ],
        [
         "3",
         "1038108720",
         "MEJIA GUZMAN SAMUEL",
         "samuel.mguzman@udea.edu.co"
        ],
        [
         "4",
         "1038647828",
         "NIEBLES BARRERA ALEXANDER ISAAC",
         "alexander.niebles@udea.edu.co"
        ],
        [
         "5",
         "1045426138",
         "OQUENDO MONA CRISTIAN GABRIEL",
         "cristian.oquendo1@udea.edu.co"
        ],
        [
         "6",
         "1032250901",
         "PINO VERGARA LIZETH",
         "lizeth.pino@udea.edu.co"
        ],
        [
         "7",
         "1038092717",
         "RIVERA GUZMAN CRISTIAN",
         "cristian.rivera2@udea.edu.co"
        ],
        [
         "8",
         "1038110693",
         "ROMERO CALDERA JUAN ESTEBAN",
         "juanesteban.romero@udea.edu.co"
        ],
        [
         "9",
         "1063359347",
         "SANCHEZ PACHECO MOISES DAVID",
         "moises.sanchez1@udea.edu.co"
        ],
        [
         "10",
         "1066600819",
         "TIRADO CHAVARRIA WILFRAN DE JESUS",
         "wilfran.tirado@udea.edu.co"
        ],
        [
         "11",
         "1038136995",
         "VERGARA ACEVEDO SARA CRISTINA",
         "scristina.vergara@udea.edu.co"
        ],
        [
         "12",
         "1007452831",
         "VILORIA SIERRA ALEXANDER",
         "a.viloria1@udea.edu.co"
        ]
       ],
       "shape": {
        "columns": 3,
        "rows": 13
       }
      },
      "text/html": [
       "<div>\n",
       "<style scoped>\n",
       "    .dataframe tbody tr th:only-of-type {\n",
       "        vertical-align: middle;\n",
       "    }\n",
       "\n",
       "    .dataframe tbody tr th {\n",
       "        vertical-align: top;\n",
       "    }\n",
       "\n",
       "    .dataframe thead th {\n",
       "        text-align: right;\n",
       "    }\n",
       "</style>\n",
       "<table border=\"1\" class=\"dataframe\">\n",
       "  <thead>\n",
       "    <tr style=\"text-align: right;\">\n",
       "      <th></th>\n",
       "      <th>Cedula</th>\n",
       "      <th>Nombre</th>\n",
       "      <th>Email</th>\n",
       "    </tr>\n",
       "  </thead>\n",
       "  <tbody>\n",
       "    <tr>\n",
       "      <th>0</th>\n",
       "      <td>1038648096</td>\n",
       "      <td>ACEVEDO BELEÑO SANTIAGO</td>\n",
       "      <td>sacevedo.beleno@udea.edu.co</td>\n",
       "    </tr>\n",
       "    <tr>\n",
       "      <th>1</th>\n",
       "      <td>1038648760</td>\n",
       "      <td>MARIN VILLARREAL PABLO ALEJANDRO</td>\n",
       "      <td>pablo.marin1@udea.edu.co</td>\n",
       "    </tr>\n",
       "    <tr>\n",
       "      <th>2</th>\n",
       "      <td>1193401041</td>\n",
       "      <td>MARTINEZ MANJARREZ DANIELA ESTHER</td>\n",
       "      <td>daniela.martinezm@udea.edu.co</td>\n",
       "    </tr>\n",
       "    <tr>\n",
       "      <th>3</th>\n",
       "      <td>1038108720</td>\n",
       "      <td>MEJIA GUZMAN SAMUEL</td>\n",
       "      <td>samuel.mguzman@udea.edu.co</td>\n",
       "    </tr>\n",
       "    <tr>\n",
       "      <th>4</th>\n",
       "      <td>1038647828</td>\n",
       "      <td>NIEBLES BARRERA ALEXANDER ISAAC</td>\n",
       "      <td>alexander.niebles@udea.edu.co</td>\n",
       "    </tr>\n",
       "    <tr>\n",
       "      <th>5</th>\n",
       "      <td>1045426138</td>\n",
       "      <td>OQUENDO MONA CRISTIAN GABRIEL</td>\n",
       "      <td>cristian.oquendo1@udea.edu.co</td>\n",
       "    </tr>\n",
       "    <tr>\n",
       "      <th>6</th>\n",
       "      <td>1032250901</td>\n",
       "      <td>PINO VERGARA LIZETH</td>\n",
       "      <td>lizeth.pino@udea.edu.co</td>\n",
       "    </tr>\n",
       "    <tr>\n",
       "      <th>7</th>\n",
       "      <td>1038092717</td>\n",
       "      <td>RIVERA GUZMAN CRISTIAN</td>\n",
       "      <td>cristian.rivera2@udea.edu.co</td>\n",
       "    </tr>\n",
       "    <tr>\n",
       "      <th>8</th>\n",
       "      <td>1038110693</td>\n",
       "      <td>ROMERO CALDERA JUAN ESTEBAN</td>\n",
       "      <td>juanesteban.romero@udea.edu.co</td>\n",
       "    </tr>\n",
       "    <tr>\n",
       "      <th>9</th>\n",
       "      <td>1063359347</td>\n",
       "      <td>SANCHEZ PACHECO MOISES DAVID</td>\n",
       "      <td>moises.sanchez1@udea.edu.co</td>\n",
       "    </tr>\n",
       "    <tr>\n",
       "      <th>10</th>\n",
       "      <td>1066600819</td>\n",
       "      <td>TIRADO CHAVARRIA WILFRAN DE JESUS</td>\n",
       "      <td>wilfran.tirado@udea.edu.co</td>\n",
       "    </tr>\n",
       "    <tr>\n",
       "      <th>11</th>\n",
       "      <td>1038136995</td>\n",
       "      <td>VERGARA ACEVEDO SARA CRISTINA</td>\n",
       "      <td>scristina.vergara@udea.edu.co</td>\n",
       "    </tr>\n",
       "    <tr>\n",
       "      <th>12</th>\n",
       "      <td>1007452831</td>\n",
       "      <td>VILORIA SIERRA ALEXANDER</td>\n",
       "      <td>a.viloria1@udea.edu.co</td>\n",
       "    </tr>\n",
       "  </tbody>\n",
       "</table>\n",
       "</div>"
      ],
      "text/plain": [
       "        Cedula                             Nombre  \\\n",
       "0   1038648096            ACEVEDO BELEÑO SANTIAGO   \n",
       "1   1038648760   MARIN VILLARREAL PABLO ALEJANDRO   \n",
       "2   1193401041  MARTINEZ MANJARREZ DANIELA ESTHER   \n",
       "3   1038108720                MEJIA GUZMAN SAMUEL   \n",
       "4   1038647828    NIEBLES BARRERA ALEXANDER ISAAC   \n",
       "5   1045426138      OQUENDO MONA CRISTIAN GABRIEL   \n",
       "6   1032250901                PINO VERGARA LIZETH   \n",
       "7   1038092717             RIVERA GUZMAN CRISTIAN   \n",
       "8   1038110693        ROMERO CALDERA JUAN ESTEBAN   \n",
       "9   1063359347       SANCHEZ PACHECO MOISES DAVID   \n",
       "10  1066600819  TIRADO CHAVARRIA WILFRAN DE JESUS   \n",
       "11  1038136995      VERGARA ACEVEDO SARA CRISTINA   \n",
       "12  1007452831           VILORIA SIERRA ALEXANDER   \n",
       "\n",
       "                             Email  \n",
       "0      sacevedo.beleno@udea.edu.co  \n",
       "1         pablo.marin1@udea.edu.co  \n",
       "2    daniela.martinezm@udea.edu.co  \n",
       "3       samuel.mguzman@udea.edu.co  \n",
       "4    alexander.niebles@udea.edu.co  \n",
       "5    cristian.oquendo1@udea.edu.co  \n",
       "6          lizeth.pino@udea.edu.co  \n",
       "7     cristian.rivera2@udea.edu.co  \n",
       "8   juanesteban.romero@udea.edu.co  \n",
       "9      moises.sanchez1@udea.edu.co  \n",
       "10      wilfran.tirado@udea.edu.co  \n",
       "11   scristina.vergara@udea.edu.co  \n",
       "12          a.viloria1@udea.edu.co  "
      ]
     },
     "execution_count": 3,
     "metadata": {},
     "output_type": "execute_result"
    }
   ],
   "source": [
    "import pandas as pd\n",
    "import numpy as np\n",
    "\n",
    "# Cargar la lista de estudiantes desde el archivo CSV\n",
    "path = 'C:/Users/marco/Documentos/docencia/groups_list/algebra_and_trigonometry.xlsx'\n",
    "df = pd.read_excel(path)\n",
    "df.head(13) \n"
   ]
  },
  {
   "cell_type": "markdown",
   "id": "d7598d0a-d9b7-4ae0-b029-a0ed6ed1130b",
   "metadata": {},
   "source": [
    "\n",
    "# Principios de mi labor docente"
   ]
  },
  {
   "cell_type": "markdown",
   "id": "4f9d8cf9",
   "metadata": {
    "slideshow": {
     "slide_type": "slide"
    }
   },
   "source": [
    "## Modelo general de clase: [aula invertida](https://www3.gobiernodecanarias.org/medusa/ecoescuela/pedagotic/aprendizaje-invertido-flipped-classroom/)"
   ]
  },
  {
   "cell_type": "markdown",
   "id": "eb6ed03a",
   "metadata": {},
   "source": [
    "<img src = 'https://resources.maneuveringthemiddle.com/wp-content/uploads/2020/07/04212706/1-5.png' width = 200>  \n",
    "\n"
   ]
  },
  {
   "cell_type": "markdown",
   "id": "34319cce-a71b-4f64-aab8-b53e521efa40",
   "metadata": {},
   "source": [
    "# Metodología de Aprendizaje Basado en Problemas y Proyectos (ABPP)\n"
   ]
  },
  {
   "cell_type": "markdown",
   "id": "c4f73d81",
   "metadata": {},
   "source": [
    "\n",
    "<img src = 'https://www.unir.net/wp-content/uploads/2020/07/aprendizaje-problemas2-1-1-1-1.jpeg' width = 200>"
   ]
  },
  {
   "cell_type": "markdown",
   "id": "841a985c-bd9b-4dd3-8e4c-893983980af2",
   "metadata": {},
   "source": [
    "# Desarrollo del pensamiento computacional con Lenguajes Python y R, y con archivos Markdown orientado a la formación en ciencia de datos \n",
    "\n"
   ]
  },
  {
   "cell_type": "markdown",
   "id": "3d0eba94",
   "metadata": {},
   "source": [
    "\n",
    "<img src = 'https://i.ytimg.com/vi/mcG_wcR4e6M/maxresdefault.jpg' width = 200>"
   ]
  },
  {
   "cell_type": "markdown",
   "id": "65aa0404-f7ae-495e-864c-1aec01b4255e",
   "metadata": {},
   "source": [
    "# Principio de fomento a la ciencia abierta, enseñar en el acceso a los datos públicos y el uso de software de código abierto  \n"
   ]
  },
  {
   "cell_type": "markdown",
   "id": "18ae9b87",
   "metadata": {},
   "source": [
    "\n",
    "<img src = 'https://unesdoc.unesco.org/in/rest/Thumb/image?id=p%3A%3Ausmarcdef_0000379949_spa&author=UNESCO&title=Recomendaci%C3%B3n+de+la+UNESCO+sobre+la+Ciencia+Abierta&year=2021&publisher=UNESCO&TypeOfDocument=UnescoPhysicalDocument&mat=PGD&ct=true&size=512&isPhysical=1' width = 200>"
   ]
  },
  {
   "cell_type": "markdown",
   "id": "d9559f85",
   "metadata": {},
   "source": [
    "El enfoque STEAMS en educación preescolar, primaria y secundaria es una extensión del enfoque STEM (Ciencia, Tecnología, Ingeniería y Matemáticas) y su variante STEAM, que incorpora el Arte. "
   ]
  },
  {
   "cell_type": "markdown",
   "id": "0130ec1b",
   "metadata": {},
   "source": [
    "\n",
    "<img src = 'https://www.campuseducacion.com/blog/wp-content/uploads/2023/03/foto01-1.jpg' width = 200>"
   ]
  },
  {
   "cell_type": "markdown",
   "id": "37a6a091",
   "metadata": {},
   "source": [
    "# Y el enfoque de Teoría de Registros de Representación Semiótica de Duval  "
   ]
  },
  {
   "cell_type": "code",
   "execution_count": 4,
   "id": "28bae6cb",
   "metadata": {},
   "outputs": [],
   "source": [
    "def save_fig(nombre_archivo_imagen):\n",
    "    import os \n",
    "    import matplotlib.pyplot as plt\n",
    "    ubicacion_para_imagenes = r\"C:/Users/marco/Downloads\"\n",
    "    imagen_path = os.path.join(ubicacion_para_imagenes, nombre_archivo_imagen)\n",
    "    plt.savefig(imagen_path, bbox_inches='tight')"
   ]
  },
  {
   "cell_type": "markdown",
   "id": "10e55ccf",
   "metadata": {},
   "source": [
    "# Estructura general para todas las clases\n"
   ]
  },
  {
   "cell_type": "markdown",
   "id": "ddd73417",
   "metadata": {},
   "source": [
    "\n",
    "Dame, por favor, un diseño de clase, con el enfoque: \"Aula Invertida, STEAMS, de Aprendizaje Basado en Problemas y Proyectos (ABPP) y de Teoría de Registros de Representación Semiótica (TRRS) de Duval\" sobre: \"Los números naturales pares e impares y las múltiples maneras de definirlos: un enfoque para la clase de álgebra y trigonometría según el programa de curso: https://github.com/marco-canas/algebra_y_trigonometria/blob/main/0_programa_curso/1_programa_algebra_and_trigonometry.md; y para el curso de Geometría Euclidiana, analítica y vectorial.\", siguiendo la estructura:  \n",
    "\n",
    " \n",
    "Ubicación del programa del curso: [aquí](un enfoque para la clase de álgebra y trigonometría según el programa de curso: https://github.com/marco-canas/algebra_y_trigonometria/blob/main/0_programa_curso/1_programa_algebra_and_trigonometry.md)  \n",
    "\n",
    "Ubicación de la lista de estudiantes matriculados: [Aquí](https://github.com/marco-canas/groups_list/blob/main/algebra_and_trigonometry.xlsx)  \n",
    "\n",
    "1. Título de la clase   \n",
    "   \n",
    "2. Objetivo de aprendizaje que incluyan los indicadores del logro de estos objetivos. \n",
    "   \n",
    "3. Un mapa conceptual que resuma la clase elaborado en Graphviz de python con nodos y edges de diferentes formas, colores y rellenos y renderizado en la siguiente ubicación: `\"C:\\Users\\marco\\Downloads\"`.  No olvides el parámetro `view = True` para el método `render()` de Graphviz. Para este mapa controla las superposiciones de los nodos con: graph [overlap=false]; // Elimina superposiciones (puede aumentar el espacio)\n",
    "graph [overlap=\"scalexy\"]; // Escala el gráfico para evitar overlaps\n",
    "graph [overlap=\"compress\"]; // Comprime el grafo sin overlaps  \n",
    "   \n",
    "4. Elementos históricos y epistemológicos relevantes para la clase, pero narrados como una historieta al estilo de un cuentero antioqueño en Colombia. Incluye imágenes de los protagonistas históricos de esta clase.  \n",
    "   \n",
    "5. Contenido de la clase:     \n",
    "   \n",
    "          \n",
    "        \n",
    "6. Actividades de aprendizaje:   \n",
    "   \n",
    "7. Incluye una canción o un poema que ayude a interiorizar y fijar los conceptos asociados a esta clase.   \n",
    "   \n",
    "8.  Tarea o actividades de ejercitación y fijación. Incluye 20 ejercicios de tarea en las que los estudiantes empiecen con la descripción geométrica del algoritmo, luego la descripción verbal y secuencial del algoritmo, después la implementación en lenguaje python editado a través de la terminal powershell de su computador y finalmente con el cálculo a mano y en su cuaderno. Crea una función de usuario de Python que asigne esta tareas a cada uno de los estudiantes matriculados en este curso tomando la ubicación de los estudiantes dada en este prompt.  \n",
    "    \n",
    "9. Evaluación incluyendo 20 proyectos, un ejemplo de quiz (con tres items) y un ejemplo de parcial (con 5 items). Incluye evaluaciones en las que los estudiantes empiecen con la descripción geométrica del algoritmo, luego la descripción verbal y secuencial del algoritmo, después la implementación en lenguaje python editado a través de la terminal powershell de su computador, y finalmente con el cálculo algebraico y numérico a mano y en su cuaderno. \n",
    "    \n",
    "10. Diseño de actividad de retroalimentación.   \n",
    "    \n",
    "11. Dame un vocabulario y frases del idioma inglés asociadas a esta clase.    \n",
    "     \n",
    "12. Incluye apéndice para la clase sobre desarrollo de habilidades para trabajar en equipo y de asertividad y empatía para relacionarnos. También elementos de la inteligencia emocional para presentar pruebas sin temor y sin realizar fraude en ellas.    \n",
    "     \n",
    "13. Incluye 10 referentes en didáctica de la matemática que estén de acuerdo a la propuesta didáctica de esta clase. Adiciona a estos referentes a Raymond Duval (Representaciones y cambios de representación para la adquisición de conceptos matemáticos) y a [Jeannette Wing](https://es.wikipedia.org/wiki/Jeannette_Wing) (Desarrollo del pensamiento computacional). Déjame todos estos referentes ordenados de acuerdo a las normas APA. Al crear la clase, introduce las citas de estos autores en el texto de la clase.\n",
    "\n",
    "\n",
    "Pero  que este diseño sea para que el estudiante pueda aprender experimentando en cuadernos Jupyter con funciones de usuario y animaciones y visualizaciones en python.   \n",
    "\n",
    "En particular utiliza para el diseño de clase a Numpy, Pandas, SymPy, Matplotlib.pyplot, Seaborn, Plotly, ipywidgets, matplotlib.animation, TensorFlow, Keras y Jupyter Notebook.    \n",
    "\n",
    "Cada vez que utilices `matplotlib.animacion` no olvides incluir el uso de `IPython. display` para la rederización de estas animaciones a través de Jupyter Notebook. No olvides darme los diseños de clase con las ecuaciones matemáticas delimitadas con signo de dolar $ para que VS Code si me renderize estas expresiones del lenguaje latex. Cuando vallas a utilizar ipywidgets ten en cuenta la siguiente importación inicial para garantizar que la visualización interactiva si se renderize en VS Code:   \n",
    "\n",
    "import numpy as np  \n",
    "import matplotlib.pyplot as plt  \n",
    "import ipywidgets as widgets  \n",
    "\n",
    "\n",
    "\n"
   ]
  },
  {
   "cell_type": "markdown",
   "id": "f39ebbcb",
   "metadata": {},
   "source": [
    "# Diseño de Clase: Números Naturales Pares e Impares - Enfoque STEAM, ABPP y TRRS\n"
   ]
  },
  {
   "cell_type": "markdown",
   "id": "53b67a49",
   "metadata": {},
   "source": [
    "\n",
    "## 1. Título de la clase\n",
    "**\"Explorando los números pares e impares: De las definiciones clásicas a las representaciones computacionales\"**\n"
   ]
  },
  {
   "cell_type": "markdown",
   "id": "a787bd8a",
   "metadata": {},
   "source": [
    "\n",
    "## 2. Objetivos de aprendizaje\n",
    "\n",
    "**Objetivo principal:**  \n",
    "Los estudiantes comprenderán y representarán los números naturales pares e impares a través de múltiples enfoques (aritmético, geométrico, computacional) utilizando diferentes sistemas de representación semiótica.\n"
   ]
  },
  {
   "cell_type": "markdown",
   "id": "0342b978",
   "metadata": {},
   "source": [
    "\n",
    "**Indicadores de logro:**\n",
    "- [ ] Define números pares e impares usando 5 representaciones diferentes (verbal, algebraica, geométrica, computacional y conjuntista)\n",
    "- [ ] Implementa funciones en Python que identifiquen y generen números pares e impares\n",
    "- [ ] Visualiza propiedades de pares e impares usando gráficas animadas\n",
    "- [ ] Resuelve problemas contextualizados aplicando propiedades de pares e impares\n",
    "- [ ] Diseña un proyecto STEAM que integre conceptos de paridad numérica\n"
   ]
  },
  {
   "cell_type": "markdown",
   "id": "645ec1b0",
   "metadata": {},
   "source": [
    "\n",
    "## 3. Mapa Conceptual (Graphviz)\n"
   ]
  },
  {
   "cell_type": "markdown",
   "id": "e03a2269",
   "metadata": {},
   "source": [
    "\n",
    "```python\n",
    "from graphviz import Digraph\n",
    "\n",
    "# Crear el gráfico\n",
    "dot = Digraph(comment='Números Pares e Impares', \n",
    "              graph_attr={'overlap': 'scalexy', 'splines': 'true', 'fontsize': '20'})\n",
    "dot.attr(rankdir='LR')\n",
    "\n",
    "# Nodos principales\n",
    "dot.node('A', 'Números Naturales', shape='ellipse', style='filled', color='lightblue2')\n",
    "dot.node('B', 'Pares\\n(Definiciones)', shape='box', style='filled', color='coral')\n",
    "dot.node('C', 'Impares\\n(Definiciones)', shape='box', style='filled', color='gold')\n",
    "dot.node('D', 'Representaciones', shape='doubleoctagon', color='plum')\n",
    "\n",
    "# Subnodos para definiciones\n",
    "with dot.subgraph(name='cluster_def_pares') as c:\n",
    "    c.attr(color='lightgrey', style='filled')\n",
    "    c.node('B1', 'Divisible por 2')\n",
    "    c.node('B2', 'Forma 2k')\n",
    "    c.node('B3', 'Terminación 0,2,4,6,8')\n",
    "    c.node('B4', 'Partición en pares')\n",
    "    c.edge('B', 'B1')\n",
    "    c.edge('B', 'B2')\n",
    "    c.edge('B', 'B3')\n",
    "    c.edge('B', 'B4')\n",
    "\n",
    "with dot.subgraph(name='cluster_def_impares') as c:\n",
    "    c.attr(color='lightgrey', style='filled')\n",
    "    c.node('C1', 'No divisible por 2')\n",
    "    c.node('C2', 'Forma 2k+1')\n",
    "    c.node('C3', 'Terminación 1,3,5,7,9')\n",
    "    c.node('C4', 'Partición con sobrante')\n",
    "    c.edge('C', 'C1')\n",
    "    c.edge('C', 'C2')\n",
    "    c.edge('C', 'C3')\n",
    "    c.edge('C', 'C4')\n",
    "\n",
    "# Subnodos para representaciones\n",
    "with dot.subgraph(name='cluster_representaciones') as c:\n",
    "    c.attr(color='lightgrey', style='filled')\n",
    "    c.node('D1', 'Algebraica')\n",
    "    c.node('D2', 'Geométrica')\n",
    "    c.node('D3', 'Computacional')\n",
    "    c.node('D4', 'Conjuntista')\n",
    "    c.node('D5', 'Gráfica')\n",
    "    c.edge('D', 'D1')\n",
    "    c.edge('D', 'D2')\n",
    "    c.edge('D', 'D3')\n",
    "    c.edge('D', 'D4')\n",
    "    c.edge('D', 'D5')\n",
    "\n",
    "# Conexiones principales\n",
    "dot.edges(['AB', 'AC', 'AD'])\n",
    "dot.edge('B', 'D', style='dashed')\n",
    "dot.edge('C', 'D', style='dashed')\n",
    "\n",
    "# Renderizar y mostrar\n",
    "dot.render(directory='C:/Users/marco/Downloads', filename='mapa_pares_impares', format='png', view=True)\n",
    "display(dot)\n",
    "```\n"
   ]
  },
  {
   "cell_type": "markdown",
   "id": "cdd3c75f",
   "metadata": {},
   "source": [
    "\n",
    "## 4. Elementos Históricos y Epistemológicos (Historieta Antioqueña)\n"
   ]
  },
  {
   "cell_type": "markdown",
   "id": "93094d67",
   "metadata": {},
   "source": [
    "\n",
    "*¡A ver, mucháculos!* Les voy a contar la historia de cómo los números se dividieron en pares e impares, como en esos partidos de fútbol donde siempre hay dos equipos...\n",
    "\n",
    "**Imagen 1:** [Dibujo de los babilonios con tablillas de arcilla]  \n",
    "*\"Los babilonios, esos viejitos de Mesopotamia allá por el 1800 a.C., ya jugaban con los números pares e impares en sus tablillas de arcilla. ¡Y eso que no tenían calculadora!\"*\n",
    "\n",
    "**Imagen 2:** [Pitágoras con discípulos]  \n",
    "*\"Luego llegó Pitágoras, ese griego barbudo, y les puso color: 'Los pares son femeninos y los impares masculinos', decía. ¡Qué cosas se le ocurrían al hombre!\"*\n",
    "\n",
    "**Imagen 3:** [Euclides escribiendo]  \n",
    "*\"Y no podía faltar Euclides, que en sus Elementos (Libro VII) puso la definición formal: 'Número par es el que se divide en dos partes iguales'. ¡Claro como el agua de la quebrada!\"*\n",
    "\n",
    "**Imagen 4:** [Al-Khwarizmi con manuscritos]  \n",
    "*\"Después los árabes, con Al-Khwarizmi a la cabeza, le metieron álgebra al cuento y empezaron a escribir los números con esas cifras que usamos hoy, que son más fáciles que los palitos de los romanos.\"*\n",
    "\n",
    "**Imagen 5:** [Leibniz con máquina calculadora]  \n",
    "*\"Y ya en el siglo XVII, Leibniz (ese alemán loco por las máquinas) demostró que hasta Dios juega con pares e impares en su sistema binario. ¡0 y 1, par e impar, qué más claro!\"*\n",
    "\n",
    "## 5. Contenido de la Clase\n",
    "\n",
    "### 5.1 Definiciones Algebraicas\n",
    "Un número natural $n$ es:\n",
    "- **Par** si existe $k \\in \\mathbb{N}$ tal que $n = 2k$\n",
    "- **Impar** si existe $k \\in \\mathbb{N}$ tal que $n = 2k + 1$\n",
    "\n",
    "```python\n",
    "import sympy as sp\n",
    "\n",
    "k = sp.symbols('k')\n",
    "par = 2*k\n",
    "impar = 2*k + 1\n",
    "\n",
    "display(sp.Eq(sp.Symbol('Par'), par))\n",
    "display(sp.Eq(sp.Symbol('Impar'), impar))\n",
    "```\n",
    "\n",
    "### 5.2 Visualización Geométrica\n",
    "```python\n",
    "import numpy as np\n",
    "import matplotlib.pyplot as plt\n",
    "from matplotlib.animation import FuncAnimation\n",
    "from IPython.display import HTML\n",
    "\n",
    "def visualizar_paridad(n):\n",
    "    fig, ax = plt.subplots(figsize=(10, 4))\n",
    "    \n",
    "    # Configuración inicial\n",
    "    ax.set_xlim(0, n+1)\n",
    "    ax.set_ylim(0, 2)\n",
    "    ax.set_title(f'Representación geométrica del número {n}', fontsize=14)\n",
    "    ax.set_xticks(range(n+1))\n",
    "    ax.set_yticks([])\n",
    "    ax.grid(axis='x')\n",
    "    \n",
    "    # Dibujar puntos\n",
    "    points, = ax.plot([], [], 'bo', markersize=15)\n",
    "    lines = []\n",
    "    \n",
    "    def init():\n",
    "        points.set_data([], [])\n",
    "        return [points] + lines\n",
    "    \n",
    "    def animate(i):\n",
    "        if i <= n:\n",
    "            x = list(range(1, i+1))\n",
    "            y = [1]*i\n",
    "            points.set_data(x, y)\n",
    "            \n",
    "            # Dibujar líneas de conexión para pares\n",
    "            if i > 1 and i % 2 == 0:\n",
    "                for j in range(0, i, 2):\n",
    "                    line, = ax.plot([j+1, j+2], [1, 1], 'r-', linewidth=2)\n",
    "                    lines.append(line)\n",
    "        return [points] + lines\n",
    "    \n",
    "    anim = FuncAnimation(fig, animate, frames=n+2, init_func=init, \n",
    "                         interval=500, blit=True)\n",
    "    plt.close()\n",
    "    return HTML(anim.to_jshtml())\n",
    "\n",
    "# Widget interactivo\n",
    "widgets.interact(visualizar_paridad, n=widgets.IntSlider(min=1, max=20, step=1, value=5))\n",
    "```\n",
    "\n",
    "### 5.3 Implementación Computacional\n",
    "```python\n",
    "import pandas as pd\n",
    "import plotly.express as px\n",
    "\n",
    "def propiedades_pares_impares(limite):\n",
    "    datos = []\n",
    "    for n in range(1, limite+1):\n",
    "        tipo = 'Par' if n % 2 == 0 else 'Impar'\n",
    "        suma_digitos = sum(int(d) for d in str(n))\n",
    "        datos.append({'Número': n, 'Tipo': tipo, 'Suma Dígitos': suma_digitos})\n",
    "    \n",
    "    df = pd.DataFrame(datos)\n",
    "    \n",
    "    fig = px.scatter(df, x='Número', y='Suma Dígitos', color='Tipo',\n",
    "                     title='Propiedades de Pares e Impares',\n",
    "                     labels={'Número': 'Número natural', 'Suma Dígitos': 'Suma de dígitos'},\n",
    "                     color_discrete_map={'Par': 'blue', 'Impar': 'red'})\n",
    "    \n",
    "    fig.update_traces(marker=dict(size=12, line=dict(width=2, color='DarkSlateGrey')),\n",
    "                      selector=dict(mode='markers'))\n",
    "    fig.show()\n",
    "\n",
    "# Widget interactivo\n",
    "widgets.interact(propiedades_pares_impares, limite=widgets.IntSlider(min=10, max=100, value=20))\n",
    "```\n",
    "\n",
    "## 6. Actividades de Aprendizaje\n",
    "\n",
    "### Actividad 1: Laboratorio de Paridad con Python\n",
    "```python\n",
    "def laboratorio_paridad():\n",
    "    print(\"¡Bienvenido al laboratorio de paridad!\")\n",
    "    print(\"1. Generar lista de pares/impares\")\n",
    "    print(\"2. Verificar paridad de un número\")\n",
    "    print(\"3. Visualizar propiedades\")\n",
    "    \n",
    "    opcion = input(\"Seleccione una opción (1-3): \")\n",
    "    \n",
    "    if opcion == '1':\n",
    "        n = int(input(\"Ingrese el límite superior: \"))\n",
    "        pares = [x for x in range(n+1) if x % 2 == 0]\n",
    "        impares = [x for x in range(n+1) if x % 2 != 0]\n",
    "        \n",
    "        print(f\"\\nPares hasta {n}: {pares}\")\n",
    "        print(f\"Impares hasta {n}: {impares}\")\n",
    "        \n",
    "        # Visualización\n",
    "        plt.figure(figsize=(10, 4))\n",
    "        plt.bar(['Pares', 'Impares'], [len(pares), len(impares)], color=['blue', 'red'])\n",
    "        plt.title(f'Conteo de Pares e Impares hasta {n}')\n",
    "        plt.ylabel('Cantidad')\n",
    "        plt.show()\n",
    "    \n",
    "    elif opcion == '2':\n",
    "        num = int(input(\"Ingrese un número: \"))\n",
    "        if num % 2 == 0:\n",
    "            print(f\"\\n{num} es un número par (2 × {num//2} = {num})\")\n",
    "        else:\n",
    "            print(f\"\\n{num} es un número impar (2 × {num//2} + 1 = {num})\")\n",
    "    \n",
    "    elif opcion == '3':\n",
    "        limite = int(input(\"Ingrese el límite para análisis: \"))\n",
    "        propiedades_pares_impares(limite)\n",
    "    \n",
    "    else:\n",
    "        print(\"Opción no válida\")\n",
    "\n",
    "laboratorio_paridad()\n",
    "```\n",
    "\n",
    "### Actividad 2: Proyecto STEAM - Arte con Pares e Impares\n",
    "```python\n",
    "def arte_matematico(tamaño, patron):\n",
    "    # Crear matriz basada en paridad\n",
    "    matriz = np.zeros((tamaño, tamaño))\n",
    "    \n",
    "    for i in range(tamaño):\n",
    "        for j in range(tamaño):\n",
    "            if patron == 'cuadricula':\n",
    "                matriz[i,j] = (i + j) % 2\n",
    "            elif patron == 'diagonal':\n",
    "                matriz[i,j] = (i - j) % 2\n",
    "            elif patron == 'espiral':\n",
    "                matriz[i,j] = (i * j) % 2\n",
    "    \n",
    "    # Visualización interactiva\n",
    "    fig = px.imshow(matriz, color_continuous_scale=['red', 'blue'],\n",
    "                    title=f'Arte Matemático: Patrón {patron.capitalize()}')\n",
    "    fig.update_layout(coloraxis_showscale=False)\n",
    "    fig.show()\n",
    "\n",
    "# Widget interactivo\n",
    "widgets.interact(arte_matematico,\n",
    "                 tamaño=widgets.IntSlider(min=5, max=50, value=10),\n",
    "                 patron=widgets.Dropdown(options=['cuadricula', 'diagonal', 'espiral'],\n",
    "                                        value='cuadricula'))\n",
    "```\n",
    "\n",
    "## 7. Canción/Poema de Aprendizaje\n",
    "\n",
    "**\"Los Números Bailarines\"**  \n",
    "*(Melodía: \"Los pollitos dicen\")*\n",
    "\n",
    "```\n",
    "Los pares son de dos en dos,  \n",
    "0, 2, 4, 6 y 8 también,  \n",
    "si al dividir por dos no sobra nada,  \n",
    "¡número par es, lo ves bien!  \n",
    "\n",
    "Los impares son distintos,  \n",
    "1, 3, 5, 7 y 9,  \n",
    "si al dividir por dos sobra uno,  \n",
    "¡impares son, eso es genuino!  \n",
    "\n",
    "Pares e impares alternados,  \n",
    "como en un baile bien sincronizado,  \n",
    "uno sí, uno no,  \n",
    "¡así el conjunto numérico marchó!\n",
    "```\n",
    "\n",
    "## 8. Tareas y Ejercicios\n",
    "\n",
    "```python\n",
    "import random\n",
    "import pandas as pd\n",
    "from IPython.display import display, HTML\n",
    "\n",
    "def generar_tareas_paridad(url_estudiantes):\n",
    "    # Simulación: Leer lista de estudiantes (en realidad usar pd.read_excel)\n",
    "    estudiantes = ['Estudiante '+chr(65+i) for i in range(20)]\n",
    "    \n",
    "    # Generar 20 ejercicios\n",
    "    ejercicios = []\n",
    "    for i in range(1, 21):\n",
    "        n = random.randint(10, 100)\n",
    "        tipo = random.choice(['geométrica', 'algebraica', 'computacional', 'verbal'])\n",
    "        \n",
    "        if tipo == 'geométrica':\n",
    "            enunciado = f\"Dibuje la representación geométrica del número {n} y determine si es par o impar.\"\n",
    "        elif tipo == 'algebraica':\n",
    "            k = random.randint(1, 10)\n",
    "            if random.choice([True, False]):\n",
    "                enunciado = f\"Demuestre que {2*k} es par usando la definición algebraica.\"\n",
    "            else:\n",
    "                enunciado = f\"Exprese el número {2*k+1} en forma algebraica de número impar.\"\n",
    "        elif tipo == 'computacional':\n",
    "            enunciado = f\"Escriba una función en Python que determine si {n} es par o impar.\"\n",
    "        else:\n",
    "            enunciado = f\"Describa con sus propias palabras cómo identificar si un número grande es par o impar.\"\n",
    "        \n",
    "        ejercicios.append({'Ejercicio': i, 'Tipo': tipo, 'Enunciado': enunciado})\n",
    "    \n",
    "    # Asignar a estudiantes\n",
    "    tareas_asignadas = []\n",
    "    for i, estudiante in enumerate(estudiantes):\n",
    "        ejercicios_est = random.sample(ejercicios, 3)\n",
    "        for ej in ejercicios_est:\n",
    "            tareas_asignadas.append({\n",
    "                'Estudiante': estudiante,\n",
    "                'Ejercicio': ej['Ejercicio'],\n",
    "                'Tipo': ej['Tipo'],\n",
    "                'Enunciado': ej['Enunciado']\n",
    "            })\n",
    "    \n",
    "    # Crear DataFrame y mostrar\n",
    "    df_tareas = pd.DataFrame(tareas_asignadas)\n",
    "    \n",
    "    # Mostrar ejemplo de tarea asignada\n",
    "    display(HTML(\"<h3>Ejemplo de Tarea Asignada:</h3>\"))\n",
    "    ejemplo = df_tareas.sample(1).iloc[0]\n",
    "    display(HTML(f\"<b>Estudiante:</b> {ejemplo['Estudiante']}<br>\"\n",
    "                 f\"<b>Ejercicio {ejemplo['Ejercicio']}:</b> {ejemplo['Enunciado']}\"))\n",
    "    \n",
    "    return df_tareas\n",
    "\n",
    "# Usar la función (simulando la URL)\n",
    "tareas = generar_tareas_paridad(\"https://github.com/marco-canas/groups_list/blob/main/algebra_and_trigonometry.xlsx\")\n",
    "```\n",
    "\n",
    "## 9. Evaluación\n",
    "\n",
    "### Proyectos STEAM (5 ejemplos de 20):\n",
    "1. **Arte Digital con Paridad:** Crear una obra de arte digital donde los colores y formas se determinen por propiedades de pares e impares.\n",
    "2. **Música Matemática:** Componer una melodía donde las notas pares e impares sigan diferentes escalas.\n",
    "3. **Juego de Estrategia:** Diseñar un juego de mesa basado en propiedades de números pares e impares.\n",
    "4. **Análisis Estadístico:** Investigar la distribución de pares e impares en datos reales (precios, direcciones, etc.).\n",
    "5. **Simulación Física:** Modelar un sistema físico donde los objetos pares e impares interactúen diferente.\n",
    "\n",
    "### Quiz Ejemplo:\n",
    "1. **Item 1:** Demuestre geométricamente por qué la suma de dos números impares es par.\n",
    "2. **Item 2:** Implemente una función Python que clasifique una lista de números en pares e impares.\n",
    "3. **Item 3:** Explique cómo usaría la paridad para verificar errores en transmisión de datos.\n",
    "\n",
    "### Parcial Ejemplo:\n",
    "1. **Item 1:** Demuestre algebraicamente que el cuadrado de un número impar es impar.\n",
    "2. **Item 2:** Cree una visualización animada que muestre cómo se generan los pares e impares.\n",
    "3. **Item 3:** Resuelva el problema: \"En una fiesta, los invitados se saludan. Si hubo 66 saludos y cada persona saludó a cada otra exactamente una vez, ¿cuántas personas había? Use propiedades de pares/impares.\"\n",
    "4. **Item 4:** Escriba un poema o canción que enseñe las propiedades de los pares e impares.\n",
    "5. **Item 5:** Diseñe un algoritmo para determinar si un número muy grande (100+ dígitos) es par, sin calcularlo completamente.\n",
    "\n",
    "## 10. Retroalimentación\n",
    "\n",
    "**Estrategia de Feedback Automatizado:**\n",
    "```python\n",
    "def dar_retroalimentacion(respuestas):\n",
    "    # Analizar respuestas (simulación)\n",
    "    feedback = []\n",
    "    for idx, respuesta in enumerate(respuestas):\n",
    "        if idx % 2 == 0:\n",
    "            fb = f\"✅ Buen trabajo en el ejercicio {idx+1}. Has aplicado correctamente los conceptos de paridad.\"\n",
    "        else:\n",
    "            fb = f\"🔍 Revisa el ejercicio {idx+1}. Considera representar el problema geométricamente para mejor comprensión.\"\n",
    "        \n",
    "        # Sugerencia adicional basada en tipo de error\n",
    "        if \"impar\" in str(respuesta).lower() and \"par\" in str(respuesta).lower():\n",
    "            fb += \" Recuerda que un número no puede ser par e impar simultáneamente.\"\n",
    "        \n",
    "        feedback.append(fb)\n",
    "    \n",
    "    # Mostrar feedback con widgets\n",
    "    accordion = widgets.Accordion(children=[widgets.Output() for _ in feedback])\n",
    "    for i, fb in enumerate(feedback):\n",
    "        accordion.set_title(i, f\"Ejercicio {i+1}\")\n",
    "        with accordion.children[i]:\n",
    "            print(fb)\n",
    "            if i % 2 == 0:\n",
    "                display(HTML(\"<img src='https://tinyurl.com/thumb-up-emoji' width='30'>\"))\n",
    "            else:\n",
    "                display(HTML(\"<img src='https://tinyurl.com/thinking-emoji' width='30'>\"))\n",
    "    \n",
    "    display(accordion)\n",
    "\n",
    "# Simulación de uso\n",
    "respuestas_ejemplo = [\n",
    "    \"2k es la forma general de un par\",\n",
    "    \"5 es par\",  # Respuesta incorrecta\n",
    "    \"Implementé la función is_odd(n): return n % 2 != 0\",\n",
    "    \"No sé cómo demostrarlo\"  # Respuesta incompleta\n",
    "]\n",
    "dar_retroalimentacion(respuestas_ejemplo)\n",
    "```\n"
   ]
  },
  {
   "cell_type": "markdown",
   "id": "74217681",
   "metadata": {},
   "source": [
    "\n",
    "## 11. Vocabulario en Inglés\n",
    "\n",
    "**Términos clave:**\n",
    "- Even numbers / Odd numbers → Números pares / impares\n",
    "- Divisibility → Divisibilidad\n",
    "- Algebraic expression → Expresión algebraica\n",
    "- Geometric representation → Representación geométrica\n",
    "- Computational thinking → Pensamiento computacional\n",
    "- Parity properties → Propiedades de paridad\n",
    "- Sequence → Secuencia\n",
    "- Pattern → Patrón\n",
    "- Theorem → Teorema\n",
    "- Proof → Demostración\n"
   ]
  },
  {
   "cell_type": "markdown",
   "id": "b8d2b692",
   "metadata": {},
   "source": [
    "\n",
    "**Frases útiles:**\n",
    "- \"An even number can be divided into two equal groups\" → Un número par puede dividirse en dos grupos iguales\n",
    "- \"Odd numbers leave a remainder when divided by two\" → Los números impares dejan residuo al dividir por dos\n",
    "- \"Let's verify the parity of this number\" → Verifiquemos la paridad de este número\n",
    "- \"The sum of two odds is always even\" → La suma de dos impares siempre es par\n",
    "- \"Can you code a function to check for evenness?\" → ¿Puedes programar una función para verificar paridad?\n"
   ]
  },
  {
   "cell_type": "markdown",
   "id": "16acb255",
   "metadata": {},
   "source": [
    "\n",
    "## 12. Apéndice: Habilidades Blandas\n",
    "\n",
    "**Trabajo en Equipo:**\n",
    "- Use técnicas de \"pair programming\" donde un estudiante escribe código y el otro revisa, alternando roles\n",
    "- Asigne roles específicos (geómetra, algebrista, programador) en proyectos grupales\n",
    "\n",
    "**Inteligencia Emocional:**\n",
    "- Realice ejercicios de respiración antes de evaluaciones\n",
    "- Fomente la mentalidad de crecimiento: \"Los errores son oportunidades para aprender\"\n",
    "- Discuta casos éticos de fraude académico y sus consecuencias\n"
   ]
  },
  {
   "cell_type": "markdown",
   "id": "b7791ac1",
   "metadata": {},
   "source": [
    "\n",
    "**Ejercicio de Autoevaluación:**\n"
   ]
  },
  {
   "cell_type": "code",
   "execution_count": 2,
   "id": "24aca132",
   "metadata": {},
   "outputs": [
    {
     "name": "stdout",
     "output_type": "stream",
     "text": [
      "Reflexiona sobre tu desempeño (1-5 escala):\n"
     ]
    },
    {
     "ename": "NameError",
     "evalue": "name 'px' is not defined",
     "output_type": "error",
     "traceback": [
      "\u001b[31m---------------------------------------------------------------------------\u001b[39m",
      "\u001b[31mNameError\u001b[39m                                 Traceback (most recent call last)",
      "\u001b[36mCell\u001b[39m\u001b[36m \u001b[39m\u001b[32mIn[2]\u001b[39m\u001b[32m, line 20\u001b[39m\n\u001b[32m     15\u001b[39m     fig = px.bar(x=\u001b[38;5;28mlist\u001b[39m(preguntas.values()), y=\u001b[38;5;28mlist\u001b[39m(respuestas.values()),\n\u001b[32m     16\u001b[39m                  labels={\u001b[33m'\u001b[39m\u001b[33mx\u001b[39m\u001b[33m'\u001b[39m: \u001b[33m'\u001b[39m\u001b[33mPregunta\u001b[39m\u001b[33m'\u001b[39m, \u001b[33m'\u001b[39m\u001b[33my\u001b[39m\u001b[33m'\u001b[39m: \u001b[33m'\u001b[39m\u001b[33mPuntuación\u001b[39m\u001b[33m'\u001b[39m},\n\u001b[32m     17\u001b[39m                  title=\u001b[33m'\u001b[39m\u001b[33mAutoevaluación de Habilidades Blandas\u001b[39m\u001b[33m'\u001b[39m)\n\u001b[32m     18\u001b[39m     fig.show()\n\u001b[32m---> \u001b[39m\u001b[32m20\u001b[39m \u001b[43mautoevaluacion_habilidades\u001b[49m\u001b[43m(\u001b[49m\u001b[43m)\u001b[49m\n",
      "\u001b[36mCell\u001b[39m\u001b[36m \u001b[39m\u001b[32mIn[2]\u001b[39m\u001b[32m, line 15\u001b[39m, in \u001b[36mautoevaluacion_habilidades\u001b[39m\u001b[34m()\u001b[39m\n\u001b[32m     12\u001b[39m     respuestas[num] = \u001b[38;5;28minput\u001b[39m(\u001b[33mf\u001b[39m\u001b[33m\"\u001b[39m\u001b[38;5;132;01m{\u001b[39;00mpregunta\u001b[38;5;132;01m}\u001b[39;00m\u001b[33m (1-5): \u001b[39m\u001b[33m\"\u001b[39m)\n\u001b[32m     14\u001b[39m \u001b[38;5;66;03m# Visualización de resultados\u001b[39;00m\n\u001b[32m---> \u001b[39m\u001b[32m15\u001b[39m fig = \u001b[43mpx\u001b[49m.bar(x=\u001b[38;5;28mlist\u001b[39m(preguntas.values()), y=\u001b[38;5;28mlist\u001b[39m(respuestas.values()),\n\u001b[32m     16\u001b[39m              labels={\u001b[33m'\u001b[39m\u001b[33mx\u001b[39m\u001b[33m'\u001b[39m: \u001b[33m'\u001b[39m\u001b[33mPregunta\u001b[39m\u001b[33m'\u001b[39m, \u001b[33m'\u001b[39m\u001b[33my\u001b[39m\u001b[33m'\u001b[39m: \u001b[33m'\u001b[39m\u001b[33mPuntuación\u001b[39m\u001b[33m'\u001b[39m},\n\u001b[32m     17\u001b[39m              title=\u001b[33m'\u001b[39m\u001b[33mAutoevaluación de Habilidades Blandas\u001b[39m\u001b[33m'\u001b[39m)\n\u001b[32m     18\u001b[39m fig.show()\n",
      "\u001b[31mNameError\u001b[39m: name 'px' is not defined"
     ]
    }
   ],
   "source": [
    "def autoevaluacion_habilidades():\n",
    "    preguntas = {\n",
    "        \"1\": \"¿Cómo manejaste el estrés durante la actividad?\",\n",
    "        \"2\": \"¿Contribuiste equitativamente en el trabajo grupal?\",\n",
    "        \"3\": \"¿Buscaste ayuda cuando lo necesitaste?\",\n",
    "        \"4\": \"¿Respetaste las ideas diferentes a las tuyas?\"\n",
    "    }\n",
    "    \n",
    "    respuestas = {}\n",
    "    print(\"Reflexiona sobre tu desempeño (1-5 escala):\")\n",
    "    for num, pregunta in preguntas.items():\n",
    "        respuestas[num] = input(f\"{pregunta} (1-5): \")\n",
    "    \n",
    "    # Visualización de resultados\n",
    "    fig = px.bar(x=list(preguntas.values()), y=list(respuestas.values()),\n",
    "                 labels={'x': 'Pregunta', 'y': 'Puntuación'},\n",
    "                 title='Autoevaluación de Habilidades Blandas')\n",
    "    fig.show()\n",
    "\n",
    "autoevaluacion_habilidades()\n",
    "\n"
   ]
  },
  {
   "cell_type": "markdown",
   "id": "db37a4f4",
   "metadata": {},
   "source": [
    "\n",
    "## 13. Referentes en Didáctica (APA)\n",
    "\n",
    "1. Duval, R. (2006). A cognitive analysis of problems of comprehension in a learning of mathematics. *Educational Studies in Mathematics*, *61*(1-2), 103-131. https://doi.org/10.1007/s10649-006-0400-z\n",
    "\n",
    "2. Wing, J. M. (2006). Computational thinking. *Communications of the ACM*, *49*(3), 33-35. https://doi.org/10.1145/1118178.1118215\n",
    "\n",
    "3. Polya, G. (1945). *How to solve it*. Princeton University Press.\n",
    "\n",
    "4. Schoenfeld, A. H. (1985). *Mathematical problem solving*. Academic Press.\n",
    "\n",
    "5. Skemp, R. R. (1976). Relational understanding and instrumental understanding. *Mathematics Teaching*, *77*(1), 20-26.\n",
    "\n",
    "6. Hiebert, J., & Carpenter, T. P. (1992). Learning and teaching with understanding. In D. A. Grouws (Ed.), *Handbook of research on mathematics teaching and learning* (pp. 65-97). Macmillan.\n",
    "\n",
    "7. Lesh, R., & Doerr, H. M. (2003). *Beyond constructivism: Models and modeling perspectives on mathematics problem solving, learning, and teaching*. Lawrence Erlbaum Associates.\n",
    "\n",
    "8. Boaler, J. (2016). *Mathematical mindsets: Unleashing students' potential through creative math, inspiring messages and innovative teaching*. Jossey-Bass.\n",
    "\n",
    "9. National Council of Teachers of Mathematics. (2000). *Principles and standards for school mathematics*. NCTM.\n",
    "\n",
    "10. Mason, J., Burton, L., & Stacey, K. (2010). *Thinking mathematically* (2nd ed.). Pearson.\n",
    "\n",
    "Como menciona Duval (2006), \"la comprensión en matemáticas requiere la coordinación de al menos dos representaciones diferentes de un mismo objeto matemático\". Este principio fundamenta nuestro enfoque múltiple para enseñar pares e impares. Complementando esto, Wing (2006) nos recuerda que \"el pensamiento computacional implica resolver problemas, diseñar sistemas y comprender el comportamiento humano, haciendo uso de conceptos fundamentales de la informática\", lo que aplicamos al implementar estas ideas en Python."
   ]
  },
  {
   "cell_type": "markdown",
   "id": "596bbb56",
   "metadata": {},
   "source": [
    "# Función de asignación de tareas  para el curso de Álgebra y trigonometría  \n",
    "\n"
   ]
  },
  {
   "cell_type": "code",
   "execution_count": 5,
   "id": "e137bcaf",
   "metadata": {},
   "outputs": [],
   "source": [
    "import pandas as pd \n",
    "import random \n",
    "def asignar_tareas(lista_estudiantes):\n",
    "    # Leer lista de estudiantes\n",
    "    estudiantes = pd.read_excel(lista_estudiantes, engine = 'openpyxl')\n",
    "    \n",
    "    # Generar 20 ejercicios\n",
    "    ejercicios = []\n",
    "    for i in range(1, 21):\n",
    "        # Diferentes tipos de problemas\n",
    "        if i <= 5:\n",
    "            tipo = \"Álgebra (Ecuaciones polinómicas)\"\n",
    "        elif i <= 10:\n",
    "            tipo = \"Trigonometría (Identidades)\"\n",
    "        elif i <= 15:\n",
    "            tipo = \"Geometría Analítica\"\n",
    "        else:\n",
    "            tipo = \"Problemas aplicados\"\n",
    "        \n",
    "        ejercicios.append({\n",
    "            \"ID\": i,\n",
    "            \"Tipo\": tipo,\n",
    "            \"Descripción\": f\"Ejercicio {i}: Resolver problema de {tipo}\",\n",
    "            \"Python\": f\"Implementar solución para ejercicio {i}\",\n",
    "            \"Teoría\": f\"Explicación conceptual del ejercicio {i}\"\n",
    "        })\n",
    "    \n",
    "    # Asignar aleatoriamente a cada estudiante\n",
    "    tareas_asignadas = []\n",
    "    for _, estudiante in estudiantes.iterrows():\n",
    "        ejercicios_est = random.sample(ejercicios, 2)  # 2 ejercicios por estudiante\n",
    "        tareas_asignadas.append({\n",
    "            \"Estudiante\": estudiante['Nombre'],\n",
    "            \"ID_Estudiante\": estudiante['Cedula'],\n",
    "            \"Ejercicio_1\": ejercicios_est[0][\"Descripción\"],\n",
    "            \"Ejercicio_2\": ejercicios_est[1][\"Descripción\"],\n",
    "            \"Requisitos_Python\": f\"Debe implementar: {ejercicios_est[0]['Python']} y {ejercicios_est[1]['Python']}\",\n",
    "            \"Explicación_Teórica\": f\"Debe explicar: {ejercicios_est[0]['Teoría']} y {ejercicios_est[1]['Teoría']}\"\n",
    "        })\n",
    "    \n",
    "    return pd.DataFrame(tareas_asignadas)\n"
   ]
  },
  {
   "cell_type": "code",
   "execution_count": 6,
   "id": "528a0dfb",
   "metadata": {},
   "outputs": [],
   "source": [
    "\n",
    "# Uso de la función\n",
    "tareas = asignar_tareas(r\"C:\\Users\\marco\\Documentos\\docencia\\groups_list\\algebra_and_trigonometry.xlsx\")\n",
    "tareas.to_excel(r\"C:\\Users\\marco\\Documentos\\docencia\\groups_list\\algebra_and_trigonometry_tareas_asignadas.xlsx\", \\\n",
    "    index=False)\n"
   ]
  },
  {
   "cell_type": "markdown",
   "id": "cc539357",
   "metadata": {},
   "source": [
    "# [Programación de programa Regiones](https://lookerstudio.google.com/reporting/44e71da0-d16f-4a51-a51e-d5ae6c19b3f1/page/p_gy4nwf37hd?pli=1)"
   ]
  },
  {
   "cell_type": "markdown",
   "id": "8ba64aed",
   "metadata": {},
   "source": [
    "# Cursos que orienta el profesor Marco Julio Cañas Campillo en 2025  \n",
    "\n",
    "1. Lunes 8 a 12: Fundamentos de Lógica: Licenciatura en Matemáticas . \n",
    "2. Martes de 9 a 10: Curso de ML and DL para Ingeniero Juan Gomez en España.  \n",
    "3. Martes de 2 a 5 PM: Vector Geometry and Linear Algebra.  \n",
    "4. Miércoles: 10 a 11: Reunión equipo investigador SAT Dengue. \n",
    "5. Miércoles 2 a 3 PM: Asesoría Trabajo de Grado Janis (Estudiante de Biología).  \n",
    "6. Viernes 2 a 6 PM: Análisis Numérico: Programa de Licenciatura en Matemáticas."
   ]
  },
  {
   "cell_type": "markdown",
   "id": "8d41fe58",
   "metadata": {
    "slideshow": {
     "slide_type": "slide"
    }
   },
   "source": [
    "# Horario de clases del profesor Marco\n",
    "\n",
    "* Lunes 8-12:   \n",
    "* Lunes 2- 6 PM: Fundamento de Lógica.  \n",
    "* Martes 8-12 M: . \n",
    "* Miércoles 8 a 12 M:   \n",
    "* Miércoles de 2 a 6 PM: \n",
    "* Jueves 2 a 6 PM:  \n",
    "* Viernes 2 - 4 PM: Análisis Numérico. \n",
    "* Sábados 8-12 Asesorías y espacio para retroalimentación y apoyo al trabajo independiente. "
   ]
  },
  {
   "cell_type": "markdown",
   "id": "ae114e14",
   "metadata": {
    "slideshow": {
     "slide_type": "slide"
    }
   },
   "source": [
    "# Horarios de monitoría y asesoría  \n",
    "\n",
    "* Monitor Manuel San Juan Serrano: Contactar escribiendo al correo: manuel.serrano1@udea.edu.co"
   ]
  },
  {
   "cell_type": "markdown",
   "id": "bf0f9dbf",
   "metadata": {},
   "source": [
    "\n",
    "Coordinador de los cursos de la Facultad de Educación para regiones:    \n",
    "\n",
    "Andrés Vélez: regioneducacion.fedu@udea.edu.co  \n",
    "Coordinador Regiones  \n",
    "Facultad de Educación  \n",
    "Universidad de Antioquia  "
   ]
  },
  {
   "cell_type": "markdown",
   "id": "39559692",
   "metadata": {
    "slideshow": {
     "slide_type": "slide"
    }
   },
   "source": [
    "Martes y jueves de 8 - 12  \n",
    "Miércoles 10 - 12 y de 2 a 4 PM  \n",
    "Sábado: 8 - 12"
   ]
  },
  {
   "cell_type": "markdown",
   "id": "10bce0d0",
   "metadata": {
    "slideshow": {
     "slide_type": "slide"
    }
   },
   "source": [
    "## Referentes "
   ]
  },
  {
   "cell_type": "markdown",
   "id": "1db3c468",
   "metadata": {
    "slideshow": {
     "slide_type": "slide"
    }
   },
   "source": [
    "* [CALCULO I DE UNA VARIABLE Ron Larson-Bruce Edwards. Mc Graw Hill. 9º Edición](https://www.academia.edu/42139251/CALCULO_I_DE_UNA_VARIABLE_Ron_Larson_Bruce_Edwards_Mc_Graw_Hill_9o_Edici%C3%B3n)   \n",
    "  \n",
    "\n",
    "* [Grajales Vanegas, L. M., Restrepo Estrada, C. E., Restrepo Ochoa, S. I., & Ruíz De Villalba, F. (2015). Matemáticas I para las ciencias económicas.](https://bibliotecadigital.udea.edu.co/handle/10495/3010)\n",
    "  \n",
    "* R. Duval y Semiosis y pensamiento humano, 2.ª ed. Cali, Colombia: Programa Editorial Universidad del Valle, 2017. [En línea]. Disponible en: https://programaeditorial.univalle.edu.co/gpd-semiosis-y-pensamiento-humano-9789587655278-63324cdb0f6b3.html\n",
    "\n",
    "* [Aylwin, C. U. (2011). Lógica, conjuntos y números. Universidad de los Andes, Consejo de Publicaciones, Colección: Ciencias Básicas, Serie: Matemáticas.](chrome-extension://efaidnbmnnnibpcajpcglclefindmkaj/https://www.u-cursos.cl/ciencias/2011/1/MC110/1/material_docente/bajar?id_material=574722)\n",
    "  \n",
    "* [Chollet, F. (2021). Deep learning with Python. Simon and Schuster.](chrome-extension://efaidnbmnnnibpcajpcglclefindmkaj/https://tanthiamhuat.wordpress.com/wp-content/uploads/2018/03/deeplearningwithpython.pdf)  \n",
    "  \n",
    "* [Watson, S., Stewart, J., & Redlin, L. (2009). Precálculo. Matemáticas para el cálculo.](https://github.com/marco-canas/calculo/blob/main/referents/1_precalculo_stewart/stewart_precalculo.pdf)  \n",
    "\n",
    "* [Purcell, E. J., Varberg, D., & Rigdon, S. E. (2007). Cálculo diferencial e integral. Pearson Educación.](https://github.com/marco-canas/calculo/blob/main/referents/purcell/purcell_calculo.pdf)\n",
    "\n",
    "  \n",
    "\n",
    "* [stewart cálculo](https://udeaeduco-my.sharepoint.com/:b:/g/personal/marco_canas_udea_edu_co/EZgXZjAp8QxPqOAim2hs6LcBNPLGjSHf-xwYnUVYkwa04w?e=RZdTCy)  \n",
    "\n",
    "\n",
    "\n",
    "\n",
    "\n",
    "* [Recomendación de la UNESCO sobre ciencia abierta](https://unesdoc.unesco.org/ark:/48223/pf0000379949_spa)\n",
    "\n",
    "* [chatGPT](https://openai.com/blog/chatgpt)  \n",
    "\n",
    "* [Géron, A. (2017). Hands-on machine learning with scikit-learn and tensorflow: Concepts. Tools, and Techniques to build intelligent systems.](chrome-extension://efaidnbmnnnibpcajpcglclefindmkaj/http://14.139.161.31/OddSem-0822-1122/Hands-On_Machine_Learning_with_Scikit-Learn-Keras-and-TensorFlow-2nd-Edition-Aurelien-Geron.pdf)   \n"
   ]
  },
  {
   "cell_type": "markdown",
   "id": "df925560",
   "metadata": {},
   "source": [
    "\n",
    "* [McKinney, W. (2012). Python for data analysis: Data wrangling with Pandas, NumPy, and IPython. \" O'Reilly Media, Inc.\".](https://wesmckinney.com/book/) "
   ]
  },
  {
   "cell_type": "markdown",
   "id": "8e65d6f9",
   "metadata": {},
   "source": [
    "# Como estudiante, encuentro que...   \n",
    "\n",
    "F: Mis Fortalezas son:     \n",
    "O: Mis Oportunidades son:    \n",
    "D: Mis Debilidades son:    \n",
    "A: Lo que Amenazas mi aprendizaje es:  "
   ]
  },
  {
   "cell_type": "markdown",
   "id": "6b9e56a8",
   "metadata": {
    "slideshow": {
     "slide_type": "slide"
    }
   },
   "source": [
    "### [Evaluamos al profesor Marco Cañas Aquí](https://forms.office.com/Pages/ResponsePage.aspx?id=IefhmYRxjkmK_7KtTlPBwkanXIs1i1FEujpsZgO6dXpUREJPV1kxUk1JV1ozTFJIQVNIQjY5WEY3US4u)"
   ]
  },
  {
   "cell_type": "markdown",
   "id": "4e8e8ccb",
   "metadata": {},
   "source": [
    "Basado en el diseño de investigación con enfoque IAE (Investigación-Acción Educativa) que compartiste, aquí tienes una propuesta de **sistema de evaluación bidireccional** para el curso *\"Vector Geometry and Linear Algebra\"*, implementable mediante Google Forms y alineado con los ciclos reflexivos de Kemmis & McTaggart:\n",
    "\n",
    "---\n"
   ]
  },
  {
   "cell_type": "markdown",
   "id": "700c88d9",
   "metadata": {},
   "source": [
    "\n",
    "### **Diseño de Evaluación para Ciclo IAE**  \n",
    "*(Para implementar en Google Forms cada 4 semanas)*  \n"
   ]
  },
  {
   "cell_type": "markdown",
   "id": "534441d7",
   "metadata": {},
   "source": [
    "\n",
    "#### **1. Encuesta de Autoevaluación Estudiantil**  \n",
    "**Objetivo**: Monitorear progreso en competencias y percepción del enfoque investigativo.  \n"
   ]
  },
  {
   "cell_type": "markdown",
   "id": "ee74d19c",
   "metadata": {},
   "source": [
    "\n",
    "**Secciones**:  \n",
    "1. **Adquisición de Competencias** (Escala Likert 1-5):  \n",
    "   - *\"¿Cómo evalúas tu dominio actual de:\"*  \n",
    "     - Operaciones con vectores/matrices aplicadas a datasets agrícolas  \n",
    "     - Implementación de PCA/SVD para análisis de imágenes satelitales  \n",
    "     - Interpretación de resultados matemáticos en contextos agropecuarios  \n"
   ]
  },
  {
   "cell_type": "markdown",
   "id": "23d2b1bd",
   "metadata": {},
   "source": [
    "\n",
    "2. **Evaluación de Metodología IAE**:  \n",
    "   - *\"El aprendizaje basado en problemas reales del Bajo Cauca me ha ayudado a:\"*  \n",
    "     - Comprender mejor los conceptos abstractos (1-5)  \n",
    "     - Desarrollar habilidades útiles para mi futuro profesional (1-5)  \n",
    "   - *Espacio abierto*: *\"Describe un momento donde la conexión teoría-práctica fue especialmente significativa para ti\"*  \n"
   ]
  },
  {
   "cell_type": "markdown",
   "id": "6a55b099",
   "metadata": {},
   "source": [
    "\n",
    "3. **Recursos y Herramientas**:  \n",
    "   - *\"Valora la utilidad de:\"*  \n",
    "     - Cuadernos Jupyter adaptados (ej. Géron 2022)  \n",
    "     - Sesiones con agricultores/ingenieros invitados  \n",
    "     - Plataforma GitHub para colaboración  \n",
    "\n",
    "---\n"
   ]
  },
  {
   "cell_type": "markdown",
   "id": "d069bb21",
   "metadata": {},
   "source": [
    "\n",
    "#### **2. Evaluación del Profesor**  \n",
    "**Objetivo**: Retroalimentación para ajustar didáctica según necesidades emergentes.  \n"
   ]
  },
  {
   "cell_type": "markdown",
   "id": "e1080dd0",
   "metadata": {},
   "source": [
    "\n",
    "**Secciones**:  \n",
    "1. **Habilidades Docentes** (Escala 1-5):  \n",
    "   - *\"El profesor facilita la conexión entre álgebra lineal y problemas agrícolas mediante:\"*  \n",
    "     - Explicaciones claras de conceptos abstractos  \n",
    "     - Ejemplos contextualizados (ej. optimización de fertilizantes)  \n",
    "     - Retroalimentación constructiva en proyectos  \n"
   ]
  },
  {
   "cell_type": "markdown",
   "id": "01742d60",
   "metadata": {},
   "source": [
    "\n",
    "2. **Seguimiento a Proyectos**:  \n",
    "   - *\"Las tutorías para los proyectos aplicados son:\"*  \n",
    "     - Suficientes en frecuencia y duración  \n",
    "     - Orientadas a resolver dudas técnicas específicas  \n",
    "     - Útiles para vincular matemáticas con agronomía  \n"
   ]
  },
  {
   "cell_type": "markdown",
   "id": "ca722d62",
   "metadata": {},
   "source": [
    "\n",
    "3. **Espacio cualitativo**:  \n",
    "   - *\"Sugiere un ajuste específico que mejoraría tu experiencia de aprendizaje\"*  \n",
    "\n",
    "---\n"
   ]
  },
  {
   "cell_type": "markdown",
   "id": "568148ad",
   "metadata": {},
   "source": [
    "\n",
    "#### **3. Evaluación de Impacto Social** *(Opcional para proyectos con agricultores)*  \n",
    "**Objetivo**: Medir transferencia de conocimiento al sector productivo.  \n"
   ]
  },
  {
   "cell_type": "markdown",
   "id": "93c7f4bc",
   "metadata": {},
   "source": [
    "\n",
    "**Preguntas clave**:  \n",
    "- *\"¿Cómo ha influido el proyecto estudiantil en el que participaste en tus prácticas agrícolas?\"* (Ej.: reducción de costos, mejora en predicciones)  \n",
    "- *\"¿Recomendarías esta colaboración a otros productores?\"* (Sí/No + justificación)  \n",
    "\n",
    "\n"
   ]
  },
  {
   "cell_type": "markdown",
   "id": "d2b6a2c7",
   "metadata": {},
   "source": [
    "\n",
    "### **Implementación en Google Forms**  \n",
    "1. **Configuración**:  \n",
    "   - Formulario anónimo (excepto evaluación de proyectos con agricultores)  \n",
    "   - Sección obligatoria (competencia + 1 pregunta abierta)  \n",
    "   - Opción de subir archivos (ej.: fotos de trabajos de campo)  \n",
    "\n",
    "2. **Ejemplo de Pregunta con Lógica Condicional**:  \n",
    "   ``` \n",
    "   Si respondiste 1-3 en \"Dominio de PCA aplicado\": \n",
    "   ¿Qué tipo de apoyo adicional necesitarías? (Taller práctico, material adicional, tutoría personalizada)  \n",
    "   ```\n",
    "\n",
    "3. **Enlace accesible**:  \n",
    "   - QR en presentaciones  \n",
    "   - Link en la cabecera del repositorio GitHub  \n",
    "\n",
    "---\n"
   ]
  },
  {
   "cell_type": "markdown",
   "id": "36872955",
   "metadata": {},
   "source": [
    "\n",
    "### **Análisis para Ciclo IAE**  \n",
    "**Herramientas**:  \n",
    "- **NVivo**: Para análisis temático de respuestas cualitativas  \n",
    "- **Google Data Studio**: Dashboard automático con:  \n",
    "  - Evolución temporal de competencias  \n",
    "  - Nube de palabras de sugerencias frecuentes  \n",
    "\n",
    "**Integración con Fases IAE**:  \n",
    "1. **Diagnóstico**: Identificar brechas recurrentes (ej.: dificultad con SVD)  \n",
    "2. **Acción**: Ajustar próximas clases (ej.: taller extra de descomposición matricial)  \n",
    "3. **Reflexión**: Comparar resultados entre ciclos (ej.: mejora en % de dominio de vectores)  \n",
    "\n",
    "**Ejemplo de Pregunta Clave para el Análisis**:  \n",
    "*\"¿Qué tema del módulo actual requirió más tiempo de práctica para su comprensión?\"*  \n",
    "\n",
    "---\n"
   ]
  },
  {
   "cell_type": "markdown",
   "id": "6d92b57d",
   "metadata": {},
   "source": [
    "\n",
    "### **Modelo de Informe Parcial** *(Para socializar con estudiantes)*  \n",
    "```markdown\n",
    "## Resultados Evaluación Ciclo 3 (2025-1)  \n",
    "- **85%** mejoró en interpretación de matrices aplicadas  \n",
    "- **Solicitud principal**: Más ejemplos con datos reales de cacaoteros  \n",
    "- **Ajustes implementados**:  \n",
    "  - Sesión extra con ingeniero de Agrosavia (25/05)  \n",
    "  - Dataset público de nutrientes en suelos arroceros añadido a GitHub  \n",
    "```\n"
   ]
  },
  {
   "cell_type": "markdown",
   "id": "b5c7eb34",
   "metadata": {},
   "source": [
    "\n",
    "Este diseño asegura que las evaluaciones:  \n",
    "✅ Sean **ágiles** (máx. 5 min por estudiante)  \n",
    "✅ Generen **datos accionables** para cada fase IAE  \n",
    "✅ Fomenten la **corresponsabilidad** en el proceso educativo  \n"
   ]
  },
  {
   "cell_type": "markdown",
   "id": "e2a5a506",
   "metadata": {},
   "source": [
    "\n",
    "¿Te gustaría que desarrolle las plantillas específicas de Google Forms o algún ajuste adicional para alinearlo mejor con tus módulos?"
   ]
  },
  {
   "cell_type": "markdown",
   "id": "10f43536",
   "metadata": {
    "slideshow": {
     "slide_type": "slide"
    }
   },
   "source": [
    "### Continue su aprendizaje en la siguiente clase a través del siguiente [vínculo]()"
   ]
  },
  {
   "cell_type": "markdown",
   "id": "53cc9115",
   "metadata": {
    "slideshow": {
     "slide_type": "slide"
    }
   },
   "source": [
    "## Agradecimientos  \n",
    "\n",
    "Doy gracias a Dios por la vida de mi Hijo Joseph Cañas Osorio y la madurez que ha alcanzado. Este hijo me enorgullece y me hace falta abrazarlo cada día. \n",
    "\n",
    "Y a mi esposa Yasmira Emperatriz Barboza Mogollón por su apoyo, orientación y acompañamiento. "
   ]
  },
  {
   "cell_type": "markdown",
   "id": "b6ba1c23",
   "metadata": {},
   "source": [
    "# Apéndice sobre calendarios y coordinaciones \n"
   ]
  },
  {
   "cell_type": "markdown",
   "id": "bf8b6499",
   "metadata": {},
   "source": [
    "## Calendario del semestre académico 2025-2  \n",
    "\n",
    "* Oferta de cursos: 29 de julio de 2025  \n",
    "\n",
    "Matrícula: 30 de julio de 2025  \n",
    "\n",
    "Ajustes de matrícula: 01 al 08 de agosto de 2025  \n",
    "\n",
    "Inicio de clases: 04 de agosto de 2025  \n",
    "\n",
    "Límite evaluación del 40%: 27 de septiembre de 2025  \n",
    "\n",
    "Terminación de clases: 22 de noviembre de 2025\n",
    "\n",
    "Exámenes finales: 24 al 29 de noviembre de 2025\n",
    "\n",
    "Habilitación y validación: 01 al 06 de diciembre 2025\n",
    "\n",
    "Terminación oficial del semestre: 09 de diciembre de 2025  "
   ]
  },
  {
   "cell_type": "markdown",
   "id": "667b9504",
   "metadata": {},
   "source": [
    "\n",
    "A continuación le envío el horario de la asignatura Cálculo Vectorial  \n",
    "\n",
    "Días:  \n",
    "Lunes - Hora: 7:00 a 12:00M  \n",
    "Fechas:  \n",
    "Febrero: 10-17-24                                          \n",
    " Marzo: 3-10-17-31                                                  \n",
    "Abril:7-21-28                                                   \n",
    "Mayo:5-12-19  \n",
    "\n",
    "Agradezco su apoyo, y si presenta alguna dificultad puede contactarme.  \n",
    "\n",
    "Cordialmente,  \n",
    "Juan Felipe Rivera Hernández  \n",
    "Contacto: 3106314300  "
   ]
  }
 ],
 "metadata": {
  "celltoolbar": "Slideshow",
  "kernelspec": {
   "display_name": ".venv",
   "language": "python",
   "name": "python3"
  },
  "language_info": {
   "codemirror_mode": {
    "name": "ipython",
    "version": 3
   },
   "file_extension": ".py",
   "mimetype": "text/x-python",
   "name": "python",
   "nbconvert_exporter": "python",
   "pygments_lexer": "ipython3",
   "version": "3.11.9"
  },
  "rise": {
   "enable_chalkboard": true,
   "theme": "sky",
   "transition": "zoom"
  }
 },
 "nbformat": 4,
 "nbformat_minor": 5
}
