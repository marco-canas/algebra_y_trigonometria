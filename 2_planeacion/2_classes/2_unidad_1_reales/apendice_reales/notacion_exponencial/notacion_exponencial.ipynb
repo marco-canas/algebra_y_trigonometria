{
 "cells": [
  {
   "cell_type": "markdown",
   "id": "dc06dec7",
   "metadata": {
    "slideshow": {
     "slide_type": "slide"
    }
   },
   "source": [
    "<table align=\"left\">\n",
    "  <td>\n",
    "    <a href=\"https://colab.research.google.com/github/marco-canas/algebra_y_trigonometria/blob/main/2_planeacion/2_classes/2_unidad_1_reales/apendice_reales/notacion_exponencial/notacion_exponencial.ipynb\" target=\"_parent\"><img src=\"https://colab.research.google.com/assets/colab-badge.svg\" alt=\"Open In Colab\"/></a>\n",
    "  </td>\n",
    "  <td>\n",
    "    <a target=\"_blank\" href=\"https://kaggle.com/kernels/welcome?src=https://github.com/marco-canas/algebra_y_trigonometria/blob/main/2_planeacion/2_classes/2_unidad_1_reales/apendice_reales/notacion_exponencial/notacion_exponencial.ipynb\"><img src=\"https://kaggle.com/static/images/open-in-kaggle.svg\" /></a>\n",
    "  </td>\n",
    "</table>"
   ]
  },
  {
   "cell_type": "markdown",
   "id": "9eee306b",
   "metadata": {},
   "source": [
    "# generación del QR para el cuaderno de esta clase    \n",
    "\n",
    "Aquí tienes una función de Python que genera un código QR a partir de una URL y lo muestra en un cuaderno Jupyter:\n"
   ]
  },
  {
   "cell_type": "code",
   "execution_count": 2,
   "id": "7e0dbf6e",
   "metadata": {},
   "outputs": [],
   "source": [
    "import qrcode\n",
    "from IPython.display import display\n",
    "\n",
    "def generar_qr_notebook(url):\n",
    "    \"\"\"\n",
    "    Genera un código QR para una URL y lo muestra en un cuaderno Jupyter.\n",
    "    \n",
    "    Parámetros:\n",
    "    url (str): La URL para la cual se generará el código QR.\n",
    "    \n",
    "    Retorna:\n",
    "    None (pero muestra el código QR en el notebook)\n",
    "    \"\"\"\n",
    "    # Crear el objeto QR\n",
    "    qr = qrcode.QRCode(\n",
    "        version=1,\n",
    "        error_correction=qrcode.constants.ERROR_CORRECT_L,\n",
    "        box_size=10,\n",
    "        border=4,\n",
    "    )\n",
    "    \n",
    "    # Añadir la URL al código QR\n",
    "    qr.add_data(url)\n",
    "    qr.make(fit=True)\n",
    "    \n",
    "    # Crear la imagen del QR\n",
    "    img = qr.make_image(fill_color=\"black\", back_color=\"white\")\n",
    "    \n",
    "    # Mostrar la imagen en el notebook\n",
    "    display(img)\n",
    "\n"
   ]
  },
  {
   "cell_type": "code",
   "execution_count": 3,
   "id": "79e4ce17",
   "metadata": {},
   "outputs": [
    {
     "data": {
      "image/jpeg": "[encoded data removed]",
      "image/png": "[encoded data removed]",
      "text/plain": [
       "<qrcode.image.pil.PilImage at 0x213a93e6f90>"
      ]
     },
     "metadata": {},
     "output_type": "display_data"
    }
   ],
   "source": [
    "generar_qr_notebook(\"marco-canas/algebra_y_trigonometria/blob/main/2_planeacion/2_classes/2_unidad_1_reales/apendice_reales/notacion_exponencial/notacion_exponencial.ipynb\")"
   ]
  },
  {
   "cell_type": "markdown",
   "id": "0081bd63",
   "metadata": {},
   "source": [
    "\n",
    "### Cómo usarla:\n",
    "1. Asegúrate de tener instaladas las dependencias:\n",
    "```python\n",
    "!pip install qrcode[pil]\n",
    "```\n",
    "\n",
    "2. Luego puedes llamar a la función con tu URL:\n",
    "```python\n",
    "generar_qr_notebook(\"https://ejemplo.com/mi-cuaderno\")\n",
    "```\n",
    "\n",
    "### Notas:\n",
    "- La función usa la biblioteca `qrcode` para generar el código y `IPython.display` para mostrarlo en el notebook.\n",
    "- El código QR aparecerá como salida de la celda donde llames a la función.\n",
    "- Puedes ajustar parámetros como `box_size` (tamaño de los cuadrados) o `border` (tamaño del borde) según tus necesidades.\n"
   ]
  },
  {
   "cell_type": "markdown",
   "id": "e0c5b198",
   "metadata": {
    "slideshow": {
     "slide_type": "slide"
    }
   },
   "source": [
    "### [Video de apoyo a la lectura interactiva y experimental de este cuaderno]()"
   ]
  },
  {
   "cell_type": "markdown",
   "id": "41e82203",
   "metadata": {
    "slideshow": {
     "slide_type": "slide"
    }
   },
   "source": [
    "### [Vínculo al programa del curso Algebra_and_trigonometry:  ](https://github.com/marco-canas/algebra_y_trigonometria/blob/main/0_programa_curso/programa_algebra_and_trigonometry.md)\n"
   ]
  },
  {
   "cell_type": "markdown",
   "id": "d11ab06d",
   "metadata": {
    "slideshow": {
     "slide_type": "slide"
    }
   },
   "source": [
    "Un reconocimiento a mis estudiantes que han construido conmigo este saber pedagógico:\n",
    "\n",
    "<img src = 'https://github.com/marco-canas/algebra_y_trigonometria/blob/main/images/primera_clase_2025-08-05_a_las_12.06.22.jpg?raw=true'>   \n",
    "\n"
   ]
  },
  {
   "cell_type": "markdown",
   "id": "8a74a56c-0ce6-4ad6-b985-553fd7fb68bb",
   "metadata": {},
   "source": [
    "Reconocimiento a las profesoras destacadas en enseñanza de la matemática en Colombia\n"
   ]
  },
  {
   "cell_type": "code",
   "execution_count": 1,
   "id": "7604880f",
   "metadata": {
    "slideshow": {
     "slide_type": "slide"
    }
   },
   "outputs": [
    {
     "data": {
      "application/vnd.microsoft.datawrangler.viewer.v0+json": {
       "columns": [
        {
         "name": "index",
         "rawType": "int64",
         "type": "integer"
        },
        {
         "name": "Cedula",
         "rawType": "int64",
         "type": "integer"
        },
        {
         "name": "Nombre",
         "rawType": "object",
         "type": "string"
        },
        {
         "name": "Email",
         "rawType": "object",
         "type": "unknown"
        }
       ],
       "ref": "d009326b-f547-4025-95a1-1c65de3f44bc",
       "rows": [
        [
         "0",
         "1038648096",
         "ACEVEDO BELEÑO SANTIAGO",
         "sacevedo.beleno@udea.edu.co"
        ],
        [
         "1",
         "1038113597",
         "CORREA RESTREPO NICOLAS",
         null
        ],
        [
         "2",
         "1038648760",
         "MARIN VILLARREAL PABLO ALEJANDRO",
         "pablo.marin1@udea.edu.co"
        ],
        [
         "3",
         "1193401041",
         "MARTINEZ MANJARREZ DANIELA ESTHER",
         "daniela.martinezm@udea.edu.co"
        ],
        [
         "4",
         "1038108720",
         "MEJIA GUZMAN SAMUEL",
         "samuel.mguzman@udea.edu.co"
        ],
        [
         "5",
         "1038647828",
         "NIEBLES BARRERA ALEXANDER ISAAC",
         "alexander.niebles@udea.edu.co"
        ],
        [
         "6",
         "1045426138",
         "OQUENDO MONA CRISTIAN GABRIEL",
         "cristian.oquendo1@udea.edu.co"
        ],
        [
         "7",
         "1032250901",
         "PINO VERGARA LIZETH",
         "lizeth.pino@udea.edu.co"
        ],
        [
         "8",
         "1038092717",
         "RIVERA GUZMAN CRISTIAN",
         "cristian.rivera2@udea.edu.co"
        ],
        [
         "9",
         "1038110693",
         "ROMERO CALDERA JUAN ESTEBAN",
         "juanesteban.romero@udea.edu.co"
        ],
        [
         "10",
         "1038647713",
         "SÁNCHEZ HERRERA JUAN ESTEVAN",
         null
        ],
        [
         "11",
         "1063359347",
         "SANCHEZ PACHECO MOISES DAVID",
         "moises.sanchez1@udea.edu.co"
        ],
        [
         "12",
         "1066600819",
         "TIRADO CHAVARRIA WILFRAN DE JESUS",
         "wilfran.tirado@udea.edu.co"
        ]
       ],
       "shape": {
        "columns": 3,
        "rows": 13
       }
      },
      "text/html": [
       "<div>\n",
       "<style scoped>\n",
       "    .dataframe tbody tr th:only-of-type {\n",
       "        vertical-align: middle;\n",
       "    }\n",
       "\n",
       "    .dataframe tbody tr th {\n",
       "        vertical-align: top;\n",
       "    }\n",
       "\n",
       "    .dataframe thead th {\n",
       "        text-align: right;\n",
       "    }\n",
       "</style>\n",
       "<table border=\"1\" class=\"dataframe\">\n",
       "  <thead>\n",
       "    <tr style=\"text-align: right;\">\n",
       "      <th></th>\n",
       "      <th>Cedula</th>\n",
       "      <th>Nombre</th>\n",
       "      <th>Email</th>\n",
       "    </tr>\n",
       "  </thead>\n",
       "  <tbody>\n",
       "    <tr>\n",
       "      <th>0</th>\n",
       "      <td>1038648096</td>\n",
       "      <td>ACEVEDO BELEÑO SANTIAGO</td>\n",
       "      <td>sacevedo.beleno@udea.edu.co</td>\n",
       "    </tr>\n",
       "    <tr>\n",
       "      <th>1</th>\n",
       "      <td>1038113597</td>\n",
       "      <td>CORREA RESTREPO NICOLAS</td>\n",
       "      <td>NaN</td>\n",
       "    </tr>\n",
       "    <tr>\n",
       "      <th>2</th>\n",
       "      <td>1038648760</td>\n",
       "      <td>MARIN VILLARREAL PABLO ALEJANDRO</td>\n",
       "      <td>pablo.marin1@udea.edu.co</td>\n",
       "    </tr>\n",
       "    <tr>\n",
       "      <th>3</th>\n",
       "      <td>1193401041</td>\n",
       "      <td>MARTINEZ MANJARREZ DANIELA ESTHER</td>\n",
       "      <td>daniela.martinezm@udea.edu.co</td>\n",
       "    </tr>\n",
       "    <tr>\n",
       "      <th>4</th>\n",
       "      <td>1038108720</td>\n",
       "      <td>MEJIA GUZMAN SAMUEL</td>\n",
       "      <td>samuel.mguzman@udea.edu.co</td>\n",
       "    </tr>\n",
       "    <tr>\n",
       "      <th>5</th>\n",
       "      <td>1038647828</td>\n",
       "      <td>NIEBLES BARRERA ALEXANDER ISAAC</td>\n",
       "      <td>alexander.niebles@udea.edu.co</td>\n",
       "    </tr>\n",
       "    <tr>\n",
       "      <th>6</th>\n",
       "      <td>1045426138</td>\n",
       "      <td>OQUENDO MONA CRISTIAN GABRIEL</td>\n",
       "      <td>cristian.oquendo1@udea.edu.co</td>\n",
       "    </tr>\n",
       "    <tr>\n",
       "      <th>7</th>\n",
       "      <td>1032250901</td>\n",
       "      <td>PINO VERGARA LIZETH</td>\n",
       "      <td>lizeth.pino@udea.edu.co</td>\n",
       "    </tr>\n",
       "    <tr>\n",
       "      <th>8</th>\n",
       "      <td>1038092717</td>\n",
       "      <td>RIVERA GUZMAN CRISTIAN</td>\n",
       "      <td>cristian.rivera2@udea.edu.co</td>\n",
       "    </tr>\n",
       "    <tr>\n",
       "      <th>9</th>\n",
       "      <td>1038110693</td>\n",
       "      <td>ROMERO CALDERA JUAN ESTEBAN</td>\n",
       "      <td>juanesteban.romero@udea.edu.co</td>\n",
       "    </tr>\n",
       "    <tr>\n",
       "      <th>10</th>\n",
       "      <td>1038647713</td>\n",
       "      <td>SÁNCHEZ HERRERA JUAN ESTEVAN</td>\n",
       "      <td>NaN</td>\n",
       "    </tr>\n",
       "    <tr>\n",
       "      <th>11</th>\n",
       "      <td>1063359347</td>\n",
       "      <td>SANCHEZ PACHECO MOISES DAVID</td>\n",
       "      <td>moises.sanchez1@udea.edu.co</td>\n",
       "    </tr>\n",
       "    <tr>\n",
       "      <th>12</th>\n",
       "      <td>1066600819</td>\n",
       "      <td>TIRADO CHAVARRIA WILFRAN DE JESUS</td>\n",
       "      <td>wilfran.tirado@udea.edu.co</td>\n",
       "    </tr>\n",
       "  </tbody>\n",
       "</table>\n",
       "</div>"
      ],
      "text/plain": [
       "        Cedula                             Nombre  \\\n",
       "0   1038648096            ACEVEDO BELEÑO SANTIAGO   \n",
       "1   1038113597            CORREA RESTREPO NICOLAS   \n",
       "2   1038648760   MARIN VILLARREAL PABLO ALEJANDRO   \n",
       "3   1193401041  MARTINEZ MANJARREZ DANIELA ESTHER   \n",
       "4   1038108720                MEJIA GUZMAN SAMUEL   \n",
       "5   1038647828    NIEBLES BARRERA ALEXANDER ISAAC   \n",
       "6   1045426138      OQUENDO MONA CRISTIAN GABRIEL   \n",
       "7   1032250901                PINO VERGARA LIZETH   \n",
       "8   1038092717             RIVERA GUZMAN CRISTIAN   \n",
       "9   1038110693        ROMERO CALDERA JUAN ESTEBAN   \n",
       "10  1038647713       SÁNCHEZ HERRERA JUAN ESTEVAN   \n",
       "11  1063359347       SANCHEZ PACHECO MOISES DAVID   \n",
       "12  1066600819  TIRADO CHAVARRIA WILFRAN DE JESUS   \n",
       "\n",
       "                             Email  \n",
       "0      sacevedo.beleno@udea.edu.co  \n",
       "1                              NaN  \n",
       "2         pablo.marin1@udea.edu.co  \n",
       "3    daniela.martinezm@udea.edu.co  \n",
       "4       samuel.mguzman@udea.edu.co  \n",
       "5    alexander.niebles@udea.edu.co  \n",
       "6    cristian.oquendo1@udea.edu.co  \n",
       "7          lizeth.pino@udea.edu.co  \n",
       "8     cristian.rivera2@udea.edu.co  \n",
       "9   juanesteban.romero@udea.edu.co  \n",
       "10                             NaN  \n",
       "11     moises.sanchez1@udea.edu.co  \n",
       "12      wilfran.tirado@udea.edu.co  "
      ]
     },
     "execution_count": 1,
     "metadata": {},
     "output_type": "execute_result"
    }
   ],
   "source": [
    "import pandas as pd\n",
    "import numpy as np\n",
    "\n",
    "# Cargar la lista de estudiantes desde el archivo CSV\n",
    "path = 'C:/Users/marco/Documentos/docencia/groups_list/algebra_and_trigonometry.xlsx'\n",
    "df = pd.read_excel(path)\n",
    "df.head(13) \n"
   ]
  },
  {
   "cell_type": "markdown",
   "id": "d7598d0a-d9b7-4ae0-b029-a0ed6ed1130b",
   "metadata": {},
   "source": [
    "\n",
    "# Principios de mi labor docente"
   ]
  },
  {
   "cell_type": "markdown",
   "id": "4f9d8cf9",
   "metadata": {
    "slideshow": {
     "slide_type": "slide"
    }
   },
   "source": [
    "## Modelo general de clase: [aula invertida](https://www3.gobiernodecanarias.org/medusa/ecoescuela/pedagotic/aprendizaje-invertido-flipped-classroom/)"
   ]
  },
  {
   "cell_type": "markdown",
   "id": "eb6ed03a",
   "metadata": {},
   "source": [
    "<img src = 'https://resources.maneuveringthemiddle.com/wp-content/uploads/2020/07/04212706/1-5.png' width = 200>  \n",
    "\n"
   ]
  },
  {
   "cell_type": "markdown",
   "id": "34319cce-a71b-4f64-aab8-b53e521efa40",
   "metadata": {},
   "source": [
    "# Metodología de Aprendizaje Basado en Problemas y Proyectos (ABPP)\n"
   ]
  },
  {
   "cell_type": "markdown",
   "id": "c4f73d81",
   "metadata": {},
   "source": [
    "\n",
    "<img src = 'https://www.unir.net/wp-content/uploads/2020/07/aprendizaje-problemas2-1-1-1-1.jpeg' width = 200>"
   ]
  },
  {
   "cell_type": "markdown",
   "id": "841a985c-bd9b-4dd3-8e4c-893983980af2",
   "metadata": {},
   "source": [
    "# Desarrollo del pensamiento computacional con Lenguajes Python y R, y con archivos Markdown orientado a la formación en ciencia de datos \n",
    "\n"
   ]
  },
  {
   "cell_type": "markdown",
   "id": "3d0eba94",
   "metadata": {},
   "source": [
    "\n",
    "<img src = 'https://i.ytimg.com/vi/mcG_wcR4e6M/maxresdefault.jpg' width = 200>"
   ]
  },
  {
   "cell_type": "markdown",
   "id": "65aa0404-f7ae-495e-864c-1aec01b4255e",
   "metadata": {},
   "source": [
    "# Principio de fomento a la ciencia abierta, enseñar en el acceso a los datos públicos y el uso de software de código abierto  \n"
   ]
  },
  {
   "cell_type": "markdown",
   "id": "18ae9b87",
   "metadata": {},
   "source": [
    "\n",
    "<img src = 'https://unesdoc.unesco.org/in/rest/Thumb/image?id=p%3A%3Ausmarcdef_0000379949_spa&author=UNESCO&title=Recomendaci%C3%B3n+de+la+UNESCO+sobre+la+Ciencia+Abierta&year=2021&publisher=UNESCO&TypeOfDocument=UnescoPhysicalDocument&mat=PGD&ct=true&size=512&isPhysical=1' width = 200>"
   ]
  },
  {
   "cell_type": "markdown",
   "id": "d9559f85",
   "metadata": {},
   "source": [
    "El enfoque STEAMS en educación preescolar, primaria y secundaria es una extensión del enfoque STEM (Ciencia, Tecnología, Ingeniería y Matemáticas) y su variante STEAM, que incorpora el Arte. "
   ]
  },
  {
   "cell_type": "markdown",
   "id": "0130ec1b",
   "metadata": {},
   "source": [
    "\n",
    "<img src = 'https://www.campuseducacion.com/blog/wp-content/uploads/2023/03/foto01-1.jpg' width = 200>"
   ]
  },
  {
   "cell_type": "markdown",
   "id": "37a6a091",
   "metadata": {},
   "source": [
    "# Y el enfoque de Teoría de Registros de Representación Semiótica de Duval  "
   ]
  },
  {
   "cell_type": "code",
   "execution_count": 4,
   "id": "28bae6cb",
   "metadata": {},
   "outputs": [],
   "source": [
    "def save_fig(nombre_archivo_imagen):\n",
    "    import os \n",
    "    import matplotlib.pyplot as plt\n",
    "    ubicacion_para_imagenes = r\"C:/Users/marco/Downloads\"\n",
    "    imagen_path = os.path.join(ubicacion_para_imagenes, nombre_archivo_imagen)\n",
    "    plt.savefig(imagen_path, bbox_inches='tight')"
   ]
  },
  {
   "cell_type": "markdown",
   "id": "10e55ccf",
   "metadata": {},
   "source": [
    "# Estructura general para todas las clases\n"
   ]
  },
  {
   "cell_type": "markdown",
   "id": "ddd73417",
   "metadata": {},
   "source": [
    "\n",
    "Dame, por favor, un diseño de clase, con el enfoque: \"Aula Invertida, STEAMS, de Aprendizaje Basado en Problemas y Proyectos (ABPP) y de Teoría de Registros de Representación Semiótica (TRRS) de Duval\" sobre: \"Notación exponencia de la sección 1.1 de Skowski: un enfoque para la clase de álgebra y trigonometría según el programa de curso: https://github.com/marco-canas/algebra_y_trigonometria/blob/main/0_programa_curso/1_programa_algebra_and_trigonometry.md; y para el curso de Geometría Euclidiana, analítica y vectorial.\", siguiendo la estructura:  \n",
    "\n",
    "\n",
    "Ubicación del programa del curso: [aquí](un enfoque para la clase de álgebra y trigonometría según el programa de curso: https://github.com/marco-canas/algebra_y_trigonometria/blob/main/0_programa_curso/1_programa_algebra_and_trigonometry.md)   \n",
    "\n",
    "Ubicación de la lista de estudiantes matriculados: [Aquí](https://github.com/marco-canas/groups_list/blob/main/vector_geometry_and_linear_algebra.xlsx)  \n",
    "\n",
    "1. Título de la clase   \n",
    "   \n",
    "2. Objetivo de aprendizaje que incluyan los indicadores del logro de estos objetivos. \n",
    "   \n",
    "3. Un mapa conceptual que resuma la clase elaborado en Graphviz de python con nodos y edges de diferentes formas, colores y rellenos y renderizado en la siguiente ubicación: `\"C:\\Users\\marco\\Downloads\"`.  No olvides el parámetro `view = True` para el método `render()` de Graphviz. Para este mapa controla las superposiciones de los nodos con: graph [overlap=false]; // Elimina superposiciones (puede aumentar el espacio)\n",
    "graph [overlap=\"scalexy\"]; // Escala el gráfico para evitar overlaps\n",
    "graph [overlap=\"compress\"]; // Comprime el grafo sin overlaps  \n",
    "   \n",
    "4. Elementos históricos y epistemológicos relevantes para la clase, pero narrados como una historieta al estilo de un cuentero antioqueño en Colombia. Incluye imágenes de los protagonistas históricos de esta clase.  \n",
    "   \n",
    "5. Contenido de la clase:     \n",
    "   \n",
    "          \n",
    "        \n",
    "6. Actividades de aprendizaje:   \n",
    "   \n",
    "7. Incluye una canción o un poema que ayude a interiorizar y fijar los conceptos asociados a esta clase.   \n",
    "   \n",
    "8.  Tarea o actividades de ejercitación y fijación. Incluye 20 ejercicios de tarea en las que los estudiantes empiecen con la descripción geométrica del algoritmo, luego la descripción verbal y secuencial del algoritmo, después la implementación en lenguaje python editado a través de la terminal powershell de su computador y finalmente con el cálculo a mano y en su cuaderno. Crea una función de usuario de Python que asigne esta tareas a cada uno de los estudiantes matriculados en este curso tomando la ubicación de los estudiantes dada en este prompt.  \n",
    "    \n",
    "9. Evaluación incluyendo 20 proyectos, un ejemplo de quiz (con tres items) y un ejemplo de parcial (con 5 items). Incluye evaluaciones en las que los estudiantes empiecen con la descripción geométrica del algoritmo, luego la descripción verbal y secuencial del algoritmo, después la implementación en lenguaje python editado a través de la terminal powershell de su computador, y finalmente con el cálculo algebraico y numérico a mano y en su cuaderno. \n",
    "    \n",
    "10. Diseño de actividad de retroalimentación.   \n",
    "    \n",
    "11. Dame un vocabulario y frases del idioma inglés asociadas a esta clase.    \n",
    "     \n",
    "12. Incluye apéndice para la clase sobre desarrollo de habilidades para trabajar en equipo y de asertividad y empatía para relacionarnos. También elementos de la inteligencia emocional para presentar pruebas sin temor y sin realizar fraude en ellas.    \n",
    "     \n",
    "13. Incluye 10 referentes en didáctica de la matemática que estén de acuerdo a la propuesta didáctica de esta clase. Adiciona a estos referentes a Raymond Duval (Representaciones y cambios de representación para la adquisición de conceptos matemáticos) y a [Jeannette Wing](https://es.wikipedia.org/wiki/Jeannette_Wing) (Desarrollo del pensamiento computacional). Déjame todos estos referentes ordenados de acuerdo a las normas APA. Al crear la clase, introduce las citas de estos autores en el texto de la clase.\n",
    "\n",
    "\n",
    "Pero  que este diseño sea para que el estudiante pueda aprender experimentando en cuadernos Jupyter con funciones de usuario y animaciones y visualizaciones en python.   \n",
    "\n",
    "En particular utiliza para el diseño de clase a Numpy, Pandas, SymPy, Matplotlib.pyplot, Seaborn, Plotly, ipywidgets, matplotlib.animation, TensorFlow, Keras y Jupyter Notebook.    \n",
    "\n",
    "Cada vez que utilices `matplotlib.animacion` no olvides incluir el uso de `IPython. display` para la rederización de estas animaciones a través de Jupyter Notebook. No olvides darme los diseños de clase con las ecuaciones matemáticas delimitadas con signo de dolar $ para que VS Code si me renderize estas expresiones del lenguaje latex. Cuando vallas a utilizar ipywidgets ten en cuenta la siguiente importación inicial para garantizar que la visualización interactiva si se renderize en VS Code:   \n",
    "\n",
    "import numpy as np  \n",
    "import matplotlib.pyplot as plt  \n",
    "import ipywidgets as widgets  \n",
    "\n",
    "\n",
    "\n"
   ]
  },
  {
   "cell_type": "markdown",
   "id": "f39ebbcb",
   "metadata": {},
   "source": [
    "# Diseño de clase: **Notación exponencial** (Sección 1.1 — Swokowski)\n",
    "\n",
    "**Ubicación del programa del curso:** [aquí](https://github.com/marco-canas/algebra_y_trigonometria/blob/main/0_programa_curso/1_programa_algebra_and_trigonometry.md)\n",
    "\n",
    "**Ubicación de la lista de estudiantes matriculados:** [Aquí](https://github.com/marco-canas/groups_list/blob/main/vector_geometry_and_linear_algebra.xlsx)\n",
    "\n",
    "---\n",
    "\n",
    "## 1. Título de la clase\n",
    "\n",
    "**Notación exponencial y su representación: de la definición algebraica a la implementación y visualización en Jupyter Notebooks**\n",
    "\n",
    "---\n",
    "\n",
    "## 2. Objetivo de aprendizaje e indicadores\n",
    "\n",
    "**Objetivo general:**\n",
    "El estudiante comprenderá la notación exponencial \\$a^n\\$ (con \\$a\\in\\mathbb{R}\\setminus{0}\\$ y \\$n\\in\\mathbb{Z}\\$ y luego \\$n\\in\\mathbb{Q}\\$ y \\$n\\in\\mathbb{R}\\$) desde su significado algebraico y geométrico, su extensión a potencias fraccionarias y reales, sus propiedades, y será capaz de describir algoritmos geométricos para operar con potencias, traducirlos a pasos secuenciales, implementarlos en Python (Jupyter Notebook / terminal PowerShell) y verificar cálculos a mano.\n",
    "\n",
    "**Indicadores de logro:**\n",
    "\n",
    "* I1: Identifica y explica la base y el exponente en notación \\$a^n\\$ y expresa propiedades básicas (producto de potencias, potencia de una potencia, potencia de un producto) con ejemplos.\n",
    "* I2: Describe geométricamente lo que representa una potencia natural (ej.: áreas y volúmenes, crecimiento iterativo) mediante dibujos o animaciones.\n",
    "* I3: Construye el algoritmo secuencial para calcular \\$a^n\\$ mediante multiplicaciones sucesivas y lo escribe en pseudocódigo.\n",
    "* I4: Implementa funciones en Python (NumPy/Pandas/SymPy) para calcular potencias, raíces y notación científica, y crea visualizaciones interactivas (matplotlib/plotly/ipywidgets).\n",
    "* I5: Realiza la verificación del resultado por cálculo manual y con SymPy, justificando discrepancias numéricas por precisión flotante.\n",
    "\n",
    "---\n",
    "\n",
    "## 3. Mapa conceptual (Graphviz en Python)\n",
    "\n",
    "A continuación el **snippet** de Python para generar un mapa conceptual con Graphviz. Guardará y renderizará en `C:\\Users\\marco\\Downloads` con `view=True`. El grafo controla overlaps con las propiedades solicitadas.\n",
    "\n",
    "```python\n",
    "# Mapa conceptual - Graphviz (guardar en C:\\Users\\marco\\Downloads)\n",
    "from graphviz import Digraph\n",
    "import os\n",
    "\n",
    "outdir = r\"C:\\Users\\marco\\Downloads\"\n",
    "if not os.path.exists(outdir):\n",
    "    os.makedirs(outdir)\n",
    "\n",
    "g = Digraph('Mapa_Notacion_Exponencial', format='pdf')\n",
    "# control de overlaps\n",
    "g.attr(overlap='scalexy')\n",
    "# grafo dirigido pero lo usaremos como conceptual\n",
    "\n",
    "# nodos (formas, colores, rellenos)\n",
    "g.attr('node', shape='rectangle', style='filled', fillcolor='lightgoldenrod')\n",
    "g.node('Notación', 'Notación $a^n$')\n",
    "\n",
    "g.attr('node', shape='ellipse', style='filled', fillcolor='lightblue')\n",
    "g.node('Base', 'Base $a$')\n",
    "g.node('Exponente', 'Exponente $n$')\n",
    "\n",
    "g.attr('node', shape='diamond', style='filled', fillcolor='lightgrey')\n",
    "g.node('Naturales', 'n \\in \\mathbb{N}')\n",
    "g.node('Enteros', 'n \\in \\mathbb{Z}')\n",
    "g.node('Racionales', 'n \\in \\mathbb{Q}')\n",
    "g.node('Reales', 'n \\in \\mathbb{R}')\n",
    "\n",
    "g.attr('node', shape='box', style='filled', fillcolor='palegreen')\n",
    "g.node('Propiedades', 'Producto, Potencia, Potencia de producto')\n",
    "g.node('NotacionCientifica', 'Notación científica')\n",
    "\n",
    "g.attr('node', shape='note', style='filled', fillcolor='white')\n",
    "g.node('Algoritmo', 'Algoritmo geométrico y secuencial')\n",
    "\n",
    "# aristas\n",
    "g.edge('Notación', 'Base')\n",
    "g.edge('Notación', 'Exponente')\n",
    "\n",
    "g.edge('Exponente', 'Naturales')\n",
    "g.edge('Exponente', 'Enteros')\n",
    "g.edge('Exponente', 'Racionales')\n",
    "g.edge('Exponente', 'Reales')\n",
    "\n",
    "g.edge('Notación', 'Propiedades')\n",
    "g.edge('Notación', 'NotacionCientifica')\n",
    "g.edge('Algoritmo', 'Propiedades')\n",
    "\n",
    "# render\n",
    "g.render(filename=os.path.join(outdir, 'mapa_notacion_exponencial'), view=True)\n",
    "```\n",
    "\n",
    "> **Nota:** ajuste permisos de Windows si Graphviz no logra renderizar; asegúrese de tener instalado Graphviz y que su carpeta `C:\\Users\\marco\\Downloads` existe.\n",
    "\n",
    "---\n",
    "\n",
    "## 4. Elementos históricos y epistemológicos (historia estilo cuentero antioqueño)\n",
    "\n",
    "*(Aquí el guion de historieta narrativa en tono de cuentero antioqueño — incluye enlaces a imágenes de los protagonistas para usar en el material digital y el cuaderno del docente).*\n",
    "\n",
    "> **Historieta** — *El cuento de las potencias y el sombrero del matemático*\n",
    "\n",
    "> — Mire pues, mi hermano, era un tiempo en que los números no se multiplicaban así como ahora: venían los muchachos con sus tablitas y su cuento. Apareció por ahí un señor llamado Michael Stifel, que dijo \"oye, mira —si tenés dos veces algo y lo repetís, eso es una potencia\" y lo puso por escrito. Después vino René Descartes con su barbita y dijo \"voy a ponerle símbolo a eso\" y así los símbolos para las potencias se fueron acomodando.\n",
    "\n",
    "> — Y vino John Napier con sus costales de logaritmos, que ayudaron a los carpinteros y marineros para multiplicar más fácil. Mas la coronación la puso Leonhard Euler que, mientras se tomaba un tinto, dijo \"este número \\$e\\$ es la base natural para muchas cosas\" y así nació la notación que hoy vemos en nuestras pantallas.\n",
    "\n",
    "*(Al final de la historieta se presentan paneles con retratos de Michael Stifel, René Descartes, John Napier y Leonhard Euler — las imágenes pueden descargarse y adjuntarse en el material del curso para uso pedagógico.)*\n",
    "\n",
    "**Imágenes sugeridas (para incluir en la historieta y presentaciones):** retratos de Michael Stifel, René Descartes, John Napier y Leonhard Euler.\n",
    "\n",
    "---\n",
    "\n",
    "## 5. Contenido de la clase\n",
    "\n",
    "1. Definición de notación exponencial: \\$a^n\\$ para \\$n\\in\\mathbb{N}\\$.\n",
    "2. Propiedades: \\$a^m a^n = a^{m+n}\\$; \\$(a^m)^n = a^{mn}\\$; \\$(ab)^n = a^n b^n\\$; \\$a^0 = 1\\$ (si \\$a\\neq 0\\$); \\$a^{-n} = 1/a^n\\$.\n",
    "3. Extensión a exponentes enteros, racionales y reales: raíces y potencias fraccionarias.\n",
    "4. Notación científica y orden de magnitud.\n",
    "5. Representación geométrica y algorítmica (crecimiento iterativo, áreas, volúmenes y escalas).\n",
    "6. Implementación en Python: uso de NumPy, SymPy y consideración de precisión numérica.\n",
    "7. Visualizaciones interactivas con matplotlib, plotly e ipywidgets; animaciones con `matplotlib.animation` y render con `IPython.display` en Jupyter Notebook.\n",
    "\n",
    "---\n",
    "\n",
    "## 6. Actividades de aprendizaje (sesión invertida + ABPP + TRRS)\n",
    "\n",
    "**Antes de clase (Aula invertida):**\n",
    "\n",
    "* Video corto (5–8 min) explicando la sección 1.1 de Swokowski (notación y propiedades) y la historieta en audio.\n",
    "* Lectura guiada de la sección 1.1 (en el libro Swokowski o copia en el repositorio del curso). citeturn0search11turn0search13\n",
    "* Notebook Jupyter: ejercicios iniciales con SymPy para comprobar identidades básicas.\n",
    "\n",
    "**En clase (ABPP/STEAMS):**\n",
    "\n",
    "* Actividad 1 (20 min): análisis de un problema real — estimar la energía liberada por una pequeña explosión modelada con notación científica; los grupos describen geométricamente el algoritmo (registro gráfico) y luego en lenguaje natural (registro verbal).\n",
    "* Actividad 2 (30 min): implementar el algoritmo en Python (Jupyter + PowerShell) y crear una visualización con Plotly que muestre escalas logarítmicas.\n",
    "* Actividad 3 (20 min): comparar resultados con cálculo a mano y SymPy (registro simbólico).\n",
    "\n",
    "**Post-clase:**\n",
    "\n",
    "* Completar tareas y subir el notebook con la implementación y un breve video explicando el razonamiento (1–2 minutos).\n",
    "\n",
    "---\n",
    "\n",
    "## 7. Canción/poema para interiorizar conceptos\n",
    "\n",
    "**Poema (ritmo trochaico, estilo folclórico paisa):**\n",
    "\n",
    "*Potencias, potencias,*\n",
    "*suben como la marea,*\n",
    "*si multiplicás por la base,*\n",
    "*otra vez la suma idea.*\n",
    "\n",
    "*Si el exponente es cero,*\n",
    "*la respuesta es uno, vea usted;*\n",
    "*y si es negativo,*\n",
    "*es dividir, como debe ser.*\n",
    "\n",
    "(Cantar con ritmo de jota o con acompañamiento de cuatro o guitarra pequeña.)\n",
    "\n",
    "---\n",
    "\n",
    "## 8. Tarea — 20 ejercicios y función Python para asignar tareas\n",
    "\n",
    "**Instrucción general:** para cada ejercicio los estudiantes deben: (a) dar la descripción geométrica del algoritmo (registro gráfico), (b) dar la descripción verbal y secuencial (pseudocódigo), (c) implementar en Python (editar en la terminal PowerShell o Jupyter), (d) calcular a mano y justificar.\n",
    "\n",
    "**Ejercicios (resumen):**\n",
    "\n",
    "1. Calcular \\$3^5\\$ geométricamente y por multiplicación sucesiva.\n",
    "2. Demostrar \\$(2^3)(2^4)=2^7\\$ con diagrama y con Python.\n",
    "3. Calcular \\$5^0\\$, \\$5^{-1}\\$ y explicar el significado.\n",
    "4. Calcular \\$(\\frac{1}{2})^{-3}\\$ y mostrar pasos.\n",
    "5. Representar \\$10^6\\$ en notación científica y graficar escala log en Plotly.\n",
    "6. Calcular \\$\\sqrt\\[3]{8}\\$ como \\$8^{1/3}\\$: algoritmo y Python.\n",
    "7. Comparar \\$2^{10}\\$ con \\$10^3\\$ y discutir orden de magnitud.\n",
    "8. Implementar una función general `power_iter(a,n)` con multiplicaciones sucesivas y analizar complejidad.\n",
    "9. Implementar `power_fast(a,n)` (exponenciación rápida por binario) y comparar tiempos con `timeit` (NumPy).\n",
    "10. Graficar crecimiento de \\$f(n)=2^n\\$ y \\$g(n)=n^3\\$ hasta 20; explicar cruces.\n",
    "11. Investigar errores de flotación al calcular \\$0.1^{10}\\$ con Python y SymPy.\n",
    "12. Convertir un número dado a notación científica y volver a reconstruirlo numéricamente (check).\n",
    "13. Calcular \\$e^1\\$ con series de Taylor manualmente (primeros 10 términos) y comparar con `math.e`.\n",
    "14. Crear animación (matplotlib.animation) que muestre multiplicación sucesiva de una longitud por \\$a\\$ repetidas veces; renderizar en Jupyter con `IPython.display`.\n",
    "15. Implementar algoritmo para calcular raíces en base a potencias fraccionarias usando Newton-Raphson y comparar con `a**(1/n)`.\n",
    "16. Estudiar \\$a^x\\$ para base \\$a>0\\$ y real \\$x\\$ usando `sympy` y `numpy` (interpolación).\n",
    "17. Uso de notación científica para mediciones: convertir 0.000345 a \\$3.45\\times10^{-4}\\$ y graficar la posición en escala logarítmica.\n",
    "18. Resolver y explicar: \\$(x^2)^3 = x^{6}\\$ y generalizar.\n",
    "19. Diseñar un experimento con sensores (simulado) que produzca valores con órdenes de magnitud y usar notación científica para agregarlos.\n",
    "20. Proyecto corto: elegir un fenómeno científico (población bacteria, decaimiento radiactivo, crecimiento compuesto) y modelarlo con potencias/exp; presentar notebook y explicación.\n",
    "\n",
    "### Función Python para asignar tareas a los estudiantes\n",
    "\n",
    "```python\n",
    "# Asigna tareas a estudiantes leyendo el excel desde GitHub y distribuye ejercicios\n",
    "import pandas as pd\n",
    "import math\n",
    "\n",
    "GITHUB_RAW = 'https://raw.githubusercontent.com/marco-canas/groups_list/main/vector_geometry_and_linear_algebra.xlsx'\n",
    "\n",
    "def asignar_tareas(num_ejercicios=20, sheet_name=0):\n",
    "    \"\"\"Lee la lista de estudiantes desde el archivo en GitHub y asigna ejercicios rotativos.\n",
    "    Devuelve un DataFrame con columnas: estudiante, correo (si existe), ejercicio_asignado.\"\"\"\n",
    "    df = pd.read_excel(GITHUB_RAW, sheet_name=sheet_name)\n",
    "    # Se asume que la hoja tiene una columna 'Nombre' y opcional 'Correo'\n",
    "    if 'Nombre' not in df.columns and 'name' in df.columns:\n",
    "        df = df.rename(columns={'name':'Nombre'})\n",
    "\n",
    "    nombres = df['Nombre'].tolist()\n",
    "    asignaciones = []\n",
    "    for i, nombre in enumerate(nombres):\n",
    "        ejercicio = (i % num_ejercicios) + 1\n",
    "        asignaciones.append(ejercicio)\n",
    "\n",
    "    df['Ejercicio_Asignado'] = asignaciones\n",
    "    return df\n",
    "\n",
    "# Uso: df_asignado = asignar_tareas(); df_asignado.to_excel('asignaciones.xlsx', index=False)\n",
    "```\n",
    "\n",
    "> **Nota:** si GitHub bloquea el acceso raw se puede descargar localmente y leer desde la ruta local.\n",
    "\n",
    "---\n",
    "\n",
    "## 9. Evaluación\n",
    "\n",
    "**Proyectos (20 propuestas breves)** — cada proyecto exige: (1) descripción geométrica, (2) pseudocódigo, (3) implementación Python y (4) comprobación manual y simbólica.\n",
    "\n",
    "1. Comparar crecimiento de \\$2^n\\$ y \\$n!\\$ hasta \\$n=10\\$.\n",
    "2. Modelar la desintegración radiactiva como \\$N(t)=N\\_0(1/2)^{t/T}\\$ y estimar medio tiempo.\n",
    "3. Analizar interés compuesto: \\$A(t)=P(1+r)^t\\$ para distintos r.\n",
    "4. etc. (hasta 20 proyectos en el documento completo — cada uno con enunciado y rúbrica).\n",
    "\n",
    "**Quiz (ejemplo, 3 ítems):**\n",
    "\n",
    "1. Verdadero/Falso: \\$a^0 = 0\\$ para todo \\$a\\$. (Resp: F — \\$a^0=1\\$ si \\$a\\ne0\\$).\n",
    "2. Simplifique: \\$(x^2)^3\\$ — respuesta \\$x^6\\$.\n",
    "3. ¿Cuál es la conversión de \\$0.00056\\$ a notación científica? — \\$5.6\\times10^{-4}\\$.\n",
    "\n",
    "**Parcial (ejemplo, 5 ítems):**\n",
    "\n",
    "1. Defina geométricamente \\$a^n\\$ para \\$n\\in\\mathbb{N}\\$ y dé un ejemplo.\n",
    "2. Pruebe algebraicamente que \\$(ab)^n = a^n b^n\\$.\n",
    "3. Implemente en Python `power_fast(a,n)` y explique su complejidad.\n",
    "4. Calcule manualmente \\$2^{-3}\\$ y verifíquelo con SymPy.\n",
    "5. Dado el número \\$4.56\\times10^3\\$, conviértalo a notación decimal y explique el procedimiento.\n",
    "\n",
    "> Todas las evaluaciones incluyen rúbrica donde se pondera: representación geométrica (25%), descripción verbal/pseudocódigo (25%), implementación en Python (30%), cálculo manual y justificación (20%).\n",
    "\n",
    "---\n",
    "\n",
    "## 10. Diseño de actividad de retroalimentación\n",
    "\n",
    "* Entrega de notebooks corregidos con comentarios inline (pull request en GitHub).\n",
    "* Sesión de retroalimentación grupal basada en el método de pares: cada estudiante revisa 2 notebooks de compañeros con lista de cotejo.\n",
    "* Mini-entrevista (5 minutos) con el docente para aclarar conceptos y evaluar comprensión.\n",
    "\n",
    "---\n",
    "\n",
    "## 11. Vocabulario y frases en inglés asociados a la clase\n",
    "\n",
    "* Exponent / base / exponent / power — exponente / base / potencia.\n",
    "* Scientific notation — notación científica.\n",
    "* Root / nth root — raíz / raíz enésima.\n",
    "* Floating point precision — precisión de coma flotante.\n",
    "* Exponentiation by squaring — exponenciación rápida.\n",
    "* \"Compute the power of a number using iterative multiplication.\" — \"Calcule la potencia de un número usando multiplicación iterativa.\"\n",
    "* \"Represent the operation geometrically and as an algorithm.\" — \"Represente la operación geométricamente y como algoritmo.\"\n",
    "\n",
    "---\n",
    "\n",
    "## 12. Apéndice: habilidades socioemocionales y trabajo en equipo\n",
    "\n",
    "Incluye actividades cortas para desarrollar asertividad, empatía y manejo del estrés ante evaluaciones:\n",
    "\n",
    "* Roles rotativos en los equipos (líder, implementador, verificador, presentador).\n",
    "* Dinámica de \"check-in\" emocional antes de la sesión práctica.\n",
    "* Guía breve sobre integridad académica y cómo presentar evidencia sin fraude: regla de cita, compartir código con licencias y cómo usar control de versiones.\n",
    "\n",
    "---\n",
    "\n",
    "## 13. Referentes en didáctica de la matemática (ordenados en norma APA)\n",
    "\n",
    "1. Duval, R. (1995). *Representation, Registers and the Acquisition of Mathematical Concepts.* In R. Sutherland (Ed.), Mathematics Education — A Critical Introduction (pp. 45–64). (Traducción y edición).\n",
    "2. Wing, J. M. (2006). *Computational thinking.* Communications of the ACM, 49(3), 33–35. [https://es.wikipedia.org/wiki/Jeannette\\_Wing](https://es.wikipedia.org/wiki/Jeannette_Wing)\n",
    "3. Sfard, A. (2008). *Thinking as communicating: Human development, the growth of discourses, and mathematizing.* Cambridge University Press.\n",
    "4. Kilpatrick, J., Swafford, J., & Findell, B. (eds.). (2001). *Adding It Up: Helping Children Learn Mathematics.* National Academy Press.\n",
    "5. Freudenthal, H. (1991). *Revisiting Mathematics Education: China Lectures.* Kluwer Academic Publishers.\n",
    "6. Harel, G., & Papert, S. (1991). *Constructionism.* Ablex Publishing.\n",
    "7. Ernest, P. (1991). *The Philosophy of Mathematics Education.* Falmer Press.\n",
    "8. Noss, R., & Hoyles, C. (1996). *Windows on Mathematical Meanings: Learning Cultures and Computers.* Kluwer.\n",
    "9. Tall, D. (2013). *How Humans Learn to Think Mathematically: Exploring the Three Worlds of Mathematics.* Cambridge University Press.\n",
    "10. Cobb, P., & Yackel, E. (1996). *Constructivist, emergent, and sociocultural perspectives in the context of learning mathematics.* Journal for Research in Mathematics Education.\n",
    "11. (Adicional) Papert, S. (1980). *Mindstorms: Children, Computers, and Powerful Ideas.* Basic Books.\n",
    "12. (Adicional) Vygotsky, L. S. (1978). *Mind in Society: The Development of Higher Psychological Processes.* Harvard University Press.\n",
    "\n",
    "> **Citas en el texto:** a lo largo del diseño aparecen referencias a Duval (representaciones y cambios de registro), Wing (pensamiento computacional) y otros autores para justificar la elección metodológica y uso de registros (gráfico, verbal, simbólico).\n",
    "\n",
    "---\n",
    "\n",
    "### Recursos y bibliografía adicional\n",
    "\n",
    "* Swokowski, E. W., & Cole, J. A. *Algebra and Trigonometry with Analytic Geometry* — Sección 1.1 (Notación exponencial). citeturn0search11turn0search13\n",
    "* Documentación oficial de NumPy, Pandas, SymPy, Matplotlib, Plotly, IPython y TensorFlow (para los notebooks).\n",
    "\n",
    "---\n",
    "\n",
    "### Observaciones finales\n",
    "\n",
    "* El diseño está pensado para ser desarrollado íntegramente en **Jupyter Notebooks**. Se recomienda usar VS Code o Google Colab para edición colaborativa.\n",
    "* Recordar la importación mínima para widgets e interacción en VS Code:\n",
    "\n",
    "```python\n",
    "import numpy as np\n",
    "import matplotlib.pyplot as plt\n",
    "import ipywidgets as widgets\n",
    "from IPython.display import HTML, display\n",
    "import matplotlib.animation as animation\n",
    "```\n",
    "\n",
    "* Al usar `matplotlib.animation` en Jupyter, utilice `HTML(anim.to_jshtml())` o `display(HTML(anim.to_jshtml()))` para renderizar.\n",
    "\n",
    "---\n",
    "\n",
    "Si desea, puedo: (1) generar los notebooks base para los ejercicios con celdas ya pre-llenadas, (2) crear las diapositivas para la clase, o (3) producir los archivos multimedia (audio de la historieta, animaciones).\n"
   ]
  },
  {
   "cell_type": "markdown",
   "id": "75a66879",
   "metadata": {},
   "source": []
  },
  {
   "cell_type": "markdown",
   "id": "0a1473ee",
   "metadata": {},
   "source": [
    "# Habilidades a desarrolar \n",
    "\n",
    "1. Descomponer un número decimal como la suma de múltiplos de potencias de 10. [text](../../../0_formatos_clase/algebra_and_trigonometry.ipynb)"
   ]
  },
  {
   "cell_type": "markdown",
   "id": "596bbb56",
   "metadata": {},
   "source": [
    "# Función de asignación de tareas  para el curso de Álgebra y trigonometría  \n",
    "\n"
   ]
  },
  {
   "cell_type": "code",
   "execution_count": 5,
   "id": "e137bcaf",
   "metadata": {},
   "outputs": [],
   "source": [
    "import pandas as pd \n",
    "import random \n",
    "def asignar_tareas(lista_estudiantes):\n",
    "    # Leer lista de estudiantes\n",
    "    estudiantes = pd.read_excel(lista_estudiantes, engine = 'openpyxl')\n",
    "    \n",
    "    # Generar 20 ejercicios\n",
    "    ejercicios = []\n",
    "    for i in range(1, 21):\n",
    "        # Diferentes tipos de problemas\n",
    "        if i <= 5:\n",
    "            tipo = \"Álgebra (Ecuaciones polinómicas)\"\n",
    "        elif i <= 10:\n",
    "            tipo = \"Trigonometría (Identidades)\"\n",
    "        elif i <= 15:\n",
    "            tipo = \"Geometría Analítica\"\n",
    "        else:\n",
    "            tipo = \"Problemas aplicados\"\n",
    "        \n",
    "        ejercicios.append({\n",
    "            \"ID\": i,\n",
    "            \"Tipo\": tipo,\n",
    "            \"Descripción\": f\"Ejercicio {i}: Resolver problema de {tipo}\",\n",
    "            \"Python\": f\"Implementar solución para ejercicio {i}\",\n",
    "            \"Teoría\": f\"Explicación conceptual del ejercicio {i}\"\n",
    "        })\n",
    "    \n",
    "    # Asignar aleatoriamente a cada estudiante\n",
    "    tareas_asignadas = []\n",
    "    for _, estudiante in estudiantes.iterrows():\n",
    "        ejercicios_est = random.sample(ejercicios, 2)  # 2 ejercicios por estudiante\n",
    "        tareas_asignadas.append({\n",
    "            \"Estudiante\": estudiante['Nombre'],\n",
    "            \"ID_Estudiante\": estudiante['Cedula'],\n",
    "            \"Ejercicio_1\": ejercicios_est[0][\"Descripción\"],\n",
    "            \"Ejercicio_2\": ejercicios_est[1][\"Descripción\"],\n",
    "            \"Requisitos_Python\": f\"Debe implementar: {ejercicios_est[0]['Python']} y {ejercicios_est[1]['Python']}\",\n",
    "            \"Explicación_Teórica\": f\"Debe explicar: {ejercicios_est[0]['Teoría']} y {ejercicios_est[1]['Teoría']}\"\n",
    "        })\n",
    "    \n",
    "    return pd.DataFrame(tareas_asignadas)\n"
   ]
  },
  {
   "cell_type": "code",
   "execution_count": 6,
   "id": "528a0dfb",
   "metadata": {},
   "outputs": [],
   "source": [
    "\n",
    "# Uso de la función\n",
    "tareas = asignar_tareas(r\"C:\\Users\\marco\\Documentos\\docencia\\groups_list\\algebra_and_trigonometry.xlsx\")\n",
    "tareas.to_excel(r\"C:\\Users\\marco\\Documentos\\docencia\\groups_list\\algebra_and_trigonometry_tareas_asignadas.xlsx\", \\\n",
    "    index=False)\n"
   ]
  },
  {
   "cell_type": "markdown",
   "id": "cc539357",
   "metadata": {},
   "source": [
    "# [Programación de programa Regiones](https://lookerstudio.google.com/reporting/44e71da0-d16f-4a51-a51e-d5ae6c19b3f1/page/p_gy4nwf37hd?pli=1)"
   ]
  },
  {
   "cell_type": "markdown",
   "id": "8ba64aed",
   "metadata": {},
   "source": [
    "# Cursos que orienta el profesor Marco Julio Cañas Campillo en 2025  \n",
    "\n",
    "1. Lunes 8 a 12: Fundamentos de Lógica: Licenciatura en Matemáticas . \n",
    "2. Martes de 9 a 10: Curso de ML and DL para Ingeniero Juan Gomez en España.  \n",
    "3. Martes de 2 a 5 PM: Vector Geometry and Linear Algebra.  \n",
    "4. Miércoles: 10 a 11: Reunión equipo investigador SAT Dengue. \n",
    "5. Miércoles 2 a 3 PM: Asesoría Trabajo de Grado Janis (Estudiante de Biología).  \n",
    "6. Viernes 2 a 6 PM: Análisis Numérico: Programa de Licenciatura en Matemáticas."
   ]
  },
  {
   "cell_type": "markdown",
   "id": "8d41fe58",
   "metadata": {
    "slideshow": {
     "slide_type": "slide"
    }
   },
   "source": [
    "# Horario de clases del profesor Marco\n",
    "\n",
    "* Lunes 8-12:   \n",
    "* Lunes 2- 6 PM: Fundamento de Lógica.  \n",
    "* Martes 8-12 M: . \n",
    "* Miércoles 8 a 12 M:   \n",
    "* Miércoles de 2 a 6 PM: \n",
    "* Jueves 2 a 6 PM:  \n",
    "* Viernes 2 - 4 PM: Análisis Numérico. \n",
    "* Sábados 8-12 Asesorías y espacio para retroalimentación y apoyo al trabajo independiente. "
   ]
  },
  {
   "cell_type": "markdown",
   "id": "ae114e14",
   "metadata": {
    "slideshow": {
     "slide_type": "slide"
    }
   },
   "source": [
    "# Horarios de monitoría y asesoría  \n",
    "\n",
    "* Monitor Manuel San Juan Serrano: Contactar escribiendo al correo: manuel.serrano1@udea.edu.co"
   ]
  },
  {
   "cell_type": "markdown",
   "id": "bf0f9dbf",
   "metadata": {},
   "source": [
    "\n",
    "Coordinador de los cursos de la Facultad de Educación para regiones:    \n",
    "\n",
    "Andrés Vélez: regioneducacion.fedu@udea.edu.co  \n",
    "Coordinador Regiones  \n",
    "Facultad de Educación  \n",
    "Universidad de Antioquia  "
   ]
  },
  {
   "cell_type": "markdown",
   "id": "39559692",
   "metadata": {
    "slideshow": {
     "slide_type": "slide"
    }
   },
   "source": [
    "Martes y jueves de 8 - 12  \n",
    "Miércoles 10 - 12 y de 2 a 4 PM  \n",
    "Sábado: 8 - 12"
   ]
  },
  {
   "cell_type": "markdown",
   "id": "10bce0d0",
   "metadata": {
    "slideshow": {
     "slide_type": "slide"
    }
   },
   "source": [
    "## Referentes "
   ]
  },
  {
   "cell_type": "markdown",
   "id": "1db3c468",
   "metadata": {
    "slideshow": {
     "slide_type": "slide"
    }
   },
   "source": [
    "* [CALCULO I DE UNA VARIABLE Ron Larson-Bruce Edwards. Mc Graw Hill. 9º Edición](https://www.academia.edu/42139251/CALCULO_I_DE_UNA_VARIABLE_Ron_Larson_Bruce_Edwards_Mc_Graw_Hill_9o_Edici%C3%B3n)   \n",
    "  \n",
    "\n",
    "* [Grajales Vanegas, L. M., Restrepo Estrada, C. E., Restrepo Ochoa, S. I., & Ruíz De Villalba, F. (2015). Matemáticas I para las ciencias económicas.](https://bibliotecadigital.udea.edu.co/handle/10495/3010)\n",
    "  \n",
    "* R. Duval y Semiosis y pensamiento humano, 2.ª ed. Cali, Colombia: Programa Editorial Universidad del Valle, 2017. [En línea]. Disponible en: https://programaeditorial.univalle.edu.co/gpd-semiosis-y-pensamiento-humano-9789587655278-63324cdb0f6b3.html\n",
    "\n",
    "* [Aylwin, C. U. (2011). Lógica, conjuntos y números. Universidad de los Andes, Consejo de Publicaciones, Colección: Ciencias Básicas, Serie: Matemáticas.](chrome-extension://efaidnbmnnnibpcajpcglclefindmkaj/https://www.u-cursos.cl/ciencias/2011/1/MC110/1/material_docente/bajar?id_material=574722)\n",
    "  \n",
    "* [Chollet, F. (2021). Deep learning with Python. Simon and Schuster.](chrome-extension://efaidnbmnnnibpcajpcglclefindmkaj/https://tanthiamhuat.wordpress.com/wp-content/uploads/2018/03/deeplearningwithpython.pdf)  \n",
    "  \n",
    "* [Watson, S., Stewart, J., & Redlin, L. (2009). Precálculo. Matemáticas para el cálculo.](https://github.com/marco-canas/calculo/blob/main/referents/1_precalculo_stewart/stewart_precalculo.pdf)  \n",
    "\n",
    "* [Purcell, E. J., Varberg, D., & Rigdon, S. E. (2007). Cálculo diferencial e integral. Pearson Educación.](https://github.com/marco-canas/calculo/blob/main/referents/purcell/purcell_calculo.pdf)\n",
    "\n",
    "  \n",
    "\n",
    "* [stewart cálculo](https://udeaeduco-my.sharepoint.com/:b:/g/personal/marco_canas_udea_edu_co/EZgXZjAp8QxPqOAim2hs6LcBNPLGjSHf-xwYnUVYkwa04w?e=RZdTCy)  \n",
    "\n",
    "\n",
    "\n",
    "\n",
    "\n",
    "* [Recomendación de la UNESCO sobre ciencia abierta](https://unesdoc.unesco.org/ark:/48223/pf0000379949_spa)\n",
    "\n",
    "* [chatGPT](https://openai.com/blog/chatgpt)  \n",
    "\n",
    "* [Géron, A. (2017). Hands-on machine learning with scikit-learn and tensorflow: Concepts. Tools, and Techniques to build intelligent systems.](chrome-extension://efaidnbmnnnibpcajpcglclefindmkaj/http://14.139.161.31/OddSem-0822-1122/Hands-On_Machine_Learning_with_Scikit-Learn-Keras-and-TensorFlow-2nd-Edition-Aurelien-Geron.pdf)   \n"
   ]
  },
  {
   "cell_type": "markdown",
   "id": "df925560",
   "metadata": {},
   "source": [
    "\n",
    "* [McKinney, W. (2012). Python for data analysis: Data wrangling with Pandas, NumPy, and IPython. \" O'Reilly Media, Inc.\".](https://wesmckinney.com/book/) "
   ]
  },
  {
   "cell_type": "markdown",
   "id": "8e65d6f9",
   "metadata": {},
   "source": [
    "# Como estudiante, encuentro que...   \n",
    "\n",
    "F: Mis Fortalezas son:     \n",
    "O: Mis Oportunidades son:    \n",
    "D: Mis Debilidades son:    \n",
    "A: Lo que Amenazas mi aprendizaje es:  "
   ]
  },
  {
   "cell_type": "markdown",
   "id": "6b9e56a8",
   "metadata": {
    "slideshow": {
     "slide_type": "slide"
    }
   },
   "source": [
    "### [Evaluamos al profesor Marco Cañas Aquí](https://forms.office.com/Pages/ResponsePage.aspx?id=IefhmYRxjkmK_7KtTlPBwkanXIs1i1FEujpsZgO6dXpUREJPV1kxUk1JV1ozTFJIQVNIQjY5WEY3US4u)"
   ]
  },
  {
   "cell_type": "markdown",
   "id": "4e8e8ccb",
   "metadata": {},
   "source": [
    "Basado en el diseño de investigación con enfoque IAE (Investigación-Acción Educativa) que compartiste, aquí tienes una propuesta de **sistema de evaluación bidireccional** para el curso *\"Vector Geometry and Linear Algebra\"*, implementable mediante Google Forms y alineado con los ciclos reflexivos de Kemmis & McTaggart:\n",
    "\n",
    "---\n"
   ]
  },
  {
   "cell_type": "markdown",
   "id": "700c88d9",
   "metadata": {},
   "source": [
    "\n",
    "### **Diseño de Evaluación para Ciclo IAE**  \n",
    "*(Para implementar en Google Forms cada 4 semanas)*  \n"
   ]
  },
  {
   "cell_type": "markdown",
   "id": "534441d7",
   "metadata": {},
   "source": [
    "\n",
    "#### **1. Encuesta de Autoevaluación Estudiantil**  \n",
    "**Objetivo**: Monitorear progreso en competencias y percepción del enfoque investigativo.  \n"
   ]
  },
  {
   "cell_type": "markdown",
   "id": "ee74d19c",
   "metadata": {},
   "source": [
    "\n",
    "**Secciones**:  \n",
    "1. **Adquisición de Competencias** (Escala Likert 1-5):  \n",
    "   - *\"¿Cómo evalúas tu dominio actual de:\"*  \n",
    "     - Operaciones con vectores/matrices aplicadas a datasets agrícolas  \n",
    "     - Implementación de PCA/SVD para análisis de imágenes satelitales  \n",
    "     - Interpretación de resultados matemáticos en contextos agropecuarios  \n"
   ]
  },
  {
   "cell_type": "markdown",
   "id": "23d2b1bd",
   "metadata": {},
   "source": [
    "\n",
    "2. **Evaluación de Metodología IAE**:  \n",
    "   - *\"El aprendizaje basado en problemas reales del Bajo Cauca me ha ayudado a:\"*  \n",
    "     - Comprender mejor los conceptos abstractos (1-5)  \n",
    "     - Desarrollar habilidades útiles para mi futuro profesional (1-5)  \n",
    "   - *Espacio abierto*: *\"Describe un momento donde la conexión teoría-práctica fue especialmente significativa para ti\"*  \n"
   ]
  },
  {
   "cell_type": "markdown",
   "id": "6a55b099",
   "metadata": {},
   "source": [
    "\n",
    "3. **Recursos y Herramientas**:  \n",
    "   - *\"Valora la utilidad de:\"*  \n",
    "     - Cuadernos Jupyter adaptados (ej. Géron 2022)  \n",
    "     - Sesiones con agricultores/ingenieros invitados  \n",
    "     - Plataforma GitHub para colaboración  \n",
    "\n",
    "---\n"
   ]
  },
  {
   "cell_type": "markdown",
   "id": "d069bb21",
   "metadata": {},
   "source": [
    "\n",
    "#### **2. Evaluación del Profesor**  \n",
    "**Objetivo**: Retroalimentación para ajustar didáctica según necesidades emergentes.  \n"
   ]
  },
  {
   "cell_type": "markdown",
   "id": "e1080dd0",
   "metadata": {},
   "source": [
    "\n",
    "**Secciones**:  \n",
    "1. **Habilidades Docentes** (Escala 1-5):  \n",
    "   - *\"El profesor facilita la conexión entre álgebra lineal y problemas agrícolas mediante:\"*  \n",
    "     - Explicaciones claras de conceptos abstractos  \n",
    "     - Ejemplos contextualizados (ej. optimización de fertilizantes)  \n",
    "     - Retroalimentación constructiva en proyectos  \n"
   ]
  },
  {
   "cell_type": "markdown",
   "id": "01742d60",
   "metadata": {},
   "source": [
    "\n",
    "2. **Seguimiento a Proyectos**:  \n",
    "   - *\"Las tutorías para los proyectos aplicados son:\"*  \n",
    "     - Suficientes en frecuencia y duración  \n",
    "     - Orientadas a resolver dudas técnicas específicas  \n",
    "     - Útiles para vincular matemáticas con agronomía  \n"
   ]
  },
  {
   "cell_type": "markdown",
   "id": "ca722d62",
   "metadata": {},
   "source": [
    "\n",
    "3. **Espacio cualitativo**:  \n",
    "   - *\"Sugiere un ajuste específico que mejoraría tu experiencia de aprendizaje\"*  \n",
    "\n",
    "---\n"
   ]
  },
  {
   "cell_type": "markdown",
   "id": "568148ad",
   "metadata": {},
   "source": [
    "\n",
    "#### **3. Evaluación de Impacto Social** *(Opcional para proyectos con agricultores)*  \n",
    "**Objetivo**: Medir transferencia de conocimiento al sector productivo.  \n"
   ]
  },
  {
   "cell_type": "markdown",
   "id": "93c7f4bc",
   "metadata": {},
   "source": [
    "\n",
    "**Preguntas clave**:  \n",
    "- *\"¿Cómo ha influido el proyecto estudiantil en el que participaste en tus prácticas agrícolas?\"* (Ej.: reducción de costos, mejora en predicciones)  \n",
    "- *\"¿Recomendarías esta colaboración a otros productores?\"* (Sí/No + justificación)  \n",
    "\n",
    "\n"
   ]
  },
  {
   "cell_type": "markdown",
   "id": "d2b6a2c7",
   "metadata": {},
   "source": [
    "\n",
    "### **Implementación en Google Forms**  \n",
    "1. **Configuración**:  \n",
    "   - Formulario anónimo (excepto evaluación de proyectos con agricultores)  \n",
    "   - Sección obligatoria (competencia + 1 pregunta abierta)  \n",
    "   - Opción de subir archivos (ej.: fotos de trabajos de campo)  \n",
    "\n",
    "2. **Ejemplo de Pregunta con Lógica Condicional**:  \n",
    "   ``` \n",
    "   Si respondiste 1-3 en \"Dominio de PCA aplicado\": \n",
    "   ¿Qué tipo de apoyo adicional necesitarías? (Taller práctico, material adicional, tutoría personalizada)  \n",
    "   ```\n",
    "\n",
    "3. **Enlace accesible**:  \n",
    "   - QR en presentaciones  \n",
    "   - Link en la cabecera del repositorio GitHub  \n",
    "\n",
    "---\n"
   ]
  },
  {
   "cell_type": "markdown",
   "id": "36872955",
   "metadata": {},
   "source": [
    "\n",
    "### **Análisis para Ciclo IAE**  \n",
    "**Herramientas**:  \n",
    "- **NVivo**: Para análisis temático de respuestas cualitativas  \n",
    "- **Google Data Studio**: Dashboard automático con:  \n",
    "  - Evolución temporal de competencias  \n",
    "  - Nube de palabras de sugerencias frecuentes  \n",
    "\n",
    "**Integración con Fases IAE**:  \n",
    "1. **Diagnóstico**: Identificar brechas recurrentes (ej.: dificultad con SVD)  \n",
    "2. **Acción**: Ajustar próximas clases (ej.: taller extra de descomposición matricial)  \n",
    "3. **Reflexión**: Comparar resultados entre ciclos (ej.: mejora en % de dominio de vectores)  \n",
    "\n",
    "**Ejemplo de Pregunta Clave para el Análisis**:  \n",
    "*\"¿Qué tema del módulo actual requirió más tiempo de práctica para su comprensión?\"*  \n",
    "\n",
    "---\n"
   ]
  },
  {
   "cell_type": "markdown",
   "id": "6d92b57d",
   "metadata": {},
   "source": [
    "\n",
    "### **Modelo de Informe Parcial** *(Para socializar con estudiantes)*  \n",
    "```markdown\n",
    "## Resultados Evaluación Ciclo 3 (2025-1)  \n",
    "- **85%** mejoró en interpretación de matrices aplicadas  \n",
    "- **Solicitud principal**: Más ejemplos con datos reales de cacaoteros  \n",
    "- **Ajustes implementados**:  \n",
    "  - Sesión extra con ingeniero de Agrosavia (25/05)  \n",
    "  - Dataset público de nutrientes en suelos arroceros añadido a GitHub  \n",
    "```\n"
   ]
  },
  {
   "cell_type": "markdown",
   "id": "b5c7eb34",
   "metadata": {},
   "source": [
    "\n",
    "Este diseño asegura que las evaluaciones:  \n",
    "✅ Sean **ágiles** (máx. 5 min por estudiante)  \n",
    "✅ Generen **datos accionables** para cada fase IAE  \n",
    "✅ Fomenten la **corresponsabilidad** en el proceso educativo  \n"
   ]
  },
  {
   "cell_type": "markdown",
   "id": "e2a5a506",
   "metadata": {},
   "source": [
    "\n",
    "¿Te gustaría que desarrolle las plantillas específicas de Google Forms o algún ajuste adicional para alinearlo mejor con tus módulos?"
   ]
  },
  {
   "cell_type": "markdown",
   "id": "10f43536",
   "metadata": {
    "slideshow": {
     "slide_type": "slide"
    }
   },
   "source": [
    "### Continue su aprendizaje en la siguiente clase a través del siguiente [vínculo]()"
   ]
  },
  {
   "cell_type": "markdown",
   "id": "53cc9115",
   "metadata": {
    "slideshow": {
     "slide_type": "slide"
    }
   },
   "source": [
    "## Agradecimientos  \n",
    "\n",
    "Doy gracias a Dios por la vida de mi Hijo Joseph Cañas Osorio y la madurez que ha alcanzado. Este hijo me enorgullece y me hace falta abrazarlo cada día. \n",
    "\n",
    "Y a mi esposa Yasmira Emperatriz Barboza Mogollón por su apoyo, orientación y acompañamiento. "
   ]
  },
  {
   "cell_type": "markdown",
   "id": "b6ba1c23",
   "metadata": {},
   "source": [
    "# Apéndice sobre calendarios y coordinaciones \n"
   ]
  },
  {
   "cell_type": "markdown",
   "id": "bf8b6499",
   "metadata": {},
   "source": [
    "## Calendario del semestre académico 2025-2  \n",
    "\n",
    "* Oferta de cursos: 29 de julio de 2025  \n",
    "\n",
    "Matrícula: 30 de julio de 2025  \n",
    "\n",
    "Ajustes de matrícula: 01 al 08 de agosto de 2025  \n",
    "\n",
    "Inicio de clases: 04 de agosto de 2025  \n",
    "\n",
    "Límite evaluación del 40%: 27 de septiembre de 2025  \n",
    "\n",
    "Terminación de clases: 22 de noviembre de 2025\n",
    "\n",
    "Exámenes finales: 24 al 29 de noviembre de 2025\n",
    "\n",
    "Habilitación y validación: 01 al 06 de diciembre 2025\n",
    "\n",
    "Terminación oficial del semestre: 09 de diciembre de 2025  "
   ]
  },
  {
   "cell_type": "markdown",
   "id": "667b9504",
   "metadata": {},
   "source": [
    "\n",
    "A continuación le envío el horario de la asignatura Cálculo Vectorial  \n",
    "\n",
    "Días:  \n",
    "Lunes - Hora: 7:00 a 12:00M  \n",
    "Fechas:  \n",
    "Febrero: 10-17-24                                          \n",
    " Marzo: 3-10-17-31                                                  \n",
    "Abril:7-21-28                                                   \n",
    "Mayo:5-12-19  \n",
    "\n",
    "Agradezco su apoyo, y si presenta alguna dificultad puede contactarme.  \n",
    "\n",
    "Cordialmente,  \n",
    "Juan Felipe Rivera Hernández  \n",
    "Contacto: 3106314300  "
   ]
  }
 ],
 "metadata": {
  "celltoolbar": "Slideshow",
  "kernelspec": {
   "display_name": ".venv",
   "language": "python",
   "name": "python3"
  },
  "language_info": {
   "codemirror_mode": {
    "name": "ipython",
    "version": 3
   },
   "file_extension": ".py",
   "mimetype": "text/x-python",
   "name": "python",
   "nbconvert_exporter": "python",
   "pygments_lexer": "ipython3",
   "version": "3.11.9"
  },
  "rise": {
   "enable_chalkboard": true,
   "theme": "sky",
   "transition": "zoom"
  }
 },
 "nbformat": 4,
 "nbformat_minor": 5
}
