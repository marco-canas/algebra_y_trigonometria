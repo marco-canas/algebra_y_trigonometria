{
 "cells": [
  {
   "cell_type": "markdown",
   "id": "dc06dec7",
   "metadata": {
    "slideshow": {
     "slide_type": "slide"
    }
   },
   "source": [
    "<table align=\"left\">\n",
    "  <td>\n",
    "    <a href=\"https://colab.research.google.com/github/ageron/handson-ml3/blob/main/tools_numpy.ipynb\" target=\"_parent\"><img src=\"https://colab.research.google.com/assets/colab-badge.svg\" alt=\"Open In Colab\"/></a>\n",
    "  </td>\n",
    "  <td>\n",
    "    <a target=\"_blank\" href=\"https://kaggle.com/kernels/welcome?src=https://github.com/ageron/handson-ml3/blob/main/tools_numpy.ipynb\"><img src=\"https://kaggle.com/static/images/open-in-kaggle.svg\" /></a>\n",
    "  </td>\n",
    "</table>"
   ]
  },
  {
   "cell_type": "markdown",
   "id": "e0c5b198",
   "metadata": {
    "slideshow": {
     "slide_type": "slide"
    }
   },
   "source": [
    "### [Video de apoyo a la lectura interactiva y experimental de este cuaderno]()"
   ]
  },
  {
   "cell_type": "markdown",
   "id": "41e82203",
   "metadata": {
    "slideshow": {
     "slide_type": "slide"
    }
   },
   "source": [
    "### [Vínculo al programa del curso:  ]()\n",
    "\n"
   ]
  },
  {
   "cell_type": "markdown",
   "id": "d11ab06d",
   "metadata": {
    "slideshow": {
     "slide_type": "slide"
    }
   },
   "source": [
    "Un reconocimiento a mis estudiantes que han construido conmigo este saber pedagógico:\n",
    "\n",
    "<img src = ''> \n",
    "\n"
   ]
  },
  {
   "cell_type": "markdown",
   "id": "8a74a56c-0ce6-4ad6-b985-553fd7fb68bb",
   "metadata": {},
   "source": [
    "Reconocimiento a las profesoras destacadas en enseñanza de la matemática en Colombia\n"
   ]
  },
  {
   "cell_type": "code",
   "execution_count": 3,
   "id": "7604880f",
   "metadata": {
    "slideshow": {
     "slide_type": "slide"
    }
   },
   "outputs": [
    {
     "data": {
      "application/vnd.microsoft.datawrangler.viewer.v0+json": {
       "columns": [
        {
         "name": "index",
         "rawType": "int64",
         "type": "integer"
        },
        {
         "name": "Cedula",
         "rawType": "object",
         "type": "string"
        },
        {
         "name": "Nombre",
         "rawType": "object",
         "type": "string"
        }
       ],
       "ref": "3ab8ebdd-021f-443f-8395-4faad0c284fc",
       "rows": [],
       "shape": {
        "columns": 2,
        "rows": 0
       }
      },
      "text/html": [
       "<div>\n",
       "<style scoped>\n",
       "    .dataframe tbody tr th:only-of-type {\n",
       "        vertical-align: middle;\n",
       "    }\n",
       "\n",
       "    .dataframe tbody tr th {\n",
       "        vertical-align: top;\n",
       "    }\n",
       "\n",
       "    .dataframe thead th {\n",
       "        text-align: right;\n",
       "    }\n",
       "</style>\n",
       "<table border=\"1\" class=\"dataframe\">\n",
       "  <thead>\n",
       "    <tr style=\"text-align: right;\">\n",
       "      <th></th>\n",
       "      <th>Cedula</th>\n",
       "      <th>Nombre</th>\n",
       "    </tr>\n",
       "  </thead>\n",
       "  <tbody>\n",
       "  </tbody>\n",
       "</table>\n",
       "</div>"
      ],
      "text/plain": [
       "Empty DataFrame\n",
       "Columns: [Cedula, Nombre]\n",
       "Index: []"
      ]
     },
     "execution_count": 3,
     "metadata": {},
     "output_type": "execute_result"
    }
   ],
   "source": [
    "import pandas as pd\n",
    "import numpy as np\n",
    "\n",
    "# Cargar la lista de estudiantes desde el archivo CSV\n",
    "path = 'C:/Users/marco/Documentos/docencia/groups_list/vector_geometry_and_linear_algebra.xlsx'\n",
    "df = pd.read_excel(path)\n",
    "df.head() \n"
   ]
  },
  {
   "cell_type": "markdown",
   "id": "d7598d0a-d9b7-4ae0-b029-a0ed6ed1130b",
   "metadata": {},
   "source": [
    "\n",
    "# Principios de mi labor docente"
   ]
  },
  {
   "cell_type": "markdown",
   "id": "4f9d8cf9",
   "metadata": {
    "slideshow": {
     "slide_type": "slide"
    }
   },
   "source": [
    "## Modelo general de clase: [aula invertida](https://www3.gobiernodecanarias.org/medusa/ecoescuela/pedagotic/aprendizaje-invertido-flipped-classroom/)"
   ]
  },
  {
   "cell_type": "markdown",
   "id": "eb6ed03a",
   "metadata": {},
   "source": [
    "<img src = 'https://resources.maneuveringthemiddle.com/wp-content/uploads/2020/07/04212706/1-5.png' width = 200>  \n",
    "\n"
   ]
  },
  {
   "cell_type": "markdown",
   "id": "34319cce-a71b-4f64-aab8-b53e521efa40",
   "metadata": {},
   "source": [
    "# Metodología de Aprendizaje Basado en Problemas y Proyectos (ABPP)\n"
   ]
  },
  {
   "cell_type": "markdown",
   "id": "c4f73d81",
   "metadata": {},
   "source": [
    "\n",
    "<img src = 'https://www.unir.net/wp-content/uploads/2020/07/aprendizaje-problemas2-1-1-1-1.jpeg' width = 200>"
   ]
  },
  {
   "cell_type": "markdown",
   "id": "841a985c-bd9b-4dd3-8e4c-893983980af2",
   "metadata": {},
   "source": [
    "# Desarrollo del pensamiento computacional con Lenguajes Python y R, y con archivos Markdown orientado a la formación en ciencia de datos \n",
    "\n"
   ]
  },
  {
   "cell_type": "markdown",
   "id": "3d0eba94",
   "metadata": {},
   "source": [
    "\n",
    "<img src = 'https://i.ytimg.com/vi/mcG_wcR4e6M/maxresdefault.jpg' width = 200>"
   ]
  },
  {
   "cell_type": "markdown",
   "id": "65aa0404-f7ae-495e-864c-1aec01b4255e",
   "metadata": {},
   "source": [
    "# Principio de fomento a la ciencia abierta, enseñar en el acceso a los datos públicos y el uso de software de código abierto  \n"
   ]
  },
  {
   "cell_type": "markdown",
   "id": "18ae9b87",
   "metadata": {},
   "source": [
    "\n",
    "<img src = 'https://unesdoc.unesco.org/in/rest/Thumb/image?id=p%3A%3Ausmarcdef_0000379949_spa&author=UNESCO&title=Recomendaci%C3%B3n+de+la+UNESCO+sobre+la+Ciencia+Abierta&year=2021&publisher=UNESCO&TypeOfDocument=UnescoPhysicalDocument&mat=PGD&ct=true&size=512&isPhysical=1' width = 200>"
   ]
  },
  {
   "cell_type": "markdown",
   "id": "d9559f85",
   "metadata": {},
   "source": [
    "El enfoque STEAMS en educación preescolar, primaria y secundaria es una extensión del enfoque STEM (Ciencia, Tecnología, Ingeniería y Matemáticas) y su variante STEAM, que incorpora el Arte. "
   ]
  },
  {
   "cell_type": "markdown",
   "id": "0130ec1b",
   "metadata": {},
   "source": [
    "\n",
    "<img src = 'https://www.campuseducacion.com/blog/wp-content/uploads/2023/03/foto01-1.jpg' width = 200>"
   ]
  },
  {
   "cell_type": "markdown",
   "id": "37a6a091",
   "metadata": {},
   "source": [
    "# Y el enfoque de Teoría de Registros de Representación Semiótica de Duval  "
   ]
  },
  {
   "cell_type": "code",
   "execution_count": 1,
   "id": "28bae6cb",
   "metadata": {},
   "outputs": [],
   "source": [
    "def save_fig(nombre_archivo_imagen):\n",
    "    import os \n",
    "    import matplotlib.pyplot as plt\n",
    "    ubicacion_para_imagenes = r\"C:/Users/marco/Downloads\"\n",
    "    imagen_path = os.path.join(ubicacion_para_imagenes, nombre_archivo_imagen)\n",
    "    plt.savefig(imagen_path, bbox_inches='tight')"
   ]
  },
  {
   "cell_type": "markdown",
   "id": "10e55ccf",
   "metadata": {},
   "source": [
    "# Estructura general para todas las clases\n"
   ]
  },
  {
   "cell_type": "markdown",
   "id": "ddd73417",
   "metadata": {},
   "source": [
    "\n",
    "Dame, por favor, un diseño de clase, con el enfoque: \"Aula Invertida, STEAMS, de Aprendizaje Basado en Problemas y Proyectos (ABPP) y de Teoría de Registros de Representación Semiótica (TRRS) de Duval\" sobre: \"Expresiones Algebraicas: productos notables y factorización: Números complejos\"; siguiendo la estructura:  \n",
    "\n",
    "Ubicación del proyecto investigativo: [aquí](https://github.com/marco-canas/linea_invest_didact_math_data/blob/main/1_estrategia_comunicacion/3_humanos_xxi/propuesta_en_20_paginas.md) \n",
    "Ubicación del programa del curso: [aquí](https://github.com/marco-canas/vector_geometry_and_linear_algebra/blob/main/2_planificacion/0_programa_curso/programa_curso_geo_vectorial_algebra_lineal_iae_python_data_science_2025_2.docx)\n",
    "Ubicación de la lista de estudiantes matriculados: [Aquí](https://github.com/marco-canas/groups_list/blob/main/vector_geometry_and_linear_algebra.xlsx)  \n",
    "\n",
    "1. Título de la clase   \n",
    "   \n",
    "2. Objetivo de aprendizaje que incluyan los indicadores del logro de estos objetivos. \n",
    "   \n",
    "3. Un mapa conceptual que resuma la clase elaborado en Graphviz de python con nodos y edges de diferentes formas, colores y rellenos y renderizado en la siguiente ubicación: `\"C:\\Users\\marco\\Downloads\"`.  No olvides el parámetro `view = True` para el método `render()` de Graphviz. Para este mapa controla las superposiciones de los nodos con: graph [overlap=false]; // Elimina superposiciones (puede aumentar el espacio)\n",
    "graph [overlap=\"scalexy\"]; // Escala el gráfico para evitar overlaps\n",
    "graph [overlap=\"compress\"]; // Comprime el grafo sin overlaps  \n",
    "   \n",
    "4. Elementos históricos y epistemológicos relevantes para la clase, pero narrados como una historieta al estilo de un cuentero antioqueño en Colombia. Incluye imágenes de los protagonistas históricos de esta clase.  \n",
    "   \n",
    "5. Contenido de la clase:     \n",
    "   \n",
    "          \n",
    "        \n",
    "6. Actividades de aprendizaje:   \n",
    "   \n",
    "7. Incluye una canción o un poema que ayude a interiorizar y fijar los conceptos asociados a esta clase.   \n",
    "   \n",
    "8.  Tarea o actividades de ejercitación y fijación. Incluye 20 ejercicios de tarea en las que los estudiantes empiecen con la descripción geométrica del algoritmo, luego la descripción verbal y secuencial del algoritmo, después la implementación en lenguaje python editado a través de la terminal powershell de su computador y finalmente con el cálculo a mano y en su cuaderno. Crea una función de usuario de Python que asigne esta tareas a cada uno de los estudiantes matriculados en este curso tomando la ubicación de los estudiantes dada en este prompt.  \n",
    "    \n",
    "9. Evaluación incluyendo 20 proyectos, un ejemplo de quiz (con tres items) y un ejemplo de parcial (con 5 items). Incluye evaluaciones en las que los estudiantes empiecen con la descripción geométrica del algoritmo, luego la descripción verbal y secuencial del algoritmo, después la implementación en lenguaje python editado a través de la terminal powershell de su computador, y finalmente con el cálculo algebraico y numérico a mano y en su cuaderno. \n",
    "    \n",
    "10. Diseño de actividad de retroalimentación.   \n",
    "    \n",
    "11. Dame un vocabulario y frases del idioma inglés asociadas a esta clase.    \n",
    "     \n",
    "12. Incluye apéndice para la clase sobre desarrollo de habilidades para trabajar en equipo y de asertividad y empatía para relacionarnos. También elementos de la inteligencia emocional para presentar pruebas sin temor y sin realizar fraude en ellas.    \n",
    "     \n",
    "13. Incluye 10 referentes en didáctica de la matemática que estén de acuerdo a la propuesta didáctica de esta clase. Adiciona a estos referentes a Raymond Duval (Representaciones y cambios de representación para la adquisición de conceptos matemáticos) y a [Jeannette Wing](https://es.wikipedia.org/wiki/Jeannette_Wing) (Desarrollo del pensamiento computacional). Déjame todos estos referentes ordenados de acuerdo a las normas APA. Al crear la clase, introduce las citas de estos autores en el texto de la clase.\n",
    "\n",
    "\n",
    "Pero  que este diseño sea para que el estudiante pueda aprender experimentando en cuadernos Jupyter con funciones de usuario y animaciones y visualizaciones en python.   \n",
    "\n",
    "En particular utiliza para el diseño de clase a Numpy, Pandas, SymPy, Matplotlib.pyplot, Seaborn, Plotly, ipywidgets, matplotlib.animation, TensorFlow, Keras y Jupyter Notebook.    \n",
    "\n",
    "Cada vez que utilices `matplotlib.animacion` no olvides incluir el uso de `IPython. display` para la rederización de estas animaciones a través de Jupyter Notebook. No olvides darme los diseños de clase con las ecuaciones matemáticas delimitadas con signo de dolar $ para que VS Code si me renderize estas expresiones del lenguaje latex. Cuando vallas a utilizar ipywidgets ten en cuenta la siguiente importación inicial para garantizar que la visualización interactiva si se renderize en VS Code:   \n",
    "\n",
    "import numpy as np  \n",
    "import matplotlib.pyplot as plt  \n",
    "import ipywidgets as widgets  \n",
    "\n",
    "\n",
    "\n"
   ]
  },
  {
   "cell_type": "markdown",
   "id": "f39ebbcb",
   "metadata": {},
   "source": [
    "# 12/08/2025\tFactorización. Números complejos.\tClase magistral + problemas.  \n",
    "\n",
    "Seccion 1.3 Expresiones algebraicas de Swokowski Página 47 del PDF. (Página 28 del Libro de texto)    \n",
    "\n"
   ]
  },
  {
   "cell_type": "markdown",
   "id": "77b8fd51",
   "metadata": {},
   "source": [
    "[![album-online.com/detail/...](https://images.openai.com/thumbnails/url/GxA7iHicu1mSUVJSUGylr5-al1xUWVCSmqJbkpRnoJdeXJJYkpmsl5yfq5-Zm5ieWmxfaAuUsXL0S7F0Tw6sLCsJDrXwCUzz98vX1fVO8k51Mcj0zSrPjTR1yne0DDbwiwpIDgi2iPTxcI7wN6o0SnIp93e2MM8Md1QrBgAD_yio)](https://www.album-online.com/detail/en/YTFiNTQyMA/raphael-bombelli-1526-1572-was-italian-mathematician-architect-he-born-alb9866319)\n"
   ]
  },
  {
   "cell_type": "markdown",
   "id": "93672d50",
   "metadata": {},
   "source": [
    "\n",
    "# Diseño de clase — *Expresiones algebraicas: productos notables, factorización y números complejos*\n"
   ]
  },
  {
   "cell_type": "markdown",
   "id": "d858f51b",
   "metadata": {},
   "source": [
    "\n",
    "**Enfoques:** Aula invertida, STEAMS, Aprendizaje Basado en Problemas y Proyectos (ABPP) y Teoría de Registros de Representación Semiótica (TRRS) de Duval.\n",
    "\n",
    "---\n"
   ]
  },
  {
   "cell_type": "markdown",
   "id": "8883ddac",
   "metadata": {},
   "source": [
    "\n",
    "## 1. Título de la clase: **“Del papel al plano complejo: productos notables, factorización y visualización dinámica”**\n"
   ]
  },
  {
   "cell_type": "markdown",
   "id": "e71747a4",
   "metadata": {},
   "source": [
    "\n",
    "Tomado de 1.3 Expresiones algebraicas de la Edición 13 de [Swokowski](chrome-extension://efaidnbmnnnibpcajpcglclefindmkaj/https://dn720707.ca.archive.org/0/items/algebra-y-trigonometria-con-geometria-analitica-13va-edicion-earl-w.-swokowski/%C3%81lgebra%20y%20trigonometr%C3%ADa%20con%20geometr%C3%ADa%20anal%C3%ADtica,%2013va%20Edici%C3%B3n%20-%20Earl%20W.%20Swokowski.pdf). Página 47 de su PDF. \n"
   ]
  },
  {
   "cell_type": "markdown",
   "id": "4784abf1",
   "metadata": {},
   "source": [
    "\n",
    "## 2. Objetivo de aprendizaje e indicadores de logro\n"
   ]
  },
  {
   "cell_type": "markdown",
   "id": "7f0eeb93",
   "metadata": {},
   "source": [
    "\n",
    "**Objetivo general**\n",
    "El estudiante será capaz de reconocer y aplicar productos notables y técnicas de factorización para transformar expresiones algebraicas y operar con números complejos, interpretando y pasando entre registros semióticos (algebraico, geométrico, simbólico, gráfico y computacional) y validando resultados mediante implementaciones en Jupyter Notebook con Python.\n"
   ]
  },
  {
   "cell_type": "markdown",
   "id": "18bbb2f6",
   "metadata": {},
   "source": [
    "\n",
    "# **Indicadores de logro (evaluables):**\n"
   ]
  },
  {
   "cell_type": "markdown",
   "id": "fa21654b",
   "metadata": {},
   "source": [
    "\n",
    "1. Identifica y aplica correctamente los 5 productos notables clásicos y 4 técnicas de factorización en problemas simbólicos. *(Ej.: resolver y justificar factoración de \\$x^3+3x^2+3x+1\\$)*\n"
   ]
  },
  {
   "cell_type": "markdown",
   "id": "8f309238",
   "metadata": {},
   "source": [
    "2. Interpreta una expresión compleja \\$a+bi\\$ como punto y vector en el plano y realiza transformaciones (suma, producto, conjugado) visualmente.\n"
   ]
  },
  {
   "cell_type": "markdown",
   "id": "e8080458",
   "metadata": {},
   "source": [
    "3. Traduce una descripción geométrica (rotación por \\$90^\\circ\\$) en una operación con números complejos y en código Python que genere animación.\n"
   ]
  },
  {
   "cell_type": "markdown",
   "id": "6660a057",
   "metadata": {},
   "source": [
    "4. Produce una explicación en dos registros diferentes (algebraico y geométrico) para la misma transformación y prueba su equivalencia con SymPy y cálculo manual.\n"
   ]
  },
  {
   "cell_type": "markdown",
   "id": "f2bb29e6",
   "metadata": {},
   "source": [
    "5. Implementa una función de usuario en Python que factorice una expresión simbólica y dibuje su interpretación geométrica; la función debe ser reproducible desde PowerShell.\n"
   ]
  },
  {
   "cell_type": "markdown",
   "id": "2e7ff6e4",
   "metadata": {},
   "source": [
    "\n",
    "(Citas en el texto: se incorpora la TRRS como marco para exigir cambios de registro en las tareas y actividades. ([ResearchGate][1], [Pat Thompson][2]))\n",
    "\n",
    "---\n"
   ]
  },
  {
   "cell_type": "markdown",
   "id": "d79889cd",
   "metadata": {},
   "source": [
    "\n",
    "## 3. Mapa conceptual (Graphviz en Python)\n",
    "\n",
    "A continuación tienes el código Python que genera y renderiza (con `view=True`) un mapa conceptual en Graphviz y guarda el archivo en `C:\\Users\\marco\\Downloads`. El gráfico controla superposiciones con las opciones solicitadas. **Ejecuta este código en un Jupyter Notebook o en un script Python con graphviz instalado**.\n"
   ]
  },
  {
   "cell_type": "code",
   "execution_count": 3,
   "id": "d0b22922",
   "metadata": {},
   "outputs": [
    {
     "data": {
      "text/plain": [
       "'C:\\\\Users\\\\marco\\\\Downloads\\\\mapa_expresiones_complejas.pdf'"
      ]
     },
     "execution_count": 3,
     "metadata": {},
     "output_type": "execute_result"
    }
   ],
   "source": [
    "# Requisitos previos:\n",
    "# pip install graphviz\n",
    "from graphviz import Digraph\n",
    "\n",
    "g = Digraph('Mapa_Expresiones_Numeros_Complejos', format='pdf')\n",
    "# Control de overlap (método: usar atributos del grafo)\n",
    "g.attr(overlap='false')         # elimina superposiciones\n",
    "g.attr(overlap='scalexy')      # escala el grafo para evitar overlaps\n",
    "g.attr(overlap='compress')     # comprime el grafo sin overlaps\n",
    "g.attr(rankdir='LR', splines='true')\n",
    "\n",
    "# Nodos: formas, colores y rellenos\n",
    "g.node('A', 'Productos notables', shape='box', style='filled', fillcolor='lightgoldenrod', color='black')\n",
    "g.node('B', 'Factorización', shape='ellipse', style='filled', fillcolor='lightblue')\n",
    "g.node('C', 'Números complejos', shape='hexagon', style='filled', fillcolor='lightpink')\n",
    "g.node('D', 'Registro algebraico', shape='note', style='filled', fillcolor='white')\n",
    "g.node('E', 'Registro geométrico', shape='oval', style='filled', fillcolor='lightgrey')\n",
    "g.node('F', 'Registro simbólico', shape='diamond', style='filled', fillcolor='lemonchiffon')\n",
    "g.node('G', 'Registro computacional (Python)', shape='cylinder', style='filled', fillcolor='lightgreen')\n",
    "g.node('H', 'Visualizaciones / Animaciones', shape='folder', style='filled', fillcolor='wheat')\n",
    "g.node('I', 'Problema / Proyecto (ABPP)', shape='tab', style='filled', fillcolor='plum')\n",
    "\n",
    "# Edges\n",
    "g.edge('A','B', label='aplicación →')\n",
    "g.edge('B','C', label='factorizar→interpretar')\n",
    "g.edge('C','E', label='mapa al plano')\n",
    "g.edge('D','F', label='equivalencia simbólica')\n",
    "g.edge('F','G', label='SymPy → código')\n",
    "g.edge('G','H', label='plotly / matplotlib → animación')\n",
    "g.edge('I','G', label='entregable: notebook')\n",
    "g.edge('I','E', label='solución geométrica')\n",
    "g.edge('H','E', label='visual ↔ geométrico')\n",
    "g.edge('D','A', label='identificar patrones')\n",
    "\n",
    "# Guardar / renderizar en la ubicación solicitada\n",
    "output_path = r\"C:\\Users\\marco\\Downloads\\mapa_expresiones_complejas\"\n",
    "g.render(filename=output_path, view=True)  # view=True abrirá el archivo en el visor por defecto\n",
    "\n"
   ]
  },
  {
   "cell_type": "markdown",
   "id": "22911a40",
   "metadata": {},
   "source": [
    "\n",
    "> **Nota:** si Graphviz no encuentra el binario, instala Graphviz en el sistema y asegúrate que `dot` está en el PATH. El archivo resultante será `mapa_expresiones_complejas.pdf` en la carpeta indicada.\n",
    "\n",
    "---\n"
   ]
  },
  {
   "cell_type": "markdown",
   "id": "dfa14597",
   "metadata": {},
   "source": [
    "\n",
    "## 4. Elementos históricos y epistemológicos — *Historieta al estilo cuentero antioqueño*\n"
   ]
  },
  {
   "cell_type": "markdown",
   "id": "cf643f6b",
   "metadata": {},
   "source": [
    "\n",
    "*(Narración breve; incluye retratos arriba en la imagen carousel — Bombelli, Euler, Gauss — para ilustrar a los protagonistas)*\n"
   ]
  },
  {
   "cell_type": "markdown",
   "id": "8705aa99",
   "metadata": {},
   "source": [
    "\n",
    "> **“¡Eche pues, padrinos y madrinas del saber!**\n",
    "> Era un matinal en la plaza del pueblo cuando Don Bombelli, con su libreta hecha de pergamino, le dijo al mozo Euler: ‘- Mire, mijito, eso de la raíz de -1 no es cuento, es una herramienta pa’ entender vueltas y giros’.\n",
    "> Euler, que siempre tenía una frase para todo, respondió: ‘- y con \\$e^{i\\pi} + 1 = 0\\$ uno se siente como si el mundo se cerrara en una canción’.\n",
    "> Cuando pasó el gordo Gauss, dibujó en la tierra el plano y le dijo a la muchachada: ‘- Aquí, los números complejos son puntos y flechas; véanlos y así no los temen’.\n",
    "> Y así, entre chiste y cuento, los números dejaron de ser fantasmas y se volvieron amigos: se suman, se multiplican y rotan, y todo se puede explicar con una recta, un círculo y un buen café.”\n",
    "\n",
    "> **Epistemología (en clave de la historia):** la idea central es que muchos pasos en álgebra aparecen porque los matemáticos necesitaban resolver ecuaciones “inexplicables” en registros previos y fueron creando nuevos registros (notación simbólica, geometría del plano complejo, representación computacional). Esta migración de registros es precisamente lo que la TRRS estudia: transformaciones entre registros que permiten entender mejor el objeto matemático. ([Pat Thompson][2], [ResearchGate][1])\n",
    "\n",
    "*(Imágenes de los protagonistas se incluyeron al inicio — usa esos retratos en la diapositiva/nota de clase.)*\n",
    "\n",
    "---\n"
   ]
  },
  {
   "cell_type": "markdown",
   "id": "9078d989",
   "metadata": {},
   "source": [
    "\n",
    "## 5. Contenido de la clase (secuencia y recursos)\n"
   ]
  },
  {
   "cell_type": "markdown",
   "id": "c47fccb3",
   "metadata": {},
   "source": [
    "\n",
    "**Sesión previa (Aula invertida — antes de la clase presencial):**\n"
   ]
  },
  {
   "cell_type": "markdown",
   "id": "8f197306",
   "metadata": {},
   "source": [
    "\n",
    "* Video explicativo (6–10 min) + notebook con tres ejemplos resueltos en Jupyter: productos notables, factorización y primeros ejemplos con números complejos (suma y multiplicación).\n"
   ]
  },
  {
   "cell_type": "markdown",
   "id": "01671d10",
   "metadata": {},
   "source": [
    "* Lectura corta sobre TRRS (extracto) y un breve cuestionario de autoevaluación.\n"
   ]
  },
  {
   "cell_type": "markdown",
   "id": "2993b7d3",
   "metadata": {},
   "source": [
    "\n",
    "**Sesión presencial / Actividades guiadas (2 horas en aula-laboratorio):**\n",
    "\n",
    "1. Puesta en común de dudas del pre-work.\n",
    "2. Taller práctico en parejas: factorizar expresiones y representar transformaciones en el plano complejo (uso de matplotlib/plotly e ipywidgets para explorar parámetros).\n",
    "3. Mini-problema ABP: “Diseñar un módulo interactivo que visualice cómo la factorización de un polinomio real se relaciona con sus raíces (reales y complejas) en el plano.”\n",
    "4. Retroalimentación y cierre.\n",
    "\n",
    "**Recursos recomendados en la clase:** Jupyter Notebook, SymPy, Numpy, Pandas, Matplotlib, Plotly, ipywidgets, matplotlib.animation, TensorFlow/Keras (opcional para visualizaciones más avanzadas o clustering de raíces en proyectos).\n",
    "\n",
    "---\n"
   ]
  },
  {
   "cell_type": "markdown",
   "id": "8a377b20",
   "metadata": {},
   "source": [
    "# Desarrollo del contenido  \n",
    "\n",
    "1. La relación de pertenencia\n",
    "2. La relación de inclusión o contanción entre conjuntos. \n",
    "3. La definición de constante. \n",
    "4. La definición de variable. \n",
    " "
   ]
  },
  {
   "cell_type": "markdown",
   "id": "a259f02b",
   "metadata": {},
   "source": [
    "Por lo general usamos letras cercanas al final del alfabeto, como x, y y z, para variables y letras cercanas al principio del alfabeto, como a, b, y c para constantes. "
   ]
  },
  {
   "cell_type": "markdown",
   "id": "3aaebdc7",
   "metadata": {},
   "source": [
    "En todo este texto, a menos que se especifique otra cosa, las variables representan números reales.\n"
   ]
  },
  {
   "cell_type": "markdown",
   "id": "2640cc3d",
   "metadata": {},
   "source": [
    "# Formas de representar y describir conjuntos. \n",
    "\n"
   ]
  },
  {
   "cell_type": "markdown",
   "id": "5402fa18",
   "metadata": {},
   "source": [
    " Si los elementos de un conjunto $S$ tienen cierta propiedad, a veces escribimos $S =  \\{x: \\}$  y expresamos la propiedad describiendo la variable $x$ en el espacio después de los dos puntos. "
   ]
  },
  {
   "cell_type": "markdown",
   "id": "304d7498",
   "metadata": {},
   "source": [
    "La expresión encerrada por las llaves y los dos puntos se lee “el conjunto de toda $x$ tal que . . . ,” donde completamos la  frase al expresar la propiedad deseada. "
   ]
  },
  {
   "cell_type": "markdown",
   "id": "b75125bd",
   "metadata": {},
   "source": [
    "Por ejemplo, $\\{x: x 3\\}$ se lee “el conjunto de toda x tal que $x$ es mayor a $3$.”\n"
   ]
  },
  {
   "cell_type": "markdown",
   "id": "d269900d",
   "metadata": {},
   "source": [
    "Para conjuntos finitos, a veces encerramos todos los elementos del conjunto dentro de llaves. "
   ]
  },
  {
   "cell_type": "markdown",
   "id": "2d6d41e0",
   "metadata": {},
   "source": [
    "Así, si el conjunto T está formado por los primeros cinco enteros positivos, podemos escribir $T = \\{1, 2, 3, 4, 5\\}.   "
   ]
  },
  {
   "cell_type": "markdown",
   "id": "b7559d63",
   "metadata": {},
   "source": [
    "Cuando describimos conjuntos en esta forma, el orden empleado al hacer una lista de los elementos es irrelevante, de modo que podríamos también escribir $T = \\{1, 3, 2,  4, 5\\}, T = \\{4, 3, 2, 5, 1\\}$, etcétera.\n"
   ]
  },
  {
   "cell_type": "markdown",
   "id": "ea9ac838",
   "metadata": {},
   "source": [
    "Si empezamos con cualquier colección de variables y números reales, entonces una expresión algebraica es el resultado obtenido al aplicar sumas, restas, multiplicaciones, divisiones, potencias, o sacar raíces de esta colección.\n"
   ]
  },
  {
   "cell_type": "markdown",
   "id": "e3b783c3",
   "metadata": {},
   "source": [
    "# Evaluación en expresiones algebraicas "
   ]
  },
  {
   "cell_type": "markdown",
   "id": "e93baa00",
   "metadata": {},
   "source": [
    "Si números específicos se sustituyen por las variables en una expresión algebraica, el número resultante se denomina valor de la expresión para estos números. "
   ]
  },
  {
   "cell_type": "markdown",
   "id": "717e165b",
   "metadata": {},
   "source": [
    "El dominio de una expresión algebraica está formado por todos los números reales que pueden representar a las variables. "
   ]
  },
  {
   "cell_type": "markdown",
   "id": "41c367c6",
   "metadata": {},
   "source": [
    "Entonces, a menos que se especifique otra cosa, suponemos que el dominio está formado por los números reales que, cuando se sustituyan por las variables, no hacen que la expresión carezca de sentido; es decir, cuando los denominadores no pueden ser iguales a cero y las raíces siempre existen. "
   ]
  },
  {
   "cell_type": "markdown",
   "id": "c1581c29",
   "metadata": {},
   "source": [
    "En la siguiente tabla se dan dos  ilustraciones"
   ]
  },
  {
   "cell_type": "markdown",
   "id": "804cfe27",
   "metadata": {},
   "source": [
    "# Expresiones algebraicas  \n"
   ]
  },
  {
   "cell_type": "markdown",
   "id": "0788bc1d",
   "metadata": {},
   "source": [
    "\n",
    "## Ejemplo 1: \n",
    "\n",
    "$x^{3} - 5x + \\frac{6}{\\sqrt{x}}$, su dominio es toda $x > 0$. Por tanto la potemos evaluar en $x = 4$. "
   ]
  },
  {
   "cell_type": "code",
   "execution_count": 4,
   "id": "d5c2fbef",
   "metadata": {},
   "outputs": [],
   "source": [
    "y = lambda x: x**3 - 5*x + 6/(x**(1/2))"
   ]
  },
  {
   "cell_type": "code",
   "execution_count": 5,
   "id": "6e2b3bf9",
   "metadata": {},
   "outputs": [
    {
     "data": {
      "text/plain": [
       "47.0"
      ]
     },
     "execution_count": 5,
     "metadata": {},
     "output_type": "execute_result"
    }
   ],
   "source": [
    "y(4)"
   ]
  },
  {
   "cell_type": "markdown",
   "id": "f6d5e4a9",
   "metadata": {},
   "source": [
    "## Ejemplo 2  \n",
    "\n",
    "$$ \\frac{2xy + \\frac{3}{x^{2}}}{\\sqrt[3]{y - 1}} $$\n",
    "\n",
    "Tiene por dominio a todas las x \\neq 0 y a todos los y \\neq 1.  \n",
    "\n",
    "Por tanto la podemos evaluar en $x = 1$ y y = 9. "
   ]
  },
  {
   "cell_type": "code",
   "execution_count": 6,
   "id": "f7782ac4",
   "metadata": {},
   "outputs": [],
   "source": [
    "f = lambda x,y: (2*x*y + 3/(x**2))/((y-1)**(1/3))"
   ]
  },
  {
   "cell_type": "code",
   "execution_count": 7,
   "id": "4b3baf09",
   "metadata": {},
   "outputs": [
    {
     "data": {
      "text/plain": [
       "10.5"
      ]
     },
     "execution_count": 7,
     "metadata": {},
     "output_type": "execute_result"
    }
   ],
   "source": [
    "f(1,9)"
   ]
  },
  {
   "cell_type": "markdown",
   "id": "af2ff88b",
   "metadata": {},
   "source": [
    "# Definición de monomio en x  \n",
    "\n",
    "Si $x$ es una variable, entonces un monomio en $x$ es una expresión de la  forma $ax^{n}$, donde $a$ es un número real y $n$ es un entero no negativo. "
   ]
  },
  {
   "cell_type": "markdown",
   "id": "bf636022",
   "metadata": {},
   "source": [
    "Un binomio es una suma de dos monomios y un trinomio es una suma de tres monomios."
   ]
  },
  {
   "cell_type": "markdown",
   "id": "ae598b4a",
   "metadata": {},
   "source": [
    "Un polinomio en $x$ es una suma de cualquier número de monomios en $x$.\n"
   ]
  },
  {
   "cell_type": "markdown",
   "id": "9832370e",
   "metadata": {},
   "source": [
    " Otraformadeexpresarestoescomosigue."
   ]
  },
  {
   "cell_type": "markdown",
   "id": "5f185186",
   "metadata": {},
   "source": [
    "# Definición de polinomio  \n",
    "\n",
    "Un polinomio en $x$ es una suma de la forma   \n",
    "\n",
    "$$ a_{n}x^{n} + a_{n-1}x^{n-1} + \\cdots + a_{1}x + a_{0} $$\n",
    "\n",
    "donde $n$ es un entero nonegativo y cada coeficiente $a_{k}$ es un número real.  \n",
    "\n",
    "Si $a_{n} \\neq 0$, entonces se dice que el polinomio tiene grado $n$.  \n",
    "\n",
    "$a_{n}$ lo llamamos coeficiente líder. \n",
    "\n",
    "$a_{1}x$ lo llamamos término lineal y a $a_{0}$ lo llamanos término constante o independiente de $x$. "
   ]
  },
  {
   "cell_type": "markdown",
   "id": "b11c1811",
   "metadata": {},
   "source": [
    "Dame una función de usuario de Python de argumentos $n$ y tipo_coeficientes y que para cada entero no negativo $n$ y para cada tipo_coeficientes en la lista ['naturales', 'enteros', 'racionales', 'irracionales', 'reales'] me genere un ejemplo de polinomio $a_{n}x^{n} + a_{n-1}x^{n-1} + \\cdots + a_{1}x + a_{0}$ de coeficientes $a_{k}$ en el conjunto dado por el parámetro tipo_coeficientes"
   ]
  },
  {
   "cell_type": "markdown",
   "id": "5953d8b6",
   "metadata": {},
   "source": [
    "Listo ✅\n",
    "Te dejo una función en Python que cumple con tu requerimiento: genera un **polinomio de grado n** con coeficientes en el conjunto especificado (`naturales`, `enteros`, `racionales`, `irracionales`, `reales`).\n"
   ]
  },
  {
   "cell_type": "markdown",
   "id": "12710a83",
   "metadata": {},
   "source": [
    "\n",
    "Incluyo el uso de **SymPy** para representar el polinomio de forma simbólica.\n"
   ]
  },
  {
   "cell_type": "code",
   "execution_count": 2,
   "id": "5542bc82",
   "metadata": {},
   "outputs": [
    {
     "name": "stdout",
     "output_type": "stream",
     "text": [
      "Naturales (n=3): 7*x**3 + 5*x**2 + 9*x + 8\n",
      "Enteros (n=3): 6*x**3 + x**2 + 9*x + 1\n",
      "Racionales (n=3): 8*x**2/9 - 5*x/7 + 7/6\n",
      "Irracionales (n=3): sqrt(3)*x**3 + sqrt(2)*x**2 + pi*x + pi\n",
      "Reales (n=3): -8.2*x**3 + 9.56*x**2 - 4.73*x + 2.07\n"
     ]
    }
   ],
   "source": [
    "\n",
    "import random\n",
    "from fractions import Fraction\n",
    "from sympy import symbols, sqrt, pi, E\n",
    "\n",
    "def generar_polinomio(n: int, tipo_coeficientes: str):\n",
    "    \"\"\"\n",
    "    Genera un polinomio a_n x^n + ... + a_1 x + a_0 con coeficientes \n",
    "    según el tipo especificado.\n",
    "    \n",
    "    Parámetros:\n",
    "    -----------\n",
    "    n : int\n",
    "        Grado del polinomio (entero no negativo).\n",
    "    tipo_coeficientes : str\n",
    "        Tipo de coeficientes: 'naturales', 'enteros', 'racionales', \n",
    "        'irracionales', 'reales'.\n",
    "    \n",
    "    Retorna:\n",
    "    --------\n",
    "    sympy.Expr\n",
    "        Polinomio simbólico.\n",
    "    \"\"\"\n",
    "    if tipo_coeficientes not in ['naturales', 'enteros', 'racionales', 'irracionales', 'reales']:\n",
    "        raise ValueError(\"tipo_coeficientes debe estar en ['naturales', 'enteros', 'racionales', 'irracionales', 'reales']\")\n",
    "    \n",
    "    x = symbols('x')\n",
    "    coeficientes = []\n",
    "    \n",
    "    for k in range(n, -1, -1):  # Desde a_n hasta a_0\n",
    "        if tipo_coeficientes == 'naturales':\n",
    "            coef = random.randint(1, 10)  # Naturales: positivos sin cero\n",
    "        elif tipo_coeficientes == 'enteros':\n",
    "            coef = random.randint(-10, 10)  # Enteros positivos y negativos\n",
    "        elif tipo_coeficientes == 'racionales':\n",
    "            num = random.randint(-10, 10)\n",
    "            den = random.randint(1, 10)\n",
    "            coef = Fraction(num, den)\n",
    "        elif tipo_coeficientes == 'irracionales':\n",
    "            irracionales = [sqrt(2), sqrt(3), pi, E]\n",
    "            coef = random.choice(irracionales)\n",
    "        elif tipo_coeficientes == 'reales':\n",
    "            coef = round(random.uniform(-10, 10), 2)  # Reales con decimales\n",
    "        \n",
    "        coeficientes.append(coef)\n",
    "    \n",
    "    # Construir el polinomio\n",
    "    polinomio = sum(coeficientes[i] * x**(n - i) for i in range(len(coeficientes)))\n",
    "    \n",
    "    return polinomio\n",
    "\n",
    "# Ejemplos de uso:\n",
    "for tipo in ['naturales', 'enteros', 'racionales', 'irracionales', 'reales']:\n",
    "    print(f\"{tipo.capitalize()} (n=3):\", generar_polinomio(3, tipo))\n",
    "\n"
   ]
  },
  {
   "cell_type": "markdown",
   "id": "feff08f6",
   "metadata": {},
   "source": [
    "\n",
    "---\n",
    "\n",
    "### 🔹 Características\n",
    "\n",
    "* **Aleatoriza** los coeficientes para que cada ejecución sea distinta.\n",
    "* Usa `Fraction` para coeficientes racionales exactos.\n",
    "* Usa `sqrt`, `pi` y `E` para ejemplos irracionales.\n",
    "* Usa `round(random.uniform(...))` para reales con decimales.\n",
    "* Devuelve un **objeto simbólico** que puedes manipular con SymPy.\n",
    "\n",
    "---\n"
   ]
  },
  {
   "cell_type": "markdown",
   "id": "558241c7",
   "metadata": {},
   "source": [
    "\n",
    "Si quieres, puedo hacer que esta función también **muestre el polinomio en notación matemática bonita en Jupyter** usando `display` y `Latex` de SymPy.\n",
    "¿Quieres que lo prepare así?\n"
   ]
  },
  {
   "cell_type": "markdown",
   "id": "110428ad",
   "metadata": {},
   "source": [
    "Cada expresión $a_{k}x^{k}$ de la suma es un término del polinomio."
   ]
  },
  {
   "cell_type": "markdown",
   "id": "2c01769a",
   "metadata": {},
   "source": [
    "Siuncoe\n",
    "ficienteakescero,porlogeneralseeliminael término .Elcoeficienteak\n",
    " delamáximapotenciadexsedenominacoeficienteprincipaldelpolinomio.\n",
    " Latablasiguientecontieneilustracionesespecíficasdepolinomios. "
   ]
  },
  {
   "cell_type": "markdown",
   "id": "337ef69b",
   "metadata": {},
   "source": [
    "Dame una función de Python sin argumentos de entrada que cada vez que la corra me genere un dataframe cuya primera columna sea de nombre `polinomio`, la segunda columna sea de nombre `coeficiente líder $a_{n}$`y la tercera columna sea de nombre `grado_del_polinomio`. Y que esta función  de Python genere 6 polinomios de coeficientes enteros y llene el dataframe con la información definida por los nombres de las tres columnas. "
   ]
  },
  {
   "cell_type": "markdown",
   "id": "0c503f53",
   "metadata": {},
   "source": [
    "Perfecto ✅\n",
    "Aquí tienes la función que genera **6 polinomios con coeficientes enteros** y crea un `DataFrame` con:\n",
    "\n",
    "* **`polinomio`** → el polinomio simbólico.\n",
    "* **`coeficiente líder $a_{n}$`** → el primer coeficiente distinto de cero.\n",
    "* **`grado_del_polinomio`** → el grado del polinomio.\n"
   ]
  },
  {
   "cell_type": "code",
   "execution_count": 5,
   "id": "269ed12b",
   "metadata": {},
   "outputs": [
    {
     "data": {
      "application/vnd.microsoft.datawrangler.viewer.v0+json": {
       "columns": [
        {
         "name": "index",
         "rawType": "int64",
         "type": "integer"
        },
        {
         "name": "polinomio",
         "rawType": "object",
         "type": "unknown"
        },
        {
         "name": "coeficiente líder $a_{n}$",
         "rawType": "int64",
         "type": "integer"
        },
        {
         "name": "grado_del_polinomio",
         "rawType": "int64",
         "type": "integer"
        }
       ],
       "ref": "ff0bad49-18dc-4091-a11c-d4a55a3bad3f",
       "rows": [
        [
         "0",
         "3*x - 2",
         "3",
         "1"
        ],
        [
         "1",
         "-5*x**5 + 7*x**4 + 2*x**3 - 10*x**2 + 6*x + 8",
         "-5",
         "5"
        ],
        [
         "2",
         "9*x**4 + 10*x**3 + 5*x**2 + 3",
         "9",
         "4"
        ],
        [
         "3",
         "9*x**5 + x**4 - 2*x**3 - 6*x**2 + 8*x - 4",
         "9",
         "5"
        ],
        [
         "4",
         "-9*x**2 - 6*x - 10",
         "-9",
         "2"
        ],
        [
         "5",
         "4*x**2 - 4*x - 4",
         "4",
         "2"
        ]
       ],
       "shape": {
        "columns": 3,
        "rows": 6
       }
      },
      "text/html": [
       "<div>\n",
       "<style scoped>\n",
       "    .dataframe tbody tr th:only-of-type {\n",
       "        vertical-align: middle;\n",
       "    }\n",
       "\n",
       "    .dataframe tbody tr th {\n",
       "        vertical-align: top;\n",
       "    }\n",
       "\n",
       "    .dataframe thead th {\n",
       "        text-align: right;\n",
       "    }\n",
       "</style>\n",
       "<table border=\"1\" class=\"dataframe\">\n",
       "  <thead>\n",
       "    <tr style=\"text-align: right;\">\n",
       "      <th></th>\n",
       "      <th>polinomio</th>\n",
       "      <th>coeficiente líder $a_{n}$</th>\n",
       "      <th>grado_del_polinomio</th>\n",
       "    </tr>\n",
       "  </thead>\n",
       "  <tbody>\n",
       "    <tr>\n",
       "      <th>0</th>\n",
       "      <td>3*x - 2</td>\n",
       "      <td>3</td>\n",
       "      <td>1</td>\n",
       "    </tr>\n",
       "    <tr>\n",
       "      <th>1</th>\n",
       "      <td>-5*x**5 + 7*x**4 + 2*x**3 - 10*x**2 + 6*x + 8</td>\n",
       "      <td>-5</td>\n",
       "      <td>5</td>\n",
       "    </tr>\n",
       "    <tr>\n",
       "      <th>2</th>\n",
       "      <td>9*x**4 + 10*x**3 + 5*x**2 + 3</td>\n",
       "      <td>9</td>\n",
       "      <td>4</td>\n",
       "    </tr>\n",
       "    <tr>\n",
       "      <th>3</th>\n",
       "      <td>9*x**5 + x**4 - 2*x**3 - 6*x**2 + 8*x - 4</td>\n",
       "      <td>9</td>\n",
       "      <td>5</td>\n",
       "    </tr>\n",
       "    <tr>\n",
       "      <th>4</th>\n",
       "      <td>-9*x**2 - 6*x - 10</td>\n",
       "      <td>-9</td>\n",
       "      <td>2</td>\n",
       "    </tr>\n",
       "    <tr>\n",
       "      <th>5</th>\n",
       "      <td>4*x**2 - 4*x - 4</td>\n",
       "      <td>4</td>\n",
       "      <td>2</td>\n",
       "    </tr>\n",
       "  </tbody>\n",
       "</table>\n",
       "</div>"
      ],
      "text/plain": [
       "                                       polinomio  coeficiente líder $a_{n}$  \\\n",
       "0                                        3*x - 2                          3   \n",
       "1  -5*x**5 + 7*x**4 + 2*x**3 - 10*x**2 + 6*x + 8                         -5   \n",
       "2                  9*x**4 + 10*x**3 + 5*x**2 + 3                          9   \n",
       "3      9*x**5 + x**4 - 2*x**3 - 6*x**2 + 8*x - 4                          9   \n",
       "4                             -9*x**2 - 6*x - 10                         -9   \n",
       "5                               4*x**2 - 4*x - 4                          4   \n",
       "\n",
       "   grado_del_polinomio  \n",
       "0                    1  \n",
       "1                    5  \n",
       "2                    4  \n",
       "3                    5  \n",
       "4                    2  \n",
       "5                    2  "
      ]
     },
     "execution_count": 5,
     "metadata": {},
     "output_type": "execute_result"
    }
   ],
   "source": [
    "import random\n",
    "import pandas as pd\n",
    "from sympy import symbols\n",
    "\n",
    "def generar_df_polinomios():\n",
    "    \"\"\"\n",
    "    Genera un DataFrame con 6 polinomios aleatorios de coeficientes enteros.\n",
    "    Columnas: polinomio, coeficiente líder a_n, grado_del_polinomio.\n",
    "    \"\"\"\n",
    "    x = symbols('x')\n",
    "    datos = []\n",
    "\n",
    "    for _ in range(6):\n",
    "        # Grado aleatorio entre 1 y 5\n",
    "        grado = random.randint(1, 5)\n",
    "        \n",
    "        # Generar coeficientes enteros aleatorios entre -10 y 10\n",
    "        coeficientes = [random.randint(-10, 10) for _ in range(grado + 1)]\n",
    "        \n",
    "        # Evitar que el coeficiente líder sea cero\n",
    "        while coeficientes[0] == 0:\n",
    "            coeficientes[0] = random.randint(-10, 10)\n",
    "        \n",
    "        # Construir el polinomio simbólico\n",
    "        polinomio = sum(coeficientes[i] * x**(grado - i) for i in range(len(coeficientes)))\n",
    "        \n",
    "        # Guardar datos\n",
    "        datos.append({\n",
    "            \"polinomio\": polinomio,\n",
    "            \"coeficiente líder $a_{n}$\": coeficientes[0],\n",
    "            \"grado_del_polinomio\": grado\n",
    "        })\n",
    "    \n",
    "    # Crear DataFrame\n",
    "    df = pd.DataFrame(datos)\n",
    "    return df\n",
    "\n",
    "# Ejemplo de ejecución\n",
    "df_polinomios = generar_df_polinomios()\n",
    "df_polinomios\n",
    "\n"
   ]
  },
  {
   "cell_type": "markdown",
   "id": "cdce8cf8",
   "metadata": {},
   "source": [
    "\n",
    "---\n",
    "\n",
    "### 🔹 Características\n"
   ]
  },
  {
   "cell_type": "markdown",
   "id": "34f2527c",
   "metadata": {},
   "source": [
    "\n",
    "* Siempre **evita coeficiente líder cero**.\n"
   ]
  },
  {
   "cell_type": "markdown",
   "id": "f0e35ac0",
   "metadata": {},
   "source": [
    "* Los grados de los polinomios varían aleatoriamente entre **1 y 5**.\n"
   ]
  },
  {
   "cell_type": "markdown",
   "id": "0fce1114",
   "metadata": {},
   "source": [
    "* Devuelve un **DataFrame de Pandas** que puedes exportar o mostrar en Jupyter.\n",
    "\n",
    "---\n"
   ]
  },
  {
   "cell_type": "markdown",
   "id": "50bb6b90",
   "metadata": {},
   "source": [
    "\n",
    "Si quieres, puedo hacer que esta misma función **muestre los polinomios en notación matemática renderizada en Jupyter** usando `sympy.latex` para que aparezcan bonitos en VS Code o en un notebook.\n",
    "¿Quieres que lo prepare así?\n"
   ]
  },
  {
   "cell_type": "markdown",
   "id": "47b144ec",
   "metadata": {},
   "source": [
    "# Definición de igualdad de polinomios  \n",
    "\n",
    "Por definición, dos polinomios son iguales si y sólo si tienen el mismo grado y los coeficientes de las potencias semejantes de x son iguales. "
   ]
  },
  {
   "cell_type": "markdown",
   "id": "3a3a5675",
   "metadata": {},
   "source": [
    "Si todos los coeficientes de un polinomio son cero, recibe el nombre de polinomio cero y se denota por 0 pero, por convención, el grado del polinomio cero no es cero \n",
    " sino que es indefinido. Si c es un número real diferente de cero, entonces c es \n",
    " un polinomio de grado 0. Tales polinomios (junto con el polinomio cero) son \n",
    " polinomios constantes."
   ]
  },
  {
   "cell_type": "markdown",
   "id": "afbc5591",
   "metadata": {},
   "source": [
    " Si un coeficiente de un polinomio es negativo, por lo general usamos un  signo menos entre términos apropiados. Para ilustrar,\n",
    "\n",
    "$$ 3x^{2} + (-5x)  + 4 = 3x^{2} - 5x + 4$$\n"
   ]
  },
  {
   "cell_type": "markdown",
   "id": "a6c9e680",
   "metadata": {},
   "source": [
    "\n",
    " También podemos considerar polinomios con variables que no sean $x$. "
   ]
  },
  {
   "cell_type": "markdown",
   "id": "5eaf3660",
   "metadata": {},
   "source": [
    "Por ejemplo, $\\frac{2}{5}z^{2} - 3z^{7} + 8 -\\sqrt{5}z^{4}$ es un polinomio en $z$ de grado 7. "
   ]
  },
  {
   "cell_type": "markdown",
   "id": "d6ca05da",
   "metadata": {},
   "source": [
    "Con frecuencia acomodamos los términos de un polinomio en orden de potencias decrecientes de la variable; así,  \n",
    "\n",
    "$$ \\frac{2}{5}z^{2} - 3z^{7} + 8 -\\sqrt{5}z^{4} = -3z^{7}  $$\n",
    "\n",
    "Podemos considerar un polinomio en x como una expresión algebraica obtenida al emplear un número finito de adiciones, sustracciones y multiplica\n",
    "ciones que contengan $x$. Si una expresión algebraica contiene divisiones o raíces que contienen una variable x, entonces no es un polinomio en x.  "
   ]
  },
  {
   "cell_type": "code",
   "execution_count": null,
   "id": "1cc40585",
   "metadata": {},
   "outputs": [],
   "source": []
  },
  {
   "cell_type": "code",
   "execution_count": null,
   "id": "6a8a9594",
   "metadata": {},
   "outputs": [],
   "source": []
  },
  {
   "cell_type": "code",
   "execution_count": null,
   "id": "8b6ec535",
   "metadata": {},
   "outputs": [],
   "source": []
  },
  {
   "cell_type": "markdown",
   "id": "a17de019",
   "metadata": {},
   "source": [
    "\n",
    "## 6. Actividades de aprendizaje (en clase y laboratorio)\n",
    "\n",
    "1. *Explorar* con ipywidgets cómo cambian productos notables al variar coeficientes.\n",
    "2. *Demostrar* con SymPy que \\$(a+b)^2 = a^2 + 2ab + b^2\\$ y visualizar con gráficos de superficie la expresión en dos variables.\n",
    "3. *Construir* la representación geométrica de \\$z = a+bi\\$ y simular la multiplicación por \\$i\\$ como rotación de \\$90^\\circ\\$ mediante animación. (usar `matplotlib.animation` y `IPython.display` para renderizar).\n",
    "4. *Problema ABP en grupos:* diseñar un mini-juego en Jupyter donde el usuario identifica raíces complejas a partir de la gráfica de un polinomio y recibe feedback automatizado por SymPy.\n",
    "5. *Conectar registros:* para cada solución, pedir la explicación en lenguaje natural (registro verbal), simbólico y gráfico.\n",
    "\n",
    "---\n"
   ]
  },
  {
   "cell_type": "markdown",
   "id": "d90402f8",
   "metadata": {},
   "source": [
    "\n",
    "## 7. Canción/poema (para interiorizar conceptos)\n",
    "\n",
    "**Poema-corro (ritmo fácil para cantarlo en clase):**\n",
    "\n",
    "> *Suma y gira, número en mano,*\n",
    "> *\\$a+bi\\$ sale al plano.*\n",
    "> *Si lo multiplicas por \\$i\\$,*\n",
    "> *una vuelta ves en el día.*\n",
    "> *Factoriza con corazón,*\n",
    "> *raíces salen a la razón.*\n",
    "\n",
    "(Puedes convertirlo en una melodía sencilla tipo canción infantil para que lo repitan antes de practicar ejercicios.)\n",
    "\n",
    "---\n",
    "\n",
    "## 8. Tarea: 20 ejercicios con la secuencia pedida + función Python para asignarlos\n",
    "\n",
    "Cada ejercicio presenta cuatro partes: (A) descripción geométrica del algoritmo (qué hace), (B) descripción verbal y secuencial (pasos), (C) implementación en Python (pensada para ejecutarse desde PowerShell / VSCode), (D) cálculo manual en el cuaderno.\n",
    "\n",
    "A continuación 20 enunciados resumidos; para cada uno doy la estructura (A–D). **Por brevedad aquí muestro los enunciados y un ejemplo desarrollado completo (ejercicio 1).**\n",
    "\n",
    "---\n",
    "\n",
    "### Ejercicio modelo (Ej. 1)\n",
    "\n",
    "**Enunciado:** Factoriza \\$x^2+2x+1\\$ y relaciona la factorización con la posición de la raíz en el plano complejo (si corresponde).\n",
    "\n",
    "**A. Descripción geométrica:**\n",
    "El polinomio tiene una raíz doble en \\$x=-1\\$. En el plano complejo, eso corresponde a un punto en la recta real en \\$-1\\$ con multiplicidad 2 (visualizar como punto con marcador grande).\n",
    "\n",
    "**B. Descripción verbal y secuencial (algoritmo):**\n",
    "\n",
    "1. Identificar coeficientes \\$a=1,b=2,c=1\\$.\n",
    "2. Calcular discriminante \\$\\Delta=b^2-4ac=0\\$.\n",
    "3. Si \\$\\Delta=0\\$ entonces raíz doble \\$x=-b/(2a)\\$.\n",
    "4. Escribir factorización \\$(x - r)^2\\$.\n",
    "\n",
    "**C. Implementación Python (ejecutar en PowerShell o en Jupyter):**\n",
    "\n",
    "```python\n",
    "# Guardar como factoriza_ej1.py o ejecutar en notebook\n",
    "import sympy as sp\n",
    "x = sp.symbols('x')\n",
    "expr = x**2 + 2*x + 1\n",
    "fact = sp.factor(expr)\n",
    "roots = sp.solve(sp.Eq(expr,0), x)\n",
    "print(\"Expresión:\", expr)\n",
    "print(\"Factorización:\", fact)\n",
    "print(\"Raíces:\", roots)\n",
    "```\n",
    "\n",
    "Ejecución en PowerShell: `python factoriza_ej1.py` (si usas notebook, ejecutar la celda).\n",
    "\n",
    "**D. Cálculo a mano (cuaderno):**\n",
    "\\$\\Delta = 2^2 - 4*1*1 = 0 \\Rightarrow x = -2/(2)= -1\\$. Entonces \\$(x+1)^2\\$ o \\$(x - (-1))^2\\$.\n",
    "\n",
    "---\n",
    "\n",
    "### Ejercicios 2–20 (enunciados breves; sigue A–D igual que el ejemplo)\n",
    "\n",
    "2. Factoriza \\$x^2 - 5x + 6\\$ y ubica las raíces en la recta real.\n",
    "3. Muestra geométricamente cómo la multiplicación por \\$i\\$ rota \\$z=a+bi\\$ y crea una animación que recorra \\$z\\$ en círculo.\n",
    "4. Factoriza \\$x^3 - 1\\$ sobre \\$\\mathbb{C}\\$ y dibuja las raíces en el plano (usa plotly para interactividad).\n",
    "5. Explica y demuestra la identidad \\$(a-b)^2 = a^2 - 2ab + b^2\\$ con una visualización 3D de \\$f(a,b)\\$.\n",
    "6. Factoriza \\$x^4 + 4\\$ y relaciona con raíces complejas (usa SymPy para la factorización completa).\n",
    "7. Encuentra la suma y producto de raíces de \\$x^2 + x + 1\\$ y ubícalas en el plano complejo (polígono regular).\n",
    "8. Visualiza el polinomio \\$x^2 + 1\\$ y muestra por qué sus raíces son \\$\\pm i\\$ (animación que muestra la intersección con el eje real).\n",
    "9. Implementa algoritmo que, dado un polinomio con coeficientes reales, determine y grafique sus raíces (usar numpy.roots y SymPy).\n",
    "10. Demuestra la factorización por agrupación en \\$x^3 + x^2 - x -1\\$ y dibuja la relación entre factores y interceptos.\n",
    "11. Factoriza \\$x^2+2x\\cos\\theta +1\\$ en términos de \\$e^{i\\theta}\\$ y visualiza como rotación.\n",
    "12. Explica y ejemplifica la técnica de sustitución para factorizar \\$x^4 - x^2 - 2\\$ (usa \\$y=x^2\\$).\n",
    "13. Dado \\$p(x)=x^3-3x+2\\$, encuentra sus raíces, factoriza y compara la salida de SymPy y el cálculo manual.\n",
    "14. Construye una función que acepte coeficientes y devuelva factores irreducibles sobre \\$\\mathbb{R}\\$ y \\$\\mathbb{C}\\$.\n",
    "15. Demuestra que \\$x^2+4x+4=(x+2)^2\\$ y muestra la multiplicidad de la raíz en gráfico.\n",
    "16. Encuentra factorización de \\$x^6 -1\\$ y relaciona con raíces de la unidad (polígono en el círculo unitario).\n",
    "17. Implementa un widget interactivo que muestre cómo cambian las raíces al variar un coeficiente.\n",
    "18. Factoriza \\$x^2+1\\$ en \\$\\mathbb{C}\\$ y muestra la interpretación vectorial de \\$\\pm i\\$.\n",
    "19. Diseña una pequeña red neuronal (TensorFlow/Keras) que intente predecir si un polinomio grado 2 tiene raíces reales o complejas a partir de coeficientes (experimento STEAMS).\n",
    "20. Integra todo: dado un polinomio, producir un notebook que muestre factorización, raíces, animación de cómo se transforman las raíces al variar un parámetro y un reporte breve (1 página) con explicación en registros distintos.\n",
    "\n",
    "---\n",
    "\n",
    "### Función Python para asignar tareas a estudiantes (usa la lista de estudiantes en GitHub)\n",
    "\n",
    "El siguiente script lee la planilla de estudiantes desde la URL (raw) del repositorio GitHub y asigna aleatoriamente una tarea de la lista de 20 a cada estudiante. **Si la URL raw difiere, ajusta la variable `raw_url`.**\n",
    "\n",
    "```python\n",
    "# Asignador de tareas (usa pandas)\n",
    "import pandas as pd\n",
    "import random\n",
    "\n",
    "def asignar_tareas_excel(raw_url=\"https://raw.githubusercontent.com/marco-canas/groups_list/main/vector_geometry_and_linear_algebra.xlsx\",\n",
    "                         sheet_name=0):\n",
    "    # Leer la lista de estudiantes\n",
    "    df = pd.read_excel(raw_url, sheet_name=sheet_name)\n",
    "    # Asumo que hay una columna 'Nombre' o 'name'; ajustar según el archivo real\n",
    "    if 'Nombre' in df.columns:\n",
    "        nombres = df['Nombre'].tolist()\n",
    "    elif 'name' in df.columns:\n",
    "        nombres = df['name'].tolist()\n",
    "    else:\n",
    "        # usar primera columna\n",
    "        nombres = df.iloc[:,0].tolist()\n",
    "\n",
    "    tareas = list(range(1,21))  # tareas 1..20\n",
    "    random.seed(42)  # reproducible\n",
    "    asignaciones = []\n",
    "    for i, alumno in enumerate(nombres):\n",
    "        tarea = tareas[i % len(tareas)]  # asignación cíclica\n",
    "        asignaciones.append({'Alumno': alumno, 'Tarea': tarea})\n",
    "\n",
    "    asign_df = pd.DataFrame(asignaciones)\n",
    "    return asign_df\n",
    "\n",
    "if __name__ == \"__main__\":\n",
    "    df_asig = asignar_tareas_excel()\n",
    "    print(df_asig)\n",
    "    # Guardar resultado\n",
    "    df_asig.to_excel(\"asignacion_tareas.xlsx\", index=False)\n",
    "    print(\"Asignaciones guardadas en asignacion_tareas.xlsx\")\n",
    "```\n",
    "\n",
    "> **Instrucciones PowerShell:** si guardas el script como `asignar_tareas.py`, ejecuta en PowerShell: `python asignar_tareas.py`. Esto generará `asignacion_tareas.xlsx` en la carpeta actual.\n",
    "\n",
    "---\n",
    "\n",
    "## 9. Evaluación\n",
    "\n",
    "### Evaluación formativa (continua)\n",
    "\n",
    "* Observación en laboratorio (registro de cambios de registro).\n",
    "* Entregables parciales en GitHub: notebooks con cells ejecutables y un README.\n",
    "\n",
    "### Evaluación sumativa — 20 proyectos (resumen)\n",
    "\n",
    "Cada proyecto será una combinación de: (i) descripción geométrica del algoritmo, (ii) explicación secuencial, (iii) implementación en Python (Jupyter notebook con instrucciones ejecutables para PowerShell) y (iv) solución a mano en cuaderno (documentada con fotos). Ejemplos de títulos:\n",
    "\n",
    "1. Visualizador interactivo de raíces de polinomios (nivel básico).\n",
    "2. Animación de rotaciones usando multiplicación por \\$e^{i\\theta}\\$.\n",
    "3. Módulo educativo que enseña productos notables con pruebas visuales.\n",
    "4. Detector (classifier) de naturaleza de raíces usando redes neuronales (TensorFlow).\n",
    "5. Notebook que conecta factorización con geometría (mapas interactivos).\n",
    "   ... hasta 20 (varían en complejidad).\n",
    "\n",
    "### Quiz ejemplo (3 ítems, estilo diagnóstico)\n",
    "\n",
    "1. Verdadero/Falso: \\$(a+b)^2 = a^2 + b^2 + 2ab\\$.\n",
    "2. ¿Cuál es la raíz de \\$x^2+1=0\\$? (Respuesta corta)\n",
    "3. Selección múltiple: ¿Qué operación en el plano corresponde a multiplicar por \\$-1\\$?\n",
    "\n",
    "   * A) Traslación\n",
    "   * B) Rotación de 180° y homotecia de 1\n",
    "   * C) Reflexión en eje real\n",
    "   * D) Ninguna de las anteriores\n",
    "\n",
    "### Parcial ejemplo (5 ítems)\n",
    "\n",
    "1. Factoriza y dibuja las raíces de \\$x^3 - 3x + 2\\$. (Explica en registros algebraico y geométrico)\n",
    "2. Demuestra algebraicamente que \\$(x+1)^2 = x^2 + 2x +1\\$ y grafica la función asociada mostrando la multiplicidad de la raíz. (Incluye código SymPy).\n",
    "3. Dado \\$z = 2 + 3i\\$, calcula \\$z \\cdot (1-i)\\$, dibuja ambos en el plano y explica la transformación.\n",
    "4. Implementa un pequeño script (código) que, al recibir coeficientes, devuelva y grafique todas las raíces; incluye en tu entrega la ejecución desde PowerShell y la salida.\n",
    "5. Teórico: explica brevemente la TRRS de Duval y da un ejemplo (en esta asignatura) de cambio de registro necesario para entender la factorización. ([ResearchGate][1], [Pat Thompson][2])\n",
    "\n",
    "> **Criterios de evaluación:** claridad en cada registro, corrección matemática, calidad del código y reproducibilidad (scripts ejecutables desde PowerShell), nivel de reflexión metacognitiva sobre el cambio de registro.\n",
    "\n",
    "---\n",
    "\n",
    "## 10. Diseño de actividad de retroalimentación\n",
    "\n",
    "**Actividad “Triple Registro” (45 minutos):**\n",
    "\n",
    "* Cada estudiante entrega un notebook con: nota verbal (registro oral/escrito), pasos algebraicos y visualización.\n",
    "* Pares realizan revisión guiada con rúbrica: precisión matemática (30%), claridad registro verbal (20%), implementación reproducible (30%), presentación gráfica (20%).\n",
    "* Instructor realiza una sesión de micro-feedback de 10 minutos por equipo enfocada en el paso de registros (¿qué transformación fue la más difícil? ¿por qué?).\n",
    "\n",
    "---\n",
    "\n",
    "## 11. Vocabulario y frases en inglés asociadas a la clase\n",
    "\n",
    "* *Polynomial* — polinomio\n",
    "* *Factorization* — factorización\n",
    "* *Perfect square* — cuadrado perfecto\n",
    "* *Complex number* — número complejo\n",
    "* *Real part / Imaginary part* — parte real / parte imaginaria\n",
    "* *Conjugate* — conjugado\n",
    "* *Root / Zero* — raíz / cero\n",
    "* *To factor / to expand* — factorizar / expandir\n",
    "* *To rotate (by θ)* — rotar (por θ)\n",
    "* *Plane (complex plane)* — plano (plano complejo)\n",
    "* Frases útiles:\n",
    "\n",
    "  * *“Express the polynomial in factored form.”* — Expresa el polinomio en forma factorizada.\n",
    "  * *“Plot the roots in the complex plane.”* — Grafica las raíces en el plano complejo.\n",
    "  * *“Explain the transformation in algebraic and geometric registers.”* — Explica la transformación en registros algebraico y geométrico.\n",
    "\n",
    "---\n",
    "\n",
    "## 12. Apéndice: habilidades socioemocionales y trabajo en equipo\n",
    "\n",
    "**Desarrollo de habilidades para trabajo en equipo y asertividad:**\n",
    "\n",
    "* Mini-taller (30–45 min) sobre roles en equipo (coordinador, programador, verificador, documentador).\n",
    "* Dinámica de 5 minutos al inicio de cada sesión: *Check-in emocional* (¿cómo me siento ante el reto de hoy?).\n",
    "* Guía breve para feedback asertivo: descripción objetiva, impacto, sugerencia.\n",
    "\n",
    "**Inteligencia emocional para presentar pruebas sin temor y evitar fraude:**\n",
    "\n",
    "* Estrategias de afrontamiento: técnicas de respiración, planificación por pasos, simulacros.\n",
    "* Rúbrica de honestidad académica: explicar consecuencias y formar acuerdos de clase para honestidad.\n",
    "* Actividad: practicar explicar un procedimiento en voz alta (enseñanza entre pares) — ayuda a retener y reduce ansiedad.\n",
    "\n",
    "---\n"
   ]
  },
  {
   "cell_type": "markdown",
   "id": "6e2308f0",
   "metadata": {},
   "source": [
    "\n",
    "## 13. Referentes en didáctica de la matemática (APA, ordenados y citados en la clase)\n"
   ]
  },
  {
   "cell_type": "markdown",
   "id": "00b01854",
   "metadata": {},
   "source": [
    "\n",
    "A continuación 10 referentes (incluyendo Duval y Wing) en formato APA. Los incluyo para que cites dentro del diseño y los materiales:\n",
    "\n",
    "1. Brousseau, G. (1997). *Theory of didactical situations in mathematics: Didactique des mathématiques, 1970–1990* (N. Balacheff, M. Cooper, R. J. Sutherland & V. Warfield, Eds.). Kluwer Academic Publishers. ([University of Bristol][3])\n",
    "2. Castelnuovo, E. (1959). *Didattica della matematica*. (Textos y artículos; ver compilaciones y reconocimientos de su trabajo sobre métodos concretos). ([Università di Palermo][4])\n",
    "3. Duval, R. (1995). *Geometrical pictures: kinds of representation and the problem of learning in mathematics*. (Trabajo sobre registros semióticos y cambios de representación). ([ResearchGate][1], [Pat Thompson][2])\n",
    "4. Skemp, R. R. (1976). *Relational understanding and instrumental understanding*. *Mathematics Teaching*, 77, 20–26.\n",
    "5. Ernest, P. (1991). *The philosophy of mathematics education*. Falmer Press.\n",
    "6. Pimm, D. (1987). *Speaking Mathematically: Communication in Mathematics Classrooms*. Routledge.\n",
    "7. Niss, M. (1999). *Competencies and mathematical learning — a research view*. In *Proceedings of the 3rd Conference of the European Society for Research in Mathematics Education*.\n",
    "8. Tall, D. (1991). *Intuition and rigour: The role of visualization in calculus*. (Varios artículos sobre visualización).\n",
    "9. Mason, J., Burton, L., & Stacey, K. (1985). *Thinking Mathematically*. Addison-Wesley.\n",
    "10. Wing, J. M. (2008). *Computational thinking and thinking about computing*. *Philosophical Transactions of the Royal Society A*, 366, 3717–3725. ([PMC][5], [PhilPapers][6])\n"
   ]
  },
  {
   "cell_type": "markdown",
   "id": "d134b5ec",
   "metadata": {},
   "source": [
    "\n",
    "> **Nota:** he integrado citas en el diseño cuando hablo de TRRS y pensamiento computacional. Puedes ampliar cada referencia con las ediciones exactas según la biblioteca de tu universidad.\n",
    "\n",
    "---\n"
   ]
  },
  {
   "cell_type": "markdown",
   "id": "0a5a6d05",
   "metadata": {},
   "source": [
    "\n",
    "## Comentarios finales y recomendaciones de implementación práctica\n"
   ]
  },
  {
   "cell_type": "markdown",
   "id": "18d0cbbd",
   "metadata": {},
   "source": [
    "\n",
    "* Diseña los notebooks con celdas ejecutables, explicaciones en markdown (con fórmulas en LaTeX delimitadas por \\$...\\$) y asegúrate que todas las dependencias estén listadas en `requirements.txt`.\n",
    "* Cuando uses `matplotlib.animation` en Jupyter Notebook, renderiza con `IPython.display.HTML(anim.to_jshtml())` o `display(HTML(anim.to_jshtml()))` y recuerda importar `IPython.display` para garantizar la reproducción en VS Code/Jupyter.\n",
    "* Importación recomendada (por tu petición) para widgets y visualizaciones:\n"
   ]
  },
  {
   "cell_type": "code",
   "execution_count": 1,
   "id": "cd826b8e",
   "metadata": {},
   "outputs": [],
   "source": [
    "\n",
    "\n",
    "import numpy as np\n",
    "import matplotlib.pyplot as plt\n",
    "import ipywidgets as widgets\n",
    "# imports adicionales\n",
    "import sympy as sp\n",
    "import pandas as pd\n",
    "import plotly.express as px\n",
    "from IPython.display import HTML, display\n",
    "import matplotlib.animation as animation\n",
    "\n"
   ]
  },
  {
   "cell_type": "markdown",
   "id": "93204c0e",
   "metadata": {},
   "source": [
    "\n",
    "* Para actividades STEAMS: incluye una tarea que conecte la representación de raíces con una aplicación en física o ingeniería (p. ej. análisis de sistemas oscilatorios con polos complejos).\n",
    "\n",
    "---\n"
   ]
  },
  {
   "cell_type": "markdown",
   "id": "dfcf962b",
   "metadata": {},
   "source": [
    "\n",
    "### Recursos / citas online usados en este diseño\n"
   ]
  },
  {
   "cell_type": "markdown",
   "id": "67a97712",
   "metadata": {},
   "source": [
    "\n",
    "* Sobre la TRRS y el papel de los registros en el aprendizaje matemático. ([ResearchGate][1], [Pat Thompson][2])\n",
    "* Sobre *computational thinking* (Jeannette Wing). ([PMC][5], [PhilPapers][6])\n",
    "* Sobre la *Theory of Didactical Situations* (Brousseau). ([University of Bristol][3], [SCIRP][7])\n",
    "* Recursos sobre Emma Castelnuovo y visualización didáctica. ([mathunion.org][8], [Università di Palermo][4])\n",
    "\n"
   ]
  },
  {
   "cell_type": "markdown",
   "id": "18379496",
   "metadata": {},
   "source": [
    "\n",
    "\n",
    "Si quieres, en la siguiente respuesta puedo:\n",
    "\n",
    "* Generar los **notebooks** base (Jupyter `.ipynb`) con celdas listas para ejecutar que incluyan: implementaciones SymPy, widgets interactivos, animaciones con `matplotlib.animation` y ejemplos de PowerShell para lanzar scripts.\n",
    "* Crear el **PDF** con la rúbrica de evaluación y la guía para el proyecto ABPP en formato `.docx` (entregable listo).\n",
    "\n",
    "Dime cuál de esos entregables quieres ahora y lo generamos inmediatamente en el formato que prefieras.\n",
    "\n",
    "[1]: https://www.researchgate.net/publication/318625728_Understanding_the_Mathematical_Way_of_Thinking_-_The_Registers_of_Semiotic_Representations?utm_source=chatgpt.com \"Understanding the Mathematical Way of Thinking – The Registers of ...\"\n",
    "[2]: https://pat-thompson.net/PDFversions/1999Duval.pdf?utm_source=chatgpt.com \"[PDF] representation, vision and visualization: cognitive functions\"\n",
    "[3]: https://research-information.bris.ac.uk/en/publications/theory-of-didactical-situations-in-mathematics-didactique-des-mat?utm_source=chatgpt.com \"Theory of Didactical Situations in Mathematics: didactique des ...\"\n",
    "[4]: https://sites.unipa.it/grim/CIEAEM%2065_Pproceedings_QRDM_Issue%2023%2C%20Suppl.1.pdf?utm_source=chatgpt.com \"[PDF] En l'honneur d'Emma Castelnuovo Turin, Italie - Unipa\"\n",
    "[5]: https://pmc.ncbi.nlm.nih.gov/articles/PMC2696102/?utm_source=chatgpt.com \"Computational thinking and thinking about computing - PMC\"\n",
    "[6]: https://philpapers.org/rec/WINCT?utm_source=chatgpt.com \"Jeannette M. Wing, Computational thinking - PhilPapers\"\n",
    "[7]: https://www.scirp.org/reference/referencespapers?referenceid=2340005&utm_source=chatgpt.com \"Brousseau, G. (1997) Theory of Didactical Situations in Mathematics ...\"\n",
    "[8]: https://www.mathunion.org/icmi/awards/emma-castelnuovo-award?utm_source=chatgpt.com \"Emma Castelnuovo Award - Excellence in Mathematics Education\"\n"
   ]
  },
  {
   "cell_type": "markdown",
   "id": "596bbb56",
   "metadata": {},
   "source": [
    "# Función de asignación de tareas  para el curso de Álgebra y trigonometría  \n",
    "\n"
   ]
  },
  {
   "cell_type": "code",
   "execution_count": 5,
   "id": "e137bcaf",
   "metadata": {},
   "outputs": [],
   "source": [
    "import pandas as pd \n",
    "import random \n",
    "def asignar_tareas(lista_estudiantes):\n",
    "    # Leer lista de estudiantes\n",
    "    estudiantes = pd.read_excel(lista_estudiantes, engine = 'openpyxl')\n",
    "    \n",
    "    # Generar 20 ejercicios\n",
    "    ejercicios = []\n",
    "    for i in range(1, 21):\n",
    "        # Diferentes tipos de problemas\n",
    "        if i <= 5:\n",
    "            tipo = \"Álgebra (Ecuaciones polinómicas)\"\n",
    "        elif i <= 10:\n",
    "            tipo = \"Trigonometría (Identidades)\"\n",
    "        elif i <= 15:\n",
    "            tipo = \"Geometría Analítica\"\n",
    "        else:\n",
    "            tipo = \"Problemas aplicados\"\n",
    "        \n",
    "        ejercicios.append({\n",
    "            \"ID\": i,\n",
    "            \"Tipo\": tipo,\n",
    "            \"Descripción\": f\"Ejercicio {i}: Resolver problema de {tipo}\",\n",
    "            \"Python\": f\"Implementar solución para ejercicio {i}\",\n",
    "            \"Teoría\": f\"Explicación conceptual del ejercicio {i}\"\n",
    "        })\n",
    "    \n",
    "    # Asignar aleatoriamente a cada estudiante\n",
    "    tareas_asignadas = []\n",
    "    for _, estudiante in estudiantes.iterrows():\n",
    "        ejercicios_est = random.sample(ejercicios, 2)  # 2 ejercicios por estudiante\n",
    "        tareas_asignadas.append({\n",
    "            \"Estudiante\": estudiante['Nombre'],\n",
    "            \"ID_Estudiante\": estudiante['Cedula'],\n",
    "            \"Ejercicio_1\": ejercicios_est[0][\"Descripción\"],\n",
    "            \"Ejercicio_2\": ejercicios_est[1][\"Descripción\"],\n",
    "            \"Requisitos_Python\": f\"Debe implementar: {ejercicios_est[0]['Python']} y {ejercicios_est[1]['Python']}\",\n",
    "            \"Explicación_Teórica\": f\"Debe explicar: {ejercicios_est[0]['Teoría']} y {ejercicios_est[1]['Teoría']}\"\n",
    "        })\n",
    "    \n",
    "    return pd.DataFrame(tareas_asignadas)\n"
   ]
  },
  {
   "cell_type": "code",
   "execution_count": 1,
   "id": "528a0dfb",
   "metadata": {},
   "outputs": [
    {
     "ename": "NameError",
     "evalue": "name 'asignar_tareas' is not defined",
     "output_type": "error",
     "traceback": [
      "\u001b[31m---------------------------------------------------------------------------\u001b[39m",
      "\u001b[31mNameError\u001b[39m                                 Traceback (most recent call last)",
      "\u001b[36mCell\u001b[39m\u001b[36m \u001b[39m\u001b[32mIn[1]\u001b[39m\u001b[32m, line 2\u001b[39m\n\u001b[32m      1\u001b[39m \u001b[38;5;66;03m# Uso de la función\u001b[39;00m\n\u001b[32m----> \u001b[39m\u001b[32m2\u001b[39m tareas = \u001b[43masignar_tareas\u001b[49m(\u001b[33mr\u001b[39m\u001b[33m\"\u001b[39m\u001b[33mC:\u001b[39m\u001b[33m\\\u001b[39m\u001b[33mUsers\u001b[39m\u001b[33m\\\u001b[39m\u001b[33mmarco\u001b[39m\u001b[33m\\\u001b[39m\u001b[33mDocumentos\u001b[39m\u001b[33m\\\u001b[39m\u001b[33mdocencia\u001b[39m\u001b[33m\\\u001b[39m\u001b[33mgroups_list\u001b[39m\u001b[33m\\\u001b[39m\u001b[33malgebra_and_trigonometry.xlsx\u001b[39m\u001b[33m\"\u001b[39m)\n\u001b[32m      3\u001b[39m tareas.to_excel(\u001b[33mr\u001b[39m\u001b[33m\"\u001b[39m\u001b[33mC:\u001b[39m\u001b[33m\\\u001b[39m\u001b[33mUsers\u001b[39m\u001b[33m\\\u001b[39m\u001b[33mmarco\u001b[39m\u001b[33m\\\u001b[39m\u001b[33mDocumentos\u001b[39m\u001b[33m\\\u001b[39m\u001b[33mdocencia\u001b[39m\u001b[33m\\\u001b[39m\u001b[33mgroups_list\u001b[39m\u001b[33m\\\u001b[39m\u001b[33malgebra_and_trigonometry_tareas_asignadas.xlsx\u001b[39m\u001b[33m\"\u001b[39m, \\\n\u001b[32m      4\u001b[39m     index=\u001b[38;5;28;01mFalse\u001b[39;00m)\n",
      "\u001b[31mNameError\u001b[39m: name 'asignar_tareas' is not defined"
     ]
    }
   ],
   "source": [
    "\n",
    "# Uso de la función\n",
    "tareas = asignar_tareas(r\"C:\\Users\\marco\\Documentos\\docencia\\groups_list\\algebra_and_trigonometry.xlsx\")\n",
    "tareas.to_excel(r\"C:\\Users\\marco\\Documentos\\docencia\\groups_list\\algebra_and_trigonometry_tareas_asignadas.xlsx\", \\\n",
    "    index=False)\n"
   ]
  },
  {
   "cell_type": "markdown",
   "id": "cc539357",
   "metadata": {},
   "source": [
    "# [Programación de programa Regiones](https://lookerstudio.google.com/reporting/44e71da0-d16f-4a51-a51e-d5ae6c19b3f1/page/p_gy4nwf37hd?pli=1)"
   ]
  },
  {
   "cell_type": "markdown",
   "id": "8ba64aed",
   "metadata": {},
   "source": [
    "# Cursos que orienta el profesor Marco Julio Cañas Campillo en 2025  \n",
    "\n",
    "1. Lunes 8 a 12: Fundamentos de Lógica: Licenciatura en Matemáticas . \n",
    "2. Martes de 9 a 10: Curso de ML and DL para Ingeniero Juan Gomez en España.  \n",
    "3. Martes de 2 a 5 PM: Vector Geometry and Linear Algebra.  \n",
    "4. Miércoles: 10 a 11: Reunión equipo investigador SAT Dengue. \n",
    "5. Miércoles 2 a 3 PM: Asesoría Trabajo de Grado Janis (Estudiante de Biología).  \n",
    "6. Viernes 2 a 6 PM: Análisis Numérico: Programa de Licenciatura en Matemáticas."
   ]
  },
  {
   "cell_type": "markdown",
   "id": "8d41fe58",
   "metadata": {
    "slideshow": {
     "slide_type": "slide"
    }
   },
   "source": [
    "# Horario de clases del profesor Marco\n",
    "\n",
    "* Lunes 8-12:   \n",
    "* Lunes 2- 6 PM: Fundamento de Lógica.  \n",
    "* Martes 8-12 M: . \n",
    "* Miércoles 8 a 12 M:   \n",
    "* Miércoles de 2 a 6 PM: \n",
    "* Jueves 2 a 6 PM:  \n",
    "* Viernes 2 - 4 PM: Análisis Numérico. \n",
    "* Sábados 8-12 Asesorías y espacio para retroalimentación y apoyo al trabajo independiente. "
   ]
  },
  {
   "cell_type": "markdown",
   "id": "ae114e14",
   "metadata": {
    "slideshow": {
     "slide_type": "slide"
    }
   },
   "source": [
    "# Horarios de monitoría y asesoría  \n",
    "\n",
    "* Monitor Manuel San Juan Serrano: Contactar escribiendo al correo: manuel.serrano1@udea.edu.co"
   ]
  },
  {
   "cell_type": "markdown",
   "id": "bf0f9dbf",
   "metadata": {},
   "source": [
    "\n",
    "Coordinador de los cursos de la Facultad de Educación para regiones:    \n",
    "\n",
    "Andrés Vélez: regioneducacion.fedu@udea.edu.co  \n",
    "Coordinador Regiones  \n",
    "Facultad de Educación  \n",
    "Universidad de Antioquia  "
   ]
  },
  {
   "cell_type": "markdown",
   "id": "39559692",
   "metadata": {
    "slideshow": {
     "slide_type": "slide"
    }
   },
   "source": [
    "Martes y jueves de 8 - 12  \n",
    "Miércoles 10 - 12 y de 2 a 4 PM  \n",
    "Sábado: 8 - 12"
   ]
  },
  {
   "cell_type": "markdown",
   "id": "10bce0d0",
   "metadata": {
    "slideshow": {
     "slide_type": "slide"
    }
   },
   "source": [
    "## Referentes "
   ]
  },
  {
   "cell_type": "markdown",
   "id": "1db3c468",
   "metadata": {
    "slideshow": {
     "slide_type": "slide"
    }
   },
   "source": [
    "* [Swokowski. 13th Edition](chrome-extension://efaidnbmnnnibpcajpcglclefindmkaj/https://dn720707.ca.archive.org/0/items/algebra-y-trigonometria-con-geometria-analitica-13va-edicion-earl-w.-swokowski/%C3%81lgebra%20y%20trigonometr%C3%ADa%20con%20geometr%C3%ADa%20anal%C3%ADtica,%2013va%20Edici%C3%B3n%20-%20Earl%20W.%20Swokowski.pdf)\n"
   ]
  },
  {
   "cell_type": "markdown",
   "id": "3879516f",
   "metadata": {},
   "source": [
    "\n",
    "* [CALCULO I DE UNA VARIABLE Ron Larson-Bruce Edwards. Mc Graw Hill. 9º Edición](https://www.academia.edu/42139251/CALCULO_I_DE_UNA_VARIABLE_Ron_Larson_Bruce_Edwards_Mc_Graw_Hill_9o_Edici%C3%B3n)   \n",
    "  \n",
    "\n",
    "* [Grajales Vanegas, L. M., Restrepo Estrada, C. E., Restrepo Ochoa, S. I., & Ruíz De Villalba, F. (2015). Matemáticas I para las ciencias económicas.](https://bibliotecadigital.udea.edu.co/handle/10495/3010)\n",
    "  \n",
    "* R. Duval y Semiosis y pensamiento humano, 2.ª ed. Cali, Colombia: Programa Editorial Universidad del Valle, 2017. [En línea]. Disponible en: https://programaeditorial.univalle.edu.co/gpd-semiosis-y-pensamiento-humano-9789587655278-63324cdb0f6b3.html\n",
    "\n",
    "* [Aylwin, C. U. (2011). Lógica, conjuntos y números. Universidad de los Andes, Consejo de Publicaciones, Colección: Ciencias Básicas, Serie: Matemáticas.](chrome-extension://efaidnbmnnnibpcajpcglclefindmkaj/https://www.u-cursos.cl/ciencias/2011/1/MC110/1/material_docente/bajar?id_material=574722)\n",
    "  \n",
    "* [Chollet, F. (2021). Deep learning with Python. Simon and Schuster.](chrome-extension://efaidnbmnnnibpcajpcglclefindmkaj/https://tanthiamhuat.wordpress.com/wp-content/uploads/2018/03/deeplearningwithpython.pdf)  \n",
    "  \n",
    "* [Watson, S., Stewart, J., & Redlin, L. (2009). Precálculo. Matemáticas para el cálculo.](https://github.com/marco-canas/calculo/blob/main/referents/1_precalculo_stewart/stewart_precalculo.pdf)  \n",
    "\n",
    "* [Purcell, E. J., Varberg, D., & Rigdon, S. E. (2007). Cálculo diferencial e integral. Pearson Educación.](https://github.com/marco-canas/calculo/blob/main/referents/purcell/purcell_calculo.pdf)\n",
    "\n",
    "  \n",
    "\n",
    "* [stewart cálculo](https://udeaeduco-my.sharepoint.com/:b:/g/personal/marco_canas_udea_edu_co/EZgXZjAp8QxPqOAim2hs6LcBNPLGjSHf-xwYnUVYkwa04w?e=RZdTCy)  \n",
    "\n",
    "\n",
    "\n",
    "\n",
    "\n",
    "* [Recomendación de la UNESCO sobre ciencia abierta](https://unesdoc.unesco.org/ark:/48223/pf0000379949_spa)\n",
    "\n",
    "* [chatGPT](https://openai.com/blog/chatgpt)  \n",
    "\n",
    "* [Géron, A. (2017). Hands-on machine learning with scikit-learn and tensorflow: Concepts. Tools, and Techniques to build intelligent systems.](chrome-extension://efaidnbmnnnibpcajpcglclefindmkaj/http://14.139.161.31/OddSem-0822-1122/Hands-On_Machine_Learning_with_Scikit-Learn-Keras-and-TensorFlow-2nd-Edition-Aurelien-Geron.pdf)   \n"
   ]
  },
  {
   "cell_type": "markdown",
   "id": "df925560",
   "metadata": {},
   "source": [
    "\n",
    "* [McKinney, W. (2012). Python for data analysis: Data wrangling with Pandas, NumPy, and IPython. \" O'Reilly Media, Inc.\".](https://wesmckinney.com/book/) "
   ]
  },
  {
   "cell_type": "markdown",
   "id": "8e65d6f9",
   "metadata": {},
   "source": [
    "# Como estudiante, encuentro que...   \n",
    "\n",
    "F: Mis Fortalezas son:     \n",
    "O: Mis Oportunidades son:    \n",
    "D: Mis Debilidades son:    \n",
    "A: Lo que Amenazas mi aprendizaje es:  "
   ]
  },
  {
   "cell_type": "markdown",
   "id": "6b9e56a8",
   "metadata": {
    "slideshow": {
     "slide_type": "slide"
    }
   },
   "source": [
    "### [Evaluamos al profesor Marco Cañas Aquí](https://forms.office.com/Pages/ResponsePage.aspx?id=IefhmYRxjkmK_7KtTlPBwkanXIs1i1FEujpsZgO6dXpUREJPV1kxUk1JV1ozTFJIQVNIQjY5WEY3US4u)"
   ]
  },
  {
   "cell_type": "markdown",
   "id": "10f43536",
   "metadata": {
    "slideshow": {
     "slide_type": "slide"
    }
   },
   "source": [
    "### Continue su aprendizaje en la siguiente clase a través del siguiente [vínculo]()"
   ]
  },
  {
   "cell_type": "markdown",
   "id": "53cc9115",
   "metadata": {
    "slideshow": {
     "slide_type": "slide"
    }
   },
   "source": [
    "## Agradecimientos  \n",
    "\n",
    "Doy gracias a Dios por la vida de mi Hijo Joseph Cañas Osorio y la madurez que ha alcanzado. Este hijo me enorgullece y me hace falta abrazarlo cada día. \n",
    "\n",
    "Y a mi esposa Yasmira Emperatriz Barboza Mogollón por su apoyo, orientación y acompañamiento. "
   ]
  },
  {
   "cell_type": "markdown",
   "id": "b6ba1c23",
   "metadata": {},
   "source": [
    "# Apéndice sobre calendarios y coordinaciones \n"
   ]
  },
  {
   "cell_type": "markdown",
   "id": "bf8b6499",
   "metadata": {},
   "source": [
    "## Calendario del semestre académico 2025-2  \n",
    "\n",
    "\n",
    "* Inicio de clases: 04 de agosto de 2025  \n",
    "\n",
    "* Límite evaluación del 40%: 27 de septiembre de 2025  \n",
    "\n",
    "* Terminación de clases: 22 de noviembre de 2025\n",
    "\n",
    "* Exámenes finales: 24 al 29 de noviembre de 2025\n",
    "\n",
    "* Habilitación y validación: 01 al 06 de diciembre 2025\n",
    "\n",
    "* Terminación oficial del semestre: 09 de diciembre de 2025  "
   ]
  },
  {
   "cell_type": "markdown",
   "id": "667b9504",
   "metadata": {},
   "source": [
    "\n",
    "A continuación le envío el horario de la asignatura Cálculo Vectorial  \n",
    "\n",
    "Días:  \n",
    "Lunes - Hora: 7:00 a 12:00M  \n",
    "Fechas:  \n",
    "Febrero: 10-17-24                                          \n",
    " Marzo: 3-10-17-31                                                  \n",
    "Abril:7-21-28                                                   \n",
    "Mayo:5-12-19  \n",
    "\n",
    "Agradezco su apoyo, y si presenta alguna dificultad puede contactarme.  \n",
    "\n",
    "Cordialmente,  \n",
    "Juan Felipe Rivera Hernández  \n",
    "Contacto: 3106314300  "
   ]
  }
 ],
 "metadata": {
  "celltoolbar": "Slideshow",
  "kernelspec": {
   "display_name": ".venv",
   "language": "python",
   "name": "python3"
  },
  "language_info": {
   "codemirror_mode": {
    "name": "ipython",
    "version": 3
   },
   "file_extension": ".py",
   "mimetype": "text/x-python",
   "name": "python",
   "nbconvert_exporter": "python",
   "pygments_lexer": "ipython3",
   "version": "3.11.9"
  },
  "rise": {
   "enable_chalkboard": true,
   "theme": "sky",
   "transition": "zoom"
  }
 },
 "nbformat": 4,
 "nbformat_minor": 5
}
