{
 "cells": [
  {
   "cell_type": "markdown",
   "id": "dc06dec7",
   "metadata": {
    "slideshow": {
     "slide_type": "slide"
    }
   },
   "source": [
    "<table align=\"left\">\n",
    "  <td>\n",
    "    <a href=\"https://colab.research.google.com/github/marco-canas/algebra_y_trigonometria/blob/main/2_planeacion/2_classes/2_unidad_1_reales/4_class_reals_13_agosto/4_class_reals_13_august.ipynb\" target=\"_parent\"><img src=\"https://colab.research.google.com/assets/colab-badge.svg\" alt=\"Open In Colab\"/></a>\n",
    "  </td>\n",
    "  <td>\n",
    "    <a target=\"_blank\" href=\"https://kaggle.com/kernels/welcome?src=https://github.com/marco-canas/algebra_y_trigonometria/blob/main/2_planeacion/2_classes/2_unidad_1_reales/4_class_reals_13_agosto/4_class_reals_13_august.ipynb\"><img src=\"https://kaggle.com/static/images/open-in-kaggle.svg\" /></a>\n",
    "  </td>\n",
    "</table>"
   ]
  },
  {
   "cell_type": "code",
   "execution_count": 4,
   "id": "07f56f62",
   "metadata": {},
   "outputs": [],
   "source": [
    "import qrcode\n",
    "from IPython.display import display\n",
    "\n",
    "def generar_qr_notebook(url):\n",
    "    \"\"\"\n",
    "    Genera un código QR para una URL y lo muestra en un cuaderno Jupyter.\n",
    "    \n",
    "    Parámetros:\n",
    "    url (str): La URL para la cual se generará el código QR.\n",
    "    \n",
    "    Retorna:\n",
    "    None (pero muestra el código QR en el notebook)\n",
    "    \"\"\"\n",
    "    # Crear el objeto QR\n",
    "    qr = qrcode.QRCode(\n",
    "        version=1,\n",
    "        error_correction=qrcode.constants.ERROR_CORRECT_L,\n",
    "        box_size=10,\n",
    "        border=4,\n",
    "    )\n",
    "    \n",
    "    # Añadir la URL al código QR\n",
    "    qr.add_data(url)\n",
    "    qr.make(fit=True)\n",
    "    \n",
    "    # Crear la imagen del QR\n",
    "    img = qr.make_image(fill_color=\"black\", back_color=\"white\")\n",
    "    \n",
    "    # Mostrar la imagen en el notebook\n",
    "    display(img)\n",
    "\n"
   ]
  },
  {
   "cell_type": "code",
   "execution_count": 5,
   "id": "47a9eecd",
   "metadata": {},
   "outputs": [
    {
     "data": {
      "image/jpeg": "[encoded data removed]",
      "image/png": "[encoded data removed]",
      "text/plain": [
       "<qrcode.image.pil.PilImage at 0x1c9f3a96cd0>"
      ]
     },
     "metadata": {},
     "output_type": "display_data"
    }
   ],
   "source": [
    "generar_qr_notebook('https://colab.research.google.com/github/marco-canas/algebra_y_trigonometria/blob/main/2_planeacion/2_classes/2_unidad_1_reales/4_class_reals_13_agosto/4_class_reals_13_august.ipynb')"
   ]
  },
  {
   "cell_type": "markdown",
   "id": "e0c5b198",
   "metadata": {
    "slideshow": {
     "slide_type": "slide"
    }
   },
   "source": [
    "### [Video de apoyo a la lectura interactiva y experimental de este cuaderno](https://www.youtube.com/watch?v=hXxgEL2fTDE)"
   ]
  },
  {
   "cell_type": "markdown",
   "id": "41e82203",
   "metadata": {
    "slideshow": {
     "slide_type": "slide"
    }
   },
   "source": [
    "### [Vínculo al programa del curso:  ]()\n",
    "\n"
   ]
  },
  {
   "cell_type": "markdown",
   "id": "d11ab06d",
   "metadata": {
    "slideshow": {
     "slide_type": "slide"
    }
   },
   "source": [
    "Un reconocimiento a mis estudiantes que han construido conmigo este saber pedagógico:\n",
    "\n",
    "<img src = 'https://github.com/marco-canas/algebra_y_trigonometria/blob/main/images/class_4_2025-08-13_hora_11_07.jpg?raw=true'> \n",
    "\n"
   ]
  },
  {
   "cell_type": "markdown",
   "id": "8a74a56c-0ce6-4ad6-b985-553fd7fb68bb",
   "metadata": {},
   "source": [
    "Reconocimiento a las profesoras destacadas en enseñanza de la matemática en Colombia\n"
   ]
  },
  {
   "cell_type": "code",
   "execution_count": 2,
   "id": "7604880f",
   "metadata": {
    "slideshow": {
     "slide_type": "slide"
    }
   },
   "outputs": [
    {
     "data": {
      "application/vnd.microsoft.datawrangler.viewer.v0+json": {
       "columns": [
        {
         "name": "index",
         "rawType": "int64",
         "type": "integer"
        },
        {
         "name": "Cedula",
         "rawType": "int64",
         "type": "integer"
        },
        {
         "name": "Nombre",
         "rawType": "object",
         "type": "string"
        },
        {
         "name": "Email",
         "rawType": "object",
         "type": "unknown"
        }
       ],
       "ref": "28a96ec1-86c3-405d-b23f-1ffe41906928",
       "rows": [
        [
         "1",
         "1038648096",
         "ACEVEDO BELEÑO SANTIAGO",
         "sacevedo.beleno@udea.edu.co"
        ],
        [
         "2",
         "1038113597",
         "CORREA RESTREPO NICOLAS",
         null
        ],
        [
         "3",
         "1038648760",
         "MARIN VILLARREAL PABLO ALEJANDRO",
         "pablo.marin1@udea.edu.co"
        ],
        [
         "4",
         "1193401041",
         "MARTINEZ MANJARREZ DANIELA ESTHER",
         "daniela.martinezm@udea.edu.co"
        ],
        [
         "5",
         "1038108720",
         "MEJIA GUZMAN SAMUEL",
         "samuel.mguzman@udea.edu.co"
        ],
        [
         "6",
         "1038647828",
         "NIEBLES BARRERA ALEXANDER ISAAC",
         "alexander.niebles@udea.edu.co"
        ],
        [
         "7",
         "1045426138",
         "OQUENDO MONA CRISTIAN GABRIEL",
         "cristian.oquendo1@udea.edu.co"
        ],
        [
         "8",
         "1032250901",
         "PINO VERGARA LIZETH",
         "lizeth.pino@udea.edu.co"
        ],
        [
         "9",
         "1038092717",
         "RIVERA GUZMAN CRISTIAN",
         "cristian.rivera2@udea.edu.co"
        ],
        [
         "10",
         "1038110693",
         "ROMERO CALDERA JUAN ESTEBAN",
         "juanesteban.romero@udea.edu.co"
        ],
        [
         "11",
         "1038647713",
         "SÁNCHEZ HERRERA JUAN ESTEVAN",
         null
        ],
        [
         "12",
         "1063359347",
         "SANCHEZ PACHECO MOISES DAVID",
         "moises.sanchez1@udea.edu.co"
        ],
        [
         "13",
         "1066600819",
         "TIRADO CHAVARRIA WILFRAN DE JESUS",
         "wilfran.tirado@udea.edu.co"
        ],
        [
         "14",
         "1038136995",
         "VERGARA ACEVEDO SARA CRISTINA",
         "scristina.vergara@udea.edu.co"
        ],
        [
         "15",
         "1007452831",
         "VILORIA SIERRA ALEXANDER",
         "a.viloria1@udea.edu.co"
        ]
       ],
       "shape": {
        "columns": 3,
        "rows": 15
       }
      },
      "text/html": [
       "<div>\n",
       "<style scoped>\n",
       "    .dataframe tbody tr th:only-of-type {\n",
       "        vertical-align: middle;\n",
       "    }\n",
       "\n",
       "    .dataframe tbody tr th {\n",
       "        vertical-align: top;\n",
       "    }\n",
       "\n",
       "    .dataframe thead th {\n",
       "        text-align: right;\n",
       "    }\n",
       "</style>\n",
       "<table border=\"1\" class=\"dataframe\">\n",
       "  <thead>\n",
       "    <tr style=\"text-align: right;\">\n",
       "      <th></th>\n",
       "      <th>Cedula</th>\n",
       "      <th>Nombre</th>\n",
       "      <th>Email</th>\n",
       "    </tr>\n",
       "  </thead>\n",
       "  <tbody>\n",
       "    <tr>\n",
       "      <th>1</th>\n",
       "      <td>1038648096</td>\n",
       "      <td>ACEVEDO BELEÑO SANTIAGO</td>\n",
       "      <td>sacevedo.beleno@udea.edu.co</td>\n",
       "    </tr>\n",
       "    <tr>\n",
       "      <th>2</th>\n",
       "      <td>1038113597</td>\n",
       "      <td>CORREA RESTREPO NICOLAS</td>\n",
       "      <td>NaN</td>\n",
       "    </tr>\n",
       "    <tr>\n",
       "      <th>3</th>\n",
       "      <td>1038648760</td>\n",
       "      <td>MARIN VILLARREAL PABLO ALEJANDRO</td>\n",
       "      <td>pablo.marin1@udea.edu.co</td>\n",
       "    </tr>\n",
       "    <tr>\n",
       "      <th>4</th>\n",
       "      <td>1193401041</td>\n",
       "      <td>MARTINEZ MANJARREZ DANIELA ESTHER</td>\n",
       "      <td>daniela.martinezm@udea.edu.co</td>\n",
       "    </tr>\n",
       "    <tr>\n",
       "      <th>5</th>\n",
       "      <td>1038108720</td>\n",
       "      <td>MEJIA GUZMAN SAMUEL</td>\n",
       "      <td>samuel.mguzman@udea.edu.co</td>\n",
       "    </tr>\n",
       "    <tr>\n",
       "      <th>6</th>\n",
       "      <td>1038647828</td>\n",
       "      <td>NIEBLES BARRERA ALEXANDER ISAAC</td>\n",
       "      <td>alexander.niebles@udea.edu.co</td>\n",
       "    </tr>\n",
       "    <tr>\n",
       "      <th>7</th>\n",
       "      <td>1045426138</td>\n",
       "      <td>OQUENDO MONA CRISTIAN GABRIEL</td>\n",
       "      <td>cristian.oquendo1@udea.edu.co</td>\n",
       "    </tr>\n",
       "    <tr>\n",
       "      <th>8</th>\n",
       "      <td>1032250901</td>\n",
       "      <td>PINO VERGARA LIZETH</td>\n",
       "      <td>lizeth.pino@udea.edu.co</td>\n",
       "    </tr>\n",
       "    <tr>\n",
       "      <th>9</th>\n",
       "      <td>1038092717</td>\n",
       "      <td>RIVERA GUZMAN CRISTIAN</td>\n",
       "      <td>cristian.rivera2@udea.edu.co</td>\n",
       "    </tr>\n",
       "    <tr>\n",
       "      <th>10</th>\n",
       "      <td>1038110693</td>\n",
       "      <td>ROMERO CALDERA JUAN ESTEBAN</td>\n",
       "      <td>juanesteban.romero@udea.edu.co</td>\n",
       "    </tr>\n",
       "    <tr>\n",
       "      <th>11</th>\n",
       "      <td>1038647713</td>\n",
       "      <td>SÁNCHEZ HERRERA JUAN ESTEVAN</td>\n",
       "      <td>NaN</td>\n",
       "    </tr>\n",
       "    <tr>\n",
       "      <th>12</th>\n",
       "      <td>1063359347</td>\n",
       "      <td>SANCHEZ PACHECO MOISES DAVID</td>\n",
       "      <td>moises.sanchez1@udea.edu.co</td>\n",
       "    </tr>\n",
       "    <tr>\n",
       "      <th>13</th>\n",
       "      <td>1066600819</td>\n",
       "      <td>TIRADO CHAVARRIA WILFRAN DE JESUS</td>\n",
       "      <td>wilfran.tirado@udea.edu.co</td>\n",
       "    </tr>\n",
       "    <tr>\n",
       "      <th>14</th>\n",
       "      <td>1038136995</td>\n",
       "      <td>VERGARA ACEVEDO SARA CRISTINA</td>\n",
       "      <td>scristina.vergara@udea.edu.co</td>\n",
       "    </tr>\n",
       "    <tr>\n",
       "      <th>15</th>\n",
       "      <td>1007452831</td>\n",
       "      <td>VILORIA SIERRA ALEXANDER</td>\n",
       "      <td>a.viloria1@udea.edu.co</td>\n",
       "    </tr>\n",
       "  </tbody>\n",
       "</table>\n",
       "</div>"
      ],
      "text/plain": [
       "        Cedula                             Nombre  \\\n",
       "1   1038648096            ACEVEDO BELEÑO SANTIAGO   \n",
       "2   1038113597            CORREA RESTREPO NICOLAS   \n",
       "3   1038648760   MARIN VILLARREAL PABLO ALEJANDRO   \n",
       "4   1193401041  MARTINEZ MANJARREZ DANIELA ESTHER   \n",
       "5   1038108720                MEJIA GUZMAN SAMUEL   \n",
       "6   1038647828    NIEBLES BARRERA ALEXANDER ISAAC   \n",
       "7   1045426138      OQUENDO MONA CRISTIAN GABRIEL   \n",
       "8   1032250901                PINO VERGARA LIZETH   \n",
       "9   1038092717             RIVERA GUZMAN CRISTIAN   \n",
       "10  1038110693        ROMERO CALDERA JUAN ESTEBAN   \n",
       "11  1038647713       SÁNCHEZ HERRERA JUAN ESTEVAN   \n",
       "12  1063359347       SANCHEZ PACHECO MOISES DAVID   \n",
       "13  1066600819  TIRADO CHAVARRIA WILFRAN DE JESUS   \n",
       "14  1038136995      VERGARA ACEVEDO SARA CRISTINA   \n",
       "15  1007452831           VILORIA SIERRA ALEXANDER   \n",
       "\n",
       "                             Email  \n",
       "1      sacevedo.beleno@udea.edu.co  \n",
       "2                              NaN  \n",
       "3         pablo.marin1@udea.edu.co  \n",
       "4    daniela.martinezm@udea.edu.co  \n",
       "5       samuel.mguzman@udea.edu.co  \n",
       "6    alexander.niebles@udea.edu.co  \n",
       "7    cristian.oquendo1@udea.edu.co  \n",
       "8          lizeth.pino@udea.edu.co  \n",
       "9     cristian.rivera2@udea.edu.co  \n",
       "10  juanesteban.romero@udea.edu.co  \n",
       "11                             NaN  \n",
       "12     moises.sanchez1@udea.edu.co  \n",
       "13      wilfran.tirado@udea.edu.co  \n",
       "14   scristina.vergara@udea.edu.co  \n",
       "15          a.viloria1@udea.edu.co  "
      ]
     },
     "execution_count": 2,
     "metadata": {},
     "output_type": "execute_result"
    }
   ],
   "source": [
    "import pandas as pd\n",
    "import numpy as np\n",
    "\n",
    "# Cargar la lista de estudiantes desde el archivo CSV\n",
    "path = 'C:/Users/marco/Documentos/docencia/groups_list/algebra_and_trigonometry.xlsx'\n",
    "df = pd.read_excel(path)\n",
    "df.index = range(1, len(df) + 1)\n",
    "df \n"
   ]
  },
  {
   "cell_type": "markdown",
   "id": "d7598d0a-d9b7-4ae0-b029-a0ed6ed1130b",
   "metadata": {},
   "source": [
    "\n",
    "# Principios de mi labor docente"
   ]
  },
  {
   "cell_type": "markdown",
   "id": "4f9d8cf9",
   "metadata": {
    "slideshow": {
     "slide_type": "slide"
    }
   },
   "source": [
    "## Modelo general de clase: [aula invertida](https://www3.gobiernodecanarias.org/medusa/ecoescuela/pedagotic/aprendizaje-invertido-flipped-classroom/)"
   ]
  },
  {
   "cell_type": "markdown",
   "id": "eb6ed03a",
   "metadata": {},
   "source": [
    "<img src = 'https://resources.maneuveringthemiddle.com/wp-content/uploads/2020/07/04212706/1-5.png' width = 200>  \n",
    "\n"
   ]
  },
  {
   "cell_type": "markdown",
   "id": "34319cce-a71b-4f64-aab8-b53e521efa40",
   "metadata": {},
   "source": [
    "# Metodología de Aprendizaje Basado en Problemas y Proyectos (ABPP)\n"
   ]
  },
  {
   "cell_type": "markdown",
   "id": "c4f73d81",
   "metadata": {},
   "source": [
    "\n",
    "<img src = 'https://www.unir.net/wp-content/uploads/2020/07/aprendizaje-problemas2-1-1-1-1.jpeg' width = 200>"
   ]
  },
  {
   "cell_type": "markdown",
   "id": "841a985c-bd9b-4dd3-8e4c-893983980af2",
   "metadata": {},
   "source": [
    "# Desarrollo del pensamiento computacional con Lenguajes Python y R, y con archivos Markdown orientado a la formación en ciencia de datos \n",
    "\n"
   ]
  },
  {
   "cell_type": "markdown",
   "id": "3d0eba94",
   "metadata": {},
   "source": [
    "\n",
    "<img src = 'https://i.ytimg.com/vi/mcG_wcR4e6M/maxresdefault.jpg' width = 200>"
   ]
  },
  {
   "cell_type": "markdown",
   "id": "65aa0404-f7ae-495e-864c-1aec01b4255e",
   "metadata": {},
   "source": [
    "# Principio de fomento a la ciencia abierta, enseñar en el acceso a los datos públicos y el uso de software de código abierto  \n"
   ]
  },
  {
   "cell_type": "markdown",
   "id": "18ae9b87",
   "metadata": {},
   "source": [
    "\n",
    "<img src = 'https://unesdoc.unesco.org/in/rest/Thumb/image?id=p%3A%3Ausmarcdef_0000379949_spa&author=UNESCO&title=Recomendaci%C3%B3n+de+la+UNESCO+sobre+la+Ciencia+Abierta&year=2021&publisher=UNESCO&TypeOfDocument=UnescoPhysicalDocument&mat=PGD&ct=true&size=512&isPhysical=1' width = 200>"
   ]
  },
  {
   "cell_type": "markdown",
   "id": "d9559f85",
   "metadata": {},
   "source": [
    "El enfoque STEAMS en educación preescolar, primaria y secundaria es una extensión del enfoque STEM (Ciencia, Tecnología, Ingeniería y Matemáticas) y su variante STEAM, que incorpora el Arte. "
   ]
  },
  {
   "cell_type": "markdown",
   "id": "0130ec1b",
   "metadata": {},
   "source": [
    "\n",
    "<img src = 'https://www.campuseducacion.com/blog/wp-content/uploads/2023/03/foto01-1.jpg' width = 200>"
   ]
  },
  {
   "cell_type": "markdown",
   "id": "37a6a091",
   "metadata": {},
   "source": [
    "# Y el enfoque de Teoría de Registros de Representación Semiótica de Duval  "
   ]
  },
  {
   "cell_type": "code",
   "execution_count": 1,
   "id": "28bae6cb",
   "metadata": {},
   "outputs": [],
   "source": [
    "def save_fig(nombre_archivo_imagen):\n",
    "    import os \n",
    "    import matplotlib.pyplot as plt\n",
    "    ubicacion_para_imagenes = r\"C:/Users/marco/Downloads\"\n",
    "    imagen_path = os.path.join(ubicacion_para_imagenes, nombre_archivo_imagen)\n",
    "    plt.savefig(imagen_path, bbox_inches='tight')"
   ]
  },
  {
   "cell_type": "markdown",
   "id": "10e55ccf",
   "metadata": {},
   "source": [
    "# Estructura general para todas las clases\n"
   ]
  },
  {
   "cell_type": "markdown",
   "id": "ddd73417",
   "metadata": {},
   "source": [
    "\n",
    "Dame, por favor, un diseño de clase, con el enfoque: \"Aula Invertida, STEAMS, de Aprendizaje Basado en Problemas y Proyectos (ABPP) y de Teoría de Registros de Representación Semiótica (TRRS) de Duval\" sobre: \"Ecuaciones algebraicas. Inecuaciones.\", siguiendo la estructura:  \n",
    "\n",
    "\n",
    "1. Título de la clase   \n",
    "   \n",
    "2. Objetivo de aprendizaje que incluyan los indicadores del logro de estos objetivos. \n",
    "   \n",
    "3. Un mapa conceptual que resuma la clase elaborado en Graphviz de python con nodos y edges de diferentes formas, colores y rellenos y renderizado en la siguiente ubicación: `\"C:\\Users\\marco\\Downloads\"`.  No olvides el parámetro `view = True` para el método `render()` de Graphviz. Para este mapa controla las superposiciones de los nodos con: graph [overlap=false]; // Elimina superposiciones (puede aumentar el espacio)\n",
    "graph [overlap=\"scalexy\"]; // Escala el gráfico para evitar overlaps\n",
    "graph [overlap=\"compress\"]; // Comprime el grafo sin overlaps  \n",
    "   \n",
    "4. Elementos históricos y epistemológicos relevantes para la clase, pero narrados como una historieta al estilo de un cuentero antioqueño en Colombia. Incluye imágenes de los protagonistas históricos de esta clase.  \n",
    "   \n",
    "5. Contenido de la clase:     \n",
    "   \n",
    "          \n",
    "        \n",
    "6. Actividades de aprendizaje:   \n",
    "   \n",
    "7. Incluye una canción o un poema que ayude a interiorizar y fijar los conceptos asociados a esta clase.   \n",
    "   \n",
    "8.  Tarea o actividades de ejercitación y fijación. Incluye 20 ejercicios de tarea en las que los estudiantes empiecen con la descripción geométrica del algoritmo, luego la descripción verbal y secuencial del algoritmo, después la implementación en lenguaje python editado a través de la terminal powershell de su computador y finalmente con el cálculo a mano y en su cuaderno. Crea una función de usuario de Python que asigne esta tareas a cada uno de los estudiantes matriculados en este curso tomando la ubicación de los estudiantes dada en este prompt.  \n",
    "    \n",
    "9. Evaluación incluyendo 20 proyectos, un ejemplo de quiz (con tres items) y un ejemplo de parcial (con 5 items). Incluye evaluaciones en las que los estudiantes empiecen con la descripción geométrica del algoritmo, luego la descripción verbal y secuencial del algoritmo, después la implementación en lenguaje python editado a través de la terminal powershell de su computador, y finalmente con el cálculo algebraico y numérico a mano y en su cuaderno. \n",
    "    \n",
    "10. Diseño de actividad de retroalimentación.   \n",
    "    \n",
    "11. Dame un vocabulario y frases del idioma inglés asociadas a esta clase.    \n",
    "     \n",
    "12. Incluye apéndice para la clase sobre desarrollo de habilidades para trabajar en equipo y de asertividad y empatía para relacionarnos. También elementos de la inteligencia emocional para presentar pruebas sin temor y sin realizar fraude en ellas.    \n",
    "     \n",
    "13. Incluye 10 referentes en didáctica de la matemática que estén de acuerdo a la propuesta didáctica de esta clase. Adiciona a estos referentes a Raymond Duval (Representaciones y cambios de representación para la adquisición de conceptos matemáticos) y a [Jeannette Wing](https://es.wikipedia.org/wiki/Jeannette_Wing) (Desarrollo del pensamiento computacional). Déjame todos estos referentes ordenados de acuerdo a las normas APA. Al crear la clase, introduce las citas de estos autores en el texto de la clase.\n",
    "\n",
    "\n",
    "Pero  que este diseño sea para que el estudiante pueda aprender experimentando en cuadernos Jupyter con funciones de usuario y animaciones y visualizaciones en python.   \n",
    "\n",
    "En particular utiliza para el diseño de clase a Numpy, Pandas, SymPy, Matplotlib.pyplot, Seaborn, Plotly, ipywidgets, matplotlib.animation, TensorFlow, Keras y Jupyter Notebook.    \n",
    "\n",
    "Cada vez que utilices `matplotlib.animacion` no olvides incluir el uso de `IPython. display` para la rederización de estas animaciones a través de Jupyter Notebook. No olvides darme los diseños de clase con las ecuaciones matemáticas delimitadas con signo de dolar $ para que VS Code si me renderize estas expresiones del lenguaje latex. Cuando vallas a utilizar ipywidgets ten en cuenta la siguiente importación inicial para garantizar que la visualización interactiva si se renderize en VS Code:   \n",
    "\n",
    "\n",
    "Ubicación del proyecto investigativo: [aquí](https://github.com/marco-canas/linea_invest_didact_math_data/blob/main/1_estrategia_comunicacion/3_humanos_xxi/propuesta_en_20_paginas.md) \n",
    "Ubicación del programa del curso: [aquí](https://github.com/marco-canas/vector_geometry_and_linear_algebra/blob/main/2_planificacion/0_programa_curso/programa_curso_geo_vectorial_algebra_lineal_iae_python_data_science_2025_2.docx)\n",
    "Ubicación de la lista de estudiantes matriculados: [Aquí](https://github.com/marco-canas/groups_list/blob/main/vector_geometry_and_linear_algebra.xlsx)\n",
    "Ubicación del libro guía: https://archive.org/details/algebra-y-trigonometria-con-geometria-analitica-13va-edicion-earl-w.-swokowski/page/n3/mode/2up  \n",
    "\n",
    "\n",
    "\n",
    "\n"
   ]
  },
  {
   "cell_type": "markdown",
   "id": "f39ebbcb",
   "metadata": {},
   "source": [
    "#  **13/08/2025** | Ecuaciones algebraicas. Inecuaciones.  "
   ]
  },
  {
   "cell_type": "markdown",
   "id": "011ed214",
   "metadata": {},
   "source": [
    "\n",
    "## **1. Título de la clase**\n",
    "\n",
    "**Ecuaciones e inecuaciones algebraicas: una exploración experimental con Python y registros de representación semiótica**\n",
    "\n",
    "---\n"
   ]
  },
  {
   "cell_type": "markdown",
   "id": "d0e5920a",
   "metadata": {},
   "source": [
    "\n",
    "## **2. Objetivo de aprendizaje con indicadores de logro**\n"
   ]
  },
  {
   "cell_type": "markdown",
   "id": "49879e4d",
   "metadata": {},
   "source": [
    "\n",
    "**Objetivo general:**\n",
    "Que el estudiante comprenda, interprete y resuelva ecuaciones e inecuaciones algebraicas, explorando y relacionando diversas representaciones semióticas (gráfica, simbólica, tabular, verbal y computacional) mediante experimentación en cuadernos Jupyter y trabajo colaborativo.\n"
   ]
  },
  {
   "cell_type": "markdown",
   "id": "2df4e0b2",
   "metadata": {},
   "source": [
    "\n",
    "**Indicadores de logro:**\n"
   ]
  },
  {
   "cell_type": "markdown",
   "id": "4bf707fe",
   "metadata": {},
   "source": [
    "\n",
    "* Identifica y traduce un problema algebraico a diferentes registros de representación (Duval, 1995).\n"
   ]
  },
  {
   "cell_type": "markdown",
   "id": "a8d6ea76",
   "metadata": {},
   "source": [
    "* Resuelve ecuaciones e inecuaciones lineales y cuadráticas utilizando métodos algebraicos, geométricos y computacionales (SymPy, Numpy).\n"
   ]
  },
  {
   "cell_type": "markdown",
   "id": "20cdd986",
   "metadata": {},
   "source": [
    "* Interpreta y valida soluciones comparando la representación gráfica (Matplotlib, Plotly) y simbólica.\n"
   ]
  },
  {
   "cell_type": "markdown",
   "id": "3b8935d2",
   "metadata": {},
   "source": [
    "* Implementa y anima algoritmos de resolución en Python, con visualización dinámica (matplotlib.animation e ipywidgets).\n"
   ]
  },
  {
   "cell_type": "markdown",
   "id": "b0fe9bd6",
   "metadata": {},
   "source": [
    "* Trabaja de manera colaborativa, aplicando pensamiento computacional (Wing, 2006) para el desarrollo de soluciones.\n",
    "\n",
    "---\n"
   ]
  },
  {
   "cell_type": "markdown",
   "id": "c22423b4",
   "metadata": {},
   "source": [
    "\n",
    "## **3. Mapa conceptual en Graphviz (Python)**\n"
   ]
  },
  {
   "cell_type": "code",
   "execution_count": 3,
   "id": "4dc42cf1",
   "metadata": {},
   "outputs": [
    {
     "data": {
      "text/plain": [
       "'C:\\\\Users\\\\marco\\\\Downloads\\\\mapa_conceptual_ecuaciones_inecuaciones.png'"
      ]
     },
     "execution_count": 3,
     "metadata": {},
     "output_type": "execute_result"
    }
   ],
   "source": [
    "from graphviz import Graph\n",
    "\n",
    "dot = Graph(\n",
    "    comment='Mapa Conceptual Ecuaciones e Inecuaciones',\n",
    "    format='png',\n",
    "    engine='neato'\n",
    ")\n",
    "\n",
    "# Atributos globales del grafo para evitar solapamiento\n",
    "dot.attr(\n",
    "    overlap='false',   # evita solapamiento\n",
    "    sep='1',           # separación mínima entre nodos\n",
    "    nodesep='1',       # separación horizontal\n",
    "    ranksep='1',       # separación vertical\n",
    "    splines='true'     # curvas suaves en las aristas\n",
    ")\n",
    "\n",
    "# Nodos con formas y colores variados\n",
    "dot.node('A', 'Ecuaciones', shape='ellipse', style='filled', fillcolor='lightblue')\n",
    "dot.node('B', 'Inecuaciones', shape='ellipse', style='filled', fillcolor='lightpink')\n",
    "dot.node('C', 'Registro gráfico', shape='box', style='filled', fillcolor='lightgreen')\n",
    "dot.node('D', 'Registro algebraico', shape='box', style='filled', fillcolor='lightyellow')\n",
    "dot.node('E', 'Registro tabular', shape='diamond', style='filled', fillcolor='orange')\n",
    "dot.node('F', 'Python y librerías', shape='hexagon', style='filled', fillcolor='lightgray')\n",
    "dot.node('G', 'Solución manual', shape='parallelogram', style='filled', fillcolor='lightcyan')\n",
    "dot.node('H', 'Validación y comparación', shape='octagon', style='filled', fillcolor='plum')\n",
    "\n",
    "# Conexiones\n",
    "dot.edges([('A', 'C'), ('A', 'D'), ('A', 'E'), ('B', 'C'), ('B', 'D'), ('B', 'E')])\n",
    "dot.edges([('C', 'F'), ('D', 'F'), ('E', 'F')])\n",
    "dot.edge('F', 'H')\n",
    "dot.edge('G', 'H')\n",
    "\n",
    "# Renderizado\n",
    "output_path = r\"C:\\Users\\marco\\Downloads\\mapa_conceptual_ecuaciones_inecuaciones\"\n",
    "dot.render(output_path, view=True)\n"
   ]
  },
  {
   "cell_type": "markdown",
   "id": "d062a4ae",
   "metadata": {},
   "source": [
    "\n",
    "\n",
    "\n",
    "## **4. Elementos históricos y epistemológicos como historieta de cuentero antioqueño**\n"
   ]
  },
  {
   "cell_type": "markdown",
   "id": "4af08a29",
   "metadata": {},
   "source": [
    "\n",
    "*\"Vea pues mijo, siéntese que le voy a contar…\"*\n",
    "Allá por el siglo IX, un muchacho persa llamado **Al-Juarismi** se puso a jugar con números como quien juega con fichas de dominó. De ahí salió ese arte bonito que llamamos álgebra.\n",
    "Muchos siglos después, un tal **Descartes** dijo: “Oiga, y si ponemos estos números en dibujitos con ejes…” y nacieron las gráficas.\n",
    "Luego vinieron otros como **Évariste Galois** que, entre peleas y amores, dejó unas ideas tremendas para entender ecuaciones imposibles.\n",
    "Y vea, que todo esto que era lápiz y papel, ahora uno lo mete en el computador, y con bibliotecas como Numpy y SymPy, ¡la ecuación le canta solita la respuesta!\n",
    "\n",
    "*(Aquí podríamos incluir imágenes de Al-Juarismi, Descartes y Galois generadas o descargadas para ilustrar la historieta.)*\n",
    "\n",
    "---\n",
    "<img src = 'clase_13_ago_2025.png' width = 600>"
   ]
  },
  {
   "cell_type": "markdown",
   "id": "21b141cb",
   "metadata": {},
   "source": [
    "\n",
    "## **5. Contenido de la clase**\n",
    "\n",
    "1. Definición de ecuación e inecuación algebraica.\n",
    "2. Clasificación: lineales, cuadráticas y polinómicas de mayor grado.\n",
    "3. Registros de representación (Duval): gráfica, algebraica, tabular, verbal, computacional.\n",
    "4. Métodos de resolución: manual, simbólico (SymPy), numérico (Numpy).\n",
    "5. Visualización con Matplotlib y Plotly.\n",
    "6. Animaciones y exploración interactiva con ipywidgets.\n",
    "\n",
    "\n"
   ]
  },
  {
   "cell_type": "markdown",
   "id": "2774ec53",
   "metadata": {},
   "source": [
    "\n",
    "## **6. Actividades de aprendizaje**\n"
   ]
  },
  {
   "cell_type": "markdown",
   "id": "5ce8f7f3",
   "metadata": {},
   "source": [
    "\n",
    "* **Experimento 1:** Resolver \\$2x+3=7\\$ manualmente, con SymPy y graficando la solución.\n",
    "    - Resolviendola a mano utilizando las dos propiedades de uniformidad de igualdades en R. \n",
    "    - Resolviendo por transposición de términos. \n",
    "    - Interpretando la ecuación como comparación de funciones. \n",
    "    - Igualando a cero y encontrando el cero de la función asociada de manera gráfica.. \n",
    "    - Igualando a cero y buscando la solución de manera tabular. "
   ]
  },
  {
   "cell_type": "markdown",
   "id": "5400b6f8",
   "metadata": {},
   "source": [
    "* **Experimento 2:** Crear una animación que muestre cómo varía la raíz de \\$x^2+bx+1=0\\$ al mover \\$b\\$ con un slider de ipywidgets.\n"
   ]
  },
  {
   "cell_type": "markdown",
   "id": "8f8a349e",
   "metadata": {},
   "source": [
    "* **Experimento 3:** Comparar soluciones algebraicas y numéricas para una inecuación y validar gráficamente.\n",
    "\n",
    "---\n"
   ]
  },
  {
   "cell_type": "markdown",
   "id": "fcbec617",
   "metadata": {},
   "source": [
    "\n",
    "## **7. Canción / poema**\n"
   ]
  },
  {
   "cell_type": "markdown",
   "id": "50c9206f",
   "metadata": {},
   "source": [
    "\n",
    "*(Estilo cuentero rimado)*\n",
    "\n",
    "> Ecuaciones que igualan,  \n",
    "> inecuaciones que comparan,  \n",
    "> con Python las resolvemos,  \n",
    "> y en gráficas las mostramos.  \n",
    "> De Al-Juarismi a la pantalla,  \n",
    "> la matemática no falla.  \n",
    "\n",
    "\n"
   ]
  },
  {
   "cell_type": "markdown",
   "id": "71ffa84b",
   "metadata": {},
   "source": [
    "\n",
    "## **8. Tarea (20 ejercicios)**\n",
    "\n",
    "Te preparo los 20 ejercicios sobre ecuaciones e inecuaciones en los números reales, donde se le pida a los estudiantes que resuelvan cada ítem por cada uno de las siguientes formas:  \n",
    "\n",
    "1. Resolver utilizando las propiedades de uniformidad\n",
    "2. Por transposición de términos. \n",
    "3. Interpretando la igualdad o la desigualdad como comparación de funciones para encontrar los puntos x para los que las funciones satisfacen la igualdad o la desigualdad. \n",
    "4. Igualar a cero y luego interpretar la solución de la igualdad o la desigualdad como el proceso de encontrar para que falores de x $f(x) = 0$ o $f(x) < 0$. \n",
    "   \n",
    "Además, creo la función que asigna las tareas a cada estudiante usando el Excel de la ubicación que diste.\n",
    "Crea una clase de Python, que para cada igualdad o desigualdad instanciada, pueda aplicarle los métodos de solución con sympy, un método de graficación de las funciones correspondientes a los lados de la ecuación, un método que iguale a cero y grafique en el dominio donde está el cero de la función o el intervalo donde la función es menor o mayor que cero. \n",
    "\n"
   ]
  },
  {
   "cell_type": "markdown",
   "id": "89e8206d",
   "metadata": {},
   "source": [
    "Perfecto.\n",
    "Te voy a proponer un **diseño completo** en Python (usando SymPy y Matplotlib) que cumple con lo que pides:\n",
    "\n",
    "1. **20 ejercicios** variados de ecuaciones e inecuaciones en números reales.\n",
    "2. **Cuatro métodos de resolución**:\n",
    "\n",
    "   * Usando propiedades de uniformidad\n",
    "   * Por transposición de términos\n",
    "   * Comparación de funciones\n",
    "   * Igualar a cero y resolver\n",
    "3. Una **clase Python** que permita instanciar cada problema y aplicar los métodos automáticamente.\n",
    "4. Métodos para **graficar** funciones y resaltar soluciones.\n",
    "5. Una función que **asigne tareas a estudiantes** a partir de un Excel con la lista (puedes conectar el archivo de la ubicación que diste).\n",
    "\n",
    "---\n",
    "\n",
    "## 📄 Código propuesto (base en Jupyter Notebook)\n",
    "\n",
    "```python\n",
    "import sympy as sp\n",
    "import pandas as pd\n",
    "import matplotlib.pyplot as plt\n",
    "import numpy as np\n",
    "\n",
    "sp.init_printing()\n",
    "\n",
    "class EcuacionInecuacion:\n",
    "    def __init__(self, lhs, rhs, tipo=\"ecuacion\"):\n",
    "        self.x = sp.Symbol('x', real=True)\n",
    "        self.lhs = lhs\n",
    "        self.rhs = rhs\n",
    "        self.tipo = tipo  # 'ecuacion' o 'inecuacion'\n",
    "        self.ec = lhs - rhs  # forma igualada a cero\n",
    "    \n",
    "    # 1. Resolver por propiedades de uniformidad\n",
    "    def resolver_uniformidad(self):\n",
    "        # Aquí usamos solve directamente como si aplicáramos propiedades algebraicas\n",
    "        return sp.solve(sp.Eq(self.lhs, self.rhs) if self.tipo==\"ecuacion\" else sp.StrictLessThan(self.lhs, self.rhs), self.x)\n",
    "\n",
    "    # 2. Resolver por transposición de términos\n",
    "    def resolver_transposicion(self):\n",
    "        # Movemos todo al mismo lado y simplificamos\n",
    "        expr = self.lhs - self.rhs\n",
    "        return sp.solve(sp.Eq(expr, 0) if self.tipo==\"ecuacion\" else sp.StrictLessThan(expr, 0), self.x)\n",
    "\n",
    "    # 3. Comparación de funciones\n",
    "    def resolver_comparacion(self):\n",
    "        f = sp.Lambda(self.x, self.lhs)\n",
    "        g = sp.Lambda(self.x, self.rhs)\n",
    "        puntos = sp.solve(sp.Eq(self.lhs, self.rhs), self.x)\n",
    "        return {\"puntos_interseccion\": puntos, \"f\": f, \"g\": g}\n",
    "\n",
    "    # 4. Igualar a cero e interpretar\n",
    "    def resolver_igualar_cero(self):\n",
    "        expr = self.lhs - self.rhs\n",
    "        return sp.solve(sp.Eq(expr, 0) if self.tipo==\"ecuacion\" else sp.StrictLessThan(expr, 0), self.x)\n",
    "\n",
    "    # Graficar comparación de funciones\n",
    "    def graficar_comparacion(self, dominio=(-10, 10)):\n",
    "        f = sp.lambdify(self.x, self.lhs, \"numpy\")\n",
    "        g = sp.lambdify(self.x, self.rhs, \"numpy\")\n",
    "        X = np.linspace(dominio[0], dominio[1], 400)\n",
    "        plt.plot(X, f(X), label=str(self.lhs))\n",
    "        plt.plot(X, g(X), label=str(self.rhs))\n",
    "        plt.axhline(0, color='black', linewidth=0.5)\n",
    "        plt.legend()\n",
    "        plt.grid(True)\n",
    "        plt.show()\n",
    "\n",
    "    # Graficar igualada a cero\n",
    "    def graficar_igualar_cero(self, dominio=(-10, 10)):\n",
    "        expr = sp.lambdify(self.x, self.lhs - self.rhs, \"numpy\")\n",
    "        X = np.linspace(dominio[0], dominio[1], 400)\n",
    "        plt.plot(X, expr(X), label=str(self.lhs - self.rhs))\n",
    "        plt.axhline(0, color='black')\n",
    "        plt.grid(True)\n",
    "        plt.legend()\n",
    "        plt.show()\n",
    "\n",
    "\n",
    "# =========================\n",
    "# 20 Ejercicios propuestos\n",
    "# =========================\n",
    "ejercicios = [\n",
    "    (sp.Rational(1,2)*sp.Symbol('x') + 3, 7, \"ecuacion\"),\n",
    "    (2*sp.Symbol('x') - 5, sp.Symbol('x') + 4, \"ecuacion\"),\n",
    "    (sp.Symbol('x')**2 - 4, 0, \"ecuacion\"),\n",
    "    (sp.sqrt(sp.Symbol('x') + 1), 3, \"ecuacion\"),\n",
    "    (sp.Symbol('x')**2 + 3*sp.Symbol('x') + 2, 0, \"ecuacion\"),\n",
    "    (sp.Symbol('x') - 1, 0, \"inecuacion\"),\n",
    "    (sp.Symbol('x')**2 - 4, 0, \"inecuacion\"),\n",
    "    (sp.Symbol('x')**2 - 5*sp.Symbol('x') + 6, 0, \"inecuacion\"),\n",
    "    (sp.sqrt(sp.Symbol('x')), sp.Symbol('x') - 2, \"inecuacion\"),\n",
    "    (sp.Symbol('x')**3, 8, \"ecuacion\"),\n",
    "    (sp.Symbol('x')**2 + 1, 4, \"ecuacion\"),\n",
    "    (sp.Symbol('x')**2 - 9, 0, \"inecuacion\"),\n",
    "    (sp.Symbol('x')**2 - 16, 4, \"ecuacion\"),\n",
    "    (sp.Symbol('x')**3 - 8, 0, \"ecuacion\"),\n",
    "    (sp.Symbol('x')**3 + 3*sp.Symbol('x')**2, 0, \"ecuacion\"),\n",
    "    (sp.Symbol('x')**2 + 5*sp.Symbol('x') + 6, 0, \"inecuacion\"),\n",
    "    (sp.Symbol('x') - 5, sp.Symbol('x')/2, \"inecuacion\"),\n",
    "    (2*sp.Symbol('x') + 3, sp.Symbol('x') - 4, \"ecuacion\"),\n",
    "    (sp.Symbol('x')**2, 2*sp.Symbol('x') + 3, \"ecuacion\"),\n",
    "    (sp.sqrt(sp.Symbol('x') + 4), sp.Symbol('x') - 2, \"inecuacion\")\n",
    "]\n",
    "\n",
    "# Ejemplo de uso\n",
    "problema = EcuacionInecuacion(*ejercicios[2])  # x^2 - 4 = 0\n",
    "print(\"Uniformidad:\", problema.resolver_uniformidad())\n",
    "print(\"Transposición:\", problema.resolver_transposicion())\n",
    "print(\"Comparación:\", problema.resolver_comparacion())\n",
    "print(\"Igualar a cero:\", problema.resolver_igualar_cero())\n",
    "problema.graficar_comparacion()\n",
    "problema.graficar_igualar_cero()\n",
    "\n",
    "# =========================\n",
    "# Función de asignación\n",
    "# =========================\n",
    "def asignar_tareas(excel_path, ejercicios):\n",
    "    df = pd.read_excel(excel_path)\n",
    "    estudiantes = df['Nombre'].tolist()\n",
    "    asignaciones = {}\n",
    "    for i, est in enumerate(estudiantes):\n",
    "        asignaciones[est] = ejercicios[i % len(ejercicios)]\n",
    "    return asignaciones\n",
    "```\n",
    "\n",
    "---\n",
    "\n",
    "### 🔹 Explicación de la clase\n",
    "\n",
    "* **`resolver_uniformidad()`**: simula resolver aplicando propiedades algebraicas y reglas de igualdad/desigualdad directamente.\n",
    "* **`resolver_transposicion()`**: mueve todos los términos a un solo lado y resuelve.\n",
    "* **`resolver_comparacion()`**: devuelve los puntos de intersección de $f(x)$ y $g(x)$ para análisis gráfico.\n",
    "* **`resolver_igualar_cero()`**: trabaja con la forma $f(x) - g(x) = 0$ o $< 0$.\n",
    "* **`graficar_comparacion()`**: dibuja ambas funciones para ver dónde se igualan o una es mayor que la otra.\n",
    "* **`graficar_igualar_cero()`**: dibuja la función resultante y la línea $y=0$.\n",
    "\n",
    "---\n",
    "\n",
    "Si quieres, puedo ahora **crear el Jupyter Notebook completo** con:\n",
    "\n",
    "* Todos los 20 ejercicios instanciados\n",
    "* Ejecución de los cuatro métodos para cada uno\n",
    "* Gráficos automáticos\n",
    "* Integración con el archivo Excel de la URL que diste\n",
    "\n",
    "Así quedaría listo para usarlo como **banco interactivo de problemas** para los estudiantes.\n",
    "\n",
    "¿Quieres que te lo prepare ya en formato `.ipynb`?\n"
   ]
  },
  {
   "cell_type": "markdown",
   "id": "677cae34",
   "metadata": {},
   "source": [
    "\n",
    "## **9. Evaluación**\n"
   ]
  },
  {
   "cell_type": "markdown",
   "id": "a9e2dc5f",
   "metadata": {},
   "source": [
    "\n",
    "Incluye 20 proyectos, quiz de 3 ítems y parcial de 5 ítems siguiendo la secuencia geométrica → verbal → Python → manual.\n",
    "\n",
    "---\n"
   ]
  },
  {
   "cell_type": "markdown",
   "id": "4abc7ae2",
   "metadata": {},
   "source": [
    "\n",
    "## **10. Retroalimentación**\n"
   ]
  },
  {
   "cell_type": "markdown",
   "id": "3baff34c",
   "metadata": {},
   "source": [
    "\n",
    "Actividad grupal con exposición de soluciones y análisis de errores comunes, usando representaciones múltiples para clarificar conceptos.\n",
    "\n",
    "---\n"
   ]
  },
  {
   "cell_type": "markdown",
   "id": "2fd172cf",
   "metadata": {},
   "source": [
    "\n",
    "## **11. Vocabulario en inglés**\n",
    "\n",
    "Equation, inequality, root, solution set, variable, coefficient, polynomial, quadratic equation, graph, axis, slope, intercept.\n",
    "\n",
    "---\n"
   ]
  },
  {
   "cell_type": "markdown",
   "id": "8364b43b",
   "metadata": {},
   "source": [
    "\n",
    "## **12. Apéndice sobre trabajo en equipo e inteligencia emocional**\n",
    "\n",
    "Guía breve de colaboración, escucha activa, manejo de ansiedad en evaluaciones y ética académica.\n",
    "\n",
    "---\n"
   ]
  },
  {
   "cell_type": "markdown",
   "id": "60f52b81",
   "metadata": {},
   "source": [
    "\n",
    "## **13. Referentes en APA**\n",
    "\n",
    "Incluye a Duval, Wing y 8 más relevantes en didáctica de las matemáticas, todos en formato APA.\n",
    "\n",
    "---\n"
   ]
  },
  {
   "cell_type": "markdown",
   "id": "ba414884",
   "metadata": {},
   "source": [
    "\n",
    "Si quieres, puedo ahora desarrollar **la sección 8** con los **20 ejercicios completos** más la **función en Python que asigna automáticamente la tarea a cada estudiante** leyendo tu Excel de GitHub.\n",
    "¿Quieres que continúe con esa parte ahora?\n"
   ]
  },
  {
   "cell_type": "code",
   "execution_count": null,
   "id": "fdc4b471",
   "metadata": {},
   "outputs": [],
   "source": []
  },
  {
   "cell_type": "markdown",
   "id": "596bbb56",
   "metadata": {},
   "source": [
    "# Función de asignación de tareas  para el curso de Álgebra y trigonometría  \n",
    "\n"
   ]
  },
  {
   "cell_type": "code",
   "execution_count": 5,
   "id": "e137bcaf",
   "metadata": {},
   "outputs": [],
   "source": [
    "import pandas as pd \n",
    "import random \n",
    "def asignar_tareas(lista_estudiantes):\n",
    "    # Leer lista de estudiantes\n",
    "    estudiantes = pd.read_excel(lista_estudiantes, engine = 'openpyxl')\n",
    "    \n",
    "    # Generar 20 ejercicios\n",
    "    ejercicios = []\n",
    "    for i in range(1, 21):\n",
    "        # Diferentes tipos de problemas\n",
    "        if i <= 5:\n",
    "            tipo = \"Álgebra (Ecuaciones polinómicas)\"\n",
    "        elif i <= 10:\n",
    "            tipo = \"Trigonometría (Identidades)\"\n",
    "        elif i <= 15:\n",
    "            tipo = \"Geometría Analítica\"\n",
    "        else:\n",
    "            tipo = \"Problemas aplicados\"\n",
    "        \n",
    "        ejercicios.append({\n",
    "            \"ID\": i,\n",
    "            \"Tipo\": tipo,\n",
    "            \"Descripción\": f\"Ejercicio {i}: Resolver problema de {tipo}\",\n",
    "            \"Python\": f\"Implementar solución para ejercicio {i}\",\n",
    "            \"Teoría\": f\"Explicación conceptual del ejercicio {i}\"\n",
    "        })\n",
    "    \n",
    "    # Asignar aleatoriamente a cada estudiante\n",
    "    tareas_asignadas = []\n",
    "    for _, estudiante in estudiantes.iterrows():\n",
    "        ejercicios_est = random.sample(ejercicios, 2)  # 2 ejercicios por estudiante\n",
    "        tareas_asignadas.append({\n",
    "            \"Estudiante\": estudiante['Nombre'],\n",
    "            \"ID_Estudiante\": estudiante['Cedula'],\n",
    "            \"Ejercicio_1\": ejercicios_est[0][\"Descripción\"],\n",
    "            \"Ejercicio_2\": ejercicios_est[1][\"Descripción\"],\n",
    "            \"Requisitos_Python\": f\"Debe implementar: {ejercicios_est[0]['Python']} y {ejercicios_est[1]['Python']}\",\n",
    "            \"Explicación_Teórica\": f\"Debe explicar: {ejercicios_est[0]['Teoría']} y {ejercicios_est[1]['Teoría']}\"\n",
    "        })\n",
    "    \n",
    "    return pd.DataFrame(tareas_asignadas)\n"
   ]
  },
  {
   "cell_type": "code",
   "execution_count": 6,
   "id": "528a0dfb",
   "metadata": {},
   "outputs": [],
   "source": [
    "\n",
    "# Uso de la función\n",
    "tareas = asignar_tareas(r\"C:\\Users\\marco\\Documentos\\docencia\\groups_list\\algebra_and_trigonometry.xlsx\")\n",
    "tareas.to_excel(r\"C:\\Users\\marco\\Documentos\\docencia\\groups_list\\algebra_and_trigonometry_tareas_asignadas.xlsx\", \\\n",
    "    index=False)\n"
   ]
  },
  {
   "cell_type": "markdown",
   "id": "cc539357",
   "metadata": {},
   "source": [
    "# [Programación de programa Regiones](https://lookerstudio.google.com/reporting/44e71da0-d16f-4a51-a51e-d5ae6c19b3f1/page/p_gy4nwf37hd?pli=1)"
   ]
  },
  {
   "cell_type": "markdown",
   "id": "8ba64aed",
   "metadata": {},
   "source": [
    "# Cursos que orienta el profesor Marco Julio Cañas Campillo en 2025  \n",
    "\n",
    "1. Lunes 8 a 12: Fundamentos de Lógica: Licenciatura en Matemáticas . \n",
    "2. Martes de 9 a 10: Curso de ML and DL para Ingeniero Juan Gomez en España.  \n",
    "3. Martes de 2 a 5 PM: Vector Geometry and Linear Algebra.  \n",
    "4. Miércoles: 10 a 11: Reunión equipo investigador SAT Dengue. \n",
    "5. Miércoles 2 a 3 PM: Asesoría Trabajo de Grado Janis (Estudiante de Biología).  \n",
    "6. Viernes 2 a 6 PM: Análisis Numérico: Programa de Licenciatura en Matemáticas."
   ]
  },
  {
   "cell_type": "markdown",
   "id": "8d41fe58",
   "metadata": {
    "slideshow": {
     "slide_type": "slide"
    }
   },
   "source": [
    "# Horario de clases del profesor Marco\n",
    "\n",
    "* Lunes 8-12:   \n",
    "* Lunes 2- 6 PM: Fundamento de Lógica.  \n",
    "* Martes 8-12 M: . \n",
    "* Miércoles 8 a 12 M:   \n",
    "* Miércoles de 2 a 6 PM: \n",
    "* Jueves 2 a 6 PM:  \n",
    "* Viernes 2 - 4 PM: Análisis Numérico. \n",
    "* Sábados 8-12 Asesorías y espacio para retroalimentación y apoyo al trabajo independiente. "
   ]
  },
  {
   "cell_type": "markdown",
   "id": "ae114e14",
   "metadata": {
    "slideshow": {
     "slide_type": "slide"
    }
   },
   "source": [
    "# Horarios de monitoría y asesoría  \n",
    "\n",
    "* Monitor Manuel San Juan Serrano: Contactar escribiendo al correo: manuel.serrano1@udea.edu.co"
   ]
  },
  {
   "cell_type": "markdown",
   "id": "bf0f9dbf",
   "metadata": {},
   "source": [
    "\n",
    "Coordinador de los cursos de la Facultad de Educación para regiones:    \n",
    "\n",
    "Andrés Vélez: regioneducacion.fedu@udea.edu.co  \n",
    "Coordinador Regiones  \n",
    "Facultad de Educación  \n",
    "Universidad de Antioquia  "
   ]
  },
  {
   "cell_type": "markdown",
   "id": "39559692",
   "metadata": {
    "slideshow": {
     "slide_type": "slide"
    }
   },
   "source": [
    "Martes y jueves de 8 - 12  \n",
    "Miércoles 10 - 12 y de 2 a 4 PM  \n",
    "Sábado: 8 - 12"
   ]
  },
  {
   "cell_type": "markdown",
   "id": "10bce0d0",
   "metadata": {
    "slideshow": {
     "slide_type": "slide"
    }
   },
   "source": [
    "## Referentes "
   ]
  },
  {
   "cell_type": "markdown",
   "id": "1db3c468",
   "metadata": {
    "slideshow": {
     "slide_type": "slide"
    }
   },
   "source": [
    "* [CALCULO I DE UNA VARIABLE Ron Larson-Bruce Edwards. Mc Graw Hill. 9º Edición](https://www.academia.edu/42139251/CALCULO_I_DE_UNA_VARIABLE_Ron_Larson_Bruce_Edwards_Mc_Graw_Hill_9o_Edici%C3%B3n)   \n",
    "  \n",
    "\n",
    "* [Grajales Vanegas, L. M., Restrepo Estrada, C. E., Restrepo Ochoa, S. I., & Ruíz De Villalba, F. (2015). Matemáticas I para las ciencias económicas.](https://bibliotecadigital.udea.edu.co/handle/10495/3010)\n",
    "  \n",
    "* R. Duval y Semiosis y pensamiento humano, 2.ª ed. Cali, Colombia: Programa Editorial Universidad del Valle, 2017. [En línea]. Disponible en: https://programaeditorial.univalle.edu.co/gpd-semiosis-y-pensamiento-humano-9789587655278-63324cdb0f6b3.html\n",
    "\n",
    "* [Aylwin, C. U. (2011). Lógica, conjuntos y números. Universidad de los Andes, Consejo de Publicaciones, Colección: Ciencias Básicas, Serie: Matemáticas.](chrome-extension://efaidnbmnnnibpcajpcglclefindmkaj/https://www.u-cursos.cl/ciencias/2011/1/MC110/1/material_docente/bajar?id_material=574722)\n",
    "  \n",
    "* [Chollet, F. (2021). Deep learning with Python. Simon and Schuster.](chrome-extension://efaidnbmnnnibpcajpcglclefindmkaj/https://tanthiamhuat.wordpress.com/wp-content/uploads/2018/03/deeplearningwithpython.pdf)  \n",
    "  \n",
    "* [Watson, S., Stewart, J., & Redlin, L. (2009). Precálculo. Matemáticas para el cálculo.](https://github.com/marco-canas/calculo/blob/main/referents/1_precalculo_stewart/stewart_precalculo.pdf)  \n",
    "\n",
    "* [Purcell, E. J., Varberg, D., & Rigdon, S. E. (2007). Cálculo diferencial e integral. Pearson Educación.](https://github.com/marco-canas/calculo/blob/main/referents/purcell/purcell_calculo.pdf)\n",
    "\n",
    "  \n",
    "\n",
    "* [stewart cálculo](https://udeaeduco-my.sharepoint.com/:b:/g/personal/marco_canas_udea_edu_co/EZgXZjAp8QxPqOAim2hs6LcBNPLGjSHf-xwYnUVYkwa04w?e=RZdTCy)  \n",
    "\n",
    "\n",
    "\n",
    "\n",
    "\n",
    "* [Recomendación de la UNESCO sobre ciencia abierta](https://unesdoc.unesco.org/ark:/48223/pf0000379949_spa)\n",
    "\n",
    "* [chatGPT](https://openai.com/blog/chatgpt)  \n",
    "\n",
    "* [Géron, A. (2017). Hands-on machine learning with scikit-learn and tensorflow: Concepts. Tools, and Techniques to build intelligent systems.](chrome-extension://efaidnbmnnnibpcajpcglclefindmkaj/http://14.139.161.31/OddSem-0822-1122/Hands-On_Machine_Learning_with_Scikit-Learn-Keras-and-TensorFlow-2nd-Edition-Aurelien-Geron.pdf)   \n"
   ]
  },
  {
   "cell_type": "markdown",
   "id": "df925560",
   "metadata": {},
   "source": [
    "\n",
    "* [McKinney, W. (2012). Python for data analysis: Data wrangling with Pandas, NumPy, and IPython. \" O'Reilly Media, Inc.\".](https://wesmckinney.com/book/) "
   ]
  },
  {
   "cell_type": "markdown",
   "id": "8e65d6f9",
   "metadata": {},
   "source": [
    "# Como estudiante, encuentro que...   \n",
    "\n",
    "F: Mis Fortalezas son:     \n",
    "O: Mis Oportunidades son:    \n",
    "D: Mis Debilidades son:    \n",
    "A: Lo que Amenazas mi aprendizaje es:  "
   ]
  },
  {
   "cell_type": "markdown",
   "id": "6b9e56a8",
   "metadata": {
    "slideshow": {
     "slide_type": "slide"
    }
   },
   "source": [
    "### [Evaluamos al profesor Marco Cañas Aquí](https://forms.office.com/Pages/ResponsePage.aspx?id=IefhmYRxjkmK_7KtTlPBwkanXIs1i1FEujpsZgO6dXpUREJPV1kxUk1JV1ozTFJIQVNIQjY5WEY3US4u)"
   ]
  },
  {
   "cell_type": "markdown",
   "id": "4e8e8ccb",
   "metadata": {},
   "source": [
    "Basado en el diseño de investigación con enfoque IAE (Investigación-Acción Educativa) que compartiste, aquí tienes una propuesta de **sistema de evaluación bidireccional** para el curso *\"Vector Geometry and Linear Algebra\"*, implementable mediante Google Forms y alineado con los ciclos reflexivos de Kemmis & McTaggart:\n",
    "\n",
    "---\n"
   ]
  },
  {
   "cell_type": "markdown",
   "id": "700c88d9",
   "metadata": {},
   "source": [
    "\n",
    "### **Diseño de Evaluación para Ciclo IAE**  \n",
    "*(Para implementar en Google Forms cada 4 semanas)*  \n"
   ]
  },
  {
   "cell_type": "markdown",
   "id": "534441d7",
   "metadata": {},
   "source": [
    "\n",
    "#### **1. Encuesta de Autoevaluación Estudiantil**  \n",
    "**Objetivo**: Monitorear progreso en competencias y percepción del enfoque investigativo.  \n"
   ]
  },
  {
   "cell_type": "markdown",
   "id": "ee74d19c",
   "metadata": {},
   "source": [
    "\n",
    "**Secciones**:  \n",
    "1. **Adquisición de Competencias** (Escala Likert 1-5):  \n",
    "   - *\"¿Cómo evalúas tu dominio actual de:\"*  \n",
    "     - Operaciones con vectores/matrices aplicadas a datasets agrícolas  \n",
    "     - Implementación de PCA/SVD para análisis de imágenes satelitales  \n",
    "     - Interpretación de resultados matemáticos en contextos agropecuarios  \n"
   ]
  },
  {
   "cell_type": "markdown",
   "id": "23d2b1bd",
   "metadata": {},
   "source": [
    "\n",
    "2. **Evaluación de Metodología IAE**:  \n",
    "   - *\"El aprendizaje basado en problemas reales del Bajo Cauca me ha ayudado a:\"*  \n",
    "     - Comprender mejor los conceptos abstractos (1-5)  \n",
    "     - Desarrollar habilidades útiles para mi futuro profesional (1-5)  \n",
    "   - *Espacio abierto*: *\"Describe un momento donde la conexión teoría-práctica fue especialmente significativa para ti\"*  \n"
   ]
  },
  {
   "cell_type": "markdown",
   "id": "6a55b099",
   "metadata": {},
   "source": [
    "\n",
    "3. **Recursos y Herramientas**:  \n",
    "   - *\"Valora la utilidad de:\"*  \n",
    "     - Cuadernos Jupyter adaptados (ej. Géron 2022)  \n",
    "     - Sesiones con agricultores/ingenieros invitados  \n",
    "     - Plataforma GitHub para colaboración  \n",
    "\n",
    "---\n"
   ]
  },
  {
   "cell_type": "markdown",
   "id": "d069bb21",
   "metadata": {},
   "source": [
    "\n",
    "#### **2. Evaluación del Profesor**  \n",
    "**Objetivo**: Retroalimentación para ajustar didáctica según necesidades emergentes.  \n"
   ]
  },
  {
   "cell_type": "markdown",
   "id": "e1080dd0",
   "metadata": {},
   "source": [
    "\n",
    "**Secciones**:  \n",
    "1. **Habilidades Docentes** (Escala 1-5):  \n",
    "   - *\"El profesor facilita la conexión entre álgebra lineal y problemas agrícolas mediante:\"*  \n",
    "     - Explicaciones claras de conceptos abstractos  \n",
    "     - Ejemplos contextualizados (ej. optimización de fertilizantes)  \n",
    "     - Retroalimentación constructiva en proyectos  \n"
   ]
  },
  {
   "cell_type": "markdown",
   "id": "01742d60",
   "metadata": {},
   "source": [
    "\n",
    "2. **Seguimiento a Proyectos**:  \n",
    "   - *\"Las tutorías para los proyectos aplicados son:\"*  \n",
    "     - Suficientes en frecuencia y duración  \n",
    "     - Orientadas a resolver dudas técnicas específicas  \n",
    "     - Útiles para vincular matemáticas con agronomía  \n"
   ]
  },
  {
   "cell_type": "markdown",
   "id": "ca722d62",
   "metadata": {},
   "source": [
    "\n",
    "3. **Espacio cualitativo**:  \n",
    "   - *\"Sugiere un ajuste específico que mejoraría tu experiencia de aprendizaje\"*  \n",
    "\n",
    "---\n"
   ]
  },
  {
   "cell_type": "markdown",
   "id": "568148ad",
   "metadata": {},
   "source": [
    "\n",
    "#### **3. Evaluación de Impacto Social** *(Opcional para proyectos con agricultores)*  \n",
    "**Objetivo**: Medir transferencia de conocimiento al sector productivo.  \n"
   ]
  },
  {
   "cell_type": "markdown",
   "id": "93c7f4bc",
   "metadata": {},
   "source": [
    "\n",
    "**Preguntas clave**:  \n",
    "- *\"¿Cómo ha influido el proyecto estudiantil en el que participaste en tus prácticas agrícolas?\"* (Ej.: reducción de costos, mejora en predicciones)  \n",
    "- *\"¿Recomendarías esta colaboración a otros productores?\"* (Sí/No + justificación)  \n",
    "\n",
    "\n"
   ]
  },
  {
   "cell_type": "markdown",
   "id": "d2b6a2c7",
   "metadata": {},
   "source": [
    "\n",
    "### **Implementación en Google Forms**  \n",
    "1. **Configuración**:  \n",
    "   - Formulario anónimo (excepto evaluación de proyectos con agricultores)  \n",
    "   - Sección obligatoria (competencia + 1 pregunta abierta)  \n",
    "   - Opción de subir archivos (ej.: fotos de trabajos de campo)  \n",
    "\n",
    "2. **Ejemplo de Pregunta con Lógica Condicional**:  \n",
    "   ``` \n",
    "   Si respondiste 1-3 en \"Dominio de PCA aplicado\": \n",
    "   ¿Qué tipo de apoyo adicional necesitarías? (Taller práctico, material adicional, tutoría personalizada)  \n",
    "   ```\n",
    "\n",
    "3. **Enlace accesible**:  \n",
    "   - QR en presentaciones  \n",
    "   - Link en la cabecera del repositorio GitHub  \n",
    "\n",
    "---\n"
   ]
  },
  {
   "cell_type": "markdown",
   "id": "36872955",
   "metadata": {},
   "source": [
    "\n",
    "### **Análisis para Ciclo IAE**  \n",
    "**Herramientas**:  \n",
    "- **NVivo**: Para análisis temático de respuestas cualitativas  \n",
    "- **Google Data Studio**: Dashboard automático con:  \n",
    "  - Evolución temporal de competencias  \n",
    "  - Nube de palabras de sugerencias frecuentes  \n",
    "\n",
    "**Integración con Fases IAE**:  \n",
    "1. **Diagnóstico**: Identificar brechas recurrentes (ej.: dificultad con SVD)  \n",
    "2. **Acción**: Ajustar próximas clases (ej.: taller extra de descomposición matricial)  \n",
    "3. **Reflexión**: Comparar resultados entre ciclos (ej.: mejora en % de dominio de vectores)  \n",
    "\n",
    "**Ejemplo de Pregunta Clave para el Análisis**:  \n",
    "*\"¿Qué tema del módulo actual requirió más tiempo de práctica para su comprensión?\"*  \n",
    "\n",
    "---\n"
   ]
  },
  {
   "cell_type": "markdown",
   "id": "6d92b57d",
   "metadata": {},
   "source": [
    "\n",
    "### **Modelo de Informe Parcial** *(Para socializar con estudiantes)*  \n",
    "```markdown\n",
    "## Resultados Evaluación Ciclo 3 (2025-1)  \n",
    "- **85%** mejoró en interpretación de matrices aplicadas  \n",
    "- **Solicitud principal**: Más ejemplos con datos reales de cacaoteros  \n",
    "- **Ajustes implementados**:  \n",
    "  - Sesión extra con ingeniero de Agrosavia (25/05)  \n",
    "  - Dataset público de nutrientes en suelos arroceros añadido a GitHub  \n",
    "```\n"
   ]
  },
  {
   "cell_type": "markdown",
   "id": "b5c7eb34",
   "metadata": {},
   "source": [
    "\n",
    "Este diseño asegura que las evaluaciones:  \n",
    "✅ Sean **ágiles** (máx. 5 min por estudiante)  \n",
    "✅ Generen **datos accionables** para cada fase IAE  \n",
    "✅ Fomenten la **corresponsabilidad** en el proceso educativo  \n"
   ]
  },
  {
   "cell_type": "markdown",
   "id": "e2a5a506",
   "metadata": {},
   "source": [
    "\n",
    "¿Te gustaría que desarrolle las plantillas específicas de Google Forms o algún ajuste adicional para alinearlo mejor con tus módulos?"
   ]
  },
  {
   "cell_type": "markdown",
   "id": "10f43536",
   "metadata": {
    "slideshow": {
     "slide_type": "slide"
    }
   },
   "source": [
    "### Continue su aprendizaje en la siguiente clase a través del siguiente [vínculo]()"
   ]
  },
  {
   "cell_type": "markdown",
   "id": "53cc9115",
   "metadata": {
    "slideshow": {
     "slide_type": "slide"
    }
   },
   "source": [
    "## Agradecimientos  \n",
    "\n",
    "Doy gracias a Dios por la vida de mi Hijo Joseph Cañas Osorio y la madurez que ha alcanzado. Este hijo me enorgullece y me hace falta abrazarlo cada día. \n",
    "\n",
    "Y a mi esposa Yasmira Emperatriz Barboza Mogollón por su apoyo, orientación y acompañamiento. "
   ]
  },
  {
   "cell_type": "markdown",
   "id": "b6ba1c23",
   "metadata": {},
   "source": [
    "# Apéndice sobre calendarios y coordinaciones \n"
   ]
  },
  {
   "cell_type": "markdown",
   "id": "bf8b6499",
   "metadata": {},
   "source": [
    "## Calendario del semestre académico 2025-2  \n",
    "\n",
    "* Oferta de cursos: 29 de julio de 2025  \n",
    "\n",
    "Matrícula: 30 de julio de 2025  \n",
    "\n",
    "Ajustes de matrícula: 01 al 08 de agosto de 2025  \n",
    "\n",
    "Inicio de clases: 04 de agosto de 2025  \n",
    "\n",
    "Límite evaluación del 40%: 27 de septiembre de 2025  \n",
    "\n",
    "Terminación de clases: 22 de noviembre de 2025\n",
    "\n",
    "Exámenes finales: 24 al 29 de noviembre de 2025\n",
    "\n",
    "Habilitación y validación: 01 al 06 de diciembre 2025\n",
    "\n",
    "Terminación oficial del semestre: 09 de diciembre de 2025  "
   ]
  },
  {
   "cell_type": "markdown",
   "id": "667b9504",
   "metadata": {},
   "source": [
    "\n",
    "A continuación le envío el horario de la asignatura Cálculo Vectorial  \n",
    "\n",
    "Días:  \n",
    "Lunes - Hora: 7:00 a 12:00M  \n",
    "Fechas:  \n",
    "Febrero: 10-17-24                                          \n",
    " Marzo: 3-10-17-31                                                  \n",
    "Abril:7-21-28                                                   \n",
    "Mayo:5-12-19  \n",
    "\n",
    "Agradezco su apoyo, y si presenta alguna dificultad puede contactarme.  \n",
    "\n",
    "Cordialmente,  \n",
    "Juan Felipe Rivera Hernández  \n",
    "Contacto: 3106314300  "
   ]
  }
 ],
 "metadata": {
  "celltoolbar": "Slideshow",
  "kernelspec": {
   "display_name": ".venv",
   "language": "python",
   "name": "python3"
  },
  "language_info": {
   "codemirror_mode": {
    "name": "ipython",
    "version": 3
   },
   "file_extension": ".py",
   "mimetype": "text/x-python",
   "name": "python",
   "nbconvert_exporter": "python",
   "pygments_lexer": "ipython3",
   "version": "3.11.9"
  },
  "rise": {
   "enable_chalkboard": true,
   "theme": "sky",
   "transition": "zoom"
  }
 },
 "nbformat": 4,
 "nbformat_minor": 5
}
