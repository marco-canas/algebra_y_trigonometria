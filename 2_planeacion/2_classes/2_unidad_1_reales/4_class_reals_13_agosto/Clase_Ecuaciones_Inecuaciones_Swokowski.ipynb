{
 "cells": [
  {
   "cell_type": "markdown",
   "id": "07a09770",
   "metadata": {},
   "source": [
    "\n",
    "# Clase: Ecuaciones e Inecuaciones Algebraicas (Swokowski)  \n",
    "**Autor:** Marco Julio (U. de Antioquia — Campus Caucasia)  \n",
    "**Fecha de generación:** 2025-08-14 01:24  \n"
   ]
  },
  {
   "cell_type": "markdown",
   "id": "2dd4ca67",
   "metadata": {},
   "source": [
    "\n",
    "Esta clase integra:\n"
   ]
  },
  {
   "cell_type": "markdown",
   "id": "65dd67da",
   "metadata": {},
   "source": [
    "- Definiciones y clasificación (lineales, cuadráticas, polinómicas).\n"
   ]
  },
  {
   "cell_type": "markdown",
   "id": "b05bbb00",
   "metadata": {},
   "source": [
    "- Registros de representación de Duval: gráfica, algebraica, tabular, verbal y computacional.\n",
    "- Métodos de resolución: manual, simbólico (SymPy) y numérico (NumPy).\n",
    "- Visualización (Matplotlib, Plotly) y exploración interactiva (ipywidgets).\n",
    "- Actividades guiadas y ejercicios inspirados en Swokowski.\n"
   ]
  },
  {
   "cell_type": "markdown",
   "id": "36fec28e",
   "metadata": {},
   "source": [
    "\n",
    "> Requisitos: `numpy`, `sympy`, `matplotlib`, `plotly`, `ipywidgets`.\n"
   ]
  },
  {
   "cell_type": "markdown",
   "id": "0a5d8dd6",
   "metadata": {},
   "source": [
    "\n",
    "## 1. Definiciones\n",
    "\n",
    "**Ecuación algebraica.** Una igualdad con una o más incógnitas que involucra operaciones algebraicas (suma, resta, multiplicación, división y potencias con exponentes enteros no negativos)."
   ]
  },
  {
   "cell_type": "markdown",
   "id": "72460844",
   "metadata": {},
   "source": [
    "  \n",
    "Ej.: $3x + 2 = 11$.\n"
   ]
  },
  {
   "cell_type": "markdown",
   "id": "d2e978ef",
   "metadata": {},
   "source": [
    "\n",
    "**Inecuación algebraica.** Una desigualdad con una o más incógnitas que involucra operaciones algebraicas, con símbolos $<, \\le, >, \\ge$.  \n",
    "Ej.: $2x - 5 \\ge 7$.\n"
   ]
  },
  {
   "cell_type": "markdown",
   "id": "e65ac3fa",
   "metadata": {},
   "source": [
    "\n",
    "**Función asociada.** A una ecuación $f(x)=0$ o inecuación $f(x)\\, \\square \\,0$ (con $\\square \\in \\{<,\\le,>,\\ge\\}$) se asocia la función $f:\\mathbb{R} \\to \\mathbb{R}$.  \n"
   ]
  },
  {
   "cell_type": "markdown",
   "id": "53cd7565",
   "metadata": {},
   "source": [
    "\n",
    "## 2. Clasificación por grado del polinomio\n",
    "\n",
    "- **Lineales (grado 1):** \\(ax + b = 0\\), con \\(a\\neq 0\\).  \n",
    "- **Cuadráticas (grado 2):** \\(ax^2 + bx + c = 0\\), con \\(a\\neq 0\\).  \n",
    "- **Polinómicas de mayor grado (grado \\(\\ge 3\\)):** \\(a_n x^n + \\dots + a_1 x + a_0 = 0\\), con \\(a_n\\neq 0\\).\n"
   ]
  },
  {
   "cell_type": "markdown",
   "id": "a6fe8b80",
   "metadata": {},
   "source": [
    "\n",
    "## 3. Registros de representación (Duval)\n",
    "\n",
    "Trabajaremos el mismo objeto matemático en cinco registros:  \n",
    "1) **Gráfica**, 2) **Algebraica**, 3) **Tabular**, 4) **Verbal**, 5) **Computacional**.\n",
    "\n",
    "Ejemplo base: \\(x^2 - 4 = 0\\).\n"
   ]
  },
  {
   "cell_type": "code",
   "execution_count": null,
   "id": "a8d6901e",
   "metadata": {},
   "outputs": [],
   "source": [
    "\n",
    "import numpy as np\n",
    "import pandas as pd\n",
    "\n",
    "def tabla_valores(func, xs):\n",
    "    xs = np.asarray(xs, dtype=float)\n",
    "    ys = func(xs)\n",
    "    return pd.DataFrame({'x': xs, 'f(x)': ys})\n",
    "\n",
    "xs = np.arange(-3, 4, 1, dtype=float)\n",
    "f = lambda x: x**2 - 4\n",
    "tabla = tabla_valores(f, xs)\n",
    "tabla\n"
   ]
  },
  {
   "cell_type": "markdown",
   "id": "f3f3bbc3",
   "metadata": {},
   "source": [
    "\n",
    "**Verbal:** \"Los números cuyo cuadrado es 4 son \\(-2\\) y \\(2\\).\"  \n",
    "**Computacional (vista previa):** calcularemos raíces con SymPy y NumPy en las secciones 4.2 y 4.3.\n"
   ]
  },
  {
   "cell_type": "markdown",
   "id": "c045f1fc",
   "metadata": {},
   "source": [
    "\n",
    "## 4. Métodos de resolución\n",
    "\n",
    "### 4.1 Manual (álgebra elemental)\n",
    "Para \\(x^2 - 4 = 0\\):  \n",
    "\\((x-2)(x+2)=0 \\Rightarrow x=2 \\ \\text{o}\\ x=-2\\).\n"
   ]
  },
  {
   "cell_type": "code",
   "execution_count": null,
   "id": "d0f5de9b",
   "metadata": {},
   "outputs": [],
   "source": [
    "\n",
    "import sympy as sp\n",
    "x = sp.symbols('x')\n",
    "sol_sympy = sp.solve(sp.Eq(x**2 - 4, 0), x)\n",
    "sol_sympy\n"
   ]
  },
  {
   "cell_type": "code",
   "execution_count": null,
   "id": "e3519823",
   "metadata": {},
   "outputs": [],
   "source": [
    "\n",
    "import numpy as np\n",
    "# Coeficientes de x^2 - 4\n",
    "sol_numpy = np.roots([1, 0, -4])\n",
    "sol_numpy\n"
   ]
  },
  {
   "cell_type": "markdown",
   "id": "acd57462",
   "metadata": {},
   "source": [
    "\n",
    "## 5. Visualización\n",
    "\n",
    "### 5.1 Matplotlib (estática)\n"
   ]
  },
  {
   "cell_type": "code",
   "execution_count": null,
   "id": "31d68c47",
   "metadata": {},
   "outputs": [],
   "source": [
    "\n",
    "import numpy as np\n",
    "import matplotlib.pyplot as plt\n",
    "\n",
    "x_vals = np.linspace(-3, 3, 400)\n",
    "y_vals = x_vals**2 - 4\n",
    "\n",
    "plt.figure()\n",
    "plt.axhline(0)\n",
    "plt.axvline(0)\n",
    "plt.plot(x_vals, y_vals, label='y = x^2 - 4')\n",
    "plt.scatter([-2, 2], [0, 0], label='Raíces')\n",
    "plt.legend()\n",
    "plt.title('Parábola y raíces reales')\n",
    "plt.xlabel('x'); plt.ylabel('y');\n",
    "plt.show()\n"
   ]
  },
  {
   "cell_type": "markdown",
   "id": "443a21b6",
   "metadata": {},
   "source": [
    "\n",
    "### 5.2 Plotly (interactiva)\n"
   ]
  },
  {
   "cell_type": "code",
   "execution_count": null,
   "id": "7059cdf1",
   "metadata": {},
   "outputs": [],
   "source": [
    "\n",
    "import plotly.graph_objects as go\n",
    "import numpy as np\n",
    "\n",
    "x_vals = np.linspace(-3, 3, 400)\n",
    "y_vals = x_vals**2 - 4\n",
    "\n",
    "fig = go.Figure()\n",
    "fig.add_trace(go.Scatter(x=x_vals, y=y_vals, mode='lines', name='y = x^2 - 4'))\n",
    "fig.add_trace(go.Scatter(x=[-2, 2], y=[0, 0], mode='markers', name='Raíces'))\n",
    "fig.update_layout(title='Ecuación cuadrática: y = x^2 - 4', xaxis_title='x', yaxis_title='y')\n",
    "fig.show()\n"
   ]
  },
  {
   "cell_type": "markdown",
   "id": "bd31b1e1",
   "metadata": {},
   "source": [
    "\n",
    "## 6. Inecuaciones: solución y representación\n",
    "\n",
    "Ejemplo: Resolver \\(x^2 - 4 \\ge 0\\) y representar el conjunto solución.\n"
   ]
  },
  {
   "cell_type": "code",
   "execution_count": null,
   "id": "358126cb",
   "metadata": {},
   "outputs": [],
   "source": [
    "\n",
    "import sympy as sp\n",
    "x = sp.symbols('x')\n",
    "ineq = sp.Ge(x**2 - 4, 0)  # x^2 - 4 >= 0\n",
    "sol_ineq = sp.solve_univariate_inequality(ineq, x, relational=False)\n",
    "sol_ineq\n"
   ]
  },
  {
   "cell_type": "code",
   "execution_count": null,
   "id": "6f865232",
   "metadata": {},
   "outputs": [],
   "source": [
    "\n",
    "# Visualización de la inecuación: sombreado de la región solución en la recta real\n",
    "import numpy as np\n",
    "import matplotlib.pyplot as plt\n",
    "\n",
    "# Construimos una línea base y marcamos las regiones x <= -2 y x >= 2\n",
    "plt.figure()\n",
    "plt.axhline(0)\n",
    "# Puntos críticos\n",
    "plt.scatter([-2, 2], [0, 0], label='Puntos críticos: -2 y 2')\n",
    "\n",
    "# Sombreado por segmentos (sin especificar colores)\n",
    "xs_left = np.linspace(-5, -2, 200)\n",
    "xs_mid  = np.linspace(-2, 2, 200)\n",
    "xs_right= np.linspace(2, 5, 200)\n",
    "plt.plot(xs_left, np.zeros_like(xs_left))\n",
    "plt.plot(xs_right, np.zeros_like(xs_right))\n",
    "\n",
    "plt.title('Solución de x^2 - 4 >= 0 en la recta real')\n",
    "plt.yticks([])\n",
    "plt.xlabel('x')\n",
    "plt.legend()\n",
    "plt.show()\n"
   ]
  },
  {
   "cell_type": "markdown",
   "id": "c4ad02b6",
   "metadata": {},
   "source": [
    "\n",
    "## 7. Animaciones y exploración interactiva (ipywidgets)\n",
    "\n",
    "Explora el efecto de parámetros en familias de funciones y soluciones de ecuaciones/inecuaciones.\n"
   ]
  },
  {
   "cell_type": "code",
   "execution_count": null,
   "id": "ec300cf4",
   "metadata": {},
   "outputs": [],
   "source": [
    "\n",
    "import numpy as np\n",
    "import matplotlib.pyplot as plt\n",
    "from ipywidgets import interact, FloatSlider\n",
    "\n",
    "def parabola_interact(a=1.0, b=0.0, c=-4.0):\n",
    "    x_vals = np.linspace(-6, 6, 600)\n",
    "    y_vals = a*x_vals**2 + b*x_vals + c\n",
    "    plt.figure()\n",
    "    plt.axhline(0)\n",
    "    plt.axvline(0)\n",
    "    plt.plot(x_vals, y_vals, label=f'y = {a:.2f}x^2 + {b:.2f}x + {c:.2f}')\n",
    "    # raíces (si reales) vía NumPy\n",
    "    roots = np.roots([a, b, c]) if abs(a) > 1e-12 else np.roots([b, c]) if abs(b) > 1e-12 else []\n",
    "    if isinstance(roots, np.ndarray):\n",
    "        real_roots = roots[np.isreal(roots)].real\n",
    "        if real_roots.size > 0:\n",
    "            plt.scatter(real_roots, np.zeros_like(real_roots), label='Raíces reales')\n",
    "    plt.legend()\n",
    "    plt.ylim(-20, 20)\n",
    "    plt.xlabel('x'); plt.ylabel('y'); plt.title('Familia cuadrática')\n",
    "    plt.show()\n",
    "\n",
    "interact(\n",
    "    parabola_interact,\n",
    "    a=FloatSlider(value=1.0, min=-3.0, max=3.0, step=0.1, description='a'),\n",
    "    b=FloatSlider(value=0.0, min=-5.0, max=5.0, step=0.1, description='b'),\n",
    "    c=FloatSlider(value=-4.0, min=-10.0, max=10.0, step=0.1, description='c')\n",
    ");\n"
   ]
  },
  {
   "cell_type": "code",
   "execution_count": null,
   "id": "d1420501",
   "metadata": {},
   "outputs": [],
   "source": [
    "\n",
    "import numpy as np\n",
    "import matplotlib.pyplot as plt\n",
    "from ipywidgets import interact, FloatSlider\n",
    "\n",
    "def lineal_interact(m=1.0, b=0.0):\n",
    "    x_vals = np.linspace(-10, 10, 400)\n",
    "    y_vals = m*x_vals + b\n",
    "    plt.figure()\n",
    "    plt.axhline(0)\n",
    "    plt.axvline(0)\n",
    "    plt.plot(x_vals, y_vals, label=f'y = {m:.2f}x + {b:.2f}')\n",
    "    # raíz (si existe): y=0 -> x = -b/m\n",
    "    if abs(m) > 1e-12:\n",
    "        x0 = -b/m\n",
    "        plt.scatter([x0], [0], label='Raíz')\n",
    "    plt.legend()\n",
    "    plt.ylim(-10, 10)\n",
    "    plt.xlabel('x'); plt.ylabel('y'); plt.title('Familia lineal')\n",
    "    plt.show()\n",
    "\n",
    "interact(\n",
    "    lineal_interact,\n",
    "    m=FloatSlider(value=1.0, min=-5.0, max=5.0, step=0.1, description='m'),\n",
    "    b=FloatSlider(value=0.0, min=-10.0, max=10.0, step=0.1, description='b')\n",
    ");\n"
   ]
  },
  {
   "cell_type": "code",
   "execution_count": null,
   "id": "d90f4510",
   "metadata": {},
   "outputs": [],
   "source": [
    "\n",
    "import numpy as np\n",
    "import matplotlib.pyplot as plt\n",
    "from ipywidgets import interact, FloatSlider, Dropdown\n",
    "\n",
    "def ineq_interact(a=1.0, b=0.0, c=-4.0, tipo='>='):\n",
    "    x_vals = np.linspace(-6, 6, 600)\n",
    "    y_vals = a*x_vals**2 + b*x_vals + c\n",
    "\n",
    "    plt.figure()\n",
    "    plt.axhline(0)\n",
    "    plt.axvline(0)\n",
    "    plt.plot(x_vals, y_vals, label=f'f(x) = {a:.2f}x^2 + {b:.2f}x + {c:.2f}')\n",
    "    plt.plot(x_vals, np.zeros_like(x_vals), label='y = 0')\n",
    "\n",
    "    # Sombreado (aproximado) de regiones que cumplen la desigualdad f(x) tipo 0\n",
    "    mask = None\n",
    "    if tipo == '>=':\n",
    "        mask = y_vals >= 0\n",
    "    elif tipo == '>':\n",
    "        mask = y_vals > 0\n",
    "    elif tipo == '<=':\n",
    "        mask = y_vals <= 0\n",
    "    elif tipo == '<':\n",
    "        mask = y_vals < 0\n",
    "\n",
    "    if mask is not None:\n",
    "        # Dibujamos puntos discretos sobre el eje x donde se cumple la inecuación\n",
    "        plt.scatter(x_vals[mask], np.zeros_like(x_vals[mask]), s=5, label=f'Solución: f(x) {tipo} 0')\n",
    "\n",
    "    plt.legend()\n",
    "    plt.ylim(-20, 20)\n",
    "    plt.xlabel('x'); plt.ylabel('y'); plt.title('Desigualdades: regiones solución')\n",
    "    plt.show()\n",
    "\n",
    "interact(\n",
    "    ineq_interact,\n",
    "    a=FloatSlider(value=1.0, min=-3.0, max=3.0, step=0.1, description='a'),\n",
    "    b=FloatSlider(value=0.0, min=-5.0, max=5.0, step=0.1, description='b'),\n",
    "    c=FloatSlider(value=-4.0, min=-10.0, max=10.0, step=0.1, description='c'),\n",
    "    tipo=Dropdown(options=['>=', '>', '<=', '<'], value='>=', description='Tipo')\n",
    ");\n"
   ]
  },
  {
   "cell_type": "markdown",
   "id": "e4f98b42",
   "metadata": {},
   "source": [
    "\n",
    "## 8. Actividades guiadas y ejercicios (Swokowski + TRRS de Duval)\n",
    "\n",
    "> Trabaja cada ítem en los 5 registros (gráfica, algebraica, tabular, verbal, computacional).\n",
    "\n",
    "### 8.1 Actividades guiadas (clase/taller)\n",
    "1. **Lineal en contexto:** Dos planes de telefonía: Plan A cobra \\(15{,}000\\) + \\(200\\) por minuto; Plan B cobra \\(5{,}000\\) + \\(300\\) por minuto.  \n",
    "   - (a) Modela el costo total \\(C_A(x), C_B(x)\\).  \n",
    "   - (b) Encuentra el punto de equilibrio.  \n",
    "   - (c) Grafica y discute.  \n",
    "   - (d) Verifica con `sympy.solve` y `numpy.roots` cuando aplique.\n",
    "\n",
    "2. **Cuadrática física (tiro vertical):** Altura \\(h(t) = -5t^2 + 20t + 1\\).  \n",
    "   - (a) Zeros (instantes en que \\(h=0\\)).  \n",
    "   - (b) Vértice (altura máxima y tiempo).  \n",
    "   - (c) Intervalos donde \\(h(t) \\ge 0\\).  \n",
    "   - (d) Representa y explica el significado físico.\n",
    "\n",
    "3. **Desigualdad polinómica:** \\(p(x)=x^3-3x\\).  \n",
    "   - (a) Raíces.  \n",
    "   - (b) Signo de \\(p(x)\\) por intervalos.  \n",
    "   - (c) Soluciona \\(p(x) \\ge 0\\).  \n",
    "   - (d) Verifica con `sp.solve_univariate_inequality`.\n",
    "\n",
    "### 8.2 Ejercicios propuestos (práctica individual)\n",
    "**Lineales**\n",
    "1) \\(5x - 3 = 2\\)  \n",
    "2) \\(7 - 2x = 15\\)  \n",
    "3) \\(3(x-1) + 2 = 11\\)  \n",
    "4) \\(2x + 5 \\ge 11\\)  \n",
    "5) \\(-x + 4 < 1\\)\n",
    "\n",
    "**Cuadráticas**\n",
    "6) \\(x^2 - 5x + 6 = 0\\)  \n",
    "7) \\(2x^2 - 3x - 2 = 0\\)  \n",
    "8) \\(x^2 + 2x + 1 \\le 0\\)  \n",
    "9) \\(x^2 - 9 > 0\\)  \n",
    "10) \\(x^2 + x - 12 = 0\\)\n",
    "\n",
    "**Mayor grado**\n",
    "11) \\(x^3 - 4x = 0\\)  \n",
    "12) \\(2x^3 - 5x^2 + x - 1 = 0\\)  \n",
    "13) \\(x^4 - 5x^2 + 4 \\ge 0\\)  \n",
    "14) \\(x^3 - x^2 - x + 1 \\le 0\\)  \n",
    "15) \\(x^5 - x = 0\\)\n",
    "\n",
    "**Mixtos con contexto**\n",
    "16) Un objeto se lanza: \\(h(t)=-4.9t^2 + 14t + 6\\). Encuentra cuándo \\(h(t)\\ge 0\\).  \n",
    "17) Ingreso \\(I(p)=-p^2 + 40p - 200\\). Maximiza \\(I\\) y determina para qué \\(p\\) hay \\(I\\ge 0\\).  \n",
    "18) Intersección de dos funciones: \\(f(x)=x^2-3x\\), \\(g(x)=x+1\\). Resuelve \\(f(x)=g(x)\\) y \\(f(x)\\ge g(x)\\).  \n",
    "19) Crecimiento: \\(P(t)=0.1t^3-1.2t^2 + 4t\\). Zeros y tramos con \\(P(t)>0\\).  \n",
    "20) Diseño: el área de un rectángulo con perímetro 20 es \\(A(x)=x(10-x)\\). Maximiza \\(A\\) y resuelve \\(A(x)\\ge 21\\).\n"
   ]
  },
  {
   "cell_type": "markdown",
   "id": "37f7d12b",
   "metadata": {},
   "source": [
    "\n",
    "## 9. Plantillas para trabajar los 5 registros en cada ejercicio\n",
    "\n",
    "Copia estas celdas y ajusta \\(f(x)\\) y la condición según el ejercicio.\n"
   ]
  },
  {
   "cell_type": "code",
   "execution_count": null,
   "id": "c9e985b6",
   "metadata": {},
   "outputs": [],
   "source": [
    "\n",
    "# --- Algebraica y Computacional (símbolos y soluciones) ---\n",
    "import sympy as sp\n",
    "x = sp.symbols('x')\n",
    "\n",
    "# Define aquí tu función / expresión\n",
    "f = x**2 - 5*x + 6  # ejemplo\n",
    "\n",
    "# Ecuación f(x)=0\n",
    "sol_eq = sp.solve(sp.Eq(f, 0), x)\n",
    "# Inecuación f(x) >= 0 (modifica el símbolo si es necesario)\n",
    "sol_ineq = sp.solve_univariate_inequality(sp.Ge(f, 0), x, relational=False)\n",
    "sol_eq, sol_ineq\n"
   ]
  },
  {
   "cell_type": "code",
   "execution_count": null,
   "id": "1a740c77",
   "metadata": {},
   "outputs": [],
   "source": [
    "\n",
    "# --- Tabular ---\n",
    "import numpy as np\n",
    "import pandas as pd\n",
    "\n",
    "def tabla_valores(func, xmin=-5, xmax=5, n=11):\n",
    "    xs = np.linspace(xmin, xmax, n)\n",
    "    ys = func(xs)\n",
    "    return pd.DataFrame({'x': xs, 'f(x)': ys})\n",
    "\n",
    "func = np.vectorize(lambda t: t**2 - 5*t + 6)  # ajusta aquí\n",
    "tabla = tabla_valores(func, xmin=-2, xmax=7, n=10)\n",
    "tabla\n"
   ]
  },
  {
   "cell_type": "code",
   "execution_count": null,
   "id": "aa52e4f4",
   "metadata": {},
   "outputs": [],
   "source": [
    "\n",
    "# --- Gráfica (Matplotlib) ---\n",
    "import numpy as np\n",
    "import matplotlib.pyplot as plt\n",
    "\n",
    "xs = np.linspace(-2, 7, 400)\n",
    "ys = xs**2 - 5*xs + 6  # ajusta aquí\n",
    "\n",
    "plt.figure()\n",
    "plt.axhline(0)\n",
    "plt.axvline(0)\n",
    "plt.plot(xs, ys, label='f(x)')\n",
    "# Si conoces raíces reales:\n",
    "try:\n",
    "    import numpy as np\n",
    "    roots = np.roots([1, -5, 6])\n",
    "    real_roots = roots[np.isreal(roots)].real\n",
    "    if real_roots.size>0:\n",
    "        plt.scatter(real_roots, np.zeros_like(real_roots), label='Raíces reales')\n",
    "except Exception:\n",
    "    pass\n",
    "\n",
    "plt.legend(); plt.title('Gráfica de f(x)'); plt.xlabel('x'); plt.ylabel('y')\n",
    "plt.show()\n"
   ]
  },
  {
   "cell_type": "code",
   "execution_count": null,
   "id": "c3f38b46",
   "metadata": {},
   "outputs": [],
   "source": [
    "\n",
    "# --- Verbal (ayuda): genera un borrador de texto a partir de soluciones ---\n",
    "import sympy as sp\n",
    "x = sp.symbols('x')\n",
    "f = x**2 - 5*x + 6\n",
    "\n",
    "sol_eq = sp.solve(sp.Eq(f, 0), x)\n",
    "texto = f\"La ecuación f(x)=0 tiene soluciones {sol_eq}. La parábola abre hacia arriba y corta el eje x en esos puntos.\"\n",
    "texto\n"
   ]
  },
  {
   "cell_type": "markdown",
   "id": "93fdd5a2",
   "metadata": {},
   "source": [
    "\n",
    "## 10. Cierre y criterios de evaluación (rúbrica breve)\n",
    "\n",
    "- **Modelación correcta (registro verbal y algebraico):** 25%  \n",
    "- **Cálculo/solución (manual, simbólico, numérico):** 25%  \n",
    "- **Representaciones (gráfica, tabular, computacional):** 25%  \n",
    "- **Interpretación y comunicación (conexión entre registros):** 25%\n",
    "\n",
    "> Entrega: sube un cuaderno con tus soluciones, evidencia de ejecución de código, y una reflexión breve sobre cómo los cinco registros aportaron a tu comprensión.\n"
   ]
  }
 ],
 "metadata": {
  "language_info": {
   "name": "python"
  }
 },
 "nbformat": 4,
 "nbformat_minor": 5
}
