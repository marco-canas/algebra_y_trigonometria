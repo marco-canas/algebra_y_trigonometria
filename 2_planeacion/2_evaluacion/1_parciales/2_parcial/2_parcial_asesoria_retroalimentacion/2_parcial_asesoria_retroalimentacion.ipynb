{
 "cells": [
  {
   "cell_type": "markdown",
   "id": "dc06dec7",
   "metadata": {
    "slideshow": {
     "slide_type": "slide"
    }
   },
   "source": [
    "<table align=\"left\">\n",
    "  <td>\n",
    "    <a href=\"https://colab.research.google.com/github/ageron/handson-ml3/blob/main/tools_numpy.ipynb\" target=\"_parent\"><img src=\"https://colab.research.google.com/assets/colab-badge.svg\" alt=\"Open In Colab\"/></a>\n",
    "  </td>\n",
    "  <td>\n",
    "    <a target=\"_blank\" href=\"https://kaggle.com/kernels/welcome?src=https://github.com/ageron/handson-ml3/blob/main/tools_numpy.ipynb\"><img src=\"https://kaggle.com/static/images/open-in-kaggle.svg\" /></a>\n",
    "  </td>\n",
    "</table>"
   ]
  },
  {
   "cell_type": "markdown",
   "id": "e0c5b198",
   "metadata": {
    "slideshow": {
     "slide_type": "slide"
    }
   },
   "source": [
    "### [Video de apoyo a la lectura interactiva y experimental de este cuaderno]()"
   ]
  },
  {
   "cell_type": "markdown",
   "id": "41e82203",
   "metadata": {
    "slideshow": {
     "slide_type": "slide"
    }
   },
   "source": [
    "### [Vínculo al programa del curso:  ]()\n",
    "\n"
   ]
  },
  {
   "cell_type": "markdown",
   "id": "d11ab06d",
   "metadata": {
    "slideshow": {
     "slide_type": "slide"
    }
   },
   "source": [
    "Un reconocimiento a mis estudiantes que han construido conmigo este saber pedagógico:\n",
    "\n",
    "<img src = 'https://github.com/marco-canas/algebra_y_trigonometria/blob/main/7_images/motivacion_walter_2025-10-01_hora_12_22.jpg?raw=true'> \n",
    "\n"
   ]
  },
  {
   "cell_type": "markdown",
   "id": "8a74a56c-0ce6-4ad6-b985-553fd7fb68bb",
   "metadata": {},
   "source": [
    "Reconocimiento a las profesoras destacadas en enseñanza de la matemática en Colombia\n"
   ]
  },
  {
   "cell_type": "code",
   "execution_count": 5,
   "id": "7604880f",
   "metadata": {
    "slideshow": {
     "slide_type": "slide"
    }
   },
   "outputs": [
    {
     "data": {
      "application/vnd.microsoft.datawrangler.viewer.v0+json": {
       "columns": [
        {
         "name": "index",
         "rawType": "int64",
         "type": "integer"
        },
        {
         "name": "Cedula",
         "rawType": "int64",
         "type": "integer"
        },
        {
         "name": "Nombre",
         "rawType": "object",
         "type": "string"
        },
        {
         "name": "Email",
         "rawType": "object",
         "type": "string"
        },
        {
         "name": "q1",
         "rawType": "float64",
         "type": "float"
        },
        {
         "name": "p1",
         "rawType": "float64",
         "type": "float"
        },
        {
         "name": "q2",
         "rawType": "float64",
         "type": "float"
        },
        {
         "name": "q3",
         "rawType": "float64",
         "type": "float"
        }
       ],
       "ref": "dc34f5da-40d3-4239-a571-9df5e6e0f80d",
       "rows": [
        [
         "1",
         "1038648096",
         "ACEVEDO BELEÑO SANTIAGO",
         "sacevedo.beleno@udea.edu.co",
         "4.4",
         "3.9",
         "5.0",
         "4.6"
        ],
        [
         "2",
         "1038111190",
         "CANOLE PEÑATE SEBASTIAN",
         "sebastian.canolep@udea.edu.co",
         "2.1",
         "3.1",
         "3.2",
         "3.4"
        ],
        [
         "3",
         "1038113597",
         "CORREA RESTREPO NICOLAS",
         "nicolas.crestrepo@udea.edu.co",
         "3.0",
         "2.2",
         "5.0",
         "4.4"
        ],
        [
         "4",
         "1038108190",
         "HERNANDEZ GOMEZ MICHAEL",
         "michael.hernandez@udea.edu.co",
         "0.0",
         "0.2",
         "0.0",
         "0.0"
        ],
        [
         "5",
         "1038648760",
         "MARIN VILLARREAL PABLO ALEJANDRO",
         "pablo.marin1@udea.edu.co",
         "2.4",
         "3.1",
         "3.2",
         "2.3"
        ],
        [
         "6",
         "1193401041",
         "MARTINEZ MANJARREZ DANIELA ESTHER",
         "daniela.martinezm@udea.edu.co",
         "1.6",
         "1.3",
         "4.2",
         "2.1"
        ],
        [
         "7",
         "1038108720",
         "MEJIA GUZMAN SAMUEL",
         "samuel.mguzman@udea.edu.co",
         "1.7",
         "2.3",
         "5.0",
         "3.0"
        ],
        [
         "8",
         "1038647828",
         "NIEBLES BARRERA ALEXANDER ISAAC",
         "alexander.niebles@udea.edu.co",
         "3.5",
         "2.8",
         "5.0",
         "5.0"
        ],
        [
         "9",
         "1045426138",
         "OQUENDO MONA CRISTIAN GABRIEL",
         "cristian.oquendo1@udea.edu.co",
         "1.0",
         "0.2",
         "0.5",
         "1.6"
        ],
        [
         "10",
         "1038136953",
         "PATINO GIL CHRISTIAN FELIPE",
         "christian.patino1@udea.edu.co",
         "5.0",
         "4.7",
         "5.0",
         "5.0"
        ],
        [
         "11",
         "1032250901",
         "PINO VERGARA LIZETH",
         "lizeth.pino@udea.edu.co",
         "1.8",
         "0.6",
         "1.2",
         "1.8"
        ],
        [
         "12",
         "1038092717",
         "RIVERA GUZMAN CRISTIAN",
         "cristian.rivera2@udea.edu.co",
         "5.0",
         "5.0",
         "5.0",
         "4.2"
        ],
        [
         "13",
         "1038110693",
         "ROMERO CALDERA JUAN ESTEBAN",
         "juanesteban.romero@udea.edu.co",
         "2.3",
         "1.6",
         "4.2",
         "2.9"
        ],
        [
         "14",
         "1038647713",
         "SÁNCHEZ HERRERA JUAN ESTEVAN",
         "estevan.sanchez@udea.edu.co",
         "4.0",
         "2.8",
         "2.6",
         "0.8"
        ],
        [
         "15",
         "1063359347",
         "SANCHEZ PACHECO MOISES DAVID",
         "moises.sanchez1@udea.edu.co",
         "1.6",
         "3.0",
         "3.0",
         "1.7"
        ],
        [
         "16",
         "1066600819",
         "TIRADO CHAVARRIA WILFRAN DE JESUS",
         "wilfran.tirado@udea.edu.co",
         "2.1",
         "3.0",
         "4.6",
         "4.8"
        ],
        [
         "17",
         "1038136995",
         "VERGARA ACEVEDO SARA CRISTINA",
         "scristina.vergara@udea.edu.co",
         "2.0",
         "3.3",
         "5.0",
         "4.7"
        ],
        [
         "18",
         "1007452831",
         "VILORIA SIERRA ALEXANDER",
         "a.viloria1@udea.edu.co",
         "0.1",
         "1.6",
         "5.0",
         "0.6"
        ],
        [
         "19",
         "98640265",
         "MARCO JULIO CAÑAS CAMPILLO",
         "marco.canas@udea.edu.co",
         null,
         null,
         null,
         null
        ]
       ],
       "shape": {
        "columns": 7,
        "rows": 19
       }
      },
      "text/html": [
       "<div>\n",
       "<style scoped>\n",
       "    .dataframe tbody tr th:only-of-type {\n",
       "        vertical-align: middle;\n",
       "    }\n",
       "\n",
       "    .dataframe tbody tr th {\n",
       "        vertical-align: top;\n",
       "    }\n",
       "\n",
       "    .dataframe thead th {\n",
       "        text-align: right;\n",
       "    }\n",
       "</style>\n",
       "<table border=\"1\" class=\"dataframe\">\n",
       "  <thead>\n",
       "    <tr style=\"text-align: right;\">\n",
       "      <th></th>\n",
       "      <th>Cedula</th>\n",
       "      <th>Nombre</th>\n",
       "      <th>Email</th>\n",
       "      <th>q1</th>\n",
       "      <th>p1</th>\n",
       "      <th>q2</th>\n",
       "      <th>q3</th>\n",
       "    </tr>\n",
       "  </thead>\n",
       "  <tbody>\n",
       "    <tr>\n",
       "      <th>1</th>\n",
       "      <td>1038648096</td>\n",
       "      <td>ACEVEDO BELEÑO SANTIAGO</td>\n",
       "      <td>sacevedo.beleno@udea.edu.co</td>\n",
       "      <td>4.4</td>\n",
       "      <td>3.9</td>\n",
       "      <td>5.0</td>\n",
       "      <td>4.6</td>\n",
       "    </tr>\n",
       "    <tr>\n",
       "      <th>2</th>\n",
       "      <td>1038111190</td>\n",
       "      <td>CANOLE PEÑATE SEBASTIAN</td>\n",
       "      <td>sebastian.canolep@udea.edu.co</td>\n",
       "      <td>2.1</td>\n",
       "      <td>3.1</td>\n",
       "      <td>3.2</td>\n",
       "      <td>3.4</td>\n",
       "    </tr>\n",
       "    <tr>\n",
       "      <th>3</th>\n",
       "      <td>1038113597</td>\n",
       "      <td>CORREA RESTREPO NICOLAS</td>\n",
       "      <td>nicolas.crestrepo@udea.edu.co</td>\n",
       "      <td>3.0</td>\n",
       "      <td>2.2</td>\n",
       "      <td>5.0</td>\n",
       "      <td>4.4</td>\n",
       "    </tr>\n",
       "    <tr>\n",
       "      <th>4</th>\n",
       "      <td>1038108190</td>\n",
       "      <td>HERNANDEZ GOMEZ MICHAEL</td>\n",
       "      <td>michael.hernandez@udea.edu.co</td>\n",
       "      <td>0.0</td>\n",
       "      <td>0.2</td>\n",
       "      <td>0.0</td>\n",
       "      <td>0.0</td>\n",
       "    </tr>\n",
       "    <tr>\n",
       "      <th>5</th>\n",
       "      <td>1038648760</td>\n",
       "      <td>MARIN VILLARREAL PABLO ALEJANDRO</td>\n",
       "      <td>pablo.marin1@udea.edu.co</td>\n",
       "      <td>2.4</td>\n",
       "      <td>3.1</td>\n",
       "      <td>3.2</td>\n",
       "      <td>2.3</td>\n",
       "    </tr>\n",
       "    <tr>\n",
       "      <th>6</th>\n",
       "      <td>1193401041</td>\n",
       "      <td>MARTINEZ MANJARREZ DANIELA ESTHER</td>\n",
       "      <td>daniela.martinezm@udea.edu.co</td>\n",
       "      <td>1.6</td>\n",
       "      <td>1.3</td>\n",
       "      <td>4.2</td>\n",
       "      <td>2.1</td>\n",
       "    </tr>\n",
       "    <tr>\n",
       "      <th>7</th>\n",
       "      <td>1038108720</td>\n",
       "      <td>MEJIA GUZMAN SAMUEL</td>\n",
       "      <td>samuel.mguzman@udea.edu.co</td>\n",
       "      <td>1.7</td>\n",
       "      <td>2.3</td>\n",
       "      <td>5.0</td>\n",
       "      <td>3.0</td>\n",
       "    </tr>\n",
       "    <tr>\n",
       "      <th>8</th>\n",
       "      <td>1038647828</td>\n",
       "      <td>NIEBLES BARRERA ALEXANDER ISAAC</td>\n",
       "      <td>alexander.niebles@udea.edu.co</td>\n",
       "      <td>3.5</td>\n",
       "      <td>2.8</td>\n",
       "      <td>5.0</td>\n",
       "      <td>5.0</td>\n",
       "    </tr>\n",
       "    <tr>\n",
       "      <th>9</th>\n",
       "      <td>1045426138</td>\n",
       "      <td>OQUENDO MONA CRISTIAN GABRIEL</td>\n",
       "      <td>cristian.oquendo1@udea.edu.co</td>\n",
       "      <td>1.0</td>\n",
       "      <td>0.2</td>\n",
       "      <td>0.5</td>\n",
       "      <td>1.6</td>\n",
       "    </tr>\n",
       "    <tr>\n",
       "      <th>10</th>\n",
       "      <td>1038136953</td>\n",
       "      <td>PATINO GIL CHRISTIAN FELIPE</td>\n",
       "      <td>christian.patino1@udea.edu.co</td>\n",
       "      <td>5.0</td>\n",
       "      <td>4.7</td>\n",
       "      <td>5.0</td>\n",
       "      <td>5.0</td>\n",
       "    </tr>\n",
       "    <tr>\n",
       "      <th>11</th>\n",
       "      <td>1032250901</td>\n",
       "      <td>PINO VERGARA LIZETH</td>\n",
       "      <td>lizeth.pino@udea.edu.co</td>\n",
       "      <td>1.8</td>\n",
       "      <td>0.6</td>\n",
       "      <td>1.2</td>\n",
       "      <td>1.8</td>\n",
       "    </tr>\n",
       "    <tr>\n",
       "      <th>12</th>\n",
       "      <td>1038092717</td>\n",
       "      <td>RIVERA GUZMAN CRISTIAN</td>\n",
       "      <td>cristian.rivera2@udea.edu.co</td>\n",
       "      <td>5.0</td>\n",
       "      <td>5.0</td>\n",
       "      <td>5.0</td>\n",
       "      <td>4.2</td>\n",
       "    </tr>\n",
       "    <tr>\n",
       "      <th>13</th>\n",
       "      <td>1038110693</td>\n",
       "      <td>ROMERO CALDERA JUAN ESTEBAN</td>\n",
       "      <td>juanesteban.romero@udea.edu.co</td>\n",
       "      <td>2.3</td>\n",
       "      <td>1.6</td>\n",
       "      <td>4.2</td>\n",
       "      <td>2.9</td>\n",
       "    </tr>\n",
       "    <tr>\n",
       "      <th>14</th>\n",
       "      <td>1038647713</td>\n",
       "      <td>SÁNCHEZ HERRERA JUAN ESTEVAN</td>\n",
       "      <td>estevan.sanchez@udea.edu.co</td>\n",
       "      <td>4.0</td>\n",
       "      <td>2.8</td>\n",
       "      <td>2.6</td>\n",
       "      <td>0.8</td>\n",
       "    </tr>\n",
       "    <tr>\n",
       "      <th>15</th>\n",
       "      <td>1063359347</td>\n",
       "      <td>SANCHEZ PACHECO MOISES DAVID</td>\n",
       "      <td>moises.sanchez1@udea.edu.co</td>\n",
       "      <td>1.6</td>\n",
       "      <td>3.0</td>\n",
       "      <td>3.0</td>\n",
       "      <td>1.7</td>\n",
       "    </tr>\n",
       "    <tr>\n",
       "      <th>16</th>\n",
       "      <td>1066600819</td>\n",
       "      <td>TIRADO CHAVARRIA WILFRAN DE JESUS</td>\n",
       "      <td>wilfran.tirado@udea.edu.co</td>\n",
       "      <td>2.1</td>\n",
       "      <td>3.0</td>\n",
       "      <td>4.6</td>\n",
       "      <td>4.8</td>\n",
       "    </tr>\n",
       "    <tr>\n",
       "      <th>17</th>\n",
       "      <td>1038136995</td>\n",
       "      <td>VERGARA ACEVEDO SARA CRISTINA</td>\n",
       "      <td>scristina.vergara@udea.edu.co</td>\n",
       "      <td>2.0</td>\n",
       "      <td>3.3</td>\n",
       "      <td>5.0</td>\n",
       "      <td>4.7</td>\n",
       "    </tr>\n",
       "    <tr>\n",
       "      <th>18</th>\n",
       "      <td>1007452831</td>\n",
       "      <td>VILORIA SIERRA ALEXANDER</td>\n",
       "      <td>a.viloria1@udea.edu.co</td>\n",
       "      <td>0.1</td>\n",
       "      <td>1.6</td>\n",
       "      <td>5.0</td>\n",
       "      <td>0.6</td>\n",
       "    </tr>\n",
       "    <tr>\n",
       "      <th>19</th>\n",
       "      <td>98640265</td>\n",
       "      <td>MARCO JULIO CAÑAS CAMPILLO</td>\n",
       "      <td>marco.canas@udea.edu.co</td>\n",
       "      <td>NaN</td>\n",
       "      <td>NaN</td>\n",
       "      <td>NaN</td>\n",
       "      <td>NaN</td>\n",
       "    </tr>\n",
       "  </tbody>\n",
       "</table>\n",
       "</div>"
      ],
      "text/plain": [
       "        Cedula                             Nombre  \\\n",
       "1   1038648096            ACEVEDO BELEÑO SANTIAGO   \n",
       "2   1038111190            CANOLE PEÑATE SEBASTIAN   \n",
       "3   1038113597            CORREA RESTREPO NICOLAS   \n",
       "4   1038108190            HERNANDEZ GOMEZ MICHAEL   \n",
       "5   1038648760   MARIN VILLARREAL PABLO ALEJANDRO   \n",
       "6   1193401041  MARTINEZ MANJARREZ DANIELA ESTHER   \n",
       "7   1038108720                MEJIA GUZMAN SAMUEL   \n",
       "8   1038647828    NIEBLES BARRERA ALEXANDER ISAAC   \n",
       "9   1045426138      OQUENDO MONA CRISTIAN GABRIEL   \n",
       "10  1038136953        PATINO GIL CHRISTIAN FELIPE   \n",
       "11  1032250901                PINO VERGARA LIZETH   \n",
       "12  1038092717             RIVERA GUZMAN CRISTIAN   \n",
       "13  1038110693        ROMERO CALDERA JUAN ESTEBAN   \n",
       "14  1038647713       SÁNCHEZ HERRERA JUAN ESTEVAN   \n",
       "15  1063359347       SANCHEZ PACHECO MOISES DAVID   \n",
       "16  1066600819  TIRADO CHAVARRIA WILFRAN DE JESUS   \n",
       "17  1038136995      VERGARA ACEVEDO SARA CRISTINA   \n",
       "18  1007452831           VILORIA SIERRA ALEXANDER   \n",
       "19    98640265         MARCO JULIO CAÑAS CAMPILLO   \n",
       "\n",
       "                             Email   q1   p1   q2   q3  \n",
       "1      sacevedo.beleno@udea.edu.co  4.4  3.9  5.0  4.6  \n",
       "2    sebastian.canolep@udea.edu.co  2.1  3.1  3.2  3.4  \n",
       "3    nicolas.crestrepo@udea.edu.co  3.0  2.2  5.0  4.4  \n",
       "4    michael.hernandez@udea.edu.co  0.0  0.2  0.0  0.0  \n",
       "5         pablo.marin1@udea.edu.co  2.4  3.1  3.2  2.3  \n",
       "6    daniela.martinezm@udea.edu.co  1.6  1.3  4.2  2.1  \n",
       "7       samuel.mguzman@udea.edu.co  1.7  2.3  5.0  3.0  \n",
       "8    alexander.niebles@udea.edu.co  3.5  2.8  5.0  5.0  \n",
       "9    cristian.oquendo1@udea.edu.co  1.0  0.2  0.5  1.6  \n",
       "10   christian.patino1@udea.edu.co  5.0  4.7  5.0  5.0  \n",
       "11         lizeth.pino@udea.edu.co  1.8  0.6  1.2  1.8  \n",
       "12    cristian.rivera2@udea.edu.co  5.0  5.0  5.0  4.2  \n",
       "13  juanesteban.romero@udea.edu.co  2.3  1.6  4.2  2.9  \n",
       "14     estevan.sanchez@udea.edu.co  4.0  2.8  2.6  0.8  \n",
       "15     moises.sanchez1@udea.edu.co  1.6  3.0  3.0  1.7  \n",
       "16      wilfran.tirado@udea.edu.co  2.1  3.0  4.6  4.8  \n",
       "17   scristina.vergara@udea.edu.co  2.0  3.3  5.0  4.7  \n",
       "18          a.viloria1@udea.edu.co  0.1  1.6  5.0  0.6  \n",
       "19         marco.canas@udea.edu.co  NaN  NaN  NaN  NaN  "
      ]
     },
     "execution_count": 5,
     "metadata": {},
     "output_type": "execute_result"
    }
   ],
   "source": [
    "import pandas as pd\n",
    "import numpy as np\n",
    "\n",
    "# Cargar la lista de estudiantes desde el archivo CSV\n",
    "path = 'C:/Users/marco/Documentos/docencia/groups_list/algebra_and_trigonometry.xlsx'\n",
    "df = pd.read_excel(path)\n",
    "df.index = np.arange(1, len(df)+1)\n",
    "df \n"
   ]
  },
  {
   "cell_type": "markdown",
   "id": "d7598d0a-d9b7-4ae0-b029-a0ed6ed1130b",
   "metadata": {},
   "source": [
    "\n",
    "# Principios de mi labor docente"
   ]
  },
  {
   "cell_type": "markdown",
   "id": "4f9d8cf9",
   "metadata": {
    "slideshow": {
     "slide_type": "slide"
    }
   },
   "source": [
    "## Modelo general de clase: [aula invertida](https://www3.gobiernodecanarias.org/medusa/ecoescuela/pedagotic/aprendizaje-invertido-flipped-classroom/)"
   ]
  },
  {
   "cell_type": "markdown",
   "id": "eb6ed03a",
   "metadata": {},
   "source": [
    "<img src = 'https://resources.maneuveringthemiddle.com/wp-content/uploads/2020/07/04212706/1-5.png' width = 200>  \n",
    "\n"
   ]
  },
  {
   "cell_type": "markdown",
   "id": "34319cce-a71b-4f64-aab8-b53e521efa40",
   "metadata": {},
   "source": [
    "# Metodología de Aprendizaje Basado en Problemas y Proyectos (ABPP)\n"
   ]
  },
  {
   "cell_type": "markdown",
   "id": "c4f73d81",
   "metadata": {},
   "source": [
    "\n",
    "<img src = 'https://www.unir.net/wp-content/uploads/2020/07/aprendizaje-problemas2-1-1-1-1.jpeg' width = 200>"
   ]
  },
  {
   "cell_type": "markdown",
   "id": "841a985c-bd9b-4dd3-8e4c-893983980af2",
   "metadata": {},
   "source": [
    "# Desarrollo del pensamiento computacional con Lenguajes Python y R, y con archivos Markdown orientado a la formación en ciencia de datos \n",
    "\n"
   ]
  },
  {
   "cell_type": "markdown",
   "id": "3d0eba94",
   "metadata": {},
   "source": [
    "\n",
    "<img src = 'https://i.ytimg.com/vi/mcG_wcR4e6M/maxresdefault.jpg' width = 200>"
   ]
  },
  {
   "cell_type": "markdown",
   "id": "65aa0404-f7ae-495e-864c-1aec01b4255e",
   "metadata": {},
   "source": [
    "# Principio de fomento a la ciencia abierta, enseñar en el acceso a los datos públicos y el uso de software de código abierto  \n"
   ]
  },
  {
   "cell_type": "markdown",
   "id": "18ae9b87",
   "metadata": {},
   "source": [
    "\n",
    "<img src = 'https://unesdoc.unesco.org/in/rest/Thumb/image?id=p%3A%3Ausmarcdef_0000379949_spa&author=UNESCO&title=Recomendaci%C3%B3n+de+la+UNESCO+sobre+la+Ciencia+Abierta&year=2021&publisher=UNESCO&TypeOfDocument=UnescoPhysicalDocument&mat=PGD&ct=true&size=512&isPhysical=1' width = 200>"
   ]
  },
  {
   "cell_type": "markdown",
   "id": "d9559f85",
   "metadata": {},
   "source": [
    "El enfoque STEAMS en educación preescolar, primaria y secundaria es una extensión del enfoque STEM (Ciencia, Tecnología, Ingeniería y Matemáticas) y su variante STEAM, que incorpora el Arte. "
   ]
  },
  {
   "cell_type": "markdown",
   "id": "0130ec1b",
   "metadata": {},
   "source": [
    "\n",
    "<img src = 'https://www.campuseducacion.com/blog/wp-content/uploads/2023/03/foto01-1.jpg' width = 200>"
   ]
  },
  {
   "cell_type": "markdown",
   "id": "bb7f89f0",
   "metadata": {},
   "source": [
    "# Áreas de mejora identificadas en el parcial 2  \n",
    "\n",
    "1. área superficial de un cilindro circular recto: \n",
    "\n",
    "$$\n",
    "A = 2\\pi r (r+h)\n",
    "$$\n",
    "\n",
    "2. Despeje de variables en una ecuación. "
   ]
  },
  {
   "cell_type": "markdown",
   "id": "36ea91ed",
   "metadata": {},
   "source": [
    "# Tiempo requerido para realizar un trabajo  \n",
    "\n"
   ]
  },
  {
   "cell_type": "markdown",
   "id": "7ceb7dd5",
   "metadata": {},
   "source": [
    " # Instalación de una cerca  (Página 92 del PDF de Swokowski) \n",
    " \n",
    " Un agricultor piensa usar 180  pies de cerca para encerrar una región rectangular, usando parte de una margen recta de un río en lugar de cerca como\n",
    " uno de los lados del rectángulo, como se ve en la figura.\n",
    " Encuentre el área de la región si la longitud del lado paralelo a la margen mide  \n",
    "\n",
    " (a) el doble de la longitud de un lado adyacente.  \n",
    " (b) la mitad de la longitud de un lado adyacente.  \n",
    " (c) lo mismo que la longitud de un lado adyacente.  "
   ]
  },
  {
   "cell_type": "markdown",
   "id": "a0191bad",
   "metadata": {},
   "source": [
    "\n",
    "Este es un problema clásico de **máximos y mínimos** con restricción de perímetro.\n",
    "Un agricultor tiene **180 pies de cerca** y construirá un rectángulo pegado al río, de modo que solo se usan **3 lados**:\n",
    "\n",
    "* Dos lados **perpendiculares al río** (llamémoslos $x$).\n",
    "* Un lado **paralelo al río** (llamémoslo $y$).\n"
   ]
  },
  {
   "cell_type": "markdown",
   "id": "88324957",
   "metadata": {},
   "source": [
    "\n",
    "La restricción del alambre es:\n",
    "\n",
    "$$\n",
    "2x + y = 180 \\qquad \\Rightarrow \\qquad y = 180 - 2x\n",
    "$$\n"
   ]
  },
  {
   "cell_type": "markdown",
   "id": "802e5578",
   "metadata": {},
   "source": [
    "\n",
    "y el área es:\n",
    "\n",
    "$$\n",
    "A(x, y) = x \\cdot y.\n",
    "$$\n",
    "\n",
    "---\n"
   ]
  },
  {
   "cell_type": "markdown",
   "id": "99625733",
   "metadata": {},
   "source": [
    "\n",
    "Para el problema, se te pide considerar tres casos:\n",
    "\n",
    "* (a) $ y = 2x $\n",
    "* (b) $ y = \\tfrac{1}{2}x $\n",
    "* (c) $ y = x$\n",
    "\n",
    "---\n"
   ]
  },
  {
   "cell_type": "markdown",
   "id": "b92f3458",
   "metadata": {},
   "source": [
    "\n",
    "Aquí te dejo un **script en Python con ipywidgets** que permite usar un deslizador para elegir el valor de $x$, calcular automáticamente $y$ según cada condición, y mostrar cómo cambia el área gráficamente:\n"
   ]
  },
  {
   "cell_type": "code",
   "execution_count": null,
   "id": "c96f3dc0",
   "metadata": {},
   "outputs": [
    {
     "data": {
      "application/vnd.jupyter.widget-view+json": {
       "model_id": "596b6a8ab43d421292ff5dc84fe0ede0",
       "version_major": 2,
       "version_minor": 0
      },
      "text/plain": [
       "interactive(children=(IntSlider(value=20, description='x', max=90, min=1), Dropdown(description='caso', option…"
      ]
     },
     "metadata": {},
     "output_type": "display_data"
    }
   ],
   "source": [
    "import numpy as np\n",
    "import matplotlib.pyplot as plt\n",
    "import ipywidgets as widgets\n",
    "from ipywidgets import interact\n",
    "\n",
    "# Restricción: 2x + y = 180\n",
    "def calcular_area(x, caso):\n",
    "    if caso == 'a) y = 2x':\n",
    "        y = 2*x\n",
    "    elif caso == 'b) y = (1/2)x':\n",
    "        y = 0.5*x\n",
    "    elif caso == 'c) y = x':\n",
    "        y = x\n",
    "    else:\n",
    "        return None, None\n",
    "    \n",
    "    # Validación: debe cumplirse 2x + y <= 180\n",
    "    if 2*x + y > 180:\n",
    "        return y, 0\n",
    "    \n",
    "    area = x * y\n",
    "    return y, area\n",
    "\n",
    "@interact(x=widgets.IntSlider(min=1, max=90, step=1, value=20),\n",
    "          caso=widgets.Dropdown(options=['a) y = 2x','b) y = (1/2)x','c) y = x'], value='a) y = 2x'))\n",
    "def actualizar(x, caso):\n",
    "    y, area = calcular_area(x, caso)\n",
    "    if y is None:\n",
    "        print(\"Error en el caso.\")\n",
    "        return\n",
    "\n",
    "    plt.figure(figsize=(6,4))\n",
    "    plt.title(f\"Rectángulo con condición {caso}\")\n",
    "    \n",
    "    # Dibujar el rectángulo\n",
    "    plt.plot([0, y, y, 0, 0], [0, 0, x, x, 0], 'b-', linewidth=2)\n",
    "    plt.fill([0, y, y, 0], [0, 0, x, x], alpha=0.3, color='cyan')\n",
    "    \n",
    "    plt.text(y/2, x/2, f\"Área = {area:.1f}\", fontsize=12, ha='center')\n",
    "    plt.xlabel(\"Lado paralelo al río (y)\")\n",
    "    plt.ylabel(\"Lado perpendicular (x)\")\n",
    "    plt.xlim(0, 200)\n",
    "    plt.ylim(0, 100)\n",
    "    plt.grid(True)\n",
    "    plt.savefig(r\"C:\\Users\\marco\\Downloads\\terreno_cercado.png\")\n",
    "    plt.show()\n",
    "\n",
    "    print(f\"x = {x}, y = {y}, Área = {area}\")\n"
   ]
  },
  {
   "cell_type": "markdown",
   "id": "86a686d6",
   "metadata": {},
   "source": [
    "\n",
    "\n",
    "Con este código:\n",
    "\n",
    "* Puedes mover el deslizador de $x$.\n",
    "* Seleccionar el caso (a, b o c).\n",
    "* Ver cómo cambia el área y cómo se dibuja el rectángulo en el gráfico.\n"
   ]
  },
  {
   "cell_type": "markdown",
   "id": "f731922b",
   "metadata": {},
   "source": [
    "# Dimensiones de una pastilla de vitaminas  \n",
    "\n",
    "Dimensiones de una pastilla de vitaminas  \n",
    "\n",
    "La rapidez a la que una pastilla de vitamina C empieza a disolverse depende de su área superficial. Una marca de pastillas mide 2 centímetros de largo y tiene forma de cilindro con una semiesfera de 0.5 cm de diámetro unida en cada uno de sus  extremos, como se ve en la figura. Una segunda marca de pastilla se va a fabricar en forma de cilindro circular recto de 0.5 cm de altura.\n",
    "  (a) Encuentre el diámetro de la segunda pastilla para que su área superficial  \n",
    "      sea igual a la de la primera pastilla.\n",
    "  (b) Encuentre el volumen de cada pastilla."
   ]
  },
  {
   "cell_type": "markdown",
   "id": "11dfa918",
   "metadata": {},
   "source": [
    "# **Guía didáctica completa** (deducción con LaTeX, resultados numéricos, interpretación) y **un notebook / script listo para pegar en Jupyter** que produce:\n"
   ]
  },
  {
   "cell_type": "markdown",
   "id": "c6255af0",
   "metadata": {},
   "source": [
    "\n",
    "* cálculos simbólicos y numéricos,\n",
    "* una tabla con pandas,\n",
    "* diagramas y comparaciones con **matplotlib**,\n",
    "* una gráfica interactiva de $A_2$ vs diámetro con **plotly**,\n",
    "* y las deducciones en LaTeX para usar en las celdas Markdown.\n",
    "\n",
    "---\n"
   ]
  },
  {
   "cell_type": "markdown",
   "id": "10139b6f",
   "metadata": {},
   "source": [
    "\n",
    "# 1) Planteamiento y deducción matemática (LaTeX)\n",
    "\n",
    "Definimos:\n",
    "\n",
    "* Primera pastilla: cilindro de radio (r) y altura (cuerpo) (h_1), con una semiesfera de radio (r) en cada extremo. En el enunciado: diámetro de las semiesferas $=0.5\\ \\text{cm}\\Rightarrow r=0.25\\ \\text{cm}$ y $h_1=2\\ \\text{cm}.$\n",
    "* Segunda pastilla: cilindro recto (radio (R), altura (h_2=0.5\\ \\text{cm})). Queremos el diámetro (D=2R) tal que su área superficial sea igual a la del primer diseño.\n"
   ]
  },
  {
   "cell_type": "markdown",
   "id": "f8e6e65a",
   "metadata": {},
   "source": [
    "\n",
    "**Área y volumen de la primera pastilla**\n",
    "\n",
    "$$\n",
    "A_1 = \\underbrace{2\\pi r h_1}*{\\text{área lateral del cilindro}} + \\underbrace{4\\pi r^2}*{\\text{área de la esfera completa (2 semiesferas)}}\n",
    "$$\n"
   ]
  },
  {
   "cell_type": "markdown",
   "id": "4a9c3a4a",
   "metadata": {},
   "source": [
    "[\n",
    "V_1 = \\underbrace{\\pi r^2 h_1}*{\\text{volumen del cilindro}} + \\underbrace{\\frac{4}{3}\\pi r^3}*{\\text{volumen de la esfera (2 semiesferas)}}\n",
    "]\n",
    "\n",
    "**Área y volumen de la segunda pastilla (cilindro de radio (R) y altura (h_2))**\n",
    "\n",
    "[\n",
    "A_2 = \\underbrace{2\\pi R h_2}*{\\text{área lateral}} + \\underbrace{2\\pi R^2}*{\\text{áreas de las dos bases}} = 2\\pi R(h_2 + R).\n",
    "]\n",
    "Condición (A_2 = A_1), por tanto\n",
    "[\n",
    "2\\pi R(h_2+R) = A_1 \\quad\\Longrightarrow\\quad 2\\pi(R^2 + h_2 R) - A_1 = 0,\n",
    "]\n",
    "que es una cuadrática en (R). Se resuelve por fórmula cuadrática:\n",
    "[\n",
    "R = \\frac{-2\\pi h_2 \\pm \\sqrt{(2\\pi h_2)^2 + 8\\pi A_1}}{4\\pi},\n",
    "]\n",
    "se toma la raíz positiva.\n",
    "\n",
    "---\n"
   ]
  },
  {
   "cell_type": "markdown",
   "id": "24385e7a",
   "metadata": {},
   "source": [
    "\n",
    "# 2) Cálculo numérico (valores)\n",
    "\n",
    "Sustituyendo los datos del problema:\n",
    "\n",
    "* $r = 0.25\\ \\text{cm}$, $h_1 = 2\\ \\text{cm}$, $h_2 = 0.5\\ \\text{cm}$.\n",
    "\n",
    "Cálculos exactos (simplificados):\n",
    "\n",
    "$$\n",
    "A_1 = 2\\pi(0.25)(2) + 4\\pi(0.25)^2 = 1.25\\pi \\approx 3.9269908\\ \\text{cm}^2.\n",
    "$$\n"
   ]
  },
  {
   "cell_type": "markdown",
   "id": "6343b8b8",
   "metadata": {},
   "source": [
    "\n",
    "$$\n",
    "V_1 = \\pi(0.25)^2(2) + \\frac{4}{3}\\pi(0.25)^3\n",
    "= \\Big(0.125 + \\tfrac{0.0625}{3}\\Big)\\pi\n",
    "\\approx 0.1458333\\pi \\approx 0.458149\\ \\text{cm}^3.\n",
    "$$\n"
   ]
  },
  {
   "cell_type": "markdown",
   "id": "02b1b447",
   "metadata": {},
   "source": [
    "\n",
    "Resolver la cuadrática da (raíces simbólicamente, luego numérico):\n",
    "\n",
    "$$\n",
    "R \\approx 0.5791561975\\ \\text{cm} \\quad\\Rightarrow\\quad D = 2R \\approx 1.158312395\\ \\text{cm}.\n",
    "$$\n"
   ]
  },
  {
   "cell_type": "markdown",
   "id": "175bc3d6",
   "metadata": {},
   "source": [
    "\n",
    "Verificación: $A_2 = 2\\pi R(h_2+R)$ da exactamente $A_1$ (numéricamente coincide: $A_2\\approx 3.9269908\\ \\text{cm}^2)$.\n"
   ]
  },
  {
   "cell_type": "markdown",
   "id": "c6071b88",
   "metadata": {},
   "source": [
    "\n",
    "Volumen segunda pastilla:\n",
    "$$\n",
    "V_2 = \\pi R^2 h_2 \\approx \\pi (0.5791562)^2(0.5) \\approx 0.526652\\ \\text{cm}^3.\n",
    "$$\n"
   ]
  },
  {
   "cell_type": "markdown",
   "id": "15bf4995",
   "metadata": {},
   "source": [
    "\n",
    "Observación pedagógica: la segunda pastilla (para igualar área superficial) resulta **con mayor volumen** que la primera dado el $h_2$ pequeño y el diámetro relativamente grande resultante.\n",
    "\n",
    "---\n"
   ]
  },
  {
   "cell_type": "markdown",
   "id": "e205beb3",
   "metadata": {},
   "source": [
    "\n",
    "# 3) Interpretación didáctica / física\n",
    "\n",
    "* Como la disolución depende del área superficial, mantener la misma área superficial con distinta forma no garantiza igual volumen: aquí $V_2 > V_1$, por lo tanto la segunda pastilla contendrá más materia pero ofrecerá la misma superficie total que regula la rapidez inicial de disolución.\n",
    "* Actividad en clase: pedir a los estudiantes que varíen $h_2$ (altura del cilindro de la segunda pastilla) y hallen $D$ para cada $h_2$. Graficar $D(h_2)$ y los volúmenes; discutir trade-offs entre área y volumen.\n",
    "\n",
    "---\n"
   ]
  },
  {
   "cell_type": "markdown",
   "id": "4bf061f3",
   "metadata": {},
   "source": [
    "\n",
    "# 4) Código Jupyter (lista para ejecutar)\n",
    "\n",
    "Pega el siguiente código en una celda de un Jupyter notebook y ejecútalo. Produce las deducciones en LaTeX, la tabla con pandas, figuras con matplotlib y una gráfica interactiva con plotly.\n",
    "\n",
    "\n"
   ]
  },
  {
   "cell_type": "code",
   "execution_count": 9,
   "id": "a50cba59",
   "metadata": {},
   "outputs": [],
   "source": [
    "# Notebook: dimensiones_pastillas.ipynb\n",
    "import math\n",
    "import numpy as np\n",
    "import pandas as pd\n",
    "import matplotlib.pyplot as plt\n",
    "from matplotlib.patches import Rectangle, Circle\n",
    "from IPython.display import display, Math, Markdown\n",
    "import plotly.graph_objects as go\n"
   ]
  },
  {
   "cell_type": "code",
   "execution_count": 10,
   "id": "b50a672a",
   "metadata": {},
   "outputs": [],
   "source": [
    "\n",
    "# --- parámetros del problema ---\n",
    "r = 0.25    # radio semiesfera (cm) -> diámetro 0.5 cm\n",
    "h1 = 2.0    # altura del cilindro en primera pastilla (cm)\n",
    "h2 = 0.5    # altura del cilindro en segunda pastilla (cm)\n",
    "pi = math.pi\n"
   ]
  },
  {
   "cell_type": "code",
   "execution_count": null,
   "id": "a64afbfb",
   "metadata": {},
   "outputs": [],
   "source": [
    "\n",
    "# --- cálculos primera pastilla ---\n",
    "A1 = 2*pi*r*h1 + 4*pi*r**2\n",
    "V1 = pi * r**2 * h1 + (4/3) * pi * r**3\n",
    "\n",
    "# --- resolver R (segunda pastilla) imponiendo A2 = A1 ---\n",
    "# A2 = 2*pi*R*h2 + 2*pi*R^2 = 2*pi*R*(h2 + R)\n",
    "# ecuación: 2*pi*(R^2 + h2*R) - A1 = 0\n",
    "a = 2*pi\n",
    "b = 2*pi*h2\n",
    "c = -A1\n",
    "disc = b*b - 4*a*c\n",
    "if disc < 0:\n",
    "    raise ValueError(\"No hay solución real para R\")\n",
    "R = (-b + math.sqrt(disc)) / (2*a)\n",
    "if R <= 0:\n",
    "    R = (-b - math.sqrt(disc)) / (2*a)\n",
    "D = 2*R\n",
    "\n",
    "# confirmar A2 y V2\n",
    "A2 = 2*pi*R*h2 + 2*pi*R**2\n",
    "V2 = pi * R**2 * h2\n",
    "\n",
    "# Mostrar deducciones en LaTeX (útil en celdas Markdown)\n",
    "display(Markdown(\"### Deducción simbólica\"))\n",
    "display(Math(r\"A_1 = 2\\pi r h_1 + 4\\pi r^2\"))\n",
    "display(Math(r\"A_2 = 2\\pi R h_2 + 2\\pi R^2 = 2\\pi R(h_2 + R)\"))\n",
    "\n",
    "# Tabla de resultados\n",
    "df = pd.DataFrame({\n",
    "    \"item\": [\"radio 1 (cm)\", \"h1 (cm)\", \"A1 (cm^2)\", \"V1 (cm^3)\",\n",
    "             \"h2 (cm)\", \"R solución (cm)\", \"D solución (cm)\", \"A2 (cm^2)\", \"V2 (cm^3)\"],\n",
    "    \"valor\": [r, h1, A1, V1, h2, R, D, A2, V2]\n",
    "})\n",
    "display(df)\n",
    "\n",
    "# Diagrama esquemático con matplotlib (vista lateral)\n",
    "fig, ax = plt.subplots(figsize=(9,3.5))\n",
    "ax.set_aspect('equal')\n",
    "ax.axis('off')\n",
    "# pastilla 1 (cilindro + semiesferas)\n",
    "ax.add_patch(Rectangle((0, -r), h1, 2*r, fill=False, linewidth=1.5))\n",
    "ax.add_patch(Circle((0,0), r, fill=False, linewidth=1.5))\n",
    "ax.add_patch(Circle((h1,0), r, fill=False, linewidth=1.5))\n",
    "ax.text(h1/2, -r-0.4, \"Pastilla 1\\n(cilindro + 2 semiesferas)\", ha='center')\n",
    "# pastilla 2\n",
    "offset = h1 + 1.2\n",
    "ax.add_patch(Rectangle((offset, -R), h2, 2*R, fill=False, linewidth=1.5))\n",
    "ax.add_patch(Circle((offset,0), R, fill=False, linewidth=1.5))\n",
    "ax.add_patch(Circle((offset+h2,0), R, fill=False, linewidth=1.5))\n",
    "ax.text(offset + h2/2, -R-0.4, \"Pastilla 2\\n(cilindro)\", ha='center')\n",
    "ax.set_xlim(-0.5, offset + h2 + 0.5)\n",
    "ax.set_ylim(-1.5, 1.5)\n",
    "ax.set_title(\"Diagrama lateral esquemático (cm)\")\n",
    "plt.show()\n"
   ]
  },
  {
   "cell_type": "code",
   "execution_count": null,
   "id": "513679de",
   "metadata": {},
   "outputs": [],
   "source": [
    "\n",
    "# Gráfica interactiva (plotly): A2(d) y marcar la solución\n",
    "d_vals = np.linspace(0.05, 2.0, 400)\n",
    "R_vals = d_vals / 2\n",
    "A2_vals = 2*pi*R_vals*h2 + 2*pi*R_vals**2\n",
    "fig = go.Figure()\n",
    "fig.add_trace(go.Scatter(x=d_vals, y=A2_vals, mode='lines', name='A2(d)'))\n",
    "fig.add_trace(go.Scatter(x=[D], y=[A1], mode='markers', name='Solución', marker=dict(size=10)))\n",
    "fig.update_layout(title='Área superficial A2 en función del diámetro (cm)',\n",
    "                  xaxis_title='diámetro (cm)', yaxis_title='A2 (cm^2)')\n",
    "fig.show()\n"
   ]
  },
  {
   "cell_type": "code",
   "execution_count": 11,
   "id": "2dbe6daa",
   "metadata": {},
   "outputs": [
    {
     "data": {
      "image/png": "[encoded data removed]",
      "text/plain": [
       "<Figure size 600x400 with 1 Axes>"
      ]
     },
     "metadata": {},
     "output_type": "display_data"
    },
    {
     "data": {
      "application/vnd.microsoft.datawrangler.viewer.v0+json": {
       "columns": [
        {
         "name": "index",
         "rawType": "int64",
         "type": "integer"
        },
        {
         "name": "diámetro (cm)",
         "rawType": "float64",
         "type": "float"
        },
        {
         "name": "radio (cm)",
         "rawType": "float64",
         "type": "float"
        },
        {
         "name": "A2 (cm^2)",
         "rawType": "float64",
         "type": "float"
        }
       ],
       "ref": "23654777-b218-4bfe-b39c-5e3ae9907db4",
       "rows": [
        [
         "0",
         "0.6583123951776999",
         "0.32915619758884995",
         "1.7148188796623876"
        ],
        [
         "1",
         "0.7583123951776999",
         "0.37915619758884994",
         "2.0944214140555624"
        ],
        [
         "2",
         "0.8583123951776999",
         "0.42915619758884993",
         "2.505439874984635"
        ],
        [
         "3",
         "0.9583123951777",
         "0.47915619758885",
         "2.947874262449606"
        ],
        [
         "4",
         "1.0583123951776998",
         "0.5291561975888499",
         "3.4217245764504742"
        ],
        [
         "5",
         "1.1583123951777",
         "0.57915619758885",
         "3.9269908169872414"
        ],
        [
         "6",
         "1.2583123951777",
         "0.62915619758885",
         "4.463672984059906"
        ],
        [
         "7",
         "1.3583123951777",
         "0.67915619758885",
         "5.03177107766847"
        ],
        [
         "8",
         "1.4583123951777",
         "0.72915619758885",
         "5.631285097812929"
        ],
        [
         "9",
         "1.5583123951776998",
         "0.7791561975888499",
         "6.262215044493287"
        ],
        [
         "10",
         "1.6583123951777",
         "0.82915619758885",
         "6.9245609177095435"
        ]
       ],
       "shape": {
        "columns": 3,
        "rows": 11
       }
      },
      "text/html": [
       "<div>\n",
       "<style scoped>\n",
       "    .dataframe tbody tr th:only-of-type {\n",
       "        vertical-align: middle;\n",
       "    }\n",
       "\n",
       "    .dataframe tbody tr th {\n",
       "        vertical-align: top;\n",
       "    }\n",
       "\n",
       "    .dataframe thead th {\n",
       "        text-align: right;\n",
       "    }\n",
       "</style>\n",
       "<table border=\"1\" class=\"dataframe\">\n",
       "  <thead>\n",
       "    <tr style=\"text-align: right;\">\n",
       "      <th></th>\n",
       "      <th>diámetro (cm)</th>\n",
       "      <th>radio (cm)</th>\n",
       "      <th>A2 (cm^2)</th>\n",
       "    </tr>\n",
       "  </thead>\n",
       "  <tbody>\n",
       "    <tr>\n",
       "      <th>0</th>\n",
       "      <td>0.658312</td>\n",
       "      <td>0.329156</td>\n",
       "      <td>1.714819</td>\n",
       "    </tr>\n",
       "    <tr>\n",
       "      <th>1</th>\n",
       "      <td>0.758312</td>\n",
       "      <td>0.379156</td>\n",
       "      <td>2.094421</td>\n",
       "    </tr>\n",
       "    <tr>\n",
       "      <th>2</th>\n",
       "      <td>0.858312</td>\n",
       "      <td>0.429156</td>\n",
       "      <td>2.505440</td>\n",
       "    </tr>\n",
       "    <tr>\n",
       "      <th>3</th>\n",
       "      <td>0.958312</td>\n",
       "      <td>0.479156</td>\n",
       "      <td>2.947874</td>\n",
       "    </tr>\n",
       "    <tr>\n",
       "      <th>4</th>\n",
       "      <td>1.058312</td>\n",
       "      <td>0.529156</td>\n",
       "      <td>3.421725</td>\n",
       "    </tr>\n",
       "    <tr>\n",
       "      <th>5</th>\n",
       "      <td>1.158312</td>\n",
       "      <td>0.579156</td>\n",
       "      <td>3.926991</td>\n",
       "    </tr>\n",
       "    <tr>\n",
       "      <th>6</th>\n",
       "      <td>1.258312</td>\n",
       "      <td>0.629156</td>\n",
       "      <td>4.463673</td>\n",
       "    </tr>\n",
       "    <tr>\n",
       "      <th>7</th>\n",
       "      <td>1.358312</td>\n",
       "      <td>0.679156</td>\n",
       "      <td>5.031771</td>\n",
       "    </tr>\n",
       "    <tr>\n",
       "      <th>8</th>\n",
       "      <td>1.458312</td>\n",
       "      <td>0.729156</td>\n",
       "      <td>5.631285</td>\n",
       "    </tr>\n",
       "    <tr>\n",
       "      <th>9</th>\n",
       "      <td>1.558312</td>\n",
       "      <td>0.779156</td>\n",
       "      <td>6.262215</td>\n",
       "    </tr>\n",
       "    <tr>\n",
       "      <th>10</th>\n",
       "      <td>1.658312</td>\n",
       "      <td>0.829156</td>\n",
       "      <td>6.924561</td>\n",
       "    </tr>\n",
       "  </tbody>\n",
       "</table>\n",
       "</div>"
      ],
      "text/plain": [
       "    diámetro (cm)  radio (cm)  A2 (cm^2)\n",
       "0        0.658312    0.329156   1.714819\n",
       "1        0.758312    0.379156   2.094421\n",
       "2        0.858312    0.429156   2.505440\n",
       "3        0.958312    0.479156   2.947874\n",
       "4        1.058312    0.529156   3.421725\n",
       "5        1.158312    0.579156   3.926991\n",
       "6        1.258312    0.629156   4.463673\n",
       "7        1.358312    0.679156   5.031771\n",
       "8        1.458312    0.729156   5.631285\n",
       "9        1.558312    0.779156   6.262215\n",
       "10       1.658312    0.829156   6.924561"
      ]
     },
     "metadata": {},
     "output_type": "display_data"
    },
    {
     "name": "stdout",
     "output_type": "stream",
     "text": [
      "A1 = 3.926991 cm^2, V1 = 0.458149 cm^3\n",
      "R = 0.579156 cm, D = 1.158312 cm\n",
      "A2 = 3.926991 cm^2, V2 = 0.526879 cm^3\n"
     ]
    }
   ],
   "source": [
    "\n",
    "# Comparación de áreas y volúmenes (barras)\n",
    "labels = ['Pastilla 1', 'Pastilla 2']\n",
    "areas = [A1, A2]\n",
    "vols = [V1, V2]\n",
    "x = np.arange(len(labels))\n",
    "width = 0.35\n",
    "fig2, ax2 = plt.subplots(figsize=(6,4))\n",
    "ax2.bar(x - width/2, areas, width, label='Área (cm^2)')\n",
    "ax2.bar(x + width/2, vols, width, label='Volumen (cm^3)')\n",
    "ax2.set_xticks(x)\n",
    "ax2.set_xticklabels(labels)\n",
    "ax2.set_title('Comparación área / volumen')\n",
    "ax2.legend()\n",
    "for rect in ax2.patches:\n",
    "    height = rect.get_height()\n",
    "    ax2.annotate(f'{height:.4f}', xy=(rect.get_x() + rect.get_width()/2, height),\n",
    "                 xytext=(0,3), textcoords='offset points', ha='center', fontsize=9)\n",
    "plt.show()\n",
    "\n",
    "# Tabla con A2 para diámetros alrededor de la solución\n",
    "d_test = np.linspace(max(0.01, D-0.5), D+0.5, 11)\n",
    "table = pd.DataFrame({\n",
    "    'diámetro (cm)': d_test,\n",
    "    'radio (cm)': d_test/2,\n",
    "    'A2 (cm^2)': 2*pi*(d_test/2)*h2 + 2*pi*(d_test/2)**2\n",
    "})\n",
    "display(table)\n",
    "\n",
    "# Impresión final\n",
    "print(f\"A1 = {A1:.6f} cm^2, V1 = {V1:.6f} cm^3\")\n",
    "print(f\"R = {R:.6f} cm, D = {D:.6f} cm\")\n",
    "print(f\"A2 = {A2:.6f} cm^2, V2 = {V2:.6f} cm^3\")\n",
    "\n"
   ]
  },
  {
   "cell_type": "markdown",
   "id": "1cf01a91",
   "metadata": {},
   "source": [
    "\n",
    "# 5) Actividades propuestas para clase (uso didáctico)\n",
    "\n",
    "1. **Verificación numérica**: que los estudiantes ejecuten el notebook y comparen los resultados numéricos (redondeos).\n"
   ]
  },
  {
   "cell_type": "markdown",
   "id": "449b6c3f",
   "metadata": {},
   "source": [
    "2. **Exploración paramétrica**: variar $h_2$ (por ejemplo 0.2, 0.5, 1, 2 cm) y obtener $D(h_2)$. Graficar $D$ vs $h_2$ y discutir por qué $D$ decrece o crece con $h_2$.\n"
   ]
  },
  {
   "cell_type": "markdown",
   "id": "427a7233",
   "metadata": {},
   "source": [
    "3. **Discusión física/biológica**: si la disolución depende además de volumen por masa y no solamente del área inicial, ¿qué diseño preferirías?\n"
   ]
  },
  {
   "cell_type": "markdown",
   "id": "77fae90f",
   "metadata": {},
   "source": [
    "4. **Tarea de modelado**: incluir rugosidad de la superficie (aumenta área efectiva) y modelar cómo cambia el diámetro necesario.\n",
    "\n",
    "---\n"
   ]
  },
  {
   "cell_type": "markdown",
   "id": "eb46d681",
   "metadata": {},
   "source": [
    "\n",
    "# 6) Resumen final (respuestas numéricas)\n",
    "\n",
    "* $A_1 \\approx 3.9269908\\ \\text{cm}^2$.\n",
    "* $V_1 \\approx 0.458149\\ \\text{cm}^3$.\n",
    "* Diámetro de la segunda pastilla para $A_2 = A_1$:\n",
    "  $$\n",
    "  \\boxed{D \\approx 1.1583124\\ \\text{cm}}\n",
    "  $$  \n",
    "\n",
    "  $$radio (R \\approx 0.5791562\\ \\text{cm}).\n",
    "  $$\n",
    "* Volumen segunda pastilla: $V_2 \\approx 0.526652\\ \\text{cm}^3$.\n",
    "\n",
    "---\n"
   ]
  },
  {
   "cell_type": "markdown",
   "id": "e41f64fc",
   "metadata": {},
   "source": [
    "\n",
    "Si quieres, lo siguiente que puedo hacer **ahora** (elige una opción — no prometo ejecutar nada en el futuro, lo hago inmediatamente si pides):\n",
    "\n",
    "1. Ejecutar y adjuntar el notebook (.ipynb) listo para descargar (te lo genero ahora y te doy enlace de descarga).\n",
    "2. Añadir una celda con `ipywidgets` que permita variar $h_2$ (deslizador) y ver en tiempo real $D(h_2)$, $A_2$ y $V_2$ (útil como actividad interactiva).\n",
    "3. Preparar una versión en español lista para imprimir (PDF/markdown) con las explicaciones y figuras (te genero el archivo ahora).\n",
    "\n",
    "Dime cuál de las opciones quieres que haga **ahora mismo** y lo genero en esta respuesta.\n"
   ]
  },
  {
   "cell_type": "markdown",
   "id": "bd71ce7b",
   "metadata": {},
   "source": [
    "# Una ecuación sin soluciones  \n",
    "\n",
    "Resuelva la ecuación:  \n",
    "\n",
    "$$ \\frac{3x}{x-2} = 1 + \\frac{6}{x-2} $$"
   ]
  },
  {
   "cell_type": "markdown",
   "id": "f00c0959",
   "metadata": {},
   "source": [
    "## Solución: \n",
    "\n",
    "Para eliminar los denominadores, debemos aplicar la propiedad de uniformidad multiplicativa que nos exige que para que podamos multiplicar a ambos lados por $x-2$ y obtener una ecuación equivalente, debemos asumir que $x$ es diferente de $2$. \n",
    "\n",
    "Así, obtenemos \n",
    "\n",
    "$$\n",
    "3x = x-2 + 6, \\quad x \\neq 2\n",
    "$$"
   ]
  },
  {
   "cell_type": "markdown",
   "id": "404a9bf6",
   "metadata": {},
   "source": [
    "restando x a ambos lados obtenemos: \n",
    "$$\n",
    "2x = -2 + 6, \\quad x \\neq 2\n",
    "$$\n",
    "\n",
    "de donde \n",
    "\n",
    "$$\n",
    "2x = 4, \\quad x \\neq 2\n",
    "$$"
   ]
  },
  {
   "cell_type": "markdown",
   "id": "9a9d02a1",
   "metadata": {},
   "source": [
    "y dividiendo por 2 a ambos lados obtenemos: \n",
    "\n",
    "$$\n",
    "x = 2, \\quad \\text{y} \\quad x \\neq 2\n",
    "$$\n",
    "\n",
    "lo cual es contradictorio, por tanto, esta ecuación no tiene solución. Pues al aplicar propiedades de uniformidad, obtenermos una contradicción. "
   ]
  },
  {
   "cell_type": "markdown",
   "id": "7f465bc8",
   "metadata": {},
   "source": [
    "# Resuelva la siguiente inecuación con valor obsoluto  \n",
    "\n",
    "$$ |4x + 7| < 21 $$ utilizando que $|a| < b \\Rightarrow -b < a < b$"
   ]
  },
  {
   "cell_type": "markdown",
   "id": "0c15c73e",
   "metadata": {},
   "source": [
    "# Determinación de cuál ecuación no es equivalente a la ecuación que la precede  \n",
    " \n",
    "$$\n",
    "\\begin{aligned}\n",
    "x^{2} - x - 2 & = x^{2} - 4\\\\ \n",
    "& = \\\\ \n",
    "& = \\\\ \n",
    "& = \n",
    "\\end{aligned}\n",
    "$$"
   ]
  },
  {
   "cell_type": "markdown",
   "id": "fd6f2d49",
   "metadata": {},
   "source": [
    "# Demuestre que la ecuación es una identidad  \n",
    "\n",
    "$$\n",
    "(4x - 3)^{2} - 16x^{2} = 9 - 24x \n",
    "$$\n",
    "\n",
    "Esto lo puede hacer, mostrando que esta equición es equivalente a una ecuación que es una igualdad verdadera, es decir, una ecuación que se verifica para cualquier $x$ real, pues su expresión es independiente de $x$.   \n"
   ]
  },
  {
   "cell_type": "markdown",
   "id": "87a50fc2",
   "metadata": {},
   "source": [
    "# Resolver una ecuación con expresiones racionales  \n",
    "\n",
    "$$\n",
    "\\frac{3x}{x - 2} + \\frac{1}{x+2} = \\frac{-4}{x^{2} - 4}\n",
    "$$"
   ]
  },
  {
   "cell_type": "markdown",
   "id": "a9f1e626",
   "metadata": {},
   "source": [
    "## Solución    \n",
    "\n",
    "La ecuación es:\n",
    "\n",
    "$$\n",
    "\\frac{3x}{x - 2} + \\frac{1}{x+2} = \\frac{-4}{x^{2} - 4}\n",
    "$$\n",
    "\n",
    "donde la **restricción** es $x \\neq 2, -2$ (porque el denominador se anula).\n"
   ]
  },
  {
   "cell_type": "markdown",
   "id": "74735fca",
   "metadata": {},
   "source": [
    "\n",
    "Aquí tienes un **script de Python** que la resuelve con **SymPy** y además grafica las dos funciones con **Matplotlib** y **Plotly** para visualizar los puntos de intersección:\n",
    "\n"
   ]
  },
  {
   "cell_type": "code",
   "execution_count": null,
   "id": "f96cf134",
   "metadata": {},
   "outputs": [
    {
     "name": "stdout",
     "output_type": "stream",
     "text": [
      "Soluciones simbólicas: [-1/3]\n",
      "Soluciones válidas: [-0.333333333333333]\n"
     ]
    },
    {
     "data": {
      "image/png": "[encoded data removed]",
      "text/plain": [
       "<Figure size 800x500 with 1 Axes>"
      ]
     },
     "metadata": {},
     "output_type": "display_data"
    },
    {
     "data": {
      "application/vnd.plotly.v1+json": {
       "config": {
        "plotlyServerURL": "https://plot.ly"
       },
       "data": [
        {
         "mode": "lines",
         "name": "f1(x)",
         "type": "scatter",
         "x": {
          "bdata": "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",
          "dtype": "f8"
         },
         "y": {
          "bdata": "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",
          "dtype": "f8"
         }
        },
        {
         "mode": "lines",
         "name": "f2(x)",
         "type": "scatter",
         "x": {
          "bdata": "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",
          "dtype": "f8"
         },
         "y": {
          "bdata": "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",
          "dtype": "f8"
         }
        },
        {
         "marker": {
          "color": "red",
          "size": 10
         },
         "mode": "markers+text",
         "name": "Solución",
         "text": [
          "x=-0.33"
         ],
         "textposition": "top right",
         "type": "scatter",
         "x": [
          -0.3333333333333333
         ],
         "y": [
          1.0285714285714285
         ]
        }
       ],
       "layout": {
        "template": {
         "data": {
          "bar": [
           {
            "error_x": {
             "color": "#2a3f5f"
            },
            "error_y": {
             "color": "#2a3f5f"
            },
            "marker": {
             "line": {
              "color": "#E5ECF6",
              "width": 0.5
             },
             "pattern": {
              "fillmode": "overlay",
              "size": 10,
              "solidity": 0.2
             }
            },
            "type": "bar"
           }
          ],
          "barpolar": [
           {
            "marker": {
             "line": {
              "color": "#E5ECF6",
              "width": 0.5
             },
             "pattern": {
              "fillmode": "overlay",
              "size": 10,
              "solidity": 0.2
             }
            },
            "type": "barpolar"
           }
          ],
          "carpet": [
           {
            "aaxis": {
             "endlinecolor": "#2a3f5f",
             "gridcolor": "white",
             "linecolor": "white",
             "minorgridcolor": "white",
             "startlinecolor": "#2a3f5f"
            },
            "baxis": {
             "endlinecolor": "#2a3f5f",
             "gridcolor": "white",
             "linecolor": "white",
             "minorgridcolor": "white",
             "startlinecolor": "#2a3f5f"
            },
            "type": "carpet"
           }
          ],
          "choropleth": [
           {
            "colorbar": {
             "outlinewidth": 0,
             "ticks": ""
            },
            "type": "choropleth"
           }
          ],
          "contour": [
           {
            "colorbar": {
             "outlinewidth": 0,
             "ticks": ""
            },
            "colorscale": [
             [
              0,
              "#0d0887"
             ],
             [
              0.1111111111111111,
              "#46039f"
             ],
             [
              0.2222222222222222,
              "#7201a8"
             ],
             [
              0.3333333333333333,
              "#9c179e"
             ],
             [
              0.4444444444444444,
              "#bd3786"
             ],
             [
              0.5555555555555556,
              "#d8576b"
             ],
             [
              0.6666666666666666,
              "#ed7953"
             ],
             [
              0.7777777777777778,
              "#fb9f3a"
             ],
             [
              0.8888888888888888,
              "#fdca26"
             ],
             [
              1,
              "#f0f921"
             ]
            ],
            "type": "contour"
           }
          ],
          "contourcarpet": [
           {
            "colorbar": {
             "outlinewidth": 0,
             "ticks": ""
            },
            "type": "contourcarpet"
           }
          ],
          "heatmap": [
           {
            "colorbar": {
             "outlinewidth": 0,
             "ticks": ""
            },
            "colorscale": [
             [
              0,
              "#0d0887"
             ],
             [
              0.1111111111111111,
              "#46039f"
             ],
             [
              0.2222222222222222,
              "#7201a8"
             ],
             [
              0.3333333333333333,
              "#9c179e"
             ],
             [
              0.4444444444444444,
              "#bd3786"
             ],
             [
              0.5555555555555556,
              "#d8576b"
             ],
             [
              0.6666666666666666,
              "#ed7953"
             ],
             [
              0.7777777777777778,
              "#fb9f3a"
             ],
             [
              0.8888888888888888,
              "#fdca26"
             ],
             [
              1,
              "#f0f921"
             ]
            ],
            "type": "heatmap"
           }
          ],
          "histogram": [
           {
            "marker": {
             "pattern": {
              "fillmode": "overlay",
              "size": 10,
              "solidity": 0.2
             }
            },
            "type": "histogram"
           }
          ],
          "histogram2d": [
           {
            "colorbar": {
             "outlinewidth": 0,
             "ticks": ""
            },
            "colorscale": [
             [
              0,
              "#0d0887"
             ],
             [
              0.1111111111111111,
              "#46039f"
             ],
             [
              0.2222222222222222,
              "#7201a8"
             ],
             [
              0.3333333333333333,
              "#9c179e"
             ],
             [
              0.4444444444444444,
              "#bd3786"
             ],
             [
              0.5555555555555556,
              "#d8576b"
             ],
             [
              0.6666666666666666,
              "#ed7953"
             ],
             [
              0.7777777777777778,
              "#fb9f3a"
             ],
             [
              0.8888888888888888,
              "#fdca26"
             ],
             [
              1,
              "#f0f921"
             ]
            ],
            "type": "histogram2d"
           }
          ],
          "histogram2dcontour": [
           {
            "colorbar": {
             "outlinewidth": 0,
             "ticks": ""
            },
            "colorscale": [
             [
              0,
              "#0d0887"
             ],
             [
              0.1111111111111111,
              "#46039f"
             ],
             [
              0.2222222222222222,
              "#7201a8"
             ],
             [
              0.3333333333333333,
              "#9c179e"
             ],
             [
              0.4444444444444444,
              "#bd3786"
             ],
             [
              0.5555555555555556,
              "#d8576b"
             ],
             [
              0.6666666666666666,
              "#ed7953"
             ],
             [
              0.7777777777777778,
              "#fb9f3a"
             ],
             [
              0.8888888888888888,
              "#fdca26"
             ],
             [
              1,
              "#f0f921"
             ]
            ],
            "type": "histogram2dcontour"
           }
          ],
          "mesh3d": [
           {
            "colorbar": {
             "outlinewidth": 0,
             "ticks": ""
            },
            "type": "mesh3d"
           }
          ],
          "parcoords": [
           {
            "line": {
             "colorbar": {
              "outlinewidth": 0,
              "ticks": ""
             }
            },
            "type": "parcoords"
           }
          ],
          "pie": [
           {
            "automargin": true,
            "type": "pie"
           }
          ],
          "scatter": [
           {
            "fillpattern": {
             "fillmode": "overlay",
             "size": 10,
             "solidity": 0.2
            },
            "type": "scatter"
           }
          ],
          "scatter3d": [
           {
            "line": {
             "colorbar": {
              "outlinewidth": 0,
              "ticks": ""
             }
            },
            "marker": {
             "colorbar": {
              "outlinewidth": 0,
              "ticks": ""
             }
            },
            "type": "scatter3d"
           }
          ],
          "scattercarpet": [
           {
            "marker": {
             "colorbar": {
              "outlinewidth": 0,
              "ticks": ""
             }
            },
            "type": "scattercarpet"
           }
          ],
          "scattergeo": [
           {
            "marker": {
             "colorbar": {
              "outlinewidth": 0,
              "ticks": ""
             }
            },
            "type": "scattergeo"
           }
          ],
          "scattergl": [
           {
            "marker": {
             "colorbar": {
              "outlinewidth": 0,
              "ticks": ""
             }
            },
            "type": "scattergl"
           }
          ],
          "scattermap": [
           {
            "marker": {
             "colorbar": {
              "outlinewidth": 0,
              "ticks": ""
             }
            },
            "type": "scattermap"
           }
          ],
          "scattermapbox": [
           {
            "marker": {
             "colorbar": {
              "outlinewidth": 0,
              "ticks": ""
             }
            },
            "type": "scattermapbox"
           }
          ],
          "scatterpolar": [
           {
            "marker": {
             "colorbar": {
              "outlinewidth": 0,
              "ticks": ""
             }
            },
            "type": "scatterpolar"
           }
          ],
          "scatterpolargl": [
           {
            "marker": {
             "colorbar": {
              "outlinewidth": 0,
              "ticks": ""
             }
            },
            "type": "scatterpolargl"
           }
          ],
          "scatterternary": [
           {
            "marker": {
             "colorbar": {
              "outlinewidth": 0,
              "ticks": ""
             }
            },
            "type": "scatterternary"
           }
          ],
          "surface": [
           {
            "colorbar": {
             "outlinewidth": 0,
             "ticks": ""
            },
            "colorscale": [
             [
              0,
              "#0d0887"
             ],
             [
              0.1111111111111111,
              "#46039f"
             ],
             [
              0.2222222222222222,
              "#7201a8"
             ],
             [
              0.3333333333333333,
              "#9c179e"
             ],
             [
              0.4444444444444444,
              "#bd3786"
             ],
             [
              0.5555555555555556,
              "#d8576b"
             ],
             [
              0.6666666666666666,
              "#ed7953"
             ],
             [
              0.7777777777777778,
              "#fb9f3a"
             ],
             [
              0.8888888888888888,
              "#fdca26"
             ],
             [
              1,
              "#f0f921"
             ]
            ],
            "type": "surface"
           }
          ],
          "table": [
           {
            "cells": {
             "fill": {
              "color": "#EBF0F8"
             },
             "line": {
              "color": "white"
             }
            },
            "header": {
             "fill": {
              "color": "#C8D4E3"
             },
             "line": {
              "color": "white"
             }
            },
            "type": "table"
           }
          ]
         },
         "layout": {
          "annotationdefaults": {
           "arrowcolor": "#2a3f5f",
           "arrowhead": 0,
           "arrowwidth": 1
          },
          "autotypenumbers": "strict",
          "coloraxis": {
           "colorbar": {
            "outlinewidth": 0,
            "ticks": ""
           }
          },
          "colorscale": {
           "diverging": [
            [
             0,
             "#8e0152"
            ],
            [
             0.1,
             "#c51b7d"
            ],
            [
             0.2,
             "#de77ae"
            ],
            [
             0.3,
             "#f1b6da"
            ],
            [
             0.4,
             "#fde0ef"
            ],
            [
             0.5,
             "#f7f7f7"
            ],
            [
             0.6,
             "#e6f5d0"
            ],
            [
             0.7,
             "#b8e186"
            ],
            [
             0.8,
             "#7fbc41"
            ],
            [
             0.9,
             "#4d9221"
            ],
            [
             1,
             "#276419"
            ]
           ],
           "sequential": [
            [
             0,
             "#0d0887"
            ],
            [
             0.1111111111111111,
             "#46039f"
            ],
            [
             0.2222222222222222,
             "#7201a8"
            ],
            [
             0.3333333333333333,
             "#9c179e"
            ],
            [
             0.4444444444444444,
             "#bd3786"
            ],
            [
             0.5555555555555556,
             "#d8576b"
            ],
            [
             0.6666666666666666,
             "#ed7953"
            ],
            [
             0.7777777777777778,
             "#fb9f3a"
            ],
            [
             0.8888888888888888,
             "#fdca26"
            ],
            [
             1,
             "#f0f921"
            ]
           ],
           "sequentialminus": [
            [
             0,
             "#0d0887"
            ],
            [
             0.1111111111111111,
             "#46039f"
            ],
            [
             0.2222222222222222,
             "#7201a8"
            ],
            [
             0.3333333333333333,
             "#9c179e"
            ],
            [
             0.4444444444444444,
             "#bd3786"
            ],
            [
             0.5555555555555556,
             "#d8576b"
            ],
            [
             0.6666666666666666,
             "#ed7953"
            ],
            [
             0.7777777777777778,
             "#fb9f3a"
            ],
            [
             0.8888888888888888,
             "#fdca26"
            ],
            [
             1,
             "#f0f921"
            ]
           ]
          },
          "colorway": [
           "#636efa",
           "#EF553B",
           "#00cc96",
           "#ab63fa",
           "#FFA15A",
           "#19d3f3",
           "#FF6692",
           "#B6E880",
           "#FF97FF",
           "#FECB52"
          ],
          "font": {
           "color": "#2a3f5f"
          },
          "geo": {
           "bgcolor": "white",
           "lakecolor": "white",
           "landcolor": "#E5ECF6",
           "showlakes": true,
           "showland": true,
           "subunitcolor": "white"
          },
          "hoverlabel": {
           "align": "left"
          },
          "hovermode": "closest",
          "mapbox": {
           "style": "light"
          },
          "paper_bgcolor": "white",
          "plot_bgcolor": "#E5ECF6",
          "polar": {
           "angularaxis": {
            "gridcolor": "white",
            "linecolor": "white",
            "ticks": ""
           },
           "bgcolor": "#E5ECF6",
           "radialaxis": {
            "gridcolor": "white",
            "linecolor": "white",
            "ticks": ""
           }
          },
          "scene": {
           "xaxis": {
            "backgroundcolor": "#E5ECF6",
            "gridcolor": "white",
            "gridwidth": 2,
            "linecolor": "white",
            "showbackground": true,
            "ticks": "",
            "zerolinecolor": "white"
           },
           "yaxis": {
            "backgroundcolor": "#E5ECF6",
            "gridcolor": "white",
            "gridwidth": 2,
            "linecolor": "white",
            "showbackground": true,
            "ticks": "",
            "zerolinecolor": "white"
           },
           "zaxis": {
            "backgroundcolor": "#E5ECF6",
            "gridcolor": "white",
            "gridwidth": 2,
            "linecolor": "white",
            "showbackground": true,
            "ticks": "",
            "zerolinecolor": "white"
           }
          },
          "shapedefaults": {
           "line": {
            "color": "#2a3f5f"
           }
          },
          "ternary": {
           "aaxis": {
            "gridcolor": "white",
            "linecolor": "white",
            "ticks": ""
           },
           "baxis": {
            "gridcolor": "white",
            "linecolor": "white",
            "ticks": ""
           },
           "bgcolor": "#E5ECF6",
           "caxis": {
            "gridcolor": "white",
            "linecolor": "white",
            "ticks": ""
           }
          },
          "title": {
           "x": 0.05
          },
          "xaxis": {
           "automargin": true,
           "gridcolor": "white",
           "linecolor": "white",
           "ticks": "",
           "title": {
            "standoff": 15
           },
           "zerolinecolor": "white",
           "zerolinewidth": 2
          },
          "yaxis": {
           "automargin": true,
           "gridcolor": "white",
           "linecolor": "white",
           "ticks": "",
           "title": {
            "standoff": 15
           },
           "zerolinecolor": "white",
           "zerolinewidth": 2
          }
         }
        },
        "title": {
         "text": "Ecuación racional con Plotly"
        },
        "xaxis": {
         "title": {
          "text": "x"
         }
        },
        "yaxis": {
         "range": [
          -10,
          10
         ],
         "title": {
          "text": "y"
         }
        }
       }
      }
     },
     "metadata": {},
     "output_type": "display_data"
    }
   ],
   "source": [
    "import sympy as sp\n",
    "import numpy as np\n",
    "import matplotlib.pyplot as plt\n",
    "import plotly.graph_objects as go\n",
    "\n",
    "# Definir variable\n",
    "x = sp.Symbol('x', real=True)\n",
    "\n",
    "# Definir ecuación\n",
    "expr = (3*x)/(x - 2) + 1/(x+2) - (-4)/(x**2 - 4)\n",
    "\n",
    "# Resolver algebraicamente\n",
    "soluciones = sp.solve(sp.simplify(expr), x)\n",
    "print(\"Soluciones simbólicas:\", soluciones)\n"
   ]
  },
  {
   "cell_type": "code",
   "execution_count": null,
   "id": "7f612dd0",
   "metadata": {},
   "outputs": [],
   "source": [
    "\n",
    "# Filtrar soluciones válidas (diferentes de ±2)\n",
    "soluciones_validas = [s.evalf() for s in soluciones if s not in [2, -2]]\n",
    "print(\"Soluciones válidas:\", soluciones_validas)\n",
    "\n",
    "# --- Gráfico con Matplotlib ---\n",
    "f1 = sp.lambdify(x, (3*x)/(x-2) + 1/(x+2), 'numpy')\n",
    "f2 = sp.lambdify(x, (-4)/(x**2 - 4), 'numpy')\n",
    "\n",
    "xx = np.linspace(-6, 6, 1000)\n",
    "xx = xx[(xx != 2) & (xx != -2)]  # evitar singularidades\n",
    "\n",
    "plt.figure(figsize=(8,5))\n",
    "plt.axhline(0, color='black', lw=0.7)\n",
    "plt.axvline(0, color='black', lw=0.7)\n",
    "plt.plot(xx, f1(xx), label=\"f1(x) = 3x/(x-2) + 1/(x+2)\")\n",
    "plt.plot(xx, f2(xx), label=\"f2(x) = -4/(x^2 - 4)\")\n",
    "\n",
    "# marcar soluciones\n",
    "for s in soluciones_validas:\n",
    "    plt.plot(float(s), f1(float(s)), 'ro')\n",
    "    plt.annotate(f\"x={s:.2f}\", (float(s), f1(float(s))), xytext=(5,5), textcoords=\"offset points\")\n",
    "\n",
    "plt.ylim(-10, 10)\n",
    "plt.legend()\n",
    "plt.title(\"Solución gráfica de la ecuación racional\")\n",
    "plt.show()\n",
    "\n",
    "# --- Gráfico interactivo con Plotly ---\n",
    "fig = go.Figure()\n",
    "fig.add_trace(go.Scatter(x=xx, y=f1(xx), mode='lines', name=\"f1(x)\"))\n",
    "fig.add_trace(go.Scatter(x=xx, y=f2(xx), mode='lines', name=\"f2(x)\"))\n",
    "\n",
    "for s in soluciones_validas:\n",
    "    fig.add_trace(go.Scatter(x=[float(s)], y=[f1(float(s))],\n",
    "                             mode='markers+text',\n",
    "                             text=[f\"x={s:.2f}\"],\n",
    "                             textposition=\"top right\",\n",
    "                             marker=dict(color='red', size=10),\n",
    "                             name=\"Solución\"))\n",
    "\n",
    "fig.update_layout(title=\"Ecuación racional con Plotly\",\n",
    "                  xaxis_title=\"x\", yaxis_title=\"y\",\n",
    "                  yaxis_range=[-10, 10])\n",
    "fig.show()\n"
   ]
  },
  {
   "cell_type": "markdown",
   "id": "bb917eae",
   "metadata": {},
   "source": [
    "\n",
    "👉 Este script hace lo siguiente:\n",
    "\n",
    "1. Resuelve la ecuación con **SymPy** y da las soluciones exactas.\n",
    "2. Filtra las soluciones inválidas ((x = \\pm 2)).\n",
    "3. Grafica ambas funciones en **Matplotlib** y marca los puntos de intersección.\n",
    "4. Genera un gráfico interactivo en **Plotly** para explorar la solución.\n",
    "\n",
    "¿Quieres que también te dé la **resolución manual paso a paso con álgebra** usando LaTeX para que sea guía didáctica para tus estudiantes?\n"
   ]
  },
  {
   "cell_type": "code",
   "execution_count": null,
   "id": "dfbae64b",
   "metadata": {},
   "outputs": [],
   "source": [
    "# solución con sympy "
   ]
  },
  {
   "cell_type": "markdown",
   "id": "7695568a",
   "metadata": {},
   "source": [
    "# Número de ejercicios por secciones  del capítulo 3 de [Swokowski](https://archive.org/details/algebra-y-trigonometria-con-geometria-analitica-13va-edicion-earl-w.-swokowski/page/n3/mode/2up) en su traceava edición. \n",
    "\n",
    "Capítulo 3: Funciones y sus gráficas  \n",
    "\n",
    "* Número de ejercicios de la Sección 3.1: 38, (Sistemas de coordenadas rectangulares)  \n",
    "* Número de ejercicios de la Sección 3.2: 40, (Gráficas de ecuaciones)  \n",
    "* Número de ejercicios de la Sección 3.3: 83, (Ecuaciones cuadráticas)        \n",
    "* Número de ejercicios de la Sección 2.4: 62, (Número complejos)  \n",
    "* Número de ejercicios de la Sección 2.5: 71, (Otros tipos de ecuaciones)      \n",
    "* Número de ejercicios de la Sección 3.6: 89, (Desigualdades)   \n",
    "* Número de ejercicios de la Sección 3.7: 55, (Valor absoluto)     \n",
    "* Número de ejercicios de repaso del capítulo 3: \n",
    "* Número de ejercicios de análisis del capítulo 3:  \n",
    "La lista de los estudiantes del curso la puedes obtener en: https://github.com/marco-canas/groups_list/blob/main/algebra_and_trigonometry.xlsx  "
   ]
  },
  {
   "cell_type": "code",
   "execution_count": null,
   "id": "f39ebbcb",
   "metadata": {},
   "outputs": [],
   "source": [
    "# Asignación de ejercicios para el parcial 3  \n",
    "\n",
    "import pandas as pd\n",
    "import numpy as np\n",
    "\n",
    "# Ruta al archivo de estudiantes cargado\n",
    "file_path = r\"C:\\Users\\marco\\Documentos\\docencia\\groups_list\\algebra_and_trigonometry.xlsx\"\n",
    "\n",
    "# Cargar la lista de estudiantes\n",
    "students_df = pd.read_excel(file_path)\n",
    "\n",
    "# Número de ejercicios por sección\n",
    "exercises_per_section = {\n",
    "    \"ejer_asig_sec_3_1\": 38,\n",
    "    \"ejer_asig_sec_3_2\": 40,\n",
    "    \"ejer_asig_sec_3_3\": 83,\n",
    "    \"ejer_asig_sec_3_4\": 62,\n",
    "    \"ejer_asig_sec_3_5\": 71,\n",
    "    \"ejer_asig_sec_3_6\": 89,\n",
    "    \"ejer_asig_sec_3_7\": 55,\n",
    "    \"ejer_asig_rep_cap_3\": 50,  # Supongamos 50 ejercicios de repaso\n",
    "    \"ejer_asig_ana_cap_3\": 50   # Supongamos\n",
    "}\n",
    "\n",
    "# Número de estudiantes\n",
    "n_students = len(students_df)\n",
    "\n",
    "# Inicializar DataFrame de asignación\n",
    "assignment_df = pd.DataFrame()\n",
    "assignment_df[\"Nombre_del_estudiante\"] = students_df.iloc[:, 0]\n",
    "\n",
    "np.random.seed(702)\n",
    "\n",
    "# Función para repartir los ejercicios equitativamente y sin repetición\n",
    "def assign_exercises(num_exercises, num_students):\n",
    "    exercises = np.arange(1, num_exercises + 1)\n",
    "    np.random.shuffle(exercises)  # Mezclar los ejercicios\n",
    "    chunks = np.array_split(exercises, num_students)  # Dividir entre estudiantes\n",
    "    return chunks\n",
    "\n",
    "# Asignar los ejercicios de cada sección\n",
    "for section, num_ex in exercises_per_section.items():\n",
    "    assigned_chunks = assign_exercises(num_ex, n_students)\n",
    "    assignment_df[section] = [list(chunk) for chunk in assigned_chunks]\n",
    "\n",
    "# Guardar el archivo de asignaciones\n",
    "output_path = \"/mnt/data/asignacion_ejercicios_cap2.xlsx\"\n",
    "assignment_df.to_excel(output_path, index=False)\n",
    "\n",
    "assignment_df.index = range(1, len(assignment_df) + 1)\n",
    "assignment_df\n"
   ]
  },
  {
   "cell_type": "markdown",
   "id": "cc539357",
   "metadata": {},
   "source": [
    "# [Programación de programa Regiones](https://lookerstudio.google.com/reporting/44e71da0-d16f-4a51-a51e-d5ae6c19b3f1/page/p_gy4nwf37hd?pli=1)"
   ]
  },
  {
   "cell_type": "markdown",
   "id": "8ba64aed",
   "metadata": {},
   "source": [
    "# Cursos que orienta el profesor Marco Julio Cañas Campillo en 2025  \n",
    "\n",
    "1. Lunes 8 a 12: Fundamentos de Lógica: Licenciatura en Matemáticas . \n",
    "2. Martes de 9 a 10: Curso de ML and DL para Ingeniero Juan Gomez en España.  \n",
    "3. Martes de 2 a 5 PM: Vector Geometry and Linear Algebra.  \n",
    "4. Miércoles: 10 a 11: Reunión equipo investigador SAT Dengue. \n",
    "5. Miércoles 2 a 3 PM: Asesoría Trabajo de Grado Janis (Estudiante de Biología).  \n",
    "6. Viernes 2 a 6 PM: Análisis Numérico: Programa de Licenciatura en Matemáticas."
   ]
  },
  {
   "cell_type": "markdown",
   "id": "8d41fe58",
   "metadata": {
    "slideshow": {
     "slide_type": "slide"
    }
   },
   "source": [
    "# Horario de clases del profesor Marco\n",
    "\n",
    "* Lunes 8-12:   \n",
    "* Lunes 2- 6 PM: Fundamento de Lógica.  \n",
    "* Martes 8-12 M: . \n",
    "* Miércoles 8 a 12 M:   \n",
    "* Miércoles de 2 a 6 PM: \n",
    "* Jueves 2 a 6 PM:  \n",
    "* Viernes 2 - 4 PM: Análisis Numérico. \n",
    "* Sábados 8-12 Asesorías y espacio para retroalimentación y apoyo al trabajo independiente. "
   ]
  },
  {
   "cell_type": "markdown",
   "id": "ae114e14",
   "metadata": {
    "slideshow": {
     "slide_type": "slide"
    }
   },
   "source": [
    "# Horarios de monitoría y asesoría  \n",
    "\n",
    "* Monitor Manuel San Juan Serrano: Contactar escribiendo al correo: manuel.serrano1@udea.edu.co"
   ]
  },
  {
   "cell_type": "markdown",
   "id": "bf0f9dbf",
   "metadata": {},
   "source": [
    "\n",
    "Coordinador de los cursos de la Facultad de Educación para regiones:    \n",
    "\n",
    "Andrés Vélez: regioneducacion.fedu@udea.edu.co  \n",
    "Coordinador Regiones  \n",
    "Facultad de Educación  \n",
    "Universidad de Antioquia  "
   ]
  },
  {
   "cell_type": "markdown",
   "id": "39559692",
   "metadata": {
    "slideshow": {
     "slide_type": "slide"
    }
   },
   "source": [
    "Martes y jueves de 8 - 12  \n",
    "Miércoles 10 - 12 y de 2 a 4 PM  \n",
    "Sábado: 8 - 12"
   ]
  },
  {
   "cell_type": "markdown",
   "id": "10bce0d0",
   "metadata": {
    "slideshow": {
     "slide_type": "slide"
    }
   },
   "source": [
    "## Referentes "
   ]
  },
  {
   "cell_type": "markdown",
   "id": "1db3c468",
   "metadata": {
    "slideshow": {
     "slide_type": "slide"
    }
   },
   "source": [
    "* [CALCULO I DE UNA VARIABLE Ron Larson-Bruce Edwards. Mc Graw Hill. 9º Edición](https://www.academia.edu/42139251/CALCULO_I_DE_UNA_VARIABLE_Ron_Larson_Bruce_Edwards_Mc_Graw_Hill_9o_Edici%C3%B3n)   \n",
    "  \n",
    "\n",
    "* [Grajales Vanegas, L. M., Restrepo Estrada, C. E., Restrepo Ochoa, S. I., & Ruíz De Villalba, F. (2015). Matemáticas I para las ciencias económicas.](https://bibliotecadigital.udea.edu.co/handle/10495/3010)\n",
    "  \n",
    "* R. Duval y Semiosis y pensamiento humano, 2.ª ed. Cali, Colombia: Programa Editorial Universidad del Valle, 2017. [En línea]. Disponible en: https://programaeditorial.univalle.edu.co/gpd-semiosis-y-pensamiento-humano-9789587655278-63324cdb0f6b3.html\n",
    "\n",
    "* [Aylwin, C. U. (2011). Lógica, conjuntos y números. Universidad de los Andes, Consejo de Publicaciones, Colección: Ciencias Básicas, Serie: Matemáticas.](chrome-extension://efaidnbmnnnibpcajpcglclefindmkaj/https://www.u-cursos.cl/ciencias/2011/1/MC110/1/material_docente/bajar?id_material=574722)\n",
    "  \n",
    "* [Chollet, F. (2021). Deep learning with Python. Simon and Schuster.](chrome-extension://efaidnbmnnnibpcajpcglclefindmkaj/https://tanthiamhuat.wordpress.com/wp-content/uploads/2018/03/deeplearningwithpython.pdf)  \n",
    "  \n",
    "* [Watson, S., Stewart, J., & Redlin, L. (2009). Precálculo. Matemáticas para el cálculo.](https://github.com/marco-canas/calculo/blob/main/referents/1_precalculo_stewart/stewart_precalculo.pdf)  \n",
    "\n",
    "* [Purcell, E. J., Varberg, D., & Rigdon, S. E. (2007). Cálculo diferencial e integral. Pearson Educación.](https://github.com/marco-canas/calculo/blob/main/referents/purcell/purcell_calculo.pdf)\n",
    "\n",
    "  \n",
    "\n",
    "* [stewart cálculo](https://udeaeduco-my.sharepoint.com/:b:/g/personal/marco_canas_udea_edu_co/EZgXZjAp8QxPqOAim2hs6LcBNPLGjSHf-xwYnUVYkwa04w?e=RZdTCy)  \n",
    "\n",
    "\n",
    "\n",
    "\n",
    "\n",
    "* [Recomendación de la UNESCO sobre ciencia abierta](https://unesdoc.unesco.org/ark:/48223/pf0000379949_spa)\n",
    "\n",
    "* [chatGPT](https://openai.com/blog/chatgpt)  \n",
    "\n",
    "* [Géron, A. (2017). Hands-on machine learning with scikit-learn and tensorflow: Concepts. Tools, and Techniques to build intelligent systems.](chrome-extension://efaidnbmnnnibpcajpcglclefindmkaj/http://14.139.161.31/OddSem-0822-1122/Hands-On_Machine_Learning_with_Scikit-Learn-Keras-and-TensorFlow-2nd-Edition-Aurelien-Geron.pdf)   \n"
   ]
  },
  {
   "cell_type": "markdown",
   "id": "df925560",
   "metadata": {},
   "source": [
    "\n",
    "* [McKinney, W. (2012). Python for data analysis: Data wrangling with Pandas, NumPy, and IPython. \" O'Reilly Media, Inc.\".](https://wesmckinney.com/book/) "
   ]
  },
  {
   "cell_type": "markdown",
   "id": "8e65d6f9",
   "metadata": {},
   "source": [
    "# Como estudiante, encuentro que...   \n",
    "\n",
    "F: Mis Fortalezas son:     \n",
    "O: Mis Oportunidades son:    \n",
    "D: Mis Debilidades son:    \n",
    "A: Lo que Amenazas mi aprendizaje es:  "
   ]
  },
  {
   "cell_type": "markdown",
   "id": "6b9e56a8",
   "metadata": {
    "slideshow": {
     "slide_type": "slide"
    }
   },
   "source": [
    "### [Evaluamos al profesor Marco Cañas Aquí](https://forms.office.com/Pages/ResponsePage.aspx?id=IefhmYRxjkmK_7KtTlPBwkanXIs1i1FEujpsZgO6dXpUREJPV1kxUk1JV1ozTFJIQVNIQjY5WEY3US4u)"
   ]
  },
  {
   "cell_type": "markdown",
   "id": "4e8e8ccb",
   "metadata": {},
   "source": [
    "Basado en el diseño de investigación con enfoque IAE (Investigación-Acción Educativa) que compartiste, aquí tienes una propuesta de **sistema de evaluación bidireccional** para el curso *\"Vector Geometry and Linear Algebra\"*, implementable mediante Google Forms y alineado con los ciclos reflexivos de Kemmis & McTaggart:\n",
    "\n",
    "---\n"
   ]
  },
  {
   "cell_type": "markdown",
   "id": "700c88d9",
   "metadata": {},
   "source": [
    "\n",
    "### **Diseño de Evaluación para Ciclo IAE**  \n",
    "*(Para implementar en Google Forms cada 4 semanas)*  \n"
   ]
  },
  {
   "cell_type": "markdown",
   "id": "534441d7",
   "metadata": {},
   "source": [
    "\n",
    "#### **1. Encuesta de Autoevaluación Estudiantil**  \n",
    "**Objetivo**: Monitorear progreso en competencias y percepción del enfoque investigativo.  \n"
   ]
  },
  {
   "cell_type": "markdown",
   "id": "ee74d19c",
   "metadata": {},
   "source": [
    "\n",
    "**Secciones**:  \n",
    "1. **Adquisición de Competencias** (Escala Likert 1-5):  \n",
    "   - *\"¿Cómo evalúas tu dominio actual de:\"*  \n",
    "     - Operaciones con vectores/matrices aplicadas a datasets agrícolas  \n",
    "     - Implementación de PCA/SVD para análisis de imágenes satelitales  \n",
    "     - Interpretación de resultados matemáticos en contextos agropecuarios  \n"
   ]
  },
  {
   "cell_type": "markdown",
   "id": "23d2b1bd",
   "metadata": {},
   "source": [
    "\n",
    "2. **Evaluación de Metodología IAE**:  \n",
    "   - *\"El aprendizaje basado en problemas reales del Bajo Cauca me ha ayudado a:\"*  \n",
    "     - Comprender mejor los conceptos abstractos (1-5)  \n",
    "     - Desarrollar habilidades útiles para mi futuro profesional (1-5)  \n",
    "   - *Espacio abierto*: *\"Describe un momento donde la conexión teoría-práctica fue especialmente significativa para ti\"*  \n"
   ]
  },
  {
   "cell_type": "markdown",
   "id": "6a55b099",
   "metadata": {},
   "source": [
    "\n",
    "3. **Recursos y Herramientas**:  \n",
    "   - *\"Valora la utilidad de:\"*  \n",
    "     - Cuadernos Jupyter adaptados (ej. Géron 2022)  \n",
    "     - Sesiones con agricultores/ingenieros invitados  \n",
    "     - Plataforma GitHub para colaboración  \n",
    "\n",
    "---\n"
   ]
  },
  {
   "cell_type": "markdown",
   "id": "d069bb21",
   "metadata": {},
   "source": [
    "\n",
    "#### **2. Evaluación del Profesor**  \n",
    "**Objetivo**: Retroalimentación para ajustar didáctica según necesidades emergentes.  \n"
   ]
  },
  {
   "cell_type": "markdown",
   "id": "e1080dd0",
   "metadata": {},
   "source": [
    "\n",
    "**Secciones**:  \n",
    "1. **Habilidades Docentes** (Escala 1-5):  \n",
    "   - *\"El profesor facilita la conexión entre álgebra lineal y problemas agrícolas mediante:\"*  \n",
    "     - Explicaciones claras de conceptos abstractos  \n",
    "     - Ejemplos contextualizados (ej. optimización de fertilizantes)  \n",
    "     - Retroalimentación constructiva en proyectos  \n"
   ]
  },
  {
   "cell_type": "markdown",
   "id": "01742d60",
   "metadata": {},
   "source": [
    "\n",
    "2. **Seguimiento a Proyectos**:  \n",
    "   - *\"Las tutorías para los proyectos aplicados son:\"*  \n",
    "     - Suficientes en frecuencia y duración  \n",
    "     - Orientadas a resolver dudas técnicas específicas  \n",
    "     - Útiles para vincular matemáticas con agronomía  \n"
   ]
  },
  {
   "cell_type": "markdown",
   "id": "ca722d62",
   "metadata": {},
   "source": [
    "\n",
    "3. **Espacio cualitativo**:  \n",
    "   - *\"Sugiere un ajuste específico que mejoraría tu experiencia de aprendizaje\"*  \n",
    "\n",
    "---\n"
   ]
  },
  {
   "cell_type": "markdown",
   "id": "568148ad",
   "metadata": {},
   "source": [
    "\n",
    "#### **3. Evaluación de Impacto Social** *(Opcional para proyectos con agricultores)*  \n",
    "**Objetivo**: Medir transferencia de conocimiento al sector productivo.  \n"
   ]
  },
  {
   "cell_type": "markdown",
   "id": "93c7f4bc",
   "metadata": {},
   "source": [
    "\n",
    "**Preguntas clave**:  \n",
    "- *\"¿Cómo ha influido el proyecto estudiantil en el que participaste en tus prácticas agrícolas?\"* (Ej.: reducción de costos, mejora en predicciones)  \n",
    "- *\"¿Recomendarías esta colaboración a otros productores?\"* (Sí/No + justificación)  \n",
    "\n",
    "\n"
   ]
  },
  {
   "cell_type": "markdown",
   "id": "d2b6a2c7",
   "metadata": {},
   "source": [
    "\n",
    "### **Implementación en Google Forms**  \n",
    "1. **Configuración**:  \n",
    "   - Formulario anónimo (excepto evaluación de proyectos con agricultores)  \n",
    "   - Sección obligatoria (competencia + 1 pregunta abierta)  \n",
    "   - Opción de subir archivos (ej.: fotos de trabajos de campo)  \n",
    "\n",
    "2. **Ejemplo de Pregunta con Lógica Condicional**:  \n",
    "   ``` \n",
    "   Si respondiste 1-3 en \"Dominio de PCA aplicado\": \n",
    "   ¿Qué tipo de apoyo adicional necesitarías? (Taller práctico, material adicional, tutoría personalizada)  \n",
    "   ```\n",
    "\n",
    "3. **Enlace accesible**:  \n",
    "   - QR en presentaciones  \n",
    "   - Link en la cabecera del repositorio GitHub  \n",
    "\n",
    "---\n"
   ]
  },
  {
   "cell_type": "markdown",
   "id": "36872955",
   "metadata": {},
   "source": [
    "\n",
    "### **Análisis para Ciclo IAE**  \n",
    "**Herramientas**:  \n",
    "- **NVivo**: Para análisis temático de respuestas cualitativas  \n",
    "- **Google Data Studio**: Dashboard automático con:  \n",
    "  - Evolución temporal de competencias  \n",
    "  - Nube de palabras de sugerencias frecuentes  \n",
    "\n",
    "**Integración con Fases IAE**:  \n",
    "1. **Diagnóstico**: Identificar brechas recurrentes (ej.: dificultad con SVD)  \n",
    "2. **Acción**: Ajustar próximas clases (ej.: taller extra de descomposición matricial)  \n",
    "3. **Reflexión**: Comparar resultados entre ciclos (ej.: mejora en % de dominio de vectores)  \n",
    "\n",
    "**Ejemplo de Pregunta Clave para el Análisis**:  \n",
    "*\"¿Qué tema del módulo actual requirió más tiempo de práctica para su comprensión?\"*  \n",
    "\n",
    "---\n"
   ]
  },
  {
   "cell_type": "markdown",
   "id": "6d92b57d",
   "metadata": {},
   "source": [
    "\n",
    "### **Modelo de Informe Parcial** *(Para socializar con estudiantes)*  \n",
    "```markdown\n",
    "## Resultados Evaluación Ciclo 3 (2025-1)  \n",
    "- **85%** mejoró en interpretación de matrices aplicadas  \n",
    "- **Solicitud principal**: Más ejemplos con datos reales de cacaoteros  \n",
    "- **Ajustes implementados**:  \n",
    "  - Sesión extra con ingeniero de Agrosavia (25/05)  \n",
    "  - Dataset público de nutrientes en suelos arroceros añadido a GitHub  \n",
    "```\n"
   ]
  },
  {
   "cell_type": "markdown",
   "id": "b5c7eb34",
   "metadata": {},
   "source": [
    "\n",
    "Este diseño asegura que las evaluaciones:  \n",
    "✅ Sean **ágiles** (máx. 5 min por estudiante)  \n",
    "✅ Generen **datos accionables** para cada fase IAE  \n",
    "✅ Fomenten la **corresponsabilidad** en el proceso educativo  \n"
   ]
  },
  {
   "cell_type": "markdown",
   "id": "e2a5a506",
   "metadata": {},
   "source": [
    "\n",
    "¿Te gustaría que desarrolle las plantillas específicas de Google Forms o algún ajuste adicional para alinearlo mejor con tus módulos?"
   ]
  },
  {
   "cell_type": "markdown",
   "id": "10f43536",
   "metadata": {
    "slideshow": {
     "slide_type": "slide"
    }
   },
   "source": [
    "### Continue su aprendizaje en la siguiente clase a través del siguiente [vínculo]()"
   ]
  },
  {
   "cell_type": "markdown",
   "id": "53cc9115",
   "metadata": {
    "slideshow": {
     "slide_type": "slide"
    }
   },
   "source": [
    "## Agradecimientos  \n",
    "\n",
    "Doy gracias a Dios por la vida de mi Hijo Joseph Cañas Osorio y la madurez que ha alcanzado. Este hijo me enorgullece y me hace falta abrazarlo cada día. \n",
    "\n",
    "Y a mi esposa Yasmira Emperatriz Barboza Mogollón por su apoyo, orientación y acompañamiento. "
   ]
  },
  {
   "cell_type": "markdown",
   "id": "b6ba1c23",
   "metadata": {},
   "source": [
    "# Apéndice sobre calendarios y coordinaciones \n"
   ]
  },
  {
   "cell_type": "markdown",
   "id": "bf8b6499",
   "metadata": {},
   "source": [
    "## Calendario del semestre académico 2025-2  \n",
    "\n",
    "* Oferta de cursos: 29 de julio de 2025  \n",
    "\n",
    "Matrícula: 30 de julio de 2025  \n",
    "\n",
    "Ajustes de matrícula: 01 al 08 de agosto de 2025  \n",
    "\n",
    "Inicio de clases: 04 de agosto de 2025  \n",
    "\n",
    "Límite evaluación del 40%: 27 de septiembre de 2025  \n",
    "\n",
    "Terminación de clases: 22 de noviembre de 2025\n",
    "\n",
    "Exámenes finales: 24 al 29 de noviembre de 2025\n",
    "\n",
    "Habilitación y validación: 01 al 06 de diciembre 2025\n",
    "\n",
    "Terminación oficial del semestre: 09 de diciembre de 2025  "
   ]
  },
  {
   "cell_type": "markdown",
   "id": "667b9504",
   "metadata": {},
   "source": [
    "\n",
    "A continuación le envío el horario de la asignatura Cálculo Vectorial  \n",
    "\n",
    "Días:  \n",
    "Lunes - Hora: 7:00 a 12:00M  \n",
    "Fechas:  \n",
    "Febrero: 10-17-24                                          \n",
    " Marzo: 3-10-17-31                                                  \n",
    "Abril:7-21-28                                                   \n",
    "Mayo:5-12-19  \n",
    "\n",
    "Agradezco su apoyo, y si presenta alguna dificultad puede contactarme.  \n",
    "\n",
    "Cordialmente,  \n",
    "Juan Felipe Rivera Hernández  \n",
    "Contacto: 3106314300  "
   ]
  }
 ],
 "metadata": {
  "celltoolbar": "Slideshow",
  "kernelspec": {
   "display_name": ".venv",
   "language": "python",
   "name": "python3"
  },
  "language_info": {
   "codemirror_mode": {
    "name": "ipython",
    "version": 3
   },
   "file_extension": ".py",
   "mimetype": "text/x-python",
   "name": "python",
   "nbconvert_exporter": "python",
   "pygments_lexer": "ipython3",
   "version": "3.11.9"
  },
  "rise": {
   "enable_chalkboard": true,
   "theme": "sky",
   "transition": "zoom"
  }
 },
 "nbformat": 4,
 "nbformat_minor": 5
}
