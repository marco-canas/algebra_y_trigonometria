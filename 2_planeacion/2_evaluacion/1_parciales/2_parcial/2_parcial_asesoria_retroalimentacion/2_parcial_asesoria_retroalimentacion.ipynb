{
 "cells": [
  {
   "cell_type": "markdown",
   "id": "dc06dec7",
   "metadata": {
    "slideshow": {
     "slide_type": "slide"
    }
   },
   "source": [
    "<table align=\"left\">\n",
    "  <td>\n",
    "    <a href=\"https://colab.research.google.com/github/ageron/handson-ml3/blob/main/tools_numpy.ipynb\" target=\"_parent\"><img src=\"https://colab.research.google.com/assets/colab-badge.svg\" alt=\"Open In Colab\"/></a>\n",
    "  </td>\n",
    "  <td>\n",
    "    <a target=\"_blank\" href=\"https://kaggle.com/kernels/welcome?src=https://github.com/ageron/handson-ml3/blob/main/tools_numpy.ipynb\"><img src=\"https://kaggle.com/static/images/open-in-kaggle.svg\" /></a>\n",
    "  </td>\n",
    "</table>"
   ]
  },
  {
   "cell_type": "markdown",
   "id": "e0c5b198",
   "metadata": {
    "slideshow": {
     "slide_type": "slide"
    }
   },
   "source": [
    "### [Video de apoyo a la lectura interactiva y experimental de este cuaderno]()"
   ]
  },
  {
   "cell_type": "markdown",
   "id": "41e82203",
   "metadata": {
    "slideshow": {
     "slide_type": "slide"
    }
   },
   "source": [
    "### [Vínculo al programa del curso:  ]()\n",
    "\n"
   ]
  },
  {
   "cell_type": "markdown",
   "id": "d11ab06d",
   "metadata": {
    "slideshow": {
     "slide_type": "slide"
    }
   },
   "source": [
    "Un reconocimiento a mis estudiantes que han construido conmigo este saber pedagógico:\n",
    "\n",
    "<img src = ''> \n",
    "\n"
   ]
  },
  {
   "cell_type": "markdown",
   "id": "8a74a56c-0ce6-4ad6-b985-553fd7fb68bb",
   "metadata": {},
   "source": [
    "Reconocimiento a las profesoras destacadas en enseñanza de la matemática en Colombia\n"
   ]
  },
  {
   "cell_type": "code",
   "execution_count": 3,
   "id": "7604880f",
   "metadata": {
    "slideshow": {
     "slide_type": "slide"
    }
   },
   "outputs": [
    {
     "data": {
      "application/vnd.microsoft.datawrangler.viewer.v0+json": {
       "columns": [
        {
         "name": "index",
         "rawType": "int64",
         "type": "integer"
        },
        {
         "name": "Cedula",
         "rawType": "object",
         "type": "string"
        },
        {
         "name": "Nombre",
         "rawType": "object",
         "type": "string"
        }
       ],
       "ref": "3ab8ebdd-021f-443f-8395-4faad0c284fc",
       "rows": [],
       "shape": {
        "columns": 2,
        "rows": 0
       }
      },
      "text/html": [
       "<div>\n",
       "<style scoped>\n",
       "    .dataframe tbody tr th:only-of-type {\n",
       "        vertical-align: middle;\n",
       "    }\n",
       "\n",
       "    .dataframe tbody tr th {\n",
       "        vertical-align: top;\n",
       "    }\n",
       "\n",
       "    .dataframe thead th {\n",
       "        text-align: right;\n",
       "    }\n",
       "</style>\n",
       "<table border=\"1\" class=\"dataframe\">\n",
       "  <thead>\n",
       "    <tr style=\"text-align: right;\">\n",
       "      <th></th>\n",
       "      <th>Cedula</th>\n",
       "      <th>Nombre</th>\n",
       "    </tr>\n",
       "  </thead>\n",
       "  <tbody>\n",
       "  </tbody>\n",
       "</table>\n",
       "</div>"
      ],
      "text/plain": [
       "Empty DataFrame\n",
       "Columns: [Cedula, Nombre]\n",
       "Index: []"
      ]
     },
     "execution_count": 3,
     "metadata": {},
     "output_type": "execute_result"
    }
   ],
   "source": [
    "import pandas as pd\n",
    "import numpy as np\n",
    "\n",
    "# Cargar la lista de estudiantes desde el archivo CSV\n",
    "path = 'C:/Users/marco/Documentos/docencia/groups_list/vector_geometry_and_linear_algebra.xlsx'\n",
    "df = pd.read_excel(path)\n",
    "df.head() \n"
   ]
  },
  {
   "cell_type": "markdown",
   "id": "d7598d0a-d9b7-4ae0-b029-a0ed6ed1130b",
   "metadata": {},
   "source": [
    "\n",
    "# Principios de mi labor docente"
   ]
  },
  {
   "cell_type": "markdown",
   "id": "4f9d8cf9",
   "metadata": {
    "slideshow": {
     "slide_type": "slide"
    }
   },
   "source": [
    "## Modelo general de clase: [aula invertida](https://www3.gobiernodecanarias.org/medusa/ecoescuela/pedagotic/aprendizaje-invertido-flipped-classroom/)"
   ]
  },
  {
   "cell_type": "markdown",
   "id": "eb6ed03a",
   "metadata": {},
   "source": [
    "<img src = 'https://resources.maneuveringthemiddle.com/wp-content/uploads/2020/07/04212706/1-5.png' width = 200>  \n",
    "\n"
   ]
  },
  {
   "cell_type": "markdown",
   "id": "34319cce-a71b-4f64-aab8-b53e521efa40",
   "metadata": {},
   "source": [
    "# Metodología de Aprendizaje Basado en Problemas y Proyectos (ABPP)\n"
   ]
  },
  {
   "cell_type": "markdown",
   "id": "c4f73d81",
   "metadata": {},
   "source": [
    "\n",
    "<img src = 'https://www.unir.net/wp-content/uploads/2020/07/aprendizaje-problemas2-1-1-1-1.jpeg' width = 200>"
   ]
  },
  {
   "cell_type": "markdown",
   "id": "841a985c-bd9b-4dd3-8e4c-893983980af2",
   "metadata": {},
   "source": [
    "# Desarrollo del pensamiento computacional con Lenguajes Python y R, y con archivos Markdown orientado a la formación en ciencia de datos \n",
    "\n"
   ]
  },
  {
   "cell_type": "markdown",
   "id": "3d0eba94",
   "metadata": {},
   "source": [
    "\n",
    "<img src = 'https://i.ytimg.com/vi/mcG_wcR4e6M/maxresdefault.jpg' width = 200>"
   ]
  },
  {
   "cell_type": "markdown",
   "id": "65aa0404-f7ae-495e-864c-1aec01b4255e",
   "metadata": {},
   "source": [
    "# Principio de fomento a la ciencia abierta, enseñar en el acceso a los datos públicos y el uso de software de código abierto  \n"
   ]
  },
  {
   "cell_type": "markdown",
   "id": "18ae9b87",
   "metadata": {},
   "source": [
    "\n",
    "<img src = 'https://unesdoc.unesco.org/in/rest/Thumb/image?id=p%3A%3Ausmarcdef_0000379949_spa&author=UNESCO&title=Recomendaci%C3%B3n+de+la+UNESCO+sobre+la+Ciencia+Abierta&year=2021&publisher=UNESCO&TypeOfDocument=UnescoPhysicalDocument&mat=PGD&ct=true&size=512&isPhysical=1' width = 200>"
   ]
  },
  {
   "cell_type": "markdown",
   "id": "d9559f85",
   "metadata": {},
   "source": [
    "El enfoque STEAMS en educación preescolar, primaria y secundaria es una extensión del enfoque STEM (Ciencia, Tecnología, Ingeniería y Matemáticas) y su variante STEAM, que incorpora el Arte. "
   ]
  },
  {
   "cell_type": "markdown",
   "id": "0130ec1b",
   "metadata": {},
   "source": [
    "\n",
    "<img src = 'https://www.campuseducacion.com/blog/wp-content/uploads/2023/03/foto01-1.jpg' width = 200>"
   ]
  },
  {
   "cell_type": "markdown",
   "id": "bb7f89f0",
   "metadata": {},
   "source": [
    "# Áreas de mejora identificadas en el parcial 2  \n",
    "\n",
    "1. área superficial de un cilindro circular recto: \n",
    "\n",
    "$$\n",
    "A = 2\\pi r (r+h)\n",
    "$$\n",
    "\n",
    "2. Despeje de variables en una ecuación. "
   ]
  },
  {
   "cell_type": "markdown",
   "id": "7695568a",
   "metadata": {},
   "source": [
    "# Número de ejercicios por secciones  del capítulo 2 de [Swokowski](https://archive.org/details/algebra-y-trigonometria-con-geometria-analitica-13va-edicion-earl-w.-swokowski/page/n3/mode/2up) en su traceava edición. \n",
    "\n",
    "Capítulo 3: Funciones y sus gráficas  \n",
    "\n",
    "* Número de ejercicios de la Sección 3.1: 38, (Sistemas de coordenadas rectangulares)  \n",
    "* Número de ejercicios de la Sección 3.2: 40, (Gráficas de ecuaciones)  \n",
    "* Número de ejercicios de la Sección 3.3: 83, (Ecuaciones cuadráticas)        \n",
    "* Número de ejercicios de la Sección 2.4: 62, (Número complejos)  \n",
    "* Número de ejercicios de la Sección 2.5: 71, (Otros tipos de ecuaciones)      \n",
    "* Número de ejercicios de la Sección 3.6: 89, (Desigualdades)   \n",
    "* Número de ejercicios de la Sección 3.7: 55, (Valor absoluto)     \n",
    "* Número de ejercicios de repaso del capítulo 3: \n",
    "* Número de ejercicios de análisis del capítulo 3:  \n",
    "La lista de los estudiantes del curso la puedes obtener en: https://github.com/marco-canas/groups_list/blob/main/algebra_and_trigonometry.xlsx  "
   ]
  },
  {
   "cell_type": "code",
   "execution_count": null,
   "id": "f39ebbcb",
   "metadata": {
    "vscode": {
     "languageId": "plaintext"
    }
   },
   "outputs": [],
   "source": [
    "# Asignación de ejercicios para el parcial 3  \n",
    "\n",
    "import pandas as pd\n",
    "import numpy as np\n",
    "\n",
    "# Ruta al archivo de estudiantes cargado\n",
    "file_path = r\"C:\\Users\\marco\\Documentos\\docencia\\groups_list\\algebra_and_trigonometry.xlsx\"\n",
    "\n",
    "# Cargar la lista de estudiantes\n",
    "students_df = pd.read_excel(file_path)\n",
    "\n",
    "# Número de ejercicios por sección\n",
    "exercises_per_section = {\n",
    "    \"ejer_asig_sec_3_1\": 38,\n",
    "    \"ejer_asig_sec_3_2\": 40,\n",
    "    \"ejer_asig_sec_3_3\": 83,\n",
    "    \"ejer_asig_sec_3_4\": 62,\n",
    "    \"ejer_asig_sec_3_5\": 71,\n",
    "    \"ejer_asig_sec_3_6\": 89,\n",
    "    \"ejer_asig_sec_3_7\": 55,\n",
    "    \"ejer_asig_rep_cap_3\": 50,  # Supongamos 50 ejercicios de repaso\n",
    "    \"ejer_asig_ana_cap_3\": 50   # Supongamos\n",
    "}\n",
    "\n",
    "# Número de estudiantes\n",
    "n_students = len(students_df)\n",
    "\n",
    "# Inicializar DataFrame de asignación\n",
    "assignment_df = pd.DataFrame()\n",
    "assignment_df[\"Nombre_del_estudiante\"] = students_df.iloc[:, 0]\n",
    "\n",
    "np.random.seed(702)\n",
    "\n",
    "# Función para repartir los ejercicios equitativamente y sin repetición\n",
    "def assign_exercises(num_exercises, num_students):\n",
    "    exercises = np.arange(1, num_exercises + 1)\n",
    "    np.random.shuffle(exercises)  # Mezclar los ejercicios\n",
    "    chunks = np.array_split(exercises, num_students)  # Dividir entre estudiantes\n",
    "    return chunks\n",
    "\n",
    "# Asignar los ejercicios de cada sección\n",
    "for section, num_ex in exercises_per_section.items():\n",
    "    assigned_chunks = assign_exercises(num_ex, n_students)\n",
    "    assignment_df[section] = [list(chunk) for chunk in assigned_chunks]\n",
    "\n",
    "# Guardar el archivo de asignaciones\n",
    "output_path = \"/mnt/data/asignacion_ejercicios_cap2.xlsx\"\n",
    "assignment_df.to_excel(output_path, index=False)\n",
    "\n",
    "assignment_df.index = range(1, len(assignment_df) + 1)\n",
    "assignment_df\n"
   ]
  },
  {
   "cell_type": "markdown",
   "id": "cc539357",
   "metadata": {},
   "source": [
    "# [Programación de programa Regiones](https://lookerstudio.google.com/reporting/44e71da0-d16f-4a51-a51e-d5ae6c19b3f1/page/p_gy4nwf37hd?pli=1)"
   ]
  },
  {
   "cell_type": "markdown",
   "id": "8ba64aed",
   "metadata": {},
   "source": [
    "# Cursos que orienta el profesor Marco Julio Cañas Campillo en 2025  \n",
    "\n",
    "1. Lunes 8 a 12: Fundamentos de Lógica: Licenciatura en Matemáticas . \n",
    "2. Martes de 9 a 10: Curso de ML and DL para Ingeniero Juan Gomez en España.  \n",
    "3. Martes de 2 a 5 PM: Vector Geometry and Linear Algebra.  \n",
    "4. Miércoles: 10 a 11: Reunión equipo investigador SAT Dengue. \n",
    "5. Miércoles 2 a 3 PM: Asesoría Trabajo de Grado Janis (Estudiante de Biología).  \n",
    "6. Viernes 2 a 6 PM: Análisis Numérico: Programa de Licenciatura en Matemáticas."
   ]
  },
  {
   "cell_type": "markdown",
   "id": "8d41fe58",
   "metadata": {
    "slideshow": {
     "slide_type": "slide"
    }
   },
   "source": [
    "# Horario de clases del profesor Marco\n",
    "\n",
    "* Lunes 8-12:   \n",
    "* Lunes 2- 6 PM: Fundamento de Lógica.  \n",
    "* Martes 8-12 M: . \n",
    "* Miércoles 8 a 12 M:   \n",
    "* Miércoles de 2 a 6 PM: \n",
    "* Jueves 2 a 6 PM:  \n",
    "* Viernes 2 - 4 PM: Análisis Numérico. \n",
    "* Sábados 8-12 Asesorías y espacio para retroalimentación y apoyo al trabajo independiente. "
   ]
  },
  {
   "cell_type": "markdown",
   "id": "ae114e14",
   "metadata": {
    "slideshow": {
     "slide_type": "slide"
    }
   },
   "source": [
    "# Horarios de monitoría y asesoría  \n",
    "\n",
    "* Monitor Manuel San Juan Serrano: Contactar escribiendo al correo: manuel.serrano1@udea.edu.co"
   ]
  },
  {
   "cell_type": "markdown",
   "id": "bf0f9dbf",
   "metadata": {},
   "source": [
    "\n",
    "Coordinador de los cursos de la Facultad de Educación para regiones:    \n",
    "\n",
    "Andrés Vélez: regioneducacion.fedu@udea.edu.co  \n",
    "Coordinador Regiones  \n",
    "Facultad de Educación  \n",
    "Universidad de Antioquia  "
   ]
  },
  {
   "cell_type": "markdown",
   "id": "39559692",
   "metadata": {
    "slideshow": {
     "slide_type": "slide"
    }
   },
   "source": [
    "Martes y jueves de 8 - 12  \n",
    "Miércoles 10 - 12 y de 2 a 4 PM  \n",
    "Sábado: 8 - 12"
   ]
  },
  {
   "cell_type": "markdown",
   "id": "10bce0d0",
   "metadata": {
    "slideshow": {
     "slide_type": "slide"
    }
   },
   "source": [
    "## Referentes "
   ]
  },
  {
   "cell_type": "markdown",
   "id": "1db3c468",
   "metadata": {
    "slideshow": {
     "slide_type": "slide"
    }
   },
   "source": [
    "* [CALCULO I DE UNA VARIABLE Ron Larson-Bruce Edwards. Mc Graw Hill. 9º Edición](https://www.academia.edu/42139251/CALCULO_I_DE_UNA_VARIABLE_Ron_Larson_Bruce_Edwards_Mc_Graw_Hill_9o_Edici%C3%B3n)   \n",
    "  \n",
    "\n",
    "* [Grajales Vanegas, L. M., Restrepo Estrada, C. E., Restrepo Ochoa, S. I., & Ruíz De Villalba, F. (2015). Matemáticas I para las ciencias económicas.](https://bibliotecadigital.udea.edu.co/handle/10495/3010)\n",
    "  \n",
    "* R. Duval y Semiosis y pensamiento humano, 2.ª ed. Cali, Colombia: Programa Editorial Universidad del Valle, 2017. [En línea]. Disponible en: https://programaeditorial.univalle.edu.co/gpd-semiosis-y-pensamiento-humano-9789587655278-63324cdb0f6b3.html\n",
    "\n",
    "* [Aylwin, C. U. (2011). Lógica, conjuntos y números. Universidad de los Andes, Consejo de Publicaciones, Colección: Ciencias Básicas, Serie: Matemáticas.](chrome-extension://efaidnbmnnnibpcajpcglclefindmkaj/https://www.u-cursos.cl/ciencias/2011/1/MC110/1/material_docente/bajar?id_material=574722)\n",
    "  \n",
    "* [Chollet, F. (2021). Deep learning with Python. Simon and Schuster.](chrome-extension://efaidnbmnnnibpcajpcglclefindmkaj/https://tanthiamhuat.wordpress.com/wp-content/uploads/2018/03/deeplearningwithpython.pdf)  \n",
    "  \n",
    "* [Watson, S., Stewart, J., & Redlin, L. (2009). Precálculo. Matemáticas para el cálculo.](https://github.com/marco-canas/calculo/blob/main/referents/1_precalculo_stewart/stewart_precalculo.pdf)  \n",
    "\n",
    "* [Purcell, E. J., Varberg, D., & Rigdon, S. E. (2007). Cálculo diferencial e integral. Pearson Educación.](https://github.com/marco-canas/calculo/blob/main/referents/purcell/purcell_calculo.pdf)\n",
    "\n",
    "  \n",
    "\n",
    "* [stewart cálculo](https://udeaeduco-my.sharepoint.com/:b:/g/personal/marco_canas_udea_edu_co/EZgXZjAp8QxPqOAim2hs6LcBNPLGjSHf-xwYnUVYkwa04w?e=RZdTCy)  \n",
    "\n",
    "\n",
    "\n",
    "\n",
    "\n",
    "* [Recomendación de la UNESCO sobre ciencia abierta](https://unesdoc.unesco.org/ark:/48223/pf0000379949_spa)\n",
    "\n",
    "* [chatGPT](https://openai.com/blog/chatgpt)  \n",
    "\n",
    "* [Géron, A. (2017). Hands-on machine learning with scikit-learn and tensorflow: Concepts. Tools, and Techniques to build intelligent systems.](chrome-extension://efaidnbmnnnibpcajpcglclefindmkaj/http://14.139.161.31/OddSem-0822-1122/Hands-On_Machine_Learning_with_Scikit-Learn-Keras-and-TensorFlow-2nd-Edition-Aurelien-Geron.pdf)   \n"
   ]
  },
  {
   "cell_type": "markdown",
   "id": "df925560",
   "metadata": {},
   "source": [
    "\n",
    "* [McKinney, W. (2012). Python for data analysis: Data wrangling with Pandas, NumPy, and IPython. \" O'Reilly Media, Inc.\".](https://wesmckinney.com/book/) "
   ]
  },
  {
   "cell_type": "markdown",
   "id": "8e65d6f9",
   "metadata": {},
   "source": [
    "# Como estudiante, encuentro que...   \n",
    "\n",
    "F: Mis Fortalezas son:     \n",
    "O: Mis Oportunidades son:    \n",
    "D: Mis Debilidades son:    \n",
    "A: Lo que Amenazas mi aprendizaje es:  "
   ]
  },
  {
   "cell_type": "markdown",
   "id": "6b9e56a8",
   "metadata": {
    "slideshow": {
     "slide_type": "slide"
    }
   },
   "source": [
    "### [Evaluamos al profesor Marco Cañas Aquí](https://forms.office.com/Pages/ResponsePage.aspx?id=IefhmYRxjkmK_7KtTlPBwkanXIs1i1FEujpsZgO6dXpUREJPV1kxUk1JV1ozTFJIQVNIQjY5WEY3US4u)"
   ]
  },
  {
   "cell_type": "markdown",
   "id": "4e8e8ccb",
   "metadata": {},
   "source": [
    "Basado en el diseño de investigación con enfoque IAE (Investigación-Acción Educativa) que compartiste, aquí tienes una propuesta de **sistema de evaluación bidireccional** para el curso *\"Vector Geometry and Linear Algebra\"*, implementable mediante Google Forms y alineado con los ciclos reflexivos de Kemmis & McTaggart:\n",
    "\n",
    "---\n"
   ]
  },
  {
   "cell_type": "markdown",
   "id": "700c88d9",
   "metadata": {},
   "source": [
    "\n",
    "### **Diseño de Evaluación para Ciclo IAE**  \n",
    "*(Para implementar en Google Forms cada 4 semanas)*  \n"
   ]
  },
  {
   "cell_type": "markdown",
   "id": "534441d7",
   "metadata": {},
   "source": [
    "\n",
    "#### **1. Encuesta de Autoevaluación Estudiantil**  \n",
    "**Objetivo**: Monitorear progreso en competencias y percepción del enfoque investigativo.  \n"
   ]
  },
  {
   "cell_type": "markdown",
   "id": "ee74d19c",
   "metadata": {},
   "source": [
    "\n",
    "**Secciones**:  \n",
    "1. **Adquisición de Competencias** (Escala Likert 1-5):  \n",
    "   - *\"¿Cómo evalúas tu dominio actual de:\"*  \n",
    "     - Operaciones con vectores/matrices aplicadas a datasets agrícolas  \n",
    "     - Implementación de PCA/SVD para análisis de imágenes satelitales  \n",
    "     - Interpretación de resultados matemáticos en contextos agropecuarios  \n"
   ]
  },
  {
   "cell_type": "markdown",
   "id": "23d2b1bd",
   "metadata": {},
   "source": [
    "\n",
    "2. **Evaluación de Metodología IAE**:  \n",
    "   - *\"El aprendizaje basado en problemas reales del Bajo Cauca me ha ayudado a:\"*  \n",
    "     - Comprender mejor los conceptos abstractos (1-5)  \n",
    "     - Desarrollar habilidades útiles para mi futuro profesional (1-5)  \n",
    "   - *Espacio abierto*: *\"Describe un momento donde la conexión teoría-práctica fue especialmente significativa para ti\"*  \n"
   ]
  },
  {
   "cell_type": "markdown",
   "id": "6a55b099",
   "metadata": {},
   "source": [
    "\n",
    "3. **Recursos y Herramientas**:  \n",
    "   - *\"Valora la utilidad de:\"*  \n",
    "     - Cuadernos Jupyter adaptados (ej. Géron 2022)  \n",
    "     - Sesiones con agricultores/ingenieros invitados  \n",
    "     - Plataforma GitHub para colaboración  \n",
    "\n",
    "---\n"
   ]
  },
  {
   "cell_type": "markdown",
   "id": "d069bb21",
   "metadata": {},
   "source": [
    "\n",
    "#### **2. Evaluación del Profesor**  \n",
    "**Objetivo**: Retroalimentación para ajustar didáctica según necesidades emergentes.  \n"
   ]
  },
  {
   "cell_type": "markdown",
   "id": "e1080dd0",
   "metadata": {},
   "source": [
    "\n",
    "**Secciones**:  \n",
    "1. **Habilidades Docentes** (Escala 1-5):  \n",
    "   - *\"El profesor facilita la conexión entre álgebra lineal y problemas agrícolas mediante:\"*  \n",
    "     - Explicaciones claras de conceptos abstractos  \n",
    "     - Ejemplos contextualizados (ej. optimización de fertilizantes)  \n",
    "     - Retroalimentación constructiva en proyectos  \n"
   ]
  },
  {
   "cell_type": "markdown",
   "id": "01742d60",
   "metadata": {},
   "source": [
    "\n",
    "2. **Seguimiento a Proyectos**:  \n",
    "   - *\"Las tutorías para los proyectos aplicados son:\"*  \n",
    "     - Suficientes en frecuencia y duración  \n",
    "     - Orientadas a resolver dudas técnicas específicas  \n",
    "     - Útiles para vincular matemáticas con agronomía  \n"
   ]
  },
  {
   "cell_type": "markdown",
   "id": "ca722d62",
   "metadata": {},
   "source": [
    "\n",
    "3. **Espacio cualitativo**:  \n",
    "   - *\"Sugiere un ajuste específico que mejoraría tu experiencia de aprendizaje\"*  \n",
    "\n",
    "---\n"
   ]
  },
  {
   "cell_type": "markdown",
   "id": "568148ad",
   "metadata": {},
   "source": [
    "\n",
    "#### **3. Evaluación de Impacto Social** *(Opcional para proyectos con agricultores)*  \n",
    "**Objetivo**: Medir transferencia de conocimiento al sector productivo.  \n"
   ]
  },
  {
   "cell_type": "markdown",
   "id": "93c7f4bc",
   "metadata": {},
   "source": [
    "\n",
    "**Preguntas clave**:  \n",
    "- *\"¿Cómo ha influido el proyecto estudiantil en el que participaste en tus prácticas agrícolas?\"* (Ej.: reducción de costos, mejora en predicciones)  \n",
    "- *\"¿Recomendarías esta colaboración a otros productores?\"* (Sí/No + justificación)  \n",
    "\n",
    "\n"
   ]
  },
  {
   "cell_type": "markdown",
   "id": "d2b6a2c7",
   "metadata": {},
   "source": [
    "\n",
    "### **Implementación en Google Forms**  \n",
    "1. **Configuración**:  \n",
    "   - Formulario anónimo (excepto evaluación de proyectos con agricultores)  \n",
    "   - Sección obligatoria (competencia + 1 pregunta abierta)  \n",
    "   - Opción de subir archivos (ej.: fotos de trabajos de campo)  \n",
    "\n",
    "2. **Ejemplo de Pregunta con Lógica Condicional**:  \n",
    "   ``` \n",
    "   Si respondiste 1-3 en \"Dominio de PCA aplicado\": \n",
    "   ¿Qué tipo de apoyo adicional necesitarías? (Taller práctico, material adicional, tutoría personalizada)  \n",
    "   ```\n",
    "\n",
    "3. **Enlace accesible**:  \n",
    "   - QR en presentaciones  \n",
    "   - Link en la cabecera del repositorio GitHub  \n",
    "\n",
    "---\n"
   ]
  },
  {
   "cell_type": "markdown",
   "id": "36872955",
   "metadata": {},
   "source": [
    "\n",
    "### **Análisis para Ciclo IAE**  \n",
    "**Herramientas**:  \n",
    "- **NVivo**: Para análisis temático de respuestas cualitativas  \n",
    "- **Google Data Studio**: Dashboard automático con:  \n",
    "  - Evolución temporal de competencias  \n",
    "  - Nube de palabras de sugerencias frecuentes  \n",
    "\n",
    "**Integración con Fases IAE**:  \n",
    "1. **Diagnóstico**: Identificar brechas recurrentes (ej.: dificultad con SVD)  \n",
    "2. **Acción**: Ajustar próximas clases (ej.: taller extra de descomposición matricial)  \n",
    "3. **Reflexión**: Comparar resultados entre ciclos (ej.: mejora en % de dominio de vectores)  \n",
    "\n",
    "**Ejemplo de Pregunta Clave para el Análisis**:  \n",
    "*\"¿Qué tema del módulo actual requirió más tiempo de práctica para su comprensión?\"*  \n",
    "\n",
    "---\n"
   ]
  },
  {
   "cell_type": "markdown",
   "id": "6d92b57d",
   "metadata": {},
   "source": [
    "\n",
    "### **Modelo de Informe Parcial** *(Para socializar con estudiantes)*  \n",
    "```markdown\n",
    "## Resultados Evaluación Ciclo 3 (2025-1)  \n",
    "- **85%** mejoró en interpretación de matrices aplicadas  \n",
    "- **Solicitud principal**: Más ejemplos con datos reales de cacaoteros  \n",
    "- **Ajustes implementados**:  \n",
    "  - Sesión extra con ingeniero de Agrosavia (25/05)  \n",
    "  - Dataset público de nutrientes en suelos arroceros añadido a GitHub  \n",
    "```\n"
   ]
  },
  {
   "cell_type": "markdown",
   "id": "b5c7eb34",
   "metadata": {},
   "source": [
    "\n",
    "Este diseño asegura que las evaluaciones:  \n",
    "✅ Sean **ágiles** (máx. 5 min por estudiante)  \n",
    "✅ Generen **datos accionables** para cada fase IAE  \n",
    "✅ Fomenten la **corresponsabilidad** en el proceso educativo  \n"
   ]
  },
  {
   "cell_type": "markdown",
   "id": "e2a5a506",
   "metadata": {},
   "source": [
    "\n",
    "¿Te gustaría que desarrolle las plantillas específicas de Google Forms o algún ajuste adicional para alinearlo mejor con tus módulos?"
   ]
  },
  {
   "cell_type": "markdown",
   "id": "10f43536",
   "metadata": {
    "slideshow": {
     "slide_type": "slide"
    }
   },
   "source": [
    "### Continue su aprendizaje en la siguiente clase a través del siguiente [vínculo]()"
   ]
  },
  {
   "cell_type": "markdown",
   "id": "53cc9115",
   "metadata": {
    "slideshow": {
     "slide_type": "slide"
    }
   },
   "source": [
    "## Agradecimientos  \n",
    "\n",
    "Doy gracias a Dios por la vida de mi Hijo Joseph Cañas Osorio y la madurez que ha alcanzado. Este hijo me enorgullece y me hace falta abrazarlo cada día. \n",
    "\n",
    "Y a mi esposa Yasmira Emperatriz Barboza Mogollón por su apoyo, orientación y acompañamiento. "
   ]
  },
  {
   "cell_type": "markdown",
   "id": "b6ba1c23",
   "metadata": {},
   "source": [
    "# Apéndice sobre calendarios y coordinaciones \n"
   ]
  },
  {
   "cell_type": "markdown",
   "id": "bf8b6499",
   "metadata": {},
   "source": [
    "## Calendario del semestre académico 2025-2  \n",
    "\n",
    "* Oferta de cursos: 29 de julio de 2025  \n",
    "\n",
    "Matrícula: 30 de julio de 2025  \n",
    "\n",
    "Ajustes de matrícula: 01 al 08 de agosto de 2025  \n",
    "\n",
    "Inicio de clases: 04 de agosto de 2025  \n",
    "\n",
    "Límite evaluación del 40%: 27 de septiembre de 2025  \n",
    "\n",
    "Terminación de clases: 22 de noviembre de 2025\n",
    "\n",
    "Exámenes finales: 24 al 29 de noviembre de 2025\n",
    "\n",
    "Habilitación y validación: 01 al 06 de diciembre 2025\n",
    "\n",
    "Terminación oficial del semestre: 09 de diciembre de 2025  "
   ]
  },
  {
   "cell_type": "markdown",
   "id": "667b9504",
   "metadata": {},
   "source": [
    "\n",
    "A continuación le envío el horario de la asignatura Cálculo Vectorial  \n",
    "\n",
    "Días:  \n",
    "Lunes - Hora: 7:00 a 12:00M  \n",
    "Fechas:  \n",
    "Febrero: 10-17-24                                          \n",
    " Marzo: 3-10-17-31                                                  \n",
    "Abril:7-21-28                                                   \n",
    "Mayo:5-12-19  \n",
    "\n",
    "Agradezco su apoyo, y si presenta alguna dificultad puede contactarme.  \n",
    "\n",
    "Cordialmente,  \n",
    "Juan Felipe Rivera Hernández  \n",
    "Contacto: 3106314300  "
   ]
  }
 ],
 "metadata": {
  "celltoolbar": "Slideshow",
  "kernelspec": {
   "display_name": ".venv",
   "language": "python",
   "name": "python3"
  },
  "language_info": {
   "codemirror_mode": {
    "name": "ipython",
    "version": 3
   },
   "file_extension": ".py",
   "mimetype": "text/x-python",
   "name": "python",
   "nbconvert_exporter": "python",
   "pygments_lexer": "ipython3",
   "version": "3.11.9"
  },
  "rise": {
   "enable_chalkboard": true,
   "theme": "sky",
   "transition": "zoom"
  }
 },
 "nbformat": 4,
 "nbformat_minor": 5
}
