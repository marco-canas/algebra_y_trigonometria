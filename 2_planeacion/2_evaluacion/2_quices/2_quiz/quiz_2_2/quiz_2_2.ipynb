{
 "cells": [
  {
   "cell_type": "markdown",
   "id": "6c2071ba",
   "metadata": {},
   "source": [
    "<table align=\"left\">\n",
    "  <td>\n",
    "    <a href=\"https://colab.research.google.com/github/marco-canas/algebra_y_trigonometria/blob/main/3_planeacion/2_classes/3_unidad_2_ecuaciones_e_inecuaciones/2_2_aplicacion_ecuaciones/2_2_aplicaciones_ecuaciones_sep_3.ipynb\" target=\"_parent\"><img src=\"https://colab.research.google.com/assets/colab-badge.svg\" alt=\"Open In Colab\"/></a>\n",
    "  </td>\n",
    "  <td>\n",
    "    <a target=\"_blank\" href=\"https://kaggle.com/kernels/welcome?src=https://github.com/marco-canas/algebra_y_trigonometria/blob/main/3_planeacion/2_classes/3_unidad_2_ecuaciones_e_inecuaciones/2_2_aplicacion_ecuaciones/2_2_aplicaciones_ecuaciones_sep_3.ipynb\"><img src=\"https://kaggle.com/static/images/open-in-kaggle.svg\" /></a>\n",
    "  </td>\n",
    "</table>"
   ]
  },
  {
   "cell_type": "markdown",
   "id": "db34f277",
   "metadata": {},
   "source": [
    "# Prompt  \n",
    "\n",
    "Libro Guía: https://archive.org/details/algebra-y-trigonometria-con-geometria-analitica-13va-edicion-earl-w.-swokowski/page/n3/mode/2up  \n",
    " \n",
    "Diséñame un quiz de tres ítems obligatorios y uno opcional para evaluar el tema de ecuaciones de la sección 2.1 de Swokowski pero **sin** evaluar los temas de ecuaciones con expresiones racionales y **sin** evaluar el tema de aplicaciones de las ecuaciones. La estructura del quiz quiero que sea así:  \n",
    "1. El primer ítem donde evalúe a través de cinco preguntas, la teoría sobre definición de ecuación, ecuación lineal, ecuación cuadrática, propiedades de las igualdades y el método de transposición de términos para solución de  ecuaciones lineales.  \n",
    "2. Un segundo ítem sobre solución de ecuaciones equivalentes a ecuaciones lineales. \n",
    "3. Un tercer punto sobre solución de ecuaciones equivalentes a ecuaciones cuadráticas por los métodos de: \n",
    "     - completación del trinomio cuadrado perfecto, \n",
    "     - el método de factorización y uso de la propiedad de dominio entero de $(\\mathbb{R}, + , \\cdot)$ ($(ab = 0) \\to (a = 0 \\lor b = 0)$) y \n",
    "     - el método de la fórmula del bachiller o fórmula general:   \n",
    " \n",
    "       $$x =\\frac{-b \\pm \\sqrt{b^{2} - 4ac}}{2a}.$$ "
   ]
  },
  {
   "cell_type": "markdown",
   "id": "8f3cfc11",
   "metadata": {},
   "source": [
    "Te preparo el **quiz** siguiendo exactamente la estructura que me pides, tomando como referencia la sección 2.1 de Swokowski (pero excluyendo expresiones racionales y aplicaciones). Aquí va:\n",
    "\n",
    "---\n"
   ]
  },
  {
   "cell_type": "markdown",
   "id": "9be5dc8a",
   "metadata": {},
   "source": [
    "\n",
    "# **Quiz – Ecuaciones (Sección 2.1, Swokowski)**\n",
    "\n",
    "### Ítem 1 (20%) – Teoría (Responde en forma breve y clara)\n",
    "\n",
    "Responde las siguientes cinco preguntas:\n",
    "a) ¿Qué es una **ecuación**?\n"
   ]
  },
  {
   "cell_type": "markdown",
   "id": "b27fa0cb",
   "metadata": {},
   "source": [
    "# Áreas de mejora al definir conceptos\n",
    "\n",
    "1. Definir las ecuaciones lineales cómo ecuaciones que pueden ser transformadas a la forma estándar $ax + b = 0$, con \\(a \\neq 0\\). \n",
    "2. "
   ]
  },
  {
   "cell_type": "markdown",
   "id": "491c1e44",
   "metadata": {},
   "source": [
    "b) ¿Qué caracteriza a una **ecuación lineal** en una variable? Da un ejemplo.\n",
    "\n",
    "Que es equivamente a una ecuación de la forma $ax + b = 0$ con $a \\neq 0$.  \n",
    "\n",
    "$$ (8x - 2)(3x + 4) = (4x + 3)(6x - 1) $$"
   ]
  },
  {
   "cell_type": "markdown",
   "id": "82fa7363",
   "metadata": {},
   "source": [
    "c) ¿Qué caracteriza a una **ecuación cuadrática** en una variable? Da un ejemplo.  \n",
    "\n",
    "Es una ecuación que es equivalente a una ecuación de la forma estándar $ax^{2} + bx + c = 0$. Ser equivalente significa que que la ecuación dada se puede transformar en la forma estandar $ax^{2} + bx + c = 0$ utilizando solo propiedades de de igualdad: \n",
    "\n",
    "$$ a = b \\quad \\to \\quad a + c = b+c $$\n",
    "\n",
    "$$ \\begin{cases}a = b \\\\ \n",
    "c \\neq 0\n",
    "\\end{cases} \\qquad \\to  \\qquad \\begin{cases}ac = bc \\\\\n",
    "c \\neq 0\n",
    "\\end{cases} $$"
   ]
  },
  {
   "cell_type": "markdown",
   "id": "956e054c",
   "metadata": {},
   "source": [
    "d) Enuncia **dos** propiedades de la **igualdad** útiles para resolver ecuaciones.  \n"
   ]
  },
  {
   "cell_type": "markdown",
   "id": "d175b1af",
   "metadata": {},
   "source": [
    "# Áreas de mejora  \n",
    "\n",
    "1. Falta de hopótesis en la enunciación de la propiedad de la igualdad: \n",
    "\n"
   ]
  },
  {
   "cell_type": "markdown",
   "id": "2fdbbe5f",
   "metadata": {},
   "source": [
    "e) Explica en qué consiste el **método de transposición de términos** para resolver ecuaciones lineales.\n",
    "\n",
    "\n"
   ]
  },
  {
   "cell_type": "markdown",
   "id": "78316306",
   "metadata": {},
   "source": []
  },
  {
   "cell_type": "markdown",
   "id": "54c6a45b",
   "metadata": {},
   "source": [
    "\n",
    "### Ítem 2 (30%) – Ecuaciones lineales\n",
    "\n",
    "Resuelve las siguientes ecuaciones, justificando los pasos intermedios y aplicando el concepto de **ecuaciones equivalentes**:\n",
    "\n",
    "a) $3(x - 2) = 2x + 5$  \n"
   ]
  },
  {
   "cell_type": "code",
   "execution_count": null,
   "id": "bf52c455",
   "metadata": {},
   "outputs": [
    {
     "data": {
      "text/latex": [
       "$\\displaystyle 11$"
      ],
      "text/plain": [
       "11"
      ]
     },
     "execution_count": 3,
     "metadata": {},
     "output_type": "execute_result"
    }
   ],
   "source": [
    "from sympy import * \n",
    "x = var('x') \n",
    "lado1 = 3*(x-2)\n",
    "lado2 = 2*x + 5  \n",
    "\n",
    "ecuacion = Eq(lado1, lado2)\n",
    "solve(ecuacion, x)[0]       # devuelve una lista con las soluciones "
   ]
  },
  {
   "cell_type": "markdown",
   "id": "af2ada08",
   "metadata": {},
   "source": [
    "b) $\\dfrac{x}{3} - 4 = \\dfrac{2x}{5} + 1$  \n",
    "\n",
    "La notación a una línea, es una notación muy utilizada en las entradas algebraicas en cálculo simbólico con herramientas computacionales. \n",
    "\n"
   ]
  },
  {
   "cell_type": "markdown",
   "id": "e72853cb",
   "metadata": {},
   "source": [
    "# Solución de esta ecuación con expresiones racionales amplificando las fracciones para hacerlas homogéneas y luego aplicar propiedad cancelativa  \n",
    "\n",
    "$\\frac{x}{3} - 4 = \\frac{2x}{5} + 1$  \n"
   ]
  },
  {
   "cell_type": "markdown",
   "id": "4471af19",
   "metadata": {},
   "source": [
    "\n",
    "$\\frac{5x}{15} - \\frac{60}{15} = \\frac{6x}{15} + \\frac{15}{15}$  "
   ]
  },
  {
   "cell_type": "markdown",
   "id": "c4f3df79",
   "metadata": {},
   "source": [
    "$$ 5x - 60 = 6x + 15 $$\n",
    "\n",
    "$$ -60 - 15 = 6x - 5x $$\n",
    "\n",
    "$$ -75 = x $$"
   ]
  },
  {
   "cell_type": "code",
   "execution_count": 4,
   "id": "5c14d0c2",
   "metadata": {},
   "outputs": [
    {
     "data": {
      "text/latex": [
       "$\\displaystyle -75$"
      ],
      "text/plain": [
       "-75"
      ]
     },
     "execution_count": 4,
     "metadata": {},
     "output_type": "execute_result"
    }
   ],
   "source": [
    "from sympy import * \n",
    "x = var('x') \n",
    "lado1 = x/3-4\n",
    "lado2 = 2*x/5+1  \n",
    "\n",
    "ecuacion = Eq(lado1, lado2)\n",
    "solve(ecuacion, x)[0]       # devuelve una lista con las soluciones "
   ]
  },
  {
   "cell_type": "markdown",
   "id": "05e9c661",
   "metadata": {},
   "source": [
    "c) $7 - 2(x + 1) = 3x - 5$  \n",
    "\n",
    "---\n"
   ]
  },
  {
   "cell_type": "code",
   "execution_count": 5,
   "id": "9ed0031d",
   "metadata": {},
   "outputs": [
    {
     "data": {
      "text/latex": [
       "$\\displaystyle 2$"
      ],
      "text/plain": [
       "2"
      ]
     },
     "execution_count": 5,
     "metadata": {},
     "output_type": "execute_result"
    }
   ],
   "source": [
    "from sympy import * \n",
    "x = var('x') \n",
    "lado1 = 7-2*(x+1)\n",
    "lado2 = 3*x - 5  \n",
    "\n",
    "ecuacion = Eq(lado1, lado2)\n",
    "solve(ecuacion, x)[0]       # devuelve una lista con las soluciones "
   ]
  },
  {
   "cell_type": "markdown",
   "id": "249c92ce",
   "metadata": {},
   "source": [
    "## Áreas de mejora en este punto  \n",
    "\n",
    "1. Saber convertir la ecuación de una notación a una línea, a una notación a dos líneas.   \n",
    "2. Prelación de operaciones o jerarquiz de operaciones en una expresión algebraica en $\\mathbb{R}$.  \n",
    "3. \n"
   ]
  },
  {
   "cell_type": "markdown",
   "id": "8f1d05d3",
   "metadata": {},
   "source": [
    "\n",
    "### Ítem 3 (40%) – Ecuaciones cuadráticas\n",
    "\n",
    "Resuelve las siguientes ecuaciones cuadráticas **usando distintos métodos**:\n",
    "\n",
    "a) $x^2 - 6x + 9 = 0$  \n",
    "*(Usa el método de completación del trinomio cuadrado perfecto).*\n"
   ]
  },
  {
   "cell_type": "markdown",
   "id": "1710a0ee",
   "metadata": {},
   "source": [
    "# Áreas de mejora\n",
    "\n",
    "1. la propiedad $|x| = a \\to x = \\pm a$. \n",
    "2. La definición de raiz cuadrada de un número real positivo como: $$\\sqrt{x} = b \\iff b^{2} = x$$\n",
    "3. La solución de ecuaciones cuadráticas de la forma \n",
    "    $$ x^{2}  = a \\geq 0 \\quad x = \\pm \\sqrt{a} $$  "
   ]
  },
  {
   "cell_type": "markdown",
   "id": "e47eee04",
   "metadata": {},
   "source": [
    "\n",
    "b) $x^2 - 5x = 0$  \n",
    "*(Resuelve factorizando y aplicando la propiedad: $ab=0 \\Rightarrow a=0 \\lor b=0$).*\n"
   ]
  },
  {
   "cell_type": "markdown",
   "id": "9f14dadf",
   "metadata": {},
   "source": [
    "# Área de mejora \n",
    "\n",
    "1. Entrenar en el caso de factorización: \"Factor común\". \n",
    "2. Identificar el caso de factorización. \n",
    "3. La utilidad de la propiedade de R como dominio entero. \n",
    "4. Notación y sintaxis al escribir el argumento de solución por factorización. "
   ]
  },
  {
   "cell_type": "markdown",
   "id": "d15e7a39",
   "metadata": {},
   "source": [
    "\n",
    "c) $2x^2 - 3x - 2 = 0$  \n",
    "*(Resuelve utilizando la fórmula general).*\n",
    "\n",
    "---\n"
   ]
  },
  {
   "cell_type": "markdown",
   "id": "3cf52e0c",
   "metadata": {},
   "source": [
    "## Áreas de mejora\n",
    "\n",
    "1. Identificación de coeficientes. \n",
    "2. "
   ]
  },
  {
   "cell_type": "code",
   "execution_count": 1,
   "id": "e9646117",
   "metadata": {},
   "outputs": [],
   "source": [
    "from cmath import sqrt\n",
    "\n",
    "def resolver_cuadratica(a, b, c):\n",
    "    \"\"\"\n",
    "    Resuelve la ecuación cuadrática ax^2 + bx + c = 0.\n",
    "    Devuelve una tupla con las soluciones (pueden ser reales o complejas).\n",
    "    \"\"\"\n",
    "    discriminante = b**2 - 4*a*c\n",
    "    x1 = (-b + sqrt(discriminante)) / (2*a)\n",
    "    x2 = (-b - sqrt(discriminante)) / (2*a)\n",
    "    return (x1, x2)"
   ]
  },
  {
   "cell_type": "code",
   "execution_count": 2,
   "id": "c37e6e19",
   "metadata": {},
   "outputs": [
    {
     "data": {
      "text/plain": [
       "((2+0j), (-0.5+0j))"
      ]
     },
     "execution_count": 2,
     "metadata": {},
     "output_type": "execute_result"
    }
   ],
   "source": [
    "resolver_cuadratica(2, -3, -2)"
   ]
  },
  {
   "cell_type": "markdown",
   "id": "46ab3f33",
   "metadata": {},
   "source": [
    "\n",
    "### Ítem 4 (Opcional – 10% adicional)\n",
    "\n",
    "Verifica que la solución obtenida en el ítem 3(c) satisface la ecuación original sustituyendo cada una en:\n",
    "\n",
    "$$\n",
    "2x^2 - 3x - 2 = 0.\n",
    "$$\n",
    "\n",
    "\n"
   ]
  },
  {
   "cell_type": "markdown",
   "id": "3ddd4c66",
   "metadata": {},
   "source": [
    "# Prompt para la conversión a .docx  \n",
    "\n",
    "Dame el script de Python para convertir este quiz en un archivo .docx pero sin utilizar lenguaje latex, pero utiliza lenguaje unicode para hacer legible las expresiones matemáticas "
   ]
  }
 ],
 "metadata": {
  "kernelspec": {
   "display_name": ".venv",
   "language": "python",
   "name": "python3"
  },
  "language_info": {
   "codemirror_mode": {
    "name": "ipython",
    "version": 3
   },
   "file_extension": ".py",
   "mimetype": "text/x-python",
   "name": "python",
   "nbconvert_exporter": "python",
   "pygments_lexer": "ipython3",
   "version": "3.11.9"
  }
 },
 "nbformat": 4,
 "nbformat_minor": 5
}
