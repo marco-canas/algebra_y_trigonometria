{
 "cells": [
  {
   "cell_type": "markdown",
   "id": "dc06dec7",
   "metadata": {
    "slideshow": {
     "slide_type": "slide"
    }
   },
   "source": [
    "<table align=\"left\">\n",
    "  <td>\n",
    "    <a href=\"https://colab.research.google.com/github/ageron/handson-ml3/blob/main/tools_numpy.ipynb\" target=\"_parent\"><img src=\"https://colab.research.google.com/assets/colab-badge.svg\" alt=\"Open In Colab\"/></a>\n",
    "  </td>\n",
    "  <td>\n",
    "    <a target=\"_blank\" href=\"https://kaggle.com/kernels/welcome?src=https://github.com/ageron/handson-ml3/blob/main/tools_numpy.ipynb\"><img src=\"https://kaggle.com/static/images/open-in-kaggle.svg\" /></a>\n",
    "  </td>\n",
    "</table>"
   ]
  },
  {
   "cell_type": "markdown",
   "id": "e0c5b198",
   "metadata": {
    "slideshow": {
     "slide_type": "slide"
    }
   },
   "source": [
    "### [Video de apoyo a la lectura interactiva y experimental de este cuaderno]()"
   ]
  },
  {
   "cell_type": "markdown",
   "id": "41e82203",
   "metadata": {
    "slideshow": {
     "slide_type": "slide"
    }
   },
   "source": [
    "### [Vínculo al programa del curso:  ]()\n",
    "\n"
   ]
  },
  {
   "cell_type": "markdown",
   "id": "d11ab06d",
   "metadata": {
    "slideshow": {
     "slide_type": "slide"
    }
   },
   "source": [
    "Un reconocimiento a mis estudiantes que han construido conmigo este saber pedagógico:\n",
    "\n",
    "<img src = ''> \n",
    "\n"
   ]
  },
  {
   "cell_type": "markdown",
   "id": "8a74a56c-0ce6-4ad6-b985-553fd7fb68bb",
   "metadata": {},
   "source": [
    "Reconocimiento a las profesoras destacadas en enseñanza de la matemática en Colombia\n"
   ]
  },
  {
   "cell_type": "code",
   "execution_count": 3,
   "id": "7604880f",
   "metadata": {
    "slideshow": {
     "slide_type": "slide"
    }
   },
   "outputs": [
    {
     "data": {
      "application/vnd.microsoft.datawrangler.viewer.v0+json": {
       "columns": [
        {
         "name": "index",
         "rawType": "int64",
         "type": "integer"
        },
        {
         "name": "Cedula",
         "rawType": "object",
         "type": "string"
        },
        {
         "name": "Nombre",
         "rawType": "object",
         "type": "string"
        }
       ],
       "ref": "3ab8ebdd-021f-443f-8395-4faad0c284fc",
       "rows": [],
       "shape": {
        "columns": 2,
        "rows": 0
       }
      },
      "text/html": [
       "<div>\n",
       "<style scoped>\n",
       "    .dataframe tbody tr th:only-of-type {\n",
       "        vertical-align: middle;\n",
       "    }\n",
       "\n",
       "    .dataframe tbody tr th {\n",
       "        vertical-align: top;\n",
       "    }\n",
       "\n",
       "    .dataframe thead th {\n",
       "        text-align: right;\n",
       "    }\n",
       "</style>\n",
       "<table border=\"1\" class=\"dataframe\">\n",
       "  <thead>\n",
       "    <tr style=\"text-align: right;\">\n",
       "      <th></th>\n",
       "      <th>Cedula</th>\n",
       "      <th>Nombre</th>\n",
       "    </tr>\n",
       "  </thead>\n",
       "  <tbody>\n",
       "  </tbody>\n",
       "</table>\n",
       "</div>"
      ],
      "text/plain": [
       "Empty DataFrame\n",
       "Columns: [Cedula, Nombre]\n",
       "Index: []"
      ]
     },
     "execution_count": 3,
     "metadata": {},
     "output_type": "execute_result"
    }
   ],
   "source": [
    "import pandas as pd\n",
    "import numpy as np\n",
    "\n",
    "# Cargar la lista de estudiantes desde el archivo CSV\n",
    "path = 'C:/Users/marco/Documentos/docencia/groups_list/vector_geometry_and_linear_algebra.xlsx'\n",
    "df = pd.read_excel(path)\n",
    "df.head() \n"
   ]
  },
  {
   "cell_type": "markdown",
   "id": "d7598d0a-d9b7-4ae0-b029-a0ed6ed1130b",
   "metadata": {},
   "source": [
    "\n",
    "# Principios de mi labor docente"
   ]
  },
  {
   "cell_type": "markdown",
   "id": "4f9d8cf9",
   "metadata": {
    "slideshow": {
     "slide_type": "slide"
    }
   },
   "source": [
    "## Modelo general de clase: [aula invertida](https://www3.gobiernodecanarias.org/medusa/ecoescuela/pedagotic/aprendizaje-invertido-flipped-classroom/)"
   ]
  },
  {
   "cell_type": "markdown",
   "id": "eb6ed03a",
   "metadata": {},
   "source": [
    "<img src = 'https://resources.maneuveringthemiddle.com/wp-content/uploads/2020/07/04212706/1-5.png' width = 200>  \n",
    "\n"
   ]
  },
  {
   "cell_type": "markdown",
   "id": "34319cce-a71b-4f64-aab8-b53e521efa40",
   "metadata": {},
   "source": [
    "# Metodología de Aprendizaje Basado en Problemas y Proyectos (ABPP)\n"
   ]
  },
  {
   "cell_type": "markdown",
   "id": "c4f73d81",
   "metadata": {},
   "source": [
    "\n",
    "<img src = 'https://www.unir.net/wp-content/uploads/2020/07/aprendizaje-problemas2-1-1-1-1.jpeg' width = 200>"
   ]
  },
  {
   "cell_type": "markdown",
   "id": "841a985c-bd9b-4dd3-8e4c-893983980af2",
   "metadata": {},
   "source": [
    "# Desarrollo del pensamiento computacional con Lenguajes Python y R, y con archivos Markdown orientado a la formación en ciencia de datos \n",
    "\n"
   ]
  },
  {
   "cell_type": "markdown",
   "id": "3d0eba94",
   "metadata": {},
   "source": [
    "\n",
    "<img src = 'https://i.ytimg.com/vi/mcG_wcR4e6M/maxresdefault.jpg' width = 200>"
   ]
  },
  {
   "cell_type": "markdown",
   "id": "65aa0404-f7ae-495e-864c-1aec01b4255e",
   "metadata": {},
   "source": [
    "# Principio de fomento a la ciencia abierta, enseñar en el acceso a los datos públicos y el uso de software de código abierto  \n"
   ]
  },
  {
   "cell_type": "markdown",
   "id": "18ae9b87",
   "metadata": {},
   "source": [
    "\n",
    "<img src = 'https://unesdoc.unesco.org/in/rest/Thumb/image?id=p%3A%3Ausmarcdef_0000379949_spa&author=UNESCO&title=Recomendaci%C3%B3n+de+la+UNESCO+sobre+la+Ciencia+Abierta&year=2021&publisher=UNESCO&TypeOfDocument=UnescoPhysicalDocument&mat=PGD&ct=true&size=512&isPhysical=1' width = 200>"
   ]
  },
  {
   "cell_type": "markdown",
   "id": "d9559f85",
   "metadata": {},
   "source": [
    "El enfoque STEAMS en educación preescolar, primaria y secundaria es una extensión del enfoque STEM (Ciencia, Tecnología, Ingeniería y Matemáticas) y su variante STEAM, que incorpora el Arte. "
   ]
  },
  {
   "cell_type": "markdown",
   "id": "0130ec1b",
   "metadata": {},
   "source": [
    "\n",
    "<img src = 'https://www.campuseducacion.com/blog/wp-content/uploads/2023/03/foto01-1.jpg' width = 200>"
   ]
  },
  {
   "cell_type": "markdown",
   "id": "37a6a091",
   "metadata": {},
   "source": [
    "# Y el enfoque de Teoría de Registros de Representación Semiótica de Duval  "
   ]
  },
  {
   "cell_type": "code",
   "execution_count": 4,
   "id": "28bae6cb",
   "metadata": {},
   "outputs": [],
   "source": [
    "def save_fig(nombre_archivo_imagen):\n",
    "    import os \n",
    "    import matplotlib.pyplot as plt\n",
    "    ubicacion_para_imagenes = r\"C:/Users/marco/Downloads\"\n",
    "    imagen_path = os.path.join(ubicacion_para_imagenes, nombre_archivo_imagen)\n",
    "    plt.savefig(imagen_path, bbox_inches='tight')"
   ]
  },
  {
   "cell_type": "markdown",
   "id": "10e55ccf",
   "metadata": {},
   "source": [
    "# Estructura general para todas las clases\n"
   ]
  },
  {
   "cell_type": "markdown",
   "id": "ddd73417",
   "metadata": {},
   "source": [
    "\n",
    "Dame, por favor, un diseño de clase, con el enfoque: \"Aula Invertida, STEAMS, de Aprendizaje Basado en Problemas y Proyectos (ABPP) y de Teoría de Registros de Representación Semiótica (TRRS) de Duval\" sobre: \"Expresiones algebraicas y operaciones. Productos notables\", siguiendo el programa de curso que se encuentra en: https://github.com/marco-canas/algebra_y_trigonometria/blob/main/0_programa_curso/programa_algebra_and_trigonometry.md ; y la estructura:  \n",
    "\n",
    "Ubicación del proyecto investigativo: [aquí]() \n",
    "Ubicación del programa del curso: [aquí](https://github.com/marco-canas/algebra_y_trigonometria/blob/main/0_programa_curso/programa_algebra_and_trigonometry.md)\n",
    "Ubicación de la lista de estudiantes matriculados: [Aquí](https://github.com/marco-canas/groups_list/blob/main/algebra_and_trigonometry.xlsx)  \n",
    "\n",
    "1. Título de la clase   \n",
    "   \n",
    "2. Objetivo de aprendizaje que incluyan los indicadores del logro de estos objetivos. \n",
    "   \n",
    "3. Un mapa conceptual que resuma la clase elaborado en Graphviz de python con nodos y edges de diferentes formas, colores y rellenos y renderizado en la siguiente ubicación: `\"C:\\Users\\marco\\Downloads\"`.  No olvides el parámetro `view = True` para el método `render()` de Graphviz. Para este mapa controla las superposiciones de los nodos con: graph [overlap=false]; // Elimina superposiciones (puede aumentar el espacio)\n",
    "graph [overlap=\"scalexy\"]; // Escala el gráfico para evitar overlaps\n",
    "graph [overlap=\"compress\"]; // Comprime el grafo sin overlaps  \n",
    "   \n",
    "4. Elementos históricos y epistemológicos relevantes para la clase, pero narrados como una historieta al estilo de un cuentero antioqueño en Colombia. Incluye imágenes de los protagonistas históricos de esta clase.  \n",
    "   \n",
    "5. Contenido de la clase:     \n",
    "   \n",
    "          \n",
    "        \n",
    "6. Actividades de aprendizaje:   \n",
    "   \n",
    "7. Incluye una canción o un poema que ayude a interiorizar y fijar los conceptos asociados a esta clase.   \n",
    "   \n",
    "8.  Tarea o actividades de ejercitación y fijación. Incluye 20 ejercicios de tarea en las que los estudiantes empiecen con la descripción geométrica del algoritmo, luego la descripción verbal y secuencial del algoritmo, después la implementación en lenguaje python editado a través de la terminal powershell de su computador y finalmente con el cálculo a mano y en su cuaderno. Crea una función de usuario de Python que asigne esta tareas a cada uno de los estudiantes matriculados en este curso tomando la ubicación de los estudiantes dada en este prompt.  \n",
    "    \n",
    "9. Evaluación incluyendo 20 proyectos, un ejemplo de quiz (con tres items) y un ejemplo de parcial (con 5 items). Incluye evaluaciones en las que los estudiantes empiecen con la descripción geométrica del algoritmo, luego la descripción verbal y secuencial del algoritmo, después la implementación en lenguaje python editado a través de la terminal powershell de su computador, y finalmente con el cálculo algebraico y numérico a mano y en su cuaderno. \n",
    "    \n",
    "10. Diseño de actividad de retroalimentación.   \n",
    "    \n",
    "11. Dame un vocabulario y frases del idioma inglés asociadas a esta clase.    \n",
    "     \n",
    "12. Incluye apéndice para la clase sobre desarrollo de habilidades para trabajar en equipo y de asertividad y empatía para relacionarnos. También elementos de la inteligencia emocional para presentar pruebas sin temor y sin realizar fraude en ellas.    \n",
    "     \n",
    "13. Incluye 10 referentes en didáctica de la matemática que estén de acuerdo a la propuesta didáctica de esta clase. Adiciona a estos referentes a Raymond Duval (Representaciones y cambios de representación para la adquisición de conceptos matemáticos) y a [Jeannette Wing](https://es.wikipedia.org/wiki/Jeannette_Wing) (Desarrollo del pensamiento computacional). Déjame todos estos referentes ordenados de acuerdo a las normas APA. Al crear la clase, introduce las citas de estos autores en el texto de la clase.\n",
    "\n",
    "\n",
    "Pero  que este diseño sea para que el estudiante pueda aprender experimentando en cuadernos Jupyter con funciones de usuario y animaciones y visualizaciones en python.   \n",
    "\n",
    "En particular utiliza para el diseño de clase a Numpy, Pandas, SymPy, Matplotlib.pyplot, Seaborn, Plotly, ipywidgets, matplotlib.animation, TensorFlow, Keras y Jupyter Notebook.    \n",
    "\n",
    "Cada vez que utilices `matplotlib.animacion` no olvides incluir el uso de `IPython. display` para la rederización de estas animaciones a través de Jupyter Notebook. No olvides darme los diseños de clase con las ecuaciones matemáticas delimitadas con signo de dolar $ para que VS Code si me renderize estas expresiones del lenguaje latex. Cuando vallas a utilizar ipywidgets ten en cuenta la siguiente importación inicial para garantizar que la visualización interactiva si se renderize en VS Code:   \n",
    "\n",
    "import numpy as np  \n",
    "import matplotlib.pyplot as plt  \n",
    "import ipywidgets as widgets  \n",
    "\n",
    "\n",
    "\n"
   ]
  },
  {
   "cell_type": "markdown",
   "id": "f39ebbcb",
   "metadata": {},
   "source": [
    "# | **6/08/2025**  | Expresiones algebraicas y operaciones. Productos notables.               | Taller en clase.                    |  "
   ]
  },
  {
   "cell_type": "markdown",
   "id": "9daf11e6",
   "metadata": {},
   "source": [
    "# Diseño de Clase: Expresiones Algebraicas y Productos Notables\n"
   ]
  },
  {
   "cell_type": "markdown",
   "id": "fc76b641",
   "metadata": {},
   "source": [
    "\n",
    "## 1. Título de la Clase\n",
    "**\"Descubriendo Patrones: Expresiones Algebraicas y Productos Notables a través de STEAMS, ABPP y TRRS\"**\n"
   ]
  },
  {
   "cell_type": "markdown",
   "id": "2eb1346e",
   "metadata": {},
   "source": [
    "\n",
    "## 2. Objetivos de Aprendizaje\n"
   ]
  },
  {
   "cell_type": "code",
   "execution_count": 1,
   "id": "da601e3c",
   "metadata": {},
   "outputs": [
    {
     "data": {
      "application/vnd.microsoft.datawrangler.viewer.v0+json": {
       "columns": [
        {
         "name": "index",
         "rawType": "int64",
         "type": "integer"
        },
        {
         "name": "Objetivo Principal",
         "rawType": "object",
         "type": "string"
        },
        {
         "name": "Indicadores",
         "rawType": "object",
         "type": "string"
        }
       ],
       "ref": "7b960bfc-72a5-4d89-a623-72d2741efee2",
       "rows": [
        [
         "0",
         "Comprender y aplicar productos notables mediante múltiples representaciones semióticas",
         "Identifica patrones algebraicos en contextos geométricos (TRRS: Gráfico)"
        ],
        [
         "1",
         "Comprender y aplicar productos notables mediante múltiples representaciones semióticas",
         "Transforma expresiones algebraicas entre formas factorizadas y expandidas (TRRS: Simbólico)"
        ],
        [
         "2",
         "Comprender y aplicar productos notables mediante múltiples representaciones semióticas",
         "Implementa algoritmos de productos notables en Python (TRRS: Computacional)"
        ],
        [
         "3",
         "Comprender y aplicar productos notables mediante múltiples representaciones semióticas",
         "Resuelve problemas STEAMS aplicando productos notables (ABPP: Contextual)"
        ],
        [
         "4",
         "Comprender y aplicar productos notables mediante múltiples representaciones semióticas",
         "Explica la relación histórica entre álgebra y geometría (Epistemológico)"
        ]
       ],
       "shape": {
        "columns": 2,
        "rows": 5
       }
      },
      "text/html": [
       "<div>\n",
       "<style scoped>\n",
       "    .dataframe tbody tr th:only-of-type {\n",
       "        vertical-align: middle;\n",
       "    }\n",
       "\n",
       "    .dataframe tbody tr th {\n",
       "        vertical-align: top;\n",
       "    }\n",
       "\n",
       "    .dataframe thead th {\n",
       "        text-align: right;\n",
       "    }\n",
       "</style>\n",
       "<table border=\"1\" class=\"dataframe\">\n",
       "  <thead>\n",
       "    <tr style=\"text-align: right;\">\n",
       "      <th></th>\n",
       "      <th>Objetivo Principal</th>\n",
       "      <th>Indicadores</th>\n",
       "    </tr>\n",
       "  </thead>\n",
       "  <tbody>\n",
       "    <tr>\n",
       "      <th>0</th>\n",
       "      <td>Comprender y aplicar productos notables median...</td>\n",
       "      <td>Identifica patrones algebraicos en contextos g...</td>\n",
       "    </tr>\n",
       "    <tr>\n",
       "      <th>1</th>\n",
       "      <td>Comprender y aplicar productos notables median...</td>\n",
       "      <td>Transforma expresiones algebraicas entre forma...</td>\n",
       "    </tr>\n",
       "    <tr>\n",
       "      <th>2</th>\n",
       "      <td>Comprender y aplicar productos notables median...</td>\n",
       "      <td>Implementa algoritmos de productos notables en...</td>\n",
       "    </tr>\n",
       "    <tr>\n",
       "      <th>3</th>\n",
       "      <td>Comprender y aplicar productos notables median...</td>\n",
       "      <td>Resuelve problemas STEAMS aplicando productos ...</td>\n",
       "    </tr>\n",
       "    <tr>\n",
       "      <th>4</th>\n",
       "      <td>Comprender y aplicar productos notables median...</td>\n",
       "      <td>Explica la relación histórica entre álgebra y ...</td>\n",
       "    </tr>\n",
       "  </tbody>\n",
       "</table>\n",
       "</div>"
      ],
      "text/plain": [
       "                                  Objetivo Principal  \\\n",
       "0  Comprender y aplicar productos notables median...   \n",
       "1  Comprender y aplicar productos notables median...   \n",
       "2  Comprender y aplicar productos notables median...   \n",
       "3  Comprender y aplicar productos notables median...   \n",
       "4  Comprender y aplicar productos notables median...   \n",
       "\n",
       "                                         Indicadores  \n",
       "0  Identifica patrones algebraicos en contextos g...  \n",
       "1  Transforma expresiones algebraicas entre forma...  \n",
       "2  Implementa algoritmos de productos notables en...  \n",
       "3  Resuelve problemas STEAMS aplicando productos ...  \n",
       "4  Explica la relación histórica entre álgebra y ...  "
      ]
     },
     "execution_count": 1,
     "metadata": {},
     "output_type": "execute_result"
    }
   ],
   "source": [
    "import pandas as pd\n",
    "\n",
    "objetivos = {\n",
    "    \"Objetivo Principal\": \"Comprender y aplicar productos notables mediante múltiples representaciones semióticas\",\n",
    "    \"Indicadores\": [\n",
    "        \"Identifica patrones algebraicos en contextos geométricos (TRRS: Gráfico)\",\n",
    "        \"Transforma expresiones algebraicas entre formas factorizadas y expandidas (TRRS: Simbólico)\",\n",
    "        \"Implementa algoritmos de productos notables en Python (TRRS: Computacional)\",\n",
    "        \"Resuelve problemas STEAMS aplicando productos notables (ABPP: Contextual)\",\n",
    "        \"Explica la relación histórica entre álgebra y geometría (Epistemológico)\"\n",
    "    ]\n",
    "}\n",
    "\n",
    "pd.DataFrame(objetivos)\n",
    "\n"
   ]
  },
  {
   "cell_type": "markdown",
   "id": "c861b3a5",
   "metadata": {},
   "source": [
    "\n",
    "## 3. Mapa Conceptual\n"
   ]
  },
  {
   "cell_type": "code",
   "execution_count": null,
   "id": "0a80037e",
   "metadata": {},
   "outputs": [
    {
     "ename": "ValueError",
     "evalue": "too many values to unpack (expected 2)",
     "output_type": "error",
     "traceback": [
      "\u001b[31m---------------------------------------------------------------------------\u001b[39m",
      "\u001b[31mValueError\u001b[39m                                Traceback (most recent call last)",
      "\u001b[36mCell\u001b[39m\u001b[36m \u001b[39m\u001b[32mIn[2]\u001b[39m\u001b[32m, line 27\u001b[39m\n\u001b[32m     25\u001b[39m \u001b[38;5;66;03m# Conexiones\u001b[39;00m\n\u001b[32m     26\u001b[39m graph.edges([\u001b[33m'\u001b[39m\u001b[33mAB\u001b[39m\u001b[33m'\u001b[39m, \u001b[33m'\u001b[39m\u001b[33mAC\u001b[39m\u001b[33m'\u001b[39m, \u001b[33m'\u001b[39m\u001b[33mAD\u001b[39m\u001b[33m'\u001b[39m])\n\u001b[32m---> \u001b[39m\u001b[32m27\u001b[39m \u001b[43mgraph\u001b[49m\u001b[43m.\u001b[49m\u001b[43medges\u001b[49m\u001b[43m(\u001b[49m\u001b[43m[\u001b[49m\u001b[33;43m'\u001b[39;49m\u001b[33;43mBB1\u001b[39;49m\u001b[33;43m'\u001b[39;49m\u001b[43m,\u001b[49m\u001b[43m \u001b[49m\u001b[33;43m'\u001b[39;49m\u001b[33;43mBB2\u001b[39;49m\u001b[33;43m'\u001b[39;49m\u001b[43m,\u001b[49m\u001b[43m \u001b[49m\u001b[33;43m'\u001b[39;49m\u001b[33;43mCC1\u001b[39;49m\u001b[33;43m'\u001b[39;49m\u001b[43m,\u001b[49m\u001b[43m \u001b[49m\u001b[33;43m'\u001b[39;49m\u001b[33;43mCC2\u001b[39;49m\u001b[33;43m'\u001b[39;49m\u001b[43m,\u001b[49m\u001b[43m \u001b[49m\u001b[33;43m'\u001b[39;49m\u001b[33;43mDD1\u001b[39;49m\u001b[33;43m'\u001b[39;49m\u001b[43m,\u001b[49m\u001b[43m \u001b[49m\u001b[33;43m'\u001b[39;49m\u001b[33;43mDD2\u001b[39;49m\u001b[33;43m'\u001b[39;49m\u001b[43m]\u001b[49m\u001b[43m)\u001b[49m\n\u001b[32m     29\u001b[39m \u001b[38;5;66;03m# Renderizar y mostrar\u001b[39;00m\n\u001b[32m     30\u001b[39m graph.render(directory=\u001b[33mr\u001b[39m\u001b[33m'\u001b[39m\u001b[33mC:\u001b[39m\u001b[33m\\\u001b[39m\u001b[33mUsers\u001b[39m\u001b[33m\\\u001b[39m\u001b[33mmarco\u001b[39m\u001b[33m\\\u001b[39m\u001b[33mDownloads\u001b[39m\u001b[33m'\u001b[39m, view=\u001b[38;5;28;01mTrue\u001b[39;00m, \u001b[38;5;28mformat\u001b[39m=\u001b[33m'\u001b[39m\u001b[33mpng\u001b[39m\u001b[33m'\u001b[39m)\n",
      "\u001b[36mFile \u001b[39m\u001b[32mc:\\Users\\marco\\Documentos\\docencia\\algebra_y_trigonometria\\.venv\\Lib\\site-packages\\graphviz\\dot.py:256\u001b[39m, in \u001b[36mDot.edges\u001b[39m\u001b[34m(self, tail_head_iter)\u001b[39m\n\u001b[32m    254\u001b[39m edge = \u001b[38;5;28mself\u001b[39m._edge_plain\n\u001b[32m    255\u001b[39m quote = \u001b[38;5;28mself\u001b[39m._quote_edge\n\u001b[32m--> \u001b[39m\u001b[32m256\u001b[39m \u001b[38;5;28mself\u001b[39m.body += \u001b[43m[\u001b[49m\u001b[43medge\u001b[49m\u001b[43m(\u001b[49m\u001b[43mtail\u001b[49m\u001b[43m=\u001b[49m\u001b[43mquote\u001b[49m\u001b[43m(\u001b[49m\u001b[43mt\u001b[49m\u001b[43m)\u001b[49m\u001b[43m,\u001b[49m\u001b[43m \u001b[49m\u001b[43mhead\u001b[49m\u001b[43m=\u001b[49m\u001b[43mquote\u001b[49m\u001b[43m(\u001b[49m\u001b[43mh\u001b[49m\u001b[43m)\u001b[49m\u001b[43m)\u001b[49m\n\u001b[32m    257\u001b[39m \u001b[43m              \u001b[49m\u001b[38;5;28;43;01mfor\u001b[39;49;00m\u001b[43m \u001b[49m\u001b[43mt\u001b[49m\u001b[43m,\u001b[49m\u001b[43m \u001b[49m\u001b[43mh\u001b[49m\u001b[43m \u001b[49m\u001b[38;5;129;43;01min\u001b[39;49;00m\u001b[43m \u001b[49m\u001b[43mtail_head_iter\u001b[49m\u001b[43m]\u001b[49m\n",
      "\u001b[36mFile \u001b[39m\u001b[32mc:\\Users\\marco\\Documentos\\docencia\\algebra_y_trigonometria\\.venv\\Lib\\site-packages\\graphviz\\dot.py:257\u001b[39m, in \u001b[36m<listcomp>\u001b[39m\u001b[34m(.0)\u001b[39m\n\u001b[32m    254\u001b[39m edge = \u001b[38;5;28mself\u001b[39m._edge_plain\n\u001b[32m    255\u001b[39m quote = \u001b[38;5;28mself\u001b[39m._quote_edge\n\u001b[32m    256\u001b[39m \u001b[38;5;28mself\u001b[39m.body += [edge(tail=quote(t), head=quote(h))\n\u001b[32m--> \u001b[39m\u001b[32m257\u001b[39m               \u001b[38;5;28;01mfor\u001b[39;00m t, h \u001b[38;5;129;01min\u001b[39;00m tail_head_iter]\n",
      "\u001b[31mValueError\u001b[39m: too many values to unpack (expected 2)"
     ]
    }
   ],
   "source": [
    "from graphviz import Digraph\n",
    "\n",
    "# Configuración del grafo\n",
    "graph = Digraph('G', filename='algebra_map', \n",
    "                node_attr={'style': 'filled', 'shape': 'box', 'fontname': 'Helvetica'},\n",
    "                engine='neato')\n",
    "\n",
    "# Parámetros para evitar overlaps\n",
    "graph.attr(overlap=\"false\", splines=\"true\")\n",
    "\n",
    "# Nodos principales\n",
    "graph.node('A', 'Productos Notables', shape='ellipse', color='lightblue2')\n",
    "graph.node('B', 'Representación Geométrica', shape='box', color='coral')\n",
    "graph.node('C', 'Expresión Algebraica', shape='box', color='gold')\n",
    "graph.node('D', 'Aplicaciones STEAMS', shape='box3d', color='palegreen')\n",
    "\n",
    "# Subnodos\n",
    "graph.node('B1', 'Áreas cuadrados/rectángulos', color='coral')\n",
    "graph.node('B2', 'Patrones visuales', color='coral')\n",
    "graph.node('C1', '(a+b)² = a²+2ab+b²', color='gold')\n",
    "graph.node('C2', 'Factorización', color='gold')\n",
    "graph.node('D1', 'Optimización de materiales', color='palegreen')\n",
    "graph.node('D2', 'Modelado predictivo', color='palegreen')\n",
    "\n",
    "# Conexiones\n",
    "graph.edges(['AB', 'AC', 'AD'])\n",
    "graph.edges([('B', 'B1'), 'BB2', 'CC1', 'CC2', 'DD1', 'DD2'])\n",
    "\n",
    "# Renderizar y mostrar\n",
    "graph.render(directory=r'C:\\Users\\marco\\Downloads', view=True, format='png')\n",
    "graph\n"
   ]
  },
  {
   "cell_type": "markdown",
   "id": "c5231606",
   "metadata": {},
   "source": [
    "\n",
    "## 4. Elementos Históricos (Cuento Antioqueño)\n",
    "```python\n",
    "from IPython.display import Image, display, HTML\n",
    "\n",
    "# Historia en estilo antioqueño\n",
    "historia = \"\"\"\n",
    "<blockquote style='font-family: cursive; color: #8B4513; font-size: 1.1em;'>\n",
    "\"¡Uy, qué berraquera de historia les voy a contar, mijitos! Resulta que allá por el siglo IX, en esas tierras del Oriente, vivía un sabio persa llamado <b>Al-Juarismi</b> (que pa' los amigos, 'el de Juarismi'), \n",
    "<img src='https://upload.wikimedia.org/wikipedia/commons/thumb/6/66/Muhammad_ibn_Musa_al-Khwarizmi.jpg/220px-Muhammad_ibn_Musa_al-Khwarizmi.jpg' width=100 align='left' style='margin-right:10px'>\n",
    "que se le ocurrió la brillante idea de representar números con letras. ¡Sí, como lo oyen! Este hombre fue el abuelito del álgebra.\n",
    "\n",
    "Pero ahí no acaba la cosa, porque luego llegó <b>Euclides</b>, \n",
    "<img src='https://upload.wikimedia.org/wikipedia/commons/thumb/d/d7/Euklid-von-Alexandria_1.jpg/220px-Euklid-von-Alexandria_1.jpg' width=100 align='right' style='margin-left:10px'>\n",
    "un griego más tieso que tabla de lavar, y demostró que los productos notables no eran solo juegos de letras, sino que tenían su versión en áreas y cuadrados. ¡Eso es como decir que la arepa tiene su versión en buñuelo!\n",
    "\n",
    "Y pa' rematar, nuestro paisano <b>Francisco José de Caldas</b> \n",
    "<img src='https://upload.wikimedia.org/wikipedia/commons/thumb/1/1b/Francisco_jose_de_caldas.jpg/220px-Francisco_jose_de_caldas.jpg' width=100 align='left' style='margin-right:10px'>\n",
    "usó estas ideas pa' medir la tierra y hacer sus inventos. ¡Qué más berraquera que eso!\"\n",
    "</blockquote>\n",
    "\"\"\"\n",
    "\n",
    "display(HTML(historia))\n",
    "```\n",
    "\n",
    "## 5. Contenido de la Clase (con Visualizaciones Interactivas)\n",
    "```python\n",
    "import numpy as np\n",
    "import matplotlib.pyplot as plt\n",
    "from matplotlib.animation import FuncAnimation\n",
    "from IPython.display import display, HTML\n",
    "import ipywidgets as widgets\n",
    "from sympy import symbols, expand, factor, latex\n",
    "\n",
    "# Configuración interactiva\n",
    "%matplotlib widget\n",
    "\n",
    "# Definición de variables simbólicas\n",
    "a, b, x, y = symbols('a b x y')\n",
    "\n",
    "# Función para visualización geométrica\n",
    "def visualizar_producto_notable(expresion):\n",
    "    fig, ax = plt.subplots(figsize=(8, 6))\n",
    "    \n",
    "    if expresion == '(a+b)²':\n",
    "        # Cuadrado de binomio\n",
    "        ax.add_patch(plt.Rectangle((0, 0), 1, 1, color='skyblue', alpha=0.5))\n",
    "        ax.add_patch(plt.Rectangle((1, 0), 2, 1, color='salmon', alpha=0.5))\n",
    "        ax.add_patch(plt.Rectangle((0, 1), 1, 2, color='salmon', alpha=0.5))\n",
    "        ax.add_patch(plt.Rectangle((1, 1), 2, 2, color='gold', alpha=0.5))\n",
    "        ax.text(0.5, 0.5, '$a²$', ha='center', va='center', fontsize=12)\n",
    "        ax.text(1.5, 0.5, '$ab$', ha='center', va='center', fontsize=12)\n",
    "        ax.text(0.5, 1.5, '$ab$', ha='center', va='center', fontsize=12)\n",
    "        ax.text(1.5, 1.5, '$b²$', ha='center', va='center', fontsize=12)\n",
    "        ax.set_title('Representación Geométrica de $(a+b)² = a² + 2ab + b²$')\n",
    "    \n",
    "    plt.axis('equal')\n",
    "    plt.axis('off')\n",
    "    plt.show()\n",
    "\n",
    "# Widget interactivo\n",
    "widgets.interact(visualizar_producto_notable, \n",
    "                 expresion=widgets.Dropdown(\n",
    "                     options=['(a+b)²', '(a-b)²', '(a+b)(a-b)'],\n",
    "                     value='(a+b)²',\n",
    "                     description='Producto Notable:'\n",
    "                 ))\n",
    "```\n",
    "\n",
    "## 6. Actividades de Aprendizaje (ABPP)\n",
    "```python\n",
    "# Proyecto STEAMS: Optimización de materiales\n",
    "proyecto = {\n",
    "    \"Problema\": \"Una empresa necesita diseñar cajas con tapa usando la menor cantidad de cartón posible\",\n",
    "    \"Fases\": [\n",
    "        \"1. Modelar matemáticamente el área superficial en función de las dimensiones\",\n",
    "        \"2. Identificar productos notables en la expresión obtenida\",\n",
    "        \"3. Implementar en Python una función que calcule áreas óptimas\",\n",
    "        \"4. Visualizar en 3D diferentes configuraciones\",\n",
    "        \"5. Presentar informe técnico con recomendaciones\"\n",
    "    ]\n",
    "}\n",
    "\n",
    "pd.DataFrame(proyecto)\n",
    "```\n",
    "\n",
    "## 7. Canción/Poema Mnemotécnico\n",
    "```python\n",
    "poema = r\"\"\"\n",
    "$\\textbf{El Son de los Productos Notables}$\n",
    "\n",
    "$\\textit{(Se canta con ritmo de bambuco)}$\n",
    "\n",
    "\\begin{verse}\n",
    "Cuando un binomio al cuadrado vas a elevar,\\\\\n",
    "recuerda siempre esta verdad:\\\\\n",
    "Primero al cuadrado cada término,\\\\\n",
    "más dos veces el producto, eso es esencial.\\\\[10pt]\n",
    "\n",
    "$(a + b)^2$ no es $a^2 + b^2$,\\\\\n",
    "$2ab$ en el medio debes colocar.\\\\\n",
    "Y si es diferencia, el signo cambiará,\\\\\n",
    "pero la estructura no olvidarás.\\\\[10pt]\n",
    "\n",
    "Para suma por diferencia, atención,\\\\\n",
    "es diferencia de cuadrados, simple expresión.\\\\\n",
    "$(a + b)(a - b) = a^2 - b^2$,\\\\\n",
    "¡esa identidad nunca fallará!\n",
    "\\end{verse}\n",
    "\"\"\"\n",
    "\n",
    "display(HTML(f\"<div style='font-family: serif; color: #8B4513; font-size: 1.2em;'>{poema}</div>\"))\n",
    "```\n",
    "\n",
    "## 8. Tareas Automatizadas\n",
    "```python\n",
    "import random\n",
    "import pandas as pd\n",
    "from sympy import latex\n",
    "\n",
    "# Cargar lista de estudiantes (simulación)\n",
    "estudiantes = pd.read_excel('https://github.com/marco-canas/groups_list/blob/main/algebra_and_trigonometry.xlsx')\n",
    "\n",
    "# Generador de ejercicios\n",
    "def generar_ejercicios(estudiante):\n",
    "    ejercicios = []\n",
    "    for i in range(1, 21):\n",
    "        a = random.randint(1, 10)\n",
    "        b = random.randint(1, 10)\n",
    "        tipo = random.choice(['cuadrado_suma', 'cuadrado_resta', 'suma_por_resta'])\n",
    "        \n",
    "        if tipo == 'cuadrado_suma':\n",
    "            expr = f\"$({a}x + {b}y)^2$\"\n",
    "            sol = f\"${a**2}x^2 + {2*a*b}xy + {b**2}y^2$\"\n",
    "        elif tipo == 'cuadrado_resta':\n",
    "            expr = f\"$({a}x - {b}y)^2$\"\n",
    "            sol = f\"${a**2}x^2 - {2*a*b}xy + {b**2}y^2$\"\n",
    "        else:\n",
    "            expr = f\"$({a}x + {b}y)({a}x - {b}y)$\"\n",
    "            sol = f\"${a**2}x^2 - {b**2}y^2$\"\n",
    "        \n",
    "        ejercicios.append({\n",
    "            'Ejercicio': f\"{i}. Desarrollar: {expr}\",\n",
    "            'Paso Geométrico': f\"Dibujar la representación de {expr.split(')')[0]})\",\n",
    "            'Descripción Verbal': f\"Explicar el algoritmo para desarrollar {expr}\",\n",
    "            'Implementación Python': f\"Implementar en SymPy la expansión de {expr}\",\n",
    "            'Solución Manual': sol\n",
    "        })\n",
    "    \n",
    "    return pd.DataFrame(ejercicios)\n",
    "\n",
    "# Asignar tareas personalizadas\n",
    "tareas_estudiantes = {estudiante: generar_ejercicios(estudiante) \n",
    "                      for estudiante in estudiantes['Nombre']}\n",
    "\n",
    "# Ejemplo de tarea para un estudiante\n",
    "tareas_estudiantes[list(tareas_estudiantes.keys())[0]].head()\n",
    "```\n",
    "\n",
    "## 9. Evaluación (Proyectos, Quiz y Parcial)\n",
    "```python\n",
    "# Ejemplo de Quiz\n",
    "quiz = {\n",
    "    \"Pregunta 1\": {\n",
    "        \"Enunciado\": \"Geométricamente, ¿qué representa el término $2ab$ en $(a+b)^2$?\",\n",
    "        \"Opciones\": [\"Dos rectángulos de área ab\", \"Un cuadrado de lado 2ab\", \"La suma de a² y b²\"],\n",
    "        \"Respuesta\": 0\n",
    "    },\n",
    "    \"Pregunta 2\": {\n",
    "        \"Enunciado\": \"Implementa en Python la expansión de $(3x - 2y)^2$\",\n",
    "        \"Código Solución\": \"expand((3*x - 2*y)**2)\"\n",
    "    },\n",
    "    \"Pregunta 3\": {\n",
    "        \"Enunciado\": \"Explica con tus palabras por qué $(a+b)(a-b) = a² - b²$\",\n",
    "        \"Rúbrica\": [\"Claridad\", \"Precisión matemática\", \"Uso de representaciones\"]\n",
    "    }\n",
    "}\n",
    "\n",
    "# Ejemplo de Parcial\n",
    "parcial = {\n",
    "    \"Problema 1\": \"Demuestra geométricamente la fórmula del cuadrado de un binomio\",\n",
    "    \"Problema 2\": \"Desarrolla y factoriza $(2x + 3)^2 - (x - 1)^2$\",\n",
    "    \"Problema 3\": \"Implementa una función Python que reciba un binomio y devuelva su cuadrado\",\n",
    "    \"Problema 4\": \"Resuelve un problema STEAM usando productos notables\",\n",
    "    \"Problema 5\": \"Explica cómo los productos notables optimizan cálculos en física\"\n",
    "}\n",
    "\n",
    "pd.DataFrame(quiz)\n",
    "```\n",
    "\n",
    "## 10. Actividad de Retroalimentación\n",
    "```python\n",
    "retro = \"\"\"\n",
    "**Taller de Espejo (TRRS):**\n",
    "1. Los estudiantes intercambian sus soluciones Python\n",
    "2. Cada uno debe representar gráficamente el código del compañero\n",
    "3. Luego traducir la representación gráfica a expresión algebraica\n",
    "4. Finalmente, convertir la expresión algebraica a pseudocódigo\n",
    "5. Discusión grupal sobre las diferentes representaciones\n",
    "\n",
    "**Rúbrica:**\n",
    "- Precisión en los cambios de representación\n",
    "- Creatividad en las visualizaciones\n",
    "- Capacidad para identificar errores\n",
    "\"\"\"\n",
    "\n",
    "display(HTML(f\"<div style='background-color: #f5f5f5; padding: 15px; border-radius: 5px;'>{retro}</div>\"))\n",
    "```\n",
    "\n",
    "## 11. Vocabulario en Inglés\n",
    "```python\n",
    "vocabulario = {\n",
    "    \"Término\": [\"Algebraic expression\", \"Binomial\", \"Polynomial\", \"Expansion\", \"Factorization\"],\n",
    "    \"Traducción\": [\"Expresión algebraica\", \"Binomio\", \"Polinomio\", \"Desarrollo\", \"Factorización\"],\n",
    "    \"Ejemplo\": [\n",
    "        \"$(x+2)^2$ is an algebraic expression\",\n",
    "        \"A binomial has two terms like $(a+b)$\",\n",
    "        \"$x^2 + 3x + 2$ is a polynomial\",\n",
    "        \"The expansion of $(a+b)^2$ is $a^2 + 2ab + b^2$\",\n",
    "        \"Factorization is the reverse of expansion\"\n",
    "    ]\n",
    "}\n",
    "\n",
    "pd.DataFrame(vocabulario)\n",
    "```\n",
    "\n",
    "## 12. Apéndice: Habilidades Blandas\n",
    "```python\n",
    "habilidades = \"\"\"\n",
    "**Trabajo en Equipo:**\n",
    "- Técnica \"Puzzle\" para productos notables: cada miembro domina una representación\n",
    "- Roles rotativos: Geómetra, Algebrista, Programador, Documentador\n",
    "\n",
    "**Inteligencia Emocional:**\n",
    "- Diario de errores: registrar y analizar equivocaciones con productos notables\n",
    "- Técnica \"3 antes de mí\": consultar 3 fuentes antes de preguntar al profesor\n",
    "\n",
    "**Anti-fraude:**\n",
    "- Evaluaciones con \"código de honor\": explicar el proceso, no solo el resultado\n",
    "- Defensa oral aleatoria de soluciones presentadas\n",
    "\"\"\"\n",
    "\n",
    "display(HTML(f\"<div style='background-color: #fff8e1; padding: 15px; border-radius: 5px;'>{habilidades}</div>\"))\n",
    "```\n",
    "\n",
    "## 13. Referentes Didácticos (APA)\n",
    "```python\n",
    "referentes = [\n",
    "    \"Duval, R. (2006). Un tema crucial en la educación matemática: La habilidad para cambiar el registro de representación. *Revista EMA, 9*(1), 1-20.\",\n",
    "    \"Wing, J. M. (2006). Computational thinking. *Communications of the ACM, 49*(3), 33-35.\",\n",
    "    \"Sfard, A. (1991). On the dual nature of mathematical conceptions: Reflections on processes and objects as different sides of the same coin. *Educational studies in mathematics, 22*(1), 1-36.\",\n",
    "    \"Lesh, R., & Doerr, H. M. (2003). Beyond constructivism: Models and modeling perspectives on mathematics problem solving, learning, and teaching. *Lawrence Erlbaum Associates Publishers*.\",\n",
    "    \"Artigue, M. (2002). Learning mathematics in a CAS environment: The genesis of a reflection about instrumentation and the dialectics between technical and conceptual work. *International Journal of Computers for Mathematical Learning, 7*(3), 245-274.\",\n",
    "    \"Noss, R., & Hoyles, C. (1996). Windows on mathematical meanings: Learning cultures and computers. *Springer Science & Business Media*.\",\n",
    "    \"Kaput, J. J. (1998). Representations, inscriptions, descriptions and learning: A kaleidoscope of windows. *Journal of Mathematical Behavior, 17*(2), 265-281.\",\n",
    "    \"Hershkowitz, R., Schwarz, B. B., & Dreyfus, T. (2001). Abstraction in context: Epistemic actions. *Journal for research in mathematics education, 32*(2), 195-222.\",\n",
    "    \"Radford, L. (2003). Gestures, speech, and the sprouting of signs: A semiotic-cultural approach to students' types of generalization. *Mathematical thinking and learning, 5*(1), 37-70.\",\n",
    "    \"Moreno-Armella, L., & Hegedus, S. J. (2009). Co-action with digital technologies. *ZDM, 41*(4), 505-519.\"\n",
    "]\n",
    "\n",
    "for ref in referentes:\n",
    "    print(f\"- {ref}\")\n",
    "```\n"
   ]
  },
  {
   "cell_type": "markdown",
   "id": "46e2bba5",
   "metadata": {},
   "source": [
    "\n",
    "Este diseño integra todos los componentes solicitados, con especial énfasis en:\n",
    "1. El enfoque TRRS de Duval mediante múltiples representaciones\n",
    "2. ABPP con el proyecto STEAM de optimización\n",
    "3. Aula invertida con materiales interactivos previos a la clase\n",
    "4. Uso intensivo de Python y visualizaciones en Jupyter\n",
    "5. Componentes emocionales y de trabajo colaborativo\n",
    "\n",
    "Los estudiantes experimentarán los productos notables desde lo concreto (visualizaciones geométricas), pasando por lo simbólico (álgebra) hasta lo abstracto (implementación computacional)."
   ]
  },
  {
   "cell_type": "code",
   "execution_count": null,
   "id": "cbec5ff3",
   "metadata": {},
   "outputs": [],
   "source": []
  },
  {
   "cell_type": "code",
   "execution_count": null,
   "id": "0040a64c",
   "metadata": {},
   "outputs": [],
   "source": []
  },
  {
   "cell_type": "code",
   "execution_count": null,
   "id": "a0250ef6",
   "metadata": {},
   "outputs": [],
   "source": []
  },
  {
   "cell_type": "markdown",
   "id": "596bbb56",
   "metadata": {},
   "source": [
    "# Función de asignación de tareas  para el curso de Álgebra y trigonometría  \n",
    "\n"
   ]
  },
  {
   "cell_type": "code",
   "execution_count": 5,
   "id": "e137bcaf",
   "metadata": {},
   "outputs": [],
   "source": [
    "import pandas as pd \n",
    "import random \n",
    "def asignar_tareas(lista_estudiantes):\n",
    "    # Leer lista de estudiantes\n",
    "    estudiantes = pd.read_excel(lista_estudiantes, engine = 'openpyxl')\n",
    "    \n",
    "    # Generar 20 ejercicios\n",
    "    ejercicios = []\n",
    "    for i in range(1, 21):\n",
    "        # Diferentes tipos de problemas\n",
    "        if i <= 5:\n",
    "            tipo = \"Álgebra (Ecuaciones polinómicas)\"\n",
    "        elif i <= 10:\n",
    "            tipo = \"Trigonometría (Identidades)\"\n",
    "        elif i <= 15:\n",
    "            tipo = \"Geometría Analítica\"\n",
    "        else:\n",
    "            tipo = \"Problemas aplicados\"\n",
    "        \n",
    "        ejercicios.append({\n",
    "            \"ID\": i,\n",
    "            \"Tipo\": tipo,\n",
    "            \"Descripción\": f\"Ejercicio {i}: Resolver problema de {tipo}\",\n",
    "            \"Python\": f\"Implementar solución para ejercicio {i}\",\n",
    "            \"Teoría\": f\"Explicación conceptual del ejercicio {i}\"\n",
    "        })\n",
    "    \n",
    "    # Asignar aleatoriamente a cada estudiante\n",
    "    tareas_asignadas = []\n",
    "    for _, estudiante in estudiantes.iterrows():\n",
    "        ejercicios_est = random.sample(ejercicios, 2)  # 2 ejercicios por estudiante\n",
    "        tareas_asignadas.append({\n",
    "            \"Estudiante\": estudiante['Nombre'],\n",
    "            \"ID_Estudiante\": estudiante['Cedula'],\n",
    "            \"Ejercicio_1\": ejercicios_est[0][\"Descripción\"],\n",
    "            \"Ejercicio_2\": ejercicios_est[1][\"Descripción\"],\n",
    "            \"Requisitos_Python\": f\"Debe implementar: {ejercicios_est[0]['Python']} y {ejercicios_est[1]['Python']}\",\n",
    "            \"Explicación_Teórica\": f\"Debe explicar: {ejercicios_est[0]['Teoría']} y {ejercicios_est[1]['Teoría']}\"\n",
    "        })\n",
    "    \n",
    "    return pd.DataFrame(tareas_asignadas)\n"
   ]
  },
  {
   "cell_type": "code",
   "execution_count": 6,
   "id": "528a0dfb",
   "metadata": {},
   "outputs": [],
   "source": [
    "\n",
    "# Uso de la función\n",
    "tareas = asignar_tareas(r\"C:\\Users\\marco\\Documentos\\docencia\\groups_list\\algebra_and_trigonometry.xlsx\")\n",
    "tareas.to_excel(r\"C:\\Users\\marco\\Documentos\\docencia\\groups_list\\algebra_and_trigonometry_tareas_asignadas.xlsx\", \\\n",
    "    index=False)\n"
   ]
  },
  {
   "cell_type": "markdown",
   "id": "cc539357",
   "metadata": {},
   "source": [
    "# [Programación de programa Regiones](https://lookerstudio.google.com/reporting/44e71da0-d16f-4a51-a51e-d5ae6c19b3f1/page/p_gy4nwf37hd?pli=1)"
   ]
  },
  {
   "cell_type": "markdown",
   "id": "8ba64aed",
   "metadata": {},
   "source": [
    "# Cursos que orienta el profesor Marco Julio Cañas Campillo en 2025  \n",
    "\n",
    "1. Lunes 8 a 12: Fundamentos de Lógica: Licenciatura en Matemáticas . \n",
    "2. Martes de 9 a 10: Curso de ML and DL para Ingeniero Juan Gomez en España.  \n",
    "3. Martes de 2 a 5 PM: Vector Geometry and Linear Algebra.  \n",
    "4. Miércoles: 10 a 11: Reunión equipo investigador SAT Dengue. \n",
    "5. Miércoles 2 a 3 PM: Asesoría Trabajo de Grado Janis (Estudiante de Biología).  \n",
    "6. Viernes 2 a 6 PM: Análisis Numérico: Programa de Licenciatura en Matemáticas."
   ]
  },
  {
   "cell_type": "markdown",
   "id": "8d41fe58",
   "metadata": {
    "slideshow": {
     "slide_type": "slide"
    }
   },
   "source": [
    "# Horario de clases del profesor Marco\n",
    "\n",
    "* Lunes 8-12: Fundamentos de Lógica.     \n",
    "* Lunes 2- 6 PM:   \n",
    "* Martes 9-11 M: Álgebra y Trigonometría. \n",
    "* Miércoles 8 a 12 M:   \n",
    "* Miércoles de 2 a 6 PM: \n",
    "* Jueves 2 a 6 PM:  \n",
    "* Viernes 2 - 4 PM: Análisis Numérico. \n",
    "* Sábados 8-12 Asesorías y espacio para retroalimentación y apoyo al trabajo independiente. "
   ]
  },
  {
   "cell_type": "markdown",
   "id": "ae114e14",
   "metadata": {
    "slideshow": {
     "slide_type": "slide"
    }
   },
   "source": [
    "# Horarios de monitoría y asesoría  \n",
    "\n",
    "* Monitor Manuel San Juan Serrano: Contactar escribiendo al correo: manuel.serrano1@udea.edu.co"
   ]
  },
  {
   "cell_type": "markdown",
   "id": "bf0f9dbf",
   "metadata": {},
   "source": [
    "\n",
    "Coordinador de los cursos de la Facultad de Educación para regiones:    \n",
    "\n",
    "Andrés Vélez: regioneducacion.fedu@udea.edu.co  \n",
    "Coordinador Regiones  \n",
    "Facultad de Educación  \n",
    "Universidad de Antioquia  "
   ]
  },
  {
   "cell_type": "markdown",
   "id": "10bce0d0",
   "metadata": {
    "slideshow": {
     "slide_type": "slide"
    }
   },
   "source": [
    "## Referentes "
   ]
  },
  {
   "cell_type": "markdown",
   "id": "1db3c468",
   "metadata": {
    "slideshow": {
     "slide_type": "slide"
    }
   },
   "source": [
    "* [CALCULO I DE UNA VARIABLE Ron Larson-Bruce Edwards. Mc Graw Hill. 9º Edición](https://www.academia.edu/42139251/CALCULO_I_DE_UNA_VARIABLE_Ron_Larson_Bruce_Edwards_Mc_Graw_Hill_9o_Edici%C3%B3n)   \n",
    "  \n",
    "\n",
    "* [Grajales Vanegas, L. M., Restrepo Estrada, C. E., Restrepo Ochoa, S. I., & Ruíz De Villalba, F. (2015). Matemáticas I para las ciencias económicas.](https://bibliotecadigital.udea.edu.co/handle/10495/3010)\n",
    "  \n",
    "* R. Duval y Semiosis y pensamiento humano, 2.ª ed. Cali, Colombia: Programa Editorial Universidad del Valle, 2017. [En línea]. Disponible en: https://programaeditorial.univalle.edu.co/gpd-semiosis-y-pensamiento-humano-9789587655278-63324cdb0f6b3.html\n",
    "\n",
    "* [Aylwin, C. U. (2011). Lógica, conjuntos y números. Universidad de los Andes, Consejo de Publicaciones, Colección: Ciencias Básicas, Serie: Matemáticas.](chrome-extension://efaidnbmnnnibpcajpcglclefindmkaj/https://www.u-cursos.cl/ciencias/2011/1/MC110/1/material_docente/bajar?id_material=574722)\n",
    "  \n",
    "* [Chollet, F. (2021). Deep learning with Python. Simon and Schuster.](chrome-extension://efaidnbmnnnibpcajpcglclefindmkaj/https://tanthiamhuat.wordpress.com/wp-content/uploads/2018/03/deeplearningwithpython.pdf)  \n",
    "  \n",
    "* [Watson, S., Stewart, J., & Redlin, L. (2009). Precálculo. Matemáticas para el cálculo.](https://github.com/marco-canas/calculo/blob/main/referents/1_precalculo_stewart/stewart_precalculo.pdf)  \n",
    "\n",
    "* [Purcell, E. J., Varberg, D., & Rigdon, S. E. (2007). Cálculo diferencial e integral. Pearson Educación.](https://github.com/marco-canas/calculo/blob/main/referents/purcell/purcell_calculo.pdf)\n",
    "\n",
    "  \n",
    "\n",
    "* [stewart cálculo](https://udeaeduco-my.sharepoint.com/:b:/g/personal/marco_canas_udea_edu_co/EZgXZjAp8QxPqOAim2hs6LcBNPLGjSHf-xwYnUVYkwa04w?e=RZdTCy)  \n",
    "\n",
    "\n",
    "\n",
    "\n",
    "\n",
    "* [Recomendación de la UNESCO sobre ciencia abierta](https://unesdoc.unesco.org/ark:/48223/pf0000379949_spa)\n",
    "\n",
    "* [chatGPT](https://openai.com/blog/chatgpt)  \n",
    "\n",
    "* [Géron, A. (2017). Hands-on machine learning with scikit-learn and tensorflow: Concepts. Tools, and Techniques to build intelligent systems.](chrome-extension://efaidnbmnnnibpcajpcglclefindmkaj/http://14.139.161.31/OddSem-0822-1122/Hands-On_Machine_Learning_with_Scikit-Learn-Keras-and-TensorFlow-2nd-Edition-Aurelien-Geron.pdf)   \n"
   ]
  },
  {
   "cell_type": "markdown",
   "id": "df925560",
   "metadata": {},
   "source": [
    "\n",
    "* [McKinney, W. (2012). Python for data analysis: Data wrangling with Pandas, NumPy, and IPython. \" O'Reilly Media, Inc.\".](https://wesmckinney.com/book/) "
   ]
  },
  {
   "cell_type": "markdown",
   "id": "8e65d6f9",
   "metadata": {},
   "source": [
    "# Como estudiante, encuentro que...   \n",
    "\n",
    "F: Mis Fortalezas son:     \n",
    "O: Mis Oportunidades son:    \n",
    "D: Mis Debilidades son:    \n",
    "A: Lo que Amenazas mi aprendizaje es:  "
   ]
  },
  {
   "cell_type": "markdown",
   "id": "6b9e56a8",
   "metadata": {
    "slideshow": {
     "slide_type": "slide"
    }
   },
   "source": [
    "### [Evaluamos al profesor Marco Cañas Aquí](https://forms.office.com/Pages/ResponsePage.aspx?id=IefhmYRxjkmK_7KtTlPBwkanXIs1i1FEujpsZgO6dXpUREJPV1kxUk1JV1ozTFJIQVNIQjY5WEY3US4u)"
   ]
  },
  {
   "cell_type": "markdown",
   "id": "4e8e8ccb",
   "metadata": {},
   "source": [
    "Basado en el diseño de investigación con enfoque IAE (Investigación-Acción Educativa) que compartiste, aquí tienes una propuesta de **sistema de evaluación bidireccional** para el curso *\"Vector Geometry and Linear Algebra\"*, implementable mediante Google Forms y alineado con los ciclos reflexivos de Kemmis & McTaggart:\n",
    "\n",
    "---\n"
   ]
  },
  {
   "cell_type": "markdown",
   "id": "700c88d9",
   "metadata": {},
   "source": [
    "\n",
    "### **Diseño de Evaluación para Ciclo IAE**  \n",
    "*(Para implementar en Google Forms cada 4 semanas)*  \n"
   ]
  },
  {
   "cell_type": "markdown",
   "id": "534441d7",
   "metadata": {},
   "source": [
    "\n",
    "#### **1. Encuesta de Autoevaluación Estudiantil**  \n",
    "**Objetivo**: Monitorear progreso en competencias y percepción del enfoque investigativo.  \n"
   ]
  },
  {
   "cell_type": "markdown",
   "id": "ee74d19c",
   "metadata": {},
   "source": [
    "\n",
    "**Secciones**:  \n",
    "1. **Adquisición de Competencias** (Escala Likert 1-5):  \n",
    "   - *\"¿Cómo evalúas tu dominio actual de:\"*  \n",
    "     - Operaciones con vectores/matrices aplicadas a datasets agrícolas  \n",
    "     - Implementación de PCA/SVD para análisis de imágenes satelitales  \n",
    "     - Interpretación de resultados matemáticos en contextos agropecuarios  \n"
   ]
  },
  {
   "cell_type": "markdown",
   "id": "23d2b1bd",
   "metadata": {},
   "source": [
    "\n",
    "2. **Evaluación de Metodología IAE**:  \n",
    "   - *\"El aprendizaje basado en problemas reales del Bajo Cauca me ha ayudado a:\"*  \n",
    "     - Comprender mejor los conceptos abstractos (1-5)  \n",
    "     - Desarrollar habilidades útiles para mi futuro profesional (1-5)  \n",
    "   - *Espacio abierto*: *\"Describe un momento donde la conexión teoría-práctica fue especialmente significativa para ti\"*  \n"
   ]
  },
  {
   "cell_type": "markdown",
   "id": "6a55b099",
   "metadata": {},
   "source": [
    "\n",
    "3. **Recursos y Herramientas**:  \n",
    "   - *\"Valora la utilidad de:\"*  \n",
    "     - Cuadernos Jupyter adaptados (ej. Géron 2022)  \n",
    "     - Sesiones con agricultores/ingenieros invitados  \n",
    "     - Plataforma GitHub para colaboración  \n",
    "\n",
    "---\n"
   ]
  },
  {
   "cell_type": "markdown",
   "id": "d069bb21",
   "metadata": {},
   "source": [
    "\n",
    "#### **2. Evaluación del Profesor**  \n",
    "**Objetivo**: Retroalimentación para ajustar didáctica según necesidades emergentes.  \n"
   ]
  },
  {
   "cell_type": "markdown",
   "id": "e1080dd0",
   "metadata": {},
   "source": [
    "\n",
    "**Secciones**:  \n"
   ]
  },
  {
   "cell_type": "markdown",
   "id": "7de8c858",
   "metadata": {},
   "source": [
    "1. **Habilidades Docentes** (Escala 1-5):  \n",
    "   - *\"El profesor facilita la conexión entre álgebra lineal y problemas agrícolas mediante:\"*  \n",
    "     - Explicaciones claras de conceptos abstractos  \n",
    "     - Ejemplos contextualizados (ej. optimización de fertilizantes)  \n",
    "     - Retroalimentación constructiva en proyectos  \n"
   ]
  },
  {
   "cell_type": "markdown",
   "id": "01742d60",
   "metadata": {},
   "source": [
    "\n",
    "2. **Seguimiento a Proyectos**:  \n",
    "   - *\"Las tutorías para los proyectos aplicados son:\"*  \n",
    "     - Suficientes en frecuencia y duración  \n",
    "     - Orientadas a resolver dudas técnicas específicas  \n",
    "     - Útiles para vincular matemáticas con agronomía  \n"
   ]
  },
  {
   "cell_type": "markdown",
   "id": "ca722d62",
   "metadata": {},
   "source": [
    "\n",
    "3. **Espacio cualitativo**:  \n",
    "   - *\"Sugiere un ajuste específico que mejoraría tu experiencia de aprendizaje\"*  \n",
    "\n",
    "---\n"
   ]
  },
  {
   "cell_type": "markdown",
   "id": "568148ad",
   "metadata": {},
   "source": [
    "\n",
    "#### **3. Evaluación de Impacto Social** *(Opcional para proyectos con agricultores)*  \n",
    "**Objetivo**: Medir transferencia de conocimiento al sector productivo.  \n"
   ]
  },
  {
   "cell_type": "markdown",
   "id": "93c7f4bc",
   "metadata": {},
   "source": [
    "\n",
    "**Preguntas clave**:  \n",
    "- *\"¿Cómo ha influido el proyecto estudiantil en el que participaste en tus prácticas agrícolas?\"* (Ej.: reducción de costos, mejora en predicciones)  \n",
    "- *\"¿Recomendarías esta colaboración a otros productores?\"* (Sí/No + justificación)  \n",
    "\n",
    "\n"
   ]
  },
  {
   "cell_type": "markdown",
   "id": "d2b6a2c7",
   "metadata": {},
   "source": [
    "\n",
    "### **Implementación en Google Forms**  \n",
    "1. **Configuración**:  \n",
    "   - Formulario anónimo (excepto evaluación de proyectos con agricultores)  \n",
    "   - Sección obligatoria (competencia + 1 pregunta abierta)  \n",
    "   - Opción de subir archivos (ej.: fotos de trabajos de campo)  \n",
    "\n",
    "2. **Ejemplo de Pregunta con Lógica Condicional**:  \n",
    "   ``` \n",
    "   Si respondiste 1-3 en \"Dominio de PCA aplicado\": \n",
    "   ¿Qué tipo de apoyo adicional necesitarías? (Taller práctico, material adicional, tutoría personalizada)  \n",
    "   ```\n",
    "\n",
    "3. **Enlace accesible**:  \n",
    "   - QR en presentaciones  \n",
    "   - Link en la cabecera del repositorio GitHub  \n",
    "\n",
    "---\n"
   ]
  },
  {
   "cell_type": "markdown",
   "id": "36872955",
   "metadata": {},
   "source": [
    "\n",
    "### **Análisis para Ciclo IAE**  \n",
    "**Herramientas**:  \n",
    "- **NVivo**: Para análisis temático de respuestas cualitativas  \n",
    "- **Google Data Studio**: Dashboard automático con:  \n",
    "  - Evolución temporal de competencias  \n",
    "  - Nube de palabras de sugerencias frecuentes  \n",
    "\n",
    "**Integración con Fases IAE**:  \n",
    "1. **Diagnóstico**: Identificar brechas recurrentes (ej.: dificultad con SVD)  \n",
    "2. **Acción**: Ajustar próximas clases (ej.: taller extra de descomposición matricial)  \n",
    "3. **Reflexión**: Comparar resultados entre ciclos (ej.: mejora en % de dominio de vectores)  \n",
    "\n",
    "**Ejemplo de Pregunta Clave para el Análisis**:  \n",
    "*\"¿Qué tema del módulo actual requirió más tiempo de práctica para su comprensión?\"*  \n",
    "\n",
    "---\n"
   ]
  },
  {
   "cell_type": "markdown",
   "id": "6d92b57d",
   "metadata": {},
   "source": [
    "\n",
    "### **Modelo de Informe Parcial** *(Para socializar con estudiantes)*  \n",
    "```markdown\n",
    "## Resultados Evaluación Ciclo 3 (2025-1)  \n",
    "- **85%** mejoró en interpretación de matrices aplicadas  \n",
    "- **Solicitud principal**: Más ejemplos con datos reales de cacaoteros  \n",
    "- **Ajustes implementados**:  \n",
    "  - Sesión extra con ingeniero de Agrosavia (25/05)  \n",
    "  - Dataset público de nutrientes en suelos arroceros añadido a GitHub  \n",
    "```\n"
   ]
  },
  {
   "cell_type": "markdown",
   "id": "b5c7eb34",
   "metadata": {},
   "source": [
    "\n",
    "Este diseño asegura que las evaluaciones:  \n",
    "* Sean **ágiles** (máx. 5 min por estudiante)  \n",
    "* Generen **datos accionables** para cada fase IAE  \n",
    "* Fomenten la **corresponsabilidad** en el proceso educativo  \n"
   ]
  },
  {
   "cell_type": "markdown",
   "id": "e2a5a506",
   "metadata": {},
   "source": [
    "\n",
    "¿Te gustaría que desarrolle las plantillas específicas de Google Forms o algún ajuste adicional para alinearlo mejor con tus módulos?"
   ]
  },
  {
   "cell_type": "markdown",
   "id": "10f43536",
   "metadata": {
    "slideshow": {
     "slide_type": "slide"
    }
   },
   "source": [
    "### Continue su aprendizaje en la siguiente clase a través del siguiente [vínculo]()"
   ]
  },
  {
   "cell_type": "markdown",
   "id": "53cc9115",
   "metadata": {
    "slideshow": {
     "slide_type": "slide"
    }
   },
   "source": [
    "## Agradecimientos  \n",
    "\n",
    "Doy gracias a Dios por la vida de mi Hijo Joseph Cañas Osorio y la madurez que ha alcanzado. Este hijo me enorgullece y me hace falta abrazarlo cada día. \n",
    "\n",
    "Y a mi esposa Yasmira Emperatriz Barboza Mogollón por su apoyo, orientación y acompañamiento. "
   ]
  },
  {
   "cell_type": "markdown",
   "id": "b6ba1c23",
   "metadata": {},
   "source": [
    "# Apéndice sobre calendarios y coordinaciones \n"
   ]
  },
  {
   "cell_type": "markdown",
   "id": "bf8b6499",
   "metadata": {},
   "source": [
    "## Calendario del semestre académico 2025-2  \n"
   ]
  },
  {
   "cell_type": "markdown",
   "id": "c9b4d8ab",
   "metadata": {},
   "source": [
    "\n",
    "* Ajustes de matrícula: 01 al 08 de agosto de 2025  \n",
    "\n",
    "* Inicio de clases: 04 de agosto de 2025  \n",
    "\n",
    "* Límite evaluación del 40%: 27 de septiembre de 2025  \n",
    "\n",
    "* Terminación de clases: 22 de noviembre de 2025\n",
    "\n",
    "* Exámenes finales: 24 al 29 de noviembre de 2025\n",
    "\n",
    "* Habilitación y validación: 01 al 06 de diciembre 2025\n",
    "\n",
    "* Terminación oficial del semestre: 09 de diciembre de 2025  "
   ]
  },
  {
   "cell_type": "markdown",
   "id": "667b9504",
   "metadata": {},
   "source": [
    "\n",
    "A continuación le envío el horario de la asignatura Cálculo Vectorial  \n",
    "\n",
    "Días:  \n",
    "Lunes - Hora: 7:00 a 12:00M  \n",
    "Fechas:  \n",
    "Febrero: 10-17-24                                          \n",
    " Marzo: 3-10-17-31                                                  \n",
    "Abril:7-21-28                                                   \n",
    "Mayo:5-12-19  \n",
    "\n",
    "Agradezco su apoyo, y si presenta alguna dificultad puede contactarme.  \n",
    "\n",
    "Cordialmente,  \n",
    "Juan Felipe Rivera Hernández  \n",
    "Contacto: 3106314300  "
   ]
  }
 ],
 "metadata": {
  "celltoolbar": "Slideshow",
  "kernelspec": {
   "display_name": ".venv",
   "language": "python",
   "name": "python3"
  },
  "language_info": {
   "codemirror_mode": {
    "name": "ipython",
    "version": 3
   },
   "file_extension": ".py",
   "mimetype": "text/x-python",
   "name": "python",
   "nbconvert_exporter": "python",
   "pygments_lexer": "ipython3",
   "version": "3.11.9"
  },
  "rise": {
   "enable_chalkboard": true,
   "theme": "sky",
   "transition": "zoom"
  }
 },
 "nbformat": 4,
 "nbformat_minor": 5
}
