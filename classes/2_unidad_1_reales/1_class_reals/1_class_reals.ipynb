{
 "cells": [
  {
   "cell_type": "markdown",
   "id": "dc06dec7",
   "metadata": {
    "slideshow": {
     "slide_type": "slide"
    }
   },
   "source": [
    "<table align=\"left\">\n",
    "  <td>\n",
    "    <a href=\"https://colab.research.google.com/github/marco-canas/algebra_y_trigonometria/blob/main/classes/2_unidad_1_reales/1_class_reals/1_class_reals.ipynb\" target=\"_parent\"><img src=\"https://colab.research.google.com/assets/colab-badge.svg\" alt=\"Open In Colab\"/></a>\n",
    "  </td>\n",
    "  <td>\n",
    "    <a target=\"_blank\" href=\"https://kaggle.com/kernels/welcome?src=https://github.com/marco-canas/algebra_y_trigonometria/blob/main/classes/2_unidad_1_reales/1_class_reals/1_class_reals.ipynb\"><img src=\"https://kaggle.com/static/images/open-in-kaggle.svg\" /></a>\n",
    "  </td>\n",
    "</table>"
   ]
  },
  {
   "cell_type": "code",
   "execution_count": null,
   "id": "388c000f",
   "metadata": {},
   "outputs": [],
   "source": [
    "# generación del QR para el cuaderno de esta clase  \n",
    "import qrcode\n",
    "\n",
    "# URL del cuaderno de Colab\n",
    "url = \"https://colab.research.google.com/github/marco-canas/algebra_y_trigonometria/blob/main/classes/2_unidad_1_reales/1_class_reals/1_class_reals.ipynb\"\n",
    "\n",
    "# Crear el objeto QR\n",
    "qr = qrcode.QRCode(\n",
    "    version=1,  # tamaño del QR (1 es el más pequeño)\n",
    "    error_correction=qrcode.constants.ERROR_CORRECT_H,  # nivel de corrección de errores alto\n",
    "    box_size=10,  # tamaño de cada cuadrito\n",
    "    border=4  # borde del QR\n",
    ")\n",
    "\n",
    "# Agregar la URL al QR\n",
    "qr.add_data(url)\n",
    "qr.make(fit=True)\n",
    "\n",
    "# Crear imagen del QR\n",
    "img = qr.make_image(fill_color=\"black\", back_color=\"white\")\n",
    "\n",
    "# Guardar imagen\n",
    "img.save(\"qr_class_reals.png\")\n",
    "\n",
    "# Mostrar imagen (opcional)\n",
    "img.show()\n",
    "\n"
   ]
  },
  {
   "cell_type": "markdown",
   "id": "e0c5b198",
   "metadata": {
    "slideshow": {
     "slide_type": "slide"
    }
   },
   "source": [
    "### [Video de apoyo a la lectura interactiva y experimental de este cuaderno]()"
   ]
  },
  {
   "cell_type": "markdown",
   "id": "41e82203",
   "metadata": {
    "slideshow": {
     "slide_type": "slide"
    }
   },
   "source": [
    "### [Vínculo al programa del curso Algebra_and_trigonometry:  ](https://github.com/marco-canas/algebra_y_trigonometria/blob/main/0_programa_curso/programa_algebra_and_trigonometry.md)\n",
    "\n"
   ]
  },
  {
   "cell_type": "markdown",
   "id": "d11ab06d",
   "metadata": {
    "slideshow": {
     "slide_type": "slide"
    }
   },
   "source": [
    "Un reconocimiento a mis estudiantes que han construido conmigo este saber pedagógico:\n",
    "\n",
    "<img src = 'https://github.com/marco-canas/algebra_y_trigonometria/blob/main/images/primera_clase_2025-08-05_a_las_12.06.22.jpg?raw=true'> \n",
    "\n"
   ]
  },
  {
   "cell_type": "markdown",
   "id": "8a74a56c-0ce6-4ad6-b985-553fd7fb68bb",
   "metadata": {},
   "source": [
    "Reconocimiento a las profesoras destacadas en enseñanza de la matemática en Colombia\n"
   ]
  },
  {
   "cell_type": "code",
   "execution_count": null,
   "id": "7604880f",
   "metadata": {
    "slideshow": {
     "slide_type": "slide"
    }
   },
   "outputs": [],
   "source": [
    "import pandas as pd\n",
    "import numpy as np\n",
    "\n",
    "# Cargar la lista de estudiantes desde el archivo CSV\n",
    "path = 'C:/Users/marco/Documentos/docencia/groups_list/algebra_and_trigonometry.xlsx'\n",
    "df = pd.read_excel(path)\n",
    "df.head(14) \n"
   ]
  },
  {
   "cell_type": "markdown",
   "id": "d7598d0a-d9b7-4ae0-b029-a0ed6ed1130b",
   "metadata": {},
   "source": [
    "\n",
    "# Principios de mi labor docente"
   ]
  },
  {
   "cell_type": "markdown",
   "id": "4f9d8cf9",
   "metadata": {
    "slideshow": {
     "slide_type": "slide"
    }
   },
   "source": [
    "## Modelo general de clase: [aula invertida](https://www3.gobiernodecanarias.org/medusa/ecoescuela/pedagotic/aprendizaje-invertido-flipped-classroom/)"
   ]
  },
  {
   "cell_type": "markdown",
   "id": "eb6ed03a",
   "metadata": {},
   "source": [
    "<img src = 'https://resources.maneuveringthemiddle.com/wp-content/uploads/2020/07/04212706/1-5.png' width = 200>  \n",
    "\n"
   ]
  },
  {
   "cell_type": "markdown",
   "id": "34319cce-a71b-4f64-aab8-b53e521efa40",
   "metadata": {},
   "source": [
    "# Metodología de Aprendizaje Basado en Problemas y Proyectos (ABPP)\n"
   ]
  },
  {
   "cell_type": "markdown",
   "id": "c4f73d81",
   "metadata": {},
   "source": [
    "\n",
    "<img src = 'https://www.unir.net/wp-content/uploads/2020/07/aprendizaje-problemas2-1-1-1-1.jpeg' width = 200>"
   ]
  },
  {
   "cell_type": "markdown",
   "id": "841a985c-bd9b-4dd3-8e4c-893983980af2",
   "metadata": {},
   "source": [
    "# Desarrollo del pensamiento computacional con Lenguajes Python y R, y con archivos Markdown orientado a la formación en ciencia de datos \n",
    "\n"
   ]
  },
  {
   "cell_type": "markdown",
   "id": "3d0eba94",
   "metadata": {},
   "source": [
    "\n",
    "<img src = 'https://i.ytimg.com/vi/mcG_wcR4e6M/maxresdefault.jpg' width = 200>"
   ]
  },
  {
   "cell_type": "markdown",
   "id": "65aa0404-f7ae-495e-864c-1aec01b4255e",
   "metadata": {},
   "source": [
    "# Principio de fomento a la ciencia abierta, enseñar en el acceso a los datos públicos y el uso de software de código abierto  \n"
   ]
  },
  {
   "cell_type": "markdown",
   "id": "18ae9b87",
   "metadata": {},
   "source": [
    "\n",
    "<img src = 'https://unesdoc.unesco.org/in/rest/Thumb/image?id=p%3A%3Ausmarcdef_0000379949_spa&author=UNESCO&title=Recomendaci%C3%B3n+de+la+UNESCO+sobre+la+Ciencia+Abierta&year=2021&publisher=UNESCO&TypeOfDocument=UnescoPhysicalDocument&mat=PGD&ct=true&size=512&isPhysical=1' width = 200>"
   ]
  },
  {
   "cell_type": "markdown",
   "id": "d9559f85",
   "metadata": {},
   "source": [
    "El enfoque STEAMS en educación preescolar, primaria y secundaria es una extensión del enfoque STEM (Ciencia, Tecnología, Ingeniería y Matemáticas) y su variante STEAM, que incorpora el Arte. "
   ]
  },
  {
   "cell_type": "markdown",
   "id": "0130ec1b",
   "metadata": {},
   "source": [
    "\n",
    "<img src = 'https://www.campuseducacion.com/blog/wp-content/uploads/2023/03/foto01-1.jpg' width = 200>"
   ]
  },
  {
   "cell_type": "markdown",
   "id": "37a6a091",
   "metadata": {},
   "source": [
    "# Y el enfoque de Teoría de Registros de Representación Semiótica de Duval  "
   ]
  },
  {
   "cell_type": "code",
   "execution_count": null,
   "id": "28bae6cb",
   "metadata": {},
   "outputs": [],
   "source": [
    "def save_fig(nombre_archivo_imagen):\n",
    "    import os \n",
    "    import matplotlib.pyplot as plt\n",
    "    ubicacion_para_imagenes = r\"C:/Users/marco/Downloads\"\n",
    "    imagen_path = os.path.join(ubicacion_para_imagenes, nombre_archivo_imagen)\n",
    "    plt.savefig(imagen_path, bbox_inches='tight')"
   ]
  },
  {
   "cell_type": "markdown",
   "id": "10e55ccf",
   "metadata": {},
   "source": [
    "# Estructura general para todas las clases\n"
   ]
  },
  {
   "cell_type": "markdown",
   "id": "ddd73417",
   "metadata": {},
   "source": [
    "\n",
    "Dame, por favor, un diseño de clase, con el enfoque: \"Aula Invertida, STEAMS, de Aprendizaje Basado en Problemas y Proyectos (ABPP) y de Teoría de Registros de Representación Semiótica (TRRS) de Duval\" sobre: \"Números reales, potenciación, radicación según el programa del curso dado en: https://github.com/marco-canas/algebra_y_trigonometria/blob/main/0_programa_curso/programa_algebra_and_trigonometry.md\", siguiendo la estructura:  \n",
    "\n",
    "Ubicación del proyecto investigativo: [aquí](https://github.com/marco-canas/algebra_y_trigonometria/blob/main/0_programa_curso/programa_algebra_and_trigonometry.md) \n",
    "Ubicación del programa del curso: [aquí](https://github.com/marco-canas/vector_geometry_and_linear_algebra/blob/main/2_planificacion/0_programa_curso/programa_curso_geo_vectorial_algebra_lineal_iae_python_data_science_2025_2.docx)\n",
    "Ubicación de la lista de estudiantes matriculados: [Aquí](https://github.com/marco-canas/groups_list/blob/main/algebra_and_trigonometry.xlsx)  \n",
    "\n",
    "1. Título de la clase   \n",
    "   \n",
    "2. Objetivo de aprendizaje que incluyan los indicadores del logro de estos objetivos. \n",
    "   \n",
    "3. Un mapa conceptual que resuma la clase elaborado en Graphviz de python con nodos y edges de diferentes formas, colores y rellenos y renderizado en la siguiente ubicación: `\"C:\\Users\\marco\\Downloads\"`.  No olvides el parámetro `view = True` para el método `render()` de Graphviz. Para este mapa controla las superposiciones de los nodos con: graph [overlap=false]; // Elimina superposiciones (puede aumentar el espacio)\n",
    "graph [overlap=\"scalexy\"]; // Escala el gráfico para evitar overlaps\n",
    "graph [overlap=\"compress\"]; // Comprime el grafo sin overlaps  \n",
    "   \n",
    "4. Elementos históricos y epistemológicos relevantes para la clase, pero narrados como una historieta al estilo de un cuentero antioqueño en Colombia. Incluye imágenes de los protagonistas históricos de esta clase.  \n",
    "   \n",
    "5. Contenido de la clase:     \n",
    "   \n",
    "          \n",
    "        \n",
    "6. Actividades de aprendizaje:   \n",
    "   \n",
    "7. Incluye una canción o un poema que ayude a interiorizar y fijar los conceptos asociados a esta clase.   \n",
    "   \n",
    "8.  Tarea o actividades de ejercitación y fijación. Incluye 20 ejercicios de tarea en las que los estudiantes empiecen con la descripción geométrica del algoritmo, luego la descripción verbal y secuencial del algoritmo, después la implementación en lenguaje python editado a través de la terminal powershell de su computador y finalmente con el cálculo a mano y en su cuaderno. Crea una función de usuario de Python que asigne esta tareas a cada uno de los estudiantes matriculados en este curso tomando la ubicación de los estudiantes dada en este prompt.  \n",
    "    \n",
    "9. Evaluación incluyendo 20 proyectos, un ejemplo de quiz (con tres items) y un ejemplo de parcial (con 5 items). Incluye evaluaciones en las que los estudiantes empiecen con la descripción geométrica del algoritmo, luego la descripción verbal y secuencial del algoritmo, después la implementación en lenguaje python editado a través de la terminal powershell de su computador, y finalmente con el cálculo algebraico y numérico a mano y en su cuaderno. \n",
    "    \n",
    "10. Diseño de actividad de retroalimentación.   \n",
    "    \n",
    "11. Dame un vocabulario y frases del idioma inglés asociadas a esta clase.    \n",
    "     \n",
    "12. Incluye apéndice para la clase sobre desarrollo de habilidades para trabajar en equipo y de asertividad y empatía para relacionarnos. También elementos de la inteligencia emocional para presentar pruebas sin temor y sin realizar fraude en ellas.    \n",
    "     \n",
    "13. Incluye 10 referentes en didáctica de la matemática que estén de acuerdo a la propuesta didáctica de esta clase. Adiciona a estos referentes a Raymond Duval (Representaciones y cambios de representación para la adquisición de conceptos matemáticos) y a [Jeannette Wing](https://es.wikipedia.org/wiki/Jeannette_Wing) (Desarrollo del pensamiento computacional). Déjame todos estos referentes ordenados de acuerdo a las normas APA. Al crear la clase, introduce las citas de estos autores en el texto de la clase.\n",
    "\n",
    "\n",
    "Pero  que este diseño sea para que el estudiante pueda aprender experimentando en cuadernos Jupyter con funciones de usuario y animaciones y visualizaciones en python.   \n",
    "\n",
    "En particular utiliza para el diseño de clase a Numpy, Pandas, SymPy, Matplotlib.pyplot, Seaborn, Plotly, ipywidgets, matplotlib.animation, TensorFlow, Keras y Jupyter Notebook.    \n",
    "\n",
    "Cada vez que utilices `matplotlib.animacion` no olvides incluir el uso de `IPython. display` para la rederización de estas animaciones a través de Jupyter Notebook. No olvides darme los diseños de clase con las ecuaciones matemáticas delimitadas con signo de dolar $ para que VS Code si me renderice estas expresiones del lenguaje latex. Cuando vallas a utilizar ipywidgets ten en cuenta la siguiente importación inicial para garantizar que la visualización interactiva si se renderice en VS Code:   \n",
    "\n",
    "import numpy as np  \n",
    "import matplotlib.pyplot as plt  \n",
    "import ipywidgets as widgets  \n",
    "\n",
    "\n",
    "\n"
   ]
  },
  {
   "cell_type": "markdown",
   "id": "f39ebbcb",
   "metadata": {},
   "source": [
    "# **5/08/2025**  | Números reales, potenciación, radicación.                                | Clase teórica + ejercicios prácticos. | "
   ]
  },
  {
   "cell_type": "markdown",
   "id": "e75bfdbd",
   "metadata": {},
   "source": [
    "# Diseño de Clase: \"Números Reales, Potenciación y Radicación\" con Enfoque STEAM, ABPP y TRRS\n"
   ]
  },
  {
   "cell_type": "markdown",
   "id": "49e437c8",
   "metadata": {},
   "source": [
    "\n",
    "## 1. Título de la Clase\n",
    "**\"Explorando el Universo de los Números Reales: Un Viaje desde Pitágoras hasta Python\"**\n"
   ]
  },
  {
   "cell_type": "markdown",
   "id": "9ba51bb8",
   "metadata": {},
   "source": [
    "\n",
    "## 2. Objetivos de Aprendizaje\n"
   ]
  },
  {
   "cell_type": "markdown",
   "id": "8087ea54",
   "metadata": {},
   "source": [
    "- **Objetivo Conceptual**: Comprender la estructura de los números reales ($\\mathbb{R}$) y sus operaciones fundamentales (potenciación y radicación) mediante representaciones múltiples (simbólica, gráfica, numérica).\n"
   ]
  },
  {
   "cell_type": "markdown",
   "id": "4d310a0f",
   "metadata": {},
   "source": [
    "- **Objetivo Procedimental**: Implementar algoritmos de potenciación y radicación de manera manuscrita y en Python usando SymPy y visualizar sus propiedades con Matplotlib/Plotly.\n"
   ]
  },
  {
   "cell_type": "markdown",
   "id": "979f3017",
   "metadata": {},
   "source": [
    "- **Objetivo Actitudinal**: Valorar el desarrollo histórico de los sistemas numéricos y su impacto en la ciencia moderna.\n"
   ]
  },
  {
   "cell_type": "markdown",
   "id": "6c8f72de",
   "metadata": {},
   "source": [
    "\n",
    "**Indicadores de Logro**:\n",
    "- El estudiante representa números reales en la recta numérica usando su cuaderno para notas manuscritas y Plotly y matplotlib.\n"
   ]
  },
  {
   "cell_type": "markdown",
   "id": "4b9c0738",
   "metadata": {},
   "source": [
    "- Resuelve problemas contextualizados (STEAM) que involucran potencias y raíces.\n"
   ]
  },
  {
   "cell_type": "markdown",
   "id": "bb921e61",
   "metadata": {},
   "source": [
    "- Crea una función Python que automatice cambios entre representaciones (simbólica ↔ gráfica). Y que sepa hacer estos cambios de representeción de manera manuscrita. \n"
   ]
  },
  {
   "cell_type": "markdown",
   "id": "de177cf6",
   "metadata": {},
   "source": [
    "\n",
    "# 3. Mapa Conceptual (Graphviz)\n"
   ]
  },
  {
   "cell_type": "code",
   "execution_count": null,
   "id": "67a55169",
   "metadata": {},
   "outputs": [],
   "source": [
    "from graphviz import Digraph\n",
    "\n",
    "# Configuración del grafo\n",
    "dot = Digraph(comment='Números Reales', \n",
    "              graph_attr={'overlap': 'scalexy', 'splines': 'true', 'fontsize': '12'},\n",
    "              node_attr={'shape': 'box3d', 'style': 'filled', 'fillcolor': 'lightblue'})\n",
    "\n",
    "# Nodos principales\n",
    "dot.node('A', 'Números Reales (ℝ)', shape='doubleoctagon', fillcolor='coral')\n",
    "dot.node('B', 'Propiedades', shape='ellipse', fillcolor='lightgreen')\n",
    "dot.node('C', 'Operaciones', shape='ellipse', fillcolor='lightyellow')\n",
    "dot.node('D', 'Representaciones', shape='ellipse', fillcolor='plum')\n",
    "\n",
    "# Subnodos\n",
    "dot.node('B1', 'Completitud\\nDensidad', shape='note')\n",
    "dot.node('B2', 'Axiomas de campo', shape='note')\n",
    "dot.node('C1', 'Potenciación\\n$a^n$', shape='component')\n",
    "dot.node('C2', 'Radicación\\n$\\\\sqrt[n]{a}$', shape='component')\n",
    "dot.node('D1', 'Recta numérica', shape='tab')\n",
    "dot.node('D2', 'Notación científica', shape='tab')\n",
    "dot.node('D3', 'Python (SymPy)', shape='tab')\n",
    "\n",
    "# Conexiones\n",
    "dot.edges(['AB', 'AC', 'AD'])\n",
    "dot.edges([('B', 'B1'), ('B', 'B2'), ('C', 'C1'), ('C', 'C2'), ('D','D1'), ('D', 'D2'), ('D', 'D3')])\n",
    "\n",
    "# Conexiones especiales\n",
    "dot.edge('C1', 'D1', label='Visualización', style='dashed')\n",
    "dot.edge('C2', 'D3', label='Cálculo', style='dashed')\n",
    "\n",
    "# Renderizar\n",
    "dot.render('C:/Users/marco/Downloads/numeros_reales', format='png', view=True)\n",
    "\n"
   ]
  },
  {
   "cell_type": "markdown",
   "id": "9554eaaf",
   "metadata": {},
   "source": [
    "\n",
    "## 4. Historia Epistemológica (Estilo Cuentero Antioqueño)\n"
   ]
  },
  {
   "cell_type": "markdown",
   "id": "9f73cbda",
   "metadata": {},
   "source": [
    "\n",
    "*\"¡A ver mijitos! Siéntense que les voy a contar la historia de don Pitágoras y su pelea con los números que no eran 'perfectos'...\"*\n",
    "\n",
    "\n",
    "\n",
    "<img src = ''>"
   ]
  },
  {
   "cell_type": "markdown",
   "id": "53ef36c5",
   "metadata": {},
   "source": [
    "\n",
    "*\"Resulta que don Pitágoras y su cuadrilla de matemáticos creían que todos los números podían escribirse como fracciones de enteros. Pero un día, Hipaso de Metaponto (un rebelde del grupo) descubrió que la diagonal de un cuadrado de lado 1 (lo que hoy llamamos $\\sqrt{2}$) ¡no era racional! Esto causó tanto escándalo que dicen lo tiraron al mar por revelar el secreto.\"*\n",
    "\n",
    "![Hipaso](https://upload.wikimedia.org/wikipedia/commons/thumb/5/5a/Hippasus.jpg/220px-Hippasus.jpg)\n"
   ]
  },
  {
   "cell_type": "markdown",
   "id": "f25c5ac5",
   "metadata": {},
   "source": [
    "\n",
    "*\"Y así fue como los griegos tuvieron que aceptar que existían números 'irracionales', completando junto con los racionales lo que hoy llamamos los números reales.\"*\n"
   ]
  },
  {
   "cell_type": "markdown",
   "id": "8771360f",
   "metadata": {},
   "source": [
    "\n",
    "# 5. Contenido de la Clase (Jupyter Notebook)\n"
   ]
  },
  {
   "cell_type": "markdown",
   "id": "068d96c1",
   "metadata": {},
   "source": [
    "\n",
    "Tomado de la página 31 del PDF de [Precálculo de Stewart](chrome-extension://efaidnbmnnnibpcajpcglclefindmkaj/https://students.aiu.edu/submissions/profiles/resources/onlineBook/k6L8A3_precalculo_-_matematicas_para_el_calculo-1.pdf)\n",
    "\n",
    "Y Tomado de la página 21 del PDF de [Swokwnski](https://drive.google.com/file/d/0B4SOqZkS-WzVLXJCX2VYT2Z1UTg/view?resourcekey=0-Ve_jBSqKb_AJc-HR4bjYpQ)  "
   ]
  },
  {
   "cell_type": "markdown",
   "id": "b03c75ff",
   "metadata": {},
   "source": [
    "Los números reales se usan en toda la matemática y el estudiante debe estar familiarizado con los símbolos que los representan, por ejemplo  \n",
    "\n",
    " $$ 1, 73, -5, \\frac{49}{12}, \\sqrt{2}, 0, \\sqrt[3]{-85}, 0.333\\ldots, 596.25 $$"
   ]
  },
  {
   "cell_type": "markdown",
   "id": "bee7d472",
   "metadata": {},
   "source": [
    "Repasemos los tipos de números que conforman el sistema de números reales. Empecemos con los números naturales: \n",
    "\n",
    "$$ \\mathbb{N} = \\{ 0, 1, 2, 3, \\ldots \\} $$  "
   ]
  },
  {
   "cell_type": "markdown",
   "id": "6746891d",
   "metadata": {},
   "source": [
    "# Cualidades de los Naturales que se derivan de esta definición: \n",
    "\n",
    "\n",
    "1. Los números naturales tienen primer elemento o mínimo. \n",
    "2. Son infinitos. \n",
    "3. Todo número natural tiene siguiente. Pero no tido número natural tiene antecesor.  \n",
    "4. Son discretos: Entre dos naturales consecutivos, no existe otro número natural.  "
   ]
  },
  {
   "cell_type": "markdown",
   "id": "e2a02817",
   "metadata": {},
   "source": [
    "Los enteros constan de los números naturales junto con sus negativos y 0:\n",
    "\n",
    "$$ \\mathbb{Z} = \\{ \\ldots, -4, -3, -2, -1, 0, 1, 2, 3, 4, \\ldots \\} $$"
   ]
  },
  {
   "cell_type": "markdown",
   "id": "2c99dfb4",
   "metadata": {},
   "source": [
    "# Cualidades de los enteros que se derivan de esta definición: \n",
    "\n",
    "\n",
    "1. Los enteros no tienen primer elementos ni último elemento. \n",
    "2. Son infinitos. \n",
    "3. Todo entero tiene siguiente. Diremos que dado un entero y su siguiente, a elos los llamaresmos enteros consecutivos. \n",
    "4. Todo entero tiene siguiente y antesesor. "
   ]
  },
  {
   "cell_type": "markdown",
   "id": "99754c4b",
   "metadata": {},
   "source": [
    "Un enteropositivo $p$ diferentede1esprimosisusúnicosfactorespositi\n",
    "vosson1yp."
   ]
  },
  {
   "cell_type": "markdown",
   "id": "42eda960",
   "metadata": {},
   "source": [
    "Los primeros números primos son $2, 3, 5, 7, 11, 13, 17$ y $19$.  "
   ]
  },
  {
   "cell_type": "markdown",
   "id": "77a2a8c3",
   "metadata": {},
   "source": [
    "El teorema fundamental de la aritmética expresa que todo entero positivo diferente de 1 se puede expresar como el producto de números primos en una  forma y sólo una (excepto por el orden de los factores). "
   ]
  },
  {
   "cell_type": "markdown",
   "id": "019d4344",
   "metadata": {},
   "source": [
    "Algunos ejemplos son:  "
   ]
  },
  {
   "cell_type": "code",
   "execution_count": null,
   "id": "1eeb66a5",
   "metadata": {},
   "outputs": [],
   "source": [
    "def primeros_n_primos(n):\n",
    "    \"\"\"Devuelve una lista con los primeros n números primos.\"\"\"\n",
    "    primos = []\n",
    "    candidato = 2\n",
    "    while len(primos) < n:\n",
    "        es_primo = all(candidato % p != 0 for p in primos if p * p <= candidato)\n",
    "        if es_primo:\n",
    "            primos.append(candidato)\n",
    "        candidato += 1\n",
    "    return primos\n"
   ]
  },
  {
   "cell_type": "code",
   "execution_count": null,
   "id": "e9c1d03f",
   "metadata": {},
   "outputs": [],
   "source": [
    "\n",
    "# Ejemplo de uso:\n",
    "print(primeros_primos(21))  # [2, 3, 5, 7, 11, 13, 17, 19, 23, 29]"
   ]
  },
  {
   "cell_type": "code",
   "execution_count": null,
   "id": "142f904f",
   "metadata": {},
   "outputs": [],
   "source": [
    "primeros_n_primos(12)"
   ]
  },
  {
   "cell_type": "code",
   "execution_count": null,
   "id": "73153093",
   "metadata": {},
   "outputs": [],
   "source": [
    "def descomposicion_factores_primos(n):\n",
    "    \"\"\"\n",
    "    Devuelve la descomposición en factores primos de un entero positivo n > 1.\n",
    "    Retorna una lista con los factores primos en orden ascendente.\n",
    "    \"\"\"\n",
    "    if n <= 1 or not isinstance(n, int):\n",
    "        raise ValueError(\"n debe ser un entero positivo mayor que 1\")\n",
    "    factores = []\n",
    "    divisor = 2\n",
    "    while n > 1:\n",
    "        while n % divisor == 0:\n",
    "            factores.append(divisor)\n",
    "            n //= divisor\n",
    "        divisor += 1\n",
    "        if divisor * divisor > n and n > 1:\n",
    "            factores.append(n)\n",
    "            break\n",
    "    return factores\n"
   ]
  },
  {
   "cell_type": "code",
   "execution_count": null,
   "id": "9d1fde03",
   "metadata": {},
   "outputs": [],
   "source": [
    "\n",
    "# Ejemplo de uso:\n",
    "print(descomposicion_factores_primos(20))  # Salida: [2, 2, 3, 7]"
   ]
  },
  {
   "cell_type": "markdown",
   "id": "8e92e525",
   "metadata": {},
   "source": [
    "# Numeros racionales \n",
    "\n",
    "Racional - razón - división - cociente \n",
    "\n",
    "Un número racional entoces es aquell que se deja expresar como divición, razón o ciente de enteros: \n",
    "\n",
    "Como $a \\in \\mathbb{Z}$  es racional pues \n",
    "\n",
    "$$ a = \\frac{a}{1} $$\n",
    "\n",
    "por lo tanto $a$ es racional. \n",
    "\n",
    "$$ \\mathbb{Z} \\subset \\mathbb{Q} $$\n",
    "\n",
    "$\\subset$ es para denotar un subconjunto propio. "
   ]
  },
  {
   "cell_type": "markdown",
   "id": "24677ec6",
   "metadata": {},
   "source": [
    "# Representación decimal de un número real  \n",
    "\n",
    "Claro, Marco. Aquí tienes una definición de **representación decimal de un número real** en lenguaje LaTeX, expresada como suma finita o infinita de fracciones con denominador potencia de 10:\n",
    "\n",
    "---\n",
    "\n",
    "Un **número real** \\$x\\$ tiene una **representación decimal** como una suma finita o infinita de fracciones decimales, es decir, fracciones cuyo denominador es una potencia de \\$10\\$. Esta representación toma la forma:\n",
    "\n",
    "$$\n",
    "x = a_k 10^k + a_{k-1} 10^{k-1} + \\cdots + a_1 10^1 + a_0 + a_{-1} 10^{-1} + a_{-2} 10^{-2} + \\cdots\n",
    "$$\n",
    "\n",
    "donde cada coeficiente \\$a\\_i\\$ es un dígito decimal tal que \\$a\\_i \\in {0, 1, 2, \\dots, 9}\\$ y \\$k \\in \\mathbb{Z}\\$.\n",
    "\n",
    "Equivalente y más compactamente, puede escribirse como:\n",
    "\n",
    "$$\n",
    "x = \\sum_{i = -\\infty}^{k} a_i \\cdot 10^i\n",
    "$$\n",
    "\n",
    "si la expansión es infinita, o:\n",
    "\n",
    "$$\n",
    "x = \\sum_{i = m}^{k} a_i \\cdot 10^i\n",
    "$$\n",
    "\n",
    "si es una suma **finita**, con \\$m \\leq k\\$ y \\$a\\_i = 0\\$ para todo \\$i < m\\$.\n",
    "\n",
    "---\n",
    "\n",
    "¿Deseas también una versión en texto plano o insertarla en un Jupyter notebook?\n"
   ]
  },
  {
   "cell_type": "code",
   "execution_count": null,
   "id": "15f20975",
   "metadata": {},
   "outputs": [],
   "source": [
    "from fractions import Fraction\n",
    "\n",
    "def analizar_decimal(n, m):\n",
    "    \"\"\"\n",
    "    Dado el numerador n y denominador m de una fracción n/m,\n",
    "    retorna:\n",
    "    - su representación decimal,\n",
    "    - si es finita o periódica infinita,\n",
    "    - y el periodo si es periódica.\n",
    "    \"\"\"\n",
    "    fr = Fraction(n, m)\n",
    "    decimal = n / m\n",
    "\n",
    "    # Determinar si la fracción tiene decimal finito\n",
    "    # Un decimal es finito si el denominador en su forma irreducible solo tiene factores 2 y/o 5\n",
    "    d = fr.denominator\n",
    "    d_temp = d\n",
    "    for p in [2, 5]:\n",
    "        while d_temp % p == 0 and d_temp > 1:\n",
    "            d_temp //= p\n",
    "    es_finito = (d_temp == 1)\n",
    "\n",
    "    if es_finito:\n",
    "        return {\n",
    "            \"decimal\": str(decimal),\n",
    "            \"tipo\": \"finito\",\n",
    "            \"periodo\": None\n",
    "        }\n",
    "    else:\n",
    "        # Encontrar periodo de la parte periódica\n",
    "        # Usamos el algoritmo de la división larga\n",
    "        restos = {}\n",
    "        periodo = \"\"\n",
    "        parte_entera = n // m\n",
    "        resto = n % m\n",
    "        idx = 0\n",
    "        while resto and resto not in restos:\n",
    "            restos[resto] = idx\n",
    "            resto *= 10\n",
    "            digito = resto // m\n",
    "            periodo += str(digito)\n",
    "            resto = resto % m\n",
    "            idx += 1\n",
    "        if resto == 0:\n",
    "            return {\n",
    "                \"decimal\": str(decimal),\n",
    "                \"tipo\": \"finito\",\n",
    "                \"periodo\": None\n",
    "            }\n",
    "        else:\n",
    "            inicio = restos[resto]\n",
    "            periodo_real = periodo[inicio:]\n",
    "            return {\n",
    "                \"decimal\": str(decimal),\n",
    "                \"tipo\": \"periódico infinito\",\n",
    "                \"periodo\": periodo_real\n",
    "            }\n"
   ]
  },
  {
   "cell_type": "code",
   "execution_count": null,
   "id": "8467e53f",
   "metadata": {},
   "outputs": [],
   "source": [
    "\n",
    "# Ejemplo de uso:\n",
    "print(analizar_decimal(1, 2))"
   ]
  },
  {
   "cell_type": "code",
   "execution_count": null,
   "id": "1460f993",
   "metadata": {},
   "outputs": [],
   "source": [
    "1/7"
   ]
  },
  {
   "cell_type": "markdown",
   "id": "4807911f",
   "metadata": {},
   "source": [
    "# Los números irracionales  \n",
    "\n",
    "Tomado de la página 21 del PDF de [Skowski]()\n",
    "\n",
    "Página 2 del libro de Skowski. \n",
    "\n",
    "Sección 1.1 Números reales  \n",
    "\n"
   ]
  },
  {
   "cell_type": "markdown",
   "id": "6c96372b",
   "metadata": {},
   "source": [
    "Los números reales que no son racionales son números irracionales."
   ]
  },
  {
   "cell_type": "markdown",
   "id": "240f4703",
   "metadata": {},
   "source": [
    "Las representaciones decimales para números irracionales son siempre nofinitas y  no periódicas."
   ]
  },
  {
   "cell_type": "code",
   "execution_count": null,
   "id": "d6598e11",
   "metadata": {},
   "outputs": [
    {
     "data": {
      "text/plain": [
       "np.float64(1.4142135623730951)"
      ]
     },
     "execution_count": 6,
     "metadata": {},
     "output_type": "execute_result"
    }
   ],
   "source": [
    "import numpy as np # visualización con solo 16 cifras decimales  \n",
    "\n",
    "np.sqrt(2)"
   ]
  },
  {
   "cell_type": "markdown",
   "id": "66fe18d9",
   "metadata": {},
   "source": [
    "Para obtener más de 16 cifras decimales al calcular la raíz cuadrada de 2 con NumPy, necesitas configurar la precisión de salida de NumPy. Por defecto, NumPy muestra solo 8 dígitos para flotantes, pero puedes aumentar esto usando `np.set_printoptions`. Aquí está el código completo:\n"
   ]
  },
  {
   "cell_type": "code",
   "execution_count": null,
   "id": "b6734b86",
   "metadata": {},
   "outputs": [
    {
     "name": "stdout",
     "output_type": "stream",
     "text": [
      "1.4142135623730951\n"
     ]
    }
   ],
   "source": [
    "import numpy as np\n",
    "\n",
    "# Configurar la precisión de salida a 20 dígitos decimales\n",
    "np.set_printoptions(precision=20)\n",
    "\n",
    "# Calcular y mostrar la raíz cuadrada de 2 con alta precisión\n",
    "resultado = np.sqrt(2)\n",
    "print(resultado)\n",
    "\n"
   ]
  },
  {
   "cell_type": "markdown",
   "id": "0fa06e44",
   "metadata": {},
   "source": [
    "\n",
    "Esto mostrará la raíz cuadrada de 2 con 20 dígitos decimales. Si necesitas aún más precisión, puedes aumentar el valor en `precision` (hasta un límite razonable, generalmente alrededor de 50 dígitos para flotantes de 64 bits).\n",
    "\n",
    "Si necesitas cálculos con precisión arbitraria (más allá de los límites de los flotantes de 64 bits), podrías considerar usar el módulo `decimal` de Python:\n"
   ]
  },
  {
   "cell_type": "code",
   "execution_count": 10,
   "id": "f4b72639",
   "metadata": {},
   "outputs": [
    {
     "name": "stdout",
     "output_type": "stream",
     "text": [
      "1.41421356237309504880168872420969807856967187537694807317668\n"
     ]
    }
   ],
   "source": [
    "\n",
    "from decimal import Decimal, getcontext\n",
    "\n",
    "# Configurar la precisión a 50 dígitos\n",
    "getcontext().prec = 60\n",
    "\n",
    "# Calcular la raíz cuadrada de 2 con alta precisión\n",
    "resultado = Decimal(2).sqrt()\n",
    "print(resultado)\n"
   ]
  },
  {
   "cell_type": "markdown",
   "id": "19737130",
   "metadata": {},
   "source": [
    "Un número irracional común, denotado por $\\pi$, es la razón entre la circunferencia de un círculo y su diámetro."
   ]
  },
  {
   "cell_type": "code",
   "execution_count": 13,
   "id": "c9bc9690",
   "metadata": {},
   "outputs": [
    {
     "data": {
      "application/vnd.jupyter.widget-view+json": {
       "model_id": "cb8b6347b9814aab950342959bf98951",
       "version_major": 2,
       "version_minor": 0
      },
      "text/plain": [
       "interactive(children=(FloatSlider(value=1.0, description='Radio', max=5.0, min=0.5), Output()), _dom_classes=(…"
      ]
     },
     "metadata": {},
     "output_type": "display_data"
    }
   ],
   "source": [
    "# Circunferencia interactiva: radio, diámetro, longitud y razón L/D\n",
    "import numpy as np\n",
    "import matplotlib.pyplot as plt\n",
    "import ipywidgets as widgets\n",
    "from ipywidgets import interact\n",
    "from math import pi\n",
    "\n",
    "@interact(radio=widgets.FloatSlider(value=1, min=0.5, max=5, step=0.1, description='Radio'))\n",
    "def circunferencia_interactiva(radio):\n",
    "    fig, ax = plt.subplots(figsize=(6,6))\n",
    "    # Circunferencia\n",
    "    theta = np.linspace(0, 2*np.pi, 400)\n",
    "    x = radio * np.cos(theta)\n",
    "    y = radio * np.sin(theta)\n",
    "    ax.plot(x, y, label='Circunferencia', color='blue')\n",
    "    # Diámetro\n",
    "    ax.plot([-radio, radio], [0, 0], color='red', lw=2, label='Diámetro')\n",
    "    # Centro\n",
    "    ax.plot(0, 0, 'ko')\n",
    "    # Texto de medidas\n",
    "    longitud = 2 * pi * radio\n",
    "    diametro = 2 * radio\n",
    "    razon = longitud / diametro\n",
    "    ax.set_aspect('equal')\n",
    "    ax.set_xlim(-radio*1.2, radio*1.2)\n",
    "    ax.set_ylim(-radio*1.2, radio*1.2)\n",
    "    ax.axis([-10,10, -10,10])\n",
    "    ax.set_title('Circunferencia y su diámetro')\n",
    "    ax.legend(loc='upper right')\n",
    "    ax.grid(alpha=0.3)\n",
    "    # Mostrar valores\n",
    "    ax.text(0, -radio*1.1, f\"Longitud (L): {longitud:.3f}\", ha='center', color='blue', fontsize=12)\n",
    "    ax.text(0, -radio*1.25, f\"Diámetro (D): {diametro:.3f}\", ha='center', color='red', fontsize=12)\n",
    "    ax.text(0, radio*1.05, f\"Razón L/D: {razon:.5f}\", ha='center', color='green', fontsize=13, fontweight='bold')\n",
    "    plt.show()"
   ]
  },
  {
   "cell_type": "markdown",
   "id": "2509d448",
   "metadata": {},
   "source": [
    "Aveces usamos la notación  p 3.1416paraindicarquepesaproximadamenteiguala3.1416.\n",
    " Nohaynúmeroracionalbtalqueb2 2,dondeb2denotab b,perohay\n",
    " unnúmero irracional denotadopor (la raíz cuadradade2), tal que\n",
    " .\n",
    " Elsistemadenúmerosrealesestáformadoportodoslosnúmerosracio\n",
    "naleseirracionales.Lasrelacionesentrelostiposdenúmerosempleadosen\n",
    " álgebraestánilustradaseneldiagramade lafigura1, dondeuna líneaque\n",
    " enlazadosrectángulossignificaquelosnúmerosmencionadosenel rectán\n",
    "gulomásaltoincluyenlosdel rectángulomásbajo.Losnúmeroscomplejos,\n",
    " queseestudianenlasección2.4,contienenatodoslosnúmerosreales."
   ]
  },
  {
   "cell_type": "code",
   "execution_count": null,
   "id": "3c42862f",
   "metadata": {},
   "outputs": [],
   "source": []
  },
  {
   "cell_type": "code",
   "execution_count": null,
   "id": "ac8ad556",
   "metadata": {},
   "outputs": [],
   "source": []
  },
  {
   "cell_type": "code",
   "execution_count": null,
   "id": "8d3715c7",
   "metadata": {},
   "outputs": [],
   "source": []
  },
  {
   "cell_type": "code",
   "execution_count": null,
   "id": "9dadd194",
   "metadata": {},
   "outputs": [],
   "source": []
  },
  {
   "cell_type": "code",
   "execution_count": null,
   "id": "abab43e9",
   "metadata": {},
   "outputs": [],
   "source": [
    "import numpy as np\n",
    "import sympy as sp\n",
    "import plotly.graph_objects as go\n",
    "from IPython.display import display, HTML\n",
    "import ipywidgets as widgets\n",
    "from matplotlib.animation import FuncAnimation\n",
    "from IPython.display import HTML\n",
    "\n",
    "# Configuración inicial\n",
    "x = sp.symbols('x')\n",
    "display(HTML(\"<h3>1. Exploración Interactiva de ℝ</h3>\"))\n",
    "\n",
    "# Widget para explorar números reales\n",
    "def plot_real_number(a):\n",
    "    fig = go.Figure()\n",
    "    fig.add_trace(go.Scatter(x=np.linspace(-2, 2, 5), y=np.zeros(5), \n",
    "                            mode='markers+lines', name='Recta real'))\n",
    "    fig.add_trace(go.Scatter(x=[a], y=[0], mode='markers', \n",
    "                            marker=dict(size=15, color='red'), name=f'x = {a:.3f}'))\n",
    "    fig.update_layout(title=f'Representación de x = {a:.3f} en la recta real',\n",
    "                     xaxis_title='Números Reales (ℝ)')\n",
    "    fig.show()\n",
    "\n",
    "widgets.interact(plot_real_number, a=widgets.FloatSlider(min=-2, max=2, step=0.1, value=0.5));\n",
    "\n"
   ]
  },
  {
   "cell_type": "markdown",
   "id": "3e45e725",
   "metadata": {},
   "source": [
    "\n",
    "## 6. Actividades de Aprendizaje ABPP\n",
    "\n",
    "**Proyecto STEAM**: \"Modelando el Crecimiento Bacteriano\"\n",
    "- **Ciencia**: Analizar crecimiento exponencial de bacterias ($N(t) = N_0 e^{kt}$)\n",
    "- **Tecnología**: Implementar modelo en Python con TensorFlow\n",
    "- **Ingeniería**: Optimizar tiempo de duplicación\n",
    "- **Artes**: Visualizar con animaciones Matplotlib\n",
    "- **Matemáticas**: Resolver ecuaciones exponenciales\n"
   ]
  },
  {
   "cell_type": "markdown",
   "id": "354794a4",
   "metadata": {},
   "source": [
    "# Animación de crecimiento exponencial\n"
   ]
  },
  {
   "cell_type": "code",
   "execution_count": null,
   "id": "ad2dc449",
   "metadata": {},
   "outputs": [],
   "source": [
    "import numpy as np \n",
    "import matplotlib.pyplot as plt \n",
    "from matplotlib.animation import FuncAnimation\n",
    "from IPython.display import HTML  \n",
    "\n",
    "fig, ax = plt.subplots()\n",
    "xdata, ydata = [], []\n",
    "ln, = plt.plot([], [], 'r-', animated=True)\n",
    "ax.grid(alpha = 0.5) \n",
    "\n",
    "def init():\n",
    "    ax.set_xlim(0, 10)\n",
    "    ax.set_ylim(0, 100)\n",
    "    ax.set_title('Crecimiento Bacteriano: $N(t) = N_0 e^{kt}$')\n",
    "    return ln,\n",
    "\n",
    "def update(frame):\n",
    "    xdata.append(frame)\n",
    "    ydata.append(10 * np.exp(0.5 * frame))\n",
    "    ln.set_data(xdata, ydata)\n",
    "    return ln,\n",
    "\n",
    "ani = FuncAnimation(fig, update, frames=np.linspace(0, 10, 100),\n",
    "                    init_func=init, blit=True)\n",
    "HTML(ani.to_jshtml())\n",
    "\n"
   ]
  },
  {
   "cell_type": "code",
   "execution_count": null,
   "id": "94e175f8",
   "metadata": {},
   "outputs": [],
   "source": [
    "\n",
    "## 7. Canción/Poema Matemático\n"
   ]
  },
  {
   "cell_type": "markdown",
   "id": "bdcc3731",
   "metadata": {},
   "source": [
    "\n",
    "**\"El Blues del Exponente\"** (Para cantar con ritmo de blues)\n",
    "\n",
    "*\"Si tienes una base y un exponente natural,  \n",
    "multiplica la base las veces que diga el numeral.  \n",
    "Pero si el exponente es cero, no te vas a preocupar,  \n",
    "¡porque todo número elevado a cero es uno, no más!\"*\n"
   ]
  },
  {
   "cell_type": "markdown",
   "id": "1a7ac860",
   "metadata": {},
   "source": [
    "\n",
    "## 8. Tarea Automatizada\n"
   ]
  },
  {
   "cell_type": "code",
   "execution_count": null,
   "id": "76615b1e",
   "metadata": {},
   "outputs": [],
   "source": [
    "\n",
    "```python\n",
    "import pandas as pd\n",
    "import random\n",
    "from sympy import sqrt, Pow, latex\n",
    "\n",
    "def generar_tarea(lista_estudiantes):\n",
    "    ejercicios = []\n",
    "    for i in range(1, 21):\n",
    "        a = random.randint(1, 10)\n",
    "        b = random.randint(2, 5)\n",
    "        ejercicios.append({\n",
    "            'Ejercicio': i,\n",
    "            'Descripción': f\"Calcular ${a}^{b}$ y $\\\\sqrt[{b}]{{{a**b}}}$\",\n",
    "            'Python': f\"print({a}**{b}, {a**b}**(1/{b}))\"\n",
    "        })\n",
    "    \n",
    "    df = pd.DataFrame(ejercicios)\n",
    "    # Guardar tarea personalizada por estudiante\n",
    "    estudiantes = pd.read_excel(\"https://github.com/marco-canas/groups_list/blob/main/algebra_and_trigonometry.xlsx\")\n",
    "    for _, estudiante in estudiantes.iterrows():\n",
    "        df.to_excel(f\"Tarea_{estudiante['Nombre']}.xlsx\", index=False)\n",
    "    \n",
    "    return df\n",
    "\n",
    "generar_tarea(\"lista_estudiantes_url\")\n",
    "```\n",
    "\n",
    "## 9. Evaluación\n",
    "\n",
    "**Quiz Ejemplo**:\n",
    "1. Represente $\\sqrt{3}$ en la recta real usando regla y compás (TRRS)\n",
    "2. Implemente en Python una función que calcule $x^n$ usando recursión\n",
    "3. Explique por qué $(-1)^{1/2}$ no es un número real\n",
    "\n",
    "**Parcial Ejemplo**:\n",
    "1. Demuestre que $\\sqrt{2}$ es irracional (Historia)\n",
    "2. Modele el decaimiento radioactivo con $N(t) = N_0 e^{-λt}$ (STEAM)\n",
    "3. Cree una animación de potencias crecientes (Python)\n",
    "4. Resuelva $2^{x+1} = 8^{x-1}$ (Simbólico)\n",
    "5. Grafique $f(x) = x^{1/n}$ para n=2,3,4 (Visual)\n",
    "\n",
    "## 10. Retroalimentación\n",
    "\n",
    "**Estrategia TRRS**: \n",
    "1. Recolectar representaciones estudiantiles (dibujos, código, explicaciones)\n",
    "2. Identificar cambios problemáticos (ej: confundir $x^{1/2}$ con $x/2$)\n",
    "3. Taller de conversión entre:\n",
    "   ```python\n",
    "   # Representación simbólica ↔ gráfica\n",
    "   def convert_rep(expr):\n",
    "       sp.plot(expr, (x, -5, 5), title=f\"Gráfica de ${latex(expr)}$\")\n",
    "   ```\n"
   ]
  },
  {
   "cell_type": "markdown",
   "id": "0366f4ff",
   "metadata": {},
   "source": [
    "\n",
    "## 11. Vocabulario Inglés\n",
    "\n",
    "- **Real numbers**: Números reales\n",
    "- **Exponentiation**: Potenciación\n",
    "- **Nth root**: Raíz n-ésima\n",
    "- **Scientific notation**: Notación científica\n",
    "- **Closure property**: Propiedad de clausura\n"
   ]
  },
  {
   "cell_type": "markdown",
   "id": "4c16cba7",
   "metadata": {},
   "source": [
    "\n",
    "## 12. Apéndice: Habilidades Blandas\n",
    "\n",
    "**Técnica \"Piensa-Aloud Pair Problem Solving\"** (PAPPS):\n",
    "1. Estudiante A explica su proceso mientras resuelve\n",
    "2. Estudiante B escucha y pregunta (no corrige)\n",
    "3. Rotar roles para cada problema\n",
    "\n",
    "**Prevención de Fraude**:\n"
   ]
  },
  {
   "cell_type": "code",
   "execution_count": null,
   "id": "769c1f1e",
   "metadata": {},
   "outputs": [],
   "source": [
    "# Función para generar pruebas únicas\n",
    "def generar_prueba_unica(seed):\n",
    "    np.random.seed(seed)\n",
    "    return np.random.choice(problemas, size=5, replace=False)\n",
    "\n"
   ]
  },
  {
   "cell_type": "markdown",
   "id": "4284c854",
   "metadata": {},
   "source": [
    "\n",
    "## 13. Referentes Didácticos (APA)\n",
    "\n",
    "1. Duval, R. (2006). *Un tema crucial en la educación matemática: La habilidad para cambiar el registro de representación*. Traducción al español.\n",
    "2. Wing, J. M. (2006). *Computational thinking*. Communications of the ACM, 49(3), 33-35.\n",
    "3. Schoenfeld, A. H. (1985). *Mathematical Problem Solving*. Academic Press.\n",
    "4. Lesh, R., & Doerr, H. M. (2003). *Beyond constructivism: Models and modeling perspectives on mathematics problem solving, learning, and teaching*. Routledge.\n",
    "\n",
    "*\"Como dice Duval (2006), 'la comprensión en matemáticas requiere la coordinación de al menos dos registros de representación'. En esta clase, integraremos lo simbólico (SymPy), gráfico (Matplotlib) y verbal (explicaciones) para una comprensión robusta.\"*"
   ]
  },
  {
   "cell_type": "markdown",
   "id": "596bbb56",
   "metadata": {},
   "source": [
    "# Función de asignación de tareas  para el curso de Álgebra y trigonometría  \n",
    "\n"
   ]
  },
  {
   "cell_type": "code",
   "execution_count": null,
   "id": "e137bcaf",
   "metadata": {},
   "outputs": [],
   "source": [
    "import pandas as pd \n",
    "import random \n",
    "def asignar_tareas(lista_estudiantes):\n",
    "    # Leer lista de estudiantes\n",
    "    estudiantes = pd.read_excel(lista_estudiantes, engine = 'openpyxl')\n",
    "    \n",
    "    # Generar 20 ejercicios\n",
    "    ejercicios = []\n",
    "    for i in range(1, 21):\n",
    "        # Diferentes tipos de problemas\n",
    "        if i <= 5:\n",
    "            tipo = \"Álgebra (Ecuaciones polinómicas)\"\n",
    "        elif i <= 10:\n",
    "            tipo = \"Trigonometría (Identidades)\"\n",
    "        elif i <= 15:\n",
    "            tipo = \"Geometría Analítica\"\n",
    "        else:\n",
    "            tipo = \"Problemas aplicados\"\n",
    "        \n",
    "        ejercicios.append({\n",
    "            \"ID\": i,\n",
    "            \"Tipo\": tipo,\n",
    "            \"Descripción\": f\"Ejercicio {i}: Resolver problema de {tipo}\",\n",
    "            \"Python\": f\"Implementar solución para ejercicio {i}\",\n",
    "            \"Teoría\": f\"Explicación conceptual del ejercicio {i}\"\n",
    "        })\n",
    "    \n",
    "    # Asignar aleatoriamente a cada estudiante\n",
    "    tareas_asignadas = []\n",
    "    for _, estudiante in estudiantes.iterrows():\n",
    "        ejercicios_est = random.sample(ejercicios, 2)  # 2 ejercicios por estudiante\n",
    "        tareas_asignadas.append({\n",
    "            \"Estudiante\": estudiante['Nombre'],\n",
    "            \"ID_Estudiante\": estudiante['Cedula'],\n",
    "            \"Ejercicio_1\": ejercicios_est[0][\"Descripción\"],\n",
    "            \"Ejercicio_2\": ejercicios_est[1][\"Descripción\"],\n",
    "            \"Requisitos_Python\": f\"Debe implementar: {ejercicios_est[0]['Python']} y {ejercicios_est[1]['Python']}\",\n",
    "            \"Explicación_Teórica\": f\"Debe explicar: {ejercicios_est[0]['Teoría']} y {ejercicios_est[1]['Teoría']}\"\n",
    "        })\n",
    "    \n",
    "    return pd.DataFrame(tareas_asignadas)\n"
   ]
  },
  {
   "cell_type": "code",
   "execution_count": null,
   "id": "528a0dfb",
   "metadata": {},
   "outputs": [],
   "source": [
    "\n",
    "# Uso de la función\n",
    "tareas = asignar_tareas(r\"C:\\Users\\marco\\Documentos\\docencia\\groups_list\\algebra_and_trigonometry.xlsx\")\n",
    "tareas.to_excel(r\"C:\\Users\\marco\\Documentos\\docencia\\groups_list\\algebra_and_trigonometry_tareas_asignadas.xlsx\", \\\n",
    "    index=False)\n"
   ]
  },
  {
   "cell_type": "markdown",
   "id": "cc539357",
   "metadata": {},
   "source": [
    "# [Programación de programa Regiones](https://lookerstudio.google.com/reporting/44e71da0-d16f-4a51-a51e-d5ae6c19b3f1/page/p_gy4nwf37hd?pli=1)"
   ]
  },
  {
   "cell_type": "markdown",
   "id": "8ba64aed",
   "metadata": {},
   "source": [
    "# Cursos que orienta el profesor Marco Julio Cañas Campillo en 2025  \n",
    "\n",
    "1. Lunes 8 a 12: Fundamentos de Lógica: Licenciatura en Matemáticas . \n",
    "2. Martes de 8 a 40: Machine Learning and Deep Learning.  \n",
    "3. Msartes de 9 a 11 de la mañana: algebra and trigonometry.   \n",
    "4. Martes de 2 a 5 PM: Vector Geometry and Linear Algebra.  \n",
    "5. Miércoles: 10 a 11: Reunión equipo investigador SAT Dengue. \n",
    "6. Miércoles 2 a 3 PM: Asesoría Trabajo de Grado Janis (Estudiante de Biología).  \n",
    "7. Viernes 2 a 6 PM: Análisis Numérico: Programa de Licenciatura en Matemáticas."
   ]
  },
  {
   "cell_type": "markdown",
   "id": "8d41fe58",
   "metadata": {
    "slideshow": {
     "slide_type": "slide"
    }
   },
   "source": [
    "# Horario de clases del profesor Marco\n",
    "\n",
    "* Lunes 8-12:   \n",
    "* Lunes 2- 6 PM: Fundamento de Lógica.  \n",
    "* Martes 8 - 8:40 AM: Machine Learning and Deep Learning.   \n",
    "* Martes 9 a 11 AM: algebra and trigonometry\n",
    "* Miércoles 9 a 11 M: algebra and trigonometry.    \n",
    "* Miércoles de 2 a 3 PM: Asesoría Janis \n",
    "* Jueves 2 a 6 PM:  \n",
    "* Viernes 2 - 4 PM: Análisis Numérico. \n",
    "* Sábados 8-12 Asesorías y espacio para retroalimentación y apoyo al trabajo independiente. "
   ]
  },
  {
   "cell_type": "markdown",
   "id": "ae114e14",
   "metadata": {
    "slideshow": {
     "slide_type": "slide"
    }
   },
   "source": [
    "# Horarios de monitoría y asesoría  \n",
    "\n",
    "* Monitor Manuel San Juan Serrano: Contactar escribiendo al correo: manuel.serrano1@udea.edu.co"
   ]
  },
  {
   "cell_type": "markdown",
   "id": "bf0f9dbf",
   "metadata": {},
   "source": [
    "\n",
    "Coordinador de los cursos de la Facultad de Educación para regiones:    \n",
    "\n",
    "Andrés Vélez: regioneducacion.fedu@udea.edu.co  \n",
    "Coordinador Regiones  \n",
    "Facultad de Educación  \n",
    "Universidad de Antioquia  "
   ]
  },
  {
   "cell_type": "markdown",
   "id": "39559692",
   "metadata": {
    "slideshow": {
     "slide_type": "slide"
    }
   },
   "source": [
    "Martes y jueves de 8 - 12  \n",
    "Miércoles 10 - 12 y de 2 a 4 PM  \n",
    "Sábado: 8 - 12"
   ]
  },
  {
   "cell_type": "markdown",
   "id": "10bce0d0",
   "metadata": {
    "slideshow": {
     "slide_type": "slide"
    }
   },
   "source": [
    "## Referentes "
   ]
  },
  {
   "cell_type": "markdown",
   "id": "1db3c468",
   "metadata": {
    "slideshow": {
     "slide_type": "slide"
    }
   },
   "source": [
    "* [CALCULO I DE UNA VARIABLE Ron Larson-Bruce Edwards. Mc Graw Hill. 9º Edición](https://www.academia.edu/42139251/CALCULO_I_DE_UNA_VARIABLE_Ron_Larson_Bruce_Edwards_Mc_Graw_Hill_9o_Edici%C3%B3n)   \n",
    "  \n",
    "\n",
    "* [Grajales Vanegas, L. M., Restrepo Estrada, C. E., Restrepo Ochoa, S. I., & Ruíz De Villalba, F. (2015). Matemáticas I para las ciencias económicas.](https://bibliotecadigital.udea.edu.co/handle/10495/3010)\n",
    "  \n",
    "* R. Duval y Semiosis y pensamiento humano, 2.ª ed. Cali, Colombia: Programa Editorial Universidad del Valle, 2017. [En línea]. Disponible en: https://programaeditorial.univalle.edu.co/gpd-semiosis-y-pensamiento-humano-9789587655278-63324cdb0f6b3.html\n",
    "\n",
    "* [Aylwin, C. U. (2011). Lógica, conjuntos y números. Universidad de los Andes, Consejo de Publicaciones, Colección: Ciencias Básicas, Serie: Matemáticas.](chrome-extension://efaidnbmnnnibpcajpcglclefindmkaj/https://www.u-cursos.cl/ciencias/2011/1/MC110/1/material_docente/bajar?id_material=574722)\n",
    "  \n",
    "* [Chollet, F. (2021). Deep learning with Python. Simon and Schuster.](chrome-extension://efaidnbmnnnibpcajpcglclefindmkaj/https://tanthiamhuat.wordpress.com/wp-content/uploads/2018/03/deeplearningwithpython.pdf)  \n",
    "  \n",
    "* [Watson, S., Stewart, J., & Redlin, L. (2009). Precálculo. Matemáticas para el cálculo.](https://github.com/marco-canas/calculo/blob/main/referents/1_precalculo_stewart/stewart_precalculo.pdf)  \n",
    "\n",
    "* [Purcell, E. J., Varberg, D., & Rigdon, S. E. (2007). Cálculo diferencial e integral. Pearson Educación.](https://github.com/marco-canas/calculo/blob/main/referents/purcell/purcell_calculo.pdf)\n",
    "\n",
    "  \n",
    "\n",
    "* [stewart cálculo](https://udeaeduco-my.sharepoint.com/:b:/g/personal/marco_canas_udea_edu_co/EZgXZjAp8QxPqOAim2hs6LcBNPLGjSHf-xwYnUVYkwa04w?e=RZdTCy)  \n",
    "\n",
    "\n",
    "\n",
    "\n",
    "\n",
    "* [Recomendación de la UNESCO sobre ciencia abierta](https://unesdoc.unesco.org/ark:/48223/pf0000379949_spa)\n",
    "\n",
    "* [chatGPT](https://openai.com/blog/chatgpt)  \n",
    "\n",
    "* [Géron, A. (2017). Hands-on machine learning with scikit-learn and tensorflow: Concepts. Tools, and Techniques to build intelligent systems.](chrome-extension://efaidnbmnnnibpcajpcglclefindmkaj/http://14.139.161.31/OddSem-0822-1122/Hands-On_Machine_Learning_with_Scikit-Learn-Keras-and-TensorFlow-2nd-Edition-Aurelien-Geron.pdf)   \n"
   ]
  },
  {
   "cell_type": "markdown",
   "id": "df925560",
   "metadata": {},
   "source": [
    "\n",
    "* [McKinney, W. (2012). Python for data analysis: Data wrangling with Pandas, NumPy, and IPython. \" O'Reilly Media, Inc.\".](https://wesmckinney.com/book/) "
   ]
  },
  {
   "cell_type": "markdown",
   "id": "8e65d6f9",
   "metadata": {},
   "source": [
    "# Como estudiante, encuentro que...   \n",
    "\n",
    "F: Mis Fortalezas son:     \n",
    "O: Mis Oportunidades son:    \n",
    "D: Mis Debilidades son:    \n",
    "A: Lo que Amenazas mi aprendizaje es:  "
   ]
  },
  {
   "cell_type": "markdown",
   "id": "6b9e56a8",
   "metadata": {
    "slideshow": {
     "slide_type": "slide"
    }
   },
   "source": [
    "### [Evaluamos al profesor Marco Cañas Aquí](https://forms.office.com/Pages/ResponsePage.aspx?id=IefhmYRxjkmK_7KtTlPBwkanXIs1i1FEujpsZgO6dXpUREJPV1kxUk1JV1ozTFJIQVNIQjY5WEY3US4u)"
   ]
  },
  {
   "cell_type": "markdown",
   "id": "4e8e8ccb",
   "metadata": {},
   "source": [
    "Basado en el diseño de investigación con enfoque IAE (Investigación-Acción Educativa) que compartiste, aquí tienes una propuesta de **sistema de evaluación bidireccional** para el curso *\"Vector Geometry and Linear Algebra\"*, implementable mediante Google Forms y alineado con los ciclos reflexivos de Kemmis & McTaggart:\n",
    "\n",
    "---\n"
   ]
  },
  {
   "cell_type": "markdown",
   "id": "700c88d9",
   "metadata": {},
   "source": [
    "\n",
    "### **Diseño de Evaluación para Ciclo IAE**  \n",
    "*(Para implementar en Google Forms cada 4 semanas)*  \n"
   ]
  },
  {
   "cell_type": "markdown",
   "id": "534441d7",
   "metadata": {},
   "source": [
    "\n",
    "#### **1. Encuesta de Autoevaluación Estudiantil**  \n",
    "**Objetivo**: Monitorear progreso en competencias y percepción del enfoque investigativo.  \n"
   ]
  },
  {
   "cell_type": "markdown",
   "id": "ee74d19c",
   "metadata": {},
   "source": [
    "\n",
    "**Secciones**:  \n",
    "1. **Adquisición de Competencias** (Escala Likert 1-5):  \n",
    "   - *\"¿Cómo evalúas tu dominio actual de:\"*  \n",
    "     - Operaciones con vectores/matrices aplicadas a datasets agrícolas  \n",
    "     - Implementación de PCA/SVD para análisis de imágenes satelitales  \n",
    "     - Interpretación de resultados matemáticos en contextos agropecuarios  \n"
   ]
  },
  {
   "cell_type": "markdown",
   "id": "23d2b1bd",
   "metadata": {},
   "source": [
    "\n",
    "2. **Evaluación de Metodología IAE**:  \n",
    "   - *\"El aprendizaje basado en problemas reales del Bajo Cauca me ha ayudado a:\"*  \n",
    "     - Comprender mejor los conceptos abstractos (1-5)  \n",
    "     - Desarrollar habilidades útiles para mi futuro profesional (1-5)  \n",
    "   - *Espacio abierto*: *\"Describe un momento donde la conexión teoría-práctica fue especialmente significativa para ti\"*  \n"
   ]
  },
  {
   "cell_type": "markdown",
   "id": "6a55b099",
   "metadata": {},
   "source": [
    "\n",
    "3. **Recursos y Herramientas**:  \n",
    "   - *\"Valora la utilidad de:\"*  \n",
    "     - Cuadernos Jupyter adaptados (ej. Géron 2022)  \n",
    "     - Sesiones con agricultores/ingenieros invitados  \n",
    "     - Plataforma GitHub para colaboración  \n",
    "\n",
    "---\n"
   ]
  },
  {
   "cell_type": "markdown",
   "id": "d069bb21",
   "metadata": {},
   "source": [
    "\n",
    "#### **2. Evaluación del Profesor**  \n",
    "**Objetivo**: Retroalimentación para ajustar didáctica según necesidades emergentes.  \n"
   ]
  },
  {
   "cell_type": "markdown",
   "id": "e1080dd0",
   "metadata": {},
   "source": [
    "\n",
    "**Secciones**:  \n"
   ]
  },
  {
   "cell_type": "markdown",
   "id": "f2f3b9ee",
   "metadata": {},
   "source": [
    "1. **Habilidades Docentes** (Escala 1-5):  \n",
    "   - *\"El profesor facilita la conexión entre álgebra lineal y problemas agrícolas mediante:\"*  \n",
    "     - Explicaciones claras de conceptos abstractos  \n",
    "     - Ejemplos contextualizados (ej. optimización de fertilizantes)  \n",
    "     - Retroalimentación constructiva en proyectos  \n"
   ]
  },
  {
   "cell_type": "markdown",
   "id": "01742d60",
   "metadata": {},
   "source": [
    "\n",
    "2. **Seguimiento a Proyectos**:  \n",
    "   - *\"Las tutorías para los proyectos aplicados son:\"*  \n",
    "     - Suficientes en frecuencia y duración  \n",
    "     - Orientadas a resolver dudas técnicas específicas  \n",
    "     - Útiles para vincular matemáticas con agronomía  \n"
   ]
  },
  {
   "cell_type": "markdown",
   "id": "ca722d62",
   "metadata": {},
   "source": [
    "\n",
    "3. **Espacio cualitativo**:  \n",
    "   - *\"Sugiere un ajuste específico que mejoraría tu experiencia de aprendizaje\"*  \n",
    "\n",
    "---\n"
   ]
  },
  {
   "cell_type": "markdown",
   "id": "568148ad",
   "metadata": {},
   "source": [
    "\n",
    "#### **3. Evaluación de Impacto Social** *(Opcional para proyectos con agricultores)*  \n",
    "**Objetivo**: Medir transferencia de conocimiento al sector productivo.  \n"
   ]
  },
  {
   "cell_type": "markdown",
   "id": "93c7f4bc",
   "metadata": {},
   "source": [
    "\n",
    "**Preguntas clave**:  \n",
    "- *\"¿Cómo ha influido el proyecto estudiantil en el que participaste en tus prácticas agrícolas?\"* (Ej.: reducción de costos, mejora en predicciones)  \n",
    "- *\"¿Recomendarías esta colaboración a otros productores?\"* (Sí/No + justificación)  \n",
    "\n",
    "\n"
   ]
  },
  {
   "cell_type": "markdown",
   "id": "d2b6a2c7",
   "metadata": {},
   "source": [
    "\n",
    "### **Implementación en Google Forms**  \n",
    "1. **Configuración**:  \n",
    "   - Formulario anónimo (excepto evaluación de proyectos con agricultores)  \n",
    "   - Sección obligatoria (competencia + 1 pregunta abierta)  \n",
    "   - Opción de subir archivos (ej.: fotos de trabajos de campo)  \n",
    "\n",
    "2. **Ejemplo de Pregunta con Lógica Condicional**:  \n",
    "   ``` \n",
    "   Si respondiste 1-3 en \"Dominio de PCA aplicado\": \n",
    "   ¿Qué tipo de apoyo adicional necesitarías? (Taller práctico, material adicional, tutoría personalizada)  \n",
    "   ```\n",
    "\n",
    "3. **Enlace accesible**:  \n",
    "   - QR en presentaciones  \n",
    "   - Link en la cabecera del repositorio GitHub  \n",
    "\n",
    "---\n"
   ]
  },
  {
   "cell_type": "markdown",
   "id": "36872955",
   "metadata": {},
   "source": [
    "\n",
    "### **Análisis para Ciclo IAE**  \n"
   ]
  },
  {
   "cell_type": "markdown",
   "id": "6b77c710",
   "metadata": {},
   "source": [
    "**Herramientas**:  \n",
    "- **NVivo**: Para análisis temático de respuestas cualitativas  \n",
    "- **Google Data Studio**: Dashboard automático con:  \n",
    "  - Evolución temporal de competencias  \n",
    "  - Nube de palabras de sugerencias frecuentes  \n"
   ]
  },
  {
   "cell_type": "markdown",
   "id": "cdbb4e00",
   "metadata": {},
   "source": [
    "\n",
    "**Integración con Fases IAE**:  \n",
    "1. **Diagnóstico**: Identificar brechas recurrentes (ej.: dificultad con SVD)  \n",
    "2. **Acción**: Ajustar próximas clases (ej.: taller extra de descomposición matricial)  \n",
    "3. **Reflexión**: Comparar resultados entre ciclos (ej.: mejora en % de dominio de vectores)  \n",
    "\n",
    "**Ejemplo de Pregunta Clave para el Análisis**:  \n",
    "*\"¿Qué tema del módulo actual requirió más tiempo de práctica para su comprensión?\"*  \n",
    "\n",
    "---\n"
   ]
  },
  {
   "cell_type": "markdown",
   "id": "6d92b57d",
   "metadata": {},
   "source": [
    "\n",
    "### **Modelo de Informe Parcial** *(Para socializar con estudiantes)*  \n",
    "```markdown\n",
    "## Resultados Evaluación Ciclo 3 (2025-1)  \n",
    "- **85%** mejoró en interpretación de matrices aplicadas  \n",
    "- **Solicitud principal**: Más ejemplos con datos reales de cacaoteros  \n",
    "- **Ajustes implementados**:  \n",
    "  - Sesión extra con ingeniero de Agrosavia (25/05)  \n",
    "  - Dataset público de nutrientes en suelos arroceros añadido a GitHub  \n",
    "```\n"
   ]
  },
  {
   "cell_type": "markdown",
   "id": "b5c7eb34",
   "metadata": {},
   "source": [
    "\n",
    "Este diseño asegura que las evaluaciones:  \n",
    "✅ Sean **ágiles** (máx. 5 min por estudiante)  \n",
    "✅ Generen **datos accionables** para cada fase IAE  \n",
    "✅ Fomenten la **corresponsabilidad** en el proceso educativo  \n"
   ]
  },
  {
   "cell_type": "markdown",
   "id": "e2a5a506",
   "metadata": {},
   "source": [
    "\n",
    "¿Te gustaría que desarrolle las plantillas específicas de Google Forms o algún ajuste adicional para alinearlo mejor con tus módulos?"
   ]
  },
  {
   "cell_type": "markdown",
   "id": "10f43536",
   "metadata": {
    "slideshow": {
     "slide_type": "slide"
    }
   },
   "source": [
    "### Continue su aprendizaje en la siguiente clase a través del siguiente [vínculo]()"
   ]
  },
  {
   "cell_type": "markdown",
   "id": "53cc9115",
   "metadata": {
    "slideshow": {
     "slide_type": "slide"
    }
   },
   "source": [
    "## Agradecimientos  \n",
    "\n",
    "Doy gracias a Dios por la vida de mi Hijo Joseph Cañas Osorio y la madurez que ha alcanzado. Este hijo me enorgullece y me hace falta abrazarlo cada día. \n",
    "\n",
    "Y a mi esposa Yasmira Emperatriz Barboza Mogollón por su apoyo, orientación y acompañamiento. "
   ]
  },
  {
   "cell_type": "markdown",
   "id": "b6ba1c23",
   "metadata": {},
   "source": [
    "# Apéndice sobre calendarios y coordinaciones \n"
   ]
  },
  {
   "cell_type": "markdown",
   "id": "bf8b6499",
   "metadata": {},
   "source": [
    "## Calendario del semestre académico 2025-2  \n",
    "  \n",
    "\n",
    "* Ajustes de matrícula: 01 al 08 de agosto de 2025  \n",
    "\n",
    "* Inicio de clases: 04 de agosto de 2025  \n",
    "\n",
    "Límite evaluación del 40%: 27 de septiembre de 2025  \n",
    "\n",
    "Terminación de clases: 22 de noviembre de 2025\n",
    "\n",
    "Exámenes finales: 24 al 29 de noviembre de 2025\n",
    "\n",
    "Habilitación y validación: 01 al 06 de diciembre 2025\n",
    "\n",
    "Terminación oficial del semestre: 09 de diciembre de 2025  "
   ]
  },
  {
   "cell_type": "markdown",
   "id": "667b9504",
   "metadata": {},
   "source": [
    "\n",
    "A continuación le envío el horario de la asignatura Cálculo Vectorial  \n",
    "\n",
    "Días:  \n",
    "Lunes - Hora: 7:00 a 12:00M  \n",
    "Fechas:  \n",
    "Febrero: 10-17-24                                          \n",
    " Marzo: 3-10-17-31                                                  \n",
    "Abril:7-21-28                                                   \n",
    "Mayo:5-12-19  \n",
    "\n",
    "Agradezco su apoyo, y si presenta alguna dificultad puede contactarme.  \n",
    "\n",
    "Cordialmente,  \n",
    "Juan Felipe Rivera Hernández  \n",
    "Contacto: 3106314300  "
   ]
  }
 ],
 "metadata": {
  "celltoolbar": "Slideshow",
  "kernelspec": {
   "display_name": ".venv",
   "language": "python",
   "name": "python3"
  },
  "language_info": {
   "codemirror_mode": {
    "name": "ipython",
    "version": 3
   },
   "file_extension": ".py",
   "mimetype": "text/x-python",
   "name": "python",
   "nbconvert_exporter": "python",
   "pygments_lexer": "ipython3",
   "version": "3.11.9"
  },
  "rise": {
   "enable_chalkboard": true,
   "theme": "sky",
   "transition": "zoom"
  }
 },
 "nbformat": 4,
 "nbformat_minor": 5
}
