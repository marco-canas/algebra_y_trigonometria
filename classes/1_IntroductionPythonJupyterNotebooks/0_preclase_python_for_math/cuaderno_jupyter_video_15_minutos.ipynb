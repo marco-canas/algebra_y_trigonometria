{
 "cells": [
  {
   "cell_type": "markdown",
   "id": "2d4b6754",
   "metadata": {},
   "source": [
    "<table align=\"left\">\n",
    "  <td>\n",
    "    <a href=\"https://colab.research.google.com/github/marco-canas/4_didactica_aritmetica/blob/main/modelo_general_clase_aula_invertida.ipynb\" target=\"_parent\"><img src=\"https://colab.research.google.com/assets/colab-badge.svg\" alt=\"Open In Colab\"/></a>\n",
    "  </td>\n",
    "</table>"
   ]
  },
  {
   "cell_type": "markdown",
   "id": "7db5a71d",
   "metadata": {},
   "source": [
    "### **Diseño de la Práctica de Codificación para el Video de Preclase**  \n",
    "**Título del Video:** *\"¿Por qué Python en matemáticas? – Herramientas para el futuro matemático\"*  \n",
    "**Duración:** 15 minutos  \n",
    "**Formato:** Tutorial interactivo con código en vivo (grabado en Jupyter Notebook + voz en off).  \n"
   ]
  },
  {
   "cell_type": "markdown",
   "id": "27143dbe",
   "metadata": {},
   "source": [
    "**Objetivo:** Motivar a los estudiantes mostrando aplicaciones reales de Python en álgebra, trigonometría y ciencia de datos, alineadas con el perfil del Instituto de Matemáticas UdeA.  \n",
    "\n",
    "---\n"
   ]
  },
  {
   "cell_type": "markdown",
   "id": "efb02ac8",
   "metadata": {},
   "source": [
    "\n",
    "### **Estructura del Video**  \n"
   ]
  },
  {
   "cell_type": "markdown",
   "id": "abb08a8d",
   "metadata": {},
   "source": [
    "\n",
    "#### **1. Introducción (2 min)**  \n",
    "- **Visual:** Presentación del Instituto de Matemáticas UdeA (imagen del campus o logo).  \n",
    "- **Voz en off:**  \n",
    "  > *\"Como futuros matemáticos, Python será su aliado para resolver problemas complejos, desde álgebra hasta machine learning. Hoy verán cómo.\"*  \n",
    "\n",
    "---\n"
   ]
  },
  {
   "cell_type": "markdown",
   "id": "4b78076a",
   "metadata": {},
   "source": [
    "\n",
    "#### **2. Aplicaciones Clave (10 min)**  \n",
    "**a. Álgebra con SymPy (3 min)**  \n",
    "- **Código en vivo (Jupyter Notebook):**  \n"
   ]
  },
  {
   "cell_type": "code",
   "execution_count": 3,
   "id": "632df86c",
   "metadata": {},
   "outputs": [],
   "source": [
    "from sympy import symbols, expand, factor, solve\n",
    "x, y = symbols('x y')\n"
   ]
  },
  {
   "cell_type": "code",
   "execution_count": 5,
   "id": "723417bb",
   "metadata": {},
   "outputs": [
    {
     "data": {
      "text/latex": [
       "$\\displaystyle \\left(x - 2\\right)^{2}$"
      ],
      "text/plain": [
       "(x - 2)**2"
      ]
     },
     "execution_count": 5,
     "metadata": {},
     "output_type": "execute_result"
    }
   ],
   "source": [
    "# Ejemplo 1: Factorización (conexión con productos notables)\n",
    "expr = x**2 - 4*x + 4\n",
    "factor(expr)  # Output: (x - 2)^2\n"
   ]
  },
  {
   "cell_type": "code",
   "execution_count": 6,
   "id": "e6391340",
   "metadata": {},
   "outputs": [
    {
     "data": {
      "text/plain": [
       "[-4, 1]"
      ]
     },
     "execution_count": 6,
     "metadata": {},
     "output_type": "execute_result"
    }
   ],
   "source": [
    "# Ejemplo 2: Solución de ecuaciones (vínculo con unidades del curso)\n",
    "equation = x**2 + 3*x - 4\n",
    "solve(equation, x)  # Output: [-4, 1]\n",
    "  "
   ]
  },
  {
   "cell_type": "markdown",
   "id": "64e75e96",
   "metadata": {},
   "source": [
    " \n",
    "- **Voz en off:**  \n",
    "  > *\"SymPy automatiza cálculos tediosos, permitiéndoles enfocarse en la interpretación teórica.\"*  \n",
    "\n",
    "**b. Trigonometría con Matplotlib (3 min)**  \n",
    "- **Código en vivo:**  \n",
    "  ```python\n",
    "  import numpy as np\n",
    "  import matplotlib.pyplot as plt\n",
    "  # Gráfica de seno y coseno (relación con identidades trigonométricas)\n",
    "  x = np.linspace(0, 2*np.pi, 100)\n",
    "  plt.plot(x, np.sin(x), label='sen(x)')\n",
    "  plt.plot(x, np.cos(x), label='cos(x)')\n",
    "  plt.legend()\n",
    "  plt.title(\"Funciones trigonométricas (Unidad 4 del curso)\")\n",
    "  plt.show()\n",
    "  ```  \n",
    "- **Voz en off:**  \n",
    "  > *\"Visualizar funciones les ayudará a entender conceptos como amplitud o periodicidad, clave en modelamiento.\"*  \n",
    "\n",
    "**c. Machine Learning con SciKit-Learn (4 min)**  \n",
    "- **Código simplificado:**  \n",
    "  ```python\n",
    "  from sklearn.linear_model import LinearRegression\n",
    "  import numpy as np\n",
    "  # Datos ficticios: horas de estudio vs. calificación (ejemplo de regresión lineal)\n",
    "  X = np.array([1, 2, 3, 4, 5]).reshape(-1, 1)  # Horas\n",
    "  y = np.array([2, 4, 5, 4, 5])                 # Calificación\n",
    "  model = LinearRegression().fit(X, y)\n",
    "  print(f\"Pendiente (m): {model.coef_[0]:.2f}\")  # Relación con pendiente de rectas\n",
    "  ```  \n",
    "- **Testimonio (imagen + audio de egresado):**  \n",
    "  > *\"En mi trabajo como data scientist, uso Python para modelar patrones. Lo aprendí en cursos como este.\"*  \n",
    "\n",
    "---\n",
    "\n",
    "#### **3. Conexión con el Perfil UdeA (3 min)**  \n",
    "- **Infografía:**  \n",
    "  - *\"Habilidades del matemático UdeA\"* vs. *\"Herramientas Python\"*:  \n",
    "    - **Razonamiento abstracto** → SymPy.  \n",
    "    - **Modelamiento** → Matplotlib/NumPy.  \n",
    "    - **Ciencia de datos** → Pandas/Scikit-Learn.  \n",
    "- **Voz en off:**  \n",
    "  > *\"El Instituto los prepara para desafíos globales. Python es el lenguaje de la ciencia de datos, y ustedes empezarán hoy.\"*  \n",
    "\n",
    "---\n",
    "\n",
    "### **Requisitos Técnicos**  \n",
    "1. **Grabación:**  \n",
    "   - Software: OBS Studio (captura pantalla + voz).  \n",
    "   - Edición: DaVinci Resolve (cortes + subtítulos).  \n",
    "2. **Entorno de Codificación:**  \n",
    "   - Jupyter Notebook con kernels para Python 3.10.  \n",
    "   - Librerías: SymPy, Matplotlib, NumPy, SciKit-Learn.  \n",
    "3. **Archivos Adjuntos en Moodle:**  \n",
    "   - Notebook del video (para que estudiantes repliquen código).  \n",
    "   - Guía de instalación de Anaconda.  \n",
    "\n",
    "---\n",
    "\n",
    "### **Evaluación de la Preclase**  \n",
    "- **Cuestionario en Moodle (5 preguntas):**  \n",
    "  1. *¿Qué función de SymPy usarías para resolver \\(x^2 - 5x + 6 = 0\\)?*  \n",
    "  2. *¿Cómo relacionarías la gráfica de sen(x) con el concepto de periodicidad?*  \n",
    "\n",
    "---\n",
    "\n",
    "**Nota:** El video enfatiza la *dualidad teoría-práctica*, clave en el enfoque del Instituto. Por ejemplo, la regresión lineal se vincula con *sistemas de ecuaciones* (Unidad 3), y las gráficas con *transformaciones trigonométricas* (Unidad 4)."
   ]
  }
 ],
 "metadata": {
  "kernelspec": {
   "display_name": ".venv",
   "language": "python",
   "name": "python3"
  },
  "language_info": {
   "codemirror_mode": {
    "name": "ipython",
    "version": 3
   },
   "file_extension": ".py",
   "mimetype": "text/x-python",
   "name": "python",
   "nbconvert_exporter": "python",
   "pygments_lexer": "ipython3",
   "version": "3.11.9"
  }
 },
 "nbformat": 4,
 "nbformat_minor": 5
}
