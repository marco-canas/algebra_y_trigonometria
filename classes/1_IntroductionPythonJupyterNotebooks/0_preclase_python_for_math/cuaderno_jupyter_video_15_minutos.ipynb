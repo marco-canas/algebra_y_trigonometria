{
 "cells": [
  {
   "cell_type": "markdown",
   "id": "2d4b6754",
   "metadata": {},
   "source": [
    "<table align=\"left\">\n",
    "  <td>\n",
    "    <a href=\"https://colab.research.google.com/github/marco-canas/algebra_y_trigonometria/blob/main/classes/1_IntroductionPythonJupyterNotebooks/0_preclase_python_for_math/cuaderno_jupyter_video_15_minutos.ipynb\" target=\"_parent\"><img src=\"https://colab.research.google.com/assets/colab-badge.svg\" alt=\"Open In Colab\"/></a>\n",
    "  </td>\n",
    "</table>"
   ]
  },
  {
   "cell_type": "markdown",
   "id": "346005c8",
   "metadata": {},
   "source": [
    "[Video de apoyo a la lectura de este cuaderno](https://www.youtube.com/watch?v=hVqvDjo7d0g)"
   ]
  },
  {
   "cell_type": "markdown",
   "id": "7db5a71d",
   "metadata": {},
   "source": [
    "### **Diseño de la Práctica de Codificación para el Video de Preclase**  \n"
   ]
  },
  {
   "cell_type": "markdown",
   "id": "cd312cf6",
   "metadata": {},
   "source": [
    "**Título del Video:** *\"¿Por qué Python en matemáticas? – Herramientas para el futuro matemático\"* "
   ]
  },
  {
   "cell_type": "markdown",
   "id": "be86e57f",
   "metadata": {},
   "source": [
    " \n",
    "**Duración:** 15 minutos  \n"
   ]
  },
  {
   "cell_type": "markdown",
   "id": "50a3a558",
   "metadata": {},
   "source": [
    "**Formato:** Tutorial interactivo con código en vivo (grabado en Jupyter Notebook + voz en off).  \n"
   ]
  },
  {
   "cell_type": "markdown",
   "id": "27143dbe",
   "metadata": {},
   "source": [
    "**Objetivo:** Motivar a los estudiantes mostrando aplicaciones reales de Python en álgebra, trigonometría y ciencia de datos, alineadas con el perfil del Instituto de Matemáticas UdeA.  \n",
    "\n",
    "---\n"
   ]
  },
  {
   "cell_type": "markdown",
   "id": "efb02ac8",
   "metadata": {},
   "source": [
    "\n",
    "### **Estructura del Video**  \n"
   ]
  },
  {
   "cell_type": "markdown",
   "id": "abb08a8d",
   "metadata": {},
   "source": [
    "\n",
    "#### **1. Introducción (2 min)**  \n"
   ]
  },
  {
   "cell_type": "markdown",
   "id": "49315023",
   "metadata": {},
   "source": [
    "- **Visual:** Presentación del Instituto de Matemáticas UdeA (imagen del campus o logo).  \n",
    "<img src = 'https://encrypted-tbn0.gstatic.com/images?q=tbn:ANd9GcTViJ-zXLGJlzY0WBJALFj_y9ytBg45oNuEww&s'>"
   ]
  },
  {
   "cell_type": "markdown",
   "id": "08d9f3ee",
   "metadata": {},
   "source": [
    "- **Voz en off:**  \n",
    "  > *\"Como futuros matemáticos, Python será su aliado para resolver problemas complejos, desde álgebra hasta machine learning. Hoy verán cómo.\"*  \n",
    "\n",
    "---\n"
   ]
  },
  {
   "cell_type": "markdown",
   "id": "4b78076a",
   "metadata": {},
   "source": [
    "\n",
    "#### **2. Aplicaciones Clave (10 min)**  \n",
    "**a. Álgebra con SymPy (3 min)**  \n",
    "- **Código en vivo (Jupyter Notebook):**  \n"
   ]
  },
  {
   "cell_type": "code",
   "execution_count": 16,
   "id": "632df86c",
   "metadata": {},
   "outputs": [],
   "source": [
    "from sympy import symbols, factor, Eq, solve\n"
   ]
  },
  {
   "cell_type": "code",
   "execution_count": 17,
   "id": "4da0d7c9",
   "metadata": {},
   "outputs": [],
   "source": [
    "x = symbols('x') # definir varibles \n"
   ]
  },
  {
   "cell_type": "code",
   "execution_count": 19,
   "id": "723417bb",
   "metadata": {},
   "outputs": [],
   "source": [
    "# Ejemplo 1: Factorización (conexión con productos notables)\n",
    "expr = x**2 - 4*x + 4\n"
   ]
  },
  {
   "cell_type": "code",
   "execution_count": null,
   "id": "7f825bec",
   "metadata": {},
   "outputs": [
    {
     "data": {
      "text/latex": [
       "$\\displaystyle x^{2} - 4 x + 4$"
      ],
      "text/plain": [
       "x**2 - 4*x + 4"
      ]
     },
     "execution_count": 20,
     "metadata": {},
     "output_type": "execute_result"
    }
   ],
   "source": [
    "expr # imprime para edición en texto profesional \n"
   ]
  },
  {
   "cell_type": "code",
   "execution_count": 21,
   "id": "d209a769",
   "metadata": {},
   "outputs": [
    {
     "data": {
      "text/latex": [
       "$\\displaystyle \\left(x - 2\\right)^{2}$"
      ],
      "text/plain": [
       "(x - 2)**2"
      ]
     },
     "execution_count": 21,
     "metadata": {},
     "output_type": "execute_result"
    }
   ],
   "source": [
    "factor(expr)  # Output: (x - 2)^2\n"
   ]
  },
  {
   "cell_type": "code",
   "execution_count": 23,
   "id": "e6391340",
   "metadata": {},
   "outputs": [
    {
     "data": {
      "text/latex": [
       "$\\displaystyle x^{2} - 4 x + 4 = 0$"
      ],
      "text/plain": [
       "Eq(x**2 - 4*x + 4, 0)"
      ]
     },
     "execution_count": 23,
     "metadata": {},
     "output_type": "execute_result"
    }
   ],
   "source": [
    "# Ejemplo 2: Solución de ecuaciones (vínculo con unidades del curso)\n",
    "equation = Eq(x**2 - 4*x + 4, 0)\n",
    "equation \n"
   ]
  },
  {
   "cell_type": "code",
   "execution_count": 24,
   "id": "4a479189",
   "metadata": {},
   "outputs": [
    {
     "data": {
      "text/plain": [
       "[2]"
      ]
     },
     "execution_count": 24,
     "metadata": {},
     "output_type": "execute_result"
    }
   ],
   "source": [
    "solve(equation, x)  # Output: []\n",
    "  "
   ]
  },
  {
   "cell_type": "markdown",
   "id": "64e75e96",
   "metadata": {},
   "source": [
    " \n",
    "- **Voz en off:**  \n",
    "  > *\"SymPy automatiza cálculos tediosos, permitiéndoles enfocarse en la interpretación teórica.\"*  \n"
   ]
  },
  {
   "cell_type": "markdown",
   "id": "ae95f1b9",
   "metadata": {},
   "source": [
    "\n",
    "**b. Trigonometría con Matplotlib (3 min)**  \n",
    "- **Código en vivo:**  \n"
   ]
  },
  {
   "cell_type": "code",
   "execution_count": 30,
   "id": "ac463fab",
   "metadata": {},
   "outputs": [
    {
     "data": {
      "image/png": "[encoded data removed]",
      "text/plain": [
       "<Figure size 640x480 with 1 Axes>"
      ]
     },
     "metadata": {},
     "output_type": "display_data"
    }
   ],
   "source": [
    "import numpy as np # calculos numéricos y cálculos vectoriales y matriciales \n",
    "import matplotlib.pyplot as plt # hacer gráficos \n",
    "# Gráfica de seno y coseno (relación con identidades trigonométricas)\n",
    "x = np.arange(start = 0, stop = 4*np.pi + 0.01, step = 0.01) # genera progresión aritmética \n",
    "plt.plot(x, np.sin(x), label='sen(x)', color = 'red') # La función plot hace gráficos de líneas por defecto \n",
    "plt.plot(x, np.cos(x), label='cos(x)', color = 'green') # La función plot hace gráficas de líneas por defecto\n",
    "plt.axhline(y = 0) # el ehe horizontal \n",
    "plt.axvline(x = 0) # el eje vertical\n",
    "plt.legend() # Genera una legenda o convención que nos indica cómo identificar las funciones graficadas \n",
    "plt.title(\"Funciones trigonométricas (Unidad 4 del curso)\")\n",
    "plt.grid(alpha = 0.3) # genera la cuadrícula \n",
    "plt.xticks([0, np.pi, 2*np.pi, 4*np.pi]) # metrizar el eje horizontal \n",
    "plt.savefig(r\"C:\\Users\\marco\\Downloads\\funciones_trigonometricas.png\") # genera el archivo de imagen \n",
    "plt.show()\n"
   ]
  },
  {
   "cell_type": "markdown",
   "id": "0fd478b3",
   "metadata": {},
   "source": [
    "  \n",
    "- **Voz en off:**  \n",
    "  > *\"Visualizar funciones les ayudará a entender conceptos como amplitud o periodicidad, clave en modelamiento.\"*  \n",
    "\n",
    "**c. Machine Learning con SciKit-Learn (4 min)**  \n",
    "- **Código simplificado:** "
   ]
  },
  {
   "cell_type": "code",
   "execution_count": 31,
   "id": "d3cd3e6c",
   "metadata": {},
   "outputs": [
    {
     "name": "stdout",
     "output_type": "stream",
     "text": [
      "Pendiente (m): 2.00\n"
     ]
    }
   ],
   "source": [
    "from sklearn.linear_model import LinearRegression # obtener la función lineal que mejor se ajuste a unos datos \n",
    "import numpy as np\n",
    "# Datos ficticios: horas de estudio vs. calificación (ejemplo de regresión lineal)\n",
    "X = np.array([1, 2, 3, 4, 5]).reshape(-1, 1)  # Horas\n",
    "y = np.array([2, 4, 6, 8, 10])                 # Calificación\n",
    "model = LinearRegression().fit(X, y)\n",
    "print(f\"Pendiente (m): {model.coef_[0]:.2f}\")  # Relación con pendiente de rectas\n"
   ]
  },
  {
   "cell_type": "markdown",
   "id": "8f543527",
   "metadata": {},
   "source": [
    "  \n",
    "- **Testimonio (imagen + audio de egresado):**  \n",
    "  > [*\"En mi trabajo como data scientist, uso Python para modelar patrones. Lo aprendí en cursos como este.\"*](https://www.youtube.com/watch?v=s97pUW5fvXo)  \n"
   ]
  },
  {
   "cell_type": "markdown",
   "id": "5cc2baa1",
   "metadata": {},
   "source": [
    "\n",
    "---\n"
   ]
  },
  {
   "cell_type": "markdown",
   "id": "de756d7c",
   "metadata": {},
   "source": [
    "\n",
    "#### **3. Conexión con el Perfil UdeA (3 min)**  \n",
    "- **Infografía:**  \n",
    "  - *\"Habilidades del matemático UdeA\"* vs. *\"Herramientas Python\"*:  \n",
    "    - **Razonamiento abstracto** → SymPy.  \n",
    "    - **Modelamiento** → Matplotlib/NumPy.  \n",
    "    - **Ciencia de datos** → Pandas/Scikit-Learn.  \n",
    "- **Voz en off:**  \n",
    "  > *\"El Instituto los prepara para desafíos globales. Python es el lenguaje de la ciencia de datos, y ustedes empezarán hoy.\"*  \n",
    "\n",
    "---\n"
   ]
  },
  {
   "cell_type": "markdown",
   "id": "eff4a20d",
   "metadata": {},
   "source": [
    "\n",
    "### **Requisitos Técnicos**  \n",
    "1. **Grabación:**  \n",
    "   - Software: OBS Studio (captura pantalla + voz).  \n",
    "   - [Edición: DaVinci Resolve (cortes + subtítulos).](https://www.tutkit.com/es/tutoriales-de-texto/1804-crear-y-exportar-subtitulos-en-davinci-resolve-514#:~:text=Para%20crear%20un%20subt%C3%ADtulo%20en,llegar%20r%C3%A1pidamente%20al%20subt%C3%ADtulo%20deseado.)  \n",
    "2. **Entorno de Codificación:**  \n",
    "   - Jupyter Notebook con kernels para Python 3.10.  \n",
    "   - Librerías: SymPy, Matplotlib, NumPy, SciKit-Learn.  \n",
    "3. **Archivos Adjuntos en [GitHub](https://github.com/marco-canas/algebra_y_trigonometria):**  \n",
    "   - Notebook del video (para que estudiantes repliquen código).  \n",
    "   - [Guía de instalación de Anaconda.](https://anaconda.org/)  \n",
    "\n",
    "---\n"
   ]
  },
  {
   "cell_type": "markdown",
   "id": "4c52d554",
   "metadata": {},
   "source": [
    "\n",
    "### **Evaluación de la Preclase**  \n",
    "- **Cuestionario en GitHub (5 preguntas):**  \n",
    "  1. *¿Qué función de SymPy usarías para resolver $x^2 - 5x + 6 = 0$?*  \n",
    "  2. *¿Cómo relacionarías la gráfica de sen(x) con el concepto de periodicidad?*  \n",
    "\n",
    "---\n"
   ]
  },
  {
   "cell_type": "markdown",
   "id": "717b5b33",
   "metadata": {},
   "source": [
    "\n",
    "**Nota:** El video enfatiza la *dualidad teoría-práctica*, clave en el enfoque del Instituto. "
   ]
  },
  {
   "cell_type": "markdown",
   "id": "70e04043",
   "metadata": {},
   "source": [
    "Por ejemplo, la regresión lineal se vincula con *sistemas de ecuaciones* (Unidad 3), y las gráficas con *transformaciones trigonométricas* (Unidad 4)."
   ]
  }
 ],
 "metadata": {
  "kernelspec": {
   "display_name": ".venv",
   "language": "python",
   "name": "python3"
  },
  "language_info": {
   "codemirror_mode": {
    "name": "ipython",
    "version": 3
   },
   "file_extension": ".py",
   "mimetype": "text/x-python",
   "name": "python",
   "nbconvert_exporter": "python",
   "pygments_lexer": "ipython3",
   "version": "3.11.9"
  }
 },
 "nbformat": 4,
 "nbformat_minor": 5
}
