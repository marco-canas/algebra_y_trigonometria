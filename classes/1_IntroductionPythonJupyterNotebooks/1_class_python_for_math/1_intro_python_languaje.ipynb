{
 "cells": [
  {
   "cell_type": "markdown",
   "id": "dc06dec7",
   "metadata": {
    "slideshow": {
     "slide_type": "slide"
    }
   },
   "source": [
    "<table align=\"left\">\n",
    "  <td>\n",
    "    <a href=\"https://colab.research.google.com/github/marco-canas/algebra_y_trigonometria/blob/main/classes/1_IntroductionPythonJupyterNotebooks/1_class_python_for_math/1_intro_python_languaje.ipynb\" target=\"_parent\"><img src=\"https://colab.research.google.com/assets/colab-badge.svg\" alt=\"Open In Colab\"/></a>\n",
    "  </td>\n",
    "  <td>\n",
    "    <a target=\"_blank\" href=\"https://kaggle.com/kernels/welcome?src=https://github.com/marco-canas/algebra_y_trigonometria/blob/main/classes/1_IntroductionPythonJupyterNotebooks/1_class_python_for_math/1_intro_python_languaje.ipynb\"><img src=\"https://kaggle.com/static/images/open-in-kaggle.svg\" /></a>\n",
    "  </td>\n",
    "</table>"
   ]
  },
  {
   "cell_type": "markdown",
   "id": "e0c5b198",
   "metadata": {
    "slideshow": {
     "slide_type": "slide"
    }
   },
   "source": [
    "### [Video de apoyo a la lectura interactiva y experimental de este cuaderno]()"
   ]
  },
  {
   "cell_type": "markdown",
   "id": "41e82203",
   "metadata": {
    "slideshow": {
     "slide_type": "slide"
    }
   },
   "source": [
    "### [Vínculo al programa del curso de Álgebra y Trigonometría para el programa de Matemáticas:  ](https://github.com/marco-canas/algebra_y_trigonometria/blob/main/0_programa_curso/programa_algebra_and_trigonometry.md)\n",
    "\n"
   ]
  },
  {
   "cell_type": "markdown",
   "id": "d11ab06d",
   "metadata": {
    "slideshow": {
     "slide_type": "slide"
    }
   },
   "source": [
    "Un reconocimiento a mis estudiantes que han construido conmigo este saber pedagógico:\n",
    "\n",
    "<img src = 'https://github.com/marco-canas/algebra_y_trigonometria/blob/main/images/algebra_trigonometria_2023_1Dios_cuida_de_ellos_2.jpg?raw=true'> \n",
    "\n"
   ]
  },
  {
   "cell_type": "markdown",
   "id": "8a74a56c-0ce6-4ad6-b985-553fd7fb68bb",
   "metadata": {},
   "source": [
    "Reconocimiento a las profesoras destacadas en enseñanza de la matemática en Colombia\n",
    "\n",
    "<img src = 'https://www.microsoft.com/en-us/research/wp-content/uploads/2016/02/Jeannette-Wing-web.jpg'>\n",
    "\n",
    "[Biografía de Jeannette Wing](https://es.wikipedia.org/wiki/Jeannette_Wing)"
   ]
  },
  {
   "cell_type": "code",
   "execution_count": 2,
   "id": "7604880f",
   "metadata": {
    "slideshow": {
     "slide_type": "slide"
    }
   },
   "outputs": [
    {
     "data": {
      "application/vnd.microsoft.datawrangler.viewer.v0+json": {
       "columns": [
        {
         "name": "index",
         "rawType": "int64",
         "type": "integer"
        },
        {
         "name": "Cedula",
         "rawType": "int64",
         "type": "integer"
        },
        {
         "name": "Nombre",
         "rawType": "object",
         "type": "string"
        },
        {
         "name": "Email",
         "rawType": "float64",
         "type": "float"
        }
       ],
       "ref": "1a8a0b9e-b977-4ada-88f5-9fa79e2f1f25",
       "rows": [
        [
         "0",
         "1038648096",
         "ACEVEDO BELEÑO SANTIAGO",
         null
        ],
        [
         "1",
         "1038648760",
         "MARIN VILLARREAL PABLO ALEJANDRO",
         null
        ],
        [
         "2",
         "1193401041",
         "MARTINEZ MANJARREZ DANIELA ESTHER",
         null
        ],
        [
         "3",
         "1038108720",
         "MEJIA GUZMAN SAMUEL",
         null
        ],
        [
         "4",
         "1038647828",
         "NIEBLES BARRERA ALEXANDER ISAAC",
         null
        ]
       ],
       "shape": {
        "columns": 3,
        "rows": 5
       }
      },
      "text/html": [
       "<div>\n",
       "<style scoped>\n",
       "    .dataframe tbody tr th:only-of-type {\n",
       "        vertical-align: middle;\n",
       "    }\n",
       "\n",
       "    .dataframe tbody tr th {\n",
       "        vertical-align: top;\n",
       "    }\n",
       "\n",
       "    .dataframe thead th {\n",
       "        text-align: right;\n",
       "    }\n",
       "</style>\n",
       "<table border=\"1\" class=\"dataframe\">\n",
       "  <thead>\n",
       "    <tr style=\"text-align: right;\">\n",
       "      <th></th>\n",
       "      <th>Cedula</th>\n",
       "      <th>Nombre</th>\n",
       "      <th>Email</th>\n",
       "    </tr>\n",
       "  </thead>\n",
       "  <tbody>\n",
       "    <tr>\n",
       "      <th>0</th>\n",
       "      <td>1038648096</td>\n",
       "      <td>ACEVEDO BELEÑO SANTIAGO</td>\n",
       "      <td>NaN</td>\n",
       "    </tr>\n",
       "    <tr>\n",
       "      <th>1</th>\n",
       "      <td>1038648760</td>\n",
       "      <td>MARIN VILLARREAL PABLO ALEJANDRO</td>\n",
       "      <td>NaN</td>\n",
       "    </tr>\n",
       "    <tr>\n",
       "      <th>2</th>\n",
       "      <td>1193401041</td>\n",
       "      <td>MARTINEZ MANJARREZ DANIELA ESTHER</td>\n",
       "      <td>NaN</td>\n",
       "    </tr>\n",
       "    <tr>\n",
       "      <th>3</th>\n",
       "      <td>1038108720</td>\n",
       "      <td>MEJIA GUZMAN SAMUEL</td>\n",
       "      <td>NaN</td>\n",
       "    </tr>\n",
       "    <tr>\n",
       "      <th>4</th>\n",
       "      <td>1038647828</td>\n",
       "      <td>NIEBLES BARRERA ALEXANDER ISAAC</td>\n",
       "      <td>NaN</td>\n",
       "    </tr>\n",
       "  </tbody>\n",
       "</table>\n",
       "</div>"
      ],
      "text/plain": [
       "       Cedula                             Nombre  Email\n",
       "0  1038648096            ACEVEDO BELEÑO SANTIAGO    NaN\n",
       "1  1038648760   MARIN VILLARREAL PABLO ALEJANDRO    NaN\n",
       "2  1193401041  MARTINEZ MANJARREZ DANIELA ESTHER    NaN\n",
       "3  1038108720                MEJIA GUZMAN SAMUEL    NaN\n",
       "4  1038647828    NIEBLES BARRERA ALEXANDER ISAAC    NaN"
      ]
     },
     "execution_count": 2,
     "metadata": {},
     "output_type": "execute_result"
    }
   ],
   "source": [
    "import pandas as pd\n",
    "import numpy as np\n",
    "\n",
    "# Cargar la lista de estudiantes desde el archivo CSV\n",
    "path = 'C:/Users/marco/Documentos/docencia/groups_list/algebra_and_trigonometry.xlsx'\n",
    "df = pd.read_excel(path)\n",
    "df.head() \n"
   ]
  },
  {
   "cell_type": "markdown",
   "id": "d7598d0a-d9b7-4ae0-b029-a0ed6ed1130b",
   "metadata": {},
   "source": [
    "\n",
    "# Principios de mi labor docente"
   ]
  },
  {
   "cell_type": "markdown",
   "id": "4f9d8cf9",
   "metadata": {
    "slideshow": {
     "slide_type": "slide"
    }
   },
   "source": [
    "## Modelo general de clase: [aula invertida](https://www3.gobiernodecanarias.org/medusa/ecoescuela/pedagotic/aprendizaje-invertido-flipped-classroom/)\n",
    "\n",
    "* [Lista de reproducción para Álgebra y Trigonometría](https://www.youtube.com/watch?v=kahpxoGK5V4&list=PLbk60veMSVKs8Sg9UBxUxqrOmM2s2l6uS) \n",
    "* [Repositorio en línea para el curso de Álgebra y trigonometría](https://github.com/marco-canas/algebra_y_trigonometria/tree/main)"
   ]
  },
  {
   "cell_type": "markdown",
   "id": "eb6ed03a",
   "metadata": {},
   "source": [
    "<img src = 'https://resources.maneuveringthemiddle.com/wp-content/uploads/2020/07/04212706/1-5.png' width = 200>  \n",
    "\n"
   ]
  },
  {
   "cell_type": "markdown",
   "id": "34319cce-a71b-4f64-aab8-b53e521efa40",
   "metadata": {},
   "source": [
    "# Metodología de Aprendizaje Basado en Problemas y Proyectos (ABPP)\n"
   ]
  },
  {
   "cell_type": "markdown",
   "id": "c4f73d81",
   "metadata": {},
   "source": [
    "\n",
    "<img src = 'https://www.unir.net/wp-content/uploads/2020/07/aprendizaje-problemas2-1-1-1-1.jpeg' width = 200>"
   ]
  },
  {
   "cell_type": "markdown",
   "id": "841a985c-bd9b-4dd3-8e4c-893983980af2",
   "metadata": {},
   "source": [
    "# Desarrollo del pensamiento computacional con Lenguajes Python y R, y con archivos Markdown orientado a la formación en ciencia de datos. Y también el lenguaje Latex para edición profesional de expresiones matemáticas. \n",
    "\n"
   ]
  },
  {
   "cell_type": "markdown",
   "id": "3d0eba94",
   "metadata": {},
   "source": [
    "\n",
    "<img src = 'https://i.ytimg.com/vi/mcG_wcR4e6M/maxresdefault.jpg' width = 200>"
   ]
  },
  {
   "cell_type": "markdown",
   "id": "65aa0404-f7ae-495e-864c-1aec01b4255e",
   "metadata": {},
   "source": [
    "# Principio de fomento a la ciencia abierta, enseñar en el acceso a los datos públicos y el uso de software de código abierto  \n"
   ]
  },
  {
   "cell_type": "markdown",
   "id": "18ae9b87",
   "metadata": {},
   "source": [
    "\n",
    "<img src = 'https://unesdoc.unesco.org/in/rest/Thumb/image?id=p%3A%3Ausmarcdef_0000379949_spa&author=UNESCO&title=Recomendaci%C3%B3n+de+la+UNESCO+sobre+la+Ciencia+Abierta&year=2021&publisher=UNESCO&TypeOfDocument=UnescoPhysicalDocument&mat=PGD&ct=true&size=512&isPhysical=1' width = 200>"
   ]
  },
  {
   "cell_type": "markdown",
   "id": "d9559f85",
   "metadata": {},
   "source": [
    "El enfoque STEAMS en educación preescolar, primaria y secundaria es una extensión del enfoque STEM (Ciencia, Tecnología, Ingeniería y Matemáticas) y su variante STEAM, que incorpora el Arte. "
   ]
  },
  {
   "cell_type": "markdown",
   "id": "0130ec1b",
   "metadata": {},
   "source": [
    "\n",
    "<img src = 'https://www.campuseducacion.com/blog/wp-content/uploads/2023/03/foto01-1.jpg' width = 200>"
   ]
  },
  {
   "cell_type": "markdown",
   "id": "37a6a091",
   "metadata": {},
   "source": [
    "# Y el enfoque de Teoría de Registros de Representación Semiótica de Duval  "
   ]
  },
  {
   "cell_type": "code",
   "execution_count": 3,
   "id": "28bae6cb",
   "metadata": {},
   "outputs": [],
   "source": [
    "def save_fig(nombre_archivo_imagen):\n",
    "    import os \n",
    "    import matplotlib.pyplot as plt\n",
    "    ubicacion_para_imagenes = r\"C:/Users/marco/Downloads\"\n",
    "    imagen_path = os.path.join(ubicacion_para_imagenes, nombre_archivo_imagen)\n",
    "    plt.savefig(imagen_path, bbox_inches='tight')"
   ]
  },
  {
   "cell_type": "markdown",
   "id": "10e55ccf",
   "metadata": {},
   "source": [
    "# Estructura general para todas las clases\n"
   ]
  },
  {
   "cell_type": "markdown",
   "id": "ddd73417",
   "metadata": {},
   "source": [
    "\n",
    "Dame, por favor, un diseño de clase, con el enfoque: \"Aula Invertida, STEAMS, de Aprendizaje Basado en Problemas y Proyectos (ABPP) y de Teoría de Registros de Representación Semiótica (TRRS) de Duval\" sobre: \"Introducción a todos los elementos de Python necesarios para el cursod e Álgebra y Trigonometría según el programa de curso dado en: https://github.com/marco-canas/algebra_y_trigonometria/blob/main/0_programa_curso/programa_algebra_and_trigonometry.md\", siguiendo la estructura:  \n",
    "\n",
    "Ubicación del proyecto investigativo: [aquí](https://github.com/marco-canas/linea_invest_didact_math_data/blob/main/1_estrategia_comunicacion/3_humanos_xxi/propuesta_en_20_paginas.md) \n",
    "Ubicación del programa del curso: [aquí](https://github.com/marco-canas/vector_geometry_and_linear_algebra/blob/main/2_planificacion/0_programa_curso/programa_curso_geo_vectorial_algebra_lineal_iae_python_data_science_2025_2.docx)\n",
    "Ubicación de la lista de estudiantes matriculados: [Aquí](https://github.com/marco-canas/groups_list/blob/main/vector_geometry_and_linear_algebra.xlsx)  \n",
    "\n",
    "1. Título de la clase   \n",
    "   \n",
    "2. Objetivo de aprendizaje que incluyan los indicadores del logro de estos objetivos. \n",
    "   \n",
    "3. Un mapa conceptual que resuma la clase elaborado en Graphviz de python con nodos y edges de diferentes formas, colores y rellenos y renderizado en la siguiente ubicación: `\"C:\\Users\\marco\\Downloads\"`.  No olvides el parámetro `view = True` para el método `render()` de Graphviz. Para este mapa controla las superposiciones de los nodos con: graph [overlap=false]; // Elimina superposiciones (puede aumentar el espacio)\n",
    "graph [overlap=\"scalexy\"]; // Escala el gráfico para evitar overlaps\n",
    "graph [overlap=\"compress\"]; // Comprime el grafo sin overlaps  \n",
    "   \n",
    "4. Elementos históricos y epistemológicos relevantes para la clase, pero narrados como una historieta al estilo de un cuentero antioqueño en Colombia. Incluye imágenes de los protagonistas históricos de esta clase.  \n",
    "   \n",
    "5. Contenido de la clase:     \n",
    "   \n",
    "          \n",
    "        \n",
    "6. Actividades de aprendizaje:   \n",
    "   \n",
    "7. Incluye una canción o un poema que ayude a interiorizar y fijar los conceptos asociados a esta clase.   \n",
    "   \n",
    "8.  Tarea o actividades de ejercitación y fijación. Incluye 20 ejercicios de tarea en las que los estudiantes empiecen con la descripción geométrica del algoritmo, luego la descripción verbal y secuencial del algoritmo, después la implementación en lenguaje python editado a través de la terminal powershell de su computador y finalmente con el cálculo a mano y en su cuaderno. Crea una función de usuario de Python que asigne esta tareas a cada uno de los estudiantes matriculados en este curso tomando la ubicación de los estudiantes dada en este prompt.  \n",
    "    \n",
    "9. Evaluación incluyendo 20 proyectos, un ejemplo de quiz (con tres items) y un ejemplo de parcial (con 5 items). Incluye evaluaciones en las que los estudiantes empiecen con la descripción geométrica del algoritmo, luego la descripción verbal y secuencial del algoritmo, después la implementación en lenguaje python editado a través de la terminal powershell de su computador, y finalmente con el cálculo algebraico y numérico a mano y en su cuaderno. \n",
    "    \n",
    "10. Diseño de actividad de retroalimentación.   \n",
    "    \n",
    "11. Dame un vocabulario y frases del idioma inglés asociadas a esta clase.    \n",
    "     \n",
    "12. Incluye apéndice para la clase sobre desarrollo de habilidades para trabajar en equipo y de asertividad y empatía para relacionarnos. También elementos de la inteligencia emocional para presentar pruebas sin temor y sin realizar fraude en ellas.    \n",
    "     \n",
    "13. Incluye 10 referentes en didáctica de la matemática que estén de acuerdo a la propuesta didáctica de esta clase. Adiciona a estos referentes a Raymond Duval (Representaciones y cambios de representación para la adquisición de conceptos matemáticos) y a [Jeannette Wing](https://es.wikipedia.org/wiki/Jeannette_Wing) (Desarrollo del pensamiento computacional). Déjame todos estos referentes ordenados de acuerdo a las normas APA. Al crear la clase, introduce las citas de estos autores en el texto de la clase.\n",
    "\n",
    "\n",
    "Pero  que este diseño sea para que el estudiante pueda aprender experimentando en cuadernos Jupyter con funciones de usuario y animaciones y visualizaciones en python.   \n",
    "\n",
    "En particular utiliza para el diseño de clase a Numpy, Pandas, SymPy, Matplotlib.pyplot, Seaborn, Plotly, ipywidgets, matplotlib.animation, TensorFlow, Keras y Jupyter Notebook.    \n",
    "\n",
    "Cada vez que utilices `matplotlib.animacion` no olvides incluir el uso de `IPython. display` para la rederización de estas animaciones a través de Jupyter Notebook. No olvides darme los diseños de clase con las ecuaciones matemáticas delimitadas con signo de dolar $ para que VS Code si me renderize estas expresiones del lenguaje latex. Cuando vallas a utilizar ipywidgets ten en cuenta la siguiente importación inicial para garantizar que la visualización interactiva si se renderize en VS Code:   \n",
    "\n",
    "import numpy as np  \n",
    "import matplotlib.pyplot as plt  \n",
    "import ipywidgets as widgets  \n",
    "\n",
    "\n",
    "\n"
   ]
  },
  {
   "cell_type": "markdown",
   "id": "596bbb56",
   "metadata": {},
   "source": [
    "# Diseño de Clase: Introducción a Python para Álgebra y Trigonometría\n"
   ]
  },
  {
   "cell_type": "markdown",
   "id": "a8fc84d4",
   "metadata": {},
   "source": [
    "\n",
    "## 1. Título de la clase\n",
    "**\"Domando pitones matemáticas: Herramientas computacionales para el álgebra y trigonometría\"**\n"
   ]
  },
  {
   "cell_type": "markdown",
   "id": "0bd84dc3",
   "metadata": {},
   "source": [
    "\n",
    "## 2. Objetivos de aprendizaje\n"
   ]
  },
  {
   "cell_type": "markdown",
   "id": "984e59a1",
   "metadata": {},
   "source": [
    "**Objetivo principal:**  \n",
    "Desarrollar competencias computacionales en Python para resolver problemas de álgebra y trigonometría, integrando representaciones semióticas y pensamiento computacional.\n"
   ]
  },
  {
   "cell_type": "markdown",
   "id": "2a85cf04",
   "metadata": {},
   "source": [
    "\n",
    "# **Indicadores de logro:**\n",
    "- Transforma expresiones algebraicas entre representaciones simbólicas (SymPy), numéricas (NumPy) y gráficas (Matplotlib/Plotly)\n",
    "- Implementa funciones Python que automatizan cálculos trigonométricos y algebraicos\n",
    "- Visualiza conceptos matemáticos mediante animaciones interactivas (ipywidgets)\n",
    "- Resuelve problemas contextualizados usando ABPP con herramientas computacionales\n",
    "- Explica procesos matemáticos mediante registros semióticos (TRRS)\n"
   ]
  },
  {
   "cell_type": "markdown",
   "id": "68de1f4b",
   "metadata": {},
   "source": [
    "\n",
    "## 3. Mapa Conceptual (Graphviz)\n"
   ]
  },
  {
   "cell_type": "code",
   "execution_count": 4,
   "id": "831a968d",
   "metadata": {},
   "outputs": [
    {
     "name": "stderr",
     "output_type": "stream",
     "text": [
      "Warning: some nodes with margin (3.20,3.20) touch - falling back to straight line edges\n"
     ]
    },
    {
     "data": {
      "text/plain": [
       "'C:\\\\Users\\\\marco\\\\Downloads\\\\python_algebra_trig.png'"
      ]
     },
     "execution_count": 4,
     "metadata": {},
     "output_type": "execute_result"
    }
   ],
   "source": [
    "from graphviz import Digraph\n",
    "\n",
    "# Crear el diagrama\n",
    "graph = Digraph('Python_Algebra_Trig', \n",
    "                filename='C:/Users/marco/Downloads/python_algebra_trig',\n",
    "                format='png',\n",
    "                engine='neato')\n",
    "\n",
    "# Configuración para evitar overlaps\n",
    "graph.attr('graph', overlap='false', splines='true', layout='neato')\n",
    "\n",
    "# Nodos principales\n",
    "graph.attr('node', shape='ellipse', style='filled', color='lightblue2')\n",
    "graph.node('Python', 'Python Matemático\\n(Numpy, SymPy)')\n",
    "graph.node('Algebra', 'Álgebra\\n(Ecuaciones, Polinomios)')\n",
    "graph.node('Trig', 'Trigonometría\\n(Funciones, Identidades)')\n",
    "graph.node('Visual', 'Visualización\\n(Matplotlib, Plotly)')\n",
    "graph.node('ABP', 'Aprendizaje Basado\\nen Problemas')\n",
    "graph.node('TRRS', 'Registros Semióticos\\n(Duval)')\n",
    "\n",
    "# Nodos secundarios\n",
    "graph.attr('node', shape='box', style='rounded,filled', color='gold')\n",
    "graph.node('Jupyter', 'Jupyter Notebook')\n",
    "graph.node('Anim', 'Animaciones\\n(IPython.display)')\n",
    "graph.node('Interact', 'Interactividad\\n(ipywidgets)')\n",
    "graph.node('Problemas', 'Problemas\\nContextualizados')\n",
    "\n",
    "# Conexiones\n",
    "graph.edge('Python', 'Algebra')\n",
    "graph.edge('Python', 'Trig')\n",
    "graph.edge('Algebra', 'Visual')\n",
    "graph.edge('Trig', 'Visual')\n",
    "graph.edge('Visual', 'Anim')\n",
    "graph.edge('Visual', 'Interact')\n",
    "graph.edge('ABP', 'Problemas')\n",
    "graph.edge('TRRS', 'Algebra')\n",
    "graph.edge('TRRS', 'Trig')\n",
    "graph.edge('Jupyter', 'Python')\n",
    "graph.edge('Interact', 'Jupyter')\n",
    "\n",
    "# Renderizar y mostrar\n",
    "graph.render(view=True)\n",
    "\n"
   ]
  },
  {
   "cell_type": "markdown",
   "id": "a2a0e76f",
   "metadata": {},
   "source": [
    "\n",
    "## 4. Historia Epistemológica (Estilo Cuentero Antioqueño)\n"
   ]
  },
  {
   "cell_type": "markdown",
   "id": "0b9231da",
   "metadata": {},
   "source": [
    "\n",
    "*\"¡Ay hombe!* Les voy a contar la historia de cómo estos conceptos matemáticos que hoy nos parecen tan áridos nacieron de la pura necesidad, como el aguardiente pa' calentar el frío de la noche...\n",
    "\n",
    "*[Imagen: Al-Khwarizmi trabajando en su tratado de álgebra]*\n",
    "<img src = 'al_khwarizmi.png' width = 500> "
   ]
  },
  {
   "cell_type": "markdown",
   "id": "b2563e94",
   "metadata": {},
   "source": [
    "\n",
    "Resulta que allá por el siglo IX, en Bagdad, vivía un persa llamado Muhammad ibn Musa al-Khwarizmi - *¡uy! qué nombre tan largo* - que se puso a inventar eso del 'álgebra' pa' resolver herencias y repartir tierras. Como quien dice, el álgebra nació pa' solucionar pleitos de familia...\n",
    "\n",
    "\n"
   ]
  },
  {
   "cell_type": "markdown",
   "id": "eadaa0bd",
   "metadata": {},
   "source": [
    "\n",
    "Y luego vino el suizo Leonhard Euler, *¡ese sí que era un macho!*, que con su ojo bueno nomás (que el otro lo perdió trabajando tanto) nos dejó las funciones trigonométricas como las conocemos hoy. Hasta le puso nombre al número pi ($\\pi$) y a la base de los logaritmos naturales ($e$), *¡qué descaro!*\n",
    "\n",
    "[Imagen de Leonhard Euler]\n",
    "<img src = ''>"
   ]
  },
  {
   "cell_type": "markdown",
   "id": "2fa0beea",
   "metadata": {},
   "source": [
    "\n",
    "*[Imagen: Guido van Rossum creador de Python]* \n",
    "Y ahora nosotros, con esta herramienta que inventó Guido van Rossum (un holandés más terco que una mula antioqueña), vamos a juntar todo ese conocimiento en un solo lugar. *¡Ave María pues!* ¿Quién lo hubiera dicho?\"\n",
    "<img src = ''>  \n"
   ]
  },
  {
   "cell_type": "markdown",
   "id": "d5cc9279",
   "metadata": {},
   "source": [
    "\n",
    "# 5. Contenido de la Clase (Jupyter Notebook)\n"
   ]
  },
  {
   "cell_type": "markdown",
   "id": "1585733c",
   "metadata": {},
   "source": [
    "\n",
    "# **Contenido Detallado: Introducción a Python para Álgebra y Trigonometría**  \n",
    "*(Dirigido a estudiantes de Matemáticas de la Universidad de Antioquia)*  \n"
   ]
  },
  {
   "cell_type": "markdown",
   "id": "f05641fb",
   "metadata": {},
   "source": [
    "\n",
    "**Objetivo:** "
   ]
  },
  {
   "cell_type": "markdown",
   "id": "233cb69b",
   "metadata": {},
   "source": [
    " \n",
    "Presentar una secuencia pedagógica de Python enfocada en los conceptos necesarios para el curso de *Álgebra y Trigonometría*, según [el programa oficial](https://github.com/marco-canas/algebra_y_trigonometria/blob/main/0_programa_curso/programa_algebra_and_trigonometry.md).  \n",
    "\n",
    "\n"
   ]
  },
  {
   "cell_type": "markdown",
   "id": "46b80a04",
   "metadata": {},
   "source": [
    "\n",
    "## **1. Configuración del Entorno** *(Aula Invertida: Pre-clase)*  \n"
   ]
  },
  {
   "cell_type": "markdown",
   "id": "580b7c2e",
   "metadata": {},
   "source": [
    "**Conceptos:**  \n",
    "- Instalación de **Anaconda** (Jupyter Notebook).  \n",
    "- Uso básico de celdas (Markdown y código).  \n",
    "- Librerías esenciales: "
   ]
  },
  {
   "cell_type": "code",
   "execution_count": 5,
   "id": "64d965fd",
   "metadata": {},
   "outputs": [],
   "source": [
    "\n",
    "import numpy as np               # Cálculo numérico \n",
    "import sympy as sp               # Álgebra simbólica\n",
    "import matplotlib.pyplot as plt  # Gráficos de funciones \n",
    "from ipywidgets import interact  # Interactividad con deslizadores \n",
    "\n"
   ]
  },
  {
   "cell_type": "markdown",
   "id": "114c1d6b",
   "metadata": {},
   "source": [
    "\n",
    "**Actividad Previa:**  \n",
    "- Ver video tutorial: [*\"Primeros pasos en Jupyter\"* (enviado por plataforma).]()  \n",
    "- Crear un notebook llamado *\"[Intro_Python_language[Nombre]\"*]().  \n",
    "\n",
    "\n"
   ]
  },
  {
   "cell_type": "markdown",
   "id": "dbc334ee",
   "metadata": {},
   "source": [
    "\n",
    "## **2. Variables y Operaciones Básicas en Python**   \n",
    "\n",
    "*(STEAM: Conexión Matemática-Computacional)* "
   ]
  },
  {
   "cell_type": "markdown",
   "id": "51ca11fe",
   "metadata": {},
   "source": [
    " \n",
    "**Contenido:**  \n",
    "- Tipos de datos básicos: `int` (Números enteros), `float` (Números decimales), `bool` (Valores de verdad), `str` (Mensajes en palabras).  \n",
    "- Operadores aritméticos (`+` (Adición), `-` (Sustracción o resta), `*` (Multiplicación), `/` (División), `**` (Potenciación)). "
   ]
  },
  {
   "cell_type": "markdown",
   "id": "466b20a6",
   "metadata": {},
   "source": [
    " \n",
    "- **Ejemplo trigonométrico:** "
   ]
  },
  {
   "cell_type": "code",
   "execution_count": null,
   "id": "995de0f8",
   "metadata": {},
   "outputs": [],
   "source": [
    "angulo = np.pi/4 # crear una variables con el operador de asignación "
   ]
  },
  {
   "cell_type": "code",
   "execution_count": null,
   "id": "23e84f03",
   "metadata": {},
   "outputs": [
    {
     "data": {
      "text/plain": [
       "0.7853981633974483"
      ]
     },
     "execution_count": 7,
     "metadata": {},
     "output_type": "execute_result"
    }
   ],
   "source": [
    "angulo # imprimir el valor que la variable representa o guarda "
   ]
  },
  {
   "cell_type": "code",
   "execution_count": 8,
   "id": "ca5a6e91",
   "metadata": {},
   "outputs": [
    {
     "name": "stdout",
     "output_type": "stream",
     "text": [
      "0.7853981633974483\n"
     ]
    }
   ],
   "source": [
    "print(angulo)"
   ]
  },
  {
   "cell_type": "code",
   "execution_count": 9,
   "id": "d8f23f21",
   "metadata": {},
   "outputs": [
    {
     "data": {
      "text/plain": [
       "np.float64(0.7071067811865476)"
      ]
     },
     "execution_count": 9,
     "metadata": {},
     "output_type": "execute_result"
    }
   ],
   "source": [
    "np.sin(angulo) "
   ]
  },
  {
   "cell_type": "code",
   "execution_count": 10,
   "id": "7f5dde59",
   "metadata": {},
   "outputs": [
    {
     "name": "stdout",
     "output_type": "stream",
     "text": [
      "sen(pi/4) = 0.7071067811865476\n"
     ]
    }
   ],
   "source": [
    "print(f\"sen(pi/4) = {np.sin(angulo) }\")"
   ]
  },
  {
   "cell_type": "markdown",
   "id": "d6d98a19",
   "metadata": {},
   "source": [
    "\n",
    "**Representación Semiótica (Duval):**  \n",
    "| **Registro**      | **Ejemplo**                          |  \n",
    "|-------------------|---------------------------------------|  \n",
    "| **Simbólico**     | `np.sin(np.pi/4)`                     |  \n",
    "| **Numérico**      | `0.7071`                              |  \n",
    "| **Gráfico**       | Gráfica de `y = sin(x)` en [0, π/2]  |  \n",
    "\n",
    "---\n"
   ]
  },
  {
   "cell_type": "code",
   "execution_count": 19,
   "id": "cc02558d",
   "metadata": {},
   "outputs": [
    {
     "ename": "FileNotFoundError",
     "evalue": "[Errno 2] No such file or directory: 'C:\\\\Users\\\\marco\\\\Downloads\\\\Representación_gráfica_del_seno_de_pi/4.png'",
     "output_type": "error",
     "traceback": [
      "\u001b[31m---------------------------------------------------------------------------\u001b[39m",
      "\u001b[31mFileNotFoundError\u001b[39m                         Traceback (most recent call last)",
      "\u001b[36mCell\u001b[39m\u001b[36m \u001b[39m\u001b[32mIn[19]\u001b[39m\u001b[32m, line 18\u001b[39m\n\u001b[32m     16\u001b[39m plt.legend()\n\u001b[32m     17\u001b[39m plt.grid(alpha = \u001b[32m0.4\u001b[39m)\n\u001b[32m---> \u001b[39m\u001b[32m18\u001b[39m \u001b[43mplt\u001b[49m\u001b[43m.\u001b[49m\u001b[43msavefig\u001b[49m\u001b[43m(\u001b[49m\u001b[33;43mr\u001b[39;49m\u001b[33;43m\"\u001b[39;49m\u001b[33;43mC:\u001b[39;49m\u001b[33;43m\\\u001b[39;49m\u001b[33;43mUsers\u001b[39;49m\u001b[33;43m\\\u001b[39;49m\u001b[33;43mmarco\u001b[39;49m\u001b[33;43m\\\u001b[39;49m\u001b[33;43mDownloads\u001b[39;49m\u001b[33;43m\\\u001b[39;49m\u001b[33;43mRepresentación_gráfica_del_seno_de_pi/4.png\u001b[39;49m\u001b[33;43m\"\u001b[39;49m\u001b[43m)\u001b[49m\n\u001b[32m     19\u001b[39m plt.show()\n",
      "\u001b[36mFile \u001b[39m\u001b[32mc:\\Users\\marco\\Documentos\\docencia\\algebra_y_trigonometria\\.venv\\Lib\\site-packages\\matplotlib\\pyplot.py:1251\u001b[39m, in \u001b[36msavefig\u001b[39m\u001b[34m(*args, **kwargs)\u001b[39m\n\u001b[32m   1248\u001b[39m fig = gcf()\n\u001b[32m   1249\u001b[39m \u001b[38;5;66;03m# savefig default implementation has no return, so mypy is unhappy\u001b[39;00m\n\u001b[32m   1250\u001b[39m \u001b[38;5;66;03m# presumably this is here because subclasses can return?\u001b[39;00m\n\u001b[32m-> \u001b[39m\u001b[32m1251\u001b[39m res = \u001b[43mfig\u001b[49m\u001b[43m.\u001b[49m\u001b[43msavefig\u001b[49m\u001b[43m(\u001b[49m\u001b[43m*\u001b[49m\u001b[43margs\u001b[49m\u001b[43m,\u001b[49m\u001b[43m \u001b[49m\u001b[43m*\u001b[49m\u001b[43m*\u001b[49m\u001b[43mkwargs\u001b[49m\u001b[43m)\u001b[49m  \u001b[38;5;66;03m# type: ignore[func-returns-value]\u001b[39;00m\n\u001b[32m   1252\u001b[39m fig.canvas.draw_idle()  \u001b[38;5;66;03m# Need this if 'transparent=True', to reset colors.\u001b[39;00m\n\u001b[32m   1253\u001b[39m \u001b[38;5;28;01mreturn\u001b[39;00m res\n",
      "\u001b[36mFile \u001b[39m\u001b[32mc:\\Users\\marco\\Documentos\\docencia\\algebra_y_trigonometria\\.venv\\Lib\\site-packages\\matplotlib\\figure.py:3490\u001b[39m, in \u001b[36mFigure.savefig\u001b[39m\u001b[34m(self, fname, transparent, **kwargs)\u001b[39m\n\u001b[32m   3488\u001b[39m     \u001b[38;5;28;01mfor\u001b[39;00m ax \u001b[38;5;129;01min\u001b[39;00m \u001b[38;5;28mself\u001b[39m.axes:\n\u001b[32m   3489\u001b[39m         _recursively_make_axes_transparent(stack, ax)\n\u001b[32m-> \u001b[39m\u001b[32m3490\u001b[39m \u001b[38;5;28;43mself\u001b[39;49m\u001b[43m.\u001b[49m\u001b[43mcanvas\u001b[49m\u001b[43m.\u001b[49m\u001b[43mprint_figure\u001b[49m\u001b[43m(\u001b[49m\u001b[43mfname\u001b[49m\u001b[43m,\u001b[49m\u001b[43m \u001b[49m\u001b[43m*\u001b[49m\u001b[43m*\u001b[49m\u001b[43mkwargs\u001b[49m\u001b[43m)\u001b[49m\n",
      "\u001b[36mFile \u001b[39m\u001b[32mc:\\Users\\marco\\Documentos\\docencia\\algebra_y_trigonometria\\.venv\\Lib\\site-packages\\matplotlib\\backend_bases.py:2184\u001b[39m, in \u001b[36mFigureCanvasBase.print_figure\u001b[39m\u001b[34m(self, filename, dpi, facecolor, edgecolor, orientation, format, bbox_inches, pad_inches, bbox_extra_artists, backend, **kwargs)\u001b[39m\n\u001b[32m   2180\u001b[39m \u001b[38;5;28;01mtry\u001b[39;00m:\n\u001b[32m   2181\u001b[39m     \u001b[38;5;66;03m# _get_renderer may change the figure dpi (as vector formats\u001b[39;00m\n\u001b[32m   2182\u001b[39m     \u001b[38;5;66;03m# force the figure dpi to 72), so we need to set it again here.\u001b[39;00m\n\u001b[32m   2183\u001b[39m     \u001b[38;5;28;01mwith\u001b[39;00m cbook._setattr_cm(\u001b[38;5;28mself\u001b[39m.figure, dpi=dpi):\n\u001b[32m-> \u001b[39m\u001b[32m2184\u001b[39m         result = \u001b[43mprint_method\u001b[49m\u001b[43m(\u001b[49m\n\u001b[32m   2185\u001b[39m \u001b[43m            \u001b[49m\u001b[43mfilename\u001b[49m\u001b[43m,\u001b[49m\n\u001b[32m   2186\u001b[39m \u001b[43m            \u001b[49m\u001b[43mfacecolor\u001b[49m\u001b[43m=\u001b[49m\u001b[43mfacecolor\u001b[49m\u001b[43m,\u001b[49m\n\u001b[32m   2187\u001b[39m \u001b[43m            \u001b[49m\u001b[43medgecolor\u001b[49m\u001b[43m=\u001b[49m\u001b[43medgecolor\u001b[49m\u001b[43m,\u001b[49m\n\u001b[32m   2188\u001b[39m \u001b[43m            \u001b[49m\u001b[43morientation\u001b[49m\u001b[43m=\u001b[49m\u001b[43morientation\u001b[49m\u001b[43m,\u001b[49m\n\u001b[32m   2189\u001b[39m \u001b[43m            \u001b[49m\u001b[43mbbox_inches_restore\u001b[49m\u001b[43m=\u001b[49m\u001b[43m_bbox_inches_restore\u001b[49m\u001b[43m,\u001b[49m\n\u001b[32m   2190\u001b[39m \u001b[43m            \u001b[49m\u001b[43m*\u001b[49m\u001b[43m*\u001b[49m\u001b[43mkwargs\u001b[49m\u001b[43m)\u001b[49m\n\u001b[32m   2191\u001b[39m \u001b[38;5;28;01mfinally\u001b[39;00m:\n\u001b[32m   2192\u001b[39m     \u001b[38;5;28;01mif\u001b[39;00m bbox_inches \u001b[38;5;129;01mand\u001b[39;00m restore_bbox:\n",
      "\u001b[36mFile \u001b[39m\u001b[32mc:\\Users\\marco\\Documentos\\docencia\\algebra_y_trigonometria\\.venv\\Lib\\site-packages\\matplotlib\\backend_bases.py:2040\u001b[39m, in \u001b[36mFigureCanvasBase._switch_canvas_and_return_print_method.<locals>.<lambda>\u001b[39m\u001b[34m(*args, **kwargs)\u001b[39m\n\u001b[32m   2036\u001b[39m     optional_kws = {  \u001b[38;5;66;03m# Passed by print_figure for other renderers.\u001b[39;00m\n\u001b[32m   2037\u001b[39m         \u001b[33m\"\u001b[39m\u001b[33mdpi\u001b[39m\u001b[33m\"\u001b[39m, \u001b[33m\"\u001b[39m\u001b[33mfacecolor\u001b[39m\u001b[33m\"\u001b[39m, \u001b[33m\"\u001b[39m\u001b[33medgecolor\u001b[39m\u001b[33m\"\u001b[39m, \u001b[33m\"\u001b[39m\u001b[33morientation\u001b[39m\u001b[33m\"\u001b[39m,\n\u001b[32m   2038\u001b[39m         \u001b[33m\"\u001b[39m\u001b[33mbbox_inches_restore\u001b[39m\u001b[33m\"\u001b[39m}\n\u001b[32m   2039\u001b[39m     skip = optional_kws - {*inspect.signature(meth).parameters}\n\u001b[32m-> \u001b[39m\u001b[32m2040\u001b[39m     print_method = functools.wraps(meth)(\u001b[38;5;28;01mlambda\u001b[39;00m *args, **kwargs: \u001b[43mmeth\u001b[49m\u001b[43m(\u001b[49m\n\u001b[32m   2041\u001b[39m \u001b[43m        \u001b[49m\u001b[43m*\u001b[49m\u001b[43margs\u001b[49m\u001b[43m,\u001b[49m\u001b[43m \u001b[49m\u001b[43m*\u001b[49m\u001b[43m*\u001b[49m\u001b[43m{\u001b[49m\u001b[43mk\u001b[49m\u001b[43m:\u001b[49m\u001b[43m \u001b[49m\u001b[43mv\u001b[49m\u001b[43m \u001b[49m\u001b[38;5;28;43;01mfor\u001b[39;49;00m\u001b[43m \u001b[49m\u001b[43mk\u001b[49m\u001b[43m,\u001b[49m\u001b[43m \u001b[49m\u001b[43mv\u001b[49m\u001b[43m \u001b[49m\u001b[38;5;129;43;01min\u001b[39;49;00m\u001b[43m \u001b[49m\u001b[43mkwargs\u001b[49m\u001b[43m.\u001b[49m\u001b[43mitems\u001b[49m\u001b[43m(\u001b[49m\u001b[43m)\u001b[49m\u001b[43m \u001b[49m\u001b[38;5;28;43;01mif\u001b[39;49;00m\u001b[43m \u001b[49m\u001b[43mk\u001b[49m\u001b[43m \u001b[49m\u001b[38;5;129;43;01mnot\u001b[39;49;00m\u001b[43m \u001b[49m\u001b[38;5;129;43;01min\u001b[39;49;00m\u001b[43m \u001b[49m\u001b[43mskip\u001b[49m\u001b[43m}\u001b[49m\u001b[43m)\u001b[49m)\n\u001b[32m   2042\u001b[39m \u001b[38;5;28;01melse\u001b[39;00m:  \u001b[38;5;66;03m# Let third-parties do as they see fit.\u001b[39;00m\n\u001b[32m   2043\u001b[39m     print_method = meth\n",
      "\u001b[36mFile \u001b[39m\u001b[32mc:\\Users\\marco\\Documentos\\docencia\\algebra_y_trigonometria\\.venv\\Lib\\site-packages\\matplotlib\\backends\\backend_agg.py:481\u001b[39m, in \u001b[36mFigureCanvasAgg.print_png\u001b[39m\u001b[34m(self, filename_or_obj, metadata, pil_kwargs)\u001b[39m\n\u001b[32m    434\u001b[39m \u001b[38;5;28;01mdef\u001b[39;00m\u001b[38;5;250m \u001b[39m\u001b[34mprint_png\u001b[39m(\u001b[38;5;28mself\u001b[39m, filename_or_obj, *, metadata=\u001b[38;5;28;01mNone\u001b[39;00m, pil_kwargs=\u001b[38;5;28;01mNone\u001b[39;00m):\n\u001b[32m    435\u001b[39m \u001b[38;5;250m    \u001b[39m\u001b[33;03m\"\"\"\u001b[39;00m\n\u001b[32m    436\u001b[39m \u001b[33;03m    Write the figure to a PNG file.\u001b[39;00m\n\u001b[32m    437\u001b[39m \n\u001b[32m   (...)\u001b[39m\u001b[32m    479\u001b[39m \u001b[33;03m        *metadata*, including the default 'Software' key.\u001b[39;00m\n\u001b[32m    480\u001b[39m \u001b[33;03m    \"\"\"\u001b[39;00m\n\u001b[32m--> \u001b[39m\u001b[32m481\u001b[39m     \u001b[38;5;28;43mself\u001b[39;49m\u001b[43m.\u001b[49m\u001b[43m_print_pil\u001b[49m\u001b[43m(\u001b[49m\u001b[43mfilename_or_obj\u001b[49m\u001b[43m,\u001b[49m\u001b[43m \u001b[49m\u001b[33;43m\"\u001b[39;49m\u001b[33;43mpng\u001b[39;49m\u001b[33;43m\"\u001b[39;49m\u001b[43m,\u001b[49m\u001b[43m \u001b[49m\u001b[43mpil_kwargs\u001b[49m\u001b[43m,\u001b[49m\u001b[43m \u001b[49m\u001b[43mmetadata\u001b[49m\u001b[43m)\u001b[49m\n",
      "\u001b[36mFile \u001b[39m\u001b[32mc:\\Users\\marco\\Documentos\\docencia\\algebra_y_trigonometria\\.venv\\Lib\\site-packages\\matplotlib\\backends\\backend_agg.py:430\u001b[39m, in \u001b[36mFigureCanvasAgg._print_pil\u001b[39m\u001b[34m(self, filename_or_obj, fmt, pil_kwargs, metadata)\u001b[39m\n\u001b[32m    425\u001b[39m \u001b[38;5;250m\u001b[39m\u001b[33;03m\"\"\"\u001b[39;00m\n\u001b[32m    426\u001b[39m \u001b[33;03mDraw the canvas, then save it using `.image.imsave` (to which\u001b[39;00m\n\u001b[32m    427\u001b[39m \u001b[33;03m*pil_kwargs* and *metadata* are forwarded).\u001b[39;00m\n\u001b[32m    428\u001b[39m \u001b[33;03m\"\"\"\u001b[39;00m\n\u001b[32m    429\u001b[39m FigureCanvasAgg.draw(\u001b[38;5;28mself\u001b[39m)\n\u001b[32m--> \u001b[39m\u001b[32m430\u001b[39m \u001b[43mmpl\u001b[49m\u001b[43m.\u001b[49m\u001b[43mimage\u001b[49m\u001b[43m.\u001b[49m\u001b[43mimsave\u001b[49m\u001b[43m(\u001b[49m\n\u001b[32m    431\u001b[39m \u001b[43m    \u001b[49m\u001b[43mfilename_or_obj\u001b[49m\u001b[43m,\u001b[49m\u001b[43m \u001b[49m\u001b[38;5;28;43mself\u001b[39;49m\u001b[43m.\u001b[49m\u001b[43mbuffer_rgba\u001b[49m\u001b[43m(\u001b[49m\u001b[43m)\u001b[49m\u001b[43m,\u001b[49m\u001b[43m \u001b[49m\u001b[38;5;28;43mformat\u001b[39;49m\u001b[43m=\u001b[49m\u001b[43mfmt\u001b[49m\u001b[43m,\u001b[49m\u001b[43m \u001b[49m\u001b[43morigin\u001b[49m\u001b[43m=\u001b[49m\u001b[33;43m\"\u001b[39;49m\u001b[33;43mupper\u001b[39;49m\u001b[33;43m\"\u001b[39;49m\u001b[43m,\u001b[49m\n\u001b[32m    432\u001b[39m \u001b[43m    \u001b[49m\u001b[43mdpi\u001b[49m\u001b[43m=\u001b[49m\u001b[38;5;28;43mself\u001b[39;49m\u001b[43m.\u001b[49m\u001b[43mfigure\u001b[49m\u001b[43m.\u001b[49m\u001b[43mdpi\u001b[49m\u001b[43m,\u001b[49m\u001b[43m \u001b[49m\u001b[43mmetadata\u001b[49m\u001b[43m=\u001b[49m\u001b[43mmetadata\u001b[49m\u001b[43m,\u001b[49m\u001b[43m \u001b[49m\u001b[43mpil_kwargs\u001b[49m\u001b[43m=\u001b[49m\u001b[43mpil_kwargs\u001b[49m\u001b[43m)\u001b[49m\n",
      "\u001b[36mFile \u001b[39m\u001b[32mc:\\Users\\marco\\Documentos\\docencia\\algebra_y_trigonometria\\.venv\\Lib\\site-packages\\matplotlib\\image.py:1657\u001b[39m, in \u001b[36mimsave\u001b[39m\u001b[34m(fname, arr, vmin, vmax, cmap, format, origin, dpi, metadata, pil_kwargs)\u001b[39m\n\u001b[32m   1655\u001b[39m pil_kwargs.setdefault(\u001b[33m\"\u001b[39m\u001b[33mformat\u001b[39m\u001b[33m\"\u001b[39m, \u001b[38;5;28mformat\u001b[39m)\n\u001b[32m   1656\u001b[39m pil_kwargs.setdefault(\u001b[33m\"\u001b[39m\u001b[33mdpi\u001b[39m\u001b[33m\"\u001b[39m, (dpi, dpi))\n\u001b[32m-> \u001b[39m\u001b[32m1657\u001b[39m \u001b[43mimage\u001b[49m\u001b[43m.\u001b[49m\u001b[43msave\u001b[49m\u001b[43m(\u001b[49m\u001b[43mfname\u001b[49m\u001b[43m,\u001b[49m\u001b[43m \u001b[49m\u001b[43m*\u001b[49m\u001b[43m*\u001b[49m\u001b[43mpil_kwargs\u001b[49m\u001b[43m)\u001b[49m\n",
      "\u001b[36mFile \u001b[39m\u001b[32mc:\\Users\\marco\\Documentos\\docencia\\algebra_y_trigonometria\\.venv\\Lib\\site-packages\\PIL\\Image.py:2583\u001b[39m, in \u001b[36mImage.save\u001b[39m\u001b[34m(self, fp, format, **params)\u001b[39m\n\u001b[32m   2581\u001b[39m         fp = builtins.open(filename, \u001b[33m\"\u001b[39m\u001b[33mr+b\u001b[39m\u001b[33m\"\u001b[39m)\n\u001b[32m   2582\u001b[39m     \u001b[38;5;28;01melse\u001b[39;00m:\n\u001b[32m-> \u001b[39m\u001b[32m2583\u001b[39m         fp = builtins.open(filename, \u001b[33m\"\u001b[39m\u001b[33mw+b\u001b[39m\u001b[33m\"\u001b[39m)\n\u001b[32m   2584\u001b[39m \u001b[38;5;28;01melse\u001b[39;00m:\n\u001b[32m   2585\u001b[39m     fp = cast(IO[\u001b[38;5;28mbytes\u001b[39m], fp)\n",
      "\u001b[31mFileNotFoundError\u001b[39m: [Errno 2] No such file or directory: 'C:\\\\Users\\\\marco\\\\Downloads\\\\Representación_gráfica_del_seno_de_pi/4.png'"
     ]
    },
    {
     "data": {
      "image/png": "[encoded data removed]",
      "text/plain": [
       "<Figure size 640x480 with 1 Axes>"
      ]
     },
     "metadata": {},
     "output_type": "display_data"
    }
   ],
   "source": [
    "import numpy as np\n",
    "\n",
    "import matplotlib.pyplot as plt\n",
    "\n",
    "x = np.linspace(0, np.pi/2, 100)\n",
    "y = np.sin(x)\n",
    "\n",
    "plt.plot(x, y, label='y = sin(x)')\n",
    "plt.scatter(np.pi/4, np.sin(np.pi/4), color='red', label='Point at pi/4')\n",
    "plt.xlabel('x')\n",
    "plt.ylabel('sin(x)')\n",
    "plt.yticks(np.arange(0, 1, 0.1))\n",
    "plt.xticks([0, np.pi/4, np.pi/2], ['0', 'π/4', 'π/2'])\n",
    "plt.title('Gráfica de y = sin(x) en [0, π/2]')\n",
    "plt.grid(True)\n",
    "plt.legend()\n",
    "plt.grid(alpha = 0.4)\n",
    "plt.savefig(r\"C:\\Users\\marco\\Downloads\\Representación_gráfica_del_seno_de_pi/4.png\")\n",
    "plt.show()"
   ]
  },
  {
   "cell_type": "markdown",
   "id": "86e1f12b",
   "metadata": {},
   "source": [
    "\n",
    "## **3. Álgebra Simbólica con SymPy** *(ABP: Resolver ecuaciones)*  \n",
    "**Problema Inicial:**"
   ]
  },
  {
   "cell_type": "markdown",
   "id": "e53cf035",
   "metadata": {},
   "source": [
    "  \n",
    "*\"Resolver la ecuación cuadrática $ ax^2 + bx + c = 0 $ para cualquier coeficiente.\"*  \n"
   ]
  },
  {
   "cell_type": "markdown",
   "id": "da67360f",
   "metadata": {},
   "source": [
    "\n",
    "**Solución Python:** "
   ]
  },
  {
   "cell_type": "code",
   "execution_count": 20,
   "id": "d3318606",
   "metadata": {},
   "outputs": [],
   "source": [
    " \n",
    "\n",
    "# Definir variables simbólicas\n",
    "x = sp.symbols('x')\n",
    "a, b, c = 2, -3, 1  # Ejemplo: 2x² -3x + 1 = 0\n"
   ]
  },
  {
   "cell_type": "code",
   "execution_count": 21,
   "id": "42f54f4e",
   "metadata": {},
   "outputs": [
    {
     "name": "stdout",
     "output_type": "stream",
     "text": [
      "Soluciones: [1/2, 1]\n"
     ]
    }
   ],
   "source": [
    "\n",
    "# Resolver\n",
    "soluciones = sp.solve(a*x**2 + b*x + c, x)\n",
    "print(f\"Soluciones: {soluciones}\")  # Output: [1/2, 1]\n",
    "\n"
   ]
  },
  {
   "cell_type": "markdown",
   "id": "aef076f8",
   "metadata": {},
   "source": [
    "\n",
    "**Visualización (Matplotlib):**  \n"
   ]
  },
  {
   "cell_type": "code",
   "execution_count": 23,
   "id": "eb799ed1",
   "metadata": {},
   "outputs": [
    {
     "data": {
      "image/png": "[encoded data removed]",
      "text/plain": [
       "<Figure size 640x480 with 1 Axes>"
      ]
     },
     "metadata": {},
     "output_type": "display_data"
    }
   ],
   "source": [
    "\n",
    "x_vals = np.linspace(-1, 2, 100) # crea progresiones aritméticas en función de su premer término, su último término y el número de terminos de la progresión\n",
    "y_vals = a*x_vals**2 + b*x_vals + c\n",
    "plt.plot(x_vals, y_vals, label=f\"${a}x^2 + {b}x + {c}$\")\n",
    "plt.axhline(0, color='black', linewidth=0.5)\n",
    "plt.scatter(soluciones, [0, 0], color='red', label='Raíces')\n",
    "plt.legend()\n",
    "plt.title(\"Gráfica de la Ecuación Cuadrática\")\n",
    "plt.grid(alpha = 0.4)\n",
    "plt.savefig(r\"C:\\Users\\marco\\Downloads\\grafica_de_la_ecuación.jpg\")\n",
    "plt.show()\n",
    "\n"
   ]
  },
  {
   "cell_type": "markdown",
   "id": "2f364d67",
   "metadata": {},
   "source": [
    "\n",
    "\n",
    "\n",
    "## **4. Funciones Trigonométricas Interactivas** *(STEAM + TRRS)*  \n",
    "**Objetivo:** Explorar cómo cambian las gráficas de $ y = A \\cdot \\sin(Bx + C) + D $.  \n",
    "\n",
    "**Widget Interactivo:**  \n"
   ]
  },
  {
   "cell_type": "code",
   "execution_count": null,
   "id": "009f3f0a",
   "metadata": {},
   "outputs": [],
   "source": [
    "@interact(\n",
    "    A=(1, 5), B=(1, 5), \n",
    "    C=(0, 2*np.pi, 0.1), D=(-2, 2, 0.1)\n",
    "def graficar_seno(A=1, B=1, C=0, D=0):\n",
    "    x = np.linspace(0, 4*np.pi, 200)\n",
    "    y = A * np.sin(B*x + C) + D\n",
    "    plt.figure(figsize=(10, 4))\n",
    "    plt.plot(x, y, label=f\"${A}\\\\cdot\\\\sin({B}x + {C:.1f}) + {D}$\")\n",
    "    plt.legend()\n",
    "    plt.grid()\n",
    "    plt.show()\n",
    "\n"
   ]
  },
  {
   "cell_type": "markdown",
   "id": "60440b6e",
   "metadata": {},
   "source": [
    "\n",
    "**Análisis de Registros (Duval):**  \n",
    "- **Simbólico:** Fórmula general de la función.  \n",
    "- **Tabular:** Valores de $x$ vs \\( y \\) (usar `pandas.DataFrame`).  \n",
    "- **Gráfico:** Comparar múltiples funciones en un mismo plot.  \n",
    "\n",
    "---\n"
   ]
  },
  {
   "cell_type": "markdown",
   "id": "d464a44f",
   "metadata": {},
   "source": [
    "\n",
    "## **5. Aplicación: Problema de Altura de un Edificio** *(ABPP)*  \n",
    "**Enunciado:**  \n",
    "*\"Desde un punto en el suelo, el ángulo de elevación hasta la parte superior de un edificio es de 30°. Si nos acercamos 20 metros, el ángulo aumenta a 45°. ¿Cuál es la altura del edificio?\"*  \n",
    "\n",
    "**Solución Python:**  \n",
    "```python\n",
    "from sympy import tan, Eq, solve\n",
    "\n",
    "# Definir variables\n",
    "h = sp.symbols('h')  # Altura\n",
    "d = 20 / (tan(np.pi/4) - tan(np.pi/6))  # Usando trigonometría\n",
    "altura = d * tan(np.pi/4)\n",
    "\n",
    "print(f\"Altura del edificio: {altura.evalf():.2f} metros\")\n",
    "```\n",
    "\n",
    "---\n",
    "\n",
    "## **6. Evaluación Formativa** *(Quiz Rápido en Jupyter)*  \n",
    "**Preguntas:**  \n",
    "1. ¿Cómo se define una variable simbólica en SymPy?  \n",
    "   ```python\n",
    "   x = sp.symbols('x')  # Respuesta\n",
    "   ```  \n",
    "2. Escribe el código para graficar \\( y = \\cos(x) \\) en \\([0, 2\\pi]\\).  \n",
    "3. Usa SymPy para expandir \\( (x + 1)^3 \\).  \n",
    "\n",
    "---\n",
    "\n",
    "## **7. Tarea Integradora**  \n",
    "**Instrucciones:**  \n",
    "1. Implementa una función `resolver_trig(ecuacion)` que reciba una ecuación trigonométrica (ej: \\( \\sin(x) = 0.5 \\)) y devuelva las soluciones en \\([0, 2\\pi]\\).  \n",
    "2. Crea una animación que muestre cómo varía la gráfica de \\( y = \\tan(x) \\) cuando se añade un desfase.  \n",
    "\n",
    "**Código Base para la Animación:**  \n",
    "```python\n",
    "from matplotlib.animation import FuncAnimation\n",
    "from IPython.display import HTML\n",
    "\n",
    "fig, ax = plt.subplots()\n",
    "x = np.linspace(-np.pi/2 + 0.1, np.pi/2 - 0.1, 100)\n",
    "line, = ax.plot(x, np.tan(x))\n",
    "\n",
    "def update(frame):\n",
    "    line.set_ydata(np.tan(x + frame/10))\n",
    "    return line,\n",
    "\n",
    "ani = FuncAnimation(fig, update, frames=100, blit=True)\n",
    "HTML(ani.to_jshtml())\n",
    "```\n",
    "\n",
    "---\n",
    "\n",
    "## **8. Recursos Adicionales**  \n",
    "- **Libro:** *\"Python for Mathematics\"* (Sergio Gutiérrez).  \n",
    "- **Video:** *\"SymPy vs NumPy: Cuándo usar cada uno\"* (Canal de YouTube del curso).  \n",
    "- **Repositorio GitHub:** [Ejemplos de clase](https://github.com/marco-canas/algebra_y_trig_python).  \n",
    "\n",
    "---\n",
    "\n",
    "### **Nota Pedagógica:**  \n",
    "Este diseño sigue los lineamientos del programa de la **Universidad de Antioquia**, integrando:  \n",
    "- **Aula Invertida** (pre-clase con videos).  \n",
    "- **STEAM** (visualizaciones matemáticas-programación).  \n",
    "- **ABP** (problema del edificio).  \n",
    "- **TRRS de Duval** (ejercicios multimodales).  \n",
    "\n",
    "**\"La programación no reemplaza el pensamiento matemático, sino que lo potencia\"** — Jeannette Wing (2006)."
   ]
  },
  {
   "cell_type": "markdown",
   "id": "0e66bdd9",
   "metadata": {},
   "source": [
    "\n",
    "## Introducción a Python para Álgebra y Trigonometría\n"
   ]
  },
  {
   "cell_type": "markdown",
   "id": "578772f8",
   "metadata": {},
   "source": [
    "\n",
    "# ## 1. Configuración inicial\n"
   ]
  },
  {
   "cell_type": "code",
   "execution_count": 10,
   "id": "bc906271",
   "metadata": {},
   "outputs": [],
   "source": [
    "# ```python\n",
    "import numpy as np # importación de la librería para calculo numérico \n",
    "import sympy as sp # importación de la librería para cálculo simbólico \n",
    "import matplotlib.pyplot as plt\n",
    "from matplotlib import animation\n",
    "from IPython.display import HTML\n",
    "import plotly.express as px\n",
    "import ipywidgets as widgets\n",
    "from ipywidgets import interact\n",
    "# ```\n"
   ]
  },
  {
   "cell_type": "markdown",
   "id": "64402100",
   "metadata": {},
   "source": [
    "## 2. Álgebra Simbólica con SymPy\n",
    " \n"
   ]
  },
  {
   "cell_type": "markdown",
   "id": "318dd8c5",
   "metadata": {},
   "source": [
    "# Trabajemos con la ecuación cuadrática general:\n",
    "# $$ ax^2 + bx + c = 0 $$\n",
    "# \n"
   ]
  },
  {
   "cell_type": "code",
   "execution_count": null,
   "id": "06010efc",
   "metadata": {},
   "outputs": [
    {
     "data": {
      "text/plain": [
       "[(-b - sqrt(-4*a*c + b**2))/(2*a), (-b + sqrt(-4*a*c + b**2))/(2*a)]"
      ]
     },
     "metadata": {},
     "output_type": "display_data"
    }
   ],
   "source": [
    "# Definición de variables simbólicas\n",
    "import sympy as sp \n",
    "x, a, b, c = sp.symbols('x a b c')\n",
    "ecuacion = a*x**2 + b*x + c\n",
    "soluciones = sp.solve(ecuacion, x)\n",
    "display(soluciones)  # Muestra las soluciones generales\n",
    "# ```\n"
   ]
  },
  {
   "cell_type": "code",
   "execution_count": null,
   "id": "94505877",
   "metadata": {},
   "outputs": [
    {
     "data": {
      "text/plain": [
       "((-b - sqrt(-4*a*c + b**2))/(2*a), (-b + sqrt(-4*a*c + b**2))/(2*a))"
      ]
     },
     "execution_count": 12,
     "metadata": {},
     "output_type": "execute_result"
    }
   ],
   "source": [
    "soluciones[0]"
   ]
  },
  {
   "cell_type": "code",
   "execution_count": 13,
   "id": "86b8fc5f",
   "metadata": {},
   "outputs": [
    {
     "data": {
      "text/latex": [
       "$\\displaystyle \\frac{- b + \\sqrt{- 4 a c + b^{2}}}{2 a}$"
      ],
      "text/plain": [
       "(-b + sqrt(-4*a*c + b**2))/(2*a)"
      ]
     },
     "execution_count": 13,
     "metadata": {},
     "output_type": "execute_result"
    }
   ],
   "source": [
    "soluciones[1]"
   ]
  },
  {
   "cell_type": "markdown",
   "id": "32f5a22c",
   "metadata": {},
   "source": [
    "\n",
    "# %% [markdown]\n",
    "# ## 3. Trigonometría Interactiva\n",
    "# \n",
    "# Visualización de funciones trigonométricas:\n",
    "# $$ f(x) = A \\cdot \\sin(Bx + C) + D $$\n",
    "# \n",
    "# ```python\n",
    "@interact(A=(1, 5), B=(1, 5), C=(0, 2*np.pi), D=(-2, 2))\n",
    "def plot_trig(A=1, B=1, C=0, D=0):\n",
    "    x_vals = np.linspace(0, 4*np.pi, 200)\n",
    "    y_vals = A * np.sin(B*x_vals + C) + D\n",
    "    plt.figure(figsize=(10, 4))\n",
    "    plt.plot(x_vals, y_vals, lw=2, color='purple')\n",
    "    plt.title(f'Función Seno: ${A}\\\\cdot\\\\sin({B}x + {C:.2f}) + {D}$')\n",
    "    plt.grid(True)\n",
    "    plt.show()\n",
    "# ```\n",
    "\n",
    "# %% [markdown]\n",
    "# ## 4. Animación de Identidades Trigonométricas\n",
    "# \n",
    "# Visualización de la identidad pitagórica:\n",
    "# $$ \\sin^2(\\theta) + \\cos^2(\\theta) = 1 $$\n",
    "# \n",
    "# ```python\n",
    "# Configuración de la animación\n",
    "fig, ax = plt.subplots(figsize=(8, 8))\n",
    "theta = np.linspace(0, 2*np.pi, 100)\n",
    "circle = plt.Circle((0, 0), 1, fill=False, color='blue')\n",
    "\n",
    "def init():\n",
    "    ax.set_xlim(-1.5, 1.5)\n",
    "    ax.set_ylim(-1.5, 1.5)\n",
    "    ax.add_patch(circle)\n",
    "    return []\n",
    "\n",
    "def animate(i):\n",
    "    ax.clear()\n",
    "    ax.add_patch(circle)\n",
    "    current_theta = theta[i]\n",
    "    x = np.cos(current_theta)\n",
    "    y = np.sin(current_theta)\n",
    "    ax.plot([0, x], [0, y], 'r-')\n",
    "    ax.plot([x, x], [0, y], 'g--')\n",
    "    ax.plot([0, x], [y, y], 'g--')\n",
    "    ax.text(0.1, 1.2, f'θ = {current_theta:.2f} rad')\n",
    "    ax.text(0.1, 1.1, f'sin²(θ) + cos²(θ) = {x**2 + y**2:.2f}')\n",
    "    return []\n",
    "\n",
    "anim = animation.FuncAnimation(fig, animate, frames=len(theta), \n",
    "                              init_func=init, blit=True)\n",
    "HTML(anim.to_jshtml())\n",
    "# ```\n",
    "```\n"
   ]
  },
  {
   "cell_type": "markdown",
   "id": "9257857c",
   "metadata": {},
   "source": [
    "\n",
    "## 6. Actividades de Aprendizaje\n"
   ]
  },
  {
   "cell_type": "markdown",
   "id": "562e0489",
   "metadata": {},
   "source": [
    "\n",
    "1. **Exploración guiada**: Usando widgets, los estudiantes manipulan parámetros de funciones para descubrir patrones.\n"
   ]
  },
  {
   "cell_type": "markdown",
   "id": "fd99dd07",
   "metadata": {},
   "source": [
    "2. **Traducción de registros**: Dada una expresión algebraica, representarla gráficamente, numéricamente y simbólicamente.\n",
    "3. **Caza del error**: Se provee código Python con errores conceptuales matemáticos que deben identificar y corregir.\n",
    "4. **Problema contextualizado**: Calcular ángulos de elevación para diseño de rampas accesibles usando trigonometría.\n",
    "5. **Creación de tutoriales**: Graban explicaciones cortas mostrando la solución de problemas usando Python.\n"
   ]
  },
  {
   "cell_type": "markdown",
   "id": "9e360f29",
   "metadata": {},
   "source": [
    "\n",
    "## 7. Canción/Poema de Conceptos\n"
   ]
  },
  {
   "cell_type": "markdown",
   "id": "b01ca46e",
   "metadata": {},
   "source": [
    "\n",
    "**\"La Cumbia del Python Matemático\"**  \n",
    "*(Se canta con ritmo de cumbia colombiana)*\n",
    "\n",
    "```\n",
    "Cuando el álgebra se complica,  \n",
    "y las ecuaciones no dan paz,  \n",
    "Python viene a la carrera  \n",
    "con SymPy pa' resolver más.  \n",
    "\n",
    "¡Ay! seno, coseno,  \n",
    "tangente y cotangente,  \n",
    "con NumPy las grafico,  \n",
    "y las veo interactivamente.  \n",
    "\n",
    "Los polinomios se factorizan,  \n",
    "las raíces voy a hallar,  \n",
    "con código bien estructurado  \n",
    "las matemáticas van a cantar.  \n",
    "\n",
    "¡Oye! registros semióticos,  \n",
    "de Duval hay que aprender,  \n",
    "gráfico, tabla y símbolo  \n",
    "para mejor comprender.\n",
    "```\n"
   ]
  },
  {
   "cell_type": "markdown",
   "id": "ad1cd12f",
   "metadata": {},
   "source": [
    "\n",
    "## 8. Tareas (Función de Asignación Automática)\n"
   ]
  },
  {
   "cell_type": "code",
   "execution_count": 15,
   "id": "c5a048ba",
   "metadata": {},
   "outputs": [
    {
     "ename": "HTTPError",
     "evalue": "HTTP Error 404: Not Found",
     "output_type": "error",
     "traceback": [
      "\u001b[31m---------------------------------------------------------------------------\u001b[39m",
      "\u001b[31mHTTPError\u001b[39m                                 Traceback (most recent call last)",
      "\u001b[36mCell\u001b[39m\u001b[36m \u001b[39m\u001b[32mIn[15]\u001b[39m\u001b[32m, line 45\u001b[39m\n\u001b[32m     42\u001b[39m     \u001b[38;5;28;01mreturn\u001b[39;00m pd.DataFrame(tareas_asignadas)\n\u001b[32m     44\u001b[39m \u001b[38;5;66;03m# Uso de la función\u001b[39;00m\n\u001b[32m---> \u001b[39m\u001b[32m45\u001b[39m tareas = \u001b[43masignar_tareas\u001b[49m\u001b[43m(\u001b[49m\u001b[33;43m\"\u001b[39;49m\u001b[33;43mhttps://github.com/marco-canas/groups_list/blob/main/algebra_and_geometry.xlsx\u001b[39;49m\u001b[33;43m\"\u001b[39;49m\u001b[43m)\u001b[49m\n\u001b[32m     46\u001b[39m tareas.to_excel(\u001b[33m\"\u001b[39m\u001b[33mtareas_asignadas.xlsx\u001b[39m\u001b[33m\"\u001b[39m, index=\u001b[38;5;28;01mFalse\u001b[39;00m)\n",
      "\u001b[36mCell\u001b[39m\u001b[36m \u001b[39m\u001b[32mIn[15]\u001b[39m\u001b[32m, line 6\u001b[39m, in \u001b[36masignar_tareas\u001b[39m\u001b[34m(lista_estudiantes)\u001b[39m\n\u001b[32m      4\u001b[39m \u001b[38;5;28;01mdef\u001b[39;00m\u001b[38;5;250m \u001b[39m\u001b[34masignar_tareas\u001b[39m(lista_estudiantes):\n\u001b[32m      5\u001b[39m     \u001b[38;5;66;03m# Leer lista de estudiantes\u001b[39;00m\n\u001b[32m----> \u001b[39m\u001b[32m6\u001b[39m     estudiantes = \u001b[43mpd\u001b[49m\u001b[43m.\u001b[49m\u001b[43mread_excel\u001b[49m\u001b[43m(\u001b[49m\u001b[43mlista_estudiantes\u001b[49m\u001b[43m)\u001b[49m\n\u001b[32m      8\u001b[39m     \u001b[38;5;66;03m# Generar 20 ejercicios\u001b[39;00m\n\u001b[32m      9\u001b[39m     ejercicios = []\n",
      "\u001b[36mFile \u001b[39m\u001b[32mc:\\Users\\marco\\Documentos\\docencia\\algebra_y_trigonometria\\.venv\\Lib\\site-packages\\pandas\\io\\excel\\_base.py:495\u001b[39m, in \u001b[36mread_excel\u001b[39m\u001b[34m(io, sheet_name, header, names, index_col, usecols, dtype, engine, converters, true_values, false_values, skiprows, nrows, na_values, keep_default_na, na_filter, verbose, parse_dates, date_parser, date_format, thousands, decimal, comment, skipfooter, storage_options, dtype_backend, engine_kwargs)\u001b[39m\n\u001b[32m    493\u001b[39m \u001b[38;5;28;01mif\u001b[39;00m \u001b[38;5;129;01mnot\u001b[39;00m \u001b[38;5;28misinstance\u001b[39m(io, ExcelFile):\n\u001b[32m    494\u001b[39m     should_close = \u001b[38;5;28;01mTrue\u001b[39;00m\n\u001b[32m--> \u001b[39m\u001b[32m495\u001b[39m     io = \u001b[43mExcelFile\u001b[49m\u001b[43m(\u001b[49m\n\u001b[32m    496\u001b[39m \u001b[43m        \u001b[49m\u001b[43mio\u001b[49m\u001b[43m,\u001b[49m\n\u001b[32m    497\u001b[39m \u001b[43m        \u001b[49m\u001b[43mstorage_options\u001b[49m\u001b[43m=\u001b[49m\u001b[43mstorage_options\u001b[49m\u001b[43m,\u001b[49m\n\u001b[32m    498\u001b[39m \u001b[43m        \u001b[49m\u001b[43mengine\u001b[49m\u001b[43m=\u001b[49m\u001b[43mengine\u001b[49m\u001b[43m,\u001b[49m\n\u001b[32m    499\u001b[39m \u001b[43m        \u001b[49m\u001b[43mengine_kwargs\u001b[49m\u001b[43m=\u001b[49m\u001b[43mengine_kwargs\u001b[49m\u001b[43m,\u001b[49m\n\u001b[32m    500\u001b[39m \u001b[43m    \u001b[49m\u001b[43m)\u001b[49m\n\u001b[32m    501\u001b[39m \u001b[38;5;28;01melif\u001b[39;00m engine \u001b[38;5;129;01mand\u001b[39;00m engine != io.engine:\n\u001b[32m    502\u001b[39m     \u001b[38;5;28;01mraise\u001b[39;00m \u001b[38;5;167;01mValueError\u001b[39;00m(\n\u001b[32m    503\u001b[39m         \u001b[33m\"\u001b[39m\u001b[33mEngine should not be specified when passing \u001b[39m\u001b[33m\"\u001b[39m\n\u001b[32m    504\u001b[39m         \u001b[33m\"\u001b[39m\u001b[33man ExcelFile - ExcelFile already has the engine set\u001b[39m\u001b[33m\"\u001b[39m\n\u001b[32m    505\u001b[39m     )\n",
      "\u001b[36mFile \u001b[39m\u001b[32mc:\\Users\\marco\\Documentos\\docencia\\algebra_y_trigonometria\\.venv\\Lib\\site-packages\\pandas\\io\\excel\\_base.py:1550\u001b[39m, in \u001b[36mExcelFile.__init__\u001b[39m\u001b[34m(self, path_or_buffer, engine, storage_options, engine_kwargs)\u001b[39m\n\u001b[32m   1548\u001b[39m     ext = \u001b[33m\"\u001b[39m\u001b[33mxls\u001b[39m\u001b[33m\"\u001b[39m\n\u001b[32m   1549\u001b[39m \u001b[38;5;28;01melse\u001b[39;00m:\n\u001b[32m-> \u001b[39m\u001b[32m1550\u001b[39m     ext = \u001b[43minspect_excel_format\u001b[49m\u001b[43m(\u001b[49m\n\u001b[32m   1551\u001b[39m \u001b[43m        \u001b[49m\u001b[43mcontent_or_path\u001b[49m\u001b[43m=\u001b[49m\u001b[43mpath_or_buffer\u001b[49m\u001b[43m,\u001b[49m\u001b[43m \u001b[49m\u001b[43mstorage_options\u001b[49m\u001b[43m=\u001b[49m\u001b[43mstorage_options\u001b[49m\n\u001b[32m   1552\u001b[39m \u001b[43m    \u001b[49m\u001b[43m)\u001b[49m\n\u001b[32m   1553\u001b[39m     \u001b[38;5;28;01mif\u001b[39;00m ext \u001b[38;5;129;01mis\u001b[39;00m \u001b[38;5;28;01mNone\u001b[39;00m:\n\u001b[32m   1554\u001b[39m         \u001b[38;5;28;01mraise\u001b[39;00m \u001b[38;5;167;01mValueError\u001b[39;00m(\n\u001b[32m   1555\u001b[39m             \u001b[33m\"\u001b[39m\u001b[33mExcel file format cannot be determined, you must specify \u001b[39m\u001b[33m\"\u001b[39m\n\u001b[32m   1556\u001b[39m             \u001b[33m\"\u001b[39m\u001b[33man engine manually.\u001b[39m\u001b[33m\"\u001b[39m\n\u001b[32m   1557\u001b[39m         )\n",
      "\u001b[36mFile \u001b[39m\u001b[32mc:\\Users\\marco\\Documentos\\docencia\\algebra_y_trigonometria\\.venv\\Lib\\site-packages\\pandas\\io\\excel\\_base.py:1402\u001b[39m, in \u001b[36minspect_excel_format\u001b[39m\u001b[34m(content_or_path, storage_options)\u001b[39m\n\u001b[32m   1399\u001b[39m \u001b[38;5;28;01mif\u001b[39;00m \u001b[38;5;28misinstance\u001b[39m(content_or_path, \u001b[38;5;28mbytes\u001b[39m):\n\u001b[32m   1400\u001b[39m     content_or_path = BytesIO(content_or_path)\n\u001b[32m-> \u001b[39m\u001b[32m1402\u001b[39m \u001b[38;5;28;01mwith\u001b[39;00m \u001b[43mget_handle\u001b[49m\u001b[43m(\u001b[49m\n\u001b[32m   1403\u001b[39m \u001b[43m    \u001b[49m\u001b[43mcontent_or_path\u001b[49m\u001b[43m,\u001b[49m\u001b[43m \u001b[49m\u001b[33;43m\"\u001b[39;49m\u001b[33;43mrb\u001b[39;49m\u001b[33;43m\"\u001b[39;49m\u001b[43m,\u001b[49m\u001b[43m \u001b[49m\u001b[43mstorage_options\u001b[49m\u001b[43m=\u001b[49m\u001b[43mstorage_options\u001b[49m\u001b[43m,\u001b[49m\u001b[43m \u001b[49m\u001b[43mis_text\u001b[49m\u001b[43m=\u001b[49m\u001b[38;5;28;43;01mFalse\u001b[39;49;00m\n\u001b[32m   1404\u001b[39m \u001b[43m\u001b[49m\u001b[43m)\u001b[49m \u001b[38;5;28;01mas\u001b[39;00m handle:\n\u001b[32m   1405\u001b[39m     stream = handle.handle\n\u001b[32m   1406\u001b[39m     stream.seek(\u001b[32m0\u001b[39m)\n",
      "\u001b[36mFile \u001b[39m\u001b[32mc:\\Users\\marco\\Documentos\\docencia\\algebra_y_trigonometria\\.venv\\Lib\\site-packages\\pandas\\io\\common.py:728\u001b[39m, in \u001b[36mget_handle\u001b[39m\u001b[34m(path_or_buf, mode, encoding, compression, memory_map, is_text, errors, storage_options)\u001b[39m\n\u001b[32m    725\u001b[39m     codecs.lookup_error(errors)\n\u001b[32m    727\u001b[39m \u001b[38;5;66;03m# open URLs\u001b[39;00m\n\u001b[32m--> \u001b[39m\u001b[32m728\u001b[39m ioargs = \u001b[43m_get_filepath_or_buffer\u001b[49m\u001b[43m(\u001b[49m\n\u001b[32m    729\u001b[39m \u001b[43m    \u001b[49m\u001b[43mpath_or_buf\u001b[49m\u001b[43m,\u001b[49m\n\u001b[32m    730\u001b[39m \u001b[43m    \u001b[49m\u001b[43mencoding\u001b[49m\u001b[43m=\u001b[49m\u001b[43mencoding\u001b[49m\u001b[43m,\u001b[49m\n\u001b[32m    731\u001b[39m \u001b[43m    \u001b[49m\u001b[43mcompression\u001b[49m\u001b[43m=\u001b[49m\u001b[43mcompression\u001b[49m\u001b[43m,\u001b[49m\n\u001b[32m    732\u001b[39m \u001b[43m    \u001b[49m\u001b[43mmode\u001b[49m\u001b[43m=\u001b[49m\u001b[43mmode\u001b[49m\u001b[43m,\u001b[49m\n\u001b[32m    733\u001b[39m \u001b[43m    \u001b[49m\u001b[43mstorage_options\u001b[49m\u001b[43m=\u001b[49m\u001b[43mstorage_options\u001b[49m\u001b[43m,\u001b[49m\n\u001b[32m    734\u001b[39m \u001b[43m\u001b[49m\u001b[43m)\u001b[49m\n\u001b[32m    736\u001b[39m handle = ioargs.filepath_or_buffer\n\u001b[32m    737\u001b[39m handles: \u001b[38;5;28mlist\u001b[39m[BaseBuffer]\n",
      "\u001b[36mFile \u001b[39m\u001b[32mc:\\Users\\marco\\Documentos\\docencia\\algebra_y_trigonometria\\.venv\\Lib\\site-packages\\pandas\\io\\common.py:384\u001b[39m, in \u001b[36m_get_filepath_or_buffer\u001b[39m\u001b[34m(filepath_or_buffer, encoding, compression, mode, storage_options)\u001b[39m\n\u001b[32m    382\u001b[39m \u001b[38;5;66;03m# assuming storage_options is to be interpreted as headers\u001b[39;00m\n\u001b[32m    383\u001b[39m req_info = urllib.request.Request(filepath_or_buffer, headers=storage_options)\n\u001b[32m--> \u001b[39m\u001b[32m384\u001b[39m \u001b[38;5;28;01mwith\u001b[39;00m \u001b[43murlopen\u001b[49m\u001b[43m(\u001b[49m\u001b[43mreq_info\u001b[49m\u001b[43m)\u001b[49m \u001b[38;5;28;01mas\u001b[39;00m req:\n\u001b[32m    385\u001b[39m     content_encoding = req.headers.get(\u001b[33m\"\u001b[39m\u001b[33mContent-Encoding\u001b[39m\u001b[33m\"\u001b[39m, \u001b[38;5;28;01mNone\u001b[39;00m)\n\u001b[32m    386\u001b[39m     \u001b[38;5;28;01mif\u001b[39;00m content_encoding == \u001b[33m\"\u001b[39m\u001b[33mgzip\u001b[39m\u001b[33m\"\u001b[39m:\n\u001b[32m    387\u001b[39m         \u001b[38;5;66;03m# Override compression based on Content-Encoding header\u001b[39;00m\n",
      "\u001b[36mFile \u001b[39m\u001b[32mc:\\Users\\marco\\Documentos\\docencia\\algebra_y_trigonometria\\.venv\\Lib\\site-packages\\pandas\\io\\common.py:289\u001b[39m, in \u001b[36murlopen\u001b[39m\u001b[34m(*args, **kwargs)\u001b[39m\n\u001b[32m    283\u001b[39m \u001b[38;5;250m\u001b[39m\u001b[33;03m\"\"\"\u001b[39;00m\n\u001b[32m    284\u001b[39m \u001b[33;03mLazy-import wrapper for stdlib urlopen, as that imports a big chunk of\u001b[39;00m\n\u001b[32m    285\u001b[39m \u001b[33;03mthe stdlib.\u001b[39;00m\n\u001b[32m    286\u001b[39m \u001b[33;03m\"\"\"\u001b[39;00m\n\u001b[32m    287\u001b[39m \u001b[38;5;28;01mimport\u001b[39;00m\u001b[38;5;250m \u001b[39m\u001b[34;01murllib\u001b[39;00m\u001b[34;01m.\u001b[39;00m\u001b[34;01mrequest\u001b[39;00m\n\u001b[32m--> \u001b[39m\u001b[32m289\u001b[39m \u001b[38;5;28;01mreturn\u001b[39;00m \u001b[43murllib\u001b[49m\u001b[43m.\u001b[49m\u001b[43mrequest\u001b[49m\u001b[43m.\u001b[49m\u001b[43murlopen\u001b[49m\u001b[43m(\u001b[49m\u001b[43m*\u001b[49m\u001b[43margs\u001b[49m\u001b[43m,\u001b[49m\u001b[43m \u001b[49m\u001b[43m*\u001b[49m\u001b[43m*\u001b[49m\u001b[43mkwargs\u001b[49m\u001b[43m)\u001b[49m\n",
      "\u001b[36mFile \u001b[39m\u001b[32m~\\AppData\\Local\\Programs\\Python\\Python311\\Lib\\urllib\\request.py:216\u001b[39m, in \u001b[36murlopen\u001b[39m\u001b[34m(url, data, timeout, cafile, capath, cadefault, context)\u001b[39m\n\u001b[32m    214\u001b[39m \u001b[38;5;28;01melse\u001b[39;00m:\n\u001b[32m    215\u001b[39m     opener = _opener\n\u001b[32m--> \u001b[39m\u001b[32m216\u001b[39m \u001b[38;5;28;01mreturn\u001b[39;00m \u001b[43mopener\u001b[49m\u001b[43m.\u001b[49m\u001b[43mopen\u001b[49m\u001b[43m(\u001b[49m\u001b[43murl\u001b[49m\u001b[43m,\u001b[49m\u001b[43m \u001b[49m\u001b[43mdata\u001b[49m\u001b[43m,\u001b[49m\u001b[43m \u001b[49m\u001b[43mtimeout\u001b[49m\u001b[43m)\u001b[49m\n",
      "\u001b[36mFile \u001b[39m\u001b[32m~\\AppData\\Local\\Programs\\Python\\Python311\\Lib\\urllib\\request.py:525\u001b[39m, in \u001b[36mOpenerDirector.open\u001b[39m\u001b[34m(self, fullurl, data, timeout)\u001b[39m\n\u001b[32m    523\u001b[39m \u001b[38;5;28;01mfor\u001b[39;00m processor \u001b[38;5;129;01min\u001b[39;00m \u001b[38;5;28mself\u001b[39m.process_response.get(protocol, []):\n\u001b[32m    524\u001b[39m     meth = \u001b[38;5;28mgetattr\u001b[39m(processor, meth_name)\n\u001b[32m--> \u001b[39m\u001b[32m525\u001b[39m     response = \u001b[43mmeth\u001b[49m\u001b[43m(\u001b[49m\u001b[43mreq\u001b[49m\u001b[43m,\u001b[49m\u001b[43m \u001b[49m\u001b[43mresponse\u001b[49m\u001b[43m)\u001b[49m\n\u001b[32m    527\u001b[39m \u001b[38;5;28;01mreturn\u001b[39;00m response\n",
      "\u001b[36mFile \u001b[39m\u001b[32m~\\AppData\\Local\\Programs\\Python\\Python311\\Lib\\urllib\\request.py:634\u001b[39m, in \u001b[36mHTTPErrorProcessor.http_response\u001b[39m\u001b[34m(self, request, response)\u001b[39m\n\u001b[32m    631\u001b[39m \u001b[38;5;66;03m# According to RFC 2616, \"2xx\" code indicates that the client's\u001b[39;00m\n\u001b[32m    632\u001b[39m \u001b[38;5;66;03m# request was successfully received, understood, and accepted.\u001b[39;00m\n\u001b[32m    633\u001b[39m \u001b[38;5;28;01mif\u001b[39;00m \u001b[38;5;129;01mnot\u001b[39;00m (\u001b[32m200\u001b[39m <= code < \u001b[32m300\u001b[39m):\n\u001b[32m--> \u001b[39m\u001b[32m634\u001b[39m     response = \u001b[38;5;28;43mself\u001b[39;49m\u001b[43m.\u001b[49m\u001b[43mparent\u001b[49m\u001b[43m.\u001b[49m\u001b[43merror\u001b[49m\u001b[43m(\u001b[49m\n\u001b[32m    635\u001b[39m \u001b[43m        \u001b[49m\u001b[33;43m'\u001b[39;49m\u001b[33;43mhttp\u001b[39;49m\u001b[33;43m'\u001b[39;49m\u001b[43m,\u001b[49m\u001b[43m \u001b[49m\u001b[43mrequest\u001b[49m\u001b[43m,\u001b[49m\u001b[43m \u001b[49m\u001b[43mresponse\u001b[49m\u001b[43m,\u001b[49m\u001b[43m \u001b[49m\u001b[43mcode\u001b[49m\u001b[43m,\u001b[49m\u001b[43m \u001b[49m\u001b[43mmsg\u001b[49m\u001b[43m,\u001b[49m\u001b[43m \u001b[49m\u001b[43mhdrs\u001b[49m\u001b[43m)\u001b[49m\n\u001b[32m    637\u001b[39m \u001b[38;5;28;01mreturn\u001b[39;00m response\n",
      "\u001b[36mFile \u001b[39m\u001b[32m~\\AppData\\Local\\Programs\\Python\\Python311\\Lib\\urllib\\request.py:563\u001b[39m, in \u001b[36mOpenerDirector.error\u001b[39m\u001b[34m(self, proto, *args)\u001b[39m\n\u001b[32m    561\u001b[39m \u001b[38;5;28;01mif\u001b[39;00m http_err:\n\u001b[32m    562\u001b[39m     args = (\u001b[38;5;28mdict\u001b[39m, \u001b[33m'\u001b[39m\u001b[33mdefault\u001b[39m\u001b[33m'\u001b[39m, \u001b[33m'\u001b[39m\u001b[33mhttp_error_default\u001b[39m\u001b[33m'\u001b[39m) + orig_args\n\u001b[32m--> \u001b[39m\u001b[32m563\u001b[39m     \u001b[38;5;28;01mreturn\u001b[39;00m \u001b[38;5;28;43mself\u001b[39;49m\u001b[43m.\u001b[49m\u001b[43m_call_chain\u001b[49m\u001b[43m(\u001b[49m\u001b[43m*\u001b[49m\u001b[43margs\u001b[49m\u001b[43m)\u001b[49m\n",
      "\u001b[36mFile \u001b[39m\u001b[32m~\\AppData\\Local\\Programs\\Python\\Python311\\Lib\\urllib\\request.py:496\u001b[39m, in \u001b[36mOpenerDirector._call_chain\u001b[39m\u001b[34m(self, chain, kind, meth_name, *args)\u001b[39m\n\u001b[32m    494\u001b[39m \u001b[38;5;28;01mfor\u001b[39;00m handler \u001b[38;5;129;01min\u001b[39;00m handlers:\n\u001b[32m    495\u001b[39m     func = \u001b[38;5;28mgetattr\u001b[39m(handler, meth_name)\n\u001b[32m--> \u001b[39m\u001b[32m496\u001b[39m     result = \u001b[43mfunc\u001b[49m\u001b[43m(\u001b[49m\u001b[43m*\u001b[49m\u001b[43margs\u001b[49m\u001b[43m)\u001b[49m\n\u001b[32m    497\u001b[39m     \u001b[38;5;28;01mif\u001b[39;00m result \u001b[38;5;129;01mis\u001b[39;00m \u001b[38;5;129;01mnot\u001b[39;00m \u001b[38;5;28;01mNone\u001b[39;00m:\n\u001b[32m    498\u001b[39m         \u001b[38;5;28;01mreturn\u001b[39;00m result\n",
      "\u001b[36mFile \u001b[39m\u001b[32m~\\AppData\\Local\\Programs\\Python\\Python311\\Lib\\urllib\\request.py:643\u001b[39m, in \u001b[36mHTTPDefaultErrorHandler.http_error_default\u001b[39m\u001b[34m(self, req, fp, code, msg, hdrs)\u001b[39m\n\u001b[32m    642\u001b[39m \u001b[38;5;28;01mdef\u001b[39;00m\u001b[38;5;250m \u001b[39m\u001b[34mhttp_error_default\u001b[39m(\u001b[38;5;28mself\u001b[39m, req, fp, code, msg, hdrs):\n\u001b[32m--> \u001b[39m\u001b[32m643\u001b[39m     \u001b[38;5;28;01mraise\u001b[39;00m HTTPError(req.full_url, code, msg, hdrs, fp)\n",
      "\u001b[31mHTTPError\u001b[39m: HTTP Error 404: Not Found"
     ]
    }
   ],
   "source": [
    "import pandas as pd\n",
    "import random\n",
    "\n",
    "def asignar_tareas(lista_estudiantes):\n",
    "    # Leer lista de estudiantes\n",
    "    estudiantes = pd.read_excel(lista_estudiantes)\n",
    "    \n",
    "    # Generar 20 ejercicios\n",
    "    ejercicios = []\n",
    "    for i in range(1, 21):\n",
    "        # Diferentes tipos de problemas\n",
    "        if i <= 5:\n",
    "            tipo = \"Álgebra (Ecuaciones polinómicas)\"\n",
    "        elif i <= 10:\n",
    "            tipo = \"Trigonometría (Identidades)\"\n",
    "        elif i <= 15:\n",
    "            tipo = \"Geometría Analítica\"\n",
    "        else:\n",
    "            tipo = \"Problemas aplicados\"\n",
    "        \n",
    "        ejercicios.append({\n",
    "            \"ID\": i,\n",
    "            \"Tipo\": tipo,\n",
    "            \"Descripción\": f\"Ejercicio {i}: Resolver problema de {tipo}\",\n",
    "            \"Python\": f\"Implementar solución para ejercicio {i}\",\n",
    "            \"Teoría\": f\"Explicación conceptual del ejercicio {i}\"\n",
    "        })\n",
    "    \n",
    "    # Asignar aleatoriamente a cada estudiante\n",
    "    tareas_asignadas = []\n",
    "    for _, estudiante in estudiantes.iterrows():\n",
    "        ejercicios_est = random.sample(ejercicios, 2)  # 2 ejercicios por estudiante\n",
    "        tareas_asignadas.append({\n",
    "            \"Estudiante\": estudiante['Nombre'],\n",
    "            \"ID_Estudiante\": estudiante['ID'],\n",
    "            \"Ejercicio_1\": ejercicios_est[0][\"Descripción\"],\n",
    "            \"Ejercicio_2\": ejercicios_est[1][\"Descripción\"],\n",
    "            \"Requisitos_Python\": f\"Debe implementar: {ejercicios_est[0]['Python']} y {ejercicios_est[1]['Python']}\",\n",
    "            \"Explicación_Teórica\": f\"Debe explicar: {ejercicios_est[0]['Teoría']} y {ejercicios_est[1]['Teoría']}\"\n",
    "        })\n",
    "    \n",
    "    return pd.DataFrame(tareas_asignadas)\n",
    "\n",
    "# Uso de la función\n",
    "tareas = asignar_tareas(\"https://github.com/marco-canas/groups_list/blob/main/algebra_and_geometry.xlsx\")\n",
    "tareas.to_excel(\"tareas_asignadas.xlsx\", index=False)\n"
   ]
  },
  {
   "cell_type": "markdown",
   "id": "f0858bcd",
   "metadata": {},
   "source": [
    "\n",
    "\n",
    "## 9. Evaluación\n"
   ]
  },
  {
   "cell_type": "markdown",
   "id": "9529011b",
   "metadata": {},
   "source": [
    "\n",
    "**Proyectos (Ejemplos):**\n",
    "1. Calculadora gráfica de ecuaciones cuadráticas con análisis discriminante\n",
    "2. Visualizador interactivo de identidades trigonométricas\n",
    "3. Solucionador de triángulos rectángulos con interfaz GUI\n",
    "4. Animación del círculo unitario y funciones trigonométricas\n",
    "5. Sistema para factorización de polinomios con pasos intermedios\n",
    "\n",
    "**Quiz (Ejemplo):**\n",
    "1. Dada la ecuación $3x^2 - 5x + 2 = 0$:\n",
    "   a) Resuélvala simbólicamente con SymPy\n",
    "   b) Grafique la función asociada\n",
    "   c) Explique la relación entre las raíces y la gráfica\n",
    "\n",
    "2. Para la función $f(x) = 2\\sin(3x - \\pi/4) + 1$:\n",
    "   a) Calcule periodo, amplitud y desplazamiento\n",
    "   b) Genere una tabla de valores para $x \\in [0, 2\\pi]$\n",
    "   c) Cree una animación que muestre su gráfica\n",
    "\n",
    "3. Implemente una función Python que:\n",
    "   a) Reciba los coeficientes de una ecuación cuadrática\n",
    "   b) Devuelva las raíces y el vértice de la parábola\n",
    "   c) Genere automáticamente la gráfica correspondiente\n",
    "\n",
    "**Parcial (Ejemplo):**\n",
    "1. Problema aplicado de lanzamiento de proyectil que combine álgebra y trigonometría\n",
    "2. Análisis comparativo de métodos de solución para ecuaciones\n",
    "3. Diseño de interfaz interactiva para explorar identidades trigonométricas\n",
    "4. Transformación entre representaciones gráficas, numéricas y simbólicas\n",
    "5. Presentación de un concepto matemático usando múltiples registros semióticos\n",
    "\n",
    "## 10. Retroalimentación\n",
    "\n",
    "**Estrategias:**\n",
    "1. **Portafolio digital**: Cada estudiante mantiene un Jupyter Notebook con sus soluciones y reflexiones\n",
    "2. **Revisión entre pares**: Usando GitHub para comentar códigos de compañeros\n",
    "3. **Sesiones de live-coding**: El instructor resuelve problemas similares mostrando el proceso\n",
    "4. **Rúbricas detalladas**: Con criterios para cada aspecto (matemático, computacional, explicativo)\n",
    "5. **Videos de retroalimentación**: Grabaciones personalizadas comentando entregas\n",
    "\n",
    "## 11. Vocabulario en Inglés\n"
   ]
  },
  {
   "cell_type": "markdown",
   "id": "776a6413",
   "metadata": {},
   "source": [
    "\n",
    "**Términos clave:**\n",
    "- Symbolic computation / Cálculo simbólico\n",
    "- Function plotting / Graficación de funciones\n",
    "- Quadratic equation / Ecuación cuadrática\n",
    "- Trigonometric identities / Identidades trigonométricas\n",
    "- Polynomial factorization / Factorización de polinomios\n",
    "- Unit circle / Círculo unitario\n",
    "- Interactive visualization / Visualización interactiva\n",
    "- Semiotic representations / Representaciones semióticas\n",
    "- Computational thinking / Pensamiento computacional\n",
    "- Jupyter kernel / Núcleo de Jupyter\n",
    "\n",
    "**Frases útiles:**\n",
    "- \"Let's implement this mathematical concept in code\"\n",
    "- \"How does the graphical representation relate to the algebraic one?\"\n",
    "- \"Translate this symbolic expression into a numerical computation\"\n",
    "- \"What Python libraries would help solve this problem?\"\n",
    "- \"Explain the mathematical concept behind this code implementation\"\n",
    "\n",
    "## 12. Apéndice: Habilidades Blandas\n"
   ]
  },
  {
   "cell_type": "markdown",
   "id": "18fa2fcb",
   "metadata": {},
   "source": [
    "\n",
    "**Trabajo en equipo:**\n",
    "- Uso de GitHub para colaboración en código matemático\n",
    "- Estrategias para dividir problemas complejos en subtareas\n",
    "- Protocolos para revisión de código entre pares\n",
    "\n",
    "**Inteligencia Emocional:**\n",
    "- Técnicas para manejar la frustración al depurar código\n",
    "- Estrategias para presentar resultados con confianza\n",
    "- Ética académica en evaluación computacional (evitar plagio de código)\n",
    "\n",
    "## 13. Referentes en Didáctica (APA)\n",
    "\n",
    "1. Duval, R. (2006). A cognitive analysis of problems of comprehension in a learning of mathematics. *Educational Studies in Mathematics*, *61*(1-2), 103-131. https://doi.org/10.1007/s10649-006-0400-z\n",
    "\n",
    "2. Wing, J. M. (2006). Computational thinking. *Communications of the ACM*, *49*(3), 33-35. https://doi.org/10.1145/1118178.1118215\n",
    "\n",
    "3. Artigue, M. (2002). Learning mathematics in a CAS environment: The genesis of a reflection about instrumentation and the dialectics between technical and conceptual work. *International Journal of Computers for Mathematical Learning*, *7*(3), 245-274.\n",
    "\n",
    "4. Drijvers, P. (2012). Digital technology in mathematics education: Why it works (or doesn't). In *Proceedings of the 12th International Congress on Mathematical Education* (pp. 135-151). Springer.\n",
    "\n",
    "5. Kaput, J. J. (1992). Technology and mathematics education. In *Handbook of research on mathematics teaching and learning* (pp. 515-556). Macmillan.\n",
    "\n",
    "6. Noss, R., & Hoyles, C. (1996). *Windows on mathematical meanings: Learning cultures and computers*. Kluwer Academic Publishers.\n",
    "\n",
    "7. Papert, S. (1980). *Mindstorms: Children, computers, and powerful ideas*. Basic Books.\n",
    "\n",
    "8. Tall, D. (2013). *How humans learn to think mathematically: Exploring the three worlds of mathematics*. Cambridge University Press.\n",
    "\n",
    "9. Trouche, L. (2004). Managing the complexity of human/machine interactions in computerized learning environments: Guiding students' command process through instrumental orchestrations. *International Journal of Computers for Mathematical Learning*, *9*(3), 281-307.\n",
    "\n",
    "10. Zbiek, R. M., Heid, M. K., Blume, G. W., & Dick, T. P. (2007). Research on technology in mathematics education: A perspective of constructs. In *Second handbook of research on mathematics teaching and learning* (pp. 1169-1207). Information Age Publishing.\n",
    "\n",
    "Como bien señala Duval (2006), \"la comprensión en matemáticas requiere la coordinación de al menos dos representaciones diferentes de un mismo objeto matemático\" (p. 115), lo que fundamenta nuestro enfoque multimodal. Complementando esta visión, Wing (2006) argumenta que \"el pensamiento computacional implica resolver problemas, diseñar sistemas y comprender el comportamiento humano, haciendo uso de los conceptos fundamentales de la informática\" (p. 33), lo que justifica nuestra integración de Python en el aprendizaje matemático."
   ]
  },
  {
   "cell_type": "markdown",
   "id": "cc539357",
   "metadata": {},
   "source": [
    "# [Programación de programa Regiones](https://lookerstudio.google.com/reporting/44e71da0-d16f-4a51-a51e-d5ae6c19b3f1/page/p_gy4nwf37hd?pli=1)"
   ]
  },
  {
   "cell_type": "markdown",
   "id": "8ba64aed",
   "metadata": {},
   "source": [
    "# Cursos que orienta el profesor Marco Julio Cañas Campillo en 2025  \n",
    "\n",
    "1. Lunes 8 a 12: Fundamentos de Lógica: Licenciatura en Matemáticas . \n",
    "2. Martes de 9 a 10: Curso de ML and DL para Ingeniero Juan Gomez en España.  \n",
    "3. Martes de 2 a 5 PM: Vector Geometry and Linear Algebra.  \n",
    "4. Miércoles: 10 a 11: Reunión equipo investigador SAT Dengue. \n",
    "5. Miércoles 2 a 3 PM: Asesoría Trabajo de Grado Janis (Estudiante de Biología).  \n",
    "6. Viernes 2 a 6 PM: Análisis Numérico: Programa de Licenciatura en Matemáticas."
   ]
  },
  {
   "cell_type": "markdown",
   "id": "8d41fe58",
   "metadata": {
    "slideshow": {
     "slide_type": "slide"
    }
   },
   "source": [
    "# Horario de clases del profesor Marco\n",
    "\n",
    "* Lunes 8-12:   \n",
    "* Lunes 2- 6 PM: Fundamento de Lógica.  \n",
    "* Martes 8-12 M: . \n",
    "* Miércoles 8 a 12 M:   \n",
    "* Miércoles de 2 a 6 PM: \n",
    "* Jueves 2 a 6 PM:  \n",
    "* Viernes 2 - 4 PM: Análisis Numérico. \n",
    "* Sábados 8-12 Asesorías y espacio para retroalimentación y apoyo al trabajo independiente. "
   ]
  },
  {
   "cell_type": "markdown",
   "id": "ae114e14",
   "metadata": {
    "slideshow": {
     "slide_type": "slide"
    }
   },
   "source": [
    "# Horarios de monitoría y asesoría  \n",
    "\n",
    "* Monitor Manuel San Juan Serrano: Contactar escribiendo al correo: manuel.serrano1@udea.edu.co"
   ]
  },
  {
   "cell_type": "markdown",
   "id": "bf0f9dbf",
   "metadata": {},
   "source": [
    "\n",
    "Coordinador de los cursos de la Facultad de Educación para regiones:    \n",
    "\n",
    "Andrés Vélez: regioneducacion.fedu@udea.edu.co  \n",
    "Coordinador Regiones  \n",
    "Facultad de Educación  \n",
    "Universidad de Antioquia  "
   ]
  },
  {
   "cell_type": "markdown",
   "id": "39559692",
   "metadata": {
    "slideshow": {
     "slide_type": "slide"
    }
   },
   "source": [
    "Martes y jueves de 8 - 12  \n",
    "Miércoles 10 - 12 y de 2 a 4 PM  \n",
    "Sábado: 8 - 12"
   ]
  },
  {
   "cell_type": "markdown",
   "id": "10bce0d0",
   "metadata": {
    "slideshow": {
     "slide_type": "slide"
    }
   },
   "source": [
    "## Referentes "
   ]
  },
  {
   "cell_type": "markdown",
   "id": "1db3c468",
   "metadata": {
    "slideshow": {
     "slide_type": "slide"
    }
   },
   "source": [
    "* [CALCULO I DE UNA VARIABLE Ron Larson-Bruce Edwards. Mc Graw Hill. 9º Edición](https://www.academia.edu/42139251/CALCULO_I_DE_UNA_VARIABLE_Ron_Larson_Bruce_Edwards_Mc_Graw_Hill_9o_Edici%C3%B3n)   \n",
    "  \n",
    "\n",
    "* [Grajales Vanegas, L. M., Restrepo Estrada, C. E., Restrepo Ochoa, S. I., & Ruíz De Villalba, F. (2015). Matemáticas I para las ciencias económicas.](https://bibliotecadigital.udea.edu.co/handle/10495/3010)\n",
    "  \n",
    "* R. Duval y Semiosis y pensamiento humano, 2.ª ed. Cali, Colombia: Programa Editorial Universidad del Valle, 2017. [En línea]. Disponible en: https://programaeditorial.univalle.edu.co/gpd-semiosis-y-pensamiento-humano-9789587655278-63324cdb0f6b3.html\n",
    "\n",
    "* [Aylwin, C. U. (2011). Lógica, conjuntos y números. Universidad de los Andes, Consejo de Publicaciones, Colección: Ciencias Básicas, Serie: Matemáticas.](chrome-extension://efaidnbmnnnibpcajpcglclefindmkaj/https://www.u-cursos.cl/ciencias/2011/1/MC110/1/material_docente/bajar?id_material=574722)\n",
    "  \n",
    "* [Chollet, F. (2021). Deep learning with Python. Simon and Schuster.](chrome-extension://efaidnbmnnnibpcajpcglclefindmkaj/https://tanthiamhuat.wordpress.com/wp-content/uploads/2018/03/deeplearningwithpython.pdf)  \n",
    "  \n",
    "* [Watson, S., Stewart, J., & Redlin, L. (2009). Precálculo. Matemáticas para el cálculo.](https://github.com/marco-canas/calculo/blob/main/referents/1_precalculo_stewart/stewart_precalculo.pdf)  \n",
    "\n",
    "* [Purcell, E. J., Varberg, D., & Rigdon, S. E. (2007). Cálculo diferencial e integral. Pearson Educación.](https://github.com/marco-canas/calculo/blob/main/referents/purcell/purcell_calculo.pdf)\n",
    "\n",
    "  \n",
    "\n",
    "* [stewart cálculo](https://udeaeduco-my.sharepoint.com/:b:/g/personal/marco_canas_udea_edu_co/EZgXZjAp8QxPqOAim2hs6LcBNPLGjSHf-xwYnUVYkwa04w?e=RZdTCy)  \n",
    "\n",
    "\n",
    "\n",
    "\n",
    "\n",
    "* [Recomendación de la UNESCO sobre ciencia abierta](https://unesdoc.unesco.org/ark:/48223/pf0000379949_spa)\n",
    "\n",
    "* [chatGPT](https://openai.com/blog/chatgpt)  \n",
    "\n",
    "* [Géron, A. (2017). Hands-on machine learning with scikit-learn and tensorflow: Concepts. Tools, and Techniques to build intelligent systems.](chrome-extension://efaidnbmnnnibpcajpcglclefindmkaj/http://14.139.161.31/OddSem-0822-1122/Hands-On_Machine_Learning_with_Scikit-Learn-Keras-and-TensorFlow-2nd-Edition-Aurelien-Geron.pdf)   \n"
   ]
  },
  {
   "cell_type": "markdown",
   "id": "df925560",
   "metadata": {},
   "source": [
    "\n",
    "* [McKinney, W. (2012). Python for data analysis: Data wrangling with Pandas, NumPy, and IPython. \" O'Reilly Media, Inc.\".](https://wesmckinney.com/book/) "
   ]
  },
  {
   "cell_type": "markdown",
   "id": "8e65d6f9",
   "metadata": {},
   "source": [
    "# Como estudiante, encuentro que...   \n",
    "\n",
    "F: Mis Fortalezas son:     \n",
    "O: Mis Oportunidades son:    \n",
    "D: Mis Debilidades son:    \n",
    "A: Lo que Amenazas mi aprendizaje es:  "
   ]
  },
  {
   "cell_type": "markdown",
   "id": "6b9e56a8",
   "metadata": {
    "slideshow": {
     "slide_type": "slide"
    }
   },
   "source": [
    "### [Evaluamos al profesor Marco Cañas Aquí](https://forms.office.com/Pages/ResponsePage.aspx?id=IefhmYRxjkmK_7KtTlPBwkanXIs1i1FEujpsZgO6dXpUREJPV1kxUk1JV1ozTFJIQVNIQjY5WEY3US4u)"
   ]
  },
  {
   "cell_type": "markdown",
   "id": "10f43536",
   "metadata": {
    "slideshow": {
     "slide_type": "slide"
    }
   },
   "source": [
    "### Continue su aprendizaje en la siguiente clase a través del siguiente [vínculo]()"
   ]
  },
  {
   "cell_type": "markdown",
   "id": "53cc9115",
   "metadata": {
    "slideshow": {
     "slide_type": "slide"
    }
   },
   "source": [
    "## Agradecimientos  \n",
    "\n",
    "Doy gracias a Dios por la vida de mi Hijo Joseph Cañas Osorio y la madurez que ha alcanzado. Este hijo me enorgullece y me hace falta abrazarlo cada día. \n",
    "\n",
    "Y a mi esposa Yasmira Emperatriz Barboza Mogollón por su apoyo, orientación y acompañamiento. "
   ]
  },
  {
   "cell_type": "markdown",
   "id": "b6ba1c23",
   "metadata": {},
   "source": [
    "# Apéndice sobre calendarios y coordinaciones \n"
   ]
  },
  {
   "cell_type": "markdown",
   "id": "bf8b6499",
   "metadata": {},
   "source": [
    "## Calendario del semestre académico 2025-2  \n",
    "\n",
    "* Oferta de cursos: 29 de julio de 2025  \n",
    "\n",
    "Matrícula: 30 de julio de 2025  \n",
    "\n",
    "Ajustes de matrícula: 01 al 08 de agosto de 2025  \n",
    "\n",
    "Inicio de clases: 04 de agosto de 2025  \n",
    "\n",
    "Límite evaluación del 40%: 27 de septiembre de 2025  \n",
    "\n",
    "Terminación de clases: 22 de noviembre de 2025\n",
    "\n",
    "Exámenes finales: 24 al 29 de noviembre de 2025\n",
    "\n",
    "Habilitación y validación: 01 al 06 de diciembre 2025\n",
    "\n",
    "Terminación oficial del semestre: 09 de diciembre de 2025  "
   ]
  },
  {
   "cell_type": "markdown",
   "id": "667b9504",
   "metadata": {},
   "source": [
    "\n",
    "A continuación le envío el horario de la asignatura Cálculo Vectorial  \n",
    "\n",
    "Días:  \n",
    "Lunes - Hora: 7:00 a 12:00M  \n",
    "Fechas:  \n",
    "Febrero: 10-17-24                                          \n",
    " Marzo: 3-10-17-31                                                  \n",
    "Abril:7-21-28                                                   \n",
    "Mayo:5-12-19  \n",
    "\n",
    "Agradezco su apoyo, y si presenta alguna dificultad puede contactarme.  \n",
    "\n",
    "Cordialmente,  \n",
    "Juan Felipe Rivera Hernández  \n",
    "Contacto: 3106314300  "
   ]
  }
 ],
 "metadata": {
  "celltoolbar": "Slideshow",
  "kernelspec": {
   "display_name": ".venv",
   "language": "python",
   "name": "python3"
  },
  "language_info": {
   "codemirror_mode": {
    "name": "ipython",
    "version": 3
   },
   "file_extension": ".py",
   "mimetype": "text/x-python",
   "name": "python",
   "nbconvert_exporter": "python",
   "pygments_lexer": "ipython3",
   "version": "3.11.9"
  },
  "rise": {
   "enable_chalkboard": true,
   "theme": "sky",
   "transition": "zoom"
  }
 },
 "nbformat": 4,
 "nbformat_minor": 5
}
