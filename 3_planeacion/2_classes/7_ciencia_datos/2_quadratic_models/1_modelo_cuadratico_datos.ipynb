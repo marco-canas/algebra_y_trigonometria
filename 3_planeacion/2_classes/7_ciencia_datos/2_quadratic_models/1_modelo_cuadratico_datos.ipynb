{
 "cells": [
  {
   "cell_type": "markdown",
   "id": "7e1bd9b3",
   "metadata": {
    "slideshow": {
     "slide_type": "slide"
    }
   },
   "source": [
    "<table align=\"left\">\n",
    "  <td>\n",
    "    <a href=\"https://colab.research.google.com/github/marco-canas/1_algebra/blob/main/classes/ciencia_datos/6_class_march_15_quiz_1/5_class_march_15.ipynb\" target=\"_parent\"><img src=\"https://colab.research.google.com/assets/colab-badge.svg\" alt=\"Open In Colab\"/></a>\n",
    "  </td>\n",
    "</table>"
   ]
  },
  {
   "cell_type": "markdown",
   "id": "0f6c74d8",
   "metadata": {
    "slideshow": {
     "slide_type": "slide"
    }
   },
   "source": [
    "## [Video de apoyo a la lectura interactiva y experimental de este cuaderno]()"
   ]
  },
  {
   "cell_type": "markdown",
   "id": "516c1f84",
   "metadata": {
    "slideshow": {
     "slide_type": "slide"
    }
   },
   "source": [
    "Mis estudiantes son la razón de mi actividad docente:\n",
    "\n",
    "<img src = 'https://github.com/marco-canas/1_algebra/blob/main/classes/ciencia_datos/6_class_march_29_quiz_1_presencial_escrito/ing_agro_algebra_2023_1.jpg?raw=true'>"
   ]
  },
  {
   "cell_type": "markdown",
   "id": "20b24d19",
   "metadata": {
    "slideshow": {
     "slide_type": "slide"
    }
   },
   "source": [
    "# Clase 6 Marzo 22 Ajuste de modelos cuadráticos a una colección de datos. "
   ]
  },
  {
   "cell_type": "code",
   "execution_count": 3,
   "id": "75d17f53",
   "metadata": {
    "slideshow": {
     "slide_type": "slide"
    }
   },
   "outputs": [
    {
     "name": "stdout",
     "output_type": "stream",
     "text": [
      "Actual hora local : Tue Mar 28 22:11:09 2023\n"
     ]
    }
   ],
   "source": [
    "import time\n",
    " \n",
    "localtime = time.asctime( time.localtime(time.time()) )\n",
    "print (\"Actual hora local :\", localtime)"
   ]
  },
  {
   "cell_type": "code",
   "execution_count": 4,
   "id": "f486b28d",
   "metadata": {
    "slideshow": {
     "slide_type": "slide"
    }
   },
   "outputs": [
    {
     "name": "stdout",
     "output_type": "stream",
     "text": [
      "Aquí está el calendario:      March 2023\n",
      "Mo Tu We Th Fr Sa Su\n",
      "       1  2  3  4  5\n",
      " 6  7  8  9 10 11 12\n",
      "13 14 15 16 17 18 19\n",
      "20 21 22 23 24 25 26\n",
      "27 28 29 30 31\n",
      "\n"
     ]
    }
   ],
   "source": [
    "import calendar\n",
    " \n",
    "cal = calendar.month(2023, 3)\n",
    "print (\"Aquí está el calendario:\", cal)"
   ]
  },
  {
   "cell_type": "markdown",
   "id": "253babac",
   "metadata": {
    "slideshow": {
     "slide_type": "slide"
    }
   },
   "source": [
    "### Modelo pedagógico de la clase: [Aula invertida](https://www3.gobiernodecanarias.org/medusa/ecoescuela/pedagotic/aprendizaje-invertido-flipped-classroom/)"
   ]
  },
  {
   "cell_type": "markdown",
   "id": "72013bf1",
   "metadata": {
    "slideshow": {
     "slide_type": "slide"
    }
   },
   "source": [
    "### Objetivo de aprendizaje  \n",
    "\n",
    "1. aprender a leer de un gráfico de dispersión cuando una colección de datos puede ser modelada por una función cuadrática y aprender a describir la situación en términos del modelo cuadrático y a estimar predicciones a partir del gráfico de dispersión y del modelo cuadrático encontrado. "
   ]
  },
  {
   "cell_type": "markdown",
   "id": "04ad724c",
   "metadata": {
    "slideshow": {
     "slide_type": "slide"
    }
   },
   "source": [
    "### Avisos  \n",
    "\n",
    "El 29 de marzo, miercoles, realizaremos [el primer quiz](https://github.com/marco-canas/1_algebra/blob/main/evaluacion/q1/q1.ipynb) de manera presencial y escrita y siguiendo el ejemplo de quiz 1 publicado en el repositorio en GitHub de nuestro Curso de álgebra y trigonometría"
   ]
  },
  {
   "cell_type": "markdown",
   "id": "0d56707e",
   "metadata": {
    "slideshow": {
     "slide_type": "slide"
    }
   },
   "source": [
    "## Mapa conceptual de la clase"
   ]
  },
  {
   "cell_type": "markdown",
   "id": "f00feaef",
   "metadata": {
    "slideshow": {
     "slide_type": "slide"
    }
   },
   "source": [
    "<img src = ''>"
   ]
  },
  {
   "cell_type": "markdown",
   "id": "97cfd900",
   "metadata": {
    "slideshow": {
     "slide_type": "slide"
    }
   },
   "source": [
    "# Tareas para realizar en clase"
   ]
  },
  {
   "cell_type": "markdown",
   "id": "bc0a96f4",
   "metadata": {
    "slideshow": {
     "slide_type": "slide"
    }
   },
   "source": [
    "## Construir un modelo cuadrático\n",
    "\n",
    "### Ajuste de un modelo cuadrático a los datos"
   ]
  },
  {
   "cell_type": "markdown",
   "id": "041737e2",
   "metadata": {
    "slideshow": {
     "slide_type": "slide"
    }
   },
   "source": [
    "Una función que define la altura $s$ de un objeto que cae en términos del tiempo $t$ se llama función de posición. Si no se considera la resistencia del aire, la posición de un objeto que cae admite el modelo  \n",
    "\n",
    "$$ s(t) = \\frac{1}{2}gt^{2} + v_{0}t +  s_{0} $$  \n",
    "\n",
    "donde $g$ denota la aceleración de la gravedad, v0\n",
    " la velocidad inicial y s0\n",
    " la altura inicial. \n",
    "El valor de g depende de dónde se deja caer el objeto. En la Tierra, g vale \u001232 piesYs\n",
    "2\n",
    ", o \n",
    "\u00129.8 mYs\n",
    "2\n",
    ".\n",
    "Para descubrir el valor de g experimental, se pueden registrar en varios instantes las \n",
    "alturas de un objeto cayendo, como se muestra en el ejemplo 2."
   ]
  },
  {
   "cell_type": "markdown",
   "id": "e0a1279b",
   "metadata": {
    "slideshow": {
     "slide_type": "slide"
    }
   },
   "source": [
    "### EJEMPLO 2 Ajuste de un modelo cuadrático a los datos  \n",
    "\n",
    "Se deja caer un balón de basquetbol desde una altura de 5 ,I pies. Se mide la altura del balón 23 veces, a intervalos de aproximadamente 0.02 s.* Los resultados se muestran en la \n",
    "siguiente tabla.\n",
    "\n",
    "Tomado de la página 51 del PDF de [Larson]()"
   ]
  },
  {
   "cell_type": "markdown",
   "id": "1d794427",
   "metadata": {
    "slideshow": {
     "slide_type": "slide"
    }
   },
   "source": [
    "# Tareas para realizar fuera de clase"
   ]
  },
  {
   "cell_type": "markdown",
   "id": "9b2a3fee",
   "metadata": {
    "slideshow": {
     "slide_type": "slide"
    }
   },
   "source": [
    "* Cómo se grafican los lados de una ecuación lineal\n",
    "* funciones lineales\n",
    "* Dominio y rango de funciones lineales.\n",
    "\n"
   ]
  },
  {
   "cell_type": "markdown",
   "id": "e4a0cf4c",
   "metadata": {
    "slideshow": {
     "slide_type": "slide"
    }
   },
   "source": [
    "### Comparta sus cuadernos y videos, evidencias de su aprendizaje [aquí](https://forms.office.com/Pages/ResponsePage.aspx?id=IefhmYRxjkmK_7KtTlPBwkanXIs1i1FEujpsZgO6dXpUMEMwTEZVMzEwVVBPTElWNVg5OVEyWUhMUy4u)"
   ]
  },
  {
   "cell_type": "code",
   "execution_count": null,
   "id": "34be7e0c",
   "metadata": {
    "slideshow": {
     "slide_type": "slide"
    }
   },
   "outputs": [],
   "source": []
  },
  {
   "cell_type": "markdown",
   "id": "be5e748c",
   "metadata": {
    "slideshow": {
     "slide_type": "slide"
    }
   },
   "source": [
    "## Cuestionario para memorizar"
   ]
  },
  {
   "cell_type": "markdown",
   "id": "bd73de84",
   "metadata": {
    "slideshow": {
     "slide_type": "slide"
    }
   },
   "source": [
    "1."
   ]
  },
  {
   "cell_type": "code",
   "execution_count": null,
   "id": "d2c87b72",
   "metadata": {
    "slideshow": {
     "slide_type": "slide"
    }
   },
   "outputs": [],
   "source": []
  },
  {
   "cell_type": "markdown",
   "id": "4c444ecf",
   "metadata": {
    "slideshow": {
     "slide_type": "slide"
    }
   },
   "source": [
    "# Vocabulary"
   ]
  },
  {
   "cell_type": "code",
   "execution_count": null,
   "id": "ed702a4f",
   "metadata": {
    "slideshow": {
     "slide_type": "slide"
    }
   },
   "outputs": [],
   "source": []
  },
  {
   "cell_type": "markdown",
   "id": "ac37b3dc",
   "metadata": {
    "slideshow": {
     "slide_type": "slide"
    }
   },
   "source": [
    "## Quiz de 5 minutos para ejercitación y adquisición de habilidades "
   ]
  },
  {
   "cell_type": "markdown",
   "id": "76fef94c",
   "metadata": {
    "slideshow": {
     "slide_type": "slide"
    }
   },
   "source": []
  },
  {
   "cell_type": "markdown",
   "id": "d278c79b",
   "metadata": {
    "slideshow": {
     "slide_type": "slide"
    }
   },
   "source": [
    "## Referentes  \n",
    "\n",
    "* [larson](https://udeaeduco-my.sharepoint.com/:b:/g/personal/marco_canas_udea_edu_co/ES71ChFeO9ZDhW3TwC5Ijk8BjxUK3Pdqz_fjHxTTFAfIAg?e=KNgdX7)\n",
    "\n",
    "\n",
    "* [Precálculo de Stewart](https://udeaeduco-my.sharepoint.com/:b:/g/personal/marco_canas_udea_edu_co/ERHIq62I6qFNrmxy6LZb8ZMBci7kUsyNME1nIh9yCBMJ_w?e=cOQjzv)\n",
    "* [Cálculo Stewart](https://udeaeduco-my.sharepoint.com/:b:/g/personal/marco_canas_udea_edu_co/EZgXZjAp8QxPqOAim2hs6LcBNPLGjSHf-xwYnUVYkwa04w?e=k1HOhB)"
   ]
  },
  {
   "cell_type": "markdown",
   "id": "896bf645",
   "metadata": {
    "slideshow": {
     "slide_type": "slide"
    }
   },
   "source": [
    "### [Evaluamos al profesor Marco Cañas Aquí](https://forms.office.com/Pages/ResponsePage.aspx?id=IefhmYRxjkmK_7KtTlPBwkanXIs1i1FEujpsZgO6dXpUREJPV1kxUk1JV1ozTFJIQVNIQjY5WEY3US4u)"
   ]
  },
  {
   "cell_type": "markdown",
   "id": "ef4f9f85",
   "metadata": {
    "slideshow": {
     "slide_type": "slide"
    }
   },
   "source": [
    "### Continue su aprendizaje en la siguiente clase a través del siguiente [vínculo]()"
   ]
  }
 ],
 "metadata": {
  "celltoolbar": "Slideshow",
  "kernelspec": {
   "display_name": "Python 3 (ipykernel)",
   "language": "python",
   "name": "python3"
  },
  "language_info": {
   "codemirror_mode": {
    "name": "ipython",
    "version": 3
   },
   "file_extension": ".py",
   "mimetype": "text/x-python",
   "name": "python",
   "nbconvert_exporter": "python",
   "pygments_lexer": "ipython3",
   "version": "3.9.13"
  },
  "rise": {
   "enable_chalkboard": true,
   "theme": "sky",
   "transition": "zoom"
  }
 },
 "nbformat": 4,
 "nbformat_minor": 5
}
