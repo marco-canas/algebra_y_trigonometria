{
 "cells": [
  {
   "cell_type": "markdown",
   "metadata": {
    "colab_type": "text",
    "id": "view-in-github",
    "slideshow": {
     "slide_type": "slide"
    }
   },
   "source": [
    "<table align=\"center\">\n",
    "  <td>\n",
    "<a href=\"https://colab.research.google.com/github/marco-canas/algebra/blob/main/Porcentage1.ipynb\" target=\"_parent\"><img src=\"https://colab.research.google.com/assets/colab-badge.svg\" alt=\"Open In Colab\"/></a>\n",
    "        </td>\n",
    "</table>"
   ]
  },
  {
   "cell_type": "markdown",
   "metadata": {
    "id": "pv6xIdXMtpWs",
    "slideshow": {
     "slide_type": "slide"
    }
   },
   "source": [
    "# [Video de apoyo a la lectura experimental e interactia de este cuaderno]()"
   ]
  },
  {
   "cell_type": "markdown",
   "metadata": {
    "id": "13nYh22GL0oB",
    "slideshow": {
     "slide_type": "slide"
    }
   },
   "source": [
    "# Aplicaciones de las matemáticas a la economía\n",
    "\n",
    "En los ejemplos y ejercicios que siguen planteamos ecuaciones que modelan problemas en muchas situaciones distintas de la vida cotidiana.  \n",
    "\n",
    "## Ejemplo 2 Interés de una inversión\n",
    "María Camila hereda 450 millones de pesos y los invierte en dos certificados de depósito a término. Uno\n",
    "de los certificados paga el 6% y el otro paga $ 4.5 \\%$ de interés anual **simple**. Si el\n",
    "interés total de María Camila es 22'491.900 pesos por año, **¿cuánto dinero está invertido en cada tasa?**"
   ]
  },
  {
   "cell_type": "markdown",
   "metadata": {
    "id": "tSpAGlNWqoQI",
    "slideshow": {
     "slide_type": "slide"
    }
   },
   "source": [
    "## Conceptos asociados al problemas \n",
    "\n",
    "* La propiedad distributiva de la multiplicación con respecto a la suma.\n",
    "\n",
    "* Interés simple e interés compuesto. \n",
    "\n",
    "* Propiedad de la balanza o propiedad uniforme. \n",
    "\n",
    "* Transponer términos y factores. \n"
   ]
  },
  {
   "cell_type": "markdown",
   "metadata": {
    "slideshow": {
     "slide_type": "slide"
    }
   },
   "source": [
    "## Establecimiento de la incognita del problema"
   ]
  },
  {
   "cell_type": "markdown",
   "metadata": {
    "slideshow": {
     "slide_type": "slide"
    }
   },
   "source": [
    "$x$ la cantidad de dinero de la herencia invertodo al $6\\%$ efectivo anual. "
   ]
  },
  {
   "cell_type": "code",
   "execution_count": 5,
   "metadata": {
    "colab": {
     "base_uri": "https://localhost:8080/"
    },
    "id": "hC45Z822Nt4v",
    "outputId": "7868504e-4530-47d0-c15a-c0a25857af29",
    "slideshow": {
     "slide_type": "slide"
    }
   },
   "outputs": [
    {
     "data": {
      "text/plain": [
       "22491900"
      ]
     },
     "execution_count": 5,
     "metadata": {},
     "output_type": "execute_result"
    }
   ],
   "source": [
    "5025*4476\n",
    "# para pasar de dólares a pesos colombianos multiplicamos por el valor en pesos de cada dolar"
   ]
  },
  {
   "cell_type": "markdown",
   "metadata": {
    "slideshow": {
     "slide_type": "slide"
    }
   },
   "source": [
    "## Modelo en forma verbal:\n",
    "\n",
    "$$ \\text{dinero invertido al $6\\%$} + \\text{doinero invertido al $4\\frac{1}{2}\\%$} = \\text{total de intereses recibidos} $$\n"
   ]
  },
  {
   "cell_type": "markdown",
   "metadata": {
    "id": "u6u6nuRPUi8O",
    "slideshow": {
     "slide_type": "slide"
    }
   },
   "source": [
    "El modelo de esta situción económica es:\n",
    "\n",
    "$$ x(0.06) + (450-x)(0.045) = 22.491 $$\n"
   ]
  },
  {
   "cell_type": "code",
   "execution_count": 2,
   "metadata": {
    "colab": {
     "base_uri": "https://localhost:8080/",
     "height": 37
    },
    "id": "hBAZ3RmXVF0r",
    "outputId": "62e03233-22e9-4c35-d046-b44f923a01aa",
    "slideshow": {
     "slide_type": "slide"
    }
   },
   "outputs": [
    {
     "data": {
      "text/latex": [
       "$\\displaystyle 149.46$"
      ],
      "text/plain": [
       "149.460000000000"
      ]
     },
     "execution_count": 2,
     "metadata": {},
     "output_type": "execute_result"
    }
   ],
   "source": [
    "from sympy import * \n",
    "\n",
    "x = var('x') \n",
    "modelo = Eq(x*0.06+ (450-x)*0.045, 22.4919)\n",
    "solve(modelo, x)[0]"
   ]
  },
  {
   "cell_type": "code",
   "execution_count": 3,
   "metadata": {
    "colab": {
     "base_uri": "https://localhost:8080/",
     "height": 37
    },
    "id": "GtpPcvA1WLI-",
    "outputId": "3ca6ab92-0913-4a34-ede6-76d72e9ba0e0",
    "slideshow": {
     "slide_type": "slide"
    }
   },
   "outputs": [
    {
     "data": {
      "text/latex": [
       "$\\displaystyle 300.54$"
      ],
      "text/plain": [
       "300.540000000000"
      ]
     },
     "execution_count": 3,
     "metadata": {},
     "output_type": "execute_result"
    }
   ],
   "source": [
    "450-solve(modelo, x)[0]"
   ]
  },
  {
   "cell_type": "markdown",
   "metadata": {
    "id": "UxA7OGh3V3He",
    "slideshow": {
     "slide_type": "slide"
    }
   },
   "source": [
    "Lo invertido al 6% efectivo anual es 149'460.000 y lo invertido al 4.5% es 300'540.000 y me parece muy desacertado lo que hizo María Camila pues es mejor invertir más a una tasa más alta de interés. "
   ]
  },
  {
   "cell_type": "code",
   "execution_count": 2,
   "metadata": {
    "colab": {
     "base_uri": "https://localhost:8080/"
    },
    "id": "ji9swJ5AXTRq",
    "outputId": "68982ae3-61ec-450f-aa62-e7586741e4ad",
    "slideshow": {
     "slide_type": "slide"
    }
   },
   "outputs": [
    {
     "data": {
      "text/plain": [
       "18.0"
      ]
     },
     "execution_count": 2,
     "metadata": {},
     "output_type": "execute_result"
    }
   ],
   "source": [
    "300*0.06    # para determinar el 6 porciento de 300 multiplicamos por 0.06"
   ]
  },
  {
   "cell_type": "code",
   "execution_count": 5,
   "metadata": {
    "colab": {
     "base_uri": "https://localhost:8080/"
    },
    "id": "0nG_5APPXWYh",
    "outputId": "9a2747a0-0309-498c-97b6-24600baa9665",
    "slideshow": {
     "slide_type": "slide"
    }
   },
   "outputs": [
    {
     "data": {
      "text/plain": [
       "6.75"
      ]
     },
     "execution_count": 5,
     "metadata": {},
     "output_type": "execute_result"
    }
   ],
   "source": [
    "150*0.045"
   ]
  },
  {
   "cell_type": "code",
   "execution_count": 6,
   "metadata": {
    "colab": {
     "base_uri": "https://localhost:8080/"
    },
    "id": "1FI-LHb9Xb55",
    "outputId": "bd2dc012-38e7-4d0d-9172-af053c94c2ed",
    "slideshow": {
     "slide_type": "slide"
    }
   },
   "outputs": [
    {
     "data": {
      "text/plain": [
       "24.75"
      ]
     },
     "execution_count": 6,
     "metadata": {},
     "output_type": "execute_result"
    }
   ],
   "source": [
    "300*0.06+150*0.045"
   ]
  },
  {
   "cell_type": "markdown",
   "metadata": {
    "id": "FHMXBiYaX0i1",
    "slideshow": {
     "slide_type": "slide"
    }
   },
   "source": [
    "Note que hubiera ganado casi 25 millones de interés si hubiera invertido mas dinero a una tasa más alta. "
   ]
  },
  {
   "cell_type": "code",
   "execution_count": null,
   "metadata": {
    "slideshow": {
     "slide_type": "slide"
    }
   },
   "outputs": [],
   "source": []
  },
  {
   "cell_type": "code",
   "execution_count": null,
   "metadata": {
    "slideshow": {
     "slide_type": "slide"
    }
   },
   "outputs": [],
   "source": []
  },
  {
   "cell_type": "markdown",
   "metadata": {
    "slideshow": {
     "slide_type": "slide"
    }
   },
   "source": [
    "# Animación sobre creación de triángulos semejantes"
   ]
  },
  {
   "cell_type": "code",
   "execution_count": 4,
   "metadata": {
    "slideshow": {
     "slide_type": "slide"
    }
   },
   "outputs": [
    {
     "data": {
      "text/plain": [
       "array([1. , 1.1, 1.2, 1.3, 1.4, 1.5, 1.6, 1.7, 1.8, 1.9, 2. ])"
      ]
     },
     "execution_count": 4,
     "metadata": {},
     "output_type": "execute_result"
    }
   ],
   "source": [
    "import numpy as np \n",
    "import matplotlib.pyplot as plt \n",
    "\n",
    "\n",
    "\n",
    "alpha = np.arange(1,2.1, 0.1)\n",
    "alpha"
   ]
  },
  {
   "cell_type": "markdown",
   "metadata": {
    "slideshow": {
     "slide_type": "slide"
    }
   },
   "source": [
    "## Referentes \n",
    "\n",
    "* "
   ]
  }
 ],
 "metadata": {
  "celltoolbar": "Slideshow",
  "colab": {
   "authorship_tag": "ABX9TyM9W3wMUvrUnCvgp3Xmi80m",
   "include_colab_link": true,
   "provenance": []
  },
  "kernelspec": {
   "display_name": "Python 3 (ipykernel)",
   "language": "python",
   "name": "python3"
  },
  "language_info": {
   "codemirror_mode": {
    "name": "ipython",
    "version": 3
   },
   "file_extension": ".py",
   "mimetype": "text/x-python",
   "name": "python",
   "nbconvert_exporter": "python",
   "pygments_lexer": "ipython3",
   "version": "3.9.12"
  }
 },
 "nbformat": 4,
 "nbformat_minor": 1
}
