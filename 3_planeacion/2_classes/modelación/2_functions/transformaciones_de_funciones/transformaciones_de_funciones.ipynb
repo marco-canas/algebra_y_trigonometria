{
 "cells": [
  {
   "cell_type": "markdown",
   "id": "c17cf1f4",
   "metadata": {
    "slideshow": {
     "slide_type": "slide"
    }
   },
   "source": [
    "<table align=\"left\">\n",
    "  <td>\n",
    "    <a href=\"https://colab.research.google.com/github/marco-canas/3_fundamentos-de-las-matematicas/blob/main/classes/transformaciones_de_funciones/transformaciones_de_funciones.ipynb\" target=\"_parent\"><img src=\"https://colab.research.google.com/assets/colab-badge.svg\" alt=\"Open In Colab\"/></a>\n",
    "  </td>\n",
    "</table>"
   ]
  },
  {
   "cell_type": "markdown",
   "id": "6f5c195e",
   "metadata": {},
   "source": [
    "### [Video de apoyo]()"
   ]
  },
  {
   "cell_type": "markdown",
   "id": "85a5a53d",
   "metadata": {},
   "source": [
    "# Transformaciones de funciones"
   ]
  },
  {
   "cell_type": "markdown",
   "id": "f93affd2",
   "metadata": {},
   "source": [
    "## 1. Movimientos verticales del gráfico de una función\n",
    "\n",
    "Animación con deslizador para que el estudiante aprenda transformaciones del gráfico de funciones"
   ]
  },
  {
   "cell_type": "code",
   "execution_count": null,
   "id": "66941f6f",
   "metadata": {},
   "outputs": [],
   "source": []
  },
  {
   "cell_type": "markdown",
   "id": "2c49fb4a",
   "metadata": {},
   "source": [
    "## 2. Movimientos horizontales del gráfico de una función"
   ]
  },
  {
   "cell_type": "code",
   "execution_count": null,
   "id": "a4680879",
   "metadata": {},
   "outputs": [],
   "source": []
  },
  {
   "cell_type": "markdown",
   "id": "675f2468",
   "metadata": {},
   "source": [
    "## 3. Movimientos dilatación Vertical del gráfico de una función"
   ]
  },
  {
   "cell_type": "code",
   "execution_count": null,
   "id": "4c4a5594",
   "metadata": {},
   "outputs": [],
   "source": []
  },
  {
   "cell_type": "markdown",
   "id": "5b267c55",
   "metadata": {},
   "source": [
    "## 4. Movimientos dilatación horizontal del gráfico de una función"
   ]
  },
  {
   "cell_type": "code",
   "execution_count": null,
   "id": "1d7597d6",
   "metadata": {},
   "outputs": [],
   "source": []
  },
  {
   "cell_type": "code",
   "execution_count": null,
   "id": "40468062",
   "metadata": {},
   "outputs": [],
   "source": []
  },
  {
   "cell_type": "code",
   "execution_count": null,
   "id": "8a4e29b9",
   "metadata": {},
   "outputs": [],
   "source": []
  },
  {
   "cell_type": "code",
   "execution_count": null,
   "id": "d208e2a6",
   "metadata": {},
   "outputs": [],
   "source": []
  }
 ],
 "metadata": {
  "celltoolbar": "Slideshow",
  "kernelspec": {
   "display_name": "Python 3 (ipykernel)",
   "language": "python",
   "name": "python3"
  },
  "language_info": {
   "codemirror_mode": {
    "name": "ipython",
    "version": 3
   },
   "file_extension": ".py",
   "mimetype": "text/x-python",
   "name": "python",
   "nbconvert_exporter": "python",
   "pygments_lexer": "ipython3",
   "version": "3.9.13"
  }
 },
 "nbformat": 4,
 "nbformat_minor": 5
}
