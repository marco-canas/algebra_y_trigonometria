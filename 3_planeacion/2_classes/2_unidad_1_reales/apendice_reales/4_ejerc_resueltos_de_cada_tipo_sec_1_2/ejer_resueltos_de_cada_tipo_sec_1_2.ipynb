{
 "cells": [
  {
   "cell_type": "markdown",
   "id": "dc06dec7",
   "metadata": {
    "slideshow": {
     "slide_type": "slide"
    }
   },
   "source": [
    "<table align=\"left\">\n",
    "  <td>\n",
    "    <a href=\"https://colab.research.google.com/github/marco-canas/algebra_y_trigonometria/blob/main/classes/0_formatos_clase/algebra_and_trigonometry.ipynb\" target=\"_parent\"><img src=\"https://colab.research.google.com/assets/colab-badge.svg\" alt=\"Open In Colab\"/></a>\n",
    "  </td>\n",
    "  <td>\n",
    "    <a target=\"_blank\" href=\"https://kaggle.com/kernels/welcome?src=https://github.com/marco-canas/algebra_y_trigonometria/blob/main/classes/0_formatos_clase/algebra_and_trigonometry.ipynb\"><img src=\"https://kaggle.com/static/images/open-in-kaggle.svg\" /></a>\n",
    "  </td>\n",
    "</table>"
   ]
  },
  {
   "cell_type": "markdown",
   "id": "9eee306b",
   "metadata": {},
   "source": [
    "# generación del QR para el cuaderno de esta clase    \n",
    "\n",
    "Aquí tienes una función de Python que genera un código QR a partir de una URL y lo muestra en un cuaderno Jupyter:\n"
   ]
  },
  {
   "cell_type": "code",
   "execution_count": 1,
   "id": "7e0dbf6e",
   "metadata": {},
   "outputs": [],
   "source": [
    "import qrcode\n",
    "from IPython.display import display\n",
    "\n",
    "def generar_qr_notebook(url):\n",
    "    \"\"\"\n",
    "    Genera un código QR para una URL y lo muestra en un cuaderno Jupyter.\n",
    "    \n",
    "    Parámetros:\n",
    "    url (str): La URL para la cual se generará el código QR.\n",
    "    \n",
    "    Retorna:\n",
    "    None (pero muestra el código QR en el notebook)\n",
    "    \"\"\"\n",
    "    # Crear el objeto QR\n",
    "    qr = qrcode.QRCode(\n",
    "        version=1,\n",
    "        error_correction=qrcode.constants.ERROR_CORRECT_L,\n",
    "        box_size=10,\n",
    "        border=4,\n",
    "    )\n",
    "    \n",
    "    # Añadir la URL al código QR\n",
    "    qr.add_data(url)\n",
    "    qr.make(fit=True)\n",
    "    \n",
    "    # Crear la imagen del QR\n",
    "    img = qr.make_image(fill_color=\"black\", back_color=\"white\")\n",
    "    \n",
    "    # Mostrar la imagen en el notebook\n",
    "    display(img)\n",
    "\n"
   ]
  },
  {
   "cell_type": "code",
   "execution_count": null,
   "id": "79e4ce17",
   "metadata": {},
   "outputs": [],
   "source": [
    "generar_qr_notebook()"
   ]
  },
  {
   "cell_type": "markdown",
   "id": "0081bd63",
   "metadata": {},
   "source": [
    "\n",
    "### Cómo usarla:\n",
    "1. Asegúrate de tener instaladas las dependencias:\n",
    "```python\n",
    "!pip install qrcode[pil]\n",
    "```\n",
    "\n",
    "2. Luego puedes llamar a la función con tu URL:\n",
    "```python\n",
    "generar_qr_notebook(\"https://ejemplo.com/mi-cuaderno\")\n",
    "```\n",
    "\n",
    "### Notas:\n",
    "- La función usa la biblioteca `qrcode` para generar el código y `IPython.display` para mostrarlo en el notebook.\n",
    "- El código QR aparecerá como salida de la celda donde llames a la función.\n",
    "- Puedes ajustar parámetros como `box_size` (tamaño de los cuadrados) o `border` (tamaño del borde) según tus necesidades.\n"
   ]
  },
  {
   "cell_type": "markdown",
   "id": "e0c5b198",
   "metadata": {
    "slideshow": {
     "slide_type": "slide"
    }
   },
   "source": [
    "### [Video de apoyo a la lectura interactiva y experimental de este cuaderno]()"
   ]
  },
  {
   "cell_type": "markdown",
   "id": "41e82203",
   "metadata": {
    "slideshow": {
     "slide_type": "slide"
    }
   },
   "source": [
    "### [Vínculo al programa del curso Algebra_and_trigonometry:  ](https://github.com/marco-canas/algebra_y_trigonometria/blob/main/0_programa_curso/programa_algebra_and_trigonometry.md)\n"
   ]
  },
  {
   "cell_type": "markdown",
   "id": "d11ab06d",
   "metadata": {
    "slideshow": {
     "slide_type": "slide"
    }
   },
   "source": [
    "Un reconocimiento a mis estudiantes que han construido conmigo este saber pedagógico:\n",
    "\n",
    "<img src = 'https://github.com/marco-canas/algebra_y_trigonometria/blob/main/images/primera_clase_2025-08-05_a_las_12.06.22.jpg?raw=true'>   \n",
    "\n"
   ]
  },
  {
   "cell_type": "markdown",
   "id": "8a74a56c-0ce6-4ad6-b985-553fd7fb68bb",
   "metadata": {},
   "source": [
    "Reconocimiento a las profesoras destacadas en enseñanza de la matemática en Colombia\n"
   ]
  },
  {
   "cell_type": "code",
   "execution_count": 3,
   "id": "7604880f",
   "metadata": {
    "slideshow": {
     "slide_type": "slide"
    }
   },
   "outputs": [
    {
     "data": {
      "application/vnd.microsoft.datawrangler.viewer.v0+json": {
       "columns": [
        {
         "name": "index",
         "rawType": "int64",
         "type": "integer"
        },
        {
         "name": "Cedula",
         "rawType": "int64",
         "type": "integer"
        },
        {
         "name": "Nombre",
         "rawType": "object",
         "type": "string"
        },
        {
         "name": "Email",
         "rawType": "object",
         "type": "string"
        }
       ],
       "ref": "f6e3adc6-ee8c-49cf-a648-b2092da08f20",
       "rows": [
        [
         "0",
         "1038648096",
         "ACEVEDO BELEÑO SANTIAGO",
         "sacevedo.beleno@udea.edu.co"
        ],
        [
         "1",
         "1038648760",
         "MARIN VILLARREAL PABLO ALEJANDRO",
         "pablo.marin1@udea.edu.co"
        ],
        [
         "2",
         "1193401041",
         "MARTINEZ MANJARREZ DANIELA ESTHER",
         "daniela.martinezm@udea.edu.co"
        ],
        [
         "3",
         "1038108720",
         "MEJIA GUZMAN SAMUEL",
         "samuel.mguzman@udea.edu.co"
        ],
        [
         "4",
         "1038647828",
         "NIEBLES BARRERA ALEXANDER ISAAC",
         "alexander.niebles@udea.edu.co"
        ],
        [
         "5",
         "1045426138",
         "OQUENDO MONA CRISTIAN GABRIEL",
         "cristian.oquendo1@udea.edu.co"
        ],
        [
         "6",
         "1032250901",
         "PINO VERGARA LIZETH",
         "lizeth.pino@udea.edu.co"
        ],
        [
         "7",
         "1038092717",
         "RIVERA GUZMAN CRISTIAN",
         "cristian.rivera2@udea.edu.co"
        ],
        [
         "8",
         "1038110693",
         "ROMERO CALDERA JUAN ESTEBAN",
         "juanesteban.romero@udea.edu.co"
        ],
        [
         "9",
         "1063359347",
         "SANCHEZ PACHECO MOISES DAVID",
         "moises.sanchez1@udea.edu.co"
        ],
        [
         "10",
         "1066600819",
         "TIRADO CHAVARRIA WILFRAN DE JESUS",
         "wilfran.tirado@udea.edu.co"
        ],
        [
         "11",
         "1038136995",
         "VERGARA ACEVEDO SARA CRISTINA",
         "scristina.vergara@udea.edu.co"
        ],
        [
         "12",
         "1007452831",
         "VILORIA SIERRA ALEXANDER",
         "a.viloria1@udea.edu.co"
        ]
       ],
       "shape": {
        "columns": 3,
        "rows": 13
       }
      },
      "text/html": [
       "<div>\n",
       "<style scoped>\n",
       "    .dataframe tbody tr th:only-of-type {\n",
       "        vertical-align: middle;\n",
       "    }\n",
       "\n",
       "    .dataframe tbody tr th {\n",
       "        vertical-align: top;\n",
       "    }\n",
       "\n",
       "    .dataframe thead th {\n",
       "        text-align: right;\n",
       "    }\n",
       "</style>\n",
       "<table border=\"1\" class=\"dataframe\">\n",
       "  <thead>\n",
       "    <tr style=\"text-align: right;\">\n",
       "      <th></th>\n",
       "      <th>Cedula</th>\n",
       "      <th>Nombre</th>\n",
       "      <th>Email</th>\n",
       "    </tr>\n",
       "  </thead>\n",
       "  <tbody>\n",
       "    <tr>\n",
       "      <th>0</th>\n",
       "      <td>1038648096</td>\n",
       "      <td>ACEVEDO BELEÑO SANTIAGO</td>\n",
       "      <td>sacevedo.beleno@udea.edu.co</td>\n",
       "    </tr>\n",
       "    <tr>\n",
       "      <th>1</th>\n",
       "      <td>1038648760</td>\n",
       "      <td>MARIN VILLARREAL PABLO ALEJANDRO</td>\n",
       "      <td>pablo.marin1@udea.edu.co</td>\n",
       "    </tr>\n",
       "    <tr>\n",
       "      <th>2</th>\n",
       "      <td>1193401041</td>\n",
       "      <td>MARTINEZ MANJARREZ DANIELA ESTHER</td>\n",
       "      <td>daniela.martinezm@udea.edu.co</td>\n",
       "    </tr>\n",
       "    <tr>\n",
       "      <th>3</th>\n",
       "      <td>1038108720</td>\n",
       "      <td>MEJIA GUZMAN SAMUEL</td>\n",
       "      <td>samuel.mguzman@udea.edu.co</td>\n",
       "    </tr>\n",
       "    <tr>\n",
       "      <th>4</th>\n",
       "      <td>1038647828</td>\n",
       "      <td>NIEBLES BARRERA ALEXANDER ISAAC</td>\n",
       "      <td>alexander.niebles@udea.edu.co</td>\n",
       "    </tr>\n",
       "    <tr>\n",
       "      <th>5</th>\n",
       "      <td>1045426138</td>\n",
       "      <td>OQUENDO MONA CRISTIAN GABRIEL</td>\n",
       "      <td>cristian.oquendo1@udea.edu.co</td>\n",
       "    </tr>\n",
       "    <tr>\n",
       "      <th>6</th>\n",
       "      <td>1032250901</td>\n",
       "      <td>PINO VERGARA LIZETH</td>\n",
       "      <td>lizeth.pino@udea.edu.co</td>\n",
       "    </tr>\n",
       "    <tr>\n",
       "      <th>7</th>\n",
       "      <td>1038092717</td>\n",
       "      <td>RIVERA GUZMAN CRISTIAN</td>\n",
       "      <td>cristian.rivera2@udea.edu.co</td>\n",
       "    </tr>\n",
       "    <tr>\n",
       "      <th>8</th>\n",
       "      <td>1038110693</td>\n",
       "      <td>ROMERO CALDERA JUAN ESTEBAN</td>\n",
       "      <td>juanesteban.romero@udea.edu.co</td>\n",
       "    </tr>\n",
       "    <tr>\n",
       "      <th>9</th>\n",
       "      <td>1063359347</td>\n",
       "      <td>SANCHEZ PACHECO MOISES DAVID</td>\n",
       "      <td>moises.sanchez1@udea.edu.co</td>\n",
       "    </tr>\n",
       "    <tr>\n",
       "      <th>10</th>\n",
       "      <td>1066600819</td>\n",
       "      <td>TIRADO CHAVARRIA WILFRAN DE JESUS</td>\n",
       "      <td>wilfran.tirado@udea.edu.co</td>\n",
       "    </tr>\n",
       "    <tr>\n",
       "      <th>11</th>\n",
       "      <td>1038136995</td>\n",
       "      <td>VERGARA ACEVEDO SARA CRISTINA</td>\n",
       "      <td>scristina.vergara@udea.edu.co</td>\n",
       "    </tr>\n",
       "    <tr>\n",
       "      <th>12</th>\n",
       "      <td>1007452831</td>\n",
       "      <td>VILORIA SIERRA ALEXANDER</td>\n",
       "      <td>a.viloria1@udea.edu.co</td>\n",
       "    </tr>\n",
       "  </tbody>\n",
       "</table>\n",
       "</div>"
      ],
      "text/plain": [
       "        Cedula                             Nombre  \\\n",
       "0   1038648096            ACEVEDO BELEÑO SANTIAGO   \n",
       "1   1038648760   MARIN VILLARREAL PABLO ALEJANDRO   \n",
       "2   1193401041  MARTINEZ MANJARREZ DANIELA ESTHER   \n",
       "3   1038108720                MEJIA GUZMAN SAMUEL   \n",
       "4   1038647828    NIEBLES BARRERA ALEXANDER ISAAC   \n",
       "5   1045426138      OQUENDO MONA CRISTIAN GABRIEL   \n",
       "6   1032250901                PINO VERGARA LIZETH   \n",
       "7   1038092717             RIVERA GUZMAN CRISTIAN   \n",
       "8   1038110693        ROMERO CALDERA JUAN ESTEBAN   \n",
       "9   1063359347       SANCHEZ PACHECO MOISES DAVID   \n",
       "10  1066600819  TIRADO CHAVARRIA WILFRAN DE JESUS   \n",
       "11  1038136995      VERGARA ACEVEDO SARA CRISTINA   \n",
       "12  1007452831           VILORIA SIERRA ALEXANDER   \n",
       "\n",
       "                             Email  \n",
       "0      sacevedo.beleno@udea.edu.co  \n",
       "1         pablo.marin1@udea.edu.co  \n",
       "2    daniela.martinezm@udea.edu.co  \n",
       "3       samuel.mguzman@udea.edu.co  \n",
       "4    alexander.niebles@udea.edu.co  \n",
       "5    cristian.oquendo1@udea.edu.co  \n",
       "6          lizeth.pino@udea.edu.co  \n",
       "7     cristian.rivera2@udea.edu.co  \n",
       "8   juanesteban.romero@udea.edu.co  \n",
       "9      moises.sanchez1@udea.edu.co  \n",
       "10      wilfran.tirado@udea.edu.co  \n",
       "11   scristina.vergara@udea.edu.co  \n",
       "12          a.viloria1@udea.edu.co  "
      ]
     },
     "execution_count": 3,
     "metadata": {},
     "output_type": "execute_result"
    }
   ],
   "source": [
    "import pandas as pd\n",
    "import numpy as np\n",
    "\n",
    "# Cargar la lista de estudiantes desde el archivo CSV\n",
    "path = 'C:/Users/marco/Documentos/docencia/groups_list/algebra_and_trigonometry.xlsx'\n",
    "df = pd.read_excel(path)\n",
    "df.head(13) \n"
   ]
  },
  {
   "cell_type": "markdown",
   "id": "d7598d0a-d9b7-4ae0-b029-a0ed6ed1130b",
   "metadata": {},
   "source": [
    "\n",
    "# Principios de mi labor docente"
   ]
  },
  {
   "cell_type": "markdown",
   "id": "4f9d8cf9",
   "metadata": {
    "slideshow": {
     "slide_type": "slide"
    }
   },
   "source": [
    "## Modelo general de clase: [aula invertida](https://www3.gobiernodecanarias.org/medusa/ecoescuela/pedagotic/aprendizaje-invertido-flipped-classroom/)"
   ]
  },
  {
   "cell_type": "markdown",
   "id": "eb6ed03a",
   "metadata": {},
   "source": [
    "<img src = 'https://resources.maneuveringthemiddle.com/wp-content/uploads/2020/07/04212706/1-5.png' width = 200>  \n",
    "\n"
   ]
  },
  {
   "cell_type": "markdown",
   "id": "34319cce-a71b-4f64-aab8-b53e521efa40",
   "metadata": {},
   "source": [
    "# Metodología de Aprendizaje Basado en Problemas y Proyectos (ABPP)\n"
   ]
  },
  {
   "cell_type": "markdown",
   "id": "c4f73d81",
   "metadata": {},
   "source": [
    "\n",
    "<img src = 'https://www.unir.net/wp-content/uploads/2020/07/aprendizaje-problemas2-1-1-1-1.jpeg' width = 200>"
   ]
  },
  {
   "cell_type": "markdown",
   "id": "841a985c-bd9b-4dd3-8e4c-893983980af2",
   "metadata": {},
   "source": [
    "# Desarrollo del pensamiento computacional con Lenguajes Python y R, y con archivos Markdown orientado a la formación en ciencia de datos \n",
    "\n"
   ]
  },
  {
   "cell_type": "markdown",
   "id": "3d0eba94",
   "metadata": {},
   "source": [
    "\n",
    "<img src = 'https://i.ytimg.com/vi/mcG_wcR4e6M/maxresdefault.jpg' width = 200>"
   ]
  },
  {
   "cell_type": "markdown",
   "id": "65aa0404-f7ae-495e-864c-1aec01b4255e",
   "metadata": {},
   "source": [
    "# Principio de fomento a la ciencia abierta, enseñar en el acceso a los datos públicos y el uso de software de código abierto  \n"
   ]
  },
  {
   "cell_type": "markdown",
   "id": "18ae9b87",
   "metadata": {},
   "source": [
    "\n",
    "<img src = 'https://unesdoc.unesco.org/in/rest/Thumb/image?id=p%3A%3Ausmarcdef_0000379949_spa&author=UNESCO&title=Recomendaci%C3%B3n+de+la+UNESCO+sobre+la+Ciencia+Abierta&year=2021&publisher=UNESCO&TypeOfDocument=UnescoPhysicalDocument&mat=PGD&ct=true&size=512&isPhysical=1' width = 200>"
   ]
  },
  {
   "cell_type": "markdown",
   "id": "d9559f85",
   "metadata": {},
   "source": [
    "El enfoque STEAMS en educación preescolar, primaria y secundaria es una extensión del enfoque STEM (Ciencia, Tecnología, Ingeniería y Matemáticas) y su variante STEAM, que incorpora el Arte. "
   ]
  },
  {
   "cell_type": "markdown",
   "id": "0130ec1b",
   "metadata": {},
   "source": [
    "\n",
    "<img src = 'https://www.campuseducacion.com/blog/wp-content/uploads/2023/03/foto01-1.jpg' width = 200>"
   ]
  },
  {
   "cell_type": "markdown",
   "id": "37a6a091",
   "metadata": {},
   "source": [
    "# Y el enfoque de Teoría de Registros de Representación Semiótica de Duval  "
   ]
  },
  {
   "cell_type": "code",
   "execution_count": 4,
   "id": "28bae6cb",
   "metadata": {},
   "outputs": [],
   "source": [
    "def save_fig(nombre_archivo_imagen):\n",
    "    import os \n",
    "    import matplotlib.pyplot as plt\n",
    "    ubicacion_para_imagenes = r\"C:/Users/marco/Downloads\"\n",
    "    imagen_path = os.path.join(ubicacion_para_imagenes, nombre_archivo_imagen)\n",
    "    plt.savefig(imagen_path, bbox_inches='tight')"
   ]
  },
  {
   "cell_type": "markdown",
   "id": "10e55ccf",
   "metadata": {},
   "source": [
    "# Estructura general para todas las clases\n"
   ]
  },
  {
   "cell_type": "markdown",
   "id": "ddd73417",
   "metadata": {},
   "source": [
    "\n",
    "Dame, por favor, un diseño de clase, con el enfoque: \"Aula Invertida, STEAMS, de Aprendizaje Basado en Problemas y Proyectos (ABPP) y de Teoría de Registros de Representación Semiótica (TRRS) de Duval\" sobre: \"[Tema de la clase]: un enfoque para la clase de álgebra y trigonometría según el programa de curso: https://github.com/marco-canas/algebra_y_trigonometria/blob/main/0_programa_curso/1_programa_algebra_and_trigonometry.md; y para el curso de Geometría Euclidiana, analítica y vectorial.\", siguiendo la estructura:  \n",
    "\n",
    "\n",
    "Ubicación del programa del curso: [aquí](un enfoque para la clase de álgebra y trigonometría según el programa de curso: https://github.com/marco-canas/algebra_y_trigonometria/blob/main/0_programa_curso/1_programa_algebra_and_trigonometry.md)   \n",
    "\n",
    "Ubicación de la lista de estudiantes matriculados: [Aquí](https://github.com/marco-canas/groups_list/blob/main/vector_geometry_and_linear_algebra.xlsx)  \n",
    "\n",
    "1. Título de la clase   \n",
    "   \n",
    "2. Objetivo de aprendizaje que incluyan los indicadores del logro de estos objetivos. \n",
    "   \n",
    "3. Un mapa conceptual que resuma la clase elaborado en Graphviz de python con nodos y edges de diferentes formas, colores y rellenos y renderizado en la siguiente ubicación: `\"C:\\Users\\marco\\Downloads\"`.  No olvides el parámetro `view = True` para el método `render()` de Graphviz. Para este mapa controla las superposiciones de los nodos con: graph [overlap=false]; // Elimina superposiciones (puede aumentar el espacio)\n",
    "graph [overlap=\"scalexy\"]; // Escala el gráfico para evitar overlaps\n",
    "graph [overlap=\"compress\"]; // Comprime el grafo sin overlaps  \n",
    "   \n",
    "4. Elementos históricos y epistemológicos relevantes para la clase, pero narrados como una historieta al estilo de un cuentero antioqueño en Colombia. Incluye imágenes de los protagonistas históricos de esta clase.  \n",
    "   \n",
    "5. Contenido de la clase:     \n",
    "   \n",
    "          \n",
    "        \n",
    "6. Actividades de aprendizaje:   \n",
    "   \n",
    "7. Incluye una canción o un poema que ayude a interiorizar y fijar los conceptos asociados a esta clase.   \n",
    "   \n",
    "8.  Tarea o actividades de ejercitación y fijación. Incluye 20 ejercicios de tarea en las que los estudiantes empiecen con la descripción geométrica del algoritmo, luego la descripción verbal y secuencial del algoritmo, después la implementación en lenguaje python editado a través de la terminal powershell de su computador y finalmente con el cálculo a mano y en su cuaderno. Crea una función de usuario de Python que asigne esta tareas a cada uno de los estudiantes matriculados en este curso tomando la ubicación de los estudiantes dada en este prompt.  \n",
    "    \n",
    "9. Evaluación incluyendo 20 proyectos, un ejemplo de quiz (con tres items) y un ejemplo de parcial (con 5 items). Incluye evaluaciones en las que los estudiantes empiecen con la descripción geométrica del algoritmo, luego la descripción verbal y secuencial del algoritmo, después la implementación en lenguaje python editado a través de la terminal powershell de su computador, y finalmente con el cálculo algebraico y numérico a mano y en su cuaderno. \n",
    "    \n",
    "10. Diseño de actividad de retroalimentación.   \n",
    "    \n",
    "11. Dame un vocabulario y frases del idioma inglés asociadas a esta clase.    \n",
    "     \n",
    "12. Incluye apéndice para la clase sobre desarrollo de habilidades para trabajar en equipo y de asertividad y empatía para relacionarnos. También elementos de la inteligencia emocional para presentar pruebas sin temor y sin realizar fraude en ellas.    \n",
    "     \n",
    "13. Incluye 10 referentes en didáctica de la matemática que estén de acuerdo a la propuesta didáctica de esta clase. Adiciona a estos referentes a Raymond Duval (Representaciones y cambios de representación para la adquisición de conceptos matemáticos) y a [Jeannette Wing](https://es.wikipedia.org/wiki/Jeannette_Wing) (Desarrollo del pensamiento computacional). Déjame todos estos referentes ordenados de acuerdo a las normas APA. Al crear la clase, introduce las citas de estos autores en el texto de la clase.\n",
    "\n",
    "\n",
    "Pero  que este diseño sea para que el estudiante pueda aprender experimentando en cuadernos Jupyter con funciones de usuario y animaciones y visualizaciones en python.   \n",
    "\n",
    "En particular utiliza para el diseño de clase a Numpy, Pandas, SymPy, Matplotlib.pyplot, Seaborn, Plotly, ipywidgets, matplotlib.animation, TensorFlow, Keras y Jupyter Notebook.    \n",
    "\n",
    "Cada vez que utilices `matplotlib.animacion` no olvides incluir el uso de `IPython. display` para la rederización de estas animaciones a través de Jupyter Notebook. No olvides darme los diseños de clase con las ecuaciones matemáticas delimitadas con signo de dolar $ para que VS Code si me renderize estas expresiones del lenguaje latex. Cuando vallas a utilizar ipywidgets ten en cuenta la siguiente importación inicial para garantizar que la visualización interactiva si se renderize en VS Code:   \n",
    "\n",
    "Ubicación del texto guía: https://archive.org/details/algebra-y-trigonometria-con-geometria-analitica-13va-edicion-earl-w.-swokowski/page/n3/mode/2up\n",
    "\n",
    "\n",
    "\n"
   ]
  },
  {
   "cell_type": "markdown",
   "id": "f39ebbcb",
   "metadata": {},
   "source": [
    "# Prompt para la clasificación de los ejercicios de la Sección 1.2 del Swokowski sobre Potencición y radicación en los números reales   \n",
    "\n",
    "Dame, por favor, la clasificación de los ejercicios de la sección 1.2 del libro de texto de Swokowski sobre \"1.2 Exponentes y radicales\", el cual se puede descargar de: https://archive.org/details/algebra-y-trigonometria-con-geometria-analitica-13va-edicion-earl-w.-swokowski/page/n3/mode/2up "
   ]
  },
  {
   "cell_type": "markdown",
   "id": "c14f3064",
   "metadata": {},
   "source": [
    "Aquí tienes la **clasificación de los ejercicios** de la **sección 1.2 “Exponentes y radicales”** del libro *Álgebra y Trigonometría con Geometría Analítica* de Swokowski (13.ª edición), basada en la descripción que aparece en un resumen de los ejercicios ([Scribd][1]):\n",
    "\n",
    "---\n",
    "\n",
    "### Clasificación de los ejercicios de la sección 1.2  \n",
    "\n",
    "Página 45 del PDF de Swokowski  \n"
   ]
  },
  {
   "cell_type": "markdown",
   "id": "3a0adb8c",
   "metadata": {},
   "source": [
    "\n",
    "1. **Ejercicios 1–10:**\n",
    "\n",
    "   * **Tipo:** Expresar un número en la forma $\\frac{a}{b}$, donde $a$ y $b$ son enteros.\n",
    "   * **Propósito:** Convertir expresiones en formas de fracción simple, fomentando precisión y habilidades algebraicas básicas. ([Scribd][1])\n"
   ]
  },
  {
   "cell_type": "markdown",
   "id": "505dfa84",
   "metadata": {},
   "source": [
    "\n",
    "2. **Ejercicios 11–46:**\n",
    "\n",
    "   * **Tipo:** Simplificación de expresiones con exponentes y radicales.\n",
    "   * **Propósito:** Aplicar las leyes de exponentes (positivos, negativos, fraccionarios) y propiedades de radicales para simplificar expresiones complejas. ([Scribd][1])\n"
   ]
  },
  {
   "cell_type": "markdown",
   "id": "6b0a358b",
   "metadata": {},
   "source": [
    "\n",
    "3. **Ejercicios 47–52:**\n",
    "\n",
    "   * **Tipo:** Reescribir expresiones usando **exponentes racionales** (fraccionarios).\n",
    "   * **Propósito:** Convertir expresiones radicales o con raíces a forma $a^{m/n}$ para trabajar con exponentes racionales de manera uniforme. ([Scribd][1])\n"
   ]
  },
  {
   "cell_type": "markdown",
   "id": "ded38246",
   "metadata": {},
   "source": [
    "\n",
    "4. **Ejercicios 53–56 (aproximadamente):**\n",
    "\n",
    "   * **Tipo:** Reescribir expresiones usando un radical.\n",
    "   * **Propósito:** Convertir exponentes fraccionarios a notación radical, reforzando la comprensión de equivalencia y reglas de transformación entre los dos formatos. ([Scribd][1])\n"
   ]
  },
  {
   "cell_type": "markdown",
   "id": "a223e67a",
   "metadata": {},
   "source": [
    "\n",
    "5. **Ejercicios 57–80:**\n",
    "\n",
    "   * **Tipo:** Simplificar expresiones y, donde corresponda, racionalizar denominadores.\n",
    "   * **Propósito:** Aplicar diversas leyes de exponentes y técnicas de radicales, incluyendo la racionalización, un procedimiento clave en simplificación de expresiones matemáticas. ([Scribd][1])\n",
    "\n",
    "---\n"
   ]
  },
  {
   "cell_type": "markdown",
   "id": "1b70926e",
   "metadata": {},
   "source": [
    "# Problemas de enunciado verbal  de la sección 1.2 de Swokowski  \n",
    "\n",
    "Página 42 del PDF de Swokowski  \n",
    "\n",
    "101 Peso en hombres  \n",
    "\n",
    "El promedio de peso $W$ (en libras) para hombres con estatura $h$ entre 64 y 79 pulgadas se puede aproximar con el uso de la fórmula \n",
    "\n",
    "$$ W = 0.1166 h^{1.7}. $$  \n",
    "\n",
    "Construya una tabla para $W$ con $h$ $64, 65, \\ldots, 79$.  \n",
    "\n",
    "Redondee todos los pesos a la libra más cercana.  \n"
   ]
  },
  {
   "cell_type": "markdown",
   "id": "6bc9a987",
   "metadata": {},
   "source": [
    "Perfecto, Marco Julio. Vamos a resolver este problema paso a paso, como **guía didáctica** para que tus estudiantes practiquen el uso de **funciones de usuario en Python** y **DataFrames con Pandas**.\n",
    "\n"
   ]
  },
  {
   "cell_type": "markdown",
   "id": "f98563a3",
   "metadata": {},
   "source": [
    "\n",
    "\n",
    "## Problema\n",
    "\n",
    "Queremos calcular el peso promedio $W$ de hombres de estatura $h$ entre **64 y 79 pulgadas**, usando la fórmula:\n",
    "\n",
    "$$\n",
    "W = 0.1166 \\, h^{1.7}\n",
    "$$\n",
    "\n",
    "y construir una **tabla con Pandas**, redondeando los pesos a la libra más cercana.\n",
    "\n"
   ]
  },
  {
   "cell_type": "markdown",
   "id": "6a79190f",
   "metadata": {},
   "source": [
    "\n",
    "\n",
    "## Paso 1. Definir la función en Python\n",
    "\n",
    "Creamos una **función de usuario** que reciba como entrada la estatura `h` y devuelva el peso `W`.\n"
   ]
  },
  {
   "cell_type": "code",
   "execution_count": 3,
   "id": "35c5f14d",
   "metadata": {},
   "outputs": [],
   "source": [
    "def peso_promedio(h):\n",
    "    \"\"\"\n",
    "    Calcula el peso promedio W (en libras) para un hombre de estatura h (en pulgadas),\n",
    "    usando la fórmula W = 0.1166 * h^1.7.\n",
    "    \n",
    "    Parámetros:\n",
    "    h (float): estatura en pulgadas.\n",
    "    \n",
    "    Retorna:\n",
    "    int: peso promedio redondeado a la libra más cercana.\n",
    "    \"\"\"\n",
    "    W = 0.1166 * (h ** 1.7)\n",
    "    return round(W)\n",
    "\n"
   ]
  },
  {
   "cell_type": "markdown",
   "id": "29e352ed",
   "metadata": {},
   "source": [
    "\n",
    "## Paso 2. Generar los datos de estaturas\n",
    "\n",
    "Necesitamos un rango de estaturas entre 64 y 79 pulgadas (enteros).\n"
   ]
  },
  {
   "cell_type": "code",
   "execution_count": null,
   "id": "9fbd54de",
   "metadata": {},
   "outputs": [],
   "source": [
    "import pandas as pd\n",
    "\n",
    "# Rango de estaturas (64 a 79 inclusive)\n",
    "estaturas = list(range(64, 80))\n",
    "\n"
   ]
  },
  {
   "cell_type": "markdown",
   "id": "70c2bd0f",
   "metadata": {},
   "source": [
    "## Paso 3. Calcular los pesos para cada estatura\n",
    "\n",
    "Aplicamos la función `peso_promedio` a cada valor de `estaturas`.\n"
   ]
  },
  {
   "cell_type": "code",
   "execution_count": null,
   "id": "b8f6bab5",
   "metadata": {},
   "outputs": [],
   "source": [
    "\n",
    "# Calcular pesos aplicando la función\n",
    "pesos = [peso_promedio(h) for h in estaturas]\n",
    "\n"
   ]
  },
  {
   "cell_type": "markdown",
   "id": "26d25ef8",
   "metadata": {},
   "source": [
    "\n",
    "---\n",
    "\n",
    "## Paso 4. Construir la tabla con Pandas\n",
    "\n",
    "Creamos un **DataFrame** con dos columnas: `\"Estatura (pulgadas)\"` y `\"Peso (libras)\"`.\n"
   ]
  },
  {
   "cell_type": "markdown",
   "id": "a227b527",
   "metadata": {},
   "source": [
    "\n",
    "# Crear DataFrame\n",
    "df = pd.DataFrame({\n",
    "    \"Estatura (pulgadas)\": estaturas,\n",
    "    \"Peso (libras)\": pesos\n",
    "})\n",
    "\n",
    "\n",
    "---\n"
   ]
  },
  {
   "cell_type": "markdown",
   "id": "2b2a4509",
   "metadata": {},
   "source": [
    "\n",
    "## Paso 5. Visualizar la tabla\n",
    "\n",
    "Mostramos la tabla final en Jupyter Notebook o Python.\n"
   ]
  },
  {
   "cell_type": "markdown",
   "id": "4202cdfb",
   "metadata": {},
   "source": [
    "\n",
    "```python\n",
    "print(df)\n",
    "```\n"
   ]
  },
  {
   "cell_type": "markdown",
   "id": "16e21a80",
   "metadata": {},
   "source": [
    "\n",
    "---\n",
    "\n",
    "## Código completo\n"
   ]
  },
  {
   "cell_type": "markdown",
   "id": "a97a624e",
   "metadata": {},
   "source": [
    "\n",
    "```python\n",
    "import pandas as pd\n",
    "\n",
    "def peso_promedio(h):\n",
    "    \"\"\"\n",
    "    Calcula el peso promedio W (en libras) para un hombre de estatura h (en pulgadas),\n",
    "    usando la fórmula W = 0.1166 * h^1.7.\n",
    "    \n",
    "    Parámetros:\n",
    "    h (float): estatura en pulgadas.\n",
    "    \n",
    "    Retorna:\n",
    "    int: peso promedio redondeado a la libra más cercana.\n",
    "    \"\"\"\n",
    "    W = 0.1166 * (h ** 1.7)\n",
    "    return round(W)\n",
    "\n",
    "# Generar estaturas de 64 a 79 pulgadas\n",
    "estaturas = list(range(64, 80))\n",
    "\n",
    "# Calcular pesos\n",
    "pesos = [peso_promedio(h) for h in estaturas]\n",
    "\n",
    "# Crear DataFrame\n",
    "df = pd.DataFrame({\n",
    "    \"Estatura (pulgadas)\": estaturas,\n",
    "    \"Peso (libras)\": pesos\n",
    "})\n",
    "\n",
    "# Mostrar tabla\n",
    "print(df)\n",
    "```\n"
   ]
  },
  {
   "cell_type": "markdown",
   "id": "8514d907",
   "metadata": {},
   "source": [
    "\n",
    "## Ejemplo de salida esperada\n",
    "\n",
    "| Estatura (pulgadas) | Peso (libras) |\n",
    "| ------------------- | ------------- |\n",
    "| 64                  | 127           |\n",
    "| 65                  | 130           |\n",
    "| 66                  | 133           |\n",
    "| 67                  | 136           |\n",
    "| ...                 | ...           |\n",
    "| 79                  | 176           |\n",
    "\n",
    "---\n",
    "\n",
    " Con esta guía, tus estudiantes practican:\n",
    "\n",
    "1. **Definición de funciones de usuario en Python**.\n",
    "2. **Uso de listas y comprensión de listas**.\n",
    "3. **Construcción de tablas con Pandas**.\n",
    "4. **Aplicación de fórmulas matemáticas en programación**.\n",
    "\n",
    "\n"
   ]
  },
  {
   "cell_type": "markdown",
   "id": "5484aef6",
   "metadata": {},
   "source": [
    "**versión didáctica con Pandas y Matplotlib**, de manera que tus estudiantes no solo construyan la tabla de valores, sino que también visualicen gráficamente la relación entre **estatura (h)** y **peso (W)**:\n",
    "\n",
    "\n"
   ]
  },
  {
   "cell_type": "markdown",
   "id": "094725be",
   "metadata": {},
   "source": [
    "\n",
    "# Guía Didáctica: Relación entre Estatura y Peso en Hombres\n",
    "\n",
    "### Objetivo de la actividad\n",
    "\n",
    "* Aplicar funciones definidas por el usuario en Python.\n",
    "* Usar **Pandas** para construir tablas de valores.\n",
    "* Representar gráficamente relaciones matemáticas con **Matplotlib**.\n",
    "* Interpretar una función que modela un fenómeno real (peso en función de la estatura).\n",
    "\n",
    "---\n"
   ]
  },
  {
   "cell_type": "markdown",
   "id": "dde5b576",
   "metadata": {},
   "source": [
    "\n",
    "## Enunciado del problema (Swokowski, p.42, Ej.101)\n",
    "\n",
    "El promedio de peso $W$ (en libras) para hombres con estatura $h$ entre 64 y 79 pulgadas se puede aproximar con la fórmula:\n",
    "\n",
    "$$\n",
    "W = 0.1166 \\, h^{1.7}\n",
    "$$\n",
    "\n",
    "Se pide:\n",
    "\n",
    "1. Construir una tabla para $h = 64, 65, \\ldots, 79$.\n",
    "2. Redondear los pesos a la libra más cercana.\n",
    "3. Representar gráficamente la relación entre **estatura y peso**.\n",
    "\n",
    "---\n"
   ]
  },
  {
   "cell_type": "markdown",
   "id": "4941fcbd",
   "metadata": {},
   "source": [
    "\n",
    "## Código en Python\n"
   ]
  },
  {
   "cell_type": "code",
   "execution_count": 2,
   "id": "6d199363",
   "metadata": {},
   "outputs": [
    {
     "data": {
      "application/vnd.microsoft.datawrangler.viewer.v0+json": {
       "columns": [
        {
         "name": "index",
         "rawType": "int64",
         "type": "integer"
        },
        {
         "name": "Estatura (pulgadas)",
         "rawType": "int64",
         "type": "integer"
        },
        {
         "name": "Peso (libras)",
         "rawType": "int64",
         "type": "integer"
        }
       ],
       "ref": "4be953d9-34e5-46bc-9e15-5eb875c1918b",
       "rows": [
        [
         "0",
         "64",
         "137"
        ],
        [
         "1",
         "65",
         "141"
        ],
        [
         "2",
         "66",
         "145"
        ],
        [
         "3",
         "67",
         "148"
        ],
        [
         "4",
         "68",
         "152"
        ],
        [
         "5",
         "69",
         "156"
        ],
        [
         "6",
         "70",
         "160"
        ],
        [
         "7",
         "71",
         "164"
        ],
        [
         "8",
         "72",
         "168"
        ],
        [
         "9",
         "73",
         "172"
        ],
        [
         "10",
         "74",
         "176"
        ],
        [
         "11",
         "75",
         "180"
        ],
        [
         "12",
         "76",
         "184"
        ],
        [
         "13",
         "77",
         "188"
        ],
        [
         "14",
         "78",
         "192"
        ],
        [
         "15",
         "79",
         "196"
        ]
       ],
       "shape": {
        "columns": 2,
        "rows": 16
       }
      },
      "text/html": [
       "<div>\n",
       "<style scoped>\n",
       "    .dataframe tbody tr th:only-of-type {\n",
       "        vertical-align: middle;\n",
       "    }\n",
       "\n",
       "    .dataframe tbody tr th {\n",
       "        vertical-align: top;\n",
       "    }\n",
       "\n",
       "    .dataframe thead th {\n",
       "        text-align: right;\n",
       "    }\n",
       "</style>\n",
       "<table border=\"1\" class=\"dataframe\">\n",
       "  <thead>\n",
       "    <tr style=\"text-align: right;\">\n",
       "      <th></th>\n",
       "      <th>Estatura (pulgadas)</th>\n",
       "      <th>Peso (libras)</th>\n",
       "    </tr>\n",
       "  </thead>\n",
       "  <tbody>\n",
       "    <tr>\n",
       "      <th>0</th>\n",
       "      <td>64</td>\n",
       "      <td>137</td>\n",
       "    </tr>\n",
       "    <tr>\n",
       "      <th>1</th>\n",
       "      <td>65</td>\n",
       "      <td>141</td>\n",
       "    </tr>\n",
       "    <tr>\n",
       "      <th>2</th>\n",
       "      <td>66</td>\n",
       "      <td>145</td>\n",
       "    </tr>\n",
       "    <tr>\n",
       "      <th>3</th>\n",
       "      <td>67</td>\n",
       "      <td>148</td>\n",
       "    </tr>\n",
       "    <tr>\n",
       "      <th>4</th>\n",
       "      <td>68</td>\n",
       "      <td>152</td>\n",
       "    </tr>\n",
       "    <tr>\n",
       "      <th>5</th>\n",
       "      <td>69</td>\n",
       "      <td>156</td>\n",
       "    </tr>\n",
       "    <tr>\n",
       "      <th>6</th>\n",
       "      <td>70</td>\n",
       "      <td>160</td>\n",
       "    </tr>\n",
       "    <tr>\n",
       "      <th>7</th>\n",
       "      <td>71</td>\n",
       "      <td>164</td>\n",
       "    </tr>\n",
       "    <tr>\n",
       "      <th>8</th>\n",
       "      <td>72</td>\n",
       "      <td>168</td>\n",
       "    </tr>\n",
       "    <tr>\n",
       "      <th>9</th>\n",
       "      <td>73</td>\n",
       "      <td>172</td>\n",
       "    </tr>\n",
       "    <tr>\n",
       "      <th>10</th>\n",
       "      <td>74</td>\n",
       "      <td>176</td>\n",
       "    </tr>\n",
       "    <tr>\n",
       "      <th>11</th>\n",
       "      <td>75</td>\n",
       "      <td>180</td>\n",
       "    </tr>\n",
       "    <tr>\n",
       "      <th>12</th>\n",
       "      <td>76</td>\n",
       "      <td>184</td>\n",
       "    </tr>\n",
       "    <tr>\n",
       "      <th>13</th>\n",
       "      <td>77</td>\n",
       "      <td>188</td>\n",
       "    </tr>\n",
       "    <tr>\n",
       "      <th>14</th>\n",
       "      <td>78</td>\n",
       "      <td>192</td>\n",
       "    </tr>\n",
       "    <tr>\n",
       "      <th>15</th>\n",
       "      <td>79</td>\n",
       "      <td>196</td>\n",
       "    </tr>\n",
       "  </tbody>\n",
       "</table>\n",
       "</div>"
      ],
      "text/plain": [
       "    Estatura (pulgadas)  Peso (libras)\n",
       "0                    64            137\n",
       "1                    65            141\n",
       "2                    66            145\n",
       "3                    67            148\n",
       "4                    68            152\n",
       "5                    69            156\n",
       "6                    70            160\n",
       "7                    71            164\n",
       "8                    72            168\n",
       "9                    73            172\n",
       "10                   74            176\n",
       "11                   75            180\n",
       "12                   76            184\n",
       "13                   77            188\n",
       "14                   78            192\n",
       "15                   79            196"
      ]
     },
     "execution_count": 2,
     "metadata": {},
     "output_type": "execute_result"
    }
   ],
   "source": [
    "import pandas as pd\n",
    "import numpy as np\n",
    "import matplotlib.pyplot as plt\n",
    "\n",
    "# 1. Definir la función de usuario para calcular el peso\n",
    "def peso(h):\n",
    "    \"\"\"Calcula el peso promedio en libras dado h (pulgadas).\"\"\"\n",
    "    return 0.1166 * (h ** 1.7)\n",
    "\n",
    "# 2. Crear una lista de estaturas de 64 a 79 pulgadas\n",
    "estaturas = np.arange(64, 80)\n",
    "\n",
    "# 3. Calcular los pesos y redondear a la libra más cercana\n",
    "pesos = [round(peso(h)) for h in estaturas]\n",
    "\n",
    "# 4. Crear un DataFrame con Pandas\n",
    "df = pd.DataFrame({\n",
    "    \"Estatura (pulgadas)\": estaturas,\n",
    "    \"Peso (libras)\": pesos\n",
    "})\n",
    "\n",
    "# Mostrar la tabla\n",
    "df\n"
   ]
  },
  {
   "cell_type": "code",
   "execution_count": null,
   "id": "759b4366",
   "metadata": {},
   "outputs": [],
   "source": [
    "\n",
    "# 5. Representar la relación en una gráfica\n",
    "plt.figure(figsize=(8,5))\n",
    "plt.plot(estaturas, pesos, marker=\"o\", linestyle=\"-\", color=\"blue\", label=\"W = 0.1166 h^1.7\")\n",
    "plt.xlabel(\"Estatura (pulgadas)\")\n",
    "plt.ylabel(\"Peso (libras)\")\n",
    "plt.title(\"Relación entre Estatura y Peso en Hombres\")\n",
    "plt.grid(True, linestyle=\"--\", alpha=0.6)\n",
    "plt.legend()\n",
    "plt.show()\n",
    "\n"
   ]
  },
  {
   "cell_type": "markdown",
   "id": "5a29828d",
   "metadata": {},
   "source": [
    "\n",
    "## Preguntas intermedias para guiar la clase\n",
    "\n",
    "1. ¿Qué tipo de relación (creciente, decreciente o constante) observas en la fórmula $W = 0.1166 h^{1.7}$?\n",
    "2. ¿Por qué crees que se utiliza el exponente $1.7$ en lugar de un exponente entero como $2$?\n",
    "3. Observa la tabla: ¿los incrementos en peso son constantes cuando la estatura aumenta de una pulgada a otra?\n",
    "4. Mira la gráfica: ¿la relación es lineal o no lineal? Explica por qué.\n",
    "5. ¿Cómo cambia la interpretación si se hubieran usado centímetros y kilogramos en lugar de pulgadas y libras?\n",
    "\n",
    "---\n",
    "\n",
    "📊 De esta manera, los estudiantes ven **la tabla (dato exacto)** y **la gráfica (visión global de la tendencia)**, conectando dos registros de representación semiótica (Duval).\n",
    "\n",
    "¿Quieres que prepare también una **versión interactiva con ipywidgets** para que los estudiantes puedan mover un control deslizante y ver cómo cambia el peso según la estatura?\n"
   ]
  },
  {
   "cell_type": "markdown",
   "id": "bc7f3ad6",
   "metadata": {},
   "source": [
    "|h|W|h|W|\n",
    "|-|-|-|-|\n",
    "|64|137|72|168|\n",
    "|65|141|73|172|\n",
    "|66|145|74|176|\n",
    "| 67| 148| 75 |180|\n",
    "| 68| 152| 76| 184|\n",
    "| 69| 156| 77| 188|\n",
    "| 70 |160 |78| 192|\n",
    "| 71 |164| 79 |196|\n",
    "\n"
   ]
  },
  {
   "cell_type": "markdown",
   "id": "a069393d",
   "metadata": {},
   "source": []
  },
  {
   "cell_type": "markdown",
   "id": "09be46f8",
   "metadata": {},
   "source": [
    "# 102 Pesoenmujeres  \n"
   ]
  },
  {
   "cell_type": "markdown",
   "id": "f0c28579",
   "metadata": {},
   "source": [
    "\n",
    "El promedio de peso $W$ (en libras) para mujeres con estatura $h$ entre 60 y 75 pulgadas se puede aproximar con el uso de la fórmula  \n",
    "\n",
    "$$ W = 0.1049h^{1.7}. $$  \n",
    "\n",
    "Construya una tabla para W con h $60, 61, \\ldots, 75.$  \n",
    "\n",
    "Redondee todos los pesos a la libra más cercana.  \n"
   ]
  },
  {
   "cell_type": "markdown",
   "id": "0d3f67f7",
   "metadata": {},
   "source": [
    "Prompt \n",
    "\n",
    "Dame la solución del siguiente problema a manera de gúia didáctica utilizando funciones de usuario de Python, Dataframe de Pandas y visualizaciones con Matplotlib y plotly: \"Página 42 del PDF de Swokowski  \n",
    "\n",
    "102 Peso en mujeres  \n",
    "\n",
    "El promedio de peso $W$ (en libras) para mujeres con estatura $h$ entre 60 y 75 pulgadas se puede aproximar con el uso de la fórmula  \n",
    "\n",
    "$$ W = 0.1049h^{1.7}. $$  \n",
    "\n",
    "Construya una tabla para W con h $60, 61, \\ldots, 75.$  \n",
    "\n",
    "Redondee todos los pesos a la libra más cercana.  \n",
    "\n",
    "\" "
   ]
  },
  {
   "cell_type": "markdown",
   "id": "a66c643f",
   "metadata": {},
   "source": [
    "Vamos a resolver el **Problema 102 (Peso en mujeres)** de Swokowski de forma **didáctica**, combinando:\n",
    "\n",
    "1. **Funciones de usuario en Python** → Para organizar la fórmula.\n",
    "2. **DataFrame de Pandas** → Para construir la tabla de estaturas y pesos.\n",
    "3. **Visualizaciones con Matplotlib y Plotly** → Para complementar con gráficas estáticas e interactivas.\n",
    "\n",
    "---\n"
   ]
  },
  {
   "cell_type": "markdown",
   "id": "30b1fe73",
   "metadata": {},
   "source": [
    "\n",
    "# Guía Didáctica en Python\n"
   ]
  },
  {
   "cell_type": "code",
   "execution_count": 4,
   "id": "0e8a43fd",
   "metadata": {},
   "outputs": [
    {
     "name": "stdout",
     "output_type": "stream",
     "text": [
      "📋 Tabla de pesos promedio en mujeres según estatura:\n",
      "\n",
      "    Estatura (pulgadas)  Peso (libras)\n",
      "0                    60            111\n",
      "1                    61            114\n",
      "2                    62            117\n",
      "3                    63            120\n",
      "4                    64            123\n",
      "5                    65            127\n",
      "6                    66            130\n",
      "7                    67            133\n",
      "8                    68            137\n",
      "9                    69            140\n",
      "10                   70            144\n",
      "11                   71            147\n",
      "12                   72            151\n",
      "13                   73            154\n",
      "14                   74            158\n",
      "15                   75            162\n"
     ]
    },
    {
     "data": {
      "image/png": "[encoded data removed]",
      "text/plain": [
       "<Figure size 800x500 with 1 Axes>"
      ]
     },
     "metadata": {},
     "output_type": "display_data"
    },
    {
     "data": {
      "application/vnd.plotly.v1+json": {
       "config": {
        "plotlyServerURL": "https://plot.ly"
       },
       "data": [
        {
         "hovertemplate": "Estatura (in)=%{x}<br>Peso (lb)=%{y}<extra></extra>",
         "legendgroup": "",
         "line": {
          "color": "#636efa",
          "dash": "solid"
         },
         "marker": {
          "symbol": "circle"
         },
         "mode": "lines+markers",
         "name": "",
         "orientation": "v",
         "showlegend": false,
         "type": "scatter",
         "x": {
          "bdata": "PD0+P0BBQkNERUZHSElKSw==",
          "dtype": "i1"
         },
         "xaxis": "x",
         "y": {
          "bdata": "bwByAHUAeAB7AH8AggCFAIkAjACQAJMAlwCaAJ4AogA=",
          "dtype": "i2"
         },
         "yaxis": "y"
        }
       ],
       "layout": {
        "legend": {
         "tracegroupgap": 0
        },
        "template": {
         "data": {
          "bar": [
           {
            "error_x": {
             "color": "#2a3f5f"
            },
            "error_y": {
             "color": "#2a3f5f"
            },
            "marker": {
             "line": {
              "color": "#E5ECF6",
              "width": 0.5
             },
             "pattern": {
              "fillmode": "overlay",
              "size": 10,
              "solidity": 0.2
             }
            },
            "type": "bar"
           }
          ],
          "barpolar": [
           {
            "marker": {
             "line": {
              "color": "#E5ECF6",
              "width": 0.5
             },
             "pattern": {
              "fillmode": "overlay",
              "size": 10,
              "solidity": 0.2
             }
            },
            "type": "barpolar"
           }
          ],
          "carpet": [
           {
            "aaxis": {
             "endlinecolor": "#2a3f5f",
             "gridcolor": "white",
             "linecolor": "white",
             "minorgridcolor": "white",
             "startlinecolor": "#2a3f5f"
            },
            "baxis": {
             "endlinecolor": "#2a3f5f",
             "gridcolor": "white",
             "linecolor": "white",
             "minorgridcolor": "white",
             "startlinecolor": "#2a3f5f"
            },
            "type": "carpet"
           }
          ],
          "choropleth": [
           {
            "colorbar": {
             "outlinewidth": 0,
             "ticks": ""
            },
            "type": "choropleth"
           }
          ],
          "contour": [
           {
            "colorbar": {
             "outlinewidth": 0,
             "ticks": ""
            },
            "colorscale": [
             [
              0,
              "#0d0887"
             ],
             [
              0.1111111111111111,
              "#46039f"
             ],
             [
              0.2222222222222222,
              "#7201a8"
             ],
             [
              0.3333333333333333,
              "#9c179e"
             ],
             [
              0.4444444444444444,
              "#bd3786"
             ],
             [
              0.5555555555555556,
              "#d8576b"
             ],
             [
              0.6666666666666666,
              "#ed7953"
             ],
             [
              0.7777777777777778,
              "#fb9f3a"
             ],
             [
              0.8888888888888888,
              "#fdca26"
             ],
             [
              1,
              "#f0f921"
             ]
            ],
            "type": "contour"
           }
          ],
          "contourcarpet": [
           {
            "colorbar": {
             "outlinewidth": 0,
             "ticks": ""
            },
            "type": "contourcarpet"
           }
          ],
          "heatmap": [
           {
            "colorbar": {
             "outlinewidth": 0,
             "ticks": ""
            },
            "colorscale": [
             [
              0,
              "#0d0887"
             ],
             [
              0.1111111111111111,
              "#46039f"
             ],
             [
              0.2222222222222222,
              "#7201a8"
             ],
             [
              0.3333333333333333,
              "#9c179e"
             ],
             [
              0.4444444444444444,
              "#bd3786"
             ],
             [
              0.5555555555555556,
              "#d8576b"
             ],
             [
              0.6666666666666666,
              "#ed7953"
             ],
             [
              0.7777777777777778,
              "#fb9f3a"
             ],
             [
              0.8888888888888888,
              "#fdca26"
             ],
             [
              1,
              "#f0f921"
             ]
            ],
            "type": "heatmap"
           }
          ],
          "histogram": [
           {
            "marker": {
             "pattern": {
              "fillmode": "overlay",
              "size": 10,
              "solidity": 0.2
             }
            },
            "type": "histogram"
           }
          ],
          "histogram2d": [
           {
            "colorbar": {
             "outlinewidth": 0,
             "ticks": ""
            },
            "colorscale": [
             [
              0,
              "#0d0887"
             ],
             [
              0.1111111111111111,
              "#46039f"
             ],
             [
              0.2222222222222222,
              "#7201a8"
             ],
             [
              0.3333333333333333,
              "#9c179e"
             ],
             [
              0.4444444444444444,
              "#bd3786"
             ],
             [
              0.5555555555555556,
              "#d8576b"
             ],
             [
              0.6666666666666666,
              "#ed7953"
             ],
             [
              0.7777777777777778,
              "#fb9f3a"
             ],
             [
              0.8888888888888888,
              "#fdca26"
             ],
             [
              1,
              "#f0f921"
             ]
            ],
            "type": "histogram2d"
           }
          ],
          "histogram2dcontour": [
           {
            "colorbar": {
             "outlinewidth": 0,
             "ticks": ""
            },
            "colorscale": [
             [
              0,
              "#0d0887"
             ],
             [
              0.1111111111111111,
              "#46039f"
             ],
             [
              0.2222222222222222,
              "#7201a8"
             ],
             [
              0.3333333333333333,
              "#9c179e"
             ],
             [
              0.4444444444444444,
              "#bd3786"
             ],
             [
              0.5555555555555556,
              "#d8576b"
             ],
             [
              0.6666666666666666,
              "#ed7953"
             ],
             [
              0.7777777777777778,
              "#fb9f3a"
             ],
             [
              0.8888888888888888,
              "#fdca26"
             ],
             [
              1,
              "#f0f921"
             ]
            ],
            "type": "histogram2dcontour"
           }
          ],
          "mesh3d": [
           {
            "colorbar": {
             "outlinewidth": 0,
             "ticks": ""
            },
            "type": "mesh3d"
           }
          ],
          "parcoords": [
           {
            "line": {
             "colorbar": {
              "outlinewidth": 0,
              "ticks": ""
             }
            },
            "type": "parcoords"
           }
          ],
          "pie": [
           {
            "automargin": true,
            "type": "pie"
           }
          ],
          "scatter": [
           {
            "fillpattern": {
             "fillmode": "overlay",
             "size": 10,
             "solidity": 0.2
            },
            "type": "scatter"
           }
          ],
          "scatter3d": [
           {
            "line": {
             "colorbar": {
              "outlinewidth": 0,
              "ticks": ""
             }
            },
            "marker": {
             "colorbar": {
              "outlinewidth": 0,
              "ticks": ""
             }
            },
            "type": "scatter3d"
           }
          ],
          "scattercarpet": [
           {
            "marker": {
             "colorbar": {
              "outlinewidth": 0,
              "ticks": ""
             }
            },
            "type": "scattercarpet"
           }
          ],
          "scattergeo": [
           {
            "marker": {
             "colorbar": {
              "outlinewidth": 0,
              "ticks": ""
             }
            },
            "type": "scattergeo"
           }
          ],
          "scattergl": [
           {
            "marker": {
             "colorbar": {
              "outlinewidth": 0,
              "ticks": ""
             }
            },
            "type": "scattergl"
           }
          ],
          "scattermap": [
           {
            "marker": {
             "colorbar": {
              "outlinewidth": 0,
              "ticks": ""
             }
            },
            "type": "scattermap"
           }
          ],
          "scattermapbox": [
           {
            "marker": {
             "colorbar": {
              "outlinewidth": 0,
              "ticks": ""
             }
            },
            "type": "scattermapbox"
           }
          ],
          "scatterpolar": [
           {
            "marker": {
             "colorbar": {
              "outlinewidth": 0,
              "ticks": ""
             }
            },
            "type": "scatterpolar"
           }
          ],
          "scatterpolargl": [
           {
            "marker": {
             "colorbar": {
              "outlinewidth": 0,
              "ticks": ""
             }
            },
            "type": "scatterpolargl"
           }
          ],
          "scatterternary": [
           {
            "marker": {
             "colorbar": {
              "outlinewidth": 0,
              "ticks": ""
             }
            },
            "type": "scatterternary"
           }
          ],
          "surface": [
           {
            "colorbar": {
             "outlinewidth": 0,
             "ticks": ""
            },
            "colorscale": [
             [
              0,
              "#0d0887"
             ],
             [
              0.1111111111111111,
              "#46039f"
             ],
             [
              0.2222222222222222,
              "#7201a8"
             ],
             [
              0.3333333333333333,
              "#9c179e"
             ],
             [
              0.4444444444444444,
              "#bd3786"
             ],
             [
              0.5555555555555556,
              "#d8576b"
             ],
             [
              0.6666666666666666,
              "#ed7953"
             ],
             [
              0.7777777777777778,
              "#fb9f3a"
             ],
             [
              0.8888888888888888,
              "#fdca26"
             ],
             [
              1,
              "#f0f921"
             ]
            ],
            "type": "surface"
           }
          ],
          "table": [
           {
            "cells": {
             "fill": {
              "color": "#EBF0F8"
             },
             "line": {
              "color": "white"
             }
            },
            "header": {
             "fill": {
              "color": "#C8D4E3"
             },
             "line": {
              "color": "white"
             }
            },
            "type": "table"
           }
          ]
         },
         "layout": {
          "annotationdefaults": {
           "arrowcolor": "#2a3f5f",
           "arrowhead": 0,
           "arrowwidth": 1
          },
          "autotypenumbers": "strict",
          "coloraxis": {
           "colorbar": {
            "outlinewidth": 0,
            "ticks": ""
           }
          },
          "colorscale": {
           "diverging": [
            [
             0,
             "#8e0152"
            ],
            [
             0.1,
             "#c51b7d"
            ],
            [
             0.2,
             "#de77ae"
            ],
            [
             0.3,
             "#f1b6da"
            ],
            [
             0.4,
             "#fde0ef"
            ],
            [
             0.5,
             "#f7f7f7"
            ],
            [
             0.6,
             "#e6f5d0"
            ],
            [
             0.7,
             "#b8e186"
            ],
            [
             0.8,
             "#7fbc41"
            ],
            [
             0.9,
             "#4d9221"
            ],
            [
             1,
             "#276419"
            ]
           ],
           "sequential": [
            [
             0,
             "#0d0887"
            ],
            [
             0.1111111111111111,
             "#46039f"
            ],
            [
             0.2222222222222222,
             "#7201a8"
            ],
            [
             0.3333333333333333,
             "#9c179e"
            ],
            [
             0.4444444444444444,
             "#bd3786"
            ],
            [
             0.5555555555555556,
             "#d8576b"
            ],
            [
             0.6666666666666666,
             "#ed7953"
            ],
            [
             0.7777777777777778,
             "#fb9f3a"
            ],
            [
             0.8888888888888888,
             "#fdca26"
            ],
            [
             1,
             "#f0f921"
            ]
           ],
           "sequentialminus": [
            [
             0,
             "#0d0887"
            ],
            [
             0.1111111111111111,
             "#46039f"
            ],
            [
             0.2222222222222222,
             "#7201a8"
            ],
            [
             0.3333333333333333,
             "#9c179e"
            ],
            [
             0.4444444444444444,
             "#bd3786"
            ],
            [
             0.5555555555555556,
             "#d8576b"
            ],
            [
             0.6666666666666666,
             "#ed7953"
            ],
            [
             0.7777777777777778,
             "#fb9f3a"
            ],
            [
             0.8888888888888888,
             "#fdca26"
            ],
            [
             1,
             "#f0f921"
            ]
           ]
          },
          "colorway": [
           "#636efa",
           "#EF553B",
           "#00cc96",
           "#ab63fa",
           "#FFA15A",
           "#19d3f3",
           "#FF6692",
           "#B6E880",
           "#FF97FF",
           "#FECB52"
          ],
          "font": {
           "color": "#2a3f5f"
          },
          "geo": {
           "bgcolor": "white",
           "lakecolor": "white",
           "landcolor": "#E5ECF6",
           "showlakes": true,
           "showland": true,
           "subunitcolor": "white"
          },
          "hoverlabel": {
           "align": "left"
          },
          "hovermode": "closest",
          "mapbox": {
           "style": "light"
          },
          "paper_bgcolor": "white",
          "plot_bgcolor": "#E5ECF6",
          "polar": {
           "angularaxis": {
            "gridcolor": "white",
            "linecolor": "white",
            "ticks": ""
           },
           "bgcolor": "#E5ECF6",
           "radialaxis": {
            "gridcolor": "white",
            "linecolor": "white",
            "ticks": ""
           }
          },
          "scene": {
           "xaxis": {
            "backgroundcolor": "#E5ECF6",
            "gridcolor": "white",
            "gridwidth": 2,
            "linecolor": "white",
            "showbackground": true,
            "ticks": "",
            "zerolinecolor": "white"
           },
           "yaxis": {
            "backgroundcolor": "#E5ECF6",
            "gridcolor": "white",
            "gridwidth": 2,
            "linecolor": "white",
            "showbackground": true,
            "ticks": "",
            "zerolinecolor": "white"
           },
           "zaxis": {
            "backgroundcolor": "#E5ECF6",
            "gridcolor": "white",
            "gridwidth": 2,
            "linecolor": "white",
            "showbackground": true,
            "ticks": "",
            "zerolinecolor": "white"
           }
          },
          "shapedefaults": {
           "line": {
            "color": "#2a3f5f"
           }
          },
          "ternary": {
           "aaxis": {
            "gridcolor": "white",
            "linecolor": "white",
            "ticks": ""
           },
           "baxis": {
            "gridcolor": "white",
            "linecolor": "white",
            "ticks": ""
           },
           "bgcolor": "#E5ECF6",
           "caxis": {
            "gridcolor": "white",
            "linecolor": "white",
            "ticks": ""
           }
          },
          "title": {
           "x": 0.05
          },
          "xaxis": {
           "automargin": true,
           "gridcolor": "white",
           "linecolor": "white",
           "ticks": "",
           "title": {
            "standoff": 15
           },
           "zerolinecolor": "white",
           "zerolinewidth": 2
          },
          "yaxis": {
           "automargin": true,
           "gridcolor": "white",
           "linecolor": "white",
           "ticks": "",
           "title": {
            "standoff": 15
           },
           "zerolinecolor": "white",
           "zerolinewidth": 2
          }
         }
        },
        "title": {
         "text": "Relación entre estatura y peso promedio en mujeres (interactivo)"
        },
        "xaxis": {
         "anchor": "y",
         "domain": [
          0,
          1
         ],
         "title": {
          "text": "Estatura (in)"
         }
        },
        "yaxis": {
         "anchor": "x",
         "domain": [
          0,
          1
         ],
         "title": {
          "text": "Peso (lb)"
         }
        }
       }
      }
     },
     "metadata": {},
     "output_type": "display_data"
    }
   ],
   "source": [
    "import pandas as pd\n",
    "import numpy as np\n",
    "import matplotlib.pyplot as plt\n",
    "import plotly.express as px\n",
    "\n",
    "# 1. Definir la función de usuario\n",
    "def peso_mujer(h):\n",
    "    \"\"\"\n",
    "    Calcula el peso promedio W (en libras) para mujeres,\n",
    "    dada una estatura h en pulgadas.\n",
    "    Fórmula: W = 0.1049 * h^1.7\n",
    "    \"\"\"\n",
    "    return 0.1049 * (h ** 1.7)\n",
    "\n",
    "# 2. Construir el rango de estaturas (60 a 75 pulgadas)\n",
    "estaturas = np.arange(60, 76)\n",
    "\n",
    "# 3. Calcular los pesos redondeados a la libra más cercana\n",
    "pesos = [round(peso_mujer(h)) for h in estaturas]\n",
    "\n",
    "# 4. Crear un DataFrame de Pandas\n",
    "df = pd.DataFrame({\n",
    "    \"Estatura (pulgadas)\": estaturas,\n",
    "    \"Peso (libras)\": pesos\n",
    "})\n",
    "\n",
    "print(\"📋 Tabla de pesos promedio en mujeres según estatura:\\n\")\n",
    "print(df)\n",
    "\n",
    "# 5. Visualización con Matplotlib\n",
    "plt.figure(figsize=(8,5))\n",
    "plt.plot(df[\"Estatura (pulgadas)\"], df[\"Peso (libras)\"], marker=\"o\", linestyle=\"-\", color=\"purple\")\n",
    "plt.title(\"Relación entre estatura y peso promedio en mujeres\")\n",
    "plt.xlabel(\"Estatura (pulgadas)\")\n",
    "plt.ylabel(\"Peso (libras)\")\n",
    "plt.grid(True)\n",
    "plt.show()\n",
    "\n",
    "# 6. Visualización interactiva con Plotly\n",
    "fig = px.line(df, x=\"Estatura (pulgadas)\", y=\"Peso (libras)\", markers=True,\n",
    "              title=\"Relación entre estatura y peso promedio en mujeres (interactivo)\",\n",
    "              labels={\"Estatura (pulgadas)\": \"Estatura (in)\", \"Peso (libras)\": \"Peso (lb)\"})\n",
    "fig.show()\n",
    "\n"
   ]
  },
  {
   "cell_type": "markdown",
   "id": "9fb8476d",
   "metadata": {},
   "source": [
    "## Explicación paso a paso\n"
   ]
  },
  {
   "cell_type": "markdown",
   "id": "38da643e",
   "metadata": {},
   "source": [
    "\n",
    "1. **Definición de la función `peso_mujer(h)`**\n",
    "\n",
    "   * Encapsula la fórmula en una función para reutilizarla fácilmente.\n",
    "\n",
    "   $$\n",
    "   W = 0.1049 \\, h^{1.7}\n",
    "   $$\n"
   ]
  },
  {
   "cell_type": "markdown",
   "id": "814fd03e",
   "metadata": {},
   "source": [
    "\n",
    "2. **Construcción de estaturas (60 a 75)**\n",
    "\n",
    "   * Usamos `np.arange(60, 76)` para generar los enteros consecutivos.\n",
    "\n",
    "3. **Cálculo de pesos**\n",
    "\n",
    "   * Se aplica la función a cada estatura y se redondea al entero más cercano con `round()`.\n",
    "\n",
    "4. **Creación del DataFrame de Pandas**\n",
    "\n",
    "   * Organiza los datos en una tabla clara con columnas: `Estatura (pulgadas)` y `Peso (libras)`.\n",
    "\n",
    "5. **Gráfica con Matplotlib**\n",
    "\n",
    "   * Muestra una curva suave y clara de la relación estatura-peso.\n",
    "\n",
    "6. **Gráfica interactiva con Plotly**\n",
    "\n",
    "   * Permite mover el cursor sobre los puntos para ver valores exactos.\n",
    "\n",
    "---\n"
   ]
  },
  {
   "cell_type": "markdown",
   "id": "cb9c1118",
   "metadata": {},
   "source": [
    "\n",
    "Esta solución no solo responde el problema, sino que también **enseña a los estudiantes a combinar matemáticas, programación, tablas y visualización de datos**, alineado con mi enfoque de **aula invertida y ABPP**.\n"
   ]
  },
  {
   "cell_type": "markdown",
   "id": "fdda1b61",
   "metadata": {},
   "source": [
    "\n",
    "# Resumen de la estructura temática\n"
   ]
  },
  {
   "cell_type": "markdown",
   "id": "17b984d9",
   "metadata": {},
   "source": [
    "\n",
    "| Rango de ejercicios | Tipo de ejercicio                                  |\n",
    "| ------------------- | -------------------------------------------------- |\n",
    "| 1–10                | Expresar número en forma $\\frac{a}{b}$             |\n",
    "| 11–46               | Simplificar exponentes y radicales                 |\n",
    "| 47–52               | Reescribir usando exponentes racionales            |\n",
    "| 53–56 (aprox.)      | Reescribir utilizando notación radical             |\n",
    "| 57–80               | Simplificar y racionalizar denominadores si aplica |\n",
    "\n",
    "---\n",
    "\n",
    "Si deseas puedo ayudarte con una muestra representativa de cada tipo de ejercicio o incluso generar ejercicios adicionales siguiendo ese modelo. ¡Solo dime qué prefieres!\n",
    "\n",
    "[1]: https://www.scribd.com/document/647714038/Ejercicios-Exponentes-y-Radicales-Swokowski?utm_source=chatgpt.com \"Ejercicios Exponentes y Radicales Swokowski | PDF\"\n"
   ]
  },
  {
   "cell_type": "markdown",
   "id": "8ba64aed",
   "metadata": {},
   "source": [
    "# Cursos que orienta el profesor Marco Julio Cañas Campillo en 2025  \n",
    "\n",
    "1. Lunes 8 a 12: Fundamentos de Lógica: Licenciatura en Matemáticas . \n",
    "2. Martes de 9 a 10: Curso de ML and DL para Ingeniero Juan Gomez en España.  \n",
    "3. Martes de 2 a 5 PM: Vector Geometry and Linear Algebra.  \n",
    "4. Miércoles: 10 a 11: Reunión equipo investigador SAT Dengue. \n",
    "5. Miércoles 2 a 3 PM: Asesoría Trabajo de Grado Janis (Estudiante de Biología).  \n",
    "6. Viernes 2 a 6 PM: Análisis Numérico: Programa de Licenciatura en Matemáticas."
   ]
  },
  {
   "cell_type": "markdown",
   "id": "8d41fe58",
   "metadata": {
    "slideshow": {
     "slide_type": "slide"
    }
   },
   "source": [
    "# Horario de clases del profesor Marco\n",
    "\n",
    "* Lunes 8-12:   \n",
    "* Lunes 2- 6 PM: Fundamento de Lógica.  \n",
    "* Martes 8-12 M: . \n",
    "* Miércoles 8 a 12 M:   \n",
    "* Miércoles de 2 a 6 PM: \n",
    "* Jueves 2 a 6 PM:  \n",
    "* Viernes 2 - 4 PM: Análisis Numérico. \n",
    "* Sábados 8-12 Asesorías y espacio para retroalimentación y apoyo al trabajo independiente. "
   ]
  },
  {
   "cell_type": "markdown",
   "id": "ae114e14",
   "metadata": {
    "slideshow": {
     "slide_type": "slide"
    }
   },
   "source": [
    "# Horarios de monitoría y asesoría  \n",
    "\n",
    "* Monitor Manuel San Juan Serrano: Contactar escribiendo al correo: manuel.serrano1@udea.edu.co"
   ]
  },
  {
   "cell_type": "markdown",
   "id": "bf0f9dbf",
   "metadata": {},
   "source": [
    "\n",
    "Coordinador de los cursos de la Facultad de Educación para regiones:    \n",
    "\n",
    "Andrés Vélez: regioneducacion.fedu@udea.edu.co  \n",
    "Coordinador Regiones  \n",
    "Facultad de Educación  \n",
    "Universidad de Antioquia  "
   ]
  },
  {
   "cell_type": "markdown",
   "id": "39559692",
   "metadata": {
    "slideshow": {
     "slide_type": "slide"
    }
   },
   "source": [
    "Martes y jueves de 8 - 12  \n",
    "Miércoles 10 - 12 y de 2 a 4 PM  \n",
    "Sábado: 8 - 12"
   ]
  },
  {
   "cell_type": "markdown",
   "id": "10bce0d0",
   "metadata": {
    "slideshow": {
     "slide_type": "slide"
    }
   },
   "source": [
    "## Referentes "
   ]
  },
  {
   "cell_type": "markdown",
   "id": "1db3c468",
   "metadata": {
    "slideshow": {
     "slide_type": "slide"
    }
   },
   "source": [
    "* [CALCULO I DE UNA VARIABLE Ron Larson-Bruce Edwards. Mc Graw Hill. 9º Edición](https://www.academia.edu/42139251/CALCULO_I_DE_UNA_VARIABLE_Ron_Larson_Bruce_Edwards_Mc_Graw_Hill_9o_Edici%C3%B3n)   \n",
    "  \n",
    "\n",
    "* [Grajales Vanegas, L. M., Restrepo Estrada, C. E., Restrepo Ochoa, S. I., & Ruíz De Villalba, F. (2015). Matemáticas I para las ciencias económicas.](https://bibliotecadigital.udea.edu.co/handle/10495/3010)\n",
    "  \n",
    "* R. Duval y Semiosis y pensamiento humano, 2.ª ed. Cali, Colombia: Programa Editorial Universidad del Valle, 2017. [En línea]. Disponible en: https://programaeditorial.univalle.edu.co/gpd-semiosis-y-pensamiento-humano-9789587655278-63324cdb0f6b3.html\n",
    "\n",
    "* [Aylwin, C. U. (2011). Lógica, conjuntos y números. Universidad de los Andes, Consejo de Publicaciones, Colección: Ciencias Básicas, Serie: Matemáticas.](chrome-extension://efaidnbmnnnibpcajpcglclefindmkaj/https://www.u-cursos.cl/ciencias/2011/1/MC110/1/material_docente/bajar?id_material=574722)\n",
    "  \n",
    "* [Chollet, F. (2021). Deep learning with Python. Simon and Schuster.](chrome-extension://efaidnbmnnnibpcajpcglclefindmkaj/https://tanthiamhuat.wordpress.com/wp-content/uploads/2018/03/deeplearningwithpython.pdf)  \n",
    "  \n",
    "* [Watson, S., Stewart, J., & Redlin, L. (2009). Precálculo. Matemáticas para el cálculo.](https://github.com/marco-canas/calculo/blob/main/referents/1_precalculo_stewart/stewart_precalculo.pdf)  \n",
    "\n",
    "* [Purcell, E. J., Varberg, D., & Rigdon, S. E. (2007). Cálculo diferencial e integral. Pearson Educación.](https://github.com/marco-canas/calculo/blob/main/referents/purcell/purcell_calculo.pdf)\n",
    "\n",
    "  \n",
    "\n",
    "* [stewart cálculo](https://udeaeduco-my.sharepoint.com/:b:/g/personal/marco_canas_udea_edu_co/EZgXZjAp8QxPqOAim2hs6LcBNPLGjSHf-xwYnUVYkwa04w?e=RZdTCy)  \n",
    "\n",
    "\n",
    "\n",
    "\n",
    "\n",
    "* [Recomendación de la UNESCO sobre ciencia abierta](https://unesdoc.unesco.org/ark:/48223/pf0000379949_spa)\n",
    "\n",
    "* [chatGPT](https://openai.com/blog/chatgpt)  \n",
    "\n",
    "* [Géron, A. (2017). Hands-on machine learning with scikit-learn and tensorflow: Concepts. Tools, and Techniques to build intelligent systems.](chrome-extension://efaidnbmnnnibpcajpcglclefindmkaj/http://14.139.161.31/OddSem-0822-1122/Hands-On_Machine_Learning_with_Scikit-Learn-Keras-and-TensorFlow-2nd-Edition-Aurelien-Geron.pdf)   \n"
   ]
  },
  {
   "cell_type": "markdown",
   "id": "df925560",
   "metadata": {},
   "source": [
    "\n",
    "* [McKinney, W. (2012). Python for data analysis: Data wrangling with Pandas, NumPy, and IPython. \" O'Reilly Media, Inc.\".](https://wesmckinney.com/book/) "
   ]
  },
  {
   "cell_type": "markdown",
   "id": "8e65d6f9",
   "metadata": {},
   "source": [
    "# Como estudiante, encuentro que...   \n",
    "\n",
    "F: Mis Fortalezas son:     \n",
    "O: Mis Oportunidades son:    \n",
    "D: Mis Debilidades son:    \n",
    "A: Lo que Amenazas mi aprendizaje es:  "
   ]
  },
  {
   "cell_type": "markdown",
   "id": "6b9e56a8",
   "metadata": {
    "slideshow": {
     "slide_type": "slide"
    }
   },
   "source": [
    "### [Evaluamos al profesor Marco Cañas Aquí](https://forms.office.com/Pages/ResponsePage.aspx?id=IefhmYRxjkmK_7KtTlPBwkanXIs1i1FEujpsZgO6dXpUREJPV1kxUk1JV1ozTFJIQVNIQjY5WEY3US4u)"
   ]
  },
  {
   "cell_type": "markdown",
   "id": "10f43536",
   "metadata": {
    "slideshow": {
     "slide_type": "slide"
    }
   },
   "source": [
    "### Continue su aprendizaje en la siguiente clase a través del siguiente [vínculo]()"
   ]
  },
  {
   "cell_type": "markdown",
   "id": "53cc9115",
   "metadata": {
    "slideshow": {
     "slide_type": "slide"
    }
   },
   "source": [
    "## Agradecimientos  \n",
    "\n",
    "Doy gracias a Dios por la vida de mi Hijo Joseph Cañas Osorio y la madurez que ha alcanzado. Este hijo me enorgullece y me hace falta abrazarlo cada día. \n",
    "\n",
    "Y a mi esposa Yasmira Emperatriz Barboza Mogollón por su apoyo, orientación y acompañamiento. "
   ]
  },
  {
   "cell_type": "markdown",
   "id": "b6ba1c23",
   "metadata": {},
   "source": [
    "# Apéndice sobre calendarios y coordinaciones \n"
   ]
  },
  {
   "cell_type": "markdown",
   "id": "bf8b6499",
   "metadata": {},
   "source": [
    "# Calendario del semestre académico 2025-2  \n",
    " \n",
    "\n",
    "Límite evaluación del 40%: 27 de septiembre de 2025  \n",
    "\n",
    "Terminación de clases: 22 de noviembre de 2025\n",
    "\n",
    "Exámenes finales: 24 al 29 de noviembre de 2025\n",
    "\n",
    "Habilitación y validación: 01 al 06 de diciembre 2025\n",
    "\n",
    "Terminación oficial del semestre: 09 de diciembre de 2025  "
   ]
  },
  {
   "cell_type": "markdown",
   "id": "667b9504",
   "metadata": {},
   "source": [
    "\n",
    "A continuación le envío el horario de la asignatura Cálculo Vectorial  \n",
    "\n",
    "Días:  \n",
    "Lunes - Hora: 7:00 a 12:00M  \n",
    "Fechas:  \n",
    "Febrero: 10-17-24                                          \n",
    " Marzo: 3-10-17-31                                                  \n",
    "Abril:7-21-28                                                   \n",
    "Mayo:5-12-19  \n",
    "\n",
    "Agradezco su apoyo, y si presenta alguna dificultad puede contactarme.  \n",
    "\n",
    "Cordialmente,  \n",
    "Juan Felipe Rivera Hernández  \n",
    "Contacto: 3106314300  "
   ]
  }
 ],
 "metadata": {
  "celltoolbar": "Slideshow",
  "kernelspec": {
   "display_name": ".venv",
   "language": "python",
   "name": "python3"
  },
  "language_info": {
   "codemirror_mode": {
    "name": "ipython",
    "version": 3
   },
   "file_extension": ".py",
   "mimetype": "text/x-python",
   "name": "python",
   "nbconvert_exporter": "python",
   "pygments_lexer": "ipython3",
   "version": "3.11.9"
  },
  "rise": {
   "enable_chalkboard": true,
   "theme": "sky",
   "transition": "zoom"
  }
 },
 "nbformat": 4,
 "nbformat_minor": 5
}
