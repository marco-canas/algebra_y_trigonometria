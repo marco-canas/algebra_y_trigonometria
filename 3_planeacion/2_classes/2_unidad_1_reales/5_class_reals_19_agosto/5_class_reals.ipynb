{
 "cells": [
  {
   "cell_type": "markdown",
   "id": "dc06dec7",
   "metadata": {
    "slideshow": {
     "slide_type": "slide"
    }
   },
   "source": [
    "<table align=\"left\">\n",
    "  <td>\n",
    "    <a href=\"https://colab.research.google.com/github/ageron/handson-ml3/blob/main/tools_numpy.ipynb\" target=\"_parent\"><img src=\"https://colab.research.google.com/assets/colab-badge.svg\" alt=\"Open In Colab\"/></a>\n",
    "  </td>\n",
    "  <td>\n",
    "    <a target=\"_blank\" href=\"https://kaggle.com/kernels/welcome?src=https://github.com/ageron/handson-ml3/blob/main/tools_numpy.ipynb\"><img src=\"https://kaggle.com/static/images/open-in-kaggle.svg\" /></a>\n",
    "  </td>\n",
    "</table>"
   ]
  },
  {
   "cell_type": "markdown",
   "id": "e0c5b198",
   "metadata": {
    "slideshow": {
     "slide_type": "slide"
    }
   },
   "source": [
    "### [Video de apoyo a la lectura interactiva y experimental de este cuaderno]()"
   ]
  },
  {
   "cell_type": "markdown",
   "id": "41e82203",
   "metadata": {
    "slideshow": {
     "slide_type": "slide"
    }
   },
   "source": [
    "### [Vínculo al programa del curso de algebra_and_trigonometry:  ](https://github.com/marco-canas/algebra_y_trigonometria/blob/main/1_plan_curso/1_programa_algebra_and_trigonometry.md)  \n",
    "\n"
   ]
  },
  {
   "cell_type": "markdown",
   "id": "d11ab06d",
   "metadata": {
    "slideshow": {
     "slide_type": "slide"
    }
   },
   "source": [
    "Un reconocimiento a mis estudiantes que han construido conmigo este saber pedagógico:\n",
    "\n",
    "<img src = 'https://github.com/marco-canas/algebra_y_trigonometria/blob/main/7_images/asesoria_2_2025-08-16_a_las_12.31.jpg?raw=true' width = 600> \n",
    "\n"
   ]
  },
  {
   "cell_type": "markdown",
   "id": "8a74a56c-0ce6-4ad6-b985-553fd7fb68bb",
   "metadata": {},
   "source": [
    "Reconocimiento a las profesoras destacadas en enseñanza de la matemática en Colombia\n"
   ]
  },
  {
   "cell_type": "code",
   "execution_count": 3,
   "id": "7604880f",
   "metadata": {
    "slideshow": {
     "slide_type": "slide"
    }
   },
   "outputs": [
    {
     "data": {
      "application/vnd.microsoft.datawrangler.viewer.v0+json": {
       "columns": [
        {
         "name": "index",
         "rawType": "int64",
         "type": "integer"
        },
        {
         "name": "Cedula",
         "rawType": "object",
         "type": "string"
        },
        {
         "name": "Nombre",
         "rawType": "object",
         "type": "string"
        }
       ],
       "ref": "3ab8ebdd-021f-443f-8395-4faad0c284fc",
       "rows": [],
       "shape": {
        "columns": 2,
        "rows": 0
       }
      },
      "text/html": [
       "<div>\n",
       "<style scoped>\n",
       "    .dataframe tbody tr th:only-of-type {\n",
       "        vertical-align: middle;\n",
       "    }\n",
       "\n",
       "    .dataframe tbody tr th {\n",
       "        vertical-align: top;\n",
       "    }\n",
       "\n",
       "    .dataframe thead th {\n",
       "        text-align: right;\n",
       "    }\n",
       "</style>\n",
       "<table border=\"1\" class=\"dataframe\">\n",
       "  <thead>\n",
       "    <tr style=\"text-align: right;\">\n",
       "      <th></th>\n",
       "      <th>Cedula</th>\n",
       "      <th>Nombre</th>\n",
       "    </tr>\n",
       "  </thead>\n",
       "  <tbody>\n",
       "  </tbody>\n",
       "</table>\n",
       "</div>"
      ],
      "text/plain": [
       "Empty DataFrame\n",
       "Columns: [Cedula, Nombre]\n",
       "Index: []"
      ]
     },
     "execution_count": 3,
     "metadata": {},
     "output_type": "execute_result"
    }
   ],
   "source": [
    "import pandas as pd\n",
    "import numpy as np\n",
    "\n",
    "# Cargar la lista de estudiantes desde el archivo CSV\n",
    "path = 'C:/Users/marco/Documentos/docencia/groups_list/vector_geometry_and_linear_algebra.xlsx'\n",
    "df = pd.read_excel(path)\n",
    "df.head() \n"
   ]
  },
  {
   "cell_type": "markdown",
   "id": "d7598d0a-d9b7-4ae0-b029-a0ed6ed1130b",
   "metadata": {},
   "source": [
    "\n",
    "# Principios de mi labor docente"
   ]
  },
  {
   "cell_type": "markdown",
   "id": "4f9d8cf9",
   "metadata": {
    "slideshow": {
     "slide_type": "slide"
    }
   },
   "source": [
    "## Modelo general de clase: [aula invertida](https://www3.gobiernodecanarias.org/medusa/ecoescuela/pedagotic/aprendizaje-invertido-flipped-classroom/)"
   ]
  },
  {
   "cell_type": "markdown",
   "id": "eb6ed03a",
   "metadata": {},
   "source": [
    "<img src = 'https://resources.maneuveringthemiddle.com/wp-content/uploads/2020/07/04212706/1-5.png' width = 200>  \n",
    "\n"
   ]
  },
  {
   "cell_type": "markdown",
   "id": "34319cce-a71b-4f64-aab8-b53e521efa40",
   "metadata": {},
   "source": [
    "# Metodología de Aprendizaje Basado en Problemas y Proyectos (ABPP)\n"
   ]
  },
  {
   "cell_type": "markdown",
   "id": "c4f73d81",
   "metadata": {},
   "source": [
    "\n",
    "<img src = 'https://www.unir.net/wp-content/uploads/2020/07/aprendizaje-problemas2-1-1-1-1.jpeg' width = 200>"
   ]
  },
  {
   "cell_type": "markdown",
   "id": "841a985c-bd9b-4dd3-8e4c-893983980af2",
   "metadata": {},
   "source": [
    "# Desarrollo del pensamiento computacional con Lenguajes Python y R, y con archivos Markdown orientado a la formación en ciencia de datos \n",
    "\n"
   ]
  },
  {
   "cell_type": "markdown",
   "id": "3d0eba94",
   "metadata": {},
   "source": [
    "\n",
    "<img src = 'https://i.ytimg.com/vi/mcG_wcR4e6M/maxresdefault.jpg' width = 200>"
   ]
  },
  {
   "cell_type": "markdown",
   "id": "65aa0404-f7ae-495e-864c-1aec01b4255e",
   "metadata": {},
   "source": [
    "# Principio de fomento a la ciencia abierta, enseñar en el acceso a los datos públicos y el uso de software de código abierto  \n"
   ]
  },
  {
   "cell_type": "markdown",
   "id": "18ae9b87",
   "metadata": {},
   "source": [
    "\n",
    "<img src = 'https://unesdoc.unesco.org/in/rest/Thumb/image?id=p%3A%3Ausmarcdef_0000379949_spa&author=UNESCO&title=Recomendaci%C3%B3n+de+la+UNESCO+sobre+la+Ciencia+Abierta&year=2021&publisher=UNESCO&TypeOfDocument=UnescoPhysicalDocument&mat=PGD&ct=true&size=512&isPhysical=1' width = 200>"
   ]
  },
  {
   "cell_type": "markdown",
   "id": "d9559f85",
   "metadata": {},
   "source": [
    "El enfoque STEAMS en educación preescolar, primaria y secundaria es una extensión del enfoque STEM (Ciencia, Tecnología, Ingeniería y Matemáticas) y su variante STEAM, que incorpora el Arte. "
   ]
  },
  {
   "cell_type": "markdown",
   "id": "0130ec1b",
   "metadata": {},
   "source": [
    "\n",
    "<img src = 'https://www.campuseducacion.com/blog/wp-content/uploads/2023/03/foto01-1.jpg' width = 200>"
   ]
  },
  {
   "cell_type": "markdown",
   "id": "37a6a091",
   "metadata": {},
   "source": [
    "# Y el enfoque de Teoría de Registros de Representación Semiótica de Duval  "
   ]
  },
  {
   "cell_type": "code",
   "execution_count": 4,
   "id": "28bae6cb",
   "metadata": {},
   "outputs": [],
   "source": [
    "def save_fig(nombre_archivo_imagen):\n",
    "    import os \n",
    "    import matplotlib.pyplot as plt\n",
    "    ubicacion_para_imagenes = r\"C:/Users/marco/Downloads\"\n",
    "    imagen_path = os.path.join(ubicacion_para_imagenes, nombre_archivo_imagen)\n",
    "    plt.savefig(imagen_path, bbox_inches='tight')"
   ]
  },
  {
   "cell_type": "markdown",
   "id": "10e55ccf",
   "metadata": {},
   "source": [
    "# Estructura general para todas las clases\n"
   ]
  },
  {
   "cell_type": "markdown",
   "id": "ddd73417",
   "metadata": {},
   "source": [
    "\n",
    "Dame, por favor, un diseño de clase, con el enfoque: \"Aula Invertida, STEAMS, de Aprendizaje Basado en Problemas y Proyectos (ABPP) y de Teoría de Registros de Representación Semiótica (TRRS) de Duval\" sobre: \"Razones, proporciones y porcentajes según el texto 'Álgebra y trigonometría' de Swokowski en su treceava edición: https://archive.org/details/algebra-y-trigonometria-con-geometria-analitica-13va-edicion-earl-w.-swokowski/page/n3/mode/2up\", siguiendo la estructura:  \n",
    "\n",
    "\n",
    "\n",
    "1. Título de la clase   \n",
    "   \n",
    "2. Objetivo de aprendizaje que incluyan los indicadores del logro de estos objetivos. \n",
    "   \n",
    "3. Un mapa conceptual que resuma la clase elaborado en Graphviz de python con nodos y edges de diferentes formas, colores y rellenos y renderizado en la siguiente ubicación: `\"C:\\Users\\marco\\Downloads\"`.  No olvides el parámetro `view = True` para el método `render()` de Graphviz. Para este mapa controla las superposiciones de los nodos con: graph [overlap=false]; // Elimina superposiciones (puede aumentar el espacio)\n",
    "graph [overlap=\"scalexy\"]; // Escala el gráfico para evitar overlaps\n",
    "graph [overlap=\"compress\"]; // Comprime el grafo sin overlaps  \n",
    "   \n",
    "4. Elementos históricos y epistemológicos relevantes para la clase, pero narrados como una historieta al estilo de un cuentero antioqueño en Colombia. Incluye imágenes de los protagonistas históricos de esta clase.  \n",
    "   \n",
    "5. Contenido de la clase:     \n",
    "     * Presenta las definiciones de razones, proporciones y porcentajes.\n",
    "     * Presenta ejemplos de estos conceptos usando representación algebraica con latex, presentación tabular con pandas, representación gráfica con matplotlib. \n",
    "     * Y luego presenta las propiedades o teoremas que sobre razones, proporciones y porcentajes presenta Swokowski en su texto. \n",
    "     * Y finalmente presenta ejemplos y cómo solucionarlos con la ayuda de funciones de usuario de Python que piden los valores de las variables y la relación de proporcionalidad entre ellas, para así resolver el problema con el modelo matemático adecuado. \n",
    "          \n",
    "        \n",
    "6. Actividades de aprendizaje:   \n",
    "   \n",
    "7. Incluye una canción o un poema que ayude a interiorizar y fijar los conceptos asociados a esta clase.   \n",
    "   \n",
    "8.  Tarea o actividades de ejercitación y fijación. Incluye 20 ejercicios de tarea en las que los estudiantes empiecen con la descripción geométrica del algoritmo, luego la descripción verbal y secuencial del algoritmo, después la implementación en lenguaje python editado a través de la terminal powershell de su computador y finalmente con el cálculo a mano y en su cuaderno. Crea una función de usuario de Python que asigne esta tareas a cada uno de los estudiantes matriculados en este curso tomando la ubicación de los estudiantes dada en este prompt.  \n",
    "    \n",
    "9. Evaluación incluyendo 20 proyectos, un ejemplo de quiz (con tres items) y un ejemplo de parcial (con 5 items). Incluye evaluaciones en las que los estudiantes empiecen con la descripción geométrica del algoritmo, luego la descripción verbal y secuencial del algoritmo, después la implementación en lenguaje python editado a través de la terminal powershell de su computador, y finalmente con el cálculo algebraico y numérico a mano y en su cuaderno. \n",
    "    \n",
    "10. Diseño de actividad de retroalimentación.   \n",
    "    \n",
    "11. Dame un vocabulario y frases del idioma inglés asociadas a esta clase.    \n",
    "     \n",
    "12. Incluye apéndice para la clase sobre desarrollo de habilidades para trabajar en equipo y de asertividad y empatía para relacionarnos. También elementos de la inteligencia emocional para presentar pruebas sin temor y sin realizar fraude en ellas.    \n",
    "     \n",
    "13. Incluye 10 referentes en didáctica de la matemática que estén de acuerdo a la propuesta didáctica de esta clase. Adiciona a estos referentes a Raymond Duval (Representaciones y cambios de representación para la adquisición de conceptos matemáticos) y a [Jeannette Wing](https://es.wikipedia.org/wiki/Jeannette_Wing) (Desarrollo del pensamiento computacional). Déjame todos estos referentes ordenados de acuerdo a las normas APA. Al crear la clase, introduce las citas de estos autores en el texto de la clase.\n",
    "\n",
    "\n",
    "Pero  que este diseño sea para que el estudiante pueda aprender experimentando en cuadernos Jupyter con funciones de usuario y animaciones y visualizaciones en python.   \n",
    "\n",
    "En particular utiliza para el diseño de clase a Numpy, Pandas, SymPy, Matplotlib.pyplot, Seaborn, Plotly, ipywidgets, matplotlib.animation, TensorFlow, Keras y Jupyter Notebook.    \n",
    "\n",
    "Cada vez que utilices `matplotlib.animacion` no olvides incluir el uso de `IPython. display` para la rederización de estas animaciones a través de Jupyter Notebook. No olvides darme los diseños de clase con las ecuaciones matemáticas delimitadas con signo de dolar $ para que VS Code si me renderize estas expresiones del lenguaje latex. Cuando vallas a utilizar ipywidgets ten en cuenta la siguiente importación inicial para garantizar que la visualización interactiva si se renderize en VS Code:   \n",
    "\n",
    "Ubicación del proyecto investigativo: [aquí](https://github.com/marco-canas/linea_invest_didact_math_data/blob/main/1_estrategia_comunicacion/3_humanos_xxi/propuesta_en_20_paginas.md)   \n",
    "\n",
    "Ubicación del programa del curso: [aquí](https://github.com/marco-canas/vector_geometry_and_linear_algebra/blob/main/2_planificacion/0_programa_curso/programa_curso_geo_vectorial_algebra_lineal_iae_python_data_science_2025_2.docx)  \n",
    "\n",
    "Ubicación del libro guía: https://archive.org/details/algebra-y-trigonometria-con-geometria-analitica-13va-edicion-earl-w.-swokowski/page/n3/mode/2up\n",
    "\n",
    "Ubicación de la lista de estudiantes matriculados: [Aquí](https://github.com/marco-canas/groups_list/blob/main/vector_geometry_and_linear_algebra.xlsx)  \n",
    "\n",
    "\n"
   ]
  },
  {
   "cell_type": "markdown",
   "id": "f39ebbcb",
   "metadata": {},
   "source": [
    "Excelente propuesta, profe 👌. Te armo un **diseño de clase completo**, con los componentes que pediste y adaptado al **enfoque Aula Invertida + STEAMS + ABPP + TRRS de Duval**, para que tus estudiantes **experimenten y exploren razones, proporciones y porcentajes** en **Jupyter Notebooks** usando las librerías de Python.\n",
    "\n",
    "---\n"
   ]
  },
  {
   "cell_type": "markdown",
   "id": "69963f6c",
   "metadata": {},
   "source": [
    "\n",
    "# Diseño de Clase\n",
    "\n",
    "## 1. Título de la clase\n",
    "\n",
    "**“Razones, proporciones y porcentajes: múltiples representaciones y su modelación matemática con Python”**\n",
    "\n",
    "---\n"
   ]
  },
  {
   "cell_type": "markdown",
   "id": "94af5d22",
   "metadata": {},
   "source": [
    "\n",
    "## 2. Objetivo de aprendizaje\n"
   ]
  },
  {
   "cell_type": "markdown",
   "id": "82c33be4",
   "metadata": {},
   "source": [
    "\n",
    "### Objetivo general:\n",
    "\n",
    "Comprender y aplicar los conceptos de razones, proporciones y porcentajes desde diferentes registros de representación semiótica (Duval, 1993), integrando enfoques STEAMS y ABPP mediante la experimentación en Jupyter Notebooks con Python.\n"
   ]
  },
  {
   "cell_type": "markdown",
   "id": "7b2fc428",
   "metadata": {},
   "source": [
    "\n",
    "### Objetivos específicos e indicadores:\n"
   ]
  },
  {
   "cell_type": "markdown",
   "id": "e007af8c",
   "metadata": {},
   "source": [
    "\n",
    "* **Identificar** las definiciones de razón, proporción y porcentaje en el texto de Swokowski (2010).\n",
    "\n",
    "  * *Indicador*: El estudiante explica verbalmente y en forma algebraica estos conceptos.\n"
   ]
  },
  {
   "cell_type": "markdown",
   "id": "817fc65c",
   "metadata": {},
   "source": [
    "* **Representar** una misma proposición en distintos registros (algebraico, tabular, gráfico, simbólico computacional).\n",
    "\n",
    "  * *Indicador*: Construye tablas con Pandas, gráficos con Matplotlib/Seaborn y animaciones interactivas en Jupyter.\n",
    "* **Aplicar** los conceptos para resolver problemas contextualizados.  \n",
    "  * *Indicador*: Diseña un modelo en Python que soluciona ejercicios de proporcionalidad directa e inversa.\n"
   ]
  },
  {
   "cell_type": "markdown",
   "id": "c9c92af1",
   "metadata": {},
   "source": [
    "\n",
    "  * *Indicador*: Diseña un modelo en Python que soluciona ejercicios de proporcionalidad directa e inversa.\n",
    "* **Experimentar** con simulaciones interactivas.\n",
    "\n",
    "  * *Indicador*: Manipula sliders de ipywidgets para observar variaciones en problemas de porcentaje.\n",
    "\n",
    "---\n"
   ]
  },
  {
   "cell_type": "markdown",
   "id": "81c06327",
   "metadata": {},
   "source": [
    "\n",
    "## 3. Mapa conceptual (Graphviz en Python)\n"
   ]
  },
  {
   "cell_type": "code",
   "execution_count": 2,
   "id": "7d37ffc7",
   "metadata": {},
   "outputs": [
    {
     "data": {
      "text/plain": [
       "'C:\\\\Users\\\\marco\\\\Downloads\\\\mapa_razones_proporciones.pdf'"
      ]
     },
     "execution_count": 2,
     "metadata": {},
     "output_type": "execute_result"
    }
   ],
   "source": [
    "from graphviz import Digraph\n",
    "\n",
    "dot = Digraph(comment=\"Razones, proporciones y porcentajes\")\n",
    "dot.attr(size='8,5')\n",
    "dot.attr(overlap=\"false\")\n",
    "dot.attr(overlap=\"scalexy\")\n",
    "dot.attr(overlap=\"compress\")\n",
    "\n",
    "# Nodos\n",
    "dot.node('R', 'Razones', shape='ellipse', style='filled', fillcolor='lightblue')\n",
    "dot.node('P', 'Proporciones', shape='box', style='filled', fillcolor='lightgreen')\n",
    "dot.node('Pct', 'Porcentajes', shape='diamond', style='filled', fillcolor='lightpink')\n",
    "dot.node('App', 'Aplicaciones\\n(STEAMS)', shape='hexagon', style='filled', fillcolor='yellow')\n",
    "dot.node('Hist', 'Historia y epistemología', shape='note', style='filled', fillcolor='orange')\n",
    "dot.node('TRRS', 'Registros de Representación\\nSemiótica (Duval)', shape='parallelogram', style='filled', fillcolor='violet')\n",
    "\n",
    "# Aristas\n",
    "dot.edges([('R','P'), ('P', 'Pct')])\n",
    "dot.edge('R', 'App')\n",
    "dot.edge('P', 'App')\n",
    "dot.edge('Pct', 'App')\n",
    "dot.edge('Hist', 'R')\n",
    "dot.edge('Hist', 'P')\n",
    "dot.edge('TRRS', 'R')\n",
    "dot.edge('TRRS', 'P')\n",
    "dot.edge('TRRS', 'Pct')\n",
    "\n",
    "dot.render(r\"C:\\Users\\marco\\Downloads\\mapa_razones_proporciones\", view=True)\n",
    "\n"
   ]
  },
  {
   "cell_type": "markdown",
   "id": "1f0322df",
   "metadata": {},
   "source": [
    "\n",
    "---\n",
    "\n",
    "## 4. Elementos históricos y epistemológicos (narrados como cuentero antioqueño)\n"
   ]
  },
  {
   "cell_type": "markdown",
   "id": "56334873",
   "metadata": {},
   "source": [
    "\n",
    "*Imagínese pues…*\n",
    "Había una vez en la antigua Grecia un señor llamado **Euclides**, que en sus pergaminos habló de razones como quien mide el café en la fonda: “una libra de azúcar por cada dos de café”.\n",
    "Pasaron los siglos y en la Europa renacentista, los mercaderes sacaban cuentas con proporciones: “si 3 mulas cargan 9 arrobas, ¿cuántas mulas necesito pa’ 30?”\n",
    "Ya en los tiempos modernos, con la revolución industrial, apareció el **porcentaje** como herramienta pa’ cobrar intereses y calcular ganancias.\n",
    "Y vea, de los pergaminos pasamos a las pantallas, y hoy con **Python** y sus librerías, uno puede dibujar, calcular y hasta hacer que las razones y proporciones bailen solitas en la pantalla.\n"
   ]
  },
  {
   "cell_type": "markdown",
   "id": "3ecf4997",
   "metadata": {},
   "source": [
    "\n",
    "\n",
    "<img src = 'proporcionalidad_1_19 ago 2025.png' width = 600>\n"
   ]
  },
  {
   "cell_type": "markdown",
   "id": "e1cbc704",
   "metadata": {},
   "source": [
    "\n",
    "## 5. Contenido de la clase\n"
   ]
  },
  {
   "cell_type": "markdown",
   "id": "5f05e5b2",
   "metadata": {},
   "source": [
    "\n",
    "### a) Definiciones\n",
    "\n",
    "* **Razón**: $a\\:b = \\dfrac{a}{b}$\n",
    "* **Proporción**: $\\dfrac{a}{b} = \\dfrac{c}{d}$\n",
    "* **Porcentaje**: $p\\% = \\dfrac{p}{100}$\n",
    "\n",
    "### b) Ejemplos con múltiples representaciones\n"
   ]
  },
  {
   "cell_type": "markdown",
   "id": "affe9c8e",
   "metadata": {},
   "source": [
    "\n",
    "### Algebraico (SymPy)\n"
   ]
  },
  {
   "cell_type": "code",
   "execution_count": null,
   "id": "af85f4d9",
   "metadata": {},
   "outputs": [
    {
     "data": {
      "text/plain": [
       "[b*c/a]"
      ]
     },
     "execution_count": 9,
     "metadata": {},
     "output_type": "execute_result"
    }
   ],
   "source": [
    "# Para una relación de proporcionalidad directa\n",
    "\n",
    "from sympy import symbols, Eq, solve\n",
    "\n",
    "a,b,c,d = symbols('a b c d')\n",
    "eq = Eq(a/b, c/d)\n",
    "solve(eq, d)\n",
    "\n"
   ]
  },
  {
   "cell_type": "markdown",
   "id": "7ea8865a",
   "metadata": {},
   "source": [
    "\n",
    "#### Tabular (Pandas)\n"
   ]
  },
  {
   "cell_type": "code",
   "execution_count": 1,
   "id": "9e08d678",
   "metadata": {},
   "outputs": [
    {
     "data": {
      "application/vnd.microsoft.datawrangler.viewer.v0+json": {
       "columns": [
        {
         "name": "index",
         "rawType": "int64",
         "type": "integer"
        },
        {
         "name": "a",
         "rawType": "int64",
         "type": "integer"
        },
        {
         "name": "b",
         "rawType": "int64",
         "type": "integer"
        },
        {
         "name": "a/b",
         "rawType": "float64",
         "type": "float"
        }
       ],
       "ref": "2009211a-2721-4da8-a377-0b77da9df285",
       "rows": [
        [
         "0",
         "2",
         "4",
         "0.5"
        ],
        [
         "1",
         "3",
         "6",
         "0.5"
        ],
        [
         "2",
         "4",
         "8",
         "0.5"
        ]
       ],
       "shape": {
        "columns": 3,
        "rows": 3
       }
      },
      "text/html": [
       "<div>\n",
       "<style scoped>\n",
       "    .dataframe tbody tr th:only-of-type {\n",
       "        vertical-align: middle;\n",
       "    }\n",
       "\n",
       "    .dataframe tbody tr th {\n",
       "        vertical-align: top;\n",
       "    }\n",
       "\n",
       "    .dataframe thead th {\n",
       "        text-align: right;\n",
       "    }\n",
       "</style>\n",
       "<table border=\"1\" class=\"dataframe\">\n",
       "  <thead>\n",
       "    <tr style=\"text-align: right;\">\n",
       "      <th></th>\n",
       "      <th>a</th>\n",
       "      <th>b</th>\n",
       "      <th>a/b</th>\n",
       "    </tr>\n",
       "  </thead>\n",
       "  <tbody>\n",
       "    <tr>\n",
       "      <th>0</th>\n",
       "      <td>2</td>\n",
       "      <td>4</td>\n",
       "      <td>0.5</td>\n",
       "    </tr>\n",
       "    <tr>\n",
       "      <th>1</th>\n",
       "      <td>3</td>\n",
       "      <td>6</td>\n",
       "      <td>0.5</td>\n",
       "    </tr>\n",
       "    <tr>\n",
       "      <th>2</th>\n",
       "      <td>4</td>\n",
       "      <td>8</td>\n",
       "      <td>0.5</td>\n",
       "    </tr>\n",
       "  </tbody>\n",
       "</table>\n",
       "</div>"
      ],
      "text/plain": [
       "   a  b  a/b\n",
       "0  2  4  0.5\n",
       "1  3  6  0.5\n",
       "2  4  8  0.5"
      ]
     },
     "execution_count": 1,
     "metadata": {},
     "output_type": "execute_result"
    }
   ],
   "source": [
    "\n",
    "import pandas as pd\n",
    "\n",
    "data = {\"a\":[2,3,4], \"b\":[4,6,8], \"a/b\":[0.5,0.5,0.5]}\n",
    "df = pd.DataFrame(data)\n",
    "df\n",
    "\n"
   ]
  },
  {
   "cell_type": "markdown",
   "id": "8d8d80ad",
   "metadata": {},
   "source": [
    "\n",
    "#### Gráfico (Matplotlib/Seaborn)\n"
   ]
  },
  {
   "cell_type": "code",
   "execution_count": 8,
   "id": "cda1426e",
   "metadata": {},
   "outputs": [
    {
     "data": {
      "image/png": "[encoded data removed]",
      "text/plain": [
       "<Figure size 640x480 with 1 Axes>"
      ]
     },
     "metadata": {},
     "output_type": "display_data"
    }
   ],
   "source": [
    "import matplotlib.pyplot as plt\n",
    "import seaborn as sns\n",
    "\n",
    "sns.lineplot(x=[0,2,3,4], y=[0, 4,6,8])\n",
    "plt.xlabel(\"a\")\n",
    "plt.ylabel(\"b\")\n",
    "plt.title(\"Proporción directa\")\n",
    "plt.grid(alpha = 0.3)\n",
    "plt.savefig(r\"C:\\Users\\marco\\Downloads\\proporcion_directa.png\") \n",
    "plt.show()\n",
    "\n"
   ]
  },
  {
   "cell_type": "markdown",
   "id": "561187ac",
   "metadata": {},
   "source": [
    "\n",
    "### c) Propiedades (según Swokowski, 2010)\n",
    "\n",
    "* Propiedad fundamental de las proporciones.\n",
    "* Intercambio de medios/extremos.\n",
    "* Producto cruzado.\n"
   ]
  },
  {
   "cell_type": "markdown",
   "id": "14cb356d",
   "metadata": {},
   "source": [
    "\n",
    "### d) Ejemplos interactivos con funciones en Python\n",
    "\n",
    "\n"
   ]
  },
  {
   "cell_type": "code",
   "execution_count": null,
   "id": "21731f6f",
   "metadata": {},
   "outputs": [],
   "source": [
    "def proporciones(a,b,c):\n",
    "    d = (b*c)/a\n",
    "    print(f\"Si {a}:{b} = {c}:d, entonces d = {d}\")\n",
    "    return d\n",
    "\n",
    "proporciones(2,4,6)\n"
   ]
  },
  {
   "cell_type": "markdown",
   "id": "6788521b",
   "metadata": {},
   "source": [
    "\n",
    "## 6. Actividades de aprendizaje\n",
    "\n",
    "* Construcción de tablas de proporcionalidad en cuadernos Jupyter.\n",
    "* Uso de sliders de ipywidgets para simular porcentajes (ej. descuentos).\n",
    "* Diseño de un proyecto ABPP: “¿Cómo calcular los intereses de un microcrédito en su barrio usando Python?”\n",
    "\n",
    "\n"
   ]
  },
  {
   "cell_type": "markdown",
   "id": "5faedc53",
   "metadata": {},
   "source": [
    "\n",
    "## 7. Canción / poema\n",
    "\n",
    "*(Ejemplo de copla sencilla)*\n",
    "\n",
    "> “Razón es comparar,\n",
    "> proporción es equilibrar,\n",
    "> y si en cien lo quieres ver,\n",
    "> con el porcentaje hay que jugar.” 🎶\n",
    "\n",
    "---\n"
   ]
  },
  {
   "cell_type": "markdown",
   "id": "c42a3372",
   "metadata": {},
   "source": [
    "\n",
    "## 8. Tarea / ejercicios\n",
    "\n",
    "20 ejercicios graduados siguiendo: descripción geométrica → verbal → Python → cálculo manual.\n",
    "Se asignan a cada estudiante con función de Python que lee la lista del repo de GitHub.\n",
    "\n",
    "---\n"
   ]
  },
  {
   "cell_type": "markdown",
   "id": "1eed8819",
   "metadata": {},
   "source": [
    "\n",
    "## 9. Evaluación\n",
    "\n",
    "* **20 proyectos**: desde simuladores de descuentos hasta modelos de física.\n",
    "* **Quiz (3 items)**: definiciones, ejemplo numérico, modelar en Python.\n",
    "* **Parcial (5 items)**: problemas integrados con descripción geométrica, verbal, Python y cálculo manual.\n",
    "\n",
    "---\n"
   ]
  },
  {
   "cell_type": "markdown",
   "id": "6f082410",
   "metadata": {},
   "source": [
    "\n",
    "## 10. Retroalimentación\n",
    "\n",
    "Foro en JupyterHub con notebooks comentados en pares (peer review).\n",
    "\n",
    "---\n"
   ]
  },
  {
   "cell_type": "markdown",
   "id": "0312271c",
   "metadata": {},
   "source": [
    "\n",
    "## 11. Vocabulario en inglés\n",
    "\n",
    "* Ratio (razón)\n",
    "* Proportion (proporción)\n",
    "* Percentage (porcentaje)\n",
    "* Cross-multiplication (producto cruzado)\n",
    "* Direct variation (variación directa)\n",
    "\n",
    "---\n"
   ]
  },
  {
   "cell_type": "markdown",
   "id": "1b3dc994",
   "metadata": {},
   "source": [
    "\n",
    "## 12. Apéndice socioemocional\n",
    "\n",
    "* Trabajo en equipo: roles rotativos (líder, programador, revisor).\n",
    "* Inteligencia emocional: estrategias para presentar exámenes sin miedo.\n",
    "* Asertividad y empatía en la comunicación matemática.\n",
    "\n",
    "---\n"
   ]
  },
  {
   "cell_type": "markdown",
   "id": "741308ee",
   "metadata": {},
   "source": [
    "\n",
    "# 13. Referentes (APA)\n",
    "\n",
    "* Duval, R. (1993). *Registros de representación semiótica y funcionamiento cognitivo del pensamiento matemático*.\n"
   ]
  },
  {
   "cell_type": "markdown",
   "id": "78016a66",
   "metadata": {},
   "source": [
    "* Wing, J. (2006). Computational thinking. *Communications of the ACM, 49*(3), 33-35.\n"
   ]
  },
  {
   "cell_type": "markdown",
   "id": "a50a6c1c",
   "metadata": {},
   "source": [
    "* Swokowski, E. W. (2010). *Álgebra y trigonometría con geometría analítica* (13a ed.). Cengage.\n",
    "* Schoenfeld, A. H. (1985). *Mathematical problem solving*. Academic Press.\n",
    "* Kilpatrick, J., Swafford, J., & Findell, B. (2001). *Adding it up: Helping children learn mathematics*. National Academy Press.\n",
    "* Polya, G. (1945). *How to solve it*. Princeton University Press.\n",
    "* Tall, D. (1991). *Advanced mathematical thinking*. Kluwer.\n",
    "* Skemp, R. R. (1976). *Relational understanding and instrumental understanding*. Mathematics Teaching.\n",
    "* Freudenthal, H. (1991). *Revisiting mathematics education*. Springer.\n",
    "* Mason, J., Burton, L., & Stacey, K. (2010). *Thinking mathematically*. Pearson.\n",
    "* Gravemeijer, K. (1999). How emergent models may foster the constitution of formal mathematics. *Mathematical Thinking and Learning, 1*(2), 155–177.\n",
    "* Vygotsky, L. (1978). *Mind in society*. Harvard University Press.\n",
    "\n",
    "\n"
   ]
  },
  {
   "cell_type": "markdown",
   "id": "8ba64aed",
   "metadata": {},
   "source": [
    "# Cursos que orienta el profesor Marco Julio Cañas Campillo en 2025  \n",
    "\n",
    "1. Lunes 8 a 12: Fundamentos de Lógica: Licenciatura en Matemáticas . \n",
    "2. Martes de 9 a 10: Curso de ML and DL para Ingeniero Juan Gomez en España.  \n",
    "3. Martes de 2 a 5 PM: Vector Geometry and Linear Algebra.  \n",
    "4. Miércoles: 10 a 11: Reunión equipo investigador SAT Dengue. \n",
    "5. Miércoles 2 a 3 PM: Asesoría Trabajo de Grado Janis (Estudiante de Biología).  \n",
    "6. Viernes 2 a 6 PM: Análisis Numérico: Programa de Licenciatura en Matemáticas."
   ]
  },
  {
   "cell_type": "markdown",
   "id": "8d41fe58",
   "metadata": {
    "slideshow": {
     "slide_type": "slide"
    }
   },
   "source": [
    "# Horario de clases del profesor Marco\n",
    "\n",
    "* Lunes 8-12: Fundamentos de Lógica.   \n",
    "* Lunes 2- 6 PM: Estudio de Inglés.  \n",
    "* Martes 9-11 M: Álgebra y trigonometría.  \n",
    "* Martes 2 a 6 PM: Vector Geometry and Linear Algebra.\n",
    "* Miércoles 9 a 11 M: Álgebra y trigonometría.    \n",
    "* Miércoles de 2 a 6 PM: \n",
    "* Jueves 2 a 6 PM:  \n",
    "* Viernes 2 - 4 PM: Análisis Numérico. \n",
    "* Sábados 8-12 Asesorías y espacio para retroalimentación y apoyo al trabajo independiente. "
   ]
  },
  {
   "cell_type": "markdown",
   "id": "ae114e14",
   "metadata": {
    "slideshow": {
     "slide_type": "slide"
    }
   },
   "source": [
    "# Horarios de monitoría y asesoría  \n",
    "\n",
    "* Monitor Manuel San Juan Serrano: Contactar escribiendo al correo: manuel.serrano1@udea.edu.co"
   ]
  },
  {
   "cell_type": "markdown",
   "id": "bf0f9dbf",
   "metadata": {},
   "source": [
    "\n",
    "Coordinador de los cursos de la Facultad de Educación para regiones:    \n",
    "\n",
    "Andrés Vélez: regioneducacion.fedu@udea.edu.co  \n",
    "Coordinador Regiones  \n",
    "Facultad de Educación  \n",
    "Universidad de Antioquia  "
   ]
  },
  {
   "cell_type": "markdown",
   "id": "10bce0d0",
   "metadata": {
    "slideshow": {
     "slide_type": "slide"
    }
   },
   "source": [
    "## Referentes "
   ]
  },
  {
   "cell_type": "markdown",
   "id": "1db3c468",
   "metadata": {
    "slideshow": {
     "slide_type": "slide"
    }
   },
   "source": [
    "* [CALCULO I DE UNA VARIABLE Ron Larson-Bruce Edwards. Mc Graw Hill. 9º Edición](https://www.academia.edu/42139251/CALCULO_I_DE_UNA_VARIABLE_Ron_Larson_Bruce_Edwards_Mc_Graw_Hill_9o_Edici%C3%B3n)   \n",
    "  \n",
    "\n",
    "* [Grajales Vanegas, L. M., Restrepo Estrada, C. E., Restrepo Ochoa, S. I., & Ruíz De Villalba, F. (2015). Matemáticas I para las ciencias económicas.](https://bibliotecadigital.udea.edu.co/handle/10495/3010)\n",
    "  \n",
    "* R. Duval y Semiosis y pensamiento humano, 2.ª ed. Cali, Colombia: Programa Editorial Universidad del Valle, 2017. [En línea]. Disponible en: https://programaeditorial.univalle.edu.co/gpd-semiosis-y-pensamiento-humano-9789587655278-63324cdb0f6b3.html\n",
    "\n",
    "* [Aylwin, C. U. (2011). Lógica, conjuntos y números. Universidad de los Andes, Consejo de Publicaciones, Colección: Ciencias Básicas, Serie: Matemáticas.](chrome-extension://efaidnbmnnnibpcajpcglclefindmkaj/https://www.u-cursos.cl/ciencias/2011/1/MC110/1/material_docente/bajar?id_material=574722)\n",
    "  \n",
    "* [Chollet, F. (2021). Deep learning with Python. Simon and Schuster.](chrome-extension://efaidnbmnnnibpcajpcglclefindmkaj/https://tanthiamhuat.wordpress.com/wp-content/uploads/2018/03/deeplearningwithpython.pdf)  \n",
    "  \n",
    "* [Watson, S., Stewart, J., & Redlin, L. (2009). Precálculo. Matemáticas para el cálculo.](https://github.com/marco-canas/calculo/blob/main/referents/1_precalculo_stewart/stewart_precalculo.pdf)  \n",
    "\n",
    "* [Purcell, E. J., Varberg, D., & Rigdon, S. E. (2007). Cálculo diferencial e integral. Pearson Educación.](https://github.com/marco-canas/calculo/blob/main/referents/purcell/purcell_calculo.pdf)\n",
    "\n",
    "  \n",
    "\n",
    "* [stewart cálculo](https://udeaeduco-my.sharepoint.com/:b:/g/personal/marco_canas_udea_edu_co/EZgXZjAp8QxPqOAim2hs6LcBNPLGjSHf-xwYnUVYkwa04w?e=RZdTCy)  \n",
    "\n",
    "\n",
    "\n",
    "\n",
    "\n",
    "* [Recomendación de la UNESCO sobre ciencia abierta](https://unesdoc.unesco.org/ark:/48223/pf0000379949_spa)\n",
    "\n",
    "* [chatGPT](https://openai.com/blog/chatgpt)  \n",
    "\n",
    "* [Géron, A. (2017). Hands-on machine learning with scikit-learn and tensorflow: Concepts. Tools, and Techniques to build intelligent systems.](chrome-extension://efaidnbmnnnibpcajpcglclefindmkaj/http://14.139.161.31/OddSem-0822-1122/Hands-On_Machine_Learning_with_Scikit-Learn-Keras-and-TensorFlow-2nd-Edition-Aurelien-Geron.pdf)   \n"
   ]
  },
  {
   "cell_type": "markdown",
   "id": "df925560",
   "metadata": {},
   "source": [
    "\n",
    "* [McKinney, W. (2012). Python for data analysis: Data wrangling with Pandas, NumPy, and IPython. \" O'Reilly Media, Inc.\".](https://wesmckinney.com/book/) "
   ]
  },
  {
   "cell_type": "markdown",
   "id": "8e65d6f9",
   "metadata": {},
   "source": [
    "# Como estudiante, encuentro que...   \n",
    "\n",
    "F: Mis Fortalezas son:     \n",
    "O: Mis Oportunidades son:    \n",
    "D: Mis Debilidades son:    \n",
    "A: Lo que Amenazas mi aprendizaje es:  "
   ]
  },
  {
   "cell_type": "markdown",
   "id": "6b9e56a8",
   "metadata": {
    "slideshow": {
     "slide_type": "slide"
    }
   },
   "source": [
    "### [Evaluamos al profesor Marco Cañas Aquí](https://forms.office.com/Pages/ResponsePage.aspx?id=IefhmYRxjkmK_7KtTlPBwkanXIs1i1FEujpsZgO6dXpUREJPV1kxUk1JV1ozTFJIQVNIQjY5WEY3US4u)"
   ]
  },
  {
   "cell_type": "markdown",
   "id": "10f43536",
   "metadata": {
    "slideshow": {
     "slide_type": "slide"
    }
   },
   "source": [
    "### Continue su aprendizaje en la siguiente clase a través del siguiente [vínculo]()"
   ]
  },
  {
   "cell_type": "markdown",
   "id": "53cc9115",
   "metadata": {
    "slideshow": {
     "slide_type": "slide"
    }
   },
   "source": [
    "## Agradecimientos  \n",
    "\n",
    "Doy gracias a Dios por la vida de mi Hijo Joseph Cañas Osorio y la madurez que ha alcanzado. Este hijo me enorgullece y me hace falta abrazarlo cada día. \n",
    "\n",
    "Y a mi esposa Yasmira Emperatriz Barboza Mogollón por su apoyo, orientación y acompañamiento. "
   ]
  },
  {
   "cell_type": "markdown",
   "id": "b6ba1c23",
   "metadata": {},
   "source": [
    "# Apéndice sobre calendarios y coordinaciones \n"
   ]
  },
  {
   "cell_type": "markdown",
   "id": "bf8b6499",
   "metadata": {},
   "source": [
    "## Calendario del semestre académico 2025-2  \n",
    "\n",
    "* Límite evaluación del 40%: 27 de septiembre de 2025  \n",
    "\n",
    "* Terminación de clases: 22 de noviembre de 2025\n",
    "\n",
    "* Exámenes finales: 24 al 29 de noviembre de 2025\n",
    "\n",
    "* Habilitación y validación: 01 al 06 de diciembre 2025\n",
    "\n",
    "* Terminación oficial del semestre: 09 de diciembre de 2025  "
   ]
  }
 ],
 "metadata": {
  "celltoolbar": "Slideshow",
  "kernelspec": {
   "display_name": ".venv",
   "language": "python",
   "name": "python3"
  },
  "language_info": {
   "codemirror_mode": {
    "name": "ipython",
    "version": 3
   },
   "file_extension": ".py",
   "mimetype": "text/x-python",
   "name": "python",
   "nbconvert_exporter": "python",
   "pygments_lexer": "ipython3",
   "version": "3.11.9"
  },
  "rise": {
   "enable_chalkboard": true,
   "theme": "sky",
   "transition": "zoom"
  }
 },
 "nbformat": 4,
 "nbformat_minor": 5
}
