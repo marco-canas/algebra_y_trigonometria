{
 "cells": [
  {
   "cell_type": "markdown",
   "id": "dc06dec7",
   "metadata": {
    "slideshow": {
     "slide_type": "slide"
    }
   },
   "source": [
    "<table align=\"left\">\n",
    "  <td>\n",
    "    <a href=\"https://colab.research.google.com/github/marco-canas/algebra_y_trigonometria/blob/main/classes/0_formatos_clase/algebra_and_trigonometry.ipynb\" target=\"_parent\"><img src=\"https://colab.research.google.com/assets/colab-badge.svg\" alt=\"Open In Colab\"/></a>\n",
    "  </td>\n",
    "  <td>\n",
    "    <a target=\"_blank\" href=\"https://kaggle.com/kernels/welcome?src=https://github.com/marco-canas/algebra_y_trigonometria/blob/main/classes/0_formatos_clase/algebra_and_trigonometry.ipynb\"><img src=\"https://kaggle.com/static/images/open-in-kaggle.svg\" /></a>\n",
    "  </td>\n",
    "</table>"
   ]
  },
  {
   "cell_type": "markdown",
   "id": "9eee306b",
   "metadata": {},
   "source": [
    "# generación del QR para el cuaderno de esta clase    \n",
    "\n",
    "Aquí tienes una función de Python que genera un código QR a partir de una URL y lo muestra en un cuaderno Jupyter:\n"
   ]
  },
  {
   "cell_type": "code",
   "execution_count": 1,
   "id": "7e0dbf6e",
   "metadata": {},
   "outputs": [],
   "source": [
    "import qrcode\n",
    "from IPython.display import display\n",
    "\n",
    "def generar_qr_notebook(url):\n",
    "    \"\"\"\n",
    "    Genera un código QR para una URL y lo muestra en un cuaderno Jupyter.\n",
    "    \n",
    "    Parámetros:\n",
    "    url (str): La URL para la cual se generará el código QR.\n",
    "    \n",
    "    Retorna:\n",
    "    None (pero muestra el código QR en el notebook)\n",
    "    \"\"\"\n",
    "    # Crear el objeto QR\n",
    "    qr = qrcode.QRCode(\n",
    "        version=1,\n",
    "        error_correction=qrcode.constants.ERROR_CORRECT_L,\n",
    "        box_size=10,\n",
    "        border=4,\n",
    "    )\n",
    "    \n",
    "    # Añadir la URL al código QR\n",
    "    qr.add_data(url)\n",
    "    qr.make(fit=True)\n",
    "    \n",
    "    # Crear la imagen del QR\n",
    "    img = qr.make_image(fill_color=\"black\", back_color=\"white\")\n",
    "    \n",
    "    # Mostrar la imagen en el notebook\n",
    "    display(img)\n",
    "\n"
   ]
  },
  {
   "cell_type": "code",
   "execution_count": null,
   "id": "79e4ce17",
   "metadata": {},
   "outputs": [],
   "source": [
    "generar_qr_notebook()"
   ]
  },
  {
   "cell_type": "markdown",
   "id": "a6647ca4",
   "metadata": {},
   "source": [
    "\n",
    "### Notas:\n",
    "- La función usa la biblioteca `qrcode` para generar el código y `IPython.display` para mostrarlo en el notebook.\n",
    "- El código QR aparecerá como salida de la celda donde llames a la función.\n",
    "- Puedes ajustar parámetros como `box_size` (tamaño de los cuadrados) o `border` (tamaño del borde) según tus necesidades.\n"
   ]
  },
  {
   "cell_type": "markdown",
   "id": "e0c5b198",
   "metadata": {
    "slideshow": {
     "slide_type": "slide"
    }
   },
   "source": [
    "### [Video de apoyo a la lectura interactiva y experimental de este cuaderno]()"
   ]
  },
  {
   "cell_type": "markdown",
   "id": "41e82203",
   "metadata": {
    "slideshow": {
     "slide_type": "slide"
    }
   },
   "source": [
    "### [Vínculo al programa del curso Algebra_and_trigonometry:  ](https://github.com/marco-canas/algebra_y_trigonometria/blob/main/0_programa_curso/programa_algebra_and_trigonometry.md)\n",
    "Código del curso: 303001  "
   ]
  },
  {
   "cell_type": "markdown",
   "id": "d11ab06d",
   "metadata": {
    "slideshow": {
     "slide_type": "slide"
    }
   },
   "source": [
    "Un reconocimiento a mis estudiantes que han construido conmigo este saber pedagógico:\n",
    "\n",
    "<img src = 'https://github.com/marco-canas/algebra_y_trigonometria/blob/main/images/primera_clase_2025-08-05_a_las_12.06.22.jpg?raw=true'>   \n",
    "\n"
   ]
  },
  {
   "cell_type": "markdown",
   "id": "8a74a56c-0ce6-4ad6-b985-553fd7fb68bb",
   "metadata": {},
   "source": [
    "Reconocimiento a las profesoras destacadas en enseñanza de la matemática en Colombia\n"
   ]
  },
  {
   "cell_type": "code",
   "execution_count": 3,
   "id": "7604880f",
   "metadata": {
    "slideshow": {
     "slide_type": "slide"
    }
   },
   "outputs": [
    {
     "data": {
      "application/vnd.microsoft.datawrangler.viewer.v0+json": {
       "columns": [
        {
         "name": "index",
         "rawType": "int64",
         "type": "integer"
        },
        {
         "name": "Cedula",
         "rawType": "int64",
         "type": "integer"
        },
        {
         "name": "Nombre",
         "rawType": "object",
         "type": "string"
        },
        {
         "name": "Email",
         "rawType": "object",
         "type": "string"
        }
       ],
       "ref": "f6e3adc6-ee8c-49cf-a648-b2092da08f20",
       "rows": [
        [
         "0",
         "1038648096",
         "ACEVEDO BELEÑO SANTIAGO",
         "sacevedo.beleno@udea.edu.co"
        ],
        [
         "1",
         "1038648760",
         "MARIN VILLARREAL PABLO ALEJANDRO",
         "pablo.marin1@udea.edu.co"
        ],
        [
         "2",
         "1193401041",
         "MARTINEZ MANJARREZ DANIELA ESTHER",
         "daniela.martinezm@udea.edu.co"
        ],
        [
         "3",
         "1038108720",
         "MEJIA GUZMAN SAMUEL",
         "samuel.mguzman@udea.edu.co"
        ],
        [
         "4",
         "1038647828",
         "NIEBLES BARRERA ALEXANDER ISAAC",
         "alexander.niebles@udea.edu.co"
        ],
        [
         "5",
         "1045426138",
         "OQUENDO MONA CRISTIAN GABRIEL",
         "cristian.oquendo1@udea.edu.co"
        ],
        [
         "6",
         "1032250901",
         "PINO VERGARA LIZETH",
         "lizeth.pino@udea.edu.co"
        ],
        [
         "7",
         "1038092717",
         "RIVERA GUZMAN CRISTIAN",
         "cristian.rivera2@udea.edu.co"
        ],
        [
         "8",
         "1038110693",
         "ROMERO CALDERA JUAN ESTEBAN",
         "juanesteban.romero@udea.edu.co"
        ],
        [
         "9",
         "1063359347",
         "SANCHEZ PACHECO MOISES DAVID",
         "moises.sanchez1@udea.edu.co"
        ],
        [
         "10",
         "1066600819",
         "TIRADO CHAVARRIA WILFRAN DE JESUS",
         "wilfran.tirado@udea.edu.co"
        ],
        [
         "11",
         "1038136995",
         "VERGARA ACEVEDO SARA CRISTINA",
         "scristina.vergara@udea.edu.co"
        ],
        [
         "12",
         "1007452831",
         "VILORIA SIERRA ALEXANDER",
         "a.viloria1@udea.edu.co"
        ]
       ],
       "shape": {
        "columns": 3,
        "rows": 13
       }
      },
      "text/html": [
       "<div>\n",
       "<style scoped>\n",
       "    .dataframe tbody tr th:only-of-type {\n",
       "        vertical-align: middle;\n",
       "    }\n",
       "\n",
       "    .dataframe tbody tr th {\n",
       "        vertical-align: top;\n",
       "    }\n",
       "\n",
       "    .dataframe thead th {\n",
       "        text-align: right;\n",
       "    }\n",
       "</style>\n",
       "<table border=\"1\" class=\"dataframe\">\n",
       "  <thead>\n",
       "    <tr style=\"text-align: right;\">\n",
       "      <th></th>\n",
       "      <th>Cedula</th>\n",
       "      <th>Nombre</th>\n",
       "      <th>Email</th>\n",
       "    </tr>\n",
       "  </thead>\n",
       "  <tbody>\n",
       "    <tr>\n",
       "      <th>0</th>\n",
       "      <td>1038648096</td>\n",
       "      <td>ACEVEDO BELEÑO SANTIAGO</td>\n",
       "      <td>sacevedo.beleno@udea.edu.co</td>\n",
       "    </tr>\n",
       "    <tr>\n",
       "      <th>1</th>\n",
       "      <td>1038648760</td>\n",
       "      <td>MARIN VILLARREAL PABLO ALEJANDRO</td>\n",
       "      <td>pablo.marin1@udea.edu.co</td>\n",
       "    </tr>\n",
       "    <tr>\n",
       "      <th>2</th>\n",
       "      <td>1193401041</td>\n",
       "      <td>MARTINEZ MANJARREZ DANIELA ESTHER</td>\n",
       "      <td>daniela.martinezm@udea.edu.co</td>\n",
       "    </tr>\n",
       "    <tr>\n",
       "      <th>3</th>\n",
       "      <td>1038108720</td>\n",
       "      <td>MEJIA GUZMAN SAMUEL</td>\n",
       "      <td>samuel.mguzman@udea.edu.co</td>\n",
       "    </tr>\n",
       "    <tr>\n",
       "      <th>4</th>\n",
       "      <td>1038647828</td>\n",
       "      <td>NIEBLES BARRERA ALEXANDER ISAAC</td>\n",
       "      <td>alexander.niebles@udea.edu.co</td>\n",
       "    </tr>\n",
       "    <tr>\n",
       "      <th>5</th>\n",
       "      <td>1045426138</td>\n",
       "      <td>OQUENDO MONA CRISTIAN GABRIEL</td>\n",
       "      <td>cristian.oquendo1@udea.edu.co</td>\n",
       "    </tr>\n",
       "    <tr>\n",
       "      <th>6</th>\n",
       "      <td>1032250901</td>\n",
       "      <td>PINO VERGARA LIZETH</td>\n",
       "      <td>lizeth.pino@udea.edu.co</td>\n",
       "    </tr>\n",
       "    <tr>\n",
       "      <th>7</th>\n",
       "      <td>1038092717</td>\n",
       "      <td>RIVERA GUZMAN CRISTIAN</td>\n",
       "      <td>cristian.rivera2@udea.edu.co</td>\n",
       "    </tr>\n",
       "    <tr>\n",
       "      <th>8</th>\n",
       "      <td>1038110693</td>\n",
       "      <td>ROMERO CALDERA JUAN ESTEBAN</td>\n",
       "      <td>juanesteban.romero@udea.edu.co</td>\n",
       "    </tr>\n",
       "    <tr>\n",
       "      <th>9</th>\n",
       "      <td>1063359347</td>\n",
       "      <td>SANCHEZ PACHECO MOISES DAVID</td>\n",
       "      <td>moises.sanchez1@udea.edu.co</td>\n",
       "    </tr>\n",
       "    <tr>\n",
       "      <th>10</th>\n",
       "      <td>1066600819</td>\n",
       "      <td>TIRADO CHAVARRIA WILFRAN DE JESUS</td>\n",
       "      <td>wilfran.tirado@udea.edu.co</td>\n",
       "    </tr>\n",
       "    <tr>\n",
       "      <th>11</th>\n",
       "      <td>1038136995</td>\n",
       "      <td>VERGARA ACEVEDO SARA CRISTINA</td>\n",
       "      <td>scristina.vergara@udea.edu.co</td>\n",
       "    </tr>\n",
       "    <tr>\n",
       "      <th>12</th>\n",
       "      <td>1007452831</td>\n",
       "      <td>VILORIA SIERRA ALEXANDER</td>\n",
       "      <td>a.viloria1@udea.edu.co</td>\n",
       "    </tr>\n",
       "  </tbody>\n",
       "</table>\n",
       "</div>"
      ],
      "text/plain": [
       "        Cedula                             Nombre  \\\n",
       "0   1038648096            ACEVEDO BELEÑO SANTIAGO   \n",
       "1   1038648760   MARIN VILLARREAL PABLO ALEJANDRO   \n",
       "2   1193401041  MARTINEZ MANJARREZ DANIELA ESTHER   \n",
       "3   1038108720                MEJIA GUZMAN SAMUEL   \n",
       "4   1038647828    NIEBLES BARRERA ALEXANDER ISAAC   \n",
       "5   1045426138      OQUENDO MONA CRISTIAN GABRIEL   \n",
       "6   1032250901                PINO VERGARA LIZETH   \n",
       "7   1038092717             RIVERA GUZMAN CRISTIAN   \n",
       "8   1038110693        ROMERO CALDERA JUAN ESTEBAN   \n",
       "9   1063359347       SANCHEZ PACHECO MOISES DAVID   \n",
       "10  1066600819  TIRADO CHAVARRIA WILFRAN DE JESUS   \n",
       "11  1038136995      VERGARA ACEVEDO SARA CRISTINA   \n",
       "12  1007452831           VILORIA SIERRA ALEXANDER   \n",
       "\n",
       "                             Email  \n",
       "0      sacevedo.beleno@udea.edu.co  \n",
       "1         pablo.marin1@udea.edu.co  \n",
       "2    daniela.martinezm@udea.edu.co  \n",
       "3       samuel.mguzman@udea.edu.co  \n",
       "4    alexander.niebles@udea.edu.co  \n",
       "5    cristian.oquendo1@udea.edu.co  \n",
       "6          lizeth.pino@udea.edu.co  \n",
       "7     cristian.rivera2@udea.edu.co  \n",
       "8   juanesteban.romero@udea.edu.co  \n",
       "9      moises.sanchez1@udea.edu.co  \n",
       "10      wilfran.tirado@udea.edu.co  \n",
       "11   scristina.vergara@udea.edu.co  \n",
       "12          a.viloria1@udea.edu.co  "
      ]
     },
     "execution_count": 3,
     "metadata": {},
     "output_type": "execute_result"
    }
   ],
   "source": [
    "import pandas as pd\n",
    "import numpy as np\n",
    "\n",
    "# Cargar la lista de estudiantes desde el archivo CSV\n",
    "path = 'C:/Users/marco/Documentos/docencia/groups_list/algebra_and_trigonometry.xlsx'\n",
    "df = pd.read_excel(path)\n",
    "df.head(13) \n"
   ]
  },
  {
   "cell_type": "markdown",
   "id": "d7598d0a-d9b7-4ae0-b029-a0ed6ed1130b",
   "metadata": {},
   "source": [
    "\n",
    "# Principios de mi labor docente"
   ]
  },
  {
   "cell_type": "markdown",
   "id": "4f9d8cf9",
   "metadata": {
    "slideshow": {
     "slide_type": "slide"
    }
   },
   "source": [
    "## Modelo general de clase: [aula invertida](https://www3.gobiernodecanarias.org/medusa/ecoescuela/pedagotic/aprendizaje-invertido-flipped-classroom/)"
   ]
  },
  {
   "cell_type": "markdown",
   "id": "eb6ed03a",
   "metadata": {},
   "source": [
    "<img src = 'https://resources.maneuveringthemiddle.com/wp-content/uploads/2020/07/04212706/1-5.png' width = 200>  \n",
    "\n"
   ]
  },
  {
   "cell_type": "markdown",
   "id": "34319cce-a71b-4f64-aab8-b53e521efa40",
   "metadata": {},
   "source": [
    "# Metodología de Aprendizaje Basado en Problemas y Proyectos (ABPP)\n"
   ]
  },
  {
   "cell_type": "markdown",
   "id": "c4f73d81",
   "metadata": {},
   "source": [
    "\n",
    "<img src = 'https://www.unir.net/wp-content/uploads/2020/07/aprendizaje-problemas2-1-1-1-1.jpeg' width = 200>"
   ]
  },
  {
   "cell_type": "markdown",
   "id": "841a985c-bd9b-4dd3-8e4c-893983980af2",
   "metadata": {},
   "source": [
    "# Desarrollo del pensamiento computacional con Lenguajes Python y R, y con archivos Markdown orientado a la formación en ciencia de datos \n",
    "\n"
   ]
  },
  {
   "cell_type": "markdown",
   "id": "3d0eba94",
   "metadata": {},
   "source": [
    "\n",
    "<img src = 'https://i.ytimg.com/vi/mcG_wcR4e6M/maxresdefault.jpg' width = 200>"
   ]
  },
  {
   "cell_type": "markdown",
   "id": "65aa0404-f7ae-495e-864c-1aec01b4255e",
   "metadata": {},
   "source": [
    "# Principio de fomento a la ciencia abierta, enseñar en el acceso a los datos públicos y el uso de software de código abierto  \n"
   ]
  },
  {
   "cell_type": "markdown",
   "id": "18ae9b87",
   "metadata": {},
   "source": [
    "\n",
    "<img src = 'https://unesdoc.unesco.org/in/rest/Thumb/image?id=p%3A%3Ausmarcdef_0000379949_spa&author=UNESCO&title=Recomendaci%C3%B3n+de+la+UNESCO+sobre+la+Ciencia+Abierta&year=2021&publisher=UNESCO&TypeOfDocument=UnescoPhysicalDocument&mat=PGD&ct=true&size=512&isPhysical=1' width = 200>"
   ]
  },
  {
   "cell_type": "markdown",
   "id": "d9559f85",
   "metadata": {},
   "source": [
    "El enfoque STEAMS en educación preescolar, primaria y secundaria es una extensión del enfoque STEM (Ciencia, Tecnología, Ingeniería y Matemáticas) y su variante STEAM, que incorpora el Arte. "
   ]
  },
  {
   "cell_type": "markdown",
   "id": "0130ec1b",
   "metadata": {},
   "source": [
    "\n",
    "<img src = 'https://www.campuseducacion.com/blog/wp-content/uploads/2023/03/foto01-1.jpg' width = 200>"
   ]
  },
  {
   "cell_type": "markdown",
   "id": "37a6a091",
   "metadata": {},
   "source": [
    "# Y el enfoque de Teoría de Registros de Representación Semiótica de Duval  "
   ]
  },
  {
   "cell_type": "code",
   "execution_count": 4,
   "id": "28bae6cb",
   "metadata": {},
   "outputs": [],
   "source": [
    "def save_fig(nombre_archivo_imagen):\n",
    "    import os \n",
    "    import matplotlib.pyplot as plt\n",
    "    ubicacion_para_imagenes = r\"C:/Users/marco/Downloads\"\n",
    "    imagen_path = os.path.join(ubicacion_para_imagenes, nombre_archivo_imagen)\n",
    "    plt.savefig(imagen_path, bbox_inches='tight')"
   ]
  },
  {
   "cell_type": "markdown",
   "id": "10e55ccf",
   "metadata": {},
   "source": [
    "# Estructura general para todas las clases\n"
   ]
  },
  {
   "cell_type": "markdown",
   "id": "ddd73417",
   "metadata": {},
   "source": [
    "\n",
    "Dame, por favor, un diseño de clase, con el enfoque: \"Aula Invertida, STEAMS, de Aprendizaje Basado en Problemas y Proyectos (ABPP) y de Teoría de Registros de Representación Semiótica (TRRS) de Duval\" sobre: \"[Tema de la clase]: un enfoque para la clase de álgebra y trigonometría según el programa de curso: https://github.com/marco-canas/algebra_y_trigonometria/blob/main/0_programa_curso/1_programa_algebra_and_trigonometry.md; y para el curso de Geometría Euclidiana, analítica y vectorial.\", siguiendo la estructura:  \n",
    "\n",
    "\n",
    "\n",
    "1. Título de la clase   \n",
    "   \n",
    "2. Objetivo de aprendizaje que incluyan los indicadores del logro de estos objetivos. \n",
    "   \n",
    "3. Un mapa conceptual que resuma la clase elaborado en Graphviz de python con nodos y edges de diferentes formas, colores y rellenos y renderizado en la siguiente ubicación: `\"C:\\Users\\marco\\Downloads\"`.  No olvides el parámetro `view = True` para el método `render()` de Graphviz. Para este mapa controla las superposiciones de los nodos con: graph [overlap=false]; // Elimina superposiciones (puede aumentar el espacio)\n",
    "graph [overlap=\"scalexy\"]; // Escala el gráfico para evitar overlaps\n",
    "graph [overlap=\"compress\"]; // Comprime el grafo sin overlaps  \n",
    "   \n",
    "4. Elementos históricos y epistemológicos relevantes para la clase, pero narrados como una historieta al estilo de un cuentero antioqueño en Colombia. Incluye imágenes de los protagonistas históricos de esta clase.  \n",
    "   \n",
    "5. Contenido de la clase:     \n",
    "   \n",
    "          \n",
    "        \n",
    "6. Actividades de aprendizaje:   \n",
    "   \n",
    "7. Incluye una canción o un poema que ayude a interiorizar y fijar los conceptos asociados a esta clase.   \n",
    "   \n",
    "8.  Tarea o actividades de ejercitación y fijación. Incluye 20 ejercicios de tarea en las que los estudiantes empiecen con la descripción geométrica del algoritmo, luego la descripción verbal y secuencial del algoritmo, después la implementación en lenguaje python editado a través de la terminal powershell de su computador y finalmente con el cálculo a mano y en su cuaderno. Crea una función de usuario de Python que asigne esta tareas a cada uno de los estudiantes matriculados en este curso tomando la ubicación de los estudiantes dada en este prompt.  \n",
    "    \n",
    "9. Evaluación incluyendo 20 proyectos, un ejemplo de quiz (con tres items) y un ejemplo de parcial (con 5 items). Incluye evaluaciones en las que los estudiantes empiecen con la descripción geométrica del algoritmo, luego la descripción verbal y secuencial del algoritmo, después la implementación en lenguaje python editado a través de la terminal powershell de su computador, y finalmente con el cálculo algebraico y numérico a mano y en su cuaderno. \n",
    "    \n",
    "10. Diseño de actividad de retroalimentación.   \n",
    "    \n",
    "11. Dame un vocabulario y frases del idioma inglés asociadas a esta clase.    \n",
    "     \n",
    "12. Incluye apéndice para la clase sobre desarrollo de habilidades para trabajar en equipo y de asertividad y empatía para relacionarnos. También elementos de la inteligencia emocional para presentar pruebas sin temor y sin realizar fraude en ellas.    \n",
    "     \n",
    "13. Incluye 10 referentes en didáctica de la matemática que estén de acuerdo a la propuesta didáctica de esta clase. Adiciona a estos referentes a Raymond Duval (Representaciones y cambios de representación para la adquisición de conceptos matemáticos) y a [Jeannette Wing](https://es.wikipedia.org/wiki/Jeannette_Wing) (Desarrollo del pensamiento computacional). Déjame todos estos referentes ordenados de acuerdo a las normas APA. Al crear la clase, introduce las citas de estos autores en el texto de la clase.\n",
    "\n",
    "\n",
    "Pero  que este diseño sea para que el estudiante pueda aprender experimentando en cuadernos Jupyter con funciones de usuario y animaciones y visualizaciones en python.   \n",
    "\n",
    "En particular utiliza para el diseño de clase a Numpy, Pandas, SymPy, Matplotlib.pyplot, Seaborn, Plotly, ipywidgets, matplotlib.animation, TensorFlow, Keras y Jupyter Notebook.    \n",
    "\n",
    "Cada vez que utilices `matplotlib.animacion` no olvides incluir el uso de `IPython. display` para la rederización de estas animaciones a través de Jupyter Notebook. No olvides darme los diseños de clase con las ecuaciones matemáticas delimitadas con signo de dolar $ para que VS Code si me renderize estas expresiones del lenguaje latex. Cuando vallas a utilizar ipywidgets ten en cuenta la siguiente importación inicial para garantizar que la visualización interactiva si se renderize en VS Code:   \n",
    "\n",
    "\n",
    "Ubicación del diseño de investigación IAE: https://github.com/marco-canas/algebra_y_trigonometria/blob/main/1_plan_curso/0_dise%C3%B1o_invts_IAE.md\n",
    "\n",
    "Ubicación del programa del curso: [aquí](un enfoque para la clase de álgebra y trigonometría según el programa de curso: https://github.com/marco-canas/algebra_y_trigonometria/blob/main/0_programa_curso/1_programa_algebra_and_trigonometry.md)   \n",
    "\n",
    "Ubicación del texto Guía: https://archive.org/details/algebra-y-trigonometria-con-geometria-analitica-13va-edicion-earl-w.-swokowski/page/n3/mode/2up\n",
    "\n",
    "Ubicación de la lista de estudiantes matriculados: [Aquí](https://github.com/marco-canas/groups_list/blob/main/vector_geometry_and_linear_algebra.xlsx)  \n",
    "\n",
    "\n",
    "\n",
    "\n",
    "\n"
   ]
  },
  {
   "cell_type": "markdown",
   "id": "f39ebbcb",
   "metadata": {},
   "source": [
    "# Ejemplo de la sección 2.1 de Swokowski sobre Problemas de aplicación de ecuaciones lineales y ecuaciones con expresiones racionales  \n",
    "\n"
   ]
  },
  {
   "cell_type": "markdown",
   "id": "b81b9eff",
   "metadata": {},
   "source": [
    "# Ejemplo 1: Página 84 del Swokowski ed. 13. \n",
    "\n",
    "## Promedio de examen  \n",
    "\n",
    "Un estudiante en un curso de álgebra tiene calificaciones de examen de 64 y 78.  \n",
    "¿Qué calificación en un tercer examen dará al estudiante un promedio de 80?  \n"
   ]
  },
  {
   "cell_type": "markdown",
   "id": "874f2b56",
   "metadata": {},
   "source": [
    "# Ejemplo 2: Página 84 del Swokowski ed. 13. \n",
    "\n",
    "## Cálculodelprecioenunapreventa  \n",
    "\n",
    " Unatiendaderopaquerealizaunaventadeliquidaciónanunciaquetodoslos\n",
    " precios tienenundescuentode20%.Siunacamisaestáa laventaen$28,\n",
    " ¿cuálessupreciodepreventa?"
   ]
  },
  {
   "cell_type": "markdown",
   "id": "c14ffa35",
   "metadata": {},
   "source": [
    "# Ejemplo 3: Página 84 del Swokowski ed. 13. \n",
    "\n",
    "## "
   ]
  },
  {
   "cell_type": "markdown",
   "id": "48cde9ee",
   "metadata": {},
   "source": [
    "# Ejemplo 4: Página 84 del Swokowski ed. 13. \n",
    "\n",
    "## "
   ]
  },
  {
   "cell_type": "markdown",
   "id": "5f834411",
   "metadata": {},
   "source": [
    "# Ejemplo 5: Página 84 del Swokowski ed. 13. \n",
    "\n",
    "## "
   ]
  },
  {
   "cell_type": "markdown",
   "id": "8df4e432",
   "metadata": {},
   "source": [
    "# Ejemplo 6: Página 84 del Swokowski ed. 13. \n",
    "\n",
    "## "
   ]
  },
  {
   "cell_type": "markdown",
   "id": "bfafa839",
   "metadata": {},
   "source": [
    "# Ejemplo 7: Página 84 del Swokowski ed. 13. \n",
    "\n",
    "## Construccióndeunatolvadeelevadordegranos  \n",
    "\n",
    "Una tolva de elevador de granos ha de construirse como se indica en la figura 4, con un cilindro circular recto de 2 pies de radio y altura de h pies sobre un cono circular recto cuya altura es la mitad de la del cilindro. ¿Qué valor de $h$ hará que el volumen total $V$ de la tolva sea $500 ft^{3}$? \n"
   ]
  },
  {
   "cell_type": "markdown",
   "id": "62b7d43a",
   "metadata": {},
   "source": [
    "\n",
    "<img src = 'fig_4_sec_2_2.png' width = 400>"
   ]
  },
  {
   "cell_type": "markdown",
   "id": "405c0062",
   "metadata": {},
   "source": []
  },
  {
   "cell_type": "markdown",
   "id": "dd6a9fbd",
   "metadata": {},
   "source": [
    "# Ejemplo 8: Página 84 del Swokowski ed. 13. \n",
    "\n",
    "##  Tiempo requerido para realizar un trabajo  \n",
    "\n",
    "Se cuenta con dos bombas para llenar un tanque de almacenamiento de combustible.    \n",
    "La bomba $A$, empleada sola, puede llenar el tanque en 3 horas, y la bomba $B$, empleada sola, puede llenarlo en 4 horas.   \n",
    " \n",
    "Si ambas bombas se usan simultáneamente, ¿cuánto tardará en llenarse el tanque?"
   ]
  },
  {
   "cell_type": "markdown",
   "id": "3ab73d21",
   "metadata": {},
   "source": [
    "Esta es una **guía didáctica** completa (explicación algebraica en $\\LaTeX$, interpretación física, y código Python listo para ejecutar en un cuaderno Jupyter) que resuelve el problema y además **simula** el llenado del tanque con `matplotlib` e `ipywidgets`. Puedes copiar y pegar el código en un notebook (Jupyter / Colab con soporte de `ipywidgets`) y ejecutarlo.\n",
    "\n",
    "---\n",
    "\n",
    "# Guía didáctica — Tiempo requerido para llenar el tanque (Ejemplo Swokowski, pág. 84)\n",
    "\n",
    "## 1. Enunciado (resumido)\n",
    "\n",
    "La bomba $A$, sola, llena el tanque en $3$ horas.\n",
    "La bomba $B$, sola, llena el tanque en $4$ horas.\n",
    "Si se usan ambas simultáneamente, ¿cuánto tiempo tardan en llenar el tanque?\n",
    "\n",
    "---\n"
   ]
  },
  {
   "cell_type": "markdown",
   "id": "596ff80f",
   "metadata": {},
   "source": [
    "\n",
    "## 2. Planteamiento y solución algebraica (LaTeX)\n",
    "\n",
    "Sea $T$ el tiempo (en horas) que tardan las dos bombas trabajando juntas para llenar **1 tanque**.\n",
    "\n",
    "La **tasa** de trabajo (fracción del tanque llenado por unidad de tiempo) de cada bomba es:\n",
    "\n",
    "$$\n",
    "\\text{tasa}_A=\\frac{1}{3}\\ \\text{tanques/hora},\\qquad\n",
    "\\text{tasa}_B=\\frac{1}{4}\\ \\text{tanques/hora}.\n",
    "$$\n",
    "\n",
    "Trabajando juntas, las tasas se suman (asumiendo que no hay interferencia):\n",
    "\n",
    "$$\n",
    "\\text{tasa}_{A+B}=\\frac{1}{3}+\\frac{1}{4}.\n",
    "$$\n",
    "\n",
    "Calculemos la suma:\n",
    "\n",
    "$$\n",
    "\\frac{1}{3}+\\frac{1}{4}=\\frac{4}{12}+\\frac{3}{12}=\\frac{7}{12}\\ \\text{tanques/hora}.\n",
    "$$\n",
    "\n",
    "Si la velocidad conjunta es $\\dfrac{7}{12}$ tanques/hora, el tiempo $T$ para llenar 1 tanque satisface\n",
    "\n",
    "$$\n",
    "\\left(\\frac{7}{12}\\right)T = 1 \\quad\\Rightarrow\\quad T=\\frac{1}{7/12}=\\frac{12}{7}\\ \\text{horas}.\n",
    "$$\n",
    "\n",
    "Expresado en horas, minutos y segundos:\n",
    "\n",
    "$$\n",
    "\\frac{12}{7}=1+\\frac{5}{7}\\ \\text{horas}=1\\ \\text{hora}+\\frac{5}{7}\\cdot 60\\ \\text{min}\n",
    "$$\n",
    "\n",
    "$$\n",
    "\\frac{5}{7}\\cdot 60=\\frac{300}{7}=42\\ \\text{min}+\\frac{6}{7}\\ \\text{min}=\n",
    "42\\ \\text{min}+0.857142\\ \\text{min}\n",
    "$$\n",
    "\n",
    "$$\n",
    "0.857142\\ \\text{min}\\times 60\\ \\text{s/min}=51.428571\\ \\text{s}.\n",
    "$$\n",
    "\n",
    "Por tanto:\n",
    "\n",
    "$$\n",
    "T=\\frac{12}{7}\\ \\text{h}\\approx 1\\ \\text{h}\\ 42\\ \\text{min}\\ 51.43\\ \\text{s}.\n",
    "$$\n",
    "\n",
    "(Comprobación numérica rápida: $\\dfrac{7}{12}\\approx 0.5833333$ tanques/h → $1/0.5833333\\approx1.7142857$ h.)\n",
    "\n",
    "---\n"
   ]
  },
  {
   "cell_type": "markdown",
   "id": "10f3437c",
   "metadata": {},
   "source": [
    "\n",
    "## 3. Interpretación didáctica breve\n",
    "\n",
    "* Cada bomba llena una fracción del tanque por hora. Cuando trabajan juntas, sus fracciones se suman.\n",
    "* El resultado es menor que el tiempo que tarda la bomba más rápida (3 h), porque trabajar en conjunto acelera el proceso.\n",
    "* Este tipo de problemas ilustra la suma de **tasas** y la idea de \"parte por unidad de tiempo\".\n",
    "\n",
    "---\n"
   ]
  },
  {
   "cell_type": "markdown",
   "id": "e300aa84",
   "metadata": {},
   "source": [
    "\n",
    "## 4. Simulación interactiva en Python (Jupyter notebook)\n",
    "\n",
    "A continuación te doy un script que puedes ejecutar en un cuaderno Jupyter. Usa `matplotlib` para graficar una sola barra que muestra el progreso del tanque y `ipywidgets` para seleccionar cuál bomba está activa: *A*, *B* o *A+B*. También incluye animación con un deslizador de tiempo.\n",
    "\n",
    "> **Requisitos**: ejecutar en Jupyter (o JupyterLab) con `ipywidgets` instalado y habilitado. En Colab hay que usar `jupyter-dash` o alternativas; en Jupyter local basta con `pip install ipywidgets` y `jupyter nbextension enable --py widgetsnbextension` si es necesario.\n"
   ]
  },
  {
   "cell_type": "code",
   "execution_count": 1,
   "id": "17f0df4d",
   "metadata": {},
   "outputs": [
    {
     "name": "stdout",
     "output_type": "stream",
     "text": [
      "Tasa A = 0.333333 tanques/h, Tasa B = 0.250000 tanques/h\n",
      "Tasa A+B = 0.583333 tanques/h → Tiempo A+B = 1.714286 h (102.86 min)\n"
     ]
    },
    {
     "data": {
      "application/vnd.jupyter.widget-view+json": {
       "model_id": "89608b2359d74e1da5425d27e3a86776",
       "version_major": 2,
       "version_minor": 0
      },
      "text/plain": [
       "VBox(children=(HBox(children=(Dropdown(description='Bomba:', index=2, options=('A', 'B', 'A+B'), value='A+B'),…"
      ]
     },
     "metadata": {},
     "output_type": "display_data"
    },
    {
     "name": "stdout",
     "output_type": "stream",
     "text": [
      "\n",
      "Solución exacta: T = 12/7 h = 1.714285714286 h ≈ 1 h 42 min 51.43 s\n"
     ]
    }
   ],
   "source": [
    "# Código: simulación del llenado del tanque con matplotlib + ipywidgets\n",
    "# Guarda este bloque en un notebook Jupyter y ejecútalo.\n",
    "\n",
    "import numpy as np\n",
    "import matplotlib.pyplot as plt\n",
    "import matplotlib.ticker as mtick\n",
    "from ipywidgets import interact, Dropdown, FloatSlider, Play, jslink, HBox, VBox, Button\n",
    "import ipywidgets as widgets\n",
    "from IPython.display import display, clear_output\n",
    "\n",
    "# Parámetros: tiempos individuales\n",
    "t_A = 3.0   # horas que tarda la bomba A sola\n",
    "t_B = 4.0   # horas que tarda la bomba B sola\n",
    "\n",
    "# Tasas (tanques por hora)\n",
    "rate_A = 1.0 / t_A\n",
    "rate_B = 1.0 / t_B\n",
    "\n",
    "# Tiempo total esperado con ambas:\n",
    "rate_AB = rate_A + rate_B\n",
    "T_AB = 1.0 / rate_AB\n",
    "\n",
    "print(f\"Tasa A = {rate_A:.6f} tanques/h, Tasa B = {rate_B:.6f} tanques/h\")\n",
    "print(f\"Tasa A+B = {rate_AB:.6f} tanques/h → Tiempo A+B = {T_AB:.6f} h ({T_AB*60:.2f} min)\")\n",
    "\n",
    "# Simulación: función de progreso\n",
    "def progreso(t_hours, modo):\n",
    "    \"\"\"\n",
    "    Devuelve fracción de tanque llena después de t_hours según modo:\n",
    "    modo in ['A','B','A+B']\n",
    "    \"\"\"\n",
    "    if modo == 'A':\n",
    "        frac = rate_A * t_hours\n",
    "    elif modo == 'B':\n",
    "        frac = rate_B * t_hours\n",
    "    elif modo == 'A+B':\n",
    "        frac = rate_AB * t_hours\n",
    "    else:\n",
    "        frac = 0.0\n",
    "    # Limitar a 1 (tanque lleno)\n",
    "    return min(max(frac, 0.0), 1.0)\n",
    "\n",
    "# Función de dibujo\n",
    "def dibujar(t_hours, modo):\n",
    "    frac = progreso(t_hours, modo)\n",
    "    percent = frac * 100.0\n",
    "\n",
    "    fig, ax = plt.subplots(figsize=(6,2.2))\n",
    "    ax.barh([0], [frac], height=0.6)               # la barra que crece de 0 a 1\n",
    "    ax.barh([0], [1-frac], left=[frac], height=0.6, alpha=0.1)  # porción vacía visual\n",
    "    ax.set_xlim(0, 1)\n",
    "    ax.set_ylim(-0.7, 0.7)\n",
    "    ax.set_yticks([])\n",
    "    ax.set_xlabel(\"Fracción del tanque (0 → vacío, 1 → lleno)\")\n",
    "    ax.xaxis.set_major_formatter(mtick.PercentFormatter(1.0))  # coloca % de 0..100\n",
    "    # Texto informativo\n",
    "    ax.text(0.5, 0.12, f\"Bomba(s): {modo}    Tiempo: {t_hours:.3f} h ({t_hours*60:.1f} min)\\n\"\n",
    "                        f\"Progreso: {percent:.2f} %\", ha='center', va='center', fontsize=10)\n",
    "    ax.spines['top'].set_visible(False)\n",
    "    ax.spines['right'].set_visible(False)\n",
    "    ax.spines['left'].set_visible(False)\n",
    "    plt.tight_layout()\n",
    "    plt.show()\n",
    "\n",
    "# Widgets: selector de modo y deslizador de tiempo\n",
    "modo_widget = Dropdown(options=['A', 'B', 'A+B'], value='A+B', description='Bomba:')\n",
    "# Definimos el máximo del deslizador para que supere el tiempo requerido (por ejemplo 0..max_h)\n",
    "max_h = max(t_A, t_B, T_AB) * 1.2\n",
    "slider_t = FloatSlider(value=0.0, min=0.0, max=max_h, step=0.01, description='Tiempo (h):',\n",
    "                       readout_format='.2f', continuous_update=True)\n",
    "\n",
    "# Play para animar el tiempo\n",
    "play = Play(min=0, max=int(max_h*100), step=1, interval=50)  # 100 pasos por hora\n",
    "jslink((play, 'value'), (slider_t, 'value'))\n",
    "\n",
    "# Botón para colocar tiempo en el valor exacto de A+B (solución analítica)\n",
    "btn_Tab = Button(description='Ir a T_{A+B}', tooltip='Coloca el tiempo en la solución analítica')\n",
    "def on_btn_clicked(b):\n",
    "    slider_t.value = T_AB\n",
    "btn_Tab.on_click(on_btn_clicked)\n",
    "\n",
    "# Visualización interactiva (combinamos controles)\n",
    "ui = HBox([modo_widget, play, slider_t, btn_Tab])\n",
    "out = widgets.interactive_output(dibujar, {'t_hours': slider_t, 'modo': modo_widget})\n",
    "\n",
    "display(VBox([ui, out]))\n",
    "\n",
    "# Indicaciones extra: mostrar la solución exacta en horas/minutos/segundos\n",
    "h = int(T_AB)\n",
    "m = int((T_AB - h) * 60)\n",
    "s = (T_AB - h - m/60.0) * 3600.0\n",
    "print(f\"\\nSolución exacta: T = 12/7 h = {T_AB:.12f} h ≈ {h} h {m} min {s:.2f} s\")\n",
    "\n"
   ]
  },
  {
   "cell_type": "markdown",
   "id": "2d3a5eb5",
   "metadata": {},
   "source": [
    "\n",
    "### Qué hace el código\n",
    "\n",
    "* Calcula las tasas de llenado de $A$, $B$ y $A+B$.\n",
    "* Muestra en consola la tasa conjunta y el tiempo teórico $T_{A+B}$.\n",
    "* Dibuja una barra horizontal que representa la fracción del tanque llena.\n",
    "* Proporciona un `Dropdown` para elegir `A`, `B` o `A+B`.\n",
    "* Un `FloatSlider` controla el tiempo de simulación (en horas); un `Play` permite animar la evolución con el tiempo.\n",
    "* Un botón coloca el tiempo en el valor analítico $T_{A+B}$ para ver que la barra llega al 100%.\n",
    "\n",
    "---\n"
   ]
  },
  {
   "cell_type": "markdown",
   "id": "1838c1a1",
   "metadata": {},
   "source": [
    "\n",
    "## 5. Sugerencias didácticas para la clase\n",
    "\n",
    "1. **Inicio (5 min)**: Pregunta conceptual — ¿por qué suman las tasas? Explica con la idea de \"parte por hora\".\n",
    "2. **Desarrollo (10–15 min)**:\n",
    "\n",
    "   * Mostrar la derivación algebraica en $\\LaTeX$.\n",
    "   * Hacer un ejemplo numérico: evaluar cuánto llenan A y B en 1 hora y en 1.5 horas.\n",
    "3. **Simulación práctica (15–20 min)**:\n",
    "\n",
    "   * Ejecutar el notebook y dejar que los estudiantes manipulen el deslizador y el selector.\n",
    "   * Pedir que observen: ¿qué pasa si se usa solo A y se usa solo B? ¿Cómo cambia la pendiente (tasa)?\n",
    "   * Pedir que ajusten `max_h` para ver comportamiento en tiempos mayores a $T_{A+B}$.\n",
    "4. **Cierre (5–10 min)**:\n",
    "\n",
    "   * Comprobación: llevar el slider a $T_{A+B}$ y verificar que el tanque esté lleno.\n",
    "   * Pregunta extendida: ¿qué pasa si la bomba B falla parcialmente y solo trabaja al 50% de su capacidad? Rehacer la simulación cambiando `rate_B` a `0.5*rate_B`.\n",
    "\n",
    "---\n"
   ]
  },
  {
   "cell_type": "markdown",
   "id": "986c0b72",
   "metadata": {},
   "source": [
    "\n",
    "## 6. Variantes / ejercicios adicionales\n",
    "\n",
    "* Supón que hay una fuga que vacía el tanque a razón de $1/12$ tanques/h. ¿Cuánto tardan A y B juntos ahora?\n",
    "\n",
    "  * (Resolver: tasa neta = $1/3+1/4-1/12 = 1/2$ → tiempo = 2 h.)\n",
    "* ¿Qué pasa si la bomba B trabaja durante solo los primeros 1.5 horas y luego se detiene? Modelar la fracción final.\n",
    "* Generalizar al caso de $n$ bombas con tiempos $t_1, t_2, \\dots, t_n$.\n",
    "\n",
    "---\n"
   ]
  },
  {
   "cell_type": "markdown",
   "id": "8c78d8cf",
   "metadata": {},
   "source": [
    "\n",
    "Si quieres, puedo:\n",
    "\n",
    "* Prepararte el mismo notebook ya ejecutable (archivo `.ipynb`) y darte instrucciones para descargarlo.\n",
    "* Añadir el caso con **fugas** o **rendimiento variable** (porcentaje de capacidad) y actualizar la interfaz para permitir cambiar porcentajes de rendimiento de cada bomba.\n",
    "\n",
    "¿Quieres que genere el archivo `.ipynb` listo para descargar o que añada la variante de fuga/eficiencia?\n"
   ]
  },
  {
   "cell_type": "markdown",
   "id": "cc539357",
   "metadata": {},
   "source": [
    "# [Programación de programa Regiones](https://lookerstudio.google.com/reporting/44e71da0-d16f-4a51-a51e-d5ae6c19b3f1/page/p_gy4nwf37hd?pli=1)"
   ]
  },
  {
   "cell_type": "markdown",
   "id": "8ba64aed",
   "metadata": {},
   "source": [
    "# Cursos que orienta el profesor Marco Julio Cañas Campillo en 2025  \n",
    "\n",
    "1. Lunes 8 a 12: Fundamentos de Lógica: Licenciatura en Matemáticas . \n",
    "2. Martes de 9 a 10: Curso de ML and DL para Ingeniero Juan Gomez en España.  \n",
    "3. Martes de 2 a 5 PM: Vector Geometry and Linear Algebra.  \n",
    "4. Miércoles: 10 a 11: Reunión equipo investigador SAT Dengue. \n",
    "5. Miércoles 2 a 3 PM: Asesoría Trabajo de Grado Janis (Estudiante de Biología).  \n",
    "6. Viernes 2 a 6 PM: Análisis Numérico: Programa de Licenciatura en Matemáticas."
   ]
  },
  {
   "cell_type": "markdown",
   "id": "8d41fe58",
   "metadata": {
    "slideshow": {
     "slide_type": "slide"
    }
   },
   "source": [
    "# Horario de clases del profesor Marco\n",
    "\n",
    "* Lunes 8-12: Fundamentos de Lógica.   \n",
    "* Lunes 2- 6 PM: .  \n",
    "* Martes 9-11 M: Álgebra y Trigonometría. \n",
    "* Miércoles 9 a 11 M: Álgebra y Trigonometría   \n",
    "* Miércoles de 2 a 6 PM: \n",
    "* Jueves 2 a 6 PM:  \n",
    "* Viernes 2 - 4 PM: Análisis Numérico. \n",
    "* Sábados 8-12 Asesorías y espacio para retroalimentación y apoyo al trabajo independiente. "
   ]
  },
  {
   "cell_type": "markdown",
   "id": "ae114e14",
   "metadata": {
    "slideshow": {
     "slide_type": "slide"
    }
   },
   "source": [
    "# Horarios de monitoría y asesoría  \n",
    "\n",
    "* José Luis Guerrero Guerra: Contactar escribiendo al correo: luis.guerrero1@udea.edu.co"
   ]
  },
  {
   "cell_type": "markdown",
   "id": "bf0f9dbf",
   "metadata": {},
   "source": [
    "\n",
    "Coordinador de los cursos de la Facultad de Educación para regiones:    \n",
    "\n",
    "Andrés Vélez: regioneducacion.fedu@udea.edu.co  \n",
    "Coordinador Regiones  \n",
    "Facultad de Educación  \n",
    "Universidad de Antioquia  "
   ]
  },
  {
   "cell_type": "markdown",
   "id": "10bce0d0",
   "metadata": {
    "slideshow": {
     "slide_type": "slide"
    }
   },
   "source": [
    "## Referentes "
   ]
  },
  {
   "cell_type": "markdown",
   "id": "1db3c468",
   "metadata": {
    "slideshow": {
     "slide_type": "slide"
    }
   },
   "source": [
    "* [CALCULO I DE UNA VARIABLE Ron Larson-Bruce Edwards. Mc Graw Hill. 9º Edición](https://www.academia.edu/42139251/CALCULO_I_DE_UNA_VARIABLE_Ron_Larson_Bruce_Edwards_Mc_Graw_Hill_9o_Edici%C3%B3n)   \n",
    "  \n",
    "\n",
    "* [Grajales Vanegas, L. M., Restrepo Estrada, C. E., Restrepo Ochoa, S. I., & Ruíz De Villalba, F. (2015). Matemáticas I para las ciencias económicas.](https://bibliotecadigital.udea.edu.co/handle/10495/3010)\n",
    "  \n",
    "* R. Duval y Semiosis y pensamiento humano, 2.ª ed. Cali, Colombia: Programa Editorial Universidad del Valle, 2017. [En línea]. Disponible en: https://programaeditorial.univalle.edu.co/gpd-semiosis-y-pensamiento-humano-9789587655278-63324cdb0f6b3.html\n",
    "\n",
    "* [Aylwin, C. U. (2011). Lógica, conjuntos y números. Universidad de los Andes, Consejo de Publicaciones, Colección: Ciencias Básicas, Serie: Matemáticas.](chrome-extension://efaidnbmnnnibpcajpcglclefindmkaj/https://www.u-cursos.cl/ciencias/2011/1/MC110/1/material_docente/bajar?id_material=574722)\n",
    "  \n",
    "* [Chollet, F. (2021). Deep learning with Python. Simon and Schuster.](chrome-extension://efaidnbmnnnibpcajpcglclefindmkaj/https://tanthiamhuat.wordpress.com/wp-content/uploads/2018/03/deeplearningwithpython.pdf)  \n",
    "  \n",
    "* [Watson, S., Stewart, J., & Redlin, L. (2009). Precálculo. Matemáticas para el cálculo.](https://github.com/marco-canas/calculo/blob/main/referents/1_precalculo_stewart/stewart_precalculo.pdf)  \n",
    "\n",
    "* [Purcell, E. J., Varberg, D., & Rigdon, S. E. (2007). Cálculo diferencial e integral. Pearson Educación.](https://github.com/marco-canas/calculo/blob/main/referents/purcell/purcell_calculo.pdf)\n",
    "\n",
    "  \n",
    "\n",
    "* [stewart cálculo](https://udeaeduco-my.sharepoint.com/:b:/g/personal/marco_canas_udea_edu_co/EZgXZjAp8QxPqOAim2hs6LcBNPLGjSHf-xwYnUVYkwa04w?e=RZdTCy)  \n",
    "\n",
    "\n",
    "\n",
    "\n",
    "\n",
    "* [Recomendación de la UNESCO sobre ciencia abierta](https://unesdoc.unesco.org/ark:/48223/pf0000379949_spa)\n",
    "\n",
    "* [chatGPT](https://openai.com/blog/chatgpt)  \n",
    "\n",
    "* [Géron, A. (2017). Hands-on machine learning with scikit-learn and tensorflow: Concepts. Tools, and Techniques to build intelligent systems.](chrome-extension://efaidnbmnnnibpcajpcglclefindmkaj/http://14.139.161.31/OddSem-0822-1122/Hands-On_Machine_Learning_with_Scikit-Learn-Keras-and-TensorFlow-2nd-Edition-Aurelien-Geron.pdf)   \n"
   ]
  },
  {
   "cell_type": "markdown",
   "id": "df925560",
   "metadata": {},
   "source": [
    "\n",
    "* [McKinney, W. (2012). Python for data analysis: Data wrangling with Pandas, NumPy, and IPython. \" O'Reilly Media, Inc.\".](https://wesmckinney.com/book/) "
   ]
  },
  {
   "cell_type": "markdown",
   "id": "8e65d6f9",
   "metadata": {},
   "source": [
    "# Como estudiante, encuentro que...   \n",
    "\n",
    "F: Mis Fortalezas son:     \n",
    "O: Mis Oportunidades son:    \n",
    "D: Mis Debilidades son:    \n",
    "A: Lo que Amenazas mi aprendizaje es:  "
   ]
  },
  {
   "cell_type": "markdown",
   "id": "6b9e56a8",
   "metadata": {
    "slideshow": {
     "slide_type": "slide"
    }
   },
   "source": [
    "### [Evaluamos al profesor Marco Cañas Aquí](https://forms.office.com/Pages/ResponsePage.aspx?id=IefhmYRxjkmK_7KtTlPBwkanXIs1i1FEujpsZgO6dXpUREJPV1kxUk1JV1ozTFJIQVNIQjY5WEY3US4u)"
   ]
  },
  {
   "cell_type": "markdown",
   "id": "10f43536",
   "metadata": {
    "slideshow": {
     "slide_type": "slide"
    }
   },
   "source": [
    "### Continue su aprendizaje en la siguiente clase a través del siguiente [vínculo]()"
   ]
  },
  {
   "cell_type": "markdown",
   "id": "53cc9115",
   "metadata": {
    "slideshow": {
     "slide_type": "slide"
    }
   },
   "source": [
    "## Agradecimientos  \n",
    "\n",
    "Doy gracias a Dios por la vida de mi Hijo Joseph Cañas Osorio y la madurez que ha alcanzado. Este hijo me enorgullece y me hace falta abrazarlo cada día. \n",
    "\n",
    "Y a mi esposa Yasmira Emperatriz Barboza Mogollón por su apoyo, orientación y acompañamiento. "
   ]
  },
  {
   "cell_type": "markdown",
   "id": "b6ba1c23",
   "metadata": {},
   "source": [
    "# Apéndice sobre calendarios y coordinaciones \n"
   ]
  },
  {
   "cell_type": "markdown",
   "id": "bf8b6499",
   "metadata": {},
   "source": [
    "## Calendario del semestre académico 2025-2  \n",
    "\n",
    "* Límite evaluación del 40%: 27 de septiembre de 2025  \n",
    "\n",
    "* Terminación de clases: 22 de noviembre de 2025\n",
    "\n",
    "* Exámenes finales: 24 al 29 de noviembre de 2025\n",
    "\n",
    "* Habilitación y validación: 01 al 06 de diciembre 2025\n",
    "\n",
    "* Terminación oficial del semestre: 09 de diciembre de 2025  "
   ]
  },
  {
   "cell_type": "markdown",
   "id": "586ece97",
   "metadata": {},
   "source": [
    "\n",
    "# Estado del arte con citas sobre La tecnología en la enseñanza de las matemáticas  \n",
    "\n",
    "\n",
    "El uso de la tecnología en la enseñanza de las matemáticas encuentra uno de sus pilares en **Papert (1980)**, quien afirmaba que *“los niños no aprenden sobre la computadora, aprenden con la computadora”* (p. 6). En su visión, la programación se convierte en un medio para la construcción activa de significados matemáticos, idea que se enlaza con la epistemología genética de **Piaget (1970)**, quien sostuvo que *“el conocimiento se construye a través de la acción”* (p. 15), y con la perspectiva de **Vygotsky (1978)**, al señalar que *“toda función en el desarrollo cultural del niño aparece dos veces: primero en el plano social y después en el individual”* (p. 57). Estos enfoques coinciden en otorgar a las herramientas culturales un papel esencial en la mediación del aprendizaje.\n",
    "\n",
    "Posteriormente, **Wing (2006)** acuñó el término pensamiento computacional, definiéndolo como *“una habilidad fundamental para todos, no solo para los científicos de la computación”* (p. 33). Esta autora subrayó que debía enseñarse de manera transversal, en paralelo con la lectura, la escritura y la matemática. En la misma línea, el **NCTM (2000)** destacó que *“la tecnología es esencial en la enseñanza y el aprendizaje de las matemáticas; influye en la matemática que se enseña y mejora el aprendizaje de los estudiantes”* (p. 24).\n",
    "\n",
    "Desde la didáctica de las matemáticas, **Duval (2006)** mostró que *“la comprensión matemática requiere la coordinación de al menos dos registros de representación diferentes”* (p. 107), lo que legitima la incorporación de registros digitales como LaTeX, Markdown y Python. Por su parte, **Godino (2017)** planteó que *“el significado de un objeto matemático está constituido por el sistema de prácticas en el que interviene”* (p. 7), con lo cual la práctica digital se convierte en parte constitutiva del aprendizaje matemático.\n",
    "\n",
    "Finalmente, organismos internacionales como la **ACM y el IEEE (2013)** enfatizan que *“las habilidades computacionales son esenciales para el ejercicio profesional en cualquier disciplina”* (p. 12). De esta manera, se consolida un consenso: la enseñanza universitaria de las matemáticas debe integrar herramientas contemporáneas como **Jupyter Notebooks, Python, LaTeX, Markdown e inglés**, no para competir con la enseñanza tradicional, sino para **fortalecer la comprensión matemática, potenciar la comunicación científica y responder a las demandas del mundo laboral**.\n",
    "\n",
    "---\n",
    "\n",
    "✅ Con este estado del arte ya tienes **citas directas y cortas** que le dan más fuerza académica a tu postura.\n",
    "\n",
    "¿Quieres que te prepare también la **lista final de referencias en APA con las páginas exactas de las citas** (para que todo quede perfectamente sustentado en tu documento)?\n"
   ]
  }
 ],
 "metadata": {
  "celltoolbar": "Slideshow",
  "kernelspec": {
   "display_name": ".venv",
   "language": "python",
   "name": "python3"
  },
  "language_info": {
   "codemirror_mode": {
    "name": "ipython",
    "version": 3
   },
   "file_extension": ".py",
   "mimetype": "text/x-python",
   "name": "python",
   "nbconvert_exporter": "python",
   "pygments_lexer": "ipython3",
   "version": "3.11.9"
  },
  "rise": {
   "enable_chalkboard": true,
   "theme": "sky",
   "transition": "zoom"
  }
 },
 "nbformat": 4,
 "nbformat_minor": 5
}
