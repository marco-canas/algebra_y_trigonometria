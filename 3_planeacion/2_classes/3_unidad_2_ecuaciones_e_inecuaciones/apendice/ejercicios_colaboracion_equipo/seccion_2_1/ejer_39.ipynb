{
 "cells": [
  {
   "cell_type": "markdown",
   "id": "dc06dec7",
   "metadata": {
    "slideshow": {
     "slide_type": "slide"
    }
   },
   "source": [
    "<table align=\"left\">\n",
    "  <td>\n",
    "    <a href=\"https://colab.research.google.com/github/marco-canas/algebra_y_trigonometria/blob/main/classes/0_formatos_clase/algebra_and_trigonometry.ipynb\" target=\"_parent\"><img src=\"https://colab.research.google.com/assets/colab-badge.svg\" alt=\"Open In Colab\"/></a>\n",
    "  </td>\n",
    "  <td>\n",
    "    <a target=\"_blank\" href=\"https://kaggle.com/kernels/welcome?src=https://github.com/marco-canas/algebra_y_trigonometria/blob/main/classes/0_formatos_clase/algebra_and_trigonometry.ipynb\"><img src=\"https://kaggle.com/static/images/open-in-kaggle.svg\" /></a>\n",
    "  </td>\n",
    "</table>"
   ]
  },
  {
   "cell_type": "markdown",
   "id": "9eee306b",
   "metadata": {},
   "source": [
    "# generación del QR para el cuaderno de esta clase    \n",
    "\n",
    "Aquí tienes una función de Python que genera un código QR a partir de una URL y lo muestra en un cuaderno Jupyter:\n"
   ]
  },
  {
   "cell_type": "code",
   "execution_count": 1,
   "id": "7e0dbf6e",
   "metadata": {},
   "outputs": [],
   "source": [
    "import qrcode\n",
    "from IPython.display import display\n",
    "\n",
    "def generar_qr_notebook(url):\n",
    "    \"\"\"\n",
    "    Genera un código QR para una URL y lo muestra en un cuaderno Jupyter.\n",
    "    \n",
    "    Parámetros:\n",
    "    url (str): La URL para la cual se generará el código QR.\n",
    "    \n",
    "    Retorna:\n",
    "    None (pero muestra el código QR en el notebook)\n",
    "    \"\"\"\n",
    "    # Crear el objeto QR\n",
    "    qr = qrcode.QRCode(\n",
    "        version=1,\n",
    "        error_correction=qrcode.constants.ERROR_CORRECT_L,\n",
    "        box_size=10,\n",
    "        border=4,\n",
    "    )\n",
    "    \n",
    "    # Añadir la URL al código QR\n",
    "    qr.add_data(url)\n",
    "    qr.make(fit=True)\n",
    "    \n",
    "    # Crear la imagen del QR\n",
    "    img = qr.make_image(fill_color=\"black\", back_color=\"white\")\n",
    "    \n",
    "    # Mostrar la imagen en el notebook\n",
    "    display(img)\n",
    "\n"
   ]
  },
  {
   "cell_type": "code",
   "execution_count": null,
   "id": "79e4ce17",
   "metadata": {},
   "outputs": [],
   "source": [
    "generar_qr_notebook()"
   ]
  },
  {
   "cell_type": "markdown",
   "id": "a6647ca4",
   "metadata": {},
   "source": [
    "\n",
    "### Notas:\n",
    "- La función usa la biblioteca `qrcode` para generar el código y `IPython.display` para mostrarlo en el notebook.\n",
    "- El código QR aparecerá como salida de la celda donde llames a la función.\n",
    "- Puedes ajustar parámetros como `box_size` (tamaño de los cuadrados) o `border` (tamaño del borde) según tus necesidades.\n"
   ]
  },
  {
   "cell_type": "markdown",
   "id": "e0c5b198",
   "metadata": {
    "slideshow": {
     "slide_type": "slide"
    }
   },
   "source": [
    "### [Video de apoyo a la lectura interactiva y experimental de este cuaderno]()"
   ]
  },
  {
   "cell_type": "markdown",
   "id": "41e82203",
   "metadata": {
    "slideshow": {
     "slide_type": "slide"
    }
   },
   "source": [
    "### [Vínculo al programa del curso Algebra_and_trigonometry:  ](https://github.com/marco-canas/algebra_y_trigonometria/blob/main/0_programa_curso/programa_algebra_and_trigonometry.md)\n",
    "Código del curso: 303001  "
   ]
  },
  {
   "cell_type": "markdown",
   "id": "d11ab06d",
   "metadata": {
    "slideshow": {
     "slide_type": "slide"
    }
   },
   "source": [
    "Un reconocimiento a mis estudiantes que han construido conmigo este saber pedagógico:\n",
    "\n",
    "<img src = 'https://github.com/marco-canas/algebra_y_trigonometria/blob/main/images/primera_clase_2025-08-05_a_las_12.06.22.jpg?raw=true'>   \n",
    "\n"
   ]
  },
  {
   "cell_type": "markdown",
   "id": "8a74a56c-0ce6-4ad6-b985-553fd7fb68bb",
   "metadata": {},
   "source": [
    "Reconocimiento a las profesoras destacadas en enseñanza de la matemática en Colombia\n"
   ]
  },
  {
   "cell_type": "code",
   "execution_count": 3,
   "id": "7604880f",
   "metadata": {
    "slideshow": {
     "slide_type": "slide"
    }
   },
   "outputs": [
    {
     "data": {
      "application/vnd.microsoft.datawrangler.viewer.v0+json": {
       "columns": [
        {
         "name": "index",
         "rawType": "int64",
         "type": "integer"
        },
        {
         "name": "Cedula",
         "rawType": "int64",
         "type": "integer"
        },
        {
         "name": "Nombre",
         "rawType": "object",
         "type": "string"
        },
        {
         "name": "Email",
         "rawType": "object",
         "type": "string"
        }
       ],
       "ref": "f6e3adc6-ee8c-49cf-a648-b2092da08f20",
       "rows": [
        [
         "0",
         "1038648096",
         "ACEVEDO BELEÑO SANTIAGO",
         "sacevedo.beleno@udea.edu.co"
        ],
        [
         "1",
         "1038648760",
         "MARIN VILLARREAL PABLO ALEJANDRO",
         "pablo.marin1@udea.edu.co"
        ],
        [
         "2",
         "1193401041",
         "MARTINEZ MANJARREZ DANIELA ESTHER",
         "daniela.martinezm@udea.edu.co"
        ],
        [
         "3",
         "1038108720",
         "MEJIA GUZMAN SAMUEL",
         "samuel.mguzman@udea.edu.co"
        ],
        [
         "4",
         "1038647828",
         "NIEBLES BARRERA ALEXANDER ISAAC",
         "alexander.niebles@udea.edu.co"
        ],
        [
         "5",
         "1045426138",
         "OQUENDO MONA CRISTIAN GABRIEL",
         "cristian.oquendo1@udea.edu.co"
        ],
        [
         "6",
         "1032250901",
         "PINO VERGARA LIZETH",
         "lizeth.pino@udea.edu.co"
        ],
        [
         "7",
         "1038092717",
         "RIVERA GUZMAN CRISTIAN",
         "cristian.rivera2@udea.edu.co"
        ],
        [
         "8",
         "1038110693",
         "ROMERO CALDERA JUAN ESTEBAN",
         "juanesteban.romero@udea.edu.co"
        ],
        [
         "9",
         "1063359347",
         "SANCHEZ PACHECO MOISES DAVID",
         "moises.sanchez1@udea.edu.co"
        ],
        [
         "10",
         "1066600819",
         "TIRADO CHAVARRIA WILFRAN DE JESUS",
         "wilfran.tirado@udea.edu.co"
        ],
        [
         "11",
         "1038136995",
         "VERGARA ACEVEDO SARA CRISTINA",
         "scristina.vergara@udea.edu.co"
        ],
        [
         "12",
         "1007452831",
         "VILORIA SIERRA ALEXANDER",
         "a.viloria1@udea.edu.co"
        ]
       ],
       "shape": {
        "columns": 3,
        "rows": 13
       }
      },
      "text/html": [
       "<div>\n",
       "<style scoped>\n",
       "    .dataframe tbody tr th:only-of-type {\n",
       "        vertical-align: middle;\n",
       "    }\n",
       "\n",
       "    .dataframe tbody tr th {\n",
       "        vertical-align: top;\n",
       "    }\n",
       "\n",
       "    .dataframe thead th {\n",
       "        text-align: right;\n",
       "    }\n",
       "</style>\n",
       "<table border=\"1\" class=\"dataframe\">\n",
       "  <thead>\n",
       "    <tr style=\"text-align: right;\">\n",
       "      <th></th>\n",
       "      <th>Cedula</th>\n",
       "      <th>Nombre</th>\n",
       "      <th>Email</th>\n",
       "    </tr>\n",
       "  </thead>\n",
       "  <tbody>\n",
       "    <tr>\n",
       "      <th>0</th>\n",
       "      <td>1038648096</td>\n",
       "      <td>ACEVEDO BELEÑO SANTIAGO</td>\n",
       "      <td>sacevedo.beleno@udea.edu.co</td>\n",
       "    </tr>\n",
       "    <tr>\n",
       "      <th>1</th>\n",
       "      <td>1038648760</td>\n",
       "      <td>MARIN VILLARREAL PABLO ALEJANDRO</td>\n",
       "      <td>pablo.marin1@udea.edu.co</td>\n",
       "    </tr>\n",
       "    <tr>\n",
       "      <th>2</th>\n",
       "      <td>1193401041</td>\n",
       "      <td>MARTINEZ MANJARREZ DANIELA ESTHER</td>\n",
       "      <td>daniela.martinezm@udea.edu.co</td>\n",
       "    </tr>\n",
       "    <tr>\n",
       "      <th>3</th>\n",
       "      <td>1038108720</td>\n",
       "      <td>MEJIA GUZMAN SAMUEL</td>\n",
       "      <td>samuel.mguzman@udea.edu.co</td>\n",
       "    </tr>\n",
       "    <tr>\n",
       "      <th>4</th>\n",
       "      <td>1038647828</td>\n",
       "      <td>NIEBLES BARRERA ALEXANDER ISAAC</td>\n",
       "      <td>alexander.niebles@udea.edu.co</td>\n",
       "    </tr>\n",
       "    <tr>\n",
       "      <th>5</th>\n",
       "      <td>1045426138</td>\n",
       "      <td>OQUENDO MONA CRISTIAN GABRIEL</td>\n",
       "      <td>cristian.oquendo1@udea.edu.co</td>\n",
       "    </tr>\n",
       "    <tr>\n",
       "      <th>6</th>\n",
       "      <td>1032250901</td>\n",
       "      <td>PINO VERGARA LIZETH</td>\n",
       "      <td>lizeth.pino@udea.edu.co</td>\n",
       "    </tr>\n",
       "    <tr>\n",
       "      <th>7</th>\n",
       "      <td>1038092717</td>\n",
       "      <td>RIVERA GUZMAN CRISTIAN</td>\n",
       "      <td>cristian.rivera2@udea.edu.co</td>\n",
       "    </tr>\n",
       "    <tr>\n",
       "      <th>8</th>\n",
       "      <td>1038110693</td>\n",
       "      <td>ROMERO CALDERA JUAN ESTEBAN</td>\n",
       "      <td>juanesteban.romero@udea.edu.co</td>\n",
       "    </tr>\n",
       "    <tr>\n",
       "      <th>9</th>\n",
       "      <td>1063359347</td>\n",
       "      <td>SANCHEZ PACHECO MOISES DAVID</td>\n",
       "      <td>moises.sanchez1@udea.edu.co</td>\n",
       "    </tr>\n",
       "    <tr>\n",
       "      <th>10</th>\n",
       "      <td>1066600819</td>\n",
       "      <td>TIRADO CHAVARRIA WILFRAN DE JESUS</td>\n",
       "      <td>wilfran.tirado@udea.edu.co</td>\n",
       "    </tr>\n",
       "    <tr>\n",
       "      <th>11</th>\n",
       "      <td>1038136995</td>\n",
       "      <td>VERGARA ACEVEDO SARA CRISTINA</td>\n",
       "      <td>scristina.vergara@udea.edu.co</td>\n",
       "    </tr>\n",
       "    <tr>\n",
       "      <th>12</th>\n",
       "      <td>1007452831</td>\n",
       "      <td>VILORIA SIERRA ALEXANDER</td>\n",
       "      <td>a.viloria1@udea.edu.co</td>\n",
       "    </tr>\n",
       "  </tbody>\n",
       "</table>\n",
       "</div>"
      ],
      "text/plain": [
       "        Cedula                             Nombre  \\\n",
       "0   1038648096            ACEVEDO BELEÑO SANTIAGO   \n",
       "1   1038648760   MARIN VILLARREAL PABLO ALEJANDRO   \n",
       "2   1193401041  MARTINEZ MANJARREZ DANIELA ESTHER   \n",
       "3   1038108720                MEJIA GUZMAN SAMUEL   \n",
       "4   1038647828    NIEBLES BARRERA ALEXANDER ISAAC   \n",
       "5   1045426138      OQUENDO MONA CRISTIAN GABRIEL   \n",
       "6   1032250901                PINO VERGARA LIZETH   \n",
       "7   1038092717             RIVERA GUZMAN CRISTIAN   \n",
       "8   1038110693        ROMERO CALDERA JUAN ESTEBAN   \n",
       "9   1063359347       SANCHEZ PACHECO MOISES DAVID   \n",
       "10  1066600819  TIRADO CHAVARRIA WILFRAN DE JESUS   \n",
       "11  1038136995      VERGARA ACEVEDO SARA CRISTINA   \n",
       "12  1007452831           VILORIA SIERRA ALEXANDER   \n",
       "\n",
       "                             Email  \n",
       "0      sacevedo.beleno@udea.edu.co  \n",
       "1         pablo.marin1@udea.edu.co  \n",
       "2    daniela.martinezm@udea.edu.co  \n",
       "3       samuel.mguzman@udea.edu.co  \n",
       "4    alexander.niebles@udea.edu.co  \n",
       "5    cristian.oquendo1@udea.edu.co  \n",
       "6          lizeth.pino@udea.edu.co  \n",
       "7     cristian.rivera2@udea.edu.co  \n",
       "8   juanesteban.romero@udea.edu.co  \n",
       "9      moises.sanchez1@udea.edu.co  \n",
       "10      wilfran.tirado@udea.edu.co  \n",
       "11   scristina.vergara@udea.edu.co  \n",
       "12          a.viloria1@udea.edu.co  "
      ]
     },
     "execution_count": 3,
     "metadata": {},
     "output_type": "execute_result"
    }
   ],
   "source": [
    "import pandas as pd\n",
    "import numpy as np\n",
    "\n",
    "# Cargar la lista de estudiantes desde el archivo CSV\n",
    "path = 'C:/Users/marco/Documentos/docencia/groups_list/algebra_and_trigonometry.xlsx'\n",
    "df = pd.read_excel(path)\n",
    "df.head(13) \n"
   ]
  },
  {
   "cell_type": "markdown",
   "id": "d7598d0a-d9b7-4ae0-b029-a0ed6ed1130b",
   "metadata": {},
   "source": [
    "\n",
    "# Principios de mi labor docente"
   ]
  },
  {
   "cell_type": "markdown",
   "id": "4f9d8cf9",
   "metadata": {
    "slideshow": {
     "slide_type": "slide"
    }
   },
   "source": [
    "## Modelo general de clase: [aula invertida](https://www3.gobiernodecanarias.org/medusa/ecoescuela/pedagotic/aprendizaje-invertido-flipped-classroom/)"
   ]
  },
  {
   "cell_type": "markdown",
   "id": "eb6ed03a",
   "metadata": {},
   "source": [
    "<img src = 'https://resources.maneuveringthemiddle.com/wp-content/uploads/2020/07/04212706/1-5.png' width = 200>  \n",
    "\n"
   ]
  },
  {
   "cell_type": "markdown",
   "id": "34319cce-a71b-4f64-aab8-b53e521efa40",
   "metadata": {},
   "source": [
    "# Metodología de Aprendizaje Basado en Problemas y Proyectos (ABPP)\n"
   ]
  },
  {
   "cell_type": "markdown",
   "id": "c4f73d81",
   "metadata": {},
   "source": [
    "\n",
    "<img src = 'https://www.unir.net/wp-content/uploads/2020/07/aprendizaje-problemas2-1-1-1-1.jpeg' width = 200>"
   ]
  },
  {
   "cell_type": "markdown",
   "id": "841a985c-bd9b-4dd3-8e4c-893983980af2",
   "metadata": {},
   "source": [
    "# Desarrollo del pensamiento computacional con Lenguajes Python y R, y con archivos Markdown orientado a la formación en ciencia de datos \n",
    "\n"
   ]
  },
  {
   "cell_type": "markdown",
   "id": "3d0eba94",
   "metadata": {},
   "source": [
    "\n",
    "<img src = 'https://i.ytimg.com/vi/mcG_wcR4e6M/maxresdefault.jpg' width = 200>"
   ]
  },
  {
   "cell_type": "markdown",
   "id": "65aa0404-f7ae-495e-864c-1aec01b4255e",
   "metadata": {},
   "source": [
    "# Principio de fomento a la ciencia abierta, enseñar en el acceso a los datos públicos y el uso de software de código abierto  \n"
   ]
  },
  {
   "cell_type": "markdown",
   "id": "18ae9b87",
   "metadata": {},
   "source": [
    "\n",
    "<img src = 'https://unesdoc.unesco.org/in/rest/Thumb/image?id=p%3A%3Ausmarcdef_0000379949_spa&author=UNESCO&title=Recomendaci%C3%B3n+de+la+UNESCO+sobre+la+Ciencia+Abierta&year=2021&publisher=UNESCO&TypeOfDocument=UnescoPhysicalDocument&mat=PGD&ct=true&size=512&isPhysical=1' width = 200>"
   ]
  },
  {
   "cell_type": "markdown",
   "id": "d9559f85",
   "metadata": {},
   "source": [
    "El enfoque STEAMS en educación preescolar, primaria y secundaria es una extensión del enfoque STEM (Ciencia, Tecnología, Ingeniería y Matemáticas) y su variante STEAM, que incorpora el Arte. "
   ]
  },
  {
   "cell_type": "markdown",
   "id": "0130ec1b",
   "metadata": {},
   "source": [
    "\n",
    "<img src = 'https://www.campuseducacion.com/blog/wp-content/uploads/2023/03/foto01-1.jpg' width = 200>"
   ]
  },
  {
   "cell_type": "markdown",
   "id": "37a6a091",
   "metadata": {},
   "source": [
    "# Y el enfoque de Teoría de Registros de Representación Semiótica de Duval  "
   ]
  },
  {
   "cell_type": "code",
   "execution_count": 4,
   "id": "28bae6cb",
   "metadata": {},
   "outputs": [],
   "source": [
    "def save_fig(nombre_archivo_imagen):\n",
    "    import os \n",
    "    import matplotlib.pyplot as plt\n",
    "    ubicacion_para_imagenes = r\"C:/Users/marco/Downloads\"\n",
    "    imagen_path = os.path.join(ubicacion_para_imagenes, nombre_archivo_imagen)\n",
    "    plt.savefig(imagen_path, bbox_inches='tight')"
   ]
  },
  {
   "cell_type": "markdown",
   "id": "10e55ccf",
   "metadata": {},
   "source": [
    "# Estructura general para todas las clases\n"
   ]
  },
  {
   "cell_type": "markdown",
   "id": "ddd73417",
   "metadata": {},
   "source": [
    "\n",
    "Dame, por favor, un diseño de clase, con el enfoque: \"Aula Invertida, STEAMS, de Aprendizaje Basado en Problemas y Proyectos (ABPP) y de Teoría de Registros de Representación Semiótica (TRRS) de Duval\" sobre: \"[Tema de la clase]: un enfoque para la clase de álgebra y trigonometría según el programa de curso: https://github.com/marco-canas/algebra_y_trigonometria/blob/main/0_programa_curso/1_programa_algebra_and_trigonometry.md; y para el curso de Geometría Euclidiana, analítica y vectorial.\", siguiendo la estructura:  \n",
    "\n",
    "\n",
    "\n",
    "1. Título de la clase   \n",
    "   \n",
    "2. Objetivo de aprendizaje que incluyan los indicadores del logro de estos objetivos. \n",
    "   \n",
    "3. Un mapa conceptual que resuma la clase elaborado en Graphviz de python con nodos y edges de diferentes formas, colores y rellenos y renderizado en la siguiente ubicación: `\"C:\\Users\\marco\\Downloads\"`.  No olvides el parámetro `view = True` para el método `render()` de Graphviz. Para este mapa controla las superposiciones de los nodos con: graph [overlap=false]; // Elimina superposiciones (puede aumentar el espacio)\n",
    "graph [overlap=\"scalexy\"]; // Escala el gráfico para evitar overlaps\n",
    "graph [overlap=\"compress\"]; // Comprime el grafo sin overlaps  \n",
    "   \n",
    "4. Elementos históricos y epistemológicos relevantes para la clase, pero narrados como una historieta al estilo de un cuentero antioqueño en Colombia. Incluye imágenes de los protagonistas históricos de esta clase.  \n",
    "   \n",
    "5. Contenido de la clase:     \n",
    "   \n",
    "          \n",
    "        \n",
    "6. Actividades de aprendizaje:   \n",
    "   \n",
    "7. Incluye una canción o un poema que ayude a interiorizar y fijar los conceptos asociados a esta clase.   \n",
    "   \n",
    "8.  Tarea o actividades de ejercitación y fijación. Incluye 20 ejercicios de tarea en las que los estudiantes empiecen con la descripción geométrica del algoritmo, luego la descripción verbal y secuencial del algoritmo, después la implementación en lenguaje python editado a través de la terminal powershell de su computador y finalmente con el cálculo a mano y en su cuaderno. Crea una función de usuario de Python que asigne esta tareas a cada uno de los estudiantes matriculados en este curso tomando la ubicación de los estudiantes dada en este prompt.  \n",
    "    \n",
    "9. Evaluación incluyendo 20 proyectos, un ejemplo de quiz (con tres items) y un ejemplo de parcial (con 5 items). Incluye evaluaciones en las que los estudiantes empiecen con la descripción geométrica del algoritmo, luego la descripción verbal y secuencial del algoritmo, después la implementación en lenguaje python editado a través de la terminal powershell de su computador, y finalmente con el cálculo algebraico y numérico a mano y en su cuaderno. \n",
    "    \n",
    "10. Diseño de actividad de retroalimentación.   \n",
    "    \n",
    "11. Dame un vocabulario y frases del idioma inglés asociadas a esta clase.    \n",
    "     \n",
    "12. Incluye apéndice para la clase sobre desarrollo de habilidades para trabajar en equipo y de asertividad y empatía para relacionarnos. También elementos de la inteligencia emocional para presentar pruebas sin temor y sin realizar fraude en ellas.    \n",
    "     \n",
    "13. Incluye 10 referentes en didáctica de la matemática que estén de acuerdo a la propuesta didáctica de esta clase. Adiciona a estos referentes a Raymond Duval (Representaciones y cambios de representación para la adquisición de conceptos matemáticos) y a [Jeannette Wing](https://es.wikipedia.org/wiki/Jeannette_Wing) (Desarrollo del pensamiento computacional). Déjame todos estos referentes ordenados de acuerdo a las normas APA. Al crear la clase, introduce las citas de estos autores en el texto de la clase.\n",
    "\n",
    "\n",
    "Pero  que este diseño sea para que el estudiante pueda aprender experimentando en cuadernos Jupyter con funciones de usuario y animaciones y visualizaciones en python.   \n",
    "\n",
    "En particular utiliza para el diseño de clase a Numpy, Pandas, SymPy, Matplotlib.pyplot, Seaborn, Plotly, ipywidgets, matplotlib.animation, TensorFlow, Keras y Jupyter Notebook.    \n",
    "\n",
    "Cada vez que utilices `matplotlib.animacion` no olvides incluir el uso de `IPython. display` para la rederización de estas animaciones a través de Jupyter Notebook. No olvides darme los diseños de clase con las ecuaciones matemáticas delimitadas con signo de dolar $ para que VS Code si me renderize estas expresiones del lenguaje latex. Cuando vallas a utilizar ipywidgets ten en cuenta la siguiente importación inicial para garantizar que la visualización interactiva si se renderize en VS Code:   \n",
    "\n",
    "\n",
    "Ubicación del diseño de investigación IAE: https://github.com/marco-canas/algebra_y_trigonometria/blob/main/1_plan_curso/0_dise%C3%B1o_invts_IAE.md\n",
    "\n",
    "Ubicación del programa del curso: [aquí](un enfoque para la clase de álgebra y trigonometría según el programa de curso: https://github.com/marco-canas/algebra_y_trigonometria/blob/main/0_programa_curso/1_programa_algebra_and_trigonometry.md)   \n",
    "\n",
    "Ubicación del texto Guía: https://archive.org/details/algebra-y-trigonometria-con-geometria-analitica-13va-edicion-earl-w.-swokowski/page/n3/mode/2up\n",
    "\n",
    "Ubicación de la lista de estudiantes matriculados: [Aquí](https://github.com/marco-canas/groups_list/blob/main/vector_geometry_and_linear_algebra.xlsx)  \n",
    "\n",
    "\n",
    "\n",
    "\n",
    "\n"
   ]
  },
  {
   "cell_type": "code",
   "execution_count": 3,
   "id": "986b7d8b",
   "metadata": {},
   "outputs": [
    {
     "data": {
      "application/vnd.microsoft.datawrangler.viewer.v0+json": {
       "columns": [
        {
         "name": "index",
         "rawType": "int64",
         "type": "integer"
        },
        {
         "name": "Nombre_del_estudiante",
         "rawType": "int64",
         "type": "integer"
        },
        {
         "name": "ejer_asig_sec_2_1",
         "rawType": "object",
         "type": "unknown"
        },
        {
         "name": "ejer_asig_sec_2_2",
         "rawType": "object",
         "type": "unknown"
        },
        {
         "name": "ejer_asig_sec_2_3",
         "rawType": "object",
         "type": "unknown"
        },
        {
         "name": "ejer_asig_sec_2_4",
         "rawType": "object",
         "type": "unknown"
        },
        {
         "name": "ejer_asig_sec_2_5",
         "rawType": "object",
         "type": "unknown"
        },
        {
         "name": "ejer_asig_sec_2_6",
         "rawType": "object",
         "type": "unknown"
        },
        {
         "name": "ejer_asig_sec_2_7",
         "rawType": "object",
         "type": "unknown"
        }
       ],
       "ref": "d5432ced-5baf-4fe2-9942-45043ba93d76",
       "rows": [
        [
         "1",
         "1038648096",
         "[np.int64(60), np.int64(47), np.int64(58), np.int64(49), np.int64(41)]",
         "[np.int64(25), np.int64(40), np.int64(19)]",
         "[np.int64(67), np.int64(50), np.int64(1), np.int64(18), np.int64(60)]",
         "[np.int64(32), np.int64(4), np.int64(26), np.int64(3)]",
         "[np.int64(26), np.int64(32), np.int64(56), np.int64(40)]",
         "[np.int64(47), np.int64(83), np.int64(87), np.int64(63), np.int64(80)]",
         "[np.int64(7), np.int64(42), np.int64(44)]"
        ],
        [
         "2",
         "1038111190",
         "[np.int64(12), np.int64(7), np.int64(24), np.int64(67), np.int64(78)]",
         "[np.int64(35), np.int64(29), np.int64(11)]",
         "[np.int64(64), np.int64(15), np.int64(5), np.int64(41), np.int64(79)]",
         "[np.int64(12), np.int64(52), np.int64(47), np.int64(42)]",
         "[np.int64(42), np.int64(13), np.int64(25), np.int64(24)]",
         "[np.int64(1), np.int64(49), np.int64(56), np.int64(51), np.int64(26)]",
         "[np.int64(47), np.int64(18), np.int64(17)]"
        ],
        [
         "3",
         "1038113597",
         "[np.int64(8), np.int64(72), np.int64(25), np.int64(33)]",
         "[np.int64(10), np.int64(30)]",
         "[np.int64(40), np.int64(2), np.int64(39), np.int64(34), np.int64(30)]",
         "[np.int64(49), np.int64(53), np.int64(18), np.int64(35)]",
         "[np.int64(22), np.int64(35), np.int64(63), np.int64(51)]",
         "[np.int64(33), np.int64(3), np.int64(69), np.int64(23), np.int64(65)]",
         "[np.int64(36), np.int64(43), np.int64(16)]"
        ],
        [
         "4",
         "1038108190",
         "[np.int64(46), np.int64(73), np.int64(52), np.int64(13)]",
         "[np.int64(28), np.int64(8)]",
         "[np.int64(66), np.int64(4), np.int64(31), np.int64(82), np.int64(62)]",
         "[np.int64(6), np.int64(23), np.int64(21), np.int64(19)]",
         "[np.int64(19), np.int64(7), np.int64(31), np.int64(36)]",
         "[np.int64(84), np.int64(58), np.int64(6), np.int64(79), np.int64(25)]",
         "[np.int64(41), np.int64(54), np.int64(22)]"
        ],
        [
         "5",
         "1038648760",
         "[np.int64(9), np.int64(74), np.int64(31), np.int64(19)]",
         "[np.int64(4), np.int64(24)]",
         "[np.int64(47), np.int64(29), np.int64(36), np.int64(21), np.int64(9)]",
         "[np.int64(38), np.int64(45), np.int64(56), np.int64(55)]",
         "[np.int64(43), np.int64(44), np.int64(2), np.int64(62)]",
         "[np.int64(86), np.int64(10), np.int64(76), np.int64(4), np.int64(82)]",
         "[np.int64(12), np.int64(11), np.int64(1)]"
        ],
        [
         "6",
         "1193401041",
         "[np.int64(48), np.int64(57), np.int64(29), np.int64(69)]",
         "[np.int64(31), np.int64(5)]",
         "[np.int64(71), np.int64(59), np.int64(42), np.int64(24), np.int64(78)]",
         "[np.int64(15), np.int64(57), np.int64(7)]",
         "[np.int64(45), np.int64(52), np.int64(5), np.int64(66)]",
         "[np.int64(39), np.int64(46), np.int64(53), np.int64(75), np.int64(78)]",
         "[np.int64(8), np.int64(51), np.int64(38)]"
        ],
        [
         "7",
         "1038108720",
         "[np.int64(17), np.int64(18), np.int64(15), np.int64(23)]",
         "[np.int64(17), np.int64(36)]",
         "[np.int64(51), np.int64(57), np.int64(7), np.int64(52), np.int64(73)]",
         "[np.int64(1), np.int64(39), np.int64(46)]",
         "[np.int64(3), np.int64(14), np.int64(67), np.int64(33)]",
         "[np.int64(13), np.int64(29), np.int64(15), np.int64(89), np.int64(77)]",
         "[np.int64(27), np.int64(26), np.int64(30)]"
        ],
        [
         "8",
         "1038647828",
         "[np.int64(11), np.int64(21), np.int64(22), np.int64(50)]",
         "[np.int64(37), np.int64(26)]",
         "[np.int64(33), np.int64(81), np.int64(76), np.int64(77)]",
         "[np.int64(29), np.int64(54), np.int64(16)]",
         "[np.int64(8), np.int64(39), np.int64(28), np.int64(23)]",
         "[np.int64(24), np.int64(72), np.int64(54), np.int64(16), np.int64(36)]",
         "[np.int64(9), np.int64(10), np.int64(13)]"
        ],
        [
         "9",
         "1045426138",
         "[np.int64(14), np.int64(63), np.int64(62), np.int64(77)]",
         "[np.int64(16), np.int64(1)]",
         "[np.int64(17), np.int64(58), np.int64(11), np.int64(70)]",
         "[np.int64(51), np.int64(27), np.int64(2)]",
         "[np.int64(37), np.int64(49), np.int64(53), np.int64(48)]",
         "[np.int64(57), np.int64(5), np.int64(64), np.int64(11), np.int64(7)]",
         "[np.int64(29), np.int64(48), np.int64(53)]"
        ],
        [
         "10",
         "1038136953",
         "[np.int64(75), np.int64(37), np.int64(66), np.int64(5)]",
         "[np.int64(22), np.int64(34)]",
         "[np.int64(28), np.int64(37), np.int64(8), np.int64(61)]",
         "[np.int64(22), np.int64(43), np.int64(62)]",
         "[np.int64(68), np.int64(69), np.int64(41), np.int64(15)]",
         "[np.int64(55), np.int64(62), np.int64(12), np.int64(59), np.int64(22)]",
         "[np.int64(14), np.int64(24), np.int64(37)]"
        ],
        [
         "11",
         "1032250901",
         "[np.int64(56), np.int64(53), np.int64(30), np.int64(1)]",
         "[np.int64(7), np.int64(38)]",
         "[np.int64(13), np.int64(32), np.int64(10), np.int64(53)]",
         "[np.int64(24), np.int64(13), np.int64(58)]",
         "[np.int64(12), np.int64(1), np.int64(10), np.int64(46)]",
         "[np.int64(9), np.int64(70), np.int64(38), np.int64(17), np.int64(71)]",
         "[np.int64(19), np.int64(28), np.int64(6)]"
        ],
        [
         "12",
         "1038092717",
         "[np.int64(16), np.int64(10), np.int64(38), np.int64(28)]",
         "[np.int64(13), np.int64(9)]",
         "[np.int64(38), np.int64(83), np.int64(49), np.int64(20)]",
         "[np.int64(31), np.int64(61), np.int64(20)]",
         "[np.int64(61), np.int64(21), np.int64(55), np.int64(60)]",
         "[np.int64(30), np.int64(67), np.int64(74), np.int64(35), np.int64(20)]",
         "[np.int64(25), np.int64(39), np.int64(35)]"
        ],
        [
         "13",
         "1038110693",
         "[np.int64(68), np.int64(76), np.int64(6), np.int64(51)]",
         "[np.int64(14), np.int64(2)]",
         "[np.int64(48), np.int64(3), np.int64(55), np.int64(74)]",
         "[np.int64(8), np.int64(50), np.int64(33)]",
         "[np.int64(54), np.int64(71), np.int64(6), np.int64(29)]",
         "[np.int64(28), np.int64(73), np.int64(85), np.int64(37), np.int64(48)]",
         "[np.int64(33), np.int64(15), np.int64(34)]"
        ],
        [
         "14",
         "1038647713",
         "[np.int64(27), np.int64(55), np.int64(26), np.int64(45)]",
         "[np.int64(27), np.int64(23)]",
         "[np.int64(69), np.int64(16), np.int64(23), np.int64(56)]",
         "[np.int64(44), np.int64(11), np.int64(30)]",
         "[np.int64(11), np.int64(59), np.int64(64), np.int64(30)]",
         "[np.int64(88), np.int64(81), np.int64(19), np.int64(14)]",
         "[np.int64(3), np.int64(32), np.int64(50)]"
        ],
        [
         "15",
         "1063359347",
         "[np.int64(44), np.int64(2), np.int64(20), np.int64(70)]",
         "[np.int64(33), np.int64(6)]",
         "[np.int64(26), np.int64(25), np.int64(43), np.int64(12)]",
         "[np.int64(37), np.int64(60), np.int64(59)]",
         "[np.int64(34), np.int64(27), np.int64(18)]",
         "[np.int64(61), np.int64(41), np.int64(45), np.int64(32)]",
         "[np.int64(40), np.int64(55), np.int64(46)]"
        ],
        [
         "16",
         "1066600819",
         "[np.int64(42), np.int64(34), np.int64(43), np.int64(3)]",
         "[np.int64(21), np.int64(39)]",
         "[np.int64(19), np.int64(75), np.int64(22), np.int64(72)]",
         "[np.int64(17), np.int64(10), np.int64(34)]",
         "[np.int64(38), np.int64(47), np.int64(58)]",
         "[np.int64(2), np.int64(43), np.int64(50), np.int64(27)]",
         "[np.int64(23), np.int64(52), np.int64(2)]"
        ],
        [
         "17",
         "1038136995",
         "[np.int64(61), np.int64(40), np.int64(65), np.int64(4)]",
         "[np.int64(3), np.int64(15)]",
         "[np.int64(27), np.int64(68), np.int64(44), np.int64(65)]",
         "[np.int64(40), np.int64(28), np.int64(25)]",
         "[np.int64(50), np.int64(4), np.int64(9)]",
         "[np.int64(18), np.int64(66), np.int64(8), np.int64(52)]",
         "[np.int64(20), np.int64(21), np.int64(5)]"
        ],
        [
         "18",
         "1007452831",
         "[np.int64(54), np.int64(64), np.int64(35), np.int64(32)]",
         "[np.int64(18), np.int64(20)]",
         "[np.int64(46), np.int64(63), np.int64(54), np.int64(45)]",
         "[np.int64(14), np.int64(5), np.int64(9)]",
         "[np.int64(57), np.int64(70), np.int64(17)]",
         "[np.int64(60), np.int64(68), np.int64(40), np.int64(44)]",
         "[np.int64(4), np.int64(45)]"
        ],
        [
         "19",
         "98640265",
         "[np.int64(59), np.int64(39), np.int64(71), np.int64(36)]",
         "[np.int64(12), np.int64(32)]",
         "[np.int64(80), np.int64(35), np.int64(14), np.int64(6)]",
         "[np.int64(36), np.int64(41), np.int64(48)]",
         "[np.int64(20), np.int64(16), np.int64(65)]",
         "[np.int64(34), np.int64(42), np.int64(31), np.int64(21)]",
         "[np.int64(49), np.int64(31)]"
        ]
       ],
       "shape": {
        "columns": 8,
        "rows": 19
       }
      },
      "text/html": [
       "<div>\n",
       "<style scoped>\n",
       "    .dataframe tbody tr th:only-of-type {\n",
       "        vertical-align: middle;\n",
       "    }\n",
       "\n",
       "    .dataframe tbody tr th {\n",
       "        vertical-align: top;\n",
       "    }\n",
       "\n",
       "    .dataframe thead th {\n",
       "        text-align: right;\n",
       "    }\n",
       "</style>\n",
       "<table border=\"1\" class=\"dataframe\">\n",
       "  <thead>\n",
       "    <tr style=\"text-align: right;\">\n",
       "      <th></th>\n",
       "      <th>Nombre_del_estudiante</th>\n",
       "      <th>ejer_asig_sec_2_1</th>\n",
       "      <th>ejer_asig_sec_2_2</th>\n",
       "      <th>ejer_asig_sec_2_3</th>\n",
       "      <th>ejer_asig_sec_2_4</th>\n",
       "      <th>ejer_asig_sec_2_5</th>\n",
       "      <th>ejer_asig_sec_2_6</th>\n",
       "      <th>ejer_asig_sec_2_7</th>\n",
       "    </tr>\n",
       "  </thead>\n",
       "  <tbody>\n",
       "    <tr>\n",
       "      <th>1</th>\n",
       "      <td>1038648096</td>\n",
       "      <td>[60, 47, 58, 49, 41]</td>\n",
       "      <td>[25, 40, 19]</td>\n",
       "      <td>[67, 50, 1, 18, 60]</td>\n",
       "      <td>[32, 4, 26, 3]</td>\n",
       "      <td>[26, 32, 56, 40]</td>\n",
       "      <td>[47, 83, 87, 63, 80]</td>\n",
       "      <td>[7, 42, 44]</td>\n",
       "    </tr>\n",
       "    <tr>\n",
       "      <th>2</th>\n",
       "      <td>1038111190</td>\n",
       "      <td>[12, 7, 24, 67, 78]</td>\n",
       "      <td>[35, 29, 11]</td>\n",
       "      <td>[64, 15, 5, 41, 79]</td>\n",
       "      <td>[12, 52, 47, 42]</td>\n",
       "      <td>[42, 13, 25, 24]</td>\n",
       "      <td>[1, 49, 56, 51, 26]</td>\n",
       "      <td>[47, 18, 17]</td>\n",
       "    </tr>\n",
       "    <tr>\n",
       "      <th>3</th>\n",
       "      <td>1038113597</td>\n",
       "      <td>[8, 72, 25, 33]</td>\n",
       "      <td>[10, 30]</td>\n",
       "      <td>[40, 2, 39, 34, 30]</td>\n",
       "      <td>[49, 53, 18, 35]</td>\n",
       "      <td>[22, 35, 63, 51]</td>\n",
       "      <td>[33, 3, 69, 23, 65]</td>\n",
       "      <td>[36, 43, 16]</td>\n",
       "    </tr>\n",
       "    <tr>\n",
       "      <th>4</th>\n",
       "      <td>1038108190</td>\n",
       "      <td>[46, 73, 52, 13]</td>\n",
       "      <td>[28, 8]</td>\n",
       "      <td>[66, 4, 31, 82, 62]</td>\n",
       "      <td>[6, 23, 21, 19]</td>\n",
       "      <td>[19, 7, 31, 36]</td>\n",
       "      <td>[84, 58, 6, 79, 25]</td>\n",
       "      <td>[41, 54, 22]</td>\n",
       "    </tr>\n",
       "    <tr>\n",
       "      <th>5</th>\n",
       "      <td>1038648760</td>\n",
       "      <td>[9, 74, 31, 19]</td>\n",
       "      <td>[4, 24]</td>\n",
       "      <td>[47, 29, 36, 21, 9]</td>\n",
       "      <td>[38, 45, 56, 55]</td>\n",
       "      <td>[43, 44, 2, 62]</td>\n",
       "      <td>[86, 10, 76, 4, 82]</td>\n",
       "      <td>[12, 11, 1]</td>\n",
       "    </tr>\n",
       "    <tr>\n",
       "      <th>6</th>\n",
       "      <td>1193401041</td>\n",
       "      <td>[48, 57, 29, 69]</td>\n",
       "      <td>[31, 5]</td>\n",
       "      <td>[71, 59, 42, 24, 78]</td>\n",
       "      <td>[15, 57, 7]</td>\n",
       "      <td>[45, 52, 5, 66]</td>\n",
       "      <td>[39, 46, 53, 75, 78]</td>\n",
       "      <td>[8, 51, 38]</td>\n",
       "    </tr>\n",
       "    <tr>\n",
       "      <th>7</th>\n",
       "      <td>1038108720</td>\n",
       "      <td>[17, 18, 15, 23]</td>\n",
       "      <td>[17, 36]</td>\n",
       "      <td>[51, 57, 7, 52, 73]</td>\n",
       "      <td>[1, 39, 46]</td>\n",
       "      <td>[3, 14, 67, 33]</td>\n",
       "      <td>[13, 29, 15, 89, 77]</td>\n",
       "      <td>[27, 26, 30]</td>\n",
       "    </tr>\n",
       "    <tr>\n",
       "      <th>8</th>\n",
       "      <td>1038647828</td>\n",
       "      <td>[11, 21, 22, 50]</td>\n",
       "      <td>[37, 26]</td>\n",
       "      <td>[33, 81, 76, 77]</td>\n",
       "      <td>[29, 54, 16]</td>\n",
       "      <td>[8, 39, 28, 23]</td>\n",
       "      <td>[24, 72, 54, 16, 36]</td>\n",
       "      <td>[9, 10, 13]</td>\n",
       "    </tr>\n",
       "    <tr>\n",
       "      <th>9</th>\n",
       "      <td>1045426138</td>\n",
       "      <td>[14, 63, 62, 77]</td>\n",
       "      <td>[16, 1]</td>\n",
       "      <td>[17, 58, 11, 70]</td>\n",
       "      <td>[51, 27, 2]</td>\n",
       "      <td>[37, 49, 53, 48]</td>\n",
       "      <td>[57, 5, 64, 11, 7]</td>\n",
       "      <td>[29, 48, 53]</td>\n",
       "    </tr>\n",
       "    <tr>\n",
       "      <th>10</th>\n",
       "      <td>1038136953</td>\n",
       "      <td>[75, 37, 66, 5]</td>\n",
       "      <td>[22, 34]</td>\n",
       "      <td>[28, 37, 8, 61]</td>\n",
       "      <td>[22, 43, 62]</td>\n",
       "      <td>[68, 69, 41, 15]</td>\n",
       "      <td>[55, 62, 12, 59, 22]</td>\n",
       "      <td>[14, 24, 37]</td>\n",
       "    </tr>\n",
       "    <tr>\n",
       "      <th>11</th>\n",
       "      <td>1032250901</td>\n",
       "      <td>[56, 53, 30, 1]</td>\n",
       "      <td>[7, 38]</td>\n",
       "      <td>[13, 32, 10, 53]</td>\n",
       "      <td>[24, 13, 58]</td>\n",
       "      <td>[12, 1, 10, 46]</td>\n",
       "      <td>[9, 70, 38, 17, 71]</td>\n",
       "      <td>[19, 28, 6]</td>\n",
       "    </tr>\n",
       "    <tr>\n",
       "      <th>12</th>\n",
       "      <td>1038092717</td>\n",
       "      <td>[16, 10, 38, 28]</td>\n",
       "      <td>[13, 9]</td>\n",
       "      <td>[38, 83, 49, 20]</td>\n",
       "      <td>[31, 61, 20]</td>\n",
       "      <td>[61, 21, 55, 60]</td>\n",
       "      <td>[30, 67, 74, 35, 20]</td>\n",
       "      <td>[25, 39, 35]</td>\n",
       "    </tr>\n",
       "    <tr>\n",
       "      <th>13</th>\n",
       "      <td>1038110693</td>\n",
       "      <td>[68, 76, 6, 51]</td>\n",
       "      <td>[14, 2]</td>\n",
       "      <td>[48, 3, 55, 74]</td>\n",
       "      <td>[8, 50, 33]</td>\n",
       "      <td>[54, 71, 6, 29]</td>\n",
       "      <td>[28, 73, 85, 37, 48]</td>\n",
       "      <td>[33, 15, 34]</td>\n",
       "    </tr>\n",
       "    <tr>\n",
       "      <th>14</th>\n",
       "      <td>1038647713</td>\n",
       "      <td>[27, 55, 26, 45]</td>\n",
       "      <td>[27, 23]</td>\n",
       "      <td>[69, 16, 23, 56]</td>\n",
       "      <td>[44, 11, 30]</td>\n",
       "      <td>[11, 59, 64, 30]</td>\n",
       "      <td>[88, 81, 19, 14]</td>\n",
       "      <td>[3, 32, 50]</td>\n",
       "    </tr>\n",
       "    <tr>\n",
       "      <th>15</th>\n",
       "      <td>1063359347</td>\n",
       "      <td>[44, 2, 20, 70]</td>\n",
       "      <td>[33, 6]</td>\n",
       "      <td>[26, 25, 43, 12]</td>\n",
       "      <td>[37, 60, 59]</td>\n",
       "      <td>[34, 27, 18]</td>\n",
       "      <td>[61, 41, 45, 32]</td>\n",
       "      <td>[40, 55, 46]</td>\n",
       "    </tr>\n",
       "    <tr>\n",
       "      <th>16</th>\n",
       "      <td>1066600819</td>\n",
       "      <td>[42, 34, 43, 3]</td>\n",
       "      <td>[21, 39]</td>\n",
       "      <td>[19, 75, 22, 72]</td>\n",
       "      <td>[17, 10, 34]</td>\n",
       "      <td>[38, 47, 58]</td>\n",
       "      <td>[2, 43, 50, 27]</td>\n",
       "      <td>[23, 52, 2]</td>\n",
       "    </tr>\n",
       "    <tr>\n",
       "      <th>17</th>\n",
       "      <td>1038136995</td>\n",
       "      <td>[61, 40, 65, 4]</td>\n",
       "      <td>[3, 15]</td>\n",
       "      <td>[27, 68, 44, 65]</td>\n",
       "      <td>[40, 28, 25]</td>\n",
       "      <td>[50, 4, 9]</td>\n",
       "      <td>[18, 66, 8, 52]</td>\n",
       "      <td>[20, 21, 5]</td>\n",
       "    </tr>\n",
       "    <tr>\n",
       "      <th>18</th>\n",
       "      <td>1007452831</td>\n",
       "      <td>[54, 64, 35, 32]</td>\n",
       "      <td>[18, 20]</td>\n",
       "      <td>[46, 63, 54, 45]</td>\n",
       "      <td>[14, 5, 9]</td>\n",
       "      <td>[57, 70, 17]</td>\n",
       "      <td>[60, 68, 40, 44]</td>\n",
       "      <td>[4, 45]</td>\n",
       "    </tr>\n",
       "    <tr>\n",
       "      <th>19</th>\n",
       "      <td>98640265</td>\n",
       "      <td>[59, 39, 71, 36]</td>\n",
       "      <td>[12, 32]</td>\n",
       "      <td>[80, 35, 14, 6]</td>\n",
       "      <td>[36, 41, 48]</td>\n",
       "      <td>[20, 16, 65]</td>\n",
       "      <td>[34, 42, 31, 21]</td>\n",
       "      <td>[49, 31]</td>\n",
       "    </tr>\n",
       "  </tbody>\n",
       "</table>\n",
       "</div>"
      ],
      "text/plain": [
       "    Nombre_del_estudiante     ejer_asig_sec_2_1 ejer_asig_sec_2_2  \\\n",
       "1              1038648096  [60, 47, 58, 49, 41]      [25, 40, 19]   \n",
       "2              1038111190   [12, 7, 24, 67, 78]      [35, 29, 11]   \n",
       "3              1038113597       [8, 72, 25, 33]          [10, 30]   \n",
       "4              1038108190      [46, 73, 52, 13]           [28, 8]   \n",
       "5              1038648760       [9, 74, 31, 19]           [4, 24]   \n",
       "6              1193401041      [48, 57, 29, 69]           [31, 5]   \n",
       "7              1038108720      [17, 18, 15, 23]          [17, 36]   \n",
       "8              1038647828      [11, 21, 22, 50]          [37, 26]   \n",
       "9              1045426138      [14, 63, 62, 77]           [16, 1]   \n",
       "10             1038136953       [75, 37, 66, 5]          [22, 34]   \n",
       "11             1032250901       [56, 53, 30, 1]           [7, 38]   \n",
       "12             1038092717      [16, 10, 38, 28]           [13, 9]   \n",
       "13             1038110693       [68, 76, 6, 51]           [14, 2]   \n",
       "14             1038647713      [27, 55, 26, 45]          [27, 23]   \n",
       "15             1063359347       [44, 2, 20, 70]           [33, 6]   \n",
       "16             1066600819       [42, 34, 43, 3]          [21, 39]   \n",
       "17             1038136995       [61, 40, 65, 4]           [3, 15]   \n",
       "18             1007452831      [54, 64, 35, 32]          [18, 20]   \n",
       "19               98640265      [59, 39, 71, 36]          [12, 32]   \n",
       "\n",
       "       ejer_asig_sec_2_3 ejer_asig_sec_2_4 ejer_asig_sec_2_5  \\\n",
       "1    [67, 50, 1, 18, 60]    [32, 4, 26, 3]  [26, 32, 56, 40]   \n",
       "2    [64, 15, 5, 41, 79]  [12, 52, 47, 42]  [42, 13, 25, 24]   \n",
       "3    [40, 2, 39, 34, 30]  [49, 53, 18, 35]  [22, 35, 63, 51]   \n",
       "4    [66, 4, 31, 82, 62]   [6, 23, 21, 19]   [19, 7, 31, 36]   \n",
       "5    [47, 29, 36, 21, 9]  [38, 45, 56, 55]   [43, 44, 2, 62]   \n",
       "6   [71, 59, 42, 24, 78]       [15, 57, 7]   [45, 52, 5, 66]   \n",
       "7    [51, 57, 7, 52, 73]       [1, 39, 46]   [3, 14, 67, 33]   \n",
       "8       [33, 81, 76, 77]      [29, 54, 16]   [8, 39, 28, 23]   \n",
       "9       [17, 58, 11, 70]       [51, 27, 2]  [37, 49, 53, 48]   \n",
       "10       [28, 37, 8, 61]      [22, 43, 62]  [68, 69, 41, 15]   \n",
       "11      [13, 32, 10, 53]      [24, 13, 58]   [12, 1, 10, 46]   \n",
       "12      [38, 83, 49, 20]      [31, 61, 20]  [61, 21, 55, 60]   \n",
       "13       [48, 3, 55, 74]       [8, 50, 33]   [54, 71, 6, 29]   \n",
       "14      [69, 16, 23, 56]      [44, 11, 30]  [11, 59, 64, 30]   \n",
       "15      [26, 25, 43, 12]      [37, 60, 59]      [34, 27, 18]   \n",
       "16      [19, 75, 22, 72]      [17, 10, 34]      [38, 47, 58]   \n",
       "17      [27, 68, 44, 65]      [40, 28, 25]        [50, 4, 9]   \n",
       "18      [46, 63, 54, 45]        [14, 5, 9]      [57, 70, 17]   \n",
       "19       [80, 35, 14, 6]      [36, 41, 48]      [20, 16, 65]   \n",
       "\n",
       "       ejer_asig_sec_2_6 ejer_asig_sec_2_7  \n",
       "1   [47, 83, 87, 63, 80]       [7, 42, 44]  \n",
       "2    [1, 49, 56, 51, 26]      [47, 18, 17]  \n",
       "3    [33, 3, 69, 23, 65]      [36, 43, 16]  \n",
       "4    [84, 58, 6, 79, 25]      [41, 54, 22]  \n",
       "5    [86, 10, 76, 4, 82]       [12, 11, 1]  \n",
       "6   [39, 46, 53, 75, 78]       [8, 51, 38]  \n",
       "7   [13, 29, 15, 89, 77]      [27, 26, 30]  \n",
       "8   [24, 72, 54, 16, 36]       [9, 10, 13]  \n",
       "9     [57, 5, 64, 11, 7]      [29, 48, 53]  \n",
       "10  [55, 62, 12, 59, 22]      [14, 24, 37]  \n",
       "11   [9, 70, 38, 17, 71]       [19, 28, 6]  \n",
       "12  [30, 67, 74, 35, 20]      [25, 39, 35]  \n",
       "13  [28, 73, 85, 37, 48]      [33, 15, 34]  \n",
       "14      [88, 81, 19, 14]       [3, 32, 50]  \n",
       "15      [61, 41, 45, 32]      [40, 55, 46]  \n",
       "16       [2, 43, 50, 27]       [23, 52, 2]  \n",
       "17       [18, 66, 8, 52]       [20, 21, 5]  \n",
       "18      [60, 68, 40, 44]           [4, 45]  \n",
       "19      [34, 42, 31, 21]          [49, 31]  "
      ]
     },
     "execution_count": 3,
     "metadata": {},
     "output_type": "execute_result"
    }
   ],
   "source": [
    "# Función de asignación de ejercicios para fomentar el aprendizaje independiente y colaboorativo\n",
    "import pandas as pd\n",
    "import numpy as np\n",
    "\n",
    "# Ruta al archivo de estudiantes cargado\n",
    "file_path = r\"C:\\Users\\marco\\Documentos\\docencia\\groups_list\\algebra_and_trigonometry.xlsx\"\n",
    "\n",
    "# Cargar la lista de estudiantes\n",
    "students_df = pd.read_excel(file_path)\n",
    "\n",
    "# Número de ejercicios por sección\n",
    "exercises_per_section = {\n",
    "    \"ejer_asig_sec_2_1\": 78,\n",
    "    \"ejer_asig_sec_2_2\": 40,\n",
    "    \"ejer_asig_sec_2_3\": 83,\n",
    "    \"ejer_asig_sec_2_4\": 62,\n",
    "    \"ejer_asig_sec_2_5\": 71,\n",
    "    \"ejer_asig_sec_2_6\": 89,\n",
    "    \"ejer_asig_sec_2_7\": 55,\n",
    "}\n",
    "\n",
    "# Número de estudiantes\n",
    "n_students = len(students_df)\n",
    "\n",
    "# Inicializar DataFrame de asignación\n",
    "assignment_df = pd.DataFrame()\n",
    "assignment_df[\"Nombre_del_estudiante\"] = students_df.iloc[:, 0]\n",
    "\n",
    "np.random.seed(702)\n",
    "\n",
    "# Función para repartir los ejercicios equitativamente y sin repetición\n",
    "def assign_exercises(num_exercises, num_students):\n",
    "    exercises = np.arange(1, num_exercises + 1)\n",
    "    np.random.shuffle(exercises)  # Mezclar los ejercicios\n",
    "    chunks = np.array_split(exercises, num_students)  # Dividir entre estudiantes\n",
    "    return chunks\n",
    "\n",
    "# Asignar los ejercicios de cada sección\n",
    "for section, num_ex in exercises_per_section.items():\n",
    "    assigned_chunks = assign_exercises(num_ex, n_students)\n",
    "    assignment_df[section] = [list(chunk) for chunk in assigned_chunks]\n",
    "\n",
    "# Guardar el archivo de asignaciones\n",
    "output_path = \"/mnt/data/asignacion_ejercicios_cap2.xlsx\"\n",
    "assignment_df.to_excel(output_path, index=False)\n",
    "\n",
    "assignment_df.index = range(1, len(assignment_df) + 1)\n",
    "assignment_df\n"
   ]
  },
  {
   "cell_type": "code",
   "execution_count": 4,
   "id": "61d8b0c8",
   "metadata": {},
   "outputs": [],
   "source": [
    "assignment_df.to_excel('ejercicios_asignados_capitulo_2.xlsx', index = False)"
   ]
  },
  {
   "cell_type": "markdown",
   "id": "f39ebbcb",
   "metadata": {},
   "source": [
    "# Las formas de solucióon de los ejercicios  \n",
    "\n",
    "\n",
    "1. [Solución algebraica manuscrita](https://www.youtube.com/watch?v=YgfJO8m_iTQ). \n",
    "2. Solución algebraica en lenguaje latex\n",
    "3. Solución con calculo simbólico con SymPy. \n",
    "4. Solución tabular de la ecuación (Una columna por función lado de la ecuación)\n",
    "5. Solución Gráfica con Matplotlib\n",
    "6. Solución Gráfica con GeoGebra. \n",
    "7. Solución gráfica con Wolframe. "
   ]
  },
  {
   "cell_type": "code",
   "execution_count": null,
   "id": "a3b866ca",
   "metadata": {},
   "outputs": [],
   "source": []
  },
  {
   "cell_type": "code",
   "execution_count": null,
   "id": "82dc6eb2",
   "metadata": {},
   "outputs": [],
   "source": []
  },
  {
   "cell_type": "markdown",
   "id": "cc539357",
   "metadata": {},
   "source": [
    "# [Programación de programa Regiones](https://lookerstudio.google.com/reporting/44e71da0-d16f-4a51-a51e-d5ae6c19b3f1/page/p_gy4nwf37hd?pli=1)"
   ]
  },
  {
   "cell_type": "markdown",
   "id": "8ba64aed",
   "metadata": {},
   "source": [
    "# Cursos que orienta el profesor Marco Julio Cañas Campillo en 2025  \n",
    "\n",
    "1. Lunes 8 a 12: Fundamentos de Lógica: Licenciatura en Matemáticas . \n",
    "2. Martes de 9 a 10: Curso de ML and DL para Ingeniero Juan Gomez en España.  \n",
    "3. Martes de 2 a 5 PM: Vector Geometry and Linear Algebra.  \n",
    "4. Miércoles: 10 a 11: Reunión equipo investigador SAT Dengue. \n",
    "5. Miércoles 2 a 3 PM: Asesoría Trabajo de Grado Janis (Estudiante de Biología).  \n",
    "6. Viernes 2 a 6 PM: Análisis Numérico: Programa de Licenciatura en Matemáticas."
   ]
  },
  {
   "cell_type": "markdown",
   "id": "8d41fe58",
   "metadata": {
    "slideshow": {
     "slide_type": "slide"
    }
   },
   "source": [
    "# Horario de clases del profesor Marco\n",
    "\n",
    "* Lunes 8-12:   \n",
    "* Lunes 2- 6 PM: Fundamento de Lógica.  \n",
    "* Martes 8-12 M: . \n",
    "* Miércoles 8 a 12 M:   \n",
    "* Miércoles de 2 a 6 PM: \n",
    "* Jueves 2 a 6 PM:  \n",
    "* Viernes 2 - 4 PM: Análisis Numérico. \n",
    "* Sábados 8-12 Asesorías y espacio para retroalimentación y apoyo al trabajo independiente. "
   ]
  },
  {
   "cell_type": "markdown",
   "id": "ae114e14",
   "metadata": {
    "slideshow": {
     "slide_type": "slide"
    }
   },
   "source": [
    "# Horarios de monitoría y asesoría  \n",
    "\n",
    "* Monitor Manuel San Juan Serrano: Contactar escribiendo al correo: manuel.serrano1@udea.edu.co"
   ]
  },
  {
   "cell_type": "markdown",
   "id": "bf0f9dbf",
   "metadata": {},
   "source": [
    "\n",
    "Coordinador de los cursos de la Facultad de Educación para regiones:    \n",
    "\n",
    "Andrés Vélez: regioneducacion.fedu@udea.edu.co  \n",
    "Coordinador Regiones  \n",
    "Facultad de Educación  \n",
    "Universidad de Antioquia  "
   ]
  },
  {
   "cell_type": "markdown",
   "id": "39559692",
   "metadata": {
    "slideshow": {
     "slide_type": "slide"
    }
   },
   "source": [
    "Martes y jueves de 8 - 12  \n",
    "Miércoles 10 - 12 y de 2 a 4 PM  \n",
    "Sábado: 8 - 12"
   ]
  },
  {
   "cell_type": "markdown",
   "id": "10bce0d0",
   "metadata": {
    "slideshow": {
     "slide_type": "slide"
    }
   },
   "source": [
    "## Referentes "
   ]
  },
  {
   "cell_type": "markdown",
   "id": "1db3c468",
   "metadata": {
    "slideshow": {
     "slide_type": "slide"
    }
   },
   "source": [
    "* [CALCULO I DE UNA VARIABLE Ron Larson-Bruce Edwards. Mc Graw Hill. 9º Edición](https://www.academia.edu/42139251/CALCULO_I_DE_UNA_VARIABLE_Ron_Larson_Bruce_Edwards_Mc_Graw_Hill_9o_Edici%C3%B3n)   \n",
    "  \n",
    "\n",
    "* [Grajales Vanegas, L. M., Restrepo Estrada, C. E., Restrepo Ochoa, S. I., & Ruíz De Villalba, F. (2015). Matemáticas I para las ciencias económicas.](https://bibliotecadigital.udea.edu.co/handle/10495/3010)\n",
    "  \n",
    "* R. Duval y Semiosis y pensamiento humano, 2.ª ed. Cali, Colombia: Programa Editorial Universidad del Valle, 2017. [En línea]. Disponible en: https://programaeditorial.univalle.edu.co/gpd-semiosis-y-pensamiento-humano-9789587655278-63324cdb0f6b3.html\n",
    "\n",
    "* [Aylwin, C. U. (2011). Lógica, conjuntos y números. Universidad de los Andes, Consejo de Publicaciones, Colección: Ciencias Básicas, Serie: Matemáticas.](chrome-extension://efaidnbmnnnibpcajpcglclefindmkaj/https://www.u-cursos.cl/ciencias/2011/1/MC110/1/material_docente/bajar?id_material=574722)\n",
    "  \n",
    "* [Chollet, F. (2021). Deep learning with Python. Simon and Schuster.](chrome-extension://efaidnbmnnnibpcajpcglclefindmkaj/https://tanthiamhuat.wordpress.com/wp-content/uploads/2018/03/deeplearningwithpython.pdf)  \n",
    "  \n",
    "* [Watson, S., Stewart, J., & Redlin, L. (2009). Precálculo. Matemáticas para el cálculo.](https://github.com/marco-canas/calculo/blob/main/referents/1_precalculo_stewart/stewart_precalculo.pdf)  \n",
    "\n",
    "* [Purcell, E. J., Varberg, D., & Rigdon, S. E. (2007). Cálculo diferencial e integral. Pearson Educación.](https://github.com/marco-canas/calculo/blob/main/referents/purcell/purcell_calculo.pdf)\n",
    "\n",
    "  \n",
    "\n",
    "* [stewart cálculo](https://udeaeduco-my.sharepoint.com/:b:/g/personal/marco_canas_udea_edu_co/EZgXZjAp8QxPqOAim2hs6LcBNPLGjSHf-xwYnUVYkwa04w?e=RZdTCy)  \n",
    "\n",
    "\n",
    "\n",
    "\n",
    "\n",
    "* [Recomendación de la UNESCO sobre ciencia abierta](https://unesdoc.unesco.org/ark:/48223/pf0000379949_spa)\n",
    "\n",
    "* [chatGPT](https://openai.com/blog/chatgpt)  \n",
    "\n",
    "* [Géron, A. (2017). Hands-on machine learning with scikit-learn and tensorflow: Concepts. Tools, and Techniques to build intelligent systems.](chrome-extension://efaidnbmnnnibpcajpcglclefindmkaj/http://14.139.161.31/OddSem-0822-1122/Hands-On_Machine_Learning_with_Scikit-Learn-Keras-and-TensorFlow-2nd-Edition-Aurelien-Geron.pdf)   \n"
   ]
  },
  {
   "cell_type": "markdown",
   "id": "df925560",
   "metadata": {},
   "source": [
    "\n",
    "* [McKinney, W. (2012). Python for data analysis: Data wrangling with Pandas, NumPy, and IPython. \" O'Reilly Media, Inc.\".](https://wesmckinney.com/book/) "
   ]
  },
  {
   "cell_type": "markdown",
   "id": "8e65d6f9",
   "metadata": {},
   "source": [
    "# Como estudiante, encuentro que...   \n",
    "\n",
    "F: Mis Fortalezas son:     \n",
    "O: Mis Oportunidades son:    \n",
    "D: Mis Debilidades son:    \n",
    "A: Lo que Amenazas mi aprendizaje es:  "
   ]
  },
  {
   "cell_type": "markdown",
   "id": "6b9e56a8",
   "metadata": {
    "slideshow": {
     "slide_type": "slide"
    }
   },
   "source": [
    "### [Evaluamos al profesor Marco Cañas Aquí](https://forms.office.com/Pages/ResponsePage.aspx?id=IefhmYRxjkmK_7KtTlPBwkanXIs1i1FEujpsZgO6dXpUREJPV1kxUk1JV1ozTFJIQVNIQjY5WEY3US4u)"
   ]
  },
  {
   "cell_type": "markdown",
   "id": "4e8e8ccb",
   "metadata": {},
   "source": [
    "Basado en el diseño de investigación con enfoque IAE (Investigación-Acción Educativa) que compartiste, aquí tienes una propuesta de **sistema de evaluación bidireccional** para el curso *\"Vector Geometry and Linear Algebra\"*, implementable mediante Google Forms y alineado con los ciclos reflexivos de Kemmis & McTaggart:\n",
    "\n",
    "---\n"
   ]
  },
  {
   "cell_type": "markdown",
   "id": "700c88d9",
   "metadata": {},
   "source": [
    "\n",
    "### **Diseño de Evaluación para Ciclo IAE**  \n",
    "*(Para implementar en Google Forms cada 4 semanas)*  \n"
   ]
  },
  {
   "cell_type": "markdown",
   "id": "534441d7",
   "metadata": {},
   "source": [
    "\n",
    "#### **1. Encuesta de Autoevaluación Estudiantil**  \n",
    "**Objetivo**: Monitorear progreso en competencias y percepción del enfoque investigativo.  \n"
   ]
  },
  {
   "cell_type": "markdown",
   "id": "ee74d19c",
   "metadata": {},
   "source": [
    "\n",
    "**Secciones**:  \n",
    "1. **Adquisición de Competencias** (Escala Likert 1-5):  \n",
    "   - *\"¿Cómo evalúas tu dominio actual de:\"*  \n",
    "     - Operaciones con vectores/matrices aplicadas a datasets agrícolas  \n",
    "     - Implementación de PCA/SVD para análisis de imágenes satelitales  \n",
    "     - Interpretación de resultados matemáticos en contextos agropecuarios  \n"
   ]
  },
  {
   "cell_type": "markdown",
   "id": "23d2b1bd",
   "metadata": {},
   "source": [
    "\n",
    "2. **Evaluación de Metodología IAE**:  \n",
    "   - *\"El aprendizaje basado en problemas reales del Bajo Cauca me ha ayudado a:\"*  \n",
    "     - Comprender mejor los conceptos abstractos (1-5)  \n",
    "     - Desarrollar habilidades útiles para mi futuro profesional (1-5)  \n",
    "   - *Espacio abierto*: *\"Describe un momento donde la conexión teoría-práctica fue especialmente significativa para ti\"*  \n"
   ]
  },
  {
   "cell_type": "markdown",
   "id": "6a55b099",
   "metadata": {},
   "source": [
    "\n",
    "3. **Recursos y Herramientas**:  \n",
    "   - *\"Valora la utilidad de:\"*  \n",
    "     - Cuadernos Jupyter adaptados (ej. Géron 2022)  \n",
    "     - Sesiones con agricultores/ingenieros invitados  \n",
    "     - Plataforma GitHub para colaboración  \n",
    "\n",
    "---\n"
   ]
  },
  {
   "cell_type": "markdown",
   "id": "d069bb21",
   "metadata": {},
   "source": [
    "\n",
    "#### **2. Evaluación del Profesor**  \n",
    "**Objetivo**: Retroalimentación para ajustar didáctica según necesidades emergentes.  \n"
   ]
  },
  {
   "cell_type": "markdown",
   "id": "e1080dd0",
   "metadata": {},
   "source": [
    "\n",
    "**Secciones**:  \n",
    "1. **Habilidades Docentes** (Escala 1-5):  \n",
    "   - *\"El profesor facilita la conexión entre álgebra lineal y problemas agrícolas mediante:\"*  \n",
    "     - Explicaciones claras de conceptos abstractos  \n",
    "     - Ejemplos contextualizados (ej. optimización de fertilizantes)  \n",
    "     - Retroalimentación constructiva en proyectos  \n"
   ]
  },
  {
   "cell_type": "markdown",
   "id": "01742d60",
   "metadata": {},
   "source": [
    "\n",
    "2. **Seguimiento a Proyectos**:  \n",
    "   - *\"Las tutorías para los proyectos aplicados son:\"*  \n",
    "     - Suficientes en frecuencia y duración  \n",
    "     - Orientadas a resolver dudas técnicas específicas  \n",
    "     - Útiles para vincular matemáticas con agronomía  \n"
   ]
  },
  {
   "cell_type": "markdown",
   "id": "ca722d62",
   "metadata": {},
   "source": [
    "\n",
    "3. **Espacio cualitativo**:  \n",
    "   - *\"Sugiere un ajuste específico que mejoraría tu experiencia de aprendizaje\"*  \n",
    "\n",
    "---\n"
   ]
  },
  {
   "cell_type": "markdown",
   "id": "568148ad",
   "metadata": {},
   "source": [
    "\n",
    "#### **3. Evaluación de Impacto Social** *(Opcional para proyectos con agricultores)*  \n",
    "**Objetivo**: Medir transferencia de conocimiento al sector productivo.  \n"
   ]
  },
  {
   "cell_type": "markdown",
   "id": "93c7f4bc",
   "metadata": {},
   "source": [
    "\n",
    "**Preguntas clave**:  \n",
    "- *\"¿Cómo ha influido el proyecto estudiantil en el que participaste en tus prácticas agrícolas?\"* (Ej.: reducción de costos, mejora en predicciones)  \n",
    "- *\"¿Recomendarías esta colaboración a otros productores?\"* (Sí/No + justificación)  \n",
    "\n",
    "\n"
   ]
  },
  {
   "cell_type": "markdown",
   "id": "d2b6a2c7",
   "metadata": {},
   "source": [
    "\n",
    "### **Implementación en Google Forms**  \n",
    "1. **Configuración**:  \n",
    "   - Formulario anónimo (excepto evaluación de proyectos con agricultores)  \n",
    "   - Sección obligatoria (competencia + 1 pregunta abierta)  \n",
    "   - Opción de subir archivos (ej.: fotos de trabajos de campo)  \n",
    "\n",
    "2. **Ejemplo de Pregunta con Lógica Condicional**:  \n",
    "   ``` \n",
    "   Si respondiste 1-3 en \"Dominio de PCA aplicado\": \n",
    "   ¿Qué tipo de apoyo adicional necesitarías? (Taller práctico, material adicional, tutoría personalizada)  \n",
    "   ```\n",
    "\n",
    "3. **Enlace accesible**:  \n",
    "   - QR en presentaciones  \n",
    "   - Link en la cabecera del repositorio GitHub  \n",
    "\n",
    "---\n"
   ]
  },
  {
   "cell_type": "markdown",
   "id": "36872955",
   "metadata": {},
   "source": [
    "\n",
    "### **Análisis para Ciclo IAE**  \n",
    "**Herramientas**:  \n",
    "- **NVivo**: Para análisis temático de respuestas cualitativas  \n",
    "- **Google Data Studio**: Dashboard automático con:  \n",
    "  - Evolución temporal de competencias  \n",
    "  - Nube de palabras de sugerencias frecuentes  \n",
    "\n",
    "**Integración con Fases IAE**:  \n",
    "1. **Diagnóstico**: Identificar brechas recurrentes (ej.: dificultad con SVD)  \n",
    "2. **Acción**: Ajustar próximas clases (ej.: taller extra de descomposición matricial)  \n",
    "3. **Reflexión**: Comparar resultados entre ciclos (ej.: mejora en % de dominio de vectores)  \n",
    "\n",
    "**Ejemplo de Pregunta Clave para el Análisis**:  \n",
    "*\"¿Qué tema del módulo actual requirió más tiempo de práctica para su comprensión?\"*  \n",
    "\n",
    "---\n"
   ]
  },
  {
   "cell_type": "markdown",
   "id": "6d92b57d",
   "metadata": {},
   "source": [
    "\n",
    "### **Modelo de Informe Parcial** *(Para socializar con estudiantes)*  \n",
    "```markdown\n",
    "## Resultados Evaluación Ciclo 3 (2025-1)  \n",
    "- **85%** mejoró en interpretación de matrices aplicadas  \n",
    "- **Solicitud principal**: Más ejemplos con datos reales de cacaoteros  \n",
    "- **Ajustes implementados**:  \n",
    "  - Sesión extra con ingeniero de Agrosavia (25/05)  \n",
    "  - Dataset público de nutrientes en suelos arroceros añadido a GitHub  \n",
    "```\n"
   ]
  },
  {
   "cell_type": "markdown",
   "id": "b5c7eb34",
   "metadata": {},
   "source": [
    "\n",
    "Este diseño asegura que las evaluaciones:  \n",
    "✅ Sean **ágiles** (máx. 5 min por estudiante)  \n",
    "✅ Generen **datos accionables** para cada fase IAE  \n",
    "✅ Fomenten la **corresponsabilidad** en el proceso educativo  \n"
   ]
  },
  {
   "cell_type": "markdown",
   "id": "e2a5a506",
   "metadata": {},
   "source": [
    "\n",
    "¿Te gustaría que desarrolle las plantillas específicas de Google Forms o algún ajuste adicional para alinearlo mejor con tus módulos?"
   ]
  },
  {
   "cell_type": "markdown",
   "id": "10f43536",
   "metadata": {
    "slideshow": {
     "slide_type": "slide"
    }
   },
   "source": [
    "### Continue su aprendizaje en la siguiente clase a través del siguiente [vínculo]()"
   ]
  },
  {
   "cell_type": "markdown",
   "id": "53cc9115",
   "metadata": {
    "slideshow": {
     "slide_type": "slide"
    }
   },
   "source": [
    "## Agradecimientos  \n",
    "\n",
    "Doy gracias a Dios por la vida de mi Hijo Joseph Cañas Osorio y la madurez que ha alcanzado. Este hijo me enorgullece y me hace falta abrazarlo cada día. \n",
    "\n",
    "Y a mi esposa Yasmira Emperatriz Barboza Mogollón por su apoyo, orientación y acompañamiento. "
   ]
  },
  {
   "cell_type": "markdown",
   "id": "b6ba1c23",
   "metadata": {},
   "source": [
    "# Apéndice sobre calendarios y coordinaciones \n"
   ]
  },
  {
   "cell_type": "markdown",
   "id": "bf8b6499",
   "metadata": {},
   "source": [
    "## Calendario del semestre académico 2025-2  \n",
    "\n",
    "* Oferta de cursos: 29 de julio de 2025  \n",
    "\n",
    "Matrícula: 30 de julio de 2025  \n",
    "\n",
    "Ajustes de matrícula: 01 al 08 de agosto de 2025  \n",
    "\n",
    "Inicio de clases: 04 de agosto de 2025  \n",
    "\n",
    "Límite evaluación del 40%: 27 de septiembre de 2025  \n",
    "\n",
    "Terminación de clases: 22 de noviembre de 2025\n",
    "\n",
    "Exámenes finales: 24 al 29 de noviembre de 2025\n",
    "\n",
    "Habilitación y validación: 01 al 06 de diciembre 2025\n",
    "\n",
    "Terminación oficial del semestre: 09 de diciembre de 2025  "
   ]
  },
  {
   "cell_type": "markdown",
   "id": "667b9504",
   "metadata": {},
   "source": [
    "\n",
    "A continuación le envío el horario de la asignatura Cálculo Vectorial  \n",
    "\n",
    "Días:  \n",
    "Lunes - Hora: 7:00 a 12:00M  \n",
    "Fechas:  \n",
    "Febrero: 10-17-24                                          \n",
    " Marzo: 3-10-17-31                                                  \n",
    "Abril:7-21-28                                                   \n",
    "Mayo:5-12-19  \n",
    "\n",
    "Agradezco su apoyo, y si presenta alguna dificultad puede contactarme.  \n",
    "\n",
    "Cordialmente,  \n",
    "Juan Felipe Rivera Hernández  \n",
    "Contacto: 3106314300  "
   ]
  },
  {
   "cell_type": "markdown",
   "id": "586ece97",
   "metadata": {},
   "source": [
    "Perfecto, Marco Julio 🙌. Te redacto el **estado del arte con citas textuales cortas** (todas en APA 7ª edición), de modo que puedas usarlo directamente en tu escrito y se vea el diálogo con las fuentes:\n",
    "\n",
    "---\n",
    "\n",
    "# 📖 Estado del arte con citas\n",
    "\n",
    "El uso de la tecnología en la enseñanza de las matemáticas encuentra uno de sus pilares en **Papert (1980)**, quien afirmaba que *“los niños no aprenden sobre la computadora, aprenden con la computadora”* (p. 6). En su visión, la programación se convierte en un medio para la construcción activa de significados matemáticos, idea que se enlaza con la epistemología genética de **Piaget (1970)**, quien sostuvo que *“el conocimiento se construye a través de la acción”* (p. 15), y con la perspectiva de **Vygotsky (1978)**, al señalar que *“toda función en el desarrollo cultural del niño aparece dos veces: primero en el plano social y después en el individual”* (p. 57). Estos enfoques coinciden en otorgar a las herramientas culturales un papel esencial en la mediación del aprendizaje.\n",
    "\n",
    "Posteriormente, **Wing (2006)** acuñó el término pensamiento computacional, definiéndolo como *“una habilidad fundamental para todos, no solo para los científicos de la computación”* (p. 33). Esta autora subrayó que debía enseñarse de manera transversal, en paralelo con la lectura, la escritura y la matemática. En la misma línea, el **NCTM (2000)** destacó que *“la tecnología es esencial en la enseñanza y el aprendizaje de las matemáticas; influye en la matemática que se enseña y mejora el aprendizaje de los estudiantes”* (p. 24).\n",
    "\n",
    "Desde la didáctica de las matemáticas, **Duval (2006)** mostró que *“la comprensión matemática requiere la coordinación de al menos dos registros de representación diferentes”* (p. 107), lo que legitima la incorporación de registros digitales como LaTeX, Markdown y Python. Por su parte, **Godino (2017)** planteó que *“el significado de un objeto matemático está constituido por el sistema de prácticas en el que interviene”* (p. 7), con lo cual la práctica digital se convierte en parte constitutiva del aprendizaje matemático.\n",
    "\n",
    "Finalmente, organismos internacionales como la **ACM y el IEEE (2013)** enfatizan que *“las habilidades computacionales son esenciales para el ejercicio profesional en cualquier disciplina”* (p. 12). De esta manera, se consolida un consenso: la enseñanza universitaria de las matemáticas debe integrar herramientas contemporáneas como **Jupyter Notebooks, Python, LaTeX, Markdown e inglés**, no para competir con la enseñanza tradicional, sino para **fortalecer la comprensión matemática, potenciar la comunicación científica y responder a las demandas del mundo laboral**.\n",
    "\n",
    "---\n",
    "\n",
    "✅ Con este estado del arte ya tienes **citas directas y cortas** que le dan más fuerza académica a tu postura.\n",
    "\n",
    "¿Quieres que te prepare también la **lista final de referencias en APA con las páginas exactas de las citas** (para que todo quede perfectamente sustentado en tu documento)?\n"
   ]
  }
 ],
 "metadata": {
  "celltoolbar": "Slideshow",
  "kernelspec": {
   "display_name": ".venv",
   "language": "python",
   "name": "python3"
  },
  "language_info": {
   "codemirror_mode": {
    "name": "ipython",
    "version": 3
   },
   "file_extension": ".py",
   "mimetype": "text/x-python",
   "name": "python",
   "nbconvert_exporter": "python",
   "pygments_lexer": "ipython3",
   "version": "3.11.9"
  },
  "rise": {
   "enable_chalkboard": true,
   "theme": "sky",
   "transition": "zoom"
  }
 },
 "nbformat": 4,
 "nbformat_minor": 5
}
