{
 "cells": [
  {
   "cell_type": "markdown",
   "id": "dc06dec7",
   "metadata": {
    "slideshow": {
     "slide_type": "slide"
    }
   },
   "source": [
    "<table align=\"left\">\n",
    "  <td>\n",
    "    <a href=\"https://colab.research.google.com/github/marco-canas/algebra_y_trigonometria/blob/main/classes/0_formatos_clase/algebra_and_trigonometry.ipynb\" target=\"_parent\"><img src=\"https://colab.research.google.com/assets/colab-badge.svg\" alt=\"Open In Colab\"/></a>\n",
    "  </td>\n",
    "  <td>\n",
    "    <a target=\"_blank\" href=\"https://kaggle.com/kernels/welcome?src=https://github.com/marco-canas/algebra_y_trigonometria/blob/main/classes/0_formatos_clase/algebra_and_trigonometry.ipynb\"><img src=\"https://kaggle.com/static/images/open-in-kaggle.svg\" /></a>\n",
    "  </td>\n",
    "</table>"
   ]
  },
  {
   "cell_type": "markdown",
   "id": "9eee306b",
   "metadata": {},
   "source": [
    "# generación del QR para el cuaderno de esta clase    \n",
    "\n",
    "Aquí tienes una función de Python que genera un código QR a partir de una URL y lo muestra en un cuaderno Jupyter:\n"
   ]
  },
  {
   "cell_type": "code",
   "execution_count": 1,
   "id": "7e0dbf6e",
   "metadata": {},
   "outputs": [],
   "source": [
    "import qrcode\n",
    "from IPython.display import display\n",
    "\n",
    "def generar_qr_notebook(url):\n",
    "    \"\"\"\n",
    "    Genera un código QR para una URL y lo muestra en un cuaderno Jupyter.\n",
    "    \n",
    "    Parámetros:\n",
    "    url (str): La URL para la cual se generará el código QR.\n",
    "    \n",
    "    Retorna:\n",
    "    None (pero muestra el código QR en el notebook)\n",
    "    \"\"\"\n",
    "    # Crear el objeto QR\n",
    "    qr = qrcode.QRCode(\n",
    "        version=1,\n",
    "        error_correction=qrcode.constants.ERROR_CORRECT_L,\n",
    "        box_size=10,\n",
    "        border=4,\n",
    "    )\n",
    "    \n",
    "    # Añadir la URL al código QR\n",
    "    qr.add_data(url)\n",
    "    qr.make(fit=True)\n",
    "    \n",
    "    # Crear la imagen del QR\n",
    "    img = qr.make_image(fill_color=\"black\", back_color=\"white\")\n",
    "    \n",
    "    # Mostrar la imagen en el notebook\n",
    "    display(img)\n",
    "\n"
   ]
  },
  {
   "cell_type": "code",
   "execution_count": null,
   "id": "79e4ce17",
   "metadata": {},
   "outputs": [],
   "source": [
    "generar_qr_notebook()"
   ]
  },
  {
   "cell_type": "markdown",
   "id": "a6647ca4",
   "metadata": {},
   "source": [
    "\n",
    "### Notas:\n",
    "- La función usa la biblioteca `qrcode` para generar el código y `IPython.display` para mostrarlo en el notebook.\n",
    "- El código QR aparecerá como salida de la celda donde llames a la función.\n",
    "- Puedes ajustar parámetros como `box_size` (tamaño de los cuadrados) o `border` (tamaño del borde) según tus necesidades.\n"
   ]
  },
  {
   "cell_type": "markdown",
   "id": "e0c5b198",
   "metadata": {
    "slideshow": {
     "slide_type": "slide"
    }
   },
   "source": [
    "### [Video de apoyo a la lectura interactiva y experimental de este cuaderno]()"
   ]
  },
  {
   "cell_type": "markdown",
   "id": "41e82203",
   "metadata": {
    "slideshow": {
     "slide_type": "slide"
    }
   },
   "source": [
    "### [Vínculo al programa del curso Algebra_and_trigonometry:  ](https://github.com/marco-canas/algebra_y_trigonometria/blob/main/0_programa_curso/programa_algebra_and_trigonometry.md)\n",
    "Código del curso: 303001  "
   ]
  },
  {
   "cell_type": "markdown",
   "id": "d11ab06d",
   "metadata": {
    "slideshow": {
     "slide_type": "slide"
    }
   },
   "source": [
    "Un reconocimiento a mis estudiantes que han construido conmigo este saber pedagógico:\n",
    "\n",
    "<img src = 'https://github.com/marco-canas/algebra_y_trigonometria/blob/main/images/primera_clase_2025-08-05_a_las_12.06.22.jpg?raw=true'>   \n",
    "\n"
   ]
  },
  {
   "cell_type": "markdown",
   "id": "8a74a56c-0ce6-4ad6-b985-553fd7fb68bb",
   "metadata": {},
   "source": [
    "Reconocimiento a las profesoras destacadas en enseñanza de la matemática en Colombia\n"
   ]
  },
  {
   "cell_type": "code",
   "execution_count": 1,
   "id": "7604880f",
   "metadata": {
    "slideshow": {
     "slide_type": "slide"
    }
   },
   "outputs": [
    {
     "data": {
      "application/vnd.microsoft.datawrangler.viewer.v0+json": {
       "columns": [
        {
         "name": "index",
         "rawType": "int64",
         "type": "integer"
        },
        {
         "name": "Cedula",
         "rawType": "int64",
         "type": "integer"
        },
        {
         "name": "Nombre",
         "rawType": "object",
         "type": "string"
        },
        {
         "name": "Email",
         "rawType": "object",
         "type": "string"
        },
        {
         "name": "q1",
         "rawType": "float64",
         "type": "float"
        },
        {
         "name": "p1",
         "rawType": "float64",
         "type": "float"
        }
       ],
       "ref": "cc81d3cc-a7fc-4850-a28f-ad0d2967752a",
       "rows": [
        [
         "1",
         "1038648096",
         "ACEVEDO BELEÑO SANTIAGO",
         "sacevedo.beleno@udea.edu.co",
         "4.4",
         "3.9"
        ],
        [
         "2",
         "1038111190",
         "CANOLE PEÑATE SEBASTIAN",
         "sebastian.canolep@udea.edu.co",
         "2.1",
         "3.1"
        ],
        [
         "3",
         "1038113597",
         "CORREA RESTREPO NICOLAS",
         "nicolas.crestrepo@udea.edu.co",
         "3.0",
         "2.2"
        ],
        [
         "4",
         "1038108190",
         "HERNANDEZ GOMEZ MICHAEL",
         "michael.hernandez@udea.edu.co",
         "0.0",
         "0.2"
        ],
        [
         "5",
         "1038648760",
         "MARIN VILLARREAL PABLO ALEJANDRO",
         "pablo.marin1@udea.edu.co",
         "2.4",
         "3.1"
        ],
        [
         "6",
         "1193401041",
         "MARTINEZ MANJARREZ DANIELA ESTHER",
         "daniela.martinezm@udea.edu.co",
         "1.6",
         "1.0"
        ],
        [
         "7",
         "1038108720",
         "MEJIA GUZMAN SAMUEL",
         "samuel.mguzman@udea.edu.co",
         "1.7",
         "2.3"
        ],
        [
         "8",
         "1038647828",
         "NIEBLES BARRERA ALEXANDER ISAAC",
         "alexander.niebles@udea.edu.co",
         "3.5",
         "2.8"
        ],
        [
         "9",
         "1045426138",
         "OQUENDO MONA CRISTIAN GABRIEL",
         "cristian.oquendo1@udea.edu.co",
         "1.0",
         "0.2"
        ],
        [
         "10",
         "1038136953",
         "PATINO GIL CHRISTIAN FELIPE",
         "christian.patino1@udea.edu.co",
         "5.0",
         "4.7"
        ],
        [
         "11",
         "1032250901",
         "PINO VERGARA LIZETH",
         "lizeth.pino@udea.edu.co",
         "1.8",
         "0.6"
        ],
        [
         "12",
         "1038092717",
         "RIVERA GUZMAN CRISTIAN",
         "cristian.rivera2@udea.edu.co",
         "5.0",
         "5.0"
        ],
        [
         "13",
         "1038110693",
         "ROMERO CALDERA JUAN ESTEBAN",
         "juanesteban.romero@udea.edu.co",
         "2.3",
         "1.6"
        ],
        [
         "14",
         "1038647713",
         "SÁNCHEZ HERRERA JUAN ESTEVAN",
         "estevan.sanchez@udea.edu.co",
         "4.0",
         "2.8"
        ],
        [
         "15",
         "1063359347",
         "SANCHEZ PACHECO MOISES DAVID",
         "moises.sanchez1@udea.edu.co",
         "1.6",
         "3.0"
        ],
        [
         "16",
         "1066600819",
         "TIRADO CHAVARRIA WILFRAN DE JESUS",
         "wilfran.tirado@udea.edu.co",
         "2.1",
         "3.0"
        ],
        [
         "17",
         "1038136995",
         "VERGARA ACEVEDO SARA CRISTINA",
         "scristina.vergara@udea.edu.co",
         "2.0",
         "1.6"
        ],
        [
         "18",
         "1007452831",
         "VILORIA SIERRA ALEXANDER",
         "a.viloria1@udea.edu.co",
         "0.1",
         "1.6"
        ],
        [
         "19",
         "98640265",
         "MARCO JULIO CAÑAS CAMPILLO",
         "marco.canas@udea.edu.co",
         null,
         null
        ]
       ],
       "shape": {
        "columns": 5,
        "rows": 19
       }
      },
      "text/html": [
       "<div>\n",
       "<style scoped>\n",
       "    .dataframe tbody tr th:only-of-type {\n",
       "        vertical-align: middle;\n",
       "    }\n",
       "\n",
       "    .dataframe tbody tr th {\n",
       "        vertical-align: top;\n",
       "    }\n",
       "\n",
       "    .dataframe thead th {\n",
       "        text-align: right;\n",
       "    }\n",
       "</style>\n",
       "<table border=\"1\" class=\"dataframe\">\n",
       "  <thead>\n",
       "    <tr style=\"text-align: right;\">\n",
       "      <th></th>\n",
       "      <th>Cedula</th>\n",
       "      <th>Nombre</th>\n",
       "      <th>Email</th>\n",
       "      <th>q1</th>\n",
       "      <th>p1</th>\n",
       "    </tr>\n",
       "  </thead>\n",
       "  <tbody>\n",
       "    <tr>\n",
       "      <th>1</th>\n",
       "      <td>1038648096</td>\n",
       "      <td>ACEVEDO BELEÑO SANTIAGO</td>\n",
       "      <td>sacevedo.beleno@udea.edu.co</td>\n",
       "      <td>4.4</td>\n",
       "      <td>3.9</td>\n",
       "    </tr>\n",
       "    <tr>\n",
       "      <th>2</th>\n",
       "      <td>1038111190</td>\n",
       "      <td>CANOLE PEÑATE SEBASTIAN</td>\n",
       "      <td>sebastian.canolep@udea.edu.co</td>\n",
       "      <td>2.1</td>\n",
       "      <td>3.1</td>\n",
       "    </tr>\n",
       "    <tr>\n",
       "      <th>3</th>\n",
       "      <td>1038113597</td>\n",
       "      <td>CORREA RESTREPO NICOLAS</td>\n",
       "      <td>nicolas.crestrepo@udea.edu.co</td>\n",
       "      <td>3.0</td>\n",
       "      <td>2.2</td>\n",
       "    </tr>\n",
       "    <tr>\n",
       "      <th>4</th>\n",
       "      <td>1038108190</td>\n",
       "      <td>HERNANDEZ GOMEZ MICHAEL</td>\n",
       "      <td>michael.hernandez@udea.edu.co</td>\n",
       "      <td>0.0</td>\n",
       "      <td>0.2</td>\n",
       "    </tr>\n",
       "    <tr>\n",
       "      <th>5</th>\n",
       "      <td>1038648760</td>\n",
       "      <td>MARIN VILLARREAL PABLO ALEJANDRO</td>\n",
       "      <td>pablo.marin1@udea.edu.co</td>\n",
       "      <td>2.4</td>\n",
       "      <td>3.1</td>\n",
       "    </tr>\n",
       "    <tr>\n",
       "      <th>6</th>\n",
       "      <td>1193401041</td>\n",
       "      <td>MARTINEZ MANJARREZ DANIELA ESTHER</td>\n",
       "      <td>daniela.martinezm@udea.edu.co</td>\n",
       "      <td>1.6</td>\n",
       "      <td>1.0</td>\n",
       "    </tr>\n",
       "    <tr>\n",
       "      <th>7</th>\n",
       "      <td>1038108720</td>\n",
       "      <td>MEJIA GUZMAN SAMUEL</td>\n",
       "      <td>samuel.mguzman@udea.edu.co</td>\n",
       "      <td>1.7</td>\n",
       "      <td>2.3</td>\n",
       "    </tr>\n",
       "    <tr>\n",
       "      <th>8</th>\n",
       "      <td>1038647828</td>\n",
       "      <td>NIEBLES BARRERA ALEXANDER ISAAC</td>\n",
       "      <td>alexander.niebles@udea.edu.co</td>\n",
       "      <td>3.5</td>\n",
       "      <td>2.8</td>\n",
       "    </tr>\n",
       "    <tr>\n",
       "      <th>9</th>\n",
       "      <td>1045426138</td>\n",
       "      <td>OQUENDO MONA CRISTIAN GABRIEL</td>\n",
       "      <td>cristian.oquendo1@udea.edu.co</td>\n",
       "      <td>1.0</td>\n",
       "      <td>0.2</td>\n",
       "    </tr>\n",
       "    <tr>\n",
       "      <th>10</th>\n",
       "      <td>1038136953</td>\n",
       "      <td>PATINO GIL CHRISTIAN FELIPE</td>\n",
       "      <td>christian.patino1@udea.edu.co</td>\n",
       "      <td>5.0</td>\n",
       "      <td>4.7</td>\n",
       "    </tr>\n",
       "    <tr>\n",
       "      <th>11</th>\n",
       "      <td>1032250901</td>\n",
       "      <td>PINO VERGARA LIZETH</td>\n",
       "      <td>lizeth.pino@udea.edu.co</td>\n",
       "      <td>1.8</td>\n",
       "      <td>0.6</td>\n",
       "    </tr>\n",
       "    <tr>\n",
       "      <th>12</th>\n",
       "      <td>1038092717</td>\n",
       "      <td>RIVERA GUZMAN CRISTIAN</td>\n",
       "      <td>cristian.rivera2@udea.edu.co</td>\n",
       "      <td>5.0</td>\n",
       "      <td>5.0</td>\n",
       "    </tr>\n",
       "    <tr>\n",
       "      <th>13</th>\n",
       "      <td>1038110693</td>\n",
       "      <td>ROMERO CALDERA JUAN ESTEBAN</td>\n",
       "      <td>juanesteban.romero@udea.edu.co</td>\n",
       "      <td>2.3</td>\n",
       "      <td>1.6</td>\n",
       "    </tr>\n",
       "    <tr>\n",
       "      <th>14</th>\n",
       "      <td>1038647713</td>\n",
       "      <td>SÁNCHEZ HERRERA JUAN ESTEVAN</td>\n",
       "      <td>estevan.sanchez@udea.edu.co</td>\n",
       "      <td>4.0</td>\n",
       "      <td>2.8</td>\n",
       "    </tr>\n",
       "    <tr>\n",
       "      <th>15</th>\n",
       "      <td>1063359347</td>\n",
       "      <td>SANCHEZ PACHECO MOISES DAVID</td>\n",
       "      <td>moises.sanchez1@udea.edu.co</td>\n",
       "      <td>1.6</td>\n",
       "      <td>3.0</td>\n",
       "    </tr>\n",
       "    <tr>\n",
       "      <th>16</th>\n",
       "      <td>1066600819</td>\n",
       "      <td>TIRADO CHAVARRIA WILFRAN DE JESUS</td>\n",
       "      <td>wilfran.tirado@udea.edu.co</td>\n",
       "      <td>2.1</td>\n",
       "      <td>3.0</td>\n",
       "    </tr>\n",
       "    <tr>\n",
       "      <th>17</th>\n",
       "      <td>1038136995</td>\n",
       "      <td>VERGARA ACEVEDO SARA CRISTINA</td>\n",
       "      <td>scristina.vergara@udea.edu.co</td>\n",
       "      <td>2.0</td>\n",
       "      <td>1.6</td>\n",
       "    </tr>\n",
       "    <tr>\n",
       "      <th>18</th>\n",
       "      <td>1007452831</td>\n",
       "      <td>VILORIA SIERRA ALEXANDER</td>\n",
       "      <td>a.viloria1@udea.edu.co</td>\n",
       "      <td>0.1</td>\n",
       "      <td>1.6</td>\n",
       "    </tr>\n",
       "    <tr>\n",
       "      <th>19</th>\n",
       "      <td>98640265</td>\n",
       "      <td>MARCO JULIO CAÑAS CAMPILLO</td>\n",
       "      <td>marco.canas@udea.edu.co</td>\n",
       "      <td>NaN</td>\n",
       "      <td>NaN</td>\n",
       "    </tr>\n",
       "  </tbody>\n",
       "</table>\n",
       "</div>"
      ],
      "text/plain": [
       "        Cedula                             Nombre  \\\n",
       "1   1038648096            ACEVEDO BELEÑO SANTIAGO   \n",
       "2   1038111190            CANOLE PEÑATE SEBASTIAN   \n",
       "3   1038113597            CORREA RESTREPO NICOLAS   \n",
       "4   1038108190            HERNANDEZ GOMEZ MICHAEL   \n",
       "5   1038648760   MARIN VILLARREAL PABLO ALEJANDRO   \n",
       "6   1193401041  MARTINEZ MANJARREZ DANIELA ESTHER   \n",
       "7   1038108720                MEJIA GUZMAN SAMUEL   \n",
       "8   1038647828    NIEBLES BARRERA ALEXANDER ISAAC   \n",
       "9   1045426138      OQUENDO MONA CRISTIAN GABRIEL   \n",
       "10  1038136953        PATINO GIL CHRISTIAN FELIPE   \n",
       "11  1032250901                PINO VERGARA LIZETH   \n",
       "12  1038092717             RIVERA GUZMAN CRISTIAN   \n",
       "13  1038110693        ROMERO CALDERA JUAN ESTEBAN   \n",
       "14  1038647713       SÁNCHEZ HERRERA JUAN ESTEVAN   \n",
       "15  1063359347       SANCHEZ PACHECO MOISES DAVID   \n",
       "16  1066600819  TIRADO CHAVARRIA WILFRAN DE JESUS   \n",
       "17  1038136995      VERGARA ACEVEDO SARA CRISTINA   \n",
       "18  1007452831           VILORIA SIERRA ALEXANDER   \n",
       "19    98640265         MARCO JULIO CAÑAS CAMPILLO   \n",
       "\n",
       "                             Email   q1   p1  \n",
       "1      sacevedo.beleno@udea.edu.co  4.4  3.9  \n",
       "2    sebastian.canolep@udea.edu.co  2.1  3.1  \n",
       "3    nicolas.crestrepo@udea.edu.co  3.0  2.2  \n",
       "4    michael.hernandez@udea.edu.co  0.0  0.2  \n",
       "5         pablo.marin1@udea.edu.co  2.4  3.1  \n",
       "6    daniela.martinezm@udea.edu.co  1.6  1.0  \n",
       "7       samuel.mguzman@udea.edu.co  1.7  2.3  \n",
       "8    alexander.niebles@udea.edu.co  3.5  2.8  \n",
       "9    cristian.oquendo1@udea.edu.co  1.0  0.2  \n",
       "10   christian.patino1@udea.edu.co  5.0  4.7  \n",
       "11         lizeth.pino@udea.edu.co  1.8  0.6  \n",
       "12    cristian.rivera2@udea.edu.co  5.0  5.0  \n",
       "13  juanesteban.romero@udea.edu.co  2.3  1.6  \n",
       "14     estevan.sanchez@udea.edu.co  4.0  2.8  \n",
       "15     moises.sanchez1@udea.edu.co  1.6  3.0  \n",
       "16      wilfran.tirado@udea.edu.co  2.1  3.0  \n",
       "17   scristina.vergara@udea.edu.co  2.0  1.6  \n",
       "18          a.viloria1@udea.edu.co  0.1  1.6  \n",
       "19         marco.canas@udea.edu.co  NaN  NaN  "
      ]
     },
     "execution_count": 1,
     "metadata": {},
     "output_type": "execute_result"
    }
   ],
   "source": [
    "import pandas as pd\n",
    "import numpy as np\n",
    "\n",
    "# Cargar la lista de estudiantes desde el archivo CSV\n",
    "path = 'C:/Users/marco/Documentos/docencia/groups_list/algebra_and_trigonometry.xlsx'\n",
    "df = pd.read_excel(path)\n",
    "df.index = range(1,len(df) + 1)\n",
    "df \n"
   ]
  },
  {
   "cell_type": "markdown",
   "id": "d7598d0a-d9b7-4ae0-b029-a0ed6ed1130b",
   "metadata": {},
   "source": [
    "\n",
    "# Principios de mi labor docente"
   ]
  },
  {
   "cell_type": "markdown",
   "id": "4f9d8cf9",
   "metadata": {
    "slideshow": {
     "slide_type": "slide"
    }
   },
   "source": [
    "## Modelo general de clase: [aula invertida](https://www3.gobiernodecanarias.org/medusa/ecoescuela/pedagotic/aprendizaje-invertido-flipped-classroom/)"
   ]
  },
  {
   "cell_type": "markdown",
   "id": "eb6ed03a",
   "metadata": {},
   "source": [
    "<img src = 'https://resources.maneuveringthemiddle.com/wp-content/uploads/2020/07/04212706/1-5.png' width = 200>  \n",
    "\n"
   ]
  },
  {
   "cell_type": "markdown",
   "id": "34319cce-a71b-4f64-aab8-b53e521efa40",
   "metadata": {},
   "source": [
    "# Metodología de Aprendizaje Basado en Problemas y Proyectos (ABPP)\n"
   ]
  },
  {
   "cell_type": "markdown",
   "id": "c4f73d81",
   "metadata": {},
   "source": [
    "\n",
    "<img src = 'https://www.unir.net/wp-content/uploads/2020/07/aprendizaje-problemas2-1-1-1-1.jpeg' width = 200>"
   ]
  },
  {
   "cell_type": "markdown",
   "id": "841a985c-bd9b-4dd3-8e4c-893983980af2",
   "metadata": {},
   "source": [
    "# Desarrollo del pensamiento computacional con Lenguajes Python y R, y con archivos Markdown orientado a la formación en ciencia de datos \n",
    "\n"
   ]
  },
  {
   "cell_type": "markdown",
   "id": "3d0eba94",
   "metadata": {},
   "source": [
    "\n",
    "<img src = 'https://i.ytimg.com/vi/mcG_wcR4e6M/maxresdefault.jpg' width = 200>"
   ]
  },
  {
   "cell_type": "markdown",
   "id": "65aa0404-f7ae-495e-864c-1aec01b4255e",
   "metadata": {},
   "source": [
    "# Principio de fomento a la ciencia abierta, enseñar en el acceso a los datos públicos y el uso de software de código abierto  \n"
   ]
  },
  {
   "cell_type": "markdown",
   "id": "18ae9b87",
   "metadata": {},
   "source": [
    "\n",
    "<img src = 'https://unesdoc.unesco.org/in/rest/Thumb/image?id=p%3A%3Ausmarcdef_0000379949_spa&author=UNESCO&title=Recomendaci%C3%B3n+de+la+UNESCO+sobre+la+Ciencia+Abierta&year=2021&publisher=UNESCO&TypeOfDocument=UnescoPhysicalDocument&mat=PGD&ct=true&size=512&isPhysical=1' width = 200>"
   ]
  },
  {
   "cell_type": "markdown",
   "id": "d9559f85",
   "metadata": {},
   "source": [
    "El enfoque STEAMS en educación preescolar, primaria y secundaria es una extensión del enfoque STEM (Ciencia, Tecnología, Ingeniería y Matemáticas) y su variante STEAM, que incorpora el Arte. "
   ]
  },
  {
   "cell_type": "markdown",
   "id": "0130ec1b",
   "metadata": {},
   "source": [
    "\n",
    "<img src = 'https://www.campuseducacion.com/blog/wp-content/uploads/2023/03/foto01-1.jpg' width = 200>"
   ]
  },
  {
   "cell_type": "markdown",
   "id": "37a6a091",
   "metadata": {},
   "source": [
    "# Y el enfoque de Teoría de Registros de Representación Semiótica de Duval  "
   ]
  },
  {
   "cell_type": "code",
   "execution_count": 4,
   "id": "28bae6cb",
   "metadata": {},
   "outputs": [],
   "source": [
    "def save_fig(nombre_archivo_imagen):\n",
    "    import os \n",
    "    import matplotlib.pyplot as plt\n",
    "    ubicacion_para_imagenes = r\"C:/Users/marco/Downloads\"\n",
    "    imagen_path = os.path.join(ubicacion_para_imagenes, nombre_archivo_imagen)\n",
    "    plt.savefig(imagen_path, bbox_inches='tight')"
   ]
  },
  {
   "cell_type": "markdown",
   "id": "10e55ccf",
   "metadata": {},
   "source": [
    "# Estructura general para todas las clases\n"
   ]
  },
  {
   "cell_type": "markdown",
   "id": "ddd73417",
   "metadata": {},
   "source": [
    "\n",
    "Dame, por favor, un diseño de clase, con el enfoque: \"Aula Invertida, STEAMS, de Aprendizaje Basado en Problemas y Proyectos (ABPP) y de Teoría de Registros de Representación Semiótica (TRRS) de Duval\" sobre: \"Ecuaciones: un enfoque para la clase de álgebra y trigonometría según el programa de curso: https://github.com/marco-canas/algebra_y_trigonometria/blob/main/0_programa_curso/1_programa_algebra_and_trigonometry.md; y para el curso de Geometría Euclidiana, analítica y vectorial.\", siguiendo la estructura:  \n",
    "\n",
    "\n",
    "\n",
    "1. Título de la clase   \n",
    "   \n",
    "2. Objetivo de aprendizaje que incluyan los indicadores del logro de estos objetivos. \n",
    "   \n",
    "3. Un mapa conceptual que resuma la clase elaborado en Graphviz de python con nodos y edges de diferentes formas, colores y rellenos y renderizado en la siguiente ubicación: `\"C:\\Users\\marco\\Downloads\"`.  No olvides el parámetro `view = True` para el método `render()` de Graphviz. Para este mapa controla las superposiciones de los nodos con: graph [overlap=false]; // Elimina superposiciones (puede aumentar el espacio)\n",
    "graph [overlap=\"scalexy\"]; // Escala el gráfico para evitar overlaps\n",
    "graph [overlap=\"compress\"]; // Comprime el grafo sin overlaps  \n",
    "   \n",
    "4. Elementos históricos y epistemológicos relevantes para la clase, pero narrados como una historieta al estilo de un cuentero antioqueño en Colombia. Incluye imágenes de los protagonistas históricos de esta clase.  \n",
    "   \n",
    "5. Contenido de la clase:     \n",
    "   \n",
    "          \n",
    "        \n",
    "6. Actividades de aprendizaje:   \n",
    "   \n",
    "7. Incluye una canción o un poema que ayude a interiorizar y fijar los conceptos asociados a esta clase.   \n",
    "   \n",
    "8.  Tarea o actividades de ejercitación y fijación. Incluye 20 ejercicios de tarea en las que los estudiantes empiecen con la descripción geométrica del algoritmo, luego la descripción verbal y secuencial del algoritmo, después la implementación en lenguaje python editado a través de la terminal powershell de su computador y finalmente con el cálculo a mano y en su cuaderno. Crea una función de usuario de Python que asigne esta tareas a cada uno de los estudiantes matriculados en este curso tomando la ubicación de los estudiantes dada en este prompt.  \n",
    "    \n",
    "9. Evaluación incluyendo 20 proyectos, un ejemplo de quiz (con tres items) y un ejemplo de parcial (con 5 items). Incluye evaluaciones en las que los estudiantes empiecen con la descripción geométrica del algoritmo, luego la descripción verbal y secuencial del algoritmo, después la implementación en lenguaje python editado a través de la terminal powershell de su computador, y finalmente con el cálculo algebraico y numérico a mano y en su cuaderno. \n",
    "    \n",
    "10. Diseño de actividad de retroalimentación.   \n",
    "    \n",
    "11. Dame un vocabulario y frases del idioma inglés asociadas a esta clase.    \n",
    "     \n",
    "12. Incluye apéndice para la clase sobre desarrollo de habilidades para trabajar en equipo y de asertividad y empatía para relacionarnos. También elementos de la inteligencia emocional para presentar pruebas sin temor y sin realizar fraude en ellas.    \n",
    "     \n",
    "13. Incluye 10 referentes en didáctica de la matemática que estén de acuerdo a la propuesta didáctica de esta clase. Adiciona a estos referentes a Raymond Duval (Representaciones y cambios de representación para la adquisición de conceptos matemáticos) y a [Jeannette Wing](https://es.wikipedia.org/wiki/Jeannette_Wing) (Desarrollo del pensamiento computacional). Déjame todos estos referentes ordenados de acuerdo a las normas APA. Al crear la clase, introduce las citas de estos autores en el texto de la clase.\n",
    "\n",
    "\n",
    "Pero  que este diseño sea para que el estudiante pueda aprender experimentando en cuadernos Jupyter con funciones de usuario y animaciones y visualizaciones en python.   \n",
    "\n",
    "En particular utiliza para el diseño de clase a Numpy, Pandas, SymPy, Matplotlib.pyplot, Seaborn, Plotly, ipywidgets, matplotlib.animation, TensorFlow, Keras y Jupyter Notebook.    \n",
    "\n",
    "Cada vez que utilices `matplotlib.animacion` no olvides incluir el uso de `IPython. display` para la rederización de estas animaciones a través de Jupyter Notebook. No olvides darme los diseños de clase con las ecuaciones matemáticas delimitadas con signo de dolar $ para que VS Code si me renderize estas expresiones del lenguaje latex. Cuando vallas a utilizar ipywidgets ten en cuenta la siguiente importación inicial para garantizar que la visualización interactiva si se renderize en VS Code:   \n",
    "\n",
    "\n",
    "Ubicación del diseño de investigación IAE: https://github.com/marco-canas/algebra_y_trigonometria/blob/main/1_plan_curso/0_dise%C3%B1o_invts_IAE.md\n",
    "\n",
    "Ubicación del programa del curso: [aquí](un enfoque para la clase de álgebra y trigonometría según el programa de curso: https://github.com/marco-canas/algebra_y_trigonometria/blob/main/0_programa_curso/1_programa_algebra_and_trigonometry.md)   \n",
    "\n",
    "Ubicación del texto Guía: https://archive.org/details/algebra-y-trigonometria-con-geometria-analitica-13va-edicion-earl-w.-swokowski/page/n3/mode/2up\n",
    "\n",
    "Ubicación de la lista de estudiantes matriculados: [Aquí](https://github.com/marco-canas/groups_list/blob/main/vector_geometry_and_linear_algebra.xlsx)  \n",
    "\n",
    "\n",
    "\n",
    "\n",
    "\n"
   ]
  },
  {
   "cell_type": "markdown",
   "id": "f39ebbcb",
   "metadata": {},
   "source": [
    "# Diseño de clase: **Ecuaciones: un enfoque para Álgebra y Trigonometría**\n"
   ]
  },
  {
   "cell_type": "markdown",
   "id": "c2678826",
   "metadata": {},
   "source": [
    "\n",
    "**Contexto:** Curso: Álgebra y Trigonometría; complemento: Geometría Euclidiana, Analítica y Vectorial. Diseño pensado para **Aula Invertida, STEAMS, ABPP (Aprendizaje Basado en Problemas y Proyectos)** y la **Teoría de Registros de Representación Semiótica (Duval)**. Las actividades están pensadas para ejecutarse en **Jupyter notebooks** usando **NumPy, Pandas, SymPy, Matplotlib, Seaborn, Plotly, ipywidgets, matplotlib.animation, TensorFlow, Keras** y animaciones renderizadas con `IPython.display`.\n",
    "\n",
    "---\n"
   ]
  },
  {
   "cell_type": "markdown",
   "id": "490a3560",
   "metadata": {},
   "source": [
    "\n",
    "## 1. Título de la clase\n",
    "\n",
    "**Ecuaciones: representación, modelación y solución — de lo geométrico a lo computacional.**\n",
    "\n",
    "---\n"
   ]
  },
  {
   "cell_type": "markdown",
   "id": "5301cf9c",
   "metadata": {},
   "source": [
    "\n",
    "## 2. Objetivo de aprendizaje y sus indicadores\n",
    "\n",
    "**Objetivo general:**\n",
    "El estudiante será capaz de **representar, interpretar y resolver ecuaciones algebraicas y trigonométricas** mediante cambios de registro semiótico (gráfico, simbólico, tabular, verbal y computacional) y aplicarlas para modelar problemas reales de geometría euclidiana, analítica y vectorial.\n"
   ]
  },
  {
   "cell_type": "markdown",
   "id": "3a43c004",
   "metadata": {},
   "source": [
    "\n",
    "**Indicadores de logro (evaluables):**\n",
    "\n",
    "* I1: Identifica y describe la representación geométrica de una ecuación lineal, cuadrática o trigonométrica. (Observación de cuaderno / entrega en Jupyter)\n",
    "* I2: Traduce una representación geométrica a una expresión algebraica simbólica correcta usando SymPy ($y=mx+b$, $ax^2+bx+c=0$, $r\\sin\\theta$, etc.).\n",
    "* I3: Implementa algoritmos de resolución en Python (terminal PowerShell editando archivos `.py` o celdas en Jupyter) que encuentren soluciones numéricas y simbólicas.\n",
    "* I4: Construye y valida un modelo aplicado (p.ej. intersección de parcelas, cálculo de pendientes para riego) y produce un informe con visualizaciones en Matplotlib/Plotly.\n",
    "* I5: Usa registros múltiples (Duval) para justificar la equivalencia entre representaciones y explicar los pasos de solución.\n",
    "\n",
    "---\n"
   ]
  },
  {
   "cell_type": "markdown",
   "id": "981a3ade",
   "metadata": {},
   "source": [
    "\n",
    "## 3. Mapa conceptual (Graphviz en Python)\n",
    "\n",
    "A continuación hay un bloque de código Python con `graphviz` que genera el mapa conceptual y lo renderiza en `C:\\Users\\marco\\Downloads`. **Ejecuta este bloque en tu Jupyter Notebook local** (asegúrate de tener graphviz instalado y el binario en PATH):\n",
    "\n",
    "\n"
   ]
  },
  {
   "cell_type": "code",
   "execution_count": 2,
   "id": "279a78c1",
   "metadata": {},
   "outputs": [
    {
     "ename": "SyntaxError",
     "evalue": "invalid syntax (2254811539.py, line 47)",
     "output_type": "error",
     "traceback": [
      "  \u001b[36mCell\u001b[39m\u001b[36m \u001b[39m\u001b[32mIn[2]\u001b[39m\u001b[32m, line 47\u001b[39m\n\u001b[31m    \u001b[39m\u001b[31m```\u001b[39m\n    ^\n\u001b[31mSyntaxError\u001b[39m\u001b[31m:\u001b[39m invalid syntax\n"
     ]
    }
   ],
   "source": [
    "# Mapa conceptual - Graphviz (guárdalo y ejecuta en tu entorno local)\n",
    "from graphviz import Digraph\n",
    "\n",
    "g = Digraph('G', filename='mapa_ecuaciones', format='pdf')\n",
    "# recomendaciones de layout\n",
    "g.attr(graph='overlap=false')\n",
    "g.attr(graph,'overlap=\"scalexy\"')\n",
    "g.attr(graph,'overlap=\"compress\"')\n",
    "\n",
    "# estilos de nodos\n",
    "g.attr('node', style='filled', fontname='Helvetica')\n",
    "\n",
    "# Nodos principales\n",
    "g.node('E', 'Ecuaciones', shape='doublecircle', fillcolor='#FFEEAA')\n",
    "g.node('G', 'Representación Geométrica', shape='box', fillcolor='#CCFFCC')\n",
    "g.node('S', 'Representación Simbólica', shape='ellipse', fillcolor='#CCE5FF')\n",
    "g.node('T', 'Representación Tabular', shape='rectangle', fillcolor='#F0D9FF')\n",
    "g.node('C', 'Computacional (Python)', shape='cylinder', fillcolor='#FFD9E6')\n",
    "g.node('V', 'Visualización (Matplotlib/Plotly)', shape='note', fillcolor='#FFF0B3')\n",
    "\n",
    "# Relaciones\n",
    "g.edge('E','G', label='vista como curva/recta')\n",
    "g.edge('E','S', label='ecuación algebraica / trigonométrica')\n",
    "g.edge('S','C', label='implementación (SymPy, NumPy)')\n",
    "g.edge('C','V', label='gráficos y animaciones')\n",
    "g.edge('T','C', label='datos y tablas (Pandas)')\n",
    "g.edge('G','V', label='plots geométricos')\n",
    "g.edge('S','T', label='valores y soluciones')\n",
    "\n",
    "# Detalles y ejemplos\n",
    "g.node('L', 'Lineal: y=mx+b', shape='note', fillcolor='#E6FFFF')\n",
    "g.node('Q', 'Cuadrática: ax^2+bx+c=0', shape='note', fillcolor='#E6FFFF')\n",
    "g.node('Tr', 'Trig: a sin x + b cos x', shape='note', fillcolor='#E6FFFF')\n",
    "\n",
    "g.edge('S','L')\n",
    "g.edge('S','Q')\n",
    "g.edge('S','Tr')\n",
    "\n",
    "# Guardar y renderizar en la ubicación solicitada\n",
    "# El método render() mostrará el archivo si view=True y el sistema puede abrir PDFs\n",
    "output_path = r\"C:\\Users\\marco\\Downloads\\mapa_ecuaciones\"\n",
    "\n",
    "# render\n",
    "g.render(filename=output_path, view=True)\n",
    "\n",
    "print('Mapa conceptual generado en:', output_path + '.pdf')\n",
    "```\n",
    "\n",
    "> **Nota:** si Graphviz no puede abrir la vista automáticamente en tu sistema desde Jupyter, abre `C:\\Users\\marco\\Downloads\\mapa_ecuaciones.pdf` manualmente.\n",
    "\n",
    "---\n"
   ]
  },
  {
   "cell_type": "markdown",
   "id": "fa0a290d",
   "metadata": {},
   "source": [
    "\n",
    "## 4. Elementos históricos y epistemológicos (historieta al estilo cuentero antioqueño)\n",
    "\n",
    "*(Aquí va un cuento breve — ejecutable y reproducible en Jupyter como celda Markdown— con personajes históricos: Euclides, Al-Jwarizmi, Descartes, Euler y Mary Somerville como protagonistas. Adjunta imágenes en tu notebook usando URLs o archivándolas en la carpeta del curso.)*\n",
    "\n",
    "**Historieta:**\n",
    "\n",
    "> En un corregimiento de la sabana —dice el viejo contador de historias— se reunieron Euclides, Al-Jwarizmi, Descartes y Euler en una plazoleta, cada uno con su sombrero de historias...\n",
    "\n",
    "(El relato continúa en el notebook con cuadros de diálogo. Inserta imágenes de los protagonistas desde Wikimedia Commons en celdas Markdown o deja marcadores para que el profesor descargue y pegue las imágenes locales.)\n",
    "\n",
    "**Instrucciones para imágenes:**\n",
    "\n",
    "* Buscar en Wikimedia Commons: `Euclid`, `Al-Khwarizmi`, `René Descartes`, `Leonhard Euler`, `Mary Somerville` y descargar JPEG/PNG. Insertar en Markdown con `![Euclides](./images/euclid.jpg)`.\n",
    "\n",
    "---\n"
   ]
  },
  {
   "cell_type": "markdown",
   "id": "7ffcff4a",
   "metadata": {},
   "source": [
    "\n",
    "## 5. Contenido de la clase\n",
    "\n",
    "1. Revisión rápida (pre-clase): Lectura dirigida (Aula invertida) — capítulos seleccionados del **programa del curso** y del texto base (Swokowski). Material en GitHub (link enviado en el prompt).\n",
    "2. Conceptos clave:\n",
    "\n",
    "   * Qué es una ecuación; tipos: lineales, cuadráticas, polinomiales, trascendentes y trigonométricas.\n",
    "   * Registros semióticos (Duval): gráfico, simbólico, tabular, verbal y computacional.\n",
    "   * Métodos de solución: factorización, completación de cuadrado, fórmula cuadrática, métodos numéricos (Newton), métodos simbólicos (SymPy), técnicas trigonométricas.\n",
    "3. Aplicaciones geométricas: intersección de rectas, tangentes, distancia punto-recta, rotaciones y transformaciones vectoriales.\n",
    "4. Flujo computacional: de la representación geométrica → simbólica → implementación en Python → visualización y validación.\n",
    "\n",
    "---\n"
   ]
  },
  {
   "cell_type": "markdown",
   "id": "e12de32d",
   "metadata": {},
   "source": [
    "\n",
    "## 6. Actividades de aprendizaje (en clase y laboratorio)\n",
    "\n",
    "**Antes de clase (Aula invertida):**\n",
    "\n",
    "* Videos breves (5–8 min) sobre registros de representación y solución de ecuaciones. Lectura guía del capítulo correspondiente en Swokowski.\n",
    "\n",
    "**Durante la clase (sesión presencial / sincrónica):**\n",
    "\n",
    "* Actividad ABPP 1 (Problema local): “Diseñar el sistema de riego de una parcela rectangular con pendiente dada; encontrar ecuación de recta, pendiente y punto de corte con cauce.” (Trabajo en grupos STEAMS).\n",
    "* Laboratorio en Jupyter (hands-on): Implementar en Python la ecuación de la recta dada dos puntos y graficar con Matplotlib y Plotly; usar ipywidgets para variar parámetros en tiempo real.\n",
    "\n",
    "**Post-clase (proyecto corto):**\n",
    "\n",
    "* Construir un informe con: representaciones múltiples, código en Jupyter, animaciones (matplotlib.animation) y un breve vídeo de 2 min explicando la equivalencia entre registros.\n",
    "\n",
    "---\n"
   ]
  },
  {
   "cell_type": "markdown",
   "id": "fc96d3bc",
   "metadata": {},
   "source": [
    "\n",
    "## 7. Canción/Poema para interiorizar conceptos\n",
    "\n",
    "**Poema (rima breve para la clase):**\n",
    "\n",
    "> En la línea y la curva está la verdad,\n",
    "> \\$y=mx+b\\$ te da la rectitud.\n",
    "> Si la parábola asoma su faz,\n",
    "> \\$ax^2+bx+c\\$ te dirá su paz.\n",
    "> Con Python lo quieres comprobar,\n",
    "> SymPy y NumPy te ayudarán a hallar.\n",
    "\n",
    "(Se puede musicalizar en un ritmo vallenato o bambuco local para memoria semántica).\n",
    "\n",
    "---\n"
   ]
  },
  {
   "cell_type": "markdown",
   "id": "2eedd80b",
   "metadata": {},
   "source": [
    "\n",
    "## 8. Tarea: 20 ejercicios (con pasos: geométrico → verbal → Python en PowerShell → cálculo manual)\n",
    "\n",
    "**Estructura para cada ejercicio:**\n",
    "\n",
    "1. Descripción geométrica del algoritmo (dibujar en cuaderno).\n",
    "2. Descripción verbal y secuencial del algoritmo.\n",
    "3. Implementación en Python (script .py o celda Jupyter). Indicaciones para ejecutarlo desde PowerShell: `python tarea_x.py` o abrir Jupyter.\n",
    "4. Resolución analítica a mano en cuaderno.\n",
    "\n",
    "**(Listado resumido de 20 ejercicios — cada uno sigue la estructura anterior)**\n",
    "\n",
    "1. Recta a partir de dos puntos: hallar ecuación y pendiente; graficar.\n",
    "2. Intersección de dos rectas.\n",
    "3. Distancia punto-recta.\n",
    "4. Ecuación de la mediatriz.\n",
    "5. Circunferencia que pasa por tres puntos.\n",
    "6. Tangente a una parábola en un punto.\n",
    "7. Solución de ecuación cuadrática por fórmula y Newton.\n",
    "8. Suma y producto de raíces: problemas aplicados.\n",
    "9. Sistemas lineales 2x2 y 3x3 (Gauss, Cramer).\n",
    "10. Transformación trigonométrica: \\$a\\sin x + b\\cos x\\$ en forma \\$R\\sin(x+\\phi)\\$.\n",
    "11. Ecuación de la recta normal y distancia mínima a una curva.\n",
    "12. Resolución de ecuación trigonométrica básica en $\\[0,2\\pi)\\$.\n",
    "13. Análisis de función racional y sus raíces.\n",
    "14. Intersección parabola-recta.\n",
    "15. Problema aplicado: determinar pendiente para riego óptimo.\n",
    "16. Problema vectorial: ecuación paramétrica de una recta en el plano.\n",
    "17. Minimización de error cuadrático (regresión lineal simple).\n",
    "18. Inversión de una matriz 3x3 y solución de sistema.\n",
    "19. Análisis de estabilidad de soluciones usando Newton y comparación con SymPy.\n",
    "20. Proyecto corto: modelar la trayectoria proyectil (sin y con resistencia simple) y resolver ecuaciones resultantes.\n",
    "\n",
    "**Función en Python que asigna estas tareas a estudiantes (usa lista de estudiantes almacenada en el archivo Excel indicado en el prompt).**\n",
    "\n"
   ]
  },
  {
   "cell_type": "code",
   "execution_count": null,
   "id": "2f73e959",
   "metadata": {},
   "outputs": [],
   "source": [
    "\n",
    "# Asignador de tareas (ejecutar en Jupyter o script). Requiere 'pandas' y que el archivo Excel esté descargado localmente.\n",
    "import pandas as pd\n",
    "import math\n",
    "\n",
    "def asignar_tareas(ruta_excel, hoja=0):\n",
    "    df = pd.read_excel(ruta_excel, sheet_name=hoja)\n",
    "    # Se asume columna 'nombre' y 'correo' y 'ubicacion' si existe\n",
    "    estudiantes = df['nombre'].tolist()\n",
    "    n = len(estudiantes)\n",
    "    tareas = list(range(1,21))\n",
    "    distribucion = {}\n",
    "    for i, est in enumerate(estudiantes):\n",
    "        # Asigna tarea de forma rotativa\n",
    "        tarea = tareas[i % len(tareas)]\n",
    "        distribucion[est] = tarea\n",
    "    return distribucion\n",
    "\n",
    "# Ejemplo de uso:\n",
    "# ruta = r\"C:\\ruta\\vector_geometry_and_linear_algebra.xlsx\"\n",
    "# print(asignar_tareas(ruta))\n",
    "\n"
   ]
  },
  {
   "cell_type": "markdown",
   "id": "1b24bd63",
   "metadata": {},
   "source": [
    "\n",
    "> **Nota:** en este script se asume que has descargado el archivo `vector_geometry_and_linear_algebra.xlsx` de tu repositorio GitHub a una ruta local. Modifica el nombre de la columna si es necesario.\n",
    "\n",
    "---\n"
   ]
  },
  {
   "cell_type": "markdown",
   "id": "a3fee46d",
   "metadata": {},
   "source": [
    "\n",
    "## 9. Evaluación\n",
    "\n",
    "**20 proyectos (resumen):** cada proyecto exige: representación geométrica, explicación verbal/algorítmica, implementación en Python (ejecutable desde PowerShell), resultados numéricos, y pruebas a mano. (Lista corta de 5 ejemplos de proyecto en el canvas para no saturar el documento — el resto sigue la misma estructura).\n",
    "\n",
    "**Ejemplo de quiz (3 ítems):**\n",
    "\n",
    "1. (Múltiple opción) ¿Cuál es la derivada de \\$y=3x^2+2x\\$? Opciones: a) \\$6x+2\\$ b) \\$3x+2\\$ c) \\$6x\\$.\n",
    "2. (Verdadero/Falso) Si dos rectas tienen pendientes iguales y distinto intercepto, son paralelas. (V/F)\n",
    "3. (Corto) Usando la forma \\$R\\sin(x+\\phi)\\$, expresa \\$3\\sin x - 4\\cos x\\$.\n",
    "\n",
    "**Ejemplo de parcial (5 ítems, mixto):**\n",
    "\n",
    "1. (Descripción geométrica) Dibuja y describe la intersección entre la recta \\$y=2x+1\\$ y la parábola \\$y=x^2\\$. Halla puntos de intersección. (Incluye representación gráfica y cálculo a mano)\n",
    "2. (Algorítmico/verbal) Explica paso a paso el método de Newton para encontrar raíces y discute condiciones de convergencia.\n",
    "3. (Implementación en Python) Escribe un script que implemente Newton para una función dada y ejecútalo en PowerShell; incluye salida y captura de errores. (Se entrega código y captura de pantalla del terminal)\n",
    "4. (Cálculo simbólico) Resuelve la ecuación trigonométrica \\$2\\sin x - 1 = 0\\$ en $\\[0,2\\pi)\\$ usando SymPy y a mano.\n",
    "5. (Proyecto corto) Diseña una pequeña aplicación en Jupyter que, dada una nube de puntos, encaje una recta por mínimos cuadrados y compare con la solución algebraica.\n",
    "\n",
    "---\n",
    "\n",
    "## 10. Diseño de actividad de retroalimentación\n",
    "\n",
    "* Rondas rápidas de retroalimentación 5–10 min al final de cada clase con formato \"Plus/Delta\" (qué salió bien / qué mejorar).\n",
    "* Retroalimentación asincrónica: comentarios en el repositorio GitHub y revisión por pares (peer review) del notebook.\n",
    "* Uso de rúbricas claras: precisión matemática (30%), calidad de código (20%), documentación y representación múltiple (30%), trabajo en equipo y presentación (20%).\n",
    "\n",
    "---\n"
   ]
  },
  {
   "cell_type": "markdown",
   "id": "d24597ba",
   "metadata": {},
   "source": [
    "\n",
    "## 11. Vocabulario y frases en inglés (útil para clase)\n",
    "\n",
    "* Equation — Ecuación\n",
    "* Root / Zero — Raíz / cero de la función\n",
    "* Slope — Pendiente\n",
    "* Intercept — Intersección con eje (intercepto)\n",
    "* Quadratic equation — Ecuación cuadrática\n",
    "* Solve symbolically — Resolver simbólicamente\n",
    "* Numerical methods — Métodos numéricos\n",
    "* Geometric representation — Representación geométrica\n",
    "* Least squares — Mínimos cuadrados\n",
    "\n",
    "Frases útiles:\n",
    "\n",
    "* \"Write the equation of the line passing through points A and B.\" — \"Escribe la ecuación de la recta que pasa por A y B.\"\n",
    "* \"Implement Newton's method in Python and show convergence.\" — \"Implementa el método de Newton en Python y muestra la convergencia.\"\n",
    "\n",
    "---\n",
    "\n",
    "## 12. Apéndice: habilidades socioemocionales y trabajo en equipo\n",
    "\n",
    "Incluye guía breve para trabajar en equipos: roles (coordinador, documentador, programador, presentador), recomendaciones de comunicación asertiva, y pautas para manejar ansiedad ante evaluaciones (respiración, descomposición de tareas, práctica distribuida). Añade actividades de dinámica de grupo y rúbricas de comunicación y ética (honestidad académica, cómo reportar y evitar fraude).\n",
    "\n",
    "---\n"
   ]
  },
  {
   "cell_type": "markdown",
   "id": "c0f7317e",
   "metadata": {},
   "source": [
    "\n",
    "## 13. Referentes en didáctica de la matemática (ordenados en formato APA)\n",
    "\n",
    "A continuación una lista de 12 referentes (incluye Duval y Wing) alineados con el enfoque. *Las referencias pueden necesitar ajuste de ediciones específicas dependiendo de la edición consultada.*\n",
    "\n",
    "* Duval, R. (1995). *Representation, vision and visualization: cognitive functions.* (consultar compilados y traducciones).\n",
    "* Wing, J. M. (2006). *Computational Thinking.* Communications of the ACM.\n",
    "* Sfard, A. (1991). *On the dual nature of mathematical conceptions: reflections on processes and objects as different sides of the same coin.* Educational Studies in Mathematics.\n",
    "* Tall, D. (1991). *The psychology of advanced mathematical thinking.*\n",
    "* Vygotsky, L. S. (1978). *Mind in Society: The development of higher psychological processes.*\n",
    "* Mason, J., Burton, L., & Stacey, K. (1985). *Thinking Mathematically.*\n",
    "* Papert, S. (1980). *Mindstorms: Children, Computers, and Powerful Ideas.*\n",
    "* Hattie, J., & Timperley, H. (2007). *The power of feedback.* Review of Educational Research.\n",
    "* Noss, R., & Hoyles, C. (1996). *Windows on mathematical meaning: learning cultures and computers.*\n",
    "* Lave, J., & Wenger, E. (1991). *Situated Learning: Legitimate peripheral participation.*\n",
    "* Piaget, J. (1970). *Logic and Psychology.*\n",
    "* Bruner, J. (1966). *Toward a Theory of Instruction.*\n",
    "\n",
    "> Dentro del contenido de la clase se han citado a Duval y a Wing al introducir los marcos teóricos de representación semiótica y pensamiento computacional.\n",
    "\n",
    "---\n"
   ]
  },
  {
   "cell_type": "markdown",
   "id": "15f7d8b5",
   "metadata": {},
   "source": [
    "\n",
    "### Recursos y enlaces del curso (apuntar a los repositorios que indicaste)\n",
    "\n",
    "* Programa del curso (GitHub): [https://github.com/marco-canas/algebra\\_y\\_trigonometria/blob/main/0\\_programa\\_curso/1\\_programa\\_algebra\\_and\\_trigonometry.md](https://github.com/marco-canas/algebra_y_trigonometria/blob/main/0_programa_curso/1_programa_algebra_and_trigonometry.md)\n",
    "* Diseño de investigación IAE: [https://github.com/marco-canas/algebra\\_y\\_trigonometria/blob/main/1\\_plan\\_curso/0\\_dise%C3%B1o\\_invts\\_IAE.md](https://github.com/marco-canas/algebra_y_trigonometria/blob/main/1_plan_curso/0_dise%C3%B1o_invts_IAE.md)\n",
    "* Texto guía Swokowski (archive.org): enlace provisto en tu prompt.\n",
    "* Lista de estudiantes (descargar localmente desde): [https://github.com/marco-canas/groups\\_list/blob/main/vector\\_geometry\\_and\\_linear\\_algebra.xlsx](https://github.com/marco-canas/groups_list/blob/main/vector_geometry_and_linear_algebra.xlsx)\n",
    "\n",
    "---\n",
    "\n",
    "**Fin del diseño.**\n",
    "\n",
    "*Si quieres, puedo ahora:*\n",
    "\n",
    "* Extraer y generar los **20 notebooks Jupyter** (plantillas) con celdas de instrucción, código y tests automáticos; o\n",
    "* Generar la **tabla comparativa de rubricas** y la plantilla YAML para la rúbrica; o\n",
    "* Exportar este diseño a un archivo `.md` o `.pdf` que puedas descargar.\n"
   ]
  },
  {
   "cell_type": "markdown",
   "id": "cc539357",
   "metadata": {},
   "source": [
    "# [Programación de programa Regiones](https://lookerstudio.google.com/reporting/44e71da0-d16f-4a51-a51e-d5ae6c19b3f1/page/p_gy4nwf37hd?pli=1)"
   ]
  },
  {
   "cell_type": "markdown",
   "id": "8ba64aed",
   "metadata": {},
   "source": [
    "# Cursos que orienta el profesor Marco Julio Cañas Campillo en 2025  \n",
    "\n",
    "1. Lunes 8 a 12: Fundamentos de Lógica: Licenciatura en Matemáticas. \n",
    "2. Martes de 9 a 11: Curso de Álgebra y Trigonometría.  \n",
    "3. Martes de 2 a 5 PM: Vector Geometry and Linear Algebra.  \n",
    "4. Viernes 8 a 10 AM: Asesoría Trabajo de Grado Janis (Estudiante de Biología).\n",
    "4. Viernes: 10 a 11 AM: Reunión equipo investigador SAT Dengue.  \n",
    "6. Viernes 2 a 6 PM: Análisis Numérico: Programa de Licenciatura en Matemáticas."
   ]
  },
  {
   "cell_type": "markdown",
   "id": "8d41fe58",
   "metadata": {
    "slideshow": {
     "slide_type": "slide"
    }
   },
   "source": [
    "# Horario de clases del profesor Marco\n",
    "\n",
    "* Lunes 8-12:   \n",
    "* Lunes 2- 6 PM: Fundamento de Lógica.  \n",
    "* Martes 8-12 M: . \n",
    "* Miércoles 8 a 12 M:   \n",
    "* Miércoles de 2 a 6 PM: \n",
    "* Jueves 2 a 6 PM:  \n",
    "* Viernes 2 - 4 PM: Análisis Numérico. \n",
    "* Sábados 8-12 Asesorías y espacio para retroalimentación y apoyo al trabajo independiente. "
   ]
  },
  {
   "cell_type": "markdown",
   "id": "ae114e14",
   "metadata": {
    "slideshow": {
     "slide_type": "slide"
    }
   },
   "source": [
    "# Horarios de monitoría y asesoría  \n",
    "\n",
    "* Monitor Manuel San Juan Serrano: Contactar escribiendo al correo: manuel.serrano1@udea.edu.co"
   ]
  },
  {
   "cell_type": "markdown",
   "id": "bf0f9dbf",
   "metadata": {},
   "source": [
    "\n",
    "Coordinador de los cursos de la Facultad de Educación para regiones:    \n",
    "\n",
    "Andrés Vélez: regioneducacion.fedu@udea.edu.co  \n",
    "Coordinador Regiones  \n",
    "Facultad de Educación  \n",
    "Universidad de Antioquia  "
   ]
  },
  {
   "cell_type": "markdown",
   "id": "39559692",
   "metadata": {
    "slideshow": {
     "slide_type": "slide"
    }
   },
   "source": [
    "Martes y jueves de 8 - 12  \n",
    "Miércoles 10 - 12 y de 2 a 4 PM  \n",
    "Sábado: 8 - 12"
   ]
  },
  {
   "cell_type": "markdown",
   "id": "10bce0d0",
   "metadata": {
    "slideshow": {
     "slide_type": "slide"
    }
   },
   "source": [
    "## Referentes "
   ]
  },
  {
   "cell_type": "markdown",
   "id": "1db3c468",
   "metadata": {
    "slideshow": {
     "slide_type": "slide"
    }
   },
   "source": [
    "* [CALCULO I DE UNA VARIABLE Ron Larson-Bruce Edwards. Mc Graw Hill. 9º Edición](https://www.academia.edu/42139251/CALCULO_I_DE_UNA_VARIABLE_Ron_Larson_Bruce_Edwards_Mc_Graw_Hill_9o_Edici%C3%B3n)   \n",
    "  \n",
    "\n",
    "* [Grajales Vanegas, L. M., Restrepo Estrada, C. E., Restrepo Ochoa, S. I., & Ruíz De Villalba, F. (2015). Matemáticas I para las ciencias económicas.](https://bibliotecadigital.udea.edu.co/handle/10495/3010)\n",
    "  \n",
    "* R. Duval y Semiosis y pensamiento humano, 2.ª ed. Cali, Colombia: Programa Editorial Universidad del Valle, 2017. [En línea]. Disponible en: https://programaeditorial.univalle.edu.co/gpd-semiosis-y-pensamiento-humano-9789587655278-63324cdb0f6b3.html\n",
    "\n",
    "* [Aylwin, C. U. (2011). Lógica, conjuntos y números. Universidad de los Andes, Consejo de Publicaciones, Colección: Ciencias Básicas, Serie: Matemáticas.](chrome-extension://efaidnbmnnnibpcajpcglclefindmkaj/https://www.u-cursos.cl/ciencias/2011/1/MC110/1/material_docente/bajar?id_material=574722)\n",
    "  \n",
    "* [Chollet, F. (2021). Deep learning with Python. Simon and Schuster.](chrome-extension://efaidnbmnnnibpcajpcglclefindmkaj/https://tanthiamhuat.wordpress.com/wp-content/uploads/2018/03/deeplearningwithpython.pdf)  \n",
    "  \n",
    "* [Watson, S., Stewart, J., & Redlin, L. (2009). Precálculo. Matemáticas para el cálculo.](https://github.com/marco-canas/calculo/blob/main/referents/1_precalculo_stewart/stewart_precalculo.pdf)  \n",
    "\n",
    "* [Purcell, E. J., Varberg, D., & Rigdon, S. E. (2007). Cálculo diferencial e integral. Pearson Educación.](https://github.com/marco-canas/calculo/blob/main/referents/purcell/purcell_calculo.pdf)\n",
    "\n",
    "  \n",
    "\n",
    "* [stewart cálculo](https://udeaeduco-my.sharepoint.com/:b:/g/personal/marco_canas_udea_edu_co/EZgXZjAp8QxPqOAim2hs6LcBNPLGjSHf-xwYnUVYkwa04w?e=RZdTCy)  \n",
    "\n",
    "\n",
    "\n",
    "\n",
    "\n",
    "* [Recomendación de la UNESCO sobre ciencia abierta](https://unesdoc.unesco.org/ark:/48223/pf0000379949_spa)\n",
    "\n",
    "* [chatGPT](https://openai.com/blog/chatgpt)  \n",
    "\n",
    "* [Géron, A. (2017). Hands-on machine learning with scikit-learn and tensorflow: Concepts. Tools, and Techniques to build intelligent systems.](chrome-extension://efaidnbmnnnibpcajpcglclefindmkaj/http://14.139.161.31/OddSem-0822-1122/Hands-On_Machine_Learning_with_Scikit-Learn-Keras-and-TensorFlow-2nd-Edition-Aurelien-Geron.pdf)   \n"
   ]
  },
  {
   "cell_type": "markdown",
   "id": "df925560",
   "metadata": {},
   "source": [
    "\n",
    "* [McKinney, W. (2012). Python for data analysis: Data wrangling with Pandas, NumPy, and IPython. \" O'Reilly Media, Inc.\".](https://wesmckinney.com/book/) "
   ]
  },
  {
   "cell_type": "markdown",
   "id": "8e65d6f9",
   "metadata": {},
   "source": [
    "# Como estudiante, encuentro que...   \n",
    "\n",
    "F: Mis Fortalezas son:     \n",
    "O: Mis Oportunidades son:    \n",
    "D: Mis Debilidades son:    \n",
    "A: Lo que Amenazas mi aprendizaje es:  "
   ]
  },
  {
   "cell_type": "markdown",
   "id": "6b9e56a8",
   "metadata": {
    "slideshow": {
     "slide_type": "slide"
    }
   },
   "source": [
    "### [Evaluamos al profesor Marco Cañas Aquí](https://forms.office.com/Pages/ResponsePage.aspx?id=IefhmYRxjkmK_7KtTlPBwkanXIs1i1FEujpsZgO6dXpUREJPV1kxUk1JV1ozTFJIQVNIQjY5WEY3US4u)"
   ]
  },
  {
   "cell_type": "markdown",
   "id": "10f43536",
   "metadata": {
    "slideshow": {
     "slide_type": "slide"
    }
   },
   "source": [
    "### Continue su aprendizaje en la siguiente clase a través del siguiente [vínculo]()"
   ]
  },
  {
   "cell_type": "markdown",
   "id": "53cc9115",
   "metadata": {
    "slideshow": {
     "slide_type": "slide"
    }
   },
   "source": [
    "## Agradecimientos  \n",
    "\n",
    "Doy gracias a Dios por la vida de mi Hijo Joseph Cañas Osorio y la madurez que ha alcanzado. Este hijo me enorgullece y me hace falta abrazarlo cada día. \n",
    "\n",
    "Y a mi esposa Yasmira Emperatriz Barboza Mogollón por su apoyo, orientación y acompañamiento. "
   ]
  },
  {
   "cell_type": "markdown",
   "id": "b6ba1c23",
   "metadata": {},
   "source": [
    "# Apéndice sobre calendarios y coordinaciones \n"
   ]
  },
  {
   "cell_type": "markdown",
   "id": "bf8b6499",
   "metadata": {},
   "source": [
    "## Calendario del semestre académico 2025-2  \n",
    "\n",
    "* Límite evaluación del 40%: 27 de septiembre de 2025  \n",
    "\n",
    "* Terminación de clases: 22 de noviembre de 2025\n",
    "\n",
    "* Exámenes finales: 24 al 29 de noviembre de 2025\n",
    "\n",
    "* Habilitación y validación: 01 al 06 de diciembre 2025\n",
    "\n",
    "* Terminación oficial del semestre: 09 de diciembre de 2025  "
   ]
  }
 ],
 "metadata": {
  "celltoolbar": "Slideshow",
  "kernelspec": {
   "display_name": ".venv",
   "language": "python",
   "name": "python3"
  },
  "language_info": {
   "codemirror_mode": {
    "name": "ipython",
    "version": 3
   },
   "file_extension": ".py",
   "mimetype": "text/x-python",
   "name": "python",
   "nbconvert_exporter": "python",
   "pygments_lexer": "ipython3",
   "version": "3.11.9"
  },
  "rise": {
   "enable_chalkboard": true,
   "theme": "sky",
   "transition": "zoom"
  }
 },
 "nbformat": 4,
 "nbformat_minor": 5
}
