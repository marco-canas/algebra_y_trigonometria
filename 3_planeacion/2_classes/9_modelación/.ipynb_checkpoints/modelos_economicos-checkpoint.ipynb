{
 "cells": [
  {
   "cell_type": "markdown",
   "metadata": {
    "colab_type": "text",
    "id": "view-in-github",
    "slideshow": {
     "slide_type": "slide"
    }
   },
   "source": [
    "<a href=\"https://colab.research.google.com/github/marco-canas/algebra/blob/main/Clase_7_sep_2022.ipynb\" target=\"_parent\"><img src=\"https://colab.research.google.com/assets/colab-badge.svg\" alt=\"Open In Colab\"/></a>"
   ]
  },
  {
   "cell_type": "markdown",
   "metadata": {
    "id": "jFdHk9QAM_Bj",
    "slideshow": {
     "slide_type": "slide"
    }
   },
   "source": [
    "[Vídeo de apoyo a la lectura experimental e interactiva de este cuaderno](https://www.youtube.com/watch?v=S6qIZavZwP0)"
   ]
  },
  {
   "cell_type": "markdown",
   "metadata": {
    "id": "q9snbp0MNDaY",
    "slideshow": {
     "slide_type": "slide"
    }
   },
   "source": [
    "# Construcción de modelos en aplicaciones de las matemáticas a la economía  \n",
    "En los ejemplos y ejercicios que siguen planteamos ecuacioes que modelan problemas en muchas situaciones distintas de la vida cotidiana.    "
   ]
  },
  {
   "cell_type": "markdown",
   "metadata": {
    "id": "q9snbp0MNDaY",
    "slideshow": {
     "slide_type": "slide"
    }
   },
   "source": [
    "## Ejemplo 2 Interés de una inversión  "
   ]
  },
  {
   "cell_type": "markdown",
   "metadata": {
    "id": "q9snbp0MNDaY",
    "slideshow": {
     "slide_type": "slide"
    }
   },
   "source": [
    "Leonardo hereda 450 millones de pesos y los invierte en dos certificados de depósito a término. Uno de los certificados paga el $6 \\%$ y el otro paga $4.5$ $\\%$ de interés anual simple.   Si el interés total de Leonardo es $22'491.900 pesos por año, ¿cuánto dinero está invertido en cada tasa?  "
   ]
  },
  {
   "cell_type": "markdown",
   "metadata": {
    "id": "q9snbp0MNDaY",
    "slideshow": {
     "slide_type": "slide"
    }
   },
   "source": [
    "1) Mire la pregunta y de ahí, defina la incógnita  \n",
    "\n",
    "## Conceptos asociados al problema  \n",
    "* La propiedad distributiva de la multiplicación con respecto a la suma. \n",
    "* Interés simple e interés compuesto.  \n",
    "* Propiedad de la balaza o propiedad uniforme.  \n",
    "* Transponer términos y factores."
   ]
  },
  {
   "cell_type": "markdown",
   "metadata": {
    "id": "5q5w7aSQRUDS",
    "slideshow": {
     "slide_type": "slide"
    }
   },
   "source": [
    "X: lo invertido al 6  \n",
    "\n",
    "450 - X es lo invertido al 4,5$%   \n",
    "\n",
    "Modelo:\n",
    "\n",
    "Lo invertido al 6% + Lo invetido al 4,5% = 450 Millones (Total)  \n",
    "\n",
    "X + (450 - X) = 450  \n",
    "\n",
    "Interés de lo invertido al 6% + Interés de lo invertido al 4.5% = Inversión total (22,491)    \n",
    "## El modelo de esta situación económica es:\n",
    "\n",
    "$$X(0,06) + (450 . X) (0,045)= 22,491$$ interés total \n",
    "\n"
   ]
  },
  {
   "cell_type": "code",
   "execution_count": null,
   "metadata": {
    "colab": {
     "base_uri": "https://localhost:8080/",
     "height": 37
    },
    "id": "zK9cjTwjVM7Z",
    "outputId": "eee74adf-8d6f-41d2-80db-9d864007c9a6",
    "slideshow": {
     "slide_type": "slide"
    }
   },
   "outputs": [
    {
     "data": {
      "text/latex": [
       "$\\displaystyle 149.46$"
      ],
      "text/plain": [
       "149.460000000000"
      ]
     },
     "execution_count": 5,
     "metadata": {},
     "output_type": "execute_result"
    }
   ],
   "source": [
    "from sympy import *\n",
    "\n",
    "x = var('x')\n",
    "modelo = Eq(x*0.06+ (450-x)*0.045, 22.4919)\n",
    "solve(modelo, x)[0]"
   ]
  },
  {
   "cell_type": "code",
   "execution_count": null,
   "metadata": {
    "colab": {
     "base_uri": "https://localhost:8080/",
     "height": 37
    },
    "id": "Zzfca4pcWW0i",
    "outputId": "77decfe0-5d3b-449c-c825-fcd24aab9962",
    "slideshow": {
     "slide_type": "slide"
    }
   },
   "outputs": [
    {
     "data": {
      "text/latex": [
       "$\\displaystyle 300.54$"
      ],
      "text/plain": [
       "300.540000000000"
      ]
     },
     "execution_count": 6,
     "metadata": {},
     "output_type": "execute_result"
    }
   ],
   "source": [
    "450-solve(modelo, x)[0]"
   ]
  },
  {
   "cell_type": "markdown",
   "metadata": {
    "id": "Re4PuqKrV3cY",
    "slideshow": {
     "slide_type": "slide"
    }
   },
   "source": [
    "Lo invertido al 6% efectivo anual es de $\\$149'460.000$ y lo invetido al $4.5\\%$ es $\\$300'540.000$ y me parece muy desascertado lo que hizo Leonardo pues es mejor invertir más a una tasa más alta de interés."
   ]
  },
  {
   "cell_type": "code",
   "execution_count": null,
   "metadata": {
    "colab": {
     "base_uri": "https://localhost:8080/"
    },
    "id": "kJTr63fnX3Su",
    "outputId": "28acdeb3-b5c7-4c6a-af5a-dcb9fff774d2",
    "slideshow": {
     "slide_type": "slide"
    }
   },
   "outputs": [
    {
     "data": {
      "text/plain": [
       "18.0"
      ]
     },
     "execution_count": 7,
     "metadata": {},
     "output_type": "execute_result"
    }
   ],
   "source": [
    "300*0.06"
   ]
  },
  {
   "cell_type": "code",
   "execution_count": null,
   "metadata": {
    "colab": {
     "base_uri": "https://localhost:8080/"
    },
    "id": "b2iOnyihX6js",
    "outputId": "b2e222dd-621c-4bb3-dc4f-2f2815184cfb",
    "slideshow": {
     "slide_type": "slide"
    }
   },
   "outputs": [
    {
     "data": {
      "text/plain": [
       "6.75"
      ]
     },
     "execution_count": 8,
     "metadata": {},
     "output_type": "execute_result"
    }
   ],
   "source": [
    "150*0.045"
   ]
  },
  {
   "cell_type": "code",
   "execution_count": null,
   "metadata": {
    "colab": {
     "base_uri": "https://localhost:8080/"
    },
    "id": "dvmK_LboX-vU",
    "outputId": "949c333f-fdea-4bd4-a38e-d54cc40125ec",
    "slideshow": {
     "slide_type": "slide"
    }
   },
   "outputs": [
    {
     "data": {
      "text/plain": [
       "24.75"
      ]
     },
     "execution_count": 9,
     "metadata": {},
     "output_type": "execute_result"
    }
   ],
   "source": [
    "300*0.06+150*0.045"
   ]
  },
  {
   "cell_type": "markdown",
   "metadata": {
    "id": "WQvr3URlYFTT",
    "slideshow": {
     "slide_type": "slide"
    }
   },
   "source": [
    "Note que hubiera ganado casi 25 millones de interés si hubiera invertido más dinero a una tasa más alta."
   ]
  }
 ],
 "metadata": {
  "celltoolbar": "Slideshow",
  "colab": {
   "authorship_tag": "ABX9TyMOEPxMWIEc97TXNFk1L7HZ",
   "include_colab_link": true,
   "provenance": []
  },
  "kernelspec": {
   "display_name": "Python 3 (ipykernel)",
   "language": "python",
   "name": "python3"
  },
  "language_info": {
   "codemirror_mode": {
    "name": "ipython",
    "version": 3
   },
   "file_extension": ".py",
   "mimetype": "text/x-python",
   "name": "python",
   "nbconvert_exporter": "python",
   "pygments_lexer": "ipython3",
   "version": "3.9.13"
  }
 },
 "nbformat": 4,
 "nbformat_minor": 1
}
