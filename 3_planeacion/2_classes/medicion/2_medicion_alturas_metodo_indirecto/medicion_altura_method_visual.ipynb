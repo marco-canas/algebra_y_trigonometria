{
 "cells": [
  {
   "cell_type": "markdown",
   "id": "4f3a9af6",
   "metadata": {},
   "source": []
  },
  {
   "cell_type": "markdown",
   "id": "0a449479",
   "metadata": {},
   "source": [
    "# Modelación de la medición de altura por el método de la visual"
   ]
  },
  {
   "cell_type": "code",
   "execution_count": 1,
   "id": "d74f6d69",
   "metadata": {
    "slideshow": {
     "slide_type": "slide"
    }
   },
   "outputs": [],
   "source": [
    "from medicion_visual import medir_altura_visual"
   ]
  },
  {
   "cell_type": "code",
   "execution_count": 3,
   "id": "9dc8387d",
   "metadata": {},
   "outputs": [
    {
     "data": {
      "text/latex": [
       "$\\displaystyle -280.0$"
      ],
      "text/plain": [
       "-280.000000000000"
      ]
     },
     "execution_count": 3,
     "metadata": {},
     "output_type": "execute_result"
    }
   ],
   "source": [
    "medir_altura_visual(altura_persona= 5, dpa= 25, dap=125, altura_arbol=20)"
   ]
  },
  {
   "cell_type": "code",
   "execution_count": null,
   "id": "6e735e8f",
   "metadata": {},
   "outputs": [],
   "source": []
  },
  {
   "cell_type": "code",
   "execution_count": null,
   "id": "e77d4296",
   "metadata": {},
   "outputs": [],
   "source": []
  },
  {
   "cell_type": "code",
   "execution_count": null,
   "id": "ddf738f4",
   "metadata": {},
   "outputs": [],
   "source": []
  }
 ],
 "metadata": {
  "celltoolbar": "Slideshow",
  "kernelspec": {
   "display_name": "Python 3 (ipykernel)",
   "language": "python",
   "name": "python3"
  },
  "language_info": {
   "codemirror_mode": {
    "name": "ipython",
    "version": 3
   },
   "file_extension": ".py",
   "mimetype": "text/x-python",
   "name": "python",
   "nbconvert_exporter": "python",
   "pygments_lexer": "ipython3",
   "version": "3.9.12"
  }
 },
 "nbformat": 4,
 "nbformat_minor": 5
}
