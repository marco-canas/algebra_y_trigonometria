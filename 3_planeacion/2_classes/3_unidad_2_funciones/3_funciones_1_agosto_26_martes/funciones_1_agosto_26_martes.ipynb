{
 "cells": [
  {
   "cell_type": "markdown",
   "id": "dc06dec7",
   "metadata": {
    "slideshow": {
     "slide_type": "slide"
    }
   },
   "source": [
    "<table align=\"left\">\n",
    "  <td>\n",
    "    <a href=\"https://colab.research.google.com/github/marco-canas/algebra_y_trigonometria/blob/main/3_planeacion/2_classes/3_unidad_2_funciones/3_funciones_1_agosto_26_martes/funciones_1_agosto_26_martes.ipynb\" target=\"_parent\"><img src=\"https://colab.research.google.com/assets/colab-badge.svg\" alt=\"Open In Colab\"/></a>\n",
    "  </td>\n",
    "  <td>\n",
    "    <a target=\"_blank\" href=\"https://kaggle.com/kernels/welcome?src=https://github.com/marco-canas/algebra_y_trigonometria/blob/main/3_planeacion/2_classes/3_unidad_2_funciones/3_funciones_1_agosto_26_martes/funciones_1_agosto_26_martes.ipynb\"><img src=\"https://kaggle.com/static/images/open-in-kaggle.svg\" /></a>\n",
    "  </td>\n",
    "</table>"
   ]
  },
  {
   "cell_type": "markdown",
   "id": "9eee306b",
   "metadata": {},
   "source": [
    "# generación del QR para el cuaderno de esta clase    \n",
    "\n",
    "Aquí tienes una función de Python que genera un código QR a partir de una URL y lo muestra en un cuaderno Jupyter:\n"
   ]
  },
  {
   "cell_type": "code",
   "execution_count": 5,
   "id": "7e0dbf6e",
   "metadata": {},
   "outputs": [],
   "source": [
    "import qrcode\n",
    "from IPython.display import display\n",
    "\n",
    "def generar_qr_notebook(url):\n",
    "    \"\"\"\n",
    "    Genera un código QR para una URL y lo muestra en un cuaderno Jupyter.\n",
    "    \n",
    "    Parámetros:\n",
    "    url (str): La URL para la cual se generará el código QR.\n",
    "    \n",
    "    Retorna:\n",
    "    None (pero muestra el código QR en el notebook)\n",
    "    \"\"\"\n",
    "    # Crear el objeto QR\n",
    "    qr = qrcode.QRCode(\n",
    "        version=1,\n",
    "        error_correction=qrcode.constants.ERROR_CORRECT_L,\n",
    "        box_size=10,\n",
    "        border=4,\n",
    "    )\n",
    "    \n",
    "    # Añadir la URL al código QR\n",
    "    qr.add_data(url)\n",
    "    qr.make(fit=True)\n",
    "    \n",
    "    # Crear la imagen del QR\n",
    "    img = qr.make_image(fill_color=\"black\", back_color=\"white\")\n",
    "    \n",
    "    # Mostrar la imagen en el notebook\n",
    "    display(img)\n",
    "\n"
   ]
  },
  {
   "cell_type": "code",
   "execution_count": 6,
   "id": "79e4ce17",
   "metadata": {},
   "outputs": [
    {
     "data": {
      "image/jpeg": "[encoded data removed]",
      "image/png": "[encoded data removed]",
      "text/plain": [
       "<qrcode.image.pil.PilImage at 0x245c36f8b50>"
      ]
     },
     "metadata": {},
     "output_type": "display_data"
    }
   ],
   "source": [
    "generar_qr_notebook(\"https://colab.research.google.com/github/marco-canas/algebra_y_trigonometria/blob/main/3_planeacion/2_classes/3_unidad_2_funciones/3_funciones_1_agosto_26_martes/funciones_1_agosto_26_martes.ipynb\")"
   ]
  },
  {
   "cell_type": "markdown",
   "id": "a6647ca4",
   "metadata": {},
   "source": [
    "\n",
    "### Notas:\n",
    "- La función usa la biblioteca `qrcode` para generar el código y `IPython.display` para mostrarlo en el notebook.\n",
    "- El código QR aparecerá como salida de la celda donde llames a la función.\n",
    "- Puedes ajustar parámetros como `box_size` (tamaño de los cuadrados) o `border` (tamaño del borde) según tus necesidades.\n"
   ]
  },
  {
   "cell_type": "markdown",
   "id": "e0c5b198",
   "metadata": {
    "slideshow": {
     "slide_type": "slide"
    }
   },
   "source": [
    "### [Video de apoyo a la lectura interactiva y experimental de este cuaderno]()"
   ]
  },
  {
   "cell_type": "markdown",
   "id": "41e82203",
   "metadata": {
    "slideshow": {
     "slide_type": "slide"
    }
   },
   "source": [
    "### [Vínculo al programa del curso Algebra_and_trigonometry:  ](https://github.com/marco-canas/algebra_y_trigonometria/blob/main/0_programa_curso/programa_algebra_and_trigonometry.md)\n",
    "Código del curso: 303001  "
   ]
  },
  {
   "cell_type": "markdown",
   "id": "d11ab06d",
   "metadata": {
    "slideshow": {
     "slide_type": "slide"
    }
   },
   "source": [
    "Un reconocimiento a mis estudiantes que han construido conmigo este saber pedagógico:\n",
    "\n",
    "<img src = 'https://github.com/marco-canas/algebra_y_trigonometria/blob/main/images/primera_clase_2025-08-05_a_las_12.06.22.jpg?raw=true'>   \n",
    "\n"
   ]
  },
  {
   "cell_type": "markdown",
   "id": "8a74a56c-0ce6-4ad6-b985-553fd7fb68bb",
   "metadata": {},
   "source": [
    "Reconocimiento a las profesoras destacadas en enseñanza de la matemática en Colombia\n"
   ]
  },
  {
   "cell_type": "code",
   "execution_count": 3,
   "id": "7604880f",
   "metadata": {
    "slideshow": {
     "slide_type": "slide"
    }
   },
   "outputs": [
    {
     "data": {
      "application/vnd.microsoft.datawrangler.viewer.v0+json": {
       "columns": [
        {
         "name": "index",
         "rawType": "int64",
         "type": "integer"
        },
        {
         "name": "Cedula",
         "rawType": "int64",
         "type": "integer"
        },
        {
         "name": "Nombre",
         "rawType": "object",
         "type": "string"
        },
        {
         "name": "Email",
         "rawType": "object",
         "type": "string"
        }
       ],
       "ref": "f6e3adc6-ee8c-49cf-a648-b2092da08f20",
       "rows": [
        [
         "0",
         "1038648096",
         "ACEVEDO BELEÑO SANTIAGO",
         "sacevedo.beleno@udea.edu.co"
        ],
        [
         "1",
         "1038648760",
         "MARIN VILLARREAL PABLO ALEJANDRO",
         "pablo.marin1@udea.edu.co"
        ],
        [
         "2",
         "1193401041",
         "MARTINEZ MANJARREZ DANIELA ESTHER",
         "daniela.martinezm@udea.edu.co"
        ],
        [
         "3",
         "1038108720",
         "MEJIA GUZMAN SAMUEL",
         "samuel.mguzman@udea.edu.co"
        ],
        [
         "4",
         "1038647828",
         "NIEBLES BARRERA ALEXANDER ISAAC",
         "alexander.niebles@udea.edu.co"
        ],
        [
         "5",
         "1045426138",
         "OQUENDO MONA CRISTIAN GABRIEL",
         "cristian.oquendo1@udea.edu.co"
        ],
        [
         "6",
         "1032250901",
         "PINO VERGARA LIZETH",
         "lizeth.pino@udea.edu.co"
        ],
        [
         "7",
         "1038092717",
         "RIVERA GUZMAN CRISTIAN",
         "cristian.rivera2@udea.edu.co"
        ],
        [
         "8",
         "1038110693",
         "ROMERO CALDERA JUAN ESTEBAN",
         "juanesteban.romero@udea.edu.co"
        ],
        [
         "9",
         "1063359347",
         "SANCHEZ PACHECO MOISES DAVID",
         "moises.sanchez1@udea.edu.co"
        ],
        [
         "10",
         "1066600819",
         "TIRADO CHAVARRIA WILFRAN DE JESUS",
         "wilfran.tirado@udea.edu.co"
        ],
        [
         "11",
         "1038136995",
         "VERGARA ACEVEDO SARA CRISTINA",
         "scristina.vergara@udea.edu.co"
        ],
        [
         "12",
         "1007452831",
         "VILORIA SIERRA ALEXANDER",
         "a.viloria1@udea.edu.co"
        ]
       ],
       "shape": {
        "columns": 3,
        "rows": 13
       }
      },
      "text/html": [
       "<div>\n",
       "<style scoped>\n",
       "    .dataframe tbody tr th:only-of-type {\n",
       "        vertical-align: middle;\n",
       "    }\n",
       "\n",
       "    .dataframe tbody tr th {\n",
       "        vertical-align: top;\n",
       "    }\n",
       "\n",
       "    .dataframe thead th {\n",
       "        text-align: right;\n",
       "    }\n",
       "</style>\n",
       "<table border=\"1\" class=\"dataframe\">\n",
       "  <thead>\n",
       "    <tr style=\"text-align: right;\">\n",
       "      <th></th>\n",
       "      <th>Cedula</th>\n",
       "      <th>Nombre</th>\n",
       "      <th>Email</th>\n",
       "    </tr>\n",
       "  </thead>\n",
       "  <tbody>\n",
       "    <tr>\n",
       "      <th>0</th>\n",
       "      <td>1038648096</td>\n",
       "      <td>ACEVEDO BELEÑO SANTIAGO</td>\n",
       "      <td>sacevedo.beleno@udea.edu.co</td>\n",
       "    </tr>\n",
       "    <tr>\n",
       "      <th>1</th>\n",
       "      <td>1038648760</td>\n",
       "      <td>MARIN VILLARREAL PABLO ALEJANDRO</td>\n",
       "      <td>pablo.marin1@udea.edu.co</td>\n",
       "    </tr>\n",
       "    <tr>\n",
       "      <th>2</th>\n",
       "      <td>1193401041</td>\n",
       "      <td>MARTINEZ MANJARREZ DANIELA ESTHER</td>\n",
       "      <td>daniela.martinezm@udea.edu.co</td>\n",
       "    </tr>\n",
       "    <tr>\n",
       "      <th>3</th>\n",
       "      <td>1038108720</td>\n",
       "      <td>MEJIA GUZMAN SAMUEL</td>\n",
       "      <td>samuel.mguzman@udea.edu.co</td>\n",
       "    </tr>\n",
       "    <tr>\n",
       "      <th>4</th>\n",
       "      <td>1038647828</td>\n",
       "      <td>NIEBLES BARRERA ALEXANDER ISAAC</td>\n",
       "      <td>alexander.niebles@udea.edu.co</td>\n",
       "    </tr>\n",
       "    <tr>\n",
       "      <th>5</th>\n",
       "      <td>1045426138</td>\n",
       "      <td>OQUENDO MONA CRISTIAN GABRIEL</td>\n",
       "      <td>cristian.oquendo1@udea.edu.co</td>\n",
       "    </tr>\n",
       "    <tr>\n",
       "      <th>6</th>\n",
       "      <td>1032250901</td>\n",
       "      <td>PINO VERGARA LIZETH</td>\n",
       "      <td>lizeth.pino@udea.edu.co</td>\n",
       "    </tr>\n",
       "    <tr>\n",
       "      <th>7</th>\n",
       "      <td>1038092717</td>\n",
       "      <td>RIVERA GUZMAN CRISTIAN</td>\n",
       "      <td>cristian.rivera2@udea.edu.co</td>\n",
       "    </tr>\n",
       "    <tr>\n",
       "      <th>8</th>\n",
       "      <td>1038110693</td>\n",
       "      <td>ROMERO CALDERA JUAN ESTEBAN</td>\n",
       "      <td>juanesteban.romero@udea.edu.co</td>\n",
       "    </tr>\n",
       "    <tr>\n",
       "      <th>9</th>\n",
       "      <td>1063359347</td>\n",
       "      <td>SANCHEZ PACHECO MOISES DAVID</td>\n",
       "      <td>moises.sanchez1@udea.edu.co</td>\n",
       "    </tr>\n",
       "    <tr>\n",
       "      <th>10</th>\n",
       "      <td>1066600819</td>\n",
       "      <td>TIRADO CHAVARRIA WILFRAN DE JESUS</td>\n",
       "      <td>wilfran.tirado@udea.edu.co</td>\n",
       "    </tr>\n",
       "    <tr>\n",
       "      <th>11</th>\n",
       "      <td>1038136995</td>\n",
       "      <td>VERGARA ACEVEDO SARA CRISTINA</td>\n",
       "      <td>scristina.vergara@udea.edu.co</td>\n",
       "    </tr>\n",
       "    <tr>\n",
       "      <th>12</th>\n",
       "      <td>1007452831</td>\n",
       "      <td>VILORIA SIERRA ALEXANDER</td>\n",
       "      <td>a.viloria1@udea.edu.co</td>\n",
       "    </tr>\n",
       "  </tbody>\n",
       "</table>\n",
       "</div>"
      ],
      "text/plain": [
       "        Cedula                             Nombre  \\\n",
       "0   1038648096            ACEVEDO BELEÑO SANTIAGO   \n",
       "1   1038648760   MARIN VILLARREAL PABLO ALEJANDRO   \n",
       "2   1193401041  MARTINEZ MANJARREZ DANIELA ESTHER   \n",
       "3   1038108720                MEJIA GUZMAN SAMUEL   \n",
       "4   1038647828    NIEBLES BARRERA ALEXANDER ISAAC   \n",
       "5   1045426138      OQUENDO MONA CRISTIAN GABRIEL   \n",
       "6   1032250901                PINO VERGARA LIZETH   \n",
       "7   1038092717             RIVERA GUZMAN CRISTIAN   \n",
       "8   1038110693        ROMERO CALDERA JUAN ESTEBAN   \n",
       "9   1063359347       SANCHEZ PACHECO MOISES DAVID   \n",
       "10  1066600819  TIRADO CHAVARRIA WILFRAN DE JESUS   \n",
       "11  1038136995      VERGARA ACEVEDO SARA CRISTINA   \n",
       "12  1007452831           VILORIA SIERRA ALEXANDER   \n",
       "\n",
       "                             Email  \n",
       "0      sacevedo.beleno@udea.edu.co  \n",
       "1         pablo.marin1@udea.edu.co  \n",
       "2    daniela.martinezm@udea.edu.co  \n",
       "3       samuel.mguzman@udea.edu.co  \n",
       "4    alexander.niebles@udea.edu.co  \n",
       "5    cristian.oquendo1@udea.edu.co  \n",
       "6          lizeth.pino@udea.edu.co  \n",
       "7     cristian.rivera2@udea.edu.co  \n",
       "8   juanesteban.romero@udea.edu.co  \n",
       "9      moises.sanchez1@udea.edu.co  \n",
       "10      wilfran.tirado@udea.edu.co  \n",
       "11   scristina.vergara@udea.edu.co  \n",
       "12          a.viloria1@udea.edu.co  "
      ]
     },
     "execution_count": 3,
     "metadata": {},
     "output_type": "execute_result"
    }
   ],
   "source": [
    "import pandas as pd\n",
    "import numpy as np\n",
    "\n",
    "# Cargar la lista de estudiantes desde el archivo CSV\n",
    "path = 'C:/Users/marco/Documentos/docencia/groups_list/algebra_and_trigonometry.xlsx'\n",
    "df = pd.read_excel(path)\n",
    "df.head(13) \n"
   ]
  },
  {
   "cell_type": "markdown",
   "id": "d7598d0a-d9b7-4ae0-b029-a0ed6ed1130b",
   "metadata": {},
   "source": [
    "\n",
    "# Principios de mi labor docente"
   ]
  },
  {
   "cell_type": "markdown",
   "id": "4f9d8cf9",
   "metadata": {
    "slideshow": {
     "slide_type": "slide"
    }
   },
   "source": [
    "## Modelo general de clase: [aula invertida](https://www3.gobiernodecanarias.org/medusa/ecoescuela/pedagotic/aprendizaje-invertido-flipped-classroom/)"
   ]
  },
  {
   "cell_type": "markdown",
   "id": "eb6ed03a",
   "metadata": {},
   "source": [
    "<img src = 'https://resources.maneuveringthemiddle.com/wp-content/uploads/2020/07/04212706/1-5.png' width = 200>  \n",
    "\n"
   ]
  },
  {
   "cell_type": "markdown",
   "id": "34319cce-a71b-4f64-aab8-b53e521efa40",
   "metadata": {},
   "source": [
    "# Metodología de Aprendizaje Basado en Problemas y Proyectos (ABPP)\n"
   ]
  },
  {
   "cell_type": "markdown",
   "id": "c4f73d81",
   "metadata": {},
   "source": [
    "\n",
    "<img src = 'https://www.unir.net/wp-content/uploads/2020/07/aprendizaje-problemas2-1-1-1-1.jpeg' width = 200>"
   ]
  },
  {
   "cell_type": "markdown",
   "id": "841a985c-bd9b-4dd3-8e4c-893983980af2",
   "metadata": {},
   "source": [
    "# Desarrollo del pensamiento computacional con Lenguajes Python y R, y con archivos Markdown orientado a la formación en ciencia de datos \n",
    "\n"
   ]
  },
  {
   "cell_type": "markdown",
   "id": "3d0eba94",
   "metadata": {},
   "source": [
    "\n",
    "<img src = 'https://i.ytimg.com/vi/mcG_wcR4e6M/maxresdefault.jpg' width = 200>"
   ]
  },
  {
   "cell_type": "markdown",
   "id": "65aa0404-f7ae-495e-864c-1aec01b4255e",
   "metadata": {},
   "source": [
    "# Principio de fomento a la ciencia abierta, enseñar en el acceso a los datos públicos y el uso de software de código abierto  \n"
   ]
  },
  {
   "cell_type": "markdown",
   "id": "18ae9b87",
   "metadata": {},
   "source": [
    "\n",
    "<img src = 'https://unesdoc.unesco.org/in/rest/Thumb/image?id=p%3A%3Ausmarcdef_0000379949_spa&author=UNESCO&title=Recomendaci%C3%B3n+de+la+UNESCO+sobre+la+Ciencia+Abierta&year=2021&publisher=UNESCO&TypeOfDocument=UnescoPhysicalDocument&mat=PGD&ct=true&size=512&isPhysical=1' width = 200>"
   ]
  },
  {
   "cell_type": "markdown",
   "id": "d9559f85",
   "metadata": {},
   "source": [
    "El enfoque STEAMS en educación preescolar, primaria y secundaria es una extensión del enfoque STEM (Ciencia, Tecnología, Ingeniería y Matemáticas) y su variante STEAM, que incorpora el Arte. "
   ]
  },
  {
   "cell_type": "markdown",
   "id": "0130ec1b",
   "metadata": {},
   "source": [
    "\n",
    "<img src = 'https://www.campuseducacion.com/blog/wp-content/uploads/2023/03/foto01-1.jpg' width = 200>"
   ]
  },
  {
   "cell_type": "markdown",
   "id": "37a6a091",
   "metadata": {},
   "source": [
    "# Y el enfoque de Teoría de Registros de Representación Semiótica de Duval  "
   ]
  },
  {
   "cell_type": "code",
   "execution_count": 1,
   "id": "28bae6cb",
   "metadata": {},
   "outputs": [],
   "source": [
    "def save_fig(nombre_archivo_imagen):\n",
    "    import os \n",
    "    import matplotlib.pyplot as plt\n",
    "    ubicacion_para_imagenes = r\"C:/Users/marco/Downloads\"\n",
    "    imagen_path = os.path.join(ubicacion_para_imagenes, nombre_archivo_imagen)\n",
    "    plt.savefig(imagen_path, bbox_inches='tight')"
   ]
  },
  {
   "cell_type": "markdown",
   "id": "10e55ccf",
   "metadata": {},
   "source": [
    "# Estructura general para todas las clases\n"
   ]
  },
  {
   "cell_type": "markdown",
   "id": "ddd73417",
   "metadata": {},
   "source": [
    "\n",
    "Dame, por favor, un diseño de clase, con el enfoque: \"Aula Invertida, STEAMS, de Aprendizaje Basado en Problemas y Proyectos (ABPP) y de Teoría de Registros de Representación Semiótica (TRRS) de Duval\" sobre: \"Rectas, relaciones, funciones: dominio y rango. Clase teórica + GeoGebra + Matplotlib, Seaborn y Plotly de Python.: un enfoque para la clase de álgebra y trigonometría según el programa de curso: https://github.com/marco-canas/algebra_y_trigonometria/blob/main/0_programa_curso/1_programa_algebra_and_trigonometry.md; y para el curso de Geometría Euclidiana, analítica y vectorial.\", siguiendo la estructura:  \n",
    "\n",
    "\n",
    "\n",
    "1. Título de la clase   \n",
    "   \n",
    "2. Objetivo de aprendizaje que incluyan los indicadores del logro de estos objetivos. \n",
    "   \n",
    "3. Un mapa conceptual que resuma la clase elaborado en Graphviz de python con nodos y edges de diferentes formas, colores y rellenos y renderizado en la siguiente ubicación: `\"C:\\Users\\marco\\Downloads\"`.  No olvides el parámetro `view = True` para el método `render()` de Graphviz. Para este mapa controla las superposiciones de los nodos con: graph [overlap=false]; // Elimina superposiciones (puede aumentar el espacio)\n",
    "graph [overlap=\"scalexy\"]; // Escala el gráfico para evitar overlaps\n",
    "graph [overlap=\"compress\"]; // Comprime el grafo sin overlaps  \n",
    "   \n",
    "4. Elementos históricos y epistemológicos relevantes para la clase, pero narrados como una historieta al estilo de un cuentero antioqueño en Colombia. Incluye imágenes de los protagonistas históricos de esta clase.  \n",
    "   \n",
    "5. Contenido de la clase:     \n",
    "   \n",
    "          \n",
    "        \n",
    "6. Actividades de aprendizaje:   \n",
    "   \n",
    "7. Incluye una canción o un poema que ayude a interiorizar y fijar los conceptos asociados a esta clase.   \n",
    "   \n",
    "8.  Tarea o actividades de ejercitación y fijación. Incluye 20 ejercicios de tarea en las que los estudiantes empiecen con la descripción geométrica del algoritmo, luego la descripción verbal y secuencial del algoritmo, después la implementación en lenguaje python editado a través de la terminal powershell de su computador y finalmente con el cálculo a mano y en su cuaderno. Crea una función de usuario de Python que asigne esta tareas a cada uno de los estudiantes matriculados en este curso tomando la ubicación de los estudiantes dada en este prompt.  \n",
    "    \n",
    "9. Evaluación incluyendo 20 proyectos, un ejemplo de quiz (con tres items) y un ejemplo de parcial (con 5 items). Incluye evaluaciones en las que los estudiantes empiecen con la descripción geométrica del algoritmo, luego la descripción verbal y secuencial del algoritmo, después la implementación en lenguaje python editado a través de la terminal powershell de su computador, y finalmente con el cálculo algebraico y numérico a mano y en su cuaderno. \n",
    "    \n",
    "10. Diseño de actividad de retroalimentación.   \n",
    "    \n",
    "11. Dame un vocabulario y frases del idioma inglés asociadas a esta clase.    \n",
    "     \n",
    "12. Incluye apéndice para la clase sobre desarrollo de habilidades para trabajar en equipo y de asertividad y empatía para relacionarnos. También elementos de la inteligencia emocional para presentar pruebas sin temor y sin realizar fraude en ellas.    \n",
    "     \n",
    "13. Incluye 10 referentes en didáctica de la matemática que estén de acuerdo a la propuesta didáctica de esta clase. Adiciona a estos referentes a Raymond Duval (Representaciones y cambios de representación para la adquisición de conceptos matemáticos) y a [Jeannette Wing](https://es.wikipedia.org/wiki/Jeannette_Wing) (Desarrollo del pensamiento computacional). Déjame todos estos referentes ordenados de acuerdo a las normas APA. Al crear la clase, introduce las citas de estos autores en el texto de la clase.\n",
    "\n",
    "\n",
    "Pero  que este diseño sea para que el estudiante pueda aprender experimentando en cuadernos Jupyter con funciones de usuario y animaciones y visualizaciones en python.   \n",
    "\n",
    "En particular utiliza para el diseño de clase a Numpy, Pandas, SymPy, Matplotlib.pyplot, Seaborn, Plotly, ipywidgets, matplotlib.animation, TensorFlow, Keras y Jupyter Notebook.    \n",
    "\n",
    "Cada vez que utilices `matplotlib.animacion` no olvides incluir el uso de `IPython. display` para la rederización de estas animaciones a través de Jupyter Notebook. No olvides darme los diseños de clase con las ecuaciones matemáticas delimitadas con signo de dolar $ para que VS Code si me renderize estas expresiones del lenguaje latex. Cuando vallas a utilizar ipywidgets ten en cuenta la siguiente importación inicial para garantizar que la visualización interactiva si se renderize en VS Code:   \n",
    "\n",
    "\n",
    "Ubicación del diseño de investigación IAE: https://github.com/marco-canas/algebra_y_trigonometria/blob/main/1_plan_curso/0_dise%C3%B1o_invts_IAE.md\n",
    "\n",
    "Ubicación del programa del curso: [aquí](un enfoque para la clase de álgebra y trigonometría según el programa de curso: https://github.com/marco-canas/algebra_y_trigonometria/blob/main/0_programa_curso/1_programa_algebra_and_trigonometry.md)   \n",
    "\n",
    "Ubicación del texto Guía: https://archive.org/details/algebra-y-trigonometria-con-geometria-analitica-13va-edicion-earl-w.-swokowski/page/n3/mode/2up\n",
    "\n",
    "Ubicación de la lista de estudiantes matriculados: [Aquí](https://github.com/marco-canas/groups_list/blob/main/vector_geometry_and_linear_algebra.xlsx)  \n",
    "\n",
    "\n",
    "\n",
    "\n",
    "\n"
   ]
  },
  {
   "cell_type": "markdown",
   "id": "f39ebbcb",
   "metadata": {},
   "source": [
    "# **26/08/2025** Rectas, relaciones, funciones: dominio y rango. Clase teórica + GeoGebra, Matplotlib, Plotly, Seaborn.           |    \n",
    "\n"
   ]
  },
  {
   "cell_type": "markdown",
   "id": "8b9d1053",
   "metadata": {},
   "source": [
    "Te propongo un **diseño de clase integral** siguiendo el enfoque **Aula Invertida + STEAMS + ABPP + TRRS (Duval)**, con fuerte apoyo en **GeoGebra + Python (NumPy, Pandas, SymPy, Matplotlib, Seaborn, Plotly, ipywidgets, TensorFlow, Keras, matplotlib.animation, Jupyter Notebooks)**."
   ]
  },
  {
   "cell_type": "markdown",
   "id": "0210bfae",
   "metadata": {},
   "source": [
    "Está estructurado según tus 13 apartados, respetando el programa de tu curso y con un estilo para que los estudiantes puedan **aprender experimentando, programando y visualizando**.\n",
    "\n"
   ]
  },
  {
   "cell_type": "markdown",
   "id": "0799ab26",
   "metadata": {},
   "source": [
    "\n",
    "# Diseño de clase: Rectas, Relaciones y Funciones – Dominio y Rango\n",
    "\n",
    "---\n"
   ]
  },
  {
   "cell_type": "markdown",
   "id": "0ede05f9",
   "metadata": {},
   "source": [
    "\n",
    "## 1. Título de la clase\n",
    "\n",
    "**“Rectas, Relaciones y Funciones: dominio y rango con representaciones múltiples y visualización dinámica en GeoGebra y Python”**\n",
    "\n",
    "---\n"
   ]
  },
  {
   "cell_type": "markdown",
   "id": "29687b85",
   "metadata": {},
   "source": [
    "\n",
    "## 2. Objetivo de aprendizaje e indicadores\n"
   ]
  },
  {
   "cell_type": "markdown",
   "id": "2464fdc5",
   "metadata": {},
   "source": [
    "\n",
    "# * **Objetivo general:**\n",
    "Reconocer y analizar el concepto de **relaciones y funciones** con sus **dominios y rangos**, mediante representaciones múltiples (numéricas, algebraicas, gráficas, verbales y computacionales) para resolver problemas contextualizados en la vida real.\n"
   ]
  },
  {
   "cell_type": "markdown",
   "id": "76439a36",
   "metadata": {},
   "source": [
    "\n",
    "* **Objetivos específicos con indicadores:**\n",
    "\n",
    "  1. Identificar una relación y determinar si cumple las condiciones de ser una función.\n",
    "\n",
    "     * *Indicador:* El estudiante distingue entre relación y función en diferentes registros de representación (Duval, 1993).\n"
   ]
  },
  {
   "cell_type": "markdown",
   "id": "1a051cc5",
   "metadata": {},
   "source": [
    "  2. Calcular y representar gráficamente dominio y rango de funciones lineales, cuadráticas y racionales.\n",
    "\n",
    "     * *Indicador:* El estudiante grafica y analiza funciones en GeoGebra y Python, justificando el dominio y rango.\n",
    "  3. Usar Python (Matplotlib, Seaborn, Plotly) y GeoGebra para representar y animar funciones.\n",
    "\n",
    "     * *Indicador:* El estudiante crea cuadernos Jupyter con visualizaciones dinámicas.\n",
    "  4. Resolver un problema de la vida real usando rectas y funciones.\n",
    "\n",
    "     * *Indicador:* El estudiante desarrolla un mini-proyecto de modelación usando funciones y sus representaciones.\n",
    "\n",
    "---\n"
   ]
  },
  {
   "cell_type": "markdown",
   "id": "4bdbcb87",
   "metadata": {},
   "source": [
    "# Agenda de la clase del 26 de agosto Martes  \n",
    "\n",
    "1. Retroalimentación del quiz, felicitaciones, reconocer oportunidades, cosas a mejorar. \n",
    "2. Clase sobre funciones. \n",
    "3. (Opcional) Apoyo al parcial 1. "
   ]
  },
  {
   "cell_type": "markdown",
   "id": "9f862a28",
   "metadata": {},
   "source": [
    "\n",
    "## 3. Mapa conceptual en Graphviz\n"
   ]
  },
  {
   "cell_type": "code",
   "execution_count": 2,
   "id": "e41a1441",
   "metadata": {},
   "outputs": [
    {
     "data": {
      "text/plain": [
       "'C:\\\\Users\\\\marco\\\\Downloads\\\\mapa_funciones.pdf'"
      ]
     },
     "execution_count": 2,
     "metadata": {},
     "output_type": "execute_result"
    }
   ],
   "source": [
    "from graphviz import Digraph\n",
    "\n",
    "dot = Digraph(comment=\"Mapa conceptual: Rectas, Relaciones y Funciones\")\n",
    "dot.attr(size=\"10\", overlap=\"scalexy\")\n",
    "\n",
    "dot.node(\"R\", \"Relaciones\", shape=\"ellipse\", style=\"filled\", color=\"lightblue\")\n",
    "dot.node(\"F\", \"Funciones\", shape=\"box\", style=\"filled\", color=\"lightgreen\")\n",
    "dot.node(\"D\", \"Dominio\", shape=\"diamond\", style=\"filled\", color=\"yellow\")\n",
    "dot.node(\"Ra\", \"Rango\", shape=\"diamond\", style=\"filled\", color=\"orange\")\n",
    "dot.node(\"Geo\", \"GeoGebra\", shape=\"parallelogram\", style=\"filled\", color=\"pink\")\n",
    "dot.node(\"Py\", \"Python\", shape=\"parallelogram\", style=\"filled\", color=\"lightgrey\")\n",
    "dot.node(\"Mat\", \"Matplotlib\", shape=\"box3d\", style=\"filled\", color=\"violet\")\n",
    "dot.node(\"Sea\", \"Seaborn\", shape=\"box3d\", style=\"filled\", color=\"red\")\n",
    "dot.node(\"Plo\", \"Plotly\", shape=\"box3d\", style=\"filled\", color=\"cyan\")\n",
    "\n",
    "dot.edges([(\"R\", \"F\"), (\"F\", \"D\"), (\"F\", \"Ra\"), (\"F\", \"Geo\"), (\"F\", \"Py\")])\n",
    "dot.edges([(\"Py\", \"Mat\"), (\"Py\", \"Sea\"), (\"Py\", \"Plo\")])\n",
    "\n",
    "dot.render(r\"C:\\Users\\marco\\Downloads\\mapa_funciones\", view=True)\n"
   ]
  },
  {
   "cell_type": "markdown",
   "id": "afb5e53c",
   "metadata": {},
   "source": [
    "\n",
    "## 4. Elementos históricos y epistemológicos narrados como cuento antioqueño\n"
   ]
  },
  {
   "cell_type": "markdown",
   "id": "b2ea7217",
   "metadata": {},
   "source": [
    "\n",
    "*“Pues vea, muchachos, hace muchos años, allá en la antigua Grecia, un señor muy juicioso llamado **Euclides** se puso a organizar todo lo que se sabía de geometría. Luego vinieron otros, como **Descartes**, que dijo: ‘¿y por qué no ponemos estas rectas y curvas sobre un plano con coordenadas?’. ¡Y ahí nació la geometría analítica! Más adelante, en pleno siglo XVII, un señor llamado **Galileo Galilei** observaba cómo caían los cuerpos y, para describirlos, usaba funciones matemáticas. Y ya en el siglo XX, la gente empezó a meter todo eso en los computadores para poder graficar y simular. Hoy ustedes pueden hacerlo con **GeoGebra** y con Python, desde su cuaderno Jupyter. ¡Eso sí es progreso, carajo!”*\n",
    "\n",
    "imágenes de Euclides, Descartes y Galileo.\n",
    "\n",
    "<img src = 'funciones_1_26_ago_2025.png'>\n"
   ]
  },
  {
   "cell_type": "markdown",
   "id": "f931a9c4",
   "metadata": {},
   "source": [
    "\n",
    "## 5. Contenido de la clase\n"
   ]
  },
  {
   "cell_type": "markdown",
   "id": "9ae42351",
   "metadata": {},
   "source": [
    "\n",
    "1. Concepto de relación.\n",
    "2. Función como relación especial.\n",
    "3. Notación y representación (gráfica, algebraica, tabular, verbal).\n",
    "4. Dominio y rango: definición y ejemplos.\n",
    "5. Rectas en el plano cartesiano.\n",
    "6. Visualización con GeoGebra.\n",
    "7. Visualización con Python: Matplotlib, Seaborn, Plotly.\n",
    "8. Animaciones interactivas con `ipywidgets` y `matplotlib.animation`.\n",
    "\n",
    "---\n"
   ]
  },
  {
   "cell_type": "markdown",
   "id": "feef611c",
   "metadata": {},
   "source": [
    "\n",
    "## 6. Actividades de aprendizaje\n"
   ]
  },
  {
   "cell_type": "markdown",
   "id": "181d3013",
   "metadata": {},
   "source": [
    "\n",
    "* Explorar en GeoGebra una recta y hallar su dominio y rango.\n",
    "* Usar Jupyter Notebook para graficar funciones con Matplotlib.\n",
    "* Comparar visualizaciones de una misma función en Matplotlib, Seaborn y Plotly.\n",
    "* Actividad ABP: *“¿Cómo diseñar un sistema de pago eléctrico que dependa de una función del consumo?”*\n",
    "\n",
    "---\n"
   ]
  },
  {
   "cell_type": "markdown",
   "id": "25947bdc",
   "metadata": {},
   "source": [
    "\n",
    "## 7. Canción/poema\n",
    "\n",
    "*“Soy función, soy relación,\n",
    "tengo mi dominio y mi rango en acción.\n",
    "Si me graficas con recta emoción,\n",
    "verás en Python toda mi expresión.”* 🎶\n",
    "\n",
    "---\n"
   ]
  },
  {
   "cell_type": "markdown",
   "id": "9f86fcad",
   "metadata": {},
   "source": [
    "\n",
    "## 8. Tarea (20 ejercicios)\n",
    "\n",
    "* Ejercicios de **descripción geométrica → descripción verbal → implementación en Python → cálculo manual**.\n",
    "* Ejemplo:\n",
    "\n",
    "  1. Dibuja la recta \\$y = 2x + 3\\$.\n",
    "  2. Describe en palabras cómo cambia \\$y\\$ cuando cambia \\$x\\$.\n",
    "  3. Programa en Python:\n"
   ]
  },
  {
   "cell_type": "code",
   "execution_count": 1,
   "id": "46dd4209",
   "metadata": {},
   "outputs": [],
   "source": [
    "def f(x):\n",
    "    return 2*x + 3\n",
    "\n"
   ]
  },
  {
   "cell_type": "markdown",
   "id": "22ea5baa",
   "metadata": {},
   "source": [
    "\n",
    "4. Evalúa \\$f(-2), f(0), f(4)\\$ manualmente.\n",
    "\n",
    "Se diseñan 20 en esta misma secuencia.\n"
   ]
  },
  {
   "cell_type": "markdown",
   "id": "7fae4e09",
   "metadata": {},
   "source": [
    "\n",
    "**Asignación automática de tareas:**\n"
   ]
  },
  {
   "cell_type": "code",
   "execution_count": 3,
   "id": "ad177376",
   "metadata": {},
   "outputs": [
    {
     "data": {
      "text/plain": [
       "{'ACEVEDO BELEÑO SANTIAGO': 'Tarea 1',\n",
       " 'MARIN VILLARREAL PABLO ALEJANDRO': 'Tarea 2',\n",
       " 'MARTINEZ MANJARREZ DANIELA ESTHER': 'Tarea 3',\n",
       " 'MEJIA GUZMAN SAMUEL': 'Tarea 4',\n",
       " 'NIEBLES BARRERA ALEXANDER ISAAC': 'Tarea 5',\n",
       " 'OQUENDO MONA CRISTIAN GABRIEL': 'Tarea 6',\n",
       " 'PINO VERGARA LIZETH': 'Tarea 7',\n",
       " 'RIVERA GUZMAN CRISTIAN': 'Tarea 8',\n",
       " 'ROMERO CALDERA JUAN ESTEBAN': 'Tarea 9',\n",
       " 'SANCHEZ PACHECO MOISES DAVID': 'Tarea 10',\n",
       " 'TIRADO CHAVARRIA WILFRAN DE JESUS': 'Tarea 11',\n",
       " 'VERGARA ACEVEDO SARA CRISTINA': 'Tarea 12',\n",
       " 'VILORIA SIERRA ALEXANDER': 'Tarea 13'}"
      ]
     },
     "execution_count": 3,
     "metadata": {},
     "output_type": "execute_result"
    }
   ],
   "source": [
    "import pandas as pd\n",
    "\n",
    "df = pd.read_excel(\"https://github.com/marco-canas/groups_list/raw/main/algebra_and_trigonometry.xlsx\")\n",
    "\n",
    "def asignar_tareas(df):\n",
    "    tareas = [f\"Tarea {i+1}\" for i in range(20)]\n",
    "    asignaciones = {}\n",
    "    for i, estudiante in enumerate(df['Nombre']):\n",
    "        asignaciones[estudiante] = tareas[i % len(tareas)]\n",
    "    return asignaciones\n",
    "\n",
    "asignaciones = asignar_tareas(df)\n",
    "asignaciones\n",
    "\n"
   ]
  },
  {
   "cell_type": "markdown",
   "id": "083bcd46",
   "metadata": {},
   "source": [
    "\n",
    "## 9. Evaluación\n",
    "\n",
    "* **20 proyectos** (ejemplo: modelar consumo eléctrico, modelar distancia-tiempo, modelar interés financiero).\n",
    "* **Quiz (3 ítems):**\n",
    "\n",
    "  1. ¿Qué diferencia hay entre relación y función?\n",
    "  2. Encuentra el dominio de \\$f(x) = \\frac{1}{x-2}\\$.\n",
    "  3. Grafica \\$y=3x+1\\$.\n"
   ]
  },
  {
   "cell_type": "markdown",
   "id": "911e4744",
   "metadata": {},
   "source": [
    "### * **Parcial (5 ítems):**\n",
    "\n",
    "  1. Representar y justificar si es función la relación \\$x^2 + y^2 = 1\\$.\n",
    "  2. Calcular dominio y rango de \\$f(x) = \\sqrt{x-1}\\$.\n",
    "  3. Graficar \\$f(x) = \\frac{2x}{x^2+1}\\$ en Python y analizar su rango.\n",
    "  4. Describir verbalmente un fenómeno de la vida real que se modele con una función lineal.\n",
    "  5. Implementar en Python una función cuadrática y calcular sus ceros.\n",
    "\n",
    "\n"
   ]
  },
  {
   "cell_type": "markdown",
   "id": "4fd25fdd",
   "metadata": {},
   "source": [
    "\n",
    "## 10. Retroalimentación\n",
    "\n",
    "Actividad colaborativa: en grupos de 3, cada estudiante explica a otro cómo determinó el dominio de su función. Luego validan con GeoGebra y Python.\n",
    "\n",
    "---\n"
   ]
  },
  {
   "cell_type": "markdown",
   "id": "abd280e3",
   "metadata": {},
   "source": [
    "\n",
    "## 11. Vocabulario y frases en inglés\n"
   ]
  },
  {
   "cell_type": "markdown",
   "id": "3ac8fd45",
   "metadata": {},
   "source": [
    "\n",
    "* Line → recta\n",
    "* Relation → relación\n",
    "* Function → función\n",
    "* Domain → dominio\n",
    "* Range → rango\n",
    "* Plot → graficar\n",
    "* Input → entrada\n",
    "* Output → salida\n",
    "* “A function assigns each input to exactly one output.”\n",
    "\n",
    "\n"
   ]
  },
  {
   "cell_type": "markdown",
   "id": "29bf7e0e",
   "metadata": {},
   "source": [
    "\n",
    "## 12. Apéndice (habilidades sociales y emocionales)\n",
    "\n",
    "* Trabajo en equipo: roles (líder, programador, relator).\n",
    "* Asertividad: expresar dudas y aportes con respeto.\n",
    "* Inteligencia emocional: cómo manejar la ansiedad en un examen.\n",
    "* Honestidad académica: aprender que el error es parte del proceso, y que copiar no ayuda a crecer.\n",
    "\n",
    "---\n"
   ]
  },
  {
   "cell_type": "markdown",
   "id": "9ff5289a",
   "metadata": {},
   "source": [
    "\n",
    "## 13. Referentes en didáctica de la matemática (APA)\n",
    "\n",
    "* Duval, R. (1993). *Registros de representación semiótica y funcionamiento cognitivo del pensamiento matemático.*\n",
    "* Wing, J. (2006). *Computational Thinking.* Communications of the ACM, 49(3), 33-35.\n",
    "* Godino, J. D. (2002). *Un enfoque ontológico y semiótico de la cognición matemática.*\n",
    "* Brousseau, G. (1997). *Theory of Didactical Situations in Mathematics.*\n",
    "* Artigue, M. (2002). *Learning mathematics in a CAS environment.*\n",
    "* Schoenfeld, A. H. (1985). *Mathematical Problem Solving.*\n",
    "* Sfard, A. (1991). *On the dual nature of mathematical conceptions.*\n",
    "* Radford, L. (2008). *Culture and cognition.*\n",
    "* Tall, D. (2004). *Thinking through three worlds of mathematics.*\n",
    "* Papert, S. (1980). *Mindstorms: Children, Computers, and Powerful Ideas.*\n",
    "* Vygotsky, L. (1978). *Mind in society.*\n",
    "\n",
    "\n"
   ]
  },
  {
   "cell_type": "markdown",
   "id": "5b1fe501",
   "metadata": {},
   "source": [
    "\n",
    "Marco, ¿quieres que te expanda ahora el **paquete de 20 ejercicios y 20 proyectos** completamente detallados con su secuencia (geométrica → verbal → Python → manual), o prefieres que primero desarrolle el **Jupyter Notebook base con Matplotlib, Seaborn, Plotly e ipywidgets** para que lo uses directamente en clase?\n"
   ]
  },
  {
   "cell_type": "markdown",
   "id": "cc539357",
   "metadata": {},
   "source": [
    "# [Programación de programa Regiones](https://lookerstudio.google.com/reporting/44e71da0-d16f-4a51-a51e-d5ae6c19b3f1/page/p_gy4nwf37hd?pli=1)"
   ]
  },
  {
   "cell_type": "markdown",
   "id": "8ba64aed",
   "metadata": {},
   "source": [
    "# Cursos que orienta el profesor Marco Julio Cañas Campillo en 2025  \n",
    "\n",
    "1. Lunes 8 a 12: Fundamentos de Lógica: Licenciatura en Matemáticas . \n",
    "2. Martes de 9 a 10: Curso de ML and DL para Ingeniero Juan Gomez en España.  \n",
    "3. Martes de 2 a 5 PM: Vector Geometry and Linear Algebra.  \n",
    "4. Miércoles: 10 a 11: Reunión equipo investigador SAT Dengue. \n",
    "5. Miércoles 2 a 3 PM: Asesoría Trabajo de Grado Janis (Estudiante de Biología).  \n",
    "6. Viernes 2 a 6 PM: Análisis Numérico: Programa de Licenciatura en Matemáticas."
   ]
  },
  {
   "cell_type": "markdown",
   "id": "8d41fe58",
   "metadata": {
    "slideshow": {
     "slide_type": "slide"
    }
   },
   "source": [
    "# Horario de clases del profesor Marco\n",
    "\n",
    "* Lunes 8-12:   \n",
    "* Lunes 2- 6 PM: Fundamento de Lógica.  \n",
    "* Martes 8-12 M: . \n",
    "* Miércoles 8 a 12 M:   \n",
    "* Miércoles de 2 a 6 PM: \n",
    "* Jueves 2 a 6 PM:  \n",
    "* Viernes 2 - 4 PM: Análisis Numérico. \n",
    "* Sábados 8-12 Asesorías y espacio para retroalimentación y apoyo al trabajo independiente. "
   ]
  },
  {
   "cell_type": "markdown",
   "id": "ae114e14",
   "metadata": {
    "slideshow": {
     "slide_type": "slide"
    }
   },
   "source": [
    "# Horarios de monitoría y asesoría  \n",
    "\n",
    "* Monitor Manuel San Juan Serrano: Contactar escribiendo al correo: manuel.serrano1@udea.edu.co"
   ]
  },
  {
   "cell_type": "markdown",
   "id": "bf0f9dbf",
   "metadata": {},
   "source": [
    "\n",
    "Coordinador de los cursos de la Facultad de Educación para regiones:    \n",
    "\n",
    "Andrés Vélez: regioneducacion.fedu@udea.edu.co  \n",
    "Coordinador Regiones  \n",
    "Facultad de Educación  \n",
    "Universidad de Antioquia  "
   ]
  },
  {
   "cell_type": "markdown",
   "id": "39559692",
   "metadata": {
    "slideshow": {
     "slide_type": "slide"
    }
   },
   "source": [
    "Martes y jueves de 8 - 12  \n",
    "Miércoles 10 - 12 y de 2 a 4 PM  \n",
    "Sábado: 8 - 12"
   ]
  },
  {
   "cell_type": "markdown",
   "id": "10bce0d0",
   "metadata": {
    "slideshow": {
     "slide_type": "slide"
    }
   },
   "source": [
    "## Referentes "
   ]
  },
  {
   "cell_type": "markdown",
   "id": "1db3c468",
   "metadata": {
    "slideshow": {
     "slide_type": "slide"
    }
   },
   "source": [
    "* [CALCULO I DE UNA VARIABLE Ron Larson-Bruce Edwards. Mc Graw Hill. 9º Edición](https://www.academia.edu/42139251/CALCULO_I_DE_UNA_VARIABLE_Ron_Larson_Bruce_Edwards_Mc_Graw_Hill_9o_Edici%C3%B3n)   \n",
    "  \n",
    "\n",
    "* [Grajales Vanegas, L. M., Restrepo Estrada, C. E., Restrepo Ochoa, S. I., & Ruíz De Villalba, F. (2015). Matemáticas I para las ciencias económicas.](https://bibliotecadigital.udea.edu.co/handle/10495/3010)\n",
    "  \n",
    "* R. Duval y Semiosis y pensamiento humano, 2.ª ed. Cali, Colombia: Programa Editorial Universidad del Valle, 2017. [En línea]. Disponible en: https://programaeditorial.univalle.edu.co/gpd-semiosis-y-pensamiento-humano-9789587655278-63324cdb0f6b3.html\n",
    "\n",
    "* [Aylwin, C. U. (2011). Lógica, conjuntos y números. Universidad de los Andes, Consejo de Publicaciones, Colección: Ciencias Básicas, Serie: Matemáticas.](chrome-extension://efaidnbmnnnibpcajpcglclefindmkaj/https://www.u-cursos.cl/ciencias/2011/1/MC110/1/material_docente/bajar?id_material=574722)\n",
    "  \n",
    "* [Chollet, F. (2021). Deep learning with Python. Simon and Schuster.](chrome-extension://efaidnbmnnnibpcajpcglclefindmkaj/https://tanthiamhuat.wordpress.com/wp-content/uploads/2018/03/deeplearningwithpython.pdf)  \n",
    "  \n",
    "* [Watson, S., Stewart, J., & Redlin, L. (2009). Precálculo. Matemáticas para el cálculo.](https://github.com/marco-canas/calculo/blob/main/referents/1_precalculo_stewart/stewart_precalculo.pdf)  \n",
    "\n",
    "* [Purcell, E. J., Varberg, D., & Rigdon, S. E. (2007). Cálculo diferencial e integral. Pearson Educación.](https://github.com/marco-canas/calculo/blob/main/referents/purcell/purcell_calculo.pdf)\n",
    "\n",
    "  \n",
    "\n",
    "* [stewart cálculo](https://udeaeduco-my.sharepoint.com/:b:/g/personal/marco_canas_udea_edu_co/EZgXZjAp8QxPqOAim2hs6LcBNPLGjSHf-xwYnUVYkwa04w?e=RZdTCy)  \n",
    "\n",
    "\n",
    "\n",
    "\n",
    "\n",
    "* [Recomendación de la UNESCO sobre ciencia abierta](https://unesdoc.unesco.org/ark:/48223/pf0000379949_spa)\n",
    "\n",
    "* [chatGPT](https://openai.com/blog/chatgpt)  \n",
    "\n",
    "* [Géron, A. (2017). Hands-on machine learning with scikit-learn and tensorflow: Concepts. Tools, and Techniques to build intelligent systems.](chrome-extension://efaidnbmnnnibpcajpcglclefindmkaj/http://14.139.161.31/OddSem-0822-1122/Hands-On_Machine_Learning_with_Scikit-Learn-Keras-and-TensorFlow-2nd-Edition-Aurelien-Geron.pdf)   \n"
   ]
  },
  {
   "cell_type": "markdown",
   "id": "df925560",
   "metadata": {},
   "source": [
    "\n",
    "* [McKinney, W. (2012). Python for data analysis: Data wrangling with Pandas, NumPy, and IPython. \" O'Reilly Media, Inc.\".](https://wesmckinney.com/book/) "
   ]
  },
  {
   "cell_type": "markdown",
   "id": "8e65d6f9",
   "metadata": {},
   "source": [
    "# Como estudiante, encuentro que...   \n",
    "\n",
    "F: Mis Fortalezas son:     \n",
    "O: Mis Oportunidades son:    \n",
    "D: Mis Debilidades son:    \n",
    "A: Lo que Amenazas mi aprendizaje es:  "
   ]
  },
  {
   "cell_type": "markdown",
   "id": "6b9e56a8",
   "metadata": {
    "slideshow": {
     "slide_type": "slide"
    }
   },
   "source": [
    "### [Evaluamos al profesor Marco Cañas Aquí](https://forms.office.com/Pages/ResponsePage.aspx?id=IefhmYRxjkmK_7KtTlPBwkanXIs1i1FEujpsZgO6dXpUREJPV1kxUk1JV1ozTFJIQVNIQjY5WEY3US4u)"
   ]
  },
  {
   "cell_type": "markdown",
   "id": "4e8e8ccb",
   "metadata": {},
   "source": [
    "Basado en el diseño de investigación con enfoque IAE (Investigación-Acción Educativa) que compartiste, aquí tienes una propuesta de **sistema de evaluación bidireccional** para el curso *\"Vector Geometry and Linear Algebra\"*, implementable mediante Google Forms y alineado con los ciclos reflexivos de Kemmis & McTaggart:\n",
    "\n",
    "---\n"
   ]
  },
  {
   "cell_type": "markdown",
   "id": "10f43536",
   "metadata": {
    "slideshow": {
     "slide_type": "slide"
    }
   },
   "source": [
    "### Continue su aprendizaje en la siguiente clase a través del siguiente [vínculo]()"
   ]
  },
  {
   "cell_type": "markdown",
   "id": "53cc9115",
   "metadata": {
    "slideshow": {
     "slide_type": "slide"
    }
   },
   "source": [
    "## Agradecimientos  \n",
    "\n",
    "Doy gracias a Dios por la vida de mi Hijo Joseph Cañas Osorio y la madurez que ha alcanzado. Este hijo me enorgullece y me hace falta abrazarlo cada día. \n",
    "\n",
    "Y a mi esposa Yasmira Emperatriz Barboza Mogollón por su apoyo, orientación y acompañamiento. "
   ]
  },
  {
   "cell_type": "markdown",
   "id": "b6ba1c23",
   "metadata": {},
   "source": [
    "# Apéndice sobre calendarios y coordinaciones \n"
   ]
  },
  {
   "cell_type": "markdown",
   "id": "bf8b6499",
   "metadata": {},
   "source": [
    "## Calendario del semestre académico 2025-2   \n",
    "\n",
    "Límite evaluación del 40%: 27 de septiembre de 2025  \n",
    "\n",
    "Terminación de clases: 22 de noviembre de 2025\n",
    "\n",
    "Exámenes finales: 24 al 29 de noviembre de 2025\n",
    "\n",
    "Habilitación y validación: 01 al 06 de diciembre 2025\n",
    "\n",
    "Terminación oficial del semestre: 09 de diciembre de 2025  "
   ]
  },
  {
   "cell_type": "markdown",
   "id": "667b9504",
   "metadata": {},
   "source": [
    "\n",
    "A continuación le envío el horario de la asignatura Cálculo Vectorial  \n",
    "\n",
    "Días:  \n",
    "Lunes - Hora: 7:00 a 12:00M  \n",
    "Fechas:  \n",
    "Febrero: 10-17-24                                          \n",
    " Marzo: 3-10-17-31                                                  \n",
    "Abril:7-21-28                                                   \n",
    "Mayo:5-12-19  \n",
    "\n",
    "Agradezco su apoyo, y si presenta alguna dificultad puede contactarme.  \n",
    "\n",
    "Cordialmente,  \n",
    "Juan Felipe Rivera Hernández  \n",
    "Contacto: 3106314300  "
   ]
  }
 ],
 "metadata": {
  "celltoolbar": "Slideshow",
  "kernelspec": {
   "display_name": ".venv",
   "language": "python",
   "name": "python3"
  },
  "language_info": {
   "codemirror_mode": {
    "name": "ipython",
    "version": 3
   },
   "file_extension": ".py",
   "mimetype": "text/x-python",
   "name": "python",
   "nbconvert_exporter": "python",
   "pygments_lexer": "ipython3",
   "version": "3.11.9"
  },
  "rise": {
   "enable_chalkboard": true,
   "theme": "sky",
   "transition": "zoom"
  }
 },
 "nbformat": 4,
 "nbformat_minor": 5
}
