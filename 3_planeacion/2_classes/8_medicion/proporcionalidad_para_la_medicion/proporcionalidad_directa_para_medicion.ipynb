{
 "cells": [
  {
   "cell_type": "markdown",
   "id": "a4f7f436",
   "metadata": {
    "slideshow": {
     "slide_type": "slide"
    }
   },
   "source": [
    "<table align=\"left\">\n",
    "  <td>\n",
    "    <a href=\"https://colab.research.google.com/github/marco-canas/algebra/blob/main/circunferencia_unitaria.ipynb\" target=\"_parent\"><img src=\"https://colab.research.google.com/assets/colab-badge.svg\" alt=\"Open In Colab\"/></a>\n",
    "  </td>\n",
    "</table>"
   ]
  },
  {
   "cell_type": "markdown",
   "id": "6f0af850",
   "metadata": {
    "slideshow": {
     "slide_type": "slide"
    }
   },
   "source": [
    "# Proporcionalidad Directa"
   ]
  },
  {
   "cell_type": "code",
   "execution_count": 10,
   "id": "b209cc07",
   "metadata": {
    "slideshow": {
     "slide_type": "slide"
    }
   },
   "outputs": [
    {
     "data": {
      "image/png": "[encoded data removed]",
      "text/plain": [
       "<Figure size 432x288 with 1 Axes>"
      ]
     },
     "metadata": {
      "needs_background": "light"
     },
     "output_type": "display_data"
    }
   ],
   "source": [
    "import numpy as np \n",
    "import matplotlib.pyplot as plt \n",
    "\n",
    "x = np.arange(1,10)\n",
    "y = 2*x \n",
    "plt.plot(x,y, 'yo')\n",
    "plt.plot([0] + list(x),[0]+ list(y), 'r-')\n",
    "\n",
    "#trace los ejes coordenados \n",
    "plt.plot([0,9], [0,0], color = 'purple') # eje x \n",
    "plt.plot([0,0], [0,18], color = 'purple') # eje y\n",
    "plt.grid() "
   ]
  },
  {
   "cell_type": "markdown",
   "id": "ee0eb9a0",
   "metadata": {
    "slideshow": {
     "slide_type": "slide"
    }
   },
   "source": [
    "# Inferencias o interpretación que se derivan del gráfico  \n",
    "\n",
    "* La relación que muestra el gráfico es lineal, creciente y pasa por el origen, por esto, podemos decir que esta es una relación de proporcionalidad directa. "
   ]
  },
  {
   "cell_type": "code",
   "execution_count": 12,
   "id": "3eba6b53",
   "metadata": {
    "slideshow": {
     "slide_type": "slide"
    }
   },
   "outputs": [
    {
     "data": {
      "text/plain": [
       "1080.0"
      ]
     },
     "execution_count": 12,
     "metadata": {},
     "output_type": "execute_result"
    }
   ],
   "source": [
    "5400/5"
   ]
  },
  {
   "cell_type": "markdown",
   "id": "3932581f",
   "metadata": {
    "slideshow": {
     "slide_type": "slide"
    }
   },
   "source": [
    "# Ejemplo 1 de Stewart sobre proporcionalidad directa página 124"
   ]
  },
  {
   "cell_type": "markdown",
   "id": "fcb0b3da",
   "metadata": {},
   "source": [
    "## Grafico del modelo para predecir la distancia a la que cayó un rayo"
   ]
  },
  {
   "cell_type": "code",
   "execution_count": 21,
   "id": "8ee517d7",
   "metadata": {},
   "outputs": [
    {
     "data": {
      "image/png": "[encoded data removed]",
      "text/plain": [
       "<Figure size 432x288 with 1 Axes>"
      ]
     },
     "metadata": {
      "needs_background": "light"
     },
     "output_type": "display_data"
    }
   ],
   "source": [
    "import numpy as np \n",
    "import matplotlib.pyplot as plt \n",
    "\n",
    "plt.figure() \n",
    "\n",
    "plt.title('Modelo predictor de la distancia a la que cayó un rayo')\n",
    "\n",
    "plt.xlabel(\"tiempo $t$\")\n",
    "plt.ylabel(\"distancia $d$\")\n",
    "\n",
    "# metrizar los ejes. Cuadrar la escala de los ejes \n",
    "\n",
    "plt.axis([0,10, 0, 11_000])\n",
    "\n",
    "t = np.arange(0,11)\n",
    "d = 1080*t\n",
    "plt.plot(t, d) \n",
    "plt.grid() \n",
    "\n",
    "plt.show() \n"
   ]
  },
  {
   "cell_type": "code",
   "execution_count": null,
   "id": "b724b657",
   "metadata": {},
   "outputs": [],
   "source": []
  },
  {
   "cell_type": "code",
   "execution_count": null,
   "id": "2dd66451",
   "metadata": {},
   "outputs": [],
   "source": []
  },
  {
   "cell_type": "code",
   "execution_count": null,
   "id": "bfec1af2",
   "metadata": {},
   "outputs": [],
   "source": []
  },
  {
   "cell_type": "code",
   "execution_count": null,
   "id": "8dfeabd4",
   "metadata": {},
   "outputs": [],
   "source": []
  },
  {
   "cell_type": "code",
   "execution_count": null,
   "id": "9075e747",
   "metadata": {},
   "outputs": [],
   "source": []
  },
  {
   "cell_type": "code",
   "execution_count": null,
   "id": "92488162",
   "metadata": {},
   "outputs": [],
   "source": []
  },
  {
   "cell_type": "code",
   "execution_count": null,
   "id": "8c1ef276",
   "metadata": {},
   "outputs": [],
   "source": []
  },
  {
   "cell_type": "code",
   "execution_count": null,
   "id": "d83db2d8",
   "metadata": {},
   "outputs": [],
   "source": []
  },
  {
   "cell_type": "code",
   "execution_count": null,
   "id": "61ca0d73",
   "metadata": {},
   "outputs": [],
   "source": []
  },
  {
   "cell_type": "code",
   "execution_count": null,
   "id": "6b13db85",
   "metadata": {},
   "outputs": [],
   "source": []
  },
  {
   "cell_type": "code",
   "execution_count": null,
   "id": "75cd2e10",
   "metadata": {},
   "outputs": [],
   "source": []
  },
  {
   "cell_type": "markdown",
   "id": "cdec2e88",
   "metadata": {},
   "source": [
    "## Referentes \n",
    "\n",
    "* Precálculo de Stewart 5 edición. Página 124. "
   ]
  },
  {
   "cell_type": "code",
   "execution_count": null,
   "id": "11cdfade",
   "metadata": {},
   "outputs": [],
   "source": []
  }
 ],
 "metadata": {
  "celltoolbar": "Slideshow",
  "kernelspec": {
   "display_name": "Python 3 (ipykernel)",
   "language": "python",
   "name": "python3"
  },
  "language_info": {
   "codemirror_mode": {
    "name": "ipython",
    "version": 3
   },
   "file_extension": ".py",
   "mimetype": "text/x-python",
   "name": "python",
   "nbconvert_exporter": "python",
   "pygments_lexer": "ipython3",
   "version": "3.9.12"
  },
  "vscode": {
   "interpreter": {
    "hash": "af153e239d61b5c0d363f35fe8a0509d492506f382d017c98fa3fb49fce70a72"
   }
  }
 },
 "nbformat": 4,
 "nbformat_minor": 5
}
