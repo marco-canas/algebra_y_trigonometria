{
 "cells": [
  {
   "cell_type": "markdown",
   "id": "1670817a",
   "metadata": {
    "slideshow": {
     "slide_type": "slide"
    }
   },
   "source": [
    "<table align=\"left\">\n",
    "  <td>\n",
    "    <a href=\"https://colab.research.google.com/github/marco-canas/algebra/blob/main/classes/isoarea_perimetro.ipynb\" target=\"_parent\"><img src=\"https://colab.research.google.com/assets/colab-badge.svg\" alt=\"Open In Colab\"/></a>\n",
    "  </td>\n",
    "</table>"
   ]
  },
  {
   "cell_type": "markdown",
   "id": "02027ec2",
   "metadata": {
    "slideshow": {
     "slide_type": "slide"
    }
   },
   "source": [
    "## [Video de apoyo a la lectura interactiva de este cuaderno](https://www.youtube.com/watch?v=hdDyHzidn3Y)"
   ]
  },
  {
   "cell_type": "markdown",
   "id": "5fe482e4",
   "metadata": {
    "slideshow": {
     "slide_type": "slide"
    }
   },
   "source": [
    "# 1.6 Modelado mediante ecuaciones"
   ]
  },
  {
   "cell_type": "markdown",
   "id": "b870861c",
   "metadata": {
    "slideshow": {
     "slide_type": "slide"
    }
   },
   "source": [
    "# Aplicación de las matemáticas "
   ]
  },
  {
   "cell_type": "markdown",
   "id": "3dedb58f",
   "metadata": {
    "slideshow": {
     "slide_type": "slide"
    }
   },
   "source": [
    "Muchos de los problemas de las ciencias, economía, finanzas, medicina y otros numerosos campos se pueden traducir a problemas de álgebra. "
   ]
  },
  {
   "cell_type": "markdown",
   "id": "d833034d",
   "metadata": {
    "slideshow": {
     "slide_type": "slide"
    }
   },
   "source": [
    "Ésta es una razón por la que el álgebra es tan útil. "
   ]
  },
  {
   "cell_type": "markdown",
   "id": "52ef3a4c",
   "metadata": {
    "slideshow": {
     "slide_type": "slide"
    }
   },
   "source": [
    "En esta sección usamos las ecuaciones como modelos matemáticos para resolver problemas de la vida cotidiana."
   ]
  },
  {
   "cell_type": "markdown",
   "id": "1e1de368",
   "metadata": {
    "slideshow": {
     "slide_type": "slide"
    }
   },
   "source": [
    "## Criterios para modelar con ecuaciones"
   ]
  },
  {
   "cell_type": "markdown",
   "id": "87ba247a",
   "metadata": {
    "slideshow": {
     "slide_type": "slide"
    }
   },
   "source": [
    "Se aplican los siguientes criterios para plantear ecuaciones que modelen situaciones formuladas en palabras. "
   ]
  },
  {
   "cell_type": "markdown",
   "id": "fa6a7992",
   "metadata": {
    "slideshow": {
     "slide_type": "slide"
    }
   },
   "source": [
    "Para mostrar la manera en que los criterios pueden ayudar a plantear las ecuaciones, anotamos al margen cuándo funciona cada ejemplo de esta sección."
   ]
  },
  {
   "cell_type": "markdown",
   "id": "4950d356",
   "metadata": {
    "slideshow": {
     "slide_type": "slide"
    }
   },
   "source": [
    "## Criterios para modelar con ecuaciones"
   ]
  },
  {
   "cell_type": "markdown",
   "id": "7c1ea30b",
   "metadata": {
    "slideshow": {
     "slide_type": "slide"
    }
   },
   "source": [
    "1. Identificar la variable. Identifique la cantidad que el problema le pide determinar.\n",
    "Por lo regular, esta cantidad se puede determinar por medio de una\n",
    "lectura cuidadosa de la pregunta planteada al final del problema. Entonces\n",
    "introduzca la notación para la variable (llámela x o cualquier otro nombre)."
   ]
  },
  {
   "cell_type": "markdown",
   "id": "e8381960",
   "metadata": {
    "slideshow": {
     "slide_type": "slide"
    }
   },
   "source": [
    "2. Expresar todas las incógnitas en términos de la variable. Lea una vez\n",
    "más cada oración del problema, y exprese todas las cantidades mencionadas\n",
    "en el problema en términos de la variable que definió en el paso 1. Para organizar\n",
    "esta información, a veces es útil dibujar un esquema o elaborar\n",
    "una tabla."
   ]
  },
  {
   "cell_type": "markdown",
   "id": "5d7d6746",
   "metadata": {
    "slideshow": {
     "slide_type": "slide"
    }
   },
   "source": [
    "3. Plantear el modelo. Encuentre el hecho decisivo en el problema que relaciona\n",
    "las expresiones que usted listó en el paso 2. Plantee una ecuación o\n",
    "modelo, que exprese esta relación."
   ]
  },
  {
   "cell_type": "markdown",
   "id": "fa4a12f1",
   "metadata": {
    "slideshow": {
     "slide_type": "slide"
    }
   },
   "source": [
    "4. Resuelva la ecuación y compruebe su respuesta. Resuelva la ecuación, verifique la respuesta y exprésela como una oración que responde a la pregunta hecha en el problema."
   ]
  },
  {
   "cell_type": "markdown",
   "id": "63e2d514",
   "metadata": {
    "slideshow": {
     "slide_type": "slide"
    }
   },
   "source": [
    "El ejemplo siguiente ilustra la manera en que estos criterios se aplican para traducir el enunciado de un problema al lenguaje del álgebra."
   ]
  },
  {
   "cell_type": "markdown",
   "id": "f53dcd3c",
   "metadata": {
    "slideshow": {
     "slide_type": "slide"
    }
   },
   "source": [
    "# 1.6 Ejercicios"
   ]
  },
  {
   "cell_type": "markdown",
   "id": "62922c50",
   "metadata": {
    "slideshow": {
     "slide_type": "slide"
    }
   },
   "source": [
    "1–12. Exprese la cantidad dada en términos de la variable indicada."
   ]
  },
  {
   "cell_type": "markdown",
   "id": "043bb717",
   "metadata": {
    "slideshow": {
     "slide_type": "slide"
    }
   },
   "source": [
    "1. La suma de tres enteros consecutivos; $n$ es primer entero de los tres"
   ]
  },
  {
   "cell_type": "markdown",
   "id": "70a7d820",
   "metadata": {
    "slideshow": {
     "slide_type": "slide"
    }
   },
   "source": [
    "# 84. Comparación de áreas"
   ]
  },
  {
   "cell_type": "markdown",
   "id": "0710b020",
   "metadata": {
    "slideshow": {
     "slide_type": "slide"
    }
   },
   "source": [
    "Un alambre de 360 pulg de largo se corta en dos partes. Con una parte se forma un cuadrado y con la otra un círculo. Si las dos figuras tienen la misma área, ¿cuánto miden de largo los dos trozos de alambre? Exprese los resultados a la décima más cercana de una pulgada."
   ]
  },
  {
   "cell_type": "code",
   "execution_count": 35,
   "id": "e4de70ab",
   "metadata": {
    "slideshow": {
     "slide_type": "slide"
    }
   },
   "outputs": [
    {
     "data": {
      "image/png": "[encoded data removed]",
      "text/plain": [
       "<Figure size 432x288 with 2 Axes>"
      ]
     },
     "metadata": {
      "needs_background": "light"
     },
     "output_type": "display_data"
    }
   ],
   "source": [
    "import numpy as np \n",
    "import matplotlib.pyplot as plt \n",
    "theta = np.linspace(0,2*np.pi)\n",
    "\n",
    "x = np.cos(theta)\n",
    "y = np.sin(theta)\n",
    "plt.subplot(1,2,1)\n",
    "plt.plot(x,y)\n",
    "plt.axis('equal')\n",
    "plt.grid(alpha = 0.3)\n",
    "\n",
    "plt.subplot(1,2,2)\n",
    "plt.plot([0,1,1,0,0],[0,0,1,1,0])\n",
    "plt.axis('equal')\n",
    "\n",
    "plt.savefig('circulo_cuadrado.jpg')\n",
    "plt.show()"
   ]
  },
  {
   "cell_type": "markdown",
   "id": "efceea2c",
   "metadata": {
    "slideshow": {
     "slide_type": "slide"
    }
   },
   "source": [
    "sea $c$ la longitud del trozo para hacer el círculo.   \n",
    "Entonces la longitud del trozo para hacer el cuadrado es $360 - c$. "
   ]
  },
  {
   "cell_type": "markdown",
   "id": "a49b990f",
   "metadata": {
    "slideshow": {
     "slide_type": "slide"
    }
   },
   "source": [
    "$$ c = 2\\pi r \\Rightarrow r = \\frac{c}{2\\pi} $$"
   ]
  },
  {
   "cell_type": "markdown",
   "id": "2ec72130",
   "metadata": {
    "slideshow": {
     "slide_type": "slide"
    }
   },
   "source": [
    "$$ \\text{área círculo} = \\pi r^{2} = \\pi \\left( \\frac{c}{2\\pi} \\right)^{2} = \\frac{c^{2}}{4\\pi} $$"
   ]
  },
  {
   "cell_type": "markdown",
   "id": "c481e727",
   "metadata": {
    "slideshow": {
     "slide_type": "slide"
    }
   },
   "source": [
    "Por otro lado, "
   ]
  },
  {
   "cell_type": "markdown",
   "id": "f2f6dd2d",
   "metadata": {
    "slideshow": {
     "slide_type": "slide"
    }
   },
   "source": [
    "$$ 360-c = 4l \\Rightarrow l = \\frac{360-c}{4} $$"
   ]
  },
  {
   "cell_type": "markdown",
   "id": "f9b2b0f8",
   "metadata": {
    "slideshow": {
     "slide_type": "slide"
    }
   },
   "source": [
    "$$ \\text{área del cuadrado} = l^{2} = \\left( \\frac{360-c}{4} \\right)^{2} $$"
   ]
  },
  {
   "cell_type": "markdown",
   "id": "5f290c52",
   "metadata": {
    "slideshow": {
     "slide_type": "slide"
    }
   },
   "source": [
    "Luego, el modelo de esta situación geométrica es:\n",
    "\n",
    "$$\\frac{c^{2}}{4\\pi} = \\left( \\frac{360-c}{4} \\right)^{2}$$\n",
    "\n",
    "esta es la gran meta. "
   ]
  },
  {
   "cell_type": "code",
   "execution_count": 6,
   "id": "716fb54b",
   "metadata": {
    "slideshow": {
     "slide_type": "slide"
    }
   },
   "outputs": [],
   "source": [
    "from sympy import * "
   ]
  },
  {
   "cell_type": "code",
   "execution_count": 7,
   "id": "c3fb1411",
   "metadata": {
    "slideshow": {
     "slide_type": "slide"
    }
   },
   "outputs": [],
   "source": [
    "c = var('c')"
   ]
  },
  {
   "cell_type": "code",
   "execution_count": 8,
   "id": "6f63f146",
   "metadata": {
    "slideshow": {
     "slide_type": "slide"
    }
   },
   "outputs": [],
   "source": [
    "ecuacion = Eq(c**2/(4*pi),((360 - c)/4)**2)"
   ]
  },
  {
   "cell_type": "code",
   "execution_count": 9,
   "id": "bd5307e2",
   "metadata": {
    "slideshow": {
     "slide_type": "slide"
    }
   },
   "outputs": [
    {
     "data": {
      "text/plain": [
       "[360*(pi + 2*sqrt(pi))/(-4 + pi), 360*(-pi + 2*sqrt(pi))/(4 - pi)]"
      ]
     },
     "execution_count": 9,
     "metadata": {},
     "output_type": "execute_result"
    }
   ],
   "source": [
    "solve(ecuacion, c)"
   ]
  },
  {
   "cell_type": "code",
   "execution_count": 5,
   "id": "9163cd83",
   "metadata": {
    "slideshow": {
     "slide_type": "slide"
    }
   },
   "outputs": [],
   "source": [
    "sol_1, sol_2 = solve(ecuacion, c)"
   ]
  },
  {
   "cell_type": "code",
   "execution_count": 30,
   "id": "9b589012",
   "metadata": {
    "slideshow": {
     "slide_type": "slide"
    }
   },
   "outputs": [
    {
     "data": {
      "text/latex": [
       "$\\displaystyle -2804.19329821765$"
      ],
      "text/plain": [
       "-2804.19329821765"
      ]
     },
     "execution_count": 30,
     "metadata": {},
     "output_type": "execute_result"
    }
   ],
   "source": [
    "sol_1.evalf()  # esta solucion de la ecuación no es solución del problema real, pues un perímetro no puede ser negativo. "
   ]
  },
  {
   "cell_type": "code",
   "execution_count": 16,
   "id": "bf2ea189",
   "metadata": {
    "slideshow": {
     "slide_type": "slide"
    }
   },
   "outputs": [
    {
     "data": {
      "text/latex": [
       "$\\displaystyle 169.142794463297$"
      ],
      "text/plain": [
       "169.142794463297"
      ]
     },
     "execution_count": 16,
     "metadata": {},
     "output_type": "execute_result"
    }
   ],
   "source": [
    "sol_2.evalf()"
   ]
  },
  {
   "cell_type": "code",
   "execution_count": 17,
   "id": "825dc5f4",
   "metadata": {
    "slideshow": {
     "slide_type": "slide"
    }
   },
   "outputs": [],
   "source": [
    "c = sol_2 # "
   ]
  },
  {
   "cell_type": "code",
   "execution_count": 31,
   "id": "c4135be1",
   "metadata": {
    "slideshow": {
     "slide_type": "slide"
    }
   },
   "outputs": [
    {
     "data": {
      "text/latex": [
       "$\\displaystyle 169.1$"
      ],
      "text/plain": [
       "169.1"
      ]
     },
     "execution_count": 31,
     "metadata": {},
     "output_type": "execute_result"
    }
   ],
   "source": [
    "round(c.evalf(),1) # esta es la longitud destinada a la construcción del curculo. "
   ]
  },
  {
   "cell_type": "code",
   "execution_count": 23,
   "id": "b2de4c39",
   "metadata": {
    "slideshow": {
     "slide_type": "slide"
    }
   },
   "outputs": [
    {
     "name": "stdout",
     "output_type": "stream",
     "text": [
      "Entonces las dos longitudes pedidas son 169.1, 190.9\n"
     ]
    }
   ],
   "source": [
    "print('Entonces las dos longitudes pedidas son {}, {}'.format(round(c.evalf(),1), round(360-c,1)))"
   ]
  },
  {
   "cell_type": "code",
   "execution_count": 32,
   "id": "43fa6606",
   "metadata": {
    "slideshow": {
     "slide_type": "slide"
    }
   },
   "outputs": [
    {
     "data": {
      "text/plain": [
       "1.1289178001182734"
      ]
     },
     "execution_count": 32,
     "metadata": {},
     "output_type": "execute_result"
    }
   ],
   "source": [
    "190.9/169.1 # entonces, lo gastado en el cuadrado es el 12 porciento más que lo gastado en el círculo. "
   ]
  },
  {
   "cell_type": "code",
   "execution_count": 26,
   "id": "62bbb5a7",
   "metadata": {
    "slideshow": {
     "slide_type": "slide"
    }
   },
   "outputs": [
    {
     "data": {
      "text/plain": [
       "array([0.4697, 0.5303], dtype=object)"
      ]
     },
     "execution_count": 26,
     "metadata": {},
     "output_type": "execute_result"
    }
   ],
   "source": [
    "np.array([round(c.evalf(),1), round(360-c,1)])/360"
   ]
  },
  {
   "cell_type": "code",
   "execution_count": 27,
   "id": "b4c6e357",
   "metadata": {
    "slideshow": {
     "slide_type": "slide"
    }
   },
   "outputs": [
    {
     "data": {
      "text/plain": [
       "6.060000000000002"
      ]
     },
     "execution_count": 27,
     "metadata": {},
     "output_type": "execute_result"
    }
   ],
   "source": [
    "53.03 - 46.97"
   ]
  },
  {
   "cell_type": "markdown",
   "id": "68cce55b",
   "metadata": {
    "slideshow": {
     "slide_type": "slide"
    }
   },
   "source": [
    "## Conclusión"
   ]
  },
  {
   "cell_type": "markdown",
   "id": "2c7bf362",
   "metadata": {
    "slideshow": {
     "slide_type": "slide"
    }
   },
   "source": [
    "Es mejor un corral circular que un corral cuadrado, pues gasto menos en cercarlo si es de forma circular. "
   ]
  },
  {
   "cell_type": "code",
   "execution_count": 15,
   "id": "3532fdc7",
   "metadata": {},
   "outputs": [
    {
     "data": {
      "text/plain": [
       "30"
      ]
     },
     "execution_count": 15,
     "metadata": {},
     "output_type": "execute_result"
    }
   ],
   "source": [
    "n = 10\n",
    "suma_de_tres_enteros_consecutivos = n-1+ n+ n+1\n",
    "suma_de_tres_enteros_consecutivos"
   ]
  },
  {
   "cell_type": "code",
   "execution_count": 16,
   "id": "d5616e0e",
   "metadata": {},
   "outputs": [],
   "source": [
    "def distancia(s):\n",
    "    return 0.75*s"
   ]
  },
  {
   "cell_type": "code",
   "execution_count": 20,
   "id": "9744d5bd",
   "metadata": {},
   "outputs": [
    {
     "data": {
      "text/plain": [
       "225.0"
      ]
     },
     "execution_count": 20,
     "metadata": {},
     "output_type": "execute_result"
    }
   ],
   "source": [
    " distancia(300)"
   ]
  },
  {
   "cell_type": "code",
   "execution_count": 21,
   "id": "aaedf61c",
   "metadata": {},
   "outputs": [
    {
     "data": {
      "text/plain": [
       "[<matplotlib.lines.Line2D at 0x22cc30bcfd0>]"
      ]
     },
     "execution_count": 21,
     "metadata": {},
     "output_type": "execute_result"
    },
    {
     "data": {
      "image/png": "[encoded data removed]",
      "text/plain": [
       "<Figure size 432x288 with 1 Axes>"
      ]
     },
     "metadata": {
      "needs_background": "light"
     },
     "output_type": "display_data"
    }
   ],
   "source": [
    "import numpy as np \n",
    "import matplotlib.pyplot as plt  \n",
    "\n",
    "S = np.linspace(0,300)\n",
    "plt.plot(S, 0.75*S)"
   ]
  },
  {
   "cell_type": "code",
   "execution_count": null,
   "id": "3f8a48fe",
   "metadata": {},
   "outputs": [],
   "source": []
  }
 ],
 "metadata": {
  "celltoolbar": "Slideshow",
  "kernelspec": {
   "display_name": "Python 3 (ipykernel)",
   "language": "python",
   "name": "python3"
  },
  "language_info": {
   "codemirror_mode": {
    "name": "ipython",
    "version": 3
   },
   "file_extension": ".py",
   "mimetype": "text/x-python",
   "name": "python",
   "nbconvert_exporter": "python",
   "pygments_lexer": "ipython3",
   "version": "3.9.12"
  }
 },
 "nbformat": 4,
 "nbformat_minor": 5
}
