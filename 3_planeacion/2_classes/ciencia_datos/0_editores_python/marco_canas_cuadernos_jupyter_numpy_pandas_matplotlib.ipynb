{
  "nbformat": 4,
  "nbformat_minor": 0,
  "metadata": {
    "colab": {
      "provenance": []
    },
    "kernelspec": {
      "name": "python3",
      "display_name": "Python 3"
    },
    "language_info": {
      "name": "python"
    }
  },
  "cells": [
    {
      "cell_type": "markdown",
      "source": [
        "# Introducción al uso de cuadernos Jupyter para el aprendizaje de las matemáticas para ingeniería agropecuaria y el desarrollo de las cpacidades de comunicación científica para el desarrollo del Bajo Cauca Antioqueño"
      ],
      "metadata": {
        "id": "vbevohQEFPoH"
      }
    },
    {
      "cell_type": "code",
      "execution_count": 1,
      "metadata": {
        "id": "PbrGdEIqFM7e"
      },
      "outputs": [],
      "source": [
        "import numpy as np  # funciones matemáticas, vectores de datos y matrices de datos. \n",
        "import pandas as pd # creación de DataFrame\n",
        "from matplotlib import pyplot as plt  # visualización gráfica de los datos. "
      ]
    },
    {
      "cell_type": "markdown",
      "source": [
        "# Numpy\n",
        "<img src = \"https://miro.medium.com/v2/resize:fit:765/1*cyXCE-JcBelTyrK-58w6_Q.png\">\n",
        "\n",
        "# Pandas\n",
        "\n",
        "<img src = 'https://www.datocms-assets.com/14946/1628604937-pandas.png?auto=format&corner-radius=16&fit=crop&h=312&mask=corners&q=45&w=568'>\n",
        "\n",
        "# matplotlib\n",
        "\n",
        "<img src = \"https://miro.medium.com/v2/resize:fit:1400/1*JTEqCz-VU16nkkUwzyWp_w.png\">"
      ],
      "metadata": {
        "id": "tQ4BTddAGkr1"
      }
    },
    {
      "cell_type": "code",
      "source": [],
      "metadata": {
        "id": "rY8JDtTLGROx"
      },
      "execution_count": null,
      "outputs": []
    }
  ]
}