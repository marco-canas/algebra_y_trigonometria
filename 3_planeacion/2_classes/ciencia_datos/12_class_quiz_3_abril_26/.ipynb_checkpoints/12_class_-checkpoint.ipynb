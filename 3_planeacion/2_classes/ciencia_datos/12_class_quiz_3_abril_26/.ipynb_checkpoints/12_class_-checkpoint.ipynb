{
 "cells": [
  {
   "cell_type": "markdown",
   "id": "3b984919",
   "metadata": {},
   "source": [
    "<table align=\"left\">\n",
    "  <td>\n",
    "    <a href=\"https://colab.research.google.com/github/marco-canas/algebra/blob/main/classes/ciencia_datos/1_class/1_class.ipynb\" target=\"_parent\"><img src=\"https://colab.research.google.com/assets/colab-badge.svg\" alt=\"Open In Colab\"/></a>\n",
    "  </td>\n",
    "</table>"
   ]
  },
  {
   "cell_type": "markdown",
   "id": "bf7f475b",
   "metadata": {},
   "source": []
  },
  {
   "cell_type": "markdown",
   "id": "c7a49668",
   "metadata": {},
   "source": [
    "# Clase 12"
   ]
  },
  {
   "cell_type": "code",
   "execution_count": null,
   "id": "90c8c787",
   "metadata": {},
   "outputs": [],
   "source": []
  }
 ],
 "metadata": {
  "kernelspec": {
   "display_name": "Python 3 (ipykernel)",
   "language": "python",
   "name": "python3"
  },
  "language_info": {
   "codemirror_mode": {
    "name": "ipython",
    "version": 3
   },
   "file_extension": ".py",
   "mimetype": "text/x-python",
   "name": "python",
   "nbconvert_exporter": "python",
   "pygments_lexer": "ipython3",
   "version": "3.9.13"
  },
  "rise": {
   "enable_chalkboard": true,
   "theme": "sky",
   "transition": "sky"
  }
 },
 "nbformat": 4,
 "nbformat_minor": 5
}
