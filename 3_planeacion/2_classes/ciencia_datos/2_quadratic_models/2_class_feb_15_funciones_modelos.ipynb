{
 "cells": [
  {
   "cell_type": "markdown",
   "id": "841b7dd1",
   "metadata": {
    "slideshow": {
     "slide_type": "slide"
    }
   },
   "source": [
    "<table align=\"left\">\n",
    "  <td>\n",
    "    <a href=\"https://colab.research.google.com/github/marco-canas/1_algebra/blob/main/classes/ciencia_datos/2_class_feb_15_miercoles_funciones_modelos/2_class_feb_15_funciones_modelos.ipynb\" target=\"_parent\"><img src=\"https://colab.research.google.com/assets/colab-badge.svg\" alt=\"Open In Colab\"/></a>\n",
    "  </td>\n",
    "</table>"
   ]
  },
  {
   "cell_type": "markdown",
   "id": "e92ad292",
   "metadata": {
    "slideshow": {
     "slide_type": "slide"
    }
   },
   "source": [
    "## [Video de apoyo a la lectura interactiva y experimental de este cuaderno](https://www.youtube.com/watch?v=9jGGgjHwLTk) "
   ]
  },
  {
   "cell_type": "markdown",
   "id": "81fd4620",
   "metadata": {
    "slideshow": {
     "slide_type": "slide"
    }
   },
   "source": [
    "# Clase 2 Funciones como modelos\n",
    "  \n",
    "\n",
    "## Aplicaciones reales de las funciones matemáticas a la vida real"
   ]
  },
  {
   "cell_type": "markdown",
   "id": "8248763a",
   "metadata": {
    "slideshow": {
     "slide_type": "slide"
    }
   },
   "source": [
    "# Noticias  \n",
    "\n",
    "Proxima clase de febrero 22 Miércoles hay quiz. \n"
   ]
  },
  {
   "cell_type": "markdown",
   "id": "8e992b06",
   "metadata": {
    "slideshow": {
     "slide_type": "slide"
    }
   },
   "source": [
    "# Gráficos de ecuaciones y funciones "
   ]
  },
  {
   "cell_type": "markdown",
   "id": "84e6c99d",
   "metadata": {
    "slideshow": {
     "slide_type": "slide"
    }
   },
   "source": [
    "* Gráficos de comportamientos lineales \n",
    "* Gráficos de comportamientos crecientes\n",
    "* Gráficos de comportamientos decrecientes\n",
    "* Gráficos de comportamientos invariantes o constantes "
   ]
  },
  {
   "cell_type": "markdown",
   "id": "1ab0dbef",
   "metadata": {
    "slideshow": {
     "slide_type": "slide"
    }
   },
   "source": [
    "## Ecuaciones lineales\n",
    "\n",
    "$$ x+1 = 3 $$\n",
    "\n",
    "$x = 2$"
   ]
  },
  {
   "cell_type": "markdown",
   "id": "fb4b75ec",
   "metadata": {
    "slideshow": {
     "slide_type": "slide"
    }
   },
   "source": [
    "## Ecuaciones cuadráticas\n",
    "\n",
    "$$ x^{2} = 1 $$\n",
    "\n",
    "$$ x = \\pm 1$$\n"
   ]
  },
  {
   "cell_type": "markdown",
   "id": "c9a41e40",
   "metadata": {
    "slideshow": {
     "slide_type": "slide"
    }
   },
   "source": [
    "## Intersecciones de los gráficos con los ejes coordenados y su significado para el ingeniero agropecuaria "
   ]
  },
  {
   "cell_type": "markdown",
   "id": "db2df04e",
   "metadata": {
    "slideshow": {
     "slide_type": "slide"
    }
   },
   "source": [
    "* A veces el intersecto con el eje vertical significa la población inicial \n",
    "* A veces el intersecto con el eje horizontal significa el tiempo que tarda en extinguirse una plaga."
   ]
  },
  {
   "cell_type": "markdown",
   "id": "dd7a1be3",
   "metadata": {
    "slideshow": {
     "slide_type": "slide"
    }
   },
   "source": [
    "# Recomendaciones para experimentar con la relación entre fórmula y gráfico"
   ]
  },
  {
   "cell_type": "markdown",
   "id": "c39518fe",
   "metadata": {
    "slideshow": {
     "slide_type": "slide"
    }
   },
   "source": [
    "Instale [Geogebra](https://www.geogebra.org/download): "
   ]
  },
  {
   "cell_type": "code",
   "execution_count": 6,
   "id": "126db2ed",
   "metadata": {
    "slideshow": {
     "slide_type": "slide"
    }
   },
   "outputs": [
    {
     "data": {
      "image/png": "[encoded data removed]",
      "text/plain": [
       "<Figure size 640x480 with 1 Axes>"
      ]
     },
     "metadata": {},
     "output_type": "display_data"
    }
   ],
   "source": [
    "import numpy as np \n",
    "import matplotlib.pyplot as plt\n",
    "\n",
    "# y = mx + b \n",
    "\n",
    "x = np.arange(-3,4)\n",
    "y = 2*x + 1 \n",
    "\n",
    "\n",
    "plt.plot(x,y) \n",
    "plt.title('Gáfico de una función lineal')\n",
    "\n",
    "plt.savefig('fun_lineal.jpg')"
   ]
  },
  {
   "cell_type": "code",
   "execution_count": null,
   "id": "fd835572",
   "metadata": {
    "slideshow": {
     "slide_type": "slide"
    }
   },
   "outputs": [],
   "source": []
  },
  {
   "cell_type": "markdown",
   "id": "82bebc25",
   "metadata": {
    "slideshow": {
     "slide_type": "slide"
    }
   },
   "source": [
    "# Polynomial Regression"
   ]
  },
  {
   "cell_type": "markdown",
   "id": "0e95dc04",
   "metadata": {
    "slideshow": {
     "slide_type": "slide"
    }
   },
   "source": [
    "What if your data is more complex than a straight line? Surprisingly, you can use a linear model to fit nonlinear data. "
   ]
  },
  {
   "cell_type": "markdown",
   "id": "0094c455",
   "metadata": {
    "slideshow": {
     "slide_type": "fragment"
    }
   },
   "source": [
    "¿Qué sucede si sus datos son más complejos que una línea recta? Sorprendentemente, puede usar un modelo lineal para ajustar datos no lineales."
   ]
  },
  {
   "cell_type": "markdown",
   "id": "be90391d",
   "metadata": {
    "slideshow": {
     "slide_type": "slide"
    }
   },
   "source": [
    "A simple way to do this is to add powers of each feature as new features, then train a linear model on this extended set of\n",
    "features. This technique is called Polynomial Regression."
   ]
  },
  {
   "cell_type": "markdown",
   "id": "87b695fd",
   "metadata": {
    "slideshow": {
     "slide_type": "fragment"
    }
   },
   "source": []
  },
  {
   "cell_type": "markdown",
   "id": "5d803ba6",
   "metadata": {
    "slideshow": {
     "slide_type": "slide"
    }
   },
   "source": [
    "Let’s look at an example. "
   ]
  },
  {
   "cell_type": "markdown",
   "id": "51074fa3",
   "metadata": {
    "slideshow": {
     "slide_type": "fragment"
    }
   },
   "source": [
    "Veamos un ejemplo."
   ]
  },
  {
   "cell_type": "markdown",
   "id": "065d9234",
   "metadata": {
    "slideshow": {
     "slide_type": "slide"
    }
   },
   "source": [
    "First, let’s generate some nonlinear data, based on a simple quadratic equation (plus some noise; see Figure 4-12):"
   ]
  },
  {
   "cell_type": "markdown",
   "id": "e3bd6d97",
   "metadata": {
    "slideshow": {
     "slide_type": "fragment"
    }
   },
   "source": []
  },
  {
   "cell_type": "code",
   "execution_count": 29,
   "id": "816bf66e",
   "metadata": {
    "slideshow": {
     "slide_type": "slide"
    }
   },
   "outputs": [],
   "source": [
    "import numpy as np \n",
    "m = 100 # número de datos \n",
    "X = 6 * np.random.rand(m, 1) - 3 # cien datos que se mueven entre -3 y 3\n",
    "y = 0.5 * X**2 + X + 2 + np.random.randn(m, 1) # cien datos dependiente de X\n",
    "\n",
    "a0 = 0.5\n",
    "b0 = 1\n",
    "c0 = 2"
   ]
  },
  {
   "cell_type": "markdown",
   "id": "a0f91337",
   "metadata": {
    "slideshow": {
     "slide_type": "slide"
    }
   },
   "source": [
    "# Generated nonlinear and noisy dataset"
   ]
  },
  {
   "cell_type": "code",
   "execution_count": 30,
   "id": "2ea8210d",
   "metadata": {
    "slideshow": {
     "slide_type": "slide"
    }
   },
   "outputs": [
    {
     "data": {
      "text/plain": [
       "Text(0, 0.5, 'y')"
      ]
     },
     "execution_count": 30,
     "metadata": {},
     "output_type": "execute_result"
    },
    {
     "data": {
      "image/png": "[encoded data removed]",
      "text/plain": [
       "<Figure size 640x480 with 1 Axes>"
      ]
     },
     "metadata": {},
     "output_type": "display_data"
    }
   ],
   "source": [
    "import matplotlib.pyplot as plt \n",
    "\n",
    "plt.scatter(X,y, color = 'blue') \n",
    "\n",
    "plt.xlabel('X')\n",
    "plt.ylabel('y')"
   ]
  },
  {
   "cell_type": "code",
   "execution_count": null,
   "id": "85c327dd",
   "metadata": {
    "slideshow": {
     "slide_type": "slide"
    }
   },
   "outputs": [],
   "source": [
    "Clearly, a straight line will never fit this data properly. "
   ]
  },
  {
   "cell_type": "markdown",
   "id": "38260c97",
   "metadata": {
    "slideshow": {
     "slide_type": "slide"
    }
   },
   "source": [
    "So let’s use Scikit-Learn’s PolynomialFeatures class to transform our training data, adding the square (second-degree polynomial) of each feature in the training set as a new feature (in this case there is just one feature):"
   ]
  },
  {
   "cell_type": "code",
   "execution_count": 31,
   "id": "6f4cbcdc",
   "metadata": {
    "slideshow": {
     "slide_type": "slide"
    }
   },
   "outputs": [],
   "source": [
    "from sklearn.preprocessing import PolynomialFeatures"
   ]
  },
  {
   "cell_type": "code",
   "execution_count": 32,
   "id": "4648db64",
   "metadata": {
    "slideshow": {
     "slide_type": "slide"
    }
   },
   "outputs": [],
   "source": [
    "poly_features = PolynomialFeatures(degree=2, include_bias=False) # instanciar la clase "
   ]
  },
  {
   "cell_type": "code",
   "execution_count": 34,
   "id": "b36faeb5",
   "metadata": {
    "slideshow": {
     "slide_type": "slide"
    }
   },
   "outputs": [
    {
     "data": {
      "text/plain": [
       "array([-2.06706917])"
      ]
     },
     "execution_count": 34,
     "metadata": {},
     "output_type": "execute_result"
    }
   ],
   "source": [
    "X[0]"
   ]
  },
  {
   "cell_type": "code",
   "execution_count": 35,
   "id": "3d943b48",
   "metadata": {
    "slideshow": {
     "slide_type": "slide"
    }
   },
   "outputs": [],
   "source": [
    "X_poly = poly_features.fit_transform(X)"
   ]
  },
  {
   "cell_type": "code",
   "execution_count": 37,
   "id": "ee024bb5",
   "metadata": {
    "slideshow": {
     "slide_type": "slide"
    }
   },
   "outputs": [
    {
     "data": {
      "text/plain": [
       "array([-2.06706917,  4.27277497])"
      ]
     },
     "execution_count": 37,
     "metadata": {},
     "output_type": "execute_result"
    }
   ],
   "source": [
    "X_poly[0]"
   ]
  },
  {
   "cell_type": "code",
   "execution_count": 18,
   "id": "3b7a2e4e",
   "metadata": {
    "slideshow": {
     "slide_type": "slide"
    }
   },
   "outputs": [
    {
     "data": {
      "text/plain": [
       "array([2.81249518])"
      ]
     },
     "execution_count": 18,
     "metadata": {},
     "output_type": "execute_result"
    }
   ],
   "source": [
    "X[0]"
   ]
  },
  {
   "cell_type": "code",
   "execution_count": 20,
   "id": "0a5db839",
   "metadata": {
    "slideshow": {
     "slide_type": "slide"
    }
   },
   "outputs": [
    {
     "data": {
      "text/plain": [
       "array([2.81249518, 7.91012912])"
      ]
     },
     "execution_count": 20,
     "metadata": {},
     "output_type": "execute_result"
    }
   ],
   "source": [
    "X_poly[0]\n"
   ]
  },
  {
   "cell_type": "markdown",
   "id": "2d38da3a",
   "metadata": {
    "slideshow": {
     "slide_type": "slide"
    }
   },
   "source": [
    "Busquemos un modelo \n",
    "\n",
    "$$ y = aX^{2} + bX + c $$\n"
   ]
  },
  {
   "cell_type": "markdown",
   "id": "e5bffcb0",
   "metadata": {
    "slideshow": {
     "slide_type": "slide"
    }
   },
   "source": [
    "X_poly now contains the original feature of X plus the square of this feature."
   ]
  },
  {
   "cell_type": "markdown",
   "id": "952ea205",
   "metadata": {
    "slideshow": {
     "slide_type": "slide"
    }
   },
   "source": [
    "Now you can fit a LinearRegression model to this extended training data (Figure 4-13):"
   ]
  },
  {
   "cell_type": "code",
   "execution_count": 38,
   "id": "ef7aa6e9",
   "metadata": {},
   "outputs": [],
   "source": [
    "from sklearn.linear_model import LinearRegression \n",
    "lin_reg = LinearRegression()"
   ]
  },
  {
   "cell_type": "code",
   "execution_count": 39,
   "id": "8e5d7065",
   "metadata": {
    "slideshow": {
     "slide_type": "slide"
    }
   },
   "outputs": [
    {
     "data": {
      "text/plain": [
       "LinearRegression()"
      ]
     },
     "execution_count": 39,
     "metadata": {},
     "output_type": "execute_result"
    }
   ],
   "source": [
    "lin_reg.fit(X_poly, y) # hemos creado el mejor modelo que ajusta los datos "
   ]
  },
  {
   "cell_type": "code",
   "execution_count": 46,
   "id": "1afacc0e",
   "metadata": {
    "slideshow": {
     "slide_type": "slide"
    }
   },
   "outputs": [],
   "source": [
    "c, b, a = lin_reg.intercept_[0], lin_reg.coef_[0][0], lin_reg.coef_[0][1]"
   ]
  },
  {
   "cell_type": "markdown",
   "id": "36468bad",
   "metadata": {},
   "source": [
    "# Modelo original "
   ]
  },
  {
   "cell_type": "markdown",
   "id": "f3378f2e",
   "metadata": {
    "slideshow": {
     "slide_type": "slide"
    }
   },
   "source": [
    "$$  y = 0.5X^{2} + X + 2$$"
   ]
  },
  {
   "cell_type": "markdown",
   "id": "fa921d34",
   "metadata": {
    "slideshow": {
     "slide_type": "slide"
    }
   },
   "source": [
    "# El modelo encontrado fruto de la regresión polinomial"
   ]
  },
  {
   "cell_type": "code",
   "execution_count": 47,
   "id": "0da9e3a8",
   "metadata": {
    "slideshow": {
     "slide_type": "slide"
    }
   },
   "outputs": [
    {
     "data": {
      "text/plain": [
       "(0.489, 0.994, 2.263)"
      ]
     },
     "execution_count": 47,
     "metadata": {},
     "output_type": "execute_result"
    }
   ],
   "source": [
    "round(a, 3), round(b, 3), round(c, 3)"
   ]
  },
  {
   "cell_type": "markdown",
   "id": "60e9754b",
   "metadata": {
    "slideshow": {
     "slide_type": "slide"
    }
   },
   "source": [
    "$$ y =  0.489X^{2} + 0.994X + 2.263 $$"
   ]
  },
  {
   "cell_type": "code",
   "execution_count": 28,
   "id": "8cf4bf50",
   "metadata": {
    "slideshow": {
     "slide_type": "slide"
    }
   },
   "outputs": [
    {
     "data": {
      "text/plain": [
       "(0.5, 1, 2)"
      ]
     },
     "execution_count": 28,
     "metadata": {},
     "output_type": "execute_result"
    }
   ],
   "source": [
    "a0, b0, c0 "
   ]
  },
  {
   "cell_type": "code",
   "execution_count": null,
   "id": "51448d53",
   "metadata": {
    "slideshow": {
     "slide_type": "slide"
    }
   },
   "outputs": [],
   "source": []
  },
  {
   "cell_type": "code",
   "execution_count": null,
   "id": "143be79c",
   "metadata": {
    "slideshow": {
     "slide_type": "slide"
    }
   },
   "outputs": [],
   "source": []
  },
  {
   "cell_type": "markdown",
   "id": "a3d1c18b",
   "metadata": {
    "slideshow": {
     "slide_type": "slide"
    }
   },
   "source": [
    "# El problema de predecir el índice de precios al consumidor en 2010"
   ]
  },
  {
   "cell_type": "markdown",
   "id": "774220f3",
   "metadata": {
    "slideshow": {
     "slide_type": "slide"
    }
   },
   "source": [
    "### Modelado matemático   "
   ]
  },
  {
   "cell_type": "markdown",
   "id": "a78658b8",
   "metadata": {
    "slideshow": {
     "slide_type": "slide"
    }
   },
   "source": [
    "En la tabla se muestra el Índice de Precios al Consumidor (IPC) para una selección de varios años. (Fuente: Bureau of Labor Statistics.)"
   ]
  },
  {
   "cell_type": "markdown",
   "id": "940d54b1",
   "metadata": {
    "slideshow": {
     "slide_type": "slide"
    }
   },
   "source": [
    "a) Utilizar una herramienta de graficación como matplotlib o GeoGebra, graficar los datos. \n",
    "b) Haga un proceso de regresión para con el fin de encontrar un modelo matemático de la forma $y = at^{2} + bt + c$ para los datos. En este modelo, $y$ representa el IPC y $t$ representa el año, donde $t =5$ corresponde a 1975.  \n",
    "\n",
    "c) Representar el modelo graficamente y comparar los  datos.  \n",
    " \n",
    "c) Utilizar el modelo para predecir el IPC del año 2010"
   ]
  },
  {
   "cell_type": "code",
   "execution_count": 49,
   "id": "32fec6ad",
   "metadata": {
    "slideshow": {
     "slide_type": "slide"
    }
   },
   "outputs": [],
   "source": [
    "import pandas as pd \n",
    "import numpy as np "
   ]
  },
  {
   "cell_type": "code",
   "execution_count": 50,
   "id": "0c4795b7",
   "metadata": {
    "slideshow": {
     "slide_type": "slide"
    }
   },
   "outputs": [
    {
     "data": {
      "text/plain": [
       "array([ 5, 10, 15, 20, 25, 30, 35])"
      ]
     },
     "execution_count": 50,
     "metadata": {},
     "output_type": "execute_result"
    }
   ],
   "source": [
    "años = np.arange(5, 40, 5)\n",
    "años "
   ]
  },
  {
   "cell_type": "code",
   "execution_count": 51,
   "id": "6ef35298",
   "metadata": {
    "slideshow": {
     "slide_type": "slide"
    }
   },
   "outputs": [],
   "source": [
    "ipc = np.array([53.8, 82.4, 107.6, 130.7, 152.4, 172.2, 195.3])"
   ]
  },
  {
   "cell_type": "code",
   "execution_count": 52,
   "id": "97ff3f35",
   "metadata": {
    "slideshow": {
     "slide_type": "slide"
    }
   },
   "outputs": [],
   "source": [
    "diccionario = {'Tiempo en años(t)':años, 'El índice de precios al consumidor(ipc)':ipc}"
   ]
  },
  {
   "cell_type": "code",
   "execution_count": 53,
   "id": "2d22123c",
   "metadata": {
    "slideshow": {
     "slide_type": "slide"
    }
   },
   "outputs": [],
   "source": [
    "tablita_datos = pd.DataFrame(diccionario) "
   ]
  },
  {
   "cell_type": "code",
   "execution_count": 54,
   "id": "e299dc5d",
   "metadata": {
    "slideshow": {
     "slide_type": "slide"
    }
   },
   "outputs": [
    {
     "data": {
      "text/html": [
       "<div>\n",
       "<style scoped>\n",
       "    .dataframe tbody tr th:only-of-type {\n",
       "        vertical-align: middle;\n",
       "    }\n",
       "\n",
       "    .dataframe tbody tr th {\n",
       "        vertical-align: top;\n",
       "    }\n",
       "\n",
       "    .dataframe thead th {\n",
       "        text-align: right;\n",
       "    }\n",
       "</style>\n",
       "<table border=\"1\" class=\"dataframe\">\n",
       "  <thead>\n",
       "    <tr style=\"text-align: right;\">\n",
       "      <th></th>\n",
       "      <th>Tiempo en años(t)</th>\n",
       "      <th>El índice de precios al consumidor(ipc)</th>\n",
       "    </tr>\n",
       "  </thead>\n",
       "  <tbody>\n",
       "    <tr>\n",
       "      <th>0</th>\n",
       "      <td>5</td>\n",
       "      <td>53.8</td>\n",
       "    </tr>\n",
       "    <tr>\n",
       "      <th>1</th>\n",
       "      <td>10</td>\n",
       "      <td>82.4</td>\n",
       "    </tr>\n",
       "    <tr>\n",
       "      <th>2</th>\n",
       "      <td>15</td>\n",
       "      <td>107.6</td>\n",
       "    </tr>\n",
       "    <tr>\n",
       "      <th>3</th>\n",
       "      <td>20</td>\n",
       "      <td>130.7</td>\n",
       "    </tr>\n",
       "    <tr>\n",
       "      <th>4</th>\n",
       "      <td>25</td>\n",
       "      <td>152.4</td>\n",
       "    </tr>\n",
       "    <tr>\n",
       "      <th>5</th>\n",
       "      <td>30</td>\n",
       "      <td>172.2</td>\n",
       "    </tr>\n",
       "    <tr>\n",
       "      <th>6</th>\n",
       "      <td>35</td>\n",
       "      <td>195.3</td>\n",
       "    </tr>\n",
       "  </tbody>\n",
       "</table>\n",
       "</div>"
      ],
      "text/plain": [
       "   Tiempo en años(t)  El índice de precios al consumidor(ipc)\n",
       "0                  5                                     53.8\n",
       "1                 10                                     82.4\n",
       "2                 15                                    107.6\n",
       "3                 20                                    130.7\n",
       "4                 25                                    152.4\n",
       "5                 30                                    172.2\n",
       "6                 35                                    195.3"
      ]
     },
     "execution_count": 54,
     "metadata": {},
     "output_type": "execute_result"
    }
   ],
   "source": [
    "tablita_datos"
   ]
  },
  {
   "cell_type": "markdown",
   "id": "7b83eee5",
   "metadata": {
    "slideshow": {
     "slide_type": "slide"
    }
   },
   "source": [
    "# Gráfico de dispersión o scatter \n",
    "\n",
    "recuerde que un gráfico de dispersión es una gráfico de puntos"
   ]
  },
  {
   "cell_type": "code",
   "execution_count": 11,
   "id": "977b8d58",
   "metadata": {
    "slideshow": {
     "slide_type": "slide"
    }
   },
   "outputs": [],
   "source": [
    "import matplotlib.pyplot as plt "
   ]
  },
  {
   "cell_type": "code",
   "execution_count": 55,
   "id": "292bc5a4",
   "metadata": {
    "scrolled": true,
    "slideshow": {
     "slide_type": "slide"
    }
   },
   "outputs": [
    {
     "data": {
      "image/png": "[encoded data removed]",
      "text/plain": [
       "<Figure size 400x400 with 1 Axes>"
      ]
     },
     "metadata": {},
     "output_type": "display_data"
    }
   ],
   "source": [
    "plt.figure(figsize = (4, 4)) \n",
    "\n",
    "plt.scatter(años, ipc, color = 'blue')\n",
    "# plt.scatter([40], [212], color = 'red' )\n",
    "\n",
    "plt.title('Gráfico de los datos de ipc contra tiempo')\n",
    "plt.xlabel('Tiempo en años')\n",
    "\n",
    "plt.ylabel('el indice de precios al consumidor')\n",
    "\n",
    "\n",
    "plt.grid(alpha = 0.3)  "
   ]
  },
  {
   "cell_type": "markdown",
   "id": "109ae9dd",
   "metadata": {
    "slideshow": {
     "slide_type": "slide"
    }
   },
   "source": [
    "# Cambio de dimensión a los años"
   ]
  },
  {
   "cell_type": "code",
   "execution_count": 57,
   "id": "bc540d6d",
   "metadata": {
    "slideshow": {
     "slide_type": "slide"
    }
   },
   "outputs": [],
   "source": [
    "años_2D = años.reshape(-1,1) # cambiando la dimensión de los atributos a dimensión 2"
   ]
  },
  {
   "cell_type": "code",
   "execution_count": 58,
   "id": "bcdd6c97",
   "metadata": {
    "slideshow": {
     "slide_type": "slide"
    }
   },
   "outputs": [],
   "source": [
    "from sklearn.preprocessing import PolynomialFeatures\n",
    "poly_features = PolynomialFeatures(degree=2, include_bias=False)\n",
    "X_poly = poly_features.fit_transform(años_2D) "
   ]
  },
  {
   "cell_type": "code",
   "execution_count": 59,
   "id": "f10a3447",
   "metadata": {
    "slideshow": {
     "slide_type": "slide"
    }
   },
   "outputs": [],
   "source": [
    "from sklearn.linear_model import LinearRegression"
   ]
  },
  {
   "cell_type": "code",
   "execution_count": 62,
   "id": "715c320c",
   "metadata": {
    "slideshow": {
     "slide_type": "slide"
    }
   },
   "outputs": [
    {
     "data": {
      "text/plain": [
       "LinearRegression()"
      ]
     },
     "execution_count": 62,
     "metadata": {},
     "output_type": "execute_result"
    }
   ],
   "source": [
    "lin_reg = LinearRegression()\n",
    "lin_reg.fit(X_poly, ipc)"
   ]
  },
  {
   "cell_type": "code",
   "execution_count": 65,
   "id": "9e6d9750",
   "metadata": {},
   "outputs": [],
   "source": [
    "c, b , a = lin_reg.intercept_, lin_reg.coef_[0], lin_reg.coef_[1]"
   ]
  },
  {
   "cell_type": "code",
   "execution_count": 67,
   "id": "15fa8a5a",
   "metadata": {
    "slideshow": {
     "slide_type": "slide"
    }
   },
   "outputs": [
    {
     "data": {
      "text/plain": [
       "(26.886, 5.726, -0.027)"
      ]
     },
     "execution_count": 67,
     "metadata": {},
     "output_type": "execute_result"
    }
   ],
   "source": [
    "round(c, 3), round(b, 3) ,  round(a, 3)"
   ]
  },
  {
   "cell_type": "markdown",
   "id": "5cc5329c",
   "metadata": {
    "slideshow": {
     "slide_type": "slide"
    }
   },
   "source": [
    "$$ ipc = 26.886 + 5.726t - 0.027t^{2} $$"
   ]
  },
  {
   "cell_type": "code",
   "execution_count": 72,
   "id": "8a7035ed",
   "metadata": {
    "slideshow": {
     "slide_type": "slide"
    }
   },
   "outputs": [],
   "source": [
    "def modelo_de_ipc(t):\n",
    "    return c+ b*t + a*t**2"
   ]
  },
  {
   "cell_type": "markdown",
   "id": "7f755557",
   "metadata": {
    "slideshow": {
     "slide_type": "slide"
    }
   },
   "source": [
    "# Hamos ahora la predicción con nuestro modelo encontrado"
   ]
  },
  {
   "cell_type": "code",
   "execution_count": 68,
   "id": "7c7a44a7",
   "metadata": {
    "slideshow": {
     "slide_type": "slide"
    }
   },
   "outputs": [],
   "source": [
    "x_new_poli = poly_features.transform(np.array([[40]])) "
   ]
  },
  {
   "cell_type": "code",
   "execution_count": 69,
   "id": "b34bb95d",
   "metadata": {
    "slideshow": {
     "slide_type": "slide"
    }
   },
   "outputs": [
    {
     "data": {
      "text/plain": [
       "array([[  40., 1600.]])"
      ]
     },
     "execution_count": 69,
     "metadata": {},
     "output_type": "execute_result"
    }
   ],
   "source": [
    "x_new_poli"
   ]
  },
  {
   "cell_type": "code",
   "execution_count": 70,
   "id": "17b97526",
   "metadata": {
    "slideshow": {
     "slide_type": "slide"
    }
   },
   "outputs": [
    {
     "data": {
      "text/plain": [
       "array([212.28571429])"
      ]
     },
     "execution_count": 70,
     "metadata": {},
     "output_type": "execute_result"
    }
   ],
   "source": [
    "lin_reg.predict(x_new_poli) "
   ]
  },
  {
   "cell_type": "markdown",
   "id": "3ddcb82e",
   "metadata": {
    "slideshow": {
     "slide_type": "slide"
    }
   },
   "source": [
    "Entonces enel año 2010 se predice un ipc de 212.285. "
   ]
  },
  {
   "cell_type": "markdown",
   "id": "056f26bc",
   "metadata": {
    "slideshow": {
     "slide_type": "slide"
    }
   },
   "source": [
    "## Gráfica de los datos con el modelo encontrado\n",
    "\n"
   ]
  },
  {
   "cell_type": "code",
   "execution_count": 82,
   "id": "20d0e646",
   "metadata": {
    "slideshow": {
     "slide_type": "slide"
    }
   },
   "outputs": [
    {
     "data": {
      "image/png": "[encoded data removed]",
      "text/plain": [
       "<Figure size 400x400 with 1 Axes>"
      ]
     },
     "metadata": {},
     "output_type": "display_data"
    }
   ],
   "source": [
    "plt.figure(figsize = (4, 4)) \n",
    "\n",
    "plt.scatter(años, ipc, color = 'blue', label = 'Datos historicos del IPC')\n",
    "# plt.scatter([40], [212], color = 'red' )\n",
    "\n",
    "plt.title('Gráfico de los datos de ipc contra tiempo')\n",
    "plt.xlabel('Tiempo en años')\n",
    "\n",
    "plt.ylabel('el indice de precios al consumidor')\n",
    "\n",
    "plt.scatter([40], [lin_reg.predict(x_new_poli) ], color = 'green', label = 'Predicción en 2010') \n",
    "\n",
    "plt.grid(alpha = 0.3)  \n",
    "\n",
    "x_new = np.linspace(np.min(años), 40 + 2, 100)\n",
    "\n",
    "y_new = modelo_de_ipc(x_new)\n",
    "\n",
    "plt.plot(x_new, y_new, 'r-', alpha = 0.6, label = 'Modelo cuadrático encontrado') \n",
    "\n",
    "plt.legend(loc = 'lower right')\n",
    "\n",
    "plt.savefig('modelo_cuadrático_ipc.jpg')\n",
    "\n",
    "plt.show()\n"
   ]
  },
  {
   "cell_type": "markdown",
   "id": "e06eecdb",
   "metadata": {
    "slideshow": {
     "slide_type": "slide"
    }
   },
   "source": [
    "# Tarea\n",
    "\n",
    "* Realice en el cuaderno el diagrama de dispersión y el diagrama de líneas para cada uno de los datos presentados en este cuaderno. "
   ]
  },
  {
   "cell_type": "markdown",
   "id": "a28c4210",
   "metadata": {
    "slideshow": {
     "slide_type": "slide"
    }
   },
   "source": [
    "## Posible pregunta para quiz o parcial "
   ]
  },
  {
   "cell_type": "markdown",
   "id": "0c989644",
   "metadata": {
    "slideshow": {
     "slide_type": "slide"
    }
   },
   "source": [
    "<img src = 'https://github.com/marco-canas/1_algebra/blob/main/classes/ciencia_datos/2_class_feb_15_miercoles_funciones_modelos/ecuacion_grafica.png?raw=true'>"
   ]
  },
  {
   "cell_type": "markdown",
   "id": "140dfc86",
   "metadata": {
    "slideshow": {
     "slide_type": "slide"
    }
   },
   "source": [
    "* ¿Qué es una función lineal, cuál es su representación algebraica general y de ejemplos?\n",
    "* que es una función cuadrática, cuál es su representación algebraica general y de ejemplos y grafiquelos manualmente? "
   ]
  },
  {
   "cell_type": "markdown",
   "id": "e87dad8c",
   "metadata": {
    "slideshow": {
     "slide_type": "slide"
    }
   },
   "source": [
    "# Vocabulary"
   ]
  },
  {
   "cell_type": "markdown",
   "id": "5e39ebe5",
   "metadata": {
    "slideshow": {
     "slide_type": "slide"
    }
   },
   "source": [
    "* label: etiqueta  \n",
    "* sqrt: square root: raiz cuadrada. \n",
    "* from: de, desde, Perposition. "
   ]
  },
  {
   "cell_type": "markdown",
   "id": "4f1e9a7b",
   "metadata": {
    "slideshow": {
     "slide_type": "slide"
    }
   },
   "source": [
    "## Referentes  \n",
    "\n",
    "\n",
    "* [Geron, A. Hands on Machine Learning with sklearn, keras and tensorflow.](https://udeaeduco-my.sharepoint.com/:b:/g/personal/marco_canas_udea_edu_co/Ecet27yjQzZIlT1Y_Bc2erkBUhbeYuIe6HG8i1FYZRlZww?e=Ae0we0) \n",
    "\n",
    "* Larson. Cálculo https://udeaeduco-my.sharepoint.com/:b:/g/personal/marco_canas_udea_edu_co/Ecet27yjQzZIlT1Y_Bc2erkBUhbeYuIe6HG8i1FYZRlZww?e=Ae0we0"
   ]
  },
  {
   "cell_type": "code",
   "execution_count": null,
   "id": "027d646d",
   "metadata": {},
   "outputs": [],
   "source": []
  }
 ],
 "metadata": {
  "celltoolbar": "Slideshow",
  "kernelspec": {
   "display_name": "Python 3 (ipykernel)",
   "language": "python",
   "name": "python3"
  },
  "language_info": {
   "codemirror_mode": {
    "name": "ipython",
    "version": 3
   },
   "file_extension": ".py",
   "mimetype": "text/x-python",
   "name": "python",
   "nbconvert_exporter": "python",
   "pygments_lexer": "ipython3",
   "version": "3.9.13"
  }
 },
 "nbformat": 4,
 "nbformat_minor": 5
}
