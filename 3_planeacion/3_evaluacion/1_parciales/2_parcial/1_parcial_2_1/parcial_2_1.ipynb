{
 "cells": [
  {
   "cell_type": "markdown",
   "id": "1786c184",
   "metadata": {},
   "source": []
  },
  {
   "cell_type": "markdown",
   "id": "2114f295",
   "metadata": {},
   "source": [
    "# Prompt para el diseño del parcial 2   \n",
    "\n",
    "Programa del curso: https://github.com/marco-canas/algebra_y_trigonometria/blob/main/1_plan_curso/1_programa_algebra_and_trigonometry.md\n",
    "Libro guía: [Álgebra y Trigonometría de Swokowski Edición 13](https://archive.org/details/algebra-y-trigonometria-con-geometria-analitica-13va-edicion-earl-w.-swokowski/page/n3/mode/2up)  \n",
    "\n",
    "Secciones de Swokowski a evaluar:   \n",
    "\n",
    "2.1 Ecuaciones\n",
    "2.2 Problemas de aplicación \n",
    "2.3 Ecuaciones cuadráticas   \n",
    "2.4 Números complejos.   \n",
    "2.5 Otros tipos de ecuaciones.   \n",
    "2.6 Desigualdades.   \n",
    "2.7 Más sobre desigualdades.   \n",
    "\n",
    "Temas a evaluar\n",
    "\n",
    "Ecuaciones lineales, Ecuaciones equivalentes, propiedades de las igualdades para obtener equiciones equivalentes, Ecuaciones con expresiones racionales, el método de uniformidad y el método de transposición de terminos para solución de ecuaciones lineales. Limitaciones del método de transposición de términos para resolver ecuaciones lineales, Ecuaciones con expresiones racionales que no tienen solución, Directrices para resolver ecuaciones que contengan expresiones racionales, Aplicaciones de las ecuaciones lineales y con expresiones racionales en escalas de temperatura y en circuitos eléctricos, Directrices para resolver problemas de aplicación de ecuaciones lineales y con expresiones racionales, . \n"
   ]
  }
 ],
 "metadata": {
  "language_info": {
   "name": "python"
  }
 },
 "nbformat": 4,
 "nbformat_minor": 5
}
