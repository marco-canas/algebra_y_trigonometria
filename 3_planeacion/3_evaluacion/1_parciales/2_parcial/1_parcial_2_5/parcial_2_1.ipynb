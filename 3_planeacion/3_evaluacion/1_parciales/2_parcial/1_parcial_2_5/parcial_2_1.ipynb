{
 "cells": [
  {
   "cell_type": "markdown",
   "id": "1786c184",
   "metadata": {},
   "source": []
  },
  {
   "cell_type": "markdown",
   "id": "6a89dab3",
   "metadata": {},
   "source": [
    "# Prompt para el diseño del parcial 2   \n",
    "\n",
    "Dame el diseño de una parcial de 7 puntos, de los cuales, 5 sean obligatorios y los dos restantes sean opciaonales. El parcial es de Álgebra y Trigonometría, basado en el libro de Swokowski, y cubre las secciones 2.1 a la 2.7. El parcial debe incluir problemas que evalúen la comprensión de ecuaciones lineales, ecuaciones equivalentes, propiedades de las igualdades, ecuaciones con expresiones racionales, métodos de solución como uniformidad y transposición de términos, aplicaciones prácticas en escalas de temperatura y circuitos eléctricos, así como la capacidad para identificar cuando una ecuación no tiene solución o cuando una ecuación no es equivalente a la que la precede.\n",
    "Programa del curso: https://github.com/marco-canas/algebra_y_trigonometria/blob/main/1_plan_curso/1_programa_algebra_and_trigonometry.md\n",
    "Libro guía: [Álgebra y Trigonometría de Swokowski Edición 13](https://archive.org/details/algebra-y-trigonometria-con-geometria-analitica-13va-edicion-earl-w.-swokowski/page/n3/mode/2up)  \n",
    "\n",
    "Secciones de Swokowski a evaluar:   \n",
    "\n",
    "2.1 Ecuaciones\n",
    "2.2 Problemas de aplicación \n",
    "2.3 Ecuaciones cuadráticas   \n",
    "2.4 Números complejos.   \n",
    "2.5 Otros tipos de ecuaciones.   \n",
    "2.6 Desigualdades.   \n",
    "2.7 Más sobre desigualdades.   \n",
    "\n",
    "Temas a evaluar\n",
    "\n",
    "Ecuaciones lineales, Ecuaciones equivalentes, propiedades de las igualdades para obtener equiciones equivalentes, Ecuaciones con expresiones racionales, el método de uniformidad y el método de transposición de terminos para solución de ecuaciones lineales. Limitaciones del método de transposición de términos para resolver ecuaciones lineales, Ecuaciones con expresiones racionales que no tienen solución, Directrices para resolver ecuaciones que contengan expresiones racionales, Aplicaciones de las ecuaciones lineales y con expresiones racionales en escalas de temperatura y en circuitos eléctricos, Directrices para resolver problemas de aplicación de ecuaciones lineales y con expresiones racionales, . \n",
    "\n",
    "Saber determinar cuando no hay solución  o cuando la solución son todos los reales excepto uno de ellos:  \n",
    "\n",
    "$$\n",
    "\\frac{2x}{2x + 3} + \\frac{6}{4x + 6} = 5\n",
    "$$  \n",
    "\n",
    "$$\n",
    "\\frac{2}{2x + 5} + \\frac{3}{2x - 5} = \\frac{10x + 5}{4x^{2} - 25}\n",
    "$$  \n",
    "\n",
    "\n",
    "Saber determinar cuando una ecuación no es equivalente a la que la precede:  \n",
    "\n",
    "$$ \\begin{aligned} x^{2} - x - 2 & = x^{2} - 4 \\\\ \n",
    "(x + 1)(x - 2) & = (x+2)(x -2) \\\\ \n",
    "x + 1 & = x + 2 \\\\ \n",
    "1 & = 2 \n",
    " \\end{aligned} $$  \n",
    "\n",
    "\n",
    "\n",
    "$$ \\begin{aligned} \n",
    "5x + 6 & = 4x + 3 \\\\ \n",
    "x^{2} + 5x + 6 & = x^{2} + 4x + 3 \\\\ \n",
    "(x+2)(x+3) & = (x+1)(x+3) \\\\ \n",
    "x + 2 & = x + 1 \\\\ \n",
    "2 & = 1 \n",
    "\\end{aligned} $$  \n"
   ]
  },
  {
   "cell_type": "markdown",
   "id": "ddc5735d",
   "metadata": {},
   "source": []
  }
 ],
 "metadata": {
  "language_info": {
   "name": "python"
  }
 },
 "nbformat": 4,
 "nbformat_minor": 5
}
