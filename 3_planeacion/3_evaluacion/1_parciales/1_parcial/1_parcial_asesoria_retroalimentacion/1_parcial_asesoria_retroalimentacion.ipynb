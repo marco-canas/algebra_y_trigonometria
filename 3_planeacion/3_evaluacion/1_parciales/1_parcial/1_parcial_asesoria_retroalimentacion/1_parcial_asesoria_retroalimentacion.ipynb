{
 "cells": [
  {
   "cell_type": "markdown",
   "id": "dc06dec7",
   "metadata": {
    "slideshow": {
     "slide_type": "slide"
    }
   },
   "source": [
    "<table align=\"left\">\n",
    "  <td>\n",
    "    <a href=\"https://colab.research.google.com/github/ageron/handson-ml3/blob/main/tools_numpy.ipynb\" target=\"_parent\"><img src=\"https://colab.research.google.com/assets/colab-badge.svg\" alt=\"Open In Colab\"/></a>\n",
    "  </td>\n",
    "  <td>\n",
    "    <a target=\"_blank\" href=\"https://kaggle.com/kernels/welcome?src=https://github.com/ageron/handson-ml3/blob/main/tools_numpy.ipynb\"><img src=\"https://kaggle.com/static/images/open-in-kaggle.svg\" /></a>\n",
    "  </td>\n",
    "</table>"
   ]
  },
  {
   "cell_type": "markdown",
   "id": "e0c5b198",
   "metadata": {
    "slideshow": {
     "slide_type": "slide"
    }
   },
   "source": [
    "### [Video de apoyo a la lectura interactiva y experimental de este cuaderno]()"
   ]
  },
  {
   "cell_type": "markdown",
   "id": "41e82203",
   "metadata": {
    "slideshow": {
     "slide_type": "slide"
    }
   },
   "source": [
    "### [Vínculo al programa del curso:  ]()\n",
    "\n"
   ]
  },
  {
   "cell_type": "markdown",
   "id": "d11ab06d",
   "metadata": {
    "slideshow": {
     "slide_type": "slide"
    }
   },
   "source": [
    "Un reconocimiento a mis estudiantes que han construido conmigo este saber pedagógico:\n",
    "\n",
    "<img src = ''> \n",
    "\n"
   ]
  },
  {
   "cell_type": "markdown",
   "id": "8a74a56c-0ce6-4ad6-b985-553fd7fb68bb",
   "metadata": {},
   "source": [
    "Reconocimiento a las profesoras destacadas en enseñanza de la matemática en Colombia\n"
   ]
  },
  {
   "cell_type": "code",
   "execution_count": 2,
   "id": "7604880f",
   "metadata": {
    "slideshow": {
     "slide_type": "slide"
    }
   },
   "outputs": [
    {
     "data": {
      "application/vnd.microsoft.datawrangler.viewer.v0+json": {
       "columns": [
        {
         "name": "index",
         "rawType": "int64",
         "type": "integer"
        },
        {
         "name": "Cedula",
         "rawType": "int64",
         "type": "integer"
        },
        {
         "name": "Nombre",
         "rawType": "object",
         "type": "string"
        },
        {
         "name": "Email",
         "rawType": "object",
         "type": "string"
        }
       ],
       "ref": "96a0c87f-4ab2-411a-bc43-23b9b48eeba5",
       "rows": [
        [
         "1",
         "1038648096",
         "ACEVEDO BELEÑO SANTIAGO",
         "sacevedo.beleno@udea.edu.co"
        ],
        [
         "2",
         "1038111190",
         "CANOLE PEÑATE SEBASTIAN",
         "sebastian.canolep@udea.edu.co"
        ],
        [
         "3",
         "1038113597",
         "CORREA RESTREPO NICOLAS",
         "nicolas.crestrepo@udea.edu.co"
        ],
        [
         "4",
         "1038108190",
         "HERNANDEZ GOMEZ MICHAEL",
         "michael.hernandez@udea.edu.co"
        ],
        [
         "5",
         "1038648760",
         "MARIN VILLARREAL PABLO ALEJANDRO",
         "pablo.marin1@udea.edu.co"
        ],
        [
         "6",
         "1193401041",
         "MARTINEZ MANJARREZ DANIELA ESTHER",
         "daniela.martinezm@udea.edu.co"
        ],
        [
         "7",
         "1038108720",
         "MEJIA GUZMAN SAMUEL",
         "samuel.mguzman@udea.edu.co"
        ],
        [
         "8",
         "1038647828",
         "NIEBLES BARRERA ALEXANDER ISAAC",
         "alexander.niebles@udea.edu.co"
        ],
        [
         "9",
         "1045426138",
         "OQUENDO MONA CRISTIAN GABRIEL",
         "cristian.oquendo1@udea.edu.co"
        ],
        [
         "10",
         "1038136953",
         "PATINO GIL CHRISTIAN FELIPE",
         "christian.patino1@udea.edu.co"
        ],
        [
         "11",
         "1032250901",
         "PINO VERGARA LIZETH",
         "lizeth.pino@udea.edu.co"
        ],
        [
         "12",
         "1038092717",
         "RIVERA GUZMAN CRISTIAN",
         "cristian.rivera2@udea.edu.co"
        ],
        [
         "13",
         "1038110693",
         "ROMERO CALDERA JUAN ESTEBAN",
         "juanesteban.romero@udea.edu.co"
        ],
        [
         "14",
         "1038647713",
         "SÁNCHEZ HERRERA JUAN ESTEVAN",
         "estevan.sanchez@udea.edu.co"
        ],
        [
         "15",
         "1063359347",
         "SANCHEZ PACHECO MOISES DAVID",
         "moises.sanchez1@udea.edu.co"
        ],
        [
         "16",
         "1066600819",
         "TIRADO CHAVARRIA WILFRAN DE JESUS",
         "wilfran.tirado@udea.edu.co"
        ],
        [
         "17",
         "1038136995",
         "VERGARA ACEVEDO SARA CRISTINA",
         "scristina.vergara@udea.edu.co"
        ],
        [
         "18",
         "1007452831",
         "VILORIA SIERRA ALEXANDER",
         "a.viloria1@udea.edu.co"
        ]
       ],
       "shape": {
        "columns": 3,
        "rows": 18
       }
      },
      "text/html": [
       "<div>\n",
       "<style scoped>\n",
       "    .dataframe tbody tr th:only-of-type {\n",
       "        vertical-align: middle;\n",
       "    }\n",
       "\n",
       "    .dataframe tbody tr th {\n",
       "        vertical-align: top;\n",
       "    }\n",
       "\n",
       "    .dataframe thead th {\n",
       "        text-align: right;\n",
       "    }\n",
       "</style>\n",
       "<table border=\"1\" class=\"dataframe\">\n",
       "  <thead>\n",
       "    <tr style=\"text-align: right;\">\n",
       "      <th></th>\n",
       "      <th>Cedula</th>\n",
       "      <th>Nombre</th>\n",
       "      <th>Email</th>\n",
       "    </tr>\n",
       "  </thead>\n",
       "  <tbody>\n",
       "    <tr>\n",
       "      <th>1</th>\n",
       "      <td>1038648096</td>\n",
       "      <td>ACEVEDO BELEÑO SANTIAGO</td>\n",
       "      <td>sacevedo.beleno@udea.edu.co</td>\n",
       "    </tr>\n",
       "    <tr>\n",
       "      <th>2</th>\n",
       "      <td>1038111190</td>\n",
       "      <td>CANOLE PEÑATE SEBASTIAN</td>\n",
       "      <td>sebastian.canolep@udea.edu.co</td>\n",
       "    </tr>\n",
       "    <tr>\n",
       "      <th>3</th>\n",
       "      <td>1038113597</td>\n",
       "      <td>CORREA RESTREPO NICOLAS</td>\n",
       "      <td>nicolas.crestrepo@udea.edu.co</td>\n",
       "    </tr>\n",
       "    <tr>\n",
       "      <th>4</th>\n",
       "      <td>1038108190</td>\n",
       "      <td>HERNANDEZ GOMEZ MICHAEL</td>\n",
       "      <td>michael.hernandez@udea.edu.co</td>\n",
       "    </tr>\n",
       "    <tr>\n",
       "      <th>5</th>\n",
       "      <td>1038648760</td>\n",
       "      <td>MARIN VILLARREAL PABLO ALEJANDRO</td>\n",
       "      <td>pablo.marin1@udea.edu.co</td>\n",
       "    </tr>\n",
       "    <tr>\n",
       "      <th>6</th>\n",
       "      <td>1193401041</td>\n",
       "      <td>MARTINEZ MANJARREZ DANIELA ESTHER</td>\n",
       "      <td>daniela.martinezm@udea.edu.co</td>\n",
       "    </tr>\n",
       "    <tr>\n",
       "      <th>7</th>\n",
       "      <td>1038108720</td>\n",
       "      <td>MEJIA GUZMAN SAMUEL</td>\n",
       "      <td>samuel.mguzman@udea.edu.co</td>\n",
       "    </tr>\n",
       "    <tr>\n",
       "      <th>8</th>\n",
       "      <td>1038647828</td>\n",
       "      <td>NIEBLES BARRERA ALEXANDER ISAAC</td>\n",
       "      <td>alexander.niebles@udea.edu.co</td>\n",
       "    </tr>\n",
       "    <tr>\n",
       "      <th>9</th>\n",
       "      <td>1045426138</td>\n",
       "      <td>OQUENDO MONA CRISTIAN GABRIEL</td>\n",
       "      <td>cristian.oquendo1@udea.edu.co</td>\n",
       "    </tr>\n",
       "    <tr>\n",
       "      <th>10</th>\n",
       "      <td>1038136953</td>\n",
       "      <td>PATINO GIL CHRISTIAN FELIPE</td>\n",
       "      <td>christian.patino1@udea.edu.co</td>\n",
       "    </tr>\n",
       "    <tr>\n",
       "      <th>11</th>\n",
       "      <td>1032250901</td>\n",
       "      <td>PINO VERGARA LIZETH</td>\n",
       "      <td>lizeth.pino@udea.edu.co</td>\n",
       "    </tr>\n",
       "    <tr>\n",
       "      <th>12</th>\n",
       "      <td>1038092717</td>\n",
       "      <td>RIVERA GUZMAN CRISTIAN</td>\n",
       "      <td>cristian.rivera2@udea.edu.co</td>\n",
       "    </tr>\n",
       "    <tr>\n",
       "      <th>13</th>\n",
       "      <td>1038110693</td>\n",
       "      <td>ROMERO CALDERA JUAN ESTEBAN</td>\n",
       "      <td>juanesteban.romero@udea.edu.co</td>\n",
       "    </tr>\n",
       "    <tr>\n",
       "      <th>14</th>\n",
       "      <td>1038647713</td>\n",
       "      <td>SÁNCHEZ HERRERA JUAN ESTEVAN</td>\n",
       "      <td>estevan.sanchez@udea.edu.co</td>\n",
       "    </tr>\n",
       "    <tr>\n",
       "      <th>15</th>\n",
       "      <td>1063359347</td>\n",
       "      <td>SANCHEZ PACHECO MOISES DAVID</td>\n",
       "      <td>moises.sanchez1@udea.edu.co</td>\n",
       "    </tr>\n",
       "    <tr>\n",
       "      <th>16</th>\n",
       "      <td>1066600819</td>\n",
       "      <td>TIRADO CHAVARRIA WILFRAN DE JESUS</td>\n",
       "      <td>wilfran.tirado@udea.edu.co</td>\n",
       "    </tr>\n",
       "    <tr>\n",
       "      <th>17</th>\n",
       "      <td>1038136995</td>\n",
       "      <td>VERGARA ACEVEDO SARA CRISTINA</td>\n",
       "      <td>scristina.vergara@udea.edu.co</td>\n",
       "    </tr>\n",
       "    <tr>\n",
       "      <th>18</th>\n",
       "      <td>1007452831</td>\n",
       "      <td>VILORIA SIERRA ALEXANDER</td>\n",
       "      <td>a.viloria1@udea.edu.co</td>\n",
       "    </tr>\n",
       "  </tbody>\n",
       "</table>\n",
       "</div>"
      ],
      "text/plain": [
       "        Cedula                             Nombre  \\\n",
       "1   1038648096            ACEVEDO BELEÑO SANTIAGO   \n",
       "2   1038111190            CANOLE PEÑATE SEBASTIAN   \n",
       "3   1038113597            CORREA RESTREPO NICOLAS   \n",
       "4   1038108190            HERNANDEZ GOMEZ MICHAEL   \n",
       "5   1038648760   MARIN VILLARREAL PABLO ALEJANDRO   \n",
       "6   1193401041  MARTINEZ MANJARREZ DANIELA ESTHER   \n",
       "7   1038108720                MEJIA GUZMAN SAMUEL   \n",
       "8   1038647828    NIEBLES BARRERA ALEXANDER ISAAC   \n",
       "9   1045426138      OQUENDO MONA CRISTIAN GABRIEL   \n",
       "10  1038136953        PATINO GIL CHRISTIAN FELIPE   \n",
       "11  1032250901                PINO VERGARA LIZETH   \n",
       "12  1038092717             RIVERA GUZMAN CRISTIAN   \n",
       "13  1038110693        ROMERO CALDERA JUAN ESTEBAN   \n",
       "14  1038647713       SÁNCHEZ HERRERA JUAN ESTEVAN   \n",
       "15  1063359347       SANCHEZ PACHECO MOISES DAVID   \n",
       "16  1066600819  TIRADO CHAVARRIA WILFRAN DE JESUS   \n",
       "17  1038136995      VERGARA ACEVEDO SARA CRISTINA   \n",
       "18  1007452831           VILORIA SIERRA ALEXANDER   \n",
       "\n",
       "                             Email  \n",
       "1      sacevedo.beleno@udea.edu.co  \n",
       "2    sebastian.canolep@udea.edu.co  \n",
       "3    nicolas.crestrepo@udea.edu.co  \n",
       "4    michael.hernandez@udea.edu.co  \n",
       "5         pablo.marin1@udea.edu.co  \n",
       "6    daniela.martinezm@udea.edu.co  \n",
       "7       samuel.mguzman@udea.edu.co  \n",
       "8    alexander.niebles@udea.edu.co  \n",
       "9    cristian.oquendo1@udea.edu.co  \n",
       "10   christian.patino1@udea.edu.co  \n",
       "11         lizeth.pino@udea.edu.co  \n",
       "12    cristian.rivera2@udea.edu.co  \n",
       "13  juanesteban.romero@udea.edu.co  \n",
       "14     estevan.sanchez@udea.edu.co  \n",
       "15     moises.sanchez1@udea.edu.co  \n",
       "16      wilfran.tirado@udea.edu.co  \n",
       "17   scristina.vergara@udea.edu.co  \n",
       "18          a.viloria1@udea.edu.co  "
      ]
     },
     "execution_count": 2,
     "metadata": {},
     "output_type": "execute_result"
    }
   ],
   "source": [
    "import pandas as pd\n",
    "import numpy as np\n",
    "\n",
    "# Cargar la lista de estudiantes desde el archivo CSV\n",
    "path = 'C:/Users/marco/Documentos/docencia/groups_list/algebra_and_trigonometry.xlsx'\n",
    "df = pd.read_excel(path)\n",
    "df.index = range(1, len(df) + 1) \n",
    "df  \n"
   ]
  },
  {
   "cell_type": "markdown",
   "id": "d7598d0a-d9b7-4ae0-b029-a0ed6ed1130b",
   "metadata": {},
   "source": [
    "\n",
    "# Principios de mi labor docente"
   ]
  },
  {
   "cell_type": "markdown",
   "id": "4f9d8cf9",
   "metadata": {
    "slideshow": {
     "slide_type": "slide"
    }
   },
   "source": [
    "## Modelo general de clase: [aula invertida](https://www3.gobiernodecanarias.org/medusa/ecoescuela/pedagotic/aprendizaje-invertido-flipped-classroom/)"
   ]
  },
  {
   "cell_type": "markdown",
   "id": "eb6ed03a",
   "metadata": {},
   "source": [
    "<img src = 'https://resources.maneuveringthemiddle.com/wp-content/uploads/2020/07/04212706/1-5.png' width = 200>  \n",
    "\n"
   ]
  },
  {
   "cell_type": "markdown",
   "id": "34319cce-a71b-4f64-aab8-b53e521efa40",
   "metadata": {},
   "source": [
    "# Metodología de Aprendizaje Basado en Problemas y Proyectos (ABPP)\n"
   ]
  },
  {
   "cell_type": "markdown",
   "id": "c4f73d81",
   "metadata": {},
   "source": [
    "\n",
    "<img src = 'https://www.unir.net/wp-content/uploads/2020/07/aprendizaje-problemas2-1-1-1-1.jpeg' width = 200>"
   ]
  },
  {
   "cell_type": "markdown",
   "id": "841a985c-bd9b-4dd3-8e4c-893983980af2",
   "metadata": {},
   "source": [
    "# Desarrollo del pensamiento computacional con Lenguajes Python y R, y con archivos Markdown orientado a la formación en ciencia de datos \n",
    "\n"
   ]
  },
  {
   "cell_type": "markdown",
   "id": "3d0eba94",
   "metadata": {},
   "source": [
    "\n",
    "<img src = 'https://i.ytimg.com/vi/mcG_wcR4e6M/maxresdefault.jpg' width = 200>"
   ]
  },
  {
   "cell_type": "markdown",
   "id": "65aa0404-f7ae-495e-864c-1aec01b4255e",
   "metadata": {},
   "source": [
    "# Principio de fomento a la ciencia abierta, enseñar en el acceso a los datos públicos y el uso de software de código abierto  \n"
   ]
  },
  {
   "cell_type": "markdown",
   "id": "18ae9b87",
   "metadata": {},
   "source": [
    "\n",
    "<img src = 'https://unesdoc.unesco.org/in/rest/Thumb/image?id=p%3A%3Ausmarcdef_0000379949_spa&author=UNESCO&title=Recomendaci%C3%B3n+de+la+UNESCO+sobre+la+Ciencia+Abierta&year=2021&publisher=UNESCO&TypeOfDocument=UnescoPhysicalDocument&mat=PGD&ct=true&size=512&isPhysical=1' width = 200>"
   ]
  },
  {
   "cell_type": "markdown",
   "id": "d9559f85",
   "metadata": {},
   "source": [
    "El enfoque STEAMS en educación preescolar, primaria y secundaria es una extensión del enfoque STEM (Ciencia, Tecnología, Ingeniería y Matemáticas) y su variante STEAM, que incorpora el Arte. "
   ]
  },
  {
   "cell_type": "markdown",
   "id": "0130ec1b",
   "metadata": {},
   "source": [
    "\n",
    "<img src = 'https://www.campuseducacion.com/blog/wp-content/uploads/2023/03/foto01-1.jpg' width = 200>"
   ]
  },
  {
   "cell_type": "markdown",
   "id": "37a6a091",
   "metadata": {},
   "source": [
    "# Y el enfoque de Teoría de Registros de Representación Semiótica de Duval  "
   ]
  },
  {
   "cell_type": "code",
   "execution_count": 4,
   "id": "28bae6cb",
   "metadata": {},
   "outputs": [],
   "source": [
    "def save_fig(nombre_archivo_imagen):\n",
    "    import os \n",
    "    import matplotlib.pyplot as plt\n",
    "    ubicacion_para_imagenes = r\"C:/Users/marco/Downloads\"\n",
    "    imagen_path = os.path.join(ubicacion_para_imagenes, nombre_archivo_imagen)\n",
    "    plt.savefig(imagen_path, bbox_inches='tight')"
   ]
  },
  {
   "cell_type": "markdown",
   "id": "10e55ccf",
   "metadata": {},
   "source": [
    "# Estructura general para todas las clases\n"
   ]
  },
  {
   "cell_type": "markdown",
   "id": "ddd73417",
   "metadata": {},
   "source": [
    "\n",
    "Dame, por favor, un diseño de clase, con el enfoque: \"Aula Invertida, STEAMS, de Aprendizaje Basado en Problemas y Proyectos (ABPP) y de Teoría de Registros de Representación Semiótica (TRRS) de Duval\" sobre: \"[Tema de la clase]\", siguiendo la estructura:  \n",
    "\n",
    "Ubicación del proyecto investigativo: [aquí](https://github.com/marco-canas/linea_invest_didact_math_data/blob/main/1_estrategia_comunicacion/3_humanos_xxi/propuesta_en_20_paginas.md) \n",
    "Ubicación del programa del curso: [aquí](https://github.com/marco-canas/vector_geometry_and_linear_algebra/blob/main/2_planificacion/0_programa_curso/programa_curso_geo_vectorial_algebra_lineal_iae_python_data_science_2025_2.docx)\n",
    "Ubicación de la lista de estudiantes matriculados: [Aquí](https://github.com/marco-canas/groups_list/blob/main/vector_geometry_and_linear_algebra.xlsx)  \n",
    "\n",
    "1. Título de la clase   \n",
    "   \n",
    "2. Objetivo de aprendizaje que incluyan los indicadores del logro de estos objetivos. \n",
    "   \n",
    "3. Un mapa conceptual que resuma la clase elaborado en Graphviz de python con nodos y edges de diferentes formas, colores y rellenos y renderizado en la siguiente ubicación: `\"C:\\Users\\marco\\Downloads\"`.  No olvides el parámetro `view = True` para el método `render()` de Graphviz. Para este mapa controla las superposiciones de los nodos con: graph [overlap=false]; // Elimina superposiciones (puede aumentar el espacio)\n",
    "graph [overlap=\"scalexy\"]; // Escala el gráfico para evitar overlaps\n",
    "graph [overlap=\"compress\"]; // Comprime el grafo sin overlaps  \n",
    "   \n",
    "4. Elementos históricos y epistemológicos relevantes para la clase, pero narrados como una historieta al estilo de un cuentero antioqueño en Colombia. Incluye imágenes de los protagonistas históricos de esta clase.  \n",
    "   \n",
    "5. Contenido de la clase:     \n",
    "   \n",
    "          \n",
    "        \n",
    "6. Actividades de aprendizaje:   \n",
    "   \n",
    "7. Incluye una canción o un poema que ayude a interiorizar y fijar los conceptos asociados a esta clase.   \n",
    "   \n",
    "8.  Tarea o actividades de ejercitación y fijación. Incluye 20 ejercicios de tarea en las que los estudiantes empiecen con la descripción geométrica del algoritmo, luego la descripción verbal y secuencial del algoritmo, después la implementación en lenguaje python editado a través de la terminal powershell de su computador y finalmente con el cálculo a mano y en su cuaderno. Crea una función de usuario de Python que asigne esta tareas a cada uno de los estudiantes matriculados en este curso tomando la ubicación de los estudiantes dada en este prompt.  \n",
    "    \n",
    "9. Evaluación incluyendo 20 proyectos, un ejemplo de quiz (con tres items) y un ejemplo de parcial (con 5 items). Incluye evaluaciones en las que los estudiantes empiecen con la descripción geométrica del algoritmo, luego la descripción verbal y secuencial del algoritmo, después la implementación en lenguaje python editado a través de la terminal powershell de su computador, y finalmente con el cálculo algebraico y numérico a mano y en su cuaderno. \n",
    "    \n",
    "10. Diseño de actividad de retroalimentación.   \n",
    "    \n",
    "11. Dame un vocabulario y frases del idioma inglés asociadas a esta clase.    \n",
    "     \n",
    "12. Incluye apéndice para la clase sobre desarrollo de habilidades para trabajar en equipo y de asertividad y empatía para relacionarnos. También elementos de la inteligencia emocional para presentar pruebas sin temor y sin realizar fraude en ellas.    \n",
    "     \n",
    "13. Incluye 10 referentes en didáctica de la matemática que estén de acuerdo a la propuesta didáctica de esta clase. Adiciona a estos referentes a Raymond Duval (Representaciones y cambios de representación para la adquisición de conceptos matemáticos) y a [Jeannette Wing](https://es.wikipedia.org/wiki/Jeannette_Wing) (Desarrollo del pensamiento computacional). Déjame todos estos referentes ordenados de acuerdo a las normas APA. Al crear la clase, introduce las citas de estos autores en el texto de la clase.\n",
    "\n",
    "\n",
    "Pero  que este diseño sea para que el estudiante pueda aprender experimentando en cuadernos Jupyter con funciones de usuario y animaciones y visualizaciones en python.   \n",
    "\n",
    "En particular utiliza para el diseño de clase a Numpy, Pandas, SymPy, Matplotlib.pyplot, Seaborn, Plotly, ipywidgets, matplotlib.animation, TensorFlow, Keras y Jupyter Notebook.    \n",
    "\n",
    "Cada vez que utilices `matplotlib.animacion` no olvides incluir el uso de `IPython. display` para la rederización de estas animaciones a través de Jupyter Notebook. No olvides darme los diseños de clase con las ecuaciones matemáticas delimitadas con signo de dolar $ para que VS Code si me renderize estas expresiones del lenguaje latex. Cuando vallas a utilizar ipywidgets ten en cuenta la siguiente importación inicial para garantizar que la visualización interactiva si se renderize en VS Code:   \n",
    "\n",
    "import numpy as np  \n",
    "import matplotlib.pyplot as plt  \n",
    "import ipywidgets as widgets  \n",
    "\n",
    "\n",
    "\n"
   ]
  },
  {
   "cell_type": "markdown",
   "id": "f39ebbcb",
   "metadata": {},
   "source": [
    "# Diseño del parcial 1 tema 1 para álgebra y trigonometría  a realizar el miércoles 27 de agosto \n",
    "\n"
   ]
  },
  {
   "cell_type": "markdown",
   "id": "2e22199b",
   "metadata": {},
   "source": [
    "\n",
    "## Prompt  para el diseño del parcial 1 tema 1 para álgebra y trigonometría  a realizar el miércoles 27 de agosto  \n",
    "\n",
    "Dame, por favor, un diseño de parcial 1 para el curso de álgebra y trigonometría para realizar el miércoles 27 de de agosto a las 9 de la mañana y donde se evalúen los temas dados por Swokowski en su texto \"Algebra y trigonometría\" de su tercera edición. De tal manera que los temas a evaluar sean los dados por el siguiente cronograma que te adjunto"
   ]
  },
  {
   "cell_type": "markdown",
   "id": "3ec0babb",
   "metadata": {},
   "source": [
    "Perfecto. Ya revisé tu cronograma . El **Parcial 1** corresponde a la **Unidad 1: Aritmética**, y debe evaluarse el **miércoles 27 de agosto de 2025 a las 9:00 a.m.**.\n",
    "\n",
    "Los temas que según tu plan se deben evaluar en este primer parcial son:\n",
    "\n",
    "* Números reales, potenciación y radicación.\n",
    "* Expresiones algebraicas y productos notables.\n",
    "* Factorización.\n",
    "* Números complejos.\n",
    "* Ecuaciones algebraicas e inecuaciones.\n",
    "* Razones, proporciones y porcentajes.\n",
    "\n",
    "Aquí te propongo un **diseño de Parcial 1**:\n",
    "\n",
    "---\n"
   ]
  },
  {
   "cell_type": "markdown",
   "id": "dadaf55b",
   "metadata": {},
   "source": [
    "\n",
    "## **Universidad de Antioquia**\n",
    "\n",
    "**Curso:** Álgebra y Trigonometría\n",
    "**Parcial 1 – Unidad 1: Aritmética**\n",
    "**Fecha:** Miércoles, 27 de agosto de 2025\n",
    "**Duración:** 2 horas\n",
    "**Docente:** \\_\\_\\_\\_\\_\\_\\_\\_\\_\\_\\_\\_\\_\\_\\_\\_\\_\\_\n"
   ]
  },
  {
   "cell_type": "markdown",
   "id": "a974190a",
   "metadata": {},
   "source": [
    "\n",
    "### **Instrucciones**\n",
    "\n",
    "1. Responda de manera clara y justifique sus procedimientos.\n",
    "2. Puede utilizar calculadora científica no programable.\n",
    "3. El examen tiene un valor total de 100 puntos.\n",
    "\n",
    "---\n"
   ]
  },
  {
   "cell_type": "markdown",
   "id": "e341ab08",
   "metadata": {},
   "source": [
    "\n",
    "### **Parte I. Números Reales y Operaciones (20 puntos)**\n",
    "\n",
    "1. Simplifique la siguiente expresión (10 pts):\n",
    "   $(2\\sqrt{18} - 3√8) + (√50 - 2√2)$\n",
    "\n",
    "2. Escriba en notación científica los siguientes números (5 pts):\n",
    "   a) 0.00007245\n",
    "   b) 52,300,000\n",
    "\n",
    "3. Exprese en forma decimal y determine si el resultado es un número racional o irracional (5 pts):\n",
    "   $\\sqrt{81}/\\sqrt{50}$\n",
    "\n",
    "---\n"
   ]
  },
  {
   "cell_type": "markdown",
   "id": "dbf91d03",
   "metadata": {},
   "source": [
    "\n",
    "### **Parte II. Expresiones Algebraicas y Factorización (20 puntos)**\n",
    "\n",
    "4. Expanda y simplifique (10 pts):\n",
    "   $(x + 2y)^2 - (x - y)^2$\n",
    "\n",
    "5. Factorice completamente (10 pts):\n",
    "   $4x^2 - 25y^2$\n",
    "\n",
    "---\n"
   ]
  },
  {
   "cell_type": "markdown",
   "id": "602ee364",
   "metadata": {},
   "source": [
    "\n",
    "### **Parte III. Números Complejos (15 puntos)**\n",
    "\n",
    "6. Exprese en forma binómica y gráfica el número complejo (8 pts):\n",
    "   $z = (3 + 2i)(1 - i)$\n",
    "\n",
    "7. Calcule el conjugado y el módulo de $z = -5 + 12i$. (7 pts)\n",
    "\n",
    "---\n"
   ]
  },
  {
   "cell_type": "markdown",
   "id": "22e73150",
   "metadata": {},
   "source": [
    "\n",
    "### **Parte IV. Ecuaciones e Inecuaciones (25 puntos)**\n",
    "\n",
    "8. Resuelva la ecuación cuadrática (10 pts):\n",
    "   $2x^2 - 3x - 5 = 0$\n",
    "\n",
    "9. Resuelva la inecuación y represente la solución en la recta real (10 pts):\n",
    "   $3x - 7 > 2x + 5$\n",
    "\n",
    "10. Determine las raíces reales de la siguiente ecuación (5 pts):\n",
    "    $x^4 - 16 = 0$\n",
    "\n",
    "---\n"
   ]
  },
  {
   "cell_type": "markdown",
   "id": "a9c5bce1",
   "metadata": {},
   "source": [
    "\n",
    "### **Parte V. Razones, Proporciones y Porcentajes (20 puntos)**\n",
    "\n",
    "11. Si una inversión de \\$5,000 crece a \\$6,200 en un año, ¿cuál fue el porcentaje de crecimiento? (10 pts)\n",
    "\n",
    "12. Tres obreros realizan una obra en 12 días trabajando juntos. Si solo trabajan 2 de ellos, tardan 18 días. ¿Cuánto tardaría en hacer la obra el tercer obrero solo? (10 pts)\n",
    "\n",
    "---\n",
    "\n",
    "### **Total: 100 puntos**\n",
    "\n",
    "---\n",
    "\n",
    "¿Quieres que ahora te prepare también la **rúbrica de calificación** (criterios de desempeño por nivel) para este parcial, y un **script en Python** para generar automáticamente el examen en archivo `.docx`?\n"
   ]
  },
  {
   "cell_type": "markdown",
   "id": "e78f839a",
   "metadata": {},
   "source": [
    "¡Listo! Aquí tienes la **rúbrica de calificación** y un **script de Python** que genera el parcial en `.docx` con toda la redacción en una línea y sin LaTeX (solo texto legible). Los temas corresponden a la **Unidad 1** de tu cronograma de “clase a clase” (números reales, operaciones, factorización, complejos, ecuaciones/inecuaciones, razones y porcentajes).\n",
    "\n",
    "# Rúbrica de calificación – Parcial 1 (100 pts)\n"
   ]
  },
  {
   "cell_type": "markdown",
   "id": "fb14e838",
   "metadata": {},
   "source": [
    "\n",
    "## Criterios globales\n",
    "\n",
    "* **Corrección matemática (70%)**: resultados correctos, manejo adecuado de definiciones y propiedades.\n",
    "* **Procedimiento y justificación (20%)**: pasos mostrados, coherencia, elección de técnicas apropiadas.\n",
    "* **Claridad y notación (10%)**: orden, legibilidad, uso correcto de símbolos y unidades.\n",
    "\n",
    "## Ponderación por partes y guía de asignación de puntaje\n",
    "\n",
    "1. **Números Reales y Operaciones (20 pts)**\n",
    "\n",
    "* 1) Simplificación con radicales (10 pts):\n",
    "\n",
    "  * Reducción correcta de radicales (4), operaciones con coeficientes (4), presentación final simplificada (2).\n",
    "* 2. Notación científica (5 pts: 2.5 + 2.5):\n",
    "\n",
    "  * Coeficiente 1≤a<10 (1), potencia de 10 correcta (1), signo/posición decimal (0.5).\n",
    "* 3. Cociente de radicales y clasificación (5 pts):\n",
    "\n",
    "  * Valor decimal correctamente obtenido (3), clasificación racional/irracional (2).\n",
    "\n",
    "2. **Expresiones Algebraicas y Factorización (20 pts)**\n",
    "\n",
    "* 4) Expansión y simplificación (10 pts):\n",
    "\n",
    "  * Aplicación de identidades (6), combinación y orden (3), forma final (1).\n",
    "* 5. Factorización total (10 pts):\n",
    "\n",
    "  * Identificación del patrón (5), factorización correcta (4), verificación rápida u orden (1).\n",
    "\n",
    "3. **Números Complejos (15 pts)**\n",
    "\n",
    "* 6) Producto y forma binómica (8 pts):\n",
    "\n",
    "  * Producto correcto (5), forma a+bi (2), mención breve del punto en el plano (1).\n",
    "* 7. Conjugado y módulo (7 pts):\n",
    "\n",
    "  * Conjugado (2), módulo (|z|) (4), forma final clara (1).\n",
    "\n",
    "4. **Ecuaciones e Inecuaciones (25 pts)**\n",
    "\n",
    "* 8) Ecuación cuadrática (10 pts):\n",
    "\n",
    "  * Selección del método (fórmula/factorización) (3), raíces correctas (6), verificación u orden (1).\n",
    "* 9. Inecuación lineal (10 pts):\n",
    "\n",
    "  * Despeje correcto (5), intervalo solución (3), representación en recta real (2).\n",
    "* 10. Ecuación bicuadrada (5 pts):\n",
    "\n",
    "  * Transformación y raíces reales (4), forma final (1).\n",
    "\n",
    "5. **Razones, Proporciones y Porcentajes (20 pts)**\n",
    "\n",
    "* 11) Porcentaje de crecimiento (10 pts):\n",
    "\n",
    "  * Diferencia e índice (6), porcentaje final (3), unidades/claridad (1).\n",
    "* 12. Trabajo conjunto (10 pts):\n",
    "\n",
    "  * Planteamiento en tasas (6), tiempo individual del tercero (3), interpretación (1).\n",
    "\n",
    "**Escala de desempeño por ejercicio**\n",
    "\n",
    "* 90–100%: ejecución impecable;\n",
    "* 75–89%: errores menores que no afectan el método central;\n",
    "* 50–74%: método parcialmente correcto, varios errores de cómputo;\n",
    "* <50%: planteamiento errado o incompleto.\n",
    "\n",
    "---\n",
    "\n",
    "# Script de Python para generar el parcial en .docx\n",
    "\n",
    "Requisitos: `python-docx`\n",
    "\n",
    "```bash\n",
    "pip install python-docx\n",
    "```\n",
    "\n",
    "El script crea un archivo `Parcial1_AlgebraTrigonometria_UdeA_2025-08-27.docx` con formato simple, todas las expresiones en una línea y sin LaTeX.\n"
   ]
  },
  {
   "cell_type": "code",
   "execution_count": 1,
   "id": "0fcf237e",
   "metadata": {},
   "outputs": [
    {
     "name": "stdout",
     "output_type": "stream",
     "text": [
      "Archivo generado: Parcial1_AlgebraTrigonometria_UdeA_2025-08-27.docx\n"
     ]
    }
   ],
   "source": [
    "from docx import Document\n",
    "from docx.shared import Pt, Inches\n",
    "from docx.enum.text import WD_ALIGN_PARAGRAPH\n",
    "from docx.oxml.ns import qn\n",
    "from docx.enum.section import WD_ORIENTATION\n",
    "\n",
    "def add_heading_center(doc, text, size=16, bold=True):\n",
    "    p = doc.add_paragraph()\n",
    "    run = p.add_run(text)\n",
    "    run.bold = bold\n",
    "    run.font.size = Pt(size)\n",
    "    p.alignment = WD_ALIGN_PARAGRAPH.CENTER\n",
    "    return p\n",
    "\n",
    "def add_paragraph(doc, text, size=12, space_after=6):\n",
    "    p = doc.add_paragraph()\n",
    "    run = p.add_run(text)\n",
    "    run.font.size = Pt(size)\n",
    "    p.paragraph_format.space_after = Pt(space_after)\n",
    "    return p\n",
    "\n",
    "def add_list_item(doc, text, level=0):\n",
    "    p = doc.add_paragraph(style='List Number')\n",
    "    if level > 0:\n",
    "        p.style = 'List Number'\n",
    "    run = p.add_run(text)\n",
    "    run.font.size = Pt(12)\n",
    "    return p\n",
    "\n",
    "def add_section_title(doc, text):\n",
    "    p = doc.add_paragraph()\n",
    "    run = p.add_run(text)\n",
    "    run.bold = True\n",
    "    run.font.size = Pt(12)\n",
    "    return p\n",
    "\n",
    "def build_exam():\n",
    "    doc = Document()\n",
    "\n",
    "    # Márgenes y orientación\n",
    "    section = doc.sections[0]\n",
    "    section.orientation = WD_ORIENTATION.PORTRAIT\n",
    "    section.page_height, section.page_width = section.page_height, section.page_width\n",
    "    margin = Inches(1)\n",
    "    section.top_margin = margin\n",
    "    section.bottom_margin = margin\n",
    "    section.left_margin = margin\n",
    "    section.right_margin = margin\n",
    "\n",
    "    # Encabezado institucional\n",
    "    add_heading_center(doc, \"Universidad de Antioquia\", 16)\n",
    "    add_heading_center(doc, \"Curso: Álgebra y Trigonometría\", 14)\n",
    "    add_heading_center(doc, \"Parcial 1 – Unidad 1: Aritmética\", 14)\n",
    "    add_heading_center(doc, \"Miércoles, 27 de agosto de 2025 – 9:00 a.m. (Duración: 2 horas)\", 11, bold=False)\n",
    "    add_paragraph(doc, \"Docente: ____________________________\", 11, 12)\n",
    "    add_paragraph(doc, \"Nombre: ____________________________    Grupo: _______    Código: __________\", 11, 12)\n",
    "\n",
    "    # Instrucciones\n",
    "    add_section_title(doc, \"Instrucciones\")\n",
    "    add_paragraph(doc, \"1) Responda de manera clara y justifique sus procedimientos.\", 11)\n",
    "    add_paragraph(doc, \"2) Puede utilizar calculadora científica no programable.\", 11)\n",
    "    add_paragraph(doc, \"3) Valor total: 100 puntos.\", 11)\n",
    "\n",
    "    # Parte I\n",
    "    add_section_title(doc, \"Parte I. Números Reales y Operaciones (20 pts)\")\n",
    "    add_list_item(doc, \"Simplifique: (2*sqrt(18) - 3*sqrt(8)) + (sqrt(50) - 2*sqrt(2))   [10 pts]\")\n",
    "    add_list_item(doc, \"Escriba en notación científica: (a) 0.00007245   (b) 52,300,000   [5 pts]\")\n",
    "    add_list_item(doc, \"Calcule sqrt(81)/sqrt(50) en forma decimal y clasifique como racional o irracional.   [5 pts]\")\n",
    "\n",
    "    # Parte II\n",
    "    add_section_title(doc, \"Parte II. Expresiones Algebraicas y Factorización (20 pts)\")\n",
    "    add_list_item(doc, \"Expanda y simplifique: (x + 2y)^2 - (x - y)^2   [10 pts]\")\n",
    "    add_list_item(doc, \"Factorice completamente: 4x^2 - 25y^2   [10 pts]\")\n",
    "\n",
    "    # Parte III\n",
    "    add_section_title(doc, \"Parte III. Números Complejos (15 pts)\")\n",
    "    add_list_item(doc, \"Exprese en forma binómica el producto: (3 + 2i)*(1 - i). Indique sus coordenadas en el plano complejo.   [8 pts]\")\n",
    "    add_list_item(doc, \"Halle el conjugado y el módulo de z = -5 + 12i.   [7 pts]\")\n",
    "\n",
    "    # Parte IV\n",
    "    add_section_title(doc, \"Parte IV. Ecuaciones e Inecuaciones (25 pts)\")\n",
    "    add_list_item(doc, \"Resuelva: 2x^2 - 3x - 5 = 0   [10 pts]\")\n",
    "    add_list_item(doc, \"Resuelva la inecuación y represente la solución en la recta real: 3x - 7 > 2x + 5   [10 pts]\")\n",
    "    add_list_item(doc, \"Halle las raíces reales: x^4 - 16 = 0   [5 pts]\")\n",
    "\n",
    "    # Parte V\n",
    "    add_section_title(doc, \"Parte V. Razones, Proporciones y Porcentajes (20 pts)\")\n",
    "    add_list_item(doc, \"Una inversión de 5000 crece a 6200 en un año. ¿Cuál fue el porcentaje de crecimiento?   [10 pts]\")\n",
    "    add_list_item(doc, \"Tres obreros hacen una obra en 12 días trabajando juntos. Si dos de ellos tardan 18 días, ¿cuánto tardaría el tercero solo?   [10 pts]\")\n",
    "\n",
    "    # Espacio para comentarios\n",
    "    add_paragraph(doc, \"\\nComentarios del docente: ____________________________________________________\", 11, 6)\n",
    "    add_paragraph(doc, \"______________________________________________________________________________\", 11, 6)\n",
    "\n",
    "    # Guardar\n",
    "    filename = \"Parcial1_AlgebraTrigonometria_UdeA_2025-08-27.docx\"\n",
    "    doc.save(filename)\n",
    "    print(f\"Archivo generado: {filename}\")\n",
    "\n",
    "if __name__ == \"__main__\":\n",
    "    build_exam()\n",
    "\n"
   ]
  },
  {
   "cell_type": "markdown",
   "id": "549261db",
   "metadata": {},
   "source": [
    "\n",
    "## Notas útiles\n",
    "\n",
    "* Todo está en **una línea por ítem** y **sin LaTeX**; se usa notación clara tipo `sqrt()`, `^`, `*`, etc.\n",
    "* Si quieres **duplicar el examen con orden alterno** de preguntas, o incluir **hoja de respuestas** y **portada**, te lo armo de inmediato.\n",
    "* ¿Deseas que agregue un **solucionario** en un `.docx` aparte con criterios de parcialización según la rúbrica?\n"
   ]
  },
  {
   "cell_type": "code",
   "execution_count": null,
   "id": "f7ac8732",
   "metadata": {},
   "outputs": [],
   "source": []
  },
  {
   "cell_type": "markdown",
   "id": "bb9b4b38",
   "metadata": {},
   "source": [
    "Perfecto, Marco. Con base en el **cronograma clase a clase** que adjuntaste, el **Parcial 1** debe evaluar los temas de la **Unidad 1: Aritmética** que se trabajan entre el 5 y el 19 de agosto:\n",
    "\n",
    "* Números reales, potenciación, radicación.\n",
    "* Expresiones algebraicas y productos notables.\n",
    "* Factorización y números complejos.\n",
    "* Ecuaciones e inecuaciones.\n",
    "* Razones, proporciones y porcentajes.\n",
    "\n",
    "El examen se realizará el **miércoles 27 de agosto de 2025 a las 9:00 a.m.**, como pediste.\n",
    "\n",
    "Aquí te dejo el **diseño de Parcial 1**:\n",
    "\n",
    "---\n",
    "\n",
    "# **Universidad de Antioquia**\n",
    "\n",
    "**Curso:** Álgebra y Trigonometría\n",
    "**Profesor:** Marco Julio Cañas\n",
    "**Fecha:** Miércoles, 27 de agosto de 2025 – 9:00 a.m.\n",
    "**Duración:** 2 horas\n",
    "\n",
    "---\n",
    "\n",
    "## **Parcial 1 – Unidad 1: Aritmética**\n",
    "\n",
    "### Instrucciones\n",
    "\n",
    "* Responda de manera clara y ordenada.\n",
    "* Justifique cada procedimiento algebraico.\n",
    "* No se permite el uso de calculadora programable.\n",
    "\n",
    "---\n",
    "\n",
    "### **Parte I. Números reales y operaciones (20%)**\n",
    "\n",
    "1. Simplifique:\n",
    "\n",
    "$$\n",
    "\\frac{5\\sqrt{18} - 3\\sqrt{8}}{2\\sqrt{2}}\n",
    "$$\n",
    "\n",
    "2. Exprese en forma de potencia única:\n",
    "\n",
    "$$\n",
    "\\frac{a^{3}b^{-2}}{a^{-1}b^{4}}\n",
    "$$\n",
    "\n",
    "---\n",
    "\n",
    "### **Parte II. Expresiones algebraicas y factorización (20%)**\n",
    "\n",
    "3. Expanda y simplifique usando productos notables:\n",
    "\n",
    "$$\n",
    "(x + 2)^2 - (x - 3)(x + 3)\n",
    "$$\n",
    "\n",
    "4. Factorice completamente:\n",
    "\n",
    "$$\n",
    "6x^2 - 15x + 9\n",
    "$$\n",
    "\n",
    "---\n",
    "\n",
    "### **Parte III. Números complejos (15%)**\n",
    "\n",
    "5. Exprese en forma binómica el resultado de:\n",
    "\n",
    "$$\n",
    "(3 + 2i)(1 - 4i)\n",
    "$$\n",
    "\n",
    "6. Calcule el módulo y argumento principal del número complejo:\n",
    "\n",
    "$$\n",
    "z = -3 + 3i\n",
    "$$\n",
    "\n",
    "---\n",
    "\n",
    "### **Parte IV. Ecuaciones e inecuaciones (25%)**\n",
    "\n",
    "7. Resuelva la ecuación:\n",
    "\n",
    "$$\n",
    "x^2 - 5x + 6 = 0\n",
    "$$\n",
    "\n",
    "8. Resuelva la inecuación y represente gráficamente en la recta real:\n",
    "\n",
    "$$\n",
    "\\frac{2x - 1}{x + 3} > 0\n",
    "$$\n",
    "\n",
    "---\n",
    "\n",
    "### **Parte V. Razones, proporciones y porcentajes (20%)**\n",
    "\n",
    "9. Si en una empresa la relación entre empleados administrativos y operativos es de 3:7, y el total de empleados es 200, ¿cuántos son administrativos?\n",
    "10. Una inversión de \\$5.000.000 genera un interés del 18% anual simple. ¿Cuál será el interés al cabo de 8 meses?\n",
    "\n",
    "---\n",
    "\n",
    "## **Distribución de Puntos**\n",
    "\n",
    "* Parte I: 20%\n",
    "* Parte II: 20%\n",
    "* Parte III: 15%\n",
    "* Parte IV: 25%\n",
    "* Parte V: 20%\n",
    "\n",
    "**Total: 100%**\n",
    "\n",
    "---\n",
    "\n",
    "📌 Pregunta: ¿Quieres que también te prepare la **rúbrica de calificación** (criterios de evaluación por nivel de desempeño) para este parcial?\n"
   ]
  },
  {
   "cell_type": "markdown",
   "id": "b7ce3624",
   "metadata": {},
   "source": [
    "He generado el archivo con el **Parcial 1** y la **rúbrica de calificación** en formato `.docx`.\n",
    "Puedes descargarlo aquí:\n",
    "\n",
    "📂 [Parcial1\\_Algebra.docx](sandbox:/mnt/data/Parcial1_Algebra.docx)\n",
    "\n",
    "¿Quieres que también prepare la **versión en PDF** lista para impresión?\n"
   ]
  },
  {
   "cell_type": "code",
   "execution_count": null,
   "id": "ba2b60e6",
   "metadata": {},
   "outputs": [],
   "source": []
  },
  {
   "cell_type": "code",
   "execution_count": null,
   "id": "debf1889",
   "metadata": {},
   "outputs": [],
   "source": []
  },
  {
   "cell_type": "code",
   "execution_count": null,
   "id": "9834ae54",
   "metadata": {},
   "outputs": [],
   "source": []
  },
  {
   "cell_type": "markdown",
   "id": "cc539357",
   "metadata": {},
   "source": [
    "# [Programación de programa Regiones](https://lookerstudio.google.com/reporting/44e71da0-d16f-4a51-a51e-d5ae6c19b3f1/page/p_gy4nwf37hd?pli=1)"
   ]
  },
  {
   "cell_type": "markdown",
   "id": "8ba64aed",
   "metadata": {},
   "source": [
    "# Cursos que orienta el profesor Marco Julio Cañas Campillo en 2025  \n",
    "\n",
    "1. Lunes 8 a 12: Fundamentos de Lógica: Licenciatura en Matemáticas . \n",
    "2. Martes de 9 a 10: Curso de ML and DL para Ingeniero Juan Gomez en España.  \n",
    "3. Martes de 2 a 5 PM: Vector Geometry and Linear Algebra.  \n",
    "4. Miércoles: 10 a 11: Reunión equipo investigador SAT Dengue. \n",
    "5. Miércoles 2 a 3 PM: Asesoría Trabajo de Grado Janis (Estudiante de Biología).  \n",
    "6. Viernes 2 a 6 PM: Análisis Numérico: Programa de Licenciatura en Matemáticas."
   ]
  },
  {
   "cell_type": "markdown",
   "id": "8d41fe58",
   "metadata": {
    "slideshow": {
     "slide_type": "slide"
    }
   },
   "source": [
    "# Horario de clases del profesor Marco\n",
    "\n",
    "* Lunes 8-12: Fundamentos de Lógica.  \n",
    "* Martes 2-6 PM: Vector Geometry and Linear Algebra.  \n",
    "* Miércoles 9 a 11 AM: Álgebra y Trigonometría.  \n",
    "* Lunes 2- 6 PM: Fundamento de Lógica.  \n",
    "* Martes 8-12 M: . \n",
    "* Miércoles 8 a 12 M:   \n",
    "* Miércoles de 2 a 6 PM: \n",
    "* Jueves 2 a 6 PM:  \n",
    "* Viernes 2 - 4 PM: Análisis Numérico. \n",
    "* Sábados 8-12 Asesorías y espacio para retroalimentación y apoyo al trabajo independiente. "
   ]
  },
  {
   "cell_type": "markdown",
   "id": "ae114e14",
   "metadata": {
    "slideshow": {
     "slide_type": "slide"
    }
   },
   "source": [
    "# Horarios de monitoría y asesoría  \n",
    "\n",
    "* Monitor Manuel San Juan Serrano: Contactar escribiendo al correo: manuel.serrano1@udea.edu.co"
   ]
  },
  {
   "cell_type": "markdown",
   "id": "bf0f9dbf",
   "metadata": {},
   "source": [
    "\n",
    "Coordinador de los cursos de la Facultad de Educación para regiones:    \n",
    "\n",
    "Andrés Vélez: regioneducacion.fedu@udea.edu.co  \n",
    "Coordinador Regiones  \n",
    "Facultad de Educación  \n",
    "Universidad de Antioquia  "
   ]
  },
  {
   "cell_type": "markdown",
   "id": "39559692",
   "metadata": {
    "slideshow": {
     "slide_type": "slide"
    }
   },
   "source": [
    "Martes y jueves de 8 - 12  \n",
    "Miércoles 10 - 12 y de 2 a 4 PM  \n",
    "Sábado: 8 - 12"
   ]
  },
  {
   "cell_type": "markdown",
   "id": "10bce0d0",
   "metadata": {
    "slideshow": {
     "slide_type": "slide"
    }
   },
   "source": [
    "## Referentes "
   ]
  },
  {
   "cell_type": "markdown",
   "id": "1db3c468",
   "metadata": {
    "slideshow": {
     "slide_type": "slide"
    }
   },
   "source": [
    "* [CALCULO I DE UNA VARIABLE Ron Larson-Bruce Edwards. Mc Graw Hill. 9º Edición](https://www.academia.edu/42139251/CALCULO_I_DE_UNA_VARIABLE_Ron_Larson_Bruce_Edwards_Mc_Graw_Hill_9o_Edici%C3%B3n)   \n",
    "  \n",
    "\n",
    "* [Grajales Vanegas, L. M., Restrepo Estrada, C. E., Restrepo Ochoa, S. I., & Ruíz De Villalba, F. (2015). Matemáticas I para las ciencias económicas.](https://bibliotecadigital.udea.edu.co/handle/10495/3010)\n",
    "  \n",
    "* R. Duval y Semiosis y pensamiento humano, 2.ª ed. Cali, Colombia: Programa Editorial Universidad del Valle, 2017. [En línea]. Disponible en: https://programaeditorial.univalle.edu.co/gpd-semiosis-y-pensamiento-humano-9789587655278-63324cdb0f6b3.html\n",
    "\n",
    "* [Aylwin, C. U. (2011). Lógica, conjuntos y números. Universidad de los Andes, Consejo de Publicaciones, Colección: Ciencias Básicas, Serie: Matemáticas.](chrome-extension://efaidnbmnnnibpcajpcglclefindmkaj/https://www.u-cursos.cl/ciencias/2011/1/MC110/1/material_docente/bajar?id_material=574722)\n",
    "  \n",
    "* [Chollet, F. (2021). Deep learning with Python. Simon and Schuster.](chrome-extension://efaidnbmnnnibpcajpcglclefindmkaj/https://tanthiamhuat.wordpress.com/wp-content/uploads/2018/03/deeplearningwithpython.pdf)  \n",
    "  \n",
    "* [Watson, S., Stewart, J., & Redlin, L. (2009). Precálculo. Matemáticas para el cálculo.](https://github.com/marco-canas/calculo/blob/main/referents/1_precalculo_stewart/stewart_precalculo.pdf)  \n",
    "\n",
    "* [Purcell, E. J., Varberg, D., & Rigdon, S. E. (2007). Cálculo diferencial e integral. Pearson Educación.](https://github.com/marco-canas/calculo/blob/main/referents/purcell/purcell_calculo.pdf)\n",
    "\n",
    "  \n",
    "\n",
    "* [stewart cálculo](https://udeaeduco-my.sharepoint.com/:b:/g/personal/marco_canas_udea_edu_co/EZgXZjAp8QxPqOAim2hs6LcBNPLGjSHf-xwYnUVYkwa04w?e=RZdTCy)  \n",
    "\n",
    "\n",
    "\n",
    "\n",
    "\n",
    "* [Recomendación de la UNESCO sobre ciencia abierta](https://unesdoc.unesco.org/ark:/48223/pf0000379949_spa)\n",
    "\n",
    "* [chatGPT](https://openai.com/blog/chatgpt)  \n",
    "\n",
    "* [Géron, A. (2017). Hands-on machine learning with scikit-learn and tensorflow: Concepts. Tools, and Techniques to build intelligent systems.](chrome-extension://efaidnbmnnnibpcajpcglclefindmkaj/http://14.139.161.31/OddSem-0822-1122/Hands-On_Machine_Learning_with_Scikit-Learn-Keras-and-TensorFlow-2nd-Edition-Aurelien-Geron.pdf)   \n"
   ]
  },
  {
   "cell_type": "markdown",
   "id": "df925560",
   "metadata": {},
   "source": [
    "\n",
    "* [McKinney, W. (2012). Python for data analysis: Data wrangling with Pandas, NumPy, and IPython. \" O'Reilly Media, Inc.\".](https://wesmckinney.com/book/) "
   ]
  },
  {
   "cell_type": "markdown",
   "id": "8e65d6f9",
   "metadata": {},
   "source": [
    "# Como estudiante, encuentro que...   \n",
    "\n",
    "F: Mis Fortalezas son:     \n",
    "O: Mis Oportunidades son:    \n",
    "D: Mis Debilidades son:    \n",
    "A: Lo que Amenazas mi aprendizaje es:  "
   ]
  },
  {
   "cell_type": "markdown",
   "id": "6b9e56a8",
   "metadata": {
    "slideshow": {
     "slide_type": "slide"
    }
   },
   "source": [
    "### [Evaluamos al profesor Marco Cañas Aquí](https://forms.office.com/Pages/ResponsePage.aspx?id=IefhmYRxjkmK_7KtTlPBwkanXIs1i1FEujpsZgO6dXpUREJPV1kxUk1JV1ozTFJIQVNIQjY5WEY3US4u)"
   ]
  },
  {
   "cell_type": "markdown",
   "id": "10f43536",
   "metadata": {
    "slideshow": {
     "slide_type": "slide"
    }
   },
   "source": [
    "### Continue su aprendizaje en la siguiente clase a través del siguiente [vínculo]()"
   ]
  },
  {
   "cell_type": "markdown",
   "id": "53cc9115",
   "metadata": {
    "slideshow": {
     "slide_type": "slide"
    }
   },
   "source": [
    "## Agradecimientos  \n",
    "\n",
    "Doy gracias a Dios por la vida de mi Hijo Joseph Cañas Osorio y la madurez que ha alcanzado. Este hijo me enorgullece y me hace falta abrazarlo cada día. \n",
    "\n",
    "Y a mi esposa Yasmira Emperatriz Barboza Mogollón por su apoyo, orientación y acompañamiento. "
   ]
  },
  {
   "cell_type": "markdown",
   "id": "b6ba1c23",
   "metadata": {},
   "source": [
    "# Apéndice sobre calendarios y coordinaciones \n"
   ]
  },
  {
   "cell_type": "markdown",
   "id": "bf8b6499",
   "metadata": {},
   "source": [
    "## Calendario del semestre académico 2025-2  \n",
    "\n",
    "* Oferta de cursos: 29 de julio de 2025  \n",
    "\n",
    "Matrícula: 30 de julio de 2025  \n",
    "\n",
    "Ajustes de matrícula: 01 al 08 de agosto de 2025  \n",
    "\n",
    "Inicio de clases: 04 de agosto de 2025  \n",
    "\n",
    "Límite evaluación del 40%: 27 de septiembre de 2025  \n",
    "\n",
    "Terminación de clases: 22 de noviembre de 2025\n",
    "\n",
    "Exámenes finales: 24 al 29 de noviembre de 2025\n",
    "\n",
    "Habilitación y validación: 01 al 06 de diciembre 2025\n",
    "\n",
    "Terminación oficial del semestre: 09 de diciembre de 2025  "
   ]
  },
  {
   "cell_type": "markdown",
   "id": "667b9504",
   "metadata": {},
   "source": [
    "\n",
    "A continuación le envío el horario de la asignatura Cálculo Vectorial  \n",
    "\n",
    "Días:  \n",
    "Lunes - Hora: 7:00 a 12:00M  \n",
    "Fechas:  \n",
    "Febrero: 10-17-24                                          \n",
    " Marzo: 3-10-17-31                                                  \n",
    "Abril:7-21-28                                                   \n",
    "Mayo:5-12-19  \n",
    "\n",
    "Agradezco su apoyo, y si presenta alguna dificultad puede contactarme.  \n",
    "\n",
    "Cordialmente,  \n",
    "Juan Felipe Rivera Hernández  \n",
    "Contacto: 3106314300  "
   ]
  }
 ],
 "metadata": {
  "celltoolbar": "Slideshow",
  "kernelspec": {
   "display_name": ".venv",
   "language": "python",
   "name": "python3"
  },
  "language_info": {
   "codemirror_mode": {
    "name": "ipython",
    "version": 3
   },
   "file_extension": ".py",
   "mimetype": "text/x-python",
   "name": "python",
   "nbconvert_exporter": "python",
   "pygments_lexer": "ipython3",
   "version": "3.11.9"
  },
  "rise": {
   "enable_chalkboard": true,
   "theme": "sky",
   "transition": "zoom"
  }
 },
 "nbformat": 4,
 "nbformat_minor": 5
}
