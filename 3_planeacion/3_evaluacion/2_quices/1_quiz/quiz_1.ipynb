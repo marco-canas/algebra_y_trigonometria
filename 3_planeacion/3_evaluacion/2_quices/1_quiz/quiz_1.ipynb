{
 "cells": [
  {
   "cell_type": "markdown",
   "id": "31b832da",
   "metadata": {},
   "source": [
    "Prompt para el diseño del quiz 1 \n",
    "\n",
    "Diseñame, por favor, un quiz siguiendo al pie de la letra la siguiente estructura:  \n",
    "1. El primer punto sea teórico de verdadero o falso con justificación usando ejemplso, contraejemplos y/o definiciones o teoremas o propiedades.\n",
    "2. Se evaluen las secciones 1.1, 1.2, 1.3 y 1.4 del Swokowski en su treceava edición. \n",
    ", y las siguientes referencias que me diste (Swokowski, 13ª ed., y tu plan de curso), y la instrucción de exigir **justificación con definiciones y propiedades de los números reales**.  Las expresiones matemáticas escribemelas a una línea y sin usar lenguaje Látex. \n"
   ]
  },
  {
   "cell_type": "markdown",
   "id": "cdc9970f",
   "metadata": {},
   "source": [
    "\n",
    "\n",
    "# **Quiz 1 – Álgebra y Trigonometría**\n",
    "\n",
    "**Temas evaluados:**\n",
    "1.1 Números reales\n",
    "1.2 Exponentes y radicales\n",
    "1.3 Expresiones algebraicas\n",
    "1.4 Expresiones fraccionarias\n",
    "\n",
    "**Instrucciones:**\n",
    "\n",
    "* Justifique **siempre** sus respuestas utilizando definiciones y propiedades de los números reales según *Swokowski, 13ª ed.*\n",
    "* La justificación tiene un valor del **50%** de cada ítem.\n",
    "* Responda con orden, limpieza y precisión matemática.\n",
    "\n",
    "---\n"
   ]
  },
  {
   "cell_type": "markdown",
   "id": "95ea7831",
   "metadata": {},
   "source": [
    "\n",
    "## **Ítem 1 – Verdadero o Falso con justificación** (10 puntos, 1 punto cada afirmación)\n",
    "\n",
    "Indique si cada afirmación es **Verdadera (V)** o **Falsa (F)** y **justifique** usando las definiciones y propiedades de los números reales de *Swokowski*.\n",
    "\n",
    "1. Todo número racional es un número real.\n"
   ]
  },
  {
   "cell_type": "markdown",
   "id": "36e5d960",
   "metadata": {},
   "source": [
    "Te diseño una **guía didáctica paso a paso** para que tus estudiantes trabajen la afirmación:\n",
    "\n",
    "> **“Todo número racional es un número real.”**\n",
    "\n",
    "con el apoyo de **definiciones matemáticas (Swokowski), gráficos con Matplotlib** y **funciones de usuario en Python** para experimentar y argumentar.\n",
    "\n",
    "---\n",
    "\n",
    "# 📘 Guía Didáctica\n",
    "\n",
    "## 1. Introducción al problema\n",
    "\n",
    "**Objetivo:** Determinar si la afirmación “Todo número racional es un número real” es verdadera o falsa, y justificarla con definiciones y experimentación matemática.\n",
    "\n",
    "### Contexto de la clase\n",
    "\n",
    "* **Aula Invertida**: los estudiantes ya han visto en videos previos las definiciones de racionales e irracionales.\n",
    "* **Clase presencial**: se construyen justificaciones colectivas y se realizan experimentos en Python.\n",
    "\n",
    "---\n",
    "\n",
    "## 2. Definiciones (según Swokowski, 13ª ed.)\n",
    "\n",
    "1. **Número real ($\\mathbb{R}$)**: conjunto que incluye a todos los números racionales e irracionales.\n",
    "2. **Número racional ($\\mathbb{Q}$)**: todo número que puede expresarse como cociente de dos enteros $\\frac{p}{q}$, con $q \\neq 0$.\n",
    "3. **Número irracional**: número real que **no** puede expresarse como cociente de enteros (ej. $\\pi, \\sqrt{2}$).\n",
    "\n",
    "📌 **Conclusión teórica preliminar**:\n",
    "Todo número racional pertenece al conjunto de los reales, porque los reales se definen como **racionales ∪ irracionales**.\n",
    "\n",
    "---\n",
    "\n",
    "## 3. Representación gráfica con Matplotlib\n",
    "\n",
    "Se construye una **línea numérica** donde se muestran ejemplos de racionales e irracionales dentro de los reales.\n",
    "\n",
    "```python\n",
    "import matplotlib.pyplot as plt\n",
    "import numpy as np\n",
    "\n",
    "# Crear la recta real en un intervalo\n",
    "x = np.linspace(-5, 5, 400)\n",
    "\n",
    "# Ejemplos de racionales y irracionales\n",
    "racionales = [1/2, -3/4, 2, -1, 4/3]\n",
    "irracionales = [np.sqrt(2), -np.sqrt(3), np.pi-3]  \n",
    "\n",
    "plt.axhline(0, color='black')\n",
    "plt.scatter(racionales, [0]*len(racionales), color='blue', label='Racionales (Q)', s=80, marker='o')\n",
    "plt.scatter(irracionales, [0]*len(irracionales), color='red', label='Irracionales', s=80, marker='x')\n",
    "\n",
    "plt.title(\"Números reales: racionales (azul) e irracionales (rojo)\")\n",
    "plt.yticks([])\n",
    "plt.xlabel(\"Recta real\")\n",
    "plt.legend()\n",
    "plt.show()\n",
    "```\n",
    "\n",
    "📊 **Actividad con estudiantes**:\n",
    "\n",
    "* Observar que **todos los racionales (azul)** están dentro de la recta real.\n",
    "* Notar que también existen irracionales (rojo) dentro de la misma recta.\n",
    "\n",
    "---\n",
    "\n",
    "## 4. Comprobación con Python (funciones de usuario)\n",
    "\n",
    "Para explorar hipótesis, los estudiantes crean funciones que evalúen si un número es **racional** y por lo tanto **real**.\n",
    "\n",
    "```python\n",
    "from fractions import Fraction\n",
    "import math\n",
    "\n",
    "def es_racional(num, tol=1e-10):\n",
    "    \"\"\"\n",
    "    Determina si un número es racional\n",
    "    aproximándolo a una fracción.\n",
    "    \"\"\"\n",
    "    try:\n",
    "        frac = Fraction(num).limit_denominator()\n",
    "        return abs(frac.numerator/frac.denominator - num) < tol\n",
    "    except:\n",
    "        return False\n",
    "\n",
    "def es_real(num):\n",
    "    \"\"\"\n",
    "    Todo número de Python tipo float, int o Fraction\n",
    "    se considera real en ℝ (no incluye complejos).\n",
    "    \"\"\"\n",
    "    return isinstance(num, (int, float, Fraction))\n",
    "\n",
    "# Ejemplos de verificación\n",
    "ejemplos = [0.5, -3/4, math.sqrt(2), math.pi]\n",
    "\n",
    "for e in ejemplos:\n",
    "    print(f\"{e}: Racional = {es_racional(e)}, Real = {es_real(e)}\")\n",
    "```\n",
    "\n",
    "📌 **Interpretación esperada**:\n",
    "\n",
    "* Los racionales como `0.5` o `-3/4` resultan racionales y reales.\n",
    "* Los irracionales como `√2` y `π` no son racionales, pero sí reales.\n",
    "\n",
    "---\n",
    "\n",
    "## 5. Actividad guiada de argumentación\n",
    "\n",
    "1. **Plantear hipótesis**: “Si un número es racional, entonces debe ser real.”\n",
    "2. **Verificar con ejemplos**: usar la función `es_racional()` y observar que todos los números que son racionales también son reales.\n",
    "3. **Generalizar con definiciones**: recordar que por definición $\\mathbb{Q} \\subset \\mathbb{R}$.\n",
    "4. **Explicación en palabras (TRRS – registro verbal)**: “Los racionales forman parte de los reales, porque los reales incluyen tanto a los racionales como a los irracionales.”\n",
    "\n",
    "---\n",
    "\n",
    "## 6. Cierre y conclusiones\n",
    "\n",
    "* **Respuesta final**: La afirmación es **Verdadera**.\n",
    "* **Argumentación matemática**: Por definición, $\\mathbb{Q} \\subset \\mathbb{R}$.\n",
    "* **Representaciones (TRRS de Duval)**:\n",
    "\n",
    "  * **Simbólica**: $\\mathbb{Q} \\subset \\mathbb{R}$.\n",
    "  * **Gráfica**: racionales e irracionales ubicados en la recta real.\n",
    "  * **Verbal**: justificación con definiciones de Swokowski.\n",
    "  * **Computacional**: verificación con funciones en Python.\n",
    "\n",
    "---\n",
    "\n",
    "¿Quieres que te prepare esta guía en **formato Jupyter Notebook** (con explicaciones, celdas de código y visualizaciones) lista para que tus estudiantes la usen directamente en clase?\n"
   ]
  },
  {
   "cell_type": "markdown",
   "id": "5d742515",
   "metadata": {},
   "source": [
    "2. El conjunto de los números reales está formado únicamente por números racionales.\n",
    "3. La propiedad distributiva del producto sobre la suma se cumple para todo par de números reales.\n",
    "4. Si $a, b \\in \\mathbb{R}$, entonces $a^2 \\geq 0$.\n",
    "5. La raíz cuadrada de un número real negativo es un número real.\n",
    "6. Si $a > b$ y $c > 0$, entonces $ac > bc$.\n",
    "7. Si $a$ es irracional, entonces $\\frac{1}{a}$ también es irracional.\n"
   ]
  },
  {
   "cell_type": "markdown",
   "id": "d379cea5",
   "metadata": {},
   "source": []
  },
  {
   "cell_type": "markdown",
   "id": "b7acc12b",
   "metadata": {},
   "source": [
    "8. Para cualquier número real $a$, se cumple que $a + (-a) = 0$.\n",
    "9. El producto de dos números irracionales siempre es irracional.\n",
    "10. Si $a, b \\in \\mathbb{R}$ y $a \\neq 0$, entonces $\\frac{a}{b} \\in \\mathbb{R}$ siempre que $b \\neq 0$.\n",
    "\n",
    "---\n"
   ]
  },
  {
   "cell_type": "markdown",
   "id": "38e42b5e",
   "metadata": {},
   "source": []
  },
  {
   "cell_type": "markdown",
   "id": "a298ad63",
   "metadata": {},
   "source": [
    "\n",
    "## **Ítem 2 – Ejercitación sobre exponentes y radicales** (10 puntos, 2.5 puntos cada apartado)\n",
    "\n",
    "Realice las operaciones indicadas **mostrando y justificando cada paso** con las propiedades de los exponentes y radicales según *Swokowski*.\n"
   ]
  },
  {
   "cell_type": "markdown",
   "id": "b99719d0",
   "metadata": {},
   "source": [
    "\n",
    "a) Simplifique:\n",
    "\n",
    "$$\n",
    "\\frac{2x^{\\frac{3}{2}} \\cdot x^{\\frac{5}{2}}}{x^2}\n",
    "$$\n"
   ]
  },
  {
   "cell_type": "markdown",
   "id": "751eb914",
   "metadata": {},
   "source": [
    "\n",
    "b) Simplifique:\n",
    "\n",
    "$$\n",
    "\\left( \\sqrt[3]{a^2 b^4} \\right)^3\n",
    "$$\n",
    "\n",
    "c) Exprese sin radicales y simplifique:\n",
    "\n",
    "$$\n",
    "\\frac{\\sqrt[4]{x^5}}{\\sqrt[4]{x}}\n",
    "$$\n",
    "\n",
    "d) Simplifique:\n",
    "\n",
    "$$\n",
    "\\frac{(16x^4)^{\\frac{3}{4}}}{(4x)^{\\frac{1}{2}}}\n",
    "$$\n",
    "\n",
    "---\n"
   ]
  },
  {
   "cell_type": "markdown",
   "id": "bd06bd00",
   "metadata": {},
   "source": [
    "\n",
    "## **Ítem 3 – Ejercitación sobre expresiones algebraicas y fraccionarias** (10 puntos, 2.5 puntos cada apartado)\n",
    "\n",
    "Simplifique y justifique usando propiedades de los números reales.\n",
    "\n",
    "a) Simplifique:\n",
    "\n",
    "$$\n",
    "(3x - 2y) - (x - 5y)\n",
    "$$\n",
    "\n",
    "b) Simplifique:\n",
    "\n",
    "$$\n",
    "\\frac{x^2 - 9}{x^2 - 3x}\n",
    "$$\n",
    "\n",
    "c) Simplifique y exprese en forma factorizada:\n",
    "\n",
    "$$\n",
    "\\frac{x^2 - 4x + 4}{x^2 - 2x}\n",
    "$$\n",
    "\n",
    "d) Realice la operación y simplifique:\n",
    "\n",
    "$$\n",
    "\\frac{1}{x} + \\frac{x}{x^2 - 1}\n",
    "$$\n",
    "\n",
    "---\n"
   ]
  },
  {
   "cell_type": "markdown",
   "id": "9727ed50",
   "metadata": {},
   "source": [
    "\n",
    "## **Ítem 4 – Problema de aplicación** (10 puntos)\n"
   ]
  },
  {
   "cell_type": "markdown",
   "id": "f2b3ba9f",
   "metadata": {},
   "source": [
    "\n",
    "Un depósito cilíndrico de agua tiene un radio de $r = 1.5$ metros y una altura de $h = 4$ metros.\n"
   ]
  },
  {
   "cell_type": "markdown",
   "id": "ac4774f0",
   "metadata": {},
   "source": [
    "\n",
    "1. Calcule el volumen del cilindro usando la fórmula:\n",
    "\n",
    "$$\n",
    "V = \\pi r^2 h\n",
    "$$\n",
    "\n",
    "2. Suponga que el radio aumenta un 10% y la altura disminuye un 5%. Calcule el nuevo volumen.\n",
    "3. Compare los volúmenes y exprese el cambio como porcentaje.\n",
    "\n",
    "**Nota:** Justifique los cálculos utilizando propiedades de los números reales, especialmente en potencias, multiplicaciones y operaciones con decimales.\n",
    "\n",
    "---\n"
   ]
  },
  {
   "cell_type": "markdown",
   "id": "0ad50568",
   "metadata": {},
   "source": [
    "\n",
    "**Referencia principal:**\n",
    "Earl W. Swokowski, *Álgebra y Trigonometría con Geometría Analítica*, 13ª ed., Cengage Learning.\n",
    "\n",
    "---\n"
   ]
  },
  {
   "cell_type": "markdown",
   "id": "87aa0328",
   "metadata": {},
   "source": [
    "\n",
    "Si quieres, puedo prepararte **la versión en LaTeX lista para compilar** con este quiz para que la subas a tu repositorio de GitHub y la compartas con tus estudiantes.\n"
   ]
  },
  {
   "cell_type": "markdown",
   "id": "1ce64433",
   "metadata": {},
   "source": [
    "\n",
    "---\n",
    "\n",
    "## Cómo funciona\n",
    "\n",
    "* Usa `python-docx` para crear el documento Word.\n",
    "* Las expresiones como `a²`, `√x`, `π` y fracciones se escriben en formato texto Unicode, **no en LaTeX**.\n",
    "* Genera un archivo `quiz_1.docx` listo para abrir en Word.\n",
    "\n",
    "---\n"
   ]
  },
  {
   "cell_type": "markdown",
   "id": "8dabb5bb",
   "metadata": {},
   "source": [
    "\n",
    "Si quieres, puedo mejorarlo para que:\n",
    "\n",
    "* Las fórmulas aparezcan en formato **ecuaciones de Word** (OMML), no solo como texto.\n",
    "* Cada ítem tenga numeración automática y formato visual similar a un examen impreso.\n",
    "\n",
    "¿Quieres que lo deje así para que las fórmulas queden como ecuaciones reales de Word?\n"
   ]
  },
  {
   "cell_type": "markdown",
   "id": "cd7c9cab",
   "metadata": {},
   "source": [
    "# Retroalimentación del quiz 1  \n"
   ]
  },
  {
   "cell_type": "markdown",
   "id": "82fe6651",
   "metadata": {},
   "source": [
    "**quiz** sobre: *Números reales, exponentes y radicales, expresiones algebraicas y fraccionarias, y un problema de aplicación geométrica*.\n"
   ]
  },
  {
   "cell_type": "markdown",
   "id": "ce748dd8",
   "metadata": {},
   "source": [
    "\n",
    "Esta es una lista de **posibles problemas o dificultades que los estudiantes pueden encontrar**, junto con **recomendaciones didácticas y matemáticas** desde los enfoques **Aula Invertida, STEAMS, ABPP y TRRS de Duval**:\n",
    "\n",
    "\n"
   ]
  },
  {
   "cell_type": "markdown",
   "id": "a82f53d6",
   "metadata": {},
   "source": [
    "\n",
    "## Posibles problemas o dificultades por ítem\n"
   ]
  },
  {
   "cell_type": "markdown",
   "id": "01dc9820",
   "metadata": {},
   "source": [
    "\n",
    "### Ítem 1 – Verdadero o Falso\n",
    "\n",
    "* Confundir los conjuntos numéricos (ej. dificultad para razonar por reducción al absurdo).\n"
   ]
  },
  {
   "cell_type": "markdown",
   "id": "2e17c326",
   "metadata": {},
   "source": [
    "* Dificultad para justificar con **propiedades formales** en lugar de solo intuición.\n",
    "* Creer que la raíz cuadrada de un negativo es real, por falta de claridad sobre los números complejos.\n",
    "* Generalizar erróneamente (ej. \"el producto de irracionales siempre es irracional\").\n"
   ]
  },
  {
   "cell_type": "markdown",
   "id": "d4ca462b",
   "metadata": {},
   "source": [
    "\n",
    "### Ítem 2 – Exponentes y radicales\n",
    "\n",
    "* Errores en las reglas de exponentes (sumar en vez de multiplicar, olvidar que $x^{a}/x^{b}=x^{a-b}$).\n",
    "* Confusión entre índices de radicales y exponentes fraccionarios.\n",
    "* Problemas al simplificar expresiones con potencias y raíces mixtas.\n",
    "* No justificar los pasos con propiedades específicas (ej. propiedad de potencias de potencia).\n",
    "\n",
    "### Ítem 3 – Expresiones algebraicas y fraccionarias\n",
    "\n",
    "* Omisión de la factorización previa para simplificar fracciones algebraicas.\n",
    "* Cancelar factores sin considerar restricciones (ej. $x \\neq 0$, $x \\neq \\pm 1$).\n",
    "* Dificultad en manejar operaciones combinadas de suma y factorización.\n",
    "* Falta de claridad en la transición entre representaciones (del lenguaje algebraico al factorizado).\n",
    "\n",
    "### Ítem 4 – Problema de aplicación (volumen de cilindro)\n",
    "\n",
    "* Confusión en el uso de fórmulas geométricas (aplicar mal el área base).\n",
    "* Errores con porcentajes de aumento y disminución.\n",
    "* Problemas con decimales y operaciones aproximadas.\n",
    "* Dificultad en comparar resultados y expresarlos como porcentaje de variación.\n",
    "\n",
    "---\n",
    "\n",
    "## 🎯 Recomendaciones Didácticas y Matemáticas\n",
    "\n",
    "### 1. **Enfoque de Aula Invertida**\n",
    "\n",
    "* Antes del quiz:\n",
    "\n",
    "  * Videos cortos con ejemplos de justificación de propiedades numéricas (Swokowski).\n",
    "  * Mini-prácticas interactivas en Python/GeoGebra para experimentar con exponentes, radicales y simplificaciones.\n",
    "* En clase:\n",
    "\n",
    "  * Resolver dudas, discutir errores frecuentes y trabajar ejemplos en grupo.\n",
    "  * Usar el quiz como **actividad de cierre y reflexión**, no solo evaluación.\n",
    "\n",
    "### 2. **STEAMS**\n",
    "\n",
    "* **Ciencias:** Relacionar propiedades numéricas con física (ej. magnitudes siempre positivas como la energía).\n",
    "* **Tecnología:** Uso de Python/NumPy para comprobar simplificaciones algebraicas.\n",
    "* **Ingeniería:** Aplicación del volumen del cilindro en diseño de tanques reales.\n",
    "* **Artes:** Visualización gráfica de funciones $x^{a/b}$ con software.\n",
    "* **Matemáticas:** Justificación rigurosa con propiedades.\n",
    "* **Sociedad:** Relacionar porcentajes de cambio de volumen con almacenamiento de agua potable en comunidades.\n",
    "\n",
    "### 3. **ABPP (Aprendizaje Basado en Problemas y Proyectos)**\n",
    "\n",
    "* Problemas que requieran **decisiones justificadas**:\n",
    "\n",
    "  * “¿Qué pasa con el volumen del cilindro si cambian las dimensiones en distintos porcentajes?”\n",
    "  * “¿Es posible encontrar ejemplos donde el producto de dos irracionales sea racional?”\n",
    "* Proyecto final: diseñar un **manual de justificaciones matemáticas** colectivas para los errores frecuentes detectados.\n"
   ]
  },
  {
   "cell_type": "markdown",
   "id": "a8bb3026",
   "metadata": {},
   "source": [
    "\n",
    "### 4. **TRRS de Duval**\n",
    "\n",
    "* **Registro simbólico**: Expresiones algebraicas y operaciones formales.\n",
    "* **Registro gráfico**: Representar funciones de potencias y radicales en coordenadas.\n",
    "* **Registro tabular**: Comparar valores numéricos de simplificaciones con calculadora/Python.\n",
    "* **Registro verbal**: Explicar con palabras cada justificación (“porque la propiedad distributiva…”, “porque el exponente fraccionario significa raíz…”).\n",
    "\n",
    "---\n"
   ]
  },
  {
   "cell_type": "markdown",
   "id": "153ec485",
   "metadata": {},
   "source": [
    "\n",
    "* **Síntesis:**\n",
    "El principal reto será **pasar de la intuición a la justificación formal con propiedades**, lo cual exige articular distintos registros semióticos (Duval) y vincular lo abstracto con lo aplicado (STEAMS). El enfoque de aula invertida y ABPP facilita que los estudiantes lleguen con bases previas y en clase resuelvan colectivamente dudas, errores y aplicaciones reales.\n",
    "\n",
    "---\n",
    "\n",
    "¿Quieres que te diseñe una **tabla organizada** con tres columnas (*Dificultades*, *Recomendaciones Matemáticas*, *Recomendaciones Didácticas según Aula Invertida, STEAMS, ABPP y TRRS*) para que la uses directamente en tu planeación?\n"
   ]
  },
  {
   "cell_type": "markdown",
   "id": "b5cf7378",
   "metadata": {},
   "source": [
    "\n",
    "La siguiente presenta la información en una **tabla con tres columnas** que cruza las **dificultades** con **recomendaciones matemáticas** y **didácticas** desde Aula Invertida, STEAMS, ABPP y TRRS:\n",
    "\n",
    "---\n"
   ]
  },
  {
   "cell_type": "markdown",
   "id": "77e23331",
   "metadata": {},
   "source": [
    "\n",
    "| **Dificultades**                                                                 | **Recomendaciones Matemáticas**                                                                                                     | **Recomendaciones Didácticas**                                                                                                                           |\n",
    "| -------------------------------------------------------------------------------- | ----------------------------------------------------------------------------------------------------------------------------------- | -------------------------------------------------------------------------------------------------------------------------------------------------------- |\n",
    "| Confusión con los conjuntos numéricos (ej. racionales vs. irracionales).         | Recordar definiciones formales de cada conjunto según Swokowski. Construir contraejemplos (ej. √2 × √2 = 2 ∈ ℚ).                    | **Aula Invertida**: videos breves comparando conjuntos. **TRRS**: representar con diagramas de Venn y ejemplos numéricos.                                |\n",
    "| No justificar formalmente (solo intuición).                                      | Usar propiedades explícitas: conmutativa, asociativa, distributiva, etc. Justificar cada paso con definiciones.                     | **ABPP**: pedir a estudiantes redactar un manual colaborativo de justificaciones. **STEAMS**: relacionar con leyes físicas (ej. magnitudes positivas).   |\n",
    "| Creer que √(-a) es real o que el producto de irracionales siempre es irracional. | Introducir noción de extensión de los reales a los complejos. Dar ejemplos de irracionales cuyo producto es racional (√2 × √2 = 2). | **Aula Invertida**: lectura previa sobre propiedades de raíces. **TRRS**: mostrar en la recta real qué no existe y en el plano complejo qué sí existe.   |\n",
    "| Errores en reglas de exponentes (sumar en lugar de multiplicar).                 | Reforzar propiedad: $x^a \\cdot x^b = x^{a+b}$. Resolver paso a paso simplificaciones.                                               | **STEAMS**: usar Python/NumPy para comprobar simplificaciones. **TRRS**: tablas con entradas/salidas de $x^a$.                                           |\n",
    "| Confusión entre radicales y exponentes fraccionarios.                            | Explicar equivalencia: $\\sqrt[n]{x^m} = x^{m/n}$. Hacer ejercicios de ida y vuelta.                                                 | **TRRS**: representaciones múltiples (simbólica, gráfica con funciones, tabular con calculadora).                                                        |\n",
    "| Cancelar factores sin considerar restricciones (ej. dividir entre 0).            | Incluir explícitamente las condiciones de dominio en toda simplificación.                                                           | **ABPP**: plantear problemas donde ignorar restricciones lleva a errores graves.                                                                         |\n",
    "| Dificultad en factorización para simplificar fracciones.                         | Repasar métodos de factorización: trinomio cuadrado perfecto, diferencia de cuadrados.                                              | **Aula Invertida**: práctica previa en cuaderno interactivo con factorización. **TRRS**: usar color o bloques geométricos para visualizar factorización. |\n",
    "| Uso incorrecto de porcentajes en el problema del cilindro.                       | Reforzar: “aumento del 10% = multiplicar por 1.1”, “disminución del 5% = multiplicar por 0.95”.                                     | **STEAMS**: conectar con aplicaciones reales (capacidad de tanques). **ABPP**: diseñar proyectos donde varíen dimensiones y comparen volúmenes.          |\n",
    "| Errores con decimales y operaciones con π.                                       | Reforzar el uso de aproximaciones y mantener precisión simbólica hasta el final.                                                    | **Aula Invertida**: práctica previa con calculadoras/Python. **TRRS**: tabla con valores exactos y aproximados para comparar.                            |\n",
    "| Dificultad para expresar variación como porcentaje.                              | Enseñar la fórmula: $\\%\\ \\text{cambio} = \\frac{V_{nuevo}-V_{original}}{V_{original}} \\times 100\\%$.                                 | **ABPP**: pedir a grupos calcular impacto en almacenamiento de agua para una comunidad. **TRRS**: usar representaciones gráficas para comparar cambios.  |\n",
    "\n",
    "---\n"
   ]
  },
  {
   "cell_type": "markdown",
   "id": "2b1ec54a",
   "metadata": {},
   "source": [
    "\n",
    "¿Quieres que te prepare esta tabla en **formato Word (.docx)** para que la uses directamente en tu planeación y retroalimentación del quiz?\n"
   ]
  }
 ],
 "metadata": {
  "kernelspec": {
   "display_name": ".venv",
   "language": "python",
   "name": "python3"
  },
  "language_info": {
   "codemirror_mode": {
    "name": "ipython",
    "version": 3
   },
   "file_extension": ".py",
   "mimetype": "text/x-python",
   "name": "python",
   "nbconvert_exporter": "python",
   "pygments_lexer": "ipython3",
   "version": "3.11.9"
  }
 },
 "nbformat": 4,
 "nbformat_minor": 5
}
