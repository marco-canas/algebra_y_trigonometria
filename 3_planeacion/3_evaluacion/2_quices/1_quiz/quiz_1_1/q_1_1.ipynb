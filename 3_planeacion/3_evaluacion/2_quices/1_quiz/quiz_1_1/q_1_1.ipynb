{
 "cells": [
  {
   "cell_type": "markdown",
   "id": "b543a4ce",
   "metadata": {},
   "source": []
  },
  {
   "cell_type": "code",
   "execution_count": null,
   "id": "b083718c",
   "metadata": {},
   "outputs": [],
   "source": []
  },
  {
   "cell_type": "markdown",
   "id": "b4d70e33",
   "metadata": {},
   "source": [
    "# Quiz 1 Tema 1 \n",
    "\n"
   ]
  },
  {
   "cell_type": "markdown",
   "id": "0af4b1c3",
   "metadata": {},
   "source": [
    "# Ítem 1  \n"
   ]
  },
  {
   "cell_type": "markdown",
   "id": "bb03e32f",
   "metadata": {},
   "source": []
  },
  {
   "cell_type": "markdown",
   "id": "d4f79fbb",
   "metadata": {},
   "source": []
  },
  {
   "cell_type": "markdown",
   "id": "c1d9aebd",
   "metadata": {},
   "source": []
  },
  {
   "cell_type": "markdown",
   "id": "c18ab1cd",
   "metadata": {},
   "source": []
  },
  {
   "cell_type": "markdown",
   "id": "b5dbd1e1",
   "metadata": {},
   "source": []
  },
  {
   "cell_type": "markdown",
   "id": "50498e89",
   "metadata": {},
   "source": []
  },
  {
   "cell_type": "markdown",
   "id": "7e3c8949",
   "metadata": {},
   "source": []
  },
  {
   "cell_type": "markdown",
   "id": "443d4dda",
   "metadata": {},
   "source": []
  },
  {
   "cell_type": "markdown",
   "id": "8fa1def4",
   "metadata": {},
   "source": []
  },
  {
   "cell_type": "markdown",
   "id": "5de9c291",
   "metadata": {},
   "source": []
  },
  {
   "cell_type": "markdown",
   "id": "c778094f",
   "metadata": {},
   "source": []
  },
  {
   "cell_type": "markdown",
   "id": "a0364258",
   "metadata": {},
   "source": [
    "# Ítem 2   \n",
    "\n",
    "Ejercitación sobre exponentes y radicales  \n",
    "\n",
    "a) Simplifique la siguiente expresión:  \n",
    "\n",
    "$$(2x^{3/2}\\ x^{5/2})/x^2  $$"
   ]
  },
  {
   "cell_type": "code",
   "execution_count": 2,
   "id": "9e741f66",
   "metadata": {},
   "outputs": [
    {
     "data": {
      "text/latex": [
       "$\\displaystyle 2 x^{2.0}$"
      ],
      "text/plain": [
       "2*x**2.0"
      ]
     },
     "execution_count": 2,
     "metadata": {},
     "output_type": "execute_result"
    }
   ],
   "source": [
    "from sympy import * \n",
    "x = var('x') \n",
    "expr = (2*x**(3/2)*x**(5/2))/x**2\n",
    "simplify(expr)"
   ]
  },
  {
   "cell_type": "markdown",
   "id": "a993e668",
   "metadata": {},
   "source": [
    "b) Simplifique la siguiente expresión:  \n",
    "\n",
    "$$ \\left( \\sqrt[3]{a^{2}b^{4}} \\right)^{3} $$"
   ]
  },
  {
   "cell_type": "code",
   "execution_count": 3,
   "id": "627abbf0",
   "metadata": {},
   "outputs": [
    {
     "data": {
      "text/latex": [
       "$\\displaystyle \\left(a^{2} b^{4}\\right)^{1.0}$"
      ],
      "text/plain": [
       "(a**2*b**4)**1.0"
      ]
     },
     "execution_count": 3,
     "metadata": {},
     "output_type": "execute_result"
    }
   ],
   "source": [
    "a,b = symbols('a b')\n",
    "exp2r = ((a**2 * b**4)**(1/3))**3\n",
    "simplify(exp2r)"
   ]
  },
  {
   "cell_type": "markdown",
   "id": "e854002c",
   "metadata": {},
   "source": [
    "c) Exprese sin radicales y simplifique: (raiz cuarta de $x^{5}$)/(raiz cuarta de $x$): \n",
    "\n",
    "$$ \\frac{\\sqrt[4]{x^{5}}}{\\sqrt[4]{x}} $$"
   ]
  },
  {
   "cell_type": "code",
   "execution_count": 10,
   "id": "63936c84",
   "metadata": {},
   "outputs": [
    {
     "data": {
      "text/latex": [
       "$\\displaystyle x^{1.0}$"
      ],
      "text/plain": [
       "x**1.0"
      ]
     },
     "execution_count": 10,
     "metadata": {},
     "output_type": "execute_result"
    }
   ],
   "source": [
    "x = symbols('x', positive=True)  # Asumimos x positivo para evitar problemas con raíces pares\n",
    "expr_c = (x**(5/4)) / (x**(1/4))\n",
    "simplify(expr_c)"
   ]
  },
  {
   "cell_type": "markdown",
   "id": "014c2741",
   "metadata": {},
   "source": [
    "d) Realice la operación y simplifique:  $1/x + x/(x^{2} -1)$"
   ]
  },
  {
   "cell_type": "code",
   "execution_count": 11,
   "id": "9b50fc4c",
   "metadata": {},
   "outputs": [
    {
     "data": {
      "text/latex": [
       "$\\displaystyle \\frac{2 x^{2} - 1}{x^{3} - x}$"
      ],
      "text/plain": [
       "(2*x**2 - 1)/(x**3 - x)"
      ]
     },
     "execution_count": 11,
     "metadata": {},
     "output_type": "execute_result"
    }
   ],
   "source": [
    "expr_d = 1/x + x/(x**2 - 1)\n",
    "simplify(expr_d)"
   ]
  },
  {
   "cell_type": "markdown",
   "id": "66d83dbc",
   "metadata": {},
   "source": [
    "# Ítem 3 "
   ]
  },
  {
   "cell_type": "markdown",
   "id": "45ec1ddb",
   "metadata": {},
   "source": [
    "a) Simplifique la siguiente expresión:\n",
    "$$ (3x - 2y) - (x - 5y) $$"
   ]
  },
  {
   "cell_type": "code",
   "execution_count": 4,
   "id": "1c407383",
   "metadata": {},
   "outputs": [
    {
     "data": {
      "text/latex": [
       "$\\displaystyle 2 x + 3 y$"
      ],
      "text/plain": [
       "2*x + 3*y"
      ]
     },
     "execution_count": 4,
     "metadata": {},
     "output_type": "execute_result"
    }
   ],
   "source": [
    "x,y = symbols('x y')\n",
    "exp3r = (3*x - 2*y) - (x - 5*y)\n",
    "simplify(exp3r)"
   ]
  },
  {
   "cell_type": "markdown",
   "id": "e7613d51",
   "metadata": {},
   "source": [
    "b) Simplifique la siguiente expresión:\n",
    "$$ (x^{2} - 9)/(x^{2} - 3x) $$"
   ]
  },
  {
   "cell_type": "code",
   "execution_count": 5,
   "id": "7e790eba",
   "metadata": {},
   "outputs": [
    {
     "data": {
      "text/latex": [
       "$\\displaystyle \\frac{x + 3}{x}$"
      ],
      "text/plain": [
       "(x + 3)/x"
      ]
     },
     "execution_count": 5,
     "metadata": {},
     "output_type": "execute_result"
    }
   ],
   "source": [
    "expr_b = (x**2 - 9)/(x**2 - 3*x)\n",
    "simplify(expr_b)"
   ]
  },
  {
   "cell_type": "markdown",
   "id": "4584052f",
   "metadata": {},
   "source": [
    "Dificultades encontradas en este punto:\n",
    "\n",
    "$$ \\frac{a - b}{a-c} \\neq \\frac{-b}{-c},  $$\n",
    "\n",
    "es decir, no se pueden cancelar términos repetidos en el numerador y denominador si no son factores comunes.    \n",
    "\n"
   ]
  },
  {
   "cell_type": "markdown",
   "id": "103afa89",
   "metadata": {},
   "source": [
    "c) Simplifique la siguiente expresión:  \n",
    "\n",
    "$$ \\frac{x^{2} - 4x + 4}{x^{2} - 2x} $$  \n",
    "\n"
   ]
  },
  {
   "cell_type": "code",
   "execution_count": 6,
   "id": "ea4a2b94",
   "metadata": {},
   "outputs": [
    {
     "data": {
      "text/latex": [
       "$\\displaystyle \\frac{x - 2}{x}$"
      ],
      "text/plain": [
       "(x - 2)/x"
      ]
     },
     "execution_count": 6,
     "metadata": {},
     "output_type": "execute_result"
    }
   ],
   "source": [
    "expr_c = (x**2 - 4*x + 4)/(x**2 - 2*x)\n",
    "simplify(expr_c)\n",
    "\n"
   ]
  },
  {
   "cell_type": "markdown",
   "id": "b80e2538",
   "metadata": {},
   "source": [
    "# Ítem 4  \n",
    "\n",
    "Un depósito cilíndrico de agua tiene un radio $r = 1.5 = 3/2$ metros y una altura $h = 4.0$ metros.   \n",
    "\n",
    "1. ¿Cuál es el volumen del depósito? (Use $\\pi = 3.14$).\n",
    "2. Suponga que el radio aumenta en un $10\\%$ y la altura disminuye en un $5\\%$. Calcule el nuevo volumen del depósito.\n",
    "3. ¿Cuál es el cambio porcentual en el volumen del depósito?  \n",
    "\n"
   ]
  },
  {
   "cell_type": "markdown",
   "id": "741aa832",
   "metadata": {},
   "source": [
    "Te diseño la **guía didáctica** siguiendo la estructura que sueles usar: planteamiento del problema, objetivos, desarrollo paso a paso con **funciones en Python**, y visualizaciones con **matplotlib y plotly**.\n",
    "\n",
    "---\n",
    "\n",
    "# Guía didáctica: Volumen de un depósito cilíndrico y variaciones\n",
    "\n",
    "## 1. Contexto y problema\n",
    "\n",
    "Un depósito de agua tiene forma cilíndrica con radio $r = 1.5 = \\tfrac{3}{2}$ metros y altura $h = 4.0$ metros.\n",
    "\n",
    "Se plantea responder:\n",
    "\n",
    "1. ¿Cuál es el volumen del depósito usando $\\pi = 3.14$?\n",
    "2. Si el radio aumenta un $10\\%$ y la altura disminuye un $5\\%$, ¿cuál es el nuevo volumen?\n",
    "3. ¿Cuál es el cambio porcentual entre el volumen inicial y el nuevo volumen?\n",
    "\n",
    "---\n"
   ]
  },
  {
   "cell_type": "markdown",
   "id": "c57e29f0",
   "metadata": {},
   "source": [
    "\n",
    "## 2. Objetivos de aprendizaje\n",
    "\n",
    "* Aplicar la fórmula del volumen de un cilindro:\n",
    "\n",
    "  $$\n",
    "  V = \\pi r^2 h\n",
    "  $$\n",
    "* Implementar funciones en Python para resolver problemas geométricos.\n",
    "* Visualizar la diferencia de volúmenes mediante gráficos 2D (matplotlib) y 3D interactivos (plotly).\n",
    "* Relacionar cambios porcentuales en dimensiones con efectos en el volumen.\n",
    "\n",
    "---\n"
   ]
  },
  {
   "cell_type": "markdown",
   "id": "2d8a082a",
   "metadata": {},
   "source": [
    "\n",
    "## 3. Desarrollo paso a paso en Python\n",
    "\n",
    "\n"
   ]
  },
  {
   "cell_type": "code",
   "execution_count": 13,
   "id": "d8536bcd",
   "metadata": {},
   "outputs": [],
   "source": [
    "# --- Paso 1: Definición de funciones ---\n",
    "def volumen_cilindro(r: float, h: float, pi: float = 3.14) -> float:\n",
    "    \"\"\"Calcula el volumen de un cilindro dado su radio y altura.\"\"\"\n",
    "    return pi * (r**2) * h\n"
   ]
  },
  {
   "cell_type": "code",
   "execution_count": 14,
   "id": "ca94f412",
   "metadata": {},
   "outputs": [],
   "source": [
    "\n",
    "def cambio_porcentual(v_inicial: float, v_final: float) -> float:\n",
    "    \"\"\"Calcula el cambio porcentual entre dos volúmenes.\"\"\"\n",
    "    return ((v_final - v_inicial) / v_inicial) * 100\n"
   ]
  },
  {
   "cell_type": "code",
   "execution_count": 15,
   "id": "86a0059f",
   "metadata": {},
   "outputs": [
    {
     "name": "stdout",
     "output_type": "stream",
     "text": [
      "Volumen inicial: 28.26 m³\n",
      "Volumen modificado: 32.48 m³\n",
      "Cambio porcentual: 14.95 %\n"
     ]
    }
   ],
   "source": [
    "\n",
    "# --- Paso 2: Datos iniciales ---\n",
    "r_inicial = 1.5\n",
    "h_inicial = 4.0\n",
    "\n",
    "# Volumen inicial\n",
    "V_inicial = volumen_cilindro(r_inicial, h_inicial)\n",
    "\n",
    "# --- Paso 3: Modificaciones ---\n",
    "r_mod = r_inicial * 1.10   # aumenta 10%\n",
    "h_mod = h_inicial * 0.95   # disminuye 5%\n",
    "\n",
    "# Volumen modificado\n",
    "V_mod = volumen_cilindro(r_mod, h_mod)\n",
    "\n",
    "# Cambio porcentual\n",
    "cambio_V = cambio_porcentual(V_inicial, V_mod)\n",
    "\n",
    "# --- Paso 4: Resultados ---\n",
    "print(f\"Volumen inicial: {V_inicial:.2f} m³\")\n",
    "print(f\"Volumen modificado: {V_mod:.2f} m³\")\n",
    "print(f\"Cambio porcentual: {cambio_V:.2f} %\")\n"
   ]
  },
  {
   "cell_type": "markdown",
   "id": "2e1c8f6d",
   "metadata": {},
   "source": [
    "```\n",
    "\n",
    "---\n",
    "\n",
    "## 4. Representación gráfica con matplotlib\n",
    "\n",
    "```python\n"
   ]
  },
  {
   "cell_type": "code",
   "execution_count": 16,
   "id": "1ca756ed",
   "metadata": {},
   "outputs": [
    {
     "data": {
      "image/png": "[encoded data removed]",
      "text/plain": [
       "<Figure size 640x480 with 1 Axes>"
      ]
     },
     "metadata": {},
     "output_type": "display_data"
    }
   ],
   "source": [
    "import matplotlib.pyplot as plt\n",
    "\n",
    "# Gráfico de barras comparando volúmenes\n",
    "vols = [V_inicial, V_mod]\n",
    "labels = ['Volumen inicial', 'Volumen modificado']\n",
    "\n",
    "plt.bar(labels, vols, color=['skyblue', 'salmon'])\n",
    "plt.ylabel(\"Volumen (m³)\")\n",
    "plt.title(\"Comparación de volúmenes del depósito cilíndrico\")\n",
    "plt.show()\n"
   ]
  },
  {
   "cell_type": "markdown",
   "id": "2b2c6215",
   "metadata": {},
   "source": [
    "\n",
    "\n",
    "\n",
    "\n",
    "## 5. Visualización interactiva con plotly\n",
    "\n"
   ]
  },
  {
   "cell_type": "code",
   "execution_count": 17,
   "id": "8b3c4c78",
   "metadata": {},
   "outputs": [
    {
     "data": {
      "application/vnd.plotly.v1+json": {
       "config": {
        "plotlyServerURL": "https://plot.ly"
       },
       "data": [
        {
         "colorscale": [
          [
           0,
           "blue"
          ],
          [
           1,
           "blue"
          ]
         ],
         "opacity": 0.7,
         "showscale": false,
         "type": "surface",
         "x": {
          "bdata": "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",
          "dtype": "f8",
          "shape": "50, 50"
         },
         "y": {
          "bdata": "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",
          "dtype": "f8",
          "shape": "50, 50"
         },
         "z": {
          "bdata": "AAAAAAAAAAAAAAAAAAAAAAAAAAAAAAAAAAAAAAAAAAAAAAAAAAAAAAAAAAAAAAAAAAAAAAAAAAAAAAAAAAAAAAAAAAAAAAAAAAAAAAAAAAAAAAAAAAAAAAAAAAAAAAAAAAAAAAAAAAAAAAAAAAAAAAAAAAAAAAAAAAAAAAAAAAAAAAAAAAAAAAAAAAAAAAAAAAAAAAAAAAAAAAAAAAAAAAAAAAAAAAAAAAAAAAAAAAAAAAAAAAAAAAAAAAAAAAAAAAAAAAAAAAAAAAAAAAAAAAAAAAAAAAAAAAAAAAAAAAAAAAAAAAAAAAAAAAAAAAAAAAAAAAAAAAAAAAAAAAAAAAAAAAAAAAAAAAAAAAAAAAAAAAAAAAAAAAAAAAAAAAAAAAAAAAAAAAAAAAAAAAAAAAAAAAAAAAAAAAAAAAAAAAAAAAAAAAAAAAAAAAAAAAAAAAAAAAAAAAAAAAAAAAAAAAAAAAAAAAAAAAAAAAAAAAAAAAAAAAAAAAAAAAAAAAAAAAAAAAAAAAAAAAAAAAAAADkFL6fg5bQ/OQUvp+DltD85BS+n4OW0PzkFL6fg5bQ/OQUvp+DltD85BS+n4OW0PzkFL6fg5bQ/OQUvp+DltD85BS+n4OW0PzkFL6fg5bQ/OQUvp+DltD85BS+n4OW0PzkFL6fg5bQ/OQUvp+DltD85BS+n4OW0PzkFL6fg5bQ/OQUvp+DltD85BS+n4OW0PzkFL6fg5bQ/OQUvp+DltD85BS+n4OW0PzkFL6fg5bQ/OQUvp+DltD85BS+n4OW0PzkFL6fg5bQ/OQUvp+DltD85BS+n4OW0PzkFL6fg5bQ/OQUvp+DltD85BS+n4OW0PzkFL6fg5bQ/OQUvp+DltD85BS+n4OW0PzkFL6fg5bQ/OQUvp+DltD85BS+n4OW0PzkFL6fg5bQ/OQUvp+DltD85BS+n4OW0PzkFL6fg5bQ/OQUvp+DltD85BS+n4OW0PzkFL6fg5bQ/OQUvp+DltD85BS+n4OW0PzkFL6fg5bQ/OQUvp+DltD85BS+n4OW0PzkFL6fg5bQ/OQUvp+DltD85BS+n4OXEPzkFL6fg5cQ/OQUvp+DlxD85BS+n4OXEPzkFL6fg5cQ/OQUvp+DlxD85BS+n4OXEPzkFL6fg5cQ/OQUvp+DlxD85BS+n4OXEPzkFL6fg5cQ/OQUvp+DlxD85BS+n4OXEPzkFL6fg5cQ/OQUvp+DlxD85BS+n4OXEPzkFL6fg5cQ/OQUvp+DlxD85BS+n4OXEPzkFL6fg5cQ/OQUvp+DlxD85BS+n4OXEPzkFL6fg5cQ/OQUvp+DlxD85BS+n4OXEPzkFL6fg5cQ/OQUvp+DlxD85BS+n4OXEPzkFL6fg5cQ/OQUvp+DlxD85BS+n4OXEPzkFL6fg5cQ/OQUvp+DlxD85BS+n4OXEPzkFL6fg5cQ/OQUvp+DlxD85BS+n4OXEPzkFL6fg5cQ/OQUvp+DlxD85BS+n4OXEPzkFL6fg5cQ/OQUvp+DlxD85BS+n4OXEPzkFL6fg5cQ/OQUvp+DlxD85BS+n4OXEPzkFL6fg5cQ/OQUvp+DlxD85BS+n4OXEPzkFL6fg5cQ/1ofG+tBYzz/Wh8b60FjPP9aHxvrQWM8/1ofG+tBYzz/Wh8b60FjPP9aHxvrQWM8/1ofG+tBYzz/Wh8b60FjPP9aHxvrQWM8/1ofG+tBYzz/Wh8b60FjPP9aHxvrQWM8/1ofG+tBYzz/Wh8b60FjPP9aHxvrQWM8/1ofG+tBYzz/Wh8b60FjPP9aHxvrQWM8/1ofG+tBYzz/Wh8b60FjPP9aHxvrQWM8/1ofG+tBYzz/Wh8b60FjPP9aHxvrQWM8/1ofG+tBYzz/Wh8b60FjPP9aHxvrQWM8/1ofG+tBYzz/Wh8b60FjPP9aHxvrQWM8/1ofG+tBYzz/Wh8b60FjPP9aHxvrQWM8/1ofG+tBYzz/Wh8b60FjPP9aHxvrQWM8/1ofG+tBYzz/Wh8b60FjPP9aHxvrQWM8/1ofG+tBYzz/Wh8b60FjPP9aHxvrQWM8/1ofG+tBYzz/Wh8b60FjPP9aHxvrQWM8/1ofG+tBYzz/Wh8b60FjPP9aHxvrQWM8/1ofG+tBYzz/Wh8b60FjPPzkFL6fg5dQ/OQUvp+Dl1D85BS+n4OXUPzkFL6fg5dQ/OQUvp+Dl1D85BS+n4OXUPzkFL6fg5dQ/OQUvp+Dl1D85BS+n4OXUPzkFL6fg5dQ/OQUvp+Dl1D85BS+n4OXUPzkFL6fg5dQ/OQUvp+Dl1D85BS+n4OXUPzkFL6fg5dQ/OQUvp+Dl1D85BS+n4OXUPzkFL6fg5dQ/OQUvp+Dl1D85BS+n4OXUPzkFL6fg5dQ/OQUvp+Dl1D85BS+n4OXUPzkFL6fg5dQ/OQUvp+Dl1D85BS+n4OXUPzkFL6fg5dQ/OQUvp+Dl1D85BS+n4OXUPzkFL6fg5dQ/OQUvp+Dl1D85BS+n4OXUPzkFL6fg5dQ/OQUvp+Dl1D85BS+n4OXUPzkFL6fg5dQ/OQUvp+Dl1D85BS+n4OXUPzkFL6fg5dQ/OQUvp+Dl1D85BS+n4OXUPzkFL6fg5dQ/OQUvp+Dl1D85BS+n4OXUPzkFL6fg5dQ/OQUvp+Dl1D85BS+n4OXUPzkFL6fg5dQ/OQUvp+Dl1D+HxvrQWB/aP4fG+tBYH9o/h8b60Fgf2j+HxvrQWB/aP4fG+tBYH9o/h8b60Fgf2j+HxvrQWB/aP4fG+tBYH9o/h8b60Fgf2j+HxvrQWB/aP4fG+tBYH9o/h8b60Fgf2j+HxvrQWB/aP4fG+tBYH9o/h8b60Fgf2j+HxvrQWB/aP4fG+tBYH9o/h8b60Fgf2j+HxvrQWB/aP4fG+tBYH9o/h8b60Fgf2j+HxvrQWB/aP4fG+tBYH9o/h8b60Fgf2j+HxvrQWB/aP4fG+tBYH9o/h8b60Fgf2j+HxvrQWB/aP4fG+tBYH9o/h8b60Fgf2j+HxvrQWB/aP4fG+tBYH9o/h8b60Fgf2j+HxvrQWB/aP4fG+tBYH9o/h8b60Fgf2j+HxvrQWB/aP4fG+tBYH9o/h8b60Fgf2j+HxvrQWB/aP4fG+tBYH9o/h8b60Fgf2j+HxvrQWB/aP4fG+tBYH9o/h8b60Fgf2j+HxvrQWB/aP4fG+tBYH9o/h8b60Fgf2j+HxvrQWB/aP4fG+tBYH9o/1ofG+tBY3z/Wh8b60FjfP9aHxvrQWN8/1ofG+tBY3z/Wh8b60FjfP9aHxvrQWN8/1ofG+tBY3z/Wh8b60FjfP9aHxvrQWN8/1ofG+tBY3z/Wh8b60FjfP9aHxvrQWN8/1ofG+tBY3z/Wh8b60FjfP9aHxvrQWN8/1ofG+tBY3z/Wh8b60FjfP9aHxvrQWN8/1ofG+tBY3z/Wh8b60FjfP9aHxvrQWN8/1ofG+tBY3z/Wh8b60FjfP9aHxvrQWN8/1ofG+tBY3z/Wh8b60FjfP9aHxvrQWN8/1ofG+tBY3z/Wh8b60FjfP9aHxvrQWN8/1ofG+tBY3z/Wh8b60FjfP9aHxvrQWN8/1ofG+tBY3z/Wh8b60FjfP9aHxvrQWN8/1ofG+tBY3z/Wh8b60FjfP9aHxvrQWN8/1ofG+tBY3z/Wh8b60FjfP9aHxvrQWN8/1ofG+tBY3z/Wh8b60FjfP9aHxvrQWN8/1ofG+tBY3z/Wh8b60FjfP9aHxvrQWN8/1ofG+tBY3z/Wh8b60FjfP5IkSZIkSeI/kiRJkiRJ4j+SJEmSJEniP5IkSZIkSeI/kiRJkiRJ4j+SJEmSJEniP5IkSZIkSeI/kiRJkiRJ4j+SJEmSJEniP5IkSZIkSeI/kiRJkiRJ4j+SJEmSJEniP5IkSZIkSeI/kiRJkiRJ4j+SJEmSJEniP5IkSZIkSeI/kiRJkiRJ4j+SJEmSJEniP5IkSZIkSeI/kiRJkiRJ4j+SJEmSJEniP5IkSZIkSeI/kiRJkiRJ4j+SJEmSJEniP5IkSZIkSeI/kiRJkiRJ4j+SJEmSJEniP5IkSZIkSeI/kiRJkiRJ4j+SJEmSJEniP5IkSZIkSeI/kiRJkiRJ4j+SJEmSJEniP5IkSZIkSeI/kiRJkiRJ4j+SJEmSJEniP5IkSZIkSeI/kiRJkiRJ4j+SJEmSJEniP5IkSZIkSeI/kiRJkiRJ4j+SJEmSJEniP5IkSZIkSeI/kiRJkiRJ4j+SJEmSJEniP5IkSZIkSeI/kiRJkiRJ4j+SJEmSJEniP5IkSZIkSeI/kiRJkiRJ4j85BS+n4OXkPzkFL6fg5eQ/OQUvp+Dl5D85BS+n4OXkPzkFL6fg5eQ/OQUvp+Dl5D85BS+n4OXkPzkFL6fg5eQ/OQUvp+Dl5D85BS+n4OXkPzkFL6fg5eQ/OQUvp+Dl5D85BS+n4OXkPzkFL6fg5eQ/OQUvp+Dl5D85BS+n4OXkPzkFL6fg5eQ/OQUvp+Dl5D85BS+n4OXkPzkFL6fg5eQ/OQUvp+Dl5D85BS+n4OXkPzkFL6fg5eQ/OQUvp+Dl5D85BS+n4OXkPzkFL6fg5eQ/OQUvp+Dl5D85BS+n4OXkPzkFL6fg5eQ/OQUvp+Dl5D85BS+n4OXkPzkFL6fg5eQ/OQUvp+Dl5D85BS+n4OXkPzkFL6fg5eQ/OQUvp+Dl5D85BS+n4OXkPzkFL6fg5eQ/OQUvp+Dl5D85BS+n4OXkPzkFL6fg5eQ/OQUvp+Dl5D85BS+n4OXkPzkFL6fg5eQ/OQUvp+Dl5D85BS+n4OXkPzkFL6fg5eQ/OQUvp+Dl5D85BS+n4OXkPzkFL6fg5eQ/4OUUvJyC5z/g5RS8nILnP+DlFLycguc/4OUUvJyC5z/g5RS8nILnP+DlFLycguc/4OUUvJyC5z/g5RS8nILnP+DlFLycguc/4OUUvJyC5z/g5RS8nILnP+DlFLycguc/4OUUvJyC5z/g5RS8nILnP+DlFLycguc/4OUUvJyC5z/g5RS8nILnP+DlFLycguc/4OUUvJyC5z/g5RS8nILnP+DlFLycguc/4OUUvJyC5z/g5RS8nILnP+DlFLycguc/4OUUvJyC5z/g5RS8nILnP+DlFLycguc/4OUUvJyC5z/g5RS8nILnP+DlFLycguc/4OUUvJyC5z/g5RS8nILnP+DlFLycguc/4OUUvJyC5z/g5RS8nILnP+DlFLycguc/4OUUvJyC5z/g5RS8nILnP+DlFLycguc/4OUUvJyC5z/g5RS8nILnP+DlFLycguc/4OUUvJyC5z/g5RS8nILnP+DlFLycguc/4OUUvJyC5z/g5RS8nILnP+DlFLycguc/4OUUvJyC5z/g5RS8nILnP4fG+tBYH+o/h8b60Fgf6j+HxvrQWB/qP4fG+tBYH+o/h8b60Fgf6j+HxvrQWB/qP4fG+tBYH+o/h8b60Fgf6j+HxvrQWB/qP4fG+tBYH+o/h8b60Fgf6j+HxvrQWB/qP4fG+tBYH+o/h8b60Fgf6j+HxvrQWB/qP4fG+tBYH+o/h8b60Fgf6j+HxvrQWB/qP4fG+tBYH+o/h8b60Fgf6j+HxvrQWB/qP4fG+tBYH+o/h8b60Fgf6j+HxvrQWB/qP4fG+tBYH+o/h8b60Fgf6j+HxvrQWB/qP4fG+tBYH+o/h8b60Fgf6j+HxvrQWB/qP4fG+tBYH+o/h8b60Fgf6j+HxvrQWB/qP4fG+tBYH+o/h8b60Fgf6j+HxvrQWB/qP4fG+tBYH+o/h8b60Fgf6j+HxvrQWB/qP4fG+tBYH+o/h8b60Fgf6j+HxvrQWB/qP4fG+tBYH+o/h8b60Fgf6j+HxvrQWB/qP4fG+tBYH+o/h8b60Fgf6j+HxvrQWB/qP4fG+tBYH+o/h8b60Fgf6j8up+DlFLzsPy6n4OUUvOw/Lqfg5RS87D8up+DlFLzsPy6n4OUUvOw/Lqfg5RS87D8up+DlFLzsPy6n4OUUvOw/Lqfg5RS87D8up+DlFLzsPy6n4OUUvOw/Lqfg5RS87D8up+DlFLzsPy6n4OUUvOw/Lqfg5RS87D8up+DlFLzsPy6n4OUUvOw/Lqfg5RS87D8up+DlFLzsPy6n4OUUvOw/Lqfg5RS87D8up+DlFLzsPy6n4OUUvOw/Lqfg5RS87D8up+DlFLzsPy6n4OUUvOw/Lqfg5RS87D8up+DlFLzsPy6n4OUUvOw/Lqfg5RS87D8up+DlFLzsPy6n4OUUvOw/Lqfg5RS87D8up+DlFLzsPy6n4OUUvOw/Lqfg5RS87D8up+DlFLzsPy6n4OUUvOw/Lqfg5RS87D8up+DlFLzsPy6n4OUUvOw/Lqfg5RS87D8up+DlFLzsPy6n4OUUvOw/Lqfg5RS87D8up+DlFLzsPy6n4OUUvOw/Lqfg5RS87D8up+DlFLzsPy6n4OUUvOw/1ofG+tBY7z/Wh8b60FjvP9aHxvrQWO8/1ofG+tBY7z/Wh8b60FjvP9aHxvrQWO8/1ofG+tBY7z/Wh8b60FjvP9aHxvrQWO8/1ofG+tBY7z/Wh8b60FjvP9aHxvrQWO8/1ofG+tBY7z/Wh8b60FjvP9aHxvrQWO8/1ofG+tBY7z/Wh8b60FjvP9aHxvrQWO8/1ofG+tBY7z/Wh8b60FjvP9aHxvrQWO8/1ofG+tBY7z/Wh8b60FjvP9aHxvrQWO8/1ofG+tBY7z/Wh8b60FjvP9aHxvrQWO8/1ofG+tBY7z/Wh8b60FjvP9aHxvrQWO8/1ofG+tBY7z/Wh8b60FjvP9aHxvrQWO8/1ofG+tBY7z/Wh8b60FjvP9aHxvrQWO8/1ofG+tBY7z/Wh8b60FjvP9aHxvrQWO8/1ofG+tBY7z/Wh8b60FjvP9aHxvrQWO8/1ofG+tBY7z/Wh8b60FjvP9aHxvrQWO8/1ofG+tBY7z/Wh8b60FjvP9aHxvrQWO8/1ofG+tBY7z/Wh8b60FjvPz401ofG+vA/PjTWh8b68D8+NNaHxvrwPz401ofG+vA/PjTWh8b68D8+NNaHxvrwPz401ofG+vA/PjTWh8b68D8+NNaHxvrwPz401ofG+vA/PjTWh8b68D8+NNaHxvrwPz401ofG+vA/PjTWh8b68D8+NNaHxvrwPz401ofG+vA/PjTWh8b68D8+NNaHxvrwPz401ofG+vA/PjTWh8b68D8+NNaHxvrwPz401ofG+vA/PjTWh8b68D8+NNaHxvrwPz401ofG+vA/PjTWh8b68D8+NNaHxvrwPz401ofG+vA/PjTWh8b68D8+NNaHxvrwPz401ofG+vA/PjTWh8b68D8+NNaHxvrwPz401ofG+vA/PjTWh8b68D8+NNaHxvrwPz401ofG+vA/PjTWh8b68D8+NNaHxvrwPz401ofG+vA/PjTWh8b68D8+NNaHxvrwPz401ofG+vA/PjTWh8b68D8+NNaHxvrwPz401ofG+vA/PjTWh8b68D8+NNaHxvrwPz401ofG+vA/PjTWh8b68D+SJEmSJEnyP5IkSZIkSfI/kiRJkiRJ8j+SJEmSJEnyP5IkSZIkSfI/kiRJkiRJ8j+SJEmSJEnyP5IkSZIkSfI/kiRJkiRJ8j+SJEmSJEnyP5IkSZIkSfI/kiRJkiRJ8j+SJEmSJEnyP5IkSZIkSfI/kiRJkiRJ8j+SJEmSJEnyP5IkSZIkSfI/kiRJkiRJ8j+SJEmSJEnyP5IkSZIkSfI/kiRJkiRJ8j+SJEmSJEnyP5IkSZIkSfI/kiRJkiRJ8j+SJEmSJEnyP5IkSZIkSfI/kiRJkiRJ8j+SJEmSJEnyP5IkSZIkSfI/kiRJkiRJ8j+SJEmSJEnyP5IkSZIkSfI/kiRJkiRJ8j+SJEmSJEnyP5IkSZIkSfI/kiRJkiRJ8j+SJEmSJEnyP5IkSZIkSfI/kiRJkiRJ8j+SJEmSJEnyP5IkSZIkSfI/kiRJkiRJ8j+SJEmSJEnyP5IkSZIkSfI/kiRJkiRJ8j+SJEmSJEnyP5IkSZIkSfI/kiRJkiRJ8j+SJEmSJEnyP5IkSZIkSfI/5RS8nIKX8z/lFLycgpfzP+UUvJyCl/M/5RS8nIKX8z/lFLycgpfzP+UUvJyCl/M/5RS8nIKX8z/lFLycgpfzP+UUvJyCl/M/5RS8nIKX8z/lFLycgpfzP+UUvJyCl/M/5RS8nIKX8z/lFLycgpfzP+UUvJyCl/M/5RS8nIKX8z/lFLycgpfzP+UUvJyCl/M/5RS8nIKX8z/lFLycgpfzP+UUvJyCl/M/5RS8nIKX8z/lFLycgpfzP+UUvJyCl/M/5RS8nIKX8z/lFLycgpfzP+UUvJyCl/M/5RS8nIKX8z/lFLycgpfzP+UUvJyCl/M/5RS8nIKX8z/lFLycgpfzP+UUvJyCl/M/5RS8nIKX8z/lFLycgpfzP+UUvJyCl/M/5RS8nIKX8z/lFLycgpfzP+UUvJyCl/M/5RS8nIKX8z/lFLycgpfzP+UUvJyCl/M/5RS8nIKX8z/lFLycgpfzP+UUvJyCl/M/5RS8nIKX8z/lFLycgpfzP+UUvJyCl/M/5RS8nIKX8z/lFLycgpfzPzkFL6fg5fQ/OQUvp+Dl9D85BS+n4OX0PzkFL6fg5fQ/OQUvp+Dl9D85BS+n4OX0PzkFL6fg5fQ/OQUvp+Dl9D85BS+n4OX0PzkFL6fg5fQ/OQUvp+Dl9D85BS+n4OX0PzkFL6fg5fQ/OQUvp+Dl9D85BS+n4OX0PzkFL6fg5fQ/OQUvp+Dl9D85BS+n4OX0PzkFL6fg5fQ/OQUvp+Dl9D85BS+n4OX0PzkFL6fg5fQ/OQUvp+Dl9D85BS+n4OX0PzkFL6fg5fQ/OQUvp+Dl9D85BS+n4OX0PzkFL6fg5fQ/OQUvp+Dl9D85BS+n4OX0PzkFL6fg5fQ/OQUvp+Dl9D85BS+n4OX0PzkFL6fg5fQ/OQUvp+Dl9D85BS+n4OX0PzkFL6fg5fQ/OQUvp+Dl9D85BS+n4OX0PzkFL6fg5fQ/OQUvp+Dl9D85BS+n4OX0PzkFL6fg5fQ/OQUvp+Dl9D85BS+n4OX0PzkFL6fg5fQ/OQUvp+Dl9D85BS+n4OX0PzkFL6fg5fQ/OQUvp+Dl9D+N9aGxPjT2P431obE+NPY/jfWhsT409j+N9aGxPjT2P431obE+NPY/jfWhsT409j+N9aGxPjT2P431obE+NPY/jfWhsT409j+N9aGxPjT2P431obE+NPY/jfWhsT409j+N9aGxPjT2P431obE+NPY/jfWhsT409j+N9aGxPjT2P431obE+NPY/jfWhsT409j+N9aGxPjT2P431obE+NPY/jfWhsT409j+N9aGxPjT2P431obE+NPY/jfWhsT409j+N9aGxPjT2P431obE+NPY/jfWhsT409j+N9aGxPjT2P431obE+NPY/jfWhsT409j+N9aGxPjT2P431obE+NPY/jfWhsT409j+N9aGxPjT2P431obE+NPY/jfWhsT409j+N9aGxPjT2P431obE+NPY/jfWhsT409j+N9aGxPjT2P431obE+NPY/jfWhsT409j+N9aGxPjT2P431obE+NPY/jfWhsT409j+N9aGxPjT2P431obE+NPY/jfWhsT409j+N9aGxPjT2P431obE+NPY/4OUUvJyC9z/g5RS8nIL3P+DlFLycgvc/4OUUvJyC9z/g5RS8nIL3P+DlFLycgvc/4OUUvJyC9z/g5RS8nIL3P+DlFLycgvc/4OUUvJyC9z/g5RS8nIL3P+DlFLycgvc/4OUUvJyC9z/g5RS8nIL3P+DlFLycgvc/4OUUvJyC9z/g5RS8nIL3P+DlFLycgvc/4OUUvJyC9z/g5RS8nIL3P+DlFLycgvc/4OUUvJyC9z/g5RS8nIL3P+DlFLycgvc/4OUUvJyC9z/g5RS8nIL3P+DlFLycgvc/4OUUvJyC9z/g5RS8nIL3P+DlFLycgvc/4OUUvJyC9z/g5RS8nIL3P+DlFLycgvc/4OUUvJyC9z/g5RS8nIL3P+DlFLycgvc/4OUUvJyC9z/g5RS8nIL3P+DlFLycgvc/4OUUvJyC9z/g5RS8nIL3P+DlFLycgvc/4OUUvJyC9z/g5RS8nIL3P+DlFLycgvc/4OUUvJyC9z/g5RS8nIL3P+DlFLycgvc/4OUUvJyC9z/g5RS8nIL3PzTWh8b60Pg/NNaHxvrQ+D801ofG+tD4PzTWh8b60Pg/NNaHxvrQ+D801ofG+tD4PzTWh8b60Pg/NNaHxvrQ+D801ofG+tD4PzTWh8b60Pg/NNaHxvrQ+D801ofG+tD4PzTWh8b60Pg/NNaHxvrQ+D801ofG+tD4PzTWh8b60Pg/NNaHxvrQ+D801ofG+tD4PzTWh8b60Pg/NNaHxvrQ+D801ofG+tD4PzTWh8b60Pg/NNaHxvrQ+D801ofG+tD4PzTWh8b60Pg/NNaHxvrQ+D801ofG+tD4PzTWh8b60Pg/NNaHxvrQ+D801ofG+tD4PzTWh8b60Pg/NNaHxvrQ+D801ofG+tD4PzTWh8b60Pg/NNaHxvrQ+D801ofG+tD4PzTWh8b60Pg/NNaHxvrQ+D801ofG+tD4PzTWh8b60Pg/NNaHxvrQ+D801ofG+tD4PzTWh8b60Pg/NNaHxvrQ+D801ofG+tD4PzTWh8b60Pg/NNaHxvrQ+D801ofG+tD4PzTWh8b60Pg/NNaHxvrQ+D+HxvrQWB/6P4fG+tBYH/o/h8b60Fgf+j+HxvrQWB/6P4fG+tBYH/o/h8b60Fgf+j+HxvrQWB/6P4fG+tBYH/o/h8b60Fgf+j+HxvrQWB/6P4fG+tBYH/o/h8b60Fgf+j+HxvrQWB/6P4fG+tBYH/o/h8b60Fgf+j+HxvrQWB/6P4fG+tBYH/o/h8b60Fgf+j+HxvrQWB/6P4fG+tBYH/o/h8b60Fgf+j+HxvrQWB/6P4fG+tBYH/o/h8b60Fgf+j+HxvrQWB/6P4fG+tBYH/o/h8b60Fgf+j+HxvrQWB/6P4fG+tBYH/o/h8b60Fgf+j+HxvrQWB/6P4fG+tBYH/o/h8b60Fgf+j+HxvrQWB/6P4fG+tBYH/o/h8b60Fgf+j+HxvrQWB/6P4fG+tBYH/o/h8b60Fgf+j+HxvrQWB/6P4fG+tBYH/o/h8b60Fgf+j+HxvrQWB/6P4fG+tBYH/o/h8b60Fgf+j+HxvrQWB/6P4fG+tBYH/o/h8b60Fgf+j+HxvrQWB/6P4fG+tBYH/o/27Zt27Zt+z/btm3btm37P9u2bdu2bfs/27Zt27Zt+z/btm3btm37P9u2bdu2bfs/27Zt27Zt+z/btm3btm37P9u2bdu2bfs/27Zt27Zt+z/btm3btm37P9u2bdu2bfs/27Zt27Zt+z/btm3btm37P9u2bdu2bfs/27Zt27Zt+z/btm3btm37P9u2bdu2bfs/27Zt27Zt+z/btm3btm37P9u2bdu2bfs/27Zt27Zt+z/btm3btm37P9u2bdu2bfs/27Zt27Zt+z/btm3btm37P9u2bdu2bfs/27Zt27Zt+z/btm3btm37P9u2bdu2bfs/27Zt27Zt+z/btm3btm37P9u2bdu2bfs/27Zt27Zt+z/btm3btm37P9u2bdu2bfs/27Zt27Zt+z/btm3btm37P9u2bdu2bfs/27Zt27Zt+z/btm3btm37P9u2bdu2bfs/27Zt27Zt+z/btm3btm37P9u2bdu2bfs/27Zt27Zt+z/btm3btm37P9u2bdu2bfs/27Zt27Zt+z/btm3btm37Py6n4OUUvPw/Lqfg5RS8/D8up+DlFLz8Py6n4OUUvPw/Lqfg5RS8/D8up+DlFLz8Py6n4OUUvPw/Lqfg5RS8/D8up+DlFLz8Py6n4OUUvPw/Lqfg5RS8/D8up+DlFLz8Py6n4OUUvPw/Lqfg5RS8/D8up+DlFLz8Py6n4OUUvPw/Lqfg5RS8/D8up+DlFLz8Py6n4OUUvPw/Lqfg5RS8/D8up+DlFLz8Py6n4OUUvPw/Lqfg5RS8/D8up+DlFLz8Py6n4OUUvPw/Lqfg5RS8/D8up+DlFLz8Py6n4OUUvPw/Lqfg5RS8/D8up+DlFLz8Py6n4OUUvPw/Lqfg5RS8/D8up+DlFLz8Py6n4OUUvPw/Lqfg5RS8/D8up+DlFLz8Py6n4OUUvPw/Lqfg5RS8/D8up+DlFLz8Py6n4OUUvPw/Lqfg5RS8/D8up+DlFLz8Py6n4OUUvPw/Lqfg5RS8/D8up+DlFLz8Py6n4OUUvPw/Lqfg5RS8/D8up+DlFLz8Py6n4OUUvPw/Lqfg5RS8/D+Cl1Pwcgr+P4KXU/ByCv4/gpdT8HIK/j+Cl1Pwcgr+P4KXU/ByCv4/gpdT8HIK/j+Cl1Pwcgr+P4KXU/ByCv4/gpdT8HIK/j+Cl1Pwcgr+P4KXU/ByCv4/gpdT8HIK/j+Cl1Pwcgr+P4KXU/ByCv4/gpdT8HIK/j+Cl1Pwcgr+P4KXU/ByCv4/gpdT8HIK/j+Cl1Pwcgr+P4KXU/ByCv4/gpdT8HIK/j+Cl1Pwcgr+P4KXU/ByCv4/gpdT8HIK/j+Cl1Pwcgr+P4KXU/ByCv4/gpdT8HIK/j+Cl1Pwcgr+P4KXU/ByCv4/gpdT8HIK/j+Cl1Pwcgr+P4KXU/ByCv4/gpdT8HIK/j+Cl1Pwcgr+P4KXU/ByCv4/gpdT8HIK/j+Cl1Pwcgr+P4KXU/ByCv4/gpdT8HIK/j+Cl1Pwcgr+P4KXU/ByCv4/gpdT8HIK/j+Cl1Pwcgr+P4KXU/ByCv4/gpdT8HIK/j+Cl1Pwcgr+P4KXU/ByCv4/gpdT8HIK/j+Cl1Pwcgr+P4KXU/ByCv4/1ofG+tBY/z/Wh8b60Fj/P9aHxvrQWP8/1ofG+tBY/z/Wh8b60Fj/P9aHxvrQWP8/1ofG+tBY/z/Wh8b60Fj/P9aHxvrQWP8/1ofG+tBY/z/Wh8b60Fj/P9aHxvrQWP8/1ofG+tBY/z/Wh8b60Fj/P9aHxvrQWP8/1ofG+tBY/z/Wh8b60Fj/P9aHxvrQWP8/1ofG+tBY/z/Wh8b60Fj/P9aHxvrQWP8/1ofG+tBY/z/Wh8b60Fj/P9aHxvrQWP8/1ofG+tBY/z/Wh8b60Fj/P9aHxvrQWP8/1ofG+tBY/z/Wh8b60Fj/P9aHxvrQWP8/1ofG+tBY/z/Wh8b60Fj/P9aHxvrQWP8/1ofG+tBY/z/Wh8b60Fj/P9aHxvrQWP8/1ofG+tBY/z/Wh8b60Fj/P9aHxvrQWP8/1ofG+tBY/z/Wh8b60Fj/P9aHxvrQWP8/1ofG+tBY/z/Wh8b60Fj/P9aHxvrQWP8/1ofG+tBY/z/Wh8b60Fj/P9aHxvrQWP8/1ofG+tBY/z/Wh8b60Fj/PxW8nIKXUwBAFbycgpdTAEAVvJyCl1MAQBW8nIKXUwBAFbycgpdTAEAVvJyCl1MAQBW8nIKXUwBAFbycgpdTAEAVvJyCl1MAQBW8nIKXUwBAFbycgpdTAEAVvJyCl1MAQBW8nIKXUwBAFbycgpdTAEAVvJyCl1MAQBW8nIKXUwBAFbycgpdTAEAVvJyCl1MAQBW8nIKXUwBAFbycgpdTAEAVvJyCl1MAQBW8nIKXUwBAFbycgpdTAEAVvJyCl1MAQBW8nIKXUwBAFbycgpdTAEAVvJyCl1MAQBW8nIKXUwBAFbycgpdTAEAVvJyCl1MAQBW8nIKXUwBAFbycgpdTAEAVvJyCl1MAQBW8nIKXUwBAFbycgpdTAEAVvJyCl1MAQBW8nIKXUwBAFbycgpdTAEAVvJyCl1MAQBW8nIKXUwBAFbycgpdTAEAVvJyCl1MAQBW8nIKXUwBAFbycgpdTAEAVvJyCl1MAQBW8nIKXUwBAFbycgpdTAEAVvJyCl1MAQBW8nIKXUwBAFbycgpdTAEA+NNaHxvoAQD401ofG+gBAPjTWh8b6AEA+NNaHxvoAQD401ofG+gBAPjTWh8b6AEA+NNaHxvoAQD401ofG+gBAPjTWh8b6AEA+NNaHxvoAQD401ofG+gBAPjTWh8b6AEA+NNaHxvoAQD401ofG+gBAPjTWh8b6AEA+NNaHxvoAQD401ofG+gBAPjTWh8b6AEA+NNaHxvoAQD401ofG+gBAPjTWh8b6AEA+NNaHxvoAQD401ofG+gBAPjTWh8b6AEA+NNaHxvoAQD401ofG+gBAPjTWh8b6AEA+NNaHxvoAQD401ofG+gBAPjTWh8b6AEA+NNaHxvoAQD401ofG+gBAPjTWh8b6AEA+NNaHxvoAQD401ofG+gBAPjTWh8b6AEA+NNaHxvoAQD401ofG+gBAPjTWh8b6AEA+NNaHxvoAQD401ofG+gBAPjTWh8b6AEA+NNaHxvoAQD401ofG+gBAPjTWh8b6AEA+NNaHxvoAQD401ofG+gBAPjTWh8b6AEA+NNaHxvoAQD401ofG+gBAaKwPjfWhAUBorA+N9aEBQGisD431oQFAaKwPjfWhAUBorA+N9aEBQGisD431oQFAaKwPjfWhAUBorA+N9aEBQGisD431oQFAaKwPjfWhAUBorA+N9aEBQGisD431oQFAaKwPjfWhAUBorA+N9aEBQGisD431oQFAaKwPjfWhAUBorA+N9aEBQGisD431oQFAaKwPjfWhAUBorA+N9aEBQGisD431oQFAaKwPjfWhAUBorA+N9aEBQGisD431oQFAaKwPjfWhAUBorA+N9aEBQGisD431oQFAaKwPjfWhAUBorA+N9aEBQGisD431oQFAaKwPjfWhAUBorA+N9aEBQGisD431oQFAaKwPjfWhAUBorA+N9aEBQGisD431oQFAaKwPjfWhAUBorA+N9aEBQGisD431oQFAaKwPjfWhAUBorA+N9aEBQGisD431oQFAaKwPjfWhAUBorA+N9aEBQGisD431oQFAaKwPjfWhAUBorA+N9aEBQGisD431oQFAaKwPjfWhAUBorA+N9aEBQJIkSZIkSQJAkiRJkiRJAkCSJEmSJEkCQJIkSZIkSQJAkiRJkiRJAkCSJEmSJEkCQJIkSZIkSQJAkiRJkiRJAkCSJEmSJEkCQJIkSZIkSQJAkiRJkiRJAkCSJEmSJEkCQJIkSZIkSQJAkiRJkiRJAkCSJEmSJEkCQJIkSZIkSQJAkiRJkiRJAkCSJEmSJEkCQJIkSZIkSQJAkiRJkiRJAkCSJEmSJEkCQJIkSZIkSQJAkiRJkiRJAkCSJEmSJEkCQJIkSZIkSQJAkiRJkiRJAkCSJEmSJEkCQJIkSZIkSQJAkiRJkiRJAkCSJEmSJEkCQJIkSZIkSQJAkiRJkiRJAkCSJEmSJEkCQJIkSZIkSQJAkiRJkiRJAkCSJEmSJEkCQJIkSZIkSQJAkiRJkiRJAkCSJEmSJEkCQJIkSZIkSQJAkiRJkiRJAkCSJEmSJEkCQJIkSZIkSQJAkiRJkiRJAkCSJEmSJEkCQJIkSZIkSQJAkiRJkiRJAkCSJEmSJEkCQJIkSZIkSQJAkiRJkiRJAkC8nIKXU/ACQLycgpdT8AJAvJyCl1PwAkC8nIKXU/ACQLycgpdT8AJAvJyCl1PwAkC8nIKXU/ACQLycgpdT8AJAvJyCl1PwAkC8nIKXU/ACQLycgpdT8AJAvJyCl1PwAkC8nIKXU/ACQLycgpdT8AJAvJyCl1PwAkC8nIKXU/ACQLycgpdT8AJAvJyCl1PwAkC8nIKXU/ACQLycgpdT8AJAvJyCl1PwAkC8nIKXU/ACQLycgpdT8AJAvJyCl1PwAkC8nIKXU/ACQLycgpdT8AJAvJyCl1PwAkC8nIKXU/ACQLycgpdT8AJAvJyCl1PwAkC8nIKXU/ACQLycgpdT8AJAvJyCl1PwAkC8nIKXU/ACQLycgpdT8AJAvJyCl1PwAkC8nIKXU/ACQLycgpdT8AJAvJyCl1PwAkC8nIKXU/ACQLycgpdT8AJAvJyCl1PwAkC8nIKXU/ACQLycgpdT8AJAvJyCl1PwAkC8nIKXU/ACQLycgpdT8AJAvJyCl1PwAkC8nIKXU/ACQLycgpdT8AJA5RS8nIKXA0DlFLycgpcDQOUUvJyClwNA5RS8nIKXA0DlFLycgpcDQOUUvJyClwNA5RS8nIKXA0DlFLycgpcDQOUUvJyClwNA5RS8nIKXA0DlFLycgpcDQOUUvJyClwNA5RS8nIKXA0DlFLycgpcDQOUUvJyClwNA5RS8nIKXA0DlFLycgpcDQOUUvJyClwNA5RS8nIKXA0DlFLycgpcDQOUUvJyClwNA5RS8nIKXA0DlFLycgpcDQOUUvJyClwNA5RS8nIKXA0DlFLycgpcDQOUUvJyClwNA5RS8nIKXA0DlFLycgpcDQOUUvJyClwNA5RS8nIKXA0DlFLycgpcDQOUUvJyClwNA5RS8nIKXA0DlFLycgpcDQOUUvJyClwNA5RS8nIKXA0DlFLycgpcDQOUUvJyClwNA5RS8nIKXA0DlFLycgpcDQOUUvJyClwNA5RS8nIKXA0DlFLycgpcDQOUUvJyClwNA5RS8nIKXA0DlFLycgpcDQOUUvJyClwNA5RS8nIKXA0DlFLycgpcDQA+N9aGxPgRAD431obE+BEAPjfWhsT4EQA+N9aGxPgRAD431obE+BEAPjfWhsT4EQA+N9aGxPgRAD431obE+BEAPjfWhsT4EQA+N9aGxPgRAD431obE+BEAPjfWhsT4EQA+N9aGxPgRAD431obE+BEAPjfWhsT4EQA+N9aGxPgRAD431obE+BEAPjfWhsT4EQA+N9aGxPgRAD431obE+BEAPjfWhsT4EQA+N9aGxPgRAD431obE+BEAPjfWhsT4EQA+N9aGxPgRAD431obE+BEAPjfWhsT4EQA+N9aGxPgRAD431obE+BEAPjfWhsT4EQA+N9aGxPgRAD431obE+BEAPjfWhsT4EQA+N9aGxPgRAD431obE+BEAPjfWhsT4EQA+N9aGxPgRAD431obE+BEAPjfWhsT4EQA+N9aGxPgRAD431obE+BEAPjfWhsT4EQA+N9aGxPgRAD431obE+BEAPjfWhsT4EQA+N9aGxPgRAD431obE+BEAPjfWhsT4EQA+N9aGxPgRAD431obE+BEA5BS+n4OUEQDkFL6fg5QRAOQUvp+DlBEA5BS+n4OUEQDkFL6fg5QRAOQUvp+DlBEA5BS+n4OUEQDkFL6fg5QRAOQUvp+DlBEA5BS+n4OUEQDkFL6fg5QRAOQUvp+DlBEA5BS+n4OUEQDkFL6fg5QRAOQUvp+DlBEA5BS+n4OUEQDkFL6fg5QRAOQUvp+DlBEA5BS+n4OUEQDkFL6fg5QRAOQUvp+DlBEA5BS+n4OUEQDkFL6fg5QRAOQUvp+DlBEA5BS+n4OUEQDkFL6fg5QRAOQUvp+DlBEA5BS+n4OUEQDkFL6fg5QRAOQUvp+DlBEA5BS+n4OUEQDkFL6fg5QRAOQUvp+DlBEA5BS+n4OUEQDkFL6fg5QRAOQUvp+DlBEA5BS+n4OUEQDkFL6fg5QRAOQUvp+DlBEA5BS+n4OUEQDkFL6fg5QRAOQUvp+DlBEA5BS+n4OUEQDkFL6fg5QRAOQUvp+DlBEA5BS+n4OUEQDkFL6fg5QRAOQUvp+DlBEA5BS+n4OUEQDkFL6fg5QRAY31orA+NBUBjfWisD40FQGN9aKwPjQVAY31orA+NBUBjfWisD40FQGN9aKwPjQVAY31orA+NBUBjfWisD40FQGN9aKwPjQVAY31orA+NBUBjfWisD40FQGN9aKwPjQVAY31orA+NBUBjfWisD40FQGN9aKwPjQVAY31orA+NBUBjfWisD40FQGN9aKwPjQVAY31orA+NBUBjfWisD40FQGN9aKwPjQVAY31orA+NBUBjfWisD40FQGN9aKwPjQVAY31orA+NBUBjfWisD40FQGN9aKwPjQVAY31orA+NBUBjfWisD40FQGN9aKwPjQVAY31orA+NBUBjfWisD40FQGN9aKwPjQVAY31orA+NBUBjfWisD40FQGN9aKwPjQVAY31orA+NBUBjfWisD40FQGN9aKwPjQVAY31orA+NBUBjfWisD40FQGN9aKwPjQVAY31orA+NBUBjfWisD40FQGN9aKwPjQVAY31orA+NBUBjfWisD40FQGN9aKwPjQVAY31orA+NBUBjfWisD40FQI31obE+NAZAjfWhsT40BkCN9aGxPjQGQI31obE+NAZAjfWhsT40BkCN9aGxPjQGQI31obE+NAZAjfWhsT40BkCN9aGxPjQGQI31obE+NAZAjfWhsT40BkCN9aGxPjQGQI31obE+NAZAjfWhsT40BkCN9aGxPjQGQI31obE+NAZAjfWhsT40BkCN9aGxPjQGQI31obE+NAZAjfWhsT40BkCN9aGxPjQGQI31obE+NAZAjfWhsT40BkCN9aGxPjQGQI31obE+NAZAjfWhsT40BkCN9aGxPjQGQI31obE+NAZAjfWhsT40BkCN9aGxPjQGQI31obE+NAZAjfWhsT40BkCN9aGxPjQGQI31obE+NAZAjfWhsT40BkCN9aGxPjQGQI31obE+NAZAjfWhsT40BkCN9aGxPjQGQI31obE+NAZAjfWhsT40BkCN9aGxPjQGQI31obE+NAZAjfWhsT40BkCN9aGxPjQGQI31obE+NAZAjfWhsT40BkCN9aGxPjQGQI31obE+NAZAjfWhsT40BkC2bdu2bdsGQLZt27Zt2wZAtm3btm3bBkC2bdu2bdsGQLZt27Zt2wZAtm3btm3bBkC2bdu2bdsGQLZt27Zt2wZAtm3btm3bBkC2bdu2bdsGQLZt27Zt2wZAtm3btm3bBkC2bdu2bdsGQLZt27Zt2wZAtm3btm3bBkC2bdu2bdsGQLZt27Zt2wZAtm3btm3bBkC2bdu2bdsGQLZt27Zt2wZAtm3btm3bBkC2bdu2bdsGQLZt27Zt2wZAtm3btm3bBkC2bdu2bdsGQLZt27Zt2wZAtm3btm3bBkC2bdu2bdsGQLZt27Zt2wZAtm3btm3bBkC2bdu2bdsGQLZt27Zt2wZAtm3btm3bBkC2bdu2bdsGQLZt27Zt2wZAtm3btm3bBkC2bdu2bdsGQLZt27Zt2wZAtm3btm3bBkC2bdu2bdsGQLZt27Zt2wZAtm3btm3bBkC2bdu2bdsGQLZt27Zt2wZAtm3btm3bBkC2bdu2bdsGQLZt27Zt2wZAtm3btm3bBkC2bdu2bdsGQLZt27Zt2wZA4OUUvJyCB0Dg5RS8nIIHQODlFLycggdA4OUUvJyCB0Dg5RS8nIIHQODlFLycggdA4OUUvJyCB0Dg5RS8nIIHQODlFLycggdA4OUUvJyCB0Dg5RS8nIIHQODlFLycggdA4OUUvJyCB0Dg5RS8nIIHQODlFLycggdA4OUUvJyCB0Dg5RS8nIIHQODlFLycggdA4OUUvJyCB0Dg5RS8nIIHQODlFLycggdA4OUUvJyCB0Dg5RS8nIIHQODlFLycggdA4OUUvJyCB0Dg5RS8nIIHQODlFLycggdA4OUUvJyCB0Dg5RS8nIIHQODlFLycggdA4OUUvJyCB0Dg5RS8nIIHQODlFLycggdA4OUUvJyCB0Dg5RS8nIIHQODlFLycggdA4OUUvJyCB0Dg5RS8nIIHQODlFLycggdA4OUUvJyCB0Dg5RS8nIIHQODlFLycggdA4OUUvJyCB0Dg5RS8nIIHQODlFLycggdA4OUUvJyCB0Dg5RS8nIIHQODlFLycggdA4OUUvJyCB0Dg5RS8nIIHQApeTsHLKQhACl5OwcspCEAKXk7ByykIQApeTsHLKQhACl5OwcspCEAKXk7ByykIQApeTsHLKQhACl5OwcspCEAKXk7ByykIQApeTsHLKQhACl5OwcspCEAKXk7ByykIQApeTsHLKQhACl5OwcspCEAKXk7ByykIQApeTsHLKQhACl5OwcspCEAKXk7ByykIQApeTsHLKQhACl5OwcspCEAKXk7ByykIQApeTsHLKQhACl5OwcspCEAKXk7ByykIQApeTsHLKQhACl5OwcspCEAKXk7ByykIQApeTsHLKQhACl5OwcspCEAKXk7ByykIQApeTsHLKQhACl5OwcspCEAKXk7ByykIQApeTsHLKQhACl5OwcspCEAKXk7ByykIQApeTsHLKQhACl5OwcspCEAKXk7ByykIQApeTsHLKQhACl5OwcspCEAKXk7ByykIQApeTsHLKQhACl5OwcspCEAKXk7ByykIQApeTsHLKQhACl5OwcspCEAKXk7ByykIQApeTsHLKQhACl5OwcspCEA01ofG+tAIQDTWh8b60AhANNaHxvrQCEA01ofG+tAIQDTWh8b60AhANNaHxvrQCEA01ofG+tAIQDTWh8b60AhANNaHxvrQCEA01ofG+tAIQDTWh8b60AhANNaHxvrQCEA01ofG+tAIQDTWh8b60AhANNaHxvrQCEA01ofG+tAIQDTWh8b60AhANNaHxvrQCEA01ofG+tAIQDTWh8b60AhANNaHxvrQCEA01ofG+tAIQDTWh8b60AhANNaHxvrQCEA01ofG+tAIQDTWh8b60AhANNaHxvrQCEA01ofG+tAIQDTWh8b60AhANNaHxvrQCEA01ofG+tAIQDTWh8b60AhANNaHxvrQCEA01ofG+tAIQDTWh8b60AhANNaHxvrQCEA01ofG+tAIQDTWh8b60AhANNaHxvrQCEA01ofG+tAIQDTWh8b60AhANNaHxvrQCEA01ofG+tAIQDTWh8b60AhANNaHxvrQCEA01ofG+tAIQDTWh8b60AhANNaHxvrQCEA01ofG+tAIQDTWh8b60AhAXU7Byyl4CUBdTsHLKXgJQF1OwcspeAlAXU7Byyl4CUBdTsHLKXgJQF1OwcspeAlAXU7Byyl4CUBdTsHLKXgJQF1OwcspeAlAXU7Byyl4CUBdTsHLKXgJQF1OwcspeAlAXU7Byyl4CUBdTsHLKXgJQF1OwcspeAlAXU7Byyl4CUBdTsHLKXgJQF1OwcspeAlAXU7Byyl4CUBdTsHLKXgJQF1OwcspeAlAXU7Byyl4CUBdTsHLKXgJQF1OwcspeAlAXU7Byyl4CUBdTsHLKXgJQF1OwcspeAlAXU7Byyl4CUBdTsHLKXgJQF1OwcspeAlAXU7Byyl4CUBdTsHLKXgJQF1OwcspeAlAXU7Byyl4CUBdTsHLKXgJQF1OwcspeAlAXU7Byyl4CUBdTsHLKXgJQF1OwcspeAlAXU7Byyl4CUBdTsHLKXgJQF1OwcspeAlAXU7Byyl4CUBdTsHLKXgJQF1OwcspeAlAXU7Byyl4CUBdTsHLKXgJQF1OwcspeAlAXU7Byyl4CUBdTsHLKXgJQIfG+tBYHwpAh8b60FgfCkCHxvrQWB8KQIfG+tBYHwpAh8b60FgfCkCHxvrQWB8KQIfG+tBYHwpAh8b60FgfCkCHxvrQWB8KQIfG+tBYHwpAh8b60FgfCkCHxvrQWB8KQIfG+tBYHwpAh8b60FgfCkCHxvrQWB8KQIfG+tBYHwpAh8b60FgfCkCHxvrQWB8KQIfG+tBYHwpAh8b60FgfCkCHxvrQWB8KQIfG+tBYHwpAh8b60FgfCkCHxvrQWB8KQIfG+tBYHwpAh8b60FgfCkCHxvrQWB8KQIfG+tBYHwpAh8b60FgfCkCHxvrQWB8KQIfG+tBYHwpAh8b60FgfCkCHxvrQWB8KQIfG+tBYHwpAh8b60FgfCkCHxvrQWB8KQIfG+tBYHwpAh8b60FgfCkCHxvrQWB8KQIfG+tBYHwpAh8b60FgfCkCHxvrQWB8KQIfG+tBYHwpAh8b60FgfCkCHxvrQWB8KQIfG+tBYHwpAh8b60FgfCkCHxvrQWB8KQIfG+tBYHwpAh8b60FgfCkCxPjTWh8YKQLE+NNaHxgpAsT401ofGCkCxPjTWh8YKQLE+NNaHxgpAsT401ofGCkCxPjTWh8YKQLE+NNaHxgpAsT401ofGCkCxPjTWh8YKQLE+NNaHxgpAsT401ofGCkCxPjTWh8YKQLE+NNaHxgpAsT401ofGCkCxPjTWh8YKQLE+NNaHxgpAsT401ofGCkCxPjTWh8YKQLE+NNaHxgpAsT401ofGCkCxPjTWh8YKQLE+NNaHxgpAsT401ofGCkCxPjTWh8YKQLE+NNaHxgpAsT401ofGCkCxPjTWh8YKQLE+NNaHxgpAsT401ofGCkCxPjTWh8YKQLE+NNaHxgpAsT401ofGCkCxPjTWh8YKQLE+NNaHxgpAsT401ofGCkCxPjTWh8YKQLE+NNaHxgpAsT401ofGCkCxPjTWh8YKQLE+NNaHxgpAsT401ofGCkCxPjTWh8YKQLE+NNaHxgpAsT401ofGCkCxPjTWh8YKQLE+NNaHxgpAsT401ofGCkCxPjTWh8YKQLE+NNaHxgpA27Zt27ZtC0Dbtm3btm0LQNu2bdu2bQtA27Zt27ZtC0Dbtm3btm0LQNu2bdu2bQtA27Zt27ZtC0Dbtm3btm0LQNu2bdu2bQtA27Zt27ZtC0Dbtm3btm0LQNu2bdu2bQtA27Zt27ZtC0Dbtm3btm0LQNu2bdu2bQtA27Zt27ZtC0Dbtm3btm0LQNu2bdu2bQtA27Zt27ZtC0Dbtm3btm0LQNu2bdu2bQtA27Zt27ZtC0Dbtm3btm0LQNu2bdu2bQtA27Zt27ZtC0Dbtm3btm0LQNu2bdu2bQtA27Zt27ZtC0Dbtm3btm0LQNu2bdu2bQtA27Zt27ZtC0Dbtm3btm0LQNu2bdu2bQtA27Zt27ZtC0Dbtm3btm0LQNu2bdu2bQtA27Zt27ZtC0Dbtm3btm0LQNu2bdu2bQtA27Zt27ZtC0Dbtm3btm0LQNu2bdu2bQtA27Zt27ZtC0Dbtm3btm0LQNu2bdu2bQtA27Zt27ZtC0Dbtm3btm0LQNu2bdu2bQtA27Zt27ZtC0Dbtm3btm0LQAUvp+DlFAxABS+n4OUUDEAFL6fg5RQMQAUvp+DlFAxABS+n4OUUDEAFL6fg5RQMQAUvp+DlFAxABS+n4OUUDEAFL6fg5RQMQAUvp+DlFAxABS+n4OUUDEAFL6fg5RQMQAUvp+DlFAxABS+n4OUUDEAFL6fg5RQMQAUvp+DlFAxABS+n4OUUDEAFL6fg5RQMQAUvp+DlFAxABS+n4OUUDEAFL6fg5RQMQAUvp+DlFAxABS+n4OUUDEAFL6fg5RQMQAUvp+DlFAxABS+n4OUUDEAFL6fg5RQMQAUvp+DlFAxABS+n4OUUDEAFL6fg5RQMQAUvp+DlFAxABS+n4OUUDEAFL6fg5RQMQAUvp+DlFAxABS+n4OUUDEAFL6fg5RQMQAUvp+DlFAxABS+n4OUUDEAFL6fg5RQMQAUvp+DlFAxABS+n4OUUDEAFL6fg5RQMQAUvp+DlFAxABS+n4OUUDEAFL6fg5RQMQAUvp+DlFAxABS+n4OUUDEAFL6fg5RQMQAUvp+DlFAxABS+n4OUUDEAup+DlFLwMQC6n4OUUvAxALqfg5RS8DEAup+DlFLwMQC6n4OUUvAxALqfg5RS8DEAup+DlFLwMQC6n4OUUvAxALqfg5RS8DEAup+DlFLwMQC6n4OUUvAxALqfg5RS8DEAup+DlFLwMQC6n4OUUvAxALqfg5RS8DEAup+DlFLwMQC6n4OUUvAxALqfg5RS8DEAup+DlFLwMQC6n4OUUvAxALqfg5RS8DEAup+DlFLwMQC6n4OUUvAxALqfg5RS8DEAup+DlFLwMQC6n4OUUvAxALqfg5RS8DEAup+DlFLwMQC6n4OUUvAxALqfg5RS8DEAup+DlFLwMQC6n4OUUvAxALqfg5RS8DEAup+DlFLwMQC6n4OUUvAxALqfg5RS8DEAup+DlFLwMQC6n4OUUvAxALqfg5RS8DEAup+DlFLwMQC6n4OUUvAxALqfg5RS8DEAup+DlFLwMQC6n4OUUvAxALqfg5RS8DEAup+DlFLwMQC6n4OUUvAxALqfg5RS8DEAup+DlFLwMQC6n4OUUvAxAWB8a60NjDUBYHxrrQ2MNQFgfGutDYw1AWB8a60NjDUBYHxrrQ2MNQFgfGutDYw1AWB8a60NjDUBYHxrrQ2MNQFgfGutDYw1AWB8a60NjDUBYHxrrQ2MNQFgfGutDYw1AWB8a60NjDUBYHxrrQ2MNQFgfGutDYw1AWB8a60NjDUBYHxrrQ2MNQFgfGutDYw1AWB8a60NjDUBYHxrrQ2MNQFgfGutDYw1AWB8a60NjDUBYHxrrQ2MNQFgfGutDYw1AWB8a60NjDUBYHxrrQ2MNQFgfGutDYw1AWB8a60NjDUBYHxrrQ2MNQFgfGutDYw1AWB8a60NjDUBYHxrrQ2MNQFgfGutDYw1AWB8a60NjDUBYHxrrQ2MNQFgfGutDYw1AWB8a60NjDUBYHxrrQ2MNQFgfGutDYw1AWB8a60NjDUBYHxrrQ2MNQFgfGutDYw1AWB8a60NjDUBYHxrrQ2MNQFgfGutDYw1AWB8a60NjDUBYHxrrQ2MNQFgfGutDYw1AWB8a60NjDUBYHxrrQ2MNQIKXU/ByCg5AgpdT8HIKDkCCl1PwcgoOQIKXU/ByCg5AgpdT8HIKDkCCl1PwcgoOQIKXU/ByCg5AgpdT8HIKDkCCl1PwcgoOQIKXU/ByCg5AgpdT8HIKDkCCl1PwcgoOQIKXU/ByCg5AgpdT8HIKDkCCl1PwcgoOQIKXU/ByCg5AgpdT8HIKDkCCl1PwcgoOQIKXU/ByCg5AgpdT8HIKDkCCl1PwcgoOQIKXU/ByCg5AgpdT8HIKDkCCl1PwcgoOQIKXU/ByCg5AgpdT8HIKDkCCl1PwcgoOQIKXU/ByCg5AgpdT8HIKDkCCl1PwcgoOQIKXU/ByCg5AgpdT8HIKDkCCl1PwcgoOQIKXU/ByCg5AgpdT8HIKDkCCl1PwcgoOQIKXU/ByCg5AgpdT8HIKDkCCl1PwcgoOQIKXU/ByCg5AgpdT8HIKDkCCl1PwcgoOQIKXU/ByCg5AgpdT8HIKDkCCl1PwcgoOQIKXU/ByCg5AgpdT8HIKDkCCl1PwcgoOQIKXU/ByCg5AgpdT8HIKDkCsD431obEOQKwPjfWhsQ5ArA+N9aGxDkCsD431obEOQKwPjfWhsQ5ArA+N9aGxDkCsD431obEOQKwPjfWhsQ5ArA+N9aGxDkCsD431obEOQKwPjfWhsQ5ArA+N9aGxDkCsD431obEOQKwPjfWhsQ5ArA+N9aGxDkCsD431obEOQKwPjfWhsQ5ArA+N9aGxDkCsD431obEOQKwPjfWhsQ5ArA+N9aGxDkCsD431obEOQKwPjfWhsQ5ArA+N9aGxDkCsD431obEOQKwPjfWhsQ5ArA+N9aGxDkCsD431obEOQKwPjfWhsQ5ArA+N9aGxDkCsD431obEOQKwPjfWhsQ5ArA+N9aGxDkCsD431obEOQKwPjfWhsQ5ArA+N9aGxDkCsD431obEOQKwPjfWhsQ5ArA+N9aGxDkCsD431obEOQKwPjfWhsQ5ArA+N9aGxDkCsD431obEOQKwPjfWhsQ5ArA+N9aGxDkCsD431obEOQKwPjfWhsQ5ArA+N9aGxDkCsD431obEOQKwPjfWhsQ5A1ofG+tBYD0DWh8b60FgPQNaHxvrQWA9A1ofG+tBYD0DWh8b60FgPQNaHxvrQWA9A1ofG+tBYD0DWh8b60FgPQNaHxvrQWA9A1ofG+tBYD0DWh8b60FgPQNaHxvrQWA9A1ofG+tBYD0DWh8b60FgPQNaHxvrQWA9A1ofG+tBYD0DWh8b60FgPQNaHxvrQWA9A1ofG+tBYD0DWh8b60FgPQNaHxvrQWA9A1ofG+tBYD0DWh8b60FgPQNaHxvrQWA9A1ofG+tBYD0DWh8b60FgPQNaHxvrQWA9A1ofG+tBYD0DWh8b60FgPQNaHxvrQWA9A1ofG+tBYD0DWh8b60FgPQNaHxvrQWA9A1ofG+tBYD0DWh8b60FgPQNaHxvrQWA9A1ofG+tBYD0DWh8b60FgPQNaHxvrQWA9A1ofG+tBYD0DWh8b60FgPQNaHxvrQWA9A1ofG+tBYD0DWh8b60FgPQNaHxvrQWA9A1ofG+tBYD0DWh8b60FgPQNaHxvrQWA9A1ofG+tBYD0DWh8b60FgPQAAAAAAAABBAAAAAAAAAEEAAAAAAAAAQQAAAAAAAABBAAAAAAAAAEEAAAAAAAAAQQAAAAAAAABBAAAAAAAAAEEAAAAAAAAAQQAAAAAAAABBAAAAAAAAAEEAAAAAAAAAQQAAAAAAAABBAAAAAAAAAEEAAAAAAAAAQQAAAAAAAABBAAAAAAAAAEEAAAAAAAAAQQAAAAAAAABBAAAAAAAAAEEAAAAAAAAAQQAAAAAAAABBAAAAAAAAAEEAAAAAAAAAQQAAAAAAAABBAAAAAAAAAEEAAAAAAAAAQQAAAAAAAABBAAAAAAAAAEEAAAAAAAAAQQAAAAAAAABBAAAAAAAAAEEAAAAAAAAAQQAAAAAAAABBAAAAAAAAAEEAAAAAAAAAQQAAAAAAAABBAAAAAAAAAEEAAAAAAAAAQQAAAAAAAABBAAAAAAAAAEEAAAAAAAAAQQAAAAAAAABBAAAAAAAAAEEAAAAAAAAAQQAAAAAAAABBAAAAAAAAAEEAAAAAAAAAQQAAAAAAAABBAAAAAAAAAEEA=",
          "dtype": "f8",
          "shape": "50, 50"
         }
        },
        {
         "colorscale": [
          [
           0,
           "red"
          ],
          [
           1,
           "red"
          ]
         ],
         "opacity": 0.7,
         "showscale": false,
         "type": "surface",
         "x": {
          "bdata": "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",
          "dtype": "f8",
          "shape": "50, 50"
         },
         "y": {
          "bdata": "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",
          "dtype": "f8",
          "shape": "50, 50"
         },
         "z": {
          "bdata": "AAAAAAAAAAAAAAAAAAAAAAAAAAAAAAAAAAAAAAAAAAAAAAAAAAAAAAAAAAAAAAAAAAAAAAAAAAAAAAAAAAAAAAAAAAAAAAAAAAAAAAAAAAAAAAAAAAAAAAAAAAAAAAAAAAAAAAAAAAAAAAAAAAAAAAAAAAAAAAAAAAAAAAAAAAAAAAAAAAAAAAAAAAAAAAAAAAAAAAAAAAAAAAAAAAAAAAAAAAAAAAAAAAAAAAAAAAAAAAAAAAAAAAAAAAAAAAAAAAAAAAAAAAAAAAAAAAAAAAAAAAAAAAAAAAAAAAAAAAAAAAAAAAAAAAAAAAAAAAAAAAAAAAAAAAAAAAAAAAAAAAAAAAAAAAAAAAAAAAAAAAAAAAAAAAAAAAAAAAAAAAAAAAAAAAAAAAAAAAAAAAAAAAAAAAAAAAAAAAAAAAAAAAAAAAAAAAAAAAAAAAAAAAAAAAAAAAAAAAAAAAAAAAAAAAAAAAAAAAAAAAAAAAAAAAAAAAAAAAAAAAAAAAAAAAAAAAAAAAAAAAAAAAAAAAAAAF2rbDhi2rM/XatsOGLasz9dq2w4YtqzP12rbDhi2rM/XatsOGLasz9dq2w4YtqzP12rbDhi2rM/XatsOGLasz9dq2w4YtqzP12rbDhi2rM/XatsOGLasz9dq2w4YtqzP12rbDhi2rM/XatsOGLasz9dq2w4YtqzP12rbDhi2rM/XatsOGLasz9dq2w4YtqzP12rbDhi2rM/XatsOGLasz9dq2w4YtqzP12rbDhi2rM/XatsOGLasz9dq2w4YtqzP12rbDhi2rM/XatsOGLasz9dq2w4YtqzP12rbDhi2rM/XatsOGLasz9dq2w4YtqzP12rbDhi2rM/XatsOGLasz9dq2w4YtqzP12rbDhi2rM/XatsOGLasz9dq2w4YtqzP12rbDhi2rM/XatsOGLasz9dq2w4YtqzP12rbDhi2rM/XatsOGLasz9dq2w4YtqzP12rbDhi2rM/XatsOGLasz9dq2w4YtqzP12rbDhi2rM/XatsOGLasz9dq2w4YtqzP12rbDhi2rM/XatsOGLasz9dq2w4YtrDP12rbDhi2sM/XatsOGLawz9dq2w4YtrDP12rbDhi2sM/XatsOGLawz9dq2w4YtrDP12rbDhi2sM/XatsOGLawz9dq2w4YtrDP12rbDhi2sM/XatsOGLawz9dq2w4YtrDP12rbDhi2sM/XatsOGLawz9dq2w4YtrDP12rbDhi2sM/XatsOGLawz9dq2w4YtrDP12rbDhi2sM/XatsOGLawz9dq2w4YtrDP12rbDhi2sM/XatsOGLawz9dq2w4YtrDP12rbDhi2sM/XatsOGLawz9dq2w4YtrDP12rbDhi2sM/XatsOGLawz9dq2w4YtrDP12rbDhi2sM/XatsOGLawz9dq2w4YtrDP12rbDhi2sM/XatsOGLawz9dq2w4YtrDP12rbDhi2sM/XatsOGLawz9dq2w4YtrDP12rbDhi2sM/XatsOGLawz9dq2w4YtrDP12rbDhi2sM/XatsOGLawz9dq2w4YtrDP12rbDhi2sM/XatsOGLawz9dq2w4YtrDP12rbDhi2sM/DAGjVJPHzT8MAaNUk8fNPwwBo1STx80/DAGjVJPHzT8MAaNUk8fNPwwBo1STx80/DAGjVJPHzT8MAaNUk8fNPwwBo1STx80/DAGjVJPHzT8MAaNUk8fNPwwBo1STx80/DAGjVJPHzT8MAaNUk8fNPwwBo1STx80/DAGjVJPHzT8MAaNUk8fNPwwBo1STx80/DAGjVJPHzT8MAaNUk8fNPwwBo1STx80/DAGjVJPHzT8MAaNUk8fNPwwBo1STx80/DAGjVJPHzT8MAaNUk8fNPwwBo1STx80/DAGjVJPHzT8MAaNUk8fNPwwBo1STx80/DAGjVJPHzT8MAaNUk8fNPwwBo1STx80/DAGjVJPHzT8MAaNUk8fNPwwBo1STx80/DAGjVJPHzT8MAaNUk8fNPwwBo1STx80/DAGjVJPHzT8MAaNUk8fNPwwBo1STx80/DAGjVJPHzT8MAaNUk8fNPwwBo1STx80/DAGjVJPHzT8MAaNUk8fNPwwBo1STx80/DAGjVJPHzT8MAaNUk8fNP12rbDhi2tM/XatsOGLa0z9dq2w4YtrTP12rbDhi2tM/XatsOGLa0z9dq2w4YtrTP12rbDhi2tM/XatsOGLa0z9dq2w4YtrTP12rbDhi2tM/XatsOGLa0z9dq2w4YtrTP12rbDhi2tM/XatsOGLa0z9dq2w4YtrTP12rbDhi2tM/XatsOGLa0z9dq2w4YtrTP12rbDhi2tM/XatsOGLa0z9dq2w4YtrTP12rbDhi2tM/XatsOGLa0z9dq2w4YtrTP12rbDhi2tM/XatsOGLa0z9dq2w4YtrTP12rbDhi2tM/XatsOGLa0z9dq2w4YtrTP12rbDhi2tM/XatsOGLa0z9dq2w4YtrTP12rbDhi2tM/XatsOGLa0z9dq2w4YtrTP12rbDhi2tM/XatsOGLa0z9dq2w4YtrTP12rbDhi2tM/XatsOGLa0z9dq2w4YtrTP12rbDhi2tM/XatsOGLa0z9dq2w4YtrTP12rbDhi2tM/XatsOGLa0z9dq2w4YtrTP12rbDhi2tM/XatsOGLa0z801ofG+tDYPzTWh8b60Ng/NNaHxvrQ2D801ofG+tDYPzTWh8b60Ng/NNaHxvrQ2D801ofG+tDYPzTWh8b60Ng/NNaHxvrQ2D801ofG+tDYPzTWh8b60Ng/NNaHxvrQ2D801ofG+tDYPzTWh8b60Ng/NNaHxvrQ2D801ofG+tDYPzTWh8b60Ng/NNaHxvrQ2D801ofG+tDYPzTWh8b60Ng/NNaHxvrQ2D801ofG+tDYPzTWh8b60Ng/NNaHxvrQ2D801ofG+tDYPzTWh8b60Ng/NNaHxvrQ2D801ofG+tDYPzTWh8b60Ng/NNaHxvrQ2D801ofG+tDYPzTWh8b60Ng/NNaHxvrQ2D801ofG+tDYPzTWh8b60Ng/NNaHxvrQ2D801ofG+tDYPzTWh8b60Ng/NNaHxvrQ2D801ofG+tDYPzTWh8b60Ng/NNaHxvrQ2D801ofG+tDYPzTWh8b60Ng/NNaHxvrQ2D801ofG+tDYPzTWh8b60Ng/NNaHxvrQ2D801ofG+tDYPzTWh8b60Ng/DAGjVJPH3T8MAaNUk8fdPwwBo1STx90/DAGjVJPH3T8MAaNUk8fdPwwBo1STx90/DAGjVJPH3T8MAaNUk8fdPwwBo1STx90/DAGjVJPH3T8MAaNUk8fdPwwBo1STx90/DAGjVJPH3T8MAaNUk8fdPwwBo1STx90/DAGjVJPH3T8MAaNUk8fdPwwBo1STx90/DAGjVJPH3T8MAaNUk8fdPwwBo1STx90/DAGjVJPH3T8MAaNUk8fdPwwBo1STx90/DAGjVJPH3T8MAaNUk8fdPwwBo1STx90/DAGjVJPH3T8MAaNUk8fdPwwBo1STx90/DAGjVJPH3T8MAaNUk8fdPwwBo1STx90/DAGjVJPH3T8MAaNUk8fdPwwBo1STx90/DAGjVJPH3T8MAaNUk8fdPwwBo1STx90/DAGjVJPH3T8MAaNUk8fdPwwBo1STx90/DAGjVJPH3T8MAaNUk8fdPwwBo1STx90/DAGjVJPH3T8MAaNUk8fdPwwBo1STx90/DAGjVJPH3T8MAaNUk8fdP/EVX/EVX+E/8RVf8RVf4T/xFV/xFV/hP/EVX/EVX+E/8RVf8RVf4T/xFV/xFV/hP/EVX/EVX+E/8RVf8RVf4T/xFV/xFV/hP/EVX/EVX+E/8RVf8RVf4T/xFV/xFV/hP/EVX/EVX+E/8RVf8RVf4T/xFV/xFV/hP/EVX/EVX+E/8RVf8RVf4T/xFV/xFV/hP/EVX/EVX+E/8RVf8RVf4T/xFV/xFV/hP/EVX/EVX+E/8RVf8RVf4T/xFV/xFV/hP/EVX/EVX+E/8RVf8RVf4T/xFV/xFV/hP/EVX/EVX+E/8RVf8RVf4T/xFV/xFV/hP/EVX/EVX+E/8RVf8RVf4T/xFV/xFV/hP/EVX/EVX+E/8RVf8RVf4T/xFV/xFV/hP/EVX/EVX+E/8RVf8RVf4T/xFV/xFV/hP/EVX/EVX+E/8RVf8RVf4T/xFV/xFV/hP/EVX/EVX+E/8RVf8RVf4T/xFV/xFV/hP/EVX/EVX+E/8RVf8RVf4T/xFV/xFV/hP/EVX/EVX+E/8RVf8RVf4T9dq2w4YtrjP12rbDhi2uM/XatsOGLa4z9dq2w4YtrjP12rbDhi2uM/XatsOGLa4z9dq2w4YtrjP12rbDhi2uM/XatsOGLa4z9dq2w4YtrjP12rbDhi2uM/XatsOGLa4z9dq2w4YtrjP12rbDhi2uM/XatsOGLa4z9dq2w4YtrjP12rbDhi2uM/XatsOGLa4z9dq2w4YtrjP12rbDhi2uM/XatsOGLa4z9dq2w4YtrjP12rbDhi2uM/XatsOGLa4z9dq2w4YtrjP12rbDhi2uM/XatsOGLa4z9dq2w4YtrjP12rbDhi2uM/XatsOGLa4z9dq2w4YtrjP12rbDhi2uM/XatsOGLa4z9dq2w4YtrjP12rbDhi2uM/XatsOGLa4z9dq2w4YtrjP12rbDhi2uM/XatsOGLa4z9dq2w4YtrjP12rbDhi2uM/XatsOGLa4z9dq2w4YtrjP12rbDhi2uM/XatsOGLa4z9dq2w4YtrjP12rbDhi2uM/XatsOGLa4z9dq2w4YtrjP12rbDhi2uM/yUB6f65V5j/JQHp/rlXmP8lAen+uVeY/yUB6f65V5j/JQHp/rlXmP8lAen+uVeY/yUB6f65V5j/JQHp/rlXmP8lAen+uVeY/yUB6f65V5j/JQHp/rlXmP8lAen+uVeY/yUB6f65V5j/JQHp/rlXmP8lAen+uVeY/yUB6f65V5j/JQHp/rlXmP8lAen+uVeY/yUB6f65V5j/JQHp/rlXmP8lAen+uVeY/yUB6f65V5j/JQHp/rlXmP8lAen+uVeY/yUB6f65V5j/JQHp/rlXmP8lAen+uVeY/yUB6f65V5j/JQHp/rlXmP8lAen+uVeY/yUB6f65V5j/JQHp/rlXmP8lAen+uVeY/yUB6f65V5j/JQHp/rlXmP8lAen+uVeY/yUB6f65V5j/JQHp/rlXmP8lAen+uVeY/yUB6f65V5j/JQHp/rlXmP8lAen+uVeY/yUB6f65V5j/JQHp/rlXmP8lAen+uVeY/yUB6f65V5j/JQHp/rlXmP8lAen+uVeY/yUB6f65V5j/JQHp/rlXmPzTWh8b60Og/NNaHxvrQ6D801ofG+tDoPzTWh8b60Og/NNaHxvrQ6D801ofG+tDoPzTWh8b60Og/NNaHxvrQ6D801ofG+tDoPzTWh8b60Og/NNaHxvrQ6D801ofG+tDoPzTWh8b60Og/NNaHxvrQ6D801ofG+tDoPzTWh8b60Og/NNaHxvrQ6D801ofG+tDoPzTWh8b60Og/NNaHxvrQ6D801ofG+tDoPzTWh8b60Og/NNaHxvrQ6D801ofG+tDoPzTWh8b60Og/NNaHxvrQ6D801ofG+tDoPzTWh8b60Og/NNaHxvrQ6D801ofG+tDoPzTWh8b60Og/NNaHxvrQ6D801ofG+tDoPzTWh8b60Og/NNaHxvrQ6D801ofG+tDoPzTWh8b60Og/NNaHxvrQ6D801ofG+tDoPzTWh8b60Og/NNaHxvrQ6D801ofG+tDoPzTWh8b60Og/NNaHxvrQ6D801ofG+tDoPzTWh8b60Og/NNaHxvrQ6D801ofG+tDoPzTWh8b60Og/NNaHxvrQ6D+ga5UNR0zrP6BrlQ1HTOs/oGuVDUdM6z+ga5UNR0zrP6BrlQ1HTOs/oGuVDUdM6z+ga5UNR0zrP6BrlQ1HTOs/oGuVDUdM6z+ga5UNR0zrP6BrlQ1HTOs/oGuVDUdM6z+ga5UNR0zrP6BrlQ1HTOs/oGuVDUdM6z+ga5UNR0zrP6BrlQ1HTOs/oGuVDUdM6z+ga5UNR0zrP6BrlQ1HTOs/oGuVDUdM6z+ga5UNR0zrP6BrlQ1HTOs/oGuVDUdM6z+ga5UNR0zrP6BrlQ1HTOs/oGuVDUdM6z+ga5UNR0zrP6BrlQ1HTOs/oGuVDUdM6z+ga5UNR0zrP6BrlQ1HTOs/oGuVDUdM6z+ga5UNR0zrP6BrlQ1HTOs/oGuVDUdM6z+ga5UNR0zrP6BrlQ1HTOs/oGuVDUdM6z+ga5UNR0zrP6BrlQ1HTOs/oGuVDUdM6z+ga5UNR0zrP6BrlQ1HTOs/oGuVDUdM6z+ga5UNR0zrP6BrlQ1HTOs/oGuVDUdM6z+ga5UNR0zrP6BrlQ1HTOs/DAGjVJPH7T8MAaNUk8ftPwwBo1STx+0/DAGjVJPH7T8MAaNUk8ftPwwBo1STx+0/DAGjVJPH7T8MAaNUk8ftPwwBo1STx+0/DAGjVJPH7T8MAaNUk8ftPwwBo1STx+0/DAGjVJPH7T8MAaNUk8ftPwwBo1STx+0/DAGjVJPH7T8MAaNUk8ftPwwBo1STx+0/DAGjVJPH7T8MAaNUk8ftPwwBo1STx+0/DAGjVJPH7T8MAaNUk8ftPwwBo1STx+0/DAGjVJPH7T8MAaNUk8ftPwwBo1STx+0/DAGjVJPH7T8MAaNUk8ftPwwBo1STx+0/DAGjVJPH7T8MAaNUk8ftPwwBo1STx+0/DAGjVJPH7T8MAaNUk8ftPwwBo1STx+0/DAGjVJPH7T8MAaNUk8ftPwwBo1STx+0/DAGjVJPH7T8MAaNUk8ftPwwBo1STx+0/DAGjVJPH7T8MAaNUk8ftPwwBo1STx+0/DAGjVJPH7T8MAaNUk8ftPwwBo1STx+0/DAGjVJPH7T8MAaNUk8ftPzxL2M1vIfA/PEvYzW8h8D88S9jNbyHwPzxL2M1vIfA/PEvYzW8h8D88S9jNbyHwPzxL2M1vIfA/PEvYzW8h8D88S9jNbyHwPzxL2M1vIfA/PEvYzW8h8D88S9jNbyHwPzxL2M1vIfA/PEvYzW8h8D88S9jNbyHwPzxL2M1vIfA/PEvYzW8h8D88S9jNbyHwPzxL2M1vIfA/PEvYzW8h8D88S9jNbyHwPzxL2M1vIfA/PEvYzW8h8D88S9jNbyHwPzxL2M1vIfA/PEvYzW8h8D88S9jNbyHwPzxL2M1vIfA/PEvYzW8h8D88S9jNbyHwPzxL2M1vIfA/PEvYzW8h8D88S9jNbyHwPzxL2M1vIfA/PEvYzW8h8D88S9jNbyHwPzxL2M1vIfA/PEvYzW8h8D88S9jNbyHwPzxL2M1vIfA/PEvYzW8h8D88S9jNbyHwPzxL2M1vIfA/PEvYzW8h8D88S9jNbyHwPzxL2M1vIfA/PEvYzW8h8D88S9jNbyHwPzxL2M1vIfA/PEvYzW8h8D/xFV/xFV/xP/EVX/EVX/E/8RVf8RVf8T/xFV/xFV/xP/EVX/EVX/E/8RVf8RVf8T/xFV/xFV/xP/EVX/EVX/E/8RVf8RVf8T/xFV/xFV/xP/EVX/EVX/E/8RVf8RVf8T/xFV/xFV/xP/EVX/EVX/E/8RVf8RVf8T/xFV/xFV/xP/EVX/EVX/E/8RVf8RVf8T/xFV/xFV/xP/EVX/EVX/E/8RVf8RVf8T/xFV/xFV/xP/EVX/EVX/E/8RVf8RVf8T/xFV/xFV/xP/EVX/EVX/E/8RVf8RVf8T/xFV/xFV/xP/EVX/EVX/E/8RVf8RVf8T/xFV/xFV/xP/EVX/EVX/E/8RVf8RVf8T/xFV/xFV/xP/EVX/EVX/E/8RVf8RVf8T/xFV/xFV/xP/EVX/EVX/E/8RVf8RVf8T/xFV/xFV/xP/EVX/EVX/E/8RVf8RVf8T/xFV/xFV/xP/EVX/EVX/E/8RVf8RVf8T/xFV/xFV/xP/EVX/EVX/E/8RVf8RVf8T/xFV/xFV/xP/EVX/EVX/E/p+DlFLyc8j+n4OUUvJzyP6fg5RS8nPI/p+DlFLyc8j+n4OUUvJzyP6fg5RS8nPI/p+DlFLyc8j+n4OUUvJzyP6fg5RS8nPI/p+DlFLyc8j+n4OUUvJzyP6fg5RS8nPI/p+DlFLyc8j+n4OUUvJzyP6fg5RS8nPI/p+DlFLyc8j+n4OUUvJzyP6fg5RS8nPI/p+DlFLyc8j+n4OUUvJzyP6fg5RS8nPI/p+DlFLyc8j+n4OUUvJzyP6fg5RS8nPI/p+DlFLyc8j+n4OUUvJzyP6fg5RS8nPI/p+DlFLyc8j+n4OUUvJzyP6fg5RS8nPI/p+DlFLyc8j+n4OUUvJzyP6fg5RS8nPI/p+DlFLyc8j+n4OUUvJzyP6fg5RS8nPI/p+DlFLyc8j+n4OUUvJzyP6fg5RS8nPI/p+DlFLyc8j+n4OUUvJzyP6fg5RS8nPI/p+DlFLyc8j+n4OUUvJzyP6fg5RS8nPI/p+DlFLyc8j+n4OUUvJzyP6fg5RS8nPI/p+DlFLyc8j+n4OUUvJzyP12rbDhi2vM/XatsOGLa8z9dq2w4YtrzP12rbDhi2vM/XatsOGLa8z9dq2w4YtrzP12rbDhi2vM/XatsOGLa8z9dq2w4YtrzP12rbDhi2vM/XatsOGLa8z9dq2w4YtrzP12rbDhi2vM/XatsOGLa8z9dq2w4YtrzP12rbDhi2vM/XatsOGLa8z9dq2w4YtrzP12rbDhi2vM/XatsOGLa8z9dq2w4YtrzP12rbDhi2vM/XatsOGLa8z9dq2w4YtrzP12rbDhi2vM/XatsOGLa8z9dq2w4YtrzP12rbDhi2vM/XatsOGLa8z9dq2w4YtrzP12rbDhi2vM/XatsOGLa8z9dq2w4YtrzP12rbDhi2vM/XatsOGLa8z9dq2w4YtrzP12rbDhi2vM/XatsOGLa8z9dq2w4YtrzP12rbDhi2vM/XatsOGLa8z9dq2w4YtrzP12rbDhi2vM/XatsOGLa8z9dq2w4YtrzP12rbDhi2vM/XatsOGLa8z9dq2w4YtrzP12rbDhi2vM/XatsOGLa8z8TdvNbCBj1PxN281sIGPU/E3bzWwgY9T8TdvNbCBj1PxN281sIGPU/E3bzWwgY9T8TdvNbCBj1PxN281sIGPU/E3bzWwgY9T8TdvNbCBj1PxN281sIGPU/E3bzWwgY9T8TdvNbCBj1PxN281sIGPU/E3bzWwgY9T8TdvNbCBj1PxN281sIGPU/E3bzWwgY9T8TdvNbCBj1PxN281sIGPU/E3bzWwgY9T8TdvNbCBj1PxN281sIGPU/E3bzWwgY9T8TdvNbCBj1PxN281sIGPU/E3bzWwgY9T8TdvNbCBj1PxN281sIGPU/E3bzWwgY9T8TdvNbCBj1PxN281sIGPU/E3bzWwgY9T8TdvNbCBj1PxN281sIGPU/E3bzWwgY9T8TdvNbCBj1PxN281sIGPU/E3bzWwgY9T8TdvNbCBj1PxN281sIGPU/E3bzWwgY9T8TdvNbCBj1PxN281sIGPU/E3bzWwgY9T8TdvNbCBj1PxN281sIGPU/E3bzWwgY9T8TdvNbCBj1PxN281sIGPU/yUB6f65V9j/JQHp/rlX2P8lAen+uVfY/yUB6f65V9j/JQHp/rlX2P8lAen+uVfY/yUB6f65V9j/JQHp/rlX2P8lAen+uVfY/yUB6f65V9j/JQHp/rlX2P8lAen+uVfY/yUB6f65V9j/JQHp/rlX2P8lAen+uVfY/yUB6f65V9j/JQHp/rlX2P8lAen+uVfY/yUB6f65V9j/JQHp/rlX2P8lAen+uVfY/yUB6f65V9j/JQHp/rlX2P8lAen+uVfY/yUB6f65V9j/JQHp/rlX2P8lAen+uVfY/yUB6f65V9j/JQHp/rlX2P8lAen+uVfY/yUB6f65V9j/JQHp/rlX2P8lAen+uVfY/yUB6f65V9j/JQHp/rlX2P8lAen+uVfY/yUB6f65V9j/JQHp/rlX2P8lAen+uVfY/yUB6f65V9j/JQHp/rlX2P8lAen+uVfY/yUB6f65V9j/JQHp/rlX2P8lAen+uVfY/yUB6f65V9j/JQHp/rlX2P8lAen+uVfY/yUB6f65V9j/JQHp/rlX2P34LAaNUk/c/fgsBo1ST9z9+CwGjVJP3P34LAaNUk/c/fgsBo1ST9z9+CwGjVJP3P34LAaNUk/c/fgsBo1ST9z9+CwGjVJP3P34LAaNUk/c/fgsBo1ST9z9+CwGjVJP3P34LAaNUk/c/fgsBo1ST9z9+CwGjVJP3P34LAaNUk/c/fgsBo1ST9z9+CwGjVJP3P34LAaNUk/c/fgsBo1ST9z9+CwGjVJP3P34LAaNUk/c/fgsBo1ST9z9+CwGjVJP3P34LAaNUk/c/fgsBo1ST9z9+CwGjVJP3P34LAaNUk/c/fgsBo1ST9z9+CwGjVJP3P34LAaNUk/c/fgsBo1ST9z9+CwGjVJP3P34LAaNUk/c/fgsBo1ST9z9+CwGjVJP3P34LAaNUk/c/fgsBo1ST9z9+CwGjVJP3P34LAaNUk/c/fgsBo1ST9z9+CwGjVJP3P34LAaNUk/c/fgsBo1ST9z9+CwGjVJP3P34LAaNUk/c/fgsBo1ST9z9+CwGjVJP3P34LAaNUk/c/fgsBo1ST9z801ofG+tD4PzTWh8b60Pg/NNaHxvrQ+D801ofG+tD4PzTWh8b60Pg/NNaHxvrQ+D801ofG+tD4PzTWh8b60Pg/NNaHxvrQ+D801ofG+tD4PzTWh8b60Pg/NNaHxvrQ+D801ofG+tD4PzTWh8b60Pg/NNaHxvrQ+D801ofG+tD4PzTWh8b60Pg/NNaHxvrQ+D801ofG+tD4PzTWh8b60Pg/NNaHxvrQ+D801ofG+tD4PzTWh8b60Pg/NNaHxvrQ+D801ofG+tD4PzTWh8b60Pg/NNaHxvrQ+D801ofG+tD4PzTWh8b60Pg/NNaHxvrQ+D801ofG+tD4PzTWh8b60Pg/NNaHxvrQ+D801ofG+tD4PzTWh8b60Pg/NNaHxvrQ+D801ofG+tD4PzTWh8b60Pg/NNaHxvrQ+D801ofG+tD4PzTWh8b60Pg/NNaHxvrQ+D801ofG+tD4PzTWh8b60Pg/NNaHxvrQ+D801ofG+tD4PzTWh8b60Pg/NNaHxvrQ+D801ofG+tD4PzTWh8b60Pg/6qAO6qAO+j/qoA7qoA76P+qgDuqgDvo/6qAO6qAO+j/qoA7qoA76P+qgDuqgDvo/6qAO6qAO+j/qoA7qoA76P+qgDuqgDvo/6qAO6qAO+j/qoA7qoA76P+qgDuqgDvo/6qAO6qAO+j/qoA7qoA76P+qgDuqgDvo/6qAO6qAO+j/qoA7qoA76P+qgDuqgDvo/6qAO6qAO+j/qoA7qoA76P+qgDuqgDvo/6qAO6qAO+j/qoA7qoA76P+qgDuqgDvo/6qAO6qAO+j/qoA7qoA76P+qgDuqgDvo/6qAO6qAO+j/qoA7qoA76P+qgDuqgDvo/6qAO6qAO+j/qoA7qoA76P+qgDuqgDvo/6qAO6qAO+j/qoA7qoA76P+qgDuqgDvo/6qAO6qAO+j/qoA7qoA76P+qgDuqgDvo/6qAO6qAO+j/qoA7qoA76P+qgDuqgDvo/6qAO6qAO+j/qoA7qoA76P+qgDuqgDvo/6qAO6qAO+j/qoA7qoA76P+qgDuqgDvo/6qAO6qAO+j/qoA7qoA76P6BrlQ1HTPs/oGuVDUdM+z+ga5UNR0z7P6BrlQ1HTPs/oGuVDUdM+z+ga5UNR0z7P6BrlQ1HTPs/oGuVDUdM+z+ga5UNR0z7P6BrlQ1HTPs/oGuVDUdM+z+ga5UNR0z7P6BrlQ1HTPs/oGuVDUdM+z+ga5UNR0z7P6BrlQ1HTPs/oGuVDUdM+z+ga5UNR0z7P6BrlQ1HTPs/oGuVDUdM+z+ga5UNR0z7P6BrlQ1HTPs/oGuVDUdM+z+ga5UNR0z7P6BrlQ1HTPs/oGuVDUdM+z+ga5UNR0z7P6BrlQ1HTPs/oGuVDUdM+z+ga5UNR0z7P6BrlQ1HTPs/oGuVDUdM+z+ga5UNR0z7P6BrlQ1HTPs/oGuVDUdM+z+ga5UNR0z7P6BrlQ1HTPs/oGuVDUdM+z+ga5UNR0z7P6BrlQ1HTPs/oGuVDUdM+z+ga5UNR0z7P6BrlQ1HTPs/oGuVDUdM+z+ga5UNR0z7P6BrlQ1HTPs/oGuVDUdM+z+ga5UNR0z7P6BrlQ1HTPs/oGuVDUdM+z9WNhwx7Yn8P1Y2HDHtifw/VjYcMe2J/D9WNhwx7Yn8P1Y2HDHtifw/VjYcMe2J/D9WNhwx7Yn8P1Y2HDHtifw/VjYcMe2J/D9WNhwx7Yn8P1Y2HDHtifw/VjYcMe2J/D9WNhwx7Yn8P1Y2HDHtifw/VjYcMe2J/D9WNhwx7Yn8P1Y2HDHtifw/VjYcMe2J/D9WNhwx7Yn8P1Y2HDHtifw/VjYcMe2J/D9WNhwx7Yn8P1Y2HDHtifw/VjYcMe2J/D9WNhwx7Yn8P1Y2HDHtifw/VjYcMe2J/D9WNhwx7Yn8P1Y2HDHtifw/VjYcMe2J/D9WNhwx7Yn8P1Y2HDHtifw/VjYcMe2J/D9WNhwx7Yn8P1Y2HDHtifw/VjYcMe2J/D9WNhwx7Yn8P1Y2HDHtifw/VjYcMe2J/D9WNhwx7Yn8P1Y2HDHtifw/VjYcMe2J/D9WNhwx7Yn8P1Y2HDHtifw/VjYcMe2J/D9WNhwx7Yn8P1Y2HDHtifw/VjYcMe2J/D9WNhwx7Yn8P1Y2HDHtifw/DAGjVJPH/T8MAaNUk8f9PwwBo1STx/0/DAGjVJPH/T8MAaNUk8f9PwwBo1STx/0/DAGjVJPH/T8MAaNUk8f9PwwBo1STx/0/DAGjVJPH/T8MAaNUk8f9PwwBo1STx/0/DAGjVJPH/T8MAaNUk8f9PwwBo1STx/0/DAGjVJPH/T8MAaNUk8f9PwwBo1STx/0/DAGjVJPH/T8MAaNUk8f9PwwBo1STx/0/DAGjVJPH/T8MAaNUk8f9PwwBo1STx/0/DAGjVJPH/T8MAaNUk8f9PwwBo1STx/0/DAGjVJPH/T8MAaNUk8f9PwwBo1STx/0/DAGjVJPH/T8MAaNUk8f9PwwBo1STx/0/DAGjVJPH/T8MAaNUk8f9PwwBo1STx/0/DAGjVJPH/T8MAaNUk8f9PwwBo1STx/0/DAGjVJPH/T8MAaNUk8f9PwwBo1STx/0/DAGjVJPH/T8MAaNUk8f9PwwBo1STx/0/DAGjVJPH/T8MAaNUk8f9PwwBo1STx/0/DAGjVJPH/T8MAaNUk8f9P8HLKXg5Bf8/wcspeDkF/z/Byyl4OQX/P8HLKXg5Bf8/wcspeDkF/z/Byyl4OQX/P8HLKXg5Bf8/wcspeDkF/z/Byyl4OQX/P8HLKXg5Bf8/wcspeDkF/z/Byyl4OQX/P8HLKXg5Bf8/wcspeDkF/z/Byyl4OQX/P8HLKXg5Bf8/wcspeDkF/z/Byyl4OQX/P8HLKXg5Bf8/wcspeDkF/z/Byyl4OQX/P8HLKXg5Bf8/wcspeDkF/z/Byyl4OQX/P8HLKXg5Bf8/wcspeDkF/z/Byyl4OQX/P8HLKXg5Bf8/wcspeDkF/z/Byyl4OQX/P8HLKXg5Bf8/wcspeDkF/z/Byyl4OQX/P8HLKXg5Bf8/wcspeDkF/z/Byyl4OQX/P8HLKXg5Bf8/wcspeDkF/z/Byyl4OQX/P8HLKXg5Bf8/wcspeDkF/z/Byyl4OQX/P8HLKXg5Bf8/wcspeDkF/z/Byyl4OQX/P8HLKXg5Bf8/wcspeDkF/z/Byyl4OQX/P8HLKXg5Bf8/wcspeDkF/z88S9jNbyEAQDxL2M1vIQBAPEvYzW8hAEA8S9jNbyEAQDxL2M1vIQBAPEvYzW8hAEA8S9jNbyEAQDxL2M1vIQBAPEvYzW8hAEA8S9jNbyEAQDxL2M1vIQBAPEvYzW8hAEA8S9jNbyEAQDxL2M1vIQBAPEvYzW8hAEA8S9jNbyEAQDxL2M1vIQBAPEvYzW8hAEA8S9jNbyEAQDxL2M1vIQBAPEvYzW8hAEA8S9jNbyEAQDxL2M1vIQBAPEvYzW8hAEA8S9jNbyEAQDxL2M1vIQBAPEvYzW8hAEA8S9jNbyEAQDxL2M1vIQBAPEvYzW8hAEA8S9jNbyEAQDxL2M1vIQBAPEvYzW8hAEA8S9jNbyEAQDxL2M1vIQBAPEvYzW8hAEA8S9jNbyEAQDxL2M1vIQBAPEvYzW8hAEA8S9jNbyEAQDxL2M1vIQBAPEvYzW8hAEA8S9jNbyEAQDxL2M1vIQBAPEvYzW8hAEA8S9jNbyEAQDxL2M1vIQBAPEvYzW8hAEA8S9jNbyEAQDxL2M1vIQBAlrCb30LAAECWsJvfQsAAQJawm99CwABAlrCb30LAAECWsJvfQsAAQJawm99CwABAlrCb30LAAECWsJvfQsAAQJawm99CwABAlrCb30LAAECWsJvfQsAAQJawm99CwABAlrCb30LAAECWsJvfQsAAQJawm99CwABAlrCb30LAAECWsJvfQsAAQJawm99CwABAlrCb30LAAECWsJvfQsAAQJawm99CwABAlrCb30LAAECWsJvfQsAAQJawm99CwABAlrCb30LAAECWsJvfQsAAQJawm99CwABAlrCb30LAAECWsJvfQsAAQJawm99CwABAlrCb30LAAECWsJvfQsAAQJawm99CwABAlrCb30LAAECWsJvfQsAAQJawm99CwABAlrCb30LAAECWsJvfQsAAQJawm99CwABAlrCb30LAAECWsJvfQsAAQJawm99CwABAlrCb30LAAECWsJvfQsAAQJawm99CwABAlrCb30LAAECWsJvfQsAAQJawm99CwABAlrCb30LAAECWsJvfQsAAQPEVX/EVXwFA8RVf8RVfAUDxFV/xFV8BQPEVX/EVXwFA8RVf8RVfAUDxFV/xFV8BQPEVX/EVXwFA8RVf8RVfAUDxFV/xFV8BQPEVX/EVXwFA8RVf8RVfAUDxFV/xFV8BQPEVX/EVXwFA8RVf8RVfAUDxFV/xFV8BQPEVX/EVXwFA8RVf8RVfAUDxFV/xFV8BQPEVX/EVXwFA8RVf8RVfAUDxFV/xFV8BQPEVX/EVXwFA8RVf8RVfAUDxFV/xFV8BQPEVX/EVXwFA8RVf8RVfAUDxFV/xFV8BQPEVX/EVXwFA8RVf8RVfAUDxFV/xFV8BQPEVX/EVXwFA8RVf8RVfAUDxFV/xFV8BQPEVX/EVXwFA8RVf8RVfAUDxFV/xFV8BQPEVX/EVXwFA8RVf8RVfAUDxFV/xFV8BQPEVX/EVXwFA8RVf8RVfAUDxFV/xFV8BQPEVX/EVXwFA8RVf8RVfAUDxFV/xFV8BQPEVX/EVXwFA8RVf8RVfAUDxFV/xFV8BQPEVX/EVXwFA8RVf8RVfAUBMeyID6f0BQEx7IgPp/QFATHsiA+n9AUBMeyID6f0BQEx7IgPp/QFATHsiA+n9AUBMeyID6f0BQEx7IgPp/QFATHsiA+n9AUBMeyID6f0BQEx7IgPp/QFATHsiA+n9AUBMeyID6f0BQEx7IgPp/QFATHsiA+n9AUBMeyID6f0BQEx7IgPp/QFATHsiA+n9AUBMeyID6f0BQEx7IgPp/QFATHsiA+n9AUBMeyID6f0BQEx7IgPp/QFATHsiA+n9AUBMeyID6f0BQEx7IgPp/QFATHsiA+n9AUBMeyID6f0BQEx7IgPp/QFATHsiA+n9AUBMeyID6f0BQEx7IgPp/QFATHsiA+n9AUBMeyID6f0BQEx7IgPp/QFATHsiA+n9AUBMeyID6f0BQEx7IgPp/QFATHsiA+n9AUBMeyID6f0BQEx7IgPp/QFATHsiA+n9AUBMeyID6f0BQEx7IgPp/QFATHsiA+n9AUBMeyID6f0BQEx7IgPp/QFATHsiA+n9AUBMeyID6f0BQEx7IgPp/QFAp+DlFLycAkCn4OUUvJwCQKfg5RS8nAJAp+DlFLycAkCn4OUUvJwCQKfg5RS8nAJAp+DlFLycAkCn4OUUvJwCQKfg5RS8nAJAp+DlFLycAkCn4OUUvJwCQKfg5RS8nAJAp+DlFLycAkCn4OUUvJwCQKfg5RS8nAJAp+DlFLycAkCn4OUUvJwCQKfg5RS8nAJAp+DlFLycAkCn4OUUvJwCQKfg5RS8nAJAp+DlFLycAkCn4OUUvJwCQKfg5RS8nAJAp+DlFLycAkCn4OUUvJwCQKfg5RS8nAJAp+DlFLycAkCn4OUUvJwCQKfg5RS8nAJAp+DlFLycAkCn4OUUvJwCQKfg5RS8nAJAp+DlFLycAkCn4OUUvJwCQKfg5RS8nAJAp+DlFLycAkCn4OUUvJwCQKfg5RS8nAJAp+DlFLycAkCn4OUUvJwCQKfg5RS8nAJAp+DlFLycAkCn4OUUvJwCQKfg5RS8nAJAp+DlFLycAkCn4OUUvJwCQKfg5RS8nAJAp+DlFLycAkCn4OUUvJwCQAJGqSaPOwNAAkapJo87A0ACRqkmjzsDQAJGqSaPOwNAAkapJo87A0ACRqkmjzsDQAJGqSaPOwNAAkapJo87A0ACRqkmjzsDQAJGqSaPOwNAAkapJo87A0ACRqkmjzsDQAJGqSaPOwNAAkapJo87A0ACRqkmjzsDQAJGqSaPOwNAAkapJo87A0ACRqkmjzsDQAJGqSaPOwNAAkapJo87A0ACRqkmjzsDQAJGqSaPOwNAAkapJo87A0ACRqkmjzsDQAJGqSaPOwNAAkapJo87A0ACRqkmjzsDQAJGqSaPOwNAAkapJo87A0ACRqkmjzsDQAJGqSaPOwNAAkapJo87A0ACRqkmjzsDQAJGqSaPOwNAAkapJo87A0ACRqkmjzsDQAJGqSaPOwNAAkapJo87A0ACRqkmjzsDQAJGqSaPOwNAAkapJo87A0ACRqkmjzsDQAJGqSaPOwNAAkapJo87A0ACRqkmjzsDQAJGqSaPOwNAAkapJo87A0ACRqkmjzsDQAJGqSaPOwNAAkapJo87A0Bdq2w4YtoDQF2rbDhi2gNAXatsOGLaA0Bdq2w4YtoDQF2rbDhi2gNAXatsOGLaA0Bdq2w4YtoDQF2rbDhi2gNAXatsOGLaA0Bdq2w4YtoDQF2rbDhi2gNAXatsOGLaA0Bdq2w4YtoDQF2rbDhi2gNAXatsOGLaA0Bdq2w4YtoDQF2rbDhi2gNAXatsOGLaA0Bdq2w4YtoDQF2rbDhi2gNAXatsOGLaA0Bdq2w4YtoDQF2rbDhi2gNAXatsOGLaA0Bdq2w4YtoDQF2rbDhi2gNAXatsOGLaA0Bdq2w4YtoDQF2rbDhi2gNAXatsOGLaA0Bdq2w4YtoDQF2rbDhi2gNAXatsOGLaA0Bdq2w4YtoDQF2rbDhi2gNAXatsOGLaA0Bdq2w4YtoDQF2rbDhi2gNAXatsOGLaA0Bdq2w4YtoDQF2rbDhi2gNAXatsOGLaA0Bdq2w4YtoDQF2rbDhi2gNAXatsOGLaA0Bdq2w4YtoDQF2rbDhi2gNAXatsOGLaA0Bdq2w4YtoDQF2rbDhi2gNAuBAwSjV5BEC4EDBKNXkEQLgQMEo1eQRAuBAwSjV5BEC4EDBKNXkEQLgQMEo1eQRAuBAwSjV5BEC4EDBKNXkEQLgQMEo1eQRAuBAwSjV5BEC4EDBKNXkEQLgQMEo1eQRAuBAwSjV5BEC4EDBKNXkEQLgQMEo1eQRAuBAwSjV5BEC4EDBKNXkEQLgQMEo1eQRAuBAwSjV5BEC4EDBKNXkEQLgQMEo1eQRAuBAwSjV5BEC4EDBKNXkEQLgQMEo1eQRAuBAwSjV5BEC4EDBKNXkEQLgQMEo1eQRAuBAwSjV5BEC4EDBKNXkEQLgQMEo1eQRAuBAwSjV5BEC4EDBKNXkEQLgQMEo1eQRAuBAwSjV5BEC4EDBKNXkEQLgQMEo1eQRAuBAwSjV5BEC4EDBKNXkEQLgQMEo1eQRAuBAwSjV5BEC4EDBKNXkEQLgQMEo1eQRAuBAwSjV5BEC4EDBKNXkEQLgQMEo1eQRAuBAwSjV5BEC4EDBKNXkEQLgQMEo1eQRAuBAwSjV5BEC4EDBKNXkEQBN281sIGAVAE3bzWwgYBUATdvNbCBgFQBN281sIGAVAE3bzWwgYBUATdvNbCBgFQBN281sIGAVAE3bzWwgYBUATdvNbCBgFQBN281sIGAVAE3bzWwgYBUATdvNbCBgFQBN281sIGAVAE3bzWwgYBUATdvNbCBgFQBN281sIGAVAE3bzWwgYBUATdvNbCBgFQBN281sIGAVAE3bzWwgYBUATdvNbCBgFQBN281sIGAVAE3bzWwgYBUATdvNbCBgFQBN281sIGAVAE3bzWwgYBUATdvNbCBgFQBN281sIGAVAE3bzWwgYBUATdvNbCBgFQBN281sIGAVAE3bzWwgYBUATdvNbCBgFQBN281sIGAVAE3bzWwgYBUATdvNbCBgFQBN281sIGAVAE3bzWwgYBUATdvNbCBgFQBN281sIGAVAE3bzWwgYBUATdvNbCBgFQBN281sIGAVAE3bzWwgYBUATdvNbCBgFQBN281sIGAVAE3bzWwgYBUATdvNbCBgFQBN281sIGAVAE3bzWwgYBUBu27Zt27YFQG7btm3btgVAbtu2bdu2BUBu27Zt27YFQG7btm3btgVAbtu2bdu2BUBu27Zt27YFQG7btm3btgVAbtu2bdu2BUBu27Zt27YFQG7btm3btgVAbtu2bdu2BUBu27Zt27YFQG7btm3btgVAbtu2bdu2BUBu27Zt27YFQG7btm3btgVAbtu2bdu2BUBu27Zt27YFQG7btm3btgVAbtu2bdu2BUBu27Zt27YFQG7btm3btgVAbtu2bdu2BUBu27Zt27YFQG7btm3btgVAbtu2bdu2BUBu27Zt27YFQG7btm3btgVAbtu2bdu2BUBu27Zt27YFQG7btm3btgVAbtu2bdu2BUBu27Zt27YFQG7btm3btgVAbtu2bdu2BUBu27Zt27YFQG7btm3btgVAbtu2bdu2BUBu27Zt27YFQG7btm3btgVAbtu2bdu2BUBu27Zt27YFQG7btm3btgVAbtu2bdu2BUBu27Zt27YFQG7btm3btgVAbtu2bdu2BUBu27Zt27YFQG7btm3btgVAyUB6f65VBkDJQHp/rlUGQMlAen+uVQZAyUB6f65VBkDJQHp/rlUGQMlAen+uVQZAyUB6f65VBkDJQHp/rlUGQMlAen+uVQZAyUB6f65VBkDJQHp/rlUGQMlAen+uVQZAyUB6f65VBkDJQHp/rlUGQMlAen+uVQZAyUB6f65VBkDJQHp/rlUGQMlAen+uVQZAyUB6f65VBkDJQHp/rlUGQMlAen+uVQZAyUB6f65VBkDJQHp/rlUGQMlAen+uVQZAyUB6f65VBkDJQHp/rlUGQMlAen+uVQZAyUB6f65VBkDJQHp/rlUGQMlAen+uVQZAyUB6f65VBkDJQHp/rlUGQMlAen+uVQZAyUB6f65VBkDJQHp/rlUGQMlAen+uVQZAyUB6f65VBkDJQHp/rlUGQMlAen+uVQZAyUB6f65VBkDJQHp/rlUGQMlAen+uVQZAyUB6f65VBkDJQHp/rlUGQMlAen+uVQZAyUB6f65VBkDJQHp/rlUGQMlAen+uVQZAyUB6f65VBkDJQHp/rlUGQCSmPZGB9AZAJKY9kYH0BkAkpj2RgfQGQCSmPZGB9AZAJKY9kYH0BkAkpj2RgfQGQCSmPZGB9AZAJKY9kYH0BkAkpj2RgfQGQCSmPZGB9AZAJKY9kYH0BkAkpj2RgfQGQCSmPZGB9AZAJKY9kYH0BkAkpj2RgfQGQCSmPZGB9AZAJKY9kYH0BkAkpj2RgfQGQCSmPZGB9AZAJKY9kYH0BkAkpj2RgfQGQCSmPZGB9AZAJKY9kYH0BkAkpj2RgfQGQCSmPZGB9AZAJKY9kYH0BkAkpj2RgfQGQCSmPZGB9AZAJKY9kYH0BkAkpj2RgfQGQCSmPZGB9AZAJKY9kYH0BkAkpj2RgfQGQCSmPZGB9AZAJKY9kYH0BkAkpj2RgfQGQCSmPZGB9AZAJKY9kYH0BkAkpj2RgfQGQCSmPZGB9AZAJKY9kYH0BkAkpj2RgfQGQCSmPZGB9AZAJKY9kYH0BkAkpj2RgfQGQCSmPZGB9AZAJKY9kYH0BkAkpj2RgfQGQCSmPZGB9AZAJKY9kYH0BkB+CwGjVJMHQH4LAaNUkwdAfgsBo1STB0B+CwGjVJMHQH4LAaNUkwdAfgsBo1STB0B+CwGjVJMHQH4LAaNUkwdAfgsBo1STB0B+CwGjVJMHQH4LAaNUkwdAfgsBo1STB0B+CwGjVJMHQH4LAaNUkwdAfgsBo1STB0B+CwGjVJMHQH4LAaNUkwdAfgsBo1STB0B+CwGjVJMHQH4LAaNUkwdAfgsBo1STB0B+CwGjVJMHQH4LAaNUkwdAfgsBo1STB0B+CwGjVJMHQH4LAaNUkwdAfgsBo1STB0B+CwGjVJMHQH4LAaNUkwdAfgsBo1STB0B+CwGjVJMHQH4LAaNUkwdAfgsBo1STB0B+CwGjVJMHQH4LAaNUkwdAfgsBo1STB0B+CwGjVJMHQH4LAaNUkwdAfgsBo1STB0B+CwGjVJMHQH4LAaNUkwdAfgsBo1STB0B+CwGjVJMHQH4LAaNUkwdAfgsBo1STB0B+CwGjVJMHQH4LAaNUkwdAfgsBo1STB0B+CwGjVJMHQH4LAaNUkwdA2XDEtCcyCEDZcMS0JzIIQNlwxLQnMghA2XDEtCcyCEDZcMS0JzIIQNlwxLQnMghA2XDEtCcyCEDZcMS0JzIIQNlwxLQnMghA2XDEtCcyCEDZcMS0JzIIQNlwxLQnMghA2XDEtCcyCEDZcMS0JzIIQNlwxLQnMghA2XDEtCcyCEDZcMS0JzIIQNlwxLQnMghA2XDEtCcyCEDZcMS0JzIIQNlwxLQnMghA2XDEtCcyCEDZcMS0JzIIQNlwxLQnMghA2XDEtCcyCEDZcMS0JzIIQNlwxLQnMghA2XDEtCcyCEDZcMS0JzIIQNlwxLQnMghA2XDEtCcyCEDZcMS0JzIIQNlwxLQnMghA2XDEtCcyCEDZcMS0JzIIQNlwxLQnMghA2XDEtCcyCEDZcMS0JzIIQNlwxLQnMghA2XDEtCcyCEDZcMS0JzIIQNlwxLQnMghA2XDEtCcyCEDZcMS0JzIIQNlwxLQnMghA2XDEtCcyCEDZcMS0JzIIQNlwxLQnMghA2XDEtCcyCEDZcMS0JzIIQDTWh8b60AhANNaHxvrQCEA01ofG+tAIQDTWh8b60AhANNaHxvrQCEA01ofG+tAIQDTWh8b60AhANNaHxvrQCEA01ofG+tAIQDTWh8b60AhANNaHxvrQCEA01ofG+tAIQDTWh8b60AhANNaHxvrQCEA01ofG+tAIQDTWh8b60AhANNaHxvrQCEA01ofG+tAIQDTWh8b60AhANNaHxvrQCEA01ofG+tAIQDTWh8b60AhANNaHxvrQCEA01ofG+tAIQDTWh8b60AhANNaHxvrQCEA01ofG+tAIQDTWh8b60AhANNaHxvrQCEA01ofG+tAIQDTWh8b60AhANNaHxvrQCEA01ofG+tAIQDTWh8b60AhANNaHxvrQCEA01ofG+tAIQDTWh8b60AhANNaHxvrQCEA01ofG+tAIQDTWh8b60AhANNaHxvrQCEA01ofG+tAIQDTWh8b60AhANNaHxvrQCEA01ofG+tAIQDTWh8b60AhANNaHxvrQCEA01ofG+tAIQDTWh8b60AhANNaHxvrQCECPO0vYzW8JQI87S9jNbwlAjztL2M1vCUCPO0vYzW8JQI87S9jNbwlAjztL2M1vCUCPO0vYzW8JQI87S9jNbwlAjztL2M1vCUCPO0vYzW8JQI87S9jNbwlAjztL2M1vCUCPO0vYzW8JQI87S9jNbwlAjztL2M1vCUCPO0vYzW8JQI87S9jNbwlAjztL2M1vCUCPO0vYzW8JQI87S9jNbwlAjztL2M1vCUCPO0vYzW8JQI87S9jNbwlAjztL2M1vCUCPO0vYzW8JQI87S9jNbwlAjztL2M1vCUCPO0vYzW8JQI87S9jNbwlAjztL2M1vCUCPO0vYzW8JQI87S9jNbwlAjztL2M1vCUCPO0vYzW8JQI87S9jNbwlAjztL2M1vCUCPO0vYzW8JQI87S9jNbwlAjztL2M1vCUCPO0vYzW8JQI87S9jNbwlAjztL2M1vCUCPO0vYzW8JQI87S9jNbwlAjztL2M1vCUCPO0vYzW8JQI87S9jNbwlAjztL2M1vCUCPO0vYzW8JQI87S9jNbwlA6qAO6qAOCkDqoA7qoA4KQOqgDuqgDgpA6qAO6qAOCkDqoA7qoA4KQOqgDuqgDgpA6qAO6qAOCkDqoA7qoA4KQOqgDuqgDgpA6qAO6qAOCkDqoA7qoA4KQOqgDuqgDgpA6qAO6qAOCkDqoA7qoA4KQOqgDuqgDgpA6qAO6qAOCkDqoA7qoA4KQOqgDuqgDgpA6qAO6qAOCkDqoA7qoA4KQOqgDuqgDgpA6qAO6qAOCkDqoA7qoA4KQOqgDuqgDgpA6qAO6qAOCkDqoA7qoA4KQOqgDuqgDgpA6qAO6qAOCkDqoA7qoA4KQOqgDuqgDgpA6qAO6qAOCkDqoA7qoA4KQOqgDuqgDgpA6qAO6qAOCkDqoA7qoA4KQOqgDuqgDgpA6qAO6qAOCkDqoA7qoA4KQOqgDuqgDgpA6qAO6qAOCkDqoA7qoA4KQOqgDuqgDgpA6qAO6qAOCkDqoA7qoA4KQOqgDuqgDgpA6qAO6qAOCkDqoA7qoA4KQOqgDuqgDgpA6qAO6qAOCkDqoA7qoA4KQEUG0vtzrQpARQbS+3OtCkBFBtL7c60KQEUG0vtzrQpARQbS+3OtCkBFBtL7c60KQEUG0vtzrQpARQbS+3OtCkBFBtL7c60KQEUG0vtzrQpARQbS+3OtCkBFBtL7c60KQEUG0vtzrQpARQbS+3OtCkBFBtL7c60KQEUG0vtzrQpARQbS+3OtCkBFBtL7c60KQEUG0vtzrQpARQbS+3OtCkBFBtL7c60KQEUG0vtzrQpARQbS+3OtCkBFBtL7c60KQEUG0vtzrQpARQbS+3OtCkBFBtL7c60KQEUG0vtzrQpARQbS+3OtCkBFBtL7c60KQEUG0vtzrQpARQbS+3OtCkBFBtL7c60KQEUG0vtzrQpARQbS+3OtCkBFBtL7c60KQEUG0vtzrQpARQbS+3OtCkBFBtL7c60KQEUG0vtzrQpARQbS+3OtCkBFBtL7c60KQEUG0vtzrQpARQbS+3OtCkBFBtL7c60KQEUG0vtzrQpARQbS+3OtCkBFBtL7c60KQEUG0vtzrQpARQbS+3OtCkCga5UNR0wLQKBrlQ1HTAtAoGuVDUdMC0Cga5UNR0wLQKBrlQ1HTAtAoGuVDUdMC0Cga5UNR0wLQKBrlQ1HTAtAoGuVDUdMC0Cga5UNR0wLQKBrlQ1HTAtAoGuVDUdMC0Cga5UNR0wLQKBrlQ1HTAtAoGuVDUdMC0Cga5UNR0wLQKBrlQ1HTAtAoGuVDUdMC0Cga5UNR0wLQKBrlQ1HTAtAoGuVDUdMC0Cga5UNR0wLQKBrlQ1HTAtAoGuVDUdMC0Cga5UNR0wLQKBrlQ1HTAtAoGuVDUdMC0Cga5UNR0wLQKBrlQ1HTAtAoGuVDUdMC0Cga5UNR0wLQKBrlQ1HTAtAoGuVDUdMC0Cga5UNR0wLQKBrlQ1HTAtAoGuVDUdMC0Cga5UNR0wLQKBrlQ1HTAtAoGuVDUdMC0Cga5UNR0wLQKBrlQ1HTAtAoGuVDUdMC0Cga5UNR0wLQKBrlQ1HTAtAoGuVDUdMC0Cga5UNR0wLQKBrlQ1HTAtAoGuVDUdMC0Cga5UNR0wLQKBrlQ1HTAtA+9BYHxrrC0D70FgfGusLQPvQWB8a6wtA+9BYHxrrC0D70FgfGusLQPvQWB8a6wtA+9BYHxrrC0D70FgfGusLQPvQWB8a6wtA+9BYHxrrC0D70FgfGusLQPvQWB8a6wtA+9BYHxrrC0D70FgfGusLQPvQWB8a6wtA+9BYHxrrC0D70FgfGusLQPvQWB8a6wtA+9BYHxrrC0D70FgfGusLQPvQWB8a6wtA+9BYHxrrC0D70FgfGusLQPvQWB8a6wtA+9BYHxrrC0D70FgfGusLQPvQWB8a6wtA+9BYHxrrC0D70FgfGusLQPvQWB8a6wtA+9BYHxrrC0D70FgfGusLQPvQWB8a6wtA+9BYHxrrC0D70FgfGusLQPvQWB8a6wtA+9BYHxrrC0D70FgfGusLQPvQWB8a6wtA+9BYHxrrC0D70FgfGusLQPvQWB8a6wtA+9BYHxrrC0D70FgfGusLQPvQWB8a6wtA+9BYHxrrC0D70FgfGusLQPvQWB8a6wtA+9BYHxrrC0D70FgfGusLQFY2HDHtiQxAVjYcMe2JDEBWNhwx7YkMQFY2HDHtiQxAVjYcMe2JDEBWNhwx7YkMQFY2HDHtiQxAVjYcMe2JDEBWNhwx7YkMQFY2HDHtiQxAVjYcMe2JDEBWNhwx7YkMQFY2HDHtiQxAVjYcMe2JDEBWNhwx7YkMQFY2HDHtiQxAVjYcMe2JDEBWNhwx7YkMQFY2HDHtiQxAVjYcMe2JDEBWNhwx7YkMQFY2HDHtiQxAVjYcMe2JDEBWNhwx7YkMQFY2HDHtiQxAVjYcMe2JDEBWNhwx7YkMQFY2HDHtiQxAVjYcMe2JDEBWNhwx7YkMQFY2HDHtiQxAVjYcMe2JDEBWNhwx7YkMQFY2HDHtiQxAVjYcMe2JDEBWNhwx7YkMQFY2HDHtiQxAVjYcMe2JDEBWNhwx7YkMQFY2HDHtiQxAVjYcMe2JDEBWNhwx7YkMQFY2HDHtiQxAVjYcMe2JDEBWNhwx7YkMQFY2HDHtiQxAVjYcMe2JDEBWNhwx7YkMQFY2HDHtiQxAVjYcMe2JDECxm99CwCgNQLGb30LAKA1AsZvfQsAoDUCxm99CwCgNQLGb30LAKA1AsZvfQsAoDUCxm99CwCgNQLGb30LAKA1AsZvfQsAoDUCxm99CwCgNQLGb30LAKA1AsZvfQsAoDUCxm99CwCgNQLGb30LAKA1AsZvfQsAoDUCxm99CwCgNQLGb30LAKA1AsZvfQsAoDUCxm99CwCgNQLGb30LAKA1AsZvfQsAoDUCxm99CwCgNQLGb30LAKA1AsZvfQsAoDUCxm99CwCgNQLGb30LAKA1AsZvfQsAoDUCxm99CwCgNQLGb30LAKA1AsZvfQsAoDUCxm99CwCgNQLGb30LAKA1AsZvfQsAoDUCxm99CwCgNQLGb30LAKA1AsZvfQsAoDUCxm99CwCgNQLGb30LAKA1AsZvfQsAoDUCxm99CwCgNQLGb30LAKA1AsZvfQsAoDUCxm99CwCgNQLGb30LAKA1AsZvfQsAoDUCxm99CwCgNQLGb30LAKA1AsZvfQsAoDUCxm99CwCgNQLGb30LAKA1ADAGjVJPHDUAMAaNUk8cNQAwBo1STxw1ADAGjVJPHDUAMAaNUk8cNQAwBo1STxw1ADAGjVJPHDUAMAaNUk8cNQAwBo1STxw1ADAGjVJPHDUAMAaNUk8cNQAwBo1STxw1ADAGjVJPHDUAMAaNUk8cNQAwBo1STxw1ADAGjVJPHDUAMAaNUk8cNQAwBo1STxw1ADAGjVJPHDUAMAaNUk8cNQAwBo1STxw1ADAGjVJPHDUAMAaNUk8cNQAwBo1STxw1ADAGjVJPHDUAMAaNUk8cNQAwBo1STxw1ADAGjVJPHDUAMAaNUk8cNQAwBo1STxw1ADAGjVJPHDUAMAaNUk8cNQAwBo1STxw1ADAGjVJPHDUAMAaNUk8cNQAwBo1STxw1ADAGjVJPHDUAMAaNUk8cNQAwBo1STxw1ADAGjVJPHDUAMAaNUk8cNQAwBo1STxw1ADAGjVJPHDUAMAaNUk8cNQAwBo1STxw1ADAGjVJPHDUAMAaNUk8cNQAwBo1STxw1ADAGjVJPHDUAMAaNUk8cNQGZmZmZmZg5AZmZmZmZmDkBmZmZmZmYOQGZmZmZmZg5AZmZmZmZmDkBmZmZmZmYOQGZmZmZmZg5AZmZmZmZmDkBmZmZmZmYOQGZmZmZmZg5AZmZmZmZmDkBmZmZmZmYOQGZmZmZmZg5AZmZmZmZmDkBmZmZmZmYOQGZmZmZmZg5AZmZmZmZmDkBmZmZmZmYOQGZmZmZmZg5AZmZmZmZmDkBmZmZmZmYOQGZmZmZmZg5AZmZmZmZmDkBmZmZmZmYOQGZmZmZmZg5AZmZmZmZmDkBmZmZmZmYOQGZmZmZmZg5AZmZmZmZmDkBmZmZmZmYOQGZmZmZmZg5AZmZmZmZmDkBmZmZmZmYOQGZmZmZmZg5AZmZmZmZmDkBmZmZmZmYOQGZmZmZmZg5AZmZmZmZmDkBmZmZmZmYOQGZmZmZmZg5AZmZmZmZmDkBmZmZmZmYOQGZmZmZmZg5AZmZmZmZmDkBmZmZmZmYOQGZmZmZmZg5AZmZmZmZmDkBmZmZmZmYOQGZmZmZmZg5AZmZmZmZmDkA=",
          "dtype": "f8",
          "shape": "50, 50"
         }
        }
       ],
       "layout": {
        "scene": {
         "xaxis": {
          "visible": false
         },
         "yaxis": {
          "visible": false
         },
         "zaxis": {
          "title": {
           "text": "Altura (m)"
          }
         }
        },
        "template": {
         "data": {
          "bar": [
           {
            "error_x": {
             "color": "#2a3f5f"
            },
            "error_y": {
             "color": "#2a3f5f"
            },
            "marker": {
             "line": {
              "color": "#E5ECF6",
              "width": 0.5
             },
             "pattern": {
              "fillmode": "overlay",
              "size": 10,
              "solidity": 0.2
             }
            },
            "type": "bar"
           }
          ],
          "barpolar": [
           {
            "marker": {
             "line": {
              "color": "#E5ECF6",
              "width": 0.5
             },
             "pattern": {
              "fillmode": "overlay",
              "size": 10,
              "solidity": 0.2
             }
            },
            "type": "barpolar"
           }
          ],
          "carpet": [
           {
            "aaxis": {
             "endlinecolor": "#2a3f5f",
             "gridcolor": "white",
             "linecolor": "white",
             "minorgridcolor": "white",
             "startlinecolor": "#2a3f5f"
            },
            "baxis": {
             "endlinecolor": "#2a3f5f",
             "gridcolor": "white",
             "linecolor": "white",
             "minorgridcolor": "white",
             "startlinecolor": "#2a3f5f"
            },
            "type": "carpet"
           }
          ],
          "choropleth": [
           {
            "colorbar": {
             "outlinewidth": 0,
             "ticks": ""
            },
            "type": "choropleth"
           }
          ],
          "contour": [
           {
            "colorbar": {
             "outlinewidth": 0,
             "ticks": ""
            },
            "colorscale": [
             [
              0,
              "#0d0887"
             ],
             [
              0.1111111111111111,
              "#46039f"
             ],
             [
              0.2222222222222222,
              "#7201a8"
             ],
             [
              0.3333333333333333,
              "#9c179e"
             ],
             [
              0.4444444444444444,
              "#bd3786"
             ],
             [
              0.5555555555555556,
              "#d8576b"
             ],
             [
              0.6666666666666666,
              "#ed7953"
             ],
             [
              0.7777777777777778,
              "#fb9f3a"
             ],
             [
              0.8888888888888888,
              "#fdca26"
             ],
             [
              1,
              "#f0f921"
             ]
            ],
            "type": "contour"
           }
          ],
          "contourcarpet": [
           {
            "colorbar": {
             "outlinewidth": 0,
             "ticks": ""
            },
            "type": "contourcarpet"
           }
          ],
          "heatmap": [
           {
            "colorbar": {
             "outlinewidth": 0,
             "ticks": ""
            },
            "colorscale": [
             [
              0,
              "#0d0887"
             ],
             [
              0.1111111111111111,
              "#46039f"
             ],
             [
              0.2222222222222222,
              "#7201a8"
             ],
             [
              0.3333333333333333,
              "#9c179e"
             ],
             [
              0.4444444444444444,
              "#bd3786"
             ],
             [
              0.5555555555555556,
              "#d8576b"
             ],
             [
              0.6666666666666666,
              "#ed7953"
             ],
             [
              0.7777777777777778,
              "#fb9f3a"
             ],
             [
              0.8888888888888888,
              "#fdca26"
             ],
             [
              1,
              "#f0f921"
             ]
            ],
            "type": "heatmap"
           }
          ],
          "histogram": [
           {
            "marker": {
             "pattern": {
              "fillmode": "overlay",
              "size": 10,
              "solidity": 0.2
             }
            },
            "type": "histogram"
           }
          ],
          "histogram2d": [
           {
            "colorbar": {
             "outlinewidth": 0,
             "ticks": ""
            },
            "colorscale": [
             [
              0,
              "#0d0887"
             ],
             [
              0.1111111111111111,
              "#46039f"
             ],
             [
              0.2222222222222222,
              "#7201a8"
             ],
             [
              0.3333333333333333,
              "#9c179e"
             ],
             [
              0.4444444444444444,
              "#bd3786"
             ],
             [
              0.5555555555555556,
              "#d8576b"
             ],
             [
              0.6666666666666666,
              "#ed7953"
             ],
             [
              0.7777777777777778,
              "#fb9f3a"
             ],
             [
              0.8888888888888888,
              "#fdca26"
             ],
             [
              1,
              "#f0f921"
             ]
            ],
            "type": "histogram2d"
           }
          ],
          "histogram2dcontour": [
           {
            "colorbar": {
             "outlinewidth": 0,
             "ticks": ""
            },
            "colorscale": [
             [
              0,
              "#0d0887"
             ],
             [
              0.1111111111111111,
              "#46039f"
             ],
             [
              0.2222222222222222,
              "#7201a8"
             ],
             [
              0.3333333333333333,
              "#9c179e"
             ],
             [
              0.4444444444444444,
              "#bd3786"
             ],
             [
              0.5555555555555556,
              "#d8576b"
             ],
             [
              0.6666666666666666,
              "#ed7953"
             ],
             [
              0.7777777777777778,
              "#fb9f3a"
             ],
             [
              0.8888888888888888,
              "#fdca26"
             ],
             [
              1,
              "#f0f921"
             ]
            ],
            "type": "histogram2dcontour"
           }
          ],
          "mesh3d": [
           {
            "colorbar": {
             "outlinewidth": 0,
             "ticks": ""
            },
            "type": "mesh3d"
           }
          ],
          "parcoords": [
           {
            "line": {
             "colorbar": {
              "outlinewidth": 0,
              "ticks": ""
             }
            },
            "type": "parcoords"
           }
          ],
          "pie": [
           {
            "automargin": true,
            "type": "pie"
           }
          ],
          "scatter": [
           {
            "fillpattern": {
             "fillmode": "overlay",
             "size": 10,
             "solidity": 0.2
            },
            "type": "scatter"
           }
          ],
          "scatter3d": [
           {
            "line": {
             "colorbar": {
              "outlinewidth": 0,
              "ticks": ""
             }
            },
            "marker": {
             "colorbar": {
              "outlinewidth": 0,
              "ticks": ""
             }
            },
            "type": "scatter3d"
           }
          ],
          "scattercarpet": [
           {
            "marker": {
             "colorbar": {
              "outlinewidth": 0,
              "ticks": ""
             }
            },
            "type": "scattercarpet"
           }
          ],
          "scattergeo": [
           {
            "marker": {
             "colorbar": {
              "outlinewidth": 0,
              "ticks": ""
             }
            },
            "type": "scattergeo"
           }
          ],
          "scattergl": [
           {
            "marker": {
             "colorbar": {
              "outlinewidth": 0,
              "ticks": ""
             }
            },
            "type": "scattergl"
           }
          ],
          "scattermap": [
           {
            "marker": {
             "colorbar": {
              "outlinewidth": 0,
              "ticks": ""
             }
            },
            "type": "scattermap"
           }
          ],
          "scattermapbox": [
           {
            "marker": {
             "colorbar": {
              "outlinewidth": 0,
              "ticks": ""
             }
            },
            "type": "scattermapbox"
           }
          ],
          "scatterpolar": [
           {
            "marker": {
             "colorbar": {
              "outlinewidth": 0,
              "ticks": ""
             }
            },
            "type": "scatterpolar"
           }
          ],
          "scatterpolargl": [
           {
            "marker": {
             "colorbar": {
              "outlinewidth": 0,
              "ticks": ""
             }
            },
            "type": "scatterpolargl"
           }
          ],
          "scatterternary": [
           {
            "marker": {
             "colorbar": {
              "outlinewidth": 0,
              "ticks": ""
             }
            },
            "type": "scatterternary"
           }
          ],
          "surface": [
           {
            "colorbar": {
             "outlinewidth": 0,
             "ticks": ""
            },
            "colorscale": [
             [
              0,
              "#0d0887"
             ],
             [
              0.1111111111111111,
              "#46039f"
             ],
             [
              0.2222222222222222,
              "#7201a8"
             ],
             [
              0.3333333333333333,
              "#9c179e"
             ],
             [
              0.4444444444444444,
              "#bd3786"
             ],
             [
              0.5555555555555556,
              "#d8576b"
             ],
             [
              0.6666666666666666,
              "#ed7953"
             ],
             [
              0.7777777777777778,
              "#fb9f3a"
             ],
             [
              0.8888888888888888,
              "#fdca26"
             ],
             [
              1,
              "#f0f921"
             ]
            ],
            "type": "surface"
           }
          ],
          "table": [
           {
            "cells": {
             "fill": {
              "color": "#EBF0F8"
             },
             "line": {
              "color": "white"
             }
            },
            "header": {
             "fill": {
              "color": "#C8D4E3"
             },
             "line": {
              "color": "white"
             }
            },
            "type": "table"
           }
          ]
         },
         "layout": {
          "annotationdefaults": {
           "arrowcolor": "#2a3f5f",
           "arrowhead": 0,
           "arrowwidth": 1
          },
          "autotypenumbers": "strict",
          "coloraxis": {
           "colorbar": {
            "outlinewidth": 0,
            "ticks": ""
           }
          },
          "colorscale": {
           "diverging": [
            [
             0,
             "#8e0152"
            ],
            [
             0.1,
             "#c51b7d"
            ],
            [
             0.2,
             "#de77ae"
            ],
            [
             0.3,
             "#f1b6da"
            ],
            [
             0.4,
             "#fde0ef"
            ],
            [
             0.5,
             "#f7f7f7"
            ],
            [
             0.6,
             "#e6f5d0"
            ],
            [
             0.7,
             "#b8e186"
            ],
            [
             0.8,
             "#7fbc41"
            ],
            [
             0.9,
             "#4d9221"
            ],
            [
             1,
             "#276419"
            ]
           ],
           "sequential": [
            [
             0,
             "#0d0887"
            ],
            [
             0.1111111111111111,
             "#46039f"
            ],
            [
             0.2222222222222222,
             "#7201a8"
            ],
            [
             0.3333333333333333,
             "#9c179e"
            ],
            [
             0.4444444444444444,
             "#bd3786"
            ],
            [
             0.5555555555555556,
             "#d8576b"
            ],
            [
             0.6666666666666666,
             "#ed7953"
            ],
            [
             0.7777777777777778,
             "#fb9f3a"
            ],
            [
             0.8888888888888888,
             "#fdca26"
            ],
            [
             1,
             "#f0f921"
            ]
           ],
           "sequentialminus": [
            [
             0,
             "#0d0887"
            ],
            [
             0.1111111111111111,
             "#46039f"
            ],
            [
             0.2222222222222222,
             "#7201a8"
            ],
            [
             0.3333333333333333,
             "#9c179e"
            ],
            [
             0.4444444444444444,
             "#bd3786"
            ],
            [
             0.5555555555555556,
             "#d8576b"
            ],
            [
             0.6666666666666666,
             "#ed7953"
            ],
            [
             0.7777777777777778,
             "#fb9f3a"
            ],
            [
             0.8888888888888888,
             "#fdca26"
            ],
            [
             1,
             "#f0f921"
            ]
           ]
          },
          "colorway": [
           "#636efa",
           "#EF553B",
           "#00cc96",
           "#ab63fa",
           "#FFA15A",
           "#19d3f3",
           "#FF6692",
           "#B6E880",
           "#FF97FF",
           "#FECB52"
          ],
          "font": {
           "color": "#2a3f5f"
          },
          "geo": {
           "bgcolor": "white",
           "lakecolor": "white",
           "landcolor": "#E5ECF6",
           "showlakes": true,
           "showland": true,
           "subunitcolor": "white"
          },
          "hoverlabel": {
           "align": "left"
          },
          "hovermode": "closest",
          "mapbox": {
           "style": "light"
          },
          "paper_bgcolor": "white",
          "plot_bgcolor": "#E5ECF6",
          "polar": {
           "angularaxis": {
            "gridcolor": "white",
            "linecolor": "white",
            "ticks": ""
           },
           "bgcolor": "#E5ECF6",
           "radialaxis": {
            "gridcolor": "white",
            "linecolor": "white",
            "ticks": ""
           }
          },
          "scene": {
           "xaxis": {
            "backgroundcolor": "#E5ECF6",
            "gridcolor": "white",
            "gridwidth": 2,
            "linecolor": "white",
            "showbackground": true,
            "ticks": "",
            "zerolinecolor": "white"
           },
           "yaxis": {
            "backgroundcolor": "#E5ECF6",
            "gridcolor": "white",
            "gridwidth": 2,
            "linecolor": "white",
            "showbackground": true,
            "ticks": "",
            "zerolinecolor": "white"
           },
           "zaxis": {
            "backgroundcolor": "#E5ECF6",
            "gridcolor": "white",
            "gridwidth": 2,
            "linecolor": "white",
            "showbackground": true,
            "ticks": "",
            "zerolinecolor": "white"
           }
          },
          "shapedefaults": {
           "line": {
            "color": "#2a3f5f"
           }
          },
          "ternary": {
           "aaxis": {
            "gridcolor": "white",
            "linecolor": "white",
            "ticks": ""
           },
           "baxis": {
            "gridcolor": "white",
            "linecolor": "white",
            "ticks": ""
           },
           "bgcolor": "#E5ECF6",
           "caxis": {
            "gridcolor": "white",
            "linecolor": "white",
            "ticks": ""
           }
          },
          "title": {
           "x": 0.05
          },
          "xaxis": {
           "automargin": true,
           "gridcolor": "white",
           "linecolor": "white",
           "ticks": "",
           "title": {
            "standoff": 15
           },
           "zerolinecolor": "white",
           "zerolinewidth": 2
          },
          "yaxis": {
           "automargin": true,
           "gridcolor": "white",
           "linecolor": "white",
           "ticks": "",
           "title": {
            "standoff": 15
           },
           "zerolinecolor": "white",
           "zerolinewidth": 2
          }
         }
        },
        "title": {
         "text": "Cilindros inicial (azul) y modificado (rojo)"
        }
       }
      }
     },
     "metadata": {},
     "output_type": "display_data"
    }
   ],
   "source": [
    "import plotly.graph_objects as go\n",
    "import numpy as np\n",
    "\n",
    "def cilindro(r, h, color):\n",
    "    \"\"\"Genera coordenadas de un cilindro.\"\"\"\n",
    "    theta = np.linspace(0, 2*np.pi, 50)\n",
    "    z = np.linspace(0, h, 50)\n",
    "    theta, z = np.meshgrid(theta, z)\n",
    "    x = r * np.cos(theta)\n",
    "    y = r * np.sin(theta)\n",
    "    return go.Surface(x=x, y=y, z=z, colorscale=[[0, color],[1, color]], showscale=False, opacity=0.7)\n",
    "\n",
    "# Crear figuras\n",
    "fig = go.Figure()\n",
    "fig.add_trace(cilindro(r_inicial, h_inicial, \"blue\"))\n",
    "fig.add_trace(cilindro(r_mod, h_mod, \"red\"))\n",
    "\n",
    "fig.update_layout(\n",
    "    title=\"Cilindros inicial (azul) y modificado (rojo)\",\n",
    "    scene=dict(\n",
    "        xaxis=dict(visible=False),\n",
    "        yaxis=dict(visible=False),\n",
    "        zaxis=dict(title=\"Altura (m)\")\n",
    "    )\n",
    ")\n",
    "fig.show()\n"
   ]
  },
  {
   "cell_type": "markdown",
   "id": "28dd8331",
   "metadata": {},
   "source": [
    "Notemos que el cilindro modificado es menos alto pero más ancho. Y según el resultado, el cilindro modificado tiene más volumen. \n",
    "\n"
   ]
  },
  {
   "cell_type": "markdown",
   "id": "42f4f508",
   "metadata": {},
   "source": [
    "\n",
    "\n",
    "## 6. Reflexión final\n",
    "\n",
    "* El volumen inicial es proporcional a $r^2 \\cdot h$.\n",
    "* Un pequeño aumento en el radio (10%) tiene un efecto mayor que una disminución en la altura (5%), porque el radio aparece al cuadrado en la fórmula.\n",
    "* Esta actividad muestra cómo la **lectura experimental con Python y Jupyter** permite manipular parámetros, observar resultados y razonar matemáticamente con apoyo de gráficas.\n",
    "\n",
    "---\n"
   ]
  },
  {
   "cell_type": "markdown",
   "id": "4f1c72b0",
   "metadata": {},
   "source": [
    "\n",
    "¿Quieres que te lo organice en un **cuaderno Jupyter listo para clase**, con celdas de explicación (Markdown) y celdas de código (Python) intercaladas?\n"
   ]
  },
  {
   "cell_type": "markdown",
   "id": "931bbdd5",
   "metadata": {},
   "source": [
    "\\begin{align*}\n",
    "v_{1} & = \\\\ \n",
    "      & = \\\\\n",
    "      & = \\\\\n",
    "\\end{align*} "
   ]
  },
  {
   "cell_type": "code",
   "execution_count": null,
   "id": "c1499e28",
   "metadata": {},
   "outputs": [],
   "source": []
  },
  {
   "cell_type": "code",
   "execution_count": null,
   "id": "7b7f02e8",
   "metadata": {},
   "outputs": [],
   "source": []
  }
 ],
 "metadata": {
  "kernelspec": {
   "display_name": ".venv",
   "language": "python",
   "name": "python3"
  },
  "language_info": {
   "codemirror_mode": {
    "name": "ipython",
    "version": 3
   },
   "file_extension": ".py",
   "mimetype": "text/x-python",
   "name": "python",
   "nbconvert_exporter": "python",
   "pygments_lexer": "ipython3",
   "version": "3.11.9"
  }
 },
 "nbformat": 4,
 "nbformat_minor": 5
}
