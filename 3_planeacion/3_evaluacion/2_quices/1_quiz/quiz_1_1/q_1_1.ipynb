{
 "cells": [
  {
   "cell_type": "markdown",
   "id": "b543a4ce",
   "metadata": {},
   "source": []
  },
  {
   "cell_type": "code",
   "execution_count": null,
   "id": "b083718c",
   "metadata": {},
   "outputs": [],
   "source": []
  },
  {
   "cell_type": "markdown",
   "id": "b4d70e33",
   "metadata": {},
   "source": [
    "# Quiz 1 Tema 1 \n",
    "\n"
   ]
  },
  {
   "cell_type": "markdown",
   "id": "0af4b1c3",
   "metadata": {},
   "source": [
    "# Ítem 1  \n"
   ]
  },
  {
   "cell_type": "markdown",
   "id": "a0364258",
   "metadata": {},
   "source": [
    "# Ítem 2   \n",
    "\n",
    "Ejercitación sobre exponentes y radicales  \n",
    "\n",
    "Simplifique la siguiente expresión:  \n",
    "\n",
    "$$(2x^{3/2}\\ x^{5/2})/x^2  $$"
   ]
  },
  {
   "cell_type": "code",
   "execution_count": 2,
   "id": "9e741f66",
   "metadata": {},
   "outputs": [
    {
     "data": {
      "text/latex": [
       "$\\displaystyle 2 x^{2.0}$"
      ],
      "text/plain": [
       "2*x**2.0"
      ]
     },
     "execution_count": 2,
     "metadata": {},
     "output_type": "execute_result"
    }
   ],
   "source": [
    "from sympy import * \n",
    "x = var('x') \n",
    "expr = (2*x**(3/2)*x**(5/2))/x**2\n",
    "simplify(expr)"
   ]
  },
  {
   "cell_type": "markdown",
   "id": "a993e668",
   "metadata": {},
   "source": []
  },
  {
   "cell_type": "code",
   "execution_count": null,
   "id": "627abbf0",
   "metadata": {},
   "outputs": [],
   "source": []
  },
  {
   "cell_type": "markdown",
   "id": "66d83dbc",
   "metadata": {},
   "source": [
    "# Ítem 3 "
   ]
  },
  {
   "cell_type": "markdown",
   "id": "b80e2538",
   "metadata": {},
   "source": [
    "# Ítem 4  \n",
    "\n"
   ]
  }
 ],
 "metadata": {
  "kernelspec": {
   "display_name": ".venv",
   "language": "python",
   "name": "python3"
  },
  "language_info": {
   "codemirror_mode": {
    "name": "ipython",
    "version": 3
   },
   "file_extension": ".py",
   "mimetype": "text/x-python",
   "name": "python",
   "nbconvert_exporter": "python",
   "pygments_lexer": "ipython3",
   "version": "3.11.9"
  }
 },
 "nbformat": 4,
 "nbformat_minor": 5
}
