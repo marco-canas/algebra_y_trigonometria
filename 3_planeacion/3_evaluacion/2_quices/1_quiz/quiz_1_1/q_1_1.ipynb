{
 "cells": [
  {
   "cell_type": "markdown",
   "id": "b543a4ce",
   "metadata": {},
   "source": []
  },
  {
   "cell_type": "code",
   "execution_count": null,
   "id": "b083718c",
   "metadata": {},
   "outputs": [],
   "source": []
  },
  {
   "cell_type": "markdown",
   "id": "b4d70e33",
   "metadata": {},
   "source": [
    "# Quiz 1 Tema 1 \n",
    "\n"
   ]
  },
  {
   "cell_type": "markdown",
   "id": "0af4b1c3",
   "metadata": {},
   "source": [
    "# Ítem 1  \n"
   ]
  },
  {
   "cell_type": "markdown",
   "id": "bb03e32f",
   "metadata": {},
   "source": []
  },
  {
   "cell_type": "markdown",
   "id": "d4f79fbb",
   "metadata": {},
   "source": []
  },
  {
   "cell_type": "markdown",
   "id": "c1d9aebd",
   "metadata": {},
   "source": []
  },
  {
   "cell_type": "markdown",
   "id": "c18ab1cd",
   "metadata": {},
   "source": []
  },
  {
   "cell_type": "markdown",
   "id": "b5dbd1e1",
   "metadata": {},
   "source": []
  },
  {
   "cell_type": "markdown",
   "id": "50498e89",
   "metadata": {},
   "source": []
  },
  {
   "cell_type": "markdown",
   "id": "7e3c8949",
   "metadata": {},
   "source": []
  },
  {
   "cell_type": "markdown",
   "id": "443d4dda",
   "metadata": {},
   "source": []
  },
  {
   "cell_type": "markdown",
   "id": "8fa1def4",
   "metadata": {},
   "source": []
  },
  {
   "cell_type": "markdown",
   "id": "5de9c291",
   "metadata": {},
   "source": []
  },
  {
   "cell_type": "markdown",
   "id": "c778094f",
   "metadata": {},
   "source": []
  },
  {
   "cell_type": "markdown",
   "id": "a0364258",
   "metadata": {},
   "source": [
    "# Ítem 2   \n",
    "\n",
    "Ejercitación sobre exponentes y radicales  \n",
    "\n",
    "Simplifique la siguiente expresión:  \n",
    "\n",
    "$$(2x^{3/2}\\ x^{5/2})/x^2  $$"
   ]
  },
  {
   "cell_type": "code",
   "execution_count": 2,
   "id": "9e741f66",
   "metadata": {},
   "outputs": [
    {
     "data": {
      "text/latex": [
       "$\\displaystyle 2 x^{2.0}$"
      ],
      "text/plain": [
       "2*x**2.0"
      ]
     },
     "execution_count": 2,
     "metadata": {},
     "output_type": "execute_result"
    }
   ],
   "source": [
    "from sympy import * \n",
    "x = var('x') \n",
    "expr = (2*x**(3/2)*x**(5/2))/x**2\n",
    "simplify(expr)"
   ]
  },
  {
   "cell_type": "markdown",
   "id": "a993e668",
   "metadata": {},
   "source": [
    "$$ \\left( \\sqrt[3]{a^{2}b^{4}} \\right)^{3} $$"
   ]
  },
  {
   "cell_type": "code",
   "execution_count": 3,
   "id": "627abbf0",
   "metadata": {},
   "outputs": [
    {
     "data": {
      "text/latex": [
       "$\\displaystyle \\left(a^{2} b^{4}\\right)^{1.0}$"
      ],
      "text/plain": [
       "(a**2*b**4)**1.0"
      ]
     },
     "execution_count": 3,
     "metadata": {},
     "output_type": "execute_result"
    }
   ],
   "source": [
    "a,b = symbols('a b')\n",
    "exp2r = ((a**2 * b**4)**(1/3))**3\n",
    "simplify(exp2r)"
   ]
  },
  {
   "cell_type": "markdown",
   "id": "66d83dbc",
   "metadata": {},
   "source": [
    "# Ítem 3 "
   ]
  },
  {
   "cell_type": "markdown",
   "id": "45ec1ddb",
   "metadata": {},
   "source": [
    "a) Simplifique la siguiente expresión:\n",
    "$$ (3x - 2y) - (x - 5y) $$"
   ]
  },
  {
   "cell_type": "code",
   "execution_count": 4,
   "id": "1c407383",
   "metadata": {},
   "outputs": [
    {
     "data": {
      "text/latex": [
       "$\\displaystyle 2 x + 3 y$"
      ],
      "text/plain": [
       "2*x + 3*y"
      ]
     },
     "execution_count": 4,
     "metadata": {},
     "output_type": "execute_result"
    }
   ],
   "source": [
    "x,y = symbols('x y')\n",
    "exp3r = (3*x - 2*y) - (x - 5*y)\n",
    "simplify(exp3r)"
   ]
  },
  {
   "cell_type": "markdown",
   "id": "e7613d51",
   "metadata": {},
   "source": [
    "b) Simplifique la siguiente expresión:\n",
    "$$ (x^{2} - 9)/(x^{2} - 3x) $$"
   ]
  },
  {
   "cell_type": "code",
   "execution_count": 5,
   "id": "7e790eba",
   "metadata": {},
   "outputs": [
    {
     "data": {
      "text/latex": [
       "$\\displaystyle \\frac{x + 3}{x}$"
      ],
      "text/plain": [
       "(x + 3)/x"
      ]
     },
     "execution_count": 5,
     "metadata": {},
     "output_type": "execute_result"
    }
   ],
   "source": [
    "expr_b = (x**2 - 9)/(x**2 - 3*x)\n",
    "simplify(expr_b)"
   ]
  },
  {
   "cell_type": "markdown",
   "id": "4584052f",
   "metadata": {},
   "source": [
    "Dificultades encontradas en este punto:\n",
    "\n",
    "$$ \\frac{a - b}{a-c} \\neq \\frac{-b}{-c},  $$\n",
    "\n",
    "es decir, no se pueden cancelar términos repetidos en el numerador y denominador si no son factores comunes.    \n",
    "\n"
   ]
  },
  {
   "cell_type": "markdown",
   "id": "103afa89",
   "metadata": {},
   "source": [
    "c) Simplifique la siguiente expresión:  \n",
    "\n",
    "$$ \\frac{x^{2} - 4x + 4}{x^{2} - 2x} $$  \n",
    "\n"
   ]
  },
  {
   "cell_type": "code",
   "execution_count": 6,
   "id": "ea4a2b94",
   "metadata": {},
   "outputs": [
    {
     "data": {
      "text/latex": [
       "$\\displaystyle \\frac{x - 2}{x}$"
      ],
      "text/plain": [
       "(x - 2)/x"
      ]
     },
     "execution_count": 6,
     "metadata": {},
     "output_type": "execute_result"
    }
   ],
   "source": [
    "expr_c = (x**2 - 4*x + 4)/(x**2 - 2*x)\n",
    "simplify(expr_c)\n",
    "\n"
   ]
  },
  {
   "cell_type": "markdown",
   "id": "b80e2538",
   "metadata": {},
   "source": [
    "# Ítem 4  \n",
    "\n",
    "Un depósito cilíndrico de agua tiene un radio $r = 1.5 = 3/2$ metros y una altura $h = 4.0$ metros.   \n",
    "\n",
    "1. ¿Cuál es el volumen del depósito? (Use $\\pi = 3.14$).\n",
    "2. Suponga que el radio aumenta en un $10\\%$ y la altura disminuye en un $5\\%$. Calcule el nuevo volumen del depósito.\n",
    "3. ¿Cuál es el cambio porcentual en el volumen del depósito?  \n",
    "\n"
   ]
  },
  {
   "cell_type": "markdown",
   "id": "931bbdd5",
   "metadata": {},
   "source": [
    "\\begin{align*}\n",
    "v_{1} & = \\\\ \n",
    "      & = \\\\\n",
    "      & = \\\\\n",
    "\\end{align*} "
   ]
  },
  {
   "cell_type": "code",
   "execution_count": null,
   "id": "c1499e28",
   "metadata": {},
   "outputs": [],
   "source": []
  },
  {
   "cell_type": "code",
   "execution_count": null,
   "id": "7b7f02e8",
   "metadata": {},
   "outputs": [],
   "source": []
  }
 ],
 "metadata": {
  "kernelspec": {
   "display_name": ".venv",
   "language": "python",
   "name": "python3"
  },
  "language_info": {
   "codemirror_mode": {
    "name": "ipython",
    "version": 3
   },
   "file_extension": ".py",
   "mimetype": "text/x-python",
   "name": "python",
   "nbconvert_exporter": "python",
   "pygments_lexer": "ipython3",
   "version": "3.11.9"
  }
 },
 "nbformat": 4,
 "nbformat_minor": 5
}
