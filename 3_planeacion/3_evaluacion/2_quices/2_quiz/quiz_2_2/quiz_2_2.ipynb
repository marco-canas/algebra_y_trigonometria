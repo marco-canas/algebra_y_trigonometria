{
 "cells": [
  {
   "cell_type": "markdown",
   "id": "db34f277",
   "metadata": {},
   "source": [
    "# Prompt  \n",
    "\n",
    "Diséñame un quiz de tres ítems obligatorios y uno opcional para evaluar el tema de ecuaciones de la sección 2.1 de Swokowski pero **sin** evaluar los temas de ecuaciones con expresiones racionales y **sin** evaluar el tema de aplicaciones de las ecuaciones. La estructura del quiz quiero que sea así:  \n",
    "1. El primer ítem donde evalúe a través de cinco preguntas, la teoría sobre definición de ecuación, ecuación lineal, ecuación cuadrática, propiedades de las igualdades y el método de transposición de términos para solución de  ecuaciones lineales.  \n",
    "2. Un segundo ítem sobre solución de ecuaciones equivalentes a ecuaciones lineales. \n",
    "3. Un tercer punto sobre solución de ecuaciones equivalentes a ecuaciones cuadráticas por los métodos de completación del trinomio cuadrado perfecto, el método de factorización y uso de la propiedad de dominio entero de $(\\mathbb{R}, + , \\cdot)$ ($(ab = 0) \\to (a = 0 \\lor b = 0)$) y el método de la fórmula del bachiller o fórmula general:   \n",
    " \n",
    "$$ \\frac{-b \\pm \\sqrt{b^{2} - 4ac}}{2a}.$$ "
   ]
  },
  {
   "cell_type": "markdown",
   "id": "8f3cfc11",
   "metadata": {},
   "source": [
    "Te preparo el **quiz** siguiendo exactamente la estructura que me pides, tomando como referencia la sección 2.1 de Swokowski (pero excluyendo expresiones racionales y aplicaciones). Aquí va:\n",
    "\n",
    "---\n"
   ]
  },
  {
   "cell_type": "markdown",
   "id": "9be5dc8a",
   "metadata": {},
   "source": [
    "\n",
    "# **Quiz – Ecuaciones (Sección 2.1, Swokowski)**\n",
    "\n",
    "### Ítem 1 (20%) – Teoría (Responde en forma breve y clara)\n",
    "\n",
    "Responde las siguientes cinco preguntas:\n",
    "a) ¿Qué es una **ecuación**?\n"
   ]
  },
  {
   "cell_type": "markdown",
   "id": "491c1e44",
   "metadata": {},
   "source": [
    "b) ¿Qué caracteriza a una **ecuación lineal** en una variable? Da un ejemplo.\n"
   ]
  },
  {
   "cell_type": "markdown",
   "id": "82fa7363",
   "metadata": {},
   "source": [
    "c) ¿Qué caracteriza a una **ecuación cuadrática** en una variable? Da un ejemplo.\n",
    "d) Enuncia dos propiedades de la **igualdad** útiles para resolver ecuaciones.\n",
    "e) Explica en qué consiste el **método de transposición de términos** para resolver ecuaciones lineales.\n",
    "\n",
    "---\n"
   ]
  },
  {
   "cell_type": "markdown",
   "id": "54c6a45b",
   "metadata": {},
   "source": [
    "\n",
    "### Ítem 2 (30%) – Ecuaciones lineales\n",
    "\n",
    "Resuelve las siguientes ecuaciones, justificando los pasos intermedios y aplicando el concepto de **ecuaciones equivalentes**:\n",
    "\n",
    "a) $3(x - 2) = 2x + 5$  \n"
   ]
  },
  {
   "cell_type": "markdown",
   "id": "af2ada08",
   "metadata": {},
   "source": [
    "b) $\\dfrac{x}{3} - 4 = \\dfrac{2x}{5} + 1$  \n",
    "\n",
    "La notación a una línea, es una notación muy utilizada en las entradas algebraicas en cálculo simbólico con herramientas computacionales. \n",
    "\n"
   ]
  },
  {
   "cell_type": "code",
   "execution_count": null,
   "id": "5c14d0c2",
   "metadata": {},
   "outputs": [],
   "source": []
  },
  {
   "cell_type": "markdown",
   "id": "05e9c661",
   "metadata": {},
   "source": [
    "c) $7 - 2(x + 1) = 3x - 5$  \n",
    "\n",
    "---\n"
   ]
  },
  {
   "cell_type": "markdown",
   "id": "249c92ce",
   "metadata": {},
   "source": [
    "## Áreas de mejora en este punto  \n",
    "\n",
    "Saber convertir la ecuación de una notación a una línea, a una notación a dos líneas.   \n",
    "\n"
   ]
  },
  {
   "cell_type": "markdown",
   "id": "8f1d05d3",
   "metadata": {},
   "source": [
    "\n",
    "### Ítem 3 (40%) – Ecuaciones cuadráticas\n",
    "\n",
    "Resuelve las siguientes ecuaciones cuadráticas **usando distintos métodos**:\n",
    "\n",
    "a) $x^2 - 6x + 9 = 0$  \n",
    "*(Usa el método de completación del trinomio cuadrado perfecto).*\n"
   ]
  },
  {
   "cell_type": "markdown",
   "id": "1710a0ee",
   "metadata": {},
   "source": [
    "# Áreas de mejora\n",
    "\n",
    "1. la propiedad $|x| = a \\to x = \\pm a$. \n",
    "2. La definición de raiz cuadrada de un número real positivo como: $$\\sqrt{x} = b \\iff b^{2} = x$$"
   ]
  },
  {
   "cell_type": "markdown",
   "id": "e47eee04",
   "metadata": {},
   "source": [
    "\n",
    "b) $x^2 - 5x = 0$  \n",
    "*(Resuelve factorizando y aplicando la propiedad: $ab=0 \\Rightarrow a=0 \\lor b=0$).*\n"
   ]
  },
  {
   "cell_type": "markdown",
   "id": "9f14dadf",
   "metadata": {},
   "source": [
    "# Área de mejora \n",
    "\n",
    "1. Entrenar en el caso de factorización: \"Factor común\". \n",
    "2. Identificar el caso de factorización. \n",
    "3. La utilidad de la propiedade de R como dominio entero. "
   ]
  },
  {
   "cell_type": "markdown",
   "id": "d15e7a39",
   "metadata": {},
   "source": [
    "\n",
    "c) $2x^2 - 3x - 2 = 0$  \n",
    "*(Resuelve utilizando la fórmula general).*\n",
    "\n",
    "---\n"
   ]
  },
  {
   "cell_type": "markdown",
   "id": "3cf52e0c",
   "metadata": {},
   "source": [
    "## Áreas de mejora\n",
    "\n",
    "1. Identificación de coeficientes. \n",
    "2. "
   ]
  },
  {
   "cell_type": "markdown",
   "id": "46ab3f33",
   "metadata": {},
   "source": [
    "\n",
    "### Ítem 4 (Opcional – 10% adicional)\n",
    "\n",
    "Verifica que la solución obtenida en el ítem 3(c) satisface la ecuación original sustituyendo cada una en:\n",
    "\n",
    "$$\n",
    "2x^2 - 3x - 2 = 0.\n",
    "$$\n",
    "\n",
    "\n"
   ]
  },
  {
   "cell_type": "markdown",
   "id": "3ddd4c66",
   "metadata": {},
   "source": [
    "# Prompt para la conversión a .docx  \n",
    "\n",
    "Dame el script de Python para convertir este quiz en un archivo .docx pero sin utilizar lenguaje latex, pero utiliza lenguaje unicode para hacer legible las expresiones matemáticas "
   ]
  }
 ],
 "metadata": {
  "kernelspec": {
   "display_name": ".venv",
   "language": "python",
   "name": "python3"
  },
  "language_info": {
   "codemirror_mode": {
    "name": "ipython",
    "version": 3
   },
   "file_extension": ".py",
   "mimetype": "text/x-python",
   "name": "python",
   "nbconvert_exporter": "python",
   "pygments_lexer": "ipython3",
   "version": "3.11.9"
  }
 },
 "nbformat": 4,
 "nbformat_minor": 5
}
